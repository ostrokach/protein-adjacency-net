{
 "cells": [
  {
   "cell_type": "markdown",
   "metadata": {},
   "source": [
    "# Summary\n",
    "\n",
    "In this notebook we train a NN with multiple real sequences per batch.\n",
    "\n",
    "---"
   ]
  },
  {
   "cell_type": "markdown",
   "metadata": {},
   "source": [
    "# Imports"
   ]
  },
  {
   "cell_type": "code",
   "execution_count": 1,
   "metadata": {
    "collapsed": true
   },
   "outputs": [],
   "source": [
    "import torch\n",
    "import torch.nn as nn\n",
    "import torch.nn.functional as F\n",
    "import torch.optim as optim\n",
    "\n",
    "from torch.autograd import Variable"
   ]
  },
  {
   "cell_type": "code",
   "execution_count": 2,
   "metadata": {},
   "outputs": [
    {
     "name": "stderr",
     "output_type": "stream",
     "text": [
      "Setting the PYTHON_VERSION environment variable.\n",
      "Setting the SPARK_MASTER environment variable.\n",
      "Setting the SPARK_ARGS environment variable.\n",
      "Setting the DB_TYPE environment variable.\n",
      "Setting the DB_PORT environment variable.\n"
     ]
    },
    {
     "name": "stdout",
     "output_type": "stream",
     "text": [
      "2018-01-02 12:08:58.352174\n"
     ]
    }
   ],
   "source": [
    "%run _imports.ipynb"
   ]
  },
  {
   "cell_type": "code",
   "execution_count": 3,
   "metadata": {
    "collapsed": true
   },
   "outputs": [],
   "source": [
    "%run _settings.ipynb"
   ]
  },
  {
   "cell_type": "code",
   "execution_count": 4,
   "metadata": {
    "collapsed": true
   },
   "outputs": [],
   "source": [
    "from typing import NamedTuple\n",
    "import random\n",
    "random.seed(42)\n",
    "\n",
    "import h5py\n",
    "from sklearn import metrics"
   ]
  },
  {
   "cell_type": "code",
   "execution_count": 5,
   "metadata": {},
   "outputs": [
    {
     "data": {
      "text/plain": [
       "<module 'pagnn' from '/home/kimlab1/strokach/working/pagnn/pagnn/__init__.py'>"
      ]
     },
     "execution_count": 5,
     "metadata": {},
     "output_type": "execute_result"
    }
   ],
   "source": [
    "import pagnn\n",
    "importlib.reload(pagnn)"
   ]
  },
  {
   "cell_type": "code",
   "execution_count": 6,
   "metadata": {
    "collapsed": true
   },
   "outputs": [],
   "source": [
    "NOTEBOOK_NAME = 'train_neural_network'\n",
    "NOTEBOOK_PATH = Path(NOTEBOOK_NAME).absolute()\n",
    "NOTEBOOK_PATH.mkdir(exist_ok=True)"
   ]
  },
  {
   "cell_type": "markdown",
   "metadata": {},
   "source": [
    "# Parameters"
   ]
  },
  {
   "cell_type": "code",
   "execution_count": 7,
   "metadata": {},
   "outputs": [
    {
     "data": {
      "text/plain": [
       "PosixPath('/home/strokach/databin/uniparc_domain/0.1/adjacency_matrix.parquet')"
      ]
     },
     "execution_count": 7,
     "metadata": {},
     "output_type": "execute_result"
    }
   ],
   "source": [
    "ADJACENCY_MATRIX_PATH = (\n",
    "    Path('/home/strokach/databin')\n",
    "    .joinpath('uniparc_domain')\n",
    "    .joinpath('0.1')\n",
    "    .joinpath('adjacency_matrix.parquet')\n",
    "    .absolute()\n",
    ")\n",
    "ADJACENCY_MATRIX_PATH"
   ]
  },
  {
   "cell_type": "code",
   "execution_count": 8,
   "metadata": {},
   "outputs": [
    {
     "name": "stdout",
     "output_type": "stream",
     "text": [
      "adjacency_matrix.parquet\t   database_id=G3DSA%3A2.70.240.10\r\n",
      "database_id=G3DSA%3A1.10.1000.11   database_id=G3DSA%3A2.70.250.10\r\n",
      "database_id=G3DSA%3A1.10.100.10    database_id=G3DSA%3A2.70.40.20\r\n",
      "database_id=G3DSA%3A1.10.10.10\t   database_id=G3DSA%3A2.70.50.30\r\n",
      "database_id=G3DSA%3A1.10.101.10    database_id=G3DSA%3A2.70.50.40\r\n",
      "database_id=G3DSA%3A1.10.10.140    database_id=G3DSA%3A2.70.9.10\r\n",
      "database_id=G3DSA%3A1.10.10.180    database_id=G3DSA%3A2.70.9.30\r\n",
      "database_id=G3DSA%3A1.10.10.190    database_id=G3DSA%3A2.70.98.10\r\n",
      "database_id=G3DSA%3A1.10.10.200    database_id=G3DSA%3A2.70.98.20\r\n",
      "database_id=G3DSA%3A1.10.1020.10   database_id=G3DSA%3A2.70.98.40\r\n",
      "database_id=G3DSA%3A1.10.10.250    database_id=G3DSA%3A2.90.10.10\r\n",
      "database_id=G3DSA%3A1.10.1030.10   database_id=G3DSA%3A3.10.100.10\r\n",
      "database_id=G3DSA%3A1.10.10.350    database_id=G3DSA%3A3.10.110.10\r\n",
      "database_id=G3DSA%3A1.10.10.390    database_id=G3DSA%3A3.10.120.10\r\n",
      "database_id=G3DSA%3A1.10.10.400    database_id=G3DSA%3A3.10.130.10\r\n",
      "database_id=G3DSA%3A1.10.1040.10   database_id=G3DSA%3A3.10.180.10\r\n",
      "database_id=G3DSA%3A1.10.1040.20   database_id=G3DSA%3A3.10.200.10\r\n",
      "database_id=G3DSA%3A1.10.10.41\t   database_id=G3DSA%3A3.10.20.230\r\n",
      "database_id=G3DSA%3A1.10.10.410    database_id=G3DSA%3A3.10.20.250\r\n",
      "database_id=G3DSA%3A1.10.10.430    database_id=G3DSA%3A3.10.20.260\r\n",
      "database_id=G3DSA%3A1.10.10.440    database_id=G3DSA%3A3.10.20.270\r\n",
      "database_id=G3DSA%3A1.10.10.460    database_id=G3DSA%3A3.10.20.280\r\n",
      "database_id=G3DSA%3A1.10.10.490    database_id=G3DSA%3A3.10.20.30\r\n",
      "database_id=G3DSA%3A1.10.10.500    database_id=G3DSA%3A3.10.20.70\r\n",
      "database_id=G3DSA%3A1.10.10.510    database_id=G3DSA%3A3.10.20.80\r\n",
      "database_id=G3DSA%3A1.10.10.520    database_id=G3DSA%3A3.10.250.10\r\n",
      "database_id=G3DSA%3A1.10.10.570    database_id=G3DSA%3A3.10.25.10\r\n",
      "database_id=G3DSA%3A1.10.10.600    database_id=G3DSA%3A3.10.260.10\r\n",
      "database_id=G3DSA%3A1.10.1060.10   database_id=G3DSA%3A3.10.260.20\r\n",
      "database_id=G3DSA%3A1.10.10.610    database_id=G3DSA%3A3.10.280.10\r\n",
      "database_id=G3DSA%3A1.10.10.630    database_id=G3DSA%3A3.10.28.10\r\n",
      "database_id=G3DSA%3A1.10.10.650    database_id=G3DSA%3A3.10.290.10\r\n",
      "database_id=G3DSA%3A1.10.10.660    database_id=G3DSA%3A3.10.290.30\r\n",
      "database_id=G3DSA%3A1.10.10.690    database_id=G3DSA%3A3.10.300.10\r\n",
      "database_id=G3DSA%3A1.10.1070.11   database_id=G3DSA%3A3.10.320.10\r\n",
      "database_id=G3DSA%3A1.10.1080.10   database_id=G3DSA%3A3.10.330.10\r\n",
      "database_id=G3DSA%3A1.10.1090.10   database_id=G3DSA%3A3.10.350.10\r\n",
      "database_id=G3DSA%3A1.10.1100.10   database_id=G3DSA%3A3.10.380.10\r\n",
      "database_id=G3DSA%3A1.10.1140.10   database_id=G3DSA%3A3.10.390.10\r\n",
      "database_id=G3DSA%3A1.10.1160.10   database_id=G3DSA%3A3.10.40.10\r\n",
      "database_id=G3DSA%3A1.10.1180.10   database_id=G3DSA%3A3.10.420.10\r\n",
      "database_id=G3DSA%3A1.10.1200.10   database_id=G3DSA%3A3.10.430.100\r\n",
      "database_id=G3DSA%3A1.10.1200.20   database_id=G3DSA%3A3.10.440.10\r\n",
      "database_id=G3DSA%3A1.10.1200.30   database_id=G3DSA%3A3.10.450.140\r\n",
      "database_id=G3DSA%3A1.10.1200.60   database_id=G3DSA%3A3.10.450.20\r\n",
      "database_id=G3DSA%3A1.10.1200.70   database_id=G3DSA%3A3.10.450.70\r\n",
      "database_id=G3DSA%3A1.10.1200.80   database_id=G3DSA%3A3.10.460.10\r\n",
      "database_id=G3DSA%3A1.10.12.10\t   database_id=G3DSA%3A3.10.470.10\r\n",
      "database_id=G3DSA%3A1.10.1220.10   database_id=G3DSA%3A3.10.500.10\r\n",
      "database_id=G3DSA%3A1.10.1240.10   database_id=G3DSA%3A3.10.50.10\r\n",
      "database_id=G3DSA%3A1.10.1240.20   database_id=G3DSA%3A3.10.50.30\r\n",
      "database_id=G3DSA%3A1.10.1240.30   database_id=G3DSA%3A3.10.510.10\r\n",
      "database_id=G3DSA%3A1.10.1280.10   database_id=G3DSA%3A3.10.530.10\r\n",
      "database_id=G3DSA%3A1.10.1290.10   database_id=G3DSA%3A3.10.550.10\r\n",
      "database_id=G3DSA%3A1.10.1300.10   database_id=G3DSA%3A3.10.620.10\r\n",
      "database_id=G3DSA%3A1.10.1320.10   database_id=G3DSA%3A3.10.660.10\r\n",
      "database_id=G3DSA%3A1.10.132.10    database_id=G3DSA%3A3.20.100.10\r\n",
      "database_id=G3DSA%3A1.10.135.10    database_id=G3DSA%3A3.20.110.10\r\n",
      "database_id=G3DSA%3A1.10.1390.10   database_id=G3DSA%3A3.20.120.10\r\n",
      "database_id=G3DSA%3A1.10.140.10    database_id=G3DSA%3A3.20.130.10\r\n",
      "database_id=G3DSA%3A1.10.1450.10   database_id=G3DSA%3A3.20.14.10\r\n",
      "database_id=G3DSA%3A1.10.1470.10   database_id=G3DSA%3A3.20.16.10\r\n",
      "database_id=G3DSA%3A1.10.1470.20   database_id=G3DSA%3A3.20.180.10\r\n",
      "database_id=G3DSA%3A1.10.150.110   database_id=G3DSA%3A3.20.190.10\r\n",
      "database_id=G3DSA%3A1.10.150.120   database_id=G3DSA%3A3.20.19.10\r\n",
      "database_id=G3DSA%3A1.10.150.130   database_id=G3DSA%3A3.20.20.10\r\n",
      "database_id=G3DSA%3A1.10.150.170   database_id=G3DSA%3A3.20.20.100\r\n",
      "database_id=G3DSA%3A1.10.150.180   database_id=G3DSA%3A3.20.20.105\r\n",
      "database_id=G3DSA%3A1.10.150.190   database_id=G3DSA%3A3.20.20.110\r\n",
      "database_id=G3DSA%3A1.10.150.210   database_id=G3DSA%3A3.20.20.120\r\n",
      "database_id=G3DSA%3A1.10.150.220   database_id=G3DSA%3A3.20.20.190\r\n",
      "database_id=G3DSA%3A1.10.150.240   database_id=G3DSA%3A3.20.20.20\r\n",
      "database_id=G3DSA%3A1.10.150.250   database_id=G3DSA%3A3.20.20.220\r\n",
      "database_id=G3DSA%3A1.10.150.260   database_id=G3DSA%3A3.20.20.240\r\n",
      "database_id=G3DSA%3A1.10.150.290   database_id=G3DSA%3A3.20.20.30\r\n",
      "database_id=G3DSA%3A1.10.150.300   database_id=G3DSA%3A3.20.20.300\r\n",
      "database_id=G3DSA%3A1.10.150.40    database_id=G3DSA%3A3.20.20.330\r\n",
      "database_id=G3DSA%3A1.10.150.60    database_id=G3DSA%3A3.20.20.350\r\n",
      "database_id=G3DSA%3A1.10.1520.10   database_id=G3DSA%3A3.20.20.40\r\n",
      "database_id=G3DSA%3A1.10.15.30\t   database_id=G3DSA%3A3.20.20.400\r\n",
      "database_id=G3DSA%3A1.10.1540.10   database_id=G3DSA%3A3.20.20.410\r\n",
      "database_id=G3DSA%3A1.10.155.10    database_id=G3DSA%3A3.20.20.440\r\n",
      "database_id=G3DSA%3A1.10.1580.10   database_id=G3DSA%3A3.20.20.450\r\n",
      "database_id=G3DSA%3A1.10.1610.10   database_id=G3DSA%3A3.20.20.460\r\n",
      "database_id=G3DSA%3A1.10.1620.10   database_id=G3DSA%3A3.20.20.70\r\n",
      "database_id=G3DSA%3A1.10.1620.20   database_id=G3DSA%3A3.20.80.10\r\n",
      "database_id=G3DSA%3A1.10.1630.10   database_id=G3DSA%3A3.20.90.10\r\n",
      "database_id=G3DSA%3A1.10.1650.10   database_id=G3DSA%3A3.30.1040.10\r\n",
      "database_id=G3DSA%3A1.10.166.10    database_id=G3DSA%3A3.30.1050.10\r\n",
      "database_id=G3DSA%3A1.10.1670.10   database_id=G3DSA%3A3.30.1060.10\r\n",
      "database_id=G3DSA%3A1.10.168.10    database_id=G3DSA%3A3.30.1070.10\r\n",
      "database_id=G3DSA%3A1.10.170.10    database_id=G3DSA%3A3.30.110.20\r\n",
      "database_id=G3DSA%3A1.10.1710.10   database_id=G3DSA%3A3.30.110.30\r\n",
      "database_id=G3DSA%3A1.10.1720.10   database_id=G3DSA%3A3.30.110.40\r\n",
      "database_id=G3DSA%3A1.10.1750.10   database_id=G3DSA%3A3.30.110.60\r\n",
      "database_id=G3DSA%3A1.10.1760.10   database_id=G3DSA%3A3.30.110.70\r\n",
      "database_id=G3DSA%3A1.10.1780.10   database_id=G3DSA%3A3.30.1120.30\r\n",
      "database_id=G3DSA%3A1.10.1790.10   database_id=G3DSA%3A3.30.1120.40\r\n",
      "database_id=G3DSA%3A1.10.1820.10   database_id=G3DSA%3A3.30.1140.32\r\n",
      "database_id=G3DSA%3A1.10.1850.10   database_id=G3DSA%3A3.30.1160.10\r\n",
      "database_id=G3DSA%3A1.10.185.10    database_id=G3DSA%3A3.30.1200.10\r\n",
      "database_id=G3DSA%3A1.10.1900.20   database_id=G3DSA%3A3.30.1220.10\r\n",
      "database_id=G3DSA%3A1.10.195.10    database_id=G3DSA%3A3.30.1230.10\r\n",
      "database_id=G3DSA%3A1.10.196.10    database_id=G3DSA%3A3.30.1250.10\r\n",
      "database_id=G3DSA%3A1.10.196.20    database_id=G3DSA%3A3.30.1280.10\r\n",
      "database_id=G3DSA%3A1.10.2000.10   database_id=G3DSA%3A3.30.1300.20\r\n",
      "database_id=G3DSA%3A1.10.2010.10   database_id=G3DSA%3A3.30.1310.10\r\n",
      "database_id=G3DSA%3A1.10.2040.10   database_id=G3DSA%3A3.30.1320.10\r\n",
      "database_id=G3DSA%3A1.10.2080.10   database_id=G3DSA%3A3.30.1330.10\r\n",
      "database_id=G3DSA%3A1.10.2090.10   database_id=G3DSA%3A3.30.1330.110\r\n",
      "database_id=G3DSA%3A1.10.210.10    database_id=G3DSA%3A3.30.1330.20\r\n",
      "database_id=G3DSA%3A1.10.220.10    database_id=G3DSA%3A3.30.1330.30\r\n",
      "database_id=G3DSA%3A1.10.220.30    database_id=G3DSA%3A3.30.1330.40\r\n",
      "database_id=G3DSA%3A1.10.220.50    database_id=G3DSA%3A3.30.1330.50\r\n",
      "database_id=G3DSA%3A1.10.220.60    database_id=G3DSA%3A3.30.1330.60\r\n",
      "database_id=G3DSA%3A1.10.220.80    database_id=G3DSA%3A3.30.1330.70\r\n",
      "database_id=G3DSA%3A1.10.225.10    database_id=G3DSA%3A3.30.1330.90\r\n",
      "database_id=G3DSA%3A1.10.230.10    database_id=G3DSA%3A3.30.1340.10\r\n",
      "database_id=G3DSA%3A1.10.238.100   database_id=G3DSA%3A3.30.1340.20\r\n",
      "database_id=G3DSA%3A1.10.238.120   database_id=G3DSA%3A3.30.1350.10\r\n",
      "database_id=G3DSA%3A1.10.238.20    database_id=G3DSA%3A3.30.1360.10\r\n",
      "database_id=G3DSA%3A1.10.238.70    database_id=G3DSA%3A3.30.1360.100\r\n",
      "database_id=G3DSA%3A1.10.238.80    database_id=G3DSA%3A3.30.1360.110\r\n",
      "database_id=G3DSA%3A1.10.239.10    database_id=G3DSA%3A3.30.1360.20\r\n",
      "database_id=G3DSA%3A1.10.245.10    database_id=G3DSA%3A3.30.1360.30\r\n",
      "database_id=G3DSA%3A1.10.246.60    database_id=G3DSA%3A3.30.1360.40\r\n",
      "database_id=G3DSA%3A1.10.250.10    database_id=G3DSA%3A3.30.1360.60\r\n",
      "database_id=G3DSA%3A1.10.260.30    database_id=G3DSA%3A3.30.1360.70\r\n",
      "database_id=G3DSA%3A1.10.268.10    database_id=G3DSA%3A3.30.1360.80\r\n",
      "database_id=G3DSA%3A1.10.269.10    database_id=G3DSA%3A3.30.1370.10\r\n",
      "database_id=G3DSA%3A1.10.274.10    database_id=G3DSA%3A3.30.1370.20\r\n",
      "database_id=G3DSA%3A1.10.274.20    database_id=G3DSA%3A3.30.1370.50\r\n",
      "database_id=G3DSA%3A1.10.275.10    database_id=G3DSA%3A3.30.1370.70\r\n",
      "database_id=G3DSA%3A1.10.286.40    database_id=G3DSA%3A3.30.1370.80\r\n",
      "database_id=G3DSA%3A1.10.287.10    database_id=G3DSA%3A3.30.1380.10\r\n",
      "database_id=G3DSA%3A1.10.287.1010  database_id=G3DSA%3A3.30.1390.10\r\n",
      "database_id=G3DSA%3A1.10.287.1040  database_id=G3DSA%3A3.30.1390.20\r\n",
      "database_id=G3DSA%3A1.10.287.1050  database_id=G3DSA%3A3.30.1400.10\r\n",
      "database_id=G3DSA%3A1.10.287.1070  database_id=G3DSA%3A3.30.1410.10\r\n",
      "database_id=G3DSA%3A1.10.287.1090  database_id=G3DSA%3A3.30.1440.10\r\n",
      "database_id=G3DSA%3A1.10.287.110   database_id=G3DSA%3A3.30.1460.20\r\n",
      "database_id=G3DSA%3A1.10.287.1100  database_id=G3DSA%3A3.30.1470.10\r\n",
      "database_id=G3DSA%3A1.10.287.1140  database_id=G3DSA%3A3.30.1480.10\r\n",
      "database_id=G3DSA%3A1.10.287.1160  database_id=G3DSA%3A3.30.1490.100\r\n",
      "database_id=G3DSA%3A1.10.287.120   database_id=G3DSA%3A3.30.1490.120\r\n",
      "database_id=G3DSA%3A1.10.287.260   database_id=G3DSA%3A3.30.1490.140\r\n",
      "database_id=G3DSA%3A1.10.287.380   database_id=G3DSA%3A3.30.1490.170\r\n",
      "database_id=G3DSA%3A1.10.287.400   database_id=G3DSA%3A3.30.1490.20\r\n",
      "database_id=G3DSA%3A1.10.287.460   database_id=G3DSA%3A3.30.1490.40\r\n",
      "database_id=G3DSA%3A1.10.287.480   database_id=G3DSA%3A3.30.1490.50\r\n",
      "database_id=G3DSA%3A1.10.287.560   database_id=G3DSA%3A3.30.1490.80\r\n",
      "database_id=G3DSA%3A1.10.287.650   database_id=G3DSA%3A3.30.1500.10\r\n",
      "database_id=G3DSA%3A1.10.287.660   database_id=G3DSA%3A3.30.1520.10\r\n",
      "database_id=G3DSA%3A1.10.287.670   database_id=G3DSA%3A3.30.1530.10\r\n",
      "database_id=G3DSA%3A1.10.287.680   database_id=G3DSA%3A3.30.1550.10\r\n",
      "database_id=G3DSA%3A1.10.287.740   database_id=G3DSA%3A3.30.1560.10\r\n",
      "database_id=G3DSA%3A1.10.287.760   database_id=G3DSA%3A3.30.1570.10\r\n",
      "database_id=G3DSA%3A1.10.287.790   database_id=G3DSA%3A3.30.1580.10\r\n",
      "database_id=G3DSA%3A1.10.287.810   database_id=G3DSA%3A3.30.1600.10\r\n",
      "database_id=G3DSA%3A1.10.287.840   database_id=G3DSA%3A3.30.160.100\r\n",
      "database_id=G3DSA%3A1.10.287.850   database_id=G3DSA%3A3.30.160.120\r\n",
      "database_id=G3DSA%3A1.10.287.900   database_id=G3DSA%3A3.30.160.140\r\n",
      "database_id=G3DSA%3A1.10.287.970   database_id=G3DSA%3A3.30.160.160\r\n",
      "database_id=G3DSA%3A1.10.30.10\t   database_id=G3DSA%3A3.30.160.170\r\n",
      "database_id=G3DSA%3A1.10.3030.10   database_id=G3DSA%3A3.30.160.220\r\n",
      "database_id=G3DSA%3A1.10.3040.10   database_id=G3DSA%3A3.30.160.40\r\n",
      "database_id=G3DSA%3A1.10.3070.10   database_id=G3DSA%3A3.30.160.70\r\n",
      "database_id=G3DSA%3A1.10.3080.10   database_id=G3DSA%3A3.30.160.80\r\n",
      "database_id=G3DSA%3A1.10.3100.10   database_id=G3DSA%3A3.30.1610.10\r\n",
      "database_id=G3DSA%3A1.10.3120.10   database_id=G3DSA%3A3.30.1660.10\r\n",
      "database_id=G3DSA%3A1.10.3180.10   database_id=G3DSA%3A3.30.1700.10\r\n",
      "database_id=G3DSA%3A1.10.3190.10   database_id=G3DSA%3A3.30.170.10\r\n",
      "database_id=G3DSA%3A1.10.3200.10   database_id=G3DSA%3A3.30.1730.10\r\n",
      "database_id=G3DSA%3A1.10.3260.10   database_id=G3DSA%3A3.30.1740.10\r\n",
      "database_id=G3DSA%3A1.10.3270.10   database_id=G3DSA%3A3.30.1750.10\r\n",
      "database_id=G3DSA%3A1.10.3290.10   database_id=G3DSA%3A3.30.1760.10\r\n",
      "database_id=G3DSA%3A1.10.3300.10   database_id=G3DSA%3A3.30.1780.10\r\n",
      "database_id=G3DSA%3A1.10.3320.10   database_id=G3DSA%3A3.30.1790.10\r\n",
      "database_id=G3DSA%3A1.10.3330.10   database_id=G3DSA%3A3.30.1810.10\r\n",
      "database_id=G3DSA%3A1.10.3340.10   database_id=G3DSA%3A3.30.1820.10\r\n",
      "database_id=G3DSA%3A1.10.3350.10   database_id=G3DSA%3A3.30.1840.10\r\n",
      "database_id=G3DSA%3A1.10.3370.10   database_id=G3DSA%3A3.30.1850.10\r\n",
      "database_id=G3DSA%3A1.10.3390.10   database_id=G3DSA%3A3.30.1880.10\r\n",
      "database_id=G3DSA%3A1.10.3400.10   database_id=G3DSA%3A3.30.190.10\r\n",
      "database_id=G3DSA%3A1.10.340.20    database_id=G3DSA%3A3.30.1920.10\r\n",
      "database_id=G3DSA%3A1.10.3410.10   database_id=G3DSA%3A3.30.1940.10\r\n",
      "database_id=G3DSA%3A1.10.3430.10   database_id=G3DSA%3A3.30.1960.10\r\n",
      "database_id=G3DSA%3A1.10.3440.10   database_id=G3DSA%3A3.30.1970.10\r\n",
      "database_id=G3DSA%3A1.10.3450.10   database_id=G3DSA%3A3.30.1980.10\r\n",
      "database_id=G3DSA%3A1.10.3460.10   database_id=G3DSA%3A3.30.2000.10\r\n",
      "database_id=G3DSA%3A1.10.3470.10   database_id=G3DSA%3A3.30.2020.10\r\n",
      "database_id=G3DSA%3A1.10.3480.10   database_id=G3DSA%3A3.30.2090.10\r\n",
      "database_id=G3DSA%3A1.10.3500.10   database_id=G3DSA%3A3.30.210.10\r\n",
      "database_id=G3DSA%3A1.10.3510.10   database_id=G3DSA%3A3.30.2120.10\r\n",
      "database_id=G3DSA%3A1.10.3530.10   database_id=G3DSA%3A3.30.2190.10\r\n",
      "database_id=G3DSA%3A1.10.3550.10   database_id=G3DSA%3A3.30.2230.10\r\n",
      "database_id=G3DSA%3A1.10.3560.10   database_id=G3DSA%3A3.30.2260.10\r\n",
      "database_id=G3DSA%3A1.10.3570.10   database_id=G3DSA%3A3.30.2280.10\r\n",
      "database_id=G3DSA%3A1.10.357.20    database_id=G3DSA%3A3.30.2290.10\r\n",
      "database_id=G3DSA%3A1.10.3580.10   database_id=G3DSA%3A3.30.230.10\r\n",
      "database_id=G3DSA%3A1.10.3600.10   database_id=G3DSA%3A3.30.230.20\r\n",
      "database_id=G3DSA%3A1.10.3610.10   database_id=G3DSA%3A3.30.230.30\r\n",
      "database_id=G3DSA%3A1.10.3640.10   database_id=G3DSA%3A3.30.230.60\r\n",
      "database_id=G3DSA%3A1.10.3680.10   database_id=G3DSA%3A3.30.230.70\r\n",
      "database_id=G3DSA%3A1.10.3700.10   database_id=G3DSA%3A3.30.2310.20\r\n",
      "database_id=G3DSA%3A1.10.3720.10   database_id=G3DSA%3A3.30.2380.10\r\n",
      "database_id=G3DSA%3A1.10.3750.10   database_id=G3DSA%3A3.30.2390.10\r\n",
      "database_id=G3DSA%3A1.10.375.10    database_id=G3DSA%3A3.30.240.20\r\n",
      "database_id=G3DSA%3A1.10.3760.10   database_id=G3DSA%3A3.30.250.10\r\n",
      "database_id=G3DSA%3A1.10.3790.10   database_id=G3DSA%3A3.30.260.10\r\n",
      "database_id=G3DSA%3A1.10.3810.10   database_id=G3DSA%3A3.30.280.10\r\n",
      "database_id=G3DSA%3A1.10.3830.10   database_id=G3DSA%3A3.30.300.100\r\n",
      "database_id=G3DSA%3A1.10.3860.10   database_id=G3DSA%3A3.30.300.130\r\n",
      "database_id=G3DSA%3A1.10.3880.10   database_id=G3DSA%3A3.30.300.20\r\n",
      "database_id=G3DSA%3A1.10.3890.10   database_id=G3DSA%3A3.30.300.50\r\n",
      "database_id=G3DSA%3A1.10.3920.10   database_id=G3DSA%3A3.30.300.70\r\n",
      "database_id=G3DSA%3A1.10.3960.10   database_id=G3DSA%3A3.30.30.10\r\n",
      "database_id=G3DSA%3A1.10.3970.10   database_id=G3DSA%3A3.30.30.50\r\n",
      "database_id=G3DSA%3A1.10.400.10    database_id=G3DSA%3A3.30.30.60\r\n",
      "database_id=G3DSA%3A1.10.4080.10   database_id=G3DSA%3A3.30.310.100\r\n",
      "database_id=G3DSA%3A1.10.4090.10   database_id=G3DSA%3A3.30.310.110\r\n",
      "database_id=G3DSA%3A1.10.4110.10   database_id=G3DSA%3A3.30.310.20\r\n",
      "database_id=G3DSA%3A1.10.4120.10   database_id=G3DSA%3A3.30.310.50\r\n",
      "database_id=G3DSA%3A1.10.4150.10   database_id=G3DSA%3A3.30.310.60\r\n",
      "database_id=G3DSA%3A1.10.418.10    database_id=G3DSA%3A3.30.310.70\r\n",
      "database_id=G3DSA%3A1.10.437.10    database_id=G3DSA%3A3.30.350.10\r\n",
      "database_id=G3DSA%3A1.10.439.10    database_id=G3DSA%3A3.30.360.30\r\n",
      "database_id=G3DSA%3A1.10.440.10    database_id=G3DSA%3A3.30.365.10\r\n",
      "database_id=G3DSA%3A1.10.442.10    database_id=G3DSA%3A3.30.370.10\r\n",
      "database_id=G3DSA%3A1.10.443.10    database_id=G3DSA%3A3.30.379.10\r\n",
      "database_id=G3DSA%3A1.10.45.10\t   database_id=G3DSA%3A3.30.380.10\r\n",
      "database_id=G3DSA%3A1.10.455.10    database_id=G3DSA%3A3.30.387.10\r\n",
      "database_id=G3DSA%3A1.10.472.10    database_id=G3DSA%3A3.30.390.10\r\n",
      "database_id=G3DSA%3A1.10.472.30    database_id=G3DSA%3A3.30.390.30\r\n",
      "database_id=G3DSA%3A1.10.489.10    database_id=G3DSA%3A3.30.390.60\r\n",
      "database_id=G3DSA%3A1.10.490.40    database_id=G3DSA%3A3.30.40.10\r\n",
      "database_id=G3DSA%3A1.10.520.20    database_id=G3DSA%3A3.30.40.20\r\n",
      "database_id=G3DSA%3A1.10.520.30    database_id=G3DSA%3A3.30.40.30\r\n",
      "database_id=G3DSA%3A1.10.530.40    database_id=G3DSA%3A3.30.420.10\r\n",
      "database_id=G3DSA%3A1.10.532.10    database_id=G3DSA%3A3.30.420.110\r\n",
      "database_id=G3DSA%3A1.10.540.10    database_id=G3DSA%3A3.30.420.140\r\n",
      "database_id=G3DSA%3A1.10.555.10    database_id=G3DSA%3A3.30.420.180\r\n",
      "database_id=G3DSA%3A1.10.560.10    database_id=G3DSA%3A3.30.420.80\r\n",
      "database_id=G3DSA%3A1.10.565.10    database_id=G3DSA%3A3.30.428.10\r\n",
      "database_id=G3DSA%3A1.10.569.10    database_id=G3DSA%3A3.30.428.20\r\n",
      "database_id=G3DSA%3A1.10.575.10    database_id=G3DSA%3A3.30.43.10\r\n",
      "database_id=G3DSA%3A1.10.580.10    database_id=G3DSA%3A3.30.450.40\r\n",
      "database_id=G3DSA%3A1.10.590.10    database_id=G3DSA%3A3.30.457.10\r\n",
      "database_id=G3DSA%3A1.10.599.10    database_id=G3DSA%3A3.30.465.10\r\n",
      "database_id=G3DSA%3A1.10.600.10    database_id=G3DSA%3A3.30.479.20\r\n",
      "database_id=G3DSA%3A1.10.60.10\t   database_id=G3DSA%3A3.30.499.10\r\n",
      "database_id=G3DSA%3A1.10.60.20\t   database_id=G3DSA%3A3.30.500.10\r\n",
      "database_id=G3DSA%3A1.10.606.10    database_id=G3DSA%3A3.30.50.10\r\n",
      "database_id=G3DSA%3A1.10.630.10    database_id=G3DSA%3A3.30.505.10\r\n",
      "database_id=G3DSA%3A1.10.640.10    database_id=G3DSA%3A3.30.530.20\r\n",
      "database_id=G3DSA%3A1.10.645.10    database_id=G3DSA%3A3.30.56.30\r\n",
      "database_id=G3DSA%3A1.10.700.10    database_id=G3DSA%3A3.30.565.10\r\n",
      "database_id=G3DSA%3A1.10.720.30    database_id=G3DSA%3A3.30.565.30\r\n",
      "database_id=G3DSA%3A1.10.720.40    database_id=G3DSA%3A3.30.56.60\r\n",
      "database_id=G3DSA%3A1.10.740.10    database_id=G3DSA%3A3.30.572.10\r\n",
      "database_id=G3DSA%3A1.10.750.10    database_id=G3DSA%3A3.30.590.10\r\n",
      "database_id=G3DSA%3A1.10.760.10    database_id=G3DSA%3A3.30.60.10\r\n",
      "database_id=G3DSA%3A1.10.790.10    database_id=G3DSA%3A3.30.62.10\r\n",
      "database_id=G3DSA%3A1.10.800.10    database_id=G3DSA%3A3.30.66.10\r\n",
      "database_id=G3DSA%3A1.10.8.100\t   database_id=G3DSA%3A3.30.67.10\r\n",
      "database_id=G3DSA%3A1.10.8.110\t   database_id=G3DSA%3A3.30.700.20\r\n",
      "database_id=G3DSA%3A1.10.8.130\t   database_id=G3DSA%3A3.30.70.1000\r\n",
      "database_id=G3DSA%3A1.10.8.140\t   database_id=G3DSA%3A3.30.70.1010\r\n",
      "database_id=G3DSA%3A1.10.8.210\t   database_id=G3DSA%3A3.30.70.1040\r\n",
      "database_id=G3DSA%3A1.10.8.260\t   database_id=G3DSA%3A3.30.70.1050\r\n",
      "database_id=G3DSA%3A1.10.8.290\t   database_id=G3DSA%3A3.30.70.1070\r\n",
      "database_id=G3DSA%3A1.10.840.10    database_id=G3DSA%3A3.30.70.1110\r\n",
      "database_id=G3DSA%3A1.10.860.10    database_id=G3DSA%3A3.30.70.1130\r\n",
      "database_id=G3DSA%3A1.10.8.70\t   database_id=G3DSA%3A3.30.70.120\r\n",
      "database_id=G3DSA%3A1.10.870.10    database_id=G3DSA%3A3.30.70.1220\r\n",
      "database_id=G3DSA%3A1.10.880.10    database_id=G3DSA%3A3.30.70.1230\r\n",
      "database_id=G3DSA%3A1.10.890.20    database_id=G3DSA%3A3.30.70.1240\r\n",
      "database_id=G3DSA%3A1.10.930.10    database_id=G3DSA%3A3.30.70.1250\r\n",
      "database_id=G3DSA%3A1.10.940.10    database_id=G3DSA%3A3.30.70.1290\r\n",
      "database_id=G3DSA%3A1.10.950.10    database_id=G3DSA%3A3.30.70.1340\r\n",
      "database_id=G3DSA%3A1.20.10.10\t   database_id=G3DSA%3A3.30.70.1350\r\n",
      "database_id=G3DSA%3A1.20.1020.10   database_id=G3DSA%3A3.30.70.1360\r\n",
      "database_id=G3DSA%3A1.20.1050.40   database_id=G3DSA%3A3.30.70.140\r\n",
      "database_id=G3DSA%3A1.20.1080.10   database_id=G3DSA%3A3.30.70.141\r\n",
      "database_id=G3DSA%3A1.20.1130.10   database_id=G3DSA%3A3.30.70.1450\r\n",
      "database_id=G3DSA%3A1.20.1150.12   database_id=G3DSA%3A3.30.70.1480\r\n",
      "database_id=G3DSA%3A1.20.1180.10   database_id=G3DSA%3A3.30.70.1490\r\n",
      "database_id=G3DSA%3A1.20.1200.10   database_id=G3DSA%3A3.30.70.150\r\n",
      "database_id=G3DSA%3A1.20.120.10    database_id=G3DSA%3A3.30.70.250\r\n",
      "database_id=G3DSA%3A1.20.120.150   database_id=G3DSA%3A3.30.70.340\r\n",
      "database_id=G3DSA%3A1.20.120.160   database_id=G3DSA%3A3.30.70.380\r\n",
      "database_id=G3DSA%3A1.20.120.180   database_id=G3DSA%3A3.30.70.390\r\n",
      "database_id=G3DSA%3A1.20.120.220   database_id=G3DSA%3A3.30.70.400\r\n",
      "database_id=G3DSA%3A1.20.120.240   database_id=G3DSA%3A3.30.70.420\r\n",
      "database_id=G3DSA%3A1.20.120.260   database_id=G3DSA%3A3.30.70.440\r\n",
      "database_id=G3DSA%3A1.20.120.30    database_id=G3DSA%3A3.30.70.470\r\n",
      "database_id=G3DSA%3A1.20.120.310   database_id=G3DSA%3A3.30.70.520\r\n",
      "database_id=G3DSA%3A1.20.120.320   database_id=G3DSA%3A3.30.70.560\r\n",
      "database_id=G3DSA%3A1.20.120.380   database_id=G3DSA%3A3.30.70.60\r\n",
      "database_id=G3DSA%3A1.20.120.400   database_id=G3DSA%3A3.30.70.600\r\n",
      "database_id=G3DSA%3A1.20.120.420   database_id=G3DSA%3A3.30.70.610\r\n",
      "database_id=G3DSA%3A1.20.120.430   database_id=G3DSA%3A3.30.70.640\r\n",
      "database_id=G3DSA%3A1.20.120.440   database_id=G3DSA%3A3.30.70.650\r\n",
      "database_id=G3DSA%3A1.20.120.450   database_id=G3DSA%3A3.30.70.660\r\n",
      "database_id=G3DSA%3A1.20.120.490   database_id=G3DSA%3A3.30.70.670\r\n",
      "database_id=G3DSA%3A1.20.120.50    database_id=G3DSA%3A3.30.70.680\r\n",
      "database_id=G3DSA%3A1.20.120.530   database_id=G3DSA%3A3.30.70.790\r\n",
      "database_id=G3DSA%3A1.20.120.540   database_id=G3DSA%3A3.30.70.80\r\n",
      "database_id=G3DSA%3A1.20.120.550   database_id=G3DSA%3A3.30.70.860\r\n",
      "database_id=G3DSA%3A1.20.120.580   database_id=G3DSA%3A3.30.70.890\r\n",
      "database_id=G3DSA%3A1.20.120.590   database_id=G3DSA%3A3.30.70.930\r\n",
      "database_id=G3DSA%3A1.20.120.630   database_id=G3DSA%3A3.30.70.940\r\n",
      "database_id=G3DSA%3A1.20.120.650   database_id=G3DSA%3A3.30.70.960\r\n",
      "database_id=G3DSA%3A1.20.120.70    database_id=G3DSA%3A3.30.70.970\r\n",
      "database_id=G3DSA%3A1.20.120.80    database_id=G3DSA%3A3.30.70.980\r\n",
      "database_id=G3DSA%3A1.20.1240.10   database_id=G3DSA%3A3.30.70.990\r\n",
      "database_id=G3DSA%3A1.20.1260.10   database_id=G3DSA%3A3.30.730.10\r\n",
      "database_id=G3DSA%3A1.20.1270.10   database_id=G3DSA%3A3.30.740.10\r\n",
      "database_id=G3DSA%3A1.20.1270.110  database_id=G3DSA%3A3.30.750.24\r\n",
      "database_id=G3DSA%3A1.20.1270.20   database_id=G3DSA%3A3.30.750.60\r\n",
      "database_id=G3DSA%3A1.20.1270.50   database_id=G3DSA%3A3.30.760.10\r\n",
      "database_id=G3DSA%3A1.20.1270.60   database_id=G3DSA%3A3.30.780.10\r\n",
      "database_id=G3DSA%3A1.20.1280.10   database_id=G3DSA%3A3.30.800.10\r\n",
      "database_id=G3DSA%3A1.20.1280.20   database_id=G3DSA%3A3.30.810.10\r\n",
      "database_id=G3DSA%3A1.20.1280.30   database_id=G3DSA%3A3.30.830.10\r\n",
      "database_id=G3DSA%3A1.20.1280.40   database_id=G3DSA%3A3.30.860.10\r\n",
      "database_id=G3DSA%3A1.20.1290.10   database_id=G3DSA%3A3.30.870.20\r\n",
      "database_id=G3DSA%3A1.20.1300.10   database_id=G3DSA%3A3.30.900.10\r\n",
      "database_id=G3DSA%3A1.20.1370.10   database_id=G3DSA%3A3.30.910.10\r\n",
      "database_id=G3DSA%3A1.20.1380.10   database_id=G3DSA%3A3.30.910.20\r\n",
      "database_id=G3DSA%3A1.20.1400.10   database_id=G3DSA%3A3.30.920.10\r\n",
      "database_id=G3DSA%3A1.20.140.20    database_id=G3DSA%3A3.30.920.20\r\n",
      "database_id=G3DSA%3A1.20.140.30    database_id=G3DSA%3A3.30.950.10\r\n",
      "database_id=G3DSA%3A1.20.140.40    database_id=G3DSA%3A3.30.960.10\r\n",
      "database_id=G3DSA%3A1.20.142.10    database_id=G3DSA%3A3.30.990.10\r\n",
      "database_id=G3DSA%3A1.20.1430.10   database_id=G3DSA%3A3.40.1000.10\r\n",
      "database_id=G3DSA%3A1.20.1440.20   database_id=G3DSA%3A3.40.1000.20\r\n",
      "database_id=G3DSA%3A1.20.1440.40   database_id=G3DSA%3A3.40.10.10\r\n",
      "database_id=G3DSA%3A1.20.1440.50   database_id=G3DSA%3A3.40.1010.10\r\n",
      "database_id=G3DSA%3A1.20.1440.60   database_id=G3DSA%3A3.40.1030.10\r\n",
      "database_id=G3DSA%3A1.20.1440.70   database_id=G3DSA%3A3.40.1050.10\r\n",
      "database_id=G3DSA%3A1.20.1450.10   database_id=G3DSA%3A3.40.1060.10\r\n",
      "database_id=G3DSA%3A1.20.1480.10   database_id=G3DSA%3A3.40.109.10\r\n",
      "database_id=G3DSA%3A1.20.1480.20   database_id=G3DSA%3A3.40.1110.10\r\n",
      "database_id=G3DSA%3A1.20.1500.10   database_id=G3DSA%3A3.40.1120.10\r\n",
      "database_id=G3DSA%3A1.20.150.10    database_id=G3DSA%3A3.40.1160.10\r\n",
      "database_id=G3DSA%3A1.20.1510.10   database_id=G3DSA%3A3.40.1170.10\r\n",
      "database_id=G3DSA%3A1.20.1520.10   database_id=G3DSA%3A3.40.1180.10\r\n",
      "database_id=G3DSA%3A1.20.1530.10   database_id=G3DSA%3A3.40.1190.10\r\n",
      "database_id=G3DSA%3A1.20.1540.10   database_id=G3DSA%3A3.40.1190.20\r\n",
      "database_id=G3DSA%3A1.20.1550.10   database_id=G3DSA%3A3.40.1210.10\r\n",
      "database_id=G3DSA%3A1.20.1560.10   database_id=G3DSA%3A3.40.1230.10\r\n",
      "database_id=G3DSA%3A1.20.1590.10   database_id=G3DSA%3A3.40.1260.10\r\n",
      "database_id=G3DSA%3A1.20.1690.10   database_id=G3DSA%3A3.40.1280.10\r\n",
      "database_id=G3DSA%3A1.20.1700.10   database_id=G3DSA%3A3.40.1340.10\r\n",
      "database_id=G3DSA%3A1.20.190.10    database_id=G3DSA%3A3.40.1370.10\r\n",
      "database_id=G3DSA%3A1.20.190.20    database_id=G3DSA%3A3.40.1380.20\r\n",
      "database_id=G3DSA%3A1.20.200.20    database_id=G3DSA%3A3.40.1390.10\r\n",
      "database_id=G3DSA%3A1.20.20.10\t   database_id=G3DSA%3A3.40.1390.20\r\n",
      "database_id=G3DSA%3A1.20.210.10    database_id=G3DSA%3A3.40.1400.10\r\n",
      "database_id=G3DSA%3A1.20.225.10    database_id=G3DSA%3A3.40.140.20\r\n",
      "database_id=G3DSA%3A1.20.5.100\t   database_id=G3DSA%3A3.40.140.30\r\n",
      "database_id=G3DSA%3A1.20.5.1010    database_id=G3DSA%3A3.40.1410.10\r\n",
      "database_id=G3DSA%3A1.20.5.1130    database_id=G3DSA%3A3.40.1440.10\r\n",
      "database_id=G3DSA%3A1.20.5.120\t   database_id=G3DSA%3A3.40.1480.10\r\n",
      "database_id=G3DSA%3A1.20.5.130\t   database_id=G3DSA%3A3.40.1490.10\r\n",
      "database_id=G3DSA%3A1.20.5.160\t   database_id=G3DSA%3A3.40.1500.10\r\n",
      "database_id=G3DSA%3A1.20.5.210\t   database_id=G3DSA%3A3.40.1510.10\r\n",
      "database_id=G3DSA%3A1.20.5.220\t   database_id=G3DSA%3A3.40.1520.10\r\n",
      "database_id=G3DSA%3A1.20.5.260\t   database_id=G3DSA%3A3.40.1530.10\r\n",
      "database_id=G3DSA%3A1.20.5.270\t   database_id=G3DSA%3A3.40.1540.10\r\n",
      "database_id=G3DSA%3A1.20.5.550\t   database_id=G3DSA%3A3.40.1550.10\r\n",
      "database_id=G3DSA%3A1.20.5.560\t   database_id=G3DSA%3A3.40.1560.10\r\n",
      "database_id=G3DSA%3A1.20.5.600\t   database_id=G3DSA%3A3.40.1600.10\r\n",
      "database_id=G3DSA%3A1.20.5.620\t   database_id=G3DSA%3A3.40.1610.10\r\n",
      "database_id=G3DSA%3A1.20.5.630\t   database_id=G3DSA%3A3.40.1650.10\r\n",
      "database_id=G3DSA%3A1.20.5.750\t   database_id=G3DSA%3A3.40.1690.10\r\n",
      "database_id=G3DSA%3A1.20.5.790\t   database_id=G3DSA%3A3.40.1700.10\r\n",
      "database_id=G3DSA%3A1.20.58.100    database_id=G3DSA%3A3.40.1760.10\r\n",
      "database_id=G3DSA%3A1.20.58.110    database_id=G3DSA%3A3.40.1790.10\r\n",
      "database_id=G3DSA%3A1.20.58.120    database_id=G3DSA%3A3.40.1810.10\r\n",
      "database_id=G3DSA%3A1.20.58.150    database_id=G3DSA%3A3.40.1830.10\r\n",
      "database_id=G3DSA%3A1.20.58.190    database_id=G3DSA%3A3.40.1840.10\r\n",
      "database_id=G3DSA%3A1.20.58.250    database_id=G3DSA%3A3.40.198.10\r\n",
      "database_id=G3DSA%3A1.20.5.830\t   database_id=G3DSA%3A3.40.20.10\r\n",
      "database_id=G3DSA%3A1.20.58.300    database_id=G3DSA%3A3.40.225.10\r\n",
      "database_id=G3DSA%3A1.20.58.310    database_id=G3DSA%3A3.40.250.10\r\n",
      "database_id=G3DSA%3A1.20.58.370    database_id=G3DSA%3A3.40.33.10\r\n",
      "database_id=G3DSA%3A1.20.58.390    database_id=G3DSA%3A3.40.350.10\r\n",
      "database_id=G3DSA%3A1.20.58.430    database_id=G3DSA%3A3.40.35.10\r\n",
      "database_id=G3DSA%3A1.20.5.860\t   database_id=G3DSA%3A3.40.390.10\r\n",
      "database_id=G3DSA%3A1.20.5.880\t   database_id=G3DSA%3A3.40.390.30\r\n",
      "database_id=G3DSA%3A1.20.58.80\t   database_id=G3DSA%3A3.40.420.10\r\n",
      "database_id=G3DSA%3A1.20.59.10\t   database_id=G3DSA%3A3.40.430.10\r\n",
      "database_id=G3DSA%3A1.20.80.10\t   database_id=G3DSA%3A3.40.449.10\r\n",
      "database_id=G3DSA%3A1.20.810.10    database_id=G3DSA%3A3.40.462.10\r\n",
      "database_id=G3DSA%3A1.20.81.10\t   database_id=G3DSA%3A3.40.470.10\r\n",
      "database_id=G3DSA%3A1.20.840.10    database_id=G3DSA%3A3.40.47.10\r\n",
      "database_id=G3DSA%3A1.20.85.10\t   database_id=G3DSA%3A3.40.50.1000\r\n",
      "database_id=G3DSA%3A1.20.860.20    database_id=G3DSA%3A3.40.50.10010\r\n",
      "database_id=G3DSA%3A1.20.890.10    database_id=G3DSA%3A3.40.50.10050\r\n",
      "database_id=G3DSA%3A1.20.900.10    database_id=G3DSA%3A3.40.50.1010\r\n",
      "database_id=G3DSA%3A1.20.90.10\t   database_id=G3DSA%3A3.40.50.10110\r\n",
      "database_id=G3DSA%3A1.20.910.10    database_id=G3DSA%3A3.40.50.10140\r\n",
      "database_id=G3DSA%3A1.20.91.20\t   database_id=G3DSA%3A3.40.50.10150\r\n",
      "database_id=G3DSA%3A1.20.920.10    database_id=G3DSA%3A3.40.50.10160\r\n",
      "database_id=G3DSA%3A1.20.930.10    database_id=G3DSA%3A3.40.50.10190\r\n",
      "database_id=G3DSA%3A1.20.930.20    database_id=G3DSA%3A3.40.50.10220\r\n",
      "database_id=G3DSA%3A1.20.930.40    database_id=G3DSA%3A3.40.50.10230\r\n",
      "database_id=G3DSA%3A1.20.960.10    database_id=G3DSA%3A3.40.50.10240\r\n",
      "database_id=G3DSA%3A1.25.10.10\t   database_id=G3DSA%3A3.40.50.10260\r\n",
      "database_id=G3DSA%3A1.25.10.20\t   database_id=G3DSA%3A3.40.50.10280\r\n",
      "database_id=G3DSA%3A1.25.10.30\t   database_id=G3DSA%3A3.40.50.10300\r\n",
      "database_id=G3DSA%3A1.25.20.10\t   database_id=G3DSA%3A3.40.50.10310\r\n",
      "database_id=G3DSA%3A1.25.40.10\t   database_id=G3DSA%3A3.40.50.10320\r\n",
      "database_id=G3DSA%3A1.25.40.170    database_id=G3DSA%3A3.40.50.10330\r\n",
      "database_id=G3DSA%3A1.25.40.190    database_id=G3DSA%3A3.40.50.10350\r\n",
      "database_id=G3DSA%3A1.25.40.20\t   database_id=G3DSA%3A3.40.50.10360\r\n",
      "database_id=G3DSA%3A1.25.40.250    database_id=G3DSA%3A3.40.50.10380\r\n",
      "database_id=G3DSA%3A1.25.40.270    database_id=G3DSA%3A3.40.50.10390\r\n",
      "database_id=G3DSA%3A1.25.40.30\t   database_id=G3DSA%3A3.40.50.10400\r\n",
      "database_id=G3DSA%3A1.25.40.40\t   database_id=G3DSA%3A3.40.50.10540\r\n",
      "database_id=G3DSA%3A1.25.40.90\t   database_id=G3DSA%3A3.40.50.10580\r\n",
      "database_id=G3DSA%3A1.25.50.10\t   database_id=G3DSA%3A3.40.50.10610\r\n",
      "database_id=G3DSA%3A1.40.10.10\t   database_id=G3DSA%3A3.40.50.10740\r\n",
      "database_id=G3DSA%3A1.50.10.100    database_id=G3DSA%3A3.40.50.10780\r\n",
      "database_id=G3DSA%3A1.50.10.130    database_id=G3DSA%3A3.40.50.10790\r\n",
      "database_id=G3DSA%3A1.50.40.10\t   database_id=G3DSA%3A3.40.50.10840\r\n",
      "database_id=G3DSA%3A2.100.10.10    database_id=G3DSA%3A3.40.50.1110\r\n",
      "database_id=G3DSA%3A2.100.10.20    database_id=G3DSA%3A3.40.50.1170\r\n",
      "database_id=G3DSA%3A2.100.10.30    database_id=G3DSA%3A3.40.50.1220\r\n",
      "database_id=G3DSA%3A2.10.10.10\t   database_id=G3DSA%3A3.40.50.1240\r\n",
      "database_id=G3DSA%3A2.10.150.10    database_id=G3DSA%3A3.40.50.1260\r\n",
      "database_id=G3DSA%3A2.10.160.10    database_id=G3DSA%3A3.40.50.1370\r\n",
      "database_id=G3DSA%3A2.102.10.10    database_id=G3DSA%3A3.40.50.1380\r\n",
      "database_id=G3DSA%3A2.102.20.10    database_id=G3DSA%3A3.40.50.1440\r\n",
      "database_id=G3DSA%3A2.10.240.10    database_id=G3DSA%3A3.40.50.1450\r\n",
      "database_id=G3DSA%3A2.10.250.10    database_id=G3DSA%3A3.40.50.1470\r\n",
      "database_id=G3DSA%3A2.10.25.30\t   database_id=G3DSA%3A3.40.50.170\r\n",
      "database_id=G3DSA%3A2.10.290.10    database_id=G3DSA%3A3.40.50.1700\r\n",
      "database_id=G3DSA%3A2.105.10.10    database_id=G3DSA%3A3.40.50.1760\r\n",
      "database_id=G3DSA%3A2.10.90.10\t   database_id=G3DSA%3A3.40.50.180\r\n",
      "database_id=G3DSA%3A2.110.10.10    database_id=G3DSA%3A3.40.50.1820\r\n",
      "database_id=G3DSA%3A2.115.10.20    database_id=G3DSA%3A3.40.50.1950\r\n",
      "database_id=G3DSA%3A2.120.10.30    database_id=G3DSA%3A3.40.50.200\r\n",
      "database_id=G3DSA%3A2.120.10.80    database_id=G3DSA%3A3.40.50.2030\r\n",
      "database_id=G3DSA%3A2.120.10.90    database_id=G3DSA%3A3.40.50.220\r\n",
      "database_id=G3DSA%3A2.130.10.10    database_id=G3DSA%3A3.40.50.261\r\n",
      "database_id=G3DSA%3A2.130.10.30    database_id=G3DSA%3A3.40.50.360\r\n",
      "database_id=G3DSA%3A2.130.10.80    database_id=G3DSA%3A3.40.50.40\r\n",
      "database_id=G3DSA%3A2.140.10.10    database_id=G3DSA%3A3.40.50.410\r\n",
      "database_id=G3DSA%3A2.150.10.10    database_id=G3DSA%3A3.40.50.510\r\n",
      "database_id=G3DSA%3A2.160.20.10    database_id=G3DSA%3A3.40.50.620\r\n",
      "database_id=G3DSA%3A2.160.20.20    database_id=G3DSA%3A3.40.50.670\r\n",
      "database_id=G3DSA%3A2.160.20.50    database_id=G3DSA%3A3.40.50.700\r\n",
      "database_id=G3DSA%3A2.160.20.60    database_id=G3DSA%3A3.40.50.7700\r\n",
      "database_id=G3DSA%3A2.170.11.10    database_id=G3DSA%3A3.40.50.790\r\n",
      "database_id=G3DSA%3A2.170.120.12   database_id=G3DSA%3A3.40.50.800\r\n",
      "database_id=G3DSA%3A2.170.120.20   database_id=G3DSA%3A3.40.50.850\r\n",
      "database_id=G3DSA%3A2.170.130.10   database_id=G3DSA%3A3.40.50.880\r\n",
      "database_id=G3DSA%3A2.170.130.20   database_id=G3DSA%3A3.40.50.9100\r\n",
      "database_id=G3DSA%3A2.170.140.10   database_id=G3DSA%3A3.40.50.920\r\n",
      "database_id=G3DSA%3A2.170.14.10    database_id=G3DSA%3A3.40.50.9200\r\n",
      "database_id=G3DSA%3A2.170.180.11   database_id=G3DSA%3A3.40.50.960\r\n",
      "database_id=G3DSA%3A2.170.210.10   database_id=G3DSA%3A3.40.5.10\r\n",
      "database_id=G3DSA%3A2.170.240.10   database_id=G3DSA%3A3.40.5.20\r\n",
      "database_id=G3DSA%3A2.170.30.10    database_id=G3DSA%3A3.40.525.10\r\n",
      "database_id=G3DSA%3A2.170.40.20    database_id=G3DSA%3A3.40.532.10\r\n",
      "database_id=G3DSA%3A2.20.100.10    database_id=G3DSA%3A3.40.580.10\r\n",
      "database_id=G3DSA%3A2.20.140.10    database_id=G3DSA%3A3.40.600.10\r\n",
      "database_id=G3DSA%3A2.20.150.10    database_id=G3DSA%3A3.40.605.10\r\n",
      "database_id=G3DSA%3A2.20.160.10    database_id=G3DSA%3A3.40.630.20\r\n",
      "database_id=G3DSA%3A2.20.170.10    database_id=G3DSA%3A3.40.640.10\r\n",
      "database_id=G3DSA%3A2.20.180.10    database_id=G3DSA%3A3.40.720.10\r\n",
      "database_id=G3DSA%3A2.20.20.10\t   database_id=G3DSA%3A3.40.800.10\r\n",
      "database_id=G3DSA%3A2.20.25.100    database_id=G3DSA%3A3.40.800.20\r\n",
      "database_id=G3DSA%3A2.20.25.30\t   database_id=G3DSA%3A3.40.80.10\r\n",
      "database_id=G3DSA%3A2.20.25.80\t   database_id=G3DSA%3A3.40.850.10\r\n",
      "database_id=G3DSA%3A2.20.28.20\t   database_id=G3DSA%3A3.40.910.10\r\n",
      "database_id=G3DSA%3A2.20.28.40\t   database_id=G3DSA%3A3.40.91.20\r\n",
      "database_id=G3DSA%3A2.20.50.20\t   database_id=G3DSA%3A3.40.920.10\r\n",
      "database_id=G3DSA%3A2.20.60.10\t   database_id=G3DSA%3A3.40.930.10\r\n",
      "database_id=G3DSA%3A2.20.90.10\t   database_id=G3DSA%3A3.40.970.10\r\n",
      "database_id=G3DSA%3A2.30.110.10    database_id=G3DSA%3A3.40.980.10\r\n",
      "database_id=G3DSA%3A2.30.110.20    database_id=G3DSA%3A3.50.14.10\r\n",
      "database_id=G3DSA%3A2.30.130.10    database_id=G3DSA%3A3.50.20.10\r\n",
      "database_id=G3DSA%3A2.30.140.10    database_id=G3DSA%3A3.50.30.20\r\n",
      "database_id=G3DSA%3A2.30.140.20    database_id=G3DSA%3A3.50.30.40\r\n",
      "database_id=G3DSA%3A2.30.170.40    database_id=G3DSA%3A3.50.30.50\r\n",
      "database_id=G3DSA%3A2.30.180.10    database_id=G3DSA%3A3.50.30.60\r\n",
      "database_id=G3DSA%3A2.30.18.10\t   database_id=G3DSA%3A3.50.30.70\r\n",
      "database_id=G3DSA%3A2.30.22.10\t   database_id=G3DSA%3A3.50.40.10\r\n",
      "database_id=G3DSA%3A2.30.230.10    database_id=G3DSA%3A3.50.50.60\r\n",
      "database_id=G3DSA%3A2.30.240.10    database_id=G3DSA%3A3.50.70.10\r\n",
      "database_id=G3DSA%3A2.30.24.10\t   database_id=G3DSA%3A3.50.7.10\r\n",
      "database_id=G3DSA%3A2.30.26.10\t   database_id=G3DSA%3A3.50.80.10\r\n",
      "database_id=G3DSA%3A2.30.270.10    database_id=G3DSA%3A3.50.90.10\r\n",
      "database_id=G3DSA%3A2.30.280.10    database_id=G3DSA%3A3.55.10.10\r\n",
      "database_id=G3DSA%3A2.30.290.10    database_id=G3DSA%3A3.55.20.10\r\n",
      "database_id=G3DSA%3A2.30.29.30\t   database_id=G3DSA%3A3.55.30.10\r\n",
      "database_id=G3DSA%3A2.30.29.50\t   database_id=G3DSA%3A3.60.100.10\r\n",
      "database_id=G3DSA%3A2.30.30.10\t   database_id=G3DSA%3A3.60.10.10\r\n",
      "database_id=G3DSA%3A2.30.30.110    database_id=G3DSA%3A3.60.110.10\r\n",
      "database_id=G3DSA%3A2.30.30.130    database_id=G3DSA%3A3.60.120.10\r\n",
      "database_id=G3DSA%3A2.30.30.150    database_id=G3DSA%3A3.60.140.10\r\n",
      "database_id=G3DSA%3A2.30.30.180    database_id=G3DSA%3A3.60.150.10\r\n",
      "database_id=G3DSA%3A2.30.30.190    database_id=G3DSA%3A3.60.15.10\r\n",
      "database_id=G3DSA%3A2.30.30.210    database_id=G3DSA%3A3.60.160.10\r\n",
      "database_id=G3DSA%3A2.30.30.220    database_id=G3DSA%3A3.60.20.10\r\n",
      "database_id=G3DSA%3A2.30.30.230    database_id=G3DSA%3A3.60.20.20\r\n",
      "database_id=G3DSA%3A2.30.30.280    database_id=G3DSA%3A3.60.21.10\r\n",
      "database_id=G3DSA%3A2.30.30.290    database_id=G3DSA%3A3.60.40.10\r\n",
      "database_id=G3DSA%3A2.30.30.30\t   database_id=G3DSA%3A3.60.70.12\r\n",
      "database_id=G3DSA%3A2.30.30.320    database_id=G3DSA%3A3.60.90.10\r\n",
      "database_id=G3DSA%3A2.30.30.360    database_id=G3DSA%3A3.60.9.10\r\n",
      "database_id=G3DSA%3A2.30.30.390    database_id=G3DSA%3A3.65.10.10\r\n",
      "database_id=G3DSA%3A2.30.30.70\t   database_id=G3DSA%3A3.65.10.20\r\n",
      "database_id=G3DSA%3A2.30.31.10\t   database_id=G3DSA%3A3.75.10.20\r\n",
      "database_id=G3DSA%3A2.30.320.10    database_id=G3DSA%3A3.80.10.10\r\n",
      "database_id=G3DSA%3A2.30.32.30\t   database_id=G3DSA%3A3.80.20.20\r\n",
      "database_id=G3DSA%3A2.30.330.10    database_id=G3DSA%3A3.80.30.20\r\n",
      "database_id=G3DSA%3A2.30.33.40\t   database_id=G3DSA%3A3.90.100.10\r\n",
      "database_id=G3DSA%3A2.30.40.10\t   database_id=G3DSA%3A3.90.1030.10\r\n",
      "database_id=G3DSA%3A2.30.60.10\t   database_id=G3DSA%3A3.90.110.10\r\n",
      "database_id=G3DSA%3A2.40.100.10    database_id=G3DSA%3A3.90.1110.10\r\n",
      "database_id=G3DSA%3A2.40.10.250    database_id=G3DSA%3A3.90.1140.10\r\n",
      "database_id=G3DSA%3A2.40.128.110   database_id=G3DSA%3A3.90.1150.10\r\n",
      "database_id=G3DSA%3A2.40.128.120   database_id=G3DSA%3A3.90.1150.20\r\n",
      "database_id=G3DSA%3A2.40.128.140   database_id=G3DSA%3A3.90.1170.10\r\n",
      "database_id=G3DSA%3A2.40.128.20    database_id=G3DSA%3A3.90.1170.20\r\n",
      "database_id=G3DSA%3A2.40.128.30    database_id=G3DSA%3A3.90.1170.40\r\n",
      "database_id=G3DSA%3A2.40.128.50    database_id=G3DSA%3A3.90.1170.50\r\n",
      "database_id=G3DSA%3A2.40.128.80    database_id=G3DSA%3A3.90.1180.10\r\n",
      "database_id=G3DSA%3A2.40.150.20    database_id=G3DSA%3A3.90.1220.10\r\n",
      "database_id=G3DSA%3A2.40.15.10\t   database_id=G3DSA%3A3.90.1260.10\r\n",
      "database_id=G3DSA%3A2.40.155.10    database_id=G3DSA%3A3.90.1280.10\r\n",
      "database_id=G3DSA%3A2.40.160.20    database_id=G3DSA%3A3.90.1290.10\r\n",
      "database_id=G3DSA%3A2.40.170.10    database_id=G3DSA%3A3.90.1300.10\r\n",
      "database_id=G3DSA%3A2.40.170.20    database_id=G3DSA%3A3.90.1330.10\r\n",
      "database_id=G3DSA%3A2.40.180.10    database_id=G3DSA%3A3.90.1340.10\r\n",
      "database_id=G3DSA%3A2.40.200.10    database_id=G3DSA%3A3.90.1350.10\r\n",
      "database_id=G3DSA%3A2.40.220.10    database_id=G3DSA%3A3.90.1360.10\r\n",
      "database_id=G3DSA%3A2.40.230.10    database_id=G3DSA%3A3.90.1370.10\r\n",
      "database_id=G3DSA%3A2.40.230.20    database_id=G3DSA%3A3.90.1380.10\r\n",
      "database_id=G3DSA%3A2.40.240.10    database_id=G3DSA%3A3.90.1400.10\r\n",
      "database_id=G3DSA%3A2.40.250.10    database_id=G3DSA%3A3.90.1420.10\r\n",
      "database_id=G3DSA%3A2.40.260.10    database_id=G3DSA%3A3.90.1450.10\r\n",
      "database_id=G3DSA%3A2.40.270.10    database_id=G3DSA%3A3.90.1460.10\r\n",
      "database_id=G3DSA%3A2.40.280.10    database_id=G3DSA%3A3.90.148.10\r\n",
      "database_id=G3DSA%3A2.40.290.10    database_id=G3DSA%3A3.90.15.10\r\n",
      "database_id=G3DSA%3A2.40.30.100    database_id=G3DSA%3A3.90.1510.10\r\n",
      "database_id=G3DSA%3A2.40.30.110    database_id=G3DSA%3A3.90.1560.10\r\n",
      "database_id=G3DSA%3A2.40.30.20\t   database_id=G3DSA%3A3.90.1600.10\r\n",
      "database_id=G3DSA%3A2.40.30.30\t   database_id=G3DSA%3A3.90.1650.10\r\n",
      "database_id=G3DSA%3A2.40.30.40\t   database_id=G3DSA%3A3.90.1670.10\r\n",
      "database_id=G3DSA%3A2.40.30.60\t   database_id=G3DSA%3A3.90.1680.10\r\n",
      "database_id=G3DSA%3A2.40.30.70\t   database_id=G3DSA%3A3.90.1760.10\r\n",
      "database_id=G3DSA%3A2.40.30.80\t   database_id=G3DSA%3A3.90.1780.10\r\n",
      "database_id=G3DSA%3A2.40.30.90\t   database_id=G3DSA%3A3.90.190.10\r\n",
      "database_id=G3DSA%3A2.40.310.10    database_id=G3DSA%3A3.90.190.20\r\n",
      "database_id=G3DSA%3A2.40.330.10    database_id=G3DSA%3A3.90.199.10\r\n",
      "database_id=G3DSA%3A2.40.33.40\t   database_id=G3DSA%3A3.90.20.20\r\n",
      "database_id=G3DSA%3A2.40.340.10    database_id=G3DSA%3A3.90.209.20\r\n",
      "database_id=G3DSA%3A2.40.350.10    database_id=G3DSA%3A3.90.215.10\r\n",
      "database_id=G3DSA%3A2.40.360.10    database_id=G3DSA%3A3.90.228.20\r\n",
      "database_id=G3DSA%3A2.40.370.10    database_id=G3DSA%3A3.90.245.10\r\n",
      "database_id=G3DSA%3A2.40.37.10\t   database_id=G3DSA%3A3.90.260.10\r\n",
      "database_id=G3DSA%3A2.40.380.10    database_id=G3DSA%3A3.90.280.10\r\n",
      "database_id=G3DSA%3A2.40.390.10    database_id=G3DSA%3A3.90.290.10\r\n",
      "database_id=G3DSA%3A2.40.400.10    database_id=G3DSA%3A3.90.310.10\r\n",
      "database_id=G3DSA%3A2.40.40.10\t   database_id=G3DSA%3A3.90.320.10\r\n",
      "database_id=G3DSA%3A2.40.410.10    database_id=G3DSA%3A3.90.320.20\r\n",
      "database_id=G3DSA%3A2.40.480.10    database_id=G3DSA%3A3.90.330.10\r\n",
      "database_id=G3DSA%3A2.40.50.150    database_id=G3DSA%3A3.90.350.10\r\n",
      "database_id=G3DSA%3A2.40.50.220    database_id=G3DSA%3A3.90.360.10\r\n",
      "database_id=G3DSA%3A2.40.50.230    database_id=G3DSA%3A3.90.370.10\r\n",
      "database_id=G3DSA%3A2.40.50.240    database_id=G3DSA%3A3.90.390.10\r\n",
      "database_id=G3DSA%3A2.40.50.60\t   database_id=G3DSA%3A3.90.420.10\r\n",
      "database_id=G3DSA%3A2.40.50.90\t   database_id=G3DSA%3A3.90.430.10\r\n",
      "database_id=G3DSA%3A2.40.70.10\t   database_id=G3DSA%3A3.90.450.1\r\n",
      "database_id=G3DSA%3A2.50.10.10\t   database_id=G3DSA%3A3.90.45.10\r\n",
      "database_id=G3DSA%3A2.50.20.10\t   database_id=G3DSA%3A3.90.460.10\r\n",
      "database_id=G3DSA%3A2.60.110.10    database_id=G3DSA%3A3.90.470.10\r\n",
      "database_id=G3DSA%3A2.60.11.10\t   database_id=G3DSA%3A3.90.470.20\r\n",
      "database_id=G3DSA%3A2.60.120.10    database_id=G3DSA%3A3.90.510.10\r\n",
      "database_id=G3DSA%3A2.60.120.180   database_id=G3DSA%3A3.90.520.10\r\n",
      "database_id=G3DSA%3A2.60.120.230   database_id=G3DSA%3A3.90.530.10\r\n",
      "database_id=G3DSA%3A2.60.120.240   database_id=G3DSA%3A3.90.540.10\r\n",
      "database_id=G3DSA%3A2.60.120.260   database_id=G3DSA%3A3.90.550.10\r\n",
      "database_id=G3DSA%3A2.60.120.290   database_id=G3DSA%3A3.90.56.10\r\n",
      "database_id=G3DSA%3A2.60.120.310   database_id=G3DSA%3A3.90.570.10\r\n",
      "database_id=G3DSA%3A2.60.120.320   database_id=G3DSA%3A3.90.580.10\r\n",
      "database_id=G3DSA%3A2.60.120.330   database_id=G3DSA%3A3.90.600.10\r\n",
      "database_id=G3DSA%3A2.60.120.370   database_id=G3DSA%3A3.90.640.20\r\n",
      "database_id=G3DSA%3A2.60.120.390   database_id=G3DSA%3A3.90.650.10\r\n",
      "database_id=G3DSA%3A2.60.120.40    database_id=G3DSA%3A3.90.700.10\r\n",
      "database_id=G3DSA%3A2.60.120.400   database_id=G3DSA%3A3.90.730.10\r\n",
      "database_id=G3DSA%3A2.60.120.420   database_id=G3DSA%3A3.90.740.10\r\n",
      "database_id=G3DSA%3A2.60.120.460   database_id=G3DSA%3A3.90.760.10\r\n",
      "database_id=G3DSA%3A2.60.120.470   database_id=G3DSA%3A3.90.770.10\r\n",
      "database_id=G3DSA%3A2.60.120.480   database_id=G3DSA%3A3.90.780.10\r\n",
      "database_id=G3DSA%3A2.60.120.510   database_id=G3DSA%3A3.90.78.10\r\n",
      "database_id=G3DSA%3A2.60.120.520   database_id=G3DSA%3A3.90.80.10\r\n",
      "database_id=G3DSA%3A2.60.120.530   database_id=G3DSA%3A3.90.810.10\r\n",
      "database_id=G3DSA%3A2.60.120.570   database_id=G3DSA%3A3.90.840.10\r\n",
      "database_id=G3DSA%3A2.60.120.590   database_id=G3DSA%3A3.90.850.10\r\n",
      "database_id=G3DSA%3A2.60.120.600   database_id=G3DSA%3A3.90.870.10\r\n",
      "database_id=G3DSA%3A2.60.120.610   database_id=G3DSA%3A3.90.930.1\r\n",
      "database_id=G3DSA%3A2.60.120.630   database_id=G3DSA%3A3.90.930.12\r\n",
      "database_id=G3DSA%3A2.60.130.10    database_id=G3DSA%3A3.90.940.10\r\n",
      "database_id=G3DSA%3A2.60.15.10\t   database_id=G3DSA%3A3.90.940.20\r\n",
      "database_id=G3DSA%3A2.60.169.10    database_id=G3DSA%3A3.90.950.10\r\n",
      "database_id=G3DSA%3A2.60.175.10    database_id=G3DSA%3A3.90.950.20\r\n",
      "database_id=G3DSA%3A2.60.175.20    database_id=G3DSA%3A3.90.960.10\r\n",
      "database_id=G3DSA%3A2.60.200.10    database_id=G3DSA%3A3.90.970.10\r\n",
      "database_id=G3DSA%3A2.60.200.30    database_id=G3DSA%3A3.90.980.10\r\n",
      "database_id=G3DSA%3A2.60.20.30\t   database_id=G3DSA%3A4.10.1000.10\r\n",
      "database_id=G3DSA%3A2.60.210.10    database_id=G3DSA%3A4.10.10.10\r\n",
      "database_id=G3DSA%3A2.60.220.10    database_id=G3DSA%3A4.10.1010.10\r\n",
      "database_id=G3DSA%3A2.60.240.10    database_id=G3DSA%3A4.10.1040.10\r\n",
      "database_id=G3DSA%3A2.60.270.20    database_id=G3DSA%3A4.10.1050.10\r\n",
      "database_id=G3DSA%3A2.60.300.12    database_id=G3DSA%3A4.10.1080.10\r\n",
      "database_id=G3DSA%3A2.60.30.10\t   database_id=G3DSA%3A4.10.1100.10\r\n",
      "database_id=G3DSA%3A2.60.310.10    database_id=G3DSA%3A4.10.110.20\r\n",
      "database_id=G3DSA%3A2.60.34.10\t   database_id=G3DSA%3A4.10.1110.10\r\n",
      "database_id=G3DSA%3A2.60.370.10    database_id=G3DSA%3A4.10.1120.10\r\n",
      "database_id=G3DSA%3A2.60.390.10    database_id=G3DSA%3A4.10.1150.10\r\n",
      "database_id=G3DSA%3A2.60.40.10\t   database_id=G3DSA%3A4.10.1170.10\r\n",
      "database_id=G3DSA%3A2.60.40.1090   database_id=G3DSA%3A4.10.1210.10\r\n",
      "database_id=G3DSA%3A2.60.40.1120   database_id=G3DSA%3A4.10.1230.10\r\n",
      "database_id=G3DSA%3A2.60.40.1150   database_id=G3DSA%3A4.10.1240.10\r\n",
      "database_id=G3DSA%3A2.60.40.1200   database_id=G3DSA%3A4.10.140.10\r\n",
      "database_id=G3DSA%3A2.60.40.1240   database_id=G3DSA%3A4.10.160.10\r\n",
      "database_id=G3DSA%3A2.60.40.1250   database_id=G3DSA%3A4.10.170.10\r\n",
      "database_id=G3DSA%3A2.60.40.1260   database_id=G3DSA%3A4.10.20.10\r\n",
      "database_id=G3DSA%3A2.60.40.1280   database_id=G3DSA%3A4.10.220.20\r\n",
      "database_id=G3DSA%3A2.60.40.1390   database_id=G3DSA%3A4.10.220.40\r\n",
      "database_id=G3DSA%3A2.60.40.1400   database_id=G3DSA%3A4.10.230.10\r\n",
      "database_id=G3DSA%3A2.60.40.1450   database_id=G3DSA%3A4.10.240.10\r\n",
      "database_id=G3DSA%3A2.60.40.1470   database_id=G3DSA%3A4.10.260.20\r\n",
      "database_id=G3DSA%3A2.60.40.1480   database_id=G3DSA%3A4.10.280.10\r\n",
      "database_id=G3DSA%3A2.60.40.1490   database_id=G3DSA%3A4.10.320.10\r\n",
      "database_id=G3DSA%3A2.60.40.150    database_id=G3DSA%3A4.10.340.10\r\n",
      "database_id=G3DSA%3A2.60.40.1520   database_id=G3DSA%3A4.10.372.10\r\n",
      "database_id=G3DSA%3A2.60.40.1550   database_id=G3DSA%3A4.10.40.30\r\n",
      "database_id=G3DSA%3A2.60.40.1570   database_id=G3DSA%3A4.10.410.10\r\n",
      "database_id=G3DSA%3A2.60.40.1600   database_id=G3DSA%3A4.10.420.10\r\n",
      "database_id=G3DSA%3A2.60.40.1610   database_id=G3DSA%3A4.10.430.10\r\n",
      "database_id=G3DSA%3A2.60.40.1620   database_id=G3DSA%3A4.10.470.10\r\n",
      "database_id=G3DSA%3A2.60.40.1680   database_id=G3DSA%3A4.10.480.10\r\n",
      "database_id=G3DSA%3A2.60.40.1700   database_id=G3DSA%3A4.10.490.10\r\n",
      "database_id=G3DSA%3A2.60.40.180    database_id=G3DSA%3A4.10.49.10\r\n",
      "database_id=G3DSA%3A2.60.40.20\t   database_id=G3DSA%3A4.10.51.10\r\n",
      "database_id=G3DSA%3A2.60.40.200    database_id=G3DSA%3A4.10.520.10\r\n",
      "database_id=G3DSA%3A2.60.40.230    database_id=G3DSA%3A4.10.530.10\r\n",
      "database_id=G3DSA%3A2.60.40.340    database_id=G3DSA%3A4.10.540.10\r\n",
      "database_id=G3DSA%3A2.60.40.350    database_id=G3DSA%3A4.10.60.10\r\n",
      "database_id=G3DSA%3A2.60.40.380    database_id=G3DSA%3A4.10.640.10\r\n",
      "database_id=G3DSA%3A2.60.40.420    database_id=G3DSA%3A4.10.650.10\r\n",
      "database_id=G3DSA%3A2.60.40.50\t   database_id=G3DSA%3A4.10.670.10\r\n",
      "database_id=G3DSA%3A2.60.40.630    database_id=G3DSA%3A4.10.680.10\r\n",
      "database_id=G3DSA%3A2.60.40.690    database_id=G3DSA%3A4.10.70.10\r\n",
      "database_id=G3DSA%3A2.60.40.700    database_id=G3DSA%3A4.10.720.10\r\n",
      "database_id=G3DSA%3A2.60.40.710    database_id=G3DSA%3A4.10.740.10\r\n",
      "database_id=G3DSA%3A2.60.40.720    database_id=G3DSA%3A4.10.75.10\r\n",
      "database_id=G3DSA%3A2.60.40.760    database_id=G3DSA%3A4.10.760.10\r\n",
      "database_id=G3DSA%3A2.60.40.780    database_id=G3DSA%3A4.10.770.10\r\n",
      "database_id=G3DSA%3A2.60.40.790    database_id=G3DSA%3A4.10.780.10\r\n",
      "database_id=G3DSA%3A2.60.40.820    database_id=G3DSA%3A4.10.800.10\r\n",
      "database_id=G3DSA%3A2.60.40.830    database_id=G3DSA%3A4.10.80.10\r\n",
      "database_id=G3DSA%3A2.60.40.840    database_id=G3DSA%3A4.10.8.10\r\n",
      "database_id=G3DSA%3A2.60.410.10    database_id=G3DSA%3A4.10.81.10\r\n",
      "database_id=G3DSA%3A2.60.430.10    database_id=G3DSA%3A4.10.81.20\r\n",
      "database_id=G3DSA%3A2.60.440.10    database_id=G3DSA%3A4.10.820.10\r\n",
      "database_id=G3DSA%3A2.60.490.10    database_id=G3DSA%3A4.10.840.10\r\n",
      "database_id=G3DSA%3A2.60.510.10    database_id=G3DSA%3A4.10.860.10\r\n",
      "database_id=G3DSA%3A2.60.60.20\t   database_id=G3DSA%3A4.10.860.20\r\n",
      "database_id=G3DSA%3A2.60.90.10\t   database_id=G3DSA%3A4.10.870.10\r\n",
      "database_id=G3DSA%3A2.60.9.10\t   database_id=G3DSA%3A4.10.890.10\r\n",
      "database_id=G3DSA%3A2.60.98.20\t   database_id=G3DSA%3A4.10.900.10\r\n",
      "database_id=G3DSA%3A2.70.100.10    database_id=G3DSA%3A4.10.90.10\r\n",
      "database_id=G3DSA%3A2.70.130.10    database_id=G3DSA%3A4.10.910.10\r\n",
      "database_id=G3DSA%3A2.70.170.10    database_id=G3DSA%3A4.10.91.10\r\n",
      "database_id=G3DSA%3A2.70.180.10    database_id=G3DSA%3A4.10.93.10\r\n",
      "database_id=G3DSA%3A2.70.20.10\t   database_id=G3DSA%3A4.10.950.10\r\n",
      "database_id=G3DSA%3A2.70.210.12    database_id=G3DSA%3A4.10.95.10\r\n",
      "database_id=G3DSA%3A2.70.220.10    database_id=G3DSA%3A4.10.970.10\r\n"
     ]
    }
   ],
   "source": [
    "!ls /home/strokach/databin/uniparc_domain/0.1/adjacency_matrix.parquet"
   ]
  },
  {
   "cell_type": "markdown",
   "metadata": {},
   "source": [
    "## Gene3D domains"
   ]
  },
  {
   "cell_type": "code",
   "execution_count": 9,
   "metadata": {
    "collapsed": true
   },
   "outputs": [],
   "source": [
    "with open(f'generate_datasets/gene3d_domains.pickle', 'rb') as fin:\n",
    "    GENE3D_DOMAINS = pickle.load(fin)"
   ]
  },
  {
   "cell_type": "markdown",
   "metadata": {},
   "source": [
    "## Training / validation domains"
   ]
  },
  {
   "cell_type": "code",
   "execution_count": 10,
   "metadata": {
    "collapsed": true
   },
   "outputs": [],
   "source": [
    "with open(f'generate_datasets/training_domains.pickle', 'rb') as fin:\n",
    "    TRAINING_DOMAINS = pickle.load(fin)\n",
    "    \n",
    "with open(f'generate_datasets/validation_domains.pickle', 'rb') as fin:\n",
    "    VALIDATION_DOMAINS = pickle.load(fin)\n",
    "    \n",
    "with open(f'generate_datasets/test_domains.pickle', 'rb') as fin:\n",
    "    TEST_DOMAINS = pickle.load(fin)"
   ]
  },
  {
   "cell_type": "markdown",
   "metadata": {},
   "source": [
    "## Training / validation parquet files"
   ]
  },
  {
   "cell_type": "code",
   "execution_count": 11,
   "metadata": {
    "collapsed": true
   },
   "outputs": [],
   "source": [
    "with open(f'generate_datasets/training_parquet_files.pickle', 'rb') as fin:\n",
    "    TRAINING_PARQUET_FILES = pickle.load(fin)\n",
    "    \n",
    "with open(f'generate_datasets/validation_parquet_files.pickle', 'rb') as fin:\n",
    "    VALIDATION_PARQUET_FILES = pickle.load(fin)\n",
    "    \n",
    "with open(f'generate_datasets/test_parquet_files.pickle', 'rb') as fin:\n",
    "    TEST_PARQUET_FILES = pickle.load(fin)"
   ]
  },
  {
   "cell_type": "markdown",
   "metadata": {},
   "source": [
    "## Folders"
   ]
  },
  {
   "cell_type": "code",
   "execution_count": 12,
   "metadata": {
    "collapsed": true
   },
   "outputs": [],
   "source": [
    "VALIDATION_DIR = NOTEBOOK_PATH.joinpath('validation')"
   ]
  },
  {
   "cell_type": "markdown",
   "metadata": {},
   "source": [
    "# New heading"
   ]
  },
  {
   "cell_type": "markdown",
   "metadata": {},
   "source": [
    "# Datasets\n",
    "\n",
    "This section can be skipped if it was done already!"
   ]
  },
  {
   "cell_type": "markdown",
   "metadata": {
    "heading_collapsed": true
   },
   "source": [
    "## Validation dataset"
   ]
  },
  {
   "cell_type": "code",
   "execution_count": 15,
   "metadata": {
    "hidden": true
   },
   "outputs": [
    {
     "ename": "Exception",
     "evalue": "Validation dataset already exists!",
     "output_type": "error",
     "traceback": [
      "\u001b[0;31m---------------------------------------------------------------------------\u001b[0m",
      "\u001b[0;31mException\u001b[0m                                 Traceback (most recent call last)",
      "\u001b[0;32m<ipython-input-15-2c3ba9d4e66d>\u001b[0m in \u001b[0;36m<module>\u001b[0;34m()\u001b[0m\n\u001b[1;32m      1\u001b[0m \u001b[0;32mif\u001b[0m \u001b[0mlist\u001b[0m\u001b[0;34m(\u001b[0m\u001b[0mVALIDATION_DIR\u001b[0m\u001b[0;34m.\u001b[0m\u001b[0mglob\u001b[0m\u001b[0;34m(\u001b[0m\u001b[0;34m'**/*.parquet'\u001b[0m\u001b[0;34m)\u001b[0m\u001b[0;34m)\u001b[0m\u001b[0;34m:\u001b[0m\u001b[0;34m\u001b[0m\u001b[0m\n\u001b[0;32m----> 2\u001b[0;31m     \u001b[0;32mraise\u001b[0m \u001b[0mException\u001b[0m\u001b[0;34m(\u001b[0m\u001b[0;34m\"Validation dataset already exists!\"\u001b[0m\u001b[0;34m)\u001b[0m\u001b[0;34m\u001b[0m\u001b[0m\n\u001b[0m",
      "\u001b[0;31mException\u001b[0m: Validation dataset already exists!"
     ]
    }
   ],
   "source": [
    "if list(VALIDATION_DIR.glob('**/*.parquet')):\n",
    "    raise Exception(\"Validation dataset already exists!\")"
   ]
  },
  {
   "cell_type": "code",
   "execution_count": 23,
   "metadata": {
    "hidden": true,
    "run_control": {
     "marked": false
    }
   },
   "outputs": [
    {
     "data": {
      "text/plain": [
       "['database_id=G3DSA%3A1.10.170.10', 'database_id=G3DSA%3A2.40.380.10']"
      ]
     },
     "execution_count": 23,
     "metadata": {},
     "output_type": "execute_result"
    }
   ],
   "source": [
    "VALIDATION_DOMAINS[:2]"
   ]
  },
  {
   "cell_type": "code",
   "execution_count": 24,
   "metadata": {
    "collapsed": true,
    "hidden": true
   },
   "outputs": [],
   "source": [
    "validation_domain_folders = [\n",
    "    ADJACENCY_MATRIX_PATH.joinpath(domain)\n",
    "    for domain in VALIDATION_DOMAINS\n",
    "]"
   ]
  },
  {
   "cell_type": "code",
   "execution_count": 25,
   "metadata": {
    "collapsed": true,
    "hidden": true
   },
   "outputs": [],
   "source": [
    "validation_domain_weights = [\n",
    "    pagnn.count_domain_rows(domain_folder)\n",
    "    for domain_folder in validation_domain_folders\n",
    "]"
   ]
  },
  {
   "cell_type": "code",
   "execution_count": 26,
   "metadata": {
    "collapsed": true,
    "hidden": true
   },
   "outputs": [],
   "source": [
    "random.seed(42)\n",
    "np.random.seed(42)\n",
    "\n",
    "validation_df = pd.DataFrame(\n",
    "    data=list(itertools.islice(\n",
    "        pagnn.iter_dataset_rows(validation_domain_folders, validation_domain_weights),\n",
    "        100_000)))"
   ]
  },
  {
   "cell_type": "code",
   "execution_count": 27,
   "metadata": {
    "hidden": true
   },
   "outputs": [
    {
     "data": {
      "text/html": [
       "<div>\n",
       "<style scoped>\n",
       "    .dataframe tbody tr th:only-of-type {\n",
       "        vertical-align: middle;\n",
       "    }\n",
       "\n",
       "    .dataframe tbody tr th {\n",
       "        vertical-align: top;\n",
       "    }\n",
       "\n",
       "    .dataframe thead th {\n",
       "        text-align: right;\n",
       "    }\n",
       "</style>\n",
       "<table border=\"1\" class=\"dataframe\">\n",
       "  <thead>\n",
       "    <tr style=\"text-align: right;\">\n",
       "      <th></th>\n",
       "      <th>Index</th>\n",
       "      <th>qseq</th>\n",
       "      <th>residue_idx_1_corrected</th>\n",
       "      <th>residue_idx_2_corrected</th>\n",
       "    </tr>\n",
       "  </thead>\n",
       "  <tbody>\n",
       "    <tr>\n",
       "      <th>0</th>\n",
       "      <td>78</td>\n",
       "      <td>GEDAEISPGNAIPLAKIPLGTMIHNVELRKGKGAQIARGAGTFAQLMAKEGEYGHVRLPSGEVRLVRLECFATIGQV</td>\n",
       "      <td>[0.0, 0.0, 0.0, 0.0, 0.0, 0.0, 0.0, 1.0, 1.0, 1.0, 1.0, 1.0, 1.0, 1.0, 2.0, 2.0, 2.0, 2.0, 3.0, 3.0, 3.0, 3.0, 3.0, ...</td>\n",
       "      <td>[1.0, 2.0, 3.0, 10.0, 11.0, 12.0, 70.0, 0.0, 2.0, 3.0, 11.0, 12.0, 15.0, 70.0, 0.0, 1.0, 3.0, 4.0, 0.0, 1.0, 2.0, 4....</td>\n",
       "    </tr>\n",
       "    <tr>\n",
       "      <th>1</th>\n",
       "      <td>1334</td>\n",
       "      <td>KMAFTLADRVTEEMLADKAALVVEVVEENYHDAPIVGIAVVNEHGRFFLRPETALADPQFVAWLGDETKKKSMFDSKRAAVALKWKGIELCGVSFDLLLAAYLLDPAQGVDDVAAA...</td>\n",
       "      <td>[0.0, 0.0, 0.0, 0.0, 1.0, 1.0, 1.0, 1.0, 1.0, 1.0, 1.0, 1.0, 1.0, 1.0, 2.0, 2.0, 2.0, 2.0, 2.0, 2.0, 3.0, 3.0, 3.0, ...</td>\n",
       "      <td>[1.0, 2.0, 147.0, 151.0, 0.0, 2.0, 3.0, 45.0, 121.0, 123.0, 147.0, 150.0, 151.0, 154.0, 0.0, 1.0, 3.0, 4.0, 45.0, 15...</td>\n",
       "    </tr>\n",
       "  </tbody>\n",
       "</table>\n",
       "</div>"
      ],
      "text/plain": [
       "   Index                                                                                                                     qseq                                                                                                  residue_idx_1_corrected                                                                                                  residue_idx_2_corrected\n",
       "0     78                                            GEDAEISPGNAIPLAKIPLGTMIHNVELRKGKGAQIARGAGTFAQLMAKEGEYGHVRLPSGEVRLVRLECFATIGQV  [0.0, 0.0, 0.0, 0.0, 0.0, 0.0, 0.0, 1.0, 1.0, 1.0, 1.0, 1.0, 1.0, 1.0, 2.0, 2.0, 2.0, 2.0, 3.0, 3.0, 3.0, 3.0, 3.0, ...  [1.0, 2.0, 3.0, 10.0, 11.0, 12.0, 70.0, 0.0, 2.0, 3.0, 11.0, 12.0, 15.0, 70.0, 0.0, 1.0, 3.0, 4.0, 0.0, 1.0, 2.0, 4....\n",
       "1   1334  KMAFTLADRVTEEMLADKAALVVEVVEENYHDAPIVGIAVVNEHGRFFLRPETALADPQFVAWLGDETKKKSMFDSKRAAVALKWKGIELCGVSFDLLLAAYLLDPAQGVDDVAAA...  [0.0, 0.0, 0.0, 0.0, 1.0, 1.0, 1.0, 1.0, 1.0, 1.0, 1.0, 1.0, 1.0, 1.0, 2.0, 2.0, 2.0, 2.0, 2.0, 2.0, 3.0, 3.0, 3.0, ...  [1.0, 2.0, 147.0, 151.0, 0.0, 2.0, 3.0, 45.0, 121.0, 123.0, 147.0, 150.0, 151.0, 154.0, 0.0, 1.0, 3.0, 4.0, 45.0, 15..."
      ]
     },
     "execution_count": 27,
     "metadata": {},
     "output_type": "execute_result"
    }
   ],
   "source": [
    "validation_df.head(2)"
   ]
  },
  {
   "cell_type": "code",
   "execution_count": 29,
   "metadata": {
    "collapsed": true,
    "hidden": true
   },
   "outputs": [],
   "source": [
    "VALIDATION_DIR.mkdir(exist_ok=True)\n",
    "\n",
    "pq.write_table(\n",
    "    pa.Table.from_pandas(validation_df),\n",
    "    VALIDATION_DIR.joinpath('validation.parquet').as_posix(),\n",
    "#     row_group_size=10_000,\n",
    "    version='2.0',\n",
    "    flavor='spark',\n",
    ")"
   ]
  },
  {
   "cell_type": "markdown",
   "metadata": {
    "heading_collapsed": true
   },
   "source": [
    "## Protherm dataset"
   ]
  },
  {
   "cell_type": "code",
   "execution_count": null,
   "metadata": {
    "collapsed": true,
    "hidden": true
   },
   "outputs": [],
   "source": []
  },
  {
   "cell_type": "code",
   "execution_count": null,
   "metadata": {
    "collapsed": true,
    "hidden": true
   },
   "outputs": [],
   "source": []
  },
  {
   "cell_type": "markdown",
   "metadata": {
    "heading_collapsed": true
   },
   "source": [
    "## Humsavar dataset"
   ]
  },
  {
   "cell_type": "code",
   "execution_count": null,
   "metadata": {
    "collapsed": true,
    "hidden": true
   },
   "outputs": [],
   "source": []
  },
  {
   "cell_type": "code",
   "execution_count": null,
   "metadata": {
    "collapsed": true,
    "hidden": true
   },
   "outputs": [],
   "source": []
  },
  {
   "cell_type": "markdown",
   "metadata": {},
   "source": [
    "# Train"
   ]
  },
  {
   "cell_type": "markdown",
   "metadata": {},
   "source": [
    "#### `validation_datasets`"
   ]
  },
  {
   "cell_type": "code",
   "execution_count": 115,
   "metadata": {},
   "outputs": [
    {
     "data": {
      "text/plain": [
       "PosixPath('/home/kimlab2/database_data/biological-data-warehouse/adjacency-net/notebooks/train_neural_network/validation')"
      ]
     },
     "execution_count": 115,
     "metadata": {},
     "output_type": "execute_result"
    }
   ],
   "source": [
    "VALIDATION_DIR"
   ]
  },
  {
   "cell_type": "code",
   "execution_count": 116,
   "metadata": {
    "collapsed": true
   },
   "outputs": [],
   "source": [
    "validation_datasets = list(\n",
    "    pagnn.iter_datasets(\n",
    "        pagnn.iter_domain_rows(VALIDATION_DIR), 50_000)\n",
    ")"
   ]
  },
  {
   "cell_type": "code",
   "execution_count": 117,
   "metadata": {},
   "outputs": [
    {
     "data": {
      "text/plain": [
       "254"
      ]
     },
     "execution_count": 117,
     "metadata": {},
     "output_type": "execute_result"
    }
   ],
   "source": [
    "len(validation_datasets)"
   ]
  },
  {
   "cell_type": "code",
   "execution_count": 118,
   "metadata": {
    "collapsed": true
   },
   "outputs": [],
   "source": [
    "validation_datasets_file = NOTEBOOK_PATH.joinpath('validation_datasets.pickle')\n",
    "\n",
    "with validation_datasets_file.open('wb') as fout:\n",
    "    pickle.dump(validation_datasets, fout, pickle.HIGHEST_PROTOCOL)"
   ]
  },
  {
   "cell_type": "markdown",
   "metadata": {},
   "source": [
    "#### Prepare training datasets"
   ]
  },
  {
   "cell_type": "code",
   "execution_count": 13,
   "metadata": {},
   "outputs": [
    {
     "data": {
      "text/plain": [
       "['database_id=G3DSA%3A2.40.128.20', 'database_id=G3DSA%3A3.50.40.10']"
      ]
     },
     "execution_count": 13,
     "metadata": {},
     "output_type": "execute_result"
    }
   ],
   "source": [
    "TRAINING_DOMAINS[:2]"
   ]
  },
  {
   "cell_type": "code",
   "execution_count": 14,
   "metadata": {
    "collapsed": true
   },
   "outputs": [],
   "source": [
    "training_domain_folders = [\n",
    "    ADJACENCY_MATRIX_PATH.joinpath(domain)\n",
    "    for domain in TRAINING_DOMAINS\n",
    "]\n",
    "\n",
    "training_domain_folders_file = NOTEBOOK_PATH.joinpath('training_domain_folders.pickle')\n",
    "with training_domain_folders_file.open('wb') as fout:\n",
    "    pickle.dump(training_domain_folders, fout, pickle.HIGHEST_PROTOCOL)"
   ]
  },
  {
   "cell_type": "code",
   "execution_count": 15,
   "metadata": {
    "collapsed": true
   },
   "outputs": [],
   "source": [
    "training_domain_weights_file = NOTEBOOK_PATH.joinpath('training_domain_weights.pickle')\n",
    "\n",
    "if training_domain_weights_file.is_file():\n",
    "    with training_domain_weights_file.open('rb') as fin:\n",
    "        training_domain_weights = pickle.load(fin)\n",
    "else:\n",
    "    training_domain_weights = [\n",
    "        pagnn.count_domain_rows(domain_folder)\n",
    "        for domain_folder in training_domain_folders\n",
    "    ]\n",
    "    with training_domain_weights_file.open('wb') as fout:\n",
    "        pickle.dump(training_domain_weights, fout, pickle.HIGHEST_PROTOCOL)"
   ]
  },
  {
   "cell_type": "markdown",
   "metadata": {},
   "source": [
    "## Run"
   ]
  },
  {
   "cell_type": "code",
   "execution_count": 18,
   "metadata": {},
   "outputs": [
    {
     "data": {
      "text/plain": [
       "<module 'pagnn.models' from '/home/kimlab1/strokach/working/pagnn/pagnn/models/__init__.py'>"
      ]
     },
     "execution_count": 18,
     "metadata": {},
     "output_type": "execute_result"
    }
   ],
   "source": [
    "importlib.reload(pagnn.models)"
   ]
  },
  {
   "cell_type": "markdown",
   "metadata": {},
   "source": [
    "### Script"
   ]
  },
  {
   "cell_type": "code",
   "execution_count": null,
   "metadata": {
    "code_folding": [],
    "run_control": {
     "marked": false
    }
   },
   "outputs": [
    {
     "name": "stdout",
     "output_type": "stream",
     "text": [
      "Overwriting train_neural_network/mynet.py\n"
     ]
    }
   ],
   "source": [
    "%%file {NOTEBOOK_NAME}/mynet.py\n",
    "import json\n",
    "import logging\n",
    "import os\n",
    "import os.path as op\n",
    "import pickle\n",
    "import random\n",
    "import time\n",
    "from pathlib import Path\n",
    "\n",
    "import GPUtil\n",
    "import numpy as np\n",
    "import torch\n",
    "import torch.nn as nn\n",
    "import torch.optim as optim\n",
    "import tqdm\n",
    "from sklearn import metrics\n",
    "from torch.autograd import Variable\n",
    "\n",
    "import pagnn\n",
    "\n",
    "logger = logging.getLogger(__name__)\n",
    "\n",
    "NOTEBOOK_PATH = Path(op.dirname(op.abspath(__file__)))\n",
    "\n",
    "\n",
    "def init_gpu():\n",
    "    deviceIDs = GPUtil.getAvailable(order = 'first', limit = 1, maxLoad = 0.5, maxMemory = 0.5)\n",
    "    os.environ['CUDA_VISIBLE_DEVICES'] = ','.join(str(i) for i in deviceIDs)\n",
    "    os.environ['CUDA_VISIBLE_DEVICES']\n",
    "\n",
    "\n",
    "def init_network():\n",
    "    net = pagnn.models.MultiDomainNet().cuda()\n",
    "\n",
    "    # criterion = nn.MSELoss()\n",
    "    # criterion = nn.L1Loss()\n",
    "    criterion = nn.BCELoss()\n",
    "    # criterion = nn.BCEWithLogitsLoss()\n",
    "\n",
    "    # optimizer = optim.SGD(net.parameters(), lr=0.2, momentum=0.1)\n",
    "    optimizer = optim.Adam(net.parameters(), lr=0.01, weight_decay=0.001)\n",
    "\n",
    "    def step(seq_var, adjs_expanded_var, targets_var, calc_score=False):\n",
    "        \"\"\"Perform full pass over network.\n",
    "\n",
    "        Closure with `net`, `criterion`, and `optimizer` in its scope.\n",
    "        \"\"\"\n",
    "        # In the training loop\n",
    "        optimizer.zero_grad()  # zero the gradient buffers\n",
    "        output = net(seq_var, adjs_expanded_var)\n",
    "        loss = criterion(output, targets_var)\n",
    "        loss.backward()\n",
    "        optimizer.step()  # Does the update\n",
    "        if calc_score:\n",
    "            score = _get_score(output.cpu().data.numpy(), targets_var.cpu().data.numpy().astype(int))\n",
    "            return score\n",
    "\n",
    "    def evaluate(datasets):\n",
    "        \"\"\"Evaluate the performance of the network.\"\"\"\n",
    "        targets = []\n",
    "        outputs = []\n",
    "        for idx2, (seq_valid, adjs_valid) in enumerate(datasets[:1]):\n",
    "            seq_var, adjs_expanded_var, targets_var = get_pytorch_vars(seq_valid, adjs_valid)\n",
    "            output = net(seq_var, adjs_expanded_var)\n",
    "            targets.append(targets_var.cpu().data.numpy().astype(int))\n",
    "            outputs.append(output.cpu().data.numpy())\n",
    "        outputs = np.hstack(outputs)\n",
    "        targets = np.hstack(targets)\n",
    "        score_valid = _get_score(outputs, targets)\n",
    "        return score_valid\n",
    "    \n",
    "    return step, evaluate\n",
    "\n",
    "\n",
    "def _get_score(outputs, targets):\n",
    "    score = metrics.roc_auc_score(targets, outputs)\n",
    "    return score\n",
    "\n",
    "\n",
    "# @profile\n",
    "def get_pytorch_vars(seq, adjs):\n",
    "    seq_permuted = pagnn.permute_sequence(seq)\n",
    "    seq_ar = np.array([pagnn.get_seq_array(seq), pagnn.get_seq_array(seq_permuted)])\n",
    "    seq_var = Variable(torch.Tensor(seq_ar)).cuda()\n",
    "\n",
    "    adjs_expanded = [pagnn.expand_adjacency(adj) for adj in adjs]\n",
    "    adjs_expanded_var = [Variable(torch.FloatTensor(adj.astype(np.float32))).cuda() for adj in adjs_expanded]\n",
    "\n",
    "    targets = [1, 0] * len(adjs)\n",
    "    targets_var = Variable(torch.Tensor(np.array(targets, dtype=np.float32))).cuda()\n",
    "\n",
    "    return seq_var, adjs_expanded_var, targets_var\n",
    "\n",
    "\n",
    "# @profile\n",
    "def main(\n",
    "        max_seq_length, training_domain_folders, training_domain_weights, validation_datasets, \n",
    "        num_aa_to_process=None):\n",
    "    step, evaluate = init_network()\n",
    "    \n",
    "    if num_aa_to_process is not None:\n",
    "        num_aa_processed = 0\n",
    "    \n",
    "    scores = []\n",
    "    scores_valid = []\n",
    "    for idx, (seq, adjs) in enumerate(tqdm.tqdm(pagnn.iter_datasets(\n",
    "            pagnn.iter_dataset_rows(training_domain_folders, training_domain_weights), max_seq_length))):\n",
    "\n",
    "        seq_var, adjs_expanded_var, targets_var = get_pytorch_vars(seq, adjs)\n",
    "\n",
    "        calc_score = idx % 100 == 0\n",
    "        score = step(seq_var, adjs_expanded_var, targets_var, calc_score)\n",
    "        if score:\n",
    "            scores.append((idx, score))\n",
    "\n",
    "        calc_score_valid = idx % 100 == 0\n",
    "        if calc_score_valid:\n",
    "            score_valid = evaluate(validation_datasets)\n",
    "            scores_valid.append(score_valid)\n",
    "            logger.info(\"score: %s   score_valid: %s\", score, score_valid)\n",
    "\n",
    "        if num_aa_to_process is not None:\n",
    "            num_aa_processed += len(seq)\n",
    "            if num_aa_processed >= num_aa_to_process:\n",
    "                break\n",
    "\n",
    "    return cur_seq_length, scores, scores_valid\n",
    "   \n",
    "\n",
    "if __name__ == '__main__':\n",
    "    import argparse\n",
    "    parser = argparse.ArgumentParser()\n",
    "    parser.add_argument('-n', '--num-aa-to-process', type=int, default=None)\n",
    "    parser.add_argument('-m', '--max-seq-length', type=int, default=50_000)\n",
    "    args = parser.parse_args()\n",
    "    \n",
    "    logging.basicConfig(format='%(message)s', level=logging.INFO)\n",
    "\n",
    "    random.seed(42)\n",
    "    np.random.seed(42)\n",
    "\n",
    "    training_domain_folders_file = NOTEBOOK_PATH.joinpath('training_domain_folders.pickle')\n",
    "    with training_domain_folders_file.open('rb') as fin:\n",
    "        training_domain_folders = pickle.load(fin)\n",
    "    \n",
    "    training_domain_weights_file = NOTEBOOK_PATH.joinpath('training_domain_weights.pickle')\n",
    "    with training_domain_weights_file.open('rb') as fin:\n",
    "        training_domain_weights = pickle.load(fin)\n",
    "\n",
    "    validation_datasets_file = NOTEBOOK_PATH.joinpath('validation_datasets.pickle')\n",
    "    with validation_datasets_file.open('rb') as fin:\n",
    "        validation_datasets = pickle.load(fin)\n",
    "    \n",
    "    start_time = time.perf_counter()\n",
    "    cur_seq_length, scores, scores_valid = main(\n",
    "        args.max_seq_length, training_domain_folders, training_domain_weights, validation_datasets,\n",
    "        args.num_aa_to_process)\n",
    "    time_elapsed = time.perf_counter() - start_time\n",
    "\n",
    "    print(json.dumps({\n",
    "        'max_seq_length': args.max_seq_length,\n",
    "        'cur_seq_length': cur_seq_length,\n",
    "        'time_elapsed': time_elapsed,\n",
    "        'aa_per_second': cur_seq_length / time_elapsed,\n",
    "        'scores': scores,\n",
    "        'scores_valid': scores_valid}))"
   ]
  },
  {
   "cell_type": "code",
   "execution_count": null,
   "metadata": {},
   "outputs": [
    {
     "name": "stdout",
     "output_type": "stream",
     "text": [
      "0it [00:00, ?it/s]score: 0.502735973006   score_valid: 0.514845496384\n",
      "100it [01:53,  1.13s/it]score: 0.770537464093   score_valid: 0.729776462853\n",
      "200it [03:34,  1.07s/it]score: 0.803009945581   score_valid: 0.784457593688\n",
      "300it [05:10,  1.04s/it]score: 0.821124226739   score_valid: 0.797909270217\n",
      "400it [06:50,  1.03s/it]score: 0.808879964913   score_valid: 0.823760683761\n",
      "500it [08:31,  1.02s/it]score: 0.803324696152   score_valid: 0.819618671926\n",
      "600it [10:14,  1.02s/it]score: 0.855353461372   score_valid: 0.828441814596\n",
      "700it [11:56,  1.02s/it]score: 0.827231711481   score_valid: 0.82006574622\n",
      "800it [13:39,  1.02s/it]score: 0.856956276975   score_valid: 0.814122287968\n",
      "900it [15:17,  1.02s/it]score: 0.828369948051   score_valid: 0.823425378041\n",
      "1000it [16:55,  1.02s/it]score: 0.833504911006   score_valid: 0.824286653517\n",
      "1100it [18:32,  1.01s/it]score: 0.828029676432   score_valid: 0.820966469428\n",
      "1200it [20:14,  1.01s/it]score: 0.854561831488   score_valid: 0.832945430638\n",
      "1300it [21:51,  1.01s/it]score: 0.838543816851   score_valid: 0.844687705457\n",
      "1400it [23:30,  1.01s/it]score: 0.847208658854   score_valid: 0.81674556213\n",
      "1500it [25:16,  1.01s/it]score: 0.837646484375   score_valid: 0.824352399737\n",
      "1537it [25:54,  1.01s/it]"
     ]
    }
   ],
   "source": [
    "!python {NOTEBOOK_NAME}/mynet.py"
   ]
  },
  {
   "cell_type": "markdown",
   "metadata": {},
   "source": [
    "### Optimize `max_seq_length`\n",
    "\n",
    "Looks like the best value for `max_seq_length` is ~ `50_000`."
   ]
  },
  {
   "cell_type": "code",
   "execution_count": 99,
   "metadata": {
    "scrolled": true
   },
   "outputs": [
    {
     "data": {
      "application/vnd.jupyter.widget-view+json": {
       "model_id": "f28b5a5f194b4c14998854618c7a674e",
       "version_major": 2,
       "version_minor": 0
      },
      "text/html": [
       "<p>Failed to display Jupyter Widget of type <code>HBox</code>.</p>\n",
       "<p>\n",
       "  If you're reading this message in the Jupyter Notebook or JupyterLab Notebook, it may mean\n",
       "  that the widgets JavaScript is still loading. If this message persists, it\n",
       "  likely means that the widgets JavaScript library is either not installed or\n",
       "  not enabled. See the <a href=\"https://ipywidgets.readthedocs.io/en/stable/user_install.html\">Jupyter\n",
       "  Widgets Documentation</a> for setup instructions.\n",
       "</p>\n",
       "<p>\n",
       "  If you're reading this message in another frontend (for example, a static\n",
       "  rendering on GitHub or <a href=\"https://nbviewer.jupyter.org/\">NBViewer</a>),\n",
       "  it may mean that your frontend doesn't currently support widgets.\n",
       "</p>\n"
      ],
      "text/plain": [
       "HBox(children=(IntProgress(value=0, max=12), HTML(value='')))"
      ]
     },
     "metadata": {},
     "output_type": "display_data"
    },
    {
     "name": "stdout",
     "output_type": "stream",
     "text": [
      "\n"
     ]
    }
   ],
   "source": [
    "max_seq_lengths = [\n",
    "    1_000, 2_000, 5_000, 10_000, 20_000, 40_000, 50_000, 60_000, 80_000, 100_000, 150_000, 200_000,\n",
    "]\n",
    "\n",
    "results = []\n",
    "for max_seq_length in tqdm.tqdm_notebook(max_seq_lengths, total=len(max_seq_lengths)):\n",
    "    cp = subprocess.run(\n",
    "        ['python', f'{NOTEBOOK_NAME}/mynet.py', '-n', f'{max_seq_length}'],\n",
    "        stdout=subprocess.PIPE, stderr=subprocess.PIPE, universal_newlines=True)\n",
    "    result = json.loads(cp.stdout)\n",
    "    results.append(result)"
   ]
  },
  {
   "cell_type": "code",
   "execution_count": 100,
   "metadata": {
    "run_control": {
     "marked": false
    }
   },
   "outputs": [
    {
     "data": {
      "text/html": [
       "<div>\n",
       "<style scoped>\n",
       "    .dataframe tbody tr th:only-of-type {\n",
       "        vertical-align: middle;\n",
       "    }\n",
       "\n",
       "    .dataframe tbody tr th {\n",
       "        vertical-align: top;\n",
       "    }\n",
       "\n",
       "    .dataframe thead th {\n",
       "        text-align: right;\n",
       "    }\n",
       "</style>\n",
       "<table border=\"1\" class=\"dataframe\">\n",
       "  <thead>\n",
       "    <tr style=\"text-align: right;\">\n",
       "      <th></th>\n",
       "      <th>aa_per_second</th>\n",
       "      <th>cur_seq_length</th>\n",
       "      <th>max_seq_length</th>\n",
       "      <th>time_elapsed</th>\n",
       "    </tr>\n",
       "  </thead>\n",
       "  <tbody>\n",
       "    <tr>\n",
       "      <th>0</th>\n",
       "      <td>28943.225498</td>\n",
       "      <td>1000151</td>\n",
       "      <td>1000</td>\n",
       "      <td>34.555616</td>\n",
       "    </tr>\n",
       "    <tr>\n",
       "      <th>1</th>\n",
       "      <td>27138.696535</td>\n",
       "      <td>1001520</td>\n",
       "      <td>2000</td>\n",
       "      <td>36.903762</td>\n",
       "    </tr>\n",
       "    <tr>\n",
       "      <th>2</th>\n",
       "      <td>27619.429186</td>\n",
       "      <td>1003149</td>\n",
       "      <td>5000</td>\n",
       "      <td>36.320410</td>\n",
       "    </tr>\n",
       "    <tr>\n",
       "      <th>3</th>\n",
       "      <td>27511.062228</td>\n",
       "      <td>1007159</td>\n",
       "      <td>10000</td>\n",
       "      <td>36.609237</td>\n",
       "    </tr>\n",
       "    <tr>\n",
       "      <th>4</th>\n",
       "      <td>29106.181792</td>\n",
       "      <td>1012227</td>\n",
       "      <td>20000</td>\n",
       "      <td>34.777045</td>\n",
       "    </tr>\n",
       "    <tr>\n",
       "      <th>5</th>\n",
       "      <td>29561.090258</td>\n",
       "      <td>1015984</td>\n",
       "      <td>40000</td>\n",
       "      <td>34.368962</td>\n",
       "    </tr>\n",
       "    <tr>\n",
       "      <th>6</th>\n",
       "      <td>29705.715426</td>\n",
       "      <td>1025498</td>\n",
       "      <td>50000</td>\n",
       "      <td>34.521909</td>\n",
       "    </tr>\n",
       "    <tr>\n",
       "      <th>7</th>\n",
       "      <td>29691.854348</td>\n",
       "      <td>1054641</td>\n",
       "      <td>60000</td>\n",
       "      <td>35.519540</td>\n",
       "    </tr>\n",
       "    <tr>\n",
       "      <th>8</th>\n",
       "      <td>28615.286223</td>\n",
       "      <td>1016651</td>\n",
       "      <td>80000</td>\n",
       "      <td>35.528249</td>\n",
       "    </tr>\n",
       "    <tr>\n",
       "      <th>9</th>\n",
       "      <td>27346.139696</td>\n",
       "      <td>1075092</td>\n",
       "      <td>100000</td>\n",
       "      <td>39.314214</td>\n",
       "    </tr>\n",
       "    <tr>\n",
       "      <th>10</th>\n",
       "      <td>24638.685783</td>\n",
       "      <td>1026641</td>\n",
       "      <td>150000</td>\n",
       "      <td>41.667847</td>\n",
       "    </tr>\n",
       "    <tr>\n",
       "      <th>11</th>\n",
       "      <td>23271.960893</td>\n",
       "      <td>1172997</td>\n",
       "      <td>200000</td>\n",
       "      <td>50.403875</td>\n",
       "    </tr>\n",
       "  </tbody>\n",
       "</table>\n",
       "</div>"
      ],
      "text/plain": [
       "    aa_per_second  cur_seq_length  max_seq_length  time_elapsed\n",
       "0    28943.225498         1000151            1000     34.555616\n",
       "1    27138.696535         1001520            2000     36.903762\n",
       "2    27619.429186         1003149            5000     36.320410\n",
       "3    27511.062228         1007159           10000     36.609237\n",
       "4    29106.181792         1012227           20000     34.777045\n",
       "5    29561.090258         1015984           40000     34.368962\n",
       "6    29705.715426         1025498           50000     34.521909\n",
       "7    29691.854348         1054641           60000     35.519540\n",
       "8    28615.286223         1016651           80000     35.528249\n",
       "9    27346.139696         1075092          100000     39.314214\n",
       "10   24638.685783         1026641          150000     41.667847\n",
       "11   23271.960893         1172997          200000     50.403875"
      ]
     },
     "execution_count": 100,
     "metadata": {},
     "output_type": "execute_result"
    }
   ],
   "source": [
    "results_df = pd.DataFrame(results)\n",
    "results_df"
   ]
  },
  {
   "cell_type": "code",
   "execution_count": 112,
   "metadata": {},
   "outputs": [
    {
     "data": {
      "text/plain": [
       "Text(0,0.5,'AA / second')"
      ]
     },
     "execution_count": 112,
     "metadata": {},
     "output_type": "execute_result"
    },
    {
     "data": {
      "image/png": "[encoded data removed]",
      "text/plain": [
       "<matplotlib.figure.Figure at 0x7fc60c68bc50>"
      ]
     },
     "metadata": {},
     "output_type": "display_data"
    }
   ],
   "source": [
    "fg, axs = plt.subplots(figsize=(12, 4))\n",
    "plt.plot(results_df['max_seq_length'], results_df['aa_per_second'], linestyle='-', marker='X')\n",
    "plt.xlim(0, 200_000)\n",
    "plt.xlabel('max_seq_length')\n",
    "plt.ylabel('AA / second')"
   ]
  },
  {
   "cell_type": "markdown",
   "metadata": {},
   "source": [
    "# sss"
   ]
  },
  {
   "cell_type": "code",
   "execution_count": 87,
   "metadata": {
    "scrolled": true
   },
   "outputs": [
    {
     "name": "stdout",
     "output_type": "stream",
     "text": [
      "Could not convert the following residue to one-hot encoding: U\n",
      "Could not convert the following residue to one-hot encoding: U\n",
      "Could not convert the following residue to one-hot encoding: U\n",
      "Could not convert the following residue to one-hot encoding: U\n",
      "Could not convert the following residue to one-hot encoding: Z\n",
      "Could not convert the following residue to one-hot encoding: Z\n",
      "Could not convert the following residue to one-hot encoding: B\n",
      "Could not convert the following residue to one-hot encoding: B\n",
      "Could not convert the following residue to one-hot encoding: B\n",
      "Could not convert the following residue to one-hot encoding: B\n",
      "Could not convert the following residue to one-hot encoding: B\n",
      "Could not convert the following residue to one-hot encoding: B\n",
      "Could not convert the following residue to one-hot encoding: B\n",
      "Could not convert the following residue to one-hot encoding: B\n",
      "{\"cur_seq_length\": 1007159, \"time_elapsed\": 39.44118913821876, \"aa_per_second\": 25535.715884997408}\n",
      "Wrote profile results to mynet.py.lprof\n"
     ]
    }
   ],
   "source": [
    "!kernprof -l {NOTEBOOK_NAME}/mynet.py -n 10000"
   ]
  },
  {
   "cell_type": "code",
   "execution_count": 53,
   "metadata": {},
   "outputs": [
    {
     "name": "stdout",
     "output_type": "stream",
     "text": [
      "Timer unit: 1e-06 s\r\n",
      "\r\n",
      "Total time: 14.4381 s\r\n",
      "File: train_neural_network/mynet.py\r\n",
      "Function: get_pytorch_vars at line 54\r\n",
      "\r\n",
      "Line #      Hits         Time  Per Hit   % Time  Line Contents\r\n",
      "==============================================================\r\n",
      "    54                                           @profile\r\n",
      "    55                                           def get_pytorch_vars(seq, adjs):\r\n",
      "    56       101         4266     42.2      0.0      seq_permuted = pagnn.permute_sequence(seq)\r\n",
      "    57       101      1992419  19726.9     13.8      seq_ar = np.array([pagnn.get_seq_array(seq), pagnn.get_seq_array(seq_permuted)])\r\n",
      "    58       101      1504810  14899.1     10.4      seq_var = Variable(torch.Tensor(seq_ar)).cuda()\r\n",
      "    59                                           \r\n",
      "    60       101      7080452  70103.5     49.0      adjs_expanded = [pagnn.expand_adjacency(adj) for adj in adjs]\r\n",
      "    61       101      3848183  38100.8     26.7      adjs_expanded_var = [Variable(torch.FloatTensor(adj.astype(np.float32))).cuda() for adj in adjs_expanded]\r\n",
      "    62                                           \r\n",
      "    63       101          687      6.8      0.0      targets = [1, 0] * len(adjs)\r\n",
      "    64       101         7172     71.0      0.0      targets_var = Variable(torch.Tensor(np.array(targets, dtype=np.float32))).cuda()\r\n",
      "    65                                           \r\n",
      "    66       101          134      1.3      0.0      return seq_var, adjs_expanded_var, targets_var\r\n",
      "\r\n",
      "Total time: 38.718 s\r\n",
      "File: train_neural_network/mynet.py\r\n",
      "Function: main at line 69\r\n",
      "\r\n",
      "Line #      Hits         Time  Per Hit   % Time  Line Contents\r\n",
      "==============================================================\r\n",
      "    69                                           @profile\r\n",
      "    70                                           def main(training_domain_folders, training_domain_weights):\r\n",
      "    71         1      1509821 1509821.0      3.9      step = init_network()\r\n",
      "    72                                               \r\n",
      "    73         1            1      1.0      0.0      max_iters = 100\r\n",
      "    74         1            1      1.0      0.0      max_seq_length = 1_000_000 / max_iters\r\n",
      "    75         1            1      1.0      0.0      for idx, (seq, adjs) in enumerate(pagnn.iter_datasets(\r\n",
      "    76       101     13709142 135734.1     35.4              pagnn.iter_dataset_rows(training_domain_folders, training_domain_weights), max_seq_length)):\r\n",
      "    77                                           \r\n",
      "    78       101     14546861 144028.3     37.6          seq_var, adjs_expanded_var, targets_var = get_pytorch_vars(seq, adjs)\r\n",
      "    79                                           \r\n",
      "    80       101      8915475  88272.0     23.0          step(seq_var, adjs_expanded_var, targets_var)\r\n",
      "    81                                                   \r\n",
      "    82       101          223      2.2      0.0          if idx >= max_iters:\r\n",
      "    83         1        36430  36430.0      0.1              return\r\n",
      "\r\n"
     ]
    }
   ],
   "source": [
    "# 10\n",
    "!python -m line_profiler mynet.py.lprof"
   ]
  },
  {
   "cell_type": "code",
   "execution_count": 24,
   "metadata": {},
   "outputs": [
    {
     "name": "stdout",
     "output_type": "stream",
     "text": [
      "01-generate_datasets.ipynb               _imports.ipynb\r\n",
      "02-train_neural_network-gpu-Copy1.ipynb  mynet.py.lprof\r\n",
      "02-train_neural_network-gpu.ipynb        _settings.ipynb\r\n",
      "02-train_neural_network.ipynb            _spark.ipynb\r\n",
      "demo.ipynb                               \u001b[0m\u001b[01;34mtrain_neural_network\u001b[0m/\r\n",
      "\u001b[01;34mgenerate_datasets\u001b[0m/\r\n"
     ]
    }
   ],
   "source": [
    "ls"
   ]
  },
  {
   "cell_type": "code",
   "execution_count": null,
   "metadata": {
    "collapsed": true
   },
   "outputs": [],
   "source": []
  },
  {
   "cell_type": "code",
   "execution_count": 28,
   "metadata": {
    "scrolled": true
   },
   "outputs": [
    {
     "data": {
      "application/vnd.jupyter.widget-view+json": {
       "model_id": "88558f5a3fea41ffb69bb66adbb8b5ad",
       "version_major": 2,
       "version_minor": 0
      },
      "text/html": [
       "<p>Failed to display Jupyter Widget of type <code>HBox</code>.</p>\n",
       "<p>\n",
       "  If you're reading this message in the Jupyter Notebook or JupyterLab Notebook, it may mean\n",
       "  that the widgets JavaScript is still loading. If this message persists, it\n",
       "  likely means that the widgets JavaScript library is either not installed or\n",
       "  not enabled. See the <a href=\"https://ipywidgets.readthedocs.io/en/stable/user_install.html\">Jupyter\n",
       "  Widgets Documentation</a> for setup instructions.\n",
       "</p>\n",
       "<p>\n",
       "  If you're reading this message in another frontend (for example, a static\n",
       "  rendering on GitHub or <a href=\"https://nbviewer.jupyter.org/\">NBViewer</a>),\n",
       "  it may mean that your frontend doesn't currently support widgets.\n",
       "</p>\n"
      ],
      "text/plain": [
       "HBox(children=(IntProgress(value=1, bar_style='info', max=1), HTML(value='')))"
      ]
     },
     "metadata": {},
     "output_type": "display_data"
    },
    {
     "name": "stderr",
     "output_type": "stream",
     "text": [
      "Could not convert the following residue to one-hot encoding: U\n",
      "Could not convert the following residue to one-hot encoding: U\n",
      "Could not convert the following residue to one-hot encoding: U\n",
      "Could not convert the following residue to one-hot encoding: U\n",
      "Could not convert the following residue to one-hot encoding: Z\n",
      "Could not convert the following residue to one-hot encoding: Z\n",
      "Could not convert the following residue to one-hot encoding: B\n",
      "Could not convert the following residue to one-hot encoding: B\n",
      "Could not convert the following residue to one-hot encoding: B\n",
      "Could not convert the following residue to one-hot encoding: B\n",
      "Could not convert the following residue to one-hot encoding: B\n",
      "Could not convert the following residue to one-hot encoding: B\n",
      "Could not convert the following residue to one-hot encoding: B\n",
      "Could not convert the following residue to one-hot encoding: B\n",
      "Could not convert the following residue to one-hot encoding: B\n",
      "Could not convert the following residue to one-hot encoding: B\n",
      "Could not convert the following residue to one-hot encoding: B\n",
      "Could not convert the following residue to one-hot encoding: B\n",
      "Could not convert the following residue to one-hot encoding: Z\n",
      "Could not convert the following residue to one-hot encoding: Z\n",
      "Could not convert the following residue to one-hot encoding: Z\n",
      "Could not convert the following residue to one-hot encoding: Z\n",
      "Could not convert the following residue to one-hot encoding: B\n",
      "Could not convert the following residue to one-hot encoding: B\n",
      "Could not convert the following residue to one-hot encoding: Z\n",
      "Could not convert the following residue to one-hot encoding: Z\n",
      "Could not convert the following residue to one-hot encoding: Z\n",
      "Could not convert the following residue to one-hot encoding: Z\n",
      "Could not convert the following residue to one-hot encoding: B\n",
      "Could not convert the following residue to one-hot encoding: B\n",
      "Could not convert the following residue to one-hot encoding: Z\n",
      "Could not convert the following residue to one-hot encoding: Z\n",
      "Could not convert the following residue to one-hot encoding: B\n",
      "Could not convert the following residue to one-hot encoding: B\n",
      "Could not convert the following residue to one-hot encoding: Z\n",
      "Could not convert the following residue to one-hot encoding: Z\n",
      "Could not convert the following residue to one-hot encoding: B\n",
      "Could not convert the following residue to one-hot encoding: B\n",
      "Could not convert the following residue to one-hot encoding: B\n",
      "Could not convert the following residue to one-hot encoding: B\n",
      "Could not convert the following residue to one-hot encoding: Z\n",
      "Could not convert the following residue to one-hot encoding: Z\n",
      "Could not convert the following residue to one-hot encoding: B\n",
      "Could not convert the following residue to one-hot encoding: B\n",
      "Could not convert the following residue to one-hot encoding: Z\n",
      "Could not convert the following residue to one-hot encoding: Z\n"
     ]
    },
    {
     "name": "stdout",
     "output_type": "stream",
     "text": [
      "CPU times: user 2min 7s, sys: 8.56 s, total: 2min 16s\n",
      "Wall time: 2min 18s\n"
     ]
    }
   ],
   "source": [
    "%time train()"
   ]
  },
  {
   "cell_type": "code",
   "execution_count": 30,
   "metadata": {
    "scrolled": true
   },
   "outputs": [
    {
     "data": {
      "application/vnd.jupyter.widget-view+json": {
       "model_id": "58ef57667a3b4be89023fca00e27f542",
       "version_major": 2,
       "version_minor": 0
      },
      "text/html": [
       "<p>Failed to display Jupyter Widget of type <code>HBox</code>.</p>\n",
       "<p>\n",
       "  If you're reading this message in the Jupyter Notebook or JupyterLab Notebook, it may mean\n",
       "  that the widgets JavaScript is still loading. If this message persists, it\n",
       "  likely means that the widgets JavaScript library is either not installed or\n",
       "  not enabled. See the <a href=\"https://ipywidgets.readthedocs.io/en/stable/user_install.html\">Jupyter\n",
       "  Widgets Documentation</a> for setup instructions.\n",
       "</p>\n",
       "<p>\n",
       "  If you're reading this message in another frontend (for example, a static\n",
       "  rendering on GitHub or <a href=\"https://nbviewer.jupyter.org/\">NBViewer</a>),\n",
       "  it may mean that your frontend doesn't currently support widgets.\n",
       "</p>\n"
      ],
      "text/plain": [
       "HBox(children=(IntProgress(value=1, bar_style='info', max=1), HTML(value='')))"
      ]
     },
     "metadata": {},
     "output_type": "display_data"
    },
    {
     "name": "stdout",
     "output_type": "stream",
     "text": [
      "\n"
     ]
    },
    {
     "name": "stderr",
     "output_type": "stream",
     "text": [
      "Exception in thread Thread-5:\n",
      "Traceback (most recent call last):\n",
      "  File \"/home/kimlab1/strokach/anaconda3/lib/python3.6/threading.py\", line 916, in _bootstrap_inner\n",
      "    self.run()\n",
      "  File \"/home/kimlab1/strokach/anaconda3/lib/python3.6/site-packages/tqdm/_tqdm.py\", line 144, in run\n",
      "    for instance in self.tqdm_cls._instances:\n",
      "  File \"/home/kimlab1/strokach/anaconda3/lib/python3.6/_weakrefset.py\", line 60, in __iter__\n",
      "    for itemref in self.data:\n",
      "RuntimeError: Set changed size during iteration\n",
      "\n",
      "Could not convert the following residue to one-hot encoding: U\n",
      "Could not convert the following residue to one-hot encoding: U\n",
      "Could not convert the following residue to one-hot encoding: U\n",
      "Could not convert the following residue to one-hot encoding: U\n",
      "Could not convert the following residue to one-hot encoding: Z\n",
      "Could not convert the following residue to one-hot encoding: Z\n",
      "Could not convert the following residue to one-hot encoding: B\n",
      "Could not convert the following residue to one-hot encoding: B\n",
      "Could not convert the following residue to one-hot encoding: B\n",
      "Could not convert the following residue to one-hot encoding: B\n",
      "Could not convert the following residue to one-hot encoding: B\n",
      "Could not convert the following residue to one-hot encoding: B\n",
      "Could not convert the following residue to one-hot encoding: B\n",
      "Could not convert the following residue to one-hot encoding: B\n",
      "Could not convert the following residue to one-hot encoding: B\n",
      "Could not convert the following residue to one-hot encoding: B\n",
      "Could not convert the following residue to one-hot encoding: Z\n",
      "Could not convert the following residue to one-hot encoding: Z\n",
      "Could not convert the following residue to one-hot encoding: Z\n",
      "Could not convert the following residue to one-hot encoding: Z\n",
      "Could not convert the following residue to one-hot encoding: B\n",
      "Could not convert the following residue to one-hot encoding: B\n",
      "Could not convert the following residue to one-hot encoding: Z\n",
      "Could not convert the following residue to one-hot encoding: Z\n",
      "Could not convert the following residue to one-hot encoding: Z\n",
      "Could not convert the following residue to one-hot encoding: Z\n",
      "Could not convert the following residue to one-hot encoding: B\n",
      "Could not convert the following residue to one-hot encoding: B\n",
      "Could not convert the following residue to one-hot encoding: Z\n",
      "Could not convert the following residue to one-hot encoding: Z\n",
      "Could not convert the following residue to one-hot encoding: B\n",
      "Could not convert the following residue to one-hot encoding: B\n",
      "Could not convert the following residue to one-hot encoding: Z\n",
      "Could not convert the following residue to one-hot encoding: Z\n",
      "Could not convert the following residue to one-hot encoding: B\n",
      "Could not convert the following residue to one-hot encoding: B\n",
      "Could not convert the following residue to one-hot encoding: B\n",
      "Could not convert the following residue to one-hot encoding: B\n",
      "Could not convert the following residue to one-hot encoding: Z\n",
      "Could not convert the following residue to one-hot encoding: Z\n",
      "Could not convert the following residue to one-hot encoding: B\n",
      "Could not convert the following residue to one-hot encoding: B\n",
      "Could not convert the following residue to one-hot encoding: B\n",
      "Could not convert the following residue to one-hot encoding: B\n",
      "Could not convert the following residue to one-hot encoding: Z\n",
      "Could not convert the following residue to one-hot encoding: Z\n"
     ]
    },
    {
     "name": "stdout",
     "output_type": "stream",
     "text": [
      "\n",
      "CPU times: user 2min 20s, sys: 9.1 s, total: 2min 29s\n",
      "Wall time: 2min 29s\n"
     ]
    }
   ],
   "source": [
    "%time train()"
   ]
  },
  {
   "cell_type": "code",
   "execution_count": 35,
   "metadata": {},
   "outputs": [
    {
     "data": {
      "text/plain": [
       "0"
      ]
     },
     "execution_count": 35,
     "metadata": {},
     "output_type": "execute_result"
    }
   ],
   "source": [
    "import gc\n",
    "\n",
    "gc.collect()"
   ]
  },
  {
   "cell_type": "code",
   "execution_count": null,
   "metadata": {
    "collapsed": true
   },
   "outputs": [],
   "source": []
  },
  {
   "cell_type": "code",
   "execution_count": null,
   "metadata": {
    "collapsed": true
   },
   "outputs": [],
   "source": []
  },
  {
   "cell_type": "code",
   "execution_count": 29,
   "metadata": {},
   "outputs": [
    {
     "name": "stdout",
     "output_type": "stream",
     "text": [
      "The line_profiler extension is already loaded. To reload it, use:\n",
      "  %reload_ext line_profiler\n"
     ]
    }
   ],
   "source": [
    "%load_ext line_profiler"
   ]
  },
  {
   "cell_type": "code",
   "execution_count": 31,
   "metadata": {
    "scrolled": true
   },
   "outputs": [],
   "source": [
    "# %lprun -f pagnn.iter_dataset_rows train()  # 40"
   ]
  },
  {
   "cell_type": "code",
   "execution_count": 32,
   "metadata": {},
   "outputs": [
    {
     "data": {
      "text/plain": [
       "13387"
      ]
     },
     "execution_count": 32,
     "metadata": {},
     "output_type": "execute_result"
    }
   ],
   "source": [
    "import gc;\n",
    "\n",
    "gc.collect()"
   ]
  },
  {
   "cell_type": "code",
   "execution_count": 33,
   "metadata": {},
   "outputs": [
    {
     "name": "stderr",
     "output_type": "stream",
     "text": [
      "IOPub data rate exceeded.\n",
      "The notebook server will temporarily stop sending output\n",
      "to the client in order to avoid crashing it.\n",
      "To change this limit, set the config variable\n",
      "`--NotebookApp.iopub_data_rate_limit`.\n"
     ]
    }
   ],
   "source": [
    "locals()"
   ]
  },
  {
   "cell_type": "code",
   "execution_count": null,
   "metadata": {
    "collapsed": true
   },
   "outputs": [],
   "source": []
  },
  {
   "cell_type": "code",
   "execution_count": 45,
   "metadata": {},
   "outputs": [
    {
     "data": {
      "application/vnd.jupyter.widget-view+json": {
       "model_id": "33535930a8404069aa86b61a7096447b",
       "version_major": 2,
       "version_minor": 0
      },
      "text/html": [
       "<p>Failed to display Jupyter Widget of type <code>HBox</code>.</p>\n",
       "<p>\n",
       "  If you're reading this message in the Jupyter Notebook or JupyterLab Notebook, it may mean\n",
       "  that the widgets JavaScript is still loading. If this message persists, it\n",
       "  likely means that the widgets JavaScript library is either not installed or\n",
       "  not enabled. See the <a href=\"https://ipywidgets.readthedocs.io/en/stable/user_install.html\">Jupyter\n",
       "  Widgets Documentation</a> for setup instructions.\n",
       "</p>\n",
       "<p>\n",
       "  If you're reading this message in another frontend (for example, a static\n",
       "  rendering on GitHub or <a href=\"https://nbviewer.jupyter.org/\">NBViewer</a>),\n",
       "  it may mean that your frontend doesn't currently support widgets.\n",
       "</p>\n"
      ],
      "text/plain": [
       "HBox(children=(IntProgress(value=1, bar_style='info', max=1), HTML(value='')))"
      ]
     },
     "metadata": {},
     "output_type": "display_data"
    },
    {
     "name": "stderr",
     "output_type": "stream",
     "text": [
      "Could not convert the following residue to one-hot encoding: 66\n",
      "Could not convert the following residue to one-hot encoding: 66\n",
      "Could not convert the following residue to one-hot encoding: 66\n",
      "Could not convert the following residue to one-hot encoding: 66\n",
      "Could not convert the following residue to one-hot encoding: 85\n",
      "Could not convert the following residue to one-hot encoding: 85\n",
      "Could not convert the following residue to one-hot encoding: 90\n",
      "Could not convert the following residue to one-hot encoding: 90\n",
      "Could not convert the following residue to one-hot encoding: 85\n",
      "Could not convert the following residue to one-hot encoding: 85\n"
     ]
    },
    {
     "ename": "KeyboardInterrupt",
     "evalue": "",
     "output_type": "error",
     "traceback": [
      "\u001b[0;31m---------------------------------------------------------------------------\u001b[0m",
      "\u001b[0;31mKeyboardInterrupt\u001b[0m                         Traceback (most recent call last)",
      "\u001b[0;32m<ipython-input-45-37e0abc64bfa>\u001b[0m in \u001b[0;36m<module>\u001b[0;34m()\u001b[0m\n\u001b[1;32m     16\u001b[0m     \u001b[0moutput\u001b[0m \u001b[0;34m=\u001b[0m \u001b[0mnet\u001b[0m\u001b[0;34m(\u001b[0m\u001b[0maa_var\u001b[0m\u001b[0;34m,\u001b[0m \u001b[0madjs_expanded_var\u001b[0m\u001b[0;34m)\u001b[0m\u001b[0;34m\u001b[0m\u001b[0m\n\u001b[1;32m     17\u001b[0m     \u001b[0mloss\u001b[0m \u001b[0;34m=\u001b[0m \u001b[0mcriterion\u001b[0m\u001b[0;34m(\u001b[0m\u001b[0moutput\u001b[0m\u001b[0;34m,\u001b[0m \u001b[0mtargets_var\u001b[0m\u001b[0;34m)\u001b[0m\u001b[0;34m\u001b[0m\u001b[0m\n\u001b[0;32m---> 18\u001b[0;31m     \u001b[0mloss\u001b[0m\u001b[0;34m.\u001b[0m\u001b[0mbackward\u001b[0m\u001b[0;34m(\u001b[0m\u001b[0;34m)\u001b[0m\u001b[0;34m\u001b[0m\u001b[0m\n\u001b[0m\u001b[1;32m     19\u001b[0m     \u001b[0moptimizer\u001b[0m\u001b[0;34m.\u001b[0m\u001b[0mstep\u001b[0m\u001b[0;34m(\u001b[0m\u001b[0;34m)\u001b[0m  \u001b[0;31m# Does the update\u001b[0m\u001b[0;34m\u001b[0m\u001b[0m\n",
      "\u001b[0;32m~/anaconda3/lib/python3.6/site-packages/torch/autograd/variable.py\u001b[0m in \u001b[0;36mbackward\u001b[0;34m(self, gradient, retain_graph, create_graph, retain_variables)\u001b[0m\n\u001b[1;32m    154\u001b[0m                 \u001b[0mVariable\u001b[0m\u001b[0;34m.\u001b[0m\u001b[0;34m\u001b[0m\u001b[0m\n\u001b[1;32m    155\u001b[0m         \"\"\"\n\u001b[0;32m--> 156\u001b[0;31m         \u001b[0mtorch\u001b[0m\u001b[0;34m.\u001b[0m\u001b[0mautograd\u001b[0m\u001b[0;34m.\u001b[0m\u001b[0mbackward\u001b[0m\u001b[0;34m(\u001b[0m\u001b[0mself\u001b[0m\u001b[0;34m,\u001b[0m \u001b[0mgradient\u001b[0m\u001b[0;34m,\u001b[0m \u001b[0mretain_graph\u001b[0m\u001b[0;34m,\u001b[0m \u001b[0mcreate_graph\u001b[0m\u001b[0;34m,\u001b[0m \u001b[0mretain_variables\u001b[0m\u001b[0;34m)\u001b[0m\u001b[0;34m\u001b[0m\u001b[0m\n\u001b[0m\u001b[1;32m    157\u001b[0m \u001b[0;34m\u001b[0m\u001b[0m\n\u001b[1;32m    158\u001b[0m     \u001b[0;32mdef\u001b[0m \u001b[0mregister_hook\u001b[0m\u001b[0;34m(\u001b[0m\u001b[0mself\u001b[0m\u001b[0;34m,\u001b[0m \u001b[0mhook\u001b[0m\u001b[0;34m)\u001b[0m\u001b[0;34m:\u001b[0m\u001b[0;34m\u001b[0m\u001b[0m\n",
      "\u001b[0;32m~/anaconda3/lib/python3.6/site-packages/torch/autograd/__init__.py\u001b[0m in \u001b[0;36mbackward\u001b[0;34m(variables, grad_variables, retain_graph, create_graph, retain_variables)\u001b[0m\n\u001b[1;32m     96\u001b[0m \u001b[0;34m\u001b[0m\u001b[0m\n\u001b[1;32m     97\u001b[0m     Variable._execution_engine.run_backward(\n\u001b[0;32m---> 98\u001b[0;31m         variables, grad_variables, retain_graph)\n\u001b[0m\u001b[1;32m     99\u001b[0m \u001b[0;34m\u001b[0m\u001b[0m\n\u001b[1;32m    100\u001b[0m \u001b[0;34m\u001b[0m\u001b[0m\n",
      "\u001b[0;31mKeyboardInterrupt\u001b[0m: "
     ]
    }
   ],
   "source": [
    "for idx, (aa, adjs) in enumerate(tqdm.tqdm_notebook(pagnn.iter_datasets(\n",
    "        pagnn.iter_dataset_rows(training_domain_folders, training_domain_weights), 60_000))):\n",
    "    \n",
    "    aa_permuted = pagnn.permute_sequence(aa)\n",
    "    aa_ar = np.array([pagnn.get_seq_array(aa), pagnn.get_seq_array(aa_permuted)])\n",
    "    aa_var = Variable(torch.Tensor(aa_ar)).cuda()\n",
    "    \n",
    "    adjs_expanded = [pagnn.expand_adjacency(adj) for adj in adjs]\n",
    "    adjs_expanded_var = [Variable(torch.FloatTensor(adj.astype(np.float32))).cuda() for adj in adjs_expanded]\n",
    "    \n",
    "    targets = [1, 0] * len(adjs)\n",
    "    targets_var = Variable(torch.Tensor(np.array(targets, dtype=np.float32))).cuda()\n",
    "    \n",
    "    # In the training loop\n",
    "    optimizer.zero_grad()  # zero the gradient buffers\n",
    "    output = net(aa_var, adjs_expanded_var)\n",
    "    loss = criterion(output, targets_var)\n",
    "    loss.backward()\n",
    "    optimizer.step()  # Does the update"
   ]
  },
  {
   "cell_type": "code",
   "execution_count": null,
   "metadata": {
    "collapsed": true
   },
   "outputs": [],
   "source": []
  },
  {
   "cell_type": "code",
   "execution_count": null,
   "metadata": {
    "collapsed": true
   },
   "outputs": [],
   "source": []
  },
  {
   "cell_type": "code",
   "execution_count": null,
   "metadata": {
    "collapsed": true
   },
   "outputs": [],
   "source": []
  },
  {
   "cell_type": "code",
   "execution_count": null,
   "metadata": {
    "collapsed": true,
    "run_control": {
     "marked": false
    },
    "scrolled": true
   },
   "outputs": [],
   "source": [
    "# === Run ===\n",
    "next_domain_performance = []\n",
    "train_performance = []\n",
    "validation_performance = []\n",
    "\n",
    "idx = 0\n",
    "for domain_idx, domain_folder in enumerate(tqdm.tqdm_notebook(TRAINING_DOMAINS, total=len(TRAINING_DOMAINS))):\n",
    "    domain = domain_folder.partition('A%3A')[-1]\n",
    "    domain_path = ADJACENCY_MATRIX_PATH.joinpath(domain_folder)\n",
    "    for row_idx, row in enumerate(tqdm.tqdm_notebook(\n",
    "            pagnn.iter_domain_rows(domain_path, columns=columns), \n",
    "            leave=False,\n",
    "            desc=f'Domain {domain_idx}',\n",
    "            smoothing=0.9)):\n",
    "        row_key = f'/{domain}/{row_idx:05d}'\n",
    "        try:\n",
    "            dataset = pagnn.row_to_dataset(row, num_real=8, num_fake=56)\n",
    "        except pagnn.SequenceTooShortError:\n",
    "            print('Skipping short sequence...')\n",
    "            continue\n",
    "    \n",
    "        # Generate tensors\n",
    "        aa = np.array([pagnn.get_seq_array(seq) for seq in dataset.seqs])\n",
    "        aa = Variable(torch.Tensor(aa)).cuda()\n",
    "        adj_expanded = Variable(torch.FloatTensor(pagnn.expand_adjacency(dataset.adj).astype(np.float32))).cuda()\n",
    "        targets = Variable(torch.Tensor(dataset.targets.astype(np.float32)), requires_grad=False).cuda()\n",
    "\n",
    "        # In the training loop\n",
    "        optimizer.zero_grad()  # zero the gradient buffers\n",
    "        # import pdb; pdb.set_trace()\n",
    "        output = net(aa, adj_expanded, [range(aa.size()[-1])])\n",
    "        loss = criterion(output, targets)\n",
    "        loss.backward()\n",
    "        optimizer.step()  # Does the update\n",
    "\n",
    "        if idx % 100 == 0:\n",
    "            score = metrics.roc_auc_score(targets.cpu().data.numpy().astype(int), output.cpu().data.numpy())\n",
    "            train_performance.append((idx, score))\n",
    "\n",
    "        if row_idx == 0:\n",
    "            score = metrics.roc_auc_score(targets.cpu().data.numpy().astype(int), output.cpu().data.numpy())\n",
    "            next_domain_performance.append((idx, score))\n",
    "        \n",
    "        if row_idx == 0:\n",
    "            all_test_targets = []\n",
    "            all_test_predictions = []\n",
    "#             with h5py.File(VALIDATION_HDF5_FILE.as_posix(), 'r') as hdf5_file:\n",
    "#                 for grp in tqdm.tqdm_notebook(\n",
    "#                         hdf5_file, total=len(VALIDATION_DOMAINS), leave=False, desc='Validation'):\n",
    "#                     for subgrp in list(hdf5_file[grp]):\n",
    "#                         test_seqs = hdf5_file[grp][subgrp]['seqs'][:]\n",
    "#                         test_adj = hdf5_file[grp][subgrp]['adj'][:]\n",
    "#                         test_targets = hdf5_file[grp][subgrp]['targets'][:]\n",
    "\n",
    "            for test_seqs, test_adj, test_targets in tqdm.tqdm_notebook(\n",
    "                            test_data, total=len(test_data), leave=False, desc='Validation'):\n",
    "                        test_aa = np.array([pagnn.get_seq_array(seq) for seq in test_seqs])\n",
    "                        test_aa = Variable(torch.Tensor(test_aa), requires_grad=False).cuda()\n",
    "                        test_adj_expanded = Variable(\n",
    "                            torch.FloatTensor(pagnn.expand_adjacency(test_adj).astype(np.float32)),\n",
    "                            requires_grad=False).cuda()\n",
    "                        test_targets = Variable(\n",
    "                            torch.Tensor(test_targets.astype(np.float32)), requires_grad=False).cuda()\n",
    "\n",
    "                        predictions = net(test_aa, test_adj_expanded, [range(test_aa.size()[-1])])\n",
    "                        \n",
    "                        all_test_targets.append(test_targets.cpu().data.numpy())\n",
    "                        all_test_predictions.append(predictions.cpu().data.numpy())\n",
    "                        \n",
    "            all_test_targets = np.hstack(all_test_targets)\n",
    "            all_test_predictions = np.hstack(all_test_predictions)\n",
    "            score = metrics.roc_auc_score(all_test_targets, all_test_predictions)\n",
    "            validation_performance.append((idx, score))\n",
    "            print(score)\n",
    "            \n",
    "        idx += 1\n",
    "        \n",
    "        if row_idx == 1999:\n",
    "            break"
   ]
  },
  {
   "cell_type": "code",
   "execution_count": null,
   "metadata": {
    "collapsed": true
   },
   "outputs": [],
   "source": [
    "fg, ax = plt.subplots(figsize=(8, 6))\n",
    "\n",
    "plt.plot(list(zip(*train_performance))[0], list(zip(*train_performance))[1], label='train')\n",
    "plt.plot(list(zip(*next_domain_performance))[0], list(zip(*next_domain_performance))[1], 'rX', label='next domain')\n",
    "plt.plot(list(zip(*validation_performance))[0], list(zip(*validation_performance))[1], label='train', linewidth=4)\n",
    "plt.ylim = (0, 1)\n",
    "plt.legend()\n",
    "plt.xlabel('Batch number')\n",
    "plt.ylabel('ROC AUC score')"
   ]
  },
  {
   "cell_type": "code",
   "execution_count": null,
   "metadata": {
    "collapsed": true
   },
   "outputs": [],
   "source": []
  }
 ],
 "metadata": {
  "kernelspec": {
   "display_name": "Python 3",
   "language": "python",
   "name": "python3"
  },
  "language_info": {
   "codemirror_mode": {
    "name": "ipython",
    "version": 3
   },
   "file_extension": ".py",
   "mimetype": "text/x-python",
   "name": "python",
   "nbconvert_exporter": "python",
   "pygments_lexer": "ipython3",
   "version": "3.6.3"
  },
  "toc": {
   "nav_menu": {},
   "number_sections": false,
   "sideBar": false,
   "skip_h1_title": false,
   "toc_cell": false,
   "toc_position": {
    "height": "437px",
    "left": "1546.98px",
    "right": "20px",
    "top": "106.5px",
    "width": "279px"
   },
   "toc_section_display": "block",
   "toc_window_display": true
  }
 },
 "nbformat": 4,
 "nbformat_minor": 2
}
