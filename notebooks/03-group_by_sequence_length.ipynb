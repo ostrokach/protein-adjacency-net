{
 "cells": [
  {
   "cell_type": "markdown",
   "metadata": {},
   "source": [
    "# Summary\n",
    "\n",
    "---"
   ]
  },
  {
   "cell_type": "markdown",
   "metadata": {},
   "source": [
    "# Imports"
   ]
  },
  {
   "cell_type": "code",
   "execution_count": 1,
   "metadata": {
    "collapsed": true
   },
   "outputs": [],
   "source": [
    "import urllib"
   ]
  },
  {
   "cell_type": "code",
   "execution_count": 2,
   "metadata": {},
   "outputs": [
    {
     "name": "stderr",
     "output_type": "stream",
     "text": [
      "Setting the PACKAGE_NAME environment variable.\n",
      "Setting the PACKAGE_VERSION environment variable.\n",
      "Setting the DOCS_SECRET_KEY environment variable.\n",
      "Setting the PYTHON_VERSION environment variable.\n",
      "Setting the SPARK_MASTER environment variable.\n",
      "Setting the SPARK_ARGS environment variable.\n",
      "Setting the DB_TYPE environment variable.\n",
      "Setting the DB_PORT environment variable.\n"
     ]
    },
    {
     "name": "stdout",
     "output_type": "stream",
     "text": [
      "2018-01-25 18:50:44.737987\n"
     ]
    }
   ],
   "source": [
    "%run _imports.ipynb"
   ]
  },
  {
   "cell_type": "code",
   "execution_count": 3,
   "metadata": {},
   "outputs": [
    {
     "name": "stdout",
     "output_type": "stream",
     "text": [
      "/home/kimlab2/database_data/databin/uniparc_domain/0.1/adjacency_matrix.parquet\n"
     ]
    }
   ],
   "source": [
    "%run _settings.ipynb"
   ]
  },
  {
   "cell_type": "code",
   "execution_count": 4,
   "metadata": {},
   "outputs": [
    {
     "data": {
      "text/html": [
       "\n",
       "            <div>\n",
       "                <p><b>SparkSession - in-memory</b></p>\n",
       "                \n",
       "        <div>\n",
       "            <p><b>SparkContext</b></p>\n",
       "\n",
       "            <p><a href=\"http://192.168.6.102:4040\">Spark UI</a></p>\n",
       "\n",
       "            <dl>\n",
       "              <dt>Version</dt>\n",
       "                <dd><code>v2.2.0</code></dd>\n",
       "              <dt>Master</dt>\n",
       "                <dd><code>spark://192.168.6.210:7077</code></dd>\n",
       "              <dt>AppName</dt>\n",
       "                <dd><code>adjacency-net</code></dd>\n",
       "            </dl>\n",
       "        </div>\n",
       "        \n",
       "            </div>\n",
       "        "
      ],
      "text/plain": [
       "<pyspark.sql.session.SparkSession at 0x7f99c827c978>"
      ]
     },
     "metadata": {},
     "output_type": "display_data"
    }
   ],
   "source": [
    "%run _spark.ipynb"
   ]
  },
  {
   "cell_type": "markdown",
   "metadata": {},
   "source": [
    "# Parameters"
   ]
  },
  {
   "cell_type": "code",
   "execution_count": 5,
   "metadata": {
    "collapsed": true
   },
   "outputs": [],
   "source": [
    "NOTEBOOK_NAME = 'group_by_sequence_length'\n",
    "NOTEBOOK_PATH = Path(NOTEBOOK_NAME).absolute()\n",
    "\n",
    "NOTEBOOK_PATH.mkdir(parents=True, exist_ok=True)"
   ]
  },
  {
   "cell_type": "markdown",
   "metadata": {},
   "source": [
    "# Load Datasets"
   ]
  },
  {
   "cell_type": "markdown",
   "metadata": {},
   "source": [
    "## Gene3D domains"
   ]
  },
  {
   "cell_type": "code",
   "execution_count": 6,
   "metadata": {
    "collapsed": true
   },
   "outputs": [],
   "source": [
    "with open(f'generate_datasets/gene3d_domains.pickle', 'rb') as fin:\n",
    "    GENE3D_DOMAINS = pickle.load(fin)"
   ]
  },
  {
   "cell_type": "markdown",
   "metadata": {},
   "source": [
    "## Training / validation domains"
   ]
  },
  {
   "cell_type": "code",
   "execution_count": 7,
   "metadata": {
    "collapsed": true
   },
   "outputs": [],
   "source": [
    "with open(f'generate_datasets/training_domains.pickle', 'rb') as fin:\n",
    "    TRAINING_DOMAINS = pickle.load(fin)\n",
    "    \n",
    "with open(f'generate_datasets/validation_domains.pickle', 'rb') as fin:\n",
    "    VALIDATION_DOMAINS = pickle.load(fin)\n",
    "    \n",
    "with open(f'generate_datasets/test_domains.pickle', 'rb') as fin:\n",
    "    TEST_DOMAINS = pickle.load(fin)"
   ]
  },
  {
   "cell_type": "markdown",
   "metadata": {},
   "source": [
    "## Training / validation parquet files"
   ]
  },
  {
   "cell_type": "code",
   "execution_count": 8,
   "metadata": {
    "collapsed": true
   },
   "outputs": [],
   "source": [
    "with open(f'generate_datasets/training_parquet_files.pickle', 'rb') as fin:\n",
    "    TRAINING_PARQUET_FILES = pickle.load(fin)\n",
    "    \n",
    "with open(f'generate_datasets/validation_parquet_files.pickle', 'rb') as fin:\n",
    "    VALIDATION_PARQUET_FILES = pickle.load(fin)\n",
    "    \n",
    "with open(f'generate_datasets/test_parquet_files.pickle', 'rb') as fin:\n",
    "    TEST_PARQUET_FILES = pickle.load(fin)"
   ]
  },
  {
   "cell_type": "markdown",
   "metadata": {},
   "source": [
    "## Query where strings"
   ]
  },
  {
   "cell_type": "code",
   "execution_count": 9,
   "metadata": {
    "collapsed": true
   },
   "outputs": [],
   "source": [
    "TRAINING_DOMAINS_STRING = \"('{}')\".format(\"', '\".join(urllib.parse.unquote(d)[12:] for d in TRAINING_DOMAINS))"
   ]
  },
  {
   "cell_type": "code",
   "execution_count": 10,
   "metadata": {
    "collapsed": true
   },
   "outputs": [],
   "source": [
    "VALIDATION_DOMAINS_STRING = \"('{}')\".format(\"', '\".join(urllib.parse.unquote(d)[12:] for d in VALIDATION_DOMAINS))"
   ]
  },
  {
   "cell_type": "code",
   "execution_count": 11,
   "metadata": {
    "collapsed": true
   },
   "outputs": [],
   "source": [
    "TEST_DOMAINS_STRING = \"('{}')\".format(\"', '\".join(urllib.parse.unquote(d)[12:] for d in TEST_DOMAINS))"
   ]
  },
  {
   "cell_type": "code",
   "execution_count": 12,
   "metadata": {},
   "outputs": [
    {
     "name": "stdout",
     "output_type": "stream",
     "text": [
      "('G3DSA:2.40.128.20', 'G3DSA:3.50.40.10', 'G3DSA:2.60.40.830', 'G3DSA:2.20.50.20', 'G3DSA:2.40.50.240', 'G3DSA:1.10.569.10', 'G3DSA:2.40.40.10', 'G3DSA:4.10.1240.10', 'G3DSA:4.10.1080.10', 'G3DSA:3.90.1170.20', 'G3DSA:3.30.70.80', 'G3DSA:4.10.20.10', 'G3DSA:1.20.1520.10', 'G3DSA:3.30.1120.40', 'G3DSA:3.90.1650.10', 'G3DSA:1.10.250.10', 'G3DSA:1.10.1390.10', 'G3DSA:3.40.1550.10', 'G3DSA:2.60.490.10', 'G3DSA:1.10.530.40', 'G3DSA:3.30.910.10', 'G3DSA:1.20.1480.10', 'G3DSA:3.30.1390.20', 'G3DSA:1.10.150.170', 'G3DSA:1.10.238.80', 'G3DSA:3.90.1360.10', 'G3DSA:1.20.90.10', 'G3DSA:3.30.920.20', 'G3DS\n"
     ]
    }
   ],
   "source": [
    "print(TRAINING_DOMAINS_STRING[:600])"
   ]
  },
  {
   "cell_type": "markdown",
   "metadata": {},
   "source": [
    "# Group by sequence length"
   ]
  },
  {
   "cell_type": "markdown",
   "metadata": {},
   "source": [
    "## Test"
   ]
  },
  {
   "cell_type": "code",
   "execution_count": 13,
   "metadata": {
    "collapsed": true
   },
   "outputs": [],
   "source": [
    "query = spark.sql(f\"\"\"\\\n",
    "SELECT\n",
    "    am.*,\n",
    "    CAST(ROUND(LENGTH(translate(am.qseq, '-', '')) / 20) * 20 AS INT) qseq_length_bin\n",
    "FROM parquet.`{ADJACENCY_MATRIX_PATH}` am\n",
    "WHERE database_id in {VALIDATION_DOMAINS_STRING}\n",
    "\"\"\")"
   ]
  },
  {
   "cell_type": "code",
   "execution_count": 14,
   "metadata": {},
   "outputs": [
    {
     "data": {
      "text/html": [
       "<div>\n",
       "<style scoped>\n",
       "    .dataframe tbody tr th:only-of-type {\n",
       "        vertical-align: middle;\n",
       "    }\n",
       "\n",
       "    .dataframe tbody tr th {\n",
       "        vertical-align: top;\n",
       "    }\n",
       "\n",
       "    .dataframe thead th {\n",
       "        text-align: right;\n",
       "    }\n",
       "</style>\n",
       "<table border=\"1\" class=\"dataframe\">\n",
       "  <thead>\n",
       "    <tr style=\"text-align: right;\">\n",
       "      <th></th>\n",
       "      <th>uniparc_id</th>\n",
       "      <th>sequence</th>\n",
       "      <th>database</th>\n",
       "      <th>interpro_name</th>\n",
       "      <th>interpro_id</th>\n",
       "      <th>domain_start</th>\n",
       "      <th>domain_end</th>\n",
       "      <th>__index_level_0__</th>\n",
       "      <th>domain_length</th>\n",
       "      <th>structure_id</th>\n",
       "      <th>model_id</th>\n",
       "      <th>chain_id</th>\n",
       "      <th>pc_identity</th>\n",
       "      <th>alignment_length</th>\n",
       "      <th>mismatches</th>\n",
       "      <th>gap_opens</th>\n",
       "      <th>q_start</th>\n",
       "      <th>q_end</th>\n",
       "      <th>s_start</th>\n",
       "      <th>s_end</th>\n",
       "      <th>evalue_log10</th>\n",
       "      <th>bitscore</th>\n",
       "      <th>qseq</th>\n",
       "      <th>sseq</th>\n",
       "      <th>a2b</th>\n",
       "      <th>b2a</th>\n",
       "      <th>residue_idx_1</th>\n",
       "      <th>residue_idx_2</th>\n",
       "      <th>residue_id_1</th>\n",
       "      <th>residue_id_2</th>\n",
       "      <th>residue_aa_1</th>\n",
       "      <th>residue_aa_2</th>\n",
       "      <th>residue_idx_1_corrected</th>\n",
       "      <th>residue_idx_2_corrected</th>\n",
       "      <th>database_id</th>\n",
       "      <th>qseq_length_bin</th>\n",
       "    </tr>\n",
       "  </thead>\n",
       "  <tbody>\n",
       "    <tr>\n",
       "      <th>0</th>\n",
       "      <td>UPI0006697D87</td>\n",
       "      <td>AAAGALAVTLFAGVFLLPLAVILLSSLSKQWNGLLPTGFTFAHFVNAFRGAAWDSLFSSLMVGFCASLLALLCGMWAALALRQYGATLQKYLGLAFYLPSAIPSVSVGLGILVAFS...</td>\n",
       "      <td>Gene3D</td>\n",
       "      <td>MetI-like superfamily</td>\n",
       "      <td>IPR035906</td>\n",
       "      <td>10</td>\n",
       "      <td>265</td>\n",
       "      <td>849493775</td>\n",
       "      <td>256</td>\n",
       "      <td>2ONK</td>\n",
       "      <td>0.0</td>\n",
       "      <td>E</td>\n",
       "      <td>26.82</td>\n",
       "      <td>179.0</td>\n",
       "      <td>119.0</td>\n",
       "      <td>5.0</td>\n",
       "      <td>39.0</td>\n",
       "      <td>206.0</td>\n",
       "      <td>33.0</td>\n",
       "      <td>210.0</td>\n",
       "      <td>-5.698970</td>\n",
       "      <td>49.3</td>\n",
       "      <td>FTFAHFVNAFRG-AAWDSLFSSLMVGFCASLLALLCGMWAALALRQYGATLQKYLGLAFYLPSAIPSVSVGLGILVAF-------SQGPLQ-MNGTFWIVLAAHFVLISAFTFSNV...</td>\n",
       "      <td>FNFDEFLKAASDPAVWKVVLTTYYAALISTLIAVIFGTPLAYILARKSFPGKSVVEGIVDLPVVIPHTVAGIALLVVFGSSGLIGSFSPLKFVDALPGIVVAMLFVSVPIY-INQA...</td>\n",
       "      <td>[1.0, 2.0, 3.0, 4.0, 5.0, 6.0, 7.0, 8.0, 9.0, 10.0, 11.0, 12.0, None, 13.0, 14.0, 15.0, 16.0, 17.0, 18.0, 19.0, 20.0...</td>\n",
       "      <td>[1.0, 2.0, 3.0, 4.0, 5.0, 6.0, 7.0, 8.0, 9.0, 10.0, 11.0, 12.0, 14.0, 15.0, 16.0, 17.0, 18.0, 19.0, 20.0, 21.0, 22.0...</td>\n",
       "      <td>[32.0, 32.0, 33.0, 33.0, 33.0, 33.0, 33.0, 34.0, 34.0, 34.0, 34.0, 34.0, 34.0, 34.0, 35.0, 35.0, 35.0, 35.0, 35.0, 3...</td>\n",
       "      <td>[33.0, 34.0, 32.0, 34.0, 35.0, 36.0, 37.0, 32.0, 33.0, 35.0, 36.0, 37.0, 38.0, 39.0, 33.0, 34.0, 36.0, 37.0, 38.0, 3...</td>\n",
       "      <td>[56.0, 56.0, 57.0, 57.0, 57.0, 57.0, 57.0, 58.0, 58.0, 58.0, 58.0, 58.0, 58.0, 58.0, 59.0, 59.0, 59.0, 59.0, 59.0, 5...</td>\n",
       "      <td>[57.0, 58.0, 56.0, 58.0, 59.0, 60.0, 61.0, 56.0, 57.0, 59.0, 60.0, 61.0, 62.0, 63.0, 57.0, 58.0, 60.0, 61.0, 62.0, 6...</td>\n",
       "      <td>[F, F, N, N, N, N, N, F, F, F, F, F, F, F, D, D, D, D, D, D, D, E, E, E, E, E, E, E, E, F, F, F, F, F, F, F, F, L, L...</td>\n",
       "      <td>[N, F, F, F, D, E, F, F, N, D, E, F, L, K, N, F, E, F, L, K, A, N, F, D, F, L, K, A, A, N, F, D, E, L, K, A, A, F, D...</td>\n",
       "      <td>[0.0, 0.0, 1.0, 1.0, 1.0, 1.0, 1.0, 2.0, 2.0, 2.0, 2.0, 2.0, 2.0, 2.0, 3.0, 3.0, 3.0, 3.0, 3.0, 3.0, 3.0, 4.0, 4.0, ...</td>\n",
       "      <td>[1.0, 2.0, 0.0, 2.0, 3.0, 4.0, 5.0, 0.0, 1.0, 3.0, 4.0, 5.0, 6.0, 7.0, 1.0, 2.0, 4.0, 5.0, 6.0, 7.0, 8.0, 1.0, 2.0, ...</td>\n",
       "      <td>G3DSA:1.10.3720.10</td>\n",
       "      <td>160</td>\n",
       "    </tr>\n",
       "    <tr>\n",
       "      <th>1</th>\n",
       "      <td>UPI000851A9D7</td>\n",
       "      <td>AAAKLLLLALVAAVVVPVLHGRWGGGIWPEALTADLSAPLGEVTDWIVSNRDSHPLFLYFFGHISNAVVLSVRGVYLVLLALGWAGVTVFGAAVAWRVAGIRLALTAGVSFLLCGL...</td>\n",
       "      <td>Gene3D</td>\n",
       "      <td>MetI-like superfamily</td>\n",
       "      <td>IPR035906</td>\n",
       "      <td>29</td>\n",
       "      <td>339</td>\n",
       "      <td>234660127</td>\n",
       "      <td>311</td>\n",
       "      <td>4YMU</td>\n",
       "      <td>0.0</td>\n",
       "      <td>C</td>\n",
       "      <td>26.14</td>\n",
       "      <td>153.0</td>\n",
       "      <td>106.0</td>\n",
       "      <td>3.0</td>\n",
       "      <td>126.0</td>\n",
       "      <td>271.0</td>\n",
       "      <td>22.0</td>\n",
       "      <td>174.0</td>\n",
       "      <td>-1.431798</td>\n",
       "      <td>36.2</td>\n",
       "      <td>TLALMVVAVLASVVLGLLLGLAAGLSDRVFRIL-RPVLDTMQVLPAFAYLLPV---VLVFGIGVPG---AVLATVVYAAPPMARLTALGLRGADSGVMEAVTSLGATGRQRLLSAR...</td>\n",
       "      <td>TLKLTFLAVTIGVLMGLFIALMKMSSIKPIKLVASSYIEVIRGTPLLVQLLLIYNGLMQFGMNIPAFTAGVSALAINSSAYVAEIIRAGIQAVDPGQNEAARSLGMTHAMAMRYVI...</td>\n",
       "      <td>[1.0, 2.0, 3.0, 4.0, 5.0, 6.0, 7.0, 8.0, 9.0, 10.0, 11.0, 12.0, 13.0, 14.0, 15.0, 16.0, 17.0, 18.0, 19.0, 20.0, 21.0...</td>\n",
       "      <td>[1.0, 2.0, 3.0, 4.0, 5.0, 6.0, 7.0, 8.0, 9.0, 10.0, 11.0, 12.0, 13.0, 14.0, 15.0, 16.0, 17.0, 18.0, 19.0, 20.0, 21.0...</td>\n",
       "      <td>[21.0, 21.0, 21.0, 21.0, 21.0, 21.0, 21.0, 21.0, 21.0, 21.0, 22.0, 22.0, 22.0, 22.0, 22.0, 22.0, 22.0, 23.0, 23.0, 2...</td>\n",
       "      <td>[22.0, 23.0, 24.0, 25.0, 26.0, 156.0, 159.0, 169.0, 170.0, 171.0, 21.0, 23.0, 24.0, 25.0, 26.0, 27.0, 156.0, 21.0, 2...</td>\n",
       "      <td>[22.0, 22.0, 22.0, 22.0, 22.0, 22.0, 22.0, 22.0, 22.0, 22.0, 23.0, 23.0, 23.0, 23.0, 23.0, 23.0, 23.0, 24.0, 24.0, 2...</td>\n",
       "      <td>[23.0, 24.0, 25.0, 26.0, 27.0, 157.0, 160.0, 170.0, 171.0, 172.0, 22.0, 24.0, 25.0, 26.0, 27.0, 28.0, 157.0, 22.0, 2...</td>\n",
       "      <td>[T, T, T, T, T, T, T, T, T, T, L, L, L, L, L, L, L, K, K, K, K, K, K, K, K, L, L, L, L, L, L, L, L, L, L, L, L, L, L...</td>\n",
       "      <td>[L, K, L, T, F, L, S, D, L, T, T, K, L, T, F, L, L, T, L, L, T, F, L, A, F, T, L, K, T, F, L, A, V, F, G, V, L, S, V...</td>\n",
       "      <td>[0.0, 0.0, 0.0, 0.0, 0.0, 0.0, 0.0, 0.0, 0.0, 0.0, 1.0, 1.0, 1.0, 1.0, 1.0, 1.0, 1.0, 2.0, 2.0, 2.0, 2.0, 2.0, 2.0, ...</td>\n",
       "      <td>[1.0, 2.0, 3.0, 4.0, 5.0, 128.0, 131.0, 141.0, 142.0, 143.0, 0.0, 2.0, 3.0, 4.0, 5.0, 6.0, 128.0, 0.0, 1.0, 3.0, 4.0...</td>\n",
       "      <td>G3DSA:1.10.3720.10</td>\n",
       "      <td>140</td>\n",
       "    </tr>\n",
       "  </tbody>\n",
       "</table>\n",
       "</div>"
      ],
      "text/plain": [
       "      uniparc_id                                                                                                                 sequence database          interpro_name interpro_id  domain_start  domain_end  __index_level_0__  domain_length structure_id  model_id chain_id  pc_identity  alignment_length  mismatches  gap_opens  q_start  q_end  s_start  s_end  evalue_log10  bitscore                                                                                                                     qseq                                                                                                                     sseq                                                                                                                      a2b                                                                                                                      b2a                                                                                                            residue_idx_1  \\\n",
       "0  UPI0006697D87  AAAGALAVTLFAGVFLLPLAVILLSSLSKQWNGLLPTGFTFAHFVNAFRGAAWDSLFSSLMVGFCASLLALLCGMWAALALRQYGATLQKYLGLAFYLPSAIPSVSVGLGILVAFS...   Gene3D  MetI-like superfamily   IPR035906            10         265          849493775            256         2ONK       0.0        E        26.82             179.0       119.0        5.0     39.0  206.0     33.0  210.0     -5.698970      49.3  FTFAHFVNAFRG-AAWDSLFSSLMVGFCASLLALLCGMWAALALRQYGATLQKYLGLAFYLPSAIPSVSVGLGILVAF-------SQGPLQ-MNGTFWIVLAAHFVLISAFTFSNV...  FNFDEFLKAASDPAVWKVVLTTYYAALISTLIAVIFGTPLAYILARKSFPGKSVVEGIVDLPVVIPHTVAGIALLVVFGSSGLIGSFSPLKFVDALPGIVVAMLFVSVPIY-INQA...  [1.0, 2.0, 3.0, 4.0, 5.0, 6.0, 7.0, 8.0, 9.0, 10.0, 11.0, 12.0, None, 13.0, 14.0, 15.0, 16.0, 17.0, 18.0, 19.0, 20.0...  [1.0, 2.0, 3.0, 4.0, 5.0, 6.0, 7.0, 8.0, 9.0, 10.0, 11.0, 12.0, 14.0, 15.0, 16.0, 17.0, 18.0, 19.0, 20.0, 21.0, 22.0...  [32.0, 32.0, 33.0, 33.0, 33.0, 33.0, 33.0, 34.0, 34.0, 34.0, 34.0, 34.0, 34.0, 34.0, 35.0, 35.0, 35.0, 35.0, 35.0, 3...   \n",
       "1  UPI000851A9D7  AAAKLLLLALVAAVVVPVLHGRWGGGIWPEALTADLSAPLGEVTDWIVSNRDSHPLFLYFFGHISNAVVLSVRGVYLVLLALGWAGVTVFGAAVAWRVAGIRLALTAGVSFLLCGL...   Gene3D  MetI-like superfamily   IPR035906            29         339          234660127            311         4YMU       0.0        C        26.14             153.0       106.0        3.0    126.0  271.0     22.0  174.0     -1.431798      36.2  TLALMVVAVLASVVLGLLLGLAAGLSDRVFRIL-RPVLDTMQVLPAFAYLLPV---VLVFGIGVPG---AVLATVVYAAPPMARLTALGLRGADSGVMEAVTSLGATGRQRLLSAR...  TLKLTFLAVTIGVLMGLFIALMKMSSIKPIKLVASSYIEVIRGTPLLVQLLLIYNGLMQFGMNIPAFTAGVSALAINSSAYVAEIIRAGIQAVDPGQNEAARSLGMTHAMAMRYVI...  [1.0, 2.0, 3.0, 4.0, 5.0, 6.0, 7.0, 8.0, 9.0, 10.0, 11.0, 12.0, 13.0, 14.0, 15.0, 16.0, 17.0, 18.0, 19.0, 20.0, 21.0...  [1.0, 2.0, 3.0, 4.0, 5.0, 6.0, 7.0, 8.0, 9.0, 10.0, 11.0, 12.0, 13.0, 14.0, 15.0, 16.0, 17.0, 18.0, 19.0, 20.0, 21.0...  [21.0, 21.0, 21.0, 21.0, 21.0, 21.0, 21.0, 21.0, 21.0, 21.0, 22.0, 22.0, 22.0, 22.0, 22.0, 22.0, 22.0, 23.0, 23.0, 2...   \n",
       "\n",
       "                                                                                                             residue_idx_2                                                                                                             residue_id_1                                                                                                             residue_id_2                                                                                                             residue_aa_1                                                                                                             residue_aa_2                                                                                                  residue_idx_1_corrected                                                                                                  residue_idx_2_corrected         database_id  qseq_length_bin  \n",
       "0  [33.0, 34.0, 32.0, 34.0, 35.0, 36.0, 37.0, 32.0, 33.0, 35.0, 36.0, 37.0, 38.0, 39.0, 33.0, 34.0, 36.0, 37.0, 38.0, 3...  [56.0, 56.0, 57.0, 57.0, 57.0, 57.0, 57.0, 58.0, 58.0, 58.0, 58.0, 58.0, 58.0, 58.0, 59.0, 59.0, 59.0, 59.0, 59.0, 5...  [57.0, 58.0, 56.0, 58.0, 59.0, 60.0, 61.0, 56.0, 57.0, 59.0, 60.0, 61.0, 62.0, 63.0, 57.0, 58.0, 60.0, 61.0, 62.0, 6...  [F, F, N, N, N, N, N, F, F, F, F, F, F, F, D, D, D, D, D, D, D, E, E, E, E, E, E, E, E, F, F, F, F, F, F, F, F, L, L...  [N, F, F, F, D, E, F, F, N, D, E, F, L, K, N, F, E, F, L, K, A, N, F, D, F, L, K, A, A, N, F, D, E, L, K, A, A, F, D...  [0.0, 0.0, 1.0, 1.0, 1.0, 1.0, 1.0, 2.0, 2.0, 2.0, 2.0, 2.0, 2.0, 2.0, 3.0, 3.0, 3.0, 3.0, 3.0, 3.0, 3.0, 4.0, 4.0, ...  [1.0, 2.0, 0.0, 2.0, 3.0, 4.0, 5.0, 0.0, 1.0, 3.0, 4.0, 5.0, 6.0, 7.0, 1.0, 2.0, 4.0, 5.0, 6.0, 7.0, 8.0, 1.0, 2.0, ...  G3DSA:1.10.3720.10              160  \n",
       "1  [22.0, 23.0, 24.0, 25.0, 26.0, 156.0, 159.0, 169.0, 170.0, 171.0, 21.0, 23.0, 24.0, 25.0, 26.0, 27.0, 156.0, 21.0, 2...  [22.0, 22.0, 22.0, 22.0, 22.0, 22.0, 22.0, 22.0, 22.0, 22.0, 23.0, 23.0, 23.0, 23.0, 23.0, 23.0, 23.0, 24.0, 24.0, 2...  [23.0, 24.0, 25.0, 26.0, 27.0, 157.0, 160.0, 170.0, 171.0, 172.0, 22.0, 24.0, 25.0, 26.0, 27.0, 28.0, 157.0, 22.0, 2...  [T, T, T, T, T, T, T, T, T, T, L, L, L, L, L, L, L, K, K, K, K, K, K, K, K, L, L, L, L, L, L, L, L, L, L, L, L, L, L...  [L, K, L, T, F, L, S, D, L, T, T, K, L, T, F, L, L, T, L, L, T, F, L, A, F, T, L, K, T, F, L, A, V, F, G, V, L, S, V...  [0.0, 0.0, 0.0, 0.0, 0.0, 0.0, 0.0, 0.0, 0.0, 0.0, 1.0, 1.0, 1.0, 1.0, 1.0, 1.0, 1.0, 2.0, 2.0, 2.0, 2.0, 2.0, 2.0, ...  [1.0, 2.0, 3.0, 4.0, 5.0, 128.0, 131.0, 141.0, 142.0, 143.0, 0.0, 2.0, 3.0, 4.0, 5.0, 6.0, 128.0, 0.0, 1.0, 3.0, 4.0...  G3DSA:1.10.3720.10              140  "
      ]
     },
     "execution_count": 14,
     "metadata": {},
     "output_type": "execute_result"
    }
   ],
   "source": [
    "df = query.limit(2).toPandas()\n",
    "df"
   ]
  },
  {
   "cell_type": "markdown",
   "metadata": {},
   "source": [
    "## Partition by sequence length"
   ]
  },
  {
   "cell_type": "code",
   "execution_count": 25,
   "metadata": {
    "scrolled": false
   },
   "outputs": [
    {
     "name": "stdout",
     "output_type": "stream",
     "text": [
      "training 0\t\tskiping...\n",
      "training 40\t\tskiping...\n",
      "training 60\t\tskiping...\n",
      "training 80\t\tskiping...\n",
      "validation 0\t\tskiping...\n",
      "validation 40\t\tskiping...\n",
      "validation 60\t\tskiping...\n",
      "validation 80\t\tskiping...\n",
      "test 0\t\tskiping...\n",
      "test 40\n",
      "test 60\n",
      "test 80\n"
     ]
    }
   ],
   "source": [
    "for subset in ['training', 'validation', 'test']:\n",
    "    for cutoff in [0, 40, 60, 80]:\n",
    "        print(subset, cutoff, end='')\n",
    "        if (subset, cutoff) in seen:\n",
    "            print(\"\\t\\tskiping...\", flush=True)\n",
    "            continue\n",
    "        else:\n",
    "            print(flush=True)       \n",
    "        input_path = op.abspath(f'threshold_by_pc_identity/adjacency_matrix_{subset}_gt{cutoff}.parquet')\n",
    "        output_path = NOTEBOOK_PATH.joinpath(f'adjacency_matrix_{subset}_gt{cutoff}_gbseqlen.parquet').absolute()\n",
    "        output_path.mkdir(parents=True, exist_ok=True)\n",
    "        query = spark.sql(dedent(f\"\"\"\\\n",
    "            SELECT\n",
    "                am.*,\n",
    "                LENGTH(translate(am.qseq, '-', '')) qseq_length,\n",
    "                CAST(FLOOR(LENGTH(translate(am.qseq, '-', '')) / 20) * 20 AS INT) qseq_length_bin\n",
    "            FROM parquet.`{input_path}` am\n",
    "            \"\"\"))\n",
    "        query.write.parquet(\n",
    "            output_path.as_posix(),\n",
    "            mode='overwrite',\n",
    "            partitionBy='qseq_length_bin',\n",
    "        )"
   ]
  },
  {
   "cell_type": "code",
   "execution_count": null,
   "metadata": {
    "collapsed": true
   },
   "outputs": [],
   "source": []
  }
 ],
 "metadata": {
  "kernelspec": {
   "display_name": "Python 3",
   "language": "python",
   "name": "python3"
  },
  "language_info": {
   "codemirror_mode": {
    "name": "ipython",
    "version": 3
   },
   "file_extension": ".py",
   "mimetype": "text/x-python",
   "name": "python",
   "nbconvert_exporter": "python",
   "pygments_lexer": "ipython3",
   "version": "3.6.3"
  },
  "toc": {
   "nav_menu": {},
   "number_sections": false,
   "sideBar": false,
   "skip_h1_title": false,
   "toc_cell": false,
   "toc_position": {
    "height": "461px",
    "left": "1651.25px",
    "right": "20px",
    "top": "106.354px",
    "width": "391px"
   },
   "toc_section_display": "block",
   "toc_window_display": true
  }
 },
 "nbformat": 4,
 "nbformat_minor": 2
}
