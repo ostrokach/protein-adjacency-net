{
 "cells": [
  {
   "cell_type": "markdown",
   "metadata": {},
   "source": [
    "# Summary"
   ]
  },
  {
   "cell_type": "markdown",
   "metadata": {},
   "source": [
    "# Imports"
   ]
  },
  {
   "cell_type": "code",
   "execution_count": 1,
   "metadata": {},
   "outputs": [],
   "source": [
    "import pyarrow"
   ]
  },
  {
   "cell_type": "code",
   "execution_count": 2,
   "metadata": {},
   "outputs": [],
   "source": [
    "import concurrent.futures\n",
    "import itertools\n",
    "import multiprocessing\n",
    "import os\n",
    "import os.path as op\n",
    "import pickle\n",
    "import subprocess\n",
    "import tempfile\n",
    "from functools import partial\n",
    "from pathlib import Path\n",
    "\n",
    "import numpy as np\n",
    "import matplotlib.pyplot as plt\n",
    "import pandas as pd\n",
    "import pyarrow as pa\n",
    "import pyarrow.parquet as pq\n",
    "import seaborn as sns\n",
    "import sqlalchemy as sa\n",
    "from scipy import stats\n",
    "\n",
    "from kmtools import py_tools, sequence_tools"
   ]
  },
  {
   "cell_type": "code",
   "execution_count": 3,
   "metadata": {},
   "outputs": [],
   "source": [
    "%matplotlib inline"
   ]
  },
  {
   "cell_type": "code",
   "execution_count": 4,
   "metadata": {},
   "outputs": [],
   "source": [
    "pd.set_option(\"max_columns\", 100)"
   ]
  },
  {
   "cell_type": "markdown",
   "metadata": {},
   "source": [
    "# Parameters"
   ]
  },
  {
   "cell_type": "code",
   "execution_count": 5,
   "metadata": {},
   "outputs": [
    {
     "data": {
      "text/plain": [
       "PosixPath('validation_training_stats')"
      ]
     },
     "execution_count": 5,
     "metadata": {},
     "output_type": "execute_result"
    }
   ],
   "source": [
    "NOTEBOOK_PATH = Path('validation_training_stats')\n",
    "NOTEBOOK_PATH"
   ]
  },
  {
   "cell_type": "code",
   "execution_count": 6,
   "metadata": {},
   "outputs": [
    {
     "data": {
      "text/plain": [
       "PosixPath('/scratch/strokach/datapkg/adjacency-net-v2/notebooks/validation_training_stats')"
      ]
     },
     "execution_count": 6,
     "metadata": {},
     "output_type": "execute_result"
    }
   ],
   "source": [
    "OUTPUT_PATH = Path(os.getenv('OUTPUT_DIR', NOTEBOOK_PATH.name)).resolve()\n",
    "OUTPUT_PATH.mkdir(parents=True, exist_ok=True)\n",
    "OUTPUT_PATH"
   ]
  },
  {
   "cell_type": "code",
   "execution_count": null,
   "metadata": {},
   "outputs": [],
   "source": [
    "proc = subprocess.run([\"git\", \"rev-parse\", \"--short\", \"HEAD\"], stdout=subprocess.PIPE)\n",
    "GIT_REV = proc.stdout.decode().strip()\n",
    "GIT_REV"
   ]
  },
  {
   "cell_type": "code",
   "execution_count": 7,
   "metadata": {},
   "outputs": [
    {
     "data": {
      "text/plain": [
       "(None, None)"
      ]
     },
     "execution_count": 7,
     "metadata": {},
     "output_type": "execute_result"
    }
   ],
   "source": [
    "TASK_ID = os.getenv(\"SLURM_ARRAY_TASK_ID\")\n",
    "TASK_COUNT = os.getenv(\"ORIGINAL_ARRAY_TASK_COUNT\") or os.getenv(\"SLURM_ARRAY_TASK_COUNT\")\n",
    "NETWORK_NAME = os.getenv(\"NETWORK_NAME\", GIT_REV)\n",
    "\n",
    "TASK_ID = int(TASK_ID) if TASK_ID is not None else None\n",
    "TASK_COUNT = int(TASK_COUNT) if TASK_COUNT is not None else None\n",
    "\n",
    "TASK_ID, TASK_COUNT"
   ]
  },
  {
   "cell_type": "code",
   "execution_count": 8,
   "metadata": {},
   "outputs": [
    {
     "data": {
      "text/plain": [
       "True"
      ]
     },
     "execution_count": 8,
     "metadata": {},
     "output_type": "execute_result"
    }
   ],
   "source": [
    "DEBUG = \"CI\" not in os.environ    \n",
    "DEBUG"
   ]
  },
  {
   "cell_type": "code",
   "execution_count": 9,
   "metadata": {},
   "outputs": [
    {
     "data": {
      "text/plain": [
       "'9c5a963'"
      ]
     },
     "execution_count": 9,
     "metadata": {},
     "output_type": "execute_result"
    }
   ],
   "source": [
    "if DEBUG:\n",
    "    NETWORK_NAME = \"9c5a963\"\n",
    "else:\n",
    "    assert NETWORK_NAME is not None\n",
    "    \n",
    "NETWORK_NAME"
   ]
  },
  {
   "cell_type": "code",
   "execution_count": 10,
   "metadata": {},
   "outputs": [],
   "source": [
    "# if DEBUG:\n",
    "#     %load_ext autoreload\n",
    "#     %autoreload 2"
   ]
  },
  {
   "cell_type": "markdown",
   "metadata": {},
   "source": [
    "# `DATAPKG`"
   ]
  },
  {
   "cell_type": "code",
   "execution_count": 11,
   "metadata": {},
   "outputs": [],
   "source": [
    "DATAPKG = {}"
   ]
  },
  {
   "cell_type": "code",
   "execution_count": 12,
   "metadata": {},
   "outputs": [],
   "source": [
    "DATAPKG['uniparc-domain-wstructure'] = (\n",
    "    Path(os.environ['DATAPKG_OUTPUT_DIR'])\n",
    "    .joinpath(\"uniparc-domain-wstructure\", \"master\")\n",
    ")"
   ]
  },
  {
   "cell_type": "code",
   "execution_count": 13,
   "metadata": {},
   "outputs": [],
   "source": [
    "DATAPKG['adjacency_net_v2'] = (\n",
    "    Path(os.environ['DATAPKG_OUTPUT_DIR'])\n",
    "    .joinpath(\"adjacency-net-v2\", \"master\")\n",
    ")"
   ]
  },
  {
   "cell_type": "code",
   "execution_count": 14,
   "metadata": {},
   "outputs": [],
   "source": [
    "DATAPKG['hhsuite-wstructure'] = (\n",
    "    Path(os.environ['DATAPKG_OUTPUT_DIR'])\n",
    "    .joinpath(\"hhsuite-wstructure\", \"master\")\n",
    ")"
   ]
  },
  {
   "cell_type": "markdown",
   "metadata": {},
   "source": [
    "# Network evaluation"
   ]
  },
  {
   "cell_type": "code",
   "execution_count": 15,
   "metadata": {},
   "outputs": [],
   "source": [
    "%run trained_networks.ipynb"
   ]
  },
  {
   "cell_type": "code",
   "execution_count": 16,
   "metadata": {
    "code_folding": []
   },
   "outputs": [],
   "source": [
    "def predict_with_dcn_old(input_, network_info, network_state):\n",
    "    from pagnn.prediction.dcn_old import Args, main\n",
    "    args = Args(network_info=network_info, network_state=network_state)\n",
    "    output_df = main(args, input_)\n",
    "    return output_df"
   ]
  },
  {
   "cell_type": "code",
   "execution_count": 17,
   "metadata": {
    "code_folding": []
   },
   "outputs": [],
   "source": [
    "def predict_with_dcn(input_, network_info, network_state):\n",
    "    from pagnn.prediction.dcn import Args, main\n",
    "    args = Args(network_info=network_info, network_state=network_state)\n",
    "    output_df = main(args, input_)\n",
    "    return output_df"
   ]
  },
  {
   "cell_type": "markdown",
   "metadata": {},
   "source": [
    "## Training statistics"
   ]
  },
  {
   "cell_type": "markdown",
   "metadata": {},
   "source": [
    "### Load data"
   ]
  },
  {
   "cell_type": "code",
   "execution_count": 18,
   "metadata": {},
   "outputs": [],
   "source": [
    "engine = sa.create_engine(f\"sqlite:///{TRAINED_NETWORKS[NETWORK_NAME]['stats_db']}\")"
   ]
  },
  {
   "cell_type": "code",
   "execution_count": 19,
   "metadata": {},
   "outputs": [
    {
     "data": {
      "text/plain": [
       "['info', 'stats']"
      ]
     },
     "execution_count": 19,
     "metadata": {},
     "output_type": "execute_result"
    }
   ],
   "source": [
    "engine.table_names()"
   ]
  },
  {
   "cell_type": "code",
   "execution_count": 20,
   "metadata": {},
   "outputs": [],
   "source": [
    "info_df = pd.read_sql_table(\"info\", engine)"
   ]
  },
  {
   "cell_type": "code",
   "execution_count": 21,
   "metadata": {},
   "outputs": [],
   "source": [
    "stats_df = pd.read_sql_table(\"stats\", engine)"
   ]
  },
  {
   "cell_type": "markdown",
   "metadata": {},
   "source": [
    "### Extract data"
   ]
  },
  {
   "cell_type": "code",
   "execution_count": 22,
   "metadata": {},
   "outputs": [
    {
     "data": {
      "text/html": [
       "<div>\n",
       "<style scoped>\n",
       "    .dataframe tbody tr th:only-of-type {\n",
       "        vertical-align: middle;\n",
       "    }\n",
       "\n",
       "    .dataframe tbody tr th {\n",
       "        vertical-align: top;\n",
       "    }\n",
       "\n",
       "    .dataframe thead th {\n",
       "        text-align: right;\n",
       "    }\n",
       "</style>\n",
       "<table border=\"1\" class=\"dataframe\">\n",
       "  <thead>\n",
       "    <tr style=\"text-align: right;\">\n",
       "      <th></th>\n",
       "      <th>info_id</th>\n",
       "      <th>step</th>\n",
       "      <th>sequence_number</th>\n",
       "      <th>time_between_checkpoints</th>\n",
       "      <th>validation_gan_permute_80_1000-auc</th>\n",
       "      <th>validation_gan_exact_80_1000-auc</th>\n",
       "      <th>training_pos-auc</th>\n",
       "      <th>preds-mean</th>\n",
       "      <th>targets-mean</th>\n",
       "      <th>losses-mean</th>\n",
       "      <th>model_location</th>\n",
       "      <th>preds</th>\n",
       "      <th>targets</th>\n",
       "      <th>losses</th>\n",
       "    </tr>\n",
       "  </thead>\n",
       "  <tbody>\n",
       "    <tr>\n",
       "      <th>0</th>\n",
       "      <td>0</td>\n",
       "      <td>0</td>\n",
       "      <td>0</td>\n",
       "      <td>NaN</td>\n",
       "      <td>0.517054</td>\n",
       "      <td>0.493989</td>\n",
       "      <td>0.489862</td>\n",
       "      <td>0.568220</td>\n",
       "      <td>0.015625</td>\n",
       "      <td>0.836556</td>\n",
       "      <td>models/model_000000000000.state</td>\n",
       "      <td>b'\\x80\\x04\\x95\\r\\x90\\x00\\x00\\x00\\x00\\x00\\x00]\\...</td>\n",
       "      <td>b'\\x80\\x04\\x95\\r\\x90\\x00\\x00\\x00\\x00\\x00\\x00]\\...</td>\n",
       "      <td>b'\\x80\\x04\\x95\\r\\x00\\x00\\x00\\x00\\x00\\x00\\x00]\\...</td>\n",
       "    </tr>\n",
       "    <tr>\n",
       "      <th>1</th>\n",
       "      <td>0</td>\n",
       "      <td>3</td>\n",
       "      <td>192</td>\n",
       "      <td>108.959814</td>\n",
       "      <td>NaN</td>\n",
       "      <td>NaN</td>\n",
       "      <td>0.493044</td>\n",
       "      <td>0.561452</td>\n",
       "      <td>0.015625</td>\n",
       "      <td>0.821453</td>\n",
       "      <td>None</td>\n",
       "      <td>b'\\x80\\x04\\x95\\r\\x90\\x00\\x00\\x00\\x00\\x00\\x00]\\...</td>\n",
       "      <td>b'\\x80\\x04\\x95\\r\\x90\\x00\\x00\\x00\\x00\\x00\\x00]\\...</td>\n",
       "      <td>b'\\x80\\x04\\x95\\r\\x00\\x00\\x00\\x00\\x00\\x00\\x00]\\...</td>\n",
       "    </tr>\n",
       "  </tbody>\n",
       "</table>\n",
       "</div>"
      ],
      "text/plain": [
       "   info_id  step  sequence_number  time_between_checkpoints  \\\n",
       "0        0     0                0                       NaN   \n",
       "1        0     3              192                108.959814   \n",
       "\n",
       "   validation_gan_permute_80_1000-auc  validation_gan_exact_80_1000-auc  \\\n",
       "0                            0.517054                          0.493989   \n",
       "1                                 NaN                               NaN   \n",
       "\n",
       "   training_pos-auc  preds-mean  targets-mean  losses-mean  \\\n",
       "0          0.489862    0.568220      0.015625     0.836556   \n",
       "1          0.493044    0.561452      0.015625     0.821453   \n",
       "\n",
       "                    model_location  \\\n",
       "0  models/model_000000000000.state   \n",
       "1                             None   \n",
       "\n",
       "                                               preds  \\\n",
       "0  b'\\x80\\x04\\x95\\r\\x90\\x00\\x00\\x00\\x00\\x00\\x00]\\...   \n",
       "1  b'\\x80\\x04\\x95\\r\\x90\\x00\\x00\\x00\\x00\\x00\\x00]\\...   \n",
       "\n",
       "                                             targets  \\\n",
       "0  b'\\x80\\x04\\x95\\r\\x90\\x00\\x00\\x00\\x00\\x00\\x00]\\...   \n",
       "1  b'\\x80\\x04\\x95\\r\\x90\\x00\\x00\\x00\\x00\\x00\\x00]\\...   \n",
       "\n",
       "                                              losses  \n",
       "0  b'\\x80\\x04\\x95\\r\\x00\\x00\\x00\\x00\\x00\\x00\\x00]\\...  \n",
       "1  b'\\x80\\x04\\x95\\r\\x00\\x00\\x00\\x00\\x00\\x00\\x00]\\...  "
      ]
     },
     "metadata": {},
     "output_type": "display_data"
    },
    {
     "name": "stdout",
     "output_type": "stream",
     "text": [
      "920\n"
     ]
    }
   ],
   "source": [
    "display(stats_df.head(2))\n",
    "print(len(stats_df))"
   ]
  },
  {
   "cell_type": "code",
   "execution_count": 23,
   "metadata": {},
   "outputs": [],
   "source": [
    "stats_df['preds_list'] = stats_df['preds'].apply(pickle.loads)\n",
    "stats_df['targets_list'] = stats_df['targets'].apply(pickle.loads)\n",
    "stats_df['losses_list'] = stats_df['losses'].apply(pickle.loads)"
   ]
  },
  {
   "cell_type": "code",
   "execution_count": 24,
   "metadata": {},
   "outputs": [],
   "source": [
    "def split_preds_pos_neg(stats_df):\n",
    "    pos_mean_list = []\n",
    "    neg_mean_list = []\n",
    "    for pred, target in stats_df[['preds_list', 'targets_list']].values:\n",
    "        pos_mean = np.array(pred)[np.array(target, dtype=np.bool)].mean()\n",
    "        neg_mean = np.array(pred)[~np.array(target, dtype=np.bool)].mean()\n",
    "        pos_mean_list.append(pos_mean)\n",
    "        neg_mean_list.append(neg_mean)\n",
    "    return pos_mean_list, neg_mean_list\n",
    "\n",
    "if \"pos_preds-mean\" not in stats_df or \"neg_preds-mean\" not in stats_df:\n",
    "    stats_df['pos_preds-mean'], stats_df['neg_preds-mean'] = split_preds_pos_neg(stats_df)"
   ]
  },
  {
   "cell_type": "markdown",
   "metadata": {},
   "source": [
    "### Plot statistics"
   ]
  },
  {
   "cell_type": "code",
   "execution_count": 25,
   "metadata": {},
   "outputs": [],
   "source": [
    "def plot_stats(x_col, y_col):\n",
    "    if x_col not in stats_df.columns or y_col not in stats_df.columns:\n",
    "        print(\"Data not available\")\n",
    "        return\n",
    "\n",
    "    df = stats_df[[x_col, y_col]].dropna()\n",
    "\n",
    "    with plt.rc_context({'figure.figsize': (6, 4), 'font.size': 14}):\n",
    "        plt.ticklabel_format(axis=\"x\", style=\"sci\", scilimits=(0, 0))\n",
    "        plt.plot(df[x_col], df[y_col], '-', label=y_col)\n",
    "        plt.xlabel(x_col)\n",
    "        plt.legend()"
   ]
  },
  {
   "cell_type": "code",
   "execution_count": 26,
   "metadata": {},
   "outputs": [
    {
     "data": {
      "image/png": "[encoded data removed]",
      "text/plain": [
       "<Figure size 432x288 with 1 Axes>"
      ]
     },
     "metadata": {
      "needs_background": "light"
     },
     "output_type": "display_data"
    }
   ],
   "source": [
    "plot_stats(\"sequence_number\", \"time_between_checkpoints\")\n",
    "plt.ylabel(\"Time (s)\")\n",
    "None"
   ]
  },
  {
   "cell_type": "code",
   "execution_count": 27,
   "metadata": {},
   "outputs": [
    {
     "data": {
      "image/png": "[encoded data removed]",
      "text/plain": [
       "<Figure size 432x288 with 1 Axes>"
      ]
     },
     "metadata": {
      "needs_background": "light"
     },
     "output_type": "display_data"
    }
   ],
   "source": [
    "plot_stats(\"sequence_number\", \"training_pos-auc\")\n",
    "plt.ylabel(\"AUC\")\n",
    "plt.ylim(0.4, 1)\n",
    "None"
   ]
  },
  {
   "cell_type": "code",
   "execution_count": 33,
   "metadata": {},
   "outputs": [
    {
     "data": {
      "text/plain": [
       "910    0.994218\n",
       "911    0.999752\n",
       "912    0.983224\n",
       "913    0.992839\n",
       "914    0.994579\n",
       "915    0.997570\n",
       "916    0.996195\n",
       "917    0.987088\n",
       "918    0.992742\n",
       "919    0.998117\n",
       "Name: training_pos-auc, dtype: float64"
      ]
     },
     "execution_count": 33,
     "metadata": {},
     "output_type": "execute_result"
    }
   ],
   "source": [
    "stats_df['training_pos-auc'][-10:]"
   ]
  },
  {
   "cell_type": "code",
   "execution_count": 28,
   "metadata": {
    "scrolled": true
   },
   "outputs": [
    {
     "data": {
      "image/png": "[encoded data removed]",
      "text/plain": [
       "<Figure size 432x288 with 1 Axes>"
      ]
     },
     "metadata": {
      "needs_background": "light"
     },
     "output_type": "display_data"
    }
   ],
   "source": [
    "plot_stats(\"sequence_number\", \"validation_gan_permute_80_1000-auc\")\n",
    "plot_stats(\"sequence_number\", \"validation_gan_exact_80_1000-auc\")\n",
    "plt.ylabel(\"AUC\")\n",
    "plt.ylim(0.4, 1)\n",
    "None"
   ]
  },
  {
   "cell_type": "code",
   "execution_count": 37,
   "metadata": {},
   "outputs": [
    {
     "data": {
      "text/plain": [
       "836    0.964582\n",
       "844    0.965026\n",
       "852    0.965402\n",
       "861    0.966006\n",
       "870    0.966156\n",
       "879    0.966915\n",
       "888    0.967038\n",
       "897    0.968668\n",
       "906    0.967536\n",
       "915    0.967893\n",
       "Name: validation_gan_permute_80_1000-auc, dtype: float64"
      ]
     },
     "execution_count": 37,
     "metadata": {},
     "output_type": "execute_result"
    }
   ],
   "source": [
    "stats_df['validation_gan_permute_80_1000-auc'].dropna()[-10:]"
   ]
  },
  {
   "cell_type": "code",
   "execution_count": 38,
   "metadata": {},
   "outputs": [
    {
     "data": {
      "text/plain": [
       "836    0.977186\n",
       "844    0.976967\n",
       "852    0.976952\n",
       "861    0.977662\n",
       "870    0.977961\n",
       "879    0.978331\n",
       "888    0.978418\n",
       "897    0.978819\n",
       "906    0.978738\n",
       "915    0.978864\n",
       "Name: validation_gan_exact_80_1000-auc, dtype: float64"
      ]
     },
     "execution_count": 38,
     "metadata": {},
     "output_type": "execute_result"
    }
   ],
   "source": [
    "stats_df['validation_gan_exact_80_1000-auc'].dropna()[-10:]"
   ]
  },
  {
   "cell_type": "code",
   "execution_count": 29,
   "metadata": {},
   "outputs": [
    {
     "data": {
      "image/png": "[encoded data removed]",
      "text/plain": [
       "<Figure size 432x288 with 1 Axes>"
      ]
     },
     "metadata": {
      "needs_background": "light"
     },
     "output_type": "display_data"
    }
   ],
   "source": [
    "plot_stats(\"sequence_number\", \"pos_preds-mean\")\n",
    "plot_stats(\"sequence_number\", \"neg_preds-mean\")\n",
    "plt.ylabel(\"Average probability\")\n",
    "None"
   ]
  },
  {
   "cell_type": "code",
   "execution_count": null,
   "metadata": {},
   "outputs": [],
   "source": []
  }
 ],
 "metadata": {
  "kernelspec": {
   "display_name": "Python 3",
   "language": "python",
   "name": "python3"
  },
  "language_info": {
   "codemirror_mode": {
    "name": "ipython",
    "version": 3
   },
   "file_extension": ".py",
   "mimetype": "text/x-python",
   "name": "python",
   "nbconvert_exporter": "python",
   "pygments_lexer": "ipython3",
   "version": "3.6.6"
  },
  "toc": {
   "base_numbering": 1,
   "nav_menu": {},
   "number_sections": false,
   "sideBar": true,
   "skip_h1_title": false,
   "title_cell": "Table of Contents",
   "title_sidebar": "Contents",
   "toc_cell": false,
   "toc_position": {
    "height": "424px",
    "left": "26px",
    "top": "141px",
    "width": "236px"
   },
   "toc_section_display": true,
   "toc_window_display": true
  }
 },
 "nbformat": 4,
 "nbformat_minor": 2
}
