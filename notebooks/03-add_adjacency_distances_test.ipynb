{
 "cells": [
  {
   "cell_type": "markdown",
   "metadata": {},
   "source": [
    "# Summary"
   ]
  },
  {
   "cell_type": "markdown",
   "metadata": {
    "toc-hr-collapsed": true
   },
   "source": [
    "# Imports"
   ]
  },
  {
   "cell_type": "code",
   "execution_count": 1,
   "metadata": {},
   "outputs": [],
   "source": [
    "import importlib\n",
    "import sys\n",
    "from pathlib import Path\n",
    "from IPython.display import clear_output, display\n",
    "\n",
    "import numpy as np\n",
    "import pyarrow as pa\n",
    "import pyarrow.parquet as pq\n",
    "import matplotlib.pyplot as plt\n",
    "import pandas as pd"
   ]
  },
  {
   "cell_type": "code",
   "execution_count": 2,
   "metadata": {},
   "outputs": [],
   "source": [
    "%matplotlib inline\n",
    "\n",
    "pd.set_option(\"max_columns\", 100)"
   ]
  },
  {
   "cell_type": "code",
   "execution_count": 3,
   "metadata": {},
   "outputs": [
    {
     "data": {
      "text/html": [
       "\n",
       "            <div>\n",
       "                <p><b>SparkSession - in-memory</b></p>\n",
       "                \n",
       "        <div>\n",
       "            <p><b>SparkContext</b></p>\n",
       "\n",
       "            <p><a href=\"http://nia0538:4040\">Spark UI</a></p>\n",
       "\n",
       "            <dl>\n",
       "              <dt>Version</dt>\n",
       "                <dd><code>v2.3.1</code></dd>\n",
       "              <dt>Master</dt>\n",
       "                <dd><code>local[40]</code></dd>\n",
       "              <dt>AppName</dt>\n",
       "                <dd><code>adjacency-net-v2</code></dd>\n",
       "            </dl>\n",
       "        </div>\n",
       "        \n",
       "            </div>\n",
       "        "
      ],
      "text/plain": [
       "<pyspark.sql.session.SparkSession at 0x7ff4006b7f60>"
      ]
     },
     "metadata": {},
     "output_type": "display_data"
    }
   ],
   "source": [
    "%run spark.ipynb"
   ]
  },
  {
   "cell_type": "code",
   "execution_count": 4,
   "metadata": {},
   "outputs": [
    {
     "data": {
      "text/plain": [
       "<module 'helper' from '/gpfs/fs0/scratch/p/pmkim/strokach/datapkg/adjacency-net-v2/src/helper/__init__.py'>"
      ]
     },
     "execution_count": 4,
     "metadata": {},
     "output_type": "execute_result"
    }
   ],
   "source": [
    "SRC_PATH = Path.cwd().joinpath('..', 'src').resolve(strict=True)\n",
    "\n",
    "if SRC_PATH.as_posix() not in sys.path:\n",
    "    sys.path.insert(0, SRC_PATH.as_posix())\n",
    "\n",
    "import helper\n",
    "importlib.reload(helper)"
   ]
  },
  {
   "cell_type": "markdown",
   "metadata": {
    "toc-hr-collapsed": true
   },
   "source": [
    "# Parameters"
   ]
  },
  {
   "cell_type": "code",
   "execution_count": 5,
   "metadata": {},
   "outputs": [
    {
     "data": {
      "text/plain": [
       "PosixPath('add_adjacency_distances_test')"
      ]
     },
     "execution_count": 5,
     "metadata": {},
     "output_type": "execute_result"
    }
   ],
   "source": [
    "NOTEBOOK_PATH = Path(os.getenv(\"CI_JOB_NAME\", \"add_adjacency_distances_test\"))\n",
    "NOTEBOOK_PATH"
   ]
  },
  {
   "cell_type": "code",
   "execution_count": 6,
   "metadata": {},
   "outputs": [
    {
     "data": {
      "text/plain": [
       "PosixPath('/gpfs/fs0/scratch/p/pmkim/strokach/datapkg/adjacency-net-v2/notebooks/add_adjacency_distances_test')"
      ]
     },
     "execution_count": 6,
     "metadata": {},
     "output_type": "execute_result"
    }
   ],
   "source": [
    "OUTPUT_PATH = Path(os.getenv('OUTPUT_DIR', NOTEBOOK_PATH.name)).resolve()\n",
    "OUTPUT_PATH.mkdir(parents=True, exist_ok=True)\n",
    "OUTPUT_PATH"
   ]
  },
  {
   "cell_type": "code",
   "execution_count": 7,
   "metadata": {},
   "outputs": [
    {
     "data": {
      "text/plain": [
       "(None, None)"
      ]
     },
     "execution_count": 7,
     "metadata": {},
     "output_type": "execute_result"
    }
   ],
   "source": [
    "DEBUG = \"CI\" not in os.environ    \n",
    "\n",
    "TASK_ID = os.getenv(\"SLURM_ARRAY_TASK_ID\")\n",
    "TASK_COUNT = os.getenv(\"ORIGINAL_ARRAY_TASK_COUNT\") or os.getenv(\"SLURM_ARRAY_TASK_COUNT\")\n",
    "\n",
    "TASK_ID = int(TASK_ID) if TASK_ID is not None else None\n",
    "TASK_COUNT = int(TASK_COUNT) if TASK_COUNT is not None else None\n",
    "\n",
    "TASK_ID, TASK_COUNT"
   ]
  },
  {
   "cell_type": "code",
   "execution_count": 8,
   "metadata": {},
   "outputs": [],
   "source": [
    "DATASET_NAME = 'training_dataset'\n",
    "DATASET_WDISTANCES_NAME = DATASET_NAME + '_wdistances'"
   ]
  },
  {
   "cell_type": "code",
   "execution_count": 9,
   "metadata": {},
   "outputs": [],
   "source": [
    "if DEBUG:\n",
    "    %load_ext autoreload\n",
    "    %autoreload 2"
   ]
  },
  {
   "cell_type": "markdown",
   "metadata": {
    "toc-hr-collapsed": true
   },
   "source": [
    "# `DATAPKG`"
   ]
  },
  {
   "cell_type": "code",
   "execution_count": 10,
   "metadata": {},
   "outputs": [],
   "source": [
    "DATAPKG = {\n",
    "    # Training\n",
    "    'training_dataset': \n",
    "        Path(os.environ['DATAPKG_OUTPUT_DIR']).joinpath(\n",
    "            \"adjacency-net-v2\", \"master\", \"training_dataset\"),\n",
    "    'training_dataset_wdistances':\n",
    "        Path(os.environ['DATAPKG_OUTPUT_DIR']).joinpath(\n",
    "            \"adjacency-net-v2\", \"master\", \"training_dataset_wdistances\"),\n",
    "    # Validation\n",
    "    'validation_dataset': \n",
    "        Path(os.environ['DATAPKG_OUTPUT_DIR']).joinpath(\n",
    "            \"adjacency-net-v2\", \"master\", \"validation_dataset\"),\n",
    "    'validation_dataset_wdistances':\n",
    "        Path(os.environ['DATAPKG_OUTPUT_DIR']).joinpath(\n",
    "            \"adjacency-net-v2\", \"master\", \"validation_dataset_wdistances\"),\n",
    "    # Test\n",
    "    'test_dataset': \n",
    "        Path(os.environ['DATAPKG_OUTPUT_DIR']).joinpath(\n",
    "            \"adjacency-net-v2\", \"master\", \"test_dataset\"),\n",
    "    'test_dataset_wdistances':\n",
    "        Path(os.environ['DATAPKG_OUTPUT_DIR']).joinpath(\n",
    "            \"adjacency-net-v2\", \"master\", \"test_dataset_wdistances\"),\n",
    "    # Other\n",
    "    'pdb_mmcif_ffindex':\n",
    "        Path(os.environ['DATAPKG_OUTPUT_DIR']).joinpath(\n",
    "            \"pdb-ffindex\", \"master\", \"pdb_mmcif_ffindex\", \"pdb-mmcif\"),\n",
    "}"
   ]
  },
  {
   "cell_type": "markdown",
   "metadata": {
    "toc-hr-collapsed": false
   },
   "source": [
    "# Count rows globally"
   ]
  },
  {
   "cell_type": "markdown",
   "metadata": {
    "toc-hr-collapsed": true
   },
   "source": [
    "### Count number of rows in `{DATASET_NAME}`"
   ]
  },
  {
   "cell_type": "code",
   "execution_count": 11,
   "metadata": {},
   "outputs": [
    {
     "name": "stdout",
     "output_type": "stream",
     "text": [
      "\n",
      "select count(*)\n",
      "from parquet.`/gpfs/fs0/scratch/p/pmkim/strokach/databin/adjacency-net-v2/master/training_dataset/adjacency_matrix.parquet`\n",
      "\n"
     ]
    }
   ],
   "source": [
    "sql_query = rf\"\"\"\n",
    "select count(*)\n",
    "from parquet.`{DATAPKG[DATASET_NAME]}/adjacency_matrix.parquet`\n",
    "\"\"\"\n",
    "\n",
    "print(sql_query)"
   ]
  },
  {
   "cell_type": "code",
   "execution_count": 12,
   "metadata": {},
   "outputs": [],
   "source": [
    "ds = spark.sql(sql_query)"
   ]
  },
  {
   "cell_type": "code",
   "execution_count": 13,
   "metadata": {},
   "outputs": [],
   "source": [
    "df = ds.toPandas()"
   ]
  },
  {
   "cell_type": "code",
   "execution_count": 14,
   "metadata": {},
   "outputs": [
    {
     "data": {
      "text/html": [
       "<div>\n",
       "<style scoped>\n",
       "    .dataframe tbody tr th:only-of-type {\n",
       "        vertical-align: middle;\n",
       "    }\n",
       "\n",
       "    .dataframe tbody tr th {\n",
       "        vertical-align: top;\n",
       "    }\n",
       "\n",
       "    .dataframe thead th {\n",
       "        text-align: right;\n",
       "    }\n",
       "</style>\n",
       "<table border=\"1\" class=\"dataframe\">\n",
       "  <thead>\n",
       "    <tr style=\"text-align: right;\">\n",
       "      <th></th>\n",
       "      <th>count(1)</th>\n",
       "    </tr>\n",
       "  </thead>\n",
       "  <tbody>\n",
       "    <tr>\n",
       "      <th>0</th>\n",
       "      <td>47402360</td>\n",
       "    </tr>\n",
       "  </tbody>\n",
       "</table>\n",
       "</div>"
      ],
      "text/plain": [
       "   count(1)\n",
       "0  47402360"
      ]
     },
     "execution_count": 14,
     "metadata": {},
     "output_type": "execute_result"
    }
   ],
   "source": [
    "df  # 47402360"
   ]
  },
  {
   "cell_type": "markdown",
   "metadata": {
    "toc-hr-collapsed": true
   },
   "source": [
    "### Count number of rows in `{DATASET_WDISTANCES_NAME}`"
   ]
  },
  {
   "cell_type": "code",
   "execution_count": 15,
   "metadata": {},
   "outputs": [
    {
     "name": "stdout",
     "output_type": "stream",
     "text": [
      "\n",
      "select count(*)\n",
      "from parquet.`/gpfs/fs0/scratch/p/pmkim/strokach/databin/adjacency-net-v2/master/training_dataset_wdistances/adjacency_matrix.parquet`\n",
      "\n"
     ]
    }
   ],
   "source": [
    "sql_query = rf\"\"\"\n",
    "select count(*)\n",
    "from parquet.`{DATAPKG[DATASET_WDISTANCES_NAME]}/adjacency_matrix.parquet`\n",
    "\"\"\"\n",
    "\n",
    "print(sql_query)"
   ]
  },
  {
   "cell_type": "code",
   "execution_count": 16,
   "metadata": {},
   "outputs": [],
   "source": [
    "ds_wdistances = spark.sql(sql_query)"
   ]
  },
  {
   "cell_type": "code",
   "execution_count": 17,
   "metadata": {},
   "outputs": [],
   "source": [
    "df_wdistances = ds_wdistances.toPandas()"
   ]
  },
  {
   "cell_type": "code",
   "execution_count": 18,
   "metadata": {},
   "outputs": [
    {
     "data": {
      "text/html": [
       "<div>\n",
       "<style scoped>\n",
       "    .dataframe tbody tr th:only-of-type {\n",
       "        vertical-align: middle;\n",
       "    }\n",
       "\n",
       "    .dataframe tbody tr th {\n",
       "        vertical-align: top;\n",
       "    }\n",
       "\n",
       "    .dataframe thead th {\n",
       "        text-align: right;\n",
       "    }\n",
       "</style>\n",
       "<table border=\"1\" class=\"dataframe\">\n",
       "  <thead>\n",
       "    <tr style=\"text-align: right;\">\n",
       "      <th></th>\n",
       "      <th>count(1)</th>\n",
       "    </tr>\n",
       "  </thead>\n",
       "  <tbody>\n",
       "    <tr>\n",
       "      <th>0</th>\n",
       "      <td>34164433</td>\n",
       "    </tr>\n",
       "  </tbody>\n",
       "</table>\n",
       "</div>"
      ],
      "text/plain": [
       "   count(1)\n",
       "0  34164433"
      ]
     },
     "execution_count": 18,
     "metadata": {},
     "output_type": "execute_result"
    }
   ],
   "source": [
    "df_wdistances  # 34257954"
   ]
  },
  {
   "cell_type": "code",
   "execution_count": 19,
   "metadata": {},
   "outputs": [
    {
     "data": {
      "text/plain": [
       "0.7207327441080993"
      ]
     },
     "execution_count": 19,
     "metadata": {},
     "output_type": "execute_result"
    }
   ],
   "source": [
    "df_wdistances.values.item() / df.values.item()"
   ]
  },
  {
   "cell_type": "markdown",
   "metadata": {},
   "source": [
    "### Print missing folders"
   ]
  },
  {
   "cell_type": "code",
   "execution_count": 20,
   "metadata": {},
   "outputs": [
    {
     "data": {
      "text/plain": [
       "[('database_id=G3DSA%3A3.40.50.1440', 62807),\n",
       " ('database_id=G3DSA%3A3.20.80.10', 43126),\n",
       " ('database_id=G3DSA%3A3.30.1050.10', 34935),\n",
       " ('database_id=G3DSA%3A3.30.110.60', 11123),\n",
       " ('database_id=G3DSA%3A1.10.10.440', 12939),\n",
       " ('database_id=G3DSA%3A1.10.10.41', 2895),\n",
       " ('database_id=G3DSA%3A3.30.1140.32', 17973),\n",
       " ('database_id=G3DSA%3A3.30.1120.40', 3065),\n",
       " ('database_id=G3DSA%3A2.60.40.1200', 53),\n",
       " ('database_id=G3DSA%3A1.10.10.250', 18310),\n",
       " ('database_id=G3DSA%3A2.60.40.1090', 45878),\n",
       " ('database_id=G3DSA%3A3.50.7.10', 57672),\n",
       " ('database_id=G3DSA%3A3.50.70.10', 6224),\n",
       " ('database_id=G3DSA%3A1.10.10.10', 3400746),\n",
       " ('database_id=G3DSA%3A3.20.20.70', 1701341),\n",
       " ('database_id=G3DSA%3A1.25.40.10', 2105462),\n",
       " ('database_id=G3DSA%3A3.20.90.10', 5021),\n",
       " ('database_id=G3DSA%3A3.40.640.10', 940256),\n",
       " ('database_id=G3DSA%3A1.10.10.190', 11),\n",
       " ('database_id=G3DSA%3A1.10.10.410', 28270),\n",
       " ('database_id=G3DSA%3A1.10.10.180', 1311),\n",
       " ('database_id=G3DSA%3A3.30.1040.10', 11),\n",
       " ('database_id=G3DSA%3A2.60.40.1240', 16791),\n",
       " ('database_id=G3DSA%3A1.10.10.500', 1171),\n",
       " ('database_id=G3DSA%3A3.30.110.40', 21055),\n",
       " ('database_id=G3DSA%3A3.50.50.60', 1600839),\n",
       " ('database_id=G3DSA%3A1.10.10.390', 428),\n",
       " ('database_id=G3DSA%3A2.60.40.10', 2604549),\n",
       " ('database_id=G3DSA%3A3.30.1120.30', 4708),\n",
       " ('database_id=G3DSA%3A1.10.10.400', 18468),\n",
       " ('database_id=G3DSA%3A2.60.40.1120', 184571),\n",
       " ('database_id=G3DSA%3A1.10.10.430', 1060)]"
      ]
     },
     "execution_count": 20,
     "metadata": {},
     "output_type": "execute_result"
    }
   ],
   "source": [
    "missing_domains = []\n",
    "\n",
    "for folder in DATAPKG[DATASET_NAME].joinpath(\"adjacency_matrix.parquet\").glob(\"*\"):\n",
    "    folder_parts = list(folder.parts)\n",
    "    assert folder_parts[-3] == DATASET_NAME\n",
    "    folder_parts[-3] = DATASET_WDISTANCES_NAME\n",
    "    folder_wdistances = Path(*folder_parts)\n",
    "    if not folder_wdistances.exists():\n",
    "        # Make sure the original folder has a Parquet file\n",
    "        sql_query = f\"select count(*) from parquet.`{next(folder.glob('*.parquet'))}`\"\n",
    "        df = spark.sql(sql_query).toPandas()\n",
    "        count = df.values.item()\n",
    "        missing_domains.append((folder_parts[-1], count))\n",
    "\n",
    "missing_domains"
   ]
  },
  {
   "cell_type": "markdown",
   "metadata": {
    "toc-hr-collapsed": true
   },
   "source": [
    "### Make sure there is exactly one parquet file per folder"
   ]
  },
  {
   "cell_type": "code",
   "execution_count": 21,
   "metadata": {},
   "outputs": [],
   "source": [
    "import os\n",
    "from os.path import join, getsize\n",
    "\n",
    "for folder in DATAPKG[DATASET_NAME].joinpath(\"adjacency_matrix.parquet\").glob(\"*\"):\n",
    "    parquet_files = list(folder.glob(\"*.parquet\"))\n",
    "    if len(parquet_files) != 1:\n",
    "        print(folder)\n",
    "        print(parquet_files)\n",
    "        print()"
   ]
  },
  {
   "cell_type": "markdown",
   "metadata": {
    "toc-hr-collapsed": true
   },
   "source": [
    "### Make sure we did not create any additional folders"
   ]
  },
  {
   "cell_type": "code",
   "execution_count": 22,
   "metadata": {},
   "outputs": [],
   "source": [
    "folder_set_1 = set([\n",
    "    p.parent.name\n",
    "    for p in\n",
    "    DATAPKG[DATASET_NAME].joinpath(\"adjacency_matrix.parquet\").glob(\"*/*.parquet\")\n",
    "])"
   ]
  },
  {
   "cell_type": "code",
   "execution_count": 23,
   "metadata": {},
   "outputs": [],
   "source": [
    "folder_set_2 = set([\n",
    "    p.parent.name\n",
    "    for p in\n",
    "    DATAPKG[DATASET_WDISTANCES_NAME].joinpath(\"adjacency_matrix.parquet\").glob(\"*/*.parquet\")\n",
    "])"
   ]
  },
  {
   "cell_type": "code",
   "execution_count": 24,
   "metadata": {},
   "outputs": [],
   "source": [
    "assert (folder_set_1 - folder_set_2) == (folder_set_1 ^ folder_set_2)"
   ]
  },
  {
   "cell_type": "markdown",
   "metadata": {
    "toc-hr-collapsed": true
   },
   "source": [
    "### Make sure we did not create any additional files"
   ]
  },
  {
   "cell_type": "code",
   "execution_count": 25,
   "metadata": {},
   "outputs": [],
   "source": [
    "file_set_1 = set([\n",
    "    p.name\n",
    "    for p in\n",
    "    DATAPKG[DATASET_NAME].joinpath(\"adjacency_matrix.parquet\").glob(\"*/*.parquet\")\n",
    "])"
   ]
  },
  {
   "cell_type": "code",
   "execution_count": 26,
   "metadata": {},
   "outputs": [],
   "source": [
    "file_set_2 = set([\n",
    "    p.name\n",
    "    for p in\n",
    "    DATAPKG[DATASET_WDISTANCES_NAME].joinpath(\"adjacency_matrix.parquet\").glob(\"*/*.parquet\")\n",
    "])"
   ]
  },
  {
   "cell_type": "code",
   "execution_count": 27,
   "metadata": {},
   "outputs": [],
   "source": [
    "assert (file_set_1 - file_set_2) == (file_set_1 ^ file_set_2)"
   ]
  },
  {
   "cell_type": "markdown",
   "metadata": {},
   "source": [
    "## Count rows by domain"
   ]
  },
  {
   "cell_type": "markdown",
   "metadata": {
    "toc-hr-collapsed": false
   },
   "source": [
    "### Create a dataframe containing number of rows before and after"
   ]
  },
  {
   "cell_type": "code",
   "execution_count": 28,
   "metadata": {},
   "outputs": [
    {
     "data": {
      "text/plain": [
       "'99.30%'"
      ]
     },
     "metadata": {},
     "output_type": "display_data"
    }
   ],
   "source": [
    "parquet_files_wdistances = list(\n",
    "    DATAPKG[DATASET_WDISTANCES_NAME].joinpath(\"adjacency_matrix.parquet\").glob(\"*/*.parquet\")\n",
    ")\n",
    "\n",
    "sql_query_template = \"\"\"\n",
    "select count(*)\n",
    "from parquet.`{file}`\n",
    "\"\"\"\n",
    "\n",
    "data = []\n",
    "for i, file_wdistances in enumerate(parquet_files_wdistances):\n",
    "    if i % 10 == 0:\n",
    "        clear_output(wait=True)\n",
    "        display(f\"{i / len(parquet_files_wdistances):.2%}\")\n",
    "    path_parts = list(file_wdistances.parts)\n",
    "    path_parts[-4] = DATASET_NAME\n",
    "    file = Path(*path_parts)\n",
    "\n",
    "    df1 = spark.sql(sql_query_template.format(file=file)).toPandas()\n",
    "    df2 = spark.sql(sql_query_template.format(file=file_wdistances)).toPandas()\n",
    "    \n",
    "    count1 = df1.values.item()\n",
    "    count2 = df2.values.item()\n",
    "\n",
    "    data.append((file, count1, count2))"
   ]
  },
  {
   "cell_type": "code",
   "execution_count": 29,
   "metadata": {},
   "outputs": [
    {
     "data": {
      "text/html": [
       "<div>\n",
       "<style scoped>\n",
       "    .dataframe tbody tr th:only-of-type {\n",
       "        vertical-align: middle;\n",
       "    }\n",
       "\n",
       "    .dataframe tbody tr th {\n",
       "        vertical-align: top;\n",
       "    }\n",
       "\n",
       "    .dataframe thead th {\n",
       "        text-align: right;\n",
       "    }\n",
       "</style>\n",
       "<table border=\"1\" class=\"dataframe\">\n",
       "  <thead>\n",
       "    <tr style=\"text-align: right;\">\n",
       "      <th></th>\n",
       "      <th>filepath</th>\n",
       "      <th>count</th>\n",
       "      <th>count_wdistances</th>\n",
       "      <th>filename</th>\n",
       "      <th>dirname</th>\n",
       "    </tr>\n",
       "  </thead>\n",
       "  <tbody>\n",
       "    <tr>\n",
       "      <th>0</th>\n",
       "      <td>/gpfs/fs0/scratch/p/pmkim/strokach/databin/adj...</td>\n",
       "      <td>54</td>\n",
       "      <td>53</td>\n",
       "      <td>part-00000-2ae3a02a-2611-4bda-ac19-41025a3a6e7...</td>\n",
       "      <td>database_id=G3DSA%3A3.40.1000.20</td>\n",
       "    </tr>\n",
       "    <tr>\n",
       "      <th>1</th>\n",
       "      <td>/gpfs/fs0/scratch/p/pmkim/strokach/databin/adj...</td>\n",
       "      <td>28058</td>\n",
       "      <td>28051</td>\n",
       "      <td>part-00000-eea29c72-b7db-4c8b-807e-c187f1d1488...</td>\n",
       "      <td>database_id=G3DSA%3A3.30.1330.90</td>\n",
       "    </tr>\n",
       "    <tr>\n",
       "      <th>2</th>\n",
       "      <td>/gpfs/fs0/scratch/p/pmkim/strokach/databin/adj...</td>\n",
       "      <td>4538</td>\n",
       "      <td>4524</td>\n",
       "      <td>part-00000-11be5e6c-a2b9-4dab-b163-65c195fa083...</td>\n",
       "      <td>database_id=G3DSA%3A3.90.1420.10</td>\n",
       "    </tr>\n",
       "    <tr>\n",
       "      <th>3</th>\n",
       "      <td>/gpfs/fs0/scratch/p/pmkim/strokach/databin/adj...</td>\n",
       "      <td>2582</td>\n",
       "      <td>2582</td>\n",
       "      <td>part-00000-d147c9a8-08a6-4b6a-b6f2-55b5926a501...</td>\n",
       "      <td>database_id=G3DSA%3A2.60.40.350</td>\n",
       "    </tr>\n",
       "    <tr>\n",
       "      <th>4</th>\n",
       "      <td>/gpfs/fs0/scratch/p/pmkim/strokach/databin/adj...</td>\n",
       "      <td>3548</td>\n",
       "      <td>3546</td>\n",
       "      <td>part-00000-fc143921-ddbc-487a-9f77-0dc98ccd786...</td>\n",
       "      <td>database_id=G3DSA%3A1.10.1240.20</td>\n",
       "    </tr>\n",
       "  </tbody>\n",
       "</table>\n",
       "</div>"
      ],
      "text/plain": [
       "                                            filepath  count  count_wdistances  \\\n",
       "0  /gpfs/fs0/scratch/p/pmkim/strokach/databin/adj...     54                53   \n",
       "1  /gpfs/fs0/scratch/p/pmkim/strokach/databin/adj...  28058             28051   \n",
       "2  /gpfs/fs0/scratch/p/pmkim/strokach/databin/adj...   4538              4524   \n",
       "3  /gpfs/fs0/scratch/p/pmkim/strokach/databin/adj...   2582              2582   \n",
       "4  /gpfs/fs0/scratch/p/pmkim/strokach/databin/adj...   3548              3546   \n",
       "\n",
       "                                            filename  \\\n",
       "0  part-00000-2ae3a02a-2611-4bda-ac19-41025a3a6e7...   \n",
       "1  part-00000-eea29c72-b7db-4c8b-807e-c187f1d1488...   \n",
       "2  part-00000-11be5e6c-a2b9-4dab-b163-65c195fa083...   \n",
       "3  part-00000-d147c9a8-08a6-4b6a-b6f2-55b5926a501...   \n",
       "4  part-00000-fc143921-ddbc-487a-9f77-0dc98ccd786...   \n",
       "\n",
       "                            dirname  \n",
       "0  database_id=G3DSA%3A3.40.1000.20  \n",
       "1  database_id=G3DSA%3A3.30.1330.90  \n",
       "2  database_id=G3DSA%3A3.90.1420.10  \n",
       "3   database_id=G3DSA%3A2.60.40.350  \n",
       "4  database_id=G3DSA%3A1.10.1240.20  "
      ]
     },
     "execution_count": 29,
     "metadata": {},
     "output_type": "execute_result"
    }
   ],
   "source": [
    "row_counts_df = pd.DataFrame(\n",
    "    data, columns=[\"filepath\", \"count\", \"count_wdistances\"],\n",
    ")\n",
    "row_counts_df[\"filename\"] = [\n",
    "    p.name for p in row_counts_df[\"filepath\"]\n",
    "]\n",
    "row_counts_df[\"dirname\"] = [\n",
    "    p.parent.name for p in row_counts_df[\"filepath\"]\n",
    "]\n",
    "row_counts_df[\"filepath\"] = row_counts_df[\"filepath\"].apply(lambda p: p.as_posix())\n",
    "\n",
    "row_counts_df.head()"
   ]
  },
  {
   "cell_type": "markdown",
   "metadata": {
    "toc-hr-collapsed": true
   },
   "source": [
    "### Make sure we did not gain any rows"
   ]
  },
  {
   "cell_type": "code",
   "execution_count": 30,
   "metadata": {},
   "outputs": [],
   "source": [
    "assert row_counts_df[\n",
    "    (row_counts_df[\"count\"] < row_counts_df[\"count_wdistances\"])\n",
    "].empty"
   ]
  },
  {
   "cell_type": "markdown",
   "metadata": {
    "toc-hr-collapsed": false
   },
   "source": [
    "### Print the fraction of rows that we lost"
   ]
  },
  {
   "cell_type": "code",
   "execution_count": 31,
   "metadata": {},
   "outputs": [
    {
     "data": {
      "text/plain": [
       "Text(0, 0.5, 'Number of Gene3D domains')"
      ]
     },
     "execution_count": 31,
     "metadata": {},
     "output_type": "execute_result"
    },
    {
     "data": {
      "image/png": "[encoded data removed]",
      "text/plain": [
       "<Figure size 432x288 with 1 Axes>"
      ]
     },
     "metadata": {
      "needs_background": "light"
     },
     "output_type": "display_data"
    }
   ],
   "source": [
    "frac_kept = row_counts_df[\"count_wdistances\"].values / row_counts_df[\"count\"].values\n",
    "# frac_kept = frac_kept[frac_kept < 1]\n",
    "\n",
    "with plt.rc_context(rc={\"font.size\": 12}):\n",
    "    plt.hist(np.clip(frac_kept, 0.8, 1), bins=100)\n",
    "    \n",
    "plt.xlabel(\"Fraction of rows kept\")\n",
    "plt.ylabel(\"Number of Gene3D domains\")"
   ]
  },
  {
   "cell_type": "code",
   "execution_count": null,
   "metadata": {},
   "outputs": [],
   "source": []
  }
 ],
 "metadata": {
  "kernelspec": {
   "display_name": "Python 3",
   "language": "python",
   "name": "python3"
  },
  "language_info": {
   "codemirror_mode": {
    "name": "ipython",
    "version": 3
   },
   "file_extension": ".py",
   "mimetype": "text/x-python",
   "name": "python",
   "nbconvert_exporter": "python",
   "pygments_lexer": "ipython3",
   "version": "3.7.1"
  },
  "toc": {
   "base_numbering": 1,
   "nav_menu": {},
   "number_sections": false,
   "sideBar": false,
   "skip_h1_title": false,
   "title_cell": "Table of Contents",
   "title_sidebar": "Contents",
   "toc_cell": false,
   "toc_position": {
    "height": "482px",
    "left": "34.9826px",
    "top": "126.979px",
    "width": "288px"
   },
   "toc_section_display": true,
   "toc_window_display": true
  },
  "toc-autonumbering": false,
  "toc-showcode": false,
  "toc-showmarkdowntxt": false,
  "toc-showtags": false
 },
 "nbformat": 4,
 "nbformat_minor": 2
}
