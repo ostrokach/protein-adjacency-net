{
 "cells": [
  {
   "cell_type": "markdown",
   "metadata": {},
   "source": [
    "# Summary"
   ]
  },
  {
   "cell_type": "markdown",
   "metadata": {},
   "source": [
    "# Imports"
   ]
  },
  {
   "cell_type": "code",
   "execution_count": 107,
   "metadata": {
    "collapsed": true
   },
   "outputs": [],
   "source": [
    "import concurrent.futures\n",
    "import itertools\n",
    "import multiprocessing\n",
    "import os\n",
    "import subprocess\n",
    "import tempfile\n",
    "from functools import partial\n",
    "from pathlib import Path\n",
    "\n",
    "import numpy as np\n",
    "import matplotlib.pyplot as plt\n",
    "import pandas as pd\n",
    "import pyarrow as pa\n",
    "import pyarrow.parquet as pq\n",
    "import sqlalchemy as sa\n",
    "\n",
    "from kmtools import py_tools, sequence_tools"
   ]
  },
  {
   "cell_type": "code",
   "execution_count": 108,
   "metadata": {
    "collapsed": true
   },
   "outputs": [],
   "source": [
    "%matplotlib inline"
   ]
  },
  {
   "cell_type": "code",
   "execution_count": 109,
   "metadata": {
    "collapsed": true
   },
   "outputs": [],
   "source": [
    "pd.set_option(\"max_columns\", 100)"
   ]
  },
  {
   "cell_type": "markdown",
   "metadata": {},
   "source": [
    "# Parameters"
   ]
  },
  {
   "cell_type": "code",
   "execution_count": 110,
   "metadata": {},
   "outputs": [
    {
     "data": {
      "text/plain": [
       "PosixPath('validate_trained_dcn')"
      ]
     },
     "execution_count": 110,
     "metadata": {},
     "output_type": "execute_result"
    }
   ],
   "source": [
    "NOTEBOOK_PATH = Path('validate_trained_dcn')\n",
    "NOTEBOOK_PATH"
   ]
  },
  {
   "cell_type": "code",
   "execution_count": 111,
   "metadata": {},
   "outputs": [
    {
     "data": {
      "text/plain": [
       "PosixPath('/home/kimlab1/database_data/datapkg/adjacency-net-v2/notebooks/validate_trained_dcn')"
      ]
     },
     "execution_count": 111,
     "metadata": {},
     "output_type": "execute_result"
    }
   ],
   "source": [
    "OUTPUT_PATH = Path(os.getenv('OUTPUT_DIR', NOTEBOOK_PATH.name)).resolve()\n",
    "OUTPUT_PATH.mkdir(parents=True, exist_ok=True)\n",
    "OUTPUT_PATH"
   ]
  },
  {
   "cell_type": "code",
   "execution_count": 112,
   "metadata": {},
   "outputs": [
    {
     "data": {
      "text/plain": [
       "(None, None)"
      ]
     },
     "execution_count": 112,
     "metadata": {},
     "output_type": "execute_result"
    }
   ],
   "source": [
    "TASK_ID = os.getenv(\"SLURM_ARRAY_TASK_ID\")\n",
    "TASK_COUNT = os.getenv(\"ORIGINAL_ARRAY_TASK_COUNT\") or os.getenv(\"SLURM_ARRAY_TASK_COUNT\")\n",
    "\n",
    "TASK_ID = int(TASK_ID) if TASK_ID is not None else None\n",
    "TASK_COUNT = int(TASK_COUNT) if TASK_COUNT is not None else None\n",
    "\n",
    "TASK_ID, TASK_COUNT"
   ]
  },
  {
   "cell_type": "code",
   "execution_count": 113,
   "metadata": {},
   "outputs": [
    {
     "data": {
      "text/plain": [
       "True"
      ]
     },
     "execution_count": 113,
     "metadata": {},
     "output_type": "execute_result"
    }
   ],
   "source": [
    "DEBUG = \"CI\" not in os.environ    \n",
    "DEBUG"
   ]
  },
  {
   "cell_type": "code",
   "execution_count": 114,
   "metadata": {},
   "outputs": [
    {
     "name": "stdout",
     "output_type": "stream",
     "text": [
      "The autoreload extension is already loaded. To reload it, use:\n",
      "  %reload_ext autoreload\n"
     ]
    }
   ],
   "source": [
    "if DEBUG:\n",
    "    %load_ext autoreload\n",
    "    %autoreload 2"
   ]
  },
  {
   "cell_type": "markdown",
   "metadata": {},
   "source": [
    "# `DATAPKG`"
   ]
  },
  {
   "cell_type": "code",
   "execution_count": 115,
   "metadata": {
    "collapsed": true
   },
   "outputs": [],
   "source": [
    "DATAPKG = {}"
   ]
  },
  {
   "cell_type": "code",
   "execution_count": 116,
   "metadata": {
    "collapsed": true
   },
   "outputs": [],
   "source": [
    "DATAPKG['uniparc-domain-wstructure'] = (\n",
    "    Path(os.environ['DATAPKG_OUTPUT_DIR'])\n",
    "    .joinpath(\"uniparc-domain-wstructure\", \"master\")\n",
    ")"
   ]
  },
  {
   "cell_type": "markdown",
   "metadata": {},
   "source": [
    "# Run"
   ]
  },
  {
   "cell_type": "code",
   "execution_count": 117,
   "metadata": {},
   "outputs": [
    {
     "data": {
      "text/plain": [
       "PosixPath('/home/kimlab1/strokach/tmp/test_pagnn_a1')"
      ]
     },
     "execution_count": 117,
     "metadata": {},
     "output_type": "execute_result"
    }
   ],
   "source": [
    "TRAINING_DATA_DIR = Path(\"~/tmp/test_pagnn_a1/\").expanduser()\n",
    "TRAINING_DATA_DIR"
   ]
  },
  {
   "cell_type": "markdown",
   "metadata": {},
   "source": [
    "## `demo_dataset_1`"
   ]
  },
  {
   "cell_type": "code",
   "execution_count": 118,
   "metadata": {
    "collapsed": true
   },
   "outputs": [],
   "source": [
    "DATASET_PATH = Path(\"demo_datasets/demo_dataset_1\").resolve(strict=True)"
   ]
  },
  {
   "cell_type": "code",
   "execution_count": 119,
   "metadata": {},
   "outputs": [
    {
     "name": "stdout",
     "output_type": "stream",
     "text": [
      "/home/kimlab1/strokach/anaconda/lib/python3.6/runpy.py:125: RuntimeWarning: 'pagnn.prediction.dcn_old.main' found in sys.modules after import of package 'pagnn.prediction.dcn_old', but prior to execution of 'pagnn.prediction.dcn_old.main'; this may result in unpredictable behaviour\n",
      "  warn(RuntimeWarning(msg))\n",
      "10it [00:00, 28.39it/s]\n"
     ]
    }
   ],
   "source": [
    "!python -m pagnn.prediction.dcn_old.main \\\n",
    "    --input-file {DATASET_PATH}/input.parquet \\\n",
    "    --output-file {NOTEBOOK_PATH}/output.parquet \\\n",
    "    --network-info {DATASET_PATH}/network.info \\\n",
    "    --network-state {DATASET_PATH}/network.state"
   ]
  },
  {
   "cell_type": "code",
   "execution_count": 120,
   "metadata": {
    "collapsed": true
   },
   "outputs": [],
   "source": [
    "output_df = pq.read_table(NOTEBOOK_PATH.joinpath(\"output.parquet\")).to_pandas()"
   ]
  },
  {
   "cell_type": "code",
   "execution_count": 121,
   "metadata": {},
   "outputs": [
    {
     "data": {
      "text/html": [
       "<div>\n",
       "<style scoped>\n",
       "    .dataframe tbody tr th:only-of-type {\n",
       "        vertical-align: middle;\n",
       "    }\n",
       "\n",
       "    .dataframe tbody tr th {\n",
       "        vertical-align: top;\n",
       "    }\n",
       "\n",
       "    .dataframe thead th {\n",
       "        text-align: right;\n",
       "    }\n",
       "</style>\n",
       "<table border=\"1\" class=\"dataframe\">\n",
       "  <thead>\n",
       "    <tr style=\"text-align: right;\">\n",
       "      <th></th>\n",
       "      <th>predictions</th>\n",
       "    </tr>\n",
       "  </thead>\n",
       "  <tbody>\n",
       "    <tr>\n",
       "      <th>0</th>\n",
       "      <td>0.539994</td>\n",
       "    </tr>\n",
       "    <tr>\n",
       "      <th>1</th>\n",
       "      <td>0.577878</td>\n",
       "    </tr>\n",
       "    <tr>\n",
       "      <th>2</th>\n",
       "      <td>0.592990</td>\n",
       "    </tr>\n",
       "    <tr>\n",
       "      <th>3</th>\n",
       "      <td>0.533424</td>\n",
       "    </tr>\n",
       "    <tr>\n",
       "      <th>4</th>\n",
       "      <td>0.544132</td>\n",
       "    </tr>\n",
       "    <tr>\n",
       "      <th>5</th>\n",
       "      <td>0.530011</td>\n",
       "    </tr>\n",
       "    <tr>\n",
       "      <th>6</th>\n",
       "      <td>0.555791</td>\n",
       "    </tr>\n",
       "    <tr>\n",
       "      <th>7</th>\n",
       "      <td>0.446440</td>\n",
       "    </tr>\n",
       "    <tr>\n",
       "      <th>8</th>\n",
       "      <td>0.260939</td>\n",
       "    </tr>\n",
       "    <tr>\n",
       "      <th>9</th>\n",
       "      <td>0.260939</td>\n",
       "    </tr>\n",
       "  </tbody>\n",
       "</table>\n",
       "</div>"
      ],
      "text/plain": [
       "   predictions\n",
       "0     0.539994\n",
       "1     0.577878\n",
       "2     0.592990\n",
       "3     0.533424\n",
       "4     0.544132\n",
       "5     0.530011\n",
       "6     0.555791\n",
       "7     0.446440\n",
       "8     0.260939\n",
       "9     0.260939"
      ]
     },
     "execution_count": 121,
     "metadata": {},
     "output_type": "execute_result"
    }
   ],
   "source": [
    "output_df"
   ]
  },
  {
   "cell_type": "markdown",
   "metadata": {},
   "source": [
    "## Training statistics"
   ]
  },
  {
   "cell_type": "code",
   "execution_count": 122,
   "metadata": {},
   "outputs": [
    {
     "data": {
      "text/plain": [
       "[PosixPath('/home/kimlab1/strokach/tmp/test_pagnn_a1/stats.db'),\n",
       " PosixPath('/home/kimlab1/strokach/tmp/test_pagnn_a1/models'),\n",
       " PosixPath('/home/kimlab1/strokach/tmp/test_pagnn_a1/models/model_000000041229.state'),\n",
       " PosixPath('/home/kimlab1/strokach/tmp/test_pagnn_a1/models/model_000000052950.state'),\n",
       " PosixPath('/home/kimlab1/strokach/tmp/test_pagnn_a1/models/model_000000048391.state'),\n",
       " PosixPath('/home/kimlab1/strokach/tmp/test_pagnn_a1/models/model_000000050415.state'),\n",
       " PosixPath('/home/kimlab1/strokach/tmp/test_pagnn_a1/models/model_000000023699.state'),\n",
       " PosixPath('/home/kimlab1/strokach/tmp/test_pagnn_a1/models/model_000000068725.state'),\n",
       " PosixPath('/home/kimlab1/strokach/tmp/test_pagnn_a1/models/model_000000071645.state'),\n",
       " PosixPath('/home/kimlab1/strokach/tmp/test_pagnn_a1/models/model_000000024760.state'),\n",
       " PosixPath('/home/kimlab1/strokach/tmp/test_pagnn_a1/models/model_000000059828.state'),\n",
       " PosixPath('/home/kimlab1/strokach/tmp/test_pagnn_a1/models/model_000000076553.state'),\n",
       " PosixPath('/home/kimlab1/strokach/tmp/test_pagnn_a1/models/model_000000043812.state'),\n",
       " PosixPath('/home/kimlab1/strokach/tmp/test_pagnn_a1/models/model_000000027293.state'),\n",
       " PosixPath('/home/kimlab1/strokach/tmp/test_pagnn_a1/models/model_000000065399.state'),\n",
       " PosixPath('/home/kimlab1/strokach/tmp/test_pagnn_a1/models/model_000000064392.state'),\n",
       " PosixPath('/home/kimlab1/strokach/tmp/test_pagnn_a1/models/model_000000005446.state'),\n",
       " PosixPath('/home/kimlab1/strokach/tmp/test_pagnn_a1/models/model_000000070155.state'),\n",
       " PosixPath('/home/kimlab1/strokach/tmp/test_pagnn_a1/models/model_000000037764.state'),\n",
       " PosixPath('/home/kimlab1/strokach/tmp/test_pagnn_a1/models/model_000000031835.state'),\n",
       " PosixPath('/home/kimlab1/strokach/tmp/test_pagnn_a1/models/model_000000010854.state'),\n",
       " PosixPath('/home/kimlab1/strokach/tmp/test_pagnn_a1/models/model_000000022706.state'),\n",
       " PosixPath('/home/kimlab1/strokach/tmp/test_pagnn_a1/models/model_000000059325.state'),\n",
       " PosixPath('/home/kimlab1/strokach/tmp/test_pagnn_a1/models/model_000000080931.state'),\n",
       " PosixPath('/home/kimlab1/strokach/tmp/test_pagnn_a1/models/model_000000040722.state'),\n",
       " PosixPath('/home/kimlab1/strokach/tmp/test_pagnn_a1/models/model_000000054928.state'),\n",
       " PosixPath('/home/kimlab1/strokach/tmp/test_pagnn_a1/models/model_000000035403.state'),\n",
       " PosixPath('/home/kimlab1/strokach/tmp/test_pagnn_a1/models/model_000000039202.state'),\n",
       " PosixPath('/home/kimlab1/strokach/tmp/test_pagnn_a1/models/model_000000000166.state'),\n",
       " PosixPath('/home/kimlab1/strokach/tmp/test_pagnn_a1/models/model_000000037278.state'),\n",
       " PosixPath('/home/kimlab1/strokach/tmp/test_pagnn_a1/models/model_000000055912.state'),\n",
       " PosixPath('/home/kimlab1/strokach/tmp/test_pagnn_a1/models/model_000000061428.state'),\n",
       " PosixPath('/home/kimlab1/strokach/tmp/test_pagnn_a1/models/model_000000064891.state'),\n",
       " PosixPath('/home/kimlab1/strokach/tmp/test_pagnn_a1/models/model_000000029345.state'),\n",
       " PosixPath('/home/kimlab1/strokach/tmp/test_pagnn_a1/models/model_000000017028.state'),\n",
       " PosixPath('/home/kimlab1/strokach/tmp/test_pagnn_a1/models/model_000000077009.state'),\n",
       " PosixPath('/home/kimlab1/strokach/tmp/test_pagnn_a1/models/model_000000063901.state'),\n",
       " PosixPath('/home/kimlab1/strokach/tmp/test_pagnn_a1/models/model_000000003520.state'),\n",
       " PosixPath('/home/kimlab1/strokach/tmp/test_pagnn_a1/models/model_000000016544.state'),\n",
       " PosixPath('/home/kimlab1/strokach/tmp/test_pagnn_a1/models/model_000000022215.state'),\n",
       " PosixPath('/home/kimlab1/strokach/tmp/test_pagnn_a1/models/model_000000050933.state'),\n",
       " PosixPath('/home/kimlab1/strokach/tmp/test_pagnn_a1/models/model_000000035901.state'),\n",
       " PosixPath('/home/kimlab1/strokach/tmp/test_pagnn_a1/models/model_000000015451.state'),\n",
       " PosixPath('/home/kimlab1/strokach/tmp/test_pagnn_a1/models/model_000000078923.state'),\n",
       " PosixPath('/home/kimlab1/strokach/tmp/test_pagnn_a1/models/model_000000034853.state'),\n",
       " PosixPath('/home/kimlab1/strokach/tmp/test_pagnn_a1/models/model_000000014401.state'),\n",
       " PosixPath('/home/kimlab1/strokach/tmp/test_pagnn_a1/models/model_000000003116.state'),\n",
       " PosixPath('/home/kimlab1/strokach/tmp/test_pagnn_a1/models/model_000000074592.state'),\n",
       " PosixPath('/home/kimlab1/strokach/tmp/test_pagnn_a1/models/model_000000073147.state'),\n",
       " PosixPath('/home/kimlab1/strokach/tmp/test_pagnn_a1/models/model_000000045415.state'),\n",
       " PosixPath('/home/kimlab1/strokach/tmp/test_pagnn_a1/models/model_000000024237.state'),\n",
       " PosixPath('/home/kimlab1/strokach/tmp/test_pagnn_a1/models/model_000000067297.state'),\n",
       " PosixPath('/home/kimlab1/strokach/tmp/test_pagnn_a1/models/model_000000004005.state'),\n",
       " PosixPath('/home/kimlab1/strokach/tmp/test_pagnn_a1/models/model_000000084381.state'),\n",
       " PosixPath('/home/kimlab1/strokach/tmp/test_pagnn_a1/models/model_000000083847.state'),\n",
       " PosixPath('/home/kimlab1/strokach/tmp/test_pagnn_a1/models/model_000000044384.state'),\n",
       " PosixPath('/home/kimlab1/strokach/tmp/test_pagnn_a1/models/model_000000000971.state'),\n",
       " PosixPath('/home/kimlab1/strokach/tmp/test_pagnn_a1/models/model_000000071143.state'),\n",
       " PosixPath('/home/kimlab1/strokach/tmp/test_pagnn_a1/models/model_000000074099.state'),\n",
       " PosixPath('/home/kimlab1/strokach/tmp/test_pagnn_a1/models/model_000000025794.state'),\n",
       " PosixPath('/home/kimlab1/strokach/tmp/test_pagnn_a1/models/model_000000051949.state'),\n",
       " PosixPath('/home/kimlab1/strokach/tmp/test_pagnn_a1/models/model_000000069668.state'),\n",
       " PosixPath('/home/kimlab1/strokach/tmp/test_pagnn_a1/models/model_000000083370.state'),\n",
       " PosixPath('/home/kimlab1/strokach/tmp/test_pagnn_a1/models/model_000000021687.state'),\n",
       " PosixPath('/home/kimlab1/strokach/tmp/test_pagnn_a1/models/model_000000012337.state'),\n",
       " PosixPath('/home/kimlab1/strokach/tmp/test_pagnn_a1/models/model_000000046858.state'),\n",
       " PosixPath('/home/kimlab1/strokach/tmp/test_pagnn_a1/models/model_000000042759.state'),\n",
       " PosixPath('/home/kimlab1/strokach/tmp/test_pagnn_a1/models/model_000000007884.state'),\n",
       " PosixPath('/home/kimlab1/strokach/tmp/test_pagnn_a1/models/model_000000032341.state'),\n",
       " PosixPath('/home/kimlab1/strokach/tmp/test_pagnn_a1/models/model_000000001434.state'),\n",
       " PosixPath('/home/kimlab1/strokach/tmp/test_pagnn_a1/models/model_000000080431.state'),\n",
       " PosixPath('/home/kimlab1/strokach/tmp/test_pagnn_a1/models/model_000000017531.state'),\n",
       " PosixPath('/home/kimlab1/strokach/tmp/test_pagnn_a1/models/model_000000011855.state'),\n",
       " PosixPath('/home/kimlab1/strokach/tmp/test_pagnn_a1/models/model_000000047889.state'),\n",
       " PosixPath('/home/kimlab1/strokach/tmp/test_pagnn_a1/models/model_000000057396.state'),\n",
       " PosixPath('/home/kimlab1/strokach/tmp/test_pagnn_a1/models/model_000000038249.state'),\n",
       " PosixPath('/home/kimlab1/strokach/tmp/test_pagnn_a1/models/model_000000063413.state'),\n",
       " PosixPath('/home/kimlab1/strokach/tmp/test_pagnn_a1/models/model_000000057873.state'),\n",
       " PosixPath('/home/kimlab1/strokach/tmp/test_pagnn_a1/models/model_000000040224.state'),\n",
       " PosixPath('/home/kimlab1/strokach/tmp/test_pagnn_a1/models/model_000000073630.state'),\n",
       " PosixPath('/home/kimlab1/strokach/tmp/test_pagnn_a1/models/model_000000028826.state'),\n",
       " PosixPath('/home/kimlab1/strokach/tmp/test_pagnn_a1/models/model_000000025294.state'),\n",
       " PosixPath('/home/kimlab1/strokach/tmp/test_pagnn_a1/models/model_000000013869.state'),\n",
       " PosixPath('/home/kimlab1/strokach/tmp/test_pagnn_a1/models/model_000000015985.state'),\n",
       " PosixPath('/home/kimlab1/strokach/tmp/test_pagnn_a1/models/model_000000020643.state'),\n",
       " PosixPath('/home/kimlab1/strokach/tmp/test_pagnn_a1/models/model_000000001828.state'),\n",
       " PosixPath('/home/kimlab1/strokach/tmp/test_pagnn_a1/models/model_000000077488.state'),\n",
       " PosixPath('/home/kimlab1/strokach/tmp/test_pagnn_a1/models/model_000000043297.state'),\n",
       " PosixPath('/home/kimlab1/strokach/tmp/test_pagnn_a1/models/model_000000081408.state'),\n",
       " PosixPath('/home/kimlab1/strokach/tmp/test_pagnn_a1/models/model_000000053455.state'),\n",
       " PosixPath('/home/kimlab1/strokach/tmp/test_pagnn_a1/models/model_000000011342.state'),\n",
       " PosixPath('/home/kimlab1/strokach/tmp/test_pagnn_a1/models/model_000000019562.state'),\n",
       " PosixPath('/home/kimlab1/strokach/tmp/test_pagnn_a1/models/model_000000045887.state'),\n",
       " PosixPath('/home/kimlab1/strokach/tmp/test_pagnn_a1/models/model_000000002297.state'),\n",
       " PosixPath('/home/kimlab1/strokach/tmp/test_pagnn_a1/models/model_000000032839.state'),\n",
       " PosixPath('/home/kimlab1/strokach/tmp/test_pagnn_a1/models/model_000000034344.state'),\n",
       " PosixPath('/home/kimlab1/strokach/tmp/test_pagnn_a1/models/model_000000033847.state'),\n",
       " PosixPath('/home/kimlab1/strokach/tmp/test_pagnn_a1/models/model_000000004986.state'),\n",
       " PosixPath('/home/kimlab1/strokach/tmp/test_pagnn_a1/models/model_000000008854.state'),\n",
       " PosixPath('/home/kimlab1/strokach/tmp/test_pagnn_a1/models/model_000000012867.state'),\n",
       " PosixPath('/home/kimlab1/strokach/tmp/test_pagnn_a1/models/model_000000066822.state'),\n",
       " PosixPath('/home/kimlab1/strokach/tmp/test_pagnn_a1/models/model_000000052452.state'),\n",
       " PosixPath('/home/kimlab1/strokach/tmp/test_pagnn_a1/models/model_000000053951.state'),\n",
       " PosixPath('/home/kimlab1/strokach/tmp/test_pagnn_a1/models/model_000000027792.state'),\n",
       " PosixPath('/home/kimlab1/strokach/tmp/test_pagnn_a1/models/model_000000018545.state'),\n",
       " PosixPath('/home/kimlab1/strokach/tmp/test_pagnn_a1/models/model_000000010331.state'),\n",
       " PosixPath('/home/kimlab1/strokach/tmp/test_pagnn_a1/models/model_000000030846.state'),\n",
       " PosixPath('/home/kimlab1/strokach/tmp/test_pagnn_a1/models/model_000000020083.state'),\n",
       " PosixPath('/home/kimlab1/strokach/tmp/test_pagnn_a1/models/model_000000049905.state'),\n",
       " PosixPath('/home/kimlab1/strokach/tmp/test_pagnn_a1/models/model_000000029830.state'),\n",
       " PosixPath('/home/kimlab1/strokach/tmp/test_pagnn_a1/models/model_000000070677.state'),\n",
       " PosixPath('/home/kimlab1/strokach/tmp/test_pagnn_a1/models/model_000000067795.state'),\n",
       " PosixPath('/home/kimlab1/strokach/tmp/test_pagnn_a1/models/model_000000002700.state'),\n",
       " PosixPath('/home/kimlab1/strokach/tmp/test_pagnn_a1/models/model_000000060909.state'),\n",
       " PosixPath('/home/kimlab1/strokach/tmp/test_pagnn_a1/models/model_000000078469.state'),\n",
       " PosixPath('/home/kimlab1/strokach/tmp/test_pagnn_a1/models/model_000000023185.state'),\n",
       " PosixPath('/home/kimlab1/strokach/tmp/test_pagnn_a1/models/model_000000000000.state'),\n",
       " PosixPath('/home/kimlab1/strokach/tmp/test_pagnn_a1/models/model_000000051440.state'),\n",
       " PosixPath('/home/kimlab1/strokach/tmp/test_pagnn_a1/models/model_000000075629.state'),\n",
       " PosixPath('/home/kimlab1/strokach/tmp/test_pagnn_a1/models/model_000000041734.state'),\n",
       " PosixPath('/home/kimlab1/strokach/tmp/test_pagnn_a1/models/model_000000081916.state'),\n",
       " PosixPath('/home/kimlab1/strokach/tmp/test_pagnn_a1/models/model_000000044924.state'),\n",
       " PosixPath('/home/kimlab1/strokach/tmp/test_pagnn_a1/models/model_000000006447.state'),\n",
       " PosixPath('/home/kimlab1/strokach/tmp/test_pagnn_a1/models/model_000000062409.state'),\n",
       " PosixPath('/home/kimlab1/strokach/tmp/test_pagnn_a1/models/model_000000019044.state'),\n",
       " PosixPath('/home/kimlab1/strokach/tmp/test_pagnn_a1/models/model_000000082879.state'),\n",
       " PosixPath('/home/kimlab1/strokach/tmp/test_pagnn_a1/models/model_000000026291.state'),\n",
       " PosixPath('/home/kimlab1/strokach/tmp/test_pagnn_a1/models/model_000000000453.state'),\n",
       " PosixPath('/home/kimlab1/strokach/tmp/test_pagnn_a1/models/model_000000055395.state'),\n",
       " PosixPath('/home/kimlab1/strokach/tmp/test_pagnn_a1/models/model_000000038736.state'),\n",
       " PosixPath('/home/kimlab1/strokach/tmp/test_pagnn_a1/models/model_000000048895.state'),\n",
       " PosixPath('/home/kimlab1/strokach/tmp/test_pagnn_a1/models/model_000000065935.state'),\n",
       " PosixPath('/home/kimlab1/strokach/tmp/test_pagnn_a1/models/model_000000061933.state'),\n",
       " PosixPath('/home/kimlab1/strokach/tmp/test_pagnn_a1/models/model_000000030312.state'),\n",
       " PosixPath('/home/kimlab1/strokach/tmp/test_pagnn_a1/models/model_000000013357.state'),\n",
       " PosixPath('/home/kimlab1/strokach/tmp/test_pagnn_a1/models/model_000000068241.state'),\n",
       " PosixPath('/home/kimlab1/strokach/tmp/test_pagnn_a1/models/model_000000054441.state'),\n",
       " PosixPath('/home/kimlab1/strokach/tmp/test_pagnn_a1/models/model_000000028285.state'),\n",
       " PosixPath('/home/kimlab1/strokach/tmp/test_pagnn_a1/models/model_000000033333.state'),\n",
       " PosixPath('/home/kimlab1/strokach/tmp/test_pagnn_a1/models/model_000000076079.state'),\n",
       " PosixPath('/home/kimlab1/strokach/tmp/test_pagnn_a1/models/model_000000058843.state'),\n",
       " PosixPath('/home/kimlab1/strokach/tmp/test_pagnn_a1/models/model_000000004500.state'),\n",
       " PosixPath('/home/kimlab1/strokach/tmp/test_pagnn_a1/models/model_000000042228.state'),\n",
       " PosixPath('/home/kimlab1/strokach/tmp/test_pagnn_a1/models/model_000000047374.state'),\n",
       " PosixPath('/home/kimlab1/strokach/tmp/test_pagnn_a1/models/model_000000066397.state'),\n",
       " PosixPath('/home/kimlab1/strokach/tmp/test_pagnn_a1/models/model_000000075147.state'),\n",
       " PosixPath('/home/kimlab1/strokach/tmp/test_pagnn_a1/models/model_000000069194.state'),\n",
       " PosixPath('/home/kimlab1/strokach/tmp/test_pagnn_a1/models/model_000000056908.state'),\n",
       " PosixPath('/home/kimlab1/strokach/tmp/test_pagnn_a1/models/model_000000031345.state'),\n",
       " PosixPath('/home/kimlab1/strokach/tmp/test_pagnn_a1/models/model_000000009339.state'),\n",
       " PosixPath('/home/kimlab1/strokach/tmp/test_pagnn_a1/models/model_000000056411.state'),\n",
       " PosixPath('/home/kimlab1/strokach/tmp/test_pagnn_a1/models/model_000000000643.state'),\n",
       " PosixPath('/home/kimlab1/strokach/tmp/test_pagnn_a1/models/model_000000018045.state'),\n",
       " PosixPath('/home/kimlab1/strokach/tmp/test_pagnn_a1/models/model_000000036787.state'),\n",
       " PosixPath('/home/kimlab1/strokach/tmp/test_pagnn_a1/models/model_000000082403.state'),\n",
       " PosixPath('/home/kimlab1/strokach/tmp/test_pagnn_a1/models/model_000000036411.state'),\n",
       " PosixPath('/home/kimlab1/strokach/tmp/test_pagnn_a1/models/model_000000009839.state'),\n",
       " PosixPath('/home/kimlab1/strokach/tmp/test_pagnn_a1/models/model_000000014921.state'),\n",
       " PosixPath('/home/kimlab1/strokach/tmp/test_pagnn_a1/models/model_000000039706.state'),\n",
       " PosixPath('/home/kimlab1/strokach/tmp/test_pagnn_a1/models/model_000000060359.state'),\n",
       " PosixPath('/home/kimlab1/strokach/tmp/test_pagnn_a1/models/model_000000046345.state'),\n",
       " PosixPath('/home/kimlab1/strokach/tmp/test_pagnn_a1/models/model_000000058337.state'),\n",
       " PosixPath('/home/kimlab1/strokach/tmp/test_pagnn_a1/models/model_000000079409.state'),\n",
       " PosixPath('/home/kimlab1/strokach/tmp/test_pagnn_a1/models/model_000000007396.state'),\n",
       " PosixPath('/home/kimlab1/strokach/tmp/test_pagnn_a1/models/model_000000006926.state'),\n",
       " PosixPath('/home/kimlab1/strokach/tmp/test_pagnn_a1/models/model_000000026784.state'),\n",
       " PosixPath('/home/kimlab1/strokach/tmp/test_pagnn_a1/models/model_000000077973.state'),\n",
       " PosixPath('/home/kimlab1/strokach/tmp/test_pagnn_a1/models/model_000000079925.state'),\n",
       " PosixPath('/home/kimlab1/strokach/tmp/test_pagnn_a1/models/model_000000049395.state'),\n",
       " PosixPath('/home/kimlab1/strokach/tmp/test_pagnn_a1/models/model_000000021178.state'),\n",
       " PosixPath('/home/kimlab1/strokach/tmp/test_pagnn_a1/models/model_000000062913.state'),\n",
       " PosixPath('/home/kimlab1/strokach/tmp/test_pagnn_a1/models/model_000000005955.state'),\n",
       " PosixPath('/home/kimlab1/strokach/tmp/test_pagnn_a1/models/model_000000072166.state'),\n",
       " PosixPath('/home/kimlab1/strokach/tmp/test_pagnn_a1/models/model_000000072677.state'),\n",
       " PosixPath('/home/kimlab1/strokach/tmp/test_pagnn_a1/models/model_000000008376.state')]"
      ]
     },
     "execution_count": 122,
     "metadata": {},
     "output_type": "execute_result"
    }
   ],
   "source": [
    "list(OUTPUT_DIR.glob('**/*'))"
   ]
  },
  {
   "cell_type": "code",
   "execution_count": 123,
   "metadata": {},
   "outputs": [
    {
     "data": {
      "text/plain": [
       "PosixPath('/home/kimlab1/strokach/tmp/test_pagnn_a1/stats.db')"
      ]
     },
     "execution_count": 123,
     "metadata": {},
     "output_type": "execute_result"
    }
   ],
   "source": [
    "db_path = TRAINING_DATA_DIR.joinpath(\"stats.db\").resolve(strict=True)\n",
    "db_path"
   ]
  },
  {
   "cell_type": "code",
   "execution_count": 124,
   "metadata": {},
   "outputs": [
    {
     "name": "stdout",
     "output_type": "stream",
     "text": [
      "-rw-r--r-- 1 strokach kimlab 1.3M Sep 27 23:48 /home/kimlab1/strokach/tmp/test_pagnn_a1/stats.db\r\n"
     ]
    }
   ],
   "source": [
    "!ls -lSh /home/kimlab1/strokach/tmp/test_pagnn_a1/stats.db"
   ]
  },
  {
   "cell_type": "code",
   "execution_count": 125,
   "metadata": {
    "collapsed": true
   },
   "outputs": [],
   "source": [
    "engine = sa.create_engine(f\"sqlite:///{db_path}\")"
   ]
  },
  {
   "cell_type": "code",
   "execution_count": 126,
   "metadata": {},
   "outputs": [
    {
     "data": {
      "text/plain": [
       "['info', 'stats']"
      ]
     },
     "execution_count": 126,
     "metadata": {},
     "output_type": "execute_result"
    }
   ],
   "source": [
    "engine.table_names()"
   ]
  },
  {
   "cell_type": "markdown",
   "metadata": {},
   "source": [
    "### `info_df`"
   ]
  },
  {
   "cell_type": "code",
   "execution_count": 127,
   "metadata": {
    "collapsed": true
   },
   "outputs": [],
   "source": [
    "info_df = pd.read_sql_table(\"info\", engine)"
   ]
  },
  {
   "cell_type": "code",
   "execution_count": 128,
   "metadata": {},
   "outputs": [
    {
     "data": {
      "text/html": [
       "<div>\n",
       "<style scoped>\n",
       "    .dataframe tbody tr th:only-of-type {\n",
       "        vertical-align: middle;\n",
       "    }\n",
       "\n",
       "    .dataframe tbody tr th {\n",
       "        vertical-align: top;\n",
       "    }\n",
       "\n",
       "    .dataframe thead th {\n",
       "        text-align: right;\n",
       "    }\n",
       "</style>\n",
       "<table border=\"1\" class=\"dataframe\">\n",
       "  <thead>\n",
       "    <tr style=\"text-align: right;\">\n",
       "      <th></th>\n",
       "      <th>id</th>\n",
       "      <th>step</th>\n",
       "      <th>root_path</th>\n",
       "      <th>training_data_path</th>\n",
       "      <th>validation_data_path</th>\n",
       "      <th>validation_cache_path</th>\n",
       "      <th>learning_rate</th>\n",
       "      <th>beta1</th>\n",
       "      <th>beta2</th>\n",
       "      <th>clamp_lower</th>\n",
       "      <th>clamp_upper</th>\n",
       "      <th>weight_decay</th>\n",
       "      <th>hidden_size</th>\n",
       "      <th>min_seq_length</th>\n",
       "      <th>max_seq_length</th>\n",
       "      <th>batch_size</th>\n",
       "      <th>time_between_checkpoints</th>\n",
       "      <th>time_between_extended_checkpoints</th>\n",
       "      <th>runtime</th>\n",
       "      <th>d_iters</th>\n",
       "      <th>g_iters</th>\n",
       "      <th>training_methods</th>\n",
       "      <th>training_min_seq_identity</th>\n",
       "      <th>training_permutations</th>\n",
       "      <th>validation_methods</th>\n",
       "      <th>validation_min_seq_identity</th>\n",
       "      <th>validation_num_sequences</th>\n",
       "      <th>gpu</th>\n",
       "      <th>tag</th>\n",
       "      <th>array_id</th>\n",
       "      <th>num_aa_to_process</th>\n",
       "      <th>progressbar</th>\n",
       "      <th>num_concurrent_jobs</th>\n",
       "      <th>verbosity</th>\n",
       "    </tr>\n",
       "  </thead>\n",
       "  <tbody>\n",
       "    <tr>\n",
       "      <th>0</th>\n",
       "      <td>0</td>\n",
       "      <td>0</td>\n",
       "      <td>/tmp/strokach/test_pagnn_a1</td>\n",
       "      <td>/home/kimlab1/database_data/datapkg/adjacency-...</td>\n",
       "      <td>/home/kimlab1/database_data/datapkg/adjacency-...</td>\n",
       "      <td>/home/kimlab1/strokach/working/pagnn/pagnn/data</td>\n",
       "      <td>0.00005</td>\n",
       "      <td>0.5</td>\n",
       "      <td>0.999</td>\n",
       "      <td>-0.01</td>\n",
       "      <td>0.01</td>\n",
       "      <td>0.001</td>\n",
       "      <td>64</td>\n",
       "      <td>64</td>\n",
       "      <td>2048</td>\n",
       "      <td>3</td>\n",
       "      <td>60.0</td>\n",
       "      <td>600.0</td>\n",
       "      <td>86313600.0</td>\n",
       "      <td>1</td>\n",
       "      <td>1</td>\n",
       "      <td>permute</td>\n",
       "      <td>0</td>\n",
       "      <td>seq</td>\n",
       "      <td>permute.exact</td>\n",
       "      <td>80</td>\n",
       "      <td>1000</td>\n",
       "      <td>-1</td>\n",
       "      <td></td>\n",
       "      <td>0</td>\n",
       "      <td>0</td>\n",
       "      <td>True</td>\n",
       "      <td>1</td>\n",
       "      <td>2</td>\n",
       "    </tr>\n",
       "  </tbody>\n",
       "</table>\n",
       "</div>"
      ],
      "text/plain": [
       "   id  step                    root_path  \\\n",
       "0   0     0  /tmp/strokach/test_pagnn_a1   \n",
       "\n",
       "                                  training_data_path  \\\n",
       "0  /home/kimlab1/database_data/datapkg/adjacency-...   \n",
       "\n",
       "                                validation_data_path  \\\n",
       "0  /home/kimlab1/database_data/datapkg/adjacency-...   \n",
       "\n",
       "                             validation_cache_path  learning_rate  beta1  \\\n",
       "0  /home/kimlab1/strokach/working/pagnn/pagnn/data        0.00005    0.5   \n",
       "\n",
       "   beta2  clamp_lower  clamp_upper  weight_decay  hidden_size  min_seq_length  \\\n",
       "0  0.999        -0.01         0.01         0.001           64              64   \n",
       "\n",
       "   max_seq_length  batch_size  time_between_checkpoints  \\\n",
       "0            2048           3                      60.0   \n",
       "\n",
       "   time_between_extended_checkpoints     runtime  d_iters  g_iters  \\\n",
       "0                              600.0  86313600.0        1        1   \n",
       "\n",
       "  training_methods  training_min_seq_identity training_permutations  \\\n",
       "0          permute                          0                   seq   \n",
       "\n",
       "  validation_methods  validation_min_seq_identity  validation_num_sequences  \\\n",
       "0      permute.exact                           80                      1000   \n",
       "\n",
       "   gpu tag  array_id  num_aa_to_process  progressbar  num_concurrent_jobs  \\\n",
       "0   -1             0                  0         True                    1   \n",
       "\n",
       "   verbosity  \n",
       "0          2  "
      ]
     },
     "metadata": {},
     "output_type": "display_data"
    },
    {
     "name": "stdout",
     "output_type": "stream",
     "text": [
      "1\n"
     ]
    }
   ],
   "source": [
    "display(info_df.head())\n",
    "print(len(info_df))"
   ]
  },
  {
   "cell_type": "markdown",
   "metadata": {},
   "source": [
    "### `stats_df`"
   ]
  },
  {
   "cell_type": "code",
   "execution_count": 129,
   "metadata": {},
   "outputs": [],
   "source": [
    "stats_df = pd.read_sql_table(\"stats\", engine)"
   ]
  },
  {
   "cell_type": "code",
   "execution_count": 130,
   "metadata": {},
   "outputs": [
    {
     "data": {
      "text/html": [
       "<div>\n",
       "<style scoped>\n",
       "    .dataframe tbody tr th:only-of-type {\n",
       "        vertical-align: middle;\n",
       "    }\n",
       "\n",
       "    .dataframe tbody tr th {\n",
       "        vertical-align: top;\n",
       "    }\n",
       "\n",
       "    .dataframe thead th {\n",
       "        text-align: right;\n",
       "    }\n",
       "</style>\n",
       "<table border=\"1\" class=\"dataframe\">\n",
       "  <thead>\n",
       "    <tr style=\"text-align: right;\">\n",
       "      <th></th>\n",
       "      <th>info_id</th>\n",
       "      <th>step</th>\n",
       "      <th>sequence_number</th>\n",
       "      <th>training_pos-auc</th>\n",
       "      <th>time_between_checkpoints</th>\n",
       "      <th>validation_gan_permute_80_1000-auc</th>\n",
       "      <th>validation_gan_exact_80_1000-auc</th>\n",
       "      <th>pos_preds-mean</th>\n",
       "      <th>neg_preds-mean</th>\n",
       "      <th>pos_losses-mean</th>\n",
       "      <th>neg_losses-mean</th>\n",
       "      <th>model_location</th>\n",
       "      <th>pos_preds</th>\n",
       "      <th>neg_preds</th>\n",
       "      <th>pos_losses</th>\n",
       "      <th>neg_losses</th>\n",
       "    </tr>\n",
       "  </thead>\n",
       "  <tbody>\n",
       "    <tr>\n",
       "      <th>0</th>\n",
       "      <td>0</td>\n",
       "      <td>0</td>\n",
       "      <td>0</td>\n",
       "      <td>1.0</td>\n",
       "      <td>NaN</td>\n",
       "      <td>0.494215</td>\n",
       "      <td>0.48887</td>\n",
       "      <td>0.507283</td>\n",
       "      <td>0.497234</td>\n",
       "      <td>0.680950</td>\n",
       "      <td>0.689767</td>\n",
       "      <td>models/model_000000000000.state</td>\n",
       "      <td>b\"\\x80\\x04\\x95\\xc5\\x00\\x00\\x00\\x00\\x00\\x00\\x00...</td>\n",
       "      <td>b'\\x80\\x04\\x95\\xc5\\x00\\x00\\x00\\x00\\x00\\x00\\x00...</td>\n",
       "      <td>b'\\x80\\x04\\x95\\x8e\\x00\\x00\\x00\\x00\\x00\\x00\\x00...</td>\n",
       "      <td>b'\\x80\\x04\\x95\\x8e\\x00\\x00\\x00\\x00\\x00\\x00\\x00...</td>\n",
       "    </tr>\n",
       "    <tr>\n",
       "      <th>1</th>\n",
       "      <td>0</td>\n",
       "      <td>1</td>\n",
       "      <td>3</td>\n",
       "      <td>0.0</td>\n",
       "      <td>169.524776</td>\n",
       "      <td>NaN</td>\n",
       "      <td>NaN</td>\n",
       "      <td>0.501548</td>\n",
       "      <td>0.509153</td>\n",
       "      <td>0.693797</td>\n",
       "      <td>0.717803</td>\n",
       "      <td>None</td>\n",
       "      <td>b'\\x80\\x04\\x95\\xad\\x00\\x00\\x00\\x00\\x00\\x00\\x00...</td>\n",
       "      <td>b'\\x80\\x04\\x95\\xad\\x00\\x00\\x00\\x00\\x00\\x00\\x00...</td>\n",
       "      <td>b'\\x80\\x04\\x95\\x8e\\x00\\x00\\x00\\x00\\x00\\x00\\x00...</td>\n",
       "      <td>b'\\x80\\x04\\x95\\x8e\\x00\\x00\\x00\\x00\\x00\\x00\\x00...</td>\n",
       "    </tr>\n",
       "    <tr>\n",
       "      <th>2</th>\n",
       "      <td>0</td>\n",
       "      <td>14</td>\n",
       "      <td>42</td>\n",
       "      <td>1.0</td>\n",
       "      <td>65.102949</td>\n",
       "      <td>NaN</td>\n",
       "      <td>NaN</td>\n",
       "      <td>0.518073</td>\n",
       "      <td>0.488425</td>\n",
       "      <td>0.662457</td>\n",
       "      <td>0.675325</td>\n",
       "      <td>None</td>\n",
       "      <td>b'\\x80\\x04\\x95\\xb5\\x00\\x00\\x00\\x00\\x00\\x00\\x00...</td>\n",
       "      <td>b'\\x80\\x04\\x95\\xb5\\x00\\x00\\x00\\x00\\x00\\x00\\x00...</td>\n",
       "      <td>b'\\x80\\x04\\x95\\x8e\\x00\\x00\\x00\\x00\\x00\\x00\\x00...</td>\n",
       "      <td>b'\\x80\\x04\\x95\\x8e\\x00\\x00\\x00\\x00\\x00\\x00\\x00...</td>\n",
       "    </tr>\n",
       "    <tr>\n",
       "      <th>3</th>\n",
       "      <td>0</td>\n",
       "      <td>35</td>\n",
       "      <td>105</td>\n",
       "      <td>0.0</td>\n",
       "      <td>66.618601</td>\n",
       "      <td>NaN</td>\n",
       "      <td>NaN</td>\n",
       "      <td>0.489875</td>\n",
       "      <td>0.497779</td>\n",
       "      <td>0.719322</td>\n",
       "      <td>0.692655</td>\n",
       "      <td>None</td>\n",
       "      <td>b'\\x80\\x04\\x95\\xb5\\x00\\x00\\x00\\x00\\x00\\x00\\x00...</td>\n",
       "      <td>b'\\x80\\x04\\x95\\xb5\\x00\\x00\\x00\\x00\\x00\\x00\\x00...</td>\n",
       "      <td>b'\\x80\\x04\\x95\\x8e\\x00\\x00\\x00\\x00\\x00\\x00\\x00...</td>\n",
       "      <td>b'\\x80\\x04\\x95\\x8e\\x00\\x00\\x00\\x00\\x00\\x00\\x00...</td>\n",
       "    </tr>\n",
       "    <tr>\n",
       "      <th>4</th>\n",
       "      <td>0</td>\n",
       "      <td>52</td>\n",
       "      <td>156</td>\n",
       "      <td>1.0</td>\n",
       "      <td>65.645086</td>\n",
       "      <td>NaN</td>\n",
       "      <td>NaN</td>\n",
       "      <td>0.508703</td>\n",
       "      <td>0.477534</td>\n",
       "      <td>0.680923</td>\n",
       "      <td>0.652061</td>\n",
       "      <td>None</td>\n",
       "      <td>b'\\x80\\x04\\x95\\xb5\\x00\\x00\\x00\\x00\\x00\\x00\\x00...</td>\n",
       "      <td>b'\\x80\\x04\\x95\\xb5\\x00\\x00\\x00\\x00\\x00\\x00\\x00...</td>\n",
       "      <td>b'\\x80\\x04\\x95\\x8e\\x00\\x00\\x00\\x00\\x00\\x00\\x00...</td>\n",
       "      <td>b'\\x80\\x04\\x95\\x8e\\x00\\x00\\x00\\x00\\x00\\x00\\x00...</td>\n",
       "    </tr>\n",
       "  </tbody>\n",
       "</table>\n",
       "</div>"
      ],
      "text/plain": [
       "   info_id  step  sequence_number  training_pos-auc  time_between_checkpoints  \\\n",
       "0        0     0                0               1.0                       NaN   \n",
       "1        0     1                3               0.0                169.524776   \n",
       "2        0    14               42               1.0                 65.102949   \n",
       "3        0    35              105               0.0                 66.618601   \n",
       "4        0    52              156               1.0                 65.645086   \n",
       "\n",
       "   validation_gan_permute_80_1000-auc  validation_gan_exact_80_1000-auc  \\\n",
       "0                            0.494215                           0.48887   \n",
       "1                                 NaN                               NaN   \n",
       "2                                 NaN                               NaN   \n",
       "3                                 NaN                               NaN   \n",
       "4                                 NaN                               NaN   \n",
       "\n",
       "   pos_preds-mean  neg_preds-mean  pos_losses-mean  neg_losses-mean  \\\n",
       "0        0.507283        0.497234         0.680950         0.689767   \n",
       "1        0.501548        0.509153         0.693797         0.717803   \n",
       "2        0.518073        0.488425         0.662457         0.675325   \n",
       "3        0.489875        0.497779         0.719322         0.692655   \n",
       "4        0.508703        0.477534         0.680923         0.652061   \n",
       "\n",
       "                    model_location  \\\n",
       "0  models/model_000000000000.state   \n",
       "1                             None   \n",
       "2                             None   \n",
       "3                             None   \n",
       "4                             None   \n",
       "\n",
       "                                           pos_preds  \\\n",
       "0  b\"\\x80\\x04\\x95\\xc5\\x00\\x00\\x00\\x00\\x00\\x00\\x00...   \n",
       "1  b'\\x80\\x04\\x95\\xad\\x00\\x00\\x00\\x00\\x00\\x00\\x00...   \n",
       "2  b'\\x80\\x04\\x95\\xb5\\x00\\x00\\x00\\x00\\x00\\x00\\x00...   \n",
       "3  b'\\x80\\x04\\x95\\xb5\\x00\\x00\\x00\\x00\\x00\\x00\\x00...   \n",
       "4  b'\\x80\\x04\\x95\\xb5\\x00\\x00\\x00\\x00\\x00\\x00\\x00...   \n",
       "\n",
       "                                           neg_preds  \\\n",
       "0  b'\\x80\\x04\\x95\\xc5\\x00\\x00\\x00\\x00\\x00\\x00\\x00...   \n",
       "1  b'\\x80\\x04\\x95\\xad\\x00\\x00\\x00\\x00\\x00\\x00\\x00...   \n",
       "2  b'\\x80\\x04\\x95\\xb5\\x00\\x00\\x00\\x00\\x00\\x00\\x00...   \n",
       "3  b'\\x80\\x04\\x95\\xb5\\x00\\x00\\x00\\x00\\x00\\x00\\x00...   \n",
       "4  b'\\x80\\x04\\x95\\xb5\\x00\\x00\\x00\\x00\\x00\\x00\\x00...   \n",
       "\n",
       "                                          pos_losses  \\\n",
       "0  b'\\x80\\x04\\x95\\x8e\\x00\\x00\\x00\\x00\\x00\\x00\\x00...   \n",
       "1  b'\\x80\\x04\\x95\\x8e\\x00\\x00\\x00\\x00\\x00\\x00\\x00...   \n",
       "2  b'\\x80\\x04\\x95\\x8e\\x00\\x00\\x00\\x00\\x00\\x00\\x00...   \n",
       "3  b'\\x80\\x04\\x95\\x8e\\x00\\x00\\x00\\x00\\x00\\x00\\x00...   \n",
       "4  b'\\x80\\x04\\x95\\x8e\\x00\\x00\\x00\\x00\\x00\\x00\\x00...   \n",
       "\n",
       "                                          neg_losses  \n",
       "0  b'\\x80\\x04\\x95\\x8e\\x00\\x00\\x00\\x00\\x00\\x00\\x00...  \n",
       "1  b'\\x80\\x04\\x95\\x8e\\x00\\x00\\x00\\x00\\x00\\x00\\x00...  \n",
       "2  b'\\x80\\x04\\x95\\x8e\\x00\\x00\\x00\\x00\\x00\\x00\\x00...  \n",
       "3  b'\\x80\\x04\\x95\\x8e\\x00\\x00\\x00\\x00\\x00\\x00\\x00...  \n",
       "4  b'\\x80\\x04\\x95\\x8e\\x00\\x00\\x00\\x00\\x00\\x00\\x00...  "
      ]
     },
     "metadata": {},
     "output_type": "display_data"
    },
    {
     "name": "stdout",
     "output_type": "stream",
     "text": [
      "1549\n"
     ]
    }
   ],
   "source": [
    "display(stats_df.head())\n",
    "print(len(stats_df))"
   ]
  },
  {
   "cell_type": "code",
   "execution_count": 151,
   "metadata": {},
   "outputs": [
    {
     "data": {
      "text/plain": [
       "[array([[[0.529233  , 0.46107668, 0.46573684, 0.50503033, 0.50791866,\n",
       "          0.46704945, 0.5103783 , 0.4910075 , 0.57594764, 0.5348321 ,\n",
       "          0.5630106 , 0.4841288 , 0.49932477]]], dtype=float32)]"
      ]
     },
     "execution_count": 151,
     "metadata": {},
     "output_type": "execute_result"
    }
   ],
   "source": [
    "stats_df['pos_preds'].apply(pickle.loads).iloc[0]"
   ]
  },
  {
   "cell_type": "code",
   "execution_count": 150,
   "metadata": {},
   "outputs": [
    {
     "data": {
      "text/plain": [
       "[array([[[0.5290002 , 0.44780627, 0.57400656, 0.51561236, 0.51582277,\n",
       "          0.48346874, 0.46171272, 0.45759168, 0.501192  , 0.50906247,\n",
       "          0.49067193, 0.47876915, 0.49932477]]], dtype=float32)]"
      ]
     },
     "execution_count": 150,
     "metadata": {},
     "output_type": "execute_result"
    }
   ],
   "source": [
    "stats_df['neg_preds'].apply(pickle.loads).iloc[0]"
   ]
  },
  {
   "cell_type": "code",
   "execution_count": 152,
   "metadata": {},
   "outputs": [
    {
     "data": {
      "text/plain": [
       "[array(0.6809495, dtype=float32)]"
      ]
     },
     "execution_count": 152,
     "metadata": {},
     "output_type": "execute_result"
    }
   ],
   "source": [
    "stats_df['pos_losses'].apply(pickle.loads).iloc[0]"
   ]
  },
  {
   "cell_type": "code",
   "execution_count": 158,
   "metadata": {},
   "outputs": [
    {
     "data": {
      "text/plain": [
       "0.6897671222686768"
      ]
     },
     "execution_count": 158,
     "metadata": {},
     "output_type": "execute_result"
    }
   ],
   "source": [
    "stats_df['neg_losses'].apply(pickle.loads).iloc[0][0].tolist()"
   ]
  },
  {
   "cell_type": "code",
   "execution_count": 165,
   "metadata": {
    "collapsed": true
   },
   "outputs": [],
   "source": [
    "def arrays_to_list(arrays):\n",
    "    ar = np.hstack([ar.reshape(-1) for ar in arrays])\n",
    "    return ar.tolist()\n",
    "\n"
   ]
  },
  {
   "cell_type": "code",
   "execution_count": 168,
   "metadata": {},
   "outputs": [
    {
     "data": {
      "text/plain": [
       "0    [0.5290002226829529, 0.4478062689304352, 0.574...\n",
       "1    [0.4420446455478668, 0.47301217913627625, 0.46...\n",
       "2    [0.4559227228164673, 0.5397010445594788, 0.583...\n",
       "3    [0.4710617959499359, 0.5322883129119873, 0.536...\n",
       "4    [0.5251353979110718, 0.4388084411621094, 0.476...\n",
       "Name: neg_preds, dtype: object"
      ]
     },
     "execution_count": 168,
     "metadata": {},
     "output_type": "execute_result"
    }
   ],
   "source": [
    "stats_df['neg_preds'].apply(pickle.loads).apply(arrays_to_list).head()"
   ]
  },
  {
   "cell_type": "code",
   "execution_count": 169,
   "metadata": {},
   "outputs": [
    {
     "data": {
      "text/plain": [
       "0          [0.6897671222686768]\n",
       "1          [0.7178026437759399]\n",
       "2          [0.6753249764442444]\n",
       "3           [0.692654550075531]\n",
       "4          [0.6520606875419617]\n",
       "5            [0.70010906457901]\n",
       "6          [0.6639695167541504]\n",
       "7          [0.7100211977958679]\n",
       "8          [0.7123652696609497]\n",
       "9          [0.6862193942070007]\n",
       "10         [0.6929119825363159]\n",
       "11         [0.6962013244628906]\n",
       "12         [0.6820277571678162]\n",
       "13         [0.7235894799232483]\n",
       "14         [0.7155508399009705]\n",
       "15         [0.7061637043952942]\n",
       "16         [0.7266660332679749]\n",
       "17         [0.6937105059623718]\n",
       "18         [0.6732368469238281]\n",
       "19         [0.6399072408676147]\n",
       "20         [0.7347503900527954]\n",
       "21         [0.7146365642547607]\n",
       "22         [0.6714949607849121]\n",
       "23         [0.5950021147727966]\n",
       "24         [0.7891719937324524]\n",
       "25         [0.7092992067337036]\n",
       "26         [0.7392634749412537]\n",
       "27         [0.7492597699165344]\n",
       "28         [0.7653324007987976]\n",
       "29          [0.693496584892273]\n",
       "                 ...           \n",
       "1519      [0.08702930808067322]\n",
       "1520     [0.010214636102318764]\n",
       "1521    [0.0017305396031588316]\n",
       "1522      [0.09071575105190277]\n",
       "1523     [0.032402925193309784]\n",
       "1524      [0.08355474472045898]\n",
       "1525      [0.07228118926286697]\n",
       "1526      [0.06593475490808487]\n",
       "1527      [0.08118389546871185]\n",
       "1528       [0.0694764032959938]\n",
       "1529     [0.001970186596736312]\n",
       "1530    [0.0028365154284983873]\n",
       "1531    [0.0037408722564578056]\n",
       "1532      [0.24171115458011627]\n",
       "1533    [0.0005572406807914376]\n",
       "1534     [0.003824840532615781]\n",
       "1535       [0.5638210773468018]\n",
       "1536      [0.11650650948286057]\n",
       "1537      [0.11424706131219864]\n",
       "1538      [0.07840412110090256]\n",
       "1539      [0.01674404926598072]\n",
       "1540      [0.09336896240711212]\n",
       "1541    [0.0019453217973932624]\n",
       "1542      [0.08757459372282028]\n",
       "1543       [0.3335145115852356]\n",
       "1544      [0.06675077229738235]\n",
       "1545      [0.12846548855304718]\n",
       "1546    [0.0012868375051766634]\n",
       "1547      [0.01588207297027111]\n",
       "1548       [0.1156144067645073]\n",
       "Name: neg_losses, Length: 1549, dtype: object"
      ]
     },
     "execution_count": 169,
     "metadata": {},
     "output_type": "execute_result"
    }
   ],
   "source": [
    "stats_df['neg_losses'].apply(pickle.loads).apply(arrays_to_list)"
   ]
  },
  {
   "cell_type": "code",
   "execution_count": null,
   "metadata": {
    "collapsed": true
   },
   "outputs": [],
   "source": []
  },
  {
   "cell_type": "code",
   "execution_count": 134,
   "metadata": {
    "collapsed": true
   },
   "outputs": [],
   "source": [
    "import pickle\n",
    "\n",
    "pickle.loads"
   ]
  },
  {
   "cell_type": "code",
   "execution_count": null,
   "metadata": {
    "collapsed": true
   },
   "outputs": [],
   "source": []
  },
  {
   "cell_type": "code",
   "execution_count": null,
   "metadata": {
    "collapsed": true
   },
   "outputs": [],
   "source": []
  },
  {
   "cell_type": "code",
   "execution_count": 131,
   "metadata": {},
   "outputs": [
    {
     "data": {
      "text/plain": [
       "[<matplotlib.lines.Line2D at 0x7f7525adb8d0>]"
      ]
     },
     "execution_count": 131,
     "metadata": {},
     "output_type": "execute_result"
    },
    {
     "data": {
      "image/png": "[encoded data removed]",
      "text/plain": [
       "<Figure size 432x288 with 1 Axes>"
      ]
     },
     "metadata": {},
     "output_type": "display_data"
    }
   ],
   "source": [
    "plt.plot(stats_df['training_pos-auc'], 'rx')"
   ]
  },
  {
   "cell_type": "code",
   "execution_count": 132,
   "metadata": {},
   "outputs": [
    {
     "data": {
      "text/plain": [
       "[<matplotlib.lines.Line2D at 0x7f75258fd080>]"
      ]
     },
     "execution_count": 132,
     "metadata": {},
     "output_type": "execute_result"
    },
    {
     "data": {
      "image/png": "[encoded data removed]",
      "text/plain": [
       "<Figure size 432x288 with 1 Axes>"
      ]
     },
     "metadata": {},
     "output_type": "display_data"
    }
   ],
   "source": [
    "plt.plot(stats_df['validation_gan_permute_80_1000-auc'], 'rx')"
   ]
  },
  {
   "cell_type": "code",
   "execution_count": 133,
   "metadata": {},
   "outputs": [
    {
     "data": {
      "text/plain": [
       "[<matplotlib.lines.Line2D at 0x7f752b4e7358>]"
      ]
     },
     "execution_count": 133,
     "metadata": {},
     "output_type": "execute_result"
    },
    {
     "data": {
      "image/png": "[encoded data removed]",
      "text/plain": [
       "<Figure size 432x288 with 1 Axes>"
      ]
     },
     "metadata": {},
     "output_type": "display_data"
    }
   ],
   "source": [
    "plt.plot(stats_df['validation_gan_exact_80_1000-auc'], 'rx')"
   ]
  },
  {
   "cell_type": "code",
   "execution_count": null,
   "metadata": {
    "collapsed": true
   },
   "outputs": [],
   "source": []
  },
  {
   "cell_type": "code",
   "execution_count": null,
   "metadata": {
    "collapsed": true
   },
   "outputs": [],
   "source": []
  },
  {
   "cell_type": "code",
   "execution_count": null,
   "metadata": {
    "collapsed": true
   },
   "outputs": [],
   "source": []
  }
 ],
 "metadata": {
  "kernelspec": {
   "display_name": "Python [default]",
   "language": "python",
   "name": "python3"
  },
  "language_info": {
   "codemirror_mode": {
    "name": "ipython",
    "version": 3
   },
   "file_extension": ".py",
   "mimetype": "text/x-python",
   "name": "python",
   "nbconvert_exporter": "python",
   "pygments_lexer": "ipython3",
   "version": "3.6.4"
  },
  "toc": {
   "base_numbering": 1,
   "nav_menu": {},
   "number_sections": false,
   "sideBar": false,
   "skip_h1_title": false,
   "title_cell": "Table of Contents",
   "title_sidebar": "Contents",
   "toc_cell": false,
   "toc_position": {
    "height": "224px",
    "left": "1022.98px",
    "top": "106px",
    "width": "199px"
   },
   "toc_section_display": true,
   "toc_window_display": true
  }
 },
 "nbformat": 4,
 "nbformat_minor": 2
}
