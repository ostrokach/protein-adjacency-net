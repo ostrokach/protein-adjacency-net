{
 "cells": [
  {
   "cell_type": "markdown",
   "metadata": {},
   "source": [
    "# Summary"
   ]
  },
  {
   "cell_type": "markdown",
   "metadata": {},
   "source": [
    "# Imports"
   ]
  },
  {
   "cell_type": "code",
   "execution_count": 1,
   "metadata": {},
   "outputs": [],
   "source": [
    "import pyarrow"
   ]
  },
  {
   "cell_type": "code",
   "execution_count": 2,
   "metadata": {},
   "outputs": [],
   "source": [
    "import concurrent.futures\n",
    "import itertools\n",
    "import multiprocessing\n",
    "import os\n",
    "import os.path as op\n",
    "import pickle\n",
    "import subprocess\n",
    "import tempfile\n",
    "from functools import partial\n",
    "from pathlib import Path\n",
    "\n",
    "import numpy as np\n",
    "import matplotlib.pyplot as plt\n",
    "import pandas as pd\n",
    "import pyarrow as pa\n",
    "import pyarrow.parquet as pq\n",
    "import seaborn as sns\n",
    "import sqlalchemy as sa\n",
    "from scipy import stats\n",
    "from sklearn import metrics\n",
    "\n",
    "from kmtools import py_tools, sequence_tools"
   ]
  },
  {
   "cell_type": "code",
   "execution_count": 3,
   "metadata": {},
   "outputs": [],
   "source": [
    "%matplotlib inline"
   ]
  },
  {
   "cell_type": "code",
   "execution_count": 4,
   "metadata": {},
   "outputs": [],
   "source": [
    "pd.set_option(\"max_columns\", 100)"
   ]
  },
  {
   "cell_type": "markdown",
   "metadata": {},
   "source": [
    "# Parameters"
   ]
  },
  {
   "cell_type": "code",
   "execution_count": 5,
   "metadata": {},
   "outputs": [
    {
     "data": {
      "text/plain": [
       "PosixPath('validation_remote_homology_detection')"
      ]
     },
     "execution_count": 5,
     "metadata": {},
     "output_type": "execute_result"
    }
   ],
   "source": [
    "NOTEBOOK_PATH = Path('validation_remote_homology_detection')\n",
    "NOTEBOOK_PATH"
   ]
  },
  {
   "cell_type": "code",
   "execution_count": 6,
   "metadata": {},
   "outputs": [
    {
     "data": {
      "text/plain": [
       "PosixPath('/scratch/strokach/datapkg/adjacency-net-v2/notebooks/validation_remote_homology_detection')"
      ]
     },
     "execution_count": 6,
     "metadata": {},
     "output_type": "execute_result"
    }
   ],
   "source": [
    "OUTPUT_PATH = Path(os.getenv('OUTPUT_DIR', NOTEBOOK_PATH.name)).resolve()\n",
    "OUTPUT_PATH.mkdir(parents=True, exist_ok=True)\n",
    "OUTPUT_PATH"
   ]
  },
  {
   "cell_type": "code",
   "execution_count": 46,
   "metadata": {},
   "outputs": [
    {
     "data": {
      "text/plain": [
       "'b6ef652'"
      ]
     },
     "execution_count": 46,
     "metadata": {},
     "output_type": "execute_result"
    }
   ],
   "source": [
    "proc = subprocess.run([\"git\", \"rev-parse\", \"--short\", \"HEAD\"], stdout=subprocess.PIPE)\n",
    "GIT_REV = proc.stdout.decode().strip()\n",
    "GIT_REV"
   ]
  },
  {
   "cell_type": "code",
   "execution_count": 7,
   "metadata": {},
   "outputs": [
    {
     "data": {
      "text/plain": [
       "(None, None)"
      ]
     },
     "execution_count": 7,
     "metadata": {},
     "output_type": "execute_result"
    }
   ],
   "source": [
    "TASK_ID = os.getenv(\"SLURM_ARRAY_TASK_ID\")\n",
    "TASK_COUNT = os.getenv(\"ORIGINAL_ARRAY_TASK_COUNT\") or os.getenv(\"SLURM_ARRAY_TASK_COUNT\")\n",
    "NETWORK_NAME = os.getenv(\"NETWORK_NAME\", GIT_REV)\n",
    "\n",
    "TASK_ID = int(TASK_ID) if TASK_ID is not None else None\n",
    "TASK_COUNT = int(TASK_COUNT) if TASK_COUNT is not None else None\n",
    "\n",
    "TASK_ID, TASK_COUNT"
   ]
  },
  {
   "cell_type": "code",
   "execution_count": 8,
   "metadata": {},
   "outputs": [
    {
     "data": {
      "text/plain": [
       "True"
      ]
     },
     "execution_count": 8,
     "metadata": {},
     "output_type": "execute_result"
    }
   ],
   "source": [
    "DEBUG = \"CI\" not in os.environ    \n",
    "DEBUG"
   ]
  },
  {
   "cell_type": "code",
   "execution_count": 9,
   "metadata": {},
   "outputs": [],
   "source": [
    "if DEBUG:\n",
    "    NETWORK_NAME = \"dcn_old_0,9c5a963\"\n",
    "else:\n",
    "    assert NETWORK_NAME is not None"
   ]
  },
  {
   "cell_type": "code",
   "execution_count": 10,
   "metadata": {},
   "outputs": [],
   "source": [
    "# if DEBUG:\n",
    "#     %load_ext autoreload\n",
    "#     %autoreload 2"
   ]
  },
  {
   "cell_type": "markdown",
   "metadata": {},
   "source": [
    "# `DATAPKG`"
   ]
  },
  {
   "cell_type": "code",
   "execution_count": 11,
   "metadata": {},
   "outputs": [],
   "source": [
    "DATAPKG = {}"
   ]
  },
  {
   "cell_type": "code",
   "execution_count": 12,
   "metadata": {},
   "outputs": [],
   "source": [
    "DATAPKG['uniparc-domain-wstructure'] = (\n",
    "    Path(os.environ['DATAPKG_OUTPUT_DIR'])\n",
    "    .joinpath(\"uniparc-domain-wstructure\", \"master\")\n",
    ")"
   ]
  },
  {
   "cell_type": "code",
   "execution_count": 13,
   "metadata": {},
   "outputs": [],
   "source": [
    "DATAPKG['adjacency_net_v2'] = (\n",
    "    Path(os.environ['DATAPKG_OUTPUT_DIR'])\n",
    "    .joinpath(\"adjacency-net-v2\", \"master\")\n",
    ")"
   ]
  },
  {
   "cell_type": "code",
   "execution_count": 14,
   "metadata": {},
   "outputs": [],
   "source": [
    "DATAPKG['hhsuite-wstructure'] = (\n",
    "    Path(os.environ['DATAPKG_OUTPUT_DIR'])\n",
    "    .joinpath(\"hhsuite-wstructure\", \"master\")\n",
    ")"
   ]
  },
  {
   "cell_type": "markdown",
   "metadata": {},
   "source": [
    "# Network evaluation"
   ]
  },
  {
   "cell_type": "code",
   "execution_count": 15,
   "metadata": {},
   "outputs": [],
   "source": [
    "%run trained_networks.ipynb"
   ]
  },
  {
   "cell_type": "code",
   "execution_count": 16,
   "metadata": {
    "code_folding": []
   },
   "outputs": [],
   "source": [
    "def predict_with_dcn_old(input_, network_info, network_state):\n",
    "    from pagnn.prediction.dcn_old import Args, main\n",
    "    for adj_col in ['adjacency_idx_1', 'adjacency_idx_2']:\n",
    "        input_[adj_col] = input_.apply(lambda row: np.r_[row[adj_col], 0:len(row['sequence'])], axis=1).values\n",
    "    args = Args(network_info=network_info, network_state=network_state)\n",
    "    output_df = main(args, input_)\n",
    "    return output_df"
   ]
  },
  {
   "cell_type": "code",
   "execution_count": 17,
   "metadata": {
    "code_folding": []
   },
   "outputs": [],
   "source": [
    "def predict_with_dcn(input_, network_info, network_state):\n",
    "    from pagnn.prediction.dcn import Args, main\n",
    "    args = Args(network_info=network_info, network_state=network_state)\n",
    "    output_df = main(args, input_)\n",
    "    return output_df"
   ]
  },
  {
   "cell_type": "markdown",
   "metadata": {},
   "source": [
    "## Remote homology detection"
   ]
  },
  {
   "cell_type": "code",
   "execution_count": 18,
   "metadata": {},
   "outputs": [],
   "source": [
    "remote_homology_dataset_file = (\n",
    "    DATAPKG['hhsuite-wstructure']\n",
    "    .joinpath('scop_remote_homology_detection', 'remote_homology_dataset.parquet')\n",
    ")"
   ]
  },
  {
   "cell_type": "code",
   "execution_count": 19,
   "metadata": {},
   "outputs": [],
   "source": [
    "remote_homology_dataset = pq.read_table(remote_homology_dataset_file).to_pandas()"
   ]
  },
  {
   "cell_type": "code",
   "execution_count": 20,
   "metadata": {},
   "outputs": [
    {
     "data": {
      "text/html": [
       "<div>\n",
       "<style scoped>\n",
       "    .dataframe tbody tr th:only-of-type {\n",
       "        vertical-align: middle;\n",
       "    }\n",
       "\n",
       "    .dataframe tbody tr th {\n",
       "        vertical-align: top;\n",
       "    }\n",
       "\n",
       "    .dataframe thead th {\n",
       "        text-align: right;\n",
       "    }\n",
       "</style>\n",
       "<table border=\"1\" class=\"dataframe\">\n",
       "  <thead>\n",
       "    <tr style=\"text-align: right;\">\n",
       "      <th></th>\n",
       "      <th>ali_confidence</th>\n",
       "      <th>aligned_cols</th>\n",
       "      <th>evalue</th>\n",
       "      <th>identity</th>\n",
       "      <th>probability</th>\n",
       "      <th>query_ali</th>\n",
       "      <th>query_end</th>\n",
       "      <th>query_id</th>\n",
       "      <th>query_length</th>\n",
       "      <th>query_neff</th>\n",
       "      <th>query_ss_pred</th>\n",
       "      <th>query_start</th>\n",
       "      <th>score</th>\n",
       "      <th>similarity</th>\n",
       "      <th>sum_probs</th>\n",
       "      <th>template_ali</th>\n",
       "      <th>template_end</th>\n",
       "      <th>template_id</th>\n",
       "      <th>template_info</th>\n",
       "      <th>template_length</th>\n",
       "      <th>template_neff</th>\n",
       "      <th>template_ss_dssp</th>\n",
       "      <th>template_ss_pred</th>\n",
       "      <th>template_start</th>\n",
       "      <th>scop_domain</th>\n",
       "      <th>unique_id</th>\n",
       "      <th>query_match_length</th>\n",
       "      <th>template_match_length</th>\n",
       "      <th>identity_calc</th>\n",
       "      <th>coverage_calc</th>\n",
       "      <th>scop_domain_canonical</th>\n",
       "      <th>a2b</th>\n",
       "      <th>b2a</th>\n",
       "      <th>sequence</th>\n",
       "      <th>adjacency_idx_1</th>\n",
       "      <th>adjacency_idx_2</th>\n",
       "    </tr>\n",
       "  </thead>\n",
       "  <tbody>\n",
       "    <tr>\n",
       "      <th>0</th>\n",
       "      <td>45556666666655555566677789999999985</td>\n",
       "      <td>35</td>\n",
       "      <td>6.700000e-02</td>\n",
       "      <td>0.11</td>\n",
       "      <td>75.68</td>\n",
       "      <td>TLHLAVNYIDRFLSSMSVLRGKLQLVGTAAMLLAS</td>\n",
       "      <td>71</td>\n",
       "      <td>140209781</td>\n",
       "      <td>106</td>\n",
       "      <td>9.5</td>\n",
       "      <td></td>\n",
       "      <td>37</td>\n",
       "      <td>26.67</td>\n",
       "      <td>0.118</td>\n",
       "      <td>24.5</td>\n",
       "      <td>IFIQIAELLDLCVLDVDCLEFPYGILAASALYHFS</td>\n",
       "      <td>66</td>\n",
       "      <td>d1w98b1</td>\n",
       "      <td>&gt;d1w98b1 a.74.1.1 (B:228-357) G1/S-specific cy...</td>\n",
       "      <td>35</td>\n",
       "      <td>8.6</td>\n",
       "      <td></td>\n",
       "      <td></td>\n",
       "      <td>32</td>\n",
       "      <td>a.74.1.1</td>\n",
       "      <td>140209781-37:71-d1w98b1-32:66</td>\n",
       "      <td>35</td>\n",
       "      <td>35</td>\n",
       "      <td>0.114286</td>\n",
       "      <td>0.330189</td>\n",
       "      <td>a.74.1.1</td>\n",
       "      <td>[0.0, 1.0, 2.0, 3.0, 4.0, 5.0, 6.0, 7.0, 8.0, ...</td>\n",
       "      <td>[0.0, 1.0, 2.0, 3.0, 4.0, 5.0, 6.0, 7.0, 8.0, ...</td>\n",
       "      <td>IFIQIAELLDLCVLDVDCLEFPYGILAASALYHFS</td>\n",
       "      <td>[0, 0, 0, 0, 0, 0, 0, 1, 1, 1, 1, 1, 1, 2, 2, ...</td>\n",
       "      <td>[1, 2, 3, 4, 30, 33, 34, 0, 2, 3, 4, 5, 30, 0,...</td>\n",
       "    </tr>\n",
       "    <tr>\n",
       "      <th>1</th>\n",
       "      <td>45688999999999999999999999999999852       5799...</td>\n",
       "      <td>61</td>\n",
       "      <td>4.600000e-13</td>\n",
       "      <td>0.20</td>\n",
       "      <td>98.74</td>\n",
       "      <td>QVTIPKDLARSIIGKGGQRIKQIRHESGASIKIDEPLEGSEDRIIT...</td>\n",
       "      <td>74</td>\n",
       "      <td>182362022</td>\n",
       "      <td>79</td>\n",
       "      <td>9.5</td>\n",
       "      <td></td>\n",
       "      <td>7</td>\n",
       "      <td>68.02</td>\n",
       "      <td>0.291</td>\n",
       "      <td>54.5</td>\n",
       "      <td>SQNHLKRIKGRIIGEGGRARRTIEEMTDTYINVGE-------YEVA...</td>\n",
       "      <td>76</td>\n",
       "      <td>d1tuaa2</td>\n",
       "      <td>&gt;d1tuaa2 d.51.1.1 (A:85-188) Hypothetical prot...</td>\n",
       "      <td>61</td>\n",
       "      <td>7.4</td>\n",
       "      <td></td>\n",
       "      <td></td>\n",
       "      <td>16</td>\n",
       "      <td>d.51.1.1</td>\n",
       "      <td>182362022-7:74-d1tuaa2-16:76</td>\n",
       "      <td>68</td>\n",
       "      <td>61</td>\n",
       "      <td>0.176471</td>\n",
       "      <td>0.860759</td>\n",
       "      <td>d.51.1.1</td>\n",
       "      <td>[0.0, 1.0, 2.0, 3.0, 4.0, 5.0, 6.0, 7.0, 8.0, ...</td>\n",
       "      <td>[0.0, 1.0, 2.0, 3.0, 4.0, 5.0, 6.0, 7.0, 8.0, ...</td>\n",
       "      <td>SQNHLKRIKGRIIGEGGRARRTIEEMTDTYINVGEYEVAIIGDYER...</td>\n",
       "      <td>[0, 0, 0, 0, 0, 0, 1, 1, 1, 1, 1, 1, 1, 1, 1, ...</td>\n",
       "      <td>[1, 2, 36, 37, 38, 39, 0, 2, 3, 35, 36, 37, 38...</td>\n",
       "    </tr>\n",
       "  </tbody>\n",
       "</table>\n",
       "</div>"
      ],
      "text/plain": [
       "                                      ali_confidence  aligned_cols  \\\n",
       "0                45556666666655555566677789999999985            35   \n",
       "1  45688999999999999999999999999999852       5799...            61   \n",
       "\n",
       "         evalue  identity  probability  \\\n",
       "0  6.700000e-02      0.11        75.68   \n",
       "1  4.600000e-13      0.20        98.74   \n",
       "\n",
       "                                           query_ali  query_end   query_id  \\\n",
       "0                TLHLAVNYIDRFLSSMSVLRGKLQLVGTAAMLLAS         71  140209781   \n",
       "1  QVTIPKDLARSIIGKGGQRIKQIRHESGASIKIDEPLEGSEDRIIT...         74  182362022   \n",
       "\n",
       "   query_length  query_neff query_ss_pred  query_start  score  similarity  \\\n",
       "0           106         9.5                         37  26.67       0.118   \n",
       "1            79         9.5                          7  68.02       0.291   \n",
       "\n",
       "   sum_probs                                       template_ali  template_end  \\\n",
       "0       24.5                IFIQIAELLDLCVLDVDCLEFPYGILAASALYHFS            66   \n",
       "1       54.5  SQNHLKRIKGRIIGEGGRARRTIEEMTDTYINVGE-------YEVA...            76   \n",
       "\n",
       "  template_id                                      template_info  \\\n",
       "0     d1w98b1  >d1w98b1 a.74.1.1 (B:228-357) G1/S-specific cy...   \n",
       "1     d1tuaa2  >d1tuaa2 d.51.1.1 (A:85-188) Hypothetical prot...   \n",
       "\n",
       "   template_length  template_neff template_ss_dssp template_ss_pred  \\\n",
       "0               35            8.6                                     \n",
       "1               61            7.4                                     \n",
       "\n",
       "   template_start scop_domain                      unique_id  \\\n",
       "0              32    a.74.1.1  140209781-37:71-d1w98b1-32:66   \n",
       "1              16    d.51.1.1   182362022-7:74-d1tuaa2-16:76   \n",
       "\n",
       "   query_match_length  template_match_length  identity_calc  coverage_calc  \\\n",
       "0                  35                     35       0.114286       0.330189   \n",
       "1                  68                     61       0.176471       0.860759   \n",
       "\n",
       "  scop_domain_canonical                                                a2b  \\\n",
       "0              a.74.1.1  [0.0, 1.0, 2.0, 3.0, 4.0, 5.0, 6.0, 7.0, 8.0, ...   \n",
       "1              d.51.1.1  [0.0, 1.0, 2.0, 3.0, 4.0, 5.0, 6.0, 7.0, 8.0, ...   \n",
       "\n",
       "                                                 b2a  \\\n",
       "0  [0.0, 1.0, 2.0, 3.0, 4.0, 5.0, 6.0, 7.0, 8.0, ...   \n",
       "1  [0.0, 1.0, 2.0, 3.0, 4.0, 5.0, 6.0, 7.0, 8.0, ...   \n",
       "\n",
       "                                            sequence  \\\n",
       "0                IFIQIAELLDLCVLDVDCLEFPYGILAASALYHFS   \n",
       "1  SQNHLKRIKGRIIGEGGRARRTIEEMTDTYINVGEYEVAIIGDYER...   \n",
       "\n",
       "                                     adjacency_idx_1  \\\n",
       "0  [0, 0, 0, 0, 0, 0, 0, 1, 1, 1, 1, 1, 1, 2, 2, ...   \n",
       "1  [0, 0, 0, 0, 0, 0, 1, 1, 1, 1, 1, 1, 1, 1, 1, ...   \n",
       "\n",
       "                                     adjacency_idx_2  \n",
       "0  [1, 2, 3, 4, 30, 33, 34, 0, 2, 3, 4, 5, 30, 0,...  \n",
       "1  [1, 2, 36, 37, 38, 39, 0, 2, 3, 35, 36, 37, 38...  "
      ]
     },
     "metadata": {},
     "output_type": "display_data"
    },
    {
     "name": "stdout",
     "output_type": "stream",
     "text": [
      "3768\n"
     ]
    }
   ],
   "source": [
    "display(remote_homology_dataset.head(2))\n",
    "print(len(remote_homology_dataset))"
   ]
  },
  {
   "cell_type": "code",
   "execution_count": 21,
   "metadata": {},
   "outputs": [],
   "source": [
    "remote_homology_dataset['adjacency_coverage_1'] = (\n",
    "    remote_homology_dataset['adjacency_idx_1'].apply(lambda l: len(set(l))) /\n",
    "    remote_homology_dataset['sequence'].str.len()\n",
    ")\n",
    "\n",
    "\n",
    "remote_homology_dataset['adjacency_coverage_2'] = (\n",
    "    remote_homology_dataset['adjacency_idx_2'].apply(lambda l: len(set(l))) /\n",
    "    remote_homology_dataset['sequence'].str.len()\n",
    ")"
   ]
  },
  {
   "cell_type": "code",
   "execution_count": 22,
   "metadata": {
    "scrolled": true
   },
   "outputs": [],
   "source": [
    "def validate_adjacency_df(adjacency_df):\n",
    "    assert (adjacency_df['adjacency_idx_1'].apply(min) >= 0).all()\n",
    "    assert (adjacency_df['adjacency_idx_2'].apply(min) >= 0).all()\n",
    "    \n",
    "    assert (\n",
    "        adjacency_df['adjacency_idx_1'].apply(max) <\n",
    "        adjacency_df['sequence'].str.len()\n",
    "    ).all()\n",
    "\n",
    "    assert (\n",
    "        adjacency_df['adjacency_idx_2'].apply(max) <\n",
    "        adjacency_df['sequence'].str.len()\n",
    "    ).all()\n",
    "\n",
    "    \n",
    "validate_adjacency_df(remote_homology_dataset)"
   ]
  },
  {
   "cell_type": "markdown",
   "metadata": {},
   "source": [
    "### Make predictions"
   ]
  },
  {
   "cell_type": "code",
   "execution_count": 23,
   "metadata": {},
   "outputs": [
    {
     "name": "stderr",
     "output_type": "stream",
     "text": [
      "Network name: 'DCN_9c5a963'\n",
      "Final output_channels: 256\n"
     ]
    }
   ],
   "source": [
    "for network_name in NETWORK_NAME.split(','):\n",
    "    predict_with_network = predict_with_dcn_old if 'dcn_old' in network_name else predict_with_dcn\n",
    "    remote_homology_dataset[network_name] = (\n",
    "        predict_with_network(\n",
    "            remote_homology_dataset.copy(),\n",
    "            network_state=TRAINED_NETWORKS[network_name]['network_state'],\n",
    "            network_info=TRAINED_NETWORKS[network_name]['network_info'],\n",
    "        )\n",
    "    )"
   ]
  },
  {
   "cell_type": "markdown",
   "metadata": {},
   "source": [
    "### Filter"
   ]
  },
  {
   "cell_type": "code",
   "execution_count": 24,
   "metadata": {},
   "outputs": [
    {
     "data": {
      "text/plain": [
       "<matplotlib.axes._subplots.AxesSubplot at 0x7f0ebc8699e8>"
      ]
     },
     "execution_count": 24,
     "metadata": {},
     "output_type": "execute_result"
    },
    {
     "data": {
      "image/png": "[encoded data removed]",
      "text/plain": [
       "<Figure size 432x288 with 1 Axes>"
      ]
     },
     "metadata": {
      "needs_background": "light"
     },
     "output_type": "display_data"
    }
   ],
   "source": [
    "remote_homology_dataset['adjacency_coverage_1'].hist()"
   ]
  },
  {
   "cell_type": "code",
   "execution_count": 25,
   "metadata": {},
   "outputs": [
    {
     "data": {
      "text/plain": [
       "<matplotlib.axes._subplots.AxesSubplot at 0x7f0dfffe26a0>"
      ]
     },
     "execution_count": 25,
     "metadata": {},
     "output_type": "execute_result"
    },
    {
     "data": {
      "image/png": "[encoded data removed]",
      "text/plain": [
       "<Figure size 432x288 with 1 Axes>"
      ]
     },
     "metadata": {
      "needs_background": "light"
     },
     "output_type": "display_data"
    }
   ],
   "source": [
    "remote_homology_dataset['adjacency_coverage_2'].hist()"
   ]
  },
  {
   "cell_type": "code",
   "execution_count": 26,
   "metadata": {},
   "outputs": [],
   "source": [
    "# remote_homology_dataset_filtered = (\n",
    "#     remote_homology_dataset_df[\n",
    "#         (remote_homology_dataset_df['adjacency_coverage_1'] > 0.8) &\n",
    "#         (remote_homology_dataset_df['adjacency_coverage_2'] > 0.8)\n",
    "#     ]\n",
    "# ).copy()"
   ]
  },
  {
   "cell_type": "code",
   "execution_count": 27,
   "metadata": {},
   "outputs": [],
   "source": [
    "# remote_homology_dataset_filtered = remote_homology_dataset.copy()"
   ]
  },
  {
   "cell_type": "code",
   "execution_count": 28,
   "metadata": {},
   "outputs": [
    {
     "name": "stdout",
     "output_type": "stream",
     "text": [
      "3768\n",
      "2662\n"
     ]
    }
   ],
   "source": [
    "query_ids_w3plus = {\n",
    "    query_id\n",
    "    for query_id, group in \n",
    "        remote_homology_dataset\n",
    "        .dropna(subset=NETWORK_NAME.split(','))\n",
    "        .groupby('query_id')\n",
    "    if len(group) >= 3\n",
    "}\n",
    "\n",
    "remote_homology_dataset_filtered = (\n",
    "    remote_homology_dataset[\n",
    "        remote_homology_dataset['query_id'].isin(query_ids_w3plus)\n",
    "    ]\n",
    "    .dropna(subset=NETWORK_NAME.split(','))\n",
    "    .copy()\n",
    ")\n",
    "\n",
    "print(len(remote_homology_dataset))\n",
    "print(len(remote_homology_dataset_filtered))"
   ]
  },
  {
   "cell_type": "markdown",
   "metadata": {},
   "source": [
    "### Make plots"
   ]
  },
  {
   "cell_type": "code",
   "execution_count": 29,
   "metadata": {},
   "outputs": [],
   "source": [
    "features = (\n",
    "    [\n",
    "        \"identity_calc\",\n",
    "        \"coverage_calc\", \n",
    "        \"identity\", \"similarity\",\n",
    "        \"score\",  \"probability\", # \"evalue\",\n",
    "        \"sum_probs\",\n",
    "    ] + NETWORK_NAME.split(',')\n",
    ")"
   ]
  },
  {
   "cell_type": "code",
   "execution_count": 30,
   "metadata": {},
   "outputs": [],
   "source": [
    "for scop_level in [1, 2, 3, 4]:\n",
    "    remote_homology_dataset_filtered[f'scop_domain_matches_l{scop_level}'] = (\n",
    "        remote_homology_dataset_filtered.apply(\n",
    "            lambda row: \n",
    "                '.'.join(row['scop_domain'].split('.')[:scop_level]) == \n",
    "                '.'.join(row['scop_domain_canonical'].split('.')[:scop_level]),\n",
    "            axis=1,\n",
    "        )\n",
    "    )"
   ]
  },
  {
   "cell_type": "markdown",
   "metadata": {},
   "source": [
    "#### `DATA_ALL`"
   ]
  },
  {
   "cell_type": "code",
   "execution_count": 31,
   "metadata": {},
   "outputs": [],
   "source": [
    "DATA_ALL = {}\n",
    "for scop_level in [1, 2, 3, 4]:\n",
    "    df = remote_homology_dataset_filtered.dropna(subset=features).copy()\n",
    "    data = []\n",
    "#     if f'scop_domain_matches_l{scop_level + 1}' in df:\n",
    "#         df = df[df[f'scop_domain_matches_l{scop_level + 1}'] == False]\n",
    "#     if scop_level < 4:\n",
    "#         df = df[df[f'scop_domain_matches_l4'] == False]\n",
    "\n",
    "    for feature in features:\n",
    "        corr, pvalue = stats.spearmanr(df[feature], df[f'scop_domain_matches_l{scop_level}'])\n",
    "        auc = metrics.roc_auc_score(df[f'scop_domain_matches_l{scop_level}'], df[feature])\n",
    "        data.append((feature, corr, pvalue, auc))\n",
    "    out_df = pd.DataFrame(data, columns=['feature', 'correlation', 'pvalue', 'auc'])\n",
    "    DATA_ALL[scop_level] = len(df['query_id'].drop_duplicates()), len(df), out_df"
   ]
  },
  {
   "cell_type": "markdown",
   "metadata": {},
   "source": [
    "#### `DATA_GBQ`"
   ]
  },
  {
   "cell_type": "code",
   "execution_count": 32,
   "metadata": {
    "scrolled": false
   },
   "outputs": [
    {
     "name": "stdout",
     "output_type": "stream",
     "text": [
      "Skipping 'identity'\n",
      "{1: 0, 2: 0, 3: 0, 4: 0}\n",
      "{1: 205, 2: 65, 3: 52, 4: 8}\n",
      "{1: 50, 2: 265, 3: 305, 4: 385}\n"
     ]
    }
   ],
   "source": [
    "DATA_GBQ = {}\n",
    "\n",
    "num_skips_small = {1: 0, 2: 0, 3: 0, 4: 0}\n",
    "num_skips_eq = {1: 0, 2: 0, 3: 0, 4: 0}\n",
    "num_skips_neq = {1: 0, 2: 0, 3: 0, 4: 0}\n",
    "\n",
    "for scop_level in [1, 2, 3, 4]:\n",
    "    df = remote_homology_dataset_filtered.dropna(subset=features).copy()\n",
    "#     if f'scop_domain_matches_l{scop_level + 1}' in df:\n",
    "#         df = df[df[f'scop_domain_matches_l{scop_level + 1}'] == False]\n",
    "#     if scop_level < 4:\n",
    "#         df = df[df[f'scop_domain_matches_l4'] == False]\n",
    "\n",
    "    data = {f: {'corrs': [], 'pvalues': [], 'aucs': []} for f in features}\n",
    "    count_groups = 0\n",
    "    count_rows = 0\n",
    "    for query_id, group in df.groupby('query_id'):\n",
    "        if len(group) < 3:\n",
    "            num_skips_small[scop_level] += 1\n",
    "            continue\n",
    "        elif (group[f'scop_domain_matches_l{scop_level}'] == True).all():\n",
    "            num_skips_eq[scop_level] += 1\n",
    "            continue\n",
    "        elif (group[f'scop_domain_matches_l{scop_level}'] == False).all():\n",
    "            num_skips_neq[scop_level] += 1\n",
    "            continue\n",
    "        for feature in features:\n",
    "            if len(group[feature].drop_duplicates()) == 1:\n",
    "                print(f\"Skipping '{feature}'\")\n",
    "                continue\n",
    "            corr, pvalue = stats.spearmanr(group[feature], group[f'scop_domain_matches_l{scop_level}'])\n",
    "            auc = metrics.roc_auc_score(group[f'scop_domain_matches_l{scop_level}'], group[feature])\n",
    "            data[feature]['corrs'].append(corr)\n",
    "            data[feature]['pvalues'].append(pvalue)\n",
    "            data[feature]['aucs'].append(auc)\n",
    "        count_groups += 1\n",
    "        count_rows += len(group)\n",
    "    data_list = [\n",
    "        (k, np.mean(v['corrs']), np.mean(v['pvalues']), np.mean(v['aucs']))\n",
    "        for k, v in data.items()\n",
    "    ]\n",
    "    out_df = pd.DataFrame(data_list, columns=['feature', 'correlation', 'pvalue', 'auc'])\n",
    "    DATA_GBQ[scop_level] = count_groups, count_rows, out_df\n",
    "    \n",
    "print(num_skips_small)\n",
    "print(num_skips_eq)\n",
    "print(num_skips_neq)"
   ]
  },
  {
   "cell_type": "markdown",
   "metadata": {},
   "source": [
    "#### Plot"
   ]
  },
  {
   "cell_type": "code",
   "execution_count": 33,
   "metadata": {},
   "outputs": [],
   "source": [
    "cmap = plt.cm.get_cmap('Set1', 10)"
   ]
  },
  {
   "cell_type": "code",
   "execution_count": 34,
   "metadata": {},
   "outputs": [],
   "source": [
    "scop_levels = {\n",
    "    1: \"class\",\n",
    "    2: \"fold\",\n",
    "    3: \"superfamily\",\n",
    "    4: \"family\",\n",
    "}"
   ]
  },
  {
   "cell_type": "code",
   "execution_count": 35,
   "metadata": {},
   "outputs": [],
   "source": [
    "feature_names = {\n",
    "    'identity_calc': 'identity (aln.)',\n",
    "    'coverage_calc': 'coverage (aln.)',\n",
    "}"
   ]
  },
  {
   "cell_type": "code",
   "execution_count": 43,
   "metadata": {},
   "outputs": [
    {
     "data": {
      "image/png": "[encoded data removed]",
      "text/plain": [
       "<Figure size 720x288 with 2 Axes>"
      ]
     },
     "metadata": {
      "needs_background": "light"
     },
     "output_type": "display_data"
    },
    {
     "data": {
      "image/png": "[encoded data removed]",
      "text/plain": [
       "<Figure size 720x288 with 2 Axes>"
      ]
     },
     "metadata": {
      "needs_background": "light"
     },
     "output_type": "display_data"
    },
    {
     "data": {
      "image/png": "[encoded data removed]",
      "text/plain": [
       "<Figure size 720x288 with 2 Axes>"
      ]
     },
     "metadata": {
      "needs_background": "light"
     },
     "output_type": "display_data"
    },
    {
     "data": {
      "image/png": "[encoded data removed]",
      "text/plain": [
       "<Figure size 720x288 with 2 Axes>"
      ]
     },
     "metadata": {
      "needs_background": "light"
     },
     "output_type": "display_data"
    }
   ],
   "source": [
    "for scop_level in DATA_ALL:\n",
    "    fg, axs = plt.subplots(1, 2, figsize=(10, 4))\n",
    "\n",
    "    plt.sca(axs[0])\n",
    "    num1, num2, df = DATA_ALL[scop_level]\n",
    "    x = np.arange(len(df))\n",
    "    c = [cmap(2) if f in NETWORK_NAME.split(',') else cmap(1) for f in df['feature']]\n",
    "#     c = cmap(1)\n",
    "    plt.bar(x, df['auc'].abs(), color=c)\n",
    "    plt.xticks(x, [feature_names.get(f, f) for f in df['feature'].values], rotation=45)\n",
    "    plt.ylim(0.4, 1)\n",
    "    plt.ylabel(\"AUC\")\n",
    "    plt.title(\n",
    "        f\"Predicting SCOP {scop_levels[scop_level]} - combined\\n\"\n",
    "        f\"(N = {num2}, M = {num1})\")\n",
    "    plt.hlines(0.5, -0.75, len(features) - 0.25, linestyle='--')\n",
    "    plt.ylim(0.4, 1)\n",
    "    plt.xlim(-0.75, len(features) - 0.25)\n",
    "\n",
    "    plt.sca(axs[1])\n",
    "    num1, num2, df = DATA_GBQ[scop_level]\n",
    "    x = np.arange(len(df))\n",
    "    c = [cmap(2) if f in NETWORK_NAME.split(',') else cmap(1) for f in df['feature']]\n",
    "#     c = cmap(1)\n",
    "    plt.bar(x, df['auc'].abs(), color=c)\n",
    "    plt.xticks(x, [feature_names.get(f, f) for f in df['feature'].values], rotation=45)\n",
    "    plt.ylabel(\"AUC\")\n",
    "    plt.title(\n",
    "        f\"Predicting SCOP {scop_levels[scop_level]} - per protein\\n\"\n",
    "        f\"(N = {num2}, M = {num1})\")\n",
    "    plt.hlines(0.5, -0.75, len(features) - 0.25, linestyle='--')\n",
    "    plt.ylim(0.4, 1)\n",
    "    plt.xlim(-0.75, len(features) - 0.25)\n",
    "    \n",
    "    plt.tight_layout()\n",
    "    plt.savefig(NOTEBOOK_PATH.joinpath(f\"{NETWORK_NAME}_sl{scop_level}.png\"), dpi=300, bbox_inches=\"tight\")\n",
    "    plt.savefig(NOTEBOOK_PATH.joinpath(f\"{NETWORK_NAME}_sl{scop_level}.pdf\"), bbox_inches=\"tight\")"
   ]
  },
  {
   "cell_type": "code",
   "execution_count": null,
   "metadata": {},
   "outputs": [],
   "source": []
  },
  {
   "cell_type": "code",
   "execution_count": null,
   "metadata": {},
   "outputs": [],
   "source": []
  }
 ],
 "metadata": {
  "kernelspec": {
   "display_name": "Python 3",
   "language": "python",
   "name": "python3"
  },
  "language_info": {
   "codemirror_mode": {
    "name": "ipython",
    "version": 3
   },
   "file_extension": ".py",
   "mimetype": "text/x-python",
   "name": "python",
   "nbconvert_exporter": "python",
   "pygments_lexer": "ipython3",
   "version": "3.6.6"
  },
  "toc": {
   "base_numbering": 1,
   "nav_menu": {},
   "number_sections": false,
   "sideBar": true,
   "skip_h1_title": false,
   "title_cell": "Table of Contents",
   "title_sidebar": "Contents",
   "toc_cell": false,
   "toc_position": {
    "height": "424px",
    "left": "26px",
    "top": "141px",
    "width": "221px"
   },
   "toc_section_display": true,
   "toc_window_display": true
  }
 },
 "nbformat": 4,
 "nbformat_minor": 2
}
