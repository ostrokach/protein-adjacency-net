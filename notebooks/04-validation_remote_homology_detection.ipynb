{
 "cells": [
  {
   "cell_type": "markdown",
   "metadata": {},
   "source": [
    "# Summary"
   ]
  },
  {
   "cell_type": "markdown",
   "metadata": {},
   "source": [
    "# Imports"
   ]
  },
  {
   "cell_type": "code",
   "execution_count": 1,
   "metadata": {
    "collapsed": true
   },
   "outputs": [],
   "source": [
    "import pyarrow"
   ]
  },
  {
   "cell_type": "code",
   "execution_count": 2,
   "metadata": {
    "collapsed": true
   },
   "outputs": [],
   "source": [
    "import concurrent.futures\n",
    "import itertools\n",
    "import multiprocessing\n",
    "import os\n",
    "import os.path as op\n",
    "import pickle\n",
    "import subprocess\n",
    "import tempfile\n",
    "from functools import partial\n",
    "from pathlib import Path\n",
    "\n",
    "import numpy as np\n",
    "import matplotlib.pyplot as plt\n",
    "import pandas as pd\n",
    "import pyarrow as pa\n",
    "import pyarrow.parquet as pq\n",
    "import seaborn as sns\n",
    "import sqlalchemy as sa\n",
    "from scipy import stats\n",
    "from sklearn import metrics\n",
    "\n",
    "from kmtools import py_tools, sequence_tools"
   ]
  },
  {
   "cell_type": "code",
   "execution_count": 3,
   "metadata": {
    "collapsed": true
   },
   "outputs": [],
   "source": [
    "%matplotlib inline"
   ]
  },
  {
   "cell_type": "code",
   "execution_count": 4,
   "metadata": {
    "collapsed": true
   },
   "outputs": [],
   "source": [
    "pd.set_option(\"max_columns\", 100)"
   ]
  },
  {
   "cell_type": "markdown",
   "metadata": {},
   "source": [
    "# Parameters"
   ]
  },
  {
   "cell_type": "code",
   "execution_count": 5,
   "metadata": {},
   "outputs": [
    {
     "data": {
      "text/plain": [
       "PosixPath('validation_remote_homology_detection')"
      ]
     },
     "execution_count": 5,
     "metadata": {},
     "output_type": "execute_result"
    }
   ],
   "source": [
    "NOTEBOOK_PATH = Path('validation_remote_homology_detection')\n",
    "NOTEBOOK_PATH"
   ]
  },
  {
   "cell_type": "code",
   "execution_count": 6,
   "metadata": {},
   "outputs": [
    {
     "data": {
      "text/plain": [
       "PosixPath('/home/kimlab1/database_data/datapkg/adjacency-net-v2/notebooks/validation_remote_homology_detection')"
      ]
     },
     "execution_count": 6,
     "metadata": {},
     "output_type": "execute_result"
    }
   ],
   "source": [
    "OUTPUT_PATH = Path(os.getenv('OUTPUT_DIR', NOTEBOOK_PATH.name)).resolve()\n",
    "OUTPUT_PATH.mkdir(parents=True, exist_ok=True)\n",
    "OUTPUT_PATH"
   ]
  },
  {
   "cell_type": "code",
   "execution_count": 7,
   "metadata": {},
   "outputs": [
    {
     "data": {
      "text/plain": [
       "(None, None)"
      ]
     },
     "execution_count": 7,
     "metadata": {},
     "output_type": "execute_result"
    }
   ],
   "source": [
    "TASK_ID = os.getenv(\"SLURM_ARRAY_TASK_ID\")\n",
    "TASK_COUNT = os.getenv(\"ORIGINAL_ARRAY_TASK_COUNT\") or os.getenv(\"SLURM_ARRAY_TASK_COUNT\")\n",
    "NETWORK_NAME = os.getenv(\"NETWORK_NAME\")\n",
    "\n",
    "TASK_ID = int(TASK_ID) if TASK_ID is not None else None\n",
    "TASK_COUNT = int(TASK_COUNT) if TASK_COUNT is not None else None\n",
    "\n",
    "TASK_ID, TASK_COUNT"
   ]
  },
  {
   "cell_type": "code",
   "execution_count": 8,
   "metadata": {},
   "outputs": [
    {
     "data": {
      "text/plain": [
       "True"
      ]
     },
     "execution_count": 8,
     "metadata": {},
     "output_type": "execute_result"
    }
   ],
   "source": [
    "DEBUG = \"CI\" not in os.environ    \n",
    "DEBUG"
   ]
  },
  {
   "cell_type": "code",
   "execution_count": 9,
   "metadata": {
    "collapsed": true
   },
   "outputs": [],
   "source": [
    "if DEBUG:\n",
    "    NETWORK_NAME = \"dcn_old_0,bd46824,9c5a963\"\n",
    "else:\n",
    "    assert NETWORK_NAME is not None"
   ]
  },
  {
   "cell_type": "code",
   "execution_count": 10,
   "metadata": {
    "collapsed": true
   },
   "outputs": [],
   "source": [
    "if DEBUG:\n",
    "    %load_ext autoreload\n",
    "    %autoreload 2"
   ]
  },
  {
   "cell_type": "markdown",
   "metadata": {},
   "source": [
    "# `DATAPKG`"
   ]
  },
  {
   "cell_type": "code",
   "execution_count": 11,
   "metadata": {
    "collapsed": true
   },
   "outputs": [],
   "source": [
    "DATAPKG = {}"
   ]
  },
  {
   "cell_type": "code",
   "execution_count": 12,
   "metadata": {
    "collapsed": true
   },
   "outputs": [],
   "source": [
    "DATAPKG['uniparc-domain-wstructure'] = (\n",
    "    Path(os.environ['DATAPKG_OUTPUT_DIR'])\n",
    "    .joinpath(\"uniparc-domain-wstructure\", \"master\")\n",
    ")"
   ]
  },
  {
   "cell_type": "code",
   "execution_count": 13,
   "metadata": {
    "collapsed": true
   },
   "outputs": [],
   "source": [
    "DATAPKG['adjacency_net_v2'] = (\n",
    "    Path(os.environ['DATAPKG_OUTPUT_DIR'])\n",
    "    .joinpath(\"adjacency-net-v2\", \"master\")\n",
    ")"
   ]
  },
  {
   "cell_type": "code",
   "execution_count": 14,
   "metadata": {
    "collapsed": true
   },
   "outputs": [],
   "source": [
    "DATAPKG['hhsuite-wstructure'] = (\n",
    "    Path(os.environ['DATAPKG_OUTPUT_DIR'])\n",
    "    .joinpath(\"hhsuite-wstructure\", \"master\")\n",
    ")"
   ]
  },
  {
   "cell_type": "markdown",
   "metadata": {},
   "source": [
    "# Network evaluation"
   ]
  },
  {
   "cell_type": "code",
   "execution_count": 15,
   "metadata": {
    "collapsed": true
   },
   "outputs": [],
   "source": [
    "%run trained_networks.ipynb"
   ]
  },
  {
   "cell_type": "code",
   "execution_count": 16,
   "metadata": {
    "code_folding": [],
    "collapsed": true
   },
   "outputs": [],
   "source": [
    "def predict_with_dcn_old(input_, network_info, network_state):\n",
    "    from pagnn.prediction.dcn_old import Args, main\n",
    "    for adj_col in ['adjacency_idx_1', 'adjacency_idx_2']:\n",
    "        input_[adj_col] = input_.apply(lambda row: np.r_[row[adj_col], 0:len(row['sequence'])], axis=1).values\n",
    "    args = Args(network_info=network_info, network_state=network_state)\n",
    "    output_df = main(args, input_)\n",
    "    return output_df"
   ]
  },
  {
   "cell_type": "code",
   "execution_count": 17,
   "metadata": {
    "code_folding": [],
    "collapsed": true
   },
   "outputs": [],
   "source": [
    "def predict_with_dcn(input_, network_info, network_state):\n",
    "    from pagnn.prediction.dcn import Args, main\n",
    "    args = Args(network_info=network_info, network_state=network_state)\n",
    "    output_df = main(args, input_)\n",
    "    return output_df"
   ]
  },
  {
   "cell_type": "markdown",
   "metadata": {},
   "source": [
    "## Remote homology detection"
   ]
  },
  {
   "cell_type": "code",
   "execution_count": 18,
   "metadata": {
    "collapsed": true
   },
   "outputs": [],
   "source": [
    "remote_homology_dataset_file = (\n",
    "    DATAPKG['hhsuite-wstructure']\n",
    "    .joinpath('scop_remote_homology_detection', 'remote_homology_dataset.parquet')\n",
    ")"
   ]
  },
  {
   "cell_type": "code",
   "execution_count": 19,
   "metadata": {
    "collapsed": true
   },
   "outputs": [],
   "source": [
    "remote_homology_dataset_df = pq.read_table(remote_homology_dataset_file).to_pandas()"
   ]
  },
  {
   "cell_type": "code",
   "execution_count": 20,
   "metadata": {},
   "outputs": [
    {
     "data": {
      "text/html": [
       "<div>\n",
       "<style scoped>\n",
       "    .dataframe tbody tr th:only-of-type {\n",
       "        vertical-align: middle;\n",
       "    }\n",
       "\n",
       "    .dataframe tbody tr th {\n",
       "        vertical-align: top;\n",
       "    }\n",
       "\n",
       "    .dataframe thead th {\n",
       "        text-align: right;\n",
       "    }\n",
       "</style>\n",
       "<table border=\"1\" class=\"dataframe\">\n",
       "  <thead>\n",
       "    <tr style=\"text-align: right;\">\n",
       "      <th></th>\n",
       "      <th>ali_confidence</th>\n",
       "      <th>aligned_cols</th>\n",
       "      <th>evalue</th>\n",
       "      <th>identity</th>\n",
       "      <th>probability</th>\n",
       "      <th>query_ali</th>\n",
       "      <th>query_end</th>\n",
       "      <th>query_id</th>\n",
       "      <th>query_length</th>\n",
       "      <th>query_neff</th>\n",
       "      <th>query_ss_pred</th>\n",
       "      <th>query_start</th>\n",
       "      <th>score</th>\n",
       "      <th>similarity</th>\n",
       "      <th>sum_probs</th>\n",
       "      <th>template_ali</th>\n",
       "      <th>template_end</th>\n",
       "      <th>template_id</th>\n",
       "      <th>template_info</th>\n",
       "      <th>template_length</th>\n",
       "      <th>template_neff</th>\n",
       "      <th>template_ss_dssp</th>\n",
       "      <th>template_ss_pred</th>\n",
       "      <th>template_start</th>\n",
       "      <th>scop_domain</th>\n",
       "      <th>unique_id</th>\n",
       "      <th>query_match_length</th>\n",
       "      <th>template_match_length</th>\n",
       "      <th>identity_calc</th>\n",
       "      <th>coverage_calc</th>\n",
       "      <th>scop_domain_canonical</th>\n",
       "      <th>a2b</th>\n",
       "      <th>b2a</th>\n",
       "      <th>sequence</th>\n",
       "      <th>adjacency_idx_1</th>\n",
       "      <th>adjacency_idx_2</th>\n",
       "    </tr>\n",
       "  </thead>\n",
       "  <tbody>\n",
       "    <tr>\n",
       "      <th>0</th>\n",
       "      <td>356788999999999999999999999999999999753     47...</td>\n",
       "      <td>67</td>\n",
       "      <td>1.300000e-12</td>\n",
       "      <td>0.13</td>\n",
       "      <td>98.65</td>\n",
       "      <td>ITTQVTIPKDLARSIIGKGGQRIKQIRHESGASIKIDEPLEGSEDR...</td>\n",
       "      <td>75</td>\n",
       "      <td>182362022</td>\n",
       "      <td>79</td>\n",
       "      <td>9.5</td>\n",
       "      <td></td>\n",
       "      <td>4</td>\n",
       "      <td>62.76</td>\n",
       "      <td>0.261</td>\n",
       "      <td>58.8</td>\n",
       "      <td>PRIYVKVKPERLGAVIGPRGEVKAEIMRRTGTVITVDTE-----NS...</td>\n",
       "      <td>74</td>\n",
       "      <td>d1tuaa1</td>\n",
       "      <td>&gt;d1tuaa1 d.51.1.1 (A:1-84) Hypothetical protei...</td>\n",
       "      <td>72</td>\n",
       "      <td>10.0</td>\n",
       "      <td></td>\n",
       "      <td></td>\n",
       "      <td>3</td>\n",
       "      <td>d.51.1.1</td>\n",
       "      <td>182362022-4:75-d1tuaa1-3:74</td>\n",
       "      <td>72</td>\n",
       "      <td>72</td>\n",
       "      <td>0.125000</td>\n",
       "      <td>0.911392</td>\n",
       "      <td>d.51.1.1</td>\n",
       "      <td>[0.0, 1.0, 2.0, 3.0, 4.0, 5.0, 6.0, 7.0, 8.0, ...</td>\n",
       "      <td>[0.0, 1.0, 2.0, 3.0, 4.0, 5.0, 6.0, 7.0, 8.0, ...</td>\n",
       "      <td>PRIYVKVKPERLGAVIGPRGEVKAEIMRRTGTVITVDTENSMVIVE...</td>\n",
       "      <td>[0, 0, 0, 0, 0, 0, 0, 0, 1, 1, 1, 1, 1, 1, 1, ...</td>\n",
       "      <td>[1, 2, 44, 45, 46, 52, 53, 56, 0, 2, 3, 43, 44...</td>\n",
       "    </tr>\n",
       "    <tr>\n",
       "      <th>1</th>\n",
       "      <td>45678999999999999999999999999999 999873     24...</td>\n",
       "      <td>66</td>\n",
       "      <td>6.200000e-14</td>\n",
       "      <td>0.18</td>\n",
       "      <td>98.89</td>\n",
       "      <td>HMIDVPIPRFAVGIVIGRNGEMIKKIQNDAGV-RIQFKPDDGTTPE...</td>\n",
       "      <td>73</td>\n",
       "      <td>280534567</td>\n",
       "      <td>74</td>\n",
       "      <td>9.8</td>\n",
       "      <td></td>\n",
       "      <td>3</td>\n",
       "      <td>64.57</td>\n",
       "      <td>0.283</td>\n",
       "      <td>57.9</td>\n",
       "      <td>FHEEFVVREDLMGLAIGTHGSNIQQARKVPGVTAIELDE-----DT...</td>\n",
       "      <td>75</td>\n",
       "      <td>d2cpqa1</td>\n",
       "      <td>&gt;d2cpqa1 d.51.1.1 (A:212-289) Fragile X mental...</td>\n",
       "      <td>68</td>\n",
       "      <td>10.1</td>\n",
       "      <td></td>\n",
       "      <td></td>\n",
       "      <td>8</td>\n",
       "      <td>d.51.1.1</td>\n",
       "      <td>280534567-3:73-d2cpqa1-8:75</td>\n",
       "      <td>71</td>\n",
       "      <td>68</td>\n",
       "      <td>0.169014</td>\n",
       "      <td>0.959459</td>\n",
       "      <td>d.51.1.1</td>\n",
       "      <td>[0.0, 1.0, 2.0, 3.0, 4.0, 5.0, 6.0, 7.0, 8.0, ...</td>\n",
       "      <td>[0.0, 1.0, 2.0, 3.0, 4.0, 5.0, 6.0, 7.0, 8.0, ...</td>\n",
       "      <td>FHEEFVVREDLMGLAIGTHGSNIQQARKVPGVTAIELDEDTGTFRI...</td>\n",
       "      <td>[0, 0, 0, 0, 0, 0, 0, 0, 0, 1, 1, 1, 1, 1, 1, ...</td>\n",
       "      <td>[1, 2, 45, 46, 47, 49, 50, 53, 54, 0, 2, 3, 44...</td>\n",
       "    </tr>\n",
       "  </tbody>\n",
       "</table>\n",
       "</div>"
      ],
      "text/plain": [
       "                                      ali_confidence  aligned_cols  \\\n",
       "0  356788999999999999999999999999999999753     47...            67   \n",
       "1  45678999999999999999999999999999 999873     24...            66   \n",
       "\n",
       "         evalue  identity  probability  \\\n",
       "0  1.300000e-12      0.13        98.65   \n",
       "1  6.200000e-14      0.18        98.89   \n",
       "\n",
       "                                           query_ali  query_end   query_id  \\\n",
       "0  ITTQVTIPKDLARSIIGKGGQRIKQIRHESGASIKIDEPLEGSEDR...         75  182362022   \n",
       "1  HMIDVPIPRFAVGIVIGRNGEMIKKIQNDAGV-RIQFKPDDGTTPE...         73  280534567   \n",
       "\n",
       "   query_length  query_neff query_ss_pred  query_start  score  similarity  \\\n",
       "0            79         9.5                          4  62.76       0.261   \n",
       "1            74         9.8                          3  64.57       0.283   \n",
       "\n",
       "   sum_probs                                       template_ali  template_end  \\\n",
       "0       58.8  PRIYVKVKPERLGAVIGPRGEVKAEIMRRTGTVITVDTE-----NS...            74   \n",
       "1       57.9  FHEEFVVREDLMGLAIGTHGSNIQQARKVPGVTAIELDE-----DT...            75   \n",
       "\n",
       "  template_id                                      template_info  \\\n",
       "0     d1tuaa1  >d1tuaa1 d.51.1.1 (A:1-84) Hypothetical protei...   \n",
       "1     d2cpqa1  >d2cpqa1 d.51.1.1 (A:212-289) Fragile X mental...   \n",
       "\n",
       "   template_length  template_neff template_ss_dssp template_ss_pred  \\\n",
       "0               72           10.0                                     \n",
       "1               68           10.1                                     \n",
       "\n",
       "   template_start scop_domain                    unique_id  \\\n",
       "0               3    d.51.1.1  182362022-4:75-d1tuaa1-3:74   \n",
       "1               8    d.51.1.1  280534567-3:73-d2cpqa1-8:75   \n",
       "\n",
       "   query_match_length  template_match_length  identity_calc  coverage_calc  \\\n",
       "0                  72                     72       0.125000       0.911392   \n",
       "1                  71                     68       0.169014       0.959459   \n",
       "\n",
       "  scop_domain_canonical                                                a2b  \\\n",
       "0              d.51.1.1  [0.0, 1.0, 2.0, 3.0, 4.0, 5.0, 6.0, 7.0, 8.0, ...   \n",
       "1              d.51.1.1  [0.0, 1.0, 2.0, 3.0, 4.0, 5.0, 6.0, 7.0, 8.0, ...   \n",
       "\n",
       "                                                 b2a  \\\n",
       "0  [0.0, 1.0, 2.0, 3.0, 4.0, 5.0, 6.0, 7.0, 8.0, ...   \n",
       "1  [0.0, 1.0, 2.0, 3.0, 4.0, 5.0, 6.0, 7.0, 8.0, ...   \n",
       "\n",
       "                                            sequence  \\\n",
       "0  PRIYVKVKPERLGAVIGPRGEVKAEIMRRTGTVITVDTENSMVIVE...   \n",
       "1  FHEEFVVREDLMGLAIGTHGSNIQQARKVPGVTAIELDEDTGTFRI...   \n",
       "\n",
       "                                     adjacency_idx_1  \\\n",
       "0  [0, 0, 0, 0, 0, 0, 0, 0, 1, 1, 1, 1, 1, 1, 1, ...   \n",
       "1  [0, 0, 0, 0, 0, 0, 0, 0, 0, 1, 1, 1, 1, 1, 1, ...   \n",
       "\n",
       "                                     adjacency_idx_2  \n",
       "0  [1, 2, 44, 45, 46, 52, 53, 56, 0, 2, 3, 43, 44...  \n",
       "1  [1, 2, 45, 46, 47, 49, 50, 53, 54, 0, 2, 3, 44...  "
      ]
     },
     "metadata": {},
     "output_type": "display_data"
    },
    {
     "name": "stdout",
     "output_type": "stream",
     "text": [
      "468\n"
     ]
    }
   ],
   "source": [
    "display(remote_homology_dataset_df.head(2))\n",
    "print(len(remote_homology_dataset_df))"
   ]
  },
  {
   "cell_type": "code",
   "execution_count": 21,
   "metadata": {
    "collapsed": true
   },
   "outputs": [],
   "source": [
    "remote_homology_dataset_df['adjacency_coverage_1'] = (\n",
    "    remote_homology_dataset_df['adjacency_idx_1'].apply(lambda l: len(set(l))) /\n",
    "    remote_homology_dataset_df['sequence'].str.len()\n",
    ")\n",
    "\n",
    "\n",
    "remote_homology_dataset_df['adjacency_coverage_2'] = (\n",
    "    remote_homology_dataset_df['adjacency_idx_2'].apply(lambda l: len(set(l))) /\n",
    "    remote_homology_dataset_df['sequence'].str.len()\n",
    ")"
   ]
  },
  {
   "cell_type": "code",
   "execution_count": 22,
   "metadata": {
    "collapsed": true,
    "scrolled": true
   },
   "outputs": [],
   "source": [
    "def validate_adjacency_df(adjacency_df):\n",
    "    assert (adjacency_df['adjacency_idx_1'].apply(min) >= 0).all()\n",
    "    assert (adjacency_df['adjacency_idx_2'].apply(min) >= 0).all()\n",
    "    \n",
    "    assert (\n",
    "        adjacency_df['adjacency_idx_1'].apply(max) <\n",
    "        adjacency_df['sequence'].str.len()\n",
    "    ).all()\n",
    "\n",
    "    assert (\n",
    "        adjacency_df['adjacency_idx_2'].apply(max) <\n",
    "        adjacency_df['sequence'].str.len()\n",
    "    ).all()\n",
    "\n",
    "    \n",
    "validate_adjacency_df(remote_homology_dataset_df)"
   ]
  },
  {
   "cell_type": "markdown",
   "metadata": {},
   "source": [
    "### Filter"
   ]
  },
  {
   "cell_type": "code",
   "execution_count": 23,
   "metadata": {},
   "outputs": [
    {
     "data": {
      "text/plain": [
       "<matplotlib.axes._subplots.AxesSubplot at 0x7f94e5b25048>"
      ]
     },
     "execution_count": 23,
     "metadata": {},
     "output_type": "execute_result"
    },
    {
     "data": {
      "image/png": "[encoded data removed]",
      "text/plain": [
       "<Figure size 432x288 with 1 Axes>"
      ]
     },
     "metadata": {},
     "output_type": "display_data"
    }
   ],
   "source": [
    "remote_homology_dataset_df['adjacency_coverage_1'].hist()"
   ]
  },
  {
   "cell_type": "code",
   "execution_count": 24,
   "metadata": {},
   "outputs": [
    {
     "data": {
      "text/plain": [
       "<matplotlib.axes._subplots.AxesSubplot at 0x7f94df62beb8>"
      ]
     },
     "execution_count": 24,
     "metadata": {},
     "output_type": "execute_result"
    },
    {
     "data": {
      "image/png": "[encoded data removed]",
      "text/plain": [
       "<Figure size 432x288 with 1 Axes>"
      ]
     },
     "metadata": {},
     "output_type": "display_data"
    }
   ],
   "source": [
    "remote_homology_dataset_df['adjacency_coverage_2'].hist()"
   ]
  },
  {
   "cell_type": "code",
   "execution_count": 25,
   "metadata": {
    "collapsed": true
   },
   "outputs": [],
   "source": [
    "remote_homology_dataset_filtered = (\n",
    "    remote_homology_dataset_df[\n",
    "        (remote_homology_dataset_df['adjacency_coverage_1'] > 0.8) &\n",
    "        (remote_homology_dataset_df['adjacency_coverage_2'] > 0.8)\n",
    "    ]\n",
    ").copy()"
   ]
  },
  {
   "cell_type": "code",
   "execution_count": 26,
   "metadata": {
    "collapsed": true
   },
   "outputs": [],
   "source": [
    "remote_homology_dataset_filtered = remote_homology_dataset_df"
   ]
  },
  {
   "cell_type": "code",
   "execution_count": 27,
   "metadata": {},
   "outputs": [
    {
     "data": {
      "text/plain": [
       "<matplotlib.axes._subplots.AxesSubplot at 0x7f94de1ce4e0>"
      ]
     },
     "execution_count": 27,
     "metadata": {},
     "output_type": "execute_result"
    },
    {
     "data": {
      "image/png": "[encoded data removed]",
      "text/plain": [
       "<Figure size 432x288 with 1 Axes>"
      ]
     },
     "metadata": {},
     "output_type": "display_data"
    }
   ],
   "source": [
    "remote_homology_dataset_filtered['adjacency_coverage_2'].hist()"
   ]
  },
  {
   "cell_type": "markdown",
   "metadata": {},
   "source": [
    "### Make predictions"
   ]
  },
  {
   "cell_type": "code",
   "execution_count": 28,
   "metadata": {
    "collapsed": true
   },
   "outputs": [],
   "source": [
    "for scop_level in [1, 2, 3, 4]:\n",
    "    remote_homology_dataset_filtered[f'scop_domain_matches_l{scop_level}'] = (\n",
    "        remote_homology_dataset_filtered.apply(\n",
    "            lambda row: \n",
    "                '.'.join(row['scop_domain'].split('.')[:scop_level]) == \n",
    "                '.'.join(row['scop_domain_canonical'].split('.')[:scop_level]),\n",
    "            axis=1,\n",
    "        )\n",
    "    )"
   ]
  },
  {
   "cell_type": "code",
   "execution_count": 29,
   "metadata": {},
   "outputs": [
    {
     "name": "stderr",
     "output_type": "stream",
     "text": [
      "Final output_channels: 256\n"
     ]
    },
    {
     "name": "stdout",
     "output_type": "stream",
     "text": [
      "Initializing custom network\n"
     ]
    },
    {
     "name": "stderr",
     "output_type": "stream",
     "text": [
      "Network name: 'DCN_9c5a963'\n",
      "Final output_channels: 256\n"
     ]
    }
   ],
   "source": [
    "for network_name in NETWORK_NAME.split(','):\n",
    "    predict_with_network = predict_with_dcn_old if 'dcn_old' in network_name else predict_with_dcn\n",
    "    remote_homology_dataset_filtered[network_name] = (\n",
    "        predict_with_network(\n",
    "            remote_homology_dataset_filtered.copy(),\n",
    "            network_state=TRAINED_NETWORKS[network_name]['network_state'],\n",
    "            network_info=TRAINED_NETWORKS[network_name]['network_info'],\n",
    "        )\n",
    "    )"
   ]
  },
  {
   "cell_type": "markdown",
   "metadata": {},
   "source": [
    "#### `DATA_ALL`"
   ]
  },
  {
   "cell_type": "code",
   "execution_count": 33,
   "metadata": {
    "collapsed": true
   },
   "outputs": [],
   "source": [
    "features = (\n",
    "    [\n",
    "        \"identity_calc\",\n",
    "        \"coverage_calc\", \n",
    "        \"identity\",\n",
    "        \"score\",  # \"probability\", \"evalue\",\n",
    "        \"similarity\", \"sum_probs\",\n",
    "    ] + NETWORK_NAME.split(',')\n",
    ")"
   ]
  },
  {
   "cell_type": "code",
   "execution_count": 45,
   "metadata": {},
   "outputs": [],
   "source": [
    "DATA_ALL = {}\n",
    "for scop_level in [1, 2, 3, 4]:\n",
    "    df = remote_homology_dataset_filtered.dropna(subset=features).copy()\n",
    "    data = []\n",
    "#     if f'scop_domain_matches_l{scop_level + 1}' in df:\n",
    "#         df = df[df[f'scop_domain_matches_l{scop_level + 1}'] == False]\n",
    "    for feature in features:\n",
    "        corr, pvalue = stats.spearmanr(df[feature], df[f'scop_domain_matches_l{scop_level}'])\n",
    "        auc = metrics.roc_auc_score(df[f'scop_domain_matches_l{scop_level}'], df[feature])\n",
    "        data.append((feature, corr, pvalue, auc))\n",
    "    out_df = pd.DataFrame(data, columns=['feature', 'correlation', 'pvalue', 'auc'])\n",
    "    DATA_ALL[scop_level] = out_df"
   ]
  },
  {
   "cell_type": "markdown",
   "metadata": {},
   "source": [
    "#### `DATA_GBQ`"
   ]
  },
  {
   "cell_type": "code",
   "execution_count": 46,
   "metadata": {},
   "outputs": [
    {
     "name": "stdout",
     "output_type": "stream",
     "text": [
      "1 identity_calc 3\n",
      "1 coverage_calc 3\n",
      "1 identity 3\n",
      "1 score 3\n",
      "1 similarity 3\n",
      "1 sum_probs 3\n",
      "1 dcn_old_0 3\n",
      "1 bd46824 3\n",
      "1 9c5a963 3\n",
      "2 identity_calc 2\n",
      "2 coverage_calc 2\n",
      "2 identity 2\n",
      "2 score 2\n",
      "2 similarity 2\n",
      "2 sum_probs 2\n",
      "2 dcn_old_0 2\n",
      "2 bd46824 2\n",
      "2 9c5a963 2\n",
      "3 identity_calc 2\n",
      "3 coverage_calc 2\n",
      "3 identity 2\n",
      "3 score 2\n",
      "3 similarity 2\n",
      "3 sum_probs 2\n",
      "3 dcn_old_0 2\n",
      "3 bd46824 2\n",
      "3 9c5a963 2\n",
      "4 identity_calc 11\n",
      "4 coverage_calc 11\n",
      "4 identity 11\n",
      "4 score 11\n",
      "4 similarity 11\n",
      "4 sum_probs 11\n",
      "4 dcn_old_0 11\n",
      "4 bd46824 11\n",
      "4 9c5a963 11\n"
     ]
    }
   ],
   "source": [
    "DATA_GBQ = {}\n",
    "for scop_level in [1, 2, 3, 4]:\n",
    "    df = remote_homology_dataset_filtered.dropna(subset=features).copy()\n",
    "#     if f'scop_domain_matches_l{scop_level + 1}' in df:\n",
    "#         df = df[df[f'scop_domain_matches_l{scop_level + 1}'] == False]\n",
    "    data = []\n",
    "    for feature in features:\n",
    "        corrs = []\n",
    "        pvalues = []\n",
    "        aucs = []\n",
    "        count = 0\n",
    "        for query_id, group in df.groupby('query_id'):\n",
    "            if (len(group) < 3 or\n",
    "                    len(group[f'scop_domain_matches_l{scop_level}'].drop_duplicates()) == 1 or\n",
    "                    len(group[feature].drop_duplicates()) == 1\n",
    "               ):\n",
    "                continue\n",
    "            corr, pvalue = stats.spearmanr(group[feature], group[f'scop_domain_matches_l{scop_level}'])\n",
    "            auc = metrics.roc_auc_score(group[f'scop_domain_matches_l{scop_level}'], group[feature])\n",
    "            corrs.append(corr)\n",
    "            pvalues.append(pvalue)\n",
    "            aucs.append(auc)\n",
    "            count += 1\n",
    "        data.append((feature, np.mean(corrs), np.mean(pvalues), np.mean(aucs)))\n",
    "        print(scop_level, feature, count)\n",
    "    out_df = pd.DataFrame(data, columns=['feature', 'correlation', 'pvalue', 'auc'])\n",
    "    DATA_GBQ[scop_level] = out_df"
   ]
  },
  {
   "cell_type": "markdown",
   "metadata": {},
   "source": [
    "### Plots"
   ]
  },
  {
   "cell_type": "code",
   "execution_count": 47,
   "metadata": {
    "collapsed": true
   },
   "outputs": [],
   "source": [
    "cmap = plt.cm.get_cmap('Set1', 10)"
   ]
  },
  {
   "cell_type": "code",
   "execution_count": 48,
   "metadata": {},
   "outputs": [
    {
     "data": {
      "image/png": "[encoded data removed]",
      "text/plain": [
       "<Figure size 720x216 with 2 Axes>"
      ]
     },
     "metadata": {},
     "output_type": "display_data"
    },
    {
     "data": {
      "image/png": "[encoded data removed]",
      "text/plain": [
       "<Figure size 720x216 with 2 Axes>"
      ]
     },
     "metadata": {},
     "output_type": "display_data"
    },
    {
     "data": {
      "image/png": "[encoded data removed]",
      "text/plain": [
       "<Figure size 720x216 with 2 Axes>"
      ]
     },
     "metadata": {},
     "output_type": "display_data"
    },
    {
     "data": {
      "image/png": "[encoded data removed]",
      "text/plain": [
       "<Figure size 720x216 with 2 Axes>"
      ]
     },
     "metadata": {},
     "output_type": "display_data"
    }
   ],
   "source": [
    "for target in DATA_ALL:\n",
    "    fg, axs = plt.subplots(1, 2, figsize=(10, 3))\n",
    "\n",
    "    plt.sca(axs[0])\n",
    "    df = DATA_ALL[target]\n",
    "    x = np.arange(len(df))\n",
    "#     c = [cmap(1) if c >= 0 else cmap(0) for c in df['correlation']]\n",
    "    c = cmap(1)\n",
    "    plt.bar(x, df['auc'].abs(), color=c)\n",
    "    plt.xticks(x, df['feature'], rotation=45)\n",
    "    plt.ylim(0.4, 1)\n",
    "    plt.ylabel(\"Correlation\")\n",
    "    plt.title(f\"Num SCOP levels: {target}\")\n",
    "    plt.hlines(0.5, -0.75, len(features) - 0.25, linestyle='--')\n",
    "    plt.ylim(0, 1)\n",
    "    plt.xlim(-0.75, len(features) - 0.25)\n",
    "    \n",
    "    plt.sca(axs[1])\n",
    "    df = DATA_GBQ[target]\n",
    "    x = np.arange(len(df))\n",
    "#     c = [cmap(1) if c >= 0 else cmap(0) for c in df['correlation']]\n",
    "    c = cmap(1)\n",
    "    plt.bar(x, df['auc'].abs(), color=c)\n",
    "    plt.xticks(x, df['feature'], rotation=45)\n",
    "    plt.ylabel(\"Correlation\")\n",
    "    plt.title(f\"Num SCOP levels: {target}\")\n",
    "    plt.hlines(0.5, -0.75, len(features) - 0.25, linestyle='--')\n",
    "    plt.ylim(0, 1)\n",
    "    plt.xlim(-0.75, len(features) - 0.25)"
   ]
  },
  {
   "cell_type": "code",
   "execution_count": null,
   "metadata": {
    "collapsed": true
   },
   "outputs": [],
   "source": []
  },
  {
   "cell_type": "code",
   "execution_count": null,
   "metadata": {
    "collapsed": true
   },
   "outputs": [],
   "source": []
  }
 ],
 "metadata": {
  "kernelspec": {
   "display_name": "Python [default]",
   "language": "python",
   "name": "python3"
  },
  "language_info": {
   "codemirror_mode": {
    "name": "ipython",
    "version": 3
   },
   "file_extension": ".py",
   "mimetype": "text/x-python",
   "name": "python",
   "nbconvert_exporter": "python",
   "pygments_lexer": "ipython3",
   "version": "3.6.4"
  },
  "toc": {
   "base_numbering": 1,
   "nav_menu": {},
   "number_sections": false,
   "sideBar": true,
   "skip_h1_title": false,
   "title_cell": "Table of Contents",
   "title_sidebar": "Contents",
   "toc_cell": false,
   "toc_position": {
    "height": "424px",
    "left": "26px",
    "top": "141px",
    "width": "276px"
   },
   "toc_section_display": true,
   "toc_window_display": true
  }
 },
 "nbformat": 4,
 "nbformat_minor": 2
}
