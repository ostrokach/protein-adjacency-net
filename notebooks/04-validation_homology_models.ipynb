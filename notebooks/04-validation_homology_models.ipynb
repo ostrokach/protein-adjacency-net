{
 "cells": [
  {
   "cell_type": "markdown",
   "metadata": {},
   "source": [
    "# Summary"
   ]
  },
  {
   "cell_type": "markdown",
   "metadata": {},
   "source": [
    "# Imports"
   ]
  },
  {
   "cell_type": "code",
   "execution_count": 1,
   "metadata": {
    "collapsed": true
   },
   "outputs": [],
   "source": [
    "import concurrent.futures\n",
    "import itertools\n",
    "import multiprocessing\n",
    "import os\n",
    "import os.path as op\n",
    "import pickle\n",
    "import subprocess\n",
    "import tempfile\n",
    "from functools import partial\n",
    "from pathlib import Path\n",
    "\n",
    "import numpy as np\n",
    "import matplotlib.pyplot as plt\n",
    "import pandas as pd\n",
    "import pyarrow as pa\n",
    "import pyarrow.parquet as pq\n",
    "import seaborn as sns\n",
    "import sqlalchemy as sa\n",
    "from scipy import stats\n",
    "\n",
    "from kmtools import py_tools, sequence_tools"
   ]
  },
  {
   "cell_type": "code",
   "execution_count": 2,
   "metadata": {
    "collapsed": true
   },
   "outputs": [],
   "source": [
    "%matplotlib inline"
   ]
  },
  {
   "cell_type": "code",
   "execution_count": 3,
   "metadata": {
    "collapsed": true
   },
   "outputs": [],
   "source": [
    "pd.set_option(\"max_columns\", 100)"
   ]
  },
  {
   "cell_type": "markdown",
   "metadata": {},
   "source": [
    "# Parameters"
   ]
  },
  {
   "cell_type": "code",
   "execution_count": 4,
   "metadata": {},
   "outputs": [
    {
     "data": {
      "text/plain": [
       "PosixPath('validation_homology_models')"
      ]
     },
     "execution_count": 4,
     "metadata": {},
     "output_type": "execute_result"
    }
   ],
   "source": [
    "NOTEBOOK_PATH = Path('validation_homology_models')\n",
    "NOTEBOOK_PATH"
   ]
  },
  {
   "cell_type": "code",
   "execution_count": 5,
   "metadata": {},
   "outputs": [
    {
     "data": {
      "text/plain": [
       "PosixPath('/home/kimlab1/database_data/datapkg/adjacency-net-v2/notebooks/validation_homology_models')"
      ]
     },
     "execution_count": 5,
     "metadata": {},
     "output_type": "execute_result"
    }
   ],
   "source": [
    "OUTPUT_PATH = Path(os.getenv('OUTPUT_DIR', NOTEBOOK_PATH.name)).resolve()\n",
    "OUTPUT_PATH.mkdir(parents=True, exist_ok=True)\n",
    "OUTPUT_PATH"
   ]
  },
  {
   "cell_type": "code",
   "execution_count": 6,
   "metadata": {},
   "outputs": [
    {
     "data": {
      "text/plain": [
       "(None, None)"
      ]
     },
     "execution_count": 6,
     "metadata": {},
     "output_type": "execute_result"
    }
   ],
   "source": [
    "TASK_ID = os.getenv(\"SLURM_ARRAY_TASK_ID\")\n",
    "TASK_COUNT = os.getenv(\"ORIGINAL_ARRAY_TASK_COUNT\") or os.getenv(\"SLURM_ARRAY_TASK_COUNT\")\n",
    "NETWORK_NAME = os.getenv(\"NETWORK_NAME\")\n",
    "\n",
    "TASK_ID = int(TASK_ID) if TASK_ID is not None else None\n",
    "TASK_COUNT = int(TASK_COUNT) if TASK_COUNT is not None else None\n",
    "\n",
    "TASK_ID, TASK_COUNT"
   ]
  },
  {
   "cell_type": "code",
   "execution_count": 7,
   "metadata": {},
   "outputs": [
    {
     "data": {
      "text/plain": [
       "True"
      ]
     },
     "execution_count": 7,
     "metadata": {},
     "output_type": "execute_result"
    }
   ],
   "source": [
    "DEBUG = \"CI\" not in os.environ    \n",
    "DEBUG"
   ]
  },
  {
   "cell_type": "code",
   "execution_count": 8,
   "metadata": {
    "collapsed": true
   },
   "outputs": [],
   "source": [
    "if DEBUG:\n",
    "    NETWORK_NAME = \"dcn_old_0,9c5a963\"\n",
    "else:\n",
    "    assert NETWORK_NAME is not None"
   ]
  },
  {
   "cell_type": "code",
   "execution_count": 9,
   "metadata": {},
   "outputs": [],
   "source": [
    "if DEBUG:\n",
    "    %load_ext autoreload\n",
    "    %autoreload 2"
   ]
  },
  {
   "cell_type": "markdown",
   "metadata": {},
   "source": [
    "# `DATAPKG`"
   ]
  },
  {
   "cell_type": "code",
   "execution_count": 10,
   "metadata": {
    "collapsed": true
   },
   "outputs": [],
   "source": [
    "DATAPKG = {}"
   ]
  },
  {
   "cell_type": "code",
   "execution_count": 18,
   "metadata": {
    "collapsed": true
   },
   "outputs": [],
   "source": [
    "DATAPKG['uniparc-domain-wstructure'] = (\n",
    "    Path(os.environ['DATAPKG_OUTPUT_DIR'])\n",
    "    .joinpath(\"uniparc-domain-wstructure\", \"master\")\n",
    ")"
   ]
  },
  {
   "cell_type": "code",
   "execution_count": 19,
   "metadata": {},
   "outputs": [],
   "source": [
    "DATAPKG['adjacency_net_v2'] = (\n",
    "    Path(os.environ['DATAPKG_OUTPUT_DIR'])\n",
    "    .joinpath(\"adjacency_net_v2\", \"master\")\n",
    ")"
   ]
  },
  {
   "cell_type": "code",
   "execution_count": 53,
   "metadata": {
    "collapsed": true
   },
   "outputs": [],
   "source": [
    "DATAPKG['hhsuite-wstructure'] = {\n",
    "    'pdb_homology_modeling_part2': \n",
    "        Path(os.environ['DATAPKG_OUTPUT_DIR']).joinpath(\n",
    "            \"hhsuite-wstructure\",\n",
    "            \"master\",\n",
    "            \"pdb_homology_modeling_part2\",\n",
    "        ),\n",
    "    'pdb_homology_modeling_rosetta_score':  \n",
    "        Path(os.environ['DATAPKG_OUTPUT_DIR']).joinpath(\n",
    "            \"hhsuite-wstructure\",\n",
    "            \"c49376c0cbbf13df565e8f7babda332b4a1b1436\",\n",
    "            \"pdb_homology_modeling_rosetta_score\",\n",
    "        ),\n",
    "}"
   ]
  },
  {
   "cell_type": "markdown",
   "metadata": {},
   "source": [
    "# Network evaluation"
   ]
  },
  {
   "cell_type": "code",
   "execution_count": 54,
   "metadata": {
    "collapsed": true
   },
   "outputs": [],
   "source": [
    "%run trained_networks.ipynb"
   ]
  },
  {
   "cell_type": "code",
   "execution_count": 55,
   "metadata": {
    "code_folding": [],
    "collapsed": true
   },
   "outputs": [],
   "source": [
    "def predict_with_dcn_old(input_, network_info, network_state):\n",
    "    from pagnn.prediction.dcn_old import Args, main\n",
    "    for adj_col in ['adjacency_idx_1', 'adjacency_idx_2']:\n",
    "        input_[adj_col] = input_.apply(lambda row: np.r_[row[adj_col], 0:len(row['sequence'])], axis=1).values\n",
    "    args = Args(network_info=network_info, network_state=network_state)\n",
    "    output_df = main(args, input_)\n",
    "    return output_df"
   ]
  },
  {
   "cell_type": "code",
   "execution_count": 56,
   "metadata": {
    "code_folding": [],
    "collapsed": true
   },
   "outputs": [],
   "source": [
    "def predict_with_dcn(input_, network_info, network_state):\n",
    "    from pagnn.prediction.dcn import Args, main\n",
    "    args = Args(network_info=network_info, network_state=network_state)\n",
    "    output_df = main(args, input_)\n",
    "    return output_df"
   ]
  },
  {
   "cell_type": "markdown",
   "metadata": {},
   "source": [
    "# Load data"
   ]
  },
  {
   "cell_type": "markdown",
   "metadata": {},
   "source": [
    "## `pdb_homology_modeling`"
   ]
  },
  {
   "cell_type": "code",
   "execution_count": 57,
   "metadata": {},
   "outputs": [
    {
     "data": {
      "text/plain": [
       "[PosixPath('/home/kimlab1/database_data/datapkg_output_dir/hhsuite-wstructure/master/pdb_homology_modeling_part2/uniprot20_2016_02-pdb70-001.parquet'),\n",
       " PosixPath('/home/kimlab1/database_data/datapkg_output_dir/hhsuite-wstructure/master/pdb_homology_modeling_part2/uniprot20_2016_02-pdb70-002.parquet'),\n",
       " PosixPath('/home/kimlab1/database_data/datapkg_output_dir/hhsuite-wstructure/master/pdb_homology_modeling_part2/uniprot20_2016_02-pdb70-003.parquet')]"
      ]
     },
     "execution_count": 57,
     "metadata": {},
     "output_type": "execute_result"
    }
   ],
   "source": [
    "homology_model_files = sorted(\n",
    "    DATAPKG['hhsuite-wstructure']['pdb_homology_modeling_part2']\n",
    "    .glob('*-???.parquet')\n",
    ")\n",
    "\n",
    "assert len(homology_model_files) == 10\n",
    "homology_model_files[:3]"
   ]
  },
  {
   "cell_type": "code",
   "execution_count": null,
   "metadata": {
    "collapsed": true
   },
   "outputs": [],
   "source": []
  },
  {
   "cell_type": "code",
   "execution_count": 58,
   "metadata": {
    "collapsed": true
   },
   "outputs": [],
   "source": [
    "columns = [\n",
    "    \"unique_id\", \"query_id\",\n",
    "    \"sequence\",\n",
    "    \"adjacency_idx_1_from_pdb\", \"adjacency_idx_2_from_pdb\", \n",
    "    \"adjacency_idx_1_from_hm\", \"adjacency_idx_2_from_hm\", \n",
    "    'hm_residue_idx_1', 'hm_residue_idx_2',\n",
    "    'dope_score', \"ga341_score\", \"dope_score_norm\", \"molpdf\",\n",
    "    \n",
    "    \"score\", \"similarity\", \"sum_probs\",\n",
    "    \"evalue\", \"probability\", \"identity\", \"coverage\",\n",
    "    \n",
    "    \"identity_calc\",\n",
    "\n",
    "    'query_ali', 'template_ali',\n",
    "    \"query_match_length\", \"template_match_length\",\n",
    "]\n",
    "\n",
    "dfs = []\n",
    "for i, file in enumerate(homology_model_files):\n",
    "    task_id = i + 1\n",
    "    assert f\"{task_id:03}\" in file.as_posix()\n",
    "    df = pq.read_table(file, columns=columns, use_pandas_metadata=True).to_pandas(integer_object_nulls=True)\n",
    "    df['task_id'] = task_id\n",
    "    dfs.append(df)\n",
    "\n",
    "homology_model_scores = pd.concat(dfs).reset_index()"
   ]
  },
  {
   "cell_type": "code",
   "execution_count": 59,
   "metadata": {},
   "outputs": [
    {
     "data": {
      "text/html": [
       "<div>\n",
       "<style scoped>\n",
       "    .dataframe tbody tr th:only-of-type {\n",
       "        vertical-align: middle;\n",
       "    }\n",
       "\n",
       "    .dataframe tbody tr th {\n",
       "        vertical-align: top;\n",
       "    }\n",
       "\n",
       "    .dataframe thead th {\n",
       "        text-align: right;\n",
       "    }\n",
       "</style>\n",
       "<table border=\"1\" class=\"dataframe\">\n",
       "  <thead>\n",
       "    <tr style=\"text-align: right;\">\n",
       "      <th></th>\n",
       "      <th>index</th>\n",
       "      <th>unique_id</th>\n",
       "      <th>query_id</th>\n",
       "      <th>sequence</th>\n",
       "      <th>adjacency_idx_1_from_pdb</th>\n",
       "      <th>adjacency_idx_2_from_pdb</th>\n",
       "      <th>adjacency_idx_1_from_hm</th>\n",
       "      <th>adjacency_idx_2_from_hm</th>\n",
       "      <th>hm_residue_idx_1</th>\n",
       "      <th>hm_residue_idx_2</th>\n",
       "      <th>dope_score</th>\n",
       "      <th>ga341_score</th>\n",
       "      <th>dope_score_norm</th>\n",
       "      <th>molpdf</th>\n",
       "      <th>score</th>\n",
       "      <th>similarity</th>\n",
       "      <th>sum_probs</th>\n",
       "      <th>evalue</th>\n",
       "      <th>probability</th>\n",
       "      <th>identity</th>\n",
       "      <th>coverage</th>\n",
       "      <th>query_ali</th>\n",
       "      <th>template_ali</th>\n",
       "      <th>query_match_length</th>\n",
       "      <th>template_match_length</th>\n",
       "      <th>task_id</th>\n",
       "    </tr>\n",
       "  </thead>\n",
       "  <tbody>\n",
       "    <tr>\n",
       "      <th>0</th>\n",
       "      <td>0</td>\n",
       "      <td>33091-5IM6_P-1-143</td>\n",
       "      <td>33091</td>\n",
       "      <td>WKDSPIIEANGTLDELTSFIGEAKHYVDEEMKGILEEIQNDIYKIM...</td>\n",
       "      <td>[0, 0, 0, 0, 0, 0, 1, 1, 1, 1, 1, 1, 1, 1, 1, ...</td>\n",
       "      <td>[1, 2, 3, 4, 5, 114, 0, 2, 3, 4, 5, 6, 110, 11...</td>\n",
       "      <td>[0, 0, 0, 0, 0, 0, 0, 1, 1, 1, 1, 1, 1, 1, 2, ...</td>\n",
       "      <td>[1, 2, 3, 4, 5, 112, 113, 0, 2, 3, 4, 5, 6, 11...</td>\n",
       "      <td>[0, 0, 0, 0, 0, 0, 0, 1, 1, 1, 1, 1, 1, 1, 2, ...</td>\n",
       "      <td>[1, 2, 3, 4, 5, 113, 114, 0, 2, 3, 4, 5, 6, 11...</td>\n",
       "      <td>-15450.600586</td>\n",
       "      <td>1.0</td>\n",
       "      <td>-1.219322</td>\n",
       "      <td>631.898438</td>\n",
       "      <td>271.19</td>\n",
       "      <td>0.528</td>\n",
       "      <td>131.8</td>\n",
       "      <td>7.100000e-45</td>\n",
       "      <td>100.0</td>\n",
       "      <td>0.35</td>\n",
       "      <td>1.0</td>\n",
       "      <td>WKDSPIIEANGTLDELTSFIGEAKHYVD-EEMKGILEEIQNDIYKI...</td>\n",
       "      <td>MGDDARIAAIGDVDELNSQIGVLLAEPLPDDVRAALSAIQHDLFDL...</td>\n",
       "      <td>142</td>\n",
       "      <td>143</td>\n",
       "      <td>1</td>\n",
       "    </tr>\n",
       "    <tr>\n",
       "      <th>1</th>\n",
       "      <td>1</td>\n",
       "      <td>33091-3KE5_A-41-189</td>\n",
       "      <td>33091</td>\n",
       "      <td>WKDSPIIEANGTLDELTSFIGEAKHYVDEEMKGILEEIQNDIYKIM...</td>\n",
       "      <td>[0, 0, 0, 0, 1, 1, 1, 1, 1, 2, 2, 2, 2, 2, 3, ...</td>\n",
       "      <td>[1, 2, 3, 6, 0, 2, 3, 6, 7, 0, 1, 3, 4, 7, 0, ...</td>\n",
       "      <td>[0, 0, 0, 0, 1, 1, 1, 1, 1, 2, 2, 2, 2, 2, 2, ...</td>\n",
       "      <td>[1, 2, 3, 6, 0, 2, 3, 6, 7, 0, 1, 3, 4, 6, 7, ...</td>\n",
       "      <td>[0, 0, 0, 0, 1, 1, 1, 1, 1, 2, 2, 2, 2, 2, 2, ...</td>\n",
       "      <td>[1, 2, 3, 6, 0, 2, 3, 6, 7, 0, 1, 3, 4, 6, 7, ...</td>\n",
       "      <td>-15252.435547</td>\n",
       "      <td>1.0</td>\n",
       "      <td>-1.120488</td>\n",
       "      <td>1419.512695</td>\n",
       "      <td>270.51</td>\n",
       "      <td>0.533</td>\n",
       "      <td>131.6</td>\n",
       "      <td>9.500000e-45</td>\n",
       "      <td>100.0</td>\n",
       "      <td>0.36</td>\n",
       "      <td>1.0</td>\n",
       "      <td>WKDSPIIEANGTLDELTSFIGEAKHYVDE----EMKGILEEIQNDI...</td>\n",
       "      <td>DKDDIRVEAYGTIDEANSHIGYAMTKLQGGAFIDIYNELENIQHEL...</td>\n",
       "      <td>142</td>\n",
       "      <td>149</td>\n",
       "      <td>1</td>\n",
       "    </tr>\n",
       "  </tbody>\n",
       "</table>\n",
       "</div>"
      ],
      "text/plain": [
       "   index            unique_id  query_id  \\\n",
       "0      0   33091-5IM6_P-1-143     33091   \n",
       "1      1  33091-3KE5_A-41-189     33091   \n",
       "\n",
       "                                            sequence  \\\n",
       "0  WKDSPIIEANGTLDELTSFIGEAKHYVDEEMKGILEEIQNDIYKIM...   \n",
       "1  WKDSPIIEANGTLDELTSFIGEAKHYVDEEMKGILEEIQNDIYKIM...   \n",
       "\n",
       "                            adjacency_idx_1_from_pdb  \\\n",
       "0  [0, 0, 0, 0, 0, 0, 1, 1, 1, 1, 1, 1, 1, 1, 1, ...   \n",
       "1  [0, 0, 0, 0, 1, 1, 1, 1, 1, 2, 2, 2, 2, 2, 3, ...   \n",
       "\n",
       "                            adjacency_idx_2_from_pdb  \\\n",
       "0  [1, 2, 3, 4, 5, 114, 0, 2, 3, 4, 5, 6, 110, 11...   \n",
       "1  [1, 2, 3, 6, 0, 2, 3, 6, 7, 0, 1, 3, 4, 7, 0, ...   \n",
       "\n",
       "                             adjacency_idx_1_from_hm  \\\n",
       "0  [0, 0, 0, 0, 0, 0, 0, 1, 1, 1, 1, 1, 1, 1, 2, ...   \n",
       "1  [0, 0, 0, 0, 1, 1, 1, 1, 1, 2, 2, 2, 2, 2, 2, ...   \n",
       "\n",
       "                             adjacency_idx_2_from_hm  \\\n",
       "0  [1, 2, 3, 4, 5, 112, 113, 0, 2, 3, 4, 5, 6, 11...   \n",
       "1  [1, 2, 3, 6, 0, 2, 3, 6, 7, 0, 1, 3, 4, 6, 7, ...   \n",
       "\n",
       "                                    hm_residue_idx_1  \\\n",
       "0  [0, 0, 0, 0, 0, 0, 0, 1, 1, 1, 1, 1, 1, 1, 2, ...   \n",
       "1  [0, 0, 0, 0, 1, 1, 1, 1, 1, 2, 2, 2, 2, 2, 2, ...   \n",
       "\n",
       "                                    hm_residue_idx_2    dope_score  \\\n",
       "0  [1, 2, 3, 4, 5, 113, 114, 0, 2, 3, 4, 5, 6, 11... -15450.600586   \n",
       "1  [1, 2, 3, 6, 0, 2, 3, 6, 7, 0, 1, 3, 4, 6, 7, ... -15252.435547   \n",
       "\n",
       "   ga341_score  dope_score_norm       molpdf   score  similarity  sum_probs  \\\n",
       "0          1.0        -1.219322   631.898438  271.19       0.528      131.8   \n",
       "1          1.0        -1.120488  1419.512695  270.51       0.533      131.6   \n",
       "\n",
       "         evalue  probability  identity  coverage  \\\n",
       "0  7.100000e-45        100.0      0.35       1.0   \n",
       "1  9.500000e-45        100.0      0.36       1.0   \n",
       "\n",
       "                                           query_ali  \\\n",
       "0  WKDSPIIEANGTLDELTSFIGEAKHYVD-EEMKGILEEIQNDIYKI...   \n",
       "1  WKDSPIIEANGTLDELTSFIGEAKHYVDE----EMKGILEEIQNDI...   \n",
       "\n",
       "                                        template_ali  query_match_length  \\\n",
       "0  MGDDARIAAIGDVDELNSQIGVLLAEPLPDDVRAALSAIQHDLFDL...                 142   \n",
       "1  DKDDIRVEAYGTIDEANSHIGYAMTKLQGGAFIDIYNELENIQHEL...                 142   \n",
       "\n",
       "   template_match_length  task_id  \n",
       "0                    143        1  \n",
       "1                    149        1  "
      ]
     },
     "execution_count": 59,
     "metadata": {},
     "output_type": "execute_result"
    }
   ],
   "source": [
    "homology_model_scores.head(2)"
   ]
  },
  {
   "cell_type": "code",
   "execution_count": null,
   "metadata": {
    "collapsed": true
   },
   "outputs": [],
   "source": [
    "for query_id, group in output_succeeded_df.groupby('query_id'):\n",
    "    assert (group['query_match_length'] == group['query_match_length'].iloc[0]).all()"
   ]
  },
  {
   "cell_type": "code",
   "execution_count": 60,
   "metadata": {},
   "outputs": [
    {
     "name": "stdout",
     "output_type": "stream",
     "text": [
      "129667\n",
      "13365\n",
      "129667\n"
     ]
    }
   ],
   "source": [
    "print(len(homology_model_scores))\n",
    "print(len(homology_model_scores[['index']].drop_duplicates()))\n",
    "print(len(homology_model_scores[['index', 'task_id']].drop_duplicates()))"
   ]
  },
  {
   "cell_type": "code",
   "execution_count": 61,
   "metadata": {},
   "outputs": [
    {
     "data": {
      "text/html": [
       "<div>\n",
       "<style scoped>\n",
       "    .dataframe tbody tr th:only-of-type {\n",
       "        vertical-align: middle;\n",
       "    }\n",
       "\n",
       "    .dataframe tbody tr th {\n",
       "        vertical-align: top;\n",
       "    }\n",
       "\n",
       "    .dataframe thead th {\n",
       "        text-align: right;\n",
       "    }\n",
       "</style>\n",
       "<table border=\"1\" class=\"dataframe\">\n",
       "  <thead>\n",
       "    <tr style=\"text-align: right;\">\n",
       "      <th></th>\n",
       "      <th>index</th>\n",
       "      <th>unique_id</th>\n",
       "      <th>query_id</th>\n",
       "      <th>sequence</th>\n",
       "      <th>adjacency_idx_1_from_pdb</th>\n",
       "      <th>adjacency_idx_2_from_pdb</th>\n",
       "      <th>adjacency_idx_1_from_hm</th>\n",
       "      <th>adjacency_idx_2_from_hm</th>\n",
       "      <th>hm_residue_idx_1</th>\n",
       "      <th>hm_residue_idx_2</th>\n",
       "      <th>dope_score</th>\n",
       "      <th>ga341_score</th>\n",
       "      <th>dope_score_norm</th>\n",
       "      <th>molpdf</th>\n",
       "      <th>score</th>\n",
       "      <th>similarity</th>\n",
       "      <th>sum_probs</th>\n",
       "      <th>evalue</th>\n",
       "      <th>probability</th>\n",
       "      <th>identity</th>\n",
       "      <th>coverage</th>\n",
       "      <th>query_ali</th>\n",
       "      <th>template_ali</th>\n",
       "      <th>query_match_length</th>\n",
       "      <th>template_match_length</th>\n",
       "      <th>task_id</th>\n",
       "    </tr>\n",
       "  </thead>\n",
       "  <tbody>\n",
       "    <tr>\n",
       "      <th>13365</th>\n",
       "      <td>0</td>\n",
       "      <td>84392135-2GF0_B-68-170</td>\n",
       "      <td>84392135</td>\n",
       "      <td>KIQEKVDRALEDAEVVLFAVDGRAELTQADYEVAEYLRRKGKPVIL...</td>\n",
       "      <td>[0, 0, 0, 0, 0, 1, 1, 1, 1, 1, 2, 2, 2, 2, 2, ...</td>\n",
       "      <td>[1, 2, 4, 5, 8, 0, 2, 3, 4, 5, 0, 1, 3, 4, 5, ...</td>\n",
       "      <td>[0, 0, 0, 0, 0, 1, 1, 1, 1, 1, 2, 2, 2, 2, 2, ...</td>\n",
       "      <td>[1, 2, 4, 5, 8, 0, 2, 3, 4, 5, 0, 1, 3, 4, 5, ...</td>\n",
       "      <td>[0, 0, 0, 0, 0, 1, 1, 1, 1, 1, 2, 2, 2, 2, 2, ...</td>\n",
       "      <td>[1, 2, 4, 5, 8, 0, 2, 3, 4, 5, 0, 1, 3, 4, 5, ...</td>\n",
       "      <td>-7805.654297</td>\n",
       "      <td>1.0</td>\n",
       "      <td>-0.312216</td>\n",
       "      <td>1690.184082</td>\n",
       "      <td>74.7</td>\n",
       "      <td>0.138</td>\n",
       "      <td>64.9</td>\n",
       "      <td>4.900000e-09</td>\n",
       "      <td>98.35</td>\n",
       "      <td>0.12</td>\n",
       "      <td>1.0</td>\n",
       "      <td>KIQEKVDRALEDAEVVLFAVDGRAELTQAD-YEVAEYLRR-----K...</td>\n",
       "      <td>QFPAMQRLSISKGHAFILVFSVTSKQSLEELGPIYKLIVQIKGSVE...</td>\n",
       "      <td>94</td>\n",
       "      <td>103</td>\n",
       "      <td>2</td>\n",
       "    </tr>\n",
       "    <tr>\n",
       "      <th>13366</th>\n",
       "      <td>1</td>\n",
       "      <td>84392135-2GF0_C-68-170</td>\n",
       "      <td>84392135</td>\n",
       "      <td>KIQEKVDRALEDAEVVLFAVDGRAELTQADYEVAEYLRRKGKPVIL...</td>\n",
       "      <td>[0, 0, 0, 1, 1, 1, 1, 1, 2, 2, 2, 2, 2, 2, 2, ...</td>\n",
       "      <td>[1, 2, 5, 0, 2, 3, 4, 5, 0, 1, 3, 4, 5, 6, 35,...</td>\n",
       "      <td>[0, 0, 0, 1, 1, 1, 1, 1, 2, 2, 2, 2, 2, 2, 3, ...</td>\n",
       "      <td>[1, 2, 5, 0, 2, 3, 4, 5, 0, 1, 3, 4, 5, 6, 1, ...</td>\n",
       "      <td>[0, 0, 0, 1, 1, 1, 1, 1, 2, 2, 2, 2, 2, 2, 3, ...</td>\n",
       "      <td>[1, 2, 5, 0, 2, 3, 4, 5, 0, 1, 3, 4, 5, 6, 1, ...</td>\n",
       "      <td>-7662.851562</td>\n",
       "      <td>1.0</td>\n",
       "      <td>-0.204626</td>\n",
       "      <td>2368.135010</td>\n",
       "      <td>74.7</td>\n",
       "      <td>0.138</td>\n",
       "      <td>64.9</td>\n",
       "      <td>4.900000e-09</td>\n",
       "      <td>98.35</td>\n",
       "      <td>0.12</td>\n",
       "      <td>1.0</td>\n",
       "      <td>KIQEKVDRALEDAEVVLFAVDGRAELTQAD-YEVAEYLRR-----K...</td>\n",
       "      <td>QFPAMQRLSISKGHAFILVFSVTSKQSLEELGPIYKLIVQIKGSVE...</td>\n",
       "      <td>94</td>\n",
       "      <td>103</td>\n",
       "      <td>2</td>\n",
       "    </tr>\n",
       "  </tbody>\n",
       "</table>\n",
       "</div>"
      ],
      "text/plain": [
       "       index               unique_id  query_id  \\\n",
       "13365      0  84392135-2GF0_B-68-170  84392135   \n",
       "13366      1  84392135-2GF0_C-68-170  84392135   \n",
       "\n",
       "                                                sequence  \\\n",
       "13365  KIQEKVDRALEDAEVVLFAVDGRAELTQADYEVAEYLRRKGKPVIL...   \n",
       "13366  KIQEKVDRALEDAEVVLFAVDGRAELTQADYEVAEYLRRKGKPVIL...   \n",
       "\n",
       "                                adjacency_idx_1_from_pdb  \\\n",
       "13365  [0, 0, 0, 0, 0, 1, 1, 1, 1, 1, 2, 2, 2, 2, 2, ...   \n",
       "13366  [0, 0, 0, 1, 1, 1, 1, 1, 2, 2, 2, 2, 2, 2, 2, ...   \n",
       "\n",
       "                                adjacency_idx_2_from_pdb  \\\n",
       "13365  [1, 2, 4, 5, 8, 0, 2, 3, 4, 5, 0, 1, 3, 4, 5, ...   \n",
       "13366  [1, 2, 5, 0, 2, 3, 4, 5, 0, 1, 3, 4, 5, 6, 35,...   \n",
       "\n",
       "                                 adjacency_idx_1_from_hm  \\\n",
       "13365  [0, 0, 0, 0, 0, 1, 1, 1, 1, 1, 2, 2, 2, 2, 2, ...   \n",
       "13366  [0, 0, 0, 1, 1, 1, 1, 1, 2, 2, 2, 2, 2, 2, 3, ...   \n",
       "\n",
       "                                 adjacency_idx_2_from_hm  \\\n",
       "13365  [1, 2, 4, 5, 8, 0, 2, 3, 4, 5, 0, 1, 3, 4, 5, ...   \n",
       "13366  [1, 2, 5, 0, 2, 3, 4, 5, 0, 1, 3, 4, 5, 6, 1, ...   \n",
       "\n",
       "                                        hm_residue_idx_1  \\\n",
       "13365  [0, 0, 0, 0, 0, 1, 1, 1, 1, 1, 2, 2, 2, 2, 2, ...   \n",
       "13366  [0, 0, 0, 1, 1, 1, 1, 1, 2, 2, 2, 2, 2, 2, 3, ...   \n",
       "\n",
       "                                        hm_residue_idx_2   dope_score  \\\n",
       "13365  [1, 2, 4, 5, 8, 0, 2, 3, 4, 5, 0, 1, 3, 4, 5, ... -7805.654297   \n",
       "13366  [1, 2, 5, 0, 2, 3, 4, 5, 0, 1, 3, 4, 5, 6, 1, ... -7662.851562   \n",
       "\n",
       "       ga341_score  dope_score_norm       molpdf  score  similarity  \\\n",
       "13365          1.0        -0.312216  1690.184082   74.7       0.138   \n",
       "13366          1.0        -0.204626  2368.135010   74.7       0.138   \n",
       "\n",
       "       sum_probs        evalue  probability  identity  coverage  \\\n",
       "13365       64.9  4.900000e-09        98.35      0.12       1.0   \n",
       "13366       64.9  4.900000e-09        98.35      0.12       1.0   \n",
       "\n",
       "                                               query_ali  \\\n",
       "13365  KIQEKVDRALEDAEVVLFAVDGRAELTQAD-YEVAEYLRR-----K...   \n",
       "13366  KIQEKVDRALEDAEVVLFAVDGRAELTQAD-YEVAEYLRR-----K...   \n",
       "\n",
       "                                            template_ali  query_match_length  \\\n",
       "13365  QFPAMQRLSISKGHAFILVFSVTSKQSLEELGPIYKLIVQIKGSVE...                  94   \n",
       "13366  QFPAMQRLSISKGHAFILVFSVTSKQSLEELGPIYKLIVQIKGSVE...                  94   \n",
       "\n",
       "       template_match_length  task_id  \n",
       "13365                    103        2  \n",
       "13366                    103        2  "
      ]
     },
     "execution_count": 61,
     "metadata": {},
     "output_type": "execute_result"
    }
   ],
   "source": [
    "homology_model_scores[homology_model_scores.index != homology_model_scores['index']].head(2)"
   ]
  },
  {
   "cell_type": "markdown",
   "metadata": {},
   "source": [
    "## `rosetta_scores`"
   ]
  },
  {
   "cell_type": "code",
   "execution_count": 62,
   "metadata": {},
   "outputs": [
    {
     "data": {
      "text/plain": [
       "[PosixPath('/home/kimlab1/database_data/datapkg_output_dir/hhsuite-wstructure/c49376c0cbbf13df565e8f7babda332b4a1b1436/pdb_homology_modeling_rosetta_score/uniprot20_2016_02-pdb70-001-0.parquet'),\n",
       " PosixPath('/home/kimlab1/database_data/datapkg_output_dir/hhsuite-wstructure/c49376c0cbbf13df565e8f7babda332b4a1b1436/pdb_homology_modeling_rosetta_score/uniprot20_2016_02-pdb70-001-1.parquet'),\n",
       " PosixPath('/home/kimlab1/database_data/datapkg_output_dir/hhsuite-wstructure/c49376c0cbbf13df565e8f7babda332b4a1b1436/pdb_homology_modeling_rosetta_score/uniprot20_2016_02-pdb70-001-2.parquet')]"
      ]
     },
     "execution_count": 62,
     "metadata": {},
     "output_type": "execute_result"
    }
   ],
   "source": [
    "rosetta_scores_files = sorted(\n",
    "    DATAPKG['hhsuite-wstructure']['pdb_homology_modeling_rosetta_score']\n",
    "    .glob('*-???-?.parquet')\n",
    ")\n",
    "\n",
    "assert len(rosetta_scores_files) == 100\n",
    "rosetta_scores_files[:3]"
   ]
  },
  {
   "cell_type": "code",
   "execution_count": 63,
   "metadata": {
    "collapsed": true
   },
   "outputs": [],
   "source": [
    "dfs = []\n",
    "for i, file in enumerate(rosetta_scores_files):\n",
    "    task_id = i // 10 + 1\n",
    "    assert f\"{task_id:03}\" in file.as_posix()\n",
    "    df = pq.read_table(file, use_pandas_metadata=True).to_pandas(integer_object_nulls=True)\n",
    "    df['task_id'] = task_id\n",
    "    dfs.append(df)\n",
    "\n",
    "rosetta_scores = pd.concat(dfs).reset_index()"
   ]
  },
  {
   "cell_type": "code",
   "execution_count": 64,
   "metadata": {},
   "outputs": [
    {
     "data": {
      "text/html": [
       "<div>\n",
       "<style scoped>\n",
       "    .dataframe tbody tr th:only-of-type {\n",
       "        vertical-align: middle;\n",
       "    }\n",
       "\n",
       "    .dataframe tbody tr th {\n",
       "        vertical-align: top;\n",
       "    }\n",
       "\n",
       "    .dataframe thead th {\n",
       "        text-align: right;\n",
       "    }\n",
       "</style>\n",
       "<table border=\"1\" class=\"dataframe\">\n",
       "  <thead>\n",
       "    <tr style=\"text-align: right;\">\n",
       "      <th></th>\n",
       "      <th>index</th>\n",
       "      <th>error</th>\n",
       "      <th>rosetta_dslf_fa13</th>\n",
       "      <th>rosetta_fa_atr</th>\n",
       "      <th>rosetta_fa_dun</th>\n",
       "      <th>rosetta_fa_elec</th>\n",
       "      <th>rosetta_fa_intra_rep</th>\n",
       "      <th>rosetta_fa_intra_sol_xover4</th>\n",
       "      <th>rosetta_fa_rep</th>\n",
       "      <th>rosetta_fa_sol</th>\n",
       "      <th>rosetta_hbond_bb_sc</th>\n",
       "      <th>rosetta_hbond_lr_bb</th>\n",
       "      <th>rosetta_hbond_sc</th>\n",
       "      <th>rosetta_hbond_sr_bb</th>\n",
       "      <th>rosetta_linear_chainbreak</th>\n",
       "      <th>rosetta_lk_ball_wtd</th>\n",
       "      <th>rosetta_omega</th>\n",
       "      <th>rosetta_overlap_chainbreak</th>\n",
       "      <th>rosetta_p_aa_pp</th>\n",
       "      <th>rosetta_pro_close</th>\n",
       "      <th>rosetta_rama_prepro</th>\n",
       "      <th>rosetta_ref</th>\n",
       "      <th>rosetta_score</th>\n",
       "      <th>rosetta_time</th>\n",
       "      <th>rosetta_total_score</th>\n",
       "      <th>rosetta_yhh_planarity</th>\n",
       "      <th>task_id</th>\n",
       "    </tr>\n",
       "  </thead>\n",
       "  <tbody>\n",
       "    <tr>\n",
       "      <th>0</th>\n",
       "      <td>0</td>\n",
       "      <td>None</td>\n",
       "      <td>0.0</td>\n",
       "      <td>-859.704</td>\n",
       "      <td>185.429</td>\n",
       "      <td>-244.253</td>\n",
       "      <td>1.919</td>\n",
       "      <td>25.885</td>\n",
       "      <td>123.453</td>\n",
       "      <td>586.188</td>\n",
       "      <td>-11.718</td>\n",
       "      <td>0.0</td>\n",
       "      <td>-13.887</td>\n",
       "      <td>-101.370</td>\n",
       "      <td>0.0</td>\n",
       "      <td>-24.345</td>\n",
       "      <td>7.339</td>\n",
       "      <td>0.0</td>\n",
       "      <td>-14.961</td>\n",
       "      <td>0.190</td>\n",
       "      <td>19.523</td>\n",
       "      <td>43.337</td>\n",
       "      <td>-276.913</td>\n",
       "      <td>0.0</td>\n",
       "      <td>-276.913</td>\n",
       "      <td>0.064</td>\n",
       "      <td>1</td>\n",
       "    </tr>\n",
       "    <tr>\n",
       "      <th>1</th>\n",
       "      <td>1</td>\n",
       "      <td>None</td>\n",
       "      <td>0.0</td>\n",
       "      <td>-839.741</td>\n",
       "      <td>183.997</td>\n",
       "      <td>-283.734</td>\n",
       "      <td>1.965</td>\n",
       "      <td>27.730</td>\n",
       "      <td>122.678</td>\n",
       "      <td>560.051</td>\n",
       "      <td>-8.639</td>\n",
       "      <td>0.0</td>\n",
       "      <td>-11.660</td>\n",
       "      <td>-98.922</td>\n",
       "      <td>0.0</td>\n",
       "      <td>-24.753</td>\n",
       "      <td>2.366</td>\n",
       "      <td>0.0</td>\n",
       "      <td>-13.643</td>\n",
       "      <td>0.048</td>\n",
       "      <td>3.469</td>\n",
       "      <td>43.337</td>\n",
       "      <td>-335.384</td>\n",
       "      <td>0.0</td>\n",
       "      <td>-335.384</td>\n",
       "      <td>0.070</td>\n",
       "      <td>1</td>\n",
       "    </tr>\n",
       "  </tbody>\n",
       "</table>\n",
       "</div>"
      ],
      "text/plain": [
       "   index error  rosetta_dslf_fa13  rosetta_fa_atr  rosetta_fa_dun  \\\n",
       "0      0  None                0.0        -859.704         185.429   \n",
       "1      1  None                0.0        -839.741         183.997   \n",
       "\n",
       "   rosetta_fa_elec  rosetta_fa_intra_rep  rosetta_fa_intra_sol_xover4  \\\n",
       "0         -244.253                 1.919                       25.885   \n",
       "1         -283.734                 1.965                       27.730   \n",
       "\n",
       "   rosetta_fa_rep  rosetta_fa_sol  rosetta_hbond_bb_sc  rosetta_hbond_lr_bb  \\\n",
       "0         123.453         586.188              -11.718                  0.0   \n",
       "1         122.678         560.051               -8.639                  0.0   \n",
       "\n",
       "   rosetta_hbond_sc  rosetta_hbond_sr_bb  rosetta_linear_chainbreak  \\\n",
       "0           -13.887             -101.370                        0.0   \n",
       "1           -11.660              -98.922                        0.0   \n",
       "\n",
       "   rosetta_lk_ball_wtd  rosetta_omega  rosetta_overlap_chainbreak  \\\n",
       "0              -24.345          7.339                         0.0   \n",
       "1              -24.753          2.366                         0.0   \n",
       "\n",
       "   rosetta_p_aa_pp  rosetta_pro_close  rosetta_rama_prepro  rosetta_ref  \\\n",
       "0          -14.961              0.190               19.523       43.337   \n",
       "1          -13.643              0.048                3.469       43.337   \n",
       "\n",
       "   rosetta_score  rosetta_time  rosetta_total_score  rosetta_yhh_planarity  \\\n",
       "0       -276.913           0.0             -276.913                  0.064   \n",
       "1       -335.384           0.0             -335.384                  0.070   \n",
       "\n",
       "   task_id  \n",
       "0        1  \n",
       "1        1  "
      ]
     },
     "execution_count": 64,
     "metadata": {},
     "output_type": "execute_result"
    }
   ],
   "source": [
    "rosetta_scores.head(2)"
   ]
  },
  {
   "cell_type": "code",
   "execution_count": 145,
   "metadata": {},
   "outputs": [
    {
     "name": "stdout",
     "output_type": "stream",
     "text": [
      "129166\n",
      "14951\n",
      "129166\n"
     ]
    }
   ],
   "source": [
    "print(len(rosetta_scores))\n",
    "print(len(rosetta_scores[['index']].drop_duplicates()))\n",
    "print(len(rosetta_scores[['index', 'task_id']].drop_duplicates()))"
   ]
  },
  {
   "cell_type": "markdown",
   "metadata": {},
   "source": [
    "## `homology_models_dataset`"
   ]
  },
  {
   "cell_type": "code",
   "execution_count": 146,
   "metadata": {
    "collapsed": true
   },
   "outputs": [],
   "source": [
    "homology_models_dataset = homology_model_scores.merge(rosetta_scores, on=['index', 'task_id'])"
   ]
  },
  {
   "cell_type": "code",
   "execution_count": 147,
   "metadata": {},
   "outputs": [
    {
     "name": "stdout",
     "output_type": "stream",
     "text": [
      "113416\n",
      "13357\n",
      "113416\n"
     ]
    }
   ],
   "source": [
    "print(len(homology_models_dataset))\n",
    "print(len(homology_models_dataset[['index']].drop_duplicates()))\n",
    "print(len(homology_models_dataset[['index', 'task_id']].drop_duplicates()))"
   ]
  },
  {
   "cell_type": "code",
   "execution_count": 148,
   "metadata": {
    "collapsed": true
   },
   "outputs": [],
   "source": [
    "homology_models_dataset['identity_calc'] = homology_models_dataset.apply(\n",
    "    lambda row: \n",
    "        sum(a == b for a, b in zip(row['query_ali'], row['template_ali']) if a != '-') /\n",
    "        len(row['query_ali'].replace('-', '')),\n",
    "    axis=1,\n",
    ")\n",
    "# assert all((scop40_hhsearch_all_hits['identity_calc'] - scop40_hhsearch_all_hits['identity']).abs() < 0.1)"
   ]
  },
  {
   "cell_type": "code",
   "execution_count": 149,
   "metadata": {},
   "outputs": [
    {
     "name": "stdout",
     "output_type": "stream",
     "text": [
      "113416\n",
      "13357\n",
      "113416\n"
     ]
    }
   ],
   "source": [
    "print(len(homology_models_dataset))\n",
    "print(len(homology_models_dataset[['index']].drop_duplicates()))\n",
    "print(len(homology_models_dataset[['index', 'task_id']].drop_duplicates()))"
   ]
  },
  {
   "cell_type": "markdown",
   "metadata": {},
   "source": [
    "## Statistics"
   ]
  },
  {
   "cell_type": "code",
   "execution_count": 150,
   "metadata": {},
   "outputs": [
    {
     "data": {
      "text/html": [
       "<div>\n",
       "<style scoped>\n",
       "    .dataframe tbody tr th:only-of-type {\n",
       "        vertical-align: middle;\n",
       "    }\n",
       "\n",
       "    .dataframe tbody tr th {\n",
       "        vertical-align: top;\n",
       "    }\n",
       "\n",
       "    .dataframe thead th {\n",
       "        text-align: right;\n",
       "    }\n",
       "</style>\n",
       "<table border=\"1\" class=\"dataframe\">\n",
       "  <thead>\n",
       "    <tr style=\"text-align: right;\">\n",
       "      <th></th>\n",
       "      <th>index</th>\n",
       "      <th>unique_id</th>\n",
       "      <th>query_id</th>\n",
       "      <th>sequence</th>\n",
       "      <th>adjacency_idx_1_from_pdb</th>\n",
       "      <th>adjacency_idx_2_from_pdb</th>\n",
       "      <th>adjacency_idx_1_from_hm</th>\n",
       "      <th>adjacency_idx_2_from_hm</th>\n",
       "      <th>hm_residue_idx_1</th>\n",
       "      <th>hm_residue_idx_2</th>\n",
       "      <th>dope_score</th>\n",
       "      <th>ga341_score</th>\n",
       "      <th>dope_score_norm</th>\n",
       "      <th>molpdf</th>\n",
       "      <th>score</th>\n",
       "      <th>similarity</th>\n",
       "      <th>sum_probs</th>\n",
       "      <th>evalue</th>\n",
       "      <th>probability</th>\n",
       "      <th>identity</th>\n",
       "      <th>coverage</th>\n",
       "      <th>query_ali</th>\n",
       "      <th>template_ali</th>\n",
       "      <th>query_match_length</th>\n",
       "      <th>template_match_length</th>\n",
       "      <th>task_id</th>\n",
       "      <th>error</th>\n",
       "      <th>rosetta_dslf_fa13</th>\n",
       "      <th>rosetta_fa_atr</th>\n",
       "      <th>rosetta_fa_dun</th>\n",
       "      <th>rosetta_fa_elec</th>\n",
       "      <th>rosetta_fa_intra_rep</th>\n",
       "      <th>rosetta_fa_intra_sol_xover4</th>\n",
       "      <th>rosetta_fa_rep</th>\n",
       "      <th>rosetta_fa_sol</th>\n",
       "      <th>rosetta_hbond_bb_sc</th>\n",
       "      <th>rosetta_hbond_lr_bb</th>\n",
       "      <th>rosetta_hbond_sc</th>\n",
       "      <th>rosetta_hbond_sr_bb</th>\n",
       "      <th>rosetta_linear_chainbreak</th>\n",
       "      <th>rosetta_lk_ball_wtd</th>\n",
       "      <th>rosetta_omega</th>\n",
       "      <th>rosetta_overlap_chainbreak</th>\n",
       "      <th>rosetta_p_aa_pp</th>\n",
       "      <th>rosetta_pro_close</th>\n",
       "      <th>rosetta_rama_prepro</th>\n",
       "      <th>rosetta_ref</th>\n",
       "      <th>rosetta_score</th>\n",
       "      <th>rosetta_time</th>\n",
       "      <th>rosetta_total_score</th>\n",
       "      <th>rosetta_yhh_planarity</th>\n",
       "      <th>identity_calc</th>\n",
       "    </tr>\n",
       "  </thead>\n",
       "  <tbody>\n",
       "    <tr>\n",
       "      <th>0</th>\n",
       "      <td>0</td>\n",
       "      <td>33091-5IM6_P-1-143</td>\n",
       "      <td>33091</td>\n",
       "      <td>WKDSPIIEANGTLDELTSFIGEAKHYVDEEMKGILEEIQNDIYKIM...</td>\n",
       "      <td>[0, 0, 0, 0, 0, 0, 1, 1, 1, 1, 1, 1, 1, 1, 1, ...</td>\n",
       "      <td>[1, 2, 3, 4, 5, 114, 0, 2, 3, 4, 5, 6, 110, 11...</td>\n",
       "      <td>[0, 0, 0, 0, 0, 0, 0, 1, 1, 1, 1, 1, 1, 1, 2, ...</td>\n",
       "      <td>[1, 2, 3, 4, 5, 112, 113, 0, 2, 3, 4, 5, 6, 11...</td>\n",
       "      <td>[0, 0, 0, 0, 0, 0, 0, 1, 1, 1, 1, 1, 1, 1, 2, ...</td>\n",
       "      <td>[1, 2, 3, 4, 5, 113, 114, 0, 2, 3, 4, 5, 6, 11...</td>\n",
       "      <td>-15450.600586</td>\n",
       "      <td>1.0</td>\n",
       "      <td>-1.219322</td>\n",
       "      <td>631.898438</td>\n",
       "      <td>271.19</td>\n",
       "      <td>0.528</td>\n",
       "      <td>131.8</td>\n",
       "      <td>7.100000e-45</td>\n",
       "      <td>100.0</td>\n",
       "      <td>0.35</td>\n",
       "      <td>1.0</td>\n",
       "      <td>WKDSPIIEANGTLDELTSFIGEAKHYVD-EEMKGILEEIQNDIYKI...</td>\n",
       "      <td>MGDDARIAAIGDVDELNSQIGVLLAEPLPDDVRAALSAIQHDLFDL...</td>\n",
       "      <td>142</td>\n",
       "      <td>143</td>\n",
       "      <td>1</td>\n",
       "      <td>None</td>\n",
       "      <td>0.0</td>\n",
       "      <td>-860.382</td>\n",
       "      <td>183.795</td>\n",
       "      <td>-240.048</td>\n",
       "      <td>1.974</td>\n",
       "      <td>28.464</td>\n",
       "      <td>120.777</td>\n",
       "      <td>582.609</td>\n",
       "      <td>-6.196</td>\n",
       "      <td>0.0</td>\n",
       "      <td>-16.363</td>\n",
       "      <td>-102.818</td>\n",
       "      <td>0.0</td>\n",
       "      <td>-25.985</td>\n",
       "      <td>5.658</td>\n",
       "      <td>0.0</td>\n",
       "      <td>-14.138</td>\n",
       "      <td>0.160</td>\n",
       "      <td>19.581</td>\n",
       "      <td>43.337</td>\n",
       "      <td>-279.537</td>\n",
       "      <td>0.0</td>\n",
       "      <td>-279.537</td>\n",
       "      <td>0.037</td>\n",
       "      <td>0.345070</td>\n",
       "    </tr>\n",
       "    <tr>\n",
       "      <th>1</th>\n",
       "      <td>1</td>\n",
       "      <td>33091-3KE5_A-41-189</td>\n",
       "      <td>33091</td>\n",
       "      <td>WKDSPIIEANGTLDELTSFIGEAKHYVDEEMKGILEEIQNDIYKIM...</td>\n",
       "      <td>[0, 0, 0, 0, 1, 1, 1, 1, 1, 2, 2, 2, 2, 2, 3, ...</td>\n",
       "      <td>[1, 2, 3, 6, 0, 2, 3, 6, 7, 0, 1, 3, 4, 7, 0, ...</td>\n",
       "      <td>[0, 0, 0, 0, 1, 1, 1, 1, 1, 2, 2, 2, 2, 2, 2, ...</td>\n",
       "      <td>[1, 2, 3, 6, 0, 2, 3, 6, 7, 0, 1, 3, 4, 6, 7, ...</td>\n",
       "      <td>[0, 0, 0, 0, 1, 1, 1, 1, 1, 2, 2, 2, 2, 2, 2, ...</td>\n",
       "      <td>[1, 2, 3, 6, 0, 2, 3, 6, 7, 0, 1, 3, 4, 6, 7, ...</td>\n",
       "      <td>-15252.435547</td>\n",
       "      <td>1.0</td>\n",
       "      <td>-1.120488</td>\n",
       "      <td>1419.512695</td>\n",
       "      <td>270.51</td>\n",
       "      <td>0.533</td>\n",
       "      <td>131.6</td>\n",
       "      <td>9.500000e-45</td>\n",
       "      <td>100.0</td>\n",
       "      <td>0.36</td>\n",
       "      <td>1.0</td>\n",
       "      <td>WKDSPIIEANGTLDELTSFIGEAKHYVDE----EMKGILEEIQNDI...</td>\n",
       "      <td>DKDDIRVEAYGTIDEANSHIGYAMTKLQGGAFIDIYNELENIQHEL...</td>\n",
       "      <td>142</td>\n",
       "      <td>149</td>\n",
       "      <td>1</td>\n",
       "      <td>None</td>\n",
       "      <td>0.0</td>\n",
       "      <td>-833.286</td>\n",
       "      <td>186.272</td>\n",
       "      <td>-284.943</td>\n",
       "      <td>1.974</td>\n",
       "      <td>28.374</td>\n",
       "      <td>117.291</td>\n",
       "      <td>560.683</td>\n",
       "      <td>-10.367</td>\n",
       "      <td>0.0</td>\n",
       "      <td>-15.017</td>\n",
       "      <td>-98.689</td>\n",
       "      <td>0.0</td>\n",
       "      <td>-24.205</td>\n",
       "      <td>1.919</td>\n",
       "      <td>0.0</td>\n",
       "      <td>-13.503</td>\n",
       "      <td>0.061</td>\n",
       "      <td>1.482</td>\n",
       "      <td>43.337</td>\n",
       "      <td>-338.518</td>\n",
       "      <td>0.0</td>\n",
       "      <td>-338.518</td>\n",
       "      <td>0.100</td>\n",
       "      <td>0.359155</td>\n",
       "    </tr>\n",
       "  </tbody>\n",
       "</table>\n",
       "</div>"
      ],
      "text/plain": [
       "   index            unique_id  query_id  \\\n",
       "0      0   33091-5IM6_P-1-143     33091   \n",
       "1      1  33091-3KE5_A-41-189     33091   \n",
       "\n",
       "                                            sequence  \\\n",
       "0  WKDSPIIEANGTLDELTSFIGEAKHYVDEEMKGILEEIQNDIYKIM...   \n",
       "1  WKDSPIIEANGTLDELTSFIGEAKHYVDEEMKGILEEIQNDIYKIM...   \n",
       "\n",
       "                            adjacency_idx_1_from_pdb  \\\n",
       "0  [0, 0, 0, 0, 0, 0, 1, 1, 1, 1, 1, 1, 1, 1, 1, ...   \n",
       "1  [0, 0, 0, 0, 1, 1, 1, 1, 1, 2, 2, 2, 2, 2, 3, ...   \n",
       "\n",
       "                            adjacency_idx_2_from_pdb  \\\n",
       "0  [1, 2, 3, 4, 5, 114, 0, 2, 3, 4, 5, 6, 110, 11...   \n",
       "1  [1, 2, 3, 6, 0, 2, 3, 6, 7, 0, 1, 3, 4, 7, 0, ...   \n",
       "\n",
       "                             adjacency_idx_1_from_hm  \\\n",
       "0  [0, 0, 0, 0, 0, 0, 0, 1, 1, 1, 1, 1, 1, 1, 2, ...   \n",
       "1  [0, 0, 0, 0, 1, 1, 1, 1, 1, 2, 2, 2, 2, 2, 2, ...   \n",
       "\n",
       "                             adjacency_idx_2_from_hm  \\\n",
       "0  [1, 2, 3, 4, 5, 112, 113, 0, 2, 3, 4, 5, 6, 11...   \n",
       "1  [1, 2, 3, 6, 0, 2, 3, 6, 7, 0, 1, 3, 4, 6, 7, ...   \n",
       "\n",
       "                                    hm_residue_idx_1  \\\n",
       "0  [0, 0, 0, 0, 0, 0, 0, 1, 1, 1, 1, 1, 1, 1, 2, ...   \n",
       "1  [0, 0, 0, 0, 1, 1, 1, 1, 1, 2, 2, 2, 2, 2, 2, ...   \n",
       "\n",
       "                                    hm_residue_idx_2    dope_score  \\\n",
       "0  [1, 2, 3, 4, 5, 113, 114, 0, 2, 3, 4, 5, 6, 11... -15450.600586   \n",
       "1  [1, 2, 3, 6, 0, 2, 3, 6, 7, 0, 1, 3, 4, 6, 7, ... -15252.435547   \n",
       "\n",
       "   ga341_score  dope_score_norm       molpdf   score  similarity  sum_probs  \\\n",
       "0          1.0        -1.219322   631.898438  271.19       0.528      131.8   \n",
       "1          1.0        -1.120488  1419.512695  270.51       0.533      131.6   \n",
       "\n",
       "         evalue  probability  identity  coverage  \\\n",
       "0  7.100000e-45        100.0      0.35       1.0   \n",
       "1  9.500000e-45        100.0      0.36       1.0   \n",
       "\n",
       "                                           query_ali  \\\n",
       "0  WKDSPIIEANGTLDELTSFIGEAKHYVD-EEMKGILEEIQNDIYKI...   \n",
       "1  WKDSPIIEANGTLDELTSFIGEAKHYVDE----EMKGILEEIQNDI...   \n",
       "\n",
       "                                        template_ali  query_match_length  \\\n",
       "0  MGDDARIAAIGDVDELNSQIGVLLAEPLPDDVRAALSAIQHDLFDL...                 142   \n",
       "1  DKDDIRVEAYGTIDEANSHIGYAMTKLQGGAFIDIYNELENIQHEL...                 142   \n",
       "\n",
       "   template_match_length  task_id error  rosetta_dslf_fa13  rosetta_fa_atr  \\\n",
       "0                    143        1  None                0.0        -860.382   \n",
       "1                    149        1  None                0.0        -833.286   \n",
       "\n",
       "   rosetta_fa_dun  rosetta_fa_elec  rosetta_fa_intra_rep  \\\n",
       "0         183.795         -240.048                 1.974   \n",
       "1         186.272         -284.943                 1.974   \n",
       "\n",
       "   rosetta_fa_intra_sol_xover4  rosetta_fa_rep  rosetta_fa_sol  \\\n",
       "0                       28.464         120.777         582.609   \n",
       "1                       28.374         117.291         560.683   \n",
       "\n",
       "   rosetta_hbond_bb_sc  rosetta_hbond_lr_bb  rosetta_hbond_sc  \\\n",
       "0               -6.196                  0.0           -16.363   \n",
       "1              -10.367                  0.0           -15.017   \n",
       "\n",
       "   rosetta_hbond_sr_bb  rosetta_linear_chainbreak  rosetta_lk_ball_wtd  \\\n",
       "0             -102.818                        0.0              -25.985   \n",
       "1              -98.689                        0.0              -24.205   \n",
       "\n",
       "   rosetta_omega  rosetta_overlap_chainbreak  rosetta_p_aa_pp  \\\n",
       "0          5.658                         0.0          -14.138   \n",
       "1          1.919                         0.0          -13.503   \n",
       "\n",
       "   rosetta_pro_close  rosetta_rama_prepro  rosetta_ref  rosetta_score  \\\n",
       "0              0.160               19.581       43.337       -279.537   \n",
       "1              0.061                1.482       43.337       -338.518   \n",
       "\n",
       "   rosetta_time  rosetta_total_score  rosetta_yhh_planarity  identity_calc  \n",
       "0           0.0             -279.537                  0.037       0.345070  \n",
       "1           0.0             -338.518                  0.100       0.359155  "
      ]
     },
     "metadata": {},
     "output_type": "display_data"
    },
    {
     "name": "stdout",
     "output_type": "stream",
     "text": [
      "113416\n",
      "6444\n"
     ]
    }
   ],
   "source": [
    "display(homology_models_dataset.head(2))\n",
    "print(len(homology_models_dataset))\n",
    "print(len(set(homology_models_dataset['query_id'])))"
   ]
  },
  {
   "cell_type": "code",
   "execution_count": 151,
   "metadata": {
    "collapsed": true
   },
   "outputs": [],
   "source": [
    "def hist(col, range, *args, **kwargs):\n",
    "    x = homology_models_dataset[col]\n",
    "    x = np.clip(x, *range)\n",
    "    with plt.rc_context(rc={\"font.size\": 12}):\n",
    "        plt.hist(x, range=range, **kwargs)\n",
    "        plt.title(col)"
   ]
  },
  {
   "cell_type": "code",
   "execution_count": 152,
   "metadata": {},
   "outputs": [
    {
     "data": {
      "image/png": "[encoded data removed]",
      "text/plain": [
       "<Figure size 576x576 with 6 Axes>"
      ]
     },
     "metadata": {},
     "output_type": "display_data"
    }
   ],
   "source": [
    "fg, axs = plt.subplots(3, 2, figsize=(8, 8))\n",
    "\n",
    "plt.sca(axs[0, 0])\n",
    "hist(\"identity\", range=(0, 1), bins=30)\n",
    "\n",
    "plt.sca(axs[0, 1])\n",
    "hist(\"coverage\", range=(0.6, 1), bins=30)\n",
    "\n",
    "plt.sca(axs[1, 0])\n",
    "hist(\"score\", range=(0, 500), bins=30)\n",
    "\n",
    "plt.sca(axs[1, 1])\n",
    "hist(\"sum_probs\", range=(0, 200), bins=30)\n",
    "\n",
    "plt.sca(axs[2, 0])\n",
    "hist(\"query_match_length\", range=(0, 300), bins=30)\n",
    "\n",
    "plt.sca(axs[2, 1])\n",
    "hist(\"template_match_length\", range=(0, 300), bins=30)\n",
    "\n",
    "plt.tight_layout()"
   ]
  },
  {
   "cell_type": "markdown",
   "metadata": {},
   "source": [
    "## Validation"
   ]
  },
  {
   "cell_type": "code",
   "execution_count": 155,
   "metadata": {
    "collapsed": true
   },
   "outputs": [],
   "source": [
    "homology_models_dataset[\"frac_aa_wadj_pdb\"] = (\n",
    "    homology_models_dataset[\"adjacency_idx_1_from_pdb\"].apply(lambda l: len(set(l))) /\n",
    "    homology_models_dataset['sequence'].str.len()\n",
    ")\n",
    "\n",
    "homology_models_dataset[\"frac_aa_wadj_hm\"] = (\n",
    "    homology_models_dataset[\"adjacency_idx_1_from_hm\"].apply(lambda l: len(set(l))) /\n",
    "    homology_models_dataset['sequence'].str.len()\n",
    ")\n",
    "\n",
    "homology_models_dataset[\"frac_aa_wadj_hm2\"] = (\n",
    "    homology_models_dataset[\"hm_residue_idx_1\"].apply(lambda l: len(set(l))) /\n",
    "    homology_models_dataset['sequence'].str.len()\n",
    ")"
   ]
  },
  {
   "cell_type": "code",
   "execution_count": 165,
   "metadata": {},
   "outputs": [
    {
     "data": {
      "text/plain": [
       "Text(0.5,0,'frac_aa_wadj_hm2')"
      ]
     },
     "execution_count": 165,
     "metadata": {},
     "output_type": "execute_result"
    },
    {
     "data": {
      "image/png": "[encoded data removed]",
      "text/plain": [
       "<Figure size 864x288 with 3 Axes>"
      ]
     },
     "metadata": {},
     "output_type": "display_data"
    }
   ],
   "source": [
    "fg, axs = plt.subplots(1, 3, figsize=(12, 4))\n",
    "\n",
    "plt.sca(axs[0])\n",
    "_ = plt.hist(homology_models_dataset[\"frac_aa_wadj_pdb\"])\n",
    "plt.xlim(0, 1)\n",
    "plt.xlabel(\"frac_aa_wadj_pdb\")\n",
    "\n",
    "plt.sca(axs[1])\n",
    "_ = plt.hist(homology_models_dataset[\"frac_aa_wadj_hm\"])\n",
    "plt.xlim(0, 1)\n",
    "plt.xlabel(\"frac_aa_wadj_hm\")\n",
    "\n",
    "plt.sca(axs[2])\n",
    "_ = plt.hist(homology_models_dataset[\"frac_aa_wadj_hm2\"], bins=100)\n",
    "# plt.xlim(0, 1.1)\n",
    "plt.xlabel(\"frac_aa_wadj_hm2\")"
   ]
  },
  {
   "cell_type": "code",
   "execution_count": null,
   "metadata": {
    "collapsed": true
   },
   "outputs": [],
   "source": []
  },
  {
   "cell_type": "code",
   "execution_count": 32,
   "metadata": {
    "collapsed": true,
    "scrolled": true
   },
   "outputs": [],
   "source": [
    "def validate_adjacency_df(df, adj_column_1, adj_column_2):\n",
    "    assert (df[adj_column_1].apply(min) >= 0).all()\n",
    "    assert (df[adj_column_2].apply(min) >= 0).all()\n",
    "    \n",
    "    assert (\n",
    "        df[adj_column_1].apply(max) <\n",
    "        df['sequence'].str.len()\n",
    "    ).all()\n",
    "\n",
    "    assert (\n",
    "        df[adj_column_2].apply(max) <\n",
    "        df['sequence'].str.len()\n",
    "    ).all()\n",
    "\n",
    "    assert (\n",
    "        (df[adj_column_1].apply(lambda l: len(set(l))) /\n",
    "         df['sequence'].str.len()) > 0.5\n",
    "    ).all()\n",
    "\n",
    "    assert (\n",
    "        (df[adj_column_2].apply(lambda l: len(set(l))) /\n",
    "         df['sequence'].str.len()) > 0.5\n",
    "    ).all()\n",
    "    \n",
    "    \n",
    "# validate_adjacency_df(homology_models_dataset, \"adjacency_idx_1_from_pdb\", \"adjacency_idx_2_from_pdb\")\n",
    "# validate_adjacency_df(homology_models_dataset, \"adjacency_idx_1_from_hm\", \"adjacency_idx_2_from_hm\")b"
   ]
  },
  {
   "cell_type": "code",
   "execution_count": 33,
   "metadata": {},
   "outputs": [
    {
     "ename": "Exception",
     "evalue": "",
     "output_type": "error",
     "traceback": [
      "\u001b[0;31m---------------------------------------------------------------------------\u001b[0m",
      "\u001b[0;31mException\u001b[0m                                 Traceback (most recent call last)",
      "\u001b[0;32m<ipython-input-33-2aee0157c87b>\u001b[0m in \u001b[0;36m<module>\u001b[0;34m()\u001b[0m\n\u001b[0;32m----> 1\u001b[0;31m \u001b[0;32mraise\u001b[0m \u001b[0mException\u001b[0m\u001b[0;34m\u001b[0m\u001b[0m\n\u001b[0m",
      "\u001b[0;31mException\u001b[0m: "
     ]
    }
   ],
   "source": [
    "raise Exception"
   ]
  },
  {
   "cell_type": "code",
   "execution_count": 89,
   "metadata": {
    "collapsed": true
   },
   "outputs": [],
   "source": [
    "def plot(df, columns):\n",
    "    \n",
    "    mat = np.zeros((len(columns), len(columns)), float)\n",
    "    for i, c1 in enumerate(columns):\n",
    "        for j, c2 in enumerate(columns):\n",
    "            x = df[c1] if 'dope' not in c1 else -df[c1]\n",
    "            y = df[c2] if 'dope' not in c2 else -df[c2]\n",
    "            mat[i, j] = stats.spearmanr(x, y)[0]\n",
    "\n",
    "    fig, ax = plt.subplots(figsize=(8, 8))\n",
    "    im = ax.imshow(mat)\n",
    "\n",
    "    # We want to show all ticks...\n",
    "    ax.set_xticks(np.arange(len(columns)))\n",
    "    ax.set_yticks(np.arange(len(columns)))\n",
    "    # ... and label them with the respective list entries\n",
    "    ax.set_xticklabels(columns)\n",
    "    ax.set_yticklabels(columns)\n",
    "\n",
    "    # Rotate the tick labels and set their alignment.\n",
    "    plt.setp(ax.get_xticklabels(), rotation=45, ha=\"right\",\n",
    "             rotation_mode=\"anchor\")\n",
    "\n",
    "    # Loop over data dimensions and create text annotations.\n",
    "    for i in range(len(columns)):\n",
    "        for j in range(len(columns)):\n",
    "            text = ax.text(j, i, f\"{mat[i, j]:.2f}\", ha=\"center\", va=\"center\", color=\"w\")\n",
    "\n",
    "    ax.set_title(\"Harvest of local farmers (in tons/year)\")\n",
    "    fig.tight_layout()\n",
    "    plt.show()"
   ]
  },
  {
   "cell_type": "code",
   "execution_count": 171,
   "metadata": {},
   "outputs": [
    {
     "data": {
      "image/png": "[encoded data removed]",
      "text/plain": [
       "<Figure size 576x576 with 1 Axes>"
      ]
     },
     "metadata": {},
     "output_type": "display_data"
    }
   ],
   "source": [
    "columns = [\n",
    "    'rosetta_score',\n",
    "    'dope_score', 'dope_score_norm', 'ga341_score',\n",
    "    \n",
    "    \"coverage\", \n",
    "#     \"identity\",\n",
    "    \"score\",  # \"probability\", \"evalue\",\n",
    "    \"identity\", \"similarity\", \"sum_probs\",\n",
    "    \"query_match_length\", \"template_match_length\",\n",
    "]    + [\n",
    "        f\"{network_name}{suffix}\"\n",
    "        for network_name in NETWORK_NAME.split(',')\n",
    "        for suffix in [\n",
    "#             \"_pdb\",\n",
    "#             \"_hm\",\n",
    "            \"_hm2\",\n",
    "        ]\n",
    "    ]\n",
    "\n",
    "\n",
    "plot(homology_models_dataset, columns)"
   ]
  },
  {
   "cell_type": "code",
   "execution_count": 172,
   "metadata": {
    "collapsed": true
   },
   "outputs": [],
   "source": [
    "homology_models_dataset['query_seq'] = (\n",
    "    homology_models_dataset['query_ali'].str.replace('-', '')\n",
    ")"
   ]
  },
  {
   "cell_type": "code",
   "execution_count": 173,
   "metadata": {
    "scrolled": false
   },
   "outputs": [
    {
     "data": {
      "image/png": "[encoded data removed]",
      "text/plain": [
       "<Figure size 432x288 with 1 Axes>"
      ]
     },
     "metadata": {},
     "output_type": "display_data"
    }
   ],
   "source": [
    "_ = plt.hist([len(x[1]) for x in homology_models_dataset.groupby('query_seq')], bins=50)"
   ]
  },
  {
   "cell_type": "code",
   "execution_count": 185,
   "metadata": {
    "collapsed": true,
    "scrolled": true
   },
   "outputs": [],
   "source": [
    "target_columns = ['rosetta_score', 'dope_score', 'dope_score_norm', 'ga341_score']\n",
    "\n",
    "feature_columns = [\n",
    "    \"coverage\", \n",
    "#     \"identity\",\n",
    "    \"score\",  # \"probability\", \"evalue\",\n",
    "    \"identity\", \"similarity\", \"sum_probs\",\n",
    "    \"query_match_length\", \"template_match_length\",\n",
    "] + [\n",
    "    f\"{network_name}{suffix}\"\n",
    "    for network_name in NETWORK_NAME.split(',')\n",
    "    for suffix in [\n",
    "#         \"_pdb\",\n",
    "#         \"_hm\",\n",
    "        \"_hm2\",\n",
    "    ]\n",
    "]\n",
    "\n",
    "correlations = {y_col: {x_col: [] for x_col in feature_columns} for y_col in target_columns}\n",
    "\n",
    "for query_id, group in homology_models_dataset.groupby('query_seq'):\n",
    "    if len(group) > 3:\n",
    "        for y_col in target_columns:\n",
    "            for x_col in feature_columns:\n",
    "                df = group.dropna(subset=[x_col, y_col])\n",
    "                if len(df) < 3 or len(set(df[x_col])) == 1 or len(set(df[y_col])) == 1:\n",
    "                    continue\n",
    "                corr, pvalue = stats.spearmanr(df[x_col], df[y_col])\n",
    "                correlations[y_col][x_col].append(corr)"
   ]
  },
  {
   "cell_type": "code",
   "execution_count": 186,
   "metadata": {
    "scrolled": false
   },
   "outputs": [
    {
     "name": "stdout",
     "output_type": "stream",
     "text": [
      "rosetta_score\n"
     ]
    },
    {
     "data": {
      "image/png": "[encoded data removed]",
      "text/plain": [
       "<Figure size 432x288 with 1 Axes>"
      ]
     },
     "metadata": {},
     "output_type": "display_data"
    },
    {
     "name": "stdout",
     "output_type": "stream",
     "text": [
      "dope_score\n"
     ]
    },
    {
     "data": {
      "image/png": "[encoded data removed]",
      "text/plain": [
       "<Figure size 432x288 with 1 Axes>"
      ]
     },
     "metadata": {},
     "output_type": "display_data"
    },
    {
     "name": "stdout",
     "output_type": "stream",
     "text": [
      "dope_score_norm\n"
     ]
    },
    {
     "data": {
      "image/png": "[encoded data removed]",
      "text/plain": [
       "<Figure size 432x288 with 1 Axes>"
      ]
     },
     "metadata": {},
     "output_type": "display_data"
    },
    {
     "name": "stdout",
     "output_type": "stream",
     "text": [
      "ga341_score\n"
     ]
    },
    {
     "data": {
      "image/png": "[encoded data removed]",
      "text/plain": [
       "<Figure size 432x288 with 1 Axes>"
      ]
     },
     "metadata": {},
     "output_type": "display_data"
    }
   ],
   "source": [
    "for k in target_columns:\n",
    "    print(k)\n",
    "    _ = plt.boxplot([correlations[k][f] for f in correlations['rosetta_score']])\n",
    "    plt.hlines(0, 0.5, 9.6)\n",
    "    plt.show()"
   ]
  },
  {
   "cell_type": "code",
   "execution_count": null,
   "metadata": {
    "collapsed": true
   },
   "outputs": [],
   "source": [
    "_ = plt.boxplot([correlations['rosetta_score'][f] for f in correlations['rosetta_score']])"
   ]
  },
  {
   "cell_type": "code",
   "execution_count": null,
   "metadata": {
    "collapsed": true
   },
   "outputs": [],
   "source": []
  },
  {
   "cell_type": "code",
   "execution_count": null,
   "metadata": {
    "collapsed": true
   },
   "outputs": [],
   "source": []
  },
  {
   "cell_type": "code",
   "execution_count": null,
   "metadata": {
    "collapsed": true
   },
   "outputs": [],
   "source": []
  },
  {
   "cell_type": "code",
   "execution_count": null,
   "metadata": {
    "collapsed": true
   },
   "outputs": [],
   "source": []
  },
  {
   "cell_type": "code",
   "execution_count": null,
   "metadata": {
    "collapsed": true
   },
   "outputs": [],
   "source": []
  },
  {
   "cell_type": "markdown",
   "metadata": {},
   "source": [
    "# Predictions"
   ]
  },
  {
   "cell_type": "code",
   "execution_count": null,
   "metadata": {
    "collapsed": true
   },
   "outputs": [],
   "source": [
    "%run trained_networks.ipynb"
   ]
  },
  {
   "cell_type": "markdown",
   "metadata": {},
   "source": [
    "## Run network"
   ]
  },
  {
   "cell_type": "markdown",
   "metadata": {},
   "source": [
    "### Predictions using PDB adjacencies"
   ]
  },
  {
   "cell_type": "code",
   "execution_count": null,
   "metadata": {
    "collapsed": true,
    "scrolled": true
   },
   "outputs": [],
   "source": [
    "input_df = homology_models_dataset.copy()\n",
    "\n",
    "input_df['adjacency_idx_1'] = input_df[f'adjacency_idx_1_from_pdb']\n",
    "input_df['adjacency_idx_2'] = input_df[f'adjacency_idx_2_from_pdb']\n",
    "\n",
    "for network_name in NETWORK_NAME.split(','):\n",
    "    predict_with_network = predict_with_dcn_old if 'dcn_old' in network_name else predict_with_dcn\n",
    "    homology_models_dataset[f'{network_name}_pdb'] = (\n",
    "        predict_with_network(\n",
    "            input_df.copy(),\n",
    "            network_state=TRAINED_NETWORKS[network_name]['network_state'],\n",
    "            network_info=TRAINED_NETWORKS[network_name]['network_info'],\n",
    "        )\n",
    "    )"
   ]
  },
  {
   "cell_type": "markdown",
   "metadata": {},
   "source": [
    "### Predictions using HM adjacencies"
   ]
  },
  {
   "cell_type": "code",
   "execution_count": null,
   "metadata": {
    "collapsed": true
   },
   "outputs": [],
   "source": [
    "input_df = homology_models_dataset.copy()\n",
    "\n",
    "input_df['adjacency_idx_1'] = input_df[f'adjacency_idx_1_from_hm']\n",
    "input_df['adjacency_idx_2'] = input_df[f'adjacency_idx_2_from_hm']\n",
    "\n",
    "for network_name in NETWORK_NAME.split(','):\n",
    "    predict_with_network = predict_with_dcn_old if 'dcn_old' in network_name else predict_with_dcn\n",
    "    homology_models_dataset[f'{network_name}_hm'] = (\n",
    "        predict_with_network(\n",
    "            input_df.copy(),\n",
    "            network_state=TRAINED_NETWORKS[network_name]['network_state'],\n",
    "            network_info=TRAINED_NETWORKS[network_name]['network_info'],\n",
    "        )\n",
    "    )"
   ]
  },
  {
   "cell_type": "code",
   "execution_count": 166,
   "metadata": {},
   "outputs": [
    {
     "name": "stderr",
     "output_type": "stream",
     "text": [
      "Network name: 'DCN_9c5a963'\n",
      "Final output_channels: 256\n"
     ]
    }
   ],
   "source": [
    "input_df = homology_models_dataset.copy()\n",
    "\n",
    "input_df['adjacency_idx_1'] = input_df[f'hm_residue_idx_1']\n",
    "input_df['adjacency_idx_2'] = input_df[f'hm_residue_idx_2']\n",
    "\n",
    "for network_name in NETWORK_NAME.split(','):\n",
    "    predict_with_network = predict_with_dcn_old if 'dcn_old' in network_name else predict_with_dcn\n",
    "    homology_models_dataset[f'{network_name}_hm2'] = (\n",
    "        predict_with_network(\n",
    "            input_df.copy(),\n",
    "            network_state=TRAINED_NETWORKS[network_name]['network_state'],\n",
    "            network_info=TRAINED_NETWORKS[network_name]['network_info'],\n",
    "        )\n",
    "    )"
   ]
  },
  {
   "cell_type": "markdown",
   "metadata": {},
   "source": [
    "## Make plot"
   ]
  },
  {
   "cell_type": "code",
   "execution_count": 179,
   "metadata": {
    "collapsed": true
   },
   "outputs": [],
   "source": [
    "cmap = plt.cm.get_cmap('Set1', 10)"
   ]
  },
  {
   "cell_type": "code",
   "execution_count": 180,
   "metadata": {
    "collapsed": true
   },
   "outputs": [],
   "source": [
    "target = 'dope_score'\n",
    "\n",
    "features = (\n",
    "    [\n",
    "        \"identity\", \"coverage\", \n",
    "        \"score\",  # \"probability\", \"evalue\",\n",
    "        \"identity\", \"similarity\", \"sum_probs\",\n",
    "    ]\n",
    "    + [\n",
    "        f\"{network_name}{suffix}\"\n",
    "        for network_name in NETWORK_NAME.split(',')\n",
    "        for suffix in [\n",
    "#             \"_pdb\",\n",
    "#             \"_hm\",\n",
    "            \"_hm2\"\n",
    "        ]\n",
    "    ]\n",
    ")\n",
    "\n",
    "DATA = {}\n",
    "for target in ['dope_score', 'dope_score_norm', 'ga341_score', 'rosetta_score']:\n",
    "    data = []\n",
    "    for feature in features:\n",
    "        df = homology_models_dataset[[feature, target]].dropna()\n",
    "        corr = stats.spearmanr(df[feature], df[target])\n",
    "        data.append((feature, corr.correlation, corr.pvalue))\n",
    "    DATA[target] = pd.DataFrame(data, columns=['feature', 'correlation', 'pvalue'])"
   ]
  },
  {
   "cell_type": "code",
   "execution_count": 181,
   "metadata": {},
   "outputs": [
    {
     "data": {
      "image/png": "[encoded data removed]",
      "text/plain": [
       "<Figure size 432x288 with 1 Axes>"
      ]
     },
     "metadata": {},
     "output_type": "display_data"
    },
    {
     "data": {
      "image/png": "[encoded data removed]",
      "text/plain": [
       "<Figure size 432x288 with 1 Axes>"
      ]
     },
     "metadata": {},
     "output_type": "display_data"
    },
    {
     "data": {
      "image/png": "[encoded data removed]",
      "text/plain": [
       "<Figure size 432x288 with 1 Axes>"
      ]
     },
     "metadata": {},
     "output_type": "display_data"
    },
    {
     "data": {
      "image/png": "[encoded data removed]",
      "text/plain": [
       "<Figure size 432x288 with 1 Axes>"
      ]
     },
     "metadata": {},
     "output_type": "display_data"
    }
   ],
   "source": [
    "for target, df in DATA.items():\n",
    "    x = np.arange(len(df))\n",
    "#     c = [cmap(1) if c >= 0 else cmap(0) for c in df['correlation']]\n",
    "    plt.bar(x, df['correlation'].abs())\n",
    "    plt.xticks(x, df['feature'], rotation=45)\n",
    "    if target == \"rosetta_score\":\n",
    "        plt.ylim(0, 0.1)\n",
    "    else:\n",
    "        plt.ylim(0, 0.8)\n",
    "    plt.ylabel(\"Correlation\")\n",
    "    plt.title(f\"{target}\")\n",
    "    plt.show()"
   ]
  },
  {
   "cell_type": "code",
   "execution_count": null,
   "metadata": {
    "collapsed": true
   },
   "outputs": [],
   "source": []
  },
  {
   "cell_type": "code",
   "execution_count": null,
   "metadata": {
    "collapsed": true
   },
   "outputs": [],
   "source": [
    "homology_models_dataset['rosetta_score'].hist(range=(-1000, 1000))"
   ]
  },
  {
   "cell_type": "code",
   "execution_count": null,
   "metadata": {
    "collapsed": true
   },
   "outputs": [],
   "source": []
  },
  {
   "cell_type": "code",
   "execution_count": null,
   "metadata": {
    "collapsed": true
   },
   "outputs": [],
   "source": [
    "def plot(col1, col2):\n",
    "    df = homology_models_dataset[[col1, col2]].dropna()\n",
    "    if len(df) != len(homology_models_dataset):\n",
    "        print(f\"Removed {len(homology_models_dataset) - len(df)} columns with nulls!\")\n",
    "    x = df[col1]\n",
    "    y = df[col2]\n",
    "    corr = stats.spearmanr(x, y)\n",
    "    plt.plot(x, y, 'rx')\n",
    "    plt.title(f\"{corr.correlation:.3f} ({corr.pvalue:.3f})\")\n",
    "    plt.xlabel(col1)\n",
    "    plt.ylabel(col2)"
   ]
  },
  {
   "cell_type": "code",
   "execution_count": null,
   "metadata": {
    "collapsed": true
   },
   "outputs": [],
   "source": [
    "plot('rosetta_score', 'dcn_old_0_pdb')"
   ]
  },
  {
   "cell_type": "code",
   "execution_count": null,
   "metadata": {
    "collapsed": true
   },
   "outputs": [],
   "source": [
    "plot('dope_score_norm', 'network_pred_pdb')"
   ]
  },
  {
   "cell_type": "code",
   "execution_count": null,
   "metadata": {
    "collapsed": true
   },
   "outputs": [],
   "source": [
    "plot('ga341_score', 'network_pred_pdb')"
   ]
  },
  {
   "cell_type": "code",
   "execution_count": null,
   "metadata": {
    "collapsed": true
   },
   "outputs": [],
   "source": []
  }
 ],
 "metadata": {
  "kernelspec": {
   "display_name": "Python [default]",
   "language": "python",
   "name": "python3"
  },
  "language_info": {
   "codemirror_mode": {
    "name": "ipython",
    "version": 3
   },
   "file_extension": ".py",
   "mimetype": "text/x-python",
   "name": "python",
   "nbconvert_exporter": "python",
   "pygments_lexer": "ipython3",
   "version": "3.6.4"
  },
  "toc": {
   "base_numbering": 1,
   "nav_menu": {},
   "number_sections": false,
   "sideBar": true,
   "skip_h1_title": false,
   "title_cell": "Table of Contents",
   "title_sidebar": "Contents",
   "toc_cell": false,
   "toc_position": {
    "height": "473px",
    "left": "25px",
    "top": "141px",
    "width": "308px"
   },
   "toc_section_display": true,
   "toc_window_display": true
  }
 },
 "nbformat": 4,
 "nbformat_minor": 2
}
