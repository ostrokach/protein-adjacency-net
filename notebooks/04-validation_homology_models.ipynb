{
 "cells": [
  {
   "cell_type": "markdown",
   "metadata": {},
   "source": [
    "# Summary"
   ]
  },
  {
   "cell_type": "markdown",
   "metadata": {},
   "source": [
    "# Imports"
   ]
  },
  {
   "cell_type": "code",
   "execution_count": 1,
   "metadata": {},
   "outputs": [],
   "source": [
    "import concurrent.futures\n",
    "import itertools\n",
    "import multiprocessing\n",
    "import os\n",
    "import os.path as op\n",
    "import pickle\n",
    "import subprocess\n",
    "import tempfile\n",
    "from functools import partial\n",
    "from pathlib import Path\n",
    "\n",
    "import numpy as np\n",
    "import matplotlib.pyplot as plt\n",
    "import pandas as pd\n",
    "import pyarrow as pa\n",
    "import pyarrow.parquet as pq\n",
    "import seaborn as sns\n",
    "import sqlalchemy as sa\n",
    "from scipy import stats\n",
    "\n",
    "from kmtools import py_tools, sequence_tools"
   ]
  },
  {
   "cell_type": "code",
   "execution_count": 2,
   "metadata": {},
   "outputs": [],
   "source": [
    "%matplotlib inline"
   ]
  },
  {
   "cell_type": "code",
   "execution_count": 3,
   "metadata": {},
   "outputs": [],
   "source": [
    "pd.set_option(\"max_columns\", 100)"
   ]
  },
  {
   "cell_type": "markdown",
   "metadata": {},
   "source": [
    "# Parameters"
   ]
  },
  {
   "cell_type": "code",
   "execution_count": 4,
   "metadata": {},
   "outputs": [
    {
     "data": {
      "text/plain": [
       "PosixPath('validation_homology_models')"
      ]
     },
     "execution_count": 4,
     "metadata": {},
     "output_type": "execute_result"
    }
   ],
   "source": [
    "NOTEBOOK_PATH = Path('validation_homology_models')\n",
    "NOTEBOOK_PATH"
   ]
  },
  {
   "cell_type": "code",
   "execution_count": 5,
   "metadata": {},
   "outputs": [
    {
     "data": {
      "text/plain": [
       "PosixPath('/scratch/strokach/datapkg/adjacency-net-v2/notebooks/validation_homology_models')"
      ]
     },
     "execution_count": 5,
     "metadata": {},
     "output_type": "execute_result"
    }
   ],
   "source": [
    "OUTPUT_PATH = Path(os.getenv('OUTPUT_DIR', NOTEBOOK_PATH.name)).resolve()\n",
    "OUTPUT_PATH.mkdir(parents=True, exist_ok=True)\n",
    "OUTPUT_PATH"
   ]
  },
  {
   "cell_type": "code",
   "execution_count": null,
   "metadata": {},
   "outputs": [],
   "source": [
    "proc = subprocess.run([\"git\", \"rev-parse\", \"--short\", \"HEAD\"], stdout=subprocess.PIPE)\n",
    "GIT_REV = proc.stdout.decode().strip()\n",
    "GIT_REV"
   ]
  },
  {
   "cell_type": "code",
   "execution_count": 6,
   "metadata": {},
   "outputs": [
    {
     "data": {
      "text/plain": [
       "(None, None)"
      ]
     },
     "execution_count": 6,
     "metadata": {},
     "output_type": "execute_result"
    }
   ],
   "source": [
    "TASK_ID = os.getenv(\"SLURM_ARRAY_TASK_ID\")\n",
    "TASK_COUNT = os.getenv(\"ORIGINAL_ARRAY_TASK_COUNT\") or os.getenv(\"SLURM_ARRAY_TASK_COUNT\")\n",
    "NETWORK_NAME = os.getenv(\"NETWORK_NAME\", GIT_REV)\n",
    "\n",
    "TASK_ID = int(TASK_ID) if TASK_ID is not None else None\n",
    "TASK_COUNT = int(TASK_COUNT) if TASK_COUNT is not None else None\n",
    "\n",
    "TASK_ID, TASK_COUNT"
   ]
  },
  {
   "cell_type": "code",
   "execution_count": 7,
   "metadata": {},
   "outputs": [
    {
     "data": {
      "text/plain": [
       "True"
      ]
     },
     "execution_count": 7,
     "metadata": {},
     "output_type": "execute_result"
    }
   ],
   "source": [
    "DEBUG = \"CI\" not in os.environ    \n",
    "DEBUG"
   ]
  },
  {
   "cell_type": "code",
   "execution_count": 8,
   "metadata": {},
   "outputs": [
    {
     "data": {
      "text/plain": [
       "'dcn_old_0,9c5a963'"
      ]
     },
     "execution_count": 8,
     "metadata": {},
     "output_type": "execute_result"
    }
   ],
   "source": [
    "if DEBUG:\n",
    "    NETWORK_NAME = \"dcn_old_0,9c5a963\"\n",
    "else:\n",
    "    assert NETWORK_NAME is not None\n",
    "    \n",
    "NETWORK_NAME"
   ]
  },
  {
   "cell_type": "code",
   "execution_count": 9,
   "metadata": {},
   "outputs": [],
   "source": [
    "# if DEBUG:\n",
    "#     %load_ext autoreload\n",
    "#     %autoreload 2"
   ]
  },
  {
   "cell_type": "markdown",
   "metadata": {},
   "source": [
    "# `DATAPKG`"
   ]
  },
  {
   "cell_type": "code",
   "execution_count": 10,
   "metadata": {},
   "outputs": [],
   "source": [
    "DATAPKG = {}"
   ]
  },
  {
   "cell_type": "code",
   "execution_count": 11,
   "metadata": {},
   "outputs": [],
   "source": [
    "DATAPKG['uniparc-domain-wstructure'] = (\n",
    "    Path(os.environ['DATAPKG_OUTPUT_DIR'])\n",
    "    .joinpath(\"uniparc-domain-wstructure\", \"master\")\n",
    ")"
   ]
  },
  {
   "cell_type": "code",
   "execution_count": 12,
   "metadata": {},
   "outputs": [],
   "source": [
    "DATAPKG['adjacency_net_v2'] = (\n",
    "    Path(os.environ['DATAPKG_OUTPUT_DIR'])\n",
    "    .joinpath(\"adjacency_net_v2\", \"master\")\n",
    ")"
   ]
  },
  {
   "cell_type": "code",
   "execution_count": 13,
   "metadata": {},
   "outputs": [],
   "source": [
    "DATAPKG['hhsuite-wstructure'] = {\n",
    "    'pdb_homology_modeling': \n",
    "        Path(os.environ['DATAPKG_OUTPUT_DIR']).joinpath(\n",
    "            \"hhsuite-wstructure\",\n",
    "            \"master\",\n",
    "            \"pdb_homology_modeling\",\n",
    "        ),\n",
    "    'pdb_homology_modeling_adjacency_matrix': \n",
    "        Path(os.environ['DATAPKG_OUTPUT_DIR']).joinpath(\n",
    "            \"hhsuite-wstructure\",\n",
    "#             \"master\",\n",
    "#             \"354abf6aa8a49dded9955be5580bde4d6ac10c60\",\n",
    "            \"e062231f4490081db273d21ec832acb18f36bcbb\",\n",
    "            \"pdb_homology_modeling_adjacency_matrix\",\n",
    "        ),\n",
    "    'pdb_homology_modeling_rosetta_score':  \n",
    "        Path(os.environ['DATAPKG_OUTPUT_DIR']).joinpath(\n",
    "            \"hhsuite-wstructure\",\n",
    "#             \"master\",\n",
    "            \"09ae1a7157c6c98e8b7bdd93b0e7e6d4cf7587fc\",\n",
    "            \"pdb_homology_modeling_rosetta_score\",\n",
    "        ),\n",
    "}"
   ]
  },
  {
   "cell_type": "markdown",
   "metadata": {},
   "source": [
    "# Network evaluation"
   ]
  },
  {
   "cell_type": "code",
   "execution_count": 14,
   "metadata": {},
   "outputs": [],
   "source": [
    "%run trained_networks.ipynb"
   ]
  },
  {
   "cell_type": "code",
   "execution_count": 15,
   "metadata": {
    "code_folding": []
   },
   "outputs": [],
   "source": [
    "def predict_with_dcn_old(input_, network_info, network_state):\n",
    "    from pagnn.prediction.dcn_old import Args, main\n",
    "    for adj_col in ['adjacency_idx_1', 'adjacency_idx_2']:\n",
    "        input_[adj_col] = input_.apply(lambda row: np.r_[row[adj_col], 0:len(row['sequence'])], axis=1).values\n",
    "    args = Args(network_info=network_info, network_state=network_state)\n",
    "    output_df = main(args, input_)\n",
    "    return output_df"
   ]
  },
  {
   "cell_type": "code",
   "execution_count": 16,
   "metadata": {
    "code_folding": []
   },
   "outputs": [],
   "source": [
    "def predict_with_dcn(input_, network_info, network_state):\n",
    "    from pagnn.prediction.dcn import Args, main\n",
    "    args = Args(network_info=network_info, network_state=network_state)\n",
    "    output_df = main(args, input_)\n",
    "    return output_df"
   ]
  },
  {
   "cell_type": "markdown",
   "metadata": {},
   "source": [
    "# Load data"
   ]
  },
  {
   "cell_type": "markdown",
   "metadata": {},
   "source": [
    "### `pdb_homology_modeling`"
   ]
  },
  {
   "cell_type": "code",
   "execution_count": 17,
   "metadata": {},
   "outputs": [
    {
     "data": {
      "text/plain": [
       "[PosixPath('/scratch/strokach/datapkg_output_dir/hhsuite-wstructure/master/pdb_homology_modeling/uniprot20_2016_02-pdb70-1.parquet'),\n",
       " PosixPath('/scratch/strokach/datapkg_output_dir/hhsuite-wstructure/master/pdb_homology_modeling/uniprot20_2016_02-pdb70-2.parquet')]"
      ]
     },
     "execution_count": 17,
     "metadata": {},
     "output_type": "execute_result"
    }
   ],
   "source": [
    "homology_model_files = (\n",
    "    sorted(DATAPKG['hhsuite-wstructure']['pdb_homology_modeling'].glob('*-?.parquet')) +\n",
    "    sorted(DATAPKG['hhsuite-wstructure']['pdb_homology_modeling'].glob('*-??.parquet'))    \n",
    ")\n",
    "\n",
    "assert len(homology_model_files) == 10\n",
    "homology_model_files[:2]"
   ]
  },
  {
   "cell_type": "code",
   "execution_count": 18,
   "metadata": {},
   "outputs": [],
   "source": [
    "columns = [\n",
    "    \"unique_id\", \"query_id\",\n",
    "\n",
    "    \"dope_score\", \"ga341_score\", \"dope_score_norm\", \"molpdf\",\n",
    "    \n",
    "    \"identity_calc\", \"coverage_calc\",\n",
    "\n",
    "    \"score\", \"similarity\", \"sum_probs\",\n",
    "    \"evalue\", \"probability\", \"identity\",\n",
    "\n",
    "    \"query_ali\", \"template_ali\",\n",
    "    \"query_match_length\", \"template_match_length\",\n",
    "    \n",
    "    \"sequence\",\n",
    "    'hm_residue_idx_1', 'hm_residue_idx_2',\n",
    "    \"adjacency_idx_1_from_pdb\", \"adjacency_idx_2_from_pdb\", \n",
    "    \"adjacency_idx_1_from_hm\", \"adjacency_idx_2_from_hm\",\n",
    "]\n",
    "\n",
    "pdb_homology_modeling = (\n",
    "    pq.ParquetDataset(homology_model_files)\n",
    "    .read_pandas(columns=columns)\n",
    "    .to_pandas()\n",
    ")"
   ]
  },
  {
   "cell_type": "code",
   "execution_count": 19,
   "metadata": {},
   "outputs": [
    {
     "data": {
      "text/html": [
       "<div>\n",
       "<style scoped>\n",
       "    .dataframe tbody tr th:only-of-type {\n",
       "        vertical-align: middle;\n",
       "    }\n",
       "\n",
       "    .dataframe tbody tr th {\n",
       "        vertical-align: top;\n",
       "    }\n",
       "\n",
       "    .dataframe thead th {\n",
       "        text-align: right;\n",
       "    }\n",
       "</style>\n",
       "<table border=\"1\" class=\"dataframe\">\n",
       "  <thead>\n",
       "    <tr style=\"text-align: right;\">\n",
       "      <th></th>\n",
       "      <th>unique_id</th>\n",
       "      <th>query_id</th>\n",
       "      <th>dope_score</th>\n",
       "      <th>ga341_score</th>\n",
       "      <th>dope_score_norm</th>\n",
       "      <th>molpdf</th>\n",
       "      <th>identity_calc</th>\n",
       "      <th>coverage_calc</th>\n",
       "      <th>score</th>\n",
       "      <th>similarity</th>\n",
       "      <th>sum_probs</th>\n",
       "      <th>evalue</th>\n",
       "      <th>probability</th>\n",
       "      <th>identity</th>\n",
       "      <th>query_ali</th>\n",
       "      <th>template_ali</th>\n",
       "      <th>query_match_length</th>\n",
       "      <th>template_match_length</th>\n",
       "    </tr>\n",
       "  </thead>\n",
       "  <tbody>\n",
       "    <tr>\n",
       "      <th>0</th>\n",
       "      <td>33091-1:142-5IM6_P-1:143</td>\n",
       "      <td>33091</td>\n",
       "      <td>-15450.600586</td>\n",
       "      <td>1.0</td>\n",
       "      <td>-1.219322</td>\n",
       "      <td>631.898438</td>\n",
       "      <td>0.34507</td>\n",
       "      <td>1.0</td>\n",
       "      <td>271.19</td>\n",
       "      <td>0.528</td>\n",
       "      <td>131.8</td>\n",
       "      <td>7.100000e-45</td>\n",
       "      <td>100.0</td>\n",
       "      <td>0.35</td>\n",
       "      <td>WKDSPIIEANGTLDELTSFIGEAKHYVD-EEMKGILEEIQNDIYKI...</td>\n",
       "      <td>MGDDARIAAIGDVDELNSQIGVLLAEPLPDDVRAALSAIQHDLFDL...</td>\n",
       "      <td>142</td>\n",
       "      <td>143</td>\n",
       "    </tr>\n",
       "  </tbody>\n",
       "</table>\n",
       "</div>"
      ],
      "text/plain": [
       "                  unique_id  query_id    dope_score  ga341_score  \\\n",
       "0  33091-1:142-5IM6_P-1:143     33091 -15450.600586          1.0   \n",
       "\n",
       "   dope_score_norm      molpdf  identity_calc  coverage_calc   score  \\\n",
       "0        -1.219322  631.898438        0.34507            1.0  271.19   \n",
       "\n",
       "   similarity  sum_probs        evalue  probability  identity  \\\n",
       "0       0.528      131.8  7.100000e-45        100.0      0.35   \n",
       "\n",
       "                                           query_ali  \\\n",
       "0  WKDSPIIEANGTLDELTSFIGEAKHYVD-EEMKGILEEIQNDIYKI...   \n",
       "\n",
       "                                        template_ali  query_match_length  \\\n",
       "0  MGDDARIAAIGDVDELNSQIGVLLAEPLPDDVRAALSAIQHDLFDL...                 142   \n",
       "\n",
       "   template_match_length  \n",
       "0                    143  "
      ]
     },
     "metadata": {},
     "output_type": "display_data"
    },
    {
     "name": "stdout",
     "output_type": "stream",
     "text": [
      "126946\n"
     ]
    }
   ],
   "source": [
    "display(pdb_homology_modeling.head(1))\n",
    "print(len(pdb_homology_modeling))"
   ]
  },
  {
   "cell_type": "markdown",
   "metadata": {
    "collapsed": true
   },
   "source": [
    "### `pdb_homology_modeling_adjacency_matrix`"
   ]
  },
  {
   "cell_type": "code",
   "execution_count": 20,
   "metadata": {},
   "outputs": [
    {
     "data": {
      "text/plain": [
       "[PosixPath('/scratch/strokach/datapkg_output_dir/hhsuite-wstructure/e062231f4490081db273d21ec832acb18f36bcbb/pdb_homology_modeling_adjacency_matrix/uniprot20_2016_02-pdb70-001.parquet'),\n",
       " PosixPath('/scratch/strokach/datapkg_output_dir/hhsuite-wstructure/e062231f4490081db273d21ec832acb18f36bcbb/pdb_homology_modeling_adjacency_matrix/uniprot20_2016_02-pdb70-002.parquet')]"
      ]
     },
     "execution_count": 20,
     "metadata": {},
     "output_type": "execute_result"
    }
   ],
   "source": [
    "pdb_homology_modeling_adjacency_matrix_files = sorted(\n",
    "    DATAPKG\n",
    "    ['hhsuite-wstructure']\n",
    "    ['pdb_homology_modeling_adjacency_matrix']\n",
    "    .glob('*-???.parquet')\n",
    ")\n",
    "\n",
    "assert len(pdb_homology_modeling_adjacency_matrix_files) == 10\n",
    "pdb_homology_modeling_adjacency_matrix_files[:2]"
   ]
  },
  {
   "cell_type": "code",
   "execution_count": 21,
   "metadata": {
    "scrolled": false
   },
   "outputs": [],
   "source": [
    "dfs = []\n",
    "for file in pdb_homology_modeling_adjacency_matrix_files:\n",
    "    df = pq.read_table(file, columns=columns, use_pandas_metadata=True).to_pandas()\n",
    "    dfs.append(df)\n",
    "    \n",
    "\n",
    "pdb_homology_modeling_adjacency_matrix = pd.concat(dfs)"
   ]
  },
  {
   "cell_type": "code",
   "execution_count": 22,
   "metadata": {},
   "outputs": [],
   "source": [
    "# pdb_homology_modeling_adjacency_matrix = (\n",
    "#     pq.ParquetDataset(pdb_homology_modeling_adjacency_matrix_files)\n",
    "#     .read_pandas()\n",
    "#     .to_pandas()\n",
    "# )"
   ]
  },
  {
   "cell_type": "code",
   "execution_count": 23,
   "metadata": {
    "scrolled": true
   },
   "outputs": [
    {
     "data": {
      "text/html": [
       "<div>\n",
       "<style scoped>\n",
       "    .dataframe tbody tr th:only-of-type {\n",
       "        vertical-align: middle;\n",
       "    }\n",
       "\n",
       "    .dataframe tbody tr th {\n",
       "        vertical-align: top;\n",
       "    }\n",
       "\n",
       "    .dataframe thead th {\n",
       "        text-align: right;\n",
       "    }\n",
       "</style>\n",
       "<table border=\"1\" class=\"dataframe\">\n",
       "  <thead>\n",
       "    <tr style=\"text-align: right;\">\n",
       "      <th></th>\n",
       "      <th>unique_id</th>\n",
       "      <th>sequence</th>\n",
       "      <th>hm_residue_idx_1</th>\n",
       "      <th>hm_residue_idx_2</th>\n",
       "      <th>adjacency_idx_1_from_pdb</th>\n",
       "      <th>adjacency_idx_2_from_pdb</th>\n",
       "      <th>adjacency_idx_1_from_hm</th>\n",
       "      <th>adjacency_idx_2_from_hm</th>\n",
       "    </tr>\n",
       "  </thead>\n",
       "  <tbody>\n",
       "    <tr>\n",
       "      <th>0</th>\n",
       "      <td>33091-1:142-5IM6_P-1:143</td>\n",
       "      <td>WKDSPIIEANGTLDELTSFIGEAKHYVDEEMKGILEEIQNDIYKIM...</td>\n",
       "      <td>[0, 0, 0, 0, 0, 0, 0, 1, 1, 1, 1, 1, 1, 1, 2, ...</td>\n",
       "      <td>[1, 2, 3, 4, 5, 113, 114, 0, 2, 3, 4, 5, 6, 11...</td>\n",
       "      <td>[0, 0, 0, 0, 0, 0, 1, 1, 1, 1, 1, 1, 1, 1, 1, ...</td>\n",
       "      <td>[1, 2, 3, 4, 5, 114, 0, 2, 3, 4, 5, 6, 110, 11...</td>\n",
       "      <td>[0, 0, 0, 0, 0, 0, 0, 1, 1, 1, 1, 1, 1, 1, 2, ...</td>\n",
       "      <td>[1, 2, 3, 4, 5, 112, 113, 0, 2, 3, 4, 5, 6, 11...</td>\n",
       "    </tr>\n",
       "  </tbody>\n",
       "</table>\n",
       "</div>"
      ],
      "text/plain": [
       "                  unique_id  \\\n",
       "0  33091-1:142-5IM6_P-1:143   \n",
       "\n",
       "                                            sequence  \\\n",
       "0  WKDSPIIEANGTLDELTSFIGEAKHYVDEEMKGILEEIQNDIYKIM...   \n",
       "\n",
       "                                    hm_residue_idx_1  \\\n",
       "0  [0, 0, 0, 0, 0, 0, 0, 1, 1, 1, 1, 1, 1, 1, 2, ...   \n",
       "\n",
       "                                    hm_residue_idx_2  \\\n",
       "0  [1, 2, 3, 4, 5, 113, 114, 0, 2, 3, 4, 5, 6, 11...   \n",
       "\n",
       "                            adjacency_idx_1_from_pdb  \\\n",
       "0  [0, 0, 0, 0, 0, 0, 1, 1, 1, 1, 1, 1, 1, 1, 1, ...   \n",
       "\n",
       "                            adjacency_idx_2_from_pdb  \\\n",
       "0  [1, 2, 3, 4, 5, 114, 0, 2, 3, 4, 5, 6, 110, 11...   \n",
       "\n",
       "                             adjacency_idx_1_from_hm  \\\n",
       "0  [0, 0, 0, 0, 0, 0, 0, 1, 1, 1, 1, 1, 1, 1, 2, ...   \n",
       "\n",
       "                             adjacency_idx_2_from_hm  \n",
       "0  [1, 2, 3, 4, 5, 112, 113, 0, 2, 3, 4, 5, 6, 11...  "
      ]
     },
     "metadata": {},
     "output_type": "display_data"
    },
    {
     "name": "stdout",
     "output_type": "stream",
     "text": [
      "126935\n"
     ]
    }
   ],
   "source": [
    "display(pdb_homology_modeling_adjacency_matrix.head(1))\n",
    "print(len(pdb_homology_modeling_adjacency_matrix))"
   ]
  },
  {
   "cell_type": "markdown",
   "metadata": {},
   "source": [
    "### `pdb_homology_modeling_rosetta_score`"
   ]
  },
  {
   "cell_type": "code",
   "execution_count": 24,
   "metadata": {},
   "outputs": [
    {
     "data": {
      "text/plain": [
       "100"
      ]
     },
     "execution_count": 24,
     "metadata": {},
     "output_type": "execute_result"
    }
   ],
   "source": [
    "files = sorted(\n",
    "    DATAPKG\n",
    "    ['hhsuite-wstructure']\n",
    "    ['pdb_homology_modeling_rosetta_score']\n",
    "    .glob('*-???-?.parquet')\n",
    ")\n",
    "\n",
    "len(files)"
   ]
  },
  {
   "cell_type": "code",
   "execution_count": 25,
   "metadata": {},
   "outputs": [],
   "source": [
    "pdb_homology_modeling_rosetta_score = (\n",
    "    pq.ParquetDataset(files)\n",
    "    .read_pandas()\n",
    "    .to_pandas()\n",
    ")"
   ]
  },
  {
   "cell_type": "code",
   "execution_count": 26,
   "metadata": {},
   "outputs": [
    {
     "data": {
      "text/html": [
       "<div>\n",
       "<style scoped>\n",
       "    .dataframe tbody tr th:only-of-type {\n",
       "        vertical-align: middle;\n",
       "    }\n",
       "\n",
       "    .dataframe tbody tr th {\n",
       "        vertical-align: top;\n",
       "    }\n",
       "\n",
       "    .dataframe thead th {\n",
       "        text-align: right;\n",
       "    }\n",
       "</style>\n",
       "<table border=\"1\" class=\"dataframe\">\n",
       "  <thead>\n",
       "    <tr style=\"text-align: right;\">\n",
       "      <th></th>\n",
       "      <th>error</th>\n",
       "      <th>rosetta_dslf_fa13</th>\n",
       "      <th>rosetta_fa_atr</th>\n",
       "      <th>rosetta_fa_dun</th>\n",
       "      <th>rosetta_fa_elec</th>\n",
       "      <th>rosetta_fa_intra_rep</th>\n",
       "      <th>rosetta_fa_intra_sol_xover4</th>\n",
       "      <th>rosetta_fa_rep</th>\n",
       "      <th>rosetta_fa_sol</th>\n",
       "      <th>rosetta_hbond_bb_sc</th>\n",
       "      <th>rosetta_hbond_lr_bb</th>\n",
       "      <th>rosetta_hbond_sc</th>\n",
       "      <th>rosetta_hbond_sr_bb</th>\n",
       "      <th>rosetta_linear_chainbreak</th>\n",
       "      <th>rosetta_lk_ball_wtd</th>\n",
       "      <th>rosetta_omega</th>\n",
       "      <th>rosetta_overlap_chainbreak</th>\n",
       "      <th>rosetta_p_aa_pp</th>\n",
       "      <th>rosetta_pro_close</th>\n",
       "      <th>rosetta_rama_prepro</th>\n",
       "      <th>rosetta_ref</th>\n",
       "      <th>rosetta_score</th>\n",
       "      <th>rosetta_time</th>\n",
       "      <th>rosetta_total_score</th>\n",
       "      <th>rosetta_yhh_planarity</th>\n",
       "      <th>unique_id</th>\n",
       "    </tr>\n",
       "    <tr>\n",
       "      <th>index</th>\n",
       "      <th></th>\n",
       "      <th></th>\n",
       "      <th></th>\n",
       "      <th></th>\n",
       "      <th></th>\n",
       "      <th></th>\n",
       "      <th></th>\n",
       "      <th></th>\n",
       "      <th></th>\n",
       "      <th></th>\n",
       "      <th></th>\n",
       "      <th></th>\n",
       "      <th></th>\n",
       "      <th></th>\n",
       "      <th></th>\n",
       "      <th></th>\n",
       "      <th></th>\n",
       "      <th></th>\n",
       "      <th></th>\n",
       "      <th></th>\n",
       "      <th></th>\n",
       "      <th></th>\n",
       "      <th></th>\n",
       "      <th></th>\n",
       "      <th></th>\n",
       "      <th></th>\n",
       "    </tr>\n",
       "  </thead>\n",
       "  <tbody>\n",
       "    <tr>\n",
       "      <th>0</th>\n",
       "      <td>None</td>\n",
       "      <td>0.0</td>\n",
       "      <td>-860.044</td>\n",
       "      <td>183.683</td>\n",
       "      <td>-235.861</td>\n",
       "      <td>1.919</td>\n",
       "      <td>29.217</td>\n",
       "      <td>126.713</td>\n",
       "      <td>577.373</td>\n",
       "      <td>-7.876</td>\n",
       "      <td>0.0</td>\n",
       "      <td>-16.129</td>\n",
       "      <td>-101.769</td>\n",
       "      <td>0.0</td>\n",
       "      <td>-26.435</td>\n",
       "      <td>7.398</td>\n",
       "      <td>0.0</td>\n",
       "      <td>-15.139</td>\n",
       "      <td>0.105</td>\n",
       "      <td>18.31</td>\n",
       "      <td>43.337</td>\n",
       "      <td>-275.172</td>\n",
       "      <td>0.0</td>\n",
       "      <td>-275.172</td>\n",
       "      <td>0.026</td>\n",
       "      <td>33091-1:142-5IM6_P-1:143</td>\n",
       "    </tr>\n",
       "  </tbody>\n",
       "</table>\n",
       "</div>"
      ],
      "text/plain": [
       "      error  rosetta_dslf_fa13  rosetta_fa_atr  rosetta_fa_dun  \\\n",
       "index                                                            \n",
       "0      None                0.0        -860.044         183.683   \n",
       "\n",
       "       rosetta_fa_elec  rosetta_fa_intra_rep  rosetta_fa_intra_sol_xover4  \\\n",
       "index                                                                       \n",
       "0             -235.861                 1.919                       29.217   \n",
       "\n",
       "       rosetta_fa_rep  rosetta_fa_sol  rosetta_hbond_bb_sc  \\\n",
       "index                                                        \n",
       "0             126.713         577.373               -7.876   \n",
       "\n",
       "       rosetta_hbond_lr_bb  rosetta_hbond_sc  rosetta_hbond_sr_bb  \\\n",
       "index                                                               \n",
       "0                      0.0           -16.129             -101.769   \n",
       "\n",
       "       rosetta_linear_chainbreak  rosetta_lk_ball_wtd  rosetta_omega  \\\n",
       "index                                                                  \n",
       "0                            0.0              -26.435          7.398   \n",
       "\n",
       "       rosetta_overlap_chainbreak  rosetta_p_aa_pp  rosetta_pro_close  \\\n",
       "index                                                                   \n",
       "0                             0.0          -15.139              0.105   \n",
       "\n",
       "       rosetta_rama_prepro  rosetta_ref  rosetta_score  rosetta_time  \\\n",
       "index                                                                  \n",
       "0                    18.31       43.337       -275.172           0.0   \n",
       "\n",
       "       rosetta_total_score  rosetta_yhh_planarity                 unique_id  \n",
       "index                                                                        \n",
       "0                 -275.172                  0.026  33091-1:142-5IM6_P-1:143  "
      ]
     },
     "metadata": {},
     "output_type": "display_data"
    },
    {
     "name": "stdout",
     "output_type": "stream",
     "text": [
      "126454\n"
     ]
    }
   ],
   "source": [
    "display(pdb_homology_modeling_rosetta_score.head(1))\n",
    "print(len(pdb_homology_modeling_rosetta_score))"
   ]
  },
  {
   "cell_type": "markdown",
   "metadata": {},
   "source": [
    "### `homology_models_dataset`"
   ]
  },
  {
   "cell_type": "code",
   "execution_count": 27,
   "metadata": {},
   "outputs": [],
   "source": [
    "homology_models_dataset = (\n",
    "    pdb_homology_modeling\n",
    "    .merge(pdb_homology_modeling_adjacency_matrix, left_index=True, right_index=True, suffixes=(\"\", \"_2\"))\n",
    "    .merge(pdb_homology_modeling_rosetta_score, left_index=True, right_index=True, suffixes=(\"\", \"_3\"))\n",
    ")\n",
    "\n",
    "assert (homology_models_dataset['unique_id'] == homology_models_dataset['unique_id_2']).all()\n",
    "del homology_models_dataset['unique_id_2']\n",
    "\n",
    "assert (homology_models_dataset['unique_id'] == homology_models_dataset['unique_id_3']).all()\n",
    "del homology_models_dataset['unique_id_3']\n",
    "\n",
    "# assert len(homology_models_dataset) == len(pdb_homology_modeling)"
   ]
  },
  {
   "cell_type": "code",
   "execution_count": 28,
   "metadata": {},
   "outputs": [],
   "source": [
    "homology_models_dataset['sequence'] = homology_models_dataset['query_ali'].str.replace('-', '')"
   ]
  },
  {
   "cell_type": "code",
   "execution_count": 29,
   "metadata": {},
   "outputs": [
    {
     "data": {
      "text/html": [
       "<div>\n",
       "<style scoped>\n",
       "    .dataframe tbody tr th:only-of-type {\n",
       "        vertical-align: middle;\n",
       "    }\n",
       "\n",
       "    .dataframe tbody tr th {\n",
       "        vertical-align: top;\n",
       "    }\n",
       "\n",
       "    .dataframe thead th {\n",
       "        text-align: right;\n",
       "    }\n",
       "</style>\n",
       "<table border=\"1\" class=\"dataframe\">\n",
       "  <thead>\n",
       "    <tr style=\"text-align: right;\">\n",
       "      <th></th>\n",
       "      <th>unique_id</th>\n",
       "      <th>query_id</th>\n",
       "      <th>dope_score</th>\n",
       "      <th>ga341_score</th>\n",
       "      <th>dope_score_norm</th>\n",
       "      <th>molpdf</th>\n",
       "      <th>identity_calc</th>\n",
       "      <th>coverage_calc</th>\n",
       "      <th>score</th>\n",
       "      <th>similarity</th>\n",
       "      <th>sum_probs</th>\n",
       "      <th>evalue</th>\n",
       "      <th>probability</th>\n",
       "      <th>identity</th>\n",
       "      <th>query_ali</th>\n",
       "      <th>template_ali</th>\n",
       "      <th>query_match_length</th>\n",
       "      <th>template_match_length</th>\n",
       "      <th>sequence</th>\n",
       "      <th>hm_residue_idx_1</th>\n",
       "      <th>hm_residue_idx_2</th>\n",
       "      <th>adjacency_idx_1_from_pdb</th>\n",
       "      <th>adjacency_idx_2_from_pdb</th>\n",
       "      <th>adjacency_idx_1_from_hm</th>\n",
       "      <th>adjacency_idx_2_from_hm</th>\n",
       "      <th>error</th>\n",
       "      <th>rosetta_dslf_fa13</th>\n",
       "      <th>rosetta_fa_atr</th>\n",
       "      <th>rosetta_fa_dun</th>\n",
       "      <th>rosetta_fa_elec</th>\n",
       "      <th>rosetta_fa_intra_rep</th>\n",
       "      <th>rosetta_fa_intra_sol_xover4</th>\n",
       "      <th>rosetta_fa_rep</th>\n",
       "      <th>rosetta_fa_sol</th>\n",
       "      <th>rosetta_hbond_bb_sc</th>\n",
       "      <th>rosetta_hbond_lr_bb</th>\n",
       "      <th>rosetta_hbond_sc</th>\n",
       "      <th>rosetta_hbond_sr_bb</th>\n",
       "      <th>rosetta_linear_chainbreak</th>\n",
       "      <th>rosetta_lk_ball_wtd</th>\n",
       "      <th>rosetta_omega</th>\n",
       "      <th>rosetta_overlap_chainbreak</th>\n",
       "      <th>rosetta_p_aa_pp</th>\n",
       "      <th>rosetta_pro_close</th>\n",
       "      <th>rosetta_rama_prepro</th>\n",
       "      <th>rosetta_ref</th>\n",
       "      <th>rosetta_score</th>\n",
       "      <th>rosetta_time</th>\n",
       "      <th>rosetta_total_score</th>\n",
       "      <th>rosetta_yhh_planarity</th>\n",
       "    </tr>\n",
       "  </thead>\n",
       "  <tbody>\n",
       "    <tr>\n",
       "      <th>0</th>\n",
       "      <td>33091-1:142-5IM6_P-1:143</td>\n",
       "      <td>33091</td>\n",
       "      <td>-15450.600586</td>\n",
       "      <td>1.0</td>\n",
       "      <td>-1.219322</td>\n",
       "      <td>631.898438</td>\n",
       "      <td>0.34507</td>\n",
       "      <td>1.0</td>\n",
       "      <td>271.19</td>\n",
       "      <td>0.528</td>\n",
       "      <td>131.8</td>\n",
       "      <td>7.100000e-45</td>\n",
       "      <td>100.0</td>\n",
       "      <td>0.35</td>\n",
       "      <td>WKDSPIIEANGTLDELTSFIGEAKHYVD-EEMKGILEEIQNDIYKI...</td>\n",
       "      <td>MGDDARIAAIGDVDELNSQIGVLLAEPLPDDVRAALSAIQHDLFDL...</td>\n",
       "      <td>142</td>\n",
       "      <td>143</td>\n",
       "      <td>WKDSPIIEANGTLDELTSFIGEAKHYVDEEMKGILEEIQNDIYKIM...</td>\n",
       "      <td>[0, 0, 0, 0, 0, 0, 0, 1, 1, 1, 1, 1, 1, 1, 2, ...</td>\n",
       "      <td>[1, 2, 3, 4, 5, 113, 114, 0, 2, 3, 4, 5, 6, 11...</td>\n",
       "      <td>[0, 0, 0, 0, 0, 0, 1, 1, 1, 1, 1, 1, 1, 1, 1, ...</td>\n",
       "      <td>[1, 2, 3, 4, 5, 114, 0, 2, 3, 4, 5, 6, 110, 11...</td>\n",
       "      <td>[0, 0, 0, 0, 0, 0, 0, 1, 1, 1, 1, 1, 1, 1, 2, ...</td>\n",
       "      <td>[1, 2, 3, 4, 5, 112, 113, 0, 2, 3, 4, 5, 6, 11...</td>\n",
       "      <td>None</td>\n",
       "      <td>0.0</td>\n",
       "      <td>-860.044</td>\n",
       "      <td>183.683</td>\n",
       "      <td>-235.861</td>\n",
       "      <td>1.919</td>\n",
       "      <td>29.217</td>\n",
       "      <td>126.713</td>\n",
       "      <td>577.373</td>\n",
       "      <td>-7.876</td>\n",
       "      <td>0.0</td>\n",
       "      <td>-16.129</td>\n",
       "      <td>-101.769</td>\n",
       "      <td>0.0</td>\n",
       "      <td>-26.435</td>\n",
       "      <td>7.398</td>\n",
       "      <td>0.0</td>\n",
       "      <td>-15.139</td>\n",
       "      <td>0.105</td>\n",
       "      <td>18.31</td>\n",
       "      <td>43.337</td>\n",
       "      <td>-275.172</td>\n",
       "      <td>0.0</td>\n",
       "      <td>-275.172</td>\n",
       "      <td>0.026</td>\n",
       "    </tr>\n",
       "  </tbody>\n",
       "</table>\n",
       "</div>"
      ],
      "text/plain": [
       "                  unique_id  query_id    dope_score  ga341_score  \\\n",
       "0  33091-1:142-5IM6_P-1:143     33091 -15450.600586          1.0   \n",
       "\n",
       "   dope_score_norm      molpdf  identity_calc  coverage_calc   score  \\\n",
       "0        -1.219322  631.898438        0.34507            1.0  271.19   \n",
       "\n",
       "   similarity  sum_probs        evalue  probability  identity  \\\n",
       "0       0.528      131.8  7.100000e-45        100.0      0.35   \n",
       "\n",
       "                                           query_ali  \\\n",
       "0  WKDSPIIEANGTLDELTSFIGEAKHYVD-EEMKGILEEIQNDIYKI...   \n",
       "\n",
       "                                        template_ali  query_match_length  \\\n",
       "0  MGDDARIAAIGDVDELNSQIGVLLAEPLPDDVRAALSAIQHDLFDL...                 142   \n",
       "\n",
       "   template_match_length                                           sequence  \\\n",
       "0                    143  WKDSPIIEANGTLDELTSFIGEAKHYVDEEMKGILEEIQNDIYKIM...   \n",
       "\n",
       "                                    hm_residue_idx_1  \\\n",
       "0  [0, 0, 0, 0, 0, 0, 0, 1, 1, 1, 1, 1, 1, 1, 2, ...   \n",
       "\n",
       "                                    hm_residue_idx_2  \\\n",
       "0  [1, 2, 3, 4, 5, 113, 114, 0, 2, 3, 4, 5, 6, 11...   \n",
       "\n",
       "                            adjacency_idx_1_from_pdb  \\\n",
       "0  [0, 0, 0, 0, 0, 0, 1, 1, 1, 1, 1, 1, 1, 1, 1, ...   \n",
       "\n",
       "                            adjacency_idx_2_from_pdb  \\\n",
       "0  [1, 2, 3, 4, 5, 114, 0, 2, 3, 4, 5, 6, 110, 11...   \n",
       "\n",
       "                             adjacency_idx_1_from_hm  \\\n",
       "0  [0, 0, 0, 0, 0, 0, 0, 1, 1, 1, 1, 1, 1, 1, 2, ...   \n",
       "\n",
       "                             adjacency_idx_2_from_hm error  rosetta_dslf_fa13  \\\n",
       "0  [1, 2, 3, 4, 5, 112, 113, 0, 2, 3, 4, 5, 6, 11...  None                0.0   \n",
       "\n",
       "   rosetta_fa_atr  rosetta_fa_dun  rosetta_fa_elec  rosetta_fa_intra_rep  \\\n",
       "0        -860.044         183.683         -235.861                 1.919   \n",
       "\n",
       "   rosetta_fa_intra_sol_xover4  rosetta_fa_rep  rosetta_fa_sol  \\\n",
       "0                       29.217         126.713         577.373   \n",
       "\n",
       "   rosetta_hbond_bb_sc  rosetta_hbond_lr_bb  rosetta_hbond_sc  \\\n",
       "0               -7.876                  0.0           -16.129   \n",
       "\n",
       "   rosetta_hbond_sr_bb  rosetta_linear_chainbreak  rosetta_lk_ball_wtd  \\\n",
       "0             -101.769                        0.0              -26.435   \n",
       "\n",
       "   rosetta_omega  rosetta_overlap_chainbreak  rosetta_p_aa_pp  \\\n",
       "0          7.398                         0.0          -15.139   \n",
       "\n",
       "   rosetta_pro_close  rosetta_rama_prepro  rosetta_ref  rosetta_score  \\\n",
       "0              0.105                18.31       43.337       -275.172   \n",
       "\n",
       "   rosetta_time  rosetta_total_score  rosetta_yhh_planarity  \n",
       "0           0.0             -275.172                  0.026  "
      ]
     },
     "metadata": {},
     "output_type": "display_data"
    },
    {
     "name": "stdout",
     "output_type": "stream",
     "text": [
      "126443\n"
     ]
    }
   ],
   "source": [
    "display(homology_models_dataset.head(1))\n",
    "print(len(homology_models_dataset))"
   ]
  },
  {
   "cell_type": "code",
   "execution_count": 30,
   "metadata": {},
   "outputs": [],
   "source": [
    "for query_id, group in homology_models_dataset.groupby('query_id'):\n",
    "    assert (group['sequence'].str.replace('-', '') == group['sequence'].iloc[0].replace('-', '')).all()\n",
    "    assert (group['query_match_length'] == group['query_match_length'].iloc[0]).all()"
   ]
  },
  {
   "cell_type": "markdown",
   "metadata": {},
   "source": [
    "## Statistics"
   ]
  },
  {
   "cell_type": "code",
   "execution_count": 31,
   "metadata": {},
   "outputs": [
    {
     "data": {
      "text/html": [
       "<div>\n",
       "<style scoped>\n",
       "    .dataframe tbody tr th:only-of-type {\n",
       "        vertical-align: middle;\n",
       "    }\n",
       "\n",
       "    .dataframe tbody tr th {\n",
       "        vertical-align: top;\n",
       "    }\n",
       "\n",
       "    .dataframe thead th {\n",
       "        text-align: right;\n",
       "    }\n",
       "</style>\n",
       "<table border=\"1\" class=\"dataframe\">\n",
       "  <thead>\n",
       "    <tr style=\"text-align: right;\">\n",
       "      <th></th>\n",
       "      <th>unique_id</th>\n",
       "      <th>query_id</th>\n",
       "      <th>dope_score</th>\n",
       "      <th>ga341_score</th>\n",
       "      <th>dope_score_norm</th>\n",
       "      <th>molpdf</th>\n",
       "      <th>identity_calc</th>\n",
       "      <th>coverage_calc</th>\n",
       "      <th>score</th>\n",
       "      <th>similarity</th>\n",
       "      <th>sum_probs</th>\n",
       "      <th>evalue</th>\n",
       "      <th>probability</th>\n",
       "      <th>identity</th>\n",
       "      <th>query_ali</th>\n",
       "      <th>template_ali</th>\n",
       "      <th>query_match_length</th>\n",
       "      <th>template_match_length</th>\n",
       "      <th>sequence</th>\n",
       "      <th>hm_residue_idx_1</th>\n",
       "      <th>hm_residue_idx_2</th>\n",
       "      <th>adjacency_idx_1_from_pdb</th>\n",
       "      <th>adjacency_idx_2_from_pdb</th>\n",
       "      <th>adjacency_idx_1_from_hm</th>\n",
       "      <th>adjacency_idx_2_from_hm</th>\n",
       "      <th>error</th>\n",
       "      <th>rosetta_dslf_fa13</th>\n",
       "      <th>rosetta_fa_atr</th>\n",
       "      <th>rosetta_fa_dun</th>\n",
       "      <th>rosetta_fa_elec</th>\n",
       "      <th>rosetta_fa_intra_rep</th>\n",
       "      <th>rosetta_fa_intra_sol_xover4</th>\n",
       "      <th>rosetta_fa_rep</th>\n",
       "      <th>rosetta_fa_sol</th>\n",
       "      <th>rosetta_hbond_bb_sc</th>\n",
       "      <th>rosetta_hbond_lr_bb</th>\n",
       "      <th>rosetta_hbond_sc</th>\n",
       "      <th>rosetta_hbond_sr_bb</th>\n",
       "      <th>rosetta_linear_chainbreak</th>\n",
       "      <th>rosetta_lk_ball_wtd</th>\n",
       "      <th>rosetta_omega</th>\n",
       "      <th>rosetta_overlap_chainbreak</th>\n",
       "      <th>rosetta_p_aa_pp</th>\n",
       "      <th>rosetta_pro_close</th>\n",
       "      <th>rosetta_rama_prepro</th>\n",
       "      <th>rosetta_ref</th>\n",
       "      <th>rosetta_score</th>\n",
       "      <th>rosetta_time</th>\n",
       "      <th>rosetta_total_score</th>\n",
       "      <th>rosetta_yhh_planarity</th>\n",
       "    </tr>\n",
       "  </thead>\n",
       "  <tbody>\n",
       "    <tr>\n",
       "      <th>0</th>\n",
       "      <td>33091-1:142-5IM6_P-1:143</td>\n",
       "      <td>33091</td>\n",
       "      <td>-15450.600586</td>\n",
       "      <td>1.0</td>\n",
       "      <td>-1.219322</td>\n",
       "      <td>631.898438</td>\n",
       "      <td>0.345070</td>\n",
       "      <td>1.0</td>\n",
       "      <td>271.19</td>\n",
       "      <td>0.528</td>\n",
       "      <td>131.8</td>\n",
       "      <td>7.100000e-45</td>\n",
       "      <td>100.0</td>\n",
       "      <td>0.35</td>\n",
       "      <td>WKDSPIIEANGTLDELTSFIGEAKHYVD-EEMKGILEEIQNDIYKI...</td>\n",
       "      <td>MGDDARIAAIGDVDELNSQIGVLLAEPLPDDVRAALSAIQHDLFDL...</td>\n",
       "      <td>142</td>\n",
       "      <td>143</td>\n",
       "      <td>WKDSPIIEANGTLDELTSFIGEAKHYVDEEMKGILEEIQNDIYKIM...</td>\n",
       "      <td>[0, 0, 0, 0, 0, 0, 0, 1, 1, 1, 1, 1, 1, 1, 2, ...</td>\n",
       "      <td>[1, 2, 3, 4, 5, 113, 114, 0, 2, 3, 4, 5, 6, 11...</td>\n",
       "      <td>[0, 0, 0, 0, 0, 0, 1, 1, 1, 1, 1, 1, 1, 1, 1, ...</td>\n",
       "      <td>[1, 2, 3, 4, 5, 114, 0, 2, 3, 4, 5, 6, 110, 11...</td>\n",
       "      <td>[0, 0, 0, 0, 0, 0, 0, 1, 1, 1, 1, 1, 1, 1, 2, ...</td>\n",
       "      <td>[1, 2, 3, 4, 5, 112, 113, 0, 2, 3, 4, 5, 6, 11...</td>\n",
       "      <td>None</td>\n",
       "      <td>0.0</td>\n",
       "      <td>-860.044</td>\n",
       "      <td>183.683</td>\n",
       "      <td>-235.861</td>\n",
       "      <td>1.919</td>\n",
       "      <td>29.217</td>\n",
       "      <td>126.713</td>\n",
       "      <td>577.373</td>\n",
       "      <td>-7.876</td>\n",
       "      <td>0.0</td>\n",
       "      <td>-16.129</td>\n",
       "      <td>-101.769</td>\n",
       "      <td>0.0</td>\n",
       "      <td>-26.435</td>\n",
       "      <td>7.398</td>\n",
       "      <td>0.0</td>\n",
       "      <td>-15.139</td>\n",
       "      <td>0.105</td>\n",
       "      <td>18.310</td>\n",
       "      <td>43.337</td>\n",
       "      <td>-275.172</td>\n",
       "      <td>0.0</td>\n",
       "      <td>-275.172</td>\n",
       "      <td>0.026</td>\n",
       "    </tr>\n",
       "    <tr>\n",
       "      <th>1</th>\n",
       "      <td>33091-1:142-3KE4_C-41:189</td>\n",
       "      <td>33091</td>\n",
       "      <td>-15394.823242</td>\n",
       "      <td>1.0</td>\n",
       "      <td>-1.191503</td>\n",
       "      <td>1064.089966</td>\n",
       "      <td>0.359155</td>\n",
       "      <td>1.0</td>\n",
       "      <td>270.51</td>\n",
       "      <td>0.533</td>\n",
       "      <td>131.6</td>\n",
       "      <td>9.500000e-45</td>\n",
       "      <td>100.0</td>\n",
       "      <td>0.36</td>\n",
       "      <td>WKDSPIIEANGTLDELTSFIGEAKHYVDE----EMKGILEEIQNDI...</td>\n",
       "      <td>DKDDIRVEAYGTIDEANSHIGYAMTKLQGGAFIDIYNELENIQHEL...</td>\n",
       "      <td>142</td>\n",
       "      <td>149</td>\n",
       "      <td>WKDSPIIEANGTLDELTSFIGEAKHYVDEEMKGILEEIQNDIYKIM...</td>\n",
       "      <td>[0, 0, 0, 0, 1, 1, 1, 1, 2, 2, 2, 2, 2, 3, 3, ...</td>\n",
       "      <td>[1, 2, 3, 6, 0, 2, 3, 6, 0, 1, 3, 4, 6, 0, 1, ...</td>\n",
       "      <td>[0, 0, 0, 0, 1, 1, 1, 1, 2, 2, 2, 2, 3, 3, 3, ...</td>\n",
       "      <td>[1, 2, 3, 6, 0, 2, 3, 6, 0, 1, 3, 4, 0, 1, 2, ...</td>\n",
       "      <td>[0, 0, 0, 0, 1, 1, 1, 1, 2, 2, 2, 2, 2, 3, 3, ...</td>\n",
       "      <td>[1, 2, 3, 6, 0, 2, 3, 6, 0, 1, 3, 4, 6, 0, 1, ...</td>\n",
       "      <td>None</td>\n",
       "      <td>0.0</td>\n",
       "      <td>-850.958</td>\n",
       "      <td>187.585</td>\n",
       "      <td>-233.608</td>\n",
       "      <td>1.953</td>\n",
       "      <td>27.797</td>\n",
       "      <td>122.979</td>\n",
       "      <td>564.869</td>\n",
       "      <td>-13.660</td>\n",
       "      <td>0.0</td>\n",
       "      <td>-18.957</td>\n",
       "      <td>-102.922</td>\n",
       "      <td>0.0</td>\n",
       "      <td>-21.572</td>\n",
       "      <td>6.870</td>\n",
       "      <td>0.0</td>\n",
       "      <td>-11.066</td>\n",
       "      <td>0.109</td>\n",
       "      <td>-3.246</td>\n",
       "      <td>43.337</td>\n",
       "      <td>-300.326</td>\n",
       "      <td>0.0</td>\n",
       "      <td>-300.326</td>\n",
       "      <td>0.162</td>\n",
       "    </tr>\n",
       "  </tbody>\n",
       "</table>\n",
       "</div>"
      ],
      "text/plain": [
       "                   unique_id  query_id    dope_score  ga341_score  \\\n",
       "0   33091-1:142-5IM6_P-1:143     33091 -15450.600586          1.0   \n",
       "1  33091-1:142-3KE4_C-41:189     33091 -15394.823242          1.0   \n",
       "\n",
       "   dope_score_norm       molpdf  identity_calc  coverage_calc   score  \\\n",
       "0        -1.219322   631.898438       0.345070            1.0  271.19   \n",
       "1        -1.191503  1064.089966       0.359155            1.0  270.51   \n",
       "\n",
       "   similarity  sum_probs        evalue  probability  identity  \\\n",
       "0       0.528      131.8  7.100000e-45        100.0      0.35   \n",
       "1       0.533      131.6  9.500000e-45        100.0      0.36   \n",
       "\n",
       "                                           query_ali  \\\n",
       "0  WKDSPIIEANGTLDELTSFIGEAKHYVD-EEMKGILEEIQNDIYKI...   \n",
       "1  WKDSPIIEANGTLDELTSFIGEAKHYVDE----EMKGILEEIQNDI...   \n",
       "\n",
       "                                        template_ali  query_match_length  \\\n",
       "0  MGDDARIAAIGDVDELNSQIGVLLAEPLPDDVRAALSAIQHDLFDL...                 142   \n",
       "1  DKDDIRVEAYGTIDEANSHIGYAMTKLQGGAFIDIYNELENIQHEL...                 142   \n",
       "\n",
       "   template_match_length                                           sequence  \\\n",
       "0                    143  WKDSPIIEANGTLDELTSFIGEAKHYVDEEMKGILEEIQNDIYKIM...   \n",
       "1                    149  WKDSPIIEANGTLDELTSFIGEAKHYVDEEMKGILEEIQNDIYKIM...   \n",
       "\n",
       "                                    hm_residue_idx_1  \\\n",
       "0  [0, 0, 0, 0, 0, 0, 0, 1, 1, 1, 1, 1, 1, 1, 2, ...   \n",
       "1  [0, 0, 0, 0, 1, 1, 1, 1, 2, 2, 2, 2, 2, 3, 3, ...   \n",
       "\n",
       "                                    hm_residue_idx_2  \\\n",
       "0  [1, 2, 3, 4, 5, 113, 114, 0, 2, 3, 4, 5, 6, 11...   \n",
       "1  [1, 2, 3, 6, 0, 2, 3, 6, 0, 1, 3, 4, 6, 0, 1, ...   \n",
       "\n",
       "                            adjacency_idx_1_from_pdb  \\\n",
       "0  [0, 0, 0, 0, 0, 0, 1, 1, 1, 1, 1, 1, 1, 1, 1, ...   \n",
       "1  [0, 0, 0, 0, 1, 1, 1, 1, 2, 2, 2, 2, 3, 3, 3, ...   \n",
       "\n",
       "                            adjacency_idx_2_from_pdb  \\\n",
       "0  [1, 2, 3, 4, 5, 114, 0, 2, 3, 4, 5, 6, 110, 11...   \n",
       "1  [1, 2, 3, 6, 0, 2, 3, 6, 0, 1, 3, 4, 0, 1, 2, ...   \n",
       "\n",
       "                             adjacency_idx_1_from_hm  \\\n",
       "0  [0, 0, 0, 0, 0, 0, 0, 1, 1, 1, 1, 1, 1, 1, 2, ...   \n",
       "1  [0, 0, 0, 0, 1, 1, 1, 1, 2, 2, 2, 2, 2, 3, 3, ...   \n",
       "\n",
       "                             adjacency_idx_2_from_hm error  rosetta_dslf_fa13  \\\n",
       "0  [1, 2, 3, 4, 5, 112, 113, 0, 2, 3, 4, 5, 6, 11...  None                0.0   \n",
       "1  [1, 2, 3, 6, 0, 2, 3, 6, 0, 1, 3, 4, 6, 0, 1, ...  None                0.0   \n",
       "\n",
       "   rosetta_fa_atr  rosetta_fa_dun  rosetta_fa_elec  rosetta_fa_intra_rep  \\\n",
       "0        -860.044         183.683         -235.861                 1.919   \n",
       "1        -850.958         187.585         -233.608                 1.953   \n",
       "\n",
       "   rosetta_fa_intra_sol_xover4  rosetta_fa_rep  rosetta_fa_sol  \\\n",
       "0                       29.217         126.713         577.373   \n",
       "1                       27.797         122.979         564.869   \n",
       "\n",
       "   rosetta_hbond_bb_sc  rosetta_hbond_lr_bb  rosetta_hbond_sc  \\\n",
       "0               -7.876                  0.0           -16.129   \n",
       "1              -13.660                  0.0           -18.957   \n",
       "\n",
       "   rosetta_hbond_sr_bb  rosetta_linear_chainbreak  rosetta_lk_ball_wtd  \\\n",
       "0             -101.769                        0.0              -26.435   \n",
       "1             -102.922                        0.0              -21.572   \n",
       "\n",
       "   rosetta_omega  rosetta_overlap_chainbreak  rosetta_p_aa_pp  \\\n",
       "0          7.398                         0.0          -15.139   \n",
       "1          6.870                         0.0          -11.066   \n",
       "\n",
       "   rosetta_pro_close  rosetta_rama_prepro  rosetta_ref  rosetta_score  \\\n",
       "0              0.105               18.310       43.337       -275.172   \n",
       "1              0.109               -3.246       43.337       -300.326   \n",
       "\n",
       "   rosetta_time  rosetta_total_score  rosetta_yhh_planarity  \n",
       "0           0.0             -275.172                  0.026  \n",
       "1           0.0             -300.326                  0.162  "
      ]
     },
     "metadata": {},
     "output_type": "display_data"
    },
    {
     "name": "stdout",
     "output_type": "stream",
     "text": [
      "126443\n",
      "6713\n"
     ]
    }
   ],
   "source": [
    "display(homology_models_dataset.head(2))\n",
    "print(len(homology_models_dataset))\n",
    "print(len(set(homology_models_dataset['query_id'])))"
   ]
  },
  {
   "cell_type": "code",
   "execution_count": 32,
   "metadata": {},
   "outputs": [],
   "source": [
    "def hist(col, range, *args, **kwargs):\n",
    "    x = homology_models_dataset[col]\n",
    "    x = np.clip(x, *range)\n",
    "    with plt.rc_context(rc={\"font.size\": 12}):\n",
    "        plt.hist(x, range=range, **kwargs)\n",
    "        plt.title(col)"
   ]
  },
  {
   "cell_type": "code",
   "execution_count": 33,
   "metadata": {},
   "outputs": [
    {
     "data": {
      "image/png": "[encoded data removed]",
      "text/plain": [
       "<Figure size 576x576 with 6 Axes>"
      ]
     },
     "metadata": {
      "needs_background": "light"
     },
     "output_type": "display_data"
    }
   ],
   "source": [
    "fg, axs = plt.subplots(3, 2, figsize=(8, 8))\n",
    "\n",
    "plt.sca(axs[0, 0])\n",
    "hist(\"identity_calc\", range=(0, 1), bins=30)\n",
    "\n",
    "plt.sca(axs[0, 1])\n",
    "hist(\"coverage_calc\", range=(0.6, 1), bins=30)\n",
    "\n",
    "plt.sca(axs[1, 0])\n",
    "hist(\"score\", range=(0, 500), bins=30)\n",
    "\n",
    "plt.sca(axs[1, 1])\n",
    "hist(\"sum_probs\", range=(0, 200), bins=30)\n",
    "\n",
    "plt.sca(axs[2, 0])\n",
    "hist(\"query_match_length\", range=(0, 300), bins=30)\n",
    "\n",
    "plt.sca(axs[2, 1])\n",
    "hist(\"template_match_length\", range=(0, 300), bins=30)\n",
    "\n",
    "plt.tight_layout()"
   ]
  },
  {
   "cell_type": "markdown",
   "metadata": {},
   "source": [
    "## Validation"
   ]
  },
  {
   "cell_type": "markdown",
   "metadata": {},
   "source": [
    "### Fraction of sequence covered by adj"
   ]
  },
  {
   "cell_type": "code",
   "execution_count": 34,
   "metadata": {},
   "outputs": [],
   "source": [
    "homology_models_dataset[\"frac_aa_wadj_pdb\"] = (\n",
    "    homology_models_dataset[\"adjacency_idx_1_from_pdb\"].apply(lambda l: len(set(l))) /\n",
    "    homology_models_dataset['sequence'].str.len()\n",
    ")\n",
    "\n",
    "homology_models_dataset[\"frac_aa_wadj_hm\"] = (\n",
    "    homology_models_dataset[\"adjacency_idx_1_from_hm\"].apply(lambda l: len(set(l))) /\n",
    "    homology_models_dataset['sequence'].str.len()\n",
    ")\n",
    "\n",
    "homology_models_dataset[\"frac_aa_wadj_hm2\"] = (\n",
    "    homology_models_dataset[\"hm_residue_idx_1\"].apply(lambda l: len(set(l))) /\n",
    "    homology_models_dataset['sequence'].str.len()\n",
    ")"
   ]
  },
  {
   "cell_type": "code",
   "execution_count": 35,
   "metadata": {},
   "outputs": [
    {
     "data": {
      "text/plain": [
       "Text(0.5, 0, 'frac_aa_wadj_hm2')"
      ]
     },
     "execution_count": 35,
     "metadata": {},
     "output_type": "execute_result"
    },
    {
     "data": {
      "image/png": "[encoded data removed]",
      "text/plain": [
       "<Figure size 864x288 with 3 Axes>"
      ]
     },
     "metadata": {
      "needs_background": "light"
     },
     "output_type": "display_data"
    }
   ],
   "source": [
    "fg, axs = plt.subplots(1, 3, figsize=(12, 4))\n",
    "\n",
    "plt.sca(axs[0])\n",
    "_ = plt.hist(homology_models_dataset[\"frac_aa_wadj_pdb\"])\n",
    "plt.xlim(0, 1)\n",
    "plt.xlabel(\"frac_aa_wadj_pdb\")\n",
    "\n",
    "plt.sca(axs[1])\n",
    "_ = plt.hist(homology_models_dataset[\"frac_aa_wadj_hm\"])\n",
    "plt.xlim(0, 1)\n",
    "plt.xlabel(\"frac_aa_wadj_hm\")\n",
    "\n",
    "plt.sca(axs[2])\n",
    "_ = plt.hist(homology_models_dataset[\"frac_aa_wadj_hm2\"], bins=100)\n",
    "# plt.xlim(0, 1.1)\n",
    "plt.xlabel(\"frac_aa_wadj_hm2\")"
   ]
  },
  {
   "cell_type": "markdown",
   "metadata": {},
   "source": [
    "### Adjacency matrix limits"
   ]
  },
  {
   "cell_type": "code",
   "execution_count": 36,
   "metadata": {
    "scrolled": true
   },
   "outputs": [],
   "source": [
    "def validate_adjacency_df(df, adj_column_1, adj_column_2):\n",
    "    assert (df[adj_column_1].apply(min) >= 0).all()\n",
    "    assert (df[adj_column_2].apply(min) >= 0).all()\n",
    "    \n",
    "    assert (\n",
    "        df[adj_column_1].apply(max) <\n",
    "        df['sequence'].str.len()\n",
    "    ).all()\n",
    "\n",
    "    assert (\n",
    "        df[adj_column_2].apply(max) <\n",
    "        df['sequence'].str.len()\n",
    "    ).all()\n",
    "\n",
    "    assert (\n",
    "        (df[adj_column_1].apply(lambda l: len(set(l))) /\n",
    "         df['sequence'].str.len()) > 0.5\n",
    "    ).all()\n",
    "\n",
    "    assert (\n",
    "        (df[adj_column_2].apply(lambda l: len(set(l))) /\n",
    "         df['sequence'].str.len()) > 0.5\n",
    "    ).all()\n",
    "    \n",
    "    \n",
    "# validate_adjacency_df(homology_models_dataset, \"adjacency_idx_1_from_pdb\", \"adjacency_idx_2_from_pdb\")\n",
    "# validate_adjacency_df(homology_models_dataset, \"adjacency_idx_1_from_hm\", \"adjacency_idx_2_from_hm\")b"
   ]
  },
  {
   "cell_type": "markdown",
   "metadata": {},
   "source": [
    "### `homology_models_dataset`"
   ]
  },
  {
   "cell_type": "code",
   "execution_count": 44,
   "metadata": {},
   "outputs": [],
   "source": [
    "homology_models_dataset_final = (\n",
    "    homology_models_dataset[\n",
    "        (homology_models_dataset['frac_aa_wadj_pdb'] > 0.6) &\n",
    "        (homology_models_dataset['frac_aa_wadj_hm'] > 0.6)\n",
    "    ]\n",
    ").copy()"
   ]
  },
  {
   "cell_type": "code",
   "execution_count": 45,
   "metadata": {},
   "outputs": [
    {
     "data": {
      "text/plain": [
       "Text(0.5, 0, 'frac_aa_wadj_hm2')"
      ]
     },
     "execution_count": 45,
     "metadata": {},
     "output_type": "execute_result"
    },
    {
     "data": {
      "image/png": "[encoded data removed]",
      "text/plain": [
       "<Figure size 864x288 with 3 Axes>"
      ]
     },
     "metadata": {
      "needs_background": "light"
     },
     "output_type": "display_data"
    }
   ],
   "source": [
    "fg, axs = plt.subplots(1, 3, figsize=(12, 4))\n",
    "\n",
    "plt.sca(axs[0])\n",
    "_ = plt.hist(homology_models_dataset_final[\"frac_aa_wadj_pdb\"])\n",
    "plt.xlim(0, 1)\n",
    "plt.xlabel(\"frac_aa_wadj_pdb\")\n",
    "\n",
    "plt.sca(axs[1])\n",
    "_ = plt.hist(homology_models_dataset_final[\"frac_aa_wadj_hm\"])\n",
    "plt.xlim(0, 1)\n",
    "plt.xlabel(\"frac_aa_wadj_hm\")\n",
    "\n",
    "plt.sca(axs[2])\n",
    "_ = plt.hist(homology_models_dataset_final[\"frac_aa_wadj_hm2\"], bins=100)\n",
    "# plt.xlim(0, 1.1)\n",
    "plt.xlabel(\"frac_aa_wadj_hm2\")"
   ]
  },
  {
   "cell_type": "markdown",
   "metadata": {},
   "source": [
    "## Run network"
   ]
  },
  {
   "cell_type": "code",
   "execution_count": 46,
   "metadata": {},
   "outputs": [],
   "source": [
    "%run trained_networks.ipynb"
   ]
  },
  {
   "cell_type": "markdown",
   "metadata": {},
   "source": [
    "### Predictions using PDB adjacencies"
   ]
  },
  {
   "cell_type": "code",
   "execution_count": null,
   "metadata": {
    "scrolled": true
   },
   "outputs": [
    {
     "name": "stderr",
     "output_type": "stream",
     "text": [
      "Network name: 'DCN_9c5a963'\n",
      "Final output_channels: 256\n"
     ]
    }
   ],
   "source": [
    "input_df = homology_models_dataset_final.copy()\n",
    "\n",
    "input_df['adjacency_idx_1'] = input_df[f'adjacency_idx_1_from_pdb']\n",
    "input_df['adjacency_idx_2'] = input_df[f'adjacency_idx_2_from_pdb']\n",
    "\n",
    "for network_name in reversed(NETWORK_NAME.split(',')):\n",
    "    predict_with_network = predict_with_dcn_old if 'dcn_old' in network_name else predict_with_dcn\n",
    "    homology_models_dataset_final[f'{network_name}_pdb'] = (\n",
    "        predict_with_network(\n",
    "            input_df.copy(),\n",
    "            network_state=TRAINED_NETWORKS[network_name]['network_state'],\n",
    "            network_info=TRAINED_NETWORKS[network_name]['network_info'],\n",
    "        )\n",
    "    )"
   ]
  },
  {
   "cell_type": "markdown",
   "metadata": {},
   "source": [
    "### Predictions using HM adjacencies (incorrect)"
   ]
  },
  {
   "cell_type": "code",
   "execution_count": null,
   "metadata": {},
   "outputs": [],
   "source": [
    "input_df = homology_models_dataset_final.copy()\n",
    "\n",
    "input_df['adjacency_idx_1'] = input_df[f'adjacency_idx_1_from_hm']\n",
    "input_df['adjacency_idx_2'] = input_df[f'adjacency_idx_2_from_hm']\n",
    "\n",
    "for network_name in NETWORK_NAME.split(','):\n",
    "    predict_with_network = predict_with_dcn_old if 'dcn_old' in network_name else predict_with_dcn\n",
    "    homology_models_dataset_final[f'{network_name}_hm'] = (\n",
    "        predict_with_network(\n",
    "            input_df.copy(),\n",
    "            network_state=TRAINED_NETWORKS[network_name]['network_state'],\n",
    "            network_info=TRAINED_NETWORKS[network_name]['network_info'],\n",
    "        )\n",
    "    )"
   ]
  },
  {
   "cell_type": "markdown",
   "metadata": {},
   "source": [
    "### Predictions using HM adjacencies (correct)"
   ]
  },
  {
   "cell_type": "code",
   "execution_count": null,
   "metadata": {},
   "outputs": [],
   "source": [
    "input_df = homology_models_dataset_final.copy()\n",
    "\n",
    "input_df['adjacency_idx_1'] = input_df[f'hm_residue_idx_1']\n",
    "input_df['adjacency_idx_2'] = input_df[f'hm_residue_idx_2']\n",
    "\n",
    "for network_name in NETWORK_NAME.split(','):\n",
    "    predict_with_network = predict_with_dcn_old if 'dcn_old' in network_name else predict_with_dcn\n",
    "    homology_models_dataset_final[f'{network_name}_hm2'] = (\n",
    "        predict_with_network(\n",
    "            input_df.copy(),\n",
    "            network_state=TRAINED_NETWORKS[network_name]['network_state'],\n",
    "            network_info=TRAINED_NETWORKS[network_name]['network_info'],\n",
    "        )\n",
    "    )"
   ]
  },
  {
   "cell_type": "code",
   "execution_count": null,
   "metadata": {},
   "outputs": [],
   "source": [
    "homology_models_dataset.columns"
   ]
  },
  {
   "cell_type": "code",
   "execution_count": null,
   "metadata": {},
   "outputs": [],
   "source": [
    "table = pa.Table.from_pandas(homology_models_dataset)\n",
    "pq.write_table(table, NOTEBOOK_PATH.joinpath(\"homology_models_dataset_cache.parquet\"), version='2.0')"
   ]
  },
  {
   "cell_type": "code",
   "execution_count": null,
   "metadata": {},
   "outputs": [],
   "source": [
    "raise Exception"
   ]
  },
  {
   "cell_type": "markdown",
   "metadata": {},
   "source": [
    "# Analysis"
   ]
  },
  {
   "cell_type": "code",
   "execution_count": null,
   "metadata": {},
   "outputs": [],
   "source": [
    "def plot(df, columns):\n",
    "    \n",
    "    mat = np.zeros((len(columns), len(columns)), float)\n",
    "    for i, c1 in enumerate(columns):\n",
    "        for j, c2 in enumerate(columns):\n",
    "            x = df[c1] if 'dope' not in c1 else -df[c1]\n",
    "            y = df[c2] if 'dope' not in c2 else -df[c2]\n",
    "            mat[i, j] = stats.spearmanr(x, y)[0]\n",
    "\n",
    "    fig, ax = plt.subplots(figsize=(8, 8))\n",
    "    im = ax.imshow(mat)\n",
    "\n",
    "    # We want to show all ticks...\n",
    "    ax.set_xticks(np.arange(len(columns)))\n",
    "    ax.set_yticks(np.arange(len(columns)))\n",
    "    # ... and label them with the respective list entries\n",
    "    ax.set_xticklabels(columns)\n",
    "    ax.set_yticklabels(columns)\n",
    "\n",
    "    # Rotate the tick labels and set their alignment.\n",
    "    plt.setp(ax.get_xticklabels(), rotation=45, ha=\"right\",\n",
    "             rotation_mode=\"anchor\")\n",
    "\n",
    "    # Loop over data dimensions and create text annotations.\n",
    "    for i in range(len(columns)):\n",
    "        for j in range(len(columns)):\n",
    "            text = ax.text(j, i, f\"{mat[i, j]:.2f}\", ha=\"center\", va=\"center\", color=\"w\")\n",
    "\n",
    "    ax.set_title(\"Harvest of local farmers (in tons/year)\")\n",
    "    fig.tight_layout()\n",
    "    plt.show()"
   ]
  },
  {
   "cell_type": "code",
   "execution_count": null,
   "metadata": {
    "scrolled": true
   },
   "outputs": [],
   "source": [
    "columns = [\n",
    "    'rosetta_score',\n",
    "    'dope_score', 'dope_score_norm', 'ga341_score',\n",
    "    \n",
    "    \"identity_calc\",\n",
    "    # \"coverage_calc\", \n",
    "\n",
    "    \"score\",  # \"probability\", \"evalue\",\n",
    "    \"identity\", \"similarity\", \"sum_probs\",\n",
    "    \n",
    "    # \"query_match_length\",\n",
    "    \"template_match_length\",\n",
    "] + [\n",
    "    f\"{network_name}{suffix}\"\n",
    "    for network_name in NETWORK_NAME.split(',')\n",
    "    for suffix in [\n",
    "        \"_pdb\",\n",
    "        \"_hm\",\n",
    "        \"_hm2\",\n",
    "    ]\n",
    "]\n",
    "\n",
    "\n",
    "plot(homology_models_dataset, columns)"
   ]
  },
  {
   "cell_type": "code",
   "execution_count": null,
   "metadata": {
    "scrolled": true
   },
   "outputs": [],
   "source": [
    "target_columns = ['rosetta_score', 'dope_score', 'dope_score_norm', 'ga341_score']\n",
    "\n",
    "feature_columns = [\n",
    "#     \"coverage\", \n",
    "    \"identity_calc\",\n",
    "    \"score\",  # \"probability\", \"evalue\",\n",
    "    \"identity\", \"similarity\", \"sum_probs\",\n",
    "    \n",
    "#     \"query_match_length\", \n",
    "    \"template_match_length\",\n",
    "] + [\n",
    "    f\"{network_name}{suffix}\"\n",
    "    for network_name in NETWORK_NAME.split(',')\n",
    "    for suffix in [\n",
    "        \"_pdb\",\n",
    "        \"_hm\",\n",
    "        \"_hm2\",\n",
    "    ]\n",
    "]\n",
    "\n",
    "correlations = {y_col: {x_col: [] for x_col in feature_columns} for y_col in target_columns}\n",
    "\n",
    "df = homology_models_dataset.dropna(subset=target_columns + feature_columns)\n",
    "\n",
    "for query_id, group in df.groupby('query_id'):\n",
    "    assert (group['sequence'].str.replace('-', '') == group['sequence'].iloc[0].replace('-', '')).all()\n",
    "    assert (group['query_match_length'] == group['query_match_length'].iloc[0]).all()\n",
    "    \n",
    "    if len(group) < 3:\n",
    "        print(\"skipping\")\n",
    "        continue\n",
    "    \n",
    "    df = group.copy()\n",
    "    for y_col in target_columns:\n",
    "#         df = df.dropna(subset=[y_col])\n",
    "        if len(df) < 3 or len(set(df[y_col])) == 1:\n",
    "            print(f\"skipping a {y_col}\")\n",
    "            continue\n",
    "        for x_col in feature_columns:\n",
    "#             df = group.dropna(subset=[x_col])\n",
    "            if len(df) < 3 or len(set(df[x_col])) == 1:\n",
    "                print(f\"skipping b {x_col}\")\n",
    "                continue\n",
    "            corr, pvalue = stats.spearmanr(df[x_col], df[y_col])\n",
    "            correlations[y_col][x_col].append(corr)"
   ]
  },
  {
   "cell_type": "code",
   "execution_count": null,
   "metadata": {
    "scrolled": false
   },
   "outputs": [],
   "source": [
    "for k in target_columns:\n",
    "    print(k)\n",
    "    corr = [np.array(correlations[k][f]) for f in correlations[target_columns[0]]]\n",
    "    if k not in ['ga341_score']:\n",
    "        corr = [-c for c in corr]\n",
    "    _ = plt.boxplot(corr)\n",
    "    plt.hlines(0, 0.5, 9.6)\n",
    "    plt.show()"
   ]
  },
  {
   "cell_type": "code",
   "execution_count": null,
   "metadata": {},
   "outputs": [],
   "source": [
    "correlations['rosetta_score']"
   ]
  },
  {
   "cell_type": "code",
   "execution_count": null,
   "metadata": {},
   "outputs": [],
   "source": []
  },
  {
   "cell_type": "code",
   "execution_count": null,
   "metadata": {},
   "outputs": [],
   "source": []
  },
  {
   "cell_type": "code",
   "execution_count": null,
   "metadata": {},
   "outputs": [],
   "source": []
  },
  {
   "cell_type": "code",
   "execution_count": null,
   "metadata": {},
   "outputs": [],
   "source": [
    "_ = plt.boxplot([correlations['rosetta_score'][f] for f in correlations['rosetta_score']])"
   ]
  },
  {
   "cell_type": "code",
   "execution_count": null,
   "metadata": {},
   "outputs": [],
   "source": []
  },
  {
   "cell_type": "code",
   "execution_count": null,
   "metadata": {},
   "outputs": [],
   "source": []
  },
  {
   "cell_type": "code",
   "execution_count": null,
   "metadata": {},
   "outputs": [],
   "source": []
  },
  {
   "cell_type": "code",
   "execution_count": null,
   "metadata": {},
   "outputs": [],
   "source": []
  },
  {
   "cell_type": "code",
   "execution_count": null,
   "metadata": {},
   "outputs": [],
   "source": []
  },
  {
   "cell_type": "markdown",
   "metadata": {},
   "source": [
    "# Predictions"
   ]
  },
  {
   "cell_type": "code",
   "execution_count": null,
   "metadata": {},
   "outputs": [],
   "source": []
  },
  {
   "cell_type": "markdown",
   "metadata": {},
   "source": [
    "## Make plot"
   ]
  },
  {
   "cell_type": "code",
   "execution_count": null,
   "metadata": {},
   "outputs": [],
   "source": [
    "cmap = plt.cm.get_cmap('Set1', 10)"
   ]
  },
  {
   "cell_type": "code",
   "execution_count": null,
   "metadata": {},
   "outputs": [],
   "source": [
    "target = 'dope_score'\n",
    "\n",
    "features = (\n",
    "    [\n",
    "        \"identity_calc\",\n",
    "        \n",
    "        \"identity\", \"similarity\",\n",
    "        \n",
    "        \"score\",  # \"probability\", \"evalue\",\n",
    "        \"sum_probs\",\n",
    "        \n",
    "        \"template_match_length\",\n",
    "    ]\n",
    "    + [\n",
    "        f\"{network_name}{suffix}\"\n",
    "        for network_name in NETWORK_NAME.split(',')\n",
    "        for suffix in [\n",
    "#             \"_pdb\",\n",
    "#             \"_hm\",\n",
    "            \"_hm2\"\n",
    "        ]\n",
    "    ]\n",
    ")\n",
    "\n",
    "DATA = {}\n",
    "for target in ['dope_score', 'dope_score_norm', 'ga341_score', 'rosetta_score']:\n",
    "    data = []\n",
    "    for feature in features:\n",
    "        df = homology_models_dataset[[feature, target]].dropna()\n",
    "        corr = stats.spearmanr(df[feature], df[target])\n",
    "        data.append((feature, corr.correlation, corr.pvalue))\n",
    "    DATA[target] = pd.DataFrame(data, columns=['feature', 'correlation', 'pvalue'])"
   ]
  },
  {
   "cell_type": "code",
   "execution_count": null,
   "metadata": {},
   "outputs": [],
   "source": [
    "for target, df in DATA.items():\n",
    "    x = np.arange(len(df))\n",
    "    c = [\n",
    "        cmap(2)\n",
    "        if f.rpartition('_')[0] in NETWORK_NAME.split(',')\n",
    "        else cmap(1)\n",
    "        for f in df['feature']\n",
    "    ]\n",
    "    corr = df['correlation']\n",
    "    if target not in ['ga341_score']:\n",
    "        corr = -corr\n",
    "    plt.bar(x, corr, color=c)\n",
    "    plt.xticks(x, df['feature'], rotation=45)\n",
    "    plt.ylim(-0.1, 1)\n",
    "    plt.ylabel(\"Correlation\")\n",
    "    plt.title(f\"{target}\")\n",
    "    plt.show()"
   ]
  },
  {
   "cell_type": "code",
   "execution_count": null,
   "metadata": {},
   "outputs": [],
   "source": []
  },
  {
   "cell_type": "code",
   "execution_count": null,
   "metadata": {},
   "outputs": [],
   "source": [
    "homology_models_dataset['rosetta_score'].hist(range=(-1000, 1000))"
   ]
  },
  {
   "cell_type": "code",
   "execution_count": null,
   "metadata": {},
   "outputs": [],
   "source": []
  },
  {
   "cell_type": "code",
   "execution_count": null,
   "metadata": {},
   "outputs": [],
   "source": [
    "def plot(col1, col2):\n",
    "    df = homology_models_dataset[[col1, col2]].dropna()\n",
    "    if len(df) != len(homology_models_dataset):\n",
    "        print(f\"Removed {len(homology_models_dataset) - len(df)} columns with nulls!\")\n",
    "    x = df[col1]\n",
    "    y = df[col2]\n",
    "    corr = stats.spearmanr(x, y)\n",
    "    plt.plot(x, y, 'rx')\n",
    "    plt.title(f\"{corr.correlation:.3f} ({corr.pvalue:.3f})\")\n",
    "    plt.xlabel(col1)\n",
    "    plt.ylabel(col2)"
   ]
  },
  {
   "cell_type": "code",
   "execution_count": null,
   "metadata": {},
   "outputs": [],
   "source": [
    "plot('rosetta_score', 'dcn_old_0_pdb')"
   ]
  },
  {
   "cell_type": "code",
   "execution_count": null,
   "metadata": {},
   "outputs": [],
   "source": [
    "plot('dope_score_norm', 'network_pred_pdb')"
   ]
  },
  {
   "cell_type": "code",
   "execution_count": null,
   "metadata": {},
   "outputs": [],
   "source": [
    "plot('ga341_score', 'network_pred_pdb')"
   ]
  },
  {
   "cell_type": "code",
   "execution_count": null,
   "metadata": {},
   "outputs": [],
   "source": []
  }
 ],
 "metadata": {
  "kernelspec": {
   "display_name": "Python 3",
   "language": "python",
   "name": "python3"
  },
  "language_info": {
   "codemirror_mode": {
    "name": "ipython",
    "version": 3
   },
   "file_extension": ".py",
   "mimetype": "text/x-python",
   "name": "python",
   "nbconvert_exporter": "python",
   "pygments_lexer": "ipython3",
   "version": "3.6.6"
  },
  "toc": {
   "base_numbering": 1,
   "nav_menu": {},
   "number_sections": false,
   "sideBar": true,
   "skip_h1_title": false,
   "title_cell": "Table of Contents",
   "title_sidebar": "Contents",
   "toc_cell": false,
   "toc_position": {
    "height": "473px",
    "left": "25px",
    "top": "141px",
    "width": "283px"
   },
   "toc_section_display": true,
   "toc_window_display": true
  }
 },
 "nbformat": 4,
 "nbformat_minor": 2
}
