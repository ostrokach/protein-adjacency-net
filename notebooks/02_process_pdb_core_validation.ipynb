{
 "cells": [
  {
   "cell_type": "markdown",
   "metadata": {},
   "source": [
    "## Summary\n",
    "\n",
    "----"
   ]
  },
  {
   "cell_type": "markdown",
   "metadata": {},
   "source": [
    "## Imports"
   ]
  },
  {
   "cell_type": "code",
   "execution_count": null,
   "metadata": {},
   "outputs": [],
   "source": [
    "import concurrent.futures\n",
    "import itertools\n",
    "import os\n",
    "import pickle\n",
    "import shelve\n",
    "import socket\n",
    "from datetime import datetime\n",
    "from pathlib import Path\n",
    "\n",
    "from tqdm.notebook import tqdm\n",
    "\n",
    "import matplotlib.pyplot as plt\n",
    "import numpy as np\n",
    "import psutil\n",
    "import pyarrow as pa\n",
    "import pyarrow.parquet as pq"
   ]
  },
  {
   "cell_type": "markdown",
   "metadata": {},
   "source": [
    "## Parameters"
   ]
  },
  {
   "cell_type": "code",
   "execution_count": null,
   "metadata": {},
   "outputs": [],
   "source": [
    "NOTEBOOK_PATH = Path(os.getenv(\"CI_JOB_NAME\", \"02_process_pdb_core_validation\"))\n",
    "\n",
    "NOTEBOOK_PATH"
   ]
  },
  {
   "cell_type": "code",
   "execution_count": null,
   "metadata": {},
   "outputs": [],
   "source": [
    "OUTPUT_PATH = Path(os.getenv('OUTPUT_DIR', NOTEBOOK_PATH.name)).resolve()\n",
    "OUTPUT_PATH.mkdir(parents=True, exist_ok=True)\n",
    "\n",
    "OUTPUT_PATH"
   ]
  },
  {
   "cell_type": "code",
   "execution_count": null,
   "metadata": {},
   "outputs": [],
   "source": [
    "if \"scinet\" in socket.gethostname():\n",
    "    CPU_COUNT = 40\n",
    "else:\n",
    "    CPU_COUNT = max(1, len(os.sched_getaffinity(0)) // 2)\n",
    "\n",
    "CPU_COUNT"
   ]
  },
  {
   "cell_type": "code",
   "execution_count": null,
   "metadata": {},
   "outputs": [],
   "source": [
    "PDB_DATA_PATH = (\n",
    "    Path(os.environ[\"DATAPKG_OUTPUT_DIR\"]).joinpath(\"pdb-ffindex\", \"2020-01-16\", \"arrow\").resolve(strict=True)\n",
    ")\n",
    "\n",
    "PDB_DATA_PATH"
   ]
  },
  {
   "cell_type": "code",
   "execution_count": null,
   "metadata": {},
   "outputs": [],
   "source": [
    "ADJACENCY_NET_DATA_PATH = (\n",
    "    Path(os.getenv(\"DATAPKG_OUTPUT_DIR\")).joinpath(\"adjacency-net-v2\", \"v0.3\").resolve(strict=True)\n",
    ")\n",
    "\n",
    "ADJACENCY_NET_DATA_PATH"
   ]
  },
  {
   "cell_type": "markdown",
   "metadata": {},
   "source": [
    "## Workflow"
   ]
  },
  {
   "cell_type": "code",
   "execution_count": null,
   "metadata": {},
   "outputs": [],
   "source": [
    "with PDB_DATA_PATH.joinpath(\"pdb-list.pickle\").open(\"rb\") as fin:\n",
    "    pdb_list = pickle.load(fin)\n",
    "    \n",
    "pdb_data_reader = pa.RecordBatchFileReader(PDB_DATA_PATH.joinpath(\"pdb-mmcif.arrow\"))\n",
    "\n",
    "assert len(pdb_list) == pdb_data_reader.num_record_batches"
   ]
  },
  {
   "cell_type": "code",
   "execution_count": null,
   "metadata": {},
   "outputs": [],
   "source": [
    "pdb_list[:3]"
   ]
  },
  {
   "cell_type": "code",
   "execution_count": null,
   "metadata": {},
   "outputs": [],
   "source": [
    "output_dir = ADJACENCY_NET_DATA_PATH.joinpath(\"pdb-core\")\n",
    "output_dir_failed = output_dir.joinpath(\"failed\")\n",
    "\n",
    "output_dir, output_dir_failed"
   ]
  },
  {
   "cell_type": "code",
   "execution_count": null,
   "metadata": {},
   "outputs": [],
   "source": [
    "def worker(task_id, task_count, progress=False):\n",
    "    chunk_size = int(np.ceil(len(pdb_list) / task_count))\n",
    "\n",
    "    task_idx = task_id - 1\n",
    "    stats = {\n",
    "        \"succeeded\": True,\n",
    "        \"pdbs_succeeded\": set(),\n",
    "        \"pdbs_failed\": set(),\n",
    "        \"pdbs_missing\": set(),\n",
    "        \"chains_succeeded_count\": 0,\n",
    "        \"error_records\": [],\n",
    "    }\n",
    "\n",
    "    # Create a subset of PDB structures\n",
    "    pdb_chunk = pdb_list[task_idx * chunk_size : (task_idx + 1) * chunk_size]\n",
    "    pdb_chunk_idxs = list(range(task_idx * chunk_size, (task_idx + 1) * chunk_size))\n",
    "    pdb_chunk_set = set(pdb_chunk)\n",
    "\n",
    "    # Read succeeded domains\n",
    "    output_file = output_dir.joinpath(f\"pdb-core-{task_id}-{task_count}.arrow\")\n",
    "    if not output_file.with_suffix(\".SUCCESS\").is_file():\n",
    "        stats[\"succeeded\"] = False\n",
    "        return stats\n",
    "\n",
    "    if output_file.is_file():\n",
    "        reader = pa.RecordBatchFileReader(output_file)\n",
    "        for i in tqdm(range(reader.num_record_batches), desc=\"succeeded\", leave=False, disable=not progress):\n",
    "            pdb_id = reader.get_record_batch(i).column(0)[0].as_py()\n",
    "            stats[\"pdbs_succeeded\"].add(pdb_id)\n",
    "            stats[\"chains_succeeded_count\"] += 1\n",
    "    assert not stats[\"pdbs_succeeded\"] - pdb_chunk_set\n",
    "\n",
    "    # Read failed pdbs\n",
    "    output_file_failed = output_dir_failed.joinpath(f\"pdb-core-{task_id}-{task_count}-failed.arrow\")\n",
    "    if output_file_failed.is_file():\n",
    "        reader_failed = pa.RecordBatchFileReader(output_file_failed)\n",
    "        for i in tqdm(range(reader_failed.num_record_batches), desc=\"failed\", leave=False, disable=not progress):\n",
    "            error_record = reader_failed.get_record_batch(i).to_pydict()\n",
    "            pdb_id = error_record[\"pdb_id\"][0]\n",
    "            stats[\"pdbs_failed\"].add(pdb_id)\n",
    "            stats[\"error_records\"].append(error_record)\n",
    "    assert not stats[\"pdbs_failed\"] - pdb_chunk_set\n",
    "\n",
    "    stats[\"pdbs_missing\"] = pdb_chunk_set - stats[\"pdbs_succeeded\"] - stats[\"pdbs_failed\"]\n",
    "\n",
    "    return stats"
   ]
  },
  {
   "cell_type": "markdown",
   "metadata": {},
   "source": [
    "### Calculate statistics for each chunk"
   ]
  },
  {
   "cell_type": "code",
   "execution_count": null,
   "metadata": {},
   "outputs": [],
   "source": [
    "stats_cache_file = OUTPUT_PATH.joinpath(\"stats.cache\")\n",
    "stats = {}\n",
    "task_count = 300\n",
    "\n",
    "with shelve.open(stats_cache_file.as_posix()) as stats_cache:\n",
    "    for key, stat in stats_cache.items():\n",
    "        if stat[\"succeeded\"]:\n",
    "            stats[int(key)] = stat"
   ]
  },
  {
   "cell_type": "code",
   "execution_count": null,
   "metadata": {},
   "outputs": [],
   "source": [
    "with shelve.open(stats_cache_file.as_posix()) as stats_cache:\n",
    "    with concurrent.futures.ProcessPoolExecutor(CPU_COUNT) as pool:\n",
    "        task_ids = [i for i in range(1, task_count + 1) if i not in stats]\n",
    "        futures = pool.map(worker, task_ids, itertools.repeat(task_count))\n",
    "        for stat, task_id in tqdm(zip(futures, task_ids), total=len(task_ids)):\n",
    "            stats[task_id] = stat\n",
    "            stats_cache[str(task_id)] = stats[task_id]"
   ]
  },
  {
   "cell_type": "markdown",
   "metadata": {},
   "source": [
    "### Plot statistics"
   ]
  },
  {
   "cell_type": "code",
   "execution_count": null,
   "metadata": {},
   "outputs": [],
   "source": [
    "task_idxs = np.arange(300)\n",
    "num_pdbs_succeeded = np.zeros(300)\n",
    "num_pdbs_failed = np.zeros(300)\n",
    "num_pdbs_missing = np.ones(300) * 532.0\n",
    "\n",
    "for i, task_id in enumerate(sorted(stats)):\n",
    "    assert task_idxs[i] == task_id - 1\n",
    "\n",
    "    stat = stats[task_id]\n",
    "    if stat[\"succeeded\"]:\n",
    "        num_pdbs_succeeded[i] = len(stat[\"pdbs_succeeded\"])\n",
    "        num_pdbs_failed[i] = len(stat[\"pdbs_failed\"])\n",
    "        num_pdbs_missing[i] = len(stat[\"pdbs_missing\"])"
   ]
  },
  {
   "cell_type": "code",
   "execution_count": null,
   "metadata": {},
   "outputs": [],
   "source": [
    "kwargs = {\"width\": 1.0, \"align\": \"edge\"}\n",
    "\n",
    "with plt.rc_context({\"font.size\": 14}):\n",
    "    fg, ax = plt.subplots(figsize=(18, 8))\n",
    "    ax.bar(task_idxs, num_pdbs_succeeded, label=\"succeeded\", **kwargs)\n",
    "    ax.bar(task_idxs, num_pdbs_failed, bottom=num_pdbs_succeeded, label=\"failed\", **kwargs)\n",
    "    ax.bar(task_idxs, num_pdbs_missing, bottom=num_pdbs_succeeded + num_pdbs_failed, label=\"missing\", **kwargs)\n",
    "    ax.set_xlim(-1, 300)\n",
    "    ax.set_ylim(0, 580)\n",
    "    ax.set_xlabel(\"Chunk index\")\n",
    "    ax.set_ylabel(\"Number of PDBs\")\n",
    "    ax.legend(loc=\"upper center\", ncol=3)\n",
    "    ax.spines[\"left\"].set_visible(False)\n",
    "    ax.spines[\"right\"].set_visible(False)\n",
    "    ax.spines[\"top\"].set_visible(False)"
   ]
  },
  {
   "cell_type": "code",
   "execution_count": null,
   "metadata": {},
   "outputs": [],
   "source": [
    "failed_task_ids = [str(task_id) for task_id, data in stats.items() if not data[\"succeeded\"]]\n",
    "\n",
    "\",\".join(failed_task_ids)"
   ]
  },
  {
   "cell_type": "code",
   "execution_count": null,
   "metadata": {},
   "outputs": [],
   "source": [
    "for file in NOTEBOOK_PATH.parent.joinpath(\"01_process_pdb_core\", \"logs\").glob(\"*.ipynb\"):\n",
    "    parts = file.stem.split(\"-\")\n",
    "    if parts[0] not in failed_task_ids and parts[-1] not in failed_task_ids:\n",
    "        file.unlink()"
   ]
  },
  {
   "cell_type": "code",
   "execution_count": null,
   "metadata": {},
   "outputs": [],
   "source": [
    "!ls {NOTEBOOK_PATH}/logs"
   ]
  }
 ],
 "metadata": {
  "kernelspec": {
   "display_name": "Python 3",
   "language": "python",
   "name": "python3"
  },
  "language_info": {
   "codemirror_mode": {
    "name": "ipython",
    "version": 3
   },
   "file_extension": ".py",
   "mimetype": "text/x-python",
   "name": "python",
   "nbconvert_exporter": "python",
   "pygments_lexer": "ipython3",
   "version": "3.7.6"
  }
 },
 "nbformat": 4,
 "nbformat_minor": 4
}
