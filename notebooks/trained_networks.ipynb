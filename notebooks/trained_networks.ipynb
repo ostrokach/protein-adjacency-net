{
 "cells": [
  {
   "cell_type": "code",
   "execution_count": 1,
   "metadata": {
    "collapsed": true
   },
   "outputs": [],
   "source": [
    "import os\n",
    "import runpy\n",
    "import shutil\n",
    "from pathlib import Path"
   ]
  },
  {
   "cell_type": "code",
   "execution_count": 2,
   "metadata": {},
   "outputs": [
    {
     "data": {
      "text/plain": [
       "PosixPath('/home/kimlab1/database_data/datapkg/adjacency-net-v2/notebooks/trained_networks')"
      ]
     },
     "execution_count": 2,
     "metadata": {},
     "output_type": "execute_result"
    }
   ],
   "source": [
    "TRAINED_NETWORKS_PATH = Path(\"trained_networks\").resolve()\n",
    "TRAINED_NETWORKS_PATH.mkdir(exist_ok=True)\n",
    "TRAINED_NETWORKS_PATH"
   ]
  },
  {
   "cell_type": "code",
   "execution_count": 3,
   "metadata": {
    "collapsed": true
   },
   "outputs": [],
   "source": [
    "TRAINED_NETWORKS = {}"
   ]
  },
  {
   "cell_type": "markdown",
   "metadata": {},
   "source": [
    "# Functions"
   ]
  },
  {
   "cell_type": "code",
   "execution_count": 18,
   "metadata": {
    "collapsed": true
   },
   "outputs": [],
   "source": [
    "def get_default_network_data(network_name):\n",
    "    network_path = (\n",
    "        Path(os.environ['DATAPKG_OUTPUT_DIR'])\n",
    "        .joinpath(\"adjacency-net-v2\", \"master\", \"train_network\", network_name)\n",
    "    )\n",
    "    return dict(\n",
    "        network_state = network_path.joinpath(\"models\", \"model_000000005965.state\"),\n",
    "        network_file = network_path.joinpath(\"model.py\"),\n",
    "        network_info={\n",
    "            \"network_name\": f\"DCN_{network_name}\",\n",
    "            \"network_settings\": {}\n",
    "        },\n",
    "        stats_db=network_path.joinpath(\"stats.db\"),\n",
    "    )"
   ]
  },
  {
   "cell_type": "markdown",
   "metadata": {},
   "source": [
    "## `dcn_old_0` (`8294400`)"
   ]
  },
  {
   "cell_type": "code",
   "execution_count": 4,
   "metadata": {
    "collapsed": true
   },
   "outputs": [],
   "source": [
    "network_name = \"dcn_old_0\"\n",
    "network_state_file = TRAINED_NETWORKS_PATH.joinpath(network_name, \"models\", \"network.state\")\n",
    "network_state_file.parent.mkdir(parents=True, exist_ok=True)"
   ]
  },
  {
   "cell_type": "code",
   "execution_count": 5,
   "metadata": {
    "collapsed": true
   },
   "outputs": [],
   "source": [
    "if not network_state_file.is_file():\n",
    "    shutil.copy2(\n",
    "        Path(\n",
    "            \"~/datapkg/adjacency-net/notebooks/train_neural_network/\"\n",
    "            \"train_classifier-permute-seq-0-c5bc58eeca63f77cbb3ce877c95f42b0-run1/models/step-8294400.model\"\n",
    "        ).expanduser().resolve(),\n",
    "        network_state_file\n",
    "    )"
   ]
  },
  {
   "cell_type": "code",
   "execution_count": 6,
   "metadata": {
    "collapsed": true
   },
   "outputs": [],
   "source": [
    "TRAINED_NETWORKS[network_name] = dict(\n",
    "    network_state=network_state_file,\n",
    "    network_info={\n",
    "        \"network_name\": \"Classifier\",\n",
    "        \"network_settings\": {\n",
    "            \"n_filters\": 64\n",
    "        }\n",
    "    },\n",
    "    stats_db=None,\n",
    ")"
   ]
  },
  {
   "cell_type": "markdown",
   "metadata": {},
   "source": [
    "## `dcn_0`"
   ]
  },
  {
   "cell_type": "code",
   "execution_count": 7,
   "metadata": {
    "collapsed": true
   },
   "outputs": [],
   "source": [
    "network_name = \"dcn_0\"\n",
    "network_state_file = TRAINED_NETWORKS_PATH.joinpath(network_name, \"models\", \"network.state\")\n",
    "network_state_file.parent.mkdir(parents=True, exist_ok=True)"
   ]
  },
  {
   "cell_type": "code",
   "execution_count": 8,
   "metadata": {
    "collapsed": true
   },
   "outputs": [],
   "source": [
    "if not network_state_file.is_file():\n",
    "    shutil.copy2(\n",
    "        Path(\"~/tmp/test_pagnn_a1/models/model_000000084381.state\").expanduser().resolve(),\n",
    "        network_state_file\n",
    "    )"
   ]
  },
  {
   "cell_type": "code",
   "execution_count": 9,
   "metadata": {
    "collapsed": true
   },
   "outputs": [],
   "source": [
    "TRAINED_NETWORKS[network_name] = dict(\n",
    "    network_state=network_state_file,\n",
    "    network_info={\n",
    "        \"network_name\": \"DCN\",\n",
    "        \"network_settings\": {\n",
    "            \"mode\": \"discriminator\",\n",
    "            \"n_layers\": 4,\n",
    "            \"bottleneck_size\": 1\n",
    "        }\n",
    "    },\n",
    "    stats_db=None,\n",
    ")"
   ]
  },
  {
   "cell_type": "markdown",
   "metadata": {},
   "source": [
    "#### `bd46824`"
   ]
  },
  {
   "cell_type": "code",
   "execution_count": 10,
   "metadata": {
    "collapsed": true
   },
   "outputs": [],
   "source": [
    "network_name = \"bd46824\""
   ]
  },
  {
   "cell_type": "code",
   "execution_count": 11,
   "metadata": {
    "collapsed": true,
    "scrolled": true
   },
   "outputs": [],
   "source": [
    "network_path = (\n",
    "    Path(os.environ['DATAPKG_OUTPUT_DIR'])\n",
    "    .joinpath(\"adjacency-net-v2\", \"master\", \"train_network\", network_name)\n",
    ")"
   ]
  },
  {
   "cell_type": "code",
   "execution_count": 12,
   "metadata": {
    "collapsed": true
   },
   "outputs": [],
   "source": [
    "TRAINED_NETWORKS[network_name] = dict(\n",
    "    network_state=network_path.joinpath(\"models\", \"model_000000005908.state\"),\n",
    "    network_file=network_path.joinpath(\"model.py\"),\n",
    "    network_info={\n",
    "        \"network_name\": f\"DCN_{network_name}\",\n",
    "        \"network_settings\": {\n",
    "            \"bottleneck_size\": 0,\n",
    "            \"n_layers\": 3,\n",
    "            \"hidden_size\": 64,\n",
    "        }\n",
    "    },\n",
    "    stats_db=network_path.joinpath(\"stats.db\"),\n",
    ")"
   ]
  },
  {
   "cell_type": "code",
   "execution_count": 13,
   "metadata": {
    "collapsed": true
   },
   "outputs": [],
   "source": [
    "assert TRAINED_NETWORKS[network_name]['network_state'].is_file()\n",
    "assert TRAINED_NETWORKS[network_name]['network_file'].is_file()\n",
    "assert TRAINED_NETWORKS[network_name]['stats_db'].is_file()"
   ]
  },
  {
   "cell_type": "markdown",
   "metadata": {},
   "source": [
    "#### `5be75e0`\n",
    "\n",
    "```\n",
    "seq+adj -> conv -> seq+adj\n",
    "```"
   ]
  },
  {
   "cell_type": "markdown",
   "metadata": {
    "collapsed": true
   },
   "source": [
    "#### `9c5a963`"
   ]
  },
  {
   "cell_type": "code",
   "execution_count": 14,
   "metadata": {
    "collapsed": true
   },
   "outputs": [],
   "source": [
    "network_name = \"9c5a963\""
   ]
  },
  {
   "cell_type": "code",
   "execution_count": 15,
   "metadata": {
    "collapsed": true
   },
   "outputs": [],
   "source": [
    "network_path = (\n",
    "    Path(os.environ['DATAPKG_OUTPUT_DIR'])\n",
    "    .joinpath(\"adjacency-net-v2\", \"master\", \"train_network\", network_name)\n",
    ")"
   ]
  },
  {
   "cell_type": "code",
   "execution_count": 16,
   "metadata": {
    "collapsed": true
   },
   "outputs": [],
   "source": [
    "TRAINED_NETWORKS[network_name] = dict(\n",
    "    network_state=network_path.joinpath(\"models\", \"model_000000005965.state\"),\n",
    "    network_file=network_path.joinpath(\"model.py\"),\n",
    "    network_info={\n",
    "        \"network_name\": f\"DCN_{network_name}\",\n",
    "        \"network_settings\": {}\n",
    "    },\n",
    "    stats_db=network_path.joinpath(\"stats.db\"),\n",
    ")"
   ]
  },
  {
   "cell_type": "code",
   "execution_count": 17,
   "metadata": {
    "collapsed": true
   },
   "outputs": [],
   "source": [
    "assert TRAINED_NETWORKS[network_name]['network_state'].is_file()\n",
    "assert TRAINED_NETWORKS[network_name]['network_file'].is_file()\n",
    "assert TRAINED_NETWORKS[network_name]['stats_db'].is_file()"
   ]
  },
  {
   "cell_type": "code",
   "execution_count": null,
   "metadata": {
    "collapsed": true
   },
   "outputs": [],
   "source": []
  },
  {
   "cell_type": "code",
   "execution_count": null,
   "metadata": {
    "collapsed": true
   },
   "outputs": [],
   "source": []
  },
  {
   "cell_type": "markdown",
   "metadata": {},
   "source": [
    "# Load network models"
   ]
  },
  {
   "cell_type": "code",
   "execution_count": 20,
   "metadata": {
    "collapsed": true
   },
   "outputs": [],
   "source": [
    "for network_name in TRAINED_NETWORKS:\n",
    "    network_file = TRAINED_NETWORKS[network_name].get('network_file')\n",
    "    if network_file is not None:\n",
    "        runpy.run_path(network_file.as_posix(), globals())"
   ]
  },
  {
   "cell_type": "code",
   "execution_count": 21,
   "metadata": {},
   "outputs": [
    {
     "data": {
      "text/plain": [
       "PosixPath('/home/kimlab1/database_data/datapkg_output_dir/adjacency-net-v2/master/train_network/bd46824/model.py')"
      ]
     },
     "execution_count": 21,
     "metadata": {},
     "output_type": "execute_result"
    }
   ],
   "source": [
    "TRAINED_NETWORKS[\"bd46824\"]['network_file']"
   ]
  }
 ],
 "metadata": {
  "kernelspec": {
   "display_name": "Python [default]",
   "language": "python",
   "name": "python3"
  },
  "language_info": {
   "codemirror_mode": {
    "name": "ipython",
    "version": 3
   },
   "file_extension": ".py",
   "mimetype": "text/x-python",
   "name": "python",
   "nbconvert_exporter": "python",
   "pygments_lexer": "ipython3",
   "version": "3.6.4"
  },
  "toc": {
   "base_numbering": 1,
   "nav_menu": {},
   "number_sections": false,
   "sideBar": false,
   "skip_h1_title": false,
   "title_cell": "Table of Contents",
   "title_sidebar": "Contents",
   "toc_cell": false,
   "toc_position": {
    "height": "569px",
    "left": "23px",
    "top": "133px",
    "width": "319px"
   },
   "toc_section_display": true,
   "toc_window_display": true
  }
 },
 "nbformat": 4,
 "nbformat_minor": 2
}
