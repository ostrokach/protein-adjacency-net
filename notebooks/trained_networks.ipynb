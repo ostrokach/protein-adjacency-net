{
 "cells": [
  {
   "cell_type": "code",
   "execution_count": null,
   "metadata": {},
   "outputs": [],
   "source": [
    "import importlib\n",
    "import os\n",
    "import runpy\n",
    "import shutil\n",
    "import sys\n",
    "from pathlib import Path"
   ]
  },
  {
   "cell_type": "code",
   "execution_count": null,
   "metadata": {},
   "outputs": [],
   "source": [
    "SRC_PATH = Path.cwd().joinpath('..', 'src').resolve(strict=True)\n",
    "\n",
    "if SRC_PATH.as_posix() not in sys.path:\n",
    "    sys.path.insert(0, SRC_PATH.as_posix())\n",
    "\n",
    "import helper\n",
    "importlib.reload(helper)"
   ]
  },
  {
   "cell_type": "code",
   "execution_count": null,
   "metadata": {},
   "outputs": [],
   "source": [
    "TRAINED_NETWORKS_PATH = Path(\"trained_networks\").resolve()\n",
    "TRAINED_NETWORKS_PATH.mkdir(exist_ok=True)\n",
    "TRAINED_NETWORKS_PATH"
   ]
  },
  {
   "cell_type": "code",
   "execution_count": null,
   "metadata": {},
   "outputs": [],
   "source": [
    "TRAINED_NETWORKS = {}"
   ]
  },
  {
   "cell_type": "markdown",
   "metadata": {},
   "source": [
    "# Load network settings"
   ]
  },
  {
   "cell_type": "markdown",
   "metadata": {},
   "source": [
    "## `NETWORK_NAME`"
   ]
  },
  {
   "cell_type": "code",
   "execution_count": null,
   "metadata": {},
   "outputs": [],
   "source": [
    "try:\n",
    "    for network_name in NETWORK_NAME.split(','):\n",
    "        if \"dcn\" in network_name:\n",
    "            continue\n",
    "        TRAINED_NETWORKS[network_name] = helper.get_default_network_data(network_name)\n",
    "except NameError as e:\n",
    "    print(e)\n",
    "    pass"
   ]
  },
  {
   "cell_type": "markdown",
   "metadata": {},
   "source": [
    "## `dcn_old_0` (`8294400`)"
   ]
  },
  {
   "cell_type": "code",
   "execution_count": null,
   "metadata": {},
   "outputs": [],
   "source": [
    "TRAINED_NETWORKS[\"dcn_old_0\"] = dict(\n",
    "    network_state=(\n",
    "        Path(os.environ['DATAPKG_OUTPUT_DIR'])\n",
    "        .joinpath(\"adjacency-net-v2\", \"master\", \"train_network\", \"dcn_old_0\", \"models/step-8294400.model\")\n",
    "    ),\n",
    "    network_info={\n",
    "        \"network_name\": \"Classifier\",\n",
    "        \"network_settings\": {\n",
    "            \"n_filters\": 64\n",
    "        }\n",
    "    },\n",
    "    stats_db=None,\n",
    ")"
   ]
  },
  {
   "cell_type": "markdown",
   "metadata": {},
   "source": [
    "## `dcn_0`"
   ]
  },
  {
   "cell_type": "code",
   "execution_count": null,
   "metadata": {},
   "outputs": [],
   "source": [
    "network_name = \"dcn_0\"\n",
    "network_state_file = TRAINED_NETWORKS_PATH.joinpath(network_name, \"models\", \"network.state\")\n",
    "network_state_file.parent.mkdir(parents=True, exist_ok=True)"
   ]
  },
  {
   "cell_type": "code",
   "execution_count": null,
   "metadata": {},
   "outputs": [],
   "source": [
    "TRAINED_NETWORKS[network_name] = dict(\n",
    "    network_state=network_state_file,\n",
    "    network_info={\n",
    "        \"network_name\": \"DCN\",\n",
    "        \"network_settings\": {\n",
    "            \"mode\": \"discriminator\",\n",
    "            \"n_layers\": 4,\n",
    "            \"bottleneck_size\": 1\n",
    "        }\n",
    "    },\n",
    "    stats_db=None,\n",
    ")"
   ]
  },
  {
   "cell_type": "markdown",
   "metadata": {},
   "source": [
    "## `bd46824`"
   ]
  },
  {
   "cell_type": "code",
   "execution_count": null,
   "metadata": {},
   "outputs": [],
   "source": [
    "network_name = \"bd46824\""
   ]
  },
  {
   "cell_type": "code",
   "execution_count": null,
   "metadata": {
    "scrolled": true
   },
   "outputs": [],
   "source": [
    "network_path = (\n",
    "    Path(os.environ['DATAPKG_OUTPUT_DIR'])\n",
    "    .joinpath(\"adjacency-net-v2\", \"master\", \"train_network\", network_name)\n",
    ")"
   ]
  },
  {
   "cell_type": "code",
   "execution_count": null,
   "metadata": {},
   "outputs": [],
   "source": [
    "TRAINED_NETWORKS[network_name] = dict(\n",
    "    network_state=network_path.joinpath(\"models\", \"model_000000005908.state\"),\n",
    "    network_file=network_path.joinpath(\"model.py\"),\n",
    "    network_info={\n",
    "        \"network_name\": f\"DCN_{network_name}\",\n",
    "        \"network_settings\": {\n",
    "            \"bottleneck_size\": 0,\n",
    "            \"n_layers\": 3,\n",
    "            \"hidden_size\": 64,\n",
    "        }\n",
    "    },\n",
    "    stats_db=network_path.joinpath(\"stats.db\"),\n",
    ")"
   ]
  },
  {
   "cell_type": "code",
   "execution_count": null,
   "metadata": {},
   "outputs": [],
   "source": [
    "assert TRAINED_NETWORKS[network_name]['network_state'].is_file()\n",
    "assert TRAINED_NETWORKS[network_name]['network_file'].is_file()\n",
    "assert TRAINED_NETWORKS[network_name]['stats_db'].is_file()"
   ]
  },
  {
   "cell_type": "markdown",
   "metadata": {},
   "source": [
    "## `5be75e0`\n",
    "\n",
    "```\n",
    "seq+adj -> conv -> seq+adj\n",
    "```"
   ]
  },
  {
   "cell_type": "markdown",
   "metadata": {
    "collapsed": true
   },
   "source": [
    "## `9c5a963`"
   ]
  },
  {
   "cell_type": "code",
   "execution_count": null,
   "metadata": {},
   "outputs": [],
   "source": [
    "network_name = \"9c5a963\""
   ]
  },
  {
   "cell_type": "code",
   "execution_count": null,
   "metadata": {},
   "outputs": [],
   "source": [
    "network_path = (\n",
    "    Path(os.environ['DATAPKG_OUTPUT_DIR'])\n",
    "    .joinpath(\"adjacency-net-v2\", \"master\", \"train_network\", network_name)\n",
    ")"
   ]
  },
  {
   "cell_type": "code",
   "execution_count": null,
   "metadata": {},
   "outputs": [],
   "source": [
    "TRAINED_NETWORKS[network_name] = dict(\n",
    "    network_state=network_path.joinpath(\"models\", \"model_000000005965.state\"),\n",
    "    network_file=network_path.joinpath(\"model.py\"),\n",
    "    network_info={\n",
    "        \"network_name\": f\"DCN_{network_name}\",\n",
    "        \"network_settings\": {}\n",
    "    },\n",
    "    stats_db=network_path.joinpath(\"stats.db\"),\n",
    ")"
   ]
  },
  {
   "cell_type": "code",
   "execution_count": null,
   "metadata": {},
   "outputs": [],
   "source": [
    "assert TRAINED_NETWORKS[network_name]['network_state'].is_file()\n",
    "assert TRAINED_NETWORKS[network_name]['network_file'].is_file()\n",
    "assert TRAINED_NETWORKS[network_name]['stats_db'].is_file()"
   ]
  },
  {
   "cell_type": "markdown",
   "metadata": {},
   "source": [
    "# Load network models"
   ]
  },
  {
   "cell_type": "code",
   "execution_count": null,
   "metadata": {},
   "outputs": [],
   "source": [
    "for network_name in TRAINED_NETWORKS:\n",
    "    network_file = TRAINED_NETWORKS[network_name].get('network_file')\n",
    "    if network_file is not None:\n",
    "        runpy.run_path(network_file.as_posix(), globals())"
   ]
  },
  {
   "cell_type": "code",
   "execution_count": null,
   "metadata": {},
   "outputs": [],
   "source": [
    "TRAINED_NETWORKS[\"bd46824\"]['network_file']"
   ]
  },
  {
   "cell_type": "code",
   "execution_count": null,
   "metadata": {},
   "outputs": [],
   "source": []
  }
 ],
 "metadata": {
  "kernelspec": {
   "display_name": "Python 3",
   "language": "python",
   "name": "python3"
  },
  "language_info": {
   "codemirror_mode": {
    "name": "ipython",
    "version": 3
   },
   "file_extension": ".py",
   "mimetype": "text/x-python",
   "name": "python",
   "nbconvert_exporter": "python",
   "pygments_lexer": "ipython3",
   "version": "3.6.6"
  },
  "toc": {
   "base_numbering": 1,
   "nav_menu": {},
   "number_sections": false,
   "sideBar": true,
   "skip_h1_title": false,
   "title_cell": "Table of Contents",
   "title_sidebar": "Contents",
   "toc_cell": false,
   "toc_position": {
    "height": "569px",
    "left": "23px",
    "top": "133px",
    "width": "319px"
   },
   "toc_section_display": true,
   "toc_window_display": true
  }
 },
 "nbformat": 4,
 "nbformat_minor": 2
}
