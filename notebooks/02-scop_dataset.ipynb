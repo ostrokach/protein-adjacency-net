{
 "cells": [
  {
   "cell_type": "markdown",
   "metadata": {},
   "source": [
    "# Summary\n",
    "\n",
    "Extract SCOPe ids from the training, validation, and test subsets of our training data.\n",
    "\n",
    "1. Compare the overlap of domains from these three sources:\n",
    "\n",
    "    - `scop95_01Mar17.tgz`, `scop90_01Mar17.tgz`, `scop70_01Mar17.tgz`, `scop40_01Mar17.tgz` from the hh-suite [downloads page](http://wwwuser.gwdg.de/~compbiol/data/hhsuite/databases/hhsuite_dbs/).\n",
    "    - Files downloaded from the SCOPe website.\n",
    "\n",
    "    ```bash\n",
    "    rg --text '\\0' scop95_a3m.ffdata | wc -l\n",
    "    ```\n",
    "\n",
    "2. Get CATH/Gene3d domains from the PAGNN training set that correspond to different SCOP domains.\n",
    "\n",
    "----"
   ]
  },
  {
   "cell_type": "markdown",
   "metadata": {},
   "source": [
    "# Imports"
   ]
  },
  {
   "cell_type": "code",
   "execution_count": 139,
   "metadata": {
    "collapsed": true
   },
   "outputs": [],
   "source": [
    "import os\n",
    "import subprocess\n",
    "import shlex\n",
    "import io\n",
    "import re\n",
    "import itertools\n",
    "from pathlib import Path\n",
    "from pprint import pprint\n",
    "from IPython.display import display"
   ]
  },
  {
   "cell_type": "code",
   "execution_count": 57,
   "metadata": {
    "collapsed": true
   },
   "outputs": [],
   "source": [
    "import psutil\n",
    "import pandas as pd\n",
    "import matplotlib.pyplot as plt\n",
    "import numpy as np\n",
    "import seaborn as sns\n",
    "import pyarrow as pa\n",
    "import pyarrow.parquet as pq"
   ]
  },
  {
   "cell_type": "code",
   "execution_count": 58,
   "metadata": {
    "collapsed": true
   },
   "outputs": [],
   "source": [
    "pd.set_option('display.max_columns', 1000)"
   ]
  },
  {
   "cell_type": "code",
   "execution_count": 59,
   "metadata": {
    "collapsed": true
   },
   "outputs": [],
   "source": [
    "%matplotlib inline"
   ]
  },
  {
   "cell_type": "markdown",
   "metadata": {},
   "source": [
    "# Parameters"
   ]
  },
  {
   "cell_type": "code",
   "execution_count": 60,
   "metadata": {},
   "outputs": [
    {
     "data": {
      "text/plain": [
       "PosixPath('/gpfs/fs0/scratch/p/pmkim/strokach/datapkg/adjacency-net/notebooks/scop_dataset')"
      ]
     },
     "execution_count": 60,
     "metadata": {},
     "output_type": "execute_result"
    }
   ],
   "source": [
    "NOTEBOOK_PATH = Path(os.getenv('OUTPUT_DIR', '.')).joinpath('scop_dataset').resolve()\n",
    "NOTEBOOK_PATH.mkdir(parents=True, exist_ok=True)\n",
    "NOTEBOOK_PATH"
   ]
  },
  {
   "cell_type": "code",
   "execution_count": 61,
   "metadata": {},
   "outputs": [
    {
     "data": {
      "text/plain": [
       "PosixPath('/gpfs/fs0/scratch/p/pmkim/strokach/database_data')"
      ]
     },
     "execution_count": 61,
     "metadata": {},
     "output_type": "execute_result"
    }
   ],
   "source": [
    "DATA_PATH = Path(os.environ['DATA_DIR']).resolve()\n",
    "DATA_PATH"
   ]
  },
  {
   "cell_type": "code",
   "execution_count": 62,
   "metadata": {},
   "outputs": [
    {
     "data": {
      "text/plain": [
       "PosixPath('/gpfs/fs0/scratch/p/pmkim/strokach/databin')"
      ]
     },
     "execution_count": 62,
     "metadata": {},
     "output_type": "execute_result"
    }
   ],
   "source": [
    "DATABIN_PATH = Path(os.environ['DATABIN_DIR']).resolve()\n",
    "DATABIN_PATH"
   ]
  },
  {
   "cell_type": "markdown",
   "metadata": {},
   "source": [
    "# Spark"
   ]
  },
  {
   "cell_type": "code",
   "execution_count": 63,
   "metadata": {
    "collapsed": true,
    "run_control": {
     "marked": false
    }
   },
   "outputs": [],
   "source": [
    "import pyspark\n",
    "from pyspark.sql import SparkSession"
   ]
  },
  {
   "cell_type": "code",
   "execution_count": 64,
   "metadata": {},
   "outputs": [
    {
     "data": {
      "text/plain": [
       "'/home/p/pmkim/strokach/anaconda3'"
      ]
     },
     "execution_count": 64,
     "metadata": {},
     "output_type": "execute_result"
    }
   ],
   "source": [
    "os.environ['JAVA_HOME']"
   ]
  },
  {
   "cell_type": "code",
   "execution_count": 65,
   "metadata": {},
   "outputs": [
    {
     "name": "stdout",
     "output_type": "stream",
     "text": [
      "bin\t\t       include\t    mysql\t ssl\r\n",
      "compiler_compat        jre\t    phrasebooks  translations\r\n",
      "conda-meta\t       lib\t    pkgs\t var\r\n",
      "data\t\t       libexec\t    plugins\t vscode_inst.py.log\r\n",
      "doc\t\t       LICENSE\t    qml\t\t x86_64-conda_cos6-linux-gnu\r\n",
      "envs\t\t       LICENSE.txt  README\r\n",
      "etc\t\t       man\t    scripts\r\n",
      "hhsuite-userguide.pdf  mkspecs\t    share\r\n"
     ]
    }
   ],
   "source": [
    "!ls /home/p/pmkim/strokach/anaconda3"
   ]
  },
  {
   "cell_type": "code",
   "execution_count": 66,
   "metadata": {
    "collapsed": true
   },
   "outputs": [],
   "source": [
    "cpu_count = psutil.cpu_count()\n",
    "\n",
    "spark = (\n",
    "    SparkSession\n",
    "    .builder\n",
    "    .master(f\"local[{cpu_count}]\")\n",
    "    .appName(NOTEBOOK_PATH.name)\n",
    "    .config('spark.driver.memory', '80G')  # Controls both -Xmx and spark.driver.memory\n",
    "    .config('spark.executor.memory', '120g')\n",
    "    .config('spark.memory.storageFraction', 0)\n",
    "#     .config('spark.driver.maxResultSize', '10G')\n",
    "    .getOrCreate()\n",
    ")"
   ]
  },
  {
   "cell_type": "code",
   "execution_count": 67,
   "metadata": {},
   "outputs": [
    {
     "data": {
      "text/html": [
       "\n",
       "            <div>\n",
       "                <p><b>SparkSession - in-memory</b></p>\n",
       "                \n",
       "        <div>\n",
       "            <p><b>SparkContext</b></p>\n",
       "\n",
       "            <p><a href=\"http://nia1396:4040\">Spark UI</a></p>\n",
       "\n",
       "            <dl>\n",
       "              <dt>Version</dt>\n",
       "                <dd><code>v2.3.1</code></dd>\n",
       "              <dt>Master</dt>\n",
       "                <dd><code>local[80]</code></dd>\n",
       "              <dt>AppName</dt>\n",
       "                <dd><code>scop_dataset</code></dd>\n",
       "            </dl>\n",
       "        </div>\n",
       "        \n",
       "            </div>\n",
       "        "
      ],
      "text/plain": [
       "<pyspark.sql.session.SparkSession at 0x7f2a39bfe5f8>"
      ]
     },
     "execution_count": 67,
     "metadata": {},
     "output_type": "execute_result"
    }
   ],
   "source": [
    "spark"
   ]
  },
  {
   "cell_type": "markdown",
   "metadata": {
    "heading_collapsed": true
   },
   "source": [
    "# Functions"
   ]
  },
  {
   "cell_type": "code",
   "execution_count": 68,
   "metadata": {
    "hidden": true
   },
   "outputs": [
    {
     "name": "stdout",
     "output_type": "stream",
     "text": [
      "[('1', '10')]\n",
      "[('-1', '10')]\n",
      "[('-1', '-10')]\n",
      "[('1', '-10')]\n",
      "\n"
     ]
    }
   ],
   "source": [
    "print(re.findall('(-?\\d+)-(-?\\d+)', '1-10'))\n",
    "print(re.findall('(-?\\d+)-(-?\\d+)', '-1-10'))\n",
    "print(re.findall('(-?\\d+)-(-?\\d+)', '-1--10'))\n",
    "print(re.findall('(-?\\d+)-(-?\\d+)', '1--10'))\n",
    "print()"
   ]
  },
  {
   "cell_type": "code",
   "execution_count": 69,
   "metadata": {
    "hidden": true
   },
   "outputs": [
    {
     "name": "stdout",
     "output_type": "stream",
     "text": [
      "{'organism_name': 'Green alga (Chlamydomonas reinhardtii) [TaxId: 3055]',\n",
      " 'pdb_chain': 'L',\n",
      " 'pdb_domain_end': None,\n",
      " 'pdb_domain_range': '',\n",
      " 'pdb_domain_start': None,\n",
      " 'pdb_id': '1Q90',\n",
      " 'protein_name': 'PetL subunit of the cytochrome b6f complex',\n",
      " 'scop_family': 'f.23.24.1',\n",
      " 'scop_id': 'd1q90l_'}\n",
      "{'organism_name': 'Veronica hederifolia [TaxId: 202477]',\n",
      " 'pdb_chain': 'B',\n",
      " 'pdb_domain_end': 29,\n",
      " 'pdb_domain_range': '7-29',\n",
      " 'pdb_domain_start': 7,\n",
      " 'pdb_id': '2CMY',\n",
      " 'protein_name': 'Trypsin inhibitor VhTI',\n",
      " 'scop_family': 'g.2.4.1',\n",
      " 'scop_id': 'd2cmyb1'}\n",
      "{'organism_name': 'Mouse (Mus musculus) [TaxId: 10090]',\n",
      " 'pdb_chain': 'H',\n",
      " 'pdb_domain_end': None,\n",
      " 'pdb_domain_range': '',\n",
      " 'pdb_domain_start': None,\n",
      " 'pdb_id': '1F93',\n",
      " 'protein_name': 'Hepatocyte nuclear factor 1 (HNF-1), N-terminal domain',\n",
      " 'scop_family': 'a.34.2.1',\n",
      " 'scop_id': 'd1f93h_'}\n",
      "{'organism_name': 'Synthetic, based on Conus geographus, GS',\n",
      " 'pdb_chain': 'A',\n",
      " 'pdb_domain_end': None,\n",
      " 'pdb_domain_range': '',\n",
      " 'pdb_domain_start': None,\n",
      " 'pdb_id': '1AG7',\n",
      " 'protein_name': 'Conotoxin',\n",
      " 'scop_family': 'g.3.6.1',\n",
      " 'scop_id': 'd1ag7a_'}\n"
     ]
    }
   ],
   "source": [
    "def parse_scop_header(header):\n",
    "    columns = [\n",
    "        'scop_id', 'scop_family', 'pdb_chain', 'pdb_domain_range',\n",
    "        'protein_name', 'organism_name',\n",
    "    ]\n",
    "    match = re.findall(\n",
    "        '^>(.*) ([a-z]\\.\\d+\\.\\d+\\.\\d+) \\((.*):(.*?)\\) ([^{}]*) {(.*)}$',\n",
    "        header)\n",
    "    if not match:\n",
    "        raise Exception(f\"Could not parser header: {header}\")\n",
    "    data = dict(zip(columns, match[0]))\n",
    "    data['pdb_id'] = data['scop_id'][1:5].upper()\n",
    "    domain_range = re.findall('(-?\\d+)-(-?\\d+)', data['pdb_domain_range'])\n",
    "    if domain_range:\n",
    "        data['pdb_domain_start'], data['pdb_domain_end'] = map(int, domain_range[0])\n",
    "    else:\n",
    "        data['pdb_domain_start'], data['pdb_domain_end'] = None, None\n",
    "#     data['scop_id'] = data['scop_id'] + data['pdb_chain'] + data['pdb_chain_range']\n",
    "    return data\n",
    "    \n",
    "\n",
    "header = \">d1q90l_ f.23.24.1 (L:) PetL subunit of the cytochrome b6f complex {Green alga (Chlamydomonas reinhardtii) [TaxId: 3055]}\"\n",
    "pprint(parse_scop_header(header))\n",
    "\n",
    "header = \">d2cmyb1 g.2.4.1 (B:7-29) Trypsin inhibitor VhTI {Veronica hederifolia [TaxId: 202477]}\"\n",
    "pprint(parse_scop_header(header))\n",
    "\n",
    "header = \">d1f93h_ a.34.2.1 (H:) Hepatocyte nuclear factor 1 (HNF-1), N-terminal domain {Mouse (Mus musculus) [TaxId: 10090]}\"\n",
    "pprint(parse_scop_header(header))\n",
    "\n",
    "header = \">d1ag7a_ g.3.6.1 (A:) Conotoxin {Synthetic, based on Conus geographus, GS}\"\n",
    "pprint(parse_scop_header(header))"
   ]
  },
  {
   "cell_type": "code",
   "execution_count": 70,
   "metadata": {
    "hidden": true
   },
   "outputs": [
    {
     "name": "stdout",
     "output_type": "stream",
     "text": [
      "Skipping line: 9357\n"
     ]
    },
    {
     "data": {
      "text/html": [
       "<div>\n",
       "<style scoped>\n",
       "    .dataframe tbody tr th:only-of-type {\n",
       "        vertical-align: middle;\n",
       "    }\n",
       "\n",
       "    .dataframe tbody tr th {\n",
       "        vertical-align: top;\n",
       "    }\n",
       "\n",
       "    .dataframe thead th {\n",
       "        text-align: right;\n",
       "    }\n",
       "</style>\n",
       "<table border=\"1\" class=\"dataframe\">\n",
       "  <thead>\n",
       "    <tr style=\"text-align: right;\">\n",
       "      <th></th>\n",
       "      <th>organism_name</th>\n",
       "      <th>pdb_chain</th>\n",
       "      <th>pdb_domain_end</th>\n",
       "      <th>pdb_domain_range</th>\n",
       "      <th>pdb_domain_start</th>\n",
       "      <th>pdb_id</th>\n",
       "      <th>protein_name</th>\n",
       "      <th>scop_family</th>\n",
       "      <th>scop_id</th>\n",
       "    </tr>\n",
       "  </thead>\n",
       "  <tbody>\n",
       "    <tr>\n",
       "      <th>0</th>\n",
       "      <td>Escherichia coli K-12 [TaxId: 83333]</td>\n",
       "      <td>A</td>\n",
       "      <td>251.0</td>\n",
       "      <td>232-251</td>\n",
       "      <td>232.0</td>\n",
       "      <td>4AA7</td>\n",
       "      <td>automated matches</td>\n",
       "      <td>c.68.1.0</td>\n",
       "      <td>d4aa7a1</td>\n",
       "    </tr>\n",
       "    <tr>\n",
       "      <th>1</th>\n",
       "      <td>Mouse mammary tumor virus [TaxId: 11757]</td>\n",
       "      <td>A</td>\n",
       "      <td>NaN</td>\n",
       "      <td></td>\n",
       "      <td>NaN</td>\n",
       "      <td>1DSQ</td>\n",
       "      <td>Nucleic acid binding protein p14</td>\n",
       "      <td>g.40.1.1</td>\n",
       "      <td>d1dsqa_</td>\n",
       "    </tr>\n",
       "    <tr>\n",
       "      <th>2</th>\n",
       "      <td>Human (Homo sapiens) [TaxId: 9606]</td>\n",
       "      <td>N</td>\n",
       "      <td>NaN</td>\n",
       "      <td></td>\n",
       "      <td>NaN</td>\n",
       "      <td>1OQD</td>\n",
       "      <td>Tumor necrosis factor receptor superfamily mem...</td>\n",
       "      <td>g.24.1.2</td>\n",
       "      <td>d1oqdn_</td>\n",
       "    </tr>\n",
       "    <tr>\n",
       "      <th>3</th>\n",
       "      <td>Trypanosome (Trypanosoma brucei) [TaxId: 5691]</td>\n",
       "      <td>B</td>\n",
       "      <td>NaN</td>\n",
       "      <td></td>\n",
       "      <td>NaN</td>\n",
       "      <td>2CIO</td>\n",
       "      <td>automated matches</td>\n",
       "      <td>b.1.26.0</td>\n",
       "      <td>d2ciob_</td>\n",
       "    </tr>\n",
       "    <tr>\n",
       "      <th>4</th>\n",
       "      <td>Scorpion (Tityus cambridgei) [TaxId: 184226]</td>\n",
       "      <td>A</td>\n",
       "      <td>NaN</td>\n",
       "      <td></td>\n",
       "      <td>NaN</td>\n",
       "      <td>1JLZ</td>\n",
       "      <td>alpha-KTX, K+-channel blocker</td>\n",
       "      <td>g.3.7.2</td>\n",
       "      <td>d1jlza_</td>\n",
       "    </tr>\n",
       "  </tbody>\n",
       "</table>\n",
       "</div>"
      ],
      "text/plain": [
       "                                    organism_name pdb_chain  pdb_domain_end  \\\n",
       "0            Escherichia coli K-12 [TaxId: 83333]         A           251.0   \n",
       "1        Mouse mammary tumor virus [TaxId: 11757]         A             NaN   \n",
       "2              Human (Homo sapiens) [TaxId: 9606]         N             NaN   \n",
       "3  Trypanosome (Trypanosoma brucei) [TaxId: 5691]         B             NaN   \n",
       "4    Scorpion (Tityus cambridgei) [TaxId: 184226]         A             NaN   \n",
       "\n",
       "  pdb_domain_range  pdb_domain_start pdb_id  \\\n",
       "0          232-251             232.0   4AA7   \n",
       "1                                NaN   1DSQ   \n",
       "2                                NaN   1OQD   \n",
       "3                                NaN   2CIO   \n",
       "4                                NaN   1JLZ   \n",
       "\n",
       "                                        protein_name scop_family  scop_id  \n",
       "0                                  automated matches    c.68.1.0  d4aa7a1  \n",
       "1                   Nucleic acid binding protein p14    g.40.1.1  d1dsqa_  \n",
       "2  Tumor necrosis factor receptor superfamily mem...    g.24.1.2  d1oqdn_  \n",
       "3                                  automated matches    b.1.26.0  d2ciob_  \n",
       "4                      alpha-KTX, K+-channel blocker     g.3.7.2  d1jlza_  "
      ]
     },
     "execution_count": 70,
     "metadata": {},
     "output_type": "execute_result"
    }
   ],
   "source": [
    "def get_scop_domains_from_ffdata(filepath):\n",
    "    assert filepath.suffix == '.ffdata'\n",
    "\n",
    "    proc1 = subprocess.run(\n",
    "        shlex.split(f\"head -n1 {filepath}\"),\n",
    "        stdout=subprocess.PIPE, stderr=subprocess.PIPE, universal_newlines=True)\n",
    "    if proc1.stderr.strip():\n",
    "        print(\"proc1 stderr:\")\n",
    "        print(proc1.stderr.strip())\n",
    "\n",
    "    proc2 = subprocess.run(\n",
    "        shlex.split(f\"rg --text '\\\\0' {filepath}\"),\n",
    "        stdout=subprocess.PIPE, stderr=subprocess.PIPE, universal_newlines=True)\n",
    "    if proc2.stderr.strip():\n",
    "        print(\"proc2 stderr:\")\n",
    "        print(proc2.stderr.strip())\n",
    "\n",
    "    data = []\n",
    "    for i, line in enumerate(itertools.chain(\n",
    "            proc1.stdout.strip().split('\\n'), proc2.stdout.strip().split('\\n'))):\n",
    "        line = line.replace('\\0', '')\n",
    "        if not line:\n",
    "            print(f\"Skipping line: {i}\")\n",
    "            continue\n",
    "        data.append(parse_scop_header(line))\n",
    "\n",
    "    df = pd.DataFrame(data)\n",
    "\n",
    "    df_ref = pd.read_csv(\n",
    "        filepath.with_suffix('.ffindex'), sep='\\t', names=['scop_id', 'start', 'length'])\n",
    "    assert (df['scop_id'].values == df_ref.sort_values('start')['scop_id'].values).all()\n",
    "\n",
    "    return df\n",
    "\n",
    "\n",
    "df = get_scop_domains_from_ffdata(DATA_PATH / 'hh-suite' / 'scop95_01Mar17' / 'scop95_a3m.ffdata')\n",
    "df.head()"
   ]
  },
  {
   "cell_type": "code",
   "execution_count": 71,
   "metadata": {
    "hidden": true
   },
   "outputs": [
    {
     "data": {
      "text/html": [
       "<div>\n",
       "<style scoped>\n",
       "    .dataframe tbody tr th:only-of-type {\n",
       "        vertical-align: middle;\n",
       "    }\n",
       "\n",
       "    .dataframe tbody tr th {\n",
       "        vertical-align: top;\n",
       "    }\n",
       "\n",
       "    .dataframe thead th {\n",
       "        text-align: right;\n",
       "    }\n",
       "</style>\n",
       "<table border=\"1\" class=\"dataframe\">\n",
       "  <thead>\n",
       "    <tr style=\"text-align: right;\">\n",
       "      <th></th>\n",
       "      <th>organism_name</th>\n",
       "      <th>pdb_chain</th>\n",
       "      <th>pdb_domain_end</th>\n",
       "      <th>pdb_domain_range</th>\n",
       "      <th>pdb_domain_start</th>\n",
       "      <th>pdb_id</th>\n",
       "      <th>protein_name</th>\n",
       "      <th>scop_family</th>\n",
       "      <th>scop_id</th>\n",
       "    </tr>\n",
       "  </thead>\n",
       "  <tbody>\n",
       "    <tr>\n",
       "      <th>0</th>\n",
       "      <td>Bacillus subtilis [TaxId: 1423]</td>\n",
       "      <td>A</td>\n",
       "      <td>NaN</td>\n",
       "      <td></td>\n",
       "      <td>NaN</td>\n",
       "      <td>1UX8</td>\n",
       "      <td>Protozoan/bacterial hemoglobin</td>\n",
       "      <td>a.1.1.1</td>\n",
       "      <td>d1ux8a_</td>\n",
       "    </tr>\n",
       "    <tr>\n",
       "      <th>1</th>\n",
       "      <td>Ciliate (Paramecium caudatum) [TaxId: 5885]</td>\n",
       "      <td>A</td>\n",
       "      <td>NaN</td>\n",
       "      <td></td>\n",
       "      <td>NaN</td>\n",
       "      <td>1DLW</td>\n",
       "      <td>Protozoan/bacterial hemoglobin</td>\n",
       "      <td>a.1.1.1</td>\n",
       "      <td>d1dlwa_</td>\n",
       "    </tr>\n",
       "    <tr>\n",
       "      <th>2</th>\n",
       "      <td>Green alga (Chlamydomonas eugametos) [TaxId: 3...</td>\n",
       "      <td>A</td>\n",
       "      <td>NaN</td>\n",
       "      <td></td>\n",
       "      <td>NaN</td>\n",
       "      <td>1DLY</td>\n",
       "      <td>Protozoan/bacterial hemoglobin</td>\n",
       "      <td>a.1.1.1</td>\n",
       "      <td>d1dlya_</td>\n",
       "    </tr>\n",
       "    <tr>\n",
       "      <th>3</th>\n",
       "      <td>Mycobacterium tuberculosis, HbN [TaxId: 1773]</td>\n",
       "      <td>A</td>\n",
       "      <td>NaN</td>\n",
       "      <td></td>\n",
       "      <td>NaN</td>\n",
       "      <td>2GKM</td>\n",
       "      <td>Protozoan/bacterial hemoglobin</td>\n",
       "      <td>a.1.1.1</td>\n",
       "      <td>d2gkma_</td>\n",
       "    </tr>\n",
       "    <tr>\n",
       "      <th>4</th>\n",
       "      <td>Mycobacterium tuberculosis, HbN [TaxId: 1773]</td>\n",
       "      <td>B</td>\n",
       "      <td>NaN</td>\n",
       "      <td></td>\n",
       "      <td>NaN</td>\n",
       "      <td>2GKM</td>\n",
       "      <td>Protozoan/bacterial hemoglobin</td>\n",
       "      <td>a.1.1.1</td>\n",
       "      <td>d2gkmb_</td>\n",
       "    </tr>\n",
       "  </tbody>\n",
       "</table>\n",
       "</div>"
      ],
      "text/plain": [
       "                                       organism_name pdb_chain  \\\n",
       "0                    Bacillus subtilis [TaxId: 1423]         A   \n",
       "1        Ciliate (Paramecium caudatum) [TaxId: 5885]         A   \n",
       "2  Green alga (Chlamydomonas eugametos) [TaxId: 3...         A   \n",
       "3      Mycobacterium tuberculosis, HbN [TaxId: 1773]         A   \n",
       "4      Mycobacterium tuberculosis, HbN [TaxId: 1773]         B   \n",
       "\n",
       "   pdb_domain_end pdb_domain_range  pdb_domain_start pdb_id  \\\n",
       "0             NaN                                NaN   1UX8   \n",
       "1             NaN                                NaN   1DLW   \n",
       "2             NaN                                NaN   1DLY   \n",
       "3             NaN                                NaN   2GKM   \n",
       "4             NaN                                NaN   2GKM   \n",
       "\n",
       "                     protein_name scop_family  scop_id  \n",
       "0  Protozoan/bacterial hemoglobin     a.1.1.1  d1ux8a_  \n",
       "1  Protozoan/bacterial hemoglobin     a.1.1.1  d1dlwa_  \n",
       "2  Protozoan/bacterial hemoglobin     a.1.1.1  d1dlya_  \n",
       "3  Protozoan/bacterial hemoglobin     a.1.1.1  d2gkma_  \n",
       "4  Protozoan/bacterial hemoglobin     a.1.1.1  d2gkmb_  "
      ]
     },
     "execution_count": 71,
     "metadata": {},
     "output_type": "execute_result"
    }
   ],
   "source": [
    "def get_scop_domains_from_fasta(filepath):\n",
    "    assert filepath.suffix == '.fa'\n",
    "\n",
    "    proc = subprocess.run(\n",
    "        shlex.split(f\"rg --text '^>' {filepath}\"),\n",
    "        stdout=subprocess.PIPE, stderr=subprocess.PIPE, universal_newlines=True)\n",
    "    if proc.stderr.strip():\n",
    "        print(\"proc stderr:\")\n",
    "        print(proc.stderr.strip())\n",
    "        \n",
    "    data = []\n",
    "    for i, line in enumerate(proc.stdout.strip().split('\\n')):\n",
    "        if not line:\n",
    "            print(f\"Skipping line: {i}\")\n",
    "            continue\n",
    "        data.append(parse_scop_header(line))\n",
    "\n",
    "    df = pd.DataFrame(data)\n",
    "\n",
    "    df_ref = pd.read_csv(filepath.with_suffix('.id'), names=['scop_id'])\n",
    "    assert not (set(df['scop_id']) ^ set(df_ref['scop_id']))\n",
    "\n",
    "    return df\n",
    "\n",
    "\n",
    "df = get_scop_domains_from_fasta(\n",
    "    DATA_PATH / 'scop' / 'v2.07' / 'astral-scopedom-seqres-gd-sel-gs-bib-100-2.07.fa')\n",
    "df.head()"
   ]
  },
  {
   "cell_type": "markdown",
   "metadata": {},
   "source": [
    "# Databases"
   ]
  },
  {
   "cell_type": "code",
   "execution_count": 72,
   "metadata": {},
   "outputs": [
    {
     "name": "stdout",
     "output_type": "stream",
     "text": [
      "hh-suite  scop\r\n"
     ]
    }
   ],
   "source": [
    "!ls {DATA_PATH}"
   ]
  },
  {
   "cell_type": "markdown",
   "metadata": {},
   "source": [
    "## `hh-suite`"
   ]
  },
  {
   "cell_type": "code",
   "execution_count": 73,
   "metadata": {},
   "outputs": [
    {
     "name": "stdout",
     "output_type": "stream",
     "text": [
      "pdb70_from_mmcif_180523  scop70_01Mar17  scop90_01Mar17  uniprot20_2016_02\r\n",
      "scop40_01Mar17\t\t scop70_1.75\t scop95_01Mar17\r\n"
     ]
    }
   ],
   "source": [
    "!ls {DATA_PATH}/hh-suite"
   ]
  },
  {
   "cell_type": "code",
   "execution_count": 74,
   "metadata": {},
   "outputs": [
    {
     "name": "stdout",
     "output_type": "stream",
     "text": [
      "01Mar17 40\n",
      "/gpfs/fs0/scratch/p/pmkim/strokach/database_data/hh-suite/scop40_01Mar17/scop40_a3m.ffdata\n",
      "Skipping line: 2844\n",
      "01Mar17 70\n",
      "/gpfs/fs0/scratch/p/pmkim/strokach/database_data/hh-suite/scop70_01Mar17/scop70_a3m.ffdata\n",
      "Skipping line: 4408\n",
      "01Mar17 90\n",
      "/gpfs/fs0/scratch/p/pmkim/strokach/database_data/hh-suite/scop90_01Mar17/scop90_a3m.ffdata\n",
      "Skipping line: 6377\n",
      "01Mar17 95\n",
      "/gpfs/fs0/scratch/p/pmkim/strokach/database_data/hh-suite/scop95_01Mar17/scop95_a3m.ffdata\n",
      "Skipping line: 9357\n"
     ]
    }
   ],
   "source": [
    "hhsuite_dfs = {}\n",
    "\n",
    "for scop_version in ['01Mar17', ]:  # '1.75'\n",
    "    for sic in {'01Mar17': [40, 70, 90, 95], '1.75': [70]}[scop_version]:\n",
    "        print(scop_version, sic)\n",
    "        filepath = (\n",
    "            DATA_PATH\n",
    "            .joinpath(f'hh-suite')\n",
    "            .joinpath(f'scop{sic}_{scop_version}')\n",
    "            .joinpath(f'scop{sic}_a3m.ffdata'))\n",
    "        print(filepath, flush=True)\n",
    "        df = get_scop_domains_from_ffdata(filepath)\n",
    "        df['scop_version'] = scop_version\n",
    "        df['seq_identity_cutoff'] = sic\n",
    "        hhsuite_dfs[(scop_version, sic)] = df"
   ]
  },
  {
   "cell_type": "code",
   "execution_count": 75,
   "metadata": {},
   "outputs": [
    {
     "data": {
      "text/plain": [
       "dict_keys([('01Mar17', 40), ('01Mar17', 70), ('01Mar17', 90), ('01Mar17', 95)])"
      ]
     },
     "execution_count": 75,
     "metadata": {},
     "output_type": "execute_result"
    }
   ],
   "source": [
    "hhsuite_dfs.keys()"
   ]
  },
  {
   "cell_type": "code",
   "execution_count": 76,
   "metadata": {},
   "outputs": [
    {
     "data": {
      "text/html": [
       "<div>\n",
       "<style scoped>\n",
       "    .dataframe tbody tr th:only-of-type {\n",
       "        vertical-align: middle;\n",
       "    }\n",
       "\n",
       "    .dataframe tbody tr th {\n",
       "        vertical-align: top;\n",
       "    }\n",
       "\n",
       "    .dataframe thead th {\n",
       "        text-align: right;\n",
       "    }\n",
       "</style>\n",
       "<table border=\"1\" class=\"dataframe\">\n",
       "  <thead>\n",
       "    <tr style=\"text-align: right;\">\n",
       "      <th></th>\n",
       "      <th>scop_version</th>\n",
       "      <th>seq_identity_cutoff</th>\n",
       "      <th>num_domains</th>\n",
       "      <th>scop_domains</th>\n",
       "      <th>num_families</th>\n",
       "      <th>scop_families</th>\n",
       "    </tr>\n",
       "  </thead>\n",
       "  <tbody>\n",
       "    <tr>\n",
       "      <th>0</th>\n",
       "      <td>01Mar17</td>\n",
       "      <td>40</td>\n",
       "      <td>2844</td>\n",
       "      <td>{d1dqca_, d1vr8a1, d2ysca1, d1j8ca_, d4eo1a_, ...</td>\n",
       "      <td>1496</td>\n",
       "      <td>{b.40.4.12, b.106.1.2, f.23.27.1, g.50.1.3, b....</td>\n",
       "    </tr>\n",
       "    <tr>\n",
       "      <th>1</th>\n",
       "      <td>01Mar17</td>\n",
       "      <td>70</td>\n",
       "      <td>4408</td>\n",
       "      <td>{d1dqca_, d3hg0c1, d1vr8a1, d2ysca1, d1j8ca_, ...</td>\n",
       "      <td>1909</td>\n",
       "      <td>{a.139.1.1, b.47.1.2, b.40.4.12, b.106.1.2, f....</td>\n",
       "    </tr>\n",
       "    <tr>\n",
       "      <th>2</th>\n",
       "      <td>01Mar17</td>\n",
       "      <td>90</td>\n",
       "      <td>6377</td>\n",
       "      <td>{d3hg0c1, d1p3ja1, d2ysca1, d1nxca_, d1qjta_, ...</td>\n",
       "      <td>2223</td>\n",
       "      <td>{a.139.1.1, b.47.1.2, b.40.4.12, b.106.1.2, f....</td>\n",
       "    </tr>\n",
       "    <tr>\n",
       "      <th>3</th>\n",
       "      <td>01Mar17</td>\n",
       "      <td>95</td>\n",
       "      <td>9357</td>\n",
       "      <td>{d3hg0c1, d3ke5c_, d1p3ja1, d2ysca1, d1clol1, ...</td>\n",
       "      <td>2534</td>\n",
       "      <td>{a.139.1.1, b.47.1.2, b.40.4.12, b.106.1.2, f....</td>\n",
       "    </tr>\n",
       "  </tbody>\n",
       "</table>\n",
       "</div>"
      ],
      "text/plain": [
       "  scop_version  seq_identity_cutoff  num_domains  \\\n",
       "0      01Mar17                   40         2844   \n",
       "1      01Mar17                   70         4408   \n",
       "2      01Mar17                   90         6377   \n",
       "3      01Mar17                   95         9357   \n",
       "\n",
       "                                        scop_domains  num_families  \\\n",
       "0  {d1dqca_, d1vr8a1, d2ysca1, d1j8ca_, d4eo1a_, ...          1496   \n",
       "1  {d1dqca_, d3hg0c1, d1vr8a1, d2ysca1, d1j8ca_, ...          1909   \n",
       "2  {d3hg0c1, d1p3ja1, d2ysca1, d1nxca_, d1qjta_, ...          2223   \n",
       "3  {d3hg0c1, d3ke5c_, d1p3ja1, d2ysca1, d1clol1, ...          2534   \n",
       "\n",
       "                                       scop_families  \n",
       "0  {b.40.4.12, b.106.1.2, f.23.27.1, g.50.1.3, b....  \n",
       "1  {a.139.1.1, b.47.1.2, b.40.4.12, b.106.1.2, f....  \n",
       "2  {a.139.1.1, b.47.1.2, b.40.4.12, b.106.1.2, f....  \n",
       "3  {a.139.1.1, b.47.1.2, b.40.4.12, b.106.1.2, f....  "
      ]
     },
     "execution_count": 76,
     "metadata": {},
     "output_type": "execute_result"
    }
   ],
   "source": [
    "columns = [\n",
    "    'scop_version', 'seq_identity_cutoff', \n",
    "    'num_domains', 'num_unique_domains', 'scop_domains',\n",
    "    'num_families', 'scop_families'\n",
    "]\n",
    "\n",
    "hhsuite_stats = pd.DataFrame(\n",
    "    data=[\n",
    "        (scop_version, seq_identity_cutoff, \n",
    "         len(df), len(set(df['scop_id'])), set(df['scop_id']),\n",
    "         len(set(df['scop_family'])), set(df['scop_family']), \n",
    "        )\n",
    "         for scop_version in ['01Mar17']\n",
    "         for seq_identity_cutoff in [40, 70, 90, 95]\n",
    "         for df in [hhsuite_dfs[(scop_version, seq_identity_cutoff)]]\n",
    "    ],\n",
    "    columns=columns,\n",
    ")\n",
    "assert (hhsuite_stats['num_domains'] == hhsuite_stats['num_unique_domains']).all()\n",
    "del hhsuite_stats['num_unique_domains']\n",
    "hhsuite_stats"
   ]
  },
  {
   "cell_type": "code",
   "execution_count": 77,
   "metadata": {
    "collapsed": true
   },
   "outputs": [],
   "source": [
    "schema = None\n",
    "\n",
    "for (version, sic), df in hhsuite_dfs.items():\n",
    "    filepath = NOTEBOOK_PATH.joinpath(f\"scop-hhsuite-{version}-{sic}.parquet\")\n",
    "    if schema is None:\n",
    "        table = pa.Table.from_pandas(df, preserve_index=False)\n",
    "        for column_name in ['pdb_domain_start', 'pdb_domain_end']:\n",
    "            idx = table.schema.get_field_index(column_name)\n",
    "            column = table.column(idx).cast(pa.int32())\n",
    "            table = table.remove_column(idx).add_column(idx, column)\n",
    "        schema = table.schema\n",
    "    else:\n",
    "        table = pa.Table.from_pandas(df, schema=schema, preserve_index=False)\n",
    "    pq.write_table(pa.Table.from_pandas(df), filepath, flavor='spark')"
   ]
  },
  {
   "cell_type": "markdown",
   "metadata": {},
   "source": [
    "## `scop`"
   ]
  },
  {
   "cell_type": "code",
   "execution_count": 78,
   "metadata": {},
   "outputs": [
    {
     "name": "stdout",
     "output_type": "stream",
     "text": [
      "v1.75  v2.07\r\n"
     ]
    }
   ],
   "source": [
    "!ls {DATA_PATH}/scop"
   ]
  },
  {
   "cell_type": "code",
   "execution_count": 79,
   "metadata": {},
   "outputs": [
    {
     "name": "stdout",
     "output_type": "stream",
     "text": [
      "scop 1.75\n",
      "/gpfs/fs0/scratch/p/pmkim/strokach/database_data/scop/v1.75/astral-scopdom-seqres-gd-sel-gs-bib-10-1.75.fa\n",
      "/gpfs/fs0/scratch/p/pmkim/strokach/database_data/scop/v1.75/astral-scopdom-seqres-gd-sel-gs-bib-20-1.75.fa\n",
      "/gpfs/fs0/scratch/p/pmkim/strokach/database_data/scop/v1.75/astral-scopdom-seqres-gd-sel-gs-bib-25-1.75.fa\n",
      "/gpfs/fs0/scratch/p/pmkim/strokach/database_data/scop/v1.75/astral-scopdom-seqres-gd-sel-gs-bib-30-1.75.fa\n",
      "/gpfs/fs0/scratch/p/pmkim/strokach/database_data/scop/v1.75/astral-scopdom-seqres-gd-sel-gs-bib-35-1.75.fa\n",
      "/gpfs/fs0/scratch/p/pmkim/strokach/database_data/scop/v1.75/astral-scopdom-seqres-gd-sel-gs-bib-40-1.75.fa\n",
      "/gpfs/fs0/scratch/p/pmkim/strokach/database_data/scop/v1.75/astral-scopdom-seqres-gd-sel-gs-bib-50-1.75.fa\n",
      "/gpfs/fs0/scratch/p/pmkim/strokach/database_data/scop/v1.75/astral-scopdom-seqres-gd-sel-gs-bib-70-1.75.fa\n",
      "/gpfs/fs0/scratch/p/pmkim/strokach/database_data/scop/v1.75/astral-scopdom-seqres-gd-sel-gs-bib-90-1.75.fa\n",
      "/gpfs/fs0/scratch/p/pmkim/strokach/database_data/scop/v1.75/astral-scopdom-seqres-gd-sel-gs-bib-95-1.75.fa\n",
      "/gpfs/fs0/scratch/p/pmkim/strokach/database_data/scop/v1.75/astral-scopdom-seqres-gd-sel-gs-bib-100-1.75.fa\n",
      "scope 2.07\n",
      "/gpfs/fs0/scratch/p/pmkim/strokach/database_data/scop/v2.07/astral-scopedom-seqres-gd-sel-gs-bib-10-2.07.fa\n",
      "/gpfs/fs0/scratch/p/pmkim/strokach/database_data/scop/v2.07/astral-scopedom-seqres-gd-sel-gs-bib-20-2.07.fa\n",
      "/gpfs/fs0/scratch/p/pmkim/strokach/database_data/scop/v2.07/astral-scopedom-seqres-gd-sel-gs-bib-25-2.07.fa\n",
      "/gpfs/fs0/scratch/p/pmkim/strokach/database_data/scop/v2.07/astral-scopedom-seqres-gd-sel-gs-bib-30-2.07.fa\n",
      "/gpfs/fs0/scratch/p/pmkim/strokach/database_data/scop/v2.07/astral-scopedom-seqres-gd-sel-gs-bib-35-2.07.fa\n",
      "/gpfs/fs0/scratch/p/pmkim/strokach/database_data/scop/v2.07/astral-scopedom-seqres-gd-sel-gs-bib-40-2.07.fa\n",
      "/gpfs/fs0/scratch/p/pmkim/strokach/database_data/scop/v2.07/astral-scopedom-seqres-gd-sel-gs-bib-50-2.07.fa\n",
      "/gpfs/fs0/scratch/p/pmkim/strokach/database_data/scop/v2.07/astral-scopedom-seqres-gd-sel-gs-bib-70-2.07.fa\n",
      "/gpfs/fs0/scratch/p/pmkim/strokach/database_data/scop/v2.07/astral-scopedom-seqres-gd-sel-gs-bib-90-2.07.fa\n",
      "/gpfs/fs0/scratch/p/pmkim/strokach/database_data/scop/v2.07/astral-scopedom-seqres-gd-sel-gs-bib-95-2.07.fa\n",
      "/gpfs/fs0/scratch/p/pmkim/strokach/database_data/scop/v2.07/astral-scopedom-seqres-gd-sel-gs-bib-100-2.07.fa\n"
     ]
    }
   ],
   "source": [
    "scop_dfs = {}\n",
    "\n",
    "for scop_version in ['1.75', '2.07']:\n",
    "    scop_name = 'scop' if float(scop_version) < 2 else 'scope'\n",
    "    print(scop_name, scop_version)\n",
    "    for sic in [10, 20, 25, 30, 35, 40, 50, 70, 90, 95, 100]:\n",
    "        filepath = (\n",
    "            DATA_PATH\n",
    "            .joinpath(f'scop')\n",
    "            .joinpath(f'v{scop_version}')\n",
    "            .joinpath(f'astral-{scop_name}dom-seqres-gd-sel-gs-bib-{sic}-{scop_version}.fa'))\n",
    "        print(filepath, flush=True)\n",
    "        df = get_scop_domains_from_fasta(filepath)\n",
    "        df['scop_version'] = f\"{scop_name} v{scop_version}\"\n",
    "        df['seq_identity_cutoff'] = sic\n",
    "        scop_dfs[(scop_version, sic)] = df"
   ]
  },
  {
   "cell_type": "code",
   "execution_count": 80,
   "metadata": {},
   "outputs": [
    {
     "data": {
      "text/plain": [
       "dict_keys([('1.75', 10), ('1.75', 20), ('1.75', 25), ('1.75', 30), ('1.75', 35), ('1.75', 40), ('1.75', 50), ('1.75', 70), ('1.75', 90), ('1.75', 95), ('1.75', 100), ('2.07', 10), ('2.07', 20), ('2.07', 25), ('2.07', 30), ('2.07', 35), ('2.07', 40), ('2.07', 50), ('2.07', 70), ('2.07', 90), ('2.07', 95), ('2.07', 100)])"
      ]
     },
     "execution_count": 80,
     "metadata": {},
     "output_type": "execute_result"
    }
   ],
   "source": [
    "scop_dfs.keys()"
   ]
  },
  {
   "cell_type": "code",
   "execution_count": 81,
   "metadata": {},
   "outputs": [
    {
     "data": {
      "text/html": [
       "<div>\n",
       "<style scoped>\n",
       "    .dataframe tbody tr th:only-of-type {\n",
       "        vertical-align: middle;\n",
       "    }\n",
       "\n",
       "    .dataframe tbody tr th {\n",
       "        vertical-align: top;\n",
       "    }\n",
       "\n",
       "    .dataframe thead th {\n",
       "        text-align: right;\n",
       "    }\n",
       "</style>\n",
       "<table border=\"1\" class=\"dataframe\">\n",
       "  <thead>\n",
       "    <tr style=\"text-align: right;\">\n",
       "      <th></th>\n",
       "      <th>scop_version</th>\n",
       "      <th>seq_identity_cutoff</th>\n",
       "      <th>num_domains</th>\n",
       "      <th>scop_domains</th>\n",
       "      <th>num_families</th>\n",
       "      <th>scop_families</th>\n",
       "    </tr>\n",
       "  </thead>\n",
       "  <tbody>\n",
       "    <tr>\n",
       "      <th>0</th>\n",
       "      <td>1.75</td>\n",
       "      <td>10</td>\n",
       "      <td>6258</td>\n",
       "      <td>{d1bs0a_, d2ghfa1, d1k4ta2, d1z84a1, d1ojra_, ...</td>\n",
       "      <td>3749</td>\n",
       "      <td>{a.139.1.1, b.47.1.2, c.124.1.3, b.40.4.12, b....</td>\n",
       "    </tr>\n",
       "    <tr>\n",
       "      <th>1</th>\n",
       "      <td>1.75</td>\n",
       "      <td>20</td>\n",
       "      <td>7002</td>\n",
       "      <td>{d1bs0a_, d2ghfa1, d1k4ta2, d1z84a1, d1lqaa_, ...</td>\n",
       "      <td>3852</td>\n",
       "      <td>{a.139.1.1, b.47.1.2, c.124.1.3, b.40.4.12, b....</td>\n",
       "    </tr>\n",
       "    <tr>\n",
       "      <th>2</th>\n",
       "      <td>1.75</td>\n",
       "      <td>25</td>\n",
       "      <td>7797</td>\n",
       "      <td>{d1bs0a_, d2ghfa1, d1vlba4, d1k4ta2, d1z84a1, ...</td>\n",
       "      <td>3876</td>\n",
       "      <td>{a.139.1.1, b.47.1.2, c.124.1.3, b.40.4.12, b....</td>\n",
       "    </tr>\n",
       "    <tr>\n",
       "      <th>3</th>\n",
       "      <td>1.75</td>\n",
       "      <td>30</td>\n",
       "      <td>8792</td>\n",
       "      <td>{d1bs0a_, d1w5sa1, d1snya_, d2ghfa1, d1vlba4, ...</td>\n",
       "      <td>3889</td>\n",
       "      <td>{a.139.1.1, b.47.1.2, c.124.1.3, b.40.4.12, b....</td>\n",
       "    </tr>\n",
       "    <tr>\n",
       "      <th>4</th>\n",
       "      <td>1.75</td>\n",
       "      <td>35</td>\n",
       "      <td>9750</td>\n",
       "      <td>{d1bs0a_, d1w5sa1, d1snya_, d2ghfa1, d1vlba4, ...</td>\n",
       "      <td>3895</td>\n",
       "      <td>{a.139.1.1, b.47.1.2, c.124.1.3, b.40.4.12, b....</td>\n",
       "    </tr>\n",
       "    <tr>\n",
       "      <th>5</th>\n",
       "      <td>1.75</td>\n",
       "      <td>40</td>\n",
       "      <td>10569</td>\n",
       "      <td>{d1bs0a_, d1w5sa1, d1snya_, d2ghfa1, d1vlba4, ...</td>\n",
       "      <td>3898</td>\n",
       "      <td>{a.139.1.1, b.47.1.2, c.124.1.3, b.40.4.12, b....</td>\n",
       "    </tr>\n",
       "    <tr>\n",
       "      <th>6</th>\n",
       "      <td>1.75</td>\n",
       "      <td>50</td>\n",
       "      <td>11915</td>\n",
       "      <td>{d1bs0a_, d1w5sa1, d1snya_, d2ghfa1, d1vlba4, ...</td>\n",
       "      <td>3900</td>\n",
       "      <td>{a.139.1.1, b.47.1.2, c.124.1.3, b.40.4.12, b....</td>\n",
       "    </tr>\n",
       "    <tr>\n",
       "      <th>7</th>\n",
       "      <td>1.75</td>\n",
       "      <td>70</td>\n",
       "      <td>13734</td>\n",
       "      <td>{d1bs0a_, d1w5sa1, d1snya_, d2ghfa1, d1rw0a_, ...</td>\n",
       "      <td>3900</td>\n",
       "      <td>{a.139.1.1, b.47.1.2, c.124.1.3, b.40.4.12, b....</td>\n",
       "    </tr>\n",
       "    <tr>\n",
       "      <th>8</th>\n",
       "      <td>1.75</td>\n",
       "      <td>90</td>\n",
       "      <td>15545</td>\n",
       "      <td>{d1bs0a_, d1w5sa1, d1snya_, d2ghfa1, d1ai1l1, ...</td>\n",
       "      <td>3901</td>\n",
       "      <td>{a.139.1.1, b.47.1.2, c.124.1.3, b.40.4.12, b....</td>\n",
       "    </tr>\n",
       "    <tr>\n",
       "      <th>9</th>\n",
       "      <td>1.75</td>\n",
       "      <td>95</td>\n",
       "      <td>16712</td>\n",
       "      <td>{d1bs0a_, d1w5sa1, d1snya_, d2ghfa1, d1ai1l1, ...</td>\n",
       "      <td>3901</td>\n",
       "      <td>{a.139.1.1, b.47.1.2, c.124.1.3, b.40.4.12, b....</td>\n",
       "    </tr>\n",
       "    <tr>\n",
       "      <th>10</th>\n",
       "      <td>1.75</td>\n",
       "      <td>100</td>\n",
       "      <td>33352</td>\n",
       "      <td>{d2ghfa1, d1snya_, d1k4ta2, d1gv0a2, d1t82b_, ...</td>\n",
       "      <td>3901</td>\n",
       "      <td>{a.139.1.1, b.47.1.2, c.124.1.3, b.40.4.12, b....</td>\n",
       "    </tr>\n",
       "    <tr>\n",
       "      <th>11</th>\n",
       "      <td>2.07</td>\n",
       "      <td>10</td>\n",
       "      <td>6951</td>\n",
       "      <td>{d1bs0a_, d1dlja2, d1t1ua2, d5mu9a2, d1k4ta2, ...</td>\n",
       "      <td>4083</td>\n",
       "      <td>{b.47.1.2, c.124.1.3, b.40.4.12, b.106.1.2, f....</td>\n",
       "    </tr>\n",
       "    <tr>\n",
       "      <th>12</th>\n",
       "      <td>2.07</td>\n",
       "      <td>20</td>\n",
       "      <td>7745</td>\n",
       "      <td>{d1bs0a_, d5mu9a2, d1t1ua2, d1k4ta2, d2knia1, ...</td>\n",
       "      <td>4193</td>\n",
       "      <td>{b.47.1.2, c.124.1.3, b.40.4.12, b.106.1.2, f....</td>\n",
       "    </tr>\n",
       "    <tr>\n",
       "      <th>13</th>\n",
       "      <td>2.07</td>\n",
       "      <td>25</td>\n",
       "      <td>8834</td>\n",
       "      <td>{d1bs0a_, d5mu9a2, d1t1ua2, d1k4ta2, d1qjta_, ...</td>\n",
       "      <td>4278</td>\n",
       "      <td>{b.47.1.2, c.124.1.3, b.40.4.12, b.106.1.2, f....</td>\n",
       "    </tr>\n",
       "    <tr>\n",
       "      <th>14</th>\n",
       "      <td>2.07</td>\n",
       "      <td>30</td>\n",
       "      <td>10569</td>\n",
       "      <td>{d1bs0a_, d1w5sa1, d1dlja2, d1t1ua2, d5mu9a2, ...</td>\n",
       "      <td>4386</td>\n",
       "      <td>{b.47.1.2, c.124.1.3, b.40.4.12, b.106.1.2, f....</td>\n",
       "    </tr>\n",
       "    <tr>\n",
       "      <th>15</th>\n",
       "      <td>2.07</td>\n",
       "      <td>35</td>\n",
       "      <td>12475</td>\n",
       "      <td>{d4knua1, d1w5sa1, d1bs0a_, d1dlja2, d1t1ua2, ...</td>\n",
       "      <td>4500</td>\n",
       "      <td>{b.47.1.2, c.124.1.3, b.40.4.12, b.106.1.2, f....</td>\n",
       "    </tr>\n",
       "    <tr>\n",
       "      <th>16</th>\n",
       "      <td>2.07</td>\n",
       "      <td>40</td>\n",
       "      <td>14323</td>\n",
       "      <td>{d4knua1, d1w5sa1, d1bs0a_, d1nxca_, d1dlja2, ...</td>\n",
       "      <td>4583</td>\n",
       "      <td>{a.139.1.1, b.47.1.2, c.124.1.3, b.40.4.12, b....</td>\n",
       "    </tr>\n",
       "    <tr>\n",
       "      <th>17</th>\n",
       "      <td>2.07</td>\n",
       "      <td>50</td>\n",
       "      <td>17582</td>\n",
       "      <td>{d4knua1, d1w5sa1, d1bs0a_, d2gq1a_, d1nxca_, ...</td>\n",
       "      <td>4737</td>\n",
       "      <td>{a.139.1.1, b.47.1.2, c.124.1.3, b.40.4.12, b....</td>\n",
       "    </tr>\n",
       "    <tr>\n",
       "      <th>18</th>\n",
       "      <td>2.07</td>\n",
       "      <td>70</td>\n",
       "      <td>22476</td>\n",
       "      <td>{d1k4ta2, d4au0a_, d3nx3a_, d3b6ha1, d3sk7a1, ...</td>\n",
       "      <td>4818</td>\n",
       "      <td>{a.139.1.1, b.47.1.2, c.124.1.3, b.40.4.12, b....</td>\n",
       "    </tr>\n",
       "    <tr>\n",
       "      <th>19</th>\n",
       "      <td>2.07</td>\n",
       "      <td>90</td>\n",
       "      <td>27330</td>\n",
       "      <td>{d1k4ta2, d1gv0a2, d4au0a_, d3nx3a_, d3b6ha1, ...</td>\n",
       "      <td>4845</td>\n",
       "      <td>{a.139.1.1, b.47.1.2, c.124.1.3, b.40.4.12, b....</td>\n",
       "    </tr>\n",
       "    <tr>\n",
       "      <th>20</th>\n",
       "      <td>2.07</td>\n",
       "      <td>95</td>\n",
       "      <td>30201</td>\n",
       "      <td>{d1k4ta2, d1gv0a2, d4au0a_, d3nx3a_, d3b6ha1, ...</td>\n",
       "      <td>4850</td>\n",
       "      <td>{a.139.1.1, b.47.1.2, c.124.1.3, b.40.4.12, b....</td>\n",
       "    </tr>\n",
       "    <tr>\n",
       "      <th>21</th>\n",
       "      <td>2.07</td>\n",
       "      <td>100</td>\n",
       "      <td>77143</td>\n",
       "      <td>{d3hg0c1, d2scua2, d2h9gr3, d5k3ga1, d1k4ta2, ...</td>\n",
       "      <td>4881</td>\n",
       "      <td>{a.139.1.1, b.47.1.2, c.124.1.3, b.44.2.0, b.4...</td>\n",
       "    </tr>\n",
       "  </tbody>\n",
       "</table>\n",
       "</div>"
      ],
      "text/plain": [
       "   scop_version  seq_identity_cutoff  num_domains  \\\n",
       "0          1.75                   10         6258   \n",
       "1          1.75                   20         7002   \n",
       "2          1.75                   25         7797   \n",
       "3          1.75                   30         8792   \n",
       "4          1.75                   35         9750   \n",
       "5          1.75                   40        10569   \n",
       "6          1.75                   50        11915   \n",
       "7          1.75                   70        13734   \n",
       "8          1.75                   90        15545   \n",
       "9          1.75                   95        16712   \n",
       "10         1.75                  100        33352   \n",
       "11         2.07                   10         6951   \n",
       "12         2.07                   20         7745   \n",
       "13         2.07                   25         8834   \n",
       "14         2.07                   30        10569   \n",
       "15         2.07                   35        12475   \n",
       "16         2.07                   40        14323   \n",
       "17         2.07                   50        17582   \n",
       "18         2.07                   70        22476   \n",
       "19         2.07                   90        27330   \n",
       "20         2.07                   95        30201   \n",
       "21         2.07                  100        77143   \n",
       "\n",
       "                                         scop_domains  num_families  \\\n",
       "0   {d1bs0a_, d2ghfa1, d1k4ta2, d1z84a1, d1ojra_, ...          3749   \n",
       "1   {d1bs0a_, d2ghfa1, d1k4ta2, d1z84a1, d1lqaa_, ...          3852   \n",
       "2   {d1bs0a_, d2ghfa1, d1vlba4, d1k4ta2, d1z84a1, ...          3876   \n",
       "3   {d1bs0a_, d1w5sa1, d1snya_, d2ghfa1, d1vlba4, ...          3889   \n",
       "4   {d1bs0a_, d1w5sa1, d1snya_, d2ghfa1, d1vlba4, ...          3895   \n",
       "5   {d1bs0a_, d1w5sa1, d1snya_, d2ghfa1, d1vlba4, ...          3898   \n",
       "6   {d1bs0a_, d1w5sa1, d1snya_, d2ghfa1, d1vlba4, ...          3900   \n",
       "7   {d1bs0a_, d1w5sa1, d1snya_, d2ghfa1, d1rw0a_, ...          3900   \n",
       "8   {d1bs0a_, d1w5sa1, d1snya_, d2ghfa1, d1ai1l1, ...          3901   \n",
       "9   {d1bs0a_, d1w5sa1, d1snya_, d2ghfa1, d1ai1l1, ...          3901   \n",
       "10  {d2ghfa1, d1snya_, d1k4ta2, d1gv0a2, d1t82b_, ...          3901   \n",
       "11  {d1bs0a_, d1dlja2, d1t1ua2, d5mu9a2, d1k4ta2, ...          4083   \n",
       "12  {d1bs0a_, d5mu9a2, d1t1ua2, d1k4ta2, d2knia1, ...          4193   \n",
       "13  {d1bs0a_, d5mu9a2, d1t1ua2, d1k4ta2, d1qjta_, ...          4278   \n",
       "14  {d1bs0a_, d1w5sa1, d1dlja2, d1t1ua2, d5mu9a2, ...          4386   \n",
       "15  {d4knua1, d1w5sa1, d1bs0a_, d1dlja2, d1t1ua2, ...          4500   \n",
       "16  {d4knua1, d1w5sa1, d1bs0a_, d1nxca_, d1dlja2, ...          4583   \n",
       "17  {d4knua1, d1w5sa1, d1bs0a_, d2gq1a_, d1nxca_, ...          4737   \n",
       "18  {d1k4ta2, d4au0a_, d3nx3a_, d3b6ha1, d3sk7a1, ...          4818   \n",
       "19  {d1k4ta2, d1gv0a2, d4au0a_, d3nx3a_, d3b6ha1, ...          4845   \n",
       "20  {d1k4ta2, d1gv0a2, d4au0a_, d3nx3a_, d3b6ha1, ...          4850   \n",
       "21  {d3hg0c1, d2scua2, d2h9gr3, d5k3ga1, d1k4ta2, ...          4881   \n",
       "\n",
       "                                        scop_families  \n",
       "0   {a.139.1.1, b.47.1.2, c.124.1.3, b.40.4.12, b....  \n",
       "1   {a.139.1.1, b.47.1.2, c.124.1.3, b.40.4.12, b....  \n",
       "2   {a.139.1.1, b.47.1.2, c.124.1.3, b.40.4.12, b....  \n",
       "3   {a.139.1.1, b.47.1.2, c.124.1.3, b.40.4.12, b....  \n",
       "4   {a.139.1.1, b.47.1.2, c.124.1.3, b.40.4.12, b....  \n",
       "5   {a.139.1.1, b.47.1.2, c.124.1.3, b.40.4.12, b....  \n",
       "6   {a.139.1.1, b.47.1.2, c.124.1.3, b.40.4.12, b....  \n",
       "7   {a.139.1.1, b.47.1.2, c.124.1.3, b.40.4.12, b....  \n",
       "8   {a.139.1.1, b.47.1.2, c.124.1.3, b.40.4.12, b....  \n",
       "9   {a.139.1.1, b.47.1.2, c.124.1.3, b.40.4.12, b....  \n",
       "10  {a.139.1.1, b.47.1.2, c.124.1.3, b.40.4.12, b....  \n",
       "11  {b.47.1.2, c.124.1.3, b.40.4.12, b.106.1.2, f....  \n",
       "12  {b.47.1.2, c.124.1.3, b.40.4.12, b.106.1.2, f....  \n",
       "13  {b.47.1.2, c.124.1.3, b.40.4.12, b.106.1.2, f....  \n",
       "14  {b.47.1.2, c.124.1.3, b.40.4.12, b.106.1.2, f....  \n",
       "15  {b.47.1.2, c.124.1.3, b.40.4.12, b.106.1.2, f....  \n",
       "16  {a.139.1.1, b.47.1.2, c.124.1.3, b.40.4.12, b....  \n",
       "17  {a.139.1.1, b.47.1.2, c.124.1.3, b.40.4.12, b....  \n",
       "18  {a.139.1.1, b.47.1.2, c.124.1.3, b.40.4.12, b....  \n",
       "19  {a.139.1.1, b.47.1.2, c.124.1.3, b.40.4.12, b....  \n",
       "20  {a.139.1.1, b.47.1.2, c.124.1.3, b.40.4.12, b....  \n",
       "21  {a.139.1.1, b.47.1.2, c.124.1.3, b.44.2.0, b.4...  "
      ]
     },
     "execution_count": 81,
     "metadata": {},
     "output_type": "execute_result"
    }
   ],
   "source": [
    "columns = [\n",
    "    'scop_version', 'seq_identity_cutoff', \n",
    "    'num_domains', 'num_unique_domains', 'scop_domains',\n",
    "    'num_families', 'scop_families'\n",
    "]\n",
    "\n",
    "scop_stats = pd.DataFrame(\n",
    "    data=[\n",
    "        (scop_version, seq_identity_cutoff, \n",
    "         len(df), len(set(df['scop_id'])), set(df['scop_id']),\n",
    "         len(set(df['scop_family'])), set(df['scop_family']), \n",
    "        )\n",
    "         for scop_version in ['1.75', '2.07']\n",
    "         for seq_identity_cutoff in [10, 20, 25, 30, 35, 40, 50, 70, 90, 95, 100]\n",
    "         for df in [scop_dfs[(scop_version, seq_identity_cutoff)]]\n",
    "    ],\n",
    "    columns=columns,\n",
    ")\n",
    "assert (scop_stats['num_domains'] == scop_stats['num_unique_domains']).all()\n",
    "del scop_stats['num_unique_domains']\n",
    "scop_stats"
   ]
  },
  {
   "cell_type": "code",
   "execution_count": 82,
   "metadata": {
    "collapsed": true
   },
   "outputs": [],
   "source": [
    "for (version, sic), df in scop_dfs.items():\n",
    "    filepath = NOTEBOOK_PATH.joinpath(f\"scop-astral-{version}-{sic}.parquet\")\n",
    "    if schema is None:\n",
    "        table = pa.Table.from_pandas(df, preserve_index=False)\n",
    "        for column_name in ['pdb_domain_start', 'pdb_domain_end']:\n",
    "            idx = table.schema.get_field_index(column_name)\n",
    "            column = table.column(idx).cast(pa.int32())\n",
    "            table = table.remove_column(idx).add_column(idx, column)\n",
    "        schema = table.schema\n",
    "    else:\n",
    "        table = pa.Table.from_pandas(df, schema=schema, preserve_index=False)\n",
    "    pq.write_table(pa.Table.from_pandas(df), filepath, flavor='spark')"
   ]
  },
  {
   "cell_type": "markdown",
   "metadata": {},
   "source": [
    "## Summary"
   ]
  },
  {
   "cell_type": "code",
   "execution_count": 83,
   "metadata": {
    "code_folding": [
     0
    ],
    "collapsed": true
   },
   "outputs": [],
   "source": [
    "# overlap_scop_df\n",
    "overlap_scop_df = (\n",
    "    scop_stats[scop_stats['scop_version'] == '1.75']\n",
    "    .merge(scop_stats[scop_stats['scop_version'] == '2.07'], on='seq_identity_cutoff', suffixes=('_1', '_2'))\n",
    ")\n",
    "\n",
    "overlap_scop_df['num_domains'] = (\n",
    "    overlap_scop_df.apply(lambda r: len(r['scop_domains_1'] & r['scop_domains_2']), axis=1)\n",
    ")\n",
    "\n",
    "overlap_scop_df['num_families'] = (\n",
    "    overlap_scop_df.apply(lambda r: len(r['scop_families_1'] & r['scop_families_2']), axis=1)\n",
    ")\n",
    "\n",
    "overlap_scop_df['scop_version'] = 'Overlap 1.75 & 2.07'"
   ]
  },
  {
   "cell_type": "code",
   "execution_count": 84,
   "metadata": {
    "code_folding": [
     0
    ],
    "collapsed": true
   },
   "outputs": [],
   "source": [
    "# overlap_all_df\n",
    "overlap_all_df = (\n",
    "    scop_stats[scop_stats['scop_version'] == '1.75']\n",
    "    .merge(scop_stats[scop_stats['scop_version'] == '2.07'], on='seq_identity_cutoff', suffixes=('_1', '_2'))\n",
    "    .merge(hhsuite_stats[hhsuite_stats['scop_version'] == '01Mar17'], on='seq_identity_cutoff')\n",
    ")\n",
    "\n",
    "overlap_all_df['num_domains'] = (\n",
    "    overlap_all_df.apply(lambda r: len(r['scop_domains_2'] & r['scop_domains']), axis=1)\n",
    ")\n",
    "\n",
    "overlap_all_df['num_families'] = (\n",
    "    overlap_all_df.apply(lambda r: len(r['scop_families_2'] & r['scop_families']), axis=1)\n",
    ")\n",
    "\n",
    "overlap_all_df['scop_version'] = 'Overlap 2.07 & 01Mar17'"
   ]
  },
  {
   "cell_type": "code",
   "execution_count": 85,
   "metadata": {
    "collapsed": true
   },
   "outputs": [],
   "source": [
    "plot_df = pd.concat([\n",
    "    scop_stats[['scop_version', 'seq_identity_cutoff', 'num_domains', 'num_families']],\n",
    "    overlap_scop_df[['scop_version', 'seq_identity_cutoff', 'num_domains', 'num_families']],\n",
    "    hhsuite_stats[['scop_version', 'seq_identity_cutoff', 'num_domains', 'num_families']],\n",
    "    overlap_all_df[['scop_version', 'seq_identity_cutoff', 'num_domains', 'num_families']],\n",
    "])"
   ]
  },
  {
   "cell_type": "code",
   "execution_count": 132,
   "metadata": {},
   "outputs": [
    {
     "data": {
      "image/png": "[encoded data removed]",
      "text/plain": [
       "<matplotlib.figure.Figure at 0x7f29e21166d8>"
      ]
     },
     "metadata": {},
     "output_type": "display_data"
    }
   ],
   "source": [
    "with plt.rc_context({'figure.figsize': (12, 6), 'legend.loc': 'upper left', 'savefig.bbox': 'tight'}):\n",
    "    ax = sns.barplot(x=\"seq_identity_cutoff\", y=\"num_domains\", hue=\"scop_version\", data=plot_df)\n",
    "    plt.legend()\n",
    "    plt.savefig(NOTEBOOK_PATH.joinpath('scop_num_domains.png').as_posix(), dpi=300)"
   ]
  },
  {
   "cell_type": "code",
   "execution_count": 130,
   "metadata": {},
   "outputs": [
    {
     "data": {
      "image/png": "[encoded data removed]",
      "text/plain": [
       "<matplotlib.figure.Figure at 0x7f29e2a81c88>"
      ]
     },
     "metadata": {},
     "output_type": "display_data"
    }
   ],
   "source": [
    "with plt.rc_context({'figure.figsize': (12, 6), 'legend.loc': 'upper left', 'savefig.bbox': 'tight'}):\n",
    "    ax = sns.barplot(x=\"seq_identity_cutoff\", y=\"num_families\", hue=\"scop_version\", data=plot_df)\n",
    "    plt.ylim(0, 6100)\n",
    "    plt.legend()\n",
    "    plt.savefig(NOTEBOOK_PATH.joinpath('scop_num_families.png').as_posix(), dpi=300)"
   ]
  },
  {
   "cell_type": "markdown",
   "metadata": {},
   "source": [
    "# Map to training / validation / test datasets"
   ]
  },
  {
   "cell_type": "markdown",
   "metadata": {},
   "source": [
    "### `scop-hhsuite-01Mar17-40.parquet`"
   ]
  },
  {
   "cell_type": "code",
   "execution_count": 88,
   "metadata": {
    "collapsed": true
   },
   "outputs": [],
   "source": [
    "ds = spark.sql(f\"\"\"\\\n",
    "select *\n",
    "from parquet.`{NOTEBOOK_PATH}/scop-hhsuite-01Mar17-40.parquet` s\n",
    "limit 10\n",
    "\"\"\")"
   ]
  },
  {
   "cell_type": "code",
   "execution_count": 89,
   "metadata": {
    "collapsed": true
   },
   "outputs": [],
   "source": [
    "df = ds.toPandas()"
   ]
  },
  {
   "cell_type": "code",
   "execution_count": 90,
   "metadata": {},
   "outputs": [
    {
     "data": {
      "text/html": [
       "<div>\n",
       "<style scoped>\n",
       "    .dataframe tbody tr th:only-of-type {\n",
       "        vertical-align: middle;\n",
       "    }\n",
       "\n",
       "    .dataframe tbody tr th {\n",
       "        vertical-align: top;\n",
       "    }\n",
       "\n",
       "    .dataframe thead th {\n",
       "        text-align: right;\n",
       "    }\n",
       "</style>\n",
       "<table border=\"1\" class=\"dataframe\">\n",
       "  <thead>\n",
       "    <tr style=\"text-align: right;\">\n",
       "      <th></th>\n",
       "      <th>organism_name</th>\n",
       "      <th>pdb_chain</th>\n",
       "      <th>pdb_domain_end</th>\n",
       "      <th>pdb_domain_range</th>\n",
       "      <th>pdb_domain_start</th>\n",
       "      <th>pdb_id</th>\n",
       "      <th>protein_name</th>\n",
       "      <th>scop_family</th>\n",
       "      <th>scop_id</th>\n",
       "      <th>scop_version</th>\n",
       "      <th>seq_identity_cutoff</th>\n",
       "      <th>__index_level_0__</th>\n",
       "    </tr>\n",
       "  </thead>\n",
       "  <tbody>\n",
       "    <tr>\n",
       "      <th>0</th>\n",
       "      <td>Escherichia coli K-12 [TaxId: 83333]</td>\n",
       "      <td>A</td>\n",
       "      <td>251.0</td>\n",
       "      <td>232-251</td>\n",
       "      <td>232.0</td>\n",
       "      <td>4AA7</td>\n",
       "      <td>automated matches</td>\n",
       "      <td>c.68.1.0</td>\n",
       "      <td>d4aa7a1</td>\n",
       "      <td>01Mar17</td>\n",
       "      <td>40</td>\n",
       "      <td>0</td>\n",
       "    </tr>\n",
       "    <tr>\n",
       "      <th>1</th>\n",
       "      <td>Mouse mammary tumor virus [TaxId: 11757]</td>\n",
       "      <td>A</td>\n",
       "      <td>NaN</td>\n",
       "      <td></td>\n",
       "      <td>NaN</td>\n",
       "      <td>1DSQ</td>\n",
       "      <td>Nucleic acid binding protein p14</td>\n",
       "      <td>g.40.1.1</td>\n",
       "      <td>d1dsqa_</td>\n",
       "      <td>01Mar17</td>\n",
       "      <td>40</td>\n",
       "      <td>1</td>\n",
       "    </tr>\n",
       "  </tbody>\n",
       "</table>\n",
       "</div>"
      ],
      "text/plain": [
       "                              organism_name pdb_chain  pdb_domain_end  \\\n",
       "0      Escherichia coli K-12 [TaxId: 83333]         A           251.0   \n",
       "1  Mouse mammary tumor virus [TaxId: 11757]         A             NaN   \n",
       "\n",
       "  pdb_domain_range  pdb_domain_start pdb_id                      protein_name  \\\n",
       "0          232-251             232.0   4AA7                 automated matches   \n",
       "1                                NaN   1DSQ  Nucleic acid binding protein p14   \n",
       "\n",
       "  scop_family  scop_id scop_version  seq_identity_cutoff  __index_level_0__  \n",
       "0    c.68.1.0  d4aa7a1      01Mar17                   40                  0  \n",
       "1    g.40.1.1  d1dsqa_      01Mar17                   40                  1  "
      ]
     },
     "execution_count": 90,
     "metadata": {},
     "output_type": "execute_result"
    }
   ],
   "source": [
    "df.head(2)"
   ]
  },
  {
   "cell_type": "code",
   "execution_count": 133,
   "metadata": {},
   "outputs": [
    {
     "data": {
      "text/plain": [
       "dict_keys([('01Mar17', 40), ('01Mar17', 70), ('01Mar17', 90), ('01Mar17', 95)])"
      ]
     },
     "execution_count": 133,
     "metadata": {},
     "output_type": "execute_result"
    }
   ],
   "source": [
    "hhsuite_dfs.keys()"
   ]
  },
  {
   "cell_type": "code",
   "execution_count": 135,
   "metadata": {},
   "outputs": [
    {
     "data": {
      "text/plain": [
       "(2844, 11)"
      ]
     },
     "execution_count": 135,
     "metadata": {},
     "output_type": "execute_result"
    }
   ],
   "source": [
    "hhsuite_dfs[('01Mar17', 40)].shape"
   ]
  },
  {
   "cell_type": "markdown",
   "metadata": {},
   "source": [
    "### `adjacency_matrix.parquet`\n",
    "\n",
    "#### Notes:\n",
    "\n",
    "- 290,384 domains in in `adjacency_matrix.parquet` map to a PDB chain with 100% sequence identity."
   ]
  },
  {
   "cell_type": "code",
   "execution_count": 91,
   "metadata": {
    "collapsed": true
   },
   "outputs": [],
   "source": [
    "ds = spark.sql(f\"\"\"\\\n",
    "select *\n",
    "from parquet.`{DATABIN_PATH}/uniparc_domain/0.1/adjacency_matrix.parquet` am\n",
    "where am.pc_identity = 100\n",
    "limit 10\n",
    "\"\"\")"
   ]
  },
  {
   "cell_type": "code",
   "execution_count": 92,
   "metadata": {
    "collapsed": true
   },
   "outputs": [],
   "source": [
    "df = ds.toPandas()"
   ]
  },
  {
   "cell_type": "code",
   "execution_count": 93,
   "metadata": {},
   "outputs": [
    {
     "data": {
      "text/html": [
       "<div>\n",
       "<style scoped>\n",
       "    .dataframe tbody tr th:only-of-type {\n",
       "        vertical-align: middle;\n",
       "    }\n",
       "\n",
       "    .dataframe tbody tr th {\n",
       "        vertical-align: top;\n",
       "    }\n",
       "\n",
       "    .dataframe thead th {\n",
       "        text-align: right;\n",
       "    }\n",
       "</style>\n",
       "<table border=\"1\" class=\"dataframe\">\n",
       "  <thead>\n",
       "    <tr style=\"text-align: right;\">\n",
       "      <th></th>\n",
       "      <th>uniparc_id</th>\n",
       "      <th>sequence</th>\n",
       "      <th>database</th>\n",
       "      <th>interpro_name</th>\n",
       "      <th>interpro_id</th>\n",
       "      <th>domain_start</th>\n",
       "      <th>domain_end</th>\n",
       "      <th>__index_level_0__</th>\n",
       "      <th>domain_length</th>\n",
       "      <th>structure_id</th>\n",
       "      <th>model_id</th>\n",
       "      <th>chain_id</th>\n",
       "      <th>pc_identity</th>\n",
       "      <th>alignment_length</th>\n",
       "      <th>mismatches</th>\n",
       "      <th>gap_opens</th>\n",
       "      <th>q_start</th>\n",
       "      <th>q_end</th>\n",
       "      <th>s_start</th>\n",
       "      <th>s_end</th>\n",
       "      <th>evalue_log10</th>\n",
       "      <th>bitscore</th>\n",
       "      <th>qseq</th>\n",
       "      <th>sseq</th>\n",
       "      <th>a2b</th>\n",
       "      <th>b2a</th>\n",
       "      <th>residue_idx_1</th>\n",
       "      <th>residue_idx_2</th>\n",
       "      <th>residue_id_1</th>\n",
       "      <th>residue_id_2</th>\n",
       "      <th>residue_aa_1</th>\n",
       "      <th>residue_aa_2</th>\n",
       "      <th>residue_idx_1_corrected</th>\n",
       "      <th>residue_idx_2_corrected</th>\n",
       "      <th>database_id</th>\n",
       "    </tr>\n",
       "  </thead>\n",
       "  <tbody>\n",
       "    <tr>\n",
       "      <th>0</th>\n",
       "      <td>UPI00098639D7</td>\n",
       "      <td>AAIAYGADEVDVVFPYRALMAGNEQVGFDLVKACKEACAAANVLLK...</td>\n",
       "      <td>Gene3D</td>\n",
       "      <td>Aldolase-type TIM barrel</td>\n",
       "      <td>IPR013785</td>\n",
       "      <td>1</td>\n",
       "      <td>161</td>\n",
       "      <td>123950722</td>\n",
       "      <td>161</td>\n",
       "      <td>1JCL</td>\n",
       "      <td>0.0</td>\n",
       "      <td>A</td>\n",
       "      <td>100.0</td>\n",
       "      <td>160.0</td>\n",
       "      <td>0.0</td>\n",
       "      <td>0.0</td>\n",
       "      <td>1.0</td>\n",
       "      <td>160.0</td>\n",
       "      <td>93.0</td>\n",
       "      <td>252.0</td>\n",
       "      <td>-110.522879</td>\n",
       "      <td>322.0</td>\n",
       "      <td>AAIAYGADEVDVVFPYRALMAGNEQVGFDLVKACKEACAAANVLLK...</td>\n",
       "      <td>AAIAYGADEVDVVFPYRALMAGNEQVGFDLVKACKEACAAANVLLK...</td>\n",
       "      <td>[1.0, 2.0, 3.0, 4.0, 5.0, 6.0, 7.0, 8.0, 9.0, ...</td>\n",
       "      <td>[1.0, 2.0, 3.0, 4.0, 5.0, 6.0, 7.0, 8.0, 9.0, ...</td>\n",
       "      <td>[92.0, 92.0, 92.0, 92.0, 93.0, 93.0, 93.0, 93....</td>\n",
       "      <td>[93.0, 94.0, 95.0, 96.0, 92.0, 94.0, 95.0, 96....</td>\n",
       "      <td>[93.0, 93.0, 93.0, 93.0, 94.0, 94.0, 94.0, 94....</td>\n",
       "      <td>[94.0, 95.0, 96.0, 97.0, 93.0, 95.0, 96.0, 97....</td>\n",
       "      <td>[A, A, A, A, A, A, A, A, A, A, A, I, I, I, I, ...</td>\n",
       "      <td>[A, I, A, Y, A, I, A, Y, G, A, V, A, A, A, Y, ...</td>\n",
       "      <td>[0.0, 0.0, 0.0, 0.0, 1.0, 1.0, 1.0, 1.0, 1.0, ...</td>\n",
       "      <td>[1.0, 2.0, 3.0, 4.0, 0.0, 2.0, 3.0, 4.0, 5.0, ...</td>\n",
       "      <td>G3DSA:3.20.20.70</td>\n",
       "    </tr>\n",
       "    <tr>\n",
       "      <th>1</th>\n",
       "      <td>UPI0003D5BA9E</td>\n",
       "      <td>ADFGQEVADKVRVQYGGSVKPENVASYMACPDVDGALVGGASLEAE...</td>\n",
       "      <td>Gene3D</td>\n",
       "      <td>Aldolase-type TIM barrel</td>\n",
       "      <td>IPR013785</td>\n",
       "      <td>1</td>\n",
       "      <td>56</td>\n",
       "      <td>284687258</td>\n",
       "      <td>56</td>\n",
       "      <td>5IBX</td>\n",
       "      <td>0.0</td>\n",
       "      <td>A</td>\n",
       "      <td>100.0</td>\n",
       "      <td>55.0</td>\n",
       "      <td>0.0</td>\n",
       "      <td>0.0</td>\n",
       "      <td>1.0</td>\n",
       "      <td>55.0</td>\n",
       "      <td>196.0</td>\n",
       "      <td>250.0</td>\n",
       "      <td>-31.000000</td>\n",
       "      <td>112.0</td>\n",
       "      <td>ADFGQEVADKVRVQYGGSVKPENVASYMACPDVDGALVGGASLEAE...</td>\n",
       "      <td>ADFGQEVADKVRVQYGGSVKPENVASYMACPDVDGALVGGASLEAE...</td>\n",
       "      <td>[1.0, 2.0, 3.0, 4.0, 5.0, 6.0, 7.0, 8.0, 9.0, ...</td>\n",
       "      <td>[1.0, 2.0, 3.0, 4.0, 5.0, 6.0, 7.0, 8.0, 9.0, ...</td>\n",
       "      <td>[195.0, 195.0, 195.0, 196.0, 196.0, 196.0, 197...</td>\n",
       "      <td>[196.0, 197.0, 198.0, 195.0, 197.0, 198.0, 195...</td>\n",
       "      <td>[200.0, 200.0, 200.0, 201.0, 201.0, 201.0, 202...</td>\n",
       "      <td>[201.0, 202.0, 203.0, 200.0, 202.0, 203.0, 200...</td>\n",
       "      <td>[A, A, A, D, D, D, F, F, F, F, F, G, G, G, G, ...</td>\n",
       "      <td>[D, F, G, A, F, G, A, D, G, Q, V, A, D, F, Q, ...</td>\n",
       "      <td>[0.0, 0.0, 0.0, 1.0, 1.0, 1.0, 2.0, 2.0, 2.0, ...</td>\n",
       "      <td>[1.0, 2.0, 3.0, 0.0, 2.0, 3.0, 0.0, 1.0, 3.0, ...</td>\n",
       "      <td>G3DSA:3.20.20.70</td>\n",
       "    </tr>\n",
       "  </tbody>\n",
       "</table>\n",
       "</div>"
      ],
      "text/plain": [
       "      uniparc_id                                           sequence database  \\\n",
       "0  UPI00098639D7  AAIAYGADEVDVVFPYRALMAGNEQVGFDLVKACKEACAAANVLLK...   Gene3D   \n",
       "1  UPI0003D5BA9E  ADFGQEVADKVRVQYGGSVKPENVASYMACPDVDGALVGGASLEAE...   Gene3D   \n",
       "\n",
       "              interpro_name interpro_id  domain_start  domain_end  \\\n",
       "0  Aldolase-type TIM barrel   IPR013785             1         161   \n",
       "1  Aldolase-type TIM barrel   IPR013785             1          56   \n",
       "\n",
       "   __index_level_0__  domain_length structure_id  model_id chain_id  \\\n",
       "0          123950722            161         1JCL       0.0        A   \n",
       "1          284687258             56         5IBX       0.0        A   \n",
       "\n",
       "   pc_identity  alignment_length  mismatches  gap_opens  q_start  q_end  \\\n",
       "0        100.0             160.0         0.0        0.0      1.0  160.0   \n",
       "1        100.0              55.0         0.0        0.0      1.0   55.0   \n",
       "\n",
       "   s_start  s_end  evalue_log10  bitscore  \\\n",
       "0     93.0  252.0   -110.522879     322.0   \n",
       "1    196.0  250.0    -31.000000     112.0   \n",
       "\n",
       "                                                qseq  \\\n",
       "0  AAIAYGADEVDVVFPYRALMAGNEQVGFDLVKACKEACAAANVLLK...   \n",
       "1  ADFGQEVADKVRVQYGGSVKPENVASYMACPDVDGALVGGASLEAE...   \n",
       "\n",
       "                                                sseq  \\\n",
       "0  AAIAYGADEVDVVFPYRALMAGNEQVGFDLVKACKEACAAANVLLK...   \n",
       "1  ADFGQEVADKVRVQYGGSVKPENVASYMACPDVDGALVGGASLEAE...   \n",
       "\n",
       "                                                 a2b  \\\n",
       "0  [1.0, 2.0, 3.0, 4.0, 5.0, 6.0, 7.0, 8.0, 9.0, ...   \n",
       "1  [1.0, 2.0, 3.0, 4.0, 5.0, 6.0, 7.0, 8.0, 9.0, ...   \n",
       "\n",
       "                                                 b2a  \\\n",
       "0  [1.0, 2.0, 3.0, 4.0, 5.0, 6.0, 7.0, 8.0, 9.0, ...   \n",
       "1  [1.0, 2.0, 3.0, 4.0, 5.0, 6.0, 7.0, 8.0, 9.0, ...   \n",
       "\n",
       "                                       residue_idx_1  \\\n",
       "0  [92.0, 92.0, 92.0, 92.0, 93.0, 93.0, 93.0, 93....   \n",
       "1  [195.0, 195.0, 195.0, 196.0, 196.0, 196.0, 197...   \n",
       "\n",
       "                                       residue_idx_2  \\\n",
       "0  [93.0, 94.0, 95.0, 96.0, 92.0, 94.0, 95.0, 96....   \n",
       "1  [196.0, 197.0, 198.0, 195.0, 197.0, 198.0, 195...   \n",
       "\n",
       "                                        residue_id_1  \\\n",
       "0  [93.0, 93.0, 93.0, 93.0, 94.0, 94.0, 94.0, 94....   \n",
       "1  [200.0, 200.0, 200.0, 201.0, 201.0, 201.0, 202...   \n",
       "\n",
       "                                        residue_id_2  \\\n",
       "0  [94.0, 95.0, 96.0, 97.0, 93.0, 95.0, 96.0, 97....   \n",
       "1  [201.0, 202.0, 203.0, 200.0, 202.0, 203.0, 200...   \n",
       "\n",
       "                                        residue_aa_1  \\\n",
       "0  [A, A, A, A, A, A, A, A, A, A, A, I, I, I, I, ...   \n",
       "1  [A, A, A, D, D, D, F, F, F, F, F, G, G, G, G, ...   \n",
       "\n",
       "                                        residue_aa_2  \\\n",
       "0  [A, I, A, Y, A, I, A, Y, G, A, V, A, A, A, Y, ...   \n",
       "1  [D, F, G, A, F, G, A, D, G, Q, V, A, D, F, Q, ...   \n",
       "\n",
       "                             residue_idx_1_corrected  \\\n",
       "0  [0.0, 0.0, 0.0, 0.0, 1.0, 1.0, 1.0, 1.0, 1.0, ...   \n",
       "1  [0.0, 0.0, 0.0, 1.0, 1.0, 1.0, 2.0, 2.0, 2.0, ...   \n",
       "\n",
       "                             residue_idx_2_corrected       database_id  \n",
       "0  [1.0, 2.0, 3.0, 4.0, 0.0, 2.0, 3.0, 4.0, 5.0, ...  G3DSA:3.20.20.70  \n",
       "1  [1.0, 2.0, 3.0, 0.0, 2.0, 3.0, 0.0, 1.0, 3.0, ...  G3DSA:3.20.20.70  "
      ]
     },
     "execution_count": 93,
     "metadata": {},
     "output_type": "execute_result"
    }
   ],
   "source": [
    "df.head(2)"
   ]
  },
  {
   "cell_type": "markdown",
   "metadata": {},
   "source": [
    "### `scop` + `uniparc_domain`"
   ]
  },
  {
   "cell_type": "code",
   "execution_count": 137,
   "metadata": {
    "collapsed": true
   },
   "outputs": [],
   "source": [
    "ds = spark.sql(f\"\"\"\\\n",
    "SELECT\n",
    "-- scop columns\n",
    "s.scop_id, s.scop_family, s.pdb_id, s.pdb_chain, s.pdb_domain_start, s.pdb_domain_end,\n",
    "\n",
    "-- adjacency_matrix columns\n",
    "am.__index_level_0__ adjacency_matrix_idx, am.uniparc_id, am.database_id cath_id, \n",
    "am.alignment_length, am.q_start, am.q_end, am.s_start, am.s_end, am.qseq, am.sseq\n",
    "\n",
    "from parquet.`{NOTEBOOK_PATH}/scop-hhsuite-01Mar17-40.parquet` s\n",
    "join parquet.`{DATABIN_PATH}/uniparc_domain/0.1/adjacency_matrix.parquet` am ON (\n",
    "    s.pdb_id = am.structure_id and s.pdb_chain = am.chain_id)\n",
    "\n",
    "where am.pc_identity = 100\n",
    "and (s.pdb_domain_start is null\n",
    "    or (least(s.pdb_domain_end - s.pdb_domain_start, am.s_end - am.s_start) /\n",
    "        (greatest(s.pdb_domain_end, am.s_end) - least(s.pdb_domain_start, am.s_start))) > 0.9 )\n",
    "\"\"\")"
   ]
  },
  {
   "cell_type": "code",
   "execution_count": 138,
   "metadata": {
    "collapsed": true
   },
   "outputs": [],
   "source": [
    "out = (\n",
    "    ds\n",
    "    .write\n",
    "    .format(\"parquet\")\n",
    "    .mode(\"overwrite\")\n",
    "    .save(NOTEBOOK_PATH.joinpath('scop-hhsuite-adjacency_matrix.parquet').as_posix())\n",
    ")"
   ]
  },
  {
   "cell_type": "markdown",
   "metadata": {},
   "source": [
    "### `scop` + `uniparc`"
   ]
  },
  {
   "cell_type": "code",
   "execution_count": 97,
   "metadata": {
    "collapsed": true
   },
   "outputs": [],
   "source": [
    "ds = spark.sql(f\"\"\"\\\n",
    "select *\n",
    "from parquet.`{NOTEBOOK_PATH}/scop-hhsuite-01Mar17-40.parquet` s\n",
    "join parquet.`{DATABIN_PATH}/uniparc_domain/0.1/adjacency_matrix.parquet` am ON (\n",
    "    s.pdb_id = am.structure_id and s.pdb_chain = am.chain_id)\n",
    "where am.pc_identity = 100\n",
    "limit 10\n",
    "\"\"\")"
   ]
  },
  {
   "cell_type": "code",
   "execution_count": 98,
   "metadata": {
    "collapsed": true
   },
   "outputs": [],
   "source": [
    "df = ds.toPandas()"
   ]
  },
  {
   "cell_type": "code",
   "execution_count": 99,
   "metadata": {
    "scrolled": true
   },
   "outputs": [
    {
     "data": {
      "text/html": [
       "<div>\n",
       "<style scoped>\n",
       "    .dataframe tbody tr th:only-of-type {\n",
       "        vertical-align: middle;\n",
       "    }\n",
       "\n",
       "    .dataframe tbody tr th {\n",
       "        vertical-align: top;\n",
       "    }\n",
       "\n",
       "    .dataframe thead th {\n",
       "        text-align: right;\n",
       "    }\n",
       "</style>\n",
       "<table border=\"1\" class=\"dataframe\">\n",
       "  <thead>\n",
       "    <tr style=\"text-align: right;\">\n",
       "      <th></th>\n",
       "      <th>organism_name</th>\n",
       "      <th>pdb_chain</th>\n",
       "      <th>pdb_domain_end</th>\n",
       "      <th>pdb_domain_range</th>\n",
       "      <th>pdb_domain_start</th>\n",
       "      <th>pdb_id</th>\n",
       "      <th>protein_name</th>\n",
       "      <th>scop_family</th>\n",
       "      <th>scop_id</th>\n",
       "      <th>scop_version</th>\n",
       "      <th>seq_identity_cutoff</th>\n",
       "      <th>__index_level_0__</th>\n",
       "      <th>uniparc_id</th>\n",
       "      <th>sequence</th>\n",
       "      <th>database</th>\n",
       "      <th>interpro_name</th>\n",
       "      <th>interpro_id</th>\n",
       "      <th>domain_start</th>\n",
       "      <th>domain_end</th>\n",
       "      <th>__index_level_0__</th>\n",
       "      <th>domain_length</th>\n",
       "      <th>structure_id</th>\n",
       "      <th>model_id</th>\n",
       "      <th>chain_id</th>\n",
       "      <th>pc_identity</th>\n",
       "      <th>alignment_length</th>\n",
       "      <th>mismatches</th>\n",
       "      <th>gap_opens</th>\n",
       "      <th>q_start</th>\n",
       "      <th>q_end</th>\n",
       "      <th>s_start</th>\n",
       "      <th>s_end</th>\n",
       "      <th>evalue_log10</th>\n",
       "      <th>bitscore</th>\n",
       "      <th>qseq</th>\n",
       "      <th>sseq</th>\n",
       "      <th>a2b</th>\n",
       "      <th>b2a</th>\n",
       "      <th>residue_idx_1</th>\n",
       "      <th>residue_idx_2</th>\n",
       "      <th>residue_id_1</th>\n",
       "      <th>residue_id_2</th>\n",
       "      <th>residue_aa_1</th>\n",
       "      <th>residue_aa_2</th>\n",
       "      <th>residue_idx_1_corrected</th>\n",
       "      <th>residue_idx_2_corrected</th>\n",
       "      <th>database_id</th>\n",
       "    </tr>\n",
       "  </thead>\n",
       "  <tbody>\n",
       "    <tr>\n",
       "      <th>0</th>\n",
       "      <td>Escherichia coli [TaxId: 562]</td>\n",
       "      <td>A</td>\n",
       "      <td>330.0</td>\n",
       "      <td>1-330</td>\n",
       "      <td>1.0</td>\n",
       "      <td>1PS9</td>\n",
       "      <td>2,4-dienoyl-CoA reductase, N-terminal domain</td>\n",
       "      <td>c.1.4.1</td>\n",
       "      <td>d1ps9a1</td>\n",
       "      <td>01Mar17</td>\n",
       "      <td>40</td>\n",
       "      <td>2699</td>\n",
       "      <td>UPI000AAD51D5</td>\n",
       "      <td>ILSRGDADMVSMARPFLADAELLSKAQSGRADEINTCIGCNQACLD...</td>\n",
       "      <td>Gene3D</td>\n",
       "      <td>Aldolase-type TIM barrel</td>\n",
       "      <td>IPR013785</td>\n",
       "      <td>1</td>\n",
       "      <td>71</td>\n",
       "      <td>251502347</td>\n",
       "      <td>71</td>\n",
       "      <td>1PS9</td>\n",
       "      <td>0.0</td>\n",
       "      <td>A</td>\n",
       "      <td>100.0</td>\n",
       "      <td>71.0</td>\n",
       "      <td>0.0</td>\n",
       "      <td>0.0</td>\n",
       "      <td>1.0</td>\n",
       "      <td>71.0</td>\n",
       "      <td>298.0</td>\n",
       "      <td>368.0</td>\n",
       "      <td>-44.30103</td>\n",
       "      <td>154.0</td>\n",
       "      <td>ILSRGDADMVSMARPFLADAELLSKAQSGRADEINTCIGCNQACLD...</td>\n",
       "      <td>ILSRGDADMVSMARPFLADAELLSKAQSGRADEINTCIGCNQACLD...</td>\n",
       "      <td>[1.0, 2.0, 3.0, 4.0, 5.0, 6.0, 7.0, 8.0, 9.0, ...</td>\n",
       "      <td>[1.0, 2.0, 3.0, 4.0, 5.0, 6.0, 7.0, 8.0, 9.0, ...</td>\n",
       "      <td>[297.0, 297.0, 297.0, 297.0, 297.0, 297.0, 297...</td>\n",
       "      <td>[298.0, 299.0, 300.0, 301.0, 302.0, 303.0, 306...</td>\n",
       "      <td>[298.0, 298.0, 298.0, 298.0, 298.0, 298.0, 298...</td>\n",
       "      <td>[299.0, 300.0, 301.0, 302.0, 303.0, 304.0, 307...</td>\n",
       "      <td>[I, I, I, I, I, I, I, L, L, L, L, L, L, L, L, ...</td>\n",
       "      <td>[L, S, R, G, D, A, V, I, S, R, G, D, A, D, M, ...</td>\n",
       "      <td>[0.0, 0.0, 0.0, 0.0, 0.0, 0.0, 0.0, 1.0, 1.0, ...</td>\n",
       "      <td>[1.0, 2.0, 3.0, 4.0, 5.0, 6.0, 9.0, 0.0, 2.0, ...</td>\n",
       "      <td>G3DSA:3.20.20.70</td>\n",
       "    </tr>\n",
       "    <tr>\n",
       "      <th>1</th>\n",
       "      <td>Escherichia coli [TaxId: 562]</td>\n",
       "      <td>A</td>\n",
       "      <td>627.0</td>\n",
       "      <td>466-627</td>\n",
       "      <td>466.0</td>\n",
       "      <td>1PS9</td>\n",
       "      <td>2,4-dienoyl-CoA reductase, C-terminal domain</td>\n",
       "      <td>c.3.1.1</td>\n",
       "      <td>d1ps9a2</td>\n",
       "      <td>01Mar17</td>\n",
       "      <td>40</td>\n",
       "      <td>2086</td>\n",
       "      <td>UPI000AAD51D5</td>\n",
       "      <td>ILSRGDADMVSMARPFLADAELLSKAQSGRADEINTCIGCNQACLD...</td>\n",
       "      <td>Gene3D</td>\n",
       "      <td>Aldolase-type TIM barrel</td>\n",
       "      <td>IPR013785</td>\n",
       "      <td>1</td>\n",
       "      <td>71</td>\n",
       "      <td>251502347</td>\n",
       "      <td>71</td>\n",
       "      <td>1PS9</td>\n",
       "      <td>0.0</td>\n",
       "      <td>A</td>\n",
       "      <td>100.0</td>\n",
       "      <td>71.0</td>\n",
       "      <td>0.0</td>\n",
       "      <td>0.0</td>\n",
       "      <td>1.0</td>\n",
       "      <td>71.0</td>\n",
       "      <td>298.0</td>\n",
       "      <td>368.0</td>\n",
       "      <td>-44.30103</td>\n",
       "      <td>154.0</td>\n",
       "      <td>ILSRGDADMVSMARPFLADAELLSKAQSGRADEINTCIGCNQACLD...</td>\n",
       "      <td>ILSRGDADMVSMARPFLADAELLSKAQSGRADEINTCIGCNQACLD...</td>\n",
       "      <td>[1.0, 2.0, 3.0, 4.0, 5.0, 6.0, 7.0, 8.0, 9.0, ...</td>\n",
       "      <td>[1.0, 2.0, 3.0, 4.0, 5.0, 6.0, 7.0, 8.0, 9.0, ...</td>\n",
       "      <td>[297.0, 297.0, 297.0, 297.0, 297.0, 297.0, 297...</td>\n",
       "      <td>[298.0, 299.0, 300.0, 301.0, 302.0, 303.0, 306...</td>\n",
       "      <td>[298.0, 298.0, 298.0, 298.0, 298.0, 298.0, 298...</td>\n",
       "      <td>[299.0, 300.0, 301.0, 302.0, 303.0, 304.0, 307...</td>\n",
       "      <td>[I, I, I, I, I, I, I, L, L, L, L, L, L, L, L, ...</td>\n",
       "      <td>[L, S, R, G, D, A, V, I, S, R, G, D, A, D, M, ...</td>\n",
       "      <td>[0.0, 0.0, 0.0, 0.0, 0.0, 0.0, 0.0, 1.0, 1.0, ...</td>\n",
       "      <td>[1.0, 2.0, 3.0, 4.0, 5.0, 6.0, 9.0, 0.0, 2.0, ...</td>\n",
       "      <td>G3DSA:3.20.20.70</td>\n",
       "    </tr>\n",
       "  </tbody>\n",
       "</table>\n",
       "</div>"
      ],
      "text/plain": [
       "                   organism_name pdb_chain  pdb_domain_end pdb_domain_range  \\\n",
       "0  Escherichia coli [TaxId: 562]         A           330.0            1-330   \n",
       "1  Escherichia coli [TaxId: 562]         A           627.0          466-627   \n",
       "\n",
       "   pdb_domain_start pdb_id                                  protein_name  \\\n",
       "0               1.0   1PS9  2,4-dienoyl-CoA reductase, N-terminal domain   \n",
       "1             466.0   1PS9  2,4-dienoyl-CoA reductase, C-terminal domain   \n",
       "\n",
       "  scop_family  scop_id scop_version  seq_identity_cutoff  __index_level_0__  \\\n",
       "0     c.1.4.1  d1ps9a1      01Mar17                   40               2699   \n",
       "1     c.3.1.1  d1ps9a2      01Mar17                   40               2086   \n",
       "\n",
       "      uniparc_id                                           sequence database  \\\n",
       "0  UPI000AAD51D5  ILSRGDADMVSMARPFLADAELLSKAQSGRADEINTCIGCNQACLD...   Gene3D   \n",
       "1  UPI000AAD51D5  ILSRGDADMVSMARPFLADAELLSKAQSGRADEINTCIGCNQACLD...   Gene3D   \n",
       "\n",
       "              interpro_name interpro_id  domain_start  domain_end  \\\n",
       "0  Aldolase-type TIM barrel   IPR013785             1          71   \n",
       "1  Aldolase-type TIM barrel   IPR013785             1          71   \n",
       "\n",
       "   __index_level_0__  domain_length structure_id  model_id chain_id  \\\n",
       "0          251502347             71         1PS9       0.0        A   \n",
       "1          251502347             71         1PS9       0.0        A   \n",
       "\n",
       "   pc_identity  alignment_length  mismatches  gap_opens  q_start  q_end  \\\n",
       "0        100.0              71.0         0.0        0.0      1.0   71.0   \n",
       "1        100.0              71.0         0.0        0.0      1.0   71.0   \n",
       "\n",
       "   s_start  s_end  evalue_log10  bitscore  \\\n",
       "0    298.0  368.0     -44.30103     154.0   \n",
       "1    298.0  368.0     -44.30103     154.0   \n",
       "\n",
       "                                                qseq  \\\n",
       "0  ILSRGDADMVSMARPFLADAELLSKAQSGRADEINTCIGCNQACLD...   \n",
       "1  ILSRGDADMVSMARPFLADAELLSKAQSGRADEINTCIGCNQACLD...   \n",
       "\n",
       "                                                sseq  \\\n",
       "0  ILSRGDADMVSMARPFLADAELLSKAQSGRADEINTCIGCNQACLD...   \n",
       "1  ILSRGDADMVSMARPFLADAELLSKAQSGRADEINTCIGCNQACLD...   \n",
       "\n",
       "                                                 a2b  \\\n",
       "0  [1.0, 2.0, 3.0, 4.0, 5.0, 6.0, 7.0, 8.0, 9.0, ...   \n",
       "1  [1.0, 2.0, 3.0, 4.0, 5.0, 6.0, 7.0, 8.0, 9.0, ...   \n",
       "\n",
       "                                                 b2a  \\\n",
       "0  [1.0, 2.0, 3.0, 4.0, 5.0, 6.0, 7.0, 8.0, 9.0, ...   \n",
       "1  [1.0, 2.0, 3.0, 4.0, 5.0, 6.0, 7.0, 8.0, 9.0, ...   \n",
       "\n",
       "                                       residue_idx_1  \\\n",
       "0  [297.0, 297.0, 297.0, 297.0, 297.0, 297.0, 297...   \n",
       "1  [297.0, 297.0, 297.0, 297.0, 297.0, 297.0, 297...   \n",
       "\n",
       "                                       residue_idx_2  \\\n",
       "0  [298.0, 299.0, 300.0, 301.0, 302.0, 303.0, 306...   \n",
       "1  [298.0, 299.0, 300.0, 301.0, 302.0, 303.0, 306...   \n",
       "\n",
       "                                        residue_id_1  \\\n",
       "0  [298.0, 298.0, 298.0, 298.0, 298.0, 298.0, 298...   \n",
       "1  [298.0, 298.0, 298.0, 298.0, 298.0, 298.0, 298...   \n",
       "\n",
       "                                        residue_id_2  \\\n",
       "0  [299.0, 300.0, 301.0, 302.0, 303.0, 304.0, 307...   \n",
       "1  [299.0, 300.0, 301.0, 302.0, 303.0, 304.0, 307...   \n",
       "\n",
       "                                        residue_aa_1  \\\n",
       "0  [I, I, I, I, I, I, I, L, L, L, L, L, L, L, L, ...   \n",
       "1  [I, I, I, I, I, I, I, L, L, L, L, L, L, L, L, ...   \n",
       "\n",
       "                                        residue_aa_2  \\\n",
       "0  [L, S, R, G, D, A, V, I, S, R, G, D, A, D, M, ...   \n",
       "1  [L, S, R, G, D, A, V, I, S, R, G, D, A, D, M, ...   \n",
       "\n",
       "                             residue_idx_1_corrected  \\\n",
       "0  [0.0, 0.0, 0.0, 0.0, 0.0, 0.0, 0.0, 1.0, 1.0, ...   \n",
       "1  [0.0, 0.0, 0.0, 0.0, 0.0, 0.0, 0.0, 1.0, 1.0, ...   \n",
       "\n",
       "                             residue_idx_2_corrected       database_id  \n",
       "0  [1.0, 2.0, 3.0, 4.0, 5.0, 6.0, 9.0, 0.0, 2.0, ...  G3DSA:3.20.20.70  \n",
       "1  [1.0, 2.0, 3.0, 4.0, 5.0, 6.0, 9.0, 0.0, 2.0, ...  G3DSA:3.20.20.70  "
      ]
     },
     "execution_count": 99,
     "metadata": {},
     "output_type": "execute_result"
    }
   ],
   "source": [
    "df.head(2)"
   ]
  },
  {
   "cell_type": "markdown",
   "metadata": {},
   "source": [
    "## Statistics"
   ]
  },
  {
   "cell_type": "markdown",
   "metadata": {},
   "source": [
    "### Starting"
   ]
  },
  {
   "cell_type": "code",
   "execution_count": 174,
   "metadata": {
    "collapsed": true
   },
   "outputs": [],
   "source": [
    "df = hhsuite_dfs[('01Mar17', 40)]"
   ]
  },
  {
   "cell_type": "code",
   "execution_count": 175,
   "metadata": {},
   "outputs": [
    {
     "data": {
      "text/html": [
       "<div>\n",
       "<style scoped>\n",
       "    .dataframe tbody tr th:only-of-type {\n",
       "        vertical-align: middle;\n",
       "    }\n",
       "\n",
       "    .dataframe tbody tr th {\n",
       "        vertical-align: top;\n",
       "    }\n",
       "\n",
       "    .dataframe thead th {\n",
       "        text-align: right;\n",
       "    }\n",
       "</style>\n",
       "<table border=\"1\" class=\"dataframe\">\n",
       "  <thead>\n",
       "    <tr style=\"text-align: right;\">\n",
       "      <th></th>\n",
       "      <th>organism_name</th>\n",
       "      <th>pdb_chain</th>\n",
       "      <th>pdb_domain_end</th>\n",
       "      <th>pdb_domain_range</th>\n",
       "      <th>pdb_domain_start</th>\n",
       "      <th>pdb_id</th>\n",
       "      <th>protein_name</th>\n",
       "      <th>scop_family</th>\n",
       "      <th>scop_id</th>\n",
       "      <th>scop_version</th>\n",
       "      <th>seq_identity_cutoff</th>\n",
       "    </tr>\n",
       "  </thead>\n",
       "  <tbody>\n",
       "    <tr>\n",
       "      <th>0</th>\n",
       "      <td>Escherichia coli K-12 [TaxId: 83333]</td>\n",
       "      <td>A</td>\n",
       "      <td>251.0</td>\n",
       "      <td>232-251</td>\n",
       "      <td>232.0</td>\n",
       "      <td>4AA7</td>\n",
       "      <td>automated matches</td>\n",
       "      <td>c.68.1.0</td>\n",
       "      <td>d4aa7a1</td>\n",
       "      <td>01Mar17</td>\n",
       "      <td>40</td>\n",
       "    </tr>\n",
       "    <tr>\n",
       "      <th>1</th>\n",
       "      <td>Mouse mammary tumor virus [TaxId: 11757]</td>\n",
       "      <td>A</td>\n",
       "      <td>NaN</td>\n",
       "      <td></td>\n",
       "      <td>NaN</td>\n",
       "      <td>1DSQ</td>\n",
       "      <td>Nucleic acid binding protein p14</td>\n",
       "      <td>g.40.1.1</td>\n",
       "      <td>d1dsqa_</td>\n",
       "      <td>01Mar17</td>\n",
       "      <td>40</td>\n",
       "    </tr>\n",
       "  </tbody>\n",
       "</table>\n",
       "</div>"
      ],
      "text/plain": [
       "                              organism_name pdb_chain  pdb_domain_end  \\\n",
       "0      Escherichia coli K-12 [TaxId: 83333]         A           251.0   \n",
       "1  Mouse mammary tumor virus [TaxId: 11757]         A             NaN   \n",
       "\n",
       "  pdb_domain_range  pdb_domain_start pdb_id                      protein_name  \\\n",
       "0          232-251             232.0   4AA7                 automated matches   \n",
       "1                                NaN   1DSQ  Nucleic acid binding protein p14   \n",
       "\n",
       "  scop_family  scop_id scop_version  seq_identity_cutoff  \n",
       "0    c.68.1.0  d4aa7a1      01Mar17                   40  \n",
       "1    g.40.1.1  d1dsqa_      01Mar17                   40  "
      ]
     },
     "metadata": {},
     "output_type": "display_data"
    },
    {
     "name": "stdout",
     "output_type": "stream",
     "text": [
      "(2844, 11)\n"
     ]
    }
   ],
   "source": [
    "display(df.head(2))\n",
    "print(df.shape)"
   ]
  },
  {
   "cell_type": "code",
   "execution_count": 176,
   "metadata": {},
   "outputs": [
    {
     "name": "stdout",
     "output_type": "stream",
     "text": [
      "{'num_scop_domains': 2844, 'num_scop_families': 1496, 'num_structures': 2477, 'num_chains': 2561}\n"
     ]
    }
   ],
   "source": [
    "stating_stats = {\n",
    "    'num_scop_domains': len(set(df['scop_id'])),\n",
    "    'num_scop_families': len(set(df['scop_family'])),\n",
    "    'num_structures': len(set(df['pdb_id'])),\n",
    "    'num_chains': len(set(df[['pdb_id', 'pdb_chain']].apply('-'.join, axis=1))),\n",
    "}\n",
    "print(stating_stats)"
   ]
  },
  {
   "cell_type": "markdown",
   "metadata": {},
   "source": [
    "### Mapped"
   ]
  },
  {
   "cell_type": "code",
   "execution_count": 167,
   "metadata": {
    "collapsed": true
   },
   "outputs": [],
   "source": [
    "df = pq.read_table(NOTEBOOK_PATH.joinpath('scop-hhsuite-adjacency_matrix.parquet').as_posix()).to_pandas()"
   ]
  },
  {
   "cell_type": "code",
   "execution_count": 168,
   "metadata": {
    "collapsed": true
   },
   "outputs": [],
   "source": [
    "assert (df['qseq'] == df['sseq']).all()"
   ]
  },
  {
   "cell_type": "code",
   "execution_count": 169,
   "metadata": {
    "collapsed": true
   },
   "outputs": [],
   "source": [
    "df = df.drop_duplicates(subset=['qseq'])"
   ]
  },
  {
   "cell_type": "code",
   "execution_count": 152,
   "metadata": {},
   "outputs": [
    {
     "data": {
      "text/html": [
       "<div>\n",
       "<style scoped>\n",
       "    .dataframe tbody tr th:only-of-type {\n",
       "        vertical-align: middle;\n",
       "    }\n",
       "\n",
       "    .dataframe tbody tr th {\n",
       "        vertical-align: top;\n",
       "    }\n",
       "\n",
       "    .dataframe thead th {\n",
       "        text-align: right;\n",
       "    }\n",
       "</style>\n",
       "<table border=\"1\" class=\"dataframe\">\n",
       "  <thead>\n",
       "    <tr style=\"text-align: right;\">\n",
       "      <th></th>\n",
       "      <th>scop_id</th>\n",
       "      <th>scop_family</th>\n",
       "      <th>pdb_id</th>\n",
       "      <th>pdb_chain</th>\n",
       "      <th>pdb_domain_start</th>\n",
       "      <th>pdb_domain_end</th>\n",
       "      <th>adjacency_matrix_idx</th>\n",
       "      <th>uniparc_id</th>\n",
       "      <th>cath_id</th>\n",
       "      <th>alignment_length</th>\n",
       "      <th>q_start</th>\n",
       "      <th>q_end</th>\n",
       "      <th>s_start</th>\n",
       "      <th>s_end</th>\n",
       "      <th>qseq</th>\n",
       "      <th>sseq</th>\n",
       "    </tr>\n",
       "  </thead>\n",
       "  <tbody>\n",
       "    <tr>\n",
       "      <th>0</th>\n",
       "      <td>d1olta_</td>\n",
       "      <td>c.1.28.2</td>\n",
       "      <td>1OLT</td>\n",
       "      <td>A</td>\n",
       "      <td>NaN</td>\n",
       "      <td>NaN</td>\n",
       "      <td>565480814</td>\n",
       "      <td>UPI0003DB6AE4</td>\n",
       "      <td>G3DSA:3.20.20.70</td>\n",
       "      <td>94.0</td>\n",
       "      <td>1.0</td>\n",
       "      <td>94.0</td>\n",
       "      <td>167.0</td>\n",
       "      <td>260.0</td>\n",
       "      <td>EVQRLVNREQDEEFIFALLNHAREIGFTSTNIDLIYGLPKQTPESF...</td>\n",
       "      <td>EVQRLVNREQDEEFIFALLNHAREIGFTSTNIDLIYGLPKQTPESF...</td>\n",
       "    </tr>\n",
       "    <tr>\n",
       "      <th>1</th>\n",
       "      <td>d1olta_</td>\n",
       "      <td>c.1.28.2</td>\n",
       "      <td>1OLT</td>\n",
       "      <td>A</td>\n",
       "      <td>NaN</td>\n",
       "      <td>NaN</td>\n",
       "      <td>264630321</td>\n",
       "      <td>UPI0009D3465A</td>\n",
       "      <td>G3DSA:3.20.20.70</td>\n",
       "      <td>89.0</td>\n",
       "      <td>1.0</td>\n",
       "      <td>89.0</td>\n",
       "      <td>223.0</td>\n",
       "      <td>311.0</td>\n",
       "      <td>NPDRLSVFNYAHLPTIFAAQRKIKDADLPSPQQKLDILQETIAFLT...</td>\n",
       "      <td>NPDRLSVFNYAHLPTIFAAQRKIKDADLPSPQQKLDILQETIAFLT...</td>\n",
       "    </tr>\n",
       "  </tbody>\n",
       "</table>\n",
       "</div>"
      ],
      "text/plain": [
       "   scop_id scop_family pdb_id pdb_chain  pdb_domain_start  pdb_domain_end  \\\n",
       "0  d1olta_    c.1.28.2   1OLT         A               NaN             NaN   \n",
       "1  d1olta_    c.1.28.2   1OLT         A               NaN             NaN   \n",
       "\n",
       "   adjacency_matrix_idx     uniparc_id           cath_id  alignment_length  \\\n",
       "0             565480814  UPI0003DB6AE4  G3DSA:3.20.20.70              94.0   \n",
       "1             264630321  UPI0009D3465A  G3DSA:3.20.20.70              89.0   \n",
       "\n",
       "   q_start  q_end  s_start  s_end  \\\n",
       "0      1.0   94.0    167.0  260.0   \n",
       "1      1.0   89.0    223.0  311.0   \n",
       "\n",
       "                                                qseq  \\\n",
       "0  EVQRLVNREQDEEFIFALLNHAREIGFTSTNIDLIYGLPKQTPESF...   \n",
       "1  NPDRLSVFNYAHLPTIFAAQRKIKDADLPSPQQKLDILQETIAFLT...   \n",
       "\n",
       "                                                sseq  \n",
       "0  EVQRLVNREQDEEFIFALLNHAREIGFTSTNIDLIYGLPKQTPESF...  \n",
       "1  NPDRLSVFNYAHLPTIFAAQRKIKDADLPSPQQKLDILQETIAFLT...  "
      ]
     },
     "metadata": {},
     "output_type": "display_data"
    },
    {
     "name": "stdout",
     "output_type": "stream",
     "text": [
      "(5393, 16)\n"
     ]
    }
   ],
   "source": [
    "display(df.head(2))\n",
    "print(df.shape)"
   ]
  },
  {
   "cell_type": "code",
   "execution_count": 173,
   "metadata": {},
   "outputs": [
    {
     "name": "stdout",
     "output_type": "stream",
     "text": [
      "{'num_scop_domains': 779, 'num_scop_families': 513, 'num_structures': 757, 'num_chains': 762}\n"
     ]
    }
   ],
   "source": [
    "mapped_stats = {\n",
    "    'num_scop_domains': len(set(df['scop_id'])),\n",
    "    'num_scop_families': len(set(df['scop_family'])),\n",
    "    'num_structures': len(set(df['pdb_id'])),\n",
    "    'num_chains': len(set(df[['pdb_id', 'pdb_chain']].apply('-'.join, axis=1))),\n",
    "}\n",
    "print(mapped_stats)"
   ]
  },
  {
   "cell_type": "code",
   "execution_count": 171,
   "metadata": {},
   "outputs": [
    {
     "data": {
      "text/plain": [
       "{'num_chains': 762,\n",
       " 'num_scop_domains': 779,\n",
       " 'num_scop_families': 513,\n",
       " 'num_structures': 757}"
      ]
     },
     "execution_count": 171,
     "metadata": {},
     "output_type": "execute_result"
    }
   ],
   "source": [
    "mapped_stats"
   ]
  },
  {
   "cell_type": "code",
   "execution_count": null,
   "metadata": {
    "collapsed": true
   },
   "outputs": [],
   "source": []
  },
  {
   "cell_type": "code",
   "execution_count": null,
   "metadata": {
    "collapsed": true
   },
   "outputs": [],
   "source": []
  },
  {
   "cell_type": "code",
   "execution_count": null,
   "metadata": {
    "collapsed": true
   },
   "outputs": [],
   "source": []
  },
  {
   "cell_type": "code",
   "execution_count": null,
   "metadata": {
    "collapsed": true
   },
   "outputs": [],
   "source": []
  },
  {
   "cell_type": "code",
   "execution_count": 123,
   "metadata": {},
   "outputs": [
    {
     "data": {
      "text/plain": [
       "513"
      ]
     },
     "execution_count": 123,
     "metadata": {},
     "output_type": "execute_result"
    }
   ],
   "source": [
    "len(set(df['scop_family']))"
   ]
  },
  {
   "cell_type": "code",
   "execution_count": 124,
   "metadata": {},
   "outputs": [
    {
     "data": {
      "text/plain": [
       "353"
      ]
     },
     "execution_count": 124,
     "metadata": {},
     "output_type": "execute_result"
    }
   ],
   "source": [
    "len(set(df['cath_id']))"
   ]
  },
  {
   "cell_type": "code",
   "execution_count": 125,
   "metadata": {},
   "outputs": [
    {
     "data": {
      "text/plain": [
       "757"
      ]
     },
     "execution_count": 125,
     "metadata": {},
     "output_type": "execute_result"
    }
   ],
   "source": [
    "len(set(df['pdb_id']))"
   ]
  },
  {
   "cell_type": "code",
   "execution_count": null,
   "metadata": {
    "collapsed": true
   },
   "outputs": [],
   "source": []
  },
  {
   "cell_type": "code",
   "execution_count": null,
   "metadata": {
    "collapsed": true
   },
   "outputs": [],
   "source": []
  },
  {
   "cell_type": "code",
   "execution_count": null,
   "metadata": {
    "collapsed": true
   },
   "outputs": [],
   "source": [
    ".coalesce(100)"
   ]
  },
  {
   "cell_type": "code",
   "execution_count": 110,
   "metadata": {
    "scrolled": true
   },
   "outputs": [
    {
     "data": {
      "text/html": [
       "<div>\n",
       "<style scoped>\n",
       "    .dataframe tbody tr th:only-of-type {\n",
       "        vertical-align: middle;\n",
       "    }\n",
       "\n",
       "    .dataframe tbody tr th {\n",
       "        vertical-align: top;\n",
       "    }\n",
       "\n",
       "    .dataframe thead th {\n",
       "        text-align: right;\n",
       "    }\n",
       "</style>\n",
       "<table border=\"1\" class=\"dataframe\">\n",
       "  <thead>\n",
       "    <tr style=\"text-align: right;\">\n",
       "      <th></th>\n",
       "      <th>scop_id</th>\n",
       "      <th>scop_family</th>\n",
       "      <th>pdb_id</th>\n",
       "      <th>pdb_chain</th>\n",
       "      <th>pdb_domain_start</th>\n",
       "      <th>pdb_domain_end</th>\n",
       "      <th>adjacency_matrix_idx</th>\n",
       "      <th>uniparc_id</th>\n",
       "      <th>cath_id</th>\n",
       "      <th>domain_start</th>\n",
       "      <th>domain_end</th>\n",
       "      <th>sequence</th>\n",
       "      <th>alignment_length</th>\n",
       "      <th>q_start</th>\n",
       "      <th>q_end</th>\n",
       "      <th>s_start</th>\n",
       "      <th>s_end</th>\n",
       "    </tr>\n",
       "  </thead>\n",
       "  <tbody>\n",
       "    <tr>\n",
       "      <th>0</th>\n",
       "      <td>d1ps9a1</td>\n",
       "      <td>c.1.4.1</td>\n",
       "      <td>1PS9</td>\n",
       "      <td>A</td>\n",
       "      <td>1.0</td>\n",
       "      <td>330.0</td>\n",
       "      <td>664991390</td>\n",
       "      <td>UPI0004D50AC6</td>\n",
       "      <td>G3DSA:3.20.20.70</td>\n",
       "      <td>1</td>\n",
       "      <td>331</td>\n",
       "      <td>MSYPSLFAPLDLGFTTLKNRVLMGSMHTGLEEYPDGAERLAAFYAE...</td>\n",
       "      <td>330.0</td>\n",
       "      <td>2.0</td>\n",
       "      <td>331.0</td>\n",
       "      <td>1.0</td>\n",
       "      <td>330.0</td>\n",
       "    </tr>\n",
       "    <tr>\n",
       "      <th>1</th>\n",
       "      <td>d1piia1</td>\n",
       "      <td>c.1.2.4</td>\n",
       "      <td>1PII</td>\n",
       "      <td>A</td>\n",
       "      <td>255.0</td>\n",
       "      <td>452.0</td>\n",
       "      <td>488301401</td>\n",
       "      <td>UPI0009323C7B</td>\n",
       "      <td>G3DSA:3.20.20.70</td>\n",
       "      <td>260</td>\n",
       "      <td>453</td>\n",
       "      <td>VCGLTRGQDAKAAYDAGAIYGGLIFVATSPRCVNVEQAQEVMAAAP...</td>\n",
       "      <td>194.0</td>\n",
       "      <td>1.0</td>\n",
       "      <td>194.0</td>\n",
       "      <td>259.0</td>\n",
       "      <td>452.0</td>\n",
       "    </tr>\n",
       "  </tbody>\n",
       "</table>\n",
       "</div>"
      ],
      "text/plain": [
       "   scop_id scop_family pdb_id pdb_chain  pdb_domain_start  pdb_domain_end  \\\n",
       "0  d1ps9a1     c.1.4.1   1PS9         A               1.0           330.0   \n",
       "1  d1piia1     c.1.2.4   1PII         A             255.0           452.0   \n",
       "\n",
       "   adjacency_matrix_idx     uniparc_id           cath_id  domain_start  \\\n",
       "0             664991390  UPI0004D50AC6  G3DSA:3.20.20.70             1   \n",
       "1             488301401  UPI0009323C7B  G3DSA:3.20.20.70           260   \n",
       "\n",
       "   domain_end                                           sequence  \\\n",
       "0         331  MSYPSLFAPLDLGFTTLKNRVLMGSMHTGLEEYPDGAERLAAFYAE...   \n",
       "1         453  VCGLTRGQDAKAAYDAGAIYGGLIFVATSPRCVNVEQAQEVMAAAP...   \n",
       "\n",
       "   alignment_length  q_start  q_end  s_start  s_end  \n",
       "0             330.0      2.0  331.0      1.0  330.0  \n",
       "1             194.0      1.0  194.0    259.0  452.0  "
      ]
     },
     "execution_count": 110,
     "metadata": {},
     "output_type": "execute_result"
    }
   ],
   "source": [
    "df.head(2)"
   ]
  }
 ],
 "metadata": {
  "kernelspec": {
   "display_name": "Python [default]",
   "language": "python",
   "name": "python3"
  },
  "language_info": {
   "codemirror_mode": {
    "name": "ipython",
    "version": 3
   },
   "file_extension": ".py",
   "mimetype": "text/x-python",
   "name": "python",
   "nbconvert_exporter": "python",
   "pygments_lexer": "ipython3",
   "version": "3.6.4"
  },
  "toc": {
   "base_numbering": 1,
   "nav_menu": {},
   "number_sections": false,
   "sideBar": false,
   "skip_h1_title": false,
   "title_cell": "Table of Contents",
   "title_sidebar": "Contents",
   "toc_cell": false,
   "toc_position": {
    "height": "377px",
    "left": "1643.98px",
    "top": "106.337px",
    "width": "322px"
   },
   "toc_section_display": true,
   "toc_window_display": true
  }
 },
 "nbformat": 4,
 "nbformat_minor": 2
}
