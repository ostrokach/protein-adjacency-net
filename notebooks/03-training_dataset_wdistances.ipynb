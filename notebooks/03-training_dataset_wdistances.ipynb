{
 "cells": [
  {
   "cell_type": "markdown",
   "metadata": {},
   "source": [
    "# Summary"
   ]
  },
  {
   "cell_type": "markdown",
   "metadata": {},
   "source": [
    "# Imports"
   ]
  },
  {
   "cell_type": "code",
   "execution_count": 1,
   "metadata": {},
   "outputs": [],
   "source": [
    "import os\n",
    "import shutil\n",
    "import subprocess\n",
    "import shlex\n",
    "import yaml\n",
    "from pathlib import Path\n",
    "\n",
    "import numpy as np\n",
    "import pandas as pd\n",
    "import pyarrow as pa\n",
    "import pyarrow.parquet as pq"
   ]
  },
  {
   "cell_type": "code",
   "execution_count": 2,
   "metadata": {},
   "outputs": [],
   "source": [
    "pd.set_option(\"max_columns\", 100)"
   ]
  },
  {
   "cell_type": "markdown",
   "metadata": {},
   "source": [
    "# Parameters"
   ]
  },
  {
   "cell_type": "code",
   "execution_count": 3,
   "metadata": {},
   "outputs": [
    {
     "data": {
      "text/plain": [
       "PosixPath('training_dataset_wdistances')"
      ]
     },
     "execution_count": 3,
     "metadata": {},
     "output_type": "execute_result"
    }
   ],
   "source": [
    "NOTEBOOK_PATH = Path(os.getenv(\"CI_JOB_NAME\", \"training_dataset_wdistances\"))\n",
    "NOTEBOOK_PATH"
   ]
  },
  {
   "cell_type": "code",
   "execution_count": 4,
   "metadata": {},
   "outputs": [
    {
     "data": {
      "text/plain": [
       "PosixPath('/gpfs/fs0/scratch/p/pmkim/strokach/datapkg/adjacency-net-v2/notebooks/training_dataset_wdistances')"
      ]
     },
     "execution_count": 4,
     "metadata": {},
     "output_type": "execute_result"
    }
   ],
   "source": [
    "OUTPUT_PATH = Path(os.getenv('OUTPUT_DIR', NOTEBOOK_PATH.name)).resolve()\n",
    "OUTPUT_PATH.mkdir(parents=True, exist_ok=True)\n",
    "OUTPUT_PATH"
   ]
  },
  {
   "cell_type": "markdown",
   "metadata": {},
   "source": [
    "# `DATAPKG`"
   ]
  },
  {
   "cell_type": "code",
   "execution_count": 5,
   "metadata": {},
   "outputs": [],
   "source": [
    "DATAPKG = {}"
   ]
  },
  {
   "cell_type": "code",
   "execution_count": 6,
   "metadata": {},
   "outputs": [],
   "source": [
    "DATAPKG['adjacency-net-v2'] = {\n",
    "    'training_dataset': (\n",
    "        Path(os.environ['DATAPKG_OUTPUT_DIR'])\n",
    "        .joinpath(\"adjacency-net-v2\", \"master\", \"training_dataset\", \"adjacency_matrix.parquet\")\n",
    "    ),\n",
    "}"
   ]
  },
  {
   "cell_type": "markdown",
   "metadata": {},
   "source": [
    "# Load data"
   ]
  },
  {
   "cell_type": "code",
   "execution_count": 7,
   "metadata": {},
   "outputs": [
    {
     "name": "stdout",
     "output_type": "stream",
     "text": [
      "[PosixPath('/gpfs/fs0/scratch/p/pmkim/strokach/databin/adjacency-net-v2/master/training_dataset/adjacency_matrix.parquet/database_id=G3DSA%3A1.10.10.10/part-00000-3b8a9efe-9588-498e-bb62-742bb68b4eb5-c000.snappy.parquet'), PosixPath('/gpfs/fs0/scratch/p/pmkim/strokach/databin/adjacency-net-v2/master/training_dataset/adjacency_matrix.parquet/database_id=G3DSA%3A1.10.10.180/part-00000-53479571-ef99-4995-bf26-90d1fad763a8-c000.snappy.parquet'), PosixPath('/gpfs/fs0/scratch/p/pmkim/strokach/databin/adjacency-net-v2/master/training_dataset/adjacency_matrix.parquet/database_id=G3DSA%3A1.10.10.190/part-00000-1917c3d6-f0f8-46b2-898a-0b2760f1e622-c000.snappy.parquet')]\n",
      "1029\n"
     ]
    }
   ],
   "source": [
    "files = sorted(DATAPKG['adjacency-net-v2']['training_dataset'].glob(\"*/*.parquet\"))\n",
    "\n",
    "print(files[:3])\n",
    "print(len(files))"
   ]
  },
  {
   "cell_type": "code",
   "execution_count": null,
   "metadata": {},
   "outputs": [],
   "source": []
  },
  {
   "cell_type": "code",
   "execution_count": 13,
   "metadata": {},
   "outputs": [],
   "source": [
    "ds = pq.ParquetFile(files[0])\n",
    "df = ds.read_row_group(0, use_pandas_metadata=True).to_pandas(integer_object_nulls=True)"
   ]
  },
  {
   "cell_type": "code",
   "execution_count": 15,
   "metadata": {},
   "outputs": [
    {
     "data": {
      "text/html": [
       "<div>\n",
       "<style scoped>\n",
       "    .dataframe tbody tr th:only-of-type {\n",
       "        vertical-align: middle;\n",
       "    }\n",
       "\n",
       "    .dataframe tbody tr th {\n",
       "        vertical-align: top;\n",
       "    }\n",
       "\n",
       "    .dataframe thead th {\n",
       "        text-align: right;\n",
       "    }\n",
       "</style>\n",
       "<table border=\"1\" class=\"dataframe\">\n",
       "  <thead>\n",
       "    <tr style=\"text-align: right;\">\n",
       "      <th></th>\n",
       "      <th>__index_level_0__</th>\n",
       "      <th>uniparc_id</th>\n",
       "      <th>sequence</th>\n",
       "      <th>database</th>\n",
       "      <th>interpro_name</th>\n",
       "      <th>interpro_id</th>\n",
       "      <th>domain_start</th>\n",
       "      <th>domain_end</th>\n",
       "      <th>domain_length</th>\n",
       "      <th>structure_id</th>\n",
       "      <th>model_id</th>\n",
       "      <th>chain_id</th>\n",
       "      <th>pc_identity</th>\n",
       "      <th>alignment_length</th>\n",
       "      <th>mismatches</th>\n",
       "      <th>gap_opens</th>\n",
       "      <th>q_start</th>\n",
       "      <th>q_end</th>\n",
       "      <th>s_start</th>\n",
       "      <th>s_end</th>\n",
       "      <th>evalue_log10</th>\n",
       "      <th>bitscore</th>\n",
       "      <th>qseq</th>\n",
       "      <th>sseq</th>\n",
       "      <th>a2b</th>\n",
       "      <th>b2a</th>\n",
       "      <th>residue_idx_1</th>\n",
       "      <th>residue_idx_2</th>\n",
       "      <th>residue_id_1</th>\n",
       "      <th>residue_id_2</th>\n",
       "      <th>residue_aa_1</th>\n",
       "      <th>residue_aa_2</th>\n",
       "      <th>residue_idx_1_corrected</th>\n",
       "      <th>residue_idx_2_corrected</th>\n",
       "    </tr>\n",
       "  </thead>\n",
       "  <tbody>\n",
       "    <tr>\n",
       "      <th>0</th>\n",
       "      <td>572204</td>\n",
       "      <td>UPI00006AEA71</td>\n",
       "      <td>MTDKNMKEYAKRIETAFSKIMKKLGPEMSKLAEGLTPPQFFVLKLL...</td>\n",
       "      <td>Gene3D</td>\n",
       "      <td>Winged helix-like DNA-binding domain superfamily</td>\n",
       "      <td>IPR036388</td>\n",
       "      <td>1</td>\n",
       "      <td>106</td>\n",
       "      <td>106</td>\n",
       "      <td>4XRF</td>\n",
       "      <td>0.0</td>\n",
       "      <td>A</td>\n",
       "      <td>44.94</td>\n",
       "      <td>89.0</td>\n",
       "      <td>45.0</td>\n",
       "      <td>3.0</td>\n",
       "      <td>16.0</td>\n",
       "      <td>101.0</td>\n",
       "      <td>11.0</td>\n",
       "      <td>98.0</td>\n",
       "      <td>-15.522879</td>\n",
       "      <td>72.0</td>\n",
       "      <td>AFSKIMKKLGPEMSKL--AEGLTPPQFFVLKLLQTNGRT-VTEIAE...</td>\n",
       "      <td>AFS-IGKKMQTELLEQMQATGLTPPQFYILKILDHYGASRATTLAK...</td>\n",
       "      <td>[1.0, 2.0, 3.0, 5.0, 6.0, 7.0, 8.0, 9.0, 10.0,...</td>\n",
       "      <td>[1.0, 2.0, 3.0, nan, 4.0, 5.0, 6.0, 7.0, 8.0, ...</td>\n",
       "      <td>[10.0, 10.0, 10.0, 10.0, 10.0, 11.0, 11.0, 11....</td>\n",
       "      <td>[11.0, 12.0, 13.0, 14.0, 15.0, 10.0, 12.0, 13....</td>\n",
       "      <td>[11.0, 11.0, 11.0, 11.0, 11.0, 12.0, 12.0, 12....</td>\n",
       "      <td>[12.0, 13.0, 14.0, 15.0, 16.0, 11.0, 13.0, 14....</td>\n",
       "      <td>[A, A, A, A, A, F, F, F, F, F, S, S, S, S, S, ...</td>\n",
       "      <td>[F, S, I, G, K, A, S, I, G, K, A, F, I, G, K, ...</td>\n",
       "      <td>[0.0, 0.0, 0.0, 0.0, 0.0, 1.0, 1.0, 1.0, 1.0, ...</td>\n",
       "      <td>[1.0, 2.0, 4.0, 5.0, 6.0, 0.0, 2.0, 4.0, 5.0, ...</td>\n",
       "    </tr>\n",
       "    <tr>\n",
       "      <th>1</th>\n",
       "      <td>652811</td>\n",
       "      <td>UPI0000DDE113</td>\n",
       "      <td>HNTLPDFEMPNEERVHLAAESFRLLADPTRIKILWALLQGESSVAC...</td>\n",
       "      <td>Gene3D</td>\n",
       "      <td>Winged helix-like DNA-binding domain superfamily</td>\n",
       "      <td>IPR036388</td>\n",
       "      <td>35</td>\n",
       "      <td>140</td>\n",
       "      <td>106</td>\n",
       "      <td>2LKP</td>\n",
       "      <td>0.0</td>\n",
       "      <td>A</td>\n",
       "      <td>42.17</td>\n",
       "      <td>83.0</td>\n",
       "      <td>48.0</td>\n",
       "      <td>0.0</td>\n",
       "      <td>19.0</td>\n",
       "      <td>101.0</td>\n",
       "      <td>23.0</td>\n",
       "      <td>105.0</td>\n",
       "      <td>-11.522879</td>\n",
       "      <td>60.8</td>\n",
       "      <td>AESFRLLADPTRIKILWALLQGESSVACLADLVGAAPTAVSQHLAK...</td>\n",
       "      <td>ASTLQALATPSRLMILTQLRNGPLPVTDLAEAIGMEQSAVSHQLRV...</td>\n",
       "      <td>[1.0, 2.0, 3.0, 4.0, 5.0, 6.0, 7.0, 8.0, 9.0, ...</td>\n",
       "      <td>[1.0, 2.0, 3.0, 4.0, 5.0, 6.0, 7.0, 8.0, 9.0, ...</td>\n",
       "      <td>[22.0, 22.0, 22.0, 22.0, 22.0, 23.0, 23.0, 23....</td>\n",
       "      <td>[23.0, 24.0, 25.0, 26.0, 27.0, 22.0, 24.0, 25....</td>\n",
       "      <td>[23.0, 23.0, 23.0, 23.0, 23.0, 24.0, 24.0, 24....</td>\n",
       "      <td>[24.0, 25.0, 26.0, 27.0, 28.0, 23.0, 25.0, 26....</td>\n",
       "      <td>[A, A, A, A, A, S, S, S, S, S, S, T, T, T, T, ...</td>\n",
       "      <td>[S, T, L, Q, A, A, T, L, Q, A, L, A, S, L, Q, ...</td>\n",
       "      <td>[0.0, 0.0, 0.0, 0.0, 0.0, 1.0, 1.0, 1.0, 1.0, ...</td>\n",
       "      <td>[1.0, 2.0, 3.0, 4.0, 5.0, 0.0, 2.0, 3.0, 4.0, ...</td>\n",
       "    </tr>\n",
       "  </tbody>\n",
       "</table>\n",
       "</div>"
      ],
      "text/plain": [
       "   __index_level_0__     uniparc_id  \\\n",
       "0             572204  UPI00006AEA71   \n",
       "1             652811  UPI0000DDE113   \n",
       "\n",
       "                                            sequence database  \\\n",
       "0  MTDKNMKEYAKRIETAFSKIMKKLGPEMSKLAEGLTPPQFFVLKLL...   Gene3D   \n",
       "1  HNTLPDFEMPNEERVHLAAESFRLLADPTRIKILWALLQGESSVAC...   Gene3D   \n",
       "\n",
       "                                      interpro_name interpro_id  domain_start  \\\n",
       "0  Winged helix-like DNA-binding domain superfamily   IPR036388             1   \n",
       "1  Winged helix-like DNA-binding domain superfamily   IPR036388            35   \n",
       "\n",
       "   domain_end  domain_length structure_id  model_id chain_id  pc_identity  \\\n",
       "0         106            106         4XRF       0.0        A        44.94   \n",
       "1         140            106         2LKP       0.0        A        42.17   \n",
       "\n",
       "   alignment_length  mismatches  gap_opens  q_start  q_end  s_start  s_end  \\\n",
       "0              89.0        45.0        3.0     16.0  101.0     11.0   98.0   \n",
       "1              83.0        48.0        0.0     19.0  101.0     23.0  105.0   \n",
       "\n",
       "   evalue_log10  bitscore                                               qseq  \\\n",
       "0    -15.522879      72.0  AFSKIMKKLGPEMSKL--AEGLTPPQFFVLKLLQTNGRT-VTEIAE...   \n",
       "1    -11.522879      60.8  AESFRLLADPTRIKILWALLQGESSVACLADLVGAAPTAVSQHLAK...   \n",
       "\n",
       "                                                sseq  \\\n",
       "0  AFS-IGKKMQTELLEQMQATGLTPPQFYILKILDHYGASRATTLAK...   \n",
       "1  ASTLQALATPSRLMILTQLRNGPLPVTDLAEAIGMEQSAVSHQLRV...   \n",
       "\n",
       "                                                 a2b  \\\n",
       "0  [1.0, 2.0, 3.0, 5.0, 6.0, 7.0, 8.0, 9.0, 10.0,...   \n",
       "1  [1.0, 2.0, 3.0, 4.0, 5.0, 6.0, 7.0, 8.0, 9.0, ...   \n",
       "\n",
       "                                                 b2a  \\\n",
       "0  [1.0, 2.0, 3.0, nan, 4.0, 5.0, 6.0, 7.0, 8.0, ...   \n",
       "1  [1.0, 2.0, 3.0, 4.0, 5.0, 6.0, 7.0, 8.0, 9.0, ...   \n",
       "\n",
       "                                       residue_idx_1  \\\n",
       "0  [10.0, 10.0, 10.0, 10.0, 10.0, 11.0, 11.0, 11....   \n",
       "1  [22.0, 22.0, 22.0, 22.0, 22.0, 23.0, 23.0, 23....   \n",
       "\n",
       "                                       residue_idx_2  \\\n",
       "0  [11.0, 12.0, 13.0, 14.0, 15.0, 10.0, 12.0, 13....   \n",
       "1  [23.0, 24.0, 25.0, 26.0, 27.0, 22.0, 24.0, 25....   \n",
       "\n",
       "                                        residue_id_1  \\\n",
       "0  [11.0, 11.0, 11.0, 11.0, 11.0, 12.0, 12.0, 12....   \n",
       "1  [23.0, 23.0, 23.0, 23.0, 23.0, 24.0, 24.0, 24....   \n",
       "\n",
       "                                        residue_id_2  \\\n",
       "0  [12.0, 13.0, 14.0, 15.0, 16.0, 11.0, 13.0, 14....   \n",
       "1  [24.0, 25.0, 26.0, 27.0, 28.0, 23.0, 25.0, 26....   \n",
       "\n",
       "                                        residue_aa_1  \\\n",
       "0  [A, A, A, A, A, F, F, F, F, F, S, S, S, S, S, ...   \n",
       "1  [A, A, A, A, A, S, S, S, S, S, S, T, T, T, T, ...   \n",
       "\n",
       "                                        residue_aa_2  \\\n",
       "0  [F, S, I, G, K, A, S, I, G, K, A, F, I, G, K, ...   \n",
       "1  [S, T, L, Q, A, A, T, L, Q, A, L, A, S, L, Q, ...   \n",
       "\n",
       "                             residue_idx_1_corrected  \\\n",
       "0  [0.0, 0.0, 0.0, 0.0, 0.0, 1.0, 1.0, 1.0, 1.0, ...   \n",
       "1  [0.0, 0.0, 0.0, 0.0, 0.0, 1.0, 1.0, 1.0, 1.0, ...   \n",
       "\n",
       "                             residue_idx_2_corrected  \n",
       "0  [1.0, 2.0, 4.0, 5.0, 6.0, 0.0, 2.0, 4.0, 5.0, ...  \n",
       "1  [1.0, 2.0, 3.0, 4.0, 5.0, 0.0, 2.0, 3.0, 4.0, ...  "
      ]
     },
     "execution_count": 15,
     "metadata": {},
     "output_type": "execute_result"
    }
   ],
   "source": [
    "df.head(2)"
   ]
  },
  {
   "cell_type": "code",
   "execution_count": null,
   "metadata": {},
   "outputs": [],
   "source": []
  },
  {
   "cell_type": "code",
   "execution_count": null,
   "metadata": {},
   "outputs": [],
   "source": []
  }
 ],
 "metadata": {
  "kernelspec": {
   "display_name": "Python 3",
   "language": "python",
   "name": "python3"
  },
  "language_info": {
   "codemirror_mode": {
    "name": "ipython",
    "version": 3
   },
   "file_extension": ".py",
   "mimetype": "text/x-python",
   "name": "python",
   "nbconvert_exporter": "python",
   "pygments_lexer": "ipython3",
   "version": "3.6.6"
  },
  "toc": {
   "base_numbering": 1,
   "nav_menu": {},
   "number_sections": false,
   "sideBar": false,
   "skip_h1_title": false,
   "title_cell": "Table of Contents",
   "title_sidebar": "Contents",
   "toc_cell": false,
   "toc_position": {
    "height": "489px",
    "left": "34.9826px",
    "top": "126.979px",
    "width": "353px"
   },
   "toc_section_display": true,
   "toc_window_display": true
  }
 },
 "nbformat": 4,
 "nbformat_minor": 2
}
