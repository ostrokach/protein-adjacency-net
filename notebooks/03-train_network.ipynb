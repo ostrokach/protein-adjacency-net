{
 "cells": [
  {
   "cell_type": "markdown",
   "metadata": {},
   "source": [
    "# Summary"
   ]
  },
  {
   "cell_type": "markdown",
   "metadata": {},
   "source": [
    "# Imports"
   ]
  },
  {
   "cell_type": "code",
   "execution_count": null,
   "metadata": {
    "collapsed": true
   },
   "outputs": [],
   "source": [
    "import os\n",
    "import runpy\n",
    "import shutil\n",
    "import subprocess\n",
    "from pathlib import Path\n",
    "\n",
    "import numpy as np\n",
    "import pandas as pd\n",
    "import pyarrow as pa\n",
    "import pyarrow.parquet as pq\n",
    "import yaml"
   ]
  },
  {
   "cell_type": "code",
   "execution_count": null,
   "metadata": {
    "collapsed": true
   },
   "outputs": [],
   "source": [
    "pd.set_option(\"max_columns\", 100)"
   ]
  },
  {
   "cell_type": "markdown",
   "metadata": {},
   "source": [
    "# Parameters"
   ]
  },
  {
   "cell_type": "code",
   "execution_count": null,
   "metadata": {
    "collapsed": true
   },
   "outputs": [],
   "source": [
    "NOTEBOOK_PATH = Path('train_network')\n",
    "NOTEBOOK_PATH"
   ]
  },
  {
   "cell_type": "code",
   "execution_count": null,
   "metadata": {
    "collapsed": true
   },
   "outputs": [],
   "source": [
    "OUTPUT_PATH = Path(os.getenv('OUTPUT_DIR', NOTEBOOK_PATH.name)).resolve()\n",
    "OUTPUT_PATH.mkdir(parents=True, exist_ok=True)\n",
    "OUTPUT_PATH"
   ]
  },
  {
   "cell_type": "code",
   "execution_count": null,
   "metadata": {
    "collapsed": true
   },
   "outputs": [],
   "source": [
    "DEBUG = \"CI\" not in os.environ\n",
    "if DEBUG:\n",
    "    assert \"SLURM_JOB_ID\" not in os.environ\n",
    "DEBUG"
   ]
  },
  {
   "cell_type": "markdown",
   "metadata": {},
   "source": [
    "# Train network"
   ]
  },
  {
   "cell_type": "code",
   "execution_count": null,
   "metadata": {
    "collapsed": true
   },
   "outputs": [],
   "source": [
    "DATAPKG_OUTPUT_PATH = Path(os.environ['DATAPKG_OUTPUT_DIR'])\n",
    "DATAPKG_OUTPUT_PATH"
   ]
  },
  {
   "cell_type": "code",
   "execution_count": null,
   "metadata": {
    "collapsed": true
   },
   "outputs": [],
   "source": [
    "def parse_slurm_runtime(sbatch_timelimit: str) -> float:\n",
    "    runtime = 0\n",
    "    multipliers = [3600, 60, 1]\n",
    "    while sbatch_timelimit:\n",
    "        sbatch_timelimit, _, value = sbatch_timelimit.rpartition(':')\n",
    "        multipier = multipliers.pop()\n",
    "        if value:\n",
    "            runtime += int(value) * multipier\n",
    "    return runtime\n",
    "\n",
    "            \n",
    "parse_slurm_runtime(\"1:20:11\")"
   ]
  },
  {
   "cell_type": "code",
   "execution_count": null,
   "metadata": {
    "collapsed": true,
    "scrolled": true
   },
   "outputs": [],
   "source": [
    "if DEBUG:\n",
    "    runtime = 60  # 1m\n",
    "else:\n",
    "    runtime = parse_slurm_runtime(os.environ['SBATCH_TIMELIMIT']) - 1800  # Total time - 30m\n",
    "runtime"
   ]
  },
  {
   "cell_type": "code",
   "execution_count": null,
   "metadata": {
    "collapsed": true
   },
   "outputs": [],
   "source": [
    "from pagnn.training.dcn import Args, main"
   ]
  },
  {
   "cell_type": "code",
   "execution_count": null,
   "metadata": {
    "collapsed": true
   },
   "outputs": [],
   "source": [
    "args = Args(\n",
    "    root_path=OUTPUT_PATH,\n",
    "    training_data_path=(\n",
    "        DATAPKG_OUTPUT_PATH\n",
    "        .joinpath(\"adjacency-net-v2\", \"master\", \"training_dataset\", \"adjacency_matrix.parquet\")\n",
    "    ),\n",
    "#     training_data_cache=(\n",
    "#         DATAPKG_OUTPUT_PATH\n",
    "#         .joinpath(\"adjacency-net-v2\", \"master\", \"training_dataset\", f\"array_id_{Args().array_id}\")\n",
    "#     ),\n",
    "    gpu=-1,\n",
    "    verbosity=1,\n",
    "    network_name=f\"DCN_{OUTPUT_PATH.name}\",\n",
    "    num_negative_examples=63,\n",
    ")\n",
    "\n",
    "assert isinstance(args.runtime, float)\n",
    "args.runtime = runtime\n",
    "\n",
    "args"
   ]
  },
  {
   "cell_type": "code",
   "execution_count": null,
   "metadata": {
    "collapsed": true,
    "scrolled": true
   },
   "outputs": [],
   "source": [
    "args_file = OUTPUT_PATH.joinpath(\"args.yaml\")\n",
    "\n",
    "with args_file.open(\"wt\") as fout:\n",
    "    yaml.dump(args.to_dict(), fout, default_flow_style=False)"
   ]
  },
  {
   "cell_type": "code",
   "execution_count": null,
   "metadata": {
    "collapsed": true
   },
   "outputs": [],
   "source": [
    "model_file = OUTPUT_PATH.joinpath(\"model.py\")\n",
    "\n",
    "with Path(\"../src/model.py\").open('rt') as fin, model_file.open(\"wt\") as fout:\n",
    "    sub1, sub2 = False, False\n",
    "    for line in fin:\n",
    "        if line == \"class Custom(nn.Module):\\n\":\n",
    "            sub1 = True\n",
    "            fout.write(f\"class {args.network_name}(nn.Module):\\n\")\n",
    "        elif line == \"pagnn.models.dcn.Custom = Custom\\n\":\n",
    "            sub2 = True\n",
    "            fout.write(f\"pagnn.models.dcn.{args.network_name} = {args.network_name}\\n\")\n",
    "        else:\n",
    "            fout.write(line)\n",
    "    assert sub1 and sub2\n",
    "    \n",
    "runpy.run_path(model_file.as_posix(), globals())\n",
    "None"
   ]
  },
  {
   "cell_type": "code",
   "execution_count": null,
   "metadata": {
    "collapsed": true,
    "scrolled": true
   },
   "outputs": [],
   "source": [
    "main(args)"
   ]
  },
  {
   "cell_type": "code",
   "execution_count": null,
   "metadata": {
    "collapsed": true
   },
   "outputs": [],
   "source": []
  }
 ],
 "metadata": {
  "kernelspec": {
   "display_name": "Python [default]",
   "language": "python",
   "name": "python3"
  },
  "language_info": {
   "codemirror_mode": {
    "name": "ipython",
    "version": 3
   },
   "file_extension": ".py",
   "mimetype": "text/x-python",
   "name": "python",
   "nbconvert_exporter": "python",
   "pygments_lexer": "ipython3",
   "version": "3.6.4"
  },
  "toc": {
   "base_numbering": 1,
   "nav_menu": {},
   "number_sections": false,
   "sideBar": true,
   "skip_h1_title": false,
   "title_cell": "Table of Contents",
   "title_sidebar": "Contents",
   "toc_cell": false,
   "toc_position": {
    "height": "433px",
    "left": "25px",
    "top": "129.984px",
    "width": "279px"
   },
   "toc_section_display": true,
   "toc_window_display": true
  }
 },
 "nbformat": 4,
 "nbformat_minor": 2
}
