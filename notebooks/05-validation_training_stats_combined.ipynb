{
 "cells": [
  {
   "cell_type": "markdown",
   "metadata": {},
   "source": [
    "# Summary"
   ]
  },
  {
   "cell_type": "markdown",
   "metadata": {},
   "source": [
    "# Imports"
   ]
  },
  {
   "cell_type": "code",
   "execution_count": null,
   "metadata": {},
   "outputs": [],
   "source": [
    "import importlib\n",
    "import os\n",
    "import sys\n",
    "from pathlib import Path\n",
    "\n",
    "import numpy as np\n",
    "import matplotlib.pyplot as plt\n",
    "import pandas as pd\n",
    "import pyarrow as pa\n",
    "import pyarrow.parquet as pq\n",
    "import seaborn as sns\n",
    "import sqlalchemy as sa\n",
    "from scipy import stats\n",
    "from sklearn import metrics"
   ]
  },
  {
   "cell_type": "code",
   "execution_count": null,
   "metadata": {},
   "outputs": [],
   "source": [
    "%matplotlib inline"
   ]
  },
  {
   "cell_type": "code",
   "execution_count": null,
   "metadata": {},
   "outputs": [],
   "source": [
    "pd.set_option(\"max_columns\", 100)"
   ]
  },
  {
   "cell_type": "code",
   "execution_count": null,
   "metadata": {},
   "outputs": [],
   "source": [
    "SRC_PATH = Path.cwd().joinpath('..', 'src').resolve(strict=True)\n",
    "\n",
    "if SRC_PATH.as_posix() not in sys.path:\n",
    "    sys.path.insert(0, SRC_PATH.as_posix())\n",
    "\n",
    "import helper\n",
    "importlib.reload(helper)"
   ]
  },
  {
   "cell_type": "markdown",
   "metadata": {},
   "source": [
    "# Parameters"
   ]
  },
  {
   "cell_type": "code",
   "execution_count": null,
   "metadata": {},
   "outputs": [],
   "source": [
    "NOTEBOOK_PATH = Path('validation_homology_models_combined')\n",
    "NOTEBOOK_PATH"
   ]
  },
  {
   "cell_type": "code",
   "execution_count": null,
   "metadata": {},
   "outputs": [],
   "source": [
    "OUTPUT_PATH = Path(os.getenv('OUTPUT_DIR', NOTEBOOK_PATH.name)).resolve()\n",
    "OUTPUT_PATH.mkdir(parents=True, exist_ok=True)\n",
    "OUTPUT_PATH"
   ]
  },
  {
   "cell_type": "code",
   "execution_count": null,
   "metadata": {},
   "outputs": [],
   "source": [
    "PROJECT_VERSION = os.getenv(\"PROJECT_VERSION\")"
   ]
  },
  {
   "cell_type": "code",
   "execution_count": null,
   "metadata": {},
   "outputs": [],
   "source": [
    "DEBUG = \"CI\" not in os.environ    \n",
    "DEBUG"
   ]
  },
  {
   "cell_type": "code",
   "execution_count": null,
   "metadata": {},
   "outputs": [],
   "source": [
    "if DEBUG:\n",
    "    PROJECT_VERSION = \"0.1\"\n",
    "else:\n",
    "    assert PROJECT_VERSION is not None\n",
    "    \n",
    "PROJECT_VERSION"
   ]
  },
  {
   "cell_type": "code",
   "execution_count": null,
   "metadata": {},
   "outputs": [],
   "source": [
    "# if DEBUG:\n",
    "#     %load_ext autoreload\n",
    "#     %autoreload 2"
   ]
  },
  {
   "cell_type": "markdown",
   "metadata": {},
   "source": [
    "# `DATAPKG`"
   ]
  },
  {
   "cell_type": "code",
   "execution_count": null,
   "metadata": {},
   "outputs": [],
   "source": [
    "DATAPKG = {}"
   ]
  },
  {
   "cell_type": "code",
   "execution_count": null,
   "metadata": {},
   "outputs": [],
   "source": [
    "DATAPKG['validation_training_stats'] = sorted(\n",
    "    Path(os.environ['DATAPKG_OUTPUT_DIR'])\n",
    "    .joinpath(\"adjacency-net-v2\", f\"v{PROJECT_VERSION}\", \"train_network\")\n",
    "    .glob(\"*/stats.db\")\n",
    ")"
   ]
  },
  {
   "cell_type": "code",
   "execution_count": null,
   "metadata": {},
   "outputs": [],
   "source": [
    "DATAPKG['validation_training_stats']"
   ]
  },
  {
   "cell_type": "markdown",
   "metadata": {},
   "source": [
    "# Dataset"
   ]
  },
  {
   "cell_type": "markdown",
   "metadata": {},
   "source": [
    "## Construct datasets"
   ]
  },
  {
   "cell_type": "markdown",
   "metadata": {},
   "source": [
    "### `validation_df`"
   ]
  },
  {
   "cell_type": "code",
   "execution_count": null,
   "metadata": {},
   "outputs": [],
   "source": [
    "data = []\n",
    "\n",
    "for stats_db_file in DATAPKG['validation_training_stats']:\n",
    "    engine = sa.create_engine(f\"sqlite:///{stats_db_file}\")\n",
    "\n",
    "    network_names = (\n",
    "        pd.read_sql_query(\"select distinct network_name from info\", engine)\n",
    "        ['network_name'].values.tolist()\n",
    "    )\n",
    "    assert len(network_names) == 1\n",
    "    network_name = network_names[0]\n",
    "\n",
    "    network_name_ref = stats_db_file.parent.name\n",
    "    assert network_name[4:11] == network_name_ref[:7], (network_name, network_name_ref)\n",
    "\n",
    "    # Select best step\n",
    "    best_step_df = pd.read_sql_query(\n",
    "        \"SELECT step \"\n",
    "        \"FROM stats \"\n",
    "        \"WHERE model_location IS NOT NULL \"\n",
    "        \"ORDER BY `validation_gan_permute_80_1000-auc` DESC, `validation_gan_exact_80_1000-auc` DESC \"\n",
    "        \"LIMIT 1 \", engine)\n",
    "    best_step = int(best_step_df.values)\n",
    "\n",
    "    training_auc_max = (\n",
    "        pd.read_sql_query(\n",
    "            \"select `training_pos-auc` as training_auc_max \"\n",
    "            \"from stats \"\n",
    "            f\"where step = {best_step} \",\n",
    "            engine)\n",
    "        [\"training_auc_max\"].values.tolist()[0]\n",
    "    )\n",
    "\n",
    "    validation_permute_auc_max = (\n",
    "        pd.read_sql_query(\n",
    "            \"select `validation_gan_permute_80_1000-auc` as validation_permute_auc_max \"\n",
    "            \"from stats \"\n",
    "            f\"where step = {best_step} \",\n",
    "            engine)\n",
    "        [\"validation_permute_auc_max\"].values.tolist()[0]\n",
    "    )\n",
    "\n",
    "    validation_exact_auc_max = (\n",
    "        pd.read_sql_query(\n",
    "            \"select `validation_gan_exact_80_1000-auc` as validation_exact_auc_max \"\n",
    "            \"from stats \"\n",
    "            f\"where step = {best_step} \",\n",
    "            engine)\n",
    "        [\"validation_exact_auc_max\"].values.tolist()[0]\n",
    "    )\n",
    "\n",
    "    data.append((network_name, training_auc_max, validation_permute_auc_max, validation_exact_auc_max))\n",
    "    \n",
    "validation_df = pd.DataFrame(\n",
    "    data,\n",
    "    columns=[\"network_name\", \"training_auc_max\", \"validation_permute_auc_max\", \"validation_exact_auc_max\"])\n",
    "validation_df = validation_df.sort_values(\"validation_exact_auc_max\", ascending=False)\n",
    "validation_df['network_slug'] = validation_df['network_name'].str[4:11]"
   ]
  },
  {
   "cell_type": "code",
   "execution_count": null,
   "metadata": {},
   "outputs": [],
   "source": [
    "validation_df"
   ]
  },
  {
   "cell_type": "markdown",
   "metadata": {},
   "source": [
    "# Plot"
   ]
  },
  {
   "cell_type": "code",
   "execution_count": null,
   "metadata": {},
   "outputs": [],
   "source": [
    "cmap = plt.get_cmap(\"Set1\")\n",
    "\n",
    "feature_names = {}\n",
    "\n",
    "for column in [\"training_auc_max\", \"validation_permute_auc_max\", \"validation_exact_auc_max\"]:\n",
    "    with plt.rc_context(rc={'figure.figsize': (2 + 0.6 * len(validation_df), 4), 'font.size': 13}):\n",
    "        x = np.arange(len(validation_df))\n",
    "        plt.bar(x, validation_df[column], color=cmap(2))\n",
    "        plt.xticks(x, validation_df['network_slug'], rotation=45)\n",
    "        plt.ylim(0.8, 1.01)\n",
    "        plt.ylabel(\"AUC\")\n",
    "        plt.title(column)\n",
    "        plt.tight_layout()\n",
    "        plt.savefig(OUTPUT_PATH.joinpath(f\"{column}.png\"), dpi=300, bbox_inches=\"tight\")\n",
    "        plt.savefig(OUTPUT_PATH.joinpath(f\"{column}.pdf\"), bbox_inches=\"tight\")\n",
    "        plt.show()"
   ]
  },
  {
   "cell_type": "code",
   "execution_count": null,
   "metadata": {},
   "outputs": [],
   "source": []
  }
 ],
 "metadata": {
  "kernelspec": {
   "display_name": "Python 3",
   "language": "python",
   "name": "python3"
  },
  "language_info": {
   "codemirror_mode": {
    "name": "ipython",
    "version": 3
   },
   "file_extension": ".py",
   "mimetype": "text/x-python",
   "name": "python",
   "nbconvert_exporter": "python",
   "pygments_lexer": "ipython3",
   "version": "3.6.6"
  },
  "toc": {
   "base_numbering": 1,
   "nav_menu": {},
   "number_sections": false,
   "sideBar": true,
   "skip_h1_title": false,
   "title_cell": "Table of Contents",
   "title_sidebar": "Contents",
   "toc_cell": false,
   "toc_position": {
    "height": "424px",
    "left": "26px",
    "top": "141px",
    "width": "187px"
   },
   "toc_section_display": true,
   "toc_window_display": true
  }
 },
 "nbformat": 4,
 "nbformat_minor": 2
}
