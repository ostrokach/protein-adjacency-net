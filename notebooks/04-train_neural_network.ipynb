{
 "cells": [
  {
   "cell_type": "markdown",
   "metadata": {},
   "source": [
    "# Summary\n",
    "\n",
    "In this notebook we train a NN with multiple concatenated sequences per batch.\n",
    "\n",
    "---"
   ]
  },
  {
   "cell_type": "markdown",
   "metadata": {},
   "source": [
    "# Imports"
   ]
  },
  {
   "cell_type": "code",
   "execution_count": 15,
   "metadata": {},
   "outputs": [
    {
     "name": "stderr",
     "output_type": "stream",
     "text": [
      "[autoreload of sphinx.config failed: Traceback (most recent call last):\n",
      "  File \"/home/kimlab1/strokach/anaconda3/lib/python3.6/site-packages/IPython/extensions/autoreload.py\", line 246, in check\n",
      "    superreload(m, reload, self.old_objects)\n",
      "  File \"/home/kimlab1/strokach/anaconda3/lib/python3.6/site-packages/IPython/extensions/autoreload.py\", line 385, in superreload\n",
      "    update_generic(old_obj, new_obj)\n",
      "  File \"/home/kimlab1/strokach/anaconda3/lib/python3.6/site-packages/IPython/extensions/autoreload.py\", line 324, in update_generic\n",
      "    update(a, b)\n",
      "  File \"/home/kimlab1/strokach/anaconda3/lib/python3.6/site-packages/IPython/extensions/autoreload.py\", line 279, in update_class\n",
      "    if old_obj == new_obj:\n",
      "  File \"/home/kimlab1/strokach/anaconda3/lib/python3.6/site-packages/sphinx/locale/__init__.py\", line 134, in __eq__\n",
      "    return self.data == other\n",
      "  File \"/home/kimlab1/strokach/anaconda3/lib/python3.6/site-packages/sphinx/locale/__init__.py\", line 56, in data\n",
      "    return self._func(*self._args)\n",
      "TypeError: descriptor '_func' for '_TranslationProxy' objects doesn't apply to '_TranslationProxy' object\n",
      "]\n",
      "[autoreload of sphinx.domains.std failed: Traceback (most recent call last):\n",
      "  File \"/home/kimlab1/strokach/anaconda3/lib/python3.6/site-packages/IPython/extensions/autoreload.py\", line 246, in check\n",
      "    superreload(m, reload, self.old_objects)\n",
      "  File \"/home/kimlab1/strokach/anaconda3/lib/python3.6/site-packages/IPython/extensions/autoreload.py\", line 385, in superreload\n",
      "    update_generic(old_obj, new_obj)\n",
      "  File \"/home/kimlab1/strokach/anaconda3/lib/python3.6/site-packages/IPython/extensions/autoreload.py\", line 324, in update_generic\n",
      "    update(a, b)\n",
      "  File \"/home/kimlab1/strokach/anaconda3/lib/python3.6/site-packages/IPython/extensions/autoreload.py\", line 279, in update_class\n",
      "    if old_obj == new_obj:\n",
      "  File \"/home/kimlab1/strokach/anaconda3/lib/python3.6/site-packages/sphinx/locale/__init__.py\", line 134, in __eq__\n",
      "    return self.data == other\n",
      "  File \"/home/kimlab1/strokach/anaconda3/lib/python3.6/site-packages/sphinx/locale/__init__.py\", line 56, in data\n",
      "    return self._func(*self._args)\n",
      "TypeError: descriptor '_func' for '_TranslationProxy' objects doesn't apply to '_TranslationProxy' object\n",
      "]\n",
      "[autoreload of sphinx.domains.python failed: Traceback (most recent call last):\n",
      "  File \"/home/kimlab1/strokach/anaconda3/lib/python3.6/site-packages/IPython/extensions/autoreload.py\", line 246, in check\n",
      "    superreload(m, reload, self.old_objects)\n",
      "  File \"/home/kimlab1/strokach/anaconda3/lib/python3.6/site-packages/IPython/extensions/autoreload.py\", line 385, in superreload\n",
      "    update_generic(old_obj, new_obj)\n",
      "  File \"/home/kimlab1/strokach/anaconda3/lib/python3.6/site-packages/IPython/extensions/autoreload.py\", line 324, in update_generic\n",
      "    update(a, b)\n",
      "  File \"/home/kimlab1/strokach/anaconda3/lib/python3.6/site-packages/IPython/extensions/autoreload.py\", line 279, in update_class\n",
      "    if old_obj == new_obj:\n",
      "  File \"/home/kimlab1/strokach/anaconda3/lib/python3.6/site-packages/sphinx/locale/__init__.py\", line 134, in __eq__\n",
      "    return self.data == other\n",
      "  File \"/home/kimlab1/strokach/anaconda3/lib/python3.6/site-packages/sphinx/locale/__init__.py\", line 56, in data\n",
      "    return self._func(*self._args)\n",
      "TypeError: descriptor '_func' for '_TranslationProxy' objects doesn't apply to '_TranslationProxy' object\n",
      "]\n",
      "[autoreload of pyarrow failed: Traceback (most recent call last):\n",
      "  File \"/home/kimlab1/strokach/anaconda3/lib/python3.6/site-packages/IPython/extensions/autoreload.py\", line 246, in check\n",
      "    superreload(m, reload, self.old_objects)\n",
      "  File \"/home/kimlab1/strokach/anaconda3/lib/python3.6/site-packages/IPython/extensions/autoreload.py\", line 369, in superreload\n",
      "    module = reload(module)\n",
      "  File \"/home/kimlab1/strokach/anaconda3/lib/python3.6/imp.py\", line 315, in reload\n",
      "    return importlib.reload(module)\n",
      "  File \"/home/kimlab1/strokach/anaconda3/lib/python3.6/importlib/__init__.py\", line 166, in reload\n",
      "    _bootstrap._exec(spec, module)\n",
      "  File \"<frozen importlib._bootstrap>\", line 618, in _exec\n",
      "  File \"<frozen importlib._bootstrap_external>\", line 678, in exec_module\n",
      "  File \"<frozen importlib._bootstrap>\", line 219, in _call_with_frames_removed\n",
      "  File \"/home/kimlab1/strokach/anaconda3/lib/python3.6/site-packages/pyarrow/__init__.py\", line 113, in <module>\n",
      "    import pyarrow.hdfs as hdfs\n",
      "AttributeError: module 'pyarrow' has no attribute 'hdfs'\n",
      "]\n",
      "[autoreload of pyarrow.serialization failed: Traceback (most recent call last):\n",
      "  File \"/home/kimlab1/strokach/anaconda3/lib/python3.6/site-packages/IPython/extensions/autoreload.py\", line 246, in check\n",
      "    superreload(m, reload, self.old_objects)\n",
      "  File \"/home/kimlab1/strokach/anaconda3/lib/python3.6/site-packages/IPython/extensions/autoreload.py\", line 369, in superreload\n",
      "    module = reload(module)\n",
      "  File \"/home/kimlab1/strokach/anaconda3/lib/python3.6/imp.py\", line 315, in reload\n",
      "    return importlib.reload(module)\n",
      "  File \"/home/kimlab1/strokach/anaconda3/lib/python3.6/importlib/__init__.py\", line 166, in reload\n",
      "    _bootstrap._exec(spec, module)\n",
      "  File \"<frozen importlib._bootstrap>\", line 618, in _exec\n",
      "  File \"<frozen importlib._bootstrap_external>\", line 678, in exec_module\n",
      "  File \"<frozen importlib._bootstrap>\", line 219, in _call_with_frames_removed\n",
      "  File \"/home/kimlab1/strokach/anaconda3/lib/python3.6/site-packages/pyarrow/serialization.py\", line 192, in <module>\n",
      "    register_default_serialization_handlers(_default_serialization_context)\n",
      "  File \"/home/kimlab1/strokach/anaconda3/lib/python3.6/site-packages/pyarrow/serialization.py\", line 174, in register_default_serialization_handlers\n",
      "    pickle=True)\n",
      "  File \"serialization.pxi\", line 76, in pyarrow.lib.SerializationContext.register_type\n",
      "TypeError: register_type() got an unexpected keyword argument 'pickle'\n",
      "]\n",
      "[autoreload of pagnn failed: Traceback (most recent call last):\n",
      "  File \"/home/kimlab1/strokach/anaconda3/lib/python3.6/site-packages/IPython/extensions/autoreload.py\", line 246, in check\n",
      "    superreload(m, reload, self.old_objects)\n",
      "  File \"/home/kimlab1/strokach/anaconda3/lib/python3.6/site-packages/IPython/extensions/autoreload.py\", line 369, in superreload\n",
      "    module = reload(module)\n",
      "  File \"/home/kimlab1/strokach/anaconda3/lib/python3.6/imp.py\", line 315, in reload\n",
      "    return importlib.reload(module)\n",
      "  File \"/home/kimlab1/strokach/anaconda3/lib/python3.6/importlib/__init__.py\", line 166, in reload\n",
      "    _bootstrap._exec(spec, module)\n",
      "  File \"<frozen importlib._bootstrap>\", line 618, in _exec\n",
      "  File \"<frozen importlib._bootstrap_external>\", line 678, in exec_module\n",
      "  File \"<frozen importlib._bootstrap>\", line 219, in _call_with_frames_removed\n",
      "  File \"/home/kimlab1/strokach/working/pagnn/pagnn/__init__.py\", line 7, in <module>\n",
      "    from . import settings, types, exc, models, scripts, datavar_gan\n",
      "  File \"/home/kimlab1/strokach/working/pagnn/pagnn/datavar_gan.py\", line 12, in <module>\n",
      "    from .types import DataSetGAN, DataVarGAN\n",
      "ImportError: cannot import name 'DataSetGAN'\n",
      "]\n"
     ]
    }
   ],
   "source": [
    "import torch\n",
    "import torch.nn as nn\n",
    "import torch.nn.functional as F\n",
    "import torch.optim as optim\n",
    "\n",
    "from torch.autograd import Variable"
   ]
  },
  {
   "cell_type": "code",
   "execution_count": 16,
   "metadata": {},
   "outputs": [
    {
     "name": "stderr",
     "output_type": "stream",
     "text": [
      "Setting the PACKAGE_VERSION environment variable.\n",
      "Setting the DOCS_SECRET_KEY environment variable.\n",
      "Setting the PYTHON_VERSION environment variable.\n",
      "Setting the SPARK_MASTER environment variable.\n",
      "Setting the SPARK_ARGS environment variable.\n",
      "Setting the DB_TYPE environment variable.\n",
      "Setting the DB_PORT environment variable.\n"
     ]
    },
    {
     "name": "stdout",
     "output_type": "stream",
     "text": [
      "The autoreload extension is already loaded. To reload it, use:\n",
      "  %reload_ext autoreload\n",
      "2018-02-28 18:23:15.154593\n"
     ]
    }
   ],
   "source": [
    "%run _imports.ipynb"
   ]
  },
  {
   "cell_type": "code",
   "execution_count": 17,
   "metadata": {},
   "outputs": [],
   "source": [
    "%run _settings.ipynb"
   ]
  },
  {
   "cell_type": "code",
   "execution_count": 18,
   "metadata": {
    "collapsed": true
   },
   "outputs": [],
   "source": [
    "from typing import NamedTuple\n",
    "\n",
    "import h5py\n",
    "from sklearn import metrics"
   ]
  },
  {
   "cell_type": "code",
   "execution_count": 19,
   "metadata": {
    "collapsed": true
   },
   "outputs": [],
   "source": [
    "import random\n",
    "random.seed(42)"
   ]
  },
  {
   "cell_type": "code",
   "execution_count": 20,
   "metadata": {},
   "outputs": [
    {
     "data": {
      "text/plain": [
       "<module 'pagnn' from '/home/kimlab1/strokach/working/pagnn/pagnn/__init__.py'>"
      ]
     },
     "execution_count": 20,
     "metadata": {},
     "output_type": "execute_result"
    }
   ],
   "source": [
    "import pagnn\n",
    "importlib.reload(pagnn)"
   ]
  },
  {
   "cell_type": "code",
   "execution_count": 21,
   "metadata": {
    "collapsed": true
   },
   "outputs": [],
   "source": [
    "NOTEBOOK_NAME = 'train_neural_network'\n",
    "NOTEBOOK_PATH = Path(NOTEBOOK_NAME).absolute()\n",
    "NOTEBOOK_PATH.mkdir(exist_ok=True)"
   ]
  },
  {
   "cell_type": "markdown",
   "metadata": {},
   "source": [
    "# Parameters"
   ]
  },
  {
   "cell_type": "markdown",
   "metadata": {},
   "source": [
    "## Run"
   ]
  },
  {
   "cell_type": "code",
   "execution_count": 22,
   "metadata": {},
   "outputs": [
    {
     "data": {
      "text/plain": [
       "<module 'pagnn.models' from '/home/kimlab1/strokach/working/pagnn/pagnn/models/__init__.py'>"
      ]
     },
     "execution_count": 22,
     "metadata": {},
     "output_type": "execute_result"
    }
   ],
   "source": [
    "importlib.reload(pagnn.models)"
   ]
  },
  {
   "cell_type": "markdown",
   "metadata": {},
   "source": [
    "### Script"
   ]
  },
  {
   "cell_type": "code",
   "execution_count": 23,
   "metadata": {},
   "outputs": [
    {
     "data": {
      "text/plain": [
       "PosixPath('/home/kimlab2/database_data/biological-data-warehouse/adjacency-net/notebooks/train_neural_network')"
      ]
     },
     "execution_count": 23,
     "metadata": {},
     "output_type": "execute_result"
    }
   ],
   "source": [
    "NOTEBOOK_PATH"
   ]
  },
  {
   "cell_type": "code",
   "execution_count": 24,
   "metadata": {},
   "outputs": [],
   "source": [
    "import pagnn.scripts.train_classifier"
   ]
  },
  {
   "cell_type": "code",
   "execution_count": 25,
   "metadata": {
    "run_control": {
     "marked": false
    },
    "scrolled": false
   },
   "outputs": [
    {
     "name": "stdout",
     "output_type": "stream",
     "text": [
      "usage: train_classifier.py [-h] [--rootdir ROOTDIR] [--datadir DATADIR]\r\n",
      "                           [--network_name NETWORK_NAME]\r\n",
      "                           [--loss_name LOSS_NAME] [--lr LR]\r\n",
      "                           [--weight_decay WEIGHT_DECAY]\r\n",
      "                           [--n_filters N_FILTERS]\r\n",
      "                           [--training-methods TRAINING_METHODS]\r\n",
      "                           [--training-min-seq-identity TRAINING_MIN_SEQ_IDENTITY]\r\n",
      "                           [--training-permutations {seq,adj,seq.adj}]\r\n",
      "                           [--validation-methods VALIDATION_METHODS]\r\n",
      "                           [--validation-num-sequences VALIDATION_NUM_SEQUENCES]\r\n",
      "                           [--validation-min-seq-identity VALIDATION_MIN_SEQ_IDENTITY]\r\n",
      "                           [--gpu GPU] [--tag TAG] [--resume]\r\n",
      "                           [--num-aa-to-process NUM_AA_TO_PROCESS]\r\n",
      "                           [--progress] [-n NUM_CONCURRENT_JOBS]\r\n",
      "\r\n",
      "optional arguments:\r\n",
      "  -h, --help            show this help message and exit\r\n",
      "  --rootdir ROOTDIR\r\n",
      "  --datadir DATADIR\r\n",
      "  --network_name NETWORK_NAME\r\n",
      "  --loss_name LOSS_NAME\r\n",
      "  --lr LR\r\n",
      "  --weight_decay WEIGHT_DECAY\r\n",
      "  --n_filters N_FILTERS\r\n",
      "  --training-methods TRAINING_METHODS\r\n",
      "  --training-min-seq-identity TRAINING_MIN_SEQ_IDENTITY\r\n",
      "  --training-permutations {seq,adj,seq.adj}\r\n",
      "  --validation-methods VALIDATION_METHODS\r\n",
      "  --validation-num-sequences VALIDATION_NUM_SEQUENCES\r\n",
      "  --validation-min-seq-identity VALIDATION_MIN_SEQ_IDENTITY\r\n",
      "  --gpu GPU\r\n",
      "  --tag TAG\r\n",
      "  --resume\r\n",
      "  --num-aa-to-process NUM_AA_TO_PROCESS\r\n",
      "  --progress\r\n",
      "  -n NUM_CONCURRENT_JOBS, --num-concurrent-jobs NUM_CONCURRENT_JOBS\r\n"
     ]
    }
   ],
   "source": [
    "!python {pagnn.scripts.train_classifier.__file__} --help"
   ]
  },
  {
   "cell_type": "code",
   "execution_count": 26,
   "metadata": {
    "run_control": {
     "marked": false
    }
   },
   "outputs": [
    {
     "name": "stdout",
     "output_type": "stream",
     "text": [
      "python /home/kimlab1/strokach/working/pagnn/pagnn/scripts/train_classifier.py --rootdir /home/kimlab2/database_data/biological-data-warehouse/adjacency-net/notebooks/train_neural_network --datadir /home/kimlab2/database_data/databin/adjacency-net --n_filters 64 --validation-min-seq-identity 80 --gpu -1 --training-methods permute --training-permutations seq --validation-methods exact --validation-min-seq-identity 80 --tag test_1\r\n"
     ]
    }
   ],
   "source": [
    "!echo python {pagnn.scripts.train_classifier.__file__} \\\n",
    "    --rootdir {NOTEBOOK_PATH} \\\n",
    "    --datadir {os.environ['DATABIN_DIR']}/adjacency-net \\\n",
    "    --n_filters 64 \\\n",
    "    --validation-min-seq-identity 80 \\\n",
    "    --gpu -1 \\\n",
    "    --training-methods permute \\\n",
    "    --training-permutations seq \\\n",
    "    --validation-methods exact \\\n",
    "    --validation-min-seq-identity 80 \\\n",
    "    --tag test_1"
   ]
  },
  {
   "cell_type": "code",
   "execution_count": null,
   "metadata": {
    "collapsed": true
   },
   "outputs": [],
   "source": []
  }
 ],
 "metadata": {
  "kernelspec": {
   "display_name": "Python [default]",
   "language": "python",
   "name": "python3"
  },
  "language_info": {
   "codemirror_mode": {
    "name": "ipython",
    "version": 3
   },
   "file_extension": ".py",
   "mimetype": "text/x-python",
   "name": "python",
   "nbconvert_exporter": "python",
   "pygments_lexer": "ipython3",
   "version": "3.6.4"
  },
  "toc": {
   "nav_menu": {},
   "number_sections": false,
   "sideBar": false,
   "skip_h1_title": false,
   "toc_cell": false,
   "toc_position": {
    "height": "437px",
    "left": "1656.97px",
    "right": "20px",
    "top": "106.354px",
    "width": "279px"
   },
   "toc_section_display": "block",
   "toc_window_display": true
  }
 },
 "nbformat": 4,
 "nbformat_minor": 2
}
