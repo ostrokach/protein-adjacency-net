{
 "cells": [
  {
   "cell_type": "markdown",
   "metadata": {
    "run_control": {
     "marked": false
    }
   },
   "source": [
    "# Summary"
   ]
  },
  {
   "cell_type": "markdown",
   "metadata": {
    "run_control": {
     "marked": false
    }
   },
   "source": [
    "# Imports"
   ]
  },
  {
   "cell_type": "code",
   "execution_count": 1,
   "metadata": {
    "run_control": {
     "marked": false
    }
   },
   "outputs": [
    {
     "name": "stderr",
     "output_type": "stream",
     "text": [
      "Setting the PACKAGE_VERSION environment variable.\n",
      "Setting the DOCS_SECRET_KEY environment variable.\n",
      "Setting the PYTHON_VERSION environment variable.\n",
      "Setting the SPARK_MASTER environment variable.\n",
      "Setting the SPARK_ARGS environment variable.\n",
      "Setting the DB_TYPE environment variable.\n",
      "Setting the DB_PORT environment variable.\n"
     ]
    },
    {
     "name": "stdout",
     "output_type": "stream",
     "text": [
      "2018-04-09 14:33:57.956070\n"
     ]
    }
   ],
   "source": [
    "%run _imports.ipynb"
   ]
  },
  {
   "cell_type": "code",
   "execution_count": 2,
   "metadata": {
    "collapsed": true,
    "run_control": {
     "marked": false
    }
   },
   "outputs": [],
   "source": [
    "import seaborn as sns\n",
    "from statsmodels.nonparametric.smoothers_lowess import lowess"
   ]
  },
  {
   "cell_type": "code",
   "execution_count": 3,
   "metadata": {
    "collapsed": true,
    "run_control": {
     "marked": false
    }
   },
   "outputs": [],
   "source": [
    "import torch\n",
    "import torch.nn as nn\n",
    "import torch.optim as optim\n",
    "import torch.nn.functional as F\n",
    "from torch.autograd import Variable\n",
    "\n",
    "torch.cuda.set_device(0)"
   ]
  },
  {
   "cell_type": "code",
   "execution_count": 4,
   "metadata": {
    "collapsed": true,
    "run_control": {
     "marked": false
    }
   },
   "outputs": [],
   "source": [
    "import pagnn"
   ]
  },
  {
   "cell_type": "markdown",
   "metadata": {
    "run_control": {
     "marked": false
    }
   },
   "source": [
    "# Parameters"
   ]
  },
  {
   "cell_type": "code",
   "execution_count": 5,
   "metadata": {
    "collapsed": true,
    "run_control": {
     "marked": false
    }
   },
   "outputs": [],
   "source": [
    "NOTEBOOK_NAME = 'optimize_gan_architecture'\n",
    "NOTEBOOK_PATH = Path(NOTEBOOK_NAME).absolute()\n",
    "NOTEBOOK_PATH.mkdir(exist_ok=True)"
   ]
  },
  {
   "cell_type": "code",
   "execution_count": 6,
   "metadata": {
    "collapsed": true,
    "run_control": {
     "marked": false
    }
   },
   "outputs": [],
   "source": [
    "seq = pagnn.utils.random_sequence(64, 20, 43)"
   ]
  },
  {
   "cell_type": "code",
   "execution_count": 7,
   "metadata": {
    "collapsed": true,
    "run_control": {
     "marked": false
    }
   },
   "outputs": [],
   "source": [
    "conv1 = nn.Conv1d(20, 32, kernel_size=4, stride=2, padding=2)"
   ]
  },
  {
   "cell_type": "code",
   "execution_count": 8,
   "metadata": {
    "run_control": {
     "marked": false
    }
   },
   "outputs": [
    {
     "data": {
      "text/plain": [
       "torch.Size([64, 32, 22])"
      ]
     },
     "execution_count": 8,
     "metadata": {},
     "output_type": "execute_result"
    }
   ],
   "source": [
    "conv1(Variable(seq)).shape"
   ]
  },
  {
   "cell_type": "code",
   "execution_count": 9,
   "metadata": {
    "run_control": {
     "marked": false
    }
   },
   "outputs": [
    {
     "data": {
      "text/plain": [
       "(21, 21)"
      ]
     },
     "execution_count": 9,
     "metadata": {},
     "output_type": "execute_result"
    }
   ],
   "source": [
    "pagnn.datavargan.conv2d_shape((43, 43), 4, 2, 1)"
   ]
  },
  {
   "cell_type": "code",
   "execution_count": 10,
   "metadata": {
    "run_control": {
     "marked": false
    }
   },
   "outputs": [
    {
     "data": {
      "text/plain": [
       "'0.4.0a0+1ab248d'"
      ]
     },
     "execution_count": 10,
     "metadata": {},
     "output_type": "execute_result"
    }
   ],
   "source": [
    "torch.__version__"
   ]
  },
  {
   "cell_type": "markdown",
   "metadata": {
    "collapsed": true,
    "run_control": {
     "marked": false
    }
   },
   "source": [
    "#### `conv1d_xtimes_shape`"
   ]
  },
  {
   "cell_type": "code",
   "execution_count": 50,
   "metadata": {
    "collapsed": true,
    "run_control": {
     "marked": false
    }
   },
   "outputs": [],
   "source": [
    "def conv1d_xtimes_shape(in_channels, n_times, kernel_size=1, stride=1, padding=0, dilation=1):\n",
    "    out_channels = in_channels\n",
    "    for _ in range(n_times):\n",
    "        out_channels = pagnn.utils.conv1d_shape(\n",
    "            out_channels,\n",
    "            kernel_size=kernel_size,\n",
    "            stride=stride,\n",
    "            padding=padding,\n",
    "            dilation=dilation,\n",
    "        )\n",
    "    return out_channels"
   ]
  },
  {
   "cell_type": "code",
   "execution_count": 51,
   "metadata": {
    "run_control": {
     "marked": false
    }
   },
   "outputs": [
    {
     "data": {
      "text/plain": [
       "4"
      ]
     },
     "execution_count": 51,
     "metadata": {},
     "output_type": "execute_result"
    }
   ],
   "source": [
    "conv1d_xtimes_shape(64, 4, kernel_size=4, stride=2, padding=1)"
   ]
  },
  {
   "cell_type": "markdown",
   "metadata": {
    "run_control": {
     "marked": false
    }
   },
   "source": [
    "## Functions"
   ]
  },
  {
   "cell_type": "code",
   "execution_count": 52,
   "metadata": {
    "code_folding": [
     0,
     12,
     26
    ],
    "collapsed": true,
    "run_control": {
     "marked": false
    }
   },
   "outputs": [],
   "source": [
    "def plot_losses(losses, lengths):\n",
    "    x = np.arange(len(losses))\n",
    "    # y_lowess = lowess(losses, x, frac=0.1, return_sorted=False)\n",
    "\n",
    "    plt.plot(x[lengths % 2 == 0], losses[lengths % 2 == 0], 'o-', label='even', alpha=0.5)\n",
    "    plt.plot(x[lengths % 2 != 0], losses[lengths % 2 != 0], 'o-', label='odd', alpha=0.5)\n",
    "    # plt.plot(x, y_lowess, label='fit', color='k', linewidth=2)\n",
    "\n",
    "    plt.title(f'Loss: {losses[-20:].mean():.5f}', fontsize=18)\n",
    "    plt.legend(loc='upper right')\n",
    "   \n",
    "    \n",
    "def plot_accuarcy(scores, edges_edit_scores, lengths):\n",
    "    x = np.arange(len(scores))\n",
    "    y_lowess = lowess(scores, x, frac=0.1, return_sorted=False)\n",
    "\n",
    "    plt.plot(x[lengths % 2 == 0], scores[lengths % 2 == 0], '.-', label='even', alpha=0.5)\n",
    "    plt.plot(x[lengths % 2 != 0], scores[lengths % 2 != 0], '.-', label='odd', alpha=0.5)\n",
    "\n",
    "    plt.plot(x[lengths % 2 == 0], edges_edit_scores[lengths % 2 == 0], '.-', label='even edges', alpha=0.5)\n",
    "    plt.plot(x[lengths % 2 != 0], edges_edit_scores[lengths % 2 != 0], '.-', label='odd edges', alpha=0.5)\n",
    "\n",
    "    plt.title(f'Accuracy: {scores[-20:].mean():.5f}', fontsize=18)\n",
    "    plt.legend(loc='lower right')\n",
    "\n",
    "    \n",
    "def hist_output(out, range_):\n",
    "    plt.hist(out.view(-1).cpu().data.numpy(), bins=20, range=range_)\n",
    "    plt.yscale('log', nonposy='clip')\n",
    "    plt.ylabel(\"Number of points\\n(number of amino acids x 20)\")\n",
    "    plt.xlabel(\"Predicted score\")"
   ]
  },
  {
   "cell_type": "markdown",
   "metadata": {
    "run_control": {
     "marked": false
    }
   },
   "source": [
    "# Random sequence"
   ]
  },
  {
   "cell_type": "markdown",
   "metadata": {
    "run_control": {
     "marked": false
    }
   },
   "source": [
    "## Settings"
   ]
  },
  {
   "cell_type": "code",
   "execution_count": 44,
   "metadata": {
    "run_control": {
     "marked": false
    }
   },
   "outputs": [
    {
     "data": {
      "text/plain": [
       "<module 'pagnn.models' from '/home/kimlab1/strokach/working/pagnn/pagnn/models/__init__.py'>"
      ]
     },
     "execution_count": 44,
     "metadata": {},
     "output_type": "execute_result"
    }
   ],
   "source": [
    "importlib.reload(pagnn.models)"
   ]
  },
  {
   "cell_type": "code",
   "execution_count": 45,
   "metadata": {
    "run_control": {
     "marked": false
    }
   },
   "outputs": [
    {
     "name": "stdout",
     "output_type": "stream",
     "text": [
      "AEBasicConvDeconv_4layers_64to256length_64bottleneck_256batch\n"
     ]
    }
   ],
   "source": [
    "n_layers = 4\n",
    "bottleneck_size = 64\n",
    "batch_size = 256\n",
    "min_seq_len = 64\n",
    "max_seq_len = 256\n",
    "n_iters = 3_000\n",
    "\n",
    "Network = pagnn.models.AEBasicConvDeconv\n",
    "# Network = pagnn.models.AEBasicPoolPixelShuffle\n",
    "# Network = pagnn.models.AEBasicPoolUpsample\n",
    "\n",
    "uniqie_id = '-'.join([\n",
    "    f'{Network.__name__}',\n",
    "    f'{n_layers}layers',\n",
    "    f'{min_seq_len}to{max_seq_len}length',\n",
    "    f'{bottleneck_size}bottleneck',\n",
    "    f'{batch_size}batch',\n",
    "])\n",
    "print(uniqie_id)"
   ]
  },
  {
   "cell_type": "code",
   "execution_count": 46,
   "metadata": {
    "run_control": {
     "marked": false
    }
   },
   "outputs": [
    {
     "name": "stdout",
     "output_type": "stream",
     "text": [
      "0\n"
     ]
    }
   ],
   "source": [
    "net = Network(n_layers=n_layers, bottleneck_size=bottleneck_size).cuda()\n",
    "loss_fn = nn.BCELoss().cuda()\n",
    "optimizer = optim.Adam(net.parameters(), lr=0.0005)"
   ]
  },
  {
   "cell_type": "markdown",
   "metadata": {
    "run_control": {
     "marked": false
    }
   },
   "source": [
    "## Run"
   ]
  },
  {
   "cell_type": "code",
   "execution_count": null,
   "metadata": {
    "collapsed": true,
    "run_control": {
     "marked": false
    }
   },
   "outputs": [],
   "source": [
    "# Run\n",
    "seed = 42\n",
    "random_state = np.random.RandomState(seed)\n",
    "torch.manual_seed(seed)\n",
    "torch.cuda.manual_seed_all(seed)\n",
    "\n",
    "lengths = []\n",
    "scores = []\n",
    "edges_edit_scores = []\n",
    "losses = []\n",
    "\n",
    "for i in tqdm.tqdm_notebook(range(n_iters), total=n_iters):\n",
    "    optimizer.zero_grad()\n",
    "    \n",
    "    x_list = []\n",
    "    adjs = []\n",
    "    for j in range(batch_size):\n",
    "        n_aa = random_state.randint(min_seq_len, max_seq_len)\n",
    "        # n_aa = 21\n",
    "        xd = pagnn.utils.random_sequence(1, 20, n_aa, random_state).cuda()\n",
    "        adj = net.get_adjs(xd)\n",
    "        assert adj[0] == xd.shape[2]\n",
    "        x_list.append(xd)\n",
    "        adjs.append(adj)\n",
    "\n",
    "    seq = torch.cat(x_list, 2)\n",
    "   \n",
    "    out = net(seq, adjs)\n",
    "\n",
    "    loss = loss_fn(out.view(-1, 1), seq.view(-1, 1))\n",
    "    loss.backward()\n",
    "    \n",
    "    optimizer.step()\n",
    "\n",
    "    losses.append(loss.mean().cpu().data.numpy())\n",
    "    lengths.append(n_aa)\n",
    "\n",
    "    out_argmax = pagnn.utils.argmax_onehot(out.data)\n",
    "    edit_score = pagnn.utils.score_edit(seq[0, :, :].data, out_argmax)\n",
    "    scores.append(edit_score)\n",
    "\n",
    "    seq_edges = []\n",
    "    out_edges = []\n",
    "    start = 0\n",
    "    for adj in adjs:\n",
    "        seq_len = adj[0].shape[1]\n",
    "        stop = start + seq_len\n",
    "        seq_edges.extend([seq[:, :, start:start + 5], seq[:, :, stop - 5:stop]])\n",
    "        out_edges.extend([out[:, :, start:start + 5], out[:, :, stop - 5:stop]])\n",
    "        start = stop\n",
    "    assert start == seq.shape[2]\n",
    "    seq_edges = torch.cat(seq_edges, 2)\n",
    "    out_edges = torch.cat(out_edges, 2)\n",
    "\n",
    "    out_edges_argmax = pagnn.utils.argmax_onehot(out_edges.data)\n",
    "    edges_edit_score = pagnn.utils.score_edit(seq_edges[0, :, :].data, out_edges_argmax)\n",
    "    edges_edit_scores.append(edges_edit_score)\n",
    "\n",
    "    if i % 100 == 0:\n",
    "        print(f'{edges_edit_score:.5f}')"
   ]
  },
  {
   "cell_type": "code",
   "execution_count": 760,
   "metadata": {
    "code_folding": [],
    "collapsed": true,
    "run_control": {
     "marked": false
    },
    "scrolled": true
   },
   "outputs": [],
   "source": [
    "losses = np.array(losses).squeeze()\n",
    "scores = np.vstack(scores).squeeze()\n",
    "edges_edit_scores = np.vstack(edges_edit_scores).squeeze()\n",
    "lengths = np.vstack(lengths).squeeze()"
   ]
  },
  {
   "cell_type": "code",
   "execution_count": 696,
   "metadata": {
    "code_folding": [],
    "run_control": {
     "marked": false
    }
   },
   "outputs": [
    {
     "data": {
      "image/png": "[encoded data removed]",
      "text/plain": [
       "<matplotlib.figure.Figure at 0x7f80fbf9d2e8>"
      ]
     },
     "metadata": {},
     "output_type": "display_data"
    }
   ],
   "source": [
    "# Plot 1\n",
    "fg, axs = plt.subplots(1, 2, figsize=(16, 5))\n",
    "\n",
    "# === Loss ===\n",
    "plt.sca(axs[0])\n",
    "plot_losses(losses, lengths)\n",
    "\n",
    "# === Accuracy ===\n",
    "plt.sca(axs[1])\n",
    "plot_accuarcy(scores, edges_edit_scores, lengths)\n",
    "\n",
    "plt.tight_layout()\n",
    "plt.savefig(NOTEBOOK_PATH.joinpath(f'{uniqie_id}-random_seq-loss_acc.pdf').as_posix(), bbox_inches='tight')\n",
    "plt.savefig(NOTEBOOK_PATH.joinpath(f'{uniqie_id}-random_seq-loss_acc.png').as_posix(), dpi=72, bbox_inches='tight')"
   ]
  },
  {
   "cell_type": "code",
   "execution_count": 697,
   "metadata": {
    "code_folding": [],
    "run_control": {
     "marked": false
    },
    "scrolled": false
   },
   "outputs": [
    {
     "data": {
      "image/png": "[encoded data removed]",
      "text/plain": [
       "<matplotlib.figure.Figure at 0x7f80fbf9d080>"
      ]
     },
     "metadata": {},
     "output_type": "display_data"
    }
   ],
   "source": [
    "# Plot 2 \n",
    "fg, axs = plt.subplots(1, 2, figsize=(16, 5))\n",
    "\n",
    "# \n",
    "plt.sca(axs[0])\n",
    "hist_output(out, None)\n",
    "\n",
    "plt.sca(axs[1])\n",
    "hist_output(out, (0, 0.2))\n",
    "\n",
    "plt.tight_layout()\n",
    "# plt.savefig(NOTEBOOK_PATH.joinpath(f'{uniqie_id}_hist.pdf').as_posix(), bbox_inches='tight')\n",
    "# plt.savefig(NOTEBOOK_PATH.joinpath(f'{uniqie_id}_hist.png').as_posix(), dpi=72, bbox_inches='tight')"
   ]
  },
  {
   "cell_type": "markdown",
   "metadata": {
    "run_control": {
     "marked": false
    }
   },
   "source": [
    "# Real sequence"
   ]
  },
  {
   "cell_type": "markdown",
   "metadata": {
    "run_control": {
     "marked": false
    }
   },
   "source": [
    "## Settings"
   ]
  },
  {
   "cell_type": "code",
   "execution_count": 14,
   "metadata": {
    "run_control": {
     "marked": false
    }
   },
   "outputs": [
    {
     "data": {
      "text/plain": [
       "<module 'pagnn.models' from '/home/kimlab1/strokach/working/pagnn/pagnn/models/__init__.py'>"
      ]
     },
     "execution_count": 14,
     "metadata": {},
     "output_type": "execute_result"
    }
   ],
   "source": [
    "importlib.reload(pagnn.models)"
   ]
  },
  {
   "cell_type": "code",
   "execution_count": 16,
   "metadata": {
    "run_control": {
     "marked": false
    }
   },
   "outputs": [
    {
     "name": "stdout",
     "output_type": "stream",
     "text": [
      "AEBasicConvDeconv_4layers_64to256length_32bottleneck_256batch\n"
     ]
    }
   ],
   "source": [
    "n_layers = 4\n",
    "bottleneck_size = 32\n",
    "batch_size = 256\n",
    "min_seq_len = 64\n",
    "max_seq_len = 256\n",
    "n_iters = 3000\n",
    "\n",
    "Network = pagnn.models.AEBasicConvDeconv\n",
    "# Network = pagnn.models.AEBasicPoolPixelShuffle\n",
    "# Network = pagnn.models.AEBasicPoolUpsample\n",
    "\n",
    "uniqie_id = '-'.join([\n",
    "    f'{Network.__name__}',\n",
    "    f'{n_layers}layers',\n",
    "    f'{min_seq_len}to{max_seq_len}length',\n",
    "    f'{bottleneck_size}bottleneck',\n",
    "    f'{batch_size}batch',\n",
    "])\n",
    "print(uniqie_id)"
   ]
  },
  {
   "cell_type": "code",
   "execution_count": 17,
   "metadata": {
    "run_control": {
     "marked": false
    }
   },
   "outputs": [
    {
     "name": "stdout",
     "output_type": "stream",
     "text": [
      "0\n"
     ]
    }
   ],
   "source": [
    "net = Network(n_layers=n_layers, bottleneck_size=bottleneck_size).cuda()\n",
    "loss_fn = nn.BCELoss().cuda()\n",
    "optimizer = optim.Adam(net.parameters(), lr=0.0005)"
   ]
  },
  {
   "cell_type": "markdown",
   "metadata": {
    "run_control": {
     "marked": false
    }
   },
   "source": [
    "## Run"
   ]
  },
  {
   "cell_type": "code",
   "execution_count": 18,
   "metadata": {
    "collapsed": true,
    "run_control": {
     "marked": false
    }
   },
   "outputs": [],
   "source": [
    "import pagnn.training.gan.main\n",
    "\n",
    "import pagnn.dataset\n",
    "import pagnn.datavargan"
   ]
  },
  {
   "cell_type": "code",
   "execution_count": 19,
   "metadata": {
    "run_control": {
     "marked": false
    }
   },
   "outputs": [
    {
     "data": {
      "text/plain": [
       "<module 'pagnn.datavargan' from '/home/kimlab1/strokach/working/pagnn/pagnn/datavargan.py'>"
      ]
     },
     "execution_count": 19,
     "metadata": {},
     "output_type": "execute_result"
    }
   ],
   "source": [
    "importlib.reload(pagnn.dataset)\n",
    "importlib.reload(pagnn.datavargan)"
   ]
  },
  {
   "cell_type": "code",
   "execution_count": 20,
   "metadata": {
    "collapsed": true,
    "run_control": {
     "marked": false
    }
   },
   "outputs": [],
   "source": [
    "from typing import NamedTuple\n",
    "\n",
    "class Args(NamedTuple):\n",
    "    training_min_seq_identity: int = 80\n",
    "    training_methods: str = 'permute'\n",
    "    batch_size: int = 1\n",
    "\n",
    "args = Args()"
   ]
  },
  {
   "cell_type": "code",
   "execution_count": 21,
   "metadata": {
    "run_control": {
     "marked": false
    }
   },
   "outputs": [
    {
     "data": {
      "text/plain": [
       "PosixPath('/home/kimlab2/database_data/databin')"
      ]
     },
     "execution_count": 21,
     "metadata": {},
     "output_type": "execute_result"
    }
   ],
   "source": [
    "root_path = Path(os.getenv('DATABIN_DIR')).absolute()\n",
    "root_path"
   ]
  },
  {
   "cell_type": "code",
   "execution_count": 22,
   "metadata": {
    "run_control": {
     "marked": false
    }
   },
   "outputs": [
    {
     "data": {
      "text/plain": [
       "PosixPath('/home/kimlab2/database_data/biological-data-warehouse/adjacency-net/notebooks')"
      ]
     },
     "execution_count": 22,
     "metadata": {},
     "output_type": "execute_result"
    }
   ],
   "source": [
    "data_path = NOTEBOOK_PATH.parent.absolute()\n",
    "data_path"
   ]
  },
  {
   "cell_type": "code",
   "execution_count": 23,
   "metadata": {
    "collapsed": true,
    "run_control": {
     "marked": false
    }
   },
   "outputs": [],
   "source": [
    "def get_adjs(shape, n_layers):\n",
    "    adjs = [shape]\n",
    "    for _ in range(n_layers + 1):\n",
    "        adjs.append(pagnn.utils.conv1d_shape_ceil(adjs[-1], kernel_size=4, stride=2, padding=1))\n",
    "    return adjs"
   ]
  },
  {
   "cell_type": "code",
   "execution_count": null,
   "metadata": {
    "run_control": {
     "marked": false
    }
   },
   "outputs": [
    {
     "name": "stderr",
     "output_type": "stream",
     "text": [
      "Setting up training datagen...\n",
      "Loaded folder weights from file: '/home/kimlab2/database_data/biological-data-warehouse/adjacency-net/notebooks/threshold_by_pc_identity/adjacency_matrix_training_gt80-weights.pickle'\n",
      "Loaded folder weights from file: '/home/kimlab2/database_data/biological-data-warehouse/adjacency-net/notebooks/group_by_sequence_length/adjacency_matrix_training_gt80_gbseqlen-weights.pickle'\n"
     ]
    },
    {
     "data": {
      "application/vnd.jupyter.widget-view+json": {
       "model_id": "438fe9335fe14296ac972910dda15dbe",
       "version_major": 2,
       "version_minor": 0
      },
      "text/html": [
       "<p>Failed to display Jupyter Widget of type <code>HBox</code>.</p>\n",
       "<p>\n",
       "  If you're reading this message in the Jupyter Notebook or JupyterLab Notebook, it may mean\n",
       "  that the widgets JavaScript is still loading. If this message persists, it\n",
       "  likely means that the widgets JavaScript library is either not installed or\n",
       "  not enabled. See the <a href=\"https://ipywidgets.readthedocs.io/en/stable/user_install.html\">Jupyter\n",
       "  Widgets Documentation</a> for setup instructions.\n",
       "</p>\n",
       "<p>\n",
       "  If you're reading this message in another frontend (for example, a static\n",
       "  rendering on GitHub or <a href=\"https://nbviewer.jupyter.org/\">NBViewer</a>),\n",
       "  it may mean that your frontend doesn't currently support widgets.\n",
       "</p>\n"
      ],
      "text/plain": [
       "HBox(children=(IntProgress(value=0, max=3000), HTML(value='')))"
      ]
     },
     "metadata": {},
     "output_type": "display_data"
    },
    {
     "name": "stdout",
     "output_type": "stream",
     "text": [
      "0.04474\n",
      "0.26465\n",
      "0.27015\n",
      "0.31469\n",
      "0.39948\n",
      "0.42184\n"
     ]
    }
   ],
   "source": [
    "generate_data = not ('seqs_list' in locals() and len(locals()['seqs_list']) >= n_iters)\n",
    "\n",
    "seed = 42\n",
    "random_state = np.random.RandomState(seed)\n",
    "torch.manual_seed(seed)\n",
    "torch.cuda.manual_seed_all(seed)\n",
    "\n",
    "positive_rowgen, negative_ds_gen = pagnn.training.gan.main.get_training_datasets(args, root_path, data_path)\n",
    "\n",
    "lengths = []\n",
    "scores = []\n",
    "edges_edit_scores = []\n",
    "losses = []\n",
    "\n",
    "if generate_data:\n",
    "    seqs_list = []\n",
    "    adjs_list = []\n",
    "\n",
    "for i in tqdm.tqdm_notebook(range(n_iters), total=n_iters):\n",
    "    \n",
    "    if generate_data:\n",
    "        seq_list = []\n",
    "        adjs = []\n",
    "        for j in range(batch_size):\n",
    "            pos_row = next(positive_rowgen)\n",
    "            pos_ds = pagnn.dataset.to_gan(pagnn.dataset.row_to_dataset(pos_row, 1))\n",
    "\n",
    "            n_aa = len(pos_ds.seqs[0])\n",
    "            if not (min_seq_len <= n_aa < max_seq_len):\n",
    "                continue\n",
    "\n",
    "            pos_dv = pagnn.datavargan.dataset_to_datavar(pos_ds)\n",
    "            assert pos_dv.seqs.shape[2] == n_aa\n",
    "            seq_list.append(pos_dv.seqs)\n",
    "\n",
    "            adj = get_adjs(n_aa, n_layers)\n",
    "            assert adj[0] == n_aa\n",
    "            adjs.append(adj)\n",
    "\n",
    "        seqs = torch.cat(seq_list, 2)\n",
    "        \n",
    "        assert seqs.shape[2] == sum(adj[0] for adj in adjs)\n",
    "        seqs_list.append(seqs)\n",
    "        adjs_list.append(adjs)\n",
    "        \n",
    "    seq = seqs_list[i]\n",
    "    adjs = adjs_list[i]\n",
    "\n",
    "    # Training part...\n",
    "    optimizer.zero_grad()\n",
    "\n",
    "    out = net(seq, adjs)\n",
    "\n",
    "    loss = loss_fn(out.view(-1, 1), seq.view(-1, 1))\n",
    "    loss.backward()\n",
    "    \n",
    "    optimizer.step()\n",
    "\n",
    "    losses.append(loss.mean().cpu().data.numpy())\n",
    "    lengths.append(int(seq.shape[2]))\n",
    "\n",
    "    out_argmax = pagnn.utils.argmax_onehot(out.data)\n",
    "    edit_score = pagnn.utils.score_edit(seq[0, :, :].data, out_argmax)\n",
    "    scores.append(edit_score)\n",
    "\n",
    "    seq_edges = []\n",
    "    out_edges = []\n",
    "    start = 0\n",
    "    for adj in adjs:\n",
    "        seq_len = adj[0]\n",
    "        stop = start + seq_len\n",
    "        seq_edges.extend([seq[:, :, start:start + 5], seq[:, :, stop - 5:stop]])\n",
    "        out_edges.extend([out[:, :, start:start + 5], out[:, :, stop - 5:stop]])\n",
    "        start = stop\n",
    "    assert start == seq.shape[2]\n",
    "    seq_edges = torch.cat(seq_edges, 2)\n",
    "    out_edges = torch.cat(out_edges, 2)\n",
    "\n",
    "    out_edges_argmax = pagnn.utils.argmax_onehot(out_edges.data)\n",
    "    edges_edit_score = pagnn.utils.score_edit(seq_edges[0, :, :].data, out_edges_argmax)\n",
    "    edges_edit_scores.append(edges_edit_score)\n",
    "    \n",
    "    if i % 100 == 0:\n",
    "        print(f'{edges_edit_score:.5f}')"
   ]
  },
  {
   "cell_type": "code",
   "execution_count": null,
   "metadata": {
    "collapsed": true,
    "run_control": {
     "marked": false
    }
   },
   "outputs": [],
   "source": [
    "losses = np.array(losses).squeeze()\n",
    "scores = np.vstack(scores).squeeze()\n",
    "edges_edit_scores = np.vstack(edges_edit_scores).squeeze()\n",
    "lengths = np.vstack(lengths).squeeze()"
   ]
  },
  {
   "cell_type": "code",
   "execution_count": null,
   "metadata": {
    "code_folding": [],
    "collapsed": true,
    "run_control": {
     "marked": false
    }
   },
   "outputs": [],
   "source": [
    "# Plot 1\n",
    "fg, axs = plt.subplots(1, 2, figsize=(16, 5))\n",
    "\n",
    "# === Loss ===\n",
    "plt.sca(axs[0])\n",
    "plot_losses(losses, lengths)\n",
    "\n",
    "# === Accuracy ===\n",
    "plt.sca(axs[1])\n",
    "plot_accuarcy(scores, edges_edit_scores, lengths)\n",
    "\n",
    "plt.tight_layout()\n",
    "plt.savefig(NOTEBOOK_PATH.joinpath(f'{uniqie_id}-real_seq-loss_acc.pdf').as_posix(), bbox_inches='tight')\n",
    "plt.savefig(NOTEBOOK_PATH.joinpath(f'{uniqie_id}-real_seq-loss_acc.png').as_posix(), dpi=72, bbox_inches='tight')"
   ]
  },
  {
   "cell_type": "code",
   "execution_count": null,
   "metadata": {
    "code_folding": [],
    "collapsed": true,
    "run_control": {
     "marked": false
    }
   },
   "outputs": [],
   "source": [
    "# Plot 2 \n",
    "fg, axs = plt.subplots(1, 2, figsize=(16, 5))\n",
    "\n",
    "# === All scores ===\n",
    "plt.sca(axs[0])\n",
    "hist_output(out, None)\n",
    "\n",
    "# === Zoom in ===\n",
    "plt.sca(axs[1])\n",
    "hist_output(out, (0, 0.2))\n",
    "\n",
    "plt.tight_layout()"
   ]
  },
  {
   "cell_type": "markdown",
   "metadata": {
    "run_control": {
     "marked": false
    }
   },
   "source": [
    "# Real sequence + adjacency"
   ]
  },
  {
   "cell_type": "markdown",
   "metadata": {
    "run_control": {
     "marked": false
    }
   },
   "source": [
    "## Settings"
   ]
  },
  {
   "cell_type": "code",
   "execution_count": 72,
   "metadata": {
    "run_control": {
     "marked": true
    }
   },
   "outputs": [
    {
     "data": {
      "text/plain": [
       "<module 'pagnn.models' from '/home/kimlab1/strokach/working/pagnn/pagnn/models/__init__.py'>"
      ]
     },
     "execution_count": 72,
     "metadata": {},
     "output_type": "execute_result"
    }
   ],
   "source": [
    "importlib.reload(pagnn.models)"
   ]
  },
  {
   "cell_type": "code",
   "execution_count": 73,
   "metadata": {
    "run_control": {
     "marked": true
    }
   },
   "outputs": [
    {
     "name": "stdout",
     "output_type": "stream",
     "text": [
      "AEComplexConvDeconv_4layers_64to256length_32bottleneck_256batch\n"
     ]
    }
   ],
   "source": [
    "n_layers = 4\n",
    "bottleneck_size = 32\n",
    "batch_size = 256\n",
    "min_seq_len = 64\n",
    "max_seq_len = 256\n",
    "n_iters = 3000\n",
    "\n",
    "Network = pagnn.models.AEComplexConvDeconv\n",
    "# Network = pagnn.models.AEBasicPoolPixelShuffle\n",
    "# Network = pagnn.models.AEBasicPoolUpsample\n",
    "\n",
    "uniqie_id = '_'.join([\n",
    "    f'{Network.__name__}',\n",
    "    f'{n_layers}layers',\n",
    "    f'{min_seq_len}to{max_seq_len}length',\n",
    "    f'{bottleneck_size}bottleneck',\n",
    "    f'{batch_size}batch',\n",
    "])\n",
    "print(uniqie_id)"
   ]
  },
  {
   "cell_type": "code",
   "execution_count": 74,
   "metadata": {
    "run_control": {
     "marked": true
    }
   },
   "outputs": [
    {
     "name": "stdout",
     "output_type": "stream",
     "text": [
      "0\n"
     ]
    }
   ],
   "source": [
    "net = Network(n_layers=n_layers, bottleneck_size=bottleneck_size).cuda()\n",
    "loss_fn = nn.BCELoss().cuda()\n",
    "optimizer = optim.Adam(net.parameters(), lr=0.0005)"
   ]
  },
  {
   "cell_type": "markdown",
   "metadata": {
    "run_control": {
     "marked": false
    }
   },
   "source": [
    "## Model"
   ]
  },
  {
   "cell_type": "code",
   "execution_count": 75,
   "metadata": {
    "collapsed": true,
    "run_control": {
     "marked": true
    }
   },
   "outputs": [],
   "source": [
    "import pagnn.training.gan.main\n",
    "\n",
    "import pagnn.dataset\n",
    "import pagnn.datavargan"
   ]
  },
  {
   "cell_type": "code",
   "execution_count": 76,
   "metadata": {
    "run_control": {
     "marked": true
    }
   },
   "outputs": [
    {
     "data": {
      "text/plain": [
       "<module 'pagnn.datavargan' from '/home/kimlab1/strokach/working/pagnn/pagnn/datavargan.py'>"
      ]
     },
     "execution_count": 76,
     "metadata": {},
     "output_type": "execute_result"
    }
   ],
   "source": [
    "importlib.reload(pagnn.dataset)\n",
    "importlib.reload(pagnn.datavargan)"
   ]
  },
  {
   "cell_type": "code",
   "execution_count": 77,
   "metadata": {
    "collapsed": true,
    "run_control": {
     "marked": true
    }
   },
   "outputs": [],
   "source": [
    "from typing import NamedTuple\n",
    "\n",
    "class Args(NamedTuple):\n",
    "    training_min_seq_identity: int = 80\n",
    "    training_methods: str = 'permute'\n",
    "    batch_size: int = 1\n",
    "\n",
    "args = Args()"
   ]
  },
  {
   "cell_type": "code",
   "execution_count": 78,
   "metadata": {
    "run_control": {
     "marked": true
    }
   },
   "outputs": [
    {
     "data": {
      "text/plain": [
       "PosixPath('/home/kimlab2/database_data/databin')"
      ]
     },
     "execution_count": 78,
     "metadata": {},
     "output_type": "execute_result"
    }
   ],
   "source": [
    "root_path = Path(os.getenv('DATABIN_DIR')).absolute()\n",
    "root_path"
   ]
  },
  {
   "cell_type": "code",
   "execution_count": 79,
   "metadata": {
    "run_control": {
     "marked": true
    }
   },
   "outputs": [
    {
     "data": {
      "text/plain": [
       "PosixPath('/home/kimlab2/database_data/biological-data-warehouse/adjacency-net/notebooks')"
      ]
     },
     "execution_count": 79,
     "metadata": {},
     "output_type": "execute_result"
    }
   ],
   "source": [
    "data_path = NOTEBOOK_PATH.parent.absolute()\n",
    "data_path"
   ]
  },
  {
   "cell_type": "code",
   "execution_count": 80,
   "metadata": {
    "collapsed": true,
    "run_control": {
     "marked": true
    }
   },
   "outputs": [],
   "source": [
    "def get_adjs(shape, n_layers):\n",
    "    adjs = [shape]\n",
    "    for _ in range(n_layers + 1):\n",
    "        adjs.append(pagnn.utils.conv1d_shape_ceil(adjs[-1], kernel_size=4, stride=2, padding=1))\n",
    "    return adjs"
   ]
  },
  {
   "cell_type": "code",
   "execution_count": null,
   "metadata": {
    "run_control": {
     "marked": true
    }
   },
   "outputs": [
    {
     "name": "stderr",
     "output_type": "stream",
     "text": [
      "Setting up training datagen...\n",
      "Loaded folder weights from file: '/home/kimlab2/database_data/biological-data-warehouse/adjacency-net/notebooks/threshold_by_pc_identity/adjacency_matrix_training_gt80-weights.pickle'\n",
      "Loaded folder weights from file: '/home/kimlab2/database_data/biological-data-warehouse/adjacency-net/notebooks/group_by_sequence_length/adjacency_matrix_training_gt80_gbseqlen-weights.pickle'\n"
     ]
    },
    {
     "data": {
      "application/vnd.jupyter.widget-view+json": {
       "model_id": "286e06879c6d4c5d9ed73f65d69ec72a",
       "version_major": 2,
       "version_minor": 0
      },
      "text/html": [
       "<p>Failed to display Jupyter Widget of type <code>HBox</code>.</p>\n",
       "<p>\n",
       "  If you're reading this message in the Jupyter Notebook or JupyterLab Notebook, it may mean\n",
       "  that the widgets JavaScript is still loading. If this message persists, it\n",
       "  likely means that the widgets JavaScript library is either not installed or\n",
       "  not enabled. See the <a href=\"https://ipywidgets.readthedocs.io/en/stable/user_install.html\">Jupyter\n",
       "  Widgets Documentation</a> for setup instructions.\n",
       "</p>\n",
       "<p>\n",
       "  If you're reading this message in another frontend (for example, a static\n",
       "  rendering on GitHub or <a href=\"https://nbviewer.jupyter.org/\">NBViewer</a>),\n",
       "  it may mean that your frontend doesn't currently support widgets.\n",
       "</p>\n"
      ],
      "text/plain": [
       "HBox(children=(IntProgress(value=0, max=3000), HTML(value='')))"
      ]
     },
     "metadata": {},
     "output_type": "display_data"
    },
    {
     "name": "stdout",
     "output_type": "stream",
     "text": [
      "0.05610\n",
      "0.18802\n",
      "0.30000\n",
      "0.34681\n",
      "0.45926\n",
      "0.46569\n",
      "0.50615\n",
      "0.47551\n",
      "0.51472\n",
      "0.50052\n",
      "0.53238\n",
      "0.54526\n",
      "0.55892\n",
      "0.55381\n",
      "0.58486\n",
      "0.58871\n",
      "0.56495\n",
      "0.57512\n",
      "0.52910\n",
      "0.61735\n",
      "0.61881\n",
      "0.58398\n",
      "0.59632\n"
     ]
    }
   ],
   "source": [
    "seed = 42\n",
    "random_state = np.random.RandomState(seed)\n",
    "torch.manual_seed(seed)\n",
    "torch.cuda.manual_seed_all(seed)\n",
    "\n",
    "positive_rowgen, negative_ds_gen = pagnn.training.gan.main.get_training_datasets(args, root_path, data_path)\n",
    "\n",
    "lengths = []\n",
    "scores = []\n",
    "edges_edit_scores = []\n",
    "losses = []\n",
    "\n",
    "for i in tqdm.tqdm_notebook(range(n_iters), total=n_iters):\n",
    "    \n",
    "    seq_list = []\n",
    "    adjs = []\n",
    "    for j in range(batch_size):\n",
    "        pos_row = next(positive_rowgen)\n",
    "        pos_ds = pagnn.dataset.to_gan(pagnn.dataset.row_to_dataset(pos_row, 1))\n",
    "\n",
    "        n_aa = len(pos_ds.seqs[0])\n",
    "        if not (min_seq_len <= n_aa < max_seq_len):\n",
    "            continue\n",
    "\n",
    "        pos_dv = pagnn.datavargan.dataset_to_datavar(\n",
    "            pos_ds, n_convs=n_layers, kernel_size=3, stride=2, padding=1)\n",
    "        assert pos_dv.seqs.shape[2] == n_aa\n",
    "        seq_list.append(pos_dv.seqs)\n",
    "\n",
    "        assert pos_dv.adjs[0].shape[1] == n_aa\n",
    "        adjs.append(pos_dv.adjs)\n",
    "\n",
    "        seq = Variable(torch.cat([s.data for s in seq_list], 2))\n",
    "        \n",
    "        assert seq.shape[2] == sum(adj[0].shape[1] for adj in adjs)\n",
    "\n",
    "    # Training part...\n",
    "    optimizer.zero_grad()\n",
    "\n",
    "    out = net(seq, adjs)\n",
    "\n",
    "    loss = loss_fn(out.view(-1, 1), seq.view(-1, 1))\n",
    "    loss.backward()\n",
    "    \n",
    "    optimizer.step()\n",
    "\n",
    "    losses.append(loss.mean().cpu().data.numpy())\n",
    "    lengths.append(int(seq.shape[2]))\n",
    "\n",
    "    out_argmax = pagnn.utils.argmax_onehot(out.data)\n",
    "    edit_score = pagnn.utils.score_edit(seq[0, :, :].data, out_argmax)\n",
    "    scores.append(edit_score)\n",
    "\n",
    "    seq_edges = []\n",
    "    out_edges = []\n",
    "    start = 0\n",
    "    for adj in adjs:\n",
    "        seq_len = adj[0].shape[1]\n",
    "        stop = start + seq_len\n",
    "        seq_edges.extend([seq[:, :, start:start + 5], seq[:, :, stop - 5:stop]])\n",
    "        out_edges.extend([out[:, :, start:start + 5], out[:, :, stop - 5:stop]])\n",
    "        start = stop\n",
    "    assert start == seq.shape[2]\n",
    "    seq_edges = torch.cat(seq_edges, 2)\n",
    "    out_edges = torch.cat(out_edges, 2)\n",
    "\n",
    "    out_edges_argmax = pagnn.utils.argmax_onehot(out_edges.data)\n",
    "    edges_edit_score = pagnn.utils.score_edit(seq_edges[0, :, :].data, out_edges_argmax)\n",
    "    edges_edit_scores.append(edges_edit_score)\n",
    "    \n",
    "    del seq_list\n",
    "    del seq\n",
    "    del adjs\n",
    "    if i % 100 == 0:\n",
    "        print(f'{edges_edit_score:.5f}')"
   ]
  },
  {
   "cell_type": "code",
   "execution_count": 53,
   "metadata": {
    "run_control": {
     "marked": false
    }
   },
   "outputs": [],
   "source": [
    "losses = np.array(losses).squeeze()\n",
    "scores = np.vstack(scores).squeeze()\n",
    "edges_edit_scores = np.vstack(edges_edit_scores).squeeze()\n",
    "lengths = np.vstack(lengths).squeeze()"
   ]
  },
  {
   "cell_type": "code",
   "execution_count": 54,
   "metadata": {
    "run_control": {
     "marked": false
    }
   },
   "outputs": [
    {
     "data": {
      "image/png": "[encoded data removed]",
      "text/plain": [
       "<matplotlib.figure.Figure at 0x7f0a9b8c5630>"
      ]
     },
     "metadata": {},
     "output_type": "display_data"
    }
   ],
   "source": [
    "# Plot 1\n",
    "fg, axs = plt.subplots(1, 2, figsize=(16, 5))\n",
    "\n",
    "# === Loss ===\n",
    "plt.sca(axs[0])\n",
    "plot_losses(losses, lengths)\n",
    "\n",
    "# === Accuracy ===\n",
    "plt.sca(axs[1])\n",
    "plot_accuarcy(scores, edges_edit_scores, lengths)\n",
    "\n",
    "plt.tight_layout()\n",
    "plt.savefig(NOTEBOOK_PATH.joinpath(f'{uniqie_id}-real_seq_adj-loss_acc.pdf').as_posix(), bbox_inches='tight')\n",
    "plt.savefig(NOTEBOOK_PATH.joinpath(f'{uniqie_id}-real_seq_adj-loss_acc.png').as_posix(), dpi=72, bbox_inches='tight')"
   ]
  },
  {
   "cell_type": "code",
   "execution_count": 61,
   "metadata": {},
   "outputs": [
    {
     "data": {
      "text/plain": [
       "10"
      ]
     },
     "execution_count": 61,
     "metadata": {},
     "output_type": "execute_result"
    }
   ],
   "source": [
    "c = nn.Conv1d(10, 10, 3)\n",
    "\n",
    "c.out_channels"
   ]
  },
  {
   "cell_type": "code",
   "execution_count": 55,
   "metadata": {
    "run_control": {
     "marked": false
    }
   },
   "outputs": [
    {
     "data": {
      "image/png": "[encoded data removed]",
      "text/plain": [
       "<matplotlib.figure.Figure at 0x7f0b177a8710>"
      ]
     },
     "metadata": {},
     "output_type": "display_data"
    }
   ],
   "source": [
    "# Plot 2 \n",
    "fg, axs = plt.subplots(1, 2, figsize=(16, 5))\n",
    "\n",
    "# === All scores ===\n",
    "plt.sca(axs[0])\n",
    "hist_output(out, None)\n",
    "\n",
    "# === Zoom in ===\n",
    "plt.sca(axs[1])\n",
    "hist_output(out, (0, 0.2))\n",
    "\n",
    "plt.tight_layout()"
   ]
  },
  {
   "cell_type": "markdown",
   "metadata": {
    "run_control": {
     "marked": false
    }
   },
   "source": [
    "# Other junk"
   ]
  },
  {
   "cell_type": "code",
   "execution_count": 232,
   "metadata": {
    "collapsed": true,
    "run_control": {
     "marked": false
    }
   },
   "outputs": [],
   "source": [
    "num_aa_per_batch = 50_000\n",
    "aa_per_prediction = 54\n",
    "\n",
    "pos_ds_list = []\n",
    "\n",
    "seq_len = 0\n",
    "while seq_len < num_aa_per_batch:\n",
    "    pos_row = next(positive_rowgen)\n",
    "    if len(pos_row.sequence) < aa_per_prediction:\n",
    "        continue\n",
    "    pos_ds = to_gan(row_to_dataset(pos_row, 1))\n",
    "    pos_ds_list.append(pos_ds)\n",
    "    seq_len += len(pos_ds.seqs[0])\n",
    "pos_dv = datasets_to_datavar(pos_ds_list)"
   ]
  },
  {
   "cell_type": "code",
   "execution_count": 239,
   "metadata": {
    "collapsed": true,
    "run_control": {
     "marked": false
    }
   },
   "outputs": [],
   "source": [
    "seq = pos_dv[0][0]\n",
    "adjs = pos_dv[1]"
   ]
  },
  {
   "cell_type": "code",
   "execution_count": 240,
   "metadata": {
    "run_control": {
     "marked": false
    }
   },
   "outputs": [
    {
     "data": {
      "text/plain": [
       "317"
      ]
     },
     "execution_count": 240,
     "metadata": {},
     "output_type": "execute_result"
    }
   ],
   "source": [
    "len(adjs)"
   ]
  },
  {
   "cell_type": "code",
   "execution_count": null,
   "metadata": {
    "collapsed": true,
    "run_control": {
     "marked": false
    }
   },
   "outputs": [],
   "source": []
  },
  {
   "cell_type": "code",
   "execution_count": null,
   "metadata": {
    "collapsed": true,
    "run_control": {
     "marked": false
    }
   },
   "outputs": [],
   "source": []
  },
  {
   "cell_type": "code",
   "execution_count": 1286,
   "metadata": {
    "run_control": {
     "marked": false
    }
   },
   "outputs": [
    {
     "data": {
      "text/plain": [
       "torch.Size([1, 5, 5])"
      ]
     },
     "execution_count": 1286,
     "metadata": {},
     "output_type": "execute_result"
    }
   ],
   "source": [
    "seq.size()"
   ]
  },
  {
   "cell_type": "code",
   "execution_count": 1266,
   "metadata": {
    "run_control": {
     "marked": false
    }
   },
   "outputs": [
    {
     "name": "stdout",
     "output_type": "stream",
     "text": [
      "torch.Size([32, 512, 4])\n",
      "torch.Size([32, 512, 4])\n"
     ]
    },
    {
     "data": {
      "text/plain": [
       "<matplotlib.axes._subplots.AxesSubplot at 0x7f628ed5d908>"
      ]
     },
     "execution_count": 1266,
     "metadata": {},
     "output_type": "execute_result"
    },
    {
     "data": {
      "image/png": "[encoded data removed]",
      "text/plain": [
       "<matplotlib.figure.Figure at 0x7f60a4097c50>"
      ]
     },
     "metadata": {},
     "output_type": "display_data"
    }
   ],
   "source": [
    "in_features = 512\n",
    "hidden_features = 32\n",
    "n_unique_seqs = 10\n",
    "\n",
    "class TestNet(nn.Module):\n",
    "    def __init__(self):\n",
    "        super().__init__()\n",
    "        conv = nn.Conv1d(in_features, hidden_features, kernel_size=4, stride=1, padding=1, bias=False)\n",
    "        print(conv.weight.shape)\n",
    "        convt = nn.ConvTranspose1d(hidden_features, in_features, kernel_size=4, stride=1, padding=1, bias=False)\n",
    "        print(conv.weight.shape)\n",
    "        convt.weight.data = conv.weight\n",
    "        self.conv = conv\n",
    "        self.convt = convt\n",
    "\n",
    "    def forward(self, x):\n",
    "        x = self.conv(x)\n",
    "#         print(x.shape)\n",
    "        x = self.convt(x)\n",
    "        x = F.softmax(x, 1)\n",
    "        return x\n",
    "    \n",
    "net = TestNet()\n",
    "loss = nn.BCELoss()\n",
    "optimizer = optim.Adam(net.parameters())\n",
    "\n",
    "seqs = [(torch.rand(1, in_features, 4) > 0.99).float() for _ in range(n_unique_seqs)]\n",
    "\n",
    "errors = []\n",
    "for i in range(1000):\n",
    "    optimizer.zero_grad()\n",
    "\n",
    "    seq = seqs[i % n_unique_seqs]\n",
    "\n",
    "    x = seq\n",
    "    x = net(x)\n",
    "\n",
    "    error = loss(x.view(-1, 1), seq.view(-1, 1))\n",
    "    error.backward()\n",
    "    \n",
    "    optimizer.step()\n",
    "    \n",
    "    errors.append(error.data.numpy())\n",
    "    \n",
    "errors = np.vstack(errors).squeeze()\n",
    "sns.regplot(np.arange(len(errors)), errors, line_kws={'color': 'k'})"
   ]
  },
  {
   "cell_type": "code",
   "execution_count": 1288,
   "metadata": {
    "run_control": {
     "marked": false
    }
   },
   "outputs": [
    {
     "data": {
      "text/plain": [
       "25"
      ]
     },
     "execution_count": 1288,
     "metadata": {},
     "output_type": "execute_result"
    }
   ],
   "source": [
    "np.prod(seq.shape)"
   ]
  },
  {
   "cell_type": "code",
   "execution_count": 1569,
   "metadata": {
    "run_control": {
     "marked": false
    }
   },
   "outputs": [
    {
     "ename": "RuntimeError",
     "evalue": "dimension out of range (expected to be in range of [-1, 0], but got 2)",
     "output_type": "error",
     "traceback": [
      "\u001b[0;31m---------------------------------------------------------------------------\u001b[0m",
      "\u001b[0;31mRuntimeError\u001b[0m                              Traceback (most recent call last)",
      "\u001b[0;32m<ipython-input-1569-31108b8e8d24>\u001b[0m in \u001b[0;36m<module>\u001b[0;34m()\u001b[0m\n\u001b[0;32m----> 1\u001b[0;31m \u001b[0mseq\u001b[0m\u001b[0;34m[\u001b[0m\u001b[0;34m:\u001b[0m\u001b[0;34m,\u001b[0m \u001b[0;36m30\u001b[0m\u001b[0;34m:\u001b[0m\u001b[0;36m40\u001b[0m\u001b[0;34m,\u001b[0m \u001b[0;34m:\u001b[0m\u001b[0;34m]\u001b[0m\u001b[0;34m\u001b[0m\u001b[0m\n\u001b[0m",
      "\u001b[0;31mRuntimeError\u001b[0m: dimension out of range (expected to be in range of [-1, 0], but got 2)"
     ]
    }
   ],
   "source": [
    "seq[:, 30:40, :]"
   ]
  },
  {
   "cell_type": "code",
   "execution_count": 195,
   "metadata": {
    "run_control": {
     "marked": false
    }
   },
   "outputs": [
    {
     "data": {
      "text/plain": [
       "\n",
       "(0 ,.,.) = \n",
       "   0   0   0   0\n",
       "   0   1   0   0\n",
       "   0   0   0   0\n",
       "   0   0   0   0\n",
       "   0   0   0   0\n",
       "   0   0   0   1\n",
       "   0   0   0   0\n",
       "   1   0   0   0\n",
       "   0   0   0   0\n",
       "   0   0   1   0\n",
       "[torch.FloatTensor of size (1,10,4)]"
      ]
     },
     "execution_count": 195,
     "metadata": {},
     "output_type": "execute_result"
    }
   ],
   "source": [
    "seq = pagnn.utils.random_sequence(1, 10, 4)\n",
    "seq"
   ]
  },
  {
   "cell_type": "code",
   "execution_count": 197,
   "metadata": {
    "run_control": {
     "marked": false
    }
   },
   "outputs": [
    {
     "data": {
      "text/plain": [
       "\n",
       "(0 ,.,.) = \n",
       "   0   0   0   0   0   0   0   1\n",
       "   0   0   1   0   0   0   0   0\n",
       "   0   1   0   0   0   0   0   0\n",
       "   0   0   0   0   0   0   0   0\n",
       "   0   0   0   0   0   1   0   0\n",
       "[torch.FloatTensor of size (1,5,8)]"
      ]
     },
     "execution_count": 197,
     "metadata": {},
     "output_type": "execute_result"
    }
   ],
   "source": [
    "seq.transpose(1, 2).reshape(1, -1, 5).transpose(2, 1)"
   ]
  },
  {
   "cell_type": "code",
   "execution_count": null,
   "metadata": {
    "collapsed": true,
    "run_control": {
     "marked": false
    }
   },
   "outputs": [],
   "source": []
  },
  {
   "cell_type": "code",
   "execution_count": null,
   "metadata": {
    "collapsed": true,
    "run_control": {
     "marked": false
    }
   },
   "outputs": [],
   "source": []
  },
  {
   "cell_type": "code",
   "execution_count": null,
   "metadata": {
    "collapsed": true,
    "run_control": {
     "marked": false
    }
   },
   "outputs": [],
   "source": []
  },
  {
   "cell_type": "code",
   "execution_count": 89,
   "metadata": {
    "run_control": {
     "marked": false
    }
   },
   "outputs": [
    {
     "data": {
      "text/plain": [
       "\n",
       "(0 ,.,.) = \n",
       "  0  0  0  1\n",
       "  0  0  0  0\n",
       "  0  0  1  0\n",
       "  0  1  0  0\n",
       "  1  0  0  0\n",
       "[torch.FloatTensor of size (1,5,4)]"
      ]
     },
     "execution_count": 89,
     "metadata": {},
     "output_type": "execute_result"
    }
   ],
   "source": [
    "seq_avg = F.avg_pool1d(seq, kernel_size=2, ceil_mode=True)\n",
    "seq_avg"
   ]
  },
  {
   "cell_type": "code",
   "execution_count": 92,
   "metadata": {
    "run_control": {
     "marked": false
    }
   },
   "outputs": [
    {
     "data": {
      "text/plain": [
       "\n",
       "(0 ,.,.) = \n",
       "   0   0   0   0   0   0   1   1\n",
       "   0   0   0   0   0   0   0   0\n",
       "   0   0   0   0   1   1   0   0\n",
       "   0   0   1   1   0   0   0   0\n",
       "   1   1   0   0   0   0   0   0\n",
       "[torch.FloatTensor of size (1,5,8)]"
      ]
     },
     "execution_count": 92,
     "metadata": {},
     "output_type": "execute_result"
    }
   ],
   "source": [
    "seq_rec = F.upsample(seq_avg, scale_factor=2, mode='nearest')\n",
    "seq_rec\n",
    "# default"
   ]
  },
  {
   "cell_type": "code",
   "execution_count": 1581,
   "metadata": {
    "run_control": {
     "marked": false
    },
    "scrolled": true
   },
   "outputs": [
    {
     "data": {
      "text/plain": [
       "\n",
       "(0 ,.,.) = \n",
       "  0.0000  0.1250  0.8750\n",
       "  0.8750  0.1250  0.0000\n",
       "  0.0000  0.0000  0.0000\n",
       "  0.0000  0.0000  0.0000\n",
       "  0.1250  0.7500  0.1250\n",
       "[torch.FloatTensor of size (1,5,3)]"
      ]
     },
     "execution_count": 1581,
     "metadata": {},
     "output_type": "execute_result"
    }
   ],
   "source": [
    "F.avg_pool1d(seq_us, kernel_size=2)"
   ]
  },
  {
   "cell_type": "code",
   "execution_count": 1561,
   "metadata": {
    "run_control": {
     "marked": false
    }
   },
   "outputs": [
    {
     "data": {
      "text/plain": [
       "\n",
       "(0 ,.,.) = \n",
       "  0.2500  0.5000  0.2500\n",
       "  0.0000  0.0000  0.0000\n",
       "  0.0000  0.2500  0.5000\n",
       "  0.0000  0.0000  0.0000\n",
       "  0.5000  0.2500  0.0000\n",
       "[torch.FloatTensor of size (1,5,3)]"
      ]
     },
     "execution_count": 1561,
     "metadata": {},
     "output_type": "execute_result"
    }
   ],
   "source": [
    "F.avg_pool1d(seq_us, kernel_size=4, stride=2, padding=1)"
   ]
  },
  {
   "cell_type": "code",
   "execution_count": null,
   "metadata": {
    "collapsed": true,
    "run_control": {
     "marked": false
    }
   },
   "outputs": [],
   "source": []
  },
  {
   "cell_type": "code",
   "execution_count": null,
   "metadata": {
    "collapsed": true,
    "run_control": {
     "marked": false
    }
   },
   "outputs": [],
   "source": []
  },
  {
   "cell_type": "code",
   "execution_count": null,
   "metadata": {
    "collapsed": true,
    "run_control": {
     "marked": false
    }
   },
   "outputs": [],
   "source": []
  },
  {
   "cell_type": "code",
   "execution_count": 1545,
   "metadata": {
    "run_control": {
     "marked": false
    }
   },
   "outputs": [
    {
     "data": {
      "text/plain": [
       "\n",
       "(0 ,.,.) = \n",
       "  0.0000  0.3333  0.6667  1.0000  0.6667  0.3333  0.0000\n",
       "  0.0000  0.0000  0.0000  0.0000  0.0000  0.0000  0.0000\n",
       "  0.0000  0.0000  0.0000  0.0000  0.3333  0.6667  1.0000\n",
       "  0.0000  0.0000  0.0000  0.0000  0.0000  0.0000  0.0000\n",
       "  1.0000  0.6667  0.3333  0.0000  0.0000  0.0000  0.0000\n",
       "[torch.FloatTensor of size (1,5,7)]"
      ]
     },
     "execution_count": 1545,
     "metadata": {},
     "output_type": "execute_result"
    }
   ],
   "source": [
    "F.upsample(seq, 7, mode='linear', align_corners=True)"
   ]
  },
  {
   "cell_type": "code",
   "execution_count": null,
   "metadata": {
    "collapsed": true,
    "run_control": {
     "marked": false
    }
   },
   "outputs": [],
   "source": [
    "nn.AvgPool1d"
   ]
  },
  {
   "cell_type": "code",
   "execution_count": null,
   "metadata": {
    "collapsed": true,
    "run_control": {
     "marked": false
    }
   },
   "outputs": [],
   "source": [
    "F.avg_pool1d"
   ]
  },
  {
   "cell_type": "code",
   "execution_count": null,
   "metadata": {
    "collapsed": true,
    "run_control": {
     "marked": false
    }
   },
   "outputs": [],
   "source": []
  },
  {
   "cell_type": "code",
   "execution_count": null,
   "metadata": {
    "collapsed": true,
    "run_control": {
     "marked": false
    }
   },
   "outputs": [],
   "source": []
  },
  {
   "cell_type": "code",
   "execution_count": null,
   "metadata": {
    "collapsed": true,
    "run_control": {
     "marked": false
    }
   },
   "outputs": [],
   "source": []
  },
  {
   "cell_type": "code",
   "execution_count": 1284,
   "metadata": {
    "run_control": {
     "marked": false
    }
   },
   "outputs": [
    {
     "data": {
      "text/plain": [
       "\n",
       "(0 ,.,.) = \n",
       "\n",
       "Columns 0 to 8 \n",
       "   0.0000  0.0000  0.0000  0.2500  0.7500  0.7500  0.2500  0.0000  0.0000\n",
       "  0.0000  0.0000  0.0000  0.0000  0.0000  0.2500  0.7500  0.7500  0.2500\n",
       "  1.0000  1.0000  1.0000  0.7500  0.2500  0.0000  0.0000  0.0000  0.0000\n",
       "  0.0000  0.0000  0.0000  0.0000  0.0000  0.0000  0.0000  0.0000  0.0000\n",
       "  0.0000  0.0000  0.0000  0.0000  0.0000  0.0000  0.0000  0.2500  0.7500\n",
       "\n",
       "Columns 9 to 9 \n",
       "   0.0000\n",
       "  0.0000\n",
       "  0.0000\n",
       "  0.0000\n",
       "  1.0000\n",
       "[torch.FloatTensor of size (1,5,10)]"
      ]
     },
     "execution_count": 1284,
     "metadata": {},
     "output_type": "execute_result"
    }
   ],
   "source": [
    "F.upsample(seq, scale_factor=2, mode='linear', align_corners=False )"
   ]
  },
  {
   "cell_type": "code",
   "execution_count": 264,
   "metadata": {
    "run_control": {
     "marked": false
    }
   },
   "outputs": [
    {
     "data": {
      "text/plain": [
       "\n",
       "(0 ,.,.) = \n",
       "  1  0  0  0  0\n",
       "  0  1  0  0  0\n",
       "  0  0  1  1  1\n",
       "  0  0  0  0  0\n",
       "[torch.FloatTensor of size (1,4,5)]"
      ]
     },
     "execution_count": 264,
     "metadata": {},
     "output_type": "execute_result"
    }
   ],
   "source": []
  },
  {
   "cell_type": "code",
   "execution_count": 270,
   "metadata": {
    "run_control": {
     "marked": false
    }
   },
   "outputs": [
    {
     "name": "stdout",
     "output_type": "stream",
     "text": [
      "\n",
      "(0 ,.,.) = \n",
      "  0  0  1  1  0\n",
      "  0  0  0  0  1\n",
      "  1  0  0  0  0\n",
      "  0  1  0  0  0\n",
      "[torch.FloatTensor of size (1,4,5)]\n",
      "\n",
      "\n",
      "(0 ,.,.) = \n",
      " -0.3646  0.0843 -0.1461\n",
      " -0.4204 -0.4138 -0.1101\n",
      " -0.3682 -0.0441  0.0272\n",
      "  0.2157  0.2424  0.5570\n",
      "[torch.FloatTensor of size (1,4,3)]\n",
      "\n",
      "\n",
      "(0 ,.,.) = \n",
      " -0.0523 -0.1517 -0.0755  0.1736 -0.0647 -0.0478 -0.0287\n",
      " -0.0539  0.0069  0.0285  0.1632 -0.0751  0.2107  0.0630\n",
      "  0.3052  0.1612  0.4680  0.1629  0.4559  0.0477  0.3309\n",
      "  0.0180 -0.0362  0.2294 -0.0218  0.1258 -0.0391  0.1564\n",
      "[torch.FloatTensor of size (1,4,7)]\n",
      "\n"
     ]
    }
   ],
   "source": [
    "seq = pagnn.utils.random_sequence(1, 4, 5)\n",
    "print(seq)\n",
    "\n",
    "conv = nn.Conv1d(4, 4, 5, 2, 2)\n",
    "convt = nn.ConvTranspose1d(4, 4, 5, 2, 1)\n",
    "\n",
    "seqc = conv(seq)\n",
    "print(seqc)\n",
    "\n",
    "seqct = convt(seqc)\n",
    "print(seqct)"
   ]
  },
  {
   "cell_type": "code",
   "execution_count": null,
   "metadata": {
    "collapsed": true,
    "run_control": {
     "marked": false
    }
   },
   "outputs": [],
   "source": []
  },
  {
   "cell_type": "code",
   "execution_count": 866,
   "metadata": {
    "run_control": {
     "marked": false
    }
   },
   "outputs": [
    {
     "name": "stdout",
     "output_type": "stream",
     "text": [
      "3\n",
      "\n",
      "(0 ,.,.) = \n",
      "  1  0  0  0  0\n",
      "  0  1  1  0  0\n",
      "  0  0  0  0  0\n",
      "  0  0  0  0  1\n",
      "  0  0  0  1  0\n",
      "[torch.FloatTensor of size (1,5,5)]\n",
      "\n",
      "\n",
      "(0 ,.,.) = \n",
      "  1  0  0  0  0\n",
      "  0  1  1  0  0\n",
      "  0  0  0  0  0\n",
      "  0  0  0  0  1\n",
      "  0  0  0  1  0\n",
      "[torch.FloatTensor of size (1,5,5)]\n",
      "\n"
     ]
    }
   ],
   "source": [
    "num_features = 5\n",
    "seq_length = 6\n",
    "\n",
    "in_features = 20\n",
    "out_features = 20\n",
    "\n",
    "ln = nn.Linear(in_features, out_features, bias=False)\n",
    "ln.weight.data.set_(torch.eye(in_features, out_features))\n",
    "\n",
    "\n",
    "seq = pagnn.utils.random_sequence(1, 5, 5)\n",
    "\n",
    "\n",
    "x = seq\n",
    "pad_amount = padding_amount(seq, 20)\n",
    "print(pad_amount)\n",
    "\n",
    "if pad_amount:\n",
    "    x = F.pad(x, (0, pad_amount))\n",
    "\n",
    "x = unfold_to(x, 20)\n",
    "x = ln(x)\n",
    "x = unfold_from(x, 5)\n",
    "\n",
    "if pad_amount:\n",
    "    x = x[:, :, :-pad_amount]\n",
    "    \n",
    "print(seq)\n",
    "print(x)\n",
    "\n",
    "assert (seq == x).all()"
   ]
  },
  {
   "cell_type": "code",
   "execution_count": 849,
   "metadata": {
    "run_control": {
     "marked": false
    }
   },
   "outputs": [
    {
     "ename": "TypeError",
     "evalue": "torch.Size() takes an iterable of 'int' (item 2 is 'numpy.int64')",
     "output_type": "error",
     "traceback": [
      "\u001b[0;31m---------------------------------------------------------------------------\u001b[0m",
      "\u001b[0;31mTypeError\u001b[0m                                 Traceback (most recent call last)",
      "\u001b[0;32m<ipython-input-849-2440c3f32ca8>\u001b[0m in \u001b[0;36m<module>\u001b[0;34m()\u001b[0m\n\u001b[0;32m----> 1\u001b[0;31m \u001b[0mF\u001b[0m\u001b[0;34m.\u001b[0m\u001b[0mpad\u001b[0m\u001b[0;34m(\u001b[0m\u001b[0mseq\u001b[0m\u001b[0;34m,\u001b[0m \u001b[0;34m(\u001b[0m\u001b[0;36m0\u001b[0m\u001b[0;34m,\u001b[0m \u001b[0mpad_amount\u001b[0m\u001b[0;34m)\u001b[0m\u001b[0;34m)\u001b[0m\u001b[0;34m\u001b[0m\u001b[0m\n\u001b[0m",
      "\u001b[0;32m~/anaconda3/lib/python3.6/site-packages/torch/nn/functional.py\u001b[0m in \u001b[0;36mpad\u001b[0;34m(input, pad, mode, value)\u001b[0m\n\u001b[1;32m   1982\u001b[0m     \u001b[0;32massert\u001b[0m \u001b[0mlen\u001b[0m\u001b[0;34m(\u001b[0m\u001b[0mpad\u001b[0m\u001b[0;34m)\u001b[0m \u001b[0;34m//\u001b[0m \u001b[0;36m2\u001b[0m \u001b[0;34m<=\u001b[0m \u001b[0minput\u001b[0m\u001b[0;34m.\u001b[0m\u001b[0mdim\u001b[0m\u001b[0;34m(\u001b[0m\u001b[0;34m)\u001b[0m\u001b[0;34m,\u001b[0m \u001b[0;34m'Padding length too large'\u001b[0m\u001b[0;34m\u001b[0m\u001b[0m\n\u001b[1;32m   1983\u001b[0m     \u001b[0;32mif\u001b[0m \u001b[0mmode\u001b[0m \u001b[0;34m==\u001b[0m \u001b[0;34m'constant'\u001b[0m\u001b[0;34m:\u001b[0m\u001b[0;34m\u001b[0m\u001b[0m\n\u001b[0;32m-> 1984\u001b[0;31m         \u001b[0;32mreturn\u001b[0m \u001b[0mConstantPadNd\u001b[0m\u001b[0;34m.\u001b[0m\u001b[0mapply\u001b[0m\u001b[0;34m(\u001b[0m\u001b[0minput\u001b[0m\u001b[0;34m,\u001b[0m \u001b[0mpad\u001b[0m\u001b[0;34m,\u001b[0m \u001b[0mvalue\u001b[0m\u001b[0;34m)\u001b[0m\u001b[0;34m\u001b[0m\u001b[0m\n\u001b[0m\u001b[1;32m   1985\u001b[0m     \u001b[0;32melif\u001b[0m \u001b[0minput\u001b[0m\u001b[0;34m.\u001b[0m\u001b[0mdim\u001b[0m\u001b[0;34m(\u001b[0m\u001b[0;34m)\u001b[0m \u001b[0;34m==\u001b[0m \u001b[0;36m3\u001b[0m\u001b[0;34m:\u001b[0m\u001b[0;34m\u001b[0m\u001b[0m\n\u001b[1;32m   1986\u001b[0m         \u001b[0;32massert\u001b[0m \u001b[0mlen\u001b[0m\u001b[0;34m(\u001b[0m\u001b[0mpad\u001b[0m\u001b[0;34m)\u001b[0m \u001b[0;34m==\u001b[0m \u001b[0;36m2\u001b[0m\u001b[0;34m,\u001b[0m \u001b[0;34m'3D tensors expect 2 values for padding'\u001b[0m\u001b[0;34m\u001b[0m\u001b[0m\n",
      "\u001b[0;32m~/anaconda3/lib/python3.6/site-packages/torch/nn/_functions/padding.py\u001b[0m in \u001b[0;36mforward\u001b[0;34m(ctx, input, pad, value)\u001b[0m\n\u001b[1;32m     25\u001b[0m \u001b[0;34m\u001b[0m\u001b[0m\n\u001b[1;32m     26\u001b[0m         \u001b[0;31m# crop input if necessary\u001b[0m\u001b[0;34m\u001b[0m\u001b[0;34m\u001b[0m\u001b[0m\n\u001b[0;32m---> 27\u001b[0;31m         \u001b[0moutput\u001b[0m \u001b[0;34m=\u001b[0m \u001b[0minput\u001b[0m\u001b[0;34m.\u001b[0m\u001b[0mnew\u001b[0m\u001b[0;34m(\u001b[0m\u001b[0minput\u001b[0m\u001b[0;34m.\u001b[0m\u001b[0msize\u001b[0m\u001b[0;34m(\u001b[0m\u001b[0;34m)\u001b[0m\u001b[0;34m[\u001b[0m\u001b[0;34m:\u001b[0m\u001b[0;34m(\u001b[0m\u001b[0mctx\u001b[0m\u001b[0;34m.\u001b[0m\u001b[0ml_diff\u001b[0m\u001b[0;34m)\u001b[0m\u001b[0;34m]\u001b[0m \u001b[0;34m+\u001b[0m \u001b[0mnew_dim\u001b[0m\u001b[0;34m)\u001b[0m\u001b[0;34m.\u001b[0m\u001b[0mfill_\u001b[0m\u001b[0;34m(\u001b[0m\u001b[0mctx\u001b[0m\u001b[0;34m.\u001b[0m\u001b[0mvalue\u001b[0m\u001b[0;34m)\u001b[0m\u001b[0;34m\u001b[0m\u001b[0m\n\u001b[0m\u001b[1;32m     28\u001b[0m         \u001b[0mc_input\u001b[0m \u001b[0;34m=\u001b[0m \u001b[0minput\u001b[0m\u001b[0;34m\u001b[0m\u001b[0m\n\u001b[1;32m     29\u001b[0m \u001b[0;34m\u001b[0m\u001b[0m\n",
      "\u001b[0;31mTypeError\u001b[0m: torch.Size() takes an iterable of 'int' (item 2 is 'numpy.int64')"
     ]
    }
   ],
   "source": [
    "F.pad(seq, (0, pad_amount))"
   ]
  },
  {
   "cell_type": "code",
   "execution_count": 858,
   "metadata": {
    "run_control": {
     "marked": false
    }
   },
   "outputs": [
    {
     "data": {
      "text/plain": [
       "torch.Size([0, 20])"
      ]
     },
     "execution_count": 858,
     "metadata": {},
     "output_type": "execute_result"
    }
   ],
   "source": [
    "torch.Size((0, 20))"
   ]
  },
  {
   "cell_type": "code",
   "execution_count": null,
   "metadata": {
    "collapsed": true,
    "run_control": {
     "marked": false
    }
   },
   "outputs": [],
   "source": []
  },
  {
   "cell_type": "code",
   "execution_count": null,
   "metadata": {
    "collapsed": true,
    "run_control": {
     "marked": false
    }
   },
   "outputs": [],
   "source": [
    "torch.eye"
   ]
  },
  {
   "cell_type": "code",
   "execution_count": 39,
   "metadata": {
    "run_control": {
     "marked": false
    }
   },
   "outputs": [
    {
     "data": {
      "text/plain": [
       "\n",
       "(0 ,.,.) = \n",
       "\n",
       "Columns 0 to 8 \n",
       "   0.0000  1.0000  1.0000  0.0000  0.0000  1.0000  0.0000  0.0000  0.0000\n",
       "  1.0000  0.0000  0.0000  0.0000  1.0000  0.0000  0.0000  0.0000  0.0000\n",
       "  0.0000  0.0000  0.0000  1.0000  0.0000  0.0000  0.0000  1.0000  1.0000\n",
       "  0.0000  0.0000  0.0000  0.0000  0.0000  0.0000  1.0000  0.0000  0.0000\n",
       "\n",
       "Columns 9 to 17 \n",
       "   1.0000  0.0000  1.0000  0.0000  0.0000  0.0000  0.0000  0.0000  1.0000\n",
       "  0.0000  0.0000  0.0000  1.0000  0.0000  1.0000  0.0000  0.0000  0.0000\n",
       "  0.0000  1.0000  0.0000  0.0000  1.0000  0.0000  1.0000  1.0000  0.0000\n",
       "  0.0000  0.0000  0.0000  0.0000  0.0000  0.0000  0.0000  0.0000  0.0000\n",
       "\n",
       "Columns 18 to 19 \n",
       "   1.0000  0.0002\n",
       "  0.0000  0.0000\n",
       "  0.0000  0.9998\n",
       "  0.0000  0.0000\n",
       "[torch.cuda.FloatTensor of size (1,4,20) (GPU 0)]"
      ]
     },
     "execution_count": 39,
     "metadata": {},
     "output_type": "execute_result"
    }
   ],
   "source": [
    "out.view(1, 4, 20)"
   ]
  },
  {
   "cell_type": "code",
   "execution_count": 40,
   "metadata": {
    "run_control": {
     "marked": false
    }
   },
   "outputs": [
    {
     "data": {
      "text/plain": [
       "\n",
       "(0 ,.,.) = \n",
       "\n",
       "Columns 0 to 18 \n",
       "    0   1   1   0   0   1   0   0   0   1   0   1   0   0   0   0   0   1   1\n",
       "   1   0   0   0   1   0   0   0   0   0   0   0   1   0   1   0   0   0   0\n",
       "   0   0   0   1   0   0   0   1   1   0   1   0   0   1   0   1   1   0   0\n",
       "   0   0   0   0   0   0   1   0   0   0   0   0   0   0   0   0   0   0   0\n",
       "\n",
       "Columns 19 to 19 \n",
       "    0\n",
       "   0\n",
       "   1\n",
       "   0\n",
       "[torch.cuda.FloatTensor of size (1,4,20) (GPU 0)]"
      ]
     },
     "execution_count": 40,
     "metadata": {},
     "output_type": "execute_result"
    }
   ],
   "source": [
    "seq"
   ]
  },
  {
   "cell_type": "code",
   "execution_count": null,
   "metadata": {
    "collapsed": true,
    "run_control": {
     "marked": false
    }
   },
   "outputs": [],
   "source": []
  },
  {
   "cell_type": "code",
   "execution_count": null,
   "metadata": {
    "collapsed": true,
    "run_control": {
     "marked": false
    }
   },
   "outputs": [],
   "source": []
  },
  {
   "cell_type": "code",
   "execution_count": null,
   "metadata": {
    "collapsed": true,
    "run_control": {
     "marked": false
    }
   },
   "outputs": [],
   "source": []
  },
  {
   "cell_type": "code",
   "execution_count": 430,
   "metadata": {
    "run_control": {
     "marked": false
    }
   },
   "outputs": [
    {
     "name": "stdout",
     "output_type": "stream",
     "text": [
      "\n",
      "(0 ,.,.) = \n",
      "\n",
      "Columns 0 to 18 \n",
      "    0   0   0   0   1   0   0   1   0   1   0   0   1   0   0   0   0   0   0\n",
      "   1   0   0   0   0   0   1   0   0   0   0   0   0   1   0   1   1   1   0\n",
      "   0   1   0   0   0   1   0   0   1   0   0   1   0   0   1   0   0   0   0\n",
      "   0   0   1   1   0   0   0   0   0   0   1   0   0   0   0   0   0   0   1\n",
      "\n",
      "Columns 19 to 20 \n",
      "    1   1\n",
      "   0   0\n",
      "   0   0\n",
      "   0   0\n",
      "[torch.FloatTensor of size (1,4,21)]\n",
      "\n",
      "\n",
      "(0 ,.,.) = \n",
      "   4   4   4   4   4   4   4   4   4   4\n",
      "   4   4   4   4   4   4   4   4   4   4\n",
      "   4   4   4   4   4   4   4   4   4   4\n",
      "   4   4   4   4   4   4   4   4   4   4\n",
      "   4   4   4   4   4   4   4   4   4   4\n",
      "   4   4   4   4   4   4   4   4   4   4\n",
      "   4   4   4   4   4   4   4   4   4   4\n",
      "   4   4   4   4   4   4   4   4   4   4\n",
      "[torch.FloatTensor of size (1,8,10)]\n",
      "\n",
      "\n",
      "(0 ,.,.) = \n",
      "\n",
      "Columns 0 to 18 \n",
      "   32  32  64  64  64  64  64  64  64  64  64  64  64  64  64  64  64  64  64\n",
      "  32  32  64  64  64  64  64  64  64  64  64  64  64  64  64  64  64  64  64\n",
      "  32  32  64  64  64  64  64  64  64  64  64  64  64  64  64  64  64  64  64\n",
      "  32  32  64  64  64  64  64  64  64  64  64  64  64  64  64  64  64  64  64\n",
      "\n",
      "Columns 19 to 25 \n",
      "   64  64  64  64  64  32  32\n",
      "  64  64  64  64  64  32  32\n",
      "  64  64  64  64  64  32  32\n",
      "  64  64  64  64  64  32  32\n",
      "[torch.FloatTensor of size (1,4,26)]\n",
      "\n"
     ]
    }
   ],
   "source": [
    "seq = pagnn.utils.random_sequence(1, 4, 21)\n",
    "print(seq)\n",
    "\n",
    "conv = nn.Conv1d(4, 8, kernel_size=4, stride=2, padding=0, bias=False)\n",
    "_ = conv.weight.data.fill_(1)\n",
    "\n",
    "convt = nn.ConvTranspose1d(8, 4, kernel_size=4, stride=2, padding=0, output_padding=0, bias=False)\n",
    "_ = convt.weight.data.fill_(1)\n",
    "\n",
    "seq = torch.cat([seq[:, :, -1:], seq, seq[:, :, :1]], 2)\n",
    "# print(seq)\n",
    "\n",
    "cseq = conv(seq)\n",
    "print(cseq)\n",
    "\n",
    "cseq = torch.cat([cseq[:, :, -1:], cseq, cseq[:, :, :1]], 2)\n",
    "# print(cseq)\n",
    "\n",
    "# cseq[0, 0, 4] = 100\n",
    "\n",
    "ctseq = convt(cseq)\n",
    "print(ctseq)"
   ]
  },
  {
   "cell_type": "code",
   "execution_count": null,
   "metadata": {
    "collapsed": true,
    "run_control": {
     "marked": false
    }
   },
   "outputs": [],
   "source": []
  },
  {
   "cell_type": "code",
   "execution_count": null,
   "metadata": {
    "collapsed": true,
    "run_control": {
     "marked": false
    }
   },
   "outputs": [],
   "source": []
  },
  {
   "cell_type": "code",
   "execution_count": null,
   "metadata": {
    "collapsed": true,
    "run_control": {
     "marked": false
    }
   },
   "outputs": [],
   "source": []
  },
  {
   "cell_type": "code",
   "execution_count": null,
   "metadata": {
    "collapsed": true,
    "run_control": {
     "marked": false
    }
   },
   "outputs": [],
   "source": []
  },
  {
   "cell_type": "code",
   "execution_count": null,
   "metadata": {
    "collapsed": true,
    "run_control": {
     "marked": false
    }
   },
   "outputs": [],
   "source": []
  },
  {
   "cell_type": "code",
   "execution_count": null,
   "metadata": {
    "collapsed": true,
    "run_control": {
     "marked": false
    }
   },
   "outputs": [],
   "source": []
  },
  {
   "cell_type": "code",
   "execution_count": null,
   "metadata": {
    "collapsed": true,
    "run_control": {
     "marked": false
    }
   },
   "outputs": [],
   "source": []
  },
  {
   "cell_type": "code",
   "execution_count": 111,
   "metadata": {
    "run_control": {
     "marked": false
    }
   },
   "outputs": [
    {
     "data": {
      "text/plain": [
       "\n",
       "(0 ,.,.) = \n",
       "  1  1  1  1\n",
       "  1  1  1  1\n",
       "  1  1  1  1\n",
       "  1  1  1  1\n",
       "\n",
       "(1 ,.,.) = \n",
       "  1  1  1  1\n",
       "  1  1  1  1\n",
       "  1  1  1  1\n",
       "  1  1  1  1\n",
       "\n",
       "(2 ,.,.) = \n",
       "  1  1  1  1\n",
       "  1  1  1  1\n",
       "  1  1  1  1\n",
       "  1  1  1  1\n",
       "\n",
       "(3 ,.,.) = \n",
       "  1  1  1  1\n",
       "  1  1  1  1\n",
       "  1  1  1  1\n",
       "  1  1  1  1\n",
       "\n",
       "(4 ,.,.) = \n",
       "  1  1  1  1\n",
       "  1  1  1  1\n",
       "  1  1  1  1\n",
       "  1  1  1  1\n",
       "\n",
       "(5 ,.,.) = \n",
       "  1  1  1  1\n",
       "  1  1  1  1\n",
       "  1  1  1  1\n",
       "  1  1  1  1\n",
       "\n",
       "(6 ,.,.) = \n",
       "  1  1  1  1\n",
       "  1  1  1  1\n",
       "  1  1  1  1\n",
       "  1  1  1  1\n",
       "\n",
       "(7 ,.,.) = \n",
       "  1  1  1  1\n",
       "  1  1  1  1\n",
       "  1  1  1  1\n",
       "  1  1  1  1\n",
       "[torch.FloatTensor of size (8,4,4)]"
      ]
     },
     "execution_count": 111,
     "metadata": {},
     "output_type": "execute_result"
    }
   ],
   "source": [
    "conv.weight"
   ]
  },
  {
   "cell_type": "code",
   "execution_count": 19,
   "metadata": {
    "run_control": {
     "marked": false
    }
   },
   "outputs": [
    {
     "data": {
      "text/plain": [
       "\n",
       "(0 ,.,.) = \n",
       "  1  1  2  2  1  1\n",
       "  1  1  2  2  1  1\n",
       "  1  1  2  2  1  1\n",
       "  1  1  2  2  1  1\n",
       "[torch.FloatTensor of size (1,4,6)]"
      ]
     },
     "execution_count": 19,
     "metadata": {},
     "output_type": "execute_result"
    }
   ],
   "source": [
    "seq = pagnn.utils.random_sequence(1, 8, 2)\n",
    "\n",
    "convt = nn.ConvTranspose1d(8, 4, kernel_size=4, stride=2, padding=0, output_padding=0, bias=False)\n",
    "_ = convt.weight.data.fill_(1)\n",
    "\n",
    "convt(seq)"
   ]
  },
  {
   "cell_type": "code",
   "execution_count": 13,
   "metadata": {
    "run_control": {
     "marked": false
    }
   },
   "outputs": [
    {
     "data": {
      "text/plain": [
       "\n",
       "(0 ,.,.) = \n",
       "  1  2  2  1\n",
       "  1  2  2  1\n",
       "  1  2  2  1\n",
       "  1  2  2  1\n",
       "[torch.FloatTensor of size (1,4,4)]"
      ]
     },
     "execution_count": 13,
     "metadata": {},
     "output_type": "execute_result"
    }
   ],
   "source": [
    "convt(seq)"
   ]
  },
  {
   "cell_type": "code",
   "execution_count": 14,
   "metadata": {
    "run_control": {
     "marked": false
    }
   },
   "outputs": [
    {
     "ename": "Exception",
     "evalue": "",
     "output_type": "error",
     "traceback": [
      "\u001b[0;31m---------------------------------------------------------------------------\u001b[0m",
      "\u001b[0;31mException\u001b[0m                                 Traceback (most recent call last)",
      "\u001b[0;32m<ipython-input-14-2aee0157c87b>\u001b[0m in \u001b[0;36m<module>\u001b[0;34m()\u001b[0m\n\u001b[0;32m----> 1\u001b[0;31m \u001b[0;32mraise\u001b[0m \u001b[0mException\u001b[0m\u001b[0;34m\u001b[0m\u001b[0m\n\u001b[0m",
      "\u001b[0;31mException\u001b[0m: "
     ]
    }
   ],
   "source": [
    "raise Exception"
   ]
  },
  {
   "cell_type": "code",
   "execution_count": null,
   "metadata": {
    "collapsed": true,
    "run_control": {
     "marked": false
    }
   },
   "outputs": [],
   "source": [
    "seq = pagnn.utils.random_sequence(1, 2048, 3)\n",
    "conv = nn.Conv1d(2048, 1, kernel_size=1, stride=1, padding=0)\n",
    "out = conv(Variable(seq))"
   ]
  },
  {
   "cell_type": "code",
   "execution_count": null,
   "metadata": {
    "collapsed": true,
    "run_control": {
     "marked": false
    }
   },
   "outputs": [],
   "source": [
    "out.shape"
   ]
  },
  {
   "cell_type": "code",
   "execution_count": null,
   "metadata": {
    "collapsed": true,
    "run_control": {
     "marked": false
    }
   },
   "outputs": [],
   "source": [
    "out2 = out.squeeze()\n",
    "F.sigmoid(out).mean()"
   ]
  },
  {
   "cell_type": "code",
   "execution_count": null,
   "metadata": {
    "collapsed": true,
    "run_control": {
     "marked": false
    }
   },
   "outputs": [],
   "source": [
    "1/64"
   ]
  },
  {
   "cell_type": "code",
   "execution_count": null,
   "metadata": {
    "collapsed": true,
    "run_control": {
     "marked": false
    }
   },
   "outputs": [],
   "source": []
  },
  {
   "cell_type": "code",
   "execution_count": null,
   "metadata": {
    "collapsed": true,
    "run_control": {
     "marked": false
    }
   },
   "outputs": [],
   "source": [
    "F.pad(seq, (5, 5), mode='replicate')"
   ]
  },
  {
   "cell_type": "code",
   "execution_count": null,
   "metadata": {
    "collapsed": true,
    "run_control": {
     "marked": false
    }
   },
   "outputs": [],
   "source": []
  },
  {
   "cell_type": "code",
   "execution_count": null,
   "metadata": {
    "collapsed": true,
    "run_control": {
     "marked": false
    }
   },
   "outputs": [],
   "source": []
  },
  {
   "cell_type": "code",
   "execution_count": null,
   "metadata": {
    "collapsed": true,
    "run_control": {
     "marked": false
    }
   },
   "outputs": [],
   "source": [
    "def post_conv_dimensions(in_channels, out_channels, kernel_size, stride, padding, dilation):\n",
    "    return (in_channels + 2 * padding - dilation * (kernel_size - 1) - 1) / stride + 1\n",
    "\n",
    "\n",
    "def apply_convs(seq, n_conv):\n",
    "    in_channels = 20\n",
    "    out_channels = 64\n",
    "    convs = []\n",
    "    for i in range(n_conv):\n",
    "        print(in_channels, out_channels)\n",
    "        conv = nn.Conv1d(in_channels, out_channels, kernel_size=4, stride=2, padding=0, bias=False)\n",
    "        in_channels = out_channels\n",
    "        out_channels *= 2\n",
    "        convs.append(conv)\n",
    "\n",
    "    in_channels = 20\n",
    "    out_channels = 64\n",
    "    for conv in convs:\n",
    "        seq = torch.cat([seq[:, :, -1:], seq, seq[:, :, :1]], 2)\n",
    "        seq = conv(seq)\n",
    "        assert seq.shape[1] == out_channels\n",
    "        in_channels = out_channels\n",
    "        out_channels *= 2\n",
    "\n",
    "    return seq\n",
    "    \n",
    "    \n",
    "seq1 = pagnn.utils.gen_random_sequence(64, 20, 64)\n",
    "seq1[:, 0, seq1.shape[2] - 1] = 100\n",
    "\n",
    "\n",
    "seq2 = pagnn.utils.gen_random_sequence(64, 20, 32)\n",
    "\n",
    "spacer = torch.zeros(64, 20, 4)\n",
    "\n",
    "seq = torch.cat([seq1], dim=2)\n",
    "\n",
    "res = apply_convs(Variable(seq), 6)  # 6\n",
    "\n",
    "print(res.shape)\n",
    "\n",
    "for i, v in enumerate(res.sum(1).sum(0)):\n",
    "    print(f'{i:3}: {v.data[0]:10.4f}')"
   ]
  },
  {
   "cell_type": "code",
   "execution_count": null,
   "metadata": {
    "collapsed": true,
    "run_control": {
     "marked": false
    }
   },
   "outputs": [],
   "source": []
  },
  {
   "cell_type": "code",
   "execution_count": null,
   "metadata": {
    "collapsed": true,
    "run_control": {
     "marked": false
    }
   },
   "outputs": [],
   "source": [
    "1024 * 2048 * 4"
   ]
  },
  {
   "cell_type": "code",
   "execution_count": null,
   "metadata": {
    "collapsed": true,
    "run_control": {
     "marked": false
    }
   },
   "outputs": [],
   "source": [
    "20 * 2 * 32 + \\\n",
    "64 * 2 * 64 + \\\n",
    "128 * 2 * 128 + \\\n",
    "256 * 2 * 256"
   ]
  },
  {
   "cell_type": "code",
   "execution_count": null,
   "metadata": {
    "collapsed": true,
    "run_control": {
     "marked": false
    }
   },
   "outputs": [],
   "source": [
    "32 * 4 * 64 + \\\n",
    "64 * 4 * 128 + \\\n",
    "128 * 4 * 256 + \\\n",
    "256 * 4 * 512 + \\\n",
    "512 * 4 * 1024 + \\\n",
    "1024 * 4 * 2048 + \\\n",
    "2048"
   ]
  },
  {
   "cell_type": "code",
   "execution_count": null,
   "metadata": {
    "collapsed": true,
    "run_control": {
     "marked": false
    }
   },
   "outputs": [],
   "source": []
  },
  {
   "cell_type": "code",
   "execution_count": null,
   "metadata": {
    "collapsed": true,
    "run_control": {
     "marked": false
    }
   },
   "outputs": [],
   "source": []
  },
  {
   "cell_type": "code",
   "execution_count": null,
   "metadata": {
    "collapsed": true,
    "run_control": {
     "marked": false
    }
   },
   "outputs": [],
   "source": []
  }
 ],
 "metadata": {
  "kernelspec": {
   "display_name": "Python [default]",
   "language": "python",
   "name": "python3"
  },
  "language_info": {
   "codemirror_mode": {
    "name": "ipython",
    "version": 3
   },
   "file_extension": ".py",
   "mimetype": "text/x-python",
   "name": "python",
   "nbconvert_exporter": "python",
   "pygments_lexer": "ipython3",
   "version": "3.6.4"
  },
  "toc": {
   "nav_menu": {},
   "number_sections": false,
   "sideBar": false,
   "skip_h1_title": false,
   "toc_cell": false,
   "toc_position": {
    "height": "470px",
    "left": "1643.57px",
    "right": "20px",
    "top": "106.354px",
    "width": "331px"
   },
   "toc_section_display": "block",
   "toc_window_display": true
  }
 },
 "nbformat": 4,
 "nbformat_minor": 2
}
