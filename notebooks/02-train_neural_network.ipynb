{
 "cells": [
  {
   "cell_type": "markdown",
   "metadata": {},
   "source": [
    "# Summary"
   ]
  },
  {
   "cell_type": "markdown",
   "metadata": {},
   "source": [
    "# Imports"
   ]
  },
  {
   "cell_type": "code",
   "execution_count": 1,
   "metadata": {
    "collapsed": true
   },
   "outputs": [],
   "source": [
    "import torch\n",
    "import torch.nn as nn\n",
    "import torch.nn.functional as F\n",
    "import torch.optim as optim\n",
    "\n",
    "from torch.autograd import Variable"
   ]
  },
  {
   "cell_type": "code",
   "execution_count": 2,
   "metadata": {},
   "outputs": [
    {
     "name": "stderr",
     "output_type": "stream",
     "text": [
      "Setting the PYTHON_VERSION environment variable.\n",
      "Setting the SPARK_MASTER environment variable.\n",
      "Setting the SPARK_ARGS environment variable.\n",
      "Setting the DB_TYPE environment variable.\n",
      "Setting the DB_PORT environment variable.\n"
     ]
    },
    {
     "name": "stdout",
     "output_type": "stream",
     "text": [
      "2017-12-13 13:29:09.123457\n"
     ]
    }
   ],
   "source": [
    "%run _imports.ipynb"
   ]
  },
  {
   "cell_type": "code",
   "execution_count": 3,
   "metadata": {
    "collapsed": true
   },
   "outputs": [],
   "source": [
    "%run _settings.ipynb"
   ]
  },
  {
   "cell_type": "code",
   "execution_count": 4,
   "metadata": {
    "collapsed": true
   },
   "outputs": [],
   "source": [
    "from typing import NamedTuple\n",
    "import random\n",
    "random.seed(42)\n",
    "\n",
    "import h5py\n",
    "from sklearn import metrics"
   ]
  },
  {
   "cell_type": "code",
   "execution_count": 5,
   "metadata": {},
   "outputs": [
    {
     "data": {
      "text/plain": [
       "<module 'pagnn' from '/home/kimlab1/strokach/working/pagnn/pagnn/__init__.py'>"
      ]
     },
     "execution_count": 5,
     "metadata": {},
     "output_type": "execute_result"
    }
   ],
   "source": [
    "import pagnn\n",
    "importlib.reload(pagnn)"
   ]
  },
  {
   "cell_type": "code",
   "execution_count": 6,
   "metadata": {
    "collapsed": true
   },
   "outputs": [],
   "source": [
    "NOTEBOOK_NAME = 'train_neural_network'\n",
    "NOTEBOOK_PATH = Path(NOTEBOOK_NAME).absolute()\n",
    "NOTEBOOK_PATH.mkdir(exist_ok=True)"
   ]
  },
  {
   "cell_type": "markdown",
   "metadata": {},
   "source": [
    "# Parameters"
   ]
  },
  {
   "cell_type": "markdown",
   "metadata": {},
   "source": [
    "## Gene3D domains"
   ]
  },
  {
   "cell_type": "code",
   "execution_count": 8,
   "metadata": {},
   "outputs": [],
   "source": [
    "with open(f'generate_datasets/gene3d_domains.pickle', 'rb') as fin:\n",
    "    GENE3D_DOMAINS = pickle.load(fin)"
   ]
  },
  {
   "cell_type": "markdown",
   "metadata": {},
   "source": [
    "## Training / validation domains"
   ]
  },
  {
   "cell_type": "code",
   "execution_count": 9,
   "metadata": {
    "collapsed": true
   },
   "outputs": [],
   "source": [
    "with open(f'generate_datasets/training_domains.pickle', 'rb') as fin:\n",
    "    TRAINING_DOMAINS = pickle.load(fin)\n",
    "    \n",
    "with open(f'generate_datasets/validation_domains.pickle', 'rb') as fin:\n",
    "    VALIDATION_DOMAINS = pickle.load(fin)\n",
    "    \n",
    "with open(f'generate_datasets/test_domains.pickle', 'rb') as fin:\n",
    "    TEST_DOMAINS = pickle.load(fin)"
   ]
  },
  {
   "cell_type": "markdown",
   "metadata": {},
   "source": [
    "## Training / validation parquet files"
   ]
  },
  {
   "cell_type": "code",
   "execution_count": 11,
   "metadata": {},
   "outputs": [],
   "source": [
    "with open(f'generate_datasets/training_parquet_files.pickle', 'rb') as fin:\n",
    "    TRAINING_PARQUET_FILES = pickle.load(fin)\n",
    "    \n",
    "with open(f'generate_datasets/validation_parquet_files.pickle', 'rb') as fin:\n",
    "    VALIDATION_PARQUET_FILES = pickle.load(fin)\n",
    "    \n",
    "with open(f'generate_datasets/test_parquet_files.pickle', 'rb') as fin:\n",
    "    TEST_PARQUET_FILES = pickle.load(fin)"
   ]
  },
  {
   "cell_type": "markdown",
   "metadata": {},
   "source": [
    "# Train"
   ]
  },
  {
   "cell_type": "code",
   "execution_count": 12,
   "metadata": {
    "collapsed": true
   },
   "outputs": [],
   "source": [
    "# %% Train network\n",
    "\n",
    "net = pagnn.network.Net()\n",
    "\n",
    "# criterion = nn.MSELoss()\n",
    "# criterion = nn.L1Loss()\n",
    "criterion = nn.BCELoss()\n",
    "# criterion = nn.BCEWithLogitsLoss()\n",
    "\n",
    "# create your optimizer\n",
    "# optimizer = optim.SGD(net.parameters(), lr=0.2, momentum=0.1)\n",
    "optimizer = optim.Adam(net.parameters(), lr=0.01, weight_decay=0.001)"
   ]
  },
  {
   "cell_type": "code",
   "execution_count": 33,
   "metadata": {
    "run_control": {
     "marked": false
    },
    "scrolled": true
   },
   "outputs": [
    {
     "data": {
      "application/vnd.jupyter.widget-view+json": {
       "model_id": "90d0802068a34cbb9e35ac02a9a05f29",
       "version_major": 2,
       "version_minor": 0
      },
      "text/html": [
       "<p>Failed to display Jupyter Widget of type <code>HBox</code>.</p>\n",
       "<p>\n",
       "  If you're reading this message in the Jupyter Notebook or JupyterLab Notebook, it may mean\n",
       "  that the widgets JavaScript is still loading. If this message persists, it\n",
       "  likely means that the widgets JavaScript library is either not installed or\n",
       "  not enabled. See the <a href=\"https://ipywidgets.readthedocs.io/en/stable/user_install.html\">Jupyter\n",
       "  Widgets Documentation</a> for setup instructions.\n",
       "</p>\n",
       "<p>\n",
       "  If you're reading this message in another frontend (for example, a static\n",
       "  rendering on GitHub or <a href=\"https://nbviewer.jupyter.org/\">NBViewer</a>),\n",
       "  it may mean that your frontend doesn't currently support widgets.\n",
       "</p>\n"
      ],
      "text/plain": [
       "HBox(children=(IntProgress(value=0, max=1029), HTML(value='')))"
      ]
     },
     "metadata": {},
     "output_type": "display_data"
    },
    {
     "data": {
      "application/vnd.jupyter.widget-view+json": {
       "model_id": "97fbdab97b3044dca09e553caad743d3",
       "version_major": 2,
       "version_minor": 0
      },
      "text/html": [
       "<p>Failed to display Jupyter Widget of type <code>HBox</code>.</p>\n",
       "<p>\n",
       "  If you're reading this message in the Jupyter Notebook or JupyterLab Notebook, it may mean\n",
       "  that the widgets JavaScript is still loading. If this message persists, it\n",
       "  likely means that the widgets JavaScript library is either not installed or\n",
       "  not enabled. See the <a href=\"https://ipywidgets.readthedocs.io/en/stable/user_install.html\">Jupyter\n",
       "  Widgets Documentation</a> for setup instructions.\n",
       "</p>\n",
       "<p>\n",
       "  If you're reading this message in another frontend (for example, a static\n",
       "  rendering on GitHub or <a href=\"https://nbviewer.jupyter.org/\">NBViewer</a>),\n",
       "  it may mean that your frontend doesn't currently support widgets.\n",
       "</p>\n"
      ],
      "text/plain": [
       "HBox(children=(IntProgress(value=1, bar_style='info', description='Domain 0', max=1), HTML(value='')))"
      ]
     },
     "metadata": {},
     "output_type": "display_data"
    },
    {
     "data": {
      "application/vnd.jupyter.widget-view+json": {
       "model_id": "9fdb80563f514560b5e3202287469a6a",
       "version_major": 2,
       "version_minor": 0
      },
      "text/html": [
       "<p>Failed to display Jupyter Widget of type <code>HBox</code>.</p>\n",
       "<p>\n",
       "  If you're reading this message in the Jupyter Notebook or JupyterLab Notebook, it may mean\n",
       "  that the widgets JavaScript is still loading. If this message persists, it\n",
       "  likely means that the widgets JavaScript library is either not installed or\n",
       "  not enabled. See the <a href=\"https://ipywidgets.readthedocs.io/en/stable/user_install.html\">Jupyter\n",
       "  Widgets Documentation</a> for setup instructions.\n",
       "</p>\n",
       "<p>\n",
       "  If you're reading this message in another frontend (for example, a static\n",
       "  rendering on GitHub or <a href=\"https://nbviewer.jupyter.org/\">NBViewer</a>),\n",
       "  it may mean that your frontend doesn't currently support widgets.\n",
       "</p>\n"
      ],
      "text/plain": [
       "HBox(children=(IntProgress(value=0, description='Validation', max=172), HTML(value='')))"
      ]
     },
     "metadata": {},
     "output_type": "display_data"
    },
    {
     "name": "stdout",
     "output_type": "stream",
     "text": [
      "\r"
     ]
    },
    {
     "name": "stderr",
     "output_type": "stream",
     "text": [
      "Exception in thread Thread-16:\n",
      "Traceback (most recent call last):\n",
      "  File \"/home/kimlab1/strokach/anaconda3/lib/python3.6/threading.py\", line 916, in _bootstrap_inner\n",
      "    self.run()\n",
      "  File \"/home/kimlab1/strokach/anaconda3/lib/python3.6/site-packages/tqdm/_tqdm.py\", line 144, in run\n",
      "    for instance in self.tqdm_cls._instances:\n",
      "  File \"/home/kimlab1/strokach/anaconda3/lib/python3.6/_weakrefset.py\", line 60, in __iter__\n",
      "    for itemref in self.data:\n",
      "RuntimeError: Set changed size during iteration\n",
      "\n"
     ]
    },
    {
     "name": "stdout",
     "output_type": "stream",
     "text": [
      "0.841339735865\n"
     ]
    },
    {
     "data": {
      "application/vnd.jupyter.widget-view+json": {
       "model_id": "b8f82504a3844926996d8c8e2dc32dd1",
       "version_major": 2,
       "version_minor": 0
      },
      "text/html": [
       "<p>Failed to display Jupyter Widget of type <code>HBox</code>.</p>\n",
       "<p>\n",
       "  If you're reading this message in the Jupyter Notebook or JupyterLab Notebook, it may mean\n",
       "  that the widgets JavaScript is still loading. If this message persists, it\n",
       "  likely means that the widgets JavaScript library is either not installed or\n",
       "  not enabled. See the <a href=\"https://ipywidgets.readthedocs.io/en/stable/user_install.html\">Jupyter\n",
       "  Widgets Documentation</a> for setup instructions.\n",
       "</p>\n",
       "<p>\n",
       "  If you're reading this message in another frontend (for example, a static\n",
       "  rendering on GitHub or <a href=\"https://nbviewer.jupyter.org/\">NBViewer</a>),\n",
       "  it may mean that your frontend doesn't currently support widgets.\n",
       "</p>\n"
      ],
      "text/plain": [
       "HBox(children=(IntProgress(value=0, description='Validation', max=172), HTML(value='')))"
      ]
     },
     "metadata": {},
     "output_type": "display_data"
    },
    {
     "name": "stdout",
     "output_type": "stream",
     "text": [
      "0.841334171282\n",
      "Skipping short sequence...\n"
     ]
    },
    {
     "data": {
      "application/vnd.jupyter.widget-view+json": {
       "model_id": "c0a7f8b730d641188d7a101129d52314",
       "version_major": 2,
       "version_minor": 0
      },
      "text/html": [
       "<p>Failed to display Jupyter Widget of type <code>HBox</code>.</p>\n",
       "<p>\n",
       "  If you're reading this message in the Jupyter Notebook or JupyterLab Notebook, it may mean\n",
       "  that the widgets JavaScript is still loading. If this message persists, it\n",
       "  likely means that the widgets JavaScript library is either not installed or\n",
       "  not enabled. See the <a href=\"https://ipywidgets.readthedocs.io/en/stable/user_install.html\">Jupyter\n",
       "  Widgets Documentation</a> for setup instructions.\n",
       "</p>\n",
       "<p>\n",
       "  If you're reading this message in another frontend (for example, a static\n",
       "  rendering on GitHub or <a href=\"https://nbviewer.jupyter.org/\">NBViewer</a>),\n",
       "  it may mean that your frontend doesn't currently support widgets.\n",
       "</p>\n"
      ],
      "text/plain": [
       "HBox(children=(IntProgress(value=0, description='Validation', max=172), HTML(value='')))"
      ]
     },
     "metadata": {},
     "output_type": "display_data"
    },
    {
     "name": "stdout",
     "output_type": "stream",
     "text": [
      "0.841328279735\n"
     ]
    },
    {
     "data": {
      "application/vnd.jupyter.widget-view+json": {
       "model_id": "5a5a7bee4c204db98109b951d340776d",
       "version_major": 2,
       "version_minor": 0
      },
      "text/html": [
       "<p>Failed to display Jupyter Widget of type <code>HBox</code>.</p>\n",
       "<p>\n",
       "  If you're reading this message in the Jupyter Notebook or JupyterLab Notebook, it may mean\n",
       "  that the widgets JavaScript is still loading. If this message persists, it\n",
       "  likely means that the widgets JavaScript library is either not installed or\n",
       "  not enabled. See the <a href=\"https://ipywidgets.readthedocs.io/en/stable/user_install.html\">Jupyter\n",
       "  Widgets Documentation</a> for setup instructions.\n",
       "</p>\n",
       "<p>\n",
       "  If you're reading this message in another frontend (for example, a static\n",
       "  rendering on GitHub or <a href=\"https://nbviewer.jupyter.org/\">NBViewer</a>),\n",
       "  it may mean that your frontend doesn't currently support widgets.\n",
       "</p>\n"
      ],
      "text/plain": [
       "HBox(children=(IntProgress(value=0, description='Validation', max=172), HTML(value='')))"
      ]
     },
     "metadata": {},
     "output_type": "display_data"
    },
    {
     "name": "stdout",
     "output_type": "stream",
     "text": [
      "0.84132289197\n"
     ]
    },
    {
     "data": {
      "application/vnd.jupyter.widget-view+json": {
       "model_id": "dc95b100d7844b18aa8759dc01881a7b",
       "version_major": 2,
       "version_minor": 0
      },
      "text/html": [
       "<p>Failed to display Jupyter Widget of type <code>HBox</code>.</p>\n",
       "<p>\n",
       "  If you're reading this message in the Jupyter Notebook or JupyterLab Notebook, it may mean\n",
       "  that the widgets JavaScript is still loading. If this message persists, it\n",
       "  likely means that the widgets JavaScript library is either not installed or\n",
       "  not enabled. See the <a href=\"https://ipywidgets.readthedocs.io/en/stable/user_install.html\">Jupyter\n",
       "  Widgets Documentation</a> for setup instructions.\n",
       "</p>\n",
       "<p>\n",
       "  If you're reading this message in another frontend (for example, a static\n",
       "  rendering on GitHub or <a href=\"https://nbviewer.jupyter.org/\">NBViewer</a>),\n",
       "  it may mean that your frontend doesn't currently support widgets.\n",
       "</p>\n"
      ],
      "text/plain": [
       "HBox(children=(IntProgress(value=0, description='Validation', max=172), HTML(value='')))"
      ]
     },
     "metadata": {},
     "output_type": "display_data"
    },
    {
     "name": "stdout",
     "output_type": "stream",
     "text": [
      "0.841317297847\n"
     ]
    },
    {
     "name": "stderr",
     "output_type": "stream",
     "text": [
      "Could not convert the following residue to one-hot encoding: 66\n",
      "Could not convert the following residue to one-hot encoding: 66\n",
      "Could not convert the following residue to one-hot encoding: 66\n",
      "Could not convert the following residue to one-hot encoding: 66\n",
      "Could not convert the following residue to one-hot encoding: 66\n",
      "Could not convert the following residue to one-hot encoding: 66\n",
      "Could not convert the following residue to one-hot encoding: 66\n",
      "Could not convert the following residue to one-hot encoding: 66\n",
      "Could not convert the following residue to one-hot encoding: 66\n",
      "Could not convert the following residue to one-hot encoding: 66\n",
      "Could not convert the following residue to one-hot encoding: 66\n",
      "Could not convert the following residue to one-hot encoding: 66\n",
      "Could not convert the following residue to one-hot encoding: 66\n",
      "Could not convert the following residue to one-hot encoding: 66\n",
      "Could not convert the following residue to one-hot encoding: 66\n",
      "Could not convert the following residue to one-hot encoding: 66\n",
      "Could not convert the following residue to one-hot encoding: 66\n",
      "Could not convert the following residue to one-hot encoding: 66\n",
      "Could not convert the following residue to one-hot encoding: 66\n",
      "Could not convert the following residue to one-hot encoding: 66\n",
      "Could not convert the following residue to one-hot encoding: 66\n",
      "Could not convert the following residue to one-hot encoding: 66\n",
      "Could not convert the following residue to one-hot encoding: 66\n",
      "Could not convert the following residue to one-hot encoding: 66\n",
      "Could not convert the following residue to one-hot encoding: 66\n",
      "Could not convert the following residue to one-hot encoding: 66\n",
      "Could not convert the following residue to one-hot encoding: 66\n",
      "Could not convert the following residue to one-hot encoding: 66\n",
      "Could not convert the following residue to one-hot encoding: 66\n",
      "Could not convert the following residue to one-hot encoding: 66\n",
      "Could not convert the following residue to one-hot encoding: 66\n",
      "Could not convert the following residue to one-hot encoding: 66\n",
      "Could not convert the following residue to one-hot encoding: 66\n",
      "Could not convert the following residue to one-hot encoding: 66\n",
      "Could not convert the following residue to one-hot encoding: 66\n",
      "Could not convert the following residue to one-hot encoding: 66\n",
      "Could not convert the following residue to one-hot encoding: 66\n",
      "Could not convert the following residue to one-hot encoding: 66\n",
      "Could not convert the following residue to one-hot encoding: 66\n",
      "Could not convert the following residue to one-hot encoding: 66\n",
      "Could not convert the following residue to one-hot encoding: 66\n",
      "Could not convert the following residue to one-hot encoding: 66\n",
      "Could not convert the following residue to one-hot encoding: 66\n",
      "Could not convert the following residue to one-hot encoding: 66\n",
      "Could not convert the following residue to one-hot encoding: 66\n",
      "Could not convert the following residue to one-hot encoding: 66\n",
      "Could not convert the following residue to one-hot encoding: 66\n",
      "Could not convert the following residue to one-hot encoding: 66\n",
      "Could not convert the following residue to one-hot encoding: 66\n",
      "Could not convert the following residue to one-hot encoding: 66\n",
      "Could not convert the following residue to one-hot encoding: 66\n",
      "Could not convert the following residue to one-hot encoding: 66\n",
      "Could not convert the following residue to one-hot encoding: 66\n",
      "Could not convert the following residue to one-hot encoding: 66\n",
      "Could not convert the following residue to one-hot encoding: 66\n",
      "Could not convert the following residue to one-hot encoding: 66\n",
      "Could not convert the following residue to one-hot encoding: 66\n",
      "Could not convert the following residue to one-hot encoding: 66\n",
      "Could not convert the following residue to one-hot encoding: 66\n",
      "Could not convert the following residue to one-hot encoding: 66\n",
      "Could not convert the following residue to one-hot encoding: 66\n",
      "Could not convert the following residue to one-hot encoding: 66\n",
      "Could not convert the following residue to one-hot encoding: 66\n",
      "Could not convert the following residue to one-hot encoding: 66\n"
     ]
    },
    {
     "data": {
      "application/vnd.jupyter.widget-view+json": {
       "model_id": "da6e3571884f42c2a1f7443a8e91def1",
       "version_major": 2,
       "version_minor": 0
      },
      "text/html": [
       "<p>Failed to display Jupyter Widget of type <code>HBox</code>.</p>\n",
       "<p>\n",
       "  If you're reading this message in the Jupyter Notebook or JupyterLab Notebook, it may mean\n",
       "  that the widgets JavaScript is still loading. If this message persists, it\n",
       "  likely means that the widgets JavaScript library is either not installed or\n",
       "  not enabled. See the <a href=\"https://ipywidgets.readthedocs.io/en/stable/user_install.html\">Jupyter\n",
       "  Widgets Documentation</a> for setup instructions.\n",
       "</p>\n",
       "<p>\n",
       "  If you're reading this message in another frontend (for example, a static\n",
       "  rendering on GitHub or <a href=\"https://nbviewer.jupyter.org/\">NBViewer</a>),\n",
       "  it may mean that your frontend doesn't currently support widgets.\n",
       "</p>\n"
      ],
      "text/plain": [
       "HBox(children=(IntProgress(value=0, description='Validation', max=172), HTML(value='')))"
      ]
     },
     "metadata": {},
     "output_type": "display_data"
    },
    {
     "name": "stdout",
     "output_type": "stream",
     "text": [
      "0.841311629235\n"
     ]
    },
    {
     "name": "stderr",
     "output_type": "stream",
     "text": [
      "Could not convert the following residue to one-hot encoding: 66\n",
      "Could not convert the following residue to one-hot encoding: 66\n",
      "Could not convert the following residue to one-hot encoding: 66\n",
      "Could not convert the following residue to one-hot encoding: 66\n",
      "Could not convert the following residue to one-hot encoding: 66\n",
      "Could not convert the following residue to one-hot encoding: 66\n",
      "Could not convert the following residue to one-hot encoding: 66\n",
      "Could not convert the following residue to one-hot encoding: 66\n",
      "Could not convert the following residue to one-hot encoding: 66\n",
      "Could not convert the following residue to one-hot encoding: 66\n",
      "Could not convert the following residue to one-hot encoding: 66\n",
      "Could not convert the following residue to one-hot encoding: 66\n",
      "Could not convert the following residue to one-hot encoding: 66\n",
      "Could not convert the following residue to one-hot encoding: 66\n",
      "Could not convert the following residue to one-hot encoding: 66\n",
      "Could not convert the following residue to one-hot encoding: 66\n",
      "Could not convert the following residue to one-hot encoding: 66\n",
      "Could not convert the following residue to one-hot encoding: 66\n",
      "Could not convert the following residue to one-hot encoding: 66\n",
      "Could not convert the following residue to one-hot encoding: 66\n",
      "Could not convert the following residue to one-hot encoding: 66\n",
      "Could not convert the following residue to one-hot encoding: 66\n",
      "Could not convert the following residue to one-hot encoding: 66\n",
      "Could not convert the following residue to one-hot encoding: 66\n",
      "Could not convert the following residue to one-hot encoding: 66\n",
      "Could not convert the following residue to one-hot encoding: 66\n",
      "Could not convert the following residue to one-hot encoding: 66\n",
      "Could not convert the following residue to one-hot encoding: 66\n",
      "Could not convert the following residue to one-hot encoding: 66\n",
      "Could not convert the following residue to one-hot encoding: 66\n",
      "Could not convert the following residue to one-hot encoding: 66\n",
      "Could not convert the following residue to one-hot encoding: 66\n",
      "Could not convert the following residue to one-hot encoding: 66\n",
      "Could not convert the following residue to one-hot encoding: 66\n",
      "Could not convert the following residue to one-hot encoding: 66\n",
      "Could not convert the following residue to one-hot encoding: 66\n",
      "Could not convert the following residue to one-hot encoding: 66\n",
      "Could not convert the following residue to one-hot encoding: 66\n",
      "Could not convert the following residue to one-hot encoding: 66\n",
      "Could not convert the following residue to one-hot encoding: 66\n",
      "Could not convert the following residue to one-hot encoding: 66\n",
      "Could not convert the following residue to one-hot encoding: 66\n",
      "Could not convert the following residue to one-hot encoding: 66\n",
      "Could not convert the following residue to one-hot encoding: 66\n",
      "Could not convert the following residue to one-hot encoding: 66\n",
      "Could not convert the following residue to one-hot encoding: 66\n",
      "Could not convert the following residue to one-hot encoding: 66\n",
      "Could not convert the following residue to one-hot encoding: 66\n",
      "Could not convert the following residue to one-hot encoding: 66\n",
      "Could not convert the following residue to one-hot encoding: 66\n",
      "Could not convert the following residue to one-hot encoding: 66\n",
      "Could not convert the following residue to one-hot encoding: 66\n",
      "Could not convert the following residue to one-hot encoding: 66\n",
      "Could not convert the following residue to one-hot encoding: 66\n",
      "Could not convert the following residue to one-hot encoding: 66\n",
      "Could not convert the following residue to one-hot encoding: 66\n",
      "Could not convert the following residue to one-hot encoding: 66\n",
      "Could not convert the following residue to one-hot encoding: 66\n",
      "Could not convert the following residue to one-hot encoding: 66\n",
      "Could not convert the following residue to one-hot encoding: 66\n",
      "Could not convert the following residue to one-hot encoding: 66\n",
      "Could not convert the following residue to one-hot encoding: 66\n",
      "Could not convert the following residue to one-hot encoding: 66\n",
      "Could not convert the following residue to one-hot encoding: 66\n"
     ]
    },
    {
     "name": "stdout",
     "output_type": "stream",
     "text": [
      "Skipping short sequence...\n"
     ]
    },
    {
     "data": {
      "application/vnd.jupyter.widget-view+json": {
       "model_id": "9a3b0a28af534697b250e6fce94e5008",
       "version_major": 2,
       "version_minor": 0
      },
      "text/html": [
       "<p>Failed to display Jupyter Widget of type <code>HBox</code>.</p>\n",
       "<p>\n",
       "  If you're reading this message in the Jupyter Notebook or JupyterLab Notebook, it may mean\n",
       "  that the widgets JavaScript is still loading. If this message persists, it\n",
       "  likely means that the widgets JavaScript library is either not installed or\n",
       "  not enabled. See the <a href=\"https://ipywidgets.readthedocs.io/en/stable/user_install.html\">Jupyter\n",
       "  Widgets Documentation</a> for setup instructions.\n",
       "</p>\n",
       "<p>\n",
       "  If you're reading this message in another frontend (for example, a static\n",
       "  rendering on GitHub or <a href=\"https://nbviewer.jupyter.org/\">NBViewer</a>),\n",
       "  it may mean that your frontend doesn't currently support widgets.\n",
       "</p>\n"
      ],
      "text/plain": [
       "HBox(children=(IntProgress(value=0, description='Validation', max=172), HTML(value='')))"
      ]
     },
     "metadata": {},
     "output_type": "display_data"
    },
    {
     "name": "stdout",
     "output_type": "stream",
     "text": [
      "0.841305110899\n",
      "Skipping short sequence...\n"
     ]
    },
    {
     "data": {
      "application/vnd.jupyter.widget-view+json": {
       "model_id": "eb77f70fe2fc491db9a1ae993c7d00ab",
       "version_major": 2,
       "version_minor": 0
      },
      "text/html": [
       "<p>Failed to display Jupyter Widget of type <code>HBox</code>.</p>\n",
       "<p>\n",
       "  If you're reading this message in the Jupyter Notebook or JupyterLab Notebook, it may mean\n",
       "  that the widgets JavaScript is still loading. If this message persists, it\n",
       "  likely means that the widgets JavaScript library is either not installed or\n",
       "  not enabled. See the <a href=\"https://ipywidgets.readthedocs.io/en/stable/user_install.html\">Jupyter\n",
       "  Widgets Documentation</a> for setup instructions.\n",
       "</p>\n",
       "<p>\n",
       "  If you're reading this message in another frontend (for example, a static\n",
       "  rendering on GitHub or <a href=\"https://nbviewer.jupyter.org/\">NBViewer</a>),\n",
       "  it may mean that your frontend doesn't currently support widgets.\n",
       "</p>\n"
      ],
      "text/plain": [
       "HBox(children=(IntProgress(value=0, description='Validation', max=172), HTML(value='')))"
      ]
     },
     "metadata": {},
     "output_type": "display_data"
    },
    {
     "name": "stdout",
     "output_type": "stream",
     "text": [
      "0.841299194876\n"
     ]
    },
    {
     "name": "stderr",
     "output_type": "stream",
     "text": [
      "Could not convert the following residue to one-hot encoding: 66\n",
      "Could not convert the following residue to one-hot encoding: 66\n",
      "Could not convert the following residue to one-hot encoding: 66\n",
      "Could not convert the following residue to one-hot encoding: 66\n",
      "Could not convert the following residue to one-hot encoding: 66\n",
      "Could not convert the following residue to one-hot encoding: 66\n",
      "Could not convert the following residue to one-hot encoding: 66\n",
      "Could not convert the following residue to one-hot encoding: 66\n",
      "Could not convert the following residue to one-hot encoding: 66\n",
      "Could not convert the following residue to one-hot encoding: 66\n",
      "Could not convert the following residue to one-hot encoding: 66\n",
      "Could not convert the following residue to one-hot encoding: 66\n",
      "Could not convert the following residue to one-hot encoding: 66\n",
      "Could not convert the following residue to one-hot encoding: 66\n",
      "Could not convert the following residue to one-hot encoding: 66\n",
      "Could not convert the following residue to one-hot encoding: 66\n",
      "Could not convert the following residue to one-hot encoding: 66\n",
      "Could not convert the following residue to one-hot encoding: 66\n",
      "Could not convert the following residue to one-hot encoding: 66\n",
      "Could not convert the following residue to one-hot encoding: 66\n",
      "Could not convert the following residue to one-hot encoding: 66\n",
      "Could not convert the following residue to one-hot encoding: 66\n",
      "Could not convert the following residue to one-hot encoding: 66\n",
      "Could not convert the following residue to one-hot encoding: 66\n",
      "Could not convert the following residue to one-hot encoding: 66\n",
      "Could not convert the following residue to one-hot encoding: 66\n",
      "Could not convert the following residue to one-hot encoding: 66\n",
      "Could not convert the following residue to one-hot encoding: 66\n",
      "Could not convert the following residue to one-hot encoding: 66\n",
      "Could not convert the following residue to one-hot encoding: 66\n",
      "Could not convert the following residue to one-hot encoding: 66\n",
      "Could not convert the following residue to one-hot encoding: 66\n",
      "Could not convert the following residue to one-hot encoding: 66\n",
      "Could not convert the following residue to one-hot encoding: 66\n",
      "Could not convert the following residue to one-hot encoding: 66\n",
      "Could not convert the following residue to one-hot encoding: 66\n",
      "Could not convert the following residue to one-hot encoding: 66\n",
      "Could not convert the following residue to one-hot encoding: 66\n",
      "Could not convert the following residue to one-hot encoding: 66\n",
      "Could not convert the following residue to one-hot encoding: 66\n",
      "Could not convert the following residue to one-hot encoding: 66\n",
      "Could not convert the following residue to one-hot encoding: 66\n",
      "Could not convert the following residue to one-hot encoding: 66\n",
      "Could not convert the following residue to one-hot encoding: 66\n",
      "Could not convert the following residue to one-hot encoding: 66\n",
      "Could not convert the following residue to one-hot encoding: 66\n",
      "Could not convert the following residue to one-hot encoding: 66\n",
      "Could not convert the following residue to one-hot encoding: 66\n",
      "Could not convert the following residue to one-hot encoding: 66\n",
      "Could not convert the following residue to one-hot encoding: 66\n",
      "Could not convert the following residue to one-hot encoding: 66\n",
      "Could not convert the following residue to one-hot encoding: 66\n",
      "Could not convert the following residue to one-hot encoding: 66\n",
      "Could not convert the following residue to one-hot encoding: 66\n",
      "Could not convert the following residue to one-hot encoding: 66\n",
      "Could not convert the following residue to one-hot encoding: 66\n",
      "Could not convert the following residue to one-hot encoding: 66\n",
      "Could not convert the following residue to one-hot encoding: 66\n",
      "Could not convert the following residue to one-hot encoding: 66\n",
      "Could not convert the following residue to one-hot encoding: 66\n",
      "Could not convert the following residue to one-hot encoding: 66\n",
      "Could not convert the following residue to one-hot encoding: 66\n",
      "Could not convert the following residue to one-hot encoding: 66\n",
      "Could not convert the following residue to one-hot encoding: 66\n"
     ]
    },
    {
     "data": {
      "application/vnd.jupyter.widget-view+json": {
       "model_id": "c21cb9693ac54aadb2f056ebed954a7d",
       "version_major": 2,
       "version_minor": 0
      },
      "text/html": [
       "<p>Failed to display Jupyter Widget of type <code>HBox</code>.</p>\n",
       "<p>\n",
       "  If you're reading this message in the Jupyter Notebook or JupyterLab Notebook, it may mean\n",
       "  that the widgets JavaScript is still loading. If this message persists, it\n",
       "  likely means that the widgets JavaScript library is either not installed or\n",
       "  not enabled. See the <a href=\"https://ipywidgets.readthedocs.io/en/stable/user_install.html\">Jupyter\n",
       "  Widgets Documentation</a> for setup instructions.\n",
       "</p>\n",
       "<p>\n",
       "  If you're reading this message in another frontend (for example, a static\n",
       "  rendering on GitHub or <a href=\"https://nbviewer.jupyter.org/\">NBViewer</a>),\n",
       "  it may mean that your frontend doesn't currently support widgets.\n",
       "</p>\n"
      ],
      "text/plain": [
       "HBox(children=(IntProgress(value=0, description='Validation', max=172), HTML(value='')))"
      ]
     },
     "metadata": {},
     "output_type": "display_data"
    },
    {
     "name": "stdout",
     "output_type": "stream",
     "text": [
      "0.841292141838\n"
     ]
    },
    {
     "name": "stderr",
     "output_type": "stream",
     "text": [
      "Could not convert the following residue to one-hot encoding: 66\n",
      "Could not convert the following residue to one-hot encoding: 66\n",
      "Could not convert the following residue to one-hot encoding: 66\n",
      "Could not convert the following residue to one-hot encoding: 66\n",
      "Could not convert the following residue to one-hot encoding: 66\n",
      "Could not convert the following residue to one-hot encoding: 66\n",
      "Could not convert the following residue to one-hot encoding: 66\n",
      "Could not convert the following residue to one-hot encoding: 66\n",
      "Could not convert the following residue to one-hot encoding: 66\n",
      "Could not convert the following residue to one-hot encoding: 66\n",
      "Could not convert the following residue to one-hot encoding: 66\n",
      "Could not convert the following residue to one-hot encoding: 66\n",
      "Could not convert the following residue to one-hot encoding: 66\n",
      "Could not convert the following residue to one-hot encoding: 66\n",
      "Could not convert the following residue to one-hot encoding: 66\n",
      "Could not convert the following residue to one-hot encoding: 66\n",
      "Could not convert the following residue to one-hot encoding: 66\n",
      "Could not convert the following residue to one-hot encoding: 66\n",
      "Could not convert the following residue to one-hot encoding: 66\n",
      "Could not convert the following residue to one-hot encoding: 66\n",
      "Could not convert the following residue to one-hot encoding: 66\n",
      "Could not convert the following residue to one-hot encoding: 66\n",
      "Could not convert the following residue to one-hot encoding: 66\n",
      "Could not convert the following residue to one-hot encoding: 66\n",
      "Could not convert the following residue to one-hot encoding: 66\n",
      "Could not convert the following residue to one-hot encoding: 66\n",
      "Could not convert the following residue to one-hot encoding: 66\n",
      "Could not convert the following residue to one-hot encoding: 66\n",
      "Could not convert the following residue to one-hot encoding: 66\n",
      "Could not convert the following residue to one-hot encoding: 66\n",
      "Could not convert the following residue to one-hot encoding: 66\n",
      "Could not convert the following residue to one-hot encoding: 66\n",
      "Could not convert the following residue to one-hot encoding: 66\n",
      "Could not convert the following residue to one-hot encoding: 66\n",
      "Could not convert the following residue to one-hot encoding: 66\n",
      "Could not convert the following residue to one-hot encoding: 66\n",
      "Could not convert the following residue to one-hot encoding: 66\n",
      "Could not convert the following residue to one-hot encoding: 66\n",
      "Could not convert the following residue to one-hot encoding: 66\n",
      "Could not convert the following residue to one-hot encoding: 66\n",
      "Could not convert the following residue to one-hot encoding: 66\n",
      "Could not convert the following residue to one-hot encoding: 66\n",
      "Could not convert the following residue to one-hot encoding: 66\n",
      "Could not convert the following residue to one-hot encoding: 66\n",
      "Could not convert the following residue to one-hot encoding: 66\n",
      "Could not convert the following residue to one-hot encoding: 66\n",
      "Could not convert the following residue to one-hot encoding: 66\n",
      "Could not convert the following residue to one-hot encoding: 66\n",
      "Could not convert the following residue to one-hot encoding: 66\n",
      "Could not convert the following residue to one-hot encoding: 66\n",
      "Could not convert the following residue to one-hot encoding: 66\n",
      "Could not convert the following residue to one-hot encoding: 66\n",
      "Could not convert the following residue to one-hot encoding: 66\n",
      "Could not convert the following residue to one-hot encoding: 66\n",
      "Could not convert the following residue to one-hot encoding: 66\n",
      "Could not convert the following residue to one-hot encoding: 66\n",
      "Could not convert the following residue to one-hot encoding: 66\n",
      "Could not convert the following residue to one-hot encoding: 66\n",
      "Could not convert the following residue to one-hot encoding: 66\n",
      "Could not convert the following residue to one-hot encoding: 66\n",
      "Could not convert the following residue to one-hot encoding: 66\n",
      "Could not convert the following residue to one-hot encoding: 66\n",
      "Could not convert the following residue to one-hot encoding: 66\n",
      "Could not convert the following residue to one-hot encoding: 66\n"
     ]
    },
    {
     "data": {
      "application/vnd.jupyter.widget-view+json": {
       "model_id": "30cd24a1c7a541078da1bd0952bb0d2c",
       "version_major": 2,
       "version_minor": 0
      },
      "text/html": [
       "<p>Failed to display Jupyter Widget of type <code>HBox</code>.</p>\n",
       "<p>\n",
       "  If you're reading this message in the Jupyter Notebook or JupyterLab Notebook, it may mean\n",
       "  that the widgets JavaScript is still loading. If this message persists, it\n",
       "  likely means that the widgets JavaScript library is either not installed or\n",
       "  not enabled. See the <a href=\"https://ipywidgets.readthedocs.io/en/stable/user_install.html\">Jupyter\n",
       "  Widgets Documentation</a> for setup instructions.\n",
       "</p>\n",
       "<p>\n",
       "  If you're reading this message in another frontend (for example, a static\n",
       "  rendering on GitHub or <a href=\"https://nbviewer.jupyter.org/\">NBViewer</a>),\n",
       "  it may mean that your frontend doesn't currently support widgets.\n",
       "</p>\n"
      ],
      "text/plain": [
       "HBox(children=(IntProgress(value=0, description='Validation', max=172), HTML(value='')))"
      ]
     },
     "metadata": {},
     "output_type": "display_data"
    },
    {
     "name": "stdout",
     "output_type": "stream",
     "text": [
      "0.841285652742\n",
      "Skipping short sequence...\n",
      "Skipping short sequence...\n"
     ]
    },
    {
     "data": {
      "application/vnd.jupyter.widget-view+json": {
       "model_id": "ccab435bab8748758aa8a8f4198ff1ba",
       "version_major": 2,
       "version_minor": 0
      },
      "text/html": [
       "<p>Failed to display Jupyter Widget of type <code>HBox</code>.</p>\n",
       "<p>\n",
       "  If you're reading this message in the Jupyter Notebook or JupyterLab Notebook, it may mean\n",
       "  that the widgets JavaScript is still loading. If this message persists, it\n",
       "  likely means that the widgets JavaScript library is either not installed or\n",
       "  not enabled. See the <a href=\"https://ipywidgets.readthedocs.io/en/stable/user_install.html\">Jupyter\n",
       "  Widgets Documentation</a> for setup instructions.\n",
       "</p>\n",
       "<p>\n",
       "  If you're reading this message in another frontend (for example, a static\n",
       "  rendering on GitHub or <a href=\"https://nbviewer.jupyter.org/\">NBViewer</a>),\n",
       "  it may mean that your frontend doesn't currently support widgets.\n",
       "</p>\n"
      ],
      "text/plain": [
       "HBox(children=(IntProgress(value=0, description='Validation', max=172), HTML(value='')))"
      ]
     },
     "metadata": {},
     "output_type": "display_data"
    },
    {
     "name": "stdout",
     "output_type": "stream",
     "text": [
      "0.841279361658\n"
     ]
    },
    {
     "name": "stderr",
     "output_type": "stream",
     "text": [
      "Could not convert the following residue to one-hot encoding: 66\n",
      "Could not convert the following residue to one-hot encoding: 66\n",
      "Could not convert the following residue to one-hot encoding: 66\n",
      "Could not convert the following residue to one-hot encoding: 66\n",
      "Could not convert the following residue to one-hot encoding: 66\n",
      "Could not convert the following residue to one-hot encoding: 66\n",
      "Could not convert the following residue to one-hot encoding: 66\n",
      "Could not convert the following residue to one-hot encoding: 66\n",
      "Could not convert the following residue to one-hot encoding: 66\n",
      "Could not convert the following residue to one-hot encoding: 66\n",
      "Could not convert the following residue to one-hot encoding: 66\n",
      "Could not convert the following residue to one-hot encoding: 66\n",
      "Could not convert the following residue to one-hot encoding: 66\n",
      "Could not convert the following residue to one-hot encoding: 66\n",
      "Could not convert the following residue to one-hot encoding: 66\n",
      "Could not convert the following residue to one-hot encoding: 66\n",
      "Could not convert the following residue to one-hot encoding: 66\n",
      "Could not convert the following residue to one-hot encoding: 66\n",
      "Could not convert the following residue to one-hot encoding: 66\n",
      "Could not convert the following residue to one-hot encoding: 66\n",
      "Could not convert the following residue to one-hot encoding: 66\n",
      "Could not convert the following residue to one-hot encoding: 66\n",
      "Could not convert the following residue to one-hot encoding: 66\n",
      "Could not convert the following residue to one-hot encoding: 66\n",
      "Could not convert the following residue to one-hot encoding: 66\n",
      "Could not convert the following residue to one-hot encoding: 66\n",
      "Could not convert the following residue to one-hot encoding: 66\n",
      "Could not convert the following residue to one-hot encoding: 66\n",
      "Could not convert the following residue to one-hot encoding: 66\n",
      "Could not convert the following residue to one-hot encoding: 66\n",
      "Could not convert the following residue to one-hot encoding: 66\n",
      "Could not convert the following residue to one-hot encoding: 66\n",
      "Could not convert the following residue to one-hot encoding: 66\n",
      "Could not convert the following residue to one-hot encoding: 66\n",
      "Could not convert the following residue to one-hot encoding: 66\n",
      "Could not convert the following residue to one-hot encoding: 66\n",
      "Could not convert the following residue to one-hot encoding: 66\n",
      "Could not convert the following residue to one-hot encoding: 66\n",
      "Could not convert the following residue to one-hot encoding: 66\n",
      "Could not convert the following residue to one-hot encoding: 66\n",
      "Could not convert the following residue to one-hot encoding: 66\n",
      "Could not convert the following residue to one-hot encoding: 66\n",
      "Could not convert the following residue to one-hot encoding: 66\n",
      "Could not convert the following residue to one-hot encoding: 66\n",
      "Could not convert the following residue to one-hot encoding: 66\n",
      "Could not convert the following residue to one-hot encoding: 66\n",
      "Could not convert the following residue to one-hot encoding: 66\n",
      "Could not convert the following residue to one-hot encoding: 66\n",
      "Could not convert the following residue to one-hot encoding: 66\n",
      "Could not convert the following residue to one-hot encoding: 66\n",
      "Could not convert the following residue to one-hot encoding: 66\n",
      "Could not convert the following residue to one-hot encoding: 66\n",
      "Could not convert the following residue to one-hot encoding: 66\n",
      "Could not convert the following residue to one-hot encoding: 66\n",
      "Could not convert the following residue to one-hot encoding: 66\n",
      "Could not convert the following residue to one-hot encoding: 66\n",
      "Could not convert the following residue to one-hot encoding: 66\n",
      "Could not convert the following residue to one-hot encoding: 66\n",
      "Could not convert the following residue to one-hot encoding: 66\n",
      "Could not convert the following residue to one-hot encoding: 66\n",
      "Could not convert the following residue to one-hot encoding: 66\n",
      "Could not convert the following residue to one-hot encoding: 66\n",
      "Could not convert the following residue to one-hot encoding: 66\n",
      "Could not convert the following residue to one-hot encoding: 66\n"
     ]
    },
    {
     "data": {
      "application/vnd.jupyter.widget-view+json": {
       "model_id": "e43835a7438c418c8f07b56013018f8a",
       "version_major": 2,
       "version_minor": 0
      },
      "text/html": [
       "<p>Failed to display Jupyter Widget of type <code>HBox</code>.</p>\n",
       "<p>\n",
       "  If you're reading this message in the Jupyter Notebook or JupyterLab Notebook, it may mean\n",
       "  that the widgets JavaScript is still loading. If this message persists, it\n",
       "  likely means that the widgets JavaScript library is either not installed or\n",
       "  not enabled. See the <a href=\"https://ipywidgets.readthedocs.io/en/stable/user_install.html\">Jupyter\n",
       "  Widgets Documentation</a> for setup instructions.\n",
       "</p>\n",
       "<p>\n",
       "  If you're reading this message in another frontend (for example, a static\n",
       "  rendering on GitHub or <a href=\"https://nbviewer.jupyter.org/\">NBViewer</a>),\n",
       "  it may mean that your frontend doesn't currently support widgets.\n",
       "</p>\n"
      ],
      "text/plain": [
       "HBox(children=(IntProgress(value=0, description='Validation', max=172), HTML(value='')))"
      ]
     },
     "metadata": {},
     "output_type": "display_data"
    },
    {
     "name": "stdout",
     "output_type": "stream",
     "text": [
      "0.841273153108\n",
      "Skipping short sequence...\n",
      "Skipping short sequence...\n"
     ]
    },
    {
     "data": {
      "application/vnd.jupyter.widget-view+json": {
       "model_id": "29b9712aa70a4e618e40c6274f226056",
       "version_major": 2,
       "version_minor": 0
      },
      "text/html": [
       "<p>Failed to display Jupyter Widget of type <code>HBox</code>.</p>\n",
       "<p>\n",
       "  If you're reading this message in the Jupyter Notebook or JupyterLab Notebook, it may mean\n",
       "  that the widgets JavaScript is still loading. If this message persists, it\n",
       "  likely means that the widgets JavaScript library is either not installed or\n",
       "  not enabled. See the <a href=\"https://ipywidgets.readthedocs.io/en/stable/user_install.html\">Jupyter\n",
       "  Widgets Documentation</a> for setup instructions.\n",
       "</p>\n",
       "<p>\n",
       "  If you're reading this message in another frontend (for example, a static\n",
       "  rendering on GitHub or <a href=\"https://nbviewer.jupyter.org/\">NBViewer</a>),\n",
       "  it may mean that your frontend doesn't currently support widgets.\n",
       "</p>\n"
      ],
      "text/plain": [
       "HBox(children=(IntProgress(value=0, description='Validation', max=172), HTML(value='')))"
      ]
     },
     "metadata": {},
     "output_type": "display_data"
    },
    {
     "name": "stdout",
     "output_type": "stream",
     "text": [
      "0.841266715339\n",
      "Skipping short sequence...\n"
     ]
    },
    {
     "data": {
      "application/vnd.jupyter.widget-view+json": {
       "model_id": "b1db240b168240feab1c504cc188c423",
       "version_major": 2,
       "version_minor": 0
      },
      "text/html": [
       "<p>Failed to display Jupyter Widget of type <code>HBox</code>.</p>\n",
       "<p>\n",
       "  If you're reading this message in the Jupyter Notebook or JupyterLab Notebook, it may mean\n",
       "  that the widgets JavaScript is still loading. If this message persists, it\n",
       "  likely means that the widgets JavaScript library is either not installed or\n",
       "  not enabled. See the <a href=\"https://ipywidgets.readthedocs.io/en/stable/user_install.html\">Jupyter\n",
       "  Widgets Documentation</a> for setup instructions.\n",
       "</p>\n",
       "<p>\n",
       "  If you're reading this message in another frontend (for example, a static\n",
       "  rendering on GitHub or <a href=\"https://nbviewer.jupyter.org/\">NBViewer</a>),\n",
       "  it may mean that your frontend doesn't currently support widgets.\n",
       "</p>\n"
      ],
      "text/plain": [
       "HBox(children=(IntProgress(value=0, description='Validation', max=172), HTML(value='')))"
      ]
     },
     "metadata": {},
     "output_type": "display_data"
    },
    {
     "name": "stdout",
     "output_type": "stream",
     "text": [
      "0.841261079651\n"
     ]
    },
    {
     "data": {
      "application/vnd.jupyter.widget-view+json": {
       "model_id": "9dbae734ff084c1c98c63b80e88b3f4f",
       "version_major": 2,
       "version_minor": 0
      },
      "text/html": [
       "<p>Failed to display Jupyter Widget of type <code>HBox</code>.</p>\n",
       "<p>\n",
       "  If you're reading this message in the Jupyter Notebook or JupyterLab Notebook, it may mean\n",
       "  that the widgets JavaScript is still loading. If this message persists, it\n",
       "  likely means that the widgets JavaScript library is either not installed or\n",
       "  not enabled. See the <a href=\"https://ipywidgets.readthedocs.io/en/stable/user_install.html\">Jupyter\n",
       "  Widgets Documentation</a> for setup instructions.\n",
       "</p>\n",
       "<p>\n",
       "  If you're reading this message in another frontend (for example, a static\n",
       "  rendering on GitHub or <a href=\"https://nbviewer.jupyter.org/\">NBViewer</a>),\n",
       "  it may mean that your frontend doesn't currently support widgets.\n",
       "</p>\n"
      ],
      "text/plain": [
       "HBox(children=(IntProgress(value=0, description='Validation', max=172), HTML(value='')))"
      ]
     },
     "metadata": {},
     "output_type": "display_data"
    },
    {
     "name": "stdout",
     "output_type": "stream",
     "text": [
      "0.841255034638\n"
     ]
    },
    {
     "name": "stderr",
     "output_type": "stream",
     "text": [
      "Could not convert the following residue to one-hot encoding: 90\n",
      "Could not convert the following residue to one-hot encoding: 90\n",
      "Could not convert the following residue to one-hot encoding: 90\n",
      "Could not convert the following residue to one-hot encoding: 90\n",
      "Could not convert the following residue to one-hot encoding: 90\n",
      "Could not convert the following residue to one-hot encoding: 90\n",
      "Could not convert the following residue to one-hot encoding: 90\n",
      "Could not convert the following residue to one-hot encoding: 90\n",
      "Could not convert the following residue to one-hot encoding: 90\n",
      "Could not convert the following residue to one-hot encoding: 90\n",
      "Could not convert the following residue to one-hot encoding: 90\n",
      "Could not convert the following residue to one-hot encoding: 90\n",
      "Could not convert the following residue to one-hot encoding: 90\n",
      "Could not convert the following residue to one-hot encoding: 90\n",
      "Could not convert the following residue to one-hot encoding: 90\n",
      "Could not convert the following residue to one-hot encoding: 90\n",
      "Could not convert the following residue to one-hot encoding: 90\n",
      "Could not convert the following residue to one-hot encoding: 90\n",
      "Could not convert the following residue to one-hot encoding: 90\n",
      "Could not convert the following residue to one-hot encoding: 90\n",
      "Could not convert the following residue to one-hot encoding: 90\n",
      "Could not convert the following residue to one-hot encoding: 90\n",
      "Could not convert the following residue to one-hot encoding: 90\n",
      "Could not convert the following residue to one-hot encoding: 90\n",
      "Could not convert the following residue to one-hot encoding: 90\n",
      "Could not convert the following residue to one-hot encoding: 90\n",
      "Could not convert the following residue to one-hot encoding: 90\n",
      "Could not convert the following residue to one-hot encoding: 90\n",
      "Could not convert the following residue to one-hot encoding: 90\n",
      "Could not convert the following residue to one-hot encoding: 90\n",
      "Could not convert the following residue to one-hot encoding: 90\n",
      "Could not convert the following residue to one-hot encoding: 90\n",
      "Could not convert the following residue to one-hot encoding: 90\n",
      "Could not convert the following residue to one-hot encoding: 90\n",
      "Could not convert the following residue to one-hot encoding: 90\n",
      "Could not convert the following residue to one-hot encoding: 90\n",
      "Could not convert the following residue to one-hot encoding: 90\n",
      "Could not convert the following residue to one-hot encoding: 90\n",
      "Could not convert the following residue to one-hot encoding: 90\n",
      "Could not convert the following residue to one-hot encoding: 90\n",
      "Could not convert the following residue to one-hot encoding: 90\n",
      "Could not convert the following residue to one-hot encoding: 90\n",
      "Could not convert the following residue to one-hot encoding: 90\n",
      "Could not convert the following residue to one-hot encoding: 90\n",
      "Could not convert the following residue to one-hot encoding: 90\n",
      "Could not convert the following residue to one-hot encoding: 90\n",
      "Could not convert the following residue to one-hot encoding: 90\n",
      "Could not convert the following residue to one-hot encoding: 90\n",
      "Could not convert the following residue to one-hot encoding: 90\n",
      "Could not convert the following residue to one-hot encoding: 90\n",
      "Could not convert the following residue to one-hot encoding: 90\n",
      "Could not convert the following residue to one-hot encoding: 90\n",
      "Could not convert the following residue to one-hot encoding: 90\n",
      "Could not convert the following residue to one-hot encoding: 90\n",
      "Could not convert the following residue to one-hot encoding: 90\n",
      "Could not convert the following residue to one-hot encoding: 90\n",
      "Could not convert the following residue to one-hot encoding: 90\n",
      "Could not convert the following residue to one-hot encoding: 90\n",
      "Could not convert the following residue to one-hot encoding: 90\n",
      "Could not convert the following residue to one-hot encoding: 90\n",
      "Could not convert the following residue to one-hot encoding: 90\n",
      "Could not convert the following residue to one-hot encoding: 90\n",
      "Could not convert the following residue to one-hot encoding: 90\n",
      "Could not convert the following residue to one-hot encoding: 90\n"
     ]
    },
    {
     "data": {
      "application/vnd.jupyter.widget-view+json": {
       "model_id": "4d08114d146e4fd28f7240502803da6a",
       "version_major": 2,
       "version_minor": 0
      },
      "text/html": [
       "<p>Failed to display Jupyter Widget of type <code>HBox</code>.</p>\n",
       "<p>\n",
       "  If you're reading this message in the Jupyter Notebook or JupyterLab Notebook, it may mean\n",
       "  that the widgets JavaScript is still loading. If this message persists, it\n",
       "  likely means that the widgets JavaScript library is either not installed or\n",
       "  not enabled. See the <a href=\"https://ipywidgets.readthedocs.io/en/stable/user_install.html\">Jupyter\n",
       "  Widgets Documentation</a> for setup instructions.\n",
       "</p>\n",
       "<p>\n",
       "  If you're reading this message in another frontend (for example, a static\n",
       "  rendering on GitHub or <a href=\"https://nbviewer.jupyter.org/\">NBViewer</a>),\n",
       "  it may mean that your frontend doesn't currently support widgets.\n",
       "</p>\n"
      ],
      "text/plain": [
       "HBox(children=(IntProgress(value=0, description='Validation', max=172), HTML(value='')))"
      ]
     },
     "metadata": {},
     "output_type": "display_data"
    },
    {
     "name": "stdout",
     "output_type": "stream",
     "text": [
      "0.841249230654\n",
      "Skipping short sequence...\n",
      "Skipping short sequence...\n"
     ]
    },
    {
     "data": {
      "application/vnd.jupyter.widget-view+json": {
       "model_id": "4d7d3cd66d6e4ec48cf03425f9223c7c",
       "version_major": 2,
       "version_minor": 0
      },
      "text/html": [
       "<p>Failed to display Jupyter Widget of type <code>HBox</code>.</p>\n",
       "<p>\n",
       "  If you're reading this message in the Jupyter Notebook or JupyterLab Notebook, it may mean\n",
       "  that the widgets JavaScript is still loading. If this message persists, it\n",
       "  likely means that the widgets JavaScript library is either not installed or\n",
       "  not enabled. See the <a href=\"https://ipywidgets.readthedocs.io/en/stable/user_install.html\">Jupyter\n",
       "  Widgets Documentation</a> for setup instructions.\n",
       "</p>\n",
       "<p>\n",
       "  If you're reading this message in another frontend (for example, a static\n",
       "  rendering on GitHub or <a href=\"https://nbviewer.jupyter.org/\">NBViewer</a>),\n",
       "  it may mean that your frontend doesn't currently support widgets.\n",
       "</p>\n"
      ],
      "text/plain": [
       "HBox(children=(IntProgress(value=0, description='Validation', max=172), HTML(value='')))"
      ]
     },
     "metadata": {},
     "output_type": "display_data"
    },
    {
     "name": "stdout",
     "output_type": "stream",
     "text": [
      "0.841243151512\n",
      "Skipping short sequence...\n"
     ]
    },
    {
     "data": {
      "application/vnd.jupyter.widget-view+json": {
       "model_id": "c630bc369b0a4fcca42caa783059ff95",
       "version_major": 2,
       "version_minor": 0
      },
      "text/html": [
       "<p>Failed to display Jupyter Widget of type <code>HBox</code>.</p>\n",
       "<p>\n",
       "  If you're reading this message in the Jupyter Notebook or JupyterLab Notebook, it may mean\n",
       "  that the widgets JavaScript is still loading. If this message persists, it\n",
       "  likely means that the widgets JavaScript library is either not installed or\n",
       "  not enabled. See the <a href=\"https://ipywidgets.readthedocs.io/en/stable/user_install.html\">Jupyter\n",
       "  Widgets Documentation</a> for setup instructions.\n",
       "</p>\n",
       "<p>\n",
       "  If you're reading this message in another frontend (for example, a static\n",
       "  rendering on GitHub or <a href=\"https://nbviewer.jupyter.org/\">NBViewer</a>),\n",
       "  it may mean that your frontend doesn't currently support widgets.\n",
       "</p>\n"
      ],
      "text/plain": [
       "HBox(children=(IntProgress(value=0, description='Validation', max=172), HTML(value='')))"
      ]
     },
     "metadata": {},
     "output_type": "display_data"
    },
    {
     "name": "stdout",
     "output_type": "stream",
     "text": [
      "0.84123713951\n",
      "Skipping short sequence...\n"
     ]
    },
    {
     "data": {
      "application/vnd.jupyter.widget-view+json": {
       "model_id": "a7ff20a1ffc341db85b53aa8b8258412",
       "version_major": 2,
       "version_minor": 0
      },
      "text/html": [
       "<p>Failed to display Jupyter Widget of type <code>HBox</code>.</p>\n",
       "<p>\n",
       "  If you're reading this message in the Jupyter Notebook or JupyterLab Notebook, it may mean\n",
       "  that the widgets JavaScript is still loading. If this message persists, it\n",
       "  likely means that the widgets JavaScript library is either not installed or\n",
       "  not enabled. See the <a href=\"https://ipywidgets.readthedocs.io/en/stable/user_install.html\">Jupyter\n",
       "  Widgets Documentation</a> for setup instructions.\n",
       "</p>\n",
       "<p>\n",
       "  If you're reading this message in another frontend (for example, a static\n",
       "  rendering on GitHub or <a href=\"https://nbviewer.jupyter.org/\">NBViewer</a>),\n",
       "  it may mean that your frontend doesn't currently support widgets.\n",
       "</p>\n"
      ],
      "text/plain": [
       "HBox(children=(IntProgress(value=0, description='Validation', max=172), HTML(value='')))"
      ]
     },
     "metadata": {},
     "output_type": "display_data"
    },
    {
     "name": "stdout",
     "output_type": "stream",
     "text": [
      "0.841230881075\n"
     ]
    },
    {
     "name": "stderr",
     "output_type": "stream",
     "text": [
      "Could not convert the following residue to one-hot encoding: 90\n",
      "Could not convert the following residue to one-hot encoding: 90\n",
      "Could not convert the following residue to one-hot encoding: 90\n",
      "Could not convert the following residue to one-hot encoding: 90\n",
      "Could not convert the following residue to one-hot encoding: 90\n",
      "Could not convert the following residue to one-hot encoding: 90\n",
      "Could not convert the following residue to one-hot encoding: 90\n",
      "Could not convert the following residue to one-hot encoding: 90\n",
      "Could not convert the following residue to one-hot encoding: 90\n",
      "Could not convert the following residue to one-hot encoding: 90\n",
      "Could not convert the following residue to one-hot encoding: 90\n",
      "Could not convert the following residue to one-hot encoding: 90\n",
      "Could not convert the following residue to one-hot encoding: 90\n",
      "Could not convert the following residue to one-hot encoding: 90\n",
      "Could not convert the following residue to one-hot encoding: 90\n",
      "Could not convert the following residue to one-hot encoding: 90\n",
      "Could not convert the following residue to one-hot encoding: 90\n",
      "Could not convert the following residue to one-hot encoding: 90\n",
      "Could not convert the following residue to one-hot encoding: 90\n",
      "Could not convert the following residue to one-hot encoding: 90\n",
      "Could not convert the following residue to one-hot encoding: 90\n",
      "Could not convert the following residue to one-hot encoding: 90\n",
      "Could not convert the following residue to one-hot encoding: 90\n",
      "Could not convert the following residue to one-hot encoding: 90\n",
      "Could not convert the following residue to one-hot encoding: 90\n",
      "Could not convert the following residue to one-hot encoding: 90\n",
      "Could not convert the following residue to one-hot encoding: 90\n",
      "Could not convert the following residue to one-hot encoding: 90\n",
      "Could not convert the following residue to one-hot encoding: 90\n",
      "Could not convert the following residue to one-hot encoding: 90\n",
      "Could not convert the following residue to one-hot encoding: 90\n",
      "Could not convert the following residue to one-hot encoding: 90\n",
      "Could not convert the following residue to one-hot encoding: 90\n",
      "Could not convert the following residue to one-hot encoding: 90\n",
      "Could not convert the following residue to one-hot encoding: 90\n",
      "Could not convert the following residue to one-hot encoding: 90\n",
      "Could not convert the following residue to one-hot encoding: 90\n",
      "Could not convert the following residue to one-hot encoding: 90\n",
      "Could not convert the following residue to one-hot encoding: 90\n",
      "Could not convert the following residue to one-hot encoding: 90\n",
      "Could not convert the following residue to one-hot encoding: 90\n",
      "Could not convert the following residue to one-hot encoding: 90\n",
      "Could not convert the following residue to one-hot encoding: 90\n",
      "Could not convert the following residue to one-hot encoding: 90\n",
      "Could not convert the following residue to one-hot encoding: 90\n",
      "Could not convert the following residue to one-hot encoding: 90\n",
      "Could not convert the following residue to one-hot encoding: 90\n",
      "Could not convert the following residue to one-hot encoding: 90\n",
      "Could not convert the following residue to one-hot encoding: 90\n",
      "Could not convert the following residue to one-hot encoding: 90\n",
      "Could not convert the following residue to one-hot encoding: 90\n",
      "Could not convert the following residue to one-hot encoding: 90\n",
      "Could not convert the following residue to one-hot encoding: 90\n",
      "Could not convert the following residue to one-hot encoding: 90\n",
      "Could not convert the following residue to one-hot encoding: 90\n",
      "Could not convert the following residue to one-hot encoding: 90\n",
      "Could not convert the following residue to one-hot encoding: 90\n",
      "Could not convert the following residue to one-hot encoding: 90\n",
      "Could not convert the following residue to one-hot encoding: 90\n",
      "Could not convert the following residue to one-hot encoding: 90\n",
      "Could not convert the following residue to one-hot encoding: 90\n",
      "Could not convert the following residue to one-hot encoding: 90\n",
      "Could not convert the following residue to one-hot encoding: 90\n",
      "Could not convert the following residue to one-hot encoding: 90\n"
     ]
    },
    {
     "data": {
      "application/vnd.jupyter.widget-view+json": {
       "model_id": "f82187ce9634480984f9c018600fe203",
       "version_major": 2,
       "version_minor": 0
      },
      "text/html": [
       "<p>Failed to display Jupyter Widget of type <code>HBox</code>.</p>\n",
       "<p>\n",
       "  If you're reading this message in the Jupyter Notebook or JupyterLab Notebook, it may mean\n",
       "  that the widgets JavaScript is still loading. If this message persists, it\n",
       "  likely means that the widgets JavaScript library is either not installed or\n",
       "  not enabled. See the <a href=\"https://ipywidgets.readthedocs.io/en/stable/user_install.html\">Jupyter\n",
       "  Widgets Documentation</a> for setup instructions.\n",
       "</p>\n",
       "<p>\n",
       "  If you're reading this message in another frontend (for example, a static\n",
       "  rendering on GitHub or <a href=\"https://nbviewer.jupyter.org/\">NBViewer</a>),\n",
       "  it may mean that your frontend doesn't currently support widgets.\n",
       "</p>\n"
      ],
      "text/plain": [
       "HBox(children=(IntProgress(value=0, description='Validation', max=172), HTML(value='')))"
      ]
     },
     "metadata": {},
     "output_type": "display_data"
    },
    {
     "name": "stdout",
     "output_type": "stream",
     "text": [
      "0.84122529133\n",
      "Skipping short sequence...\n"
     ]
    },
    {
     "data": {
      "application/vnd.jupyter.widget-view+json": {
       "model_id": "aee48c892b2d42ec92304d22ac309ffa",
       "version_major": 2,
       "version_minor": 0
      },
      "text/html": [
       "<p>Failed to display Jupyter Widget of type <code>HBox</code>.</p>\n",
       "<p>\n",
       "  If you're reading this message in the Jupyter Notebook or JupyterLab Notebook, it may mean\n",
       "  that the widgets JavaScript is still loading. If this message persists, it\n",
       "  likely means that the widgets JavaScript library is either not installed or\n",
       "  not enabled. See the <a href=\"https://ipywidgets.readthedocs.io/en/stable/user_install.html\">Jupyter\n",
       "  Widgets Documentation</a> for setup instructions.\n",
       "</p>\n",
       "<p>\n",
       "  If you're reading this message in another frontend (for example, a static\n",
       "  rendering on GitHub or <a href=\"https://nbviewer.jupyter.org/\">NBViewer</a>),\n",
       "  it may mean that your frontend doesn't currently support widgets.\n",
       "</p>\n"
      ],
      "text/plain": [
       "HBox(children=(IntProgress(value=0, description='Validation', max=172), HTML(value='')))"
      ]
     },
     "metadata": {},
     "output_type": "display_data"
    },
    {
     "name": "stdout",
     "output_type": "stream",
     "text": [
      "0.841219560292\n"
     ]
    },
    {
     "data": {
      "application/vnd.jupyter.widget-view+json": {
       "model_id": "82af0775fc3a4f1abf1afcc8086741ba",
       "version_major": 2,
       "version_minor": 0
      },
      "text/html": [
       "<p>Failed to display Jupyter Widget of type <code>HBox</code>.</p>\n",
       "<p>\n",
       "  If you're reading this message in the Jupyter Notebook or JupyterLab Notebook, it may mean\n",
       "  that the widgets JavaScript is still loading. If this message persists, it\n",
       "  likely means that the widgets JavaScript library is either not installed or\n",
       "  not enabled. See the <a href=\"https://ipywidgets.readthedocs.io/en/stable/user_install.html\">Jupyter\n",
       "  Widgets Documentation</a> for setup instructions.\n",
       "</p>\n",
       "<p>\n",
       "  If you're reading this message in another frontend (for example, a static\n",
       "  rendering on GitHub or <a href=\"https://nbviewer.jupyter.org/\">NBViewer</a>),\n",
       "  it may mean that your frontend doesn't currently support widgets.\n",
       "</p>\n"
      ],
      "text/plain": [
       "HBox(children=(IntProgress(value=0, description='Validation', max=172), HTML(value='')))"
      ]
     },
     "metadata": {},
     "output_type": "display_data"
    },
    {
     "name": "stdout",
     "output_type": "stream",
     "text": [
      "0.841213182029\n",
      "Skipping short sequence...\n"
     ]
    },
    {
     "data": {
      "application/vnd.jupyter.widget-view+json": {
       "model_id": "298ad4e5d1b44b7493bc707c9836ca7e",
       "version_major": 2,
       "version_minor": 0
      },
      "text/html": [
       "<p>Failed to display Jupyter Widget of type <code>HBox</code>.</p>\n",
       "<p>\n",
       "  If you're reading this message in the Jupyter Notebook or JupyterLab Notebook, it may mean\n",
       "  that the widgets JavaScript is still loading. If this message persists, it\n",
       "  likely means that the widgets JavaScript library is either not installed or\n",
       "  not enabled. See the <a href=\"https://ipywidgets.readthedocs.io/en/stable/user_install.html\">Jupyter\n",
       "  Widgets Documentation</a> for setup instructions.\n",
       "</p>\n",
       "<p>\n",
       "  If you're reading this message in another frontend (for example, a static\n",
       "  rendering on GitHub or <a href=\"https://nbviewer.jupyter.org/\">NBViewer</a>),\n",
       "  it may mean that your frontend doesn't currently support widgets.\n",
       "</p>\n"
      ],
      "text/plain": [
       "HBox(children=(IntProgress(value=0, description='Validation', max=172), HTML(value='')))"
      ]
     },
     "metadata": {},
     "output_type": "display_data"
    },
    {
     "name": "stdout",
     "output_type": "stream",
     "text": [
      "0.841207446756\n",
      "Skipping short sequence...\n",
      "Skipping short sequence...\n"
     ]
    },
    {
     "data": {
      "application/vnd.jupyter.widget-view+json": {
       "model_id": "1e59ad69d0264be49d34b02ae3982103",
       "version_major": 2,
       "version_minor": 0
      },
      "text/html": [
       "<p>Failed to display Jupyter Widget of type <code>HBox</code>.</p>\n",
       "<p>\n",
       "  If you're reading this message in the Jupyter Notebook or JupyterLab Notebook, it may mean\n",
       "  that the widgets JavaScript is still loading. If this message persists, it\n",
       "  likely means that the widgets JavaScript library is either not installed or\n",
       "  not enabled. See the <a href=\"https://ipywidgets.readthedocs.io/en/stable/user_install.html\">Jupyter\n",
       "  Widgets Documentation</a> for setup instructions.\n",
       "</p>\n",
       "<p>\n",
       "  If you're reading this message in another frontend (for example, a static\n",
       "  rendering on GitHub or <a href=\"https://nbviewer.jupyter.org/\">NBViewer</a>),\n",
       "  it may mean that your frontend doesn't currently support widgets.\n",
       "</p>\n"
      ],
      "text/plain": [
       "HBox(children=(IntProgress(value=0, description='Validation', max=172), HTML(value='')))"
      ]
     },
     "metadata": {},
     "output_type": "display_data"
    },
    {
     "name": "stdout",
     "output_type": "stream",
     "text": [
      "0.841201431604\n",
      "Skipping short sequence...\n"
     ]
    },
    {
     "data": {
      "application/vnd.jupyter.widget-view+json": {
       "model_id": "0c411735fe9e44a68347cf9f362719b8",
       "version_major": 2,
       "version_minor": 0
      },
      "text/html": [
       "<p>Failed to display Jupyter Widget of type <code>HBox</code>.</p>\n",
       "<p>\n",
       "  If you're reading this message in the Jupyter Notebook or JupyterLab Notebook, it may mean\n",
       "  that the widgets JavaScript is still loading. If this message persists, it\n",
       "  likely means that the widgets JavaScript library is either not installed or\n",
       "  not enabled. See the <a href=\"https://ipywidgets.readthedocs.io/en/stable/user_install.html\">Jupyter\n",
       "  Widgets Documentation</a> for setup instructions.\n",
       "</p>\n",
       "<p>\n",
       "  If you're reading this message in another frontend (for example, a static\n",
       "  rendering on GitHub or <a href=\"https://nbviewer.jupyter.org/\">NBViewer</a>),\n",
       "  it may mean that your frontend doesn't currently support widgets.\n",
       "</p>\n"
      ],
      "text/plain": [
       "HBox(children=(IntProgress(value=0, description='Validation', max=172), HTML(value='')))"
      ]
     },
     "metadata": {},
     "output_type": "display_data"
    },
    {
     "name": "stdout",
     "output_type": "stream",
     "text": [
      "0.841195990213\n",
      "Skipping short sequence...\n"
     ]
    },
    {
     "name": "stderr",
     "output_type": "stream",
     "text": [
      "Could not convert the following residue to one-hot encoding: 90\n",
      "Could not convert the following residue to one-hot encoding: 90\n",
      "Could not convert the following residue to one-hot encoding: 90\n",
      "Could not convert the following residue to one-hot encoding: 90\n",
      "Could not convert the following residue to one-hot encoding: 90\n",
      "Could not convert the following residue to one-hot encoding: 90\n",
      "Could not convert the following residue to one-hot encoding: 90\n",
      "Could not convert the following residue to one-hot encoding: 90\n",
      "Could not convert the following residue to one-hot encoding: 90\n",
      "Could not convert the following residue to one-hot encoding: 90\n",
      "Could not convert the following residue to one-hot encoding: 90\n",
      "Could not convert the following residue to one-hot encoding: 90\n",
      "Could not convert the following residue to one-hot encoding: 90\n",
      "Could not convert the following residue to one-hot encoding: 90\n",
      "Could not convert the following residue to one-hot encoding: 90\n",
      "Could not convert the following residue to one-hot encoding: 90\n",
      "Could not convert the following residue to one-hot encoding: 90\n",
      "Could not convert the following residue to one-hot encoding: 90\n",
      "Could not convert the following residue to one-hot encoding: 90\n",
      "Could not convert the following residue to one-hot encoding: 90\n",
      "Could not convert the following residue to one-hot encoding: 90\n",
      "Could not convert the following residue to one-hot encoding: 90\n",
      "Could not convert the following residue to one-hot encoding: 90\n",
      "Could not convert the following residue to one-hot encoding: 90\n",
      "Could not convert the following residue to one-hot encoding: 90\n",
      "Could not convert the following residue to one-hot encoding: 90\n",
      "Could not convert the following residue to one-hot encoding: 90\n",
      "Could not convert the following residue to one-hot encoding: 90\n",
      "Could not convert the following residue to one-hot encoding: 90\n",
      "Could not convert the following residue to one-hot encoding: 90\n",
      "Could not convert the following residue to one-hot encoding: 90\n",
      "Could not convert the following residue to one-hot encoding: 90\n",
      "Could not convert the following residue to one-hot encoding: 90\n",
      "Could not convert the following residue to one-hot encoding: 90\n",
      "Could not convert the following residue to one-hot encoding: 90\n",
      "Could not convert the following residue to one-hot encoding: 90\n",
      "Could not convert the following residue to one-hot encoding: 90\n",
      "Could not convert the following residue to one-hot encoding: 90\n",
      "Could not convert the following residue to one-hot encoding: 90\n",
      "Could not convert the following residue to one-hot encoding: 90\n",
      "Could not convert the following residue to one-hot encoding: 90\n",
      "Could not convert the following residue to one-hot encoding: 90\n",
      "Could not convert the following residue to one-hot encoding: 90\n",
      "Could not convert the following residue to one-hot encoding: 90\n",
      "Could not convert the following residue to one-hot encoding: 90\n",
      "Could not convert the following residue to one-hot encoding: 90\n",
      "Could not convert the following residue to one-hot encoding: 90\n",
      "Could not convert the following residue to one-hot encoding: 90\n",
      "Could not convert the following residue to one-hot encoding: 90\n",
      "Could not convert the following residue to one-hot encoding: 90\n",
      "Could not convert the following residue to one-hot encoding: 90\n",
      "Could not convert the following residue to one-hot encoding: 90\n",
      "Could not convert the following residue to one-hot encoding: 90\n",
      "Could not convert the following residue to one-hot encoding: 90\n",
      "Could not convert the following residue to one-hot encoding: 90\n",
      "Could not convert the following residue to one-hot encoding: 90\n",
      "Could not convert the following residue to one-hot encoding: 90\n",
      "Could not convert the following residue to one-hot encoding: 90\n",
      "Could not convert the following residue to one-hot encoding: 90\n",
      "Could not convert the following residue to one-hot encoding: 90\n",
      "Could not convert the following residue to one-hot encoding: 90\n",
      "Could not convert the following residue to one-hot encoding: 90\n",
      "Could not convert the following residue to one-hot encoding: 90\n",
      "Could not convert the following residue to one-hot encoding: 90\n"
     ]
    },
    {
     "data": {
      "application/vnd.jupyter.widget-view+json": {
       "model_id": "4408d53e5c534218b9f80b15bc23a428",
       "version_major": 2,
       "version_minor": 0
      },
      "text/html": [
       "<p>Failed to display Jupyter Widget of type <code>HBox</code>.</p>\n",
       "<p>\n",
       "  If you're reading this message in the Jupyter Notebook or JupyterLab Notebook, it may mean\n",
       "  that the widgets JavaScript is still loading. If this message persists, it\n",
       "  likely means that the widgets JavaScript library is either not installed or\n",
       "  not enabled. See the <a href=\"https://ipywidgets.readthedocs.io/en/stable/user_install.html\">Jupyter\n",
       "  Widgets Documentation</a> for setup instructions.\n",
       "</p>\n",
       "<p>\n",
       "  If you're reading this message in another frontend (for example, a static\n",
       "  rendering on GitHub or <a href=\"https://nbviewer.jupyter.org/\">NBViewer</a>),\n",
       "  it may mean that your frontend doesn't currently support widgets.\n",
       "</p>\n"
      ],
      "text/plain": [
       "HBox(children=(IntProgress(value=0, description='Validation', max=172), HTML(value='')))"
      ]
     },
     "metadata": {},
     "output_type": "display_data"
    },
    {
     "name": "stdout",
     "output_type": "stream",
     "text": [
      "0.841190300471\n",
      "Skipping short sequence...\n"
     ]
    },
    {
     "data": {
      "application/vnd.jupyter.widget-view+json": {
       "model_id": "075903d8bb1b47aaa692b5c7c843ee13",
       "version_major": 2,
       "version_minor": 0
      },
      "text/html": [
       "<p>Failed to display Jupyter Widget of type <code>HBox</code>.</p>\n",
       "<p>\n",
       "  If you're reading this message in the Jupyter Notebook or JupyterLab Notebook, it may mean\n",
       "  that the widgets JavaScript is still loading. If this message persists, it\n",
       "  likely means that the widgets JavaScript library is either not installed or\n",
       "  not enabled. See the <a href=\"https://ipywidgets.readthedocs.io/en/stable/user_install.html\">Jupyter\n",
       "  Widgets Documentation</a> for setup instructions.\n",
       "</p>\n",
       "<p>\n",
       "  If you're reading this message in another frontend (for example, a static\n",
       "  rendering on GitHub or <a href=\"https://nbviewer.jupyter.org/\">NBViewer</a>),\n",
       "  it may mean that your frontend doesn't currently support widgets.\n",
       "</p>\n"
      ],
      "text/plain": [
       "HBox(children=(IntProgress(value=0, description='Validation', max=172), HTML(value='')))"
      ]
     },
     "metadata": {},
     "output_type": "display_data"
    },
    {
     "name": "stdout",
     "output_type": "stream",
     "text": [
      "0.841183990475\n",
      "Skipping short sequence...\n",
      "Skipping short sequence...\n"
     ]
    },
    {
     "data": {
      "application/vnd.jupyter.widget-view+json": {
       "model_id": "b666dcfc228f4bf4a9c5c02f9339dd6b",
       "version_major": 2,
       "version_minor": 0
      },
      "text/html": [
       "<p>Failed to display Jupyter Widget of type <code>HBox</code>.</p>\n",
       "<p>\n",
       "  If you're reading this message in the Jupyter Notebook or JupyterLab Notebook, it may mean\n",
       "  that the widgets JavaScript is still loading. If this message persists, it\n",
       "  likely means that the widgets JavaScript library is either not installed or\n",
       "  not enabled. See the <a href=\"https://ipywidgets.readthedocs.io/en/stable/user_install.html\">Jupyter\n",
       "  Widgets Documentation</a> for setup instructions.\n",
       "</p>\n",
       "<p>\n",
       "  If you're reading this message in another frontend (for example, a static\n",
       "  rendering on GitHub or <a href=\"https://nbviewer.jupyter.org/\">NBViewer</a>),\n",
       "  it may mean that your frontend doesn't currently support widgets.\n",
       "</p>\n"
      ],
      "text/plain": [
       "HBox(children=(IntProgress(value=0, description='Validation', max=172), HTML(value='')))"
      ]
     },
     "metadata": {},
     "output_type": "display_data"
    },
    {
     "name": "stdout",
     "output_type": "stream",
     "text": [
      "0.84117819042\n"
     ]
    },
    {
     "name": "stderr",
     "output_type": "stream",
     "text": [
      "Could not convert the following residue to one-hot encoding: 66\n",
      "Could not convert the following residue to one-hot encoding: 66\n",
      "Could not convert the following residue to one-hot encoding: 66\n",
      "Could not convert the following residue to one-hot encoding: 66\n",
      "Could not convert the following residue to one-hot encoding: 66\n",
      "Could not convert the following residue to one-hot encoding: 66\n",
      "Could not convert the following residue to one-hot encoding: 66\n",
      "Could not convert the following residue to one-hot encoding: 66\n",
      "Could not convert the following residue to one-hot encoding: 66\n",
      "Could not convert the following residue to one-hot encoding: 66\n",
      "Could not convert the following residue to one-hot encoding: 66\n",
      "Could not convert the following residue to one-hot encoding: 66\n",
      "Could not convert the following residue to one-hot encoding: 66\n",
      "Could not convert the following residue to one-hot encoding: 66\n",
      "Could not convert the following residue to one-hot encoding: 66\n",
      "Could not convert the following residue to one-hot encoding: 66\n",
      "Could not convert the following residue to one-hot encoding: 66\n",
      "Could not convert the following residue to one-hot encoding: 66\n",
      "Could not convert the following residue to one-hot encoding: 66\n",
      "Could not convert the following residue to one-hot encoding: 66\n",
      "Could not convert the following residue to one-hot encoding: 66\n",
      "Could not convert the following residue to one-hot encoding: 66\n",
      "Could not convert the following residue to one-hot encoding: 66\n",
      "Could not convert the following residue to one-hot encoding: 66\n",
      "Could not convert the following residue to one-hot encoding: 66\n",
      "Could not convert the following residue to one-hot encoding: 66\n",
      "Could not convert the following residue to one-hot encoding: 66\n",
      "Could not convert the following residue to one-hot encoding: 66\n",
      "Could not convert the following residue to one-hot encoding: 66\n",
      "Could not convert the following residue to one-hot encoding: 66\n",
      "Could not convert the following residue to one-hot encoding: 66\n",
      "Could not convert the following residue to one-hot encoding: 66\n",
      "Could not convert the following residue to one-hot encoding: 66\n",
      "Could not convert the following residue to one-hot encoding: 66\n",
      "Could not convert the following residue to one-hot encoding: 66\n",
      "Could not convert the following residue to one-hot encoding: 66\n",
      "Could not convert the following residue to one-hot encoding: 66\n",
      "Could not convert the following residue to one-hot encoding: 66\n",
      "Could not convert the following residue to one-hot encoding: 66\n",
      "Could not convert the following residue to one-hot encoding: 66\n",
      "Could not convert the following residue to one-hot encoding: 66\n",
      "Could not convert the following residue to one-hot encoding: 66\n",
      "Could not convert the following residue to one-hot encoding: 66\n",
      "Could not convert the following residue to one-hot encoding: 66\n",
      "Could not convert the following residue to one-hot encoding: 66\n",
      "Could not convert the following residue to one-hot encoding: 66\n",
      "Could not convert the following residue to one-hot encoding: 66\n",
      "Could not convert the following residue to one-hot encoding: 66\n",
      "Could not convert the following residue to one-hot encoding: 66\n",
      "Could not convert the following residue to one-hot encoding: 66\n",
      "Could not convert the following residue to one-hot encoding: 66\n",
      "Could not convert the following residue to one-hot encoding: 66\n",
      "Could not convert the following residue to one-hot encoding: 66\n",
      "Could not convert the following residue to one-hot encoding: 66\n",
      "Could not convert the following residue to one-hot encoding: 66\n",
      "Could not convert the following residue to one-hot encoding: 66\n",
      "Could not convert the following residue to one-hot encoding: 66\n",
      "Could not convert the following residue to one-hot encoding: 66\n",
      "Could not convert the following residue to one-hot encoding: 66\n",
      "Could not convert the following residue to one-hot encoding: 66\n",
      "Could not convert the following residue to one-hot encoding: 66\n",
      "Could not convert the following residue to one-hot encoding: 66\n",
      "Could not convert the following residue to one-hot encoding: 66\n",
      "Could not convert the following residue to one-hot encoding: 66\n"
     ]
    },
    {
     "data": {
      "application/vnd.jupyter.widget-view+json": {
       "model_id": "f100510b880441eda829130ca421f4fe",
       "version_major": 2,
       "version_minor": 0
      },
      "text/html": [
       "<p>Failed to display Jupyter Widget of type <code>HBox</code>.</p>\n",
       "<p>\n",
       "  If you're reading this message in the Jupyter Notebook or JupyterLab Notebook, it may mean\n",
       "  that the widgets JavaScript is still loading. If this message persists, it\n",
       "  likely means that the widgets JavaScript library is either not installed or\n",
       "  not enabled. See the <a href=\"https://ipywidgets.readthedocs.io/en/stable/user_install.html\">Jupyter\n",
       "  Widgets Documentation</a> for setup instructions.\n",
       "</p>\n",
       "<p>\n",
       "  If you're reading this message in another frontend (for example, a static\n",
       "  rendering on GitHub or <a href=\"https://nbviewer.jupyter.org/\">NBViewer</a>),\n",
       "  it may mean that your frontend doesn't currently support widgets.\n",
       "</p>\n"
      ],
      "text/plain": [
       "HBox(children=(IntProgress(value=0, description='Validation', max=172), HTML(value='')))"
      ]
     },
     "metadata": {},
     "output_type": "display_data"
    },
    {
     "name": "stdout",
     "output_type": "stream",
     "text": [
      "0.841172810299\n",
      "Skipping short sequence...\n"
     ]
    },
    {
     "data": {
      "application/vnd.jupyter.widget-view+json": {
       "model_id": "103fd06daadb4a62a092932ec07fb4ce",
       "version_major": 2,
       "version_minor": 0
      },
      "text/html": [
       "<p>Failed to display Jupyter Widget of type <code>HBox</code>.</p>\n",
       "<p>\n",
       "  If you're reading this message in the Jupyter Notebook or JupyterLab Notebook, it may mean\n",
       "  that the widgets JavaScript is still loading. If this message persists, it\n",
       "  likely means that the widgets JavaScript library is either not installed or\n",
       "  not enabled. See the <a href=\"https://ipywidgets.readthedocs.io/en/stable/user_install.html\">Jupyter\n",
       "  Widgets Documentation</a> for setup instructions.\n",
       "</p>\n",
       "<p>\n",
       "  If you're reading this message in another frontend (for example, a static\n",
       "  rendering on GitHub or <a href=\"https://nbviewer.jupyter.org/\">NBViewer</a>),\n",
       "  it may mean that your frontend doesn't currently support widgets.\n",
       "</p>\n"
      ],
      "text/plain": [
       "HBox(children=(IntProgress(value=0, description='Validation', max=172), HTML(value='')))"
      ]
     },
     "metadata": {},
     "output_type": "display_data"
    },
    {
     "name": "stdout",
     "output_type": "stream",
     "text": [
      "0.841166904732\n"
     ]
    },
    {
     "data": {
      "application/vnd.jupyter.widget-view+json": {
       "model_id": "f1d80f939b114810b1e322d2a3c22bcf",
       "version_major": 2,
       "version_minor": 0
      },
      "text/html": [
       "<p>Failed to display Jupyter Widget of type <code>HBox</code>.</p>\n",
       "<p>\n",
       "  If you're reading this message in the Jupyter Notebook or JupyterLab Notebook, it may mean\n",
       "  that the widgets JavaScript is still loading. If this message persists, it\n",
       "  likely means that the widgets JavaScript library is either not installed or\n",
       "  not enabled. See the <a href=\"https://ipywidgets.readthedocs.io/en/stable/user_install.html\">Jupyter\n",
       "  Widgets Documentation</a> for setup instructions.\n",
       "</p>\n",
       "<p>\n",
       "  If you're reading this message in another frontend (for example, a static\n",
       "  rendering on GitHub or <a href=\"https://nbviewer.jupyter.org/\">NBViewer</a>),\n",
       "  it may mean that your frontend doesn't currently support widgets.\n",
       "</p>\n"
      ],
      "text/plain": [
       "HBox(children=(IntProgress(value=0, description='Validation', max=172), HTML(value='')))"
      ]
     },
     "metadata": {},
     "output_type": "display_data"
    },
    {
     "name": "stdout",
     "output_type": "stream",
     "text": [
      "0.841161076096\n",
      "Skipping short sequence...\n"
     ]
    },
    {
     "data": {
      "application/vnd.jupyter.widget-view+json": {
       "model_id": "901f430f30c74adcb874d9efea882521",
       "version_major": 2,
       "version_minor": 0
      },
      "text/html": [
       "<p>Failed to display Jupyter Widget of type <code>HBox</code>.</p>\n",
       "<p>\n",
       "  If you're reading this message in the Jupyter Notebook or JupyterLab Notebook, it may mean\n",
       "  that the widgets JavaScript is still loading. If this message persists, it\n",
       "  likely means that the widgets JavaScript library is either not installed or\n",
       "  not enabled. See the <a href=\"https://ipywidgets.readthedocs.io/en/stable/user_install.html\">Jupyter\n",
       "  Widgets Documentation</a> for setup instructions.\n",
       "</p>\n",
       "<p>\n",
       "  If you're reading this message in another frontend (for example, a static\n",
       "  rendering on GitHub or <a href=\"https://nbviewer.jupyter.org/\">NBViewer</a>),\n",
       "  it may mean that your frontend doesn't currently support widgets.\n",
       "</p>\n"
      ],
      "text/plain": [
       "HBox(children=(IntProgress(value=0, description='Validation', max=172), HTML(value='')))"
      ]
     },
     "metadata": {},
     "output_type": "display_data"
    },
    {
     "name": "stdout",
     "output_type": "stream",
     "text": [
      "0.841155616105\n"
     ]
    },
    {
     "data": {
      "application/vnd.jupyter.widget-view+json": {
       "model_id": "b373f8b3133d4b12b2298ace4c44a5b9",
       "version_major": 2,
       "version_minor": 0
      },
      "text/html": [
       "<p>Failed to display Jupyter Widget of type <code>HBox</code>.</p>\n",
       "<p>\n",
       "  If you're reading this message in the Jupyter Notebook or JupyterLab Notebook, it may mean\n",
       "  that the widgets JavaScript is still loading. If this message persists, it\n",
       "  likely means that the widgets JavaScript library is either not installed or\n",
       "  not enabled. See the <a href=\"https://ipywidgets.readthedocs.io/en/stable/user_install.html\">Jupyter\n",
       "  Widgets Documentation</a> for setup instructions.\n",
       "</p>\n",
       "<p>\n",
       "  If you're reading this message in another frontend (for example, a static\n",
       "  rendering on GitHub or <a href=\"https://nbviewer.jupyter.org/\">NBViewer</a>),\n",
       "  it may mean that your frontend doesn't currently support widgets.\n",
       "</p>\n"
      ],
      "text/plain": [
       "HBox(children=(IntProgress(value=0, description='Validation', max=172), HTML(value='')))"
      ]
     },
     "metadata": {},
     "output_type": "display_data"
    },
    {
     "name": "stdout",
     "output_type": "stream",
     "text": [
      "0.841149864924\n",
      "Skipping short sequence...\n"
     ]
    },
    {
     "data": {
      "application/vnd.jupyter.widget-view+json": {
       "model_id": "3064b1b9dd974554ad34d619b361cf9d",
       "version_major": 2,
       "version_minor": 0
      },
      "text/html": [
       "<p>Failed to display Jupyter Widget of type <code>HBox</code>.</p>\n",
       "<p>\n",
       "  If you're reading this message in the Jupyter Notebook or JupyterLab Notebook, it may mean\n",
       "  that the widgets JavaScript is still loading. If this message persists, it\n",
       "  likely means that the widgets JavaScript library is either not installed or\n",
       "  not enabled. See the <a href=\"https://ipywidgets.readthedocs.io/en/stable/user_install.html\">Jupyter\n",
       "  Widgets Documentation</a> for setup instructions.\n",
       "</p>\n",
       "<p>\n",
       "  If you're reading this message in another frontend (for example, a static\n",
       "  rendering on GitHub or <a href=\"https://nbviewer.jupyter.org/\">NBViewer</a>),\n",
       "  it may mean that your frontend doesn't currently support widgets.\n",
       "</p>\n"
      ],
      "text/plain": [
       "HBox(children=(IntProgress(value=0, description='Validation', max=172), HTML(value='')))"
      ]
     },
     "metadata": {},
     "output_type": "display_data"
    },
    {
     "name": "stdout",
     "output_type": "stream",
     "text": [
      "0.841143083969\n",
      "Skipping short sequence...\n",
      "Skipping short sequence...\n"
     ]
    },
    {
     "data": {
      "application/vnd.jupyter.widget-view+json": {
       "model_id": "d43d39b165394a41a132ec10f32125a1",
       "version_major": 2,
       "version_minor": 0
      },
      "text/html": [
       "<p>Failed to display Jupyter Widget of type <code>HBox</code>.</p>\n",
       "<p>\n",
       "  If you're reading this message in the Jupyter Notebook or JupyterLab Notebook, it may mean\n",
       "  that the widgets JavaScript is still loading. If this message persists, it\n",
       "  likely means that the widgets JavaScript library is either not installed or\n",
       "  not enabled. See the <a href=\"https://ipywidgets.readthedocs.io/en/stable/user_install.html\">Jupyter\n",
       "  Widgets Documentation</a> for setup instructions.\n",
       "</p>\n",
       "<p>\n",
       "  If you're reading this message in another frontend (for example, a static\n",
       "  rendering on GitHub or <a href=\"https://nbviewer.jupyter.org/\">NBViewer</a>),\n",
       "  it may mean that your frontend doesn't currently support widgets.\n",
       "</p>\n"
      ],
      "text/plain": [
       "HBox(children=(IntProgress(value=0, description='Validation', max=172), HTML(value='')))"
      ]
     },
     "metadata": {},
     "output_type": "display_data"
    },
    {
     "name": "stdout",
     "output_type": "stream",
     "text": [
      "0.841137180075\n",
      "\n"
     ]
    },
    {
     "ename": "KeyboardInterrupt",
     "evalue": "",
     "output_type": "error",
     "traceback": [
      "\u001b[0;31m---------------------------------------------------------------------------\u001b[0m",
      "\u001b[0;31mKeyboardInterrupt\u001b[0m                         Traceback (most recent call last)",
      "\u001b[0;32m<ipython-input-33-d48975dc9c6d>\u001b[0m in \u001b[0;36m<module>\u001b[0;34m()\u001b[0m\n\u001b[1;32m     26\u001b[0m         \u001b[0;31m# In the training loop\u001b[0m\u001b[0;34m\u001b[0m\u001b[0;34m\u001b[0m\u001b[0m\n\u001b[1;32m     27\u001b[0m         \u001b[0moptimizer\u001b[0m\u001b[0;34m.\u001b[0m\u001b[0mzero_grad\u001b[0m\u001b[0;34m(\u001b[0m\u001b[0;34m)\u001b[0m  \u001b[0;31m# zero the gradient buffers\u001b[0m\u001b[0;34m\u001b[0m\u001b[0m\n\u001b[0;32m---> 28\u001b[0;31m         \u001b[0moutput\u001b[0m \u001b[0;34m=\u001b[0m \u001b[0mnet\u001b[0m\u001b[0;34m(\u001b[0m\u001b[0maa\u001b[0m\u001b[0;34m,\u001b[0m \u001b[0madj_expanded\u001b[0m\u001b[0;34m)\u001b[0m\u001b[0;34m\u001b[0m\u001b[0m\n\u001b[0m\u001b[1;32m     29\u001b[0m         \u001b[0mloss\u001b[0m \u001b[0;34m=\u001b[0m \u001b[0mcriterion\u001b[0m\u001b[0;34m(\u001b[0m\u001b[0moutput\u001b[0m\u001b[0;34m,\u001b[0m \u001b[0mtargets\u001b[0m\u001b[0;34m)\u001b[0m\u001b[0;34m\u001b[0m\u001b[0m\n\u001b[1;32m     30\u001b[0m         \u001b[0mloss\u001b[0m\u001b[0;34m.\u001b[0m\u001b[0mbackward\u001b[0m\u001b[0;34m(\u001b[0m\u001b[0;34m)\u001b[0m\u001b[0;34m\u001b[0m\u001b[0m\n",
      "\u001b[0;32m~/anaconda3/lib/python3.6/site-packages/torch/nn/modules/module.py\u001b[0m in \u001b[0;36m__call__\u001b[0;34m(self, *input, **kwargs)\u001b[0m\n\u001b[1;32m    222\u001b[0m         \u001b[0;32mfor\u001b[0m \u001b[0mhook\u001b[0m \u001b[0;32min\u001b[0m \u001b[0mself\u001b[0m\u001b[0;34m.\u001b[0m\u001b[0m_forward_pre_hooks\u001b[0m\u001b[0;34m.\u001b[0m\u001b[0mvalues\u001b[0m\u001b[0;34m(\u001b[0m\u001b[0;34m)\u001b[0m\u001b[0;34m:\u001b[0m\u001b[0;34m\u001b[0m\u001b[0m\n\u001b[1;32m    223\u001b[0m             \u001b[0mhook\u001b[0m\u001b[0;34m(\u001b[0m\u001b[0mself\u001b[0m\u001b[0;34m,\u001b[0m \u001b[0minput\u001b[0m\u001b[0;34m)\u001b[0m\u001b[0;34m\u001b[0m\u001b[0m\n\u001b[0;32m--> 224\u001b[0;31m         \u001b[0mresult\u001b[0m \u001b[0;34m=\u001b[0m \u001b[0mself\u001b[0m\u001b[0;34m.\u001b[0m\u001b[0mforward\u001b[0m\u001b[0;34m(\u001b[0m\u001b[0;34m*\u001b[0m\u001b[0minput\u001b[0m\u001b[0;34m,\u001b[0m \u001b[0;34m**\u001b[0m\u001b[0mkwargs\u001b[0m\u001b[0;34m)\u001b[0m\u001b[0;34m\u001b[0m\u001b[0m\n\u001b[0m\u001b[1;32m    225\u001b[0m         \u001b[0;32mfor\u001b[0m \u001b[0mhook\u001b[0m \u001b[0;32min\u001b[0m \u001b[0mself\u001b[0m\u001b[0;34m.\u001b[0m\u001b[0m_forward_hooks\u001b[0m\u001b[0;34m.\u001b[0m\u001b[0mvalues\u001b[0m\u001b[0;34m(\u001b[0m\u001b[0;34m)\u001b[0m\u001b[0;34m:\u001b[0m\u001b[0;34m\u001b[0m\u001b[0m\n\u001b[1;32m    226\u001b[0m             \u001b[0mhook_result\u001b[0m \u001b[0;34m=\u001b[0m \u001b[0mhook\u001b[0m\u001b[0;34m(\u001b[0m\u001b[0mself\u001b[0m\u001b[0;34m,\u001b[0m \u001b[0minput\u001b[0m\u001b[0;34m,\u001b[0m \u001b[0mresult\u001b[0m\u001b[0;34m)\u001b[0m\u001b[0;34m\u001b[0m\u001b[0m\n",
      "\u001b[0;32m~/working/pagnn/pagnn/network/basic.py\u001b[0m in \u001b[0;36mforward\u001b[0;34m(self, aa, adjacency)\u001b[0m\n\u001b[1;32m     13\u001b[0m \u001b[0;34m\u001b[0m\u001b[0m\n\u001b[1;32m     14\u001b[0m     \u001b[0;32mdef\u001b[0m \u001b[0mforward\u001b[0m\u001b[0;34m(\u001b[0m\u001b[0mself\u001b[0m\u001b[0;34m,\u001b[0m \u001b[0maa\u001b[0m\u001b[0;34m,\u001b[0m \u001b[0madjacency\u001b[0m\u001b[0;34m)\u001b[0m\u001b[0;34m:\u001b[0m\u001b[0;34m\u001b[0m\u001b[0m\n\u001b[0;32m---> 15\u001b[0;31m         \u001b[0mx\u001b[0m \u001b[0;34m=\u001b[0m \u001b[0maa\u001b[0m \u001b[0;34m@\u001b[0m\u001b[0madjacency\u001b[0m\u001b[0;34m.\u001b[0m\u001b[0mtranspose\u001b[0m\u001b[0;34m(\u001b[0m\u001b[0;36m0\u001b[0m\u001b[0;34m,\u001b[0m \u001b[0;36m1\u001b[0m\u001b[0;34m)\u001b[0m\u001b[0;34m\u001b[0m\u001b[0m\n\u001b[0m\u001b[1;32m     16\u001b[0m         \u001b[0mx\u001b[0m \u001b[0;34m=\u001b[0m \u001b[0mself\u001b[0m\u001b[0;34m.\u001b[0m\u001b[0mspatial_conv\u001b[0m\u001b[0;34m(\u001b[0m\u001b[0mx\u001b[0m\u001b[0;34m)\u001b[0m\u001b[0;34m\u001b[0m\u001b[0m\n\u001b[1;32m     17\u001b[0m         \u001b[0mx\u001b[0m \u001b[0;34m=\u001b[0m \u001b[0mx\u001b[0m \u001b[0;34m@\u001b[0m\u001b[0madjacency\u001b[0m\u001b[0;34m[\u001b[0m\u001b[0;34m:\u001b[0m\u001b[0;34m:\u001b[0m\u001b[0;36m2\u001b[0m\u001b[0;34m,\u001b[0m \u001b[0;34m:\u001b[0m\u001b[0;34m]\u001b[0m\u001b[0;34m\u001b[0m\u001b[0m\n",
      "\u001b[0;32m~/anaconda3/lib/python3.6/site-packages/torch/autograd/variable.py\u001b[0m in \u001b[0;36m__matmul__\u001b[0;34m(self, other)\u001b[0m\n\u001b[1;32m    836\u001b[0m         \u001b[0;32mif\u001b[0m \u001b[0;32mnot\u001b[0m \u001b[0misinstance\u001b[0m\u001b[0;34m(\u001b[0m\u001b[0mother\u001b[0m\u001b[0;34m,\u001b[0m \u001b[0mVariable\u001b[0m\u001b[0;34m)\u001b[0m\u001b[0;34m:\u001b[0m\u001b[0;34m\u001b[0m\u001b[0m\n\u001b[1;32m    837\u001b[0m             \u001b[0;32mreturn\u001b[0m \u001b[0mNotImplemented\u001b[0m\u001b[0;34m\u001b[0m\u001b[0m\n\u001b[0;32m--> 838\u001b[0;31m         \u001b[0;32mreturn\u001b[0m \u001b[0mself\u001b[0m\u001b[0;34m.\u001b[0m\u001b[0mmatmul\u001b[0m\u001b[0;34m(\u001b[0m\u001b[0mother\u001b[0m\u001b[0;34m)\u001b[0m\u001b[0;34m\u001b[0m\u001b[0m\n\u001b[0m\u001b[1;32m    839\u001b[0m \u001b[0;34m\u001b[0m\u001b[0m\n\u001b[1;32m    840\u001b[0m     \u001b[0;32mdef\u001b[0m \u001b[0m__div__\u001b[0m\u001b[0;34m(\u001b[0m\u001b[0mself\u001b[0m\u001b[0;34m,\u001b[0m \u001b[0mother\u001b[0m\u001b[0;34m)\u001b[0m\u001b[0;34m:\u001b[0m\u001b[0;34m\u001b[0m\u001b[0m\n",
      "\u001b[0;32m~/anaconda3/lib/python3.6/site-packages/torch/autograd/variable.py\u001b[0m in \u001b[0;36mmatmul\u001b[0;34m(self, other)\u001b[0m\n\u001b[1;32m    558\u001b[0m \u001b[0;34m\u001b[0m\u001b[0m\n\u001b[1;32m    559\u001b[0m     \u001b[0;32mdef\u001b[0m \u001b[0mmatmul\u001b[0m\u001b[0;34m(\u001b[0m\u001b[0mself\u001b[0m\u001b[0;34m,\u001b[0m \u001b[0mother\u001b[0m\u001b[0;34m)\u001b[0m\u001b[0;34m:\u001b[0m\u001b[0;34m\u001b[0m\u001b[0m\n\u001b[0;32m--> 560\u001b[0;31m         \u001b[0;32mreturn\u001b[0m \u001b[0mtorch\u001b[0m\u001b[0;34m.\u001b[0m\u001b[0mmatmul\u001b[0m\u001b[0;34m(\u001b[0m\u001b[0mself\u001b[0m\u001b[0;34m,\u001b[0m \u001b[0mother\u001b[0m\u001b[0;34m)\u001b[0m\u001b[0;34m\u001b[0m\u001b[0m\n\u001b[0m\u001b[1;32m    561\u001b[0m \u001b[0;34m\u001b[0m\u001b[0m\n\u001b[1;32m    562\u001b[0m     \u001b[0;34m@\u001b[0m\u001b[0mstaticmethod\u001b[0m\u001b[0;34m\u001b[0m\u001b[0m\n",
      "\u001b[0;32m~/anaconda3/lib/python3.6/site-packages/torch/functional.py\u001b[0m in \u001b[0;36mmatmul\u001b[0;34m(tensor1, tensor2, out)\u001b[0m\n\u001b[1;32m    189\u001b[0m \u001b[0;34m\u001b[0m\u001b[0m\n\u001b[1;32m    190\u001b[0m         \u001b[0;32mif\u001b[0m \u001b[0mout\u001b[0m \u001b[0;32mis\u001b[0m \u001b[0;32mNone\u001b[0m \u001b[0;32mor\u001b[0m \u001b[0;32mnot\u001b[0m \u001b[0mout\u001b[0m\u001b[0;34m.\u001b[0m\u001b[0mis_contiguous\u001b[0m\u001b[0;34m(\u001b[0m\u001b[0;34m)\u001b[0m\u001b[0;34m:\u001b[0m\u001b[0;34m\u001b[0m\u001b[0m\n\u001b[0;32m--> 191\u001b[0;31m             \u001b[0moutput\u001b[0m \u001b[0;34m=\u001b[0m \u001b[0mtorch\u001b[0m\u001b[0;34m.\u001b[0m\u001b[0mmm\u001b[0m\u001b[0;34m(\u001b[0m\u001b[0mtensor1\u001b[0m\u001b[0;34m,\u001b[0m \u001b[0mtensor2\u001b[0m\u001b[0;34m)\u001b[0m\u001b[0;34m\u001b[0m\u001b[0m\n\u001b[0m\u001b[1;32m    192\u001b[0m         \u001b[0;32melse\u001b[0m\u001b[0;34m:\u001b[0m\u001b[0;34m\u001b[0m\u001b[0m\n\u001b[1;32m    193\u001b[0m             \u001b[0moutput\u001b[0m \u001b[0;34m=\u001b[0m \u001b[0mtorch\u001b[0m\u001b[0;34m.\u001b[0m\u001b[0mmm\u001b[0m\u001b[0;34m(\u001b[0m\u001b[0mtensor1\u001b[0m\u001b[0;34m,\u001b[0m \u001b[0mtensor2\u001b[0m\u001b[0;34m,\u001b[0m \u001b[0mout\u001b[0m\u001b[0;34m=\u001b[0m\u001b[0mout\u001b[0m\u001b[0;34m)\u001b[0m\u001b[0;34m\u001b[0m\u001b[0m\n",
      "\u001b[0;32m~/anaconda3/lib/python3.6/site-packages/torch/autograd/variable.py\u001b[0m in \u001b[0;36mmm\u001b[0;34m(self, matrix)\u001b[0m\n\u001b[1;32m    577\u001b[0m     \u001b[0;32mdef\u001b[0m \u001b[0mmm\u001b[0m\u001b[0;34m(\u001b[0m\u001b[0mself\u001b[0m\u001b[0;34m,\u001b[0m \u001b[0mmatrix\u001b[0m\u001b[0;34m)\u001b[0m\u001b[0;34m:\u001b[0m\u001b[0;34m\u001b[0m\u001b[0m\n\u001b[1;32m    578\u001b[0m         \u001b[0moutput\u001b[0m \u001b[0;34m=\u001b[0m \u001b[0mVariable\u001b[0m\u001b[0;34m(\u001b[0m\u001b[0mself\u001b[0m\u001b[0;34m.\u001b[0m\u001b[0mdata\u001b[0m\u001b[0;34m.\u001b[0m\u001b[0mnew\u001b[0m\u001b[0;34m(\u001b[0m\u001b[0mself\u001b[0m\u001b[0;34m.\u001b[0m\u001b[0mdata\u001b[0m\u001b[0;34m.\u001b[0m\u001b[0msize\u001b[0m\u001b[0;34m(\u001b[0m\u001b[0;36m0\u001b[0m\u001b[0;34m)\u001b[0m\u001b[0;34m,\u001b[0m \u001b[0mmatrix\u001b[0m\u001b[0;34m.\u001b[0m\u001b[0mdata\u001b[0m\u001b[0;34m.\u001b[0m\u001b[0msize\u001b[0m\u001b[0;34m(\u001b[0m\u001b[0;36m1\u001b[0m\u001b[0;34m)\u001b[0m\u001b[0;34m)\u001b[0m\u001b[0;34m)\u001b[0m\u001b[0;34m\u001b[0m\u001b[0m\n\u001b[0;32m--> 579\u001b[0;31m         \u001b[0;32mreturn\u001b[0m \u001b[0mAddmm\u001b[0m\u001b[0;34m.\u001b[0m\u001b[0mapply\u001b[0m\u001b[0;34m(\u001b[0m\u001b[0moutput\u001b[0m\u001b[0;34m,\u001b[0m \u001b[0mself\u001b[0m\u001b[0;34m,\u001b[0m \u001b[0mmatrix\u001b[0m\u001b[0;34m,\u001b[0m \u001b[0;36m0\u001b[0m\u001b[0;34m,\u001b[0m \u001b[0;36m1\u001b[0m\u001b[0;34m,\u001b[0m \u001b[0;32mTrue\u001b[0m\u001b[0;34m)\u001b[0m\u001b[0;34m\u001b[0m\u001b[0m\n\u001b[0m\u001b[1;32m    580\u001b[0m \u001b[0;34m\u001b[0m\u001b[0m\n\u001b[1;32m    581\u001b[0m     \u001b[0;32mdef\u001b[0m \u001b[0mbmm\u001b[0m\u001b[0;34m(\u001b[0m\u001b[0mself\u001b[0m\u001b[0;34m,\u001b[0m \u001b[0mbatch\u001b[0m\u001b[0;34m)\u001b[0m\u001b[0;34m:\u001b[0m\u001b[0;34m\u001b[0m\u001b[0m\n",
      "\u001b[0;32m~/anaconda3/lib/python3.6/site-packages/torch/autograd/_functions/blas.py\u001b[0m in \u001b[0;36mforward\u001b[0;34m(ctx, add_matrix, matrix1, matrix2, alpha, beta, inplace)\u001b[0m\n\u001b[1;32m     24\u001b[0m         \u001b[0moutput\u001b[0m \u001b[0;34m=\u001b[0m \u001b[0m_get_output\u001b[0m\u001b[0;34m(\u001b[0m\u001b[0mctx\u001b[0m\u001b[0;34m,\u001b[0m \u001b[0madd_matrix\u001b[0m\u001b[0;34m,\u001b[0m \u001b[0minplace\u001b[0m\u001b[0;34m=\u001b[0m\u001b[0minplace\u001b[0m\u001b[0;34m)\u001b[0m\u001b[0;34m\u001b[0m\u001b[0m\n\u001b[1;32m     25\u001b[0m         return torch.addmm(alpha, add_matrix, beta,\n\u001b[0;32m---> 26\u001b[0;31m                            matrix1, matrix2, out=output)\n\u001b[0m\u001b[1;32m     27\u001b[0m \u001b[0;34m\u001b[0m\u001b[0m\n\u001b[1;32m     28\u001b[0m     \u001b[0;34m@\u001b[0m\u001b[0mstaticmethod\u001b[0m\u001b[0;34m\u001b[0m\u001b[0m\n",
      "\u001b[0;31mKeyboardInterrupt\u001b[0m: "
     ]
    }
   ],
   "source": [
    "# === Run ===\n",
    "train_performance = []\n",
    "validation_performance = []\n",
    "\n",
    "columns = ['qseq', 'residue_idx_1_corrected', 'residue_idx_2_corrected']\n",
    "\n",
    "idx = 0\n",
    "for domain_idx, domain_folder in enumerate(tqdm.tqdm_notebook(TRAINING_DOMAINS, total=len(TRAINING_DOMAINS))):\n",
    "    domain = domain_folder.partition('A%3A')[-1]\n",
    "    domain_path = ADJACENCY_MATRIX_PATH.joinpath(domain_folder)\n",
    "    for row_idx, row in enumerate(tqdm.tqdm_notebook(\n",
    "            pagnn.iter_domain_rows(domain_path, columns=columns), leave=False, desc=f'Domain {domain_idx}')):\n",
    "        row_key = f'/{domain}/{row_idx:05d}'\n",
    "        try:\n",
    "            dataset = pagnn.row_to_dataset(row, num_real=8, num_fake=56)\n",
    "        except pagnn.SequenceTooShortError:\n",
    "            print('Skipping short sequence...')\n",
    "            continue\n",
    "    \n",
    "        # Generate tensors\n",
    "        aa = np.array([pagnn.get_seq_array(seq) for seq in dataset.seqs])\n",
    "        aa = Variable(torch.Tensor(aa))\n",
    "        adj_expanded = Variable(torch.FloatTensor(pagnn.expand_adjacency(dataset.adj).astype(np.float32)))\n",
    "        targets = Variable(torch.Tensor(dataset.targets.astype(np.float32)), requires_grad=False)\n",
    "\n",
    "        # In the training loop\n",
    "        optimizer.zero_grad()  # zero the gradient buffers\n",
    "        output = net(aa, adj_expanded)\n",
    "        loss = criterion(output, targets)\n",
    "        loss.backward()\n",
    "        optimizer.step()  # Does the update\n",
    "\n",
    "        if idx % 100 == 0:\n",
    "            score = metrics.roc_auc_score(targets.data.numpy().astype(int), output.data.numpy())\n",
    "            train_performance.append((idx, score))\n",
    "\n",
    "        if idx % 1000 == 0:\n",
    "            all_test_targets = []\n",
    "            all_test_predictions = []\n",
    "            with h5py.File(f'generate_datasets/validation-lzf.h5', 'r') as hdf5_file:\n",
    "                for grp in tqdm.tqdm_notebook(\n",
    "                        hdf5_file, total=len(VALIDATION_DOMAINS), leave=False, desc='Validation'):\n",
    "                    for subgrp in list(hdf5_file[grp]):\n",
    "                        test_seqs = hdf5_file[grp][subgrp]['seqs'][:]\n",
    "                        test_adj = hdf5_file[grp][subgrp]['adj'][:]\n",
    "                        test_targets = hdf5_file[grp][subgrp]['targets'][:]\n",
    "\n",
    "                        test_aa = np.array([pagnn.get_seq_array(seq) for seq in test_seqs])\n",
    "                        test_aa = Variable(torch.Tensor(test_aa), requires_grad=False)\n",
    "                        test_adj_expanded = Variable(\n",
    "                            torch.FloatTensor(pagnn.expand_adjacency(test_adj).astype(np.float32)),\n",
    "                            requires_grad=False)\n",
    "                        test_targets = Variable(torch.Tensor(test_targets.astype(np.float32)), requires_grad=False)\n",
    "\n",
    "                        predictions = net(test_aa, test_adj_expanded)\n",
    "                        \n",
    "                        all_test_targets.append(test_targets.data.numpy())\n",
    "                        all_test_predictions.append(predictions.data.numpy())\n",
    "                        \n",
    "            all_test_targets = np.hstack(all_test_targets)\n",
    "            all_test_predictions = np.hstack(all_test_predictions)\n",
    "            score = metrics.roc_auc_score(all_test_targets, all_test_predictions)\n",
    "            test_scores.append(score)\n",
    "\n",
    "            score = np.mean(test_scores)\n",
    "            validation_performance.append((idx, score))\n",
    "            print(score)\n",
    "            \n",
    "        idx += 1"
   ]
  },
  {
   "cell_type": "code",
   "execution_count": 38,
   "metadata": {},
   "outputs": [
    {
     "name": "stderr",
     "output_type": "stream",
     "text": [
      "/home/kimlab1/strokach/anaconda3/lib/python3.6/site-packages/seaborn/categorical.py:462: FutureWarning: remove_na is deprecated and is a private function. Do not use.\n",
      "  box_data = remove_na(group_data)\n"
     ]
    },
    {
     "data": {
      "text/plain": [
       "<matplotlib.axes._subplots.AxesSubplot at 0x7f61b282e6a0>"
      ]
     },
     "execution_count": 38,
     "metadata": {},
     "output_type": "execute_result"
    },
    {
     "data": {
      "image/png": "[encoded data removed]",
      "text/plain": [
       "<matplotlib.figure.Figure at 0x7f61b282ec88>"
      ]
     },
     "metadata": {},
     "output_type": "display_data"
    }
   ],
   "source": [
    "sns.boxplot(all_test_targets, all_test_predictions)"
   ]
  },
  {
   "cell_type": "code",
   "execution_count": 43,
   "metadata": {},
   "outputs": [
    {
     "data": {
      "text/plain": [
       "array([ 0.37617761,  0.28343776,  0.36938438, ...,  0.23349118,\n",
       "        0.34759387,  0.10251146], dtype=float32)"
      ]
     },
     "execution_count": 43,
     "metadata": {},
     "output_type": "execute_result"
    }
   ],
   "source": [
    "all_test_predictions"
   ]
  },
  {
   "cell_type": "code",
   "execution_count": 37,
   "metadata": {},
   "outputs": [
    {
     "ename": "TypeError",
     "evalue": "box() takes from 0 to 1 positional arguments but 3 were given",
     "output_type": "error",
     "traceback": [
      "\u001b[0;31m---------------------------------------------------------------------------\u001b[0m",
      "\u001b[0;31mTypeError\u001b[0m                                 Traceback (most recent call last)",
      "\u001b[0;32m<ipython-input-37-b858f9d8d8ea>\u001b[0m in \u001b[0;36m<module>\u001b[0;34m()\u001b[0m\n\u001b[1;32m      2\u001b[0m     \u001b[0mall_test_targets\u001b[0m\u001b[0;34m,\u001b[0m\u001b[0;34m\u001b[0m\u001b[0m\n\u001b[1;32m      3\u001b[0m     \u001b[0mall_test_predictions\u001b[0m\u001b[0;34m,\u001b[0m\u001b[0;34m\u001b[0m\u001b[0m\n\u001b[0;32m----> 4\u001b[0;31m     \u001b[0;34m'r.'\u001b[0m\u001b[0;34m\u001b[0m\u001b[0m\n\u001b[0m\u001b[1;32m      5\u001b[0m )\n",
      "\u001b[0;31mTypeError\u001b[0m: box() takes from 0 to 1 positional arguments but 3 were given"
     ]
    }
   ],
   "source": [
    "plt.box(\n",
    "    all_test_targets,\n",
    "    all_test_predictions,\n",
    "    'r.'\n",
    ")"
   ]
  },
  {
   "cell_type": "code",
   "execution_count": null,
   "metadata": {
    "collapsed": true
   },
   "outputs": [],
   "source": []
  },
  {
   "cell_type": "code",
   "execution_count": 31,
   "metadata": {},
   "outputs": [
    {
     "data": {
      "text/plain": [
       "[(100, 0.81578474799473244)]"
      ]
     },
     "execution_count": 31,
     "metadata": {},
     "output_type": "execute_result"
    }
   ],
   "source": [
    "validation_performance"
   ]
  },
  {
   "cell_type": "code",
   "execution_count": 66,
   "metadata": {},
   "outputs": [
    {
     "name": "stdout",
     "output_type": "stream",
     "text": [
      "CPU times: user 820 ms, sys: 0 ns, total: 820 ms\n",
      "Wall time: 822 ms\n"
     ]
    }
   ],
   "source": [
    "%%time\n",
    "lst = list(range(1000))\n",
    "for _ in range(1_000_000):\n",
    "    random.choice(lst)"
   ]
  },
  {
   "cell_type": "code",
   "execution_count": 45,
   "metadata": {},
   "outputs": [
    {
     "data": {
      "text/plain": [
       "Text(0,0.5,'ROC AUC score')"
      ]
     },
     "execution_count": 45,
     "metadata": {},
     "output_type": "execute_result"
    },
    {
     "data": {
      "image/png": "[encoded data removed]",
      "text/plain": [
       "<matplotlib.figure.Figure at 0x7f61b163fda0>"
      ]
     },
     "metadata": {},
     "output_type": "display_data"
    }
   ],
   "source": [
    "fg, ax = plt.subplots(figsize=(8, 6))\n",
    "\n",
    "plt.plot(list(zip(*train_performance))[0], list(zip(*train_performance))[1], label='train')\n",
    "plt.plot(list(zip(*validation_performance))[0], list(zip(*validation_performance))[1], label='train', linewidth=4)\n",
    "plt.ylim = (0, 1)\n",
    "plt.legend()\n",
    "plt.xlabel('Batch number')\n",
    "plt.ylabel('ROC AUC score')"
   ]
  },
  {
   "cell_type": "code",
   "execution_count": null,
   "metadata": {
    "collapsed": true
   },
   "outputs": [],
   "source": [
    "plt.plot(range(1, len(train_performance) + 1), train_performance, label='train')\n",
    "plt.plot(range(1, len(validation_performance) + 1), validation_performance, label='test')\n",
    "plt.ylim = (0, 1)\n",
    "plt.legend()\n",
    "plt.xlabel('Batch number (x100)')\n",
    "plt.ylabel('ROC AUC score')"
   ]
  }
 ],
 "metadata": {
  "kernelspec": {
   "display_name": "Python 3",
   "language": "python",
   "name": "python3"
  },
  "language_info": {
   "codemirror_mode": {
    "name": "ipython",
    "version": 3
   },
   "file_extension": ".py",
   "mimetype": "text/x-python",
   "name": "python",
   "nbconvert_exporter": "python",
   "pygments_lexer": "ipython3",
   "version": "3.6.3"
  },
  "toc": {
   "nav_menu": {},
   "number_sections": false,
   "sideBar": false,
   "skip_h1_title": false,
   "toc_cell": false,
   "toc_position": {
    "height": "264px",
    "left": "1642.38px",
    "right": "20px",
    "top": "106.354px",
    "width": "257px"
   },
   "toc_section_display": "block",
   "toc_window_display": true
  }
 },
 "nbformat": 4,
 "nbformat_minor": 2
}
