{
 "cells": [
  {
   "cell_type": "markdown",
   "metadata": {},
   "source": [
    "# Summary\n",
    "\n",
    "In this notebook we train a NN with multiple concatenated sequences per batch.\n",
    "\n",
    "---"
   ]
  },
  {
   "cell_type": "markdown",
   "metadata": {},
   "source": [
    "# Imports"
   ]
  },
  {
   "cell_type": "code",
   "execution_count": 1,
   "metadata": {
    "collapsed": true
   },
   "outputs": [],
   "source": [
    "import torch\n",
    "import torch.nn as nn\n",
    "import torch.nn.functional as F\n",
    "import torch.optim as optim\n",
    "\n",
    "from torch.autograd import Variable"
   ]
  },
  {
   "cell_type": "code",
   "execution_count": 2,
   "metadata": {},
   "outputs": [
    {
     "name": "stderr",
     "output_type": "stream",
     "text": [
      "Setting the PACKAGE_NAME environment variable.\n",
      "Setting the PACKAGE_VERSION environment variable.\n",
      "Setting the DOCS_SECRET_KEY environment variable.\n",
      "Setting the PYTHON_VERSION environment variable.\n",
      "Setting the SPARK_MASTER environment variable.\n",
      "Setting the SPARK_ARGS environment variable.\n",
      "Setting the DB_TYPE environment variable.\n",
      "Setting the DB_PORT environment variable.\n"
     ]
    },
    {
     "name": "stdout",
     "output_type": "stream",
     "text": [
      "2018-01-30 18:49:21.542655\n"
     ]
    }
   ],
   "source": [
    "%run _imports.ipynb"
   ]
  },
  {
   "cell_type": "code",
   "execution_count": 3,
   "metadata": {},
   "outputs": [
    {
     "name": "stdout",
     "output_type": "stream",
     "text": [
      "/home/kimlab2/database_data/databin/uniparc_domain/0.1/adjacency_matrix.parquet\n"
     ]
    }
   ],
   "source": [
    "%run _settings.ipynb"
   ]
  },
  {
   "cell_type": "code",
   "execution_count": 4,
   "metadata": {
    "collapsed": true
   },
   "outputs": [],
   "source": [
    "from typing import NamedTuple\n",
    "import random\n",
    "random.seed(42)\n",
    "\n",
    "import h5py\n",
    "from sklearn import metrics"
   ]
  },
  {
   "cell_type": "code",
   "execution_count": 5,
   "metadata": {},
   "outputs": [
    {
     "data": {
      "text/plain": [
       "<module 'pagnn' from '/home/kimlab1/strokach/working/pagnn/pagnn/__init__.py'>"
      ]
     },
     "execution_count": 5,
     "metadata": {},
     "output_type": "execute_result"
    }
   ],
   "source": [
    "import pagnn\n",
    "importlib.reload(pagnn)"
   ]
  },
  {
   "cell_type": "code",
   "execution_count": 6,
   "metadata": {
    "collapsed": true
   },
   "outputs": [],
   "source": [
    "NOTEBOOK_NAME = 'test_pagnn'\n",
    "NOTEBOOK_PATH = Path(NOTEBOOK_NAME).absolute()\n",
    "NOTEBOOK_PATH.mkdir(exist_ok=True)"
   ]
  },
  {
   "cell_type": "markdown",
   "metadata": {},
   "source": [
    "# Parameters"
   ]
  },
  {
   "cell_type": "code",
   "execution_count": 7,
   "metadata": {},
   "outputs": [
    {
     "data": {
      "text/plain": [
       "[PosixPath('threshold_by_pc_identity/adjacency_matrix_test_gt0.parquet'),\n",
       " PosixPath('threshold_by_pc_identity/adjacency_matrix_test_gt40.parquet'),\n",
       " PosixPath('threshold_by_pc_identity/adjacency_matrix_test_gt60.parquet'),\n",
       " PosixPath('threshold_by_pc_identity/adjacency_matrix_test_gt80.parquet'),\n",
       " PosixPath('threshold_by_pc_identity/adjacency_matrix_training_gt0.parquet'),\n",
       " PosixPath('threshold_by_pc_identity/adjacency_matrix_training_gt40.parquet'),\n",
       " PosixPath('threshold_by_pc_identity/adjacency_matrix_training_gt60.parquet'),\n",
       " PosixPath('threshold_by_pc_identity/adjacency_matrix_training_gt80.parquet'),\n",
       " PosixPath('threshold_by_pc_identity/adjacency_matrix_validation_gt0.parquet'),\n",
       " PosixPath('threshold_by_pc_identity/adjacency_matrix_validation_gt40.parquet'),\n",
       " PosixPath('threshold_by_pc_identity/adjacency_matrix_validation_gt60.parquet'),\n",
       " PosixPath('threshold_by_pc_identity/adjacency_matrix_validation_gt80.parquet')]"
      ]
     },
     "execution_count": 7,
     "metadata": {},
     "output_type": "execute_result"
    }
   ],
   "source": [
    "sorted(Path('threshold_by_pc_identity').iterdir())"
   ]
  },
  {
   "cell_type": "code",
   "execution_count": 8,
   "metadata": {},
   "outputs": [
    {
     "data": {
      "text/plain": [
       "[PosixPath('group_by_sequence_length/adjacency_matrix_test_gt0_gbseqlen.parquet'),\n",
       " PosixPath('group_by_sequence_length/adjacency_matrix_test_gt40_gbseqlen.parquet'),\n",
       " PosixPath('group_by_sequence_length/adjacency_matrix_test_gt60_gbseqlen.parquet'),\n",
       " PosixPath('group_by_sequence_length/adjacency_matrix_test_gt80_gbseqlen.parquet'),\n",
       " PosixPath('group_by_sequence_length/adjacency_matrix_training_gt0_gbseqlen.parquet'),\n",
       " PosixPath('group_by_sequence_length/adjacency_matrix_training_gt40_gbseqlen.parquet'),\n",
       " PosixPath('group_by_sequence_length/adjacency_matrix_training_gt60_gbseqlen.parquet'),\n",
       " PosixPath('group_by_sequence_length/adjacency_matrix_training_gt80_gbseqlen.parquet'),\n",
       " PosixPath('group_by_sequence_length/adjacency_matrix_validation_gt0_gbseqlen.parquet'),\n",
       " PosixPath('group_by_sequence_length/adjacency_matrix_validation_gt40_gbseqlen.parquet'),\n",
       " PosixPath('group_by_sequence_length/adjacency_matrix_validation_gt60_gbseqlen.parquet'),\n",
       " PosixPath('group_by_sequence_length/adjacency_matrix_validation_gt80_gbseqlen.parquet')]"
      ]
     },
     "execution_count": 8,
     "metadata": {},
     "output_type": "execute_result"
    }
   ],
   "source": [
    "sorted(Path('group_by_sequence_length').iterdir())"
   ]
  },
  {
   "cell_type": "code",
   "execution_count": null,
   "metadata": {
    "collapsed": true
   },
   "outputs": [],
   "source": []
  },
  {
   "cell_type": "code",
   "execution_count": 465,
   "metadata": {},
   "outputs": [
    {
     "data": {
      "text/plain": [
       "<module 'pagnn' from '/home/kimlab1/strokach/working/pagnn/pagnn/__init__.py'>"
      ]
     },
     "execution_count": 465,
     "metadata": {},
     "output_type": "execute_result"
    }
   ],
   "source": [
    "importlib.reload(pagnn)"
   ]
  },
  {
   "cell_type": "code",
   "execution_count": 466,
   "metadata": {
    "collapsed": true
   },
   "outputs": [],
   "source": [
    "random_state = np.random.RandomState(24)\n",
    "\n",
    "rows_gen = pagnn.iter_domain_rows(\n",
    "    Path('threshold_by_pc_identity').joinpath('adjacency_matrix_validation_gt80.parquet'),\n",
    "    columns={\n",
    "        'qseq': 'sequence',\n",
    "        'residue_idx_1_corrected': 'adjacency_idx_1',\n",
    "        'residue_idx_2_corrected': 'adjacency_idx_2',\n",
    "    },\n",
    "    random_state=random_state,\n",
    ")\n",
    "\n",
    "datasets_gen = pagnn.iter_dataset_batches(rows_gen, 50_000)"
   ]
  },
  {
   "cell_type": "code",
   "execution_count": 467,
   "metadata": {
    "collapsed": true
   },
   "outputs": [],
   "source": [
    "parquet_folders = sorted(\n",
    "    Path('group_by_sequence_length')\n",
    "    .joinpath('adjacency_matrix_validation_gt80_gbseqlen.parquet')\n",
    "    .glob('qseq_length_bin=*')\n",
    ")\n",
    "\n",
    "weights = pagnn.get_weights(parquet_folders)"
   ]
  },
  {
   "cell_type": "code",
   "execution_count": 470,
   "metadata": {},
   "outputs": [
    {
     "name": "stdout",
     "output_type": "stream",
     "text": [
      "None\n"
     ]
    }
   ],
   "source": [
    "random_state = np.random.RandomState(42)\n",
    "\n",
    "rows_gbseqlen_gen = pagnn.iter_dataset_rows(\n",
    "    parquet_folders,\n",
    "    columns={\n",
    "        'qseq': 'sequence',\n",
    "        'residue_idx_1_corrected': 'adjacency_idx_1',\n",
    "        'residue_idx_2_corrected': 'adjacency_idx_2',\n",
    "    },\n",
    "    seq_length_constraint=True,\n",
    "    random_state=random_state,\n",
    ")\n",
    "print(rows_gbseqlen_gen.send(None))"
   ]
  },
  {
   "cell_type": "code",
   "execution_count": 444,
   "metadata": {
    "collapsed": true,
    "scrolled": true
   },
   "outputs": [],
   "source": [
    "# dataset = next(datasets_gen)\n",
    "# dataset"
   ]
  },
  {
   "cell_type": "code",
   "execution_count": 445,
   "metadata": {},
   "outputs": [
    {
     "data": {
      "application/vnd.jupyter.widget-view+json": {
       "model_id": "de80f505a0204dd6a4c54b400d8f78be",
       "version_major": 2,
       "version_minor": 0
      },
      "text/html": [
       "<p>Failed to display Jupyter Widget of type <code>HBox</code>.</p>\n",
       "<p>\n",
       "  If you're reading this message in the Jupyter Notebook or JupyterLab Notebook, it may mean\n",
       "  that the widgets JavaScript is still loading. If this message persists, it\n",
       "  likely means that the widgets JavaScript library is either not installed or\n",
       "  not enabled. See the <a href=\"https://ipywidgets.readthedocs.io/en/stable/user_install.html\">Jupyter\n",
       "  Widgets Documentation</a> for setup instructions.\n",
       "</p>\n",
       "<p>\n",
       "  If you're reading this message in another frontend (for example, a static\n",
       "  rendering on GitHub or <a href=\"https://nbviewer.jupyter.org/\">NBViewer</a>),\n",
       "  it may mean that your frontend doesn't currently support widgets.\n",
       "</p>\n"
      ],
      "text/plain": [
       "HBox(children=(IntProgress(value=1, bar_style='info', max=1), HTML(value='')))"
      ]
     },
     "metadata": {},
     "output_type": "display_data"
    },
    {
     "ename": "MaxNumberOfTriesExceededError",
     "evalue": "1025",
     "output_type": "error",
     "traceback": [
      "\u001b[0;31m---------------------------------------------------------------------------\u001b[0m",
      "\u001b[0;31mMaxNumberOfTriesExceededError\u001b[0m             Traceback (most recent call last)",
      "\u001b[0;32m<ipython-input-445-2596eb5c5fe6>\u001b[0m in \u001b[0;36m<module>\u001b[0;34m()\u001b[0m\n\u001b[1;32m     10\u001b[0m         \u001b[0mmethod\u001b[0m\u001b[0;34m=\u001b[0m\u001b[0;34m'exact'\u001b[0m\u001b[0;34m,\u001b[0m\u001b[0;34m\u001b[0m\u001b[0m\n\u001b[1;32m     11\u001b[0m         \u001b[0mdatagen\u001b[0m\u001b[0;34m=\u001b[0m\u001b[0mrows_gbseqlen_gen\u001b[0m\u001b[0;34m,\u001b[0m\u001b[0;34m\u001b[0m\u001b[0m\n\u001b[0;32m---> 12\u001b[0;31m         \u001b[0mrandom_state\u001b[0m\u001b[0;34m=\u001b[0m\u001b[0mrandom_state\u001b[0m\u001b[0;34m,\u001b[0m\u001b[0;34m\u001b[0m\u001b[0m\n\u001b[0m\u001b[1;32m     13\u001b[0m     )\n\u001b[1;32m     14\u001b[0m     \u001b[0mdatasets_pos\u001b[0m\u001b[0;34m.\u001b[0m\u001b[0mappend\u001b[0m\u001b[0;34m(\u001b[0m\u001b[0mdataset_pos\u001b[0m\u001b[0;34m)\u001b[0m\u001b[0;34m\u001b[0m\u001b[0m\n",
      "\u001b[0;32m~/working/pagnn/pagnn/dataset.py\u001b[0m in \u001b[0;36madd_negative_example\u001b[0;34m(datasets, method, datagen, random_state)\u001b[0m\n\u001b[1;32m    102\u001b[0m                 \u001b[0mn_tries\u001b[0m \u001b[0;34m+=\u001b[0m \u001b[0;36m1\u001b[0m\u001b[0;34m\u001b[0m\u001b[0m\n\u001b[1;32m    103\u001b[0m                 \u001b[0;32mif\u001b[0m \u001b[0mn_tries\u001b[0m \u001b[0;34m>\u001b[0m \u001b[0mMAX_TRIES\u001b[0m\u001b[0;34m:\u001b[0m\u001b[0;34m\u001b[0m\u001b[0m\n\u001b[0;32m--> 104\u001b[0;31m                     \u001b[0;32mraise\u001b[0m \u001b[0mMaxNumberOfTriesExceededError\u001b[0m\u001b[0;34m(\u001b[0m\u001b[0mn_tries\u001b[0m\u001b[0;34m)\u001b[0m\u001b[0;34m\u001b[0m\u001b[0m\n\u001b[0m\u001b[1;32m    105\u001b[0m                 \u001b[0;32mif\u001b[0m \u001b[0mmethod\u001b[0m \u001b[0;34m==\u001b[0m \u001b[0;34m'exact'\u001b[0m\u001b[0;34m:\u001b[0m\u001b[0;34m\u001b[0m\u001b[0m\n\u001b[1;32m    106\u001b[0m                     \u001b[0mn_tries_seqlen\u001b[0m \u001b[0;34m=\u001b[0m \u001b[0;36m0\u001b[0m\u001b[0;34m\u001b[0m\u001b[0m\n",
      "\u001b[0;31mMaxNumberOfTriesExceededError\u001b[0m: 1025"
     ]
    }
   ],
   "source": [
    "random_state = np.random.RandomState(42)\n",
    "\n",
    "datasets_pos = []\n",
    "datasets_neg = []\n",
    "\n",
    "for row in tqdm.tqdm_notebook(rows_gen):\n",
    "    dataset_pos = pagnn.row_to_dataset(row)\n",
    "    try:\n",
    "        dataset_neg = pagnn.add_negative_example(\n",
    "            [dataset_pos],\n",
    "            method='exact',\n",
    "            datagen=rows_gbseqlen_gen,\n",
    "            random_state=random_state,\n",
    "        )\n",
    "    except pagnn.MaxNumberOfTriesExceededError as e:\n",
    "        print(e)\n",
    "        continue\n",
    "    datasets_pos.append(dataset_pos)\n",
    "    datasets_neg.append(dataset_neg)"
   ]
  },
  {
   "cell_type": "code",
   "execution_count": null,
   "metadata": {
    "collapsed": true
   },
   "outputs": [],
   "source": []
  },
  {
   "cell_type": "code",
   "execution_count": null,
   "metadata": {
    "collapsed": true
   },
   "outputs": [],
   "source": []
  },
  {
   "cell_type": "code",
   "execution_count": null,
   "metadata": {
    "collapsed": true
   },
   "outputs": [],
   "source": []
  },
  {
   "cell_type": "code",
   "execution_count": null,
   "metadata": {
    "collapsed": true
   },
   "outputs": [],
   "source": []
  },
  {
   "cell_type": "code",
   "execution_count": 169,
   "metadata": {
    "collapsed": true
   },
   "outputs": [],
   "source": [
    "def catcher():\n",
    "    m = 1\n",
    "    for i in range(1000):\n",
    "        m = yield (i * m)\n",
    "        print(f\"Received: {m}\")\n",
    "\n",
    "\n",
    "def multi(gen):\n",
    "    val = None\n",
    "    while True:\n",
    "        val = yield (gen.send(val) * 100_000)"
   ]
  },
  {
   "cell_type": "code",
   "execution_count": 170,
   "metadata": {},
   "outputs": [
    {
     "name": "stdout",
     "output_type": "stream",
     "text": [
      "o 0\n",
      "Received: 10\n",
      "10\n",
      "Received: 100\n",
      "200\n",
      "Received: 1000\n",
      "3000\n"
     ]
    }
   ],
   "source": [
    "g = catcher()\n",
    "print(\"o\", next(g))\n",
    "\n",
    "print(g.send(10))\n",
    "print(g.send(100))\n",
    "print(g.send(1000))"
   ]
  },
  {
   "cell_type": "code",
   "execution_count": 192,
   "metadata": {},
   "outputs": [
    {
     "data": {
      "text/plain": [
       "0"
      ]
     },
     "execution_count": 192,
     "metadata": {},
     "output_type": "execute_result"
    }
   ],
   "source": [
    "g = (i for i in range(100))\n",
    "g.send(None)"
   ]
  },
  {
   "cell_type": "code",
   "execution_count": 194,
   "metadata": {},
   "outputs": [
    {
     "data": {
      "text/plain": [
       "generator"
      ]
     },
     "execution_count": 194,
     "metadata": {},
     "output_type": "execute_result"
    }
   ],
   "source": [
    "def foo():\n",
    "    yield 1\n",
    "    \n",
    "    \n",
    "type(foo())"
   ]
  },
  {
   "cell_type": "code",
   "execution_count": 171,
   "metadata": {},
   "outputs": [
    {
     "name": "stdout",
     "output_type": "stream",
     "text": [
      "Received: 10\n",
      "1000000\n",
      "Received: 100\n",
      "20000000\n",
      "Received: 1000\n",
      "300000000\n",
      "Received: 1000\n",
      "400000000\n",
      "Received: 1000\n",
      "500000000\n",
      "Received: 1000\n",
      "600000000\n"
     ]
    }
   ],
   "source": [
    "g = catcher()\n",
    "\n",
    "g = multi(g)\n",
    "next(g)\n",
    "\n",
    "print(g.send(10))\n",
    "print(g.send(100))\n",
    "print(g.send(1000))\n",
    "print(g.send(1000))\n",
    "print(g.send(1000))\n",
    "print(g.send(1000))"
   ]
  },
  {
   "cell_type": "code",
   "execution_count": null,
   "metadata": {
    "collapsed": true
   },
   "outputs": [],
   "source": []
  },
  {
   "cell_type": "code",
   "execution_count": null,
   "metadata": {
    "collapsed": true
   },
   "outputs": [],
   "source": []
  },
  {
   "cell_type": "code",
   "execution_count": 55,
   "metadata": {},
   "outputs": [
    {
     "data": {
      "text/plain": [
       "[DataSet(seq=b'GECLEWLRRYLENGKEMLQRRFIAVGYVDDTQFVRFDSDAASQRMEPRAPWIEQEGPEYWDQETRNVKAQSQTDRENLR', adj=<79x79 sparse matrix of type '<class 'numpy.float64'>'\n",
       "\twith 439 stored elements in COOrdinate format>, target=0),\n",
       " DataSet(seq=b'ILLRYYNQSEAGSHSMRYFFTSVSRPGRGEPRFIAVGYVDDTQFVRFDSDAASQRMEPRAPWIEQEGPEYWDQETRNVKAQSQTDR', adj=<86x86 sparse matrix of type '<class 'numpy.float64'>'\n",
       "\twith 474 stored elements in COOrdinate format>, target=0),\n",
       " DataSet(seq=b'VDLGTLRGYYNQSEAGSHTIQIMYGCDVGSDGSHSMRYFYTAMSRPGRGEPRFIAVGYVDDTQFVRFDSDAASPREEPRAPWIEQEGPEYWDRNTQIYKAQAQTDRESLRNLRGYYNQSEAGSHTWQTMYGCDLGP', adj=<136x136 sparse matrix of type '<class 'numpy.float64'>'\n",
       "\twith 778 stored elements in COOrdinate format>, target=0),\n",
       " DataSet(seq=b'DGRLLRGHDQYAYDGKDYIALNEDLSSWTAADTAAQITQRKWEAARVAEQLRAYLEGTCVEWLRRYLENGKETLQRSHSMRYFDTAVSRPGRGEPRFISVGYVDDTQFVRFDSDAGSPRGEPRAPWVEQEGPEYWDRETQKYKRQAQADRVNLRKLRGYYNQSEDGSHTLQWMYGCDLGPDGRLLRGYDQSAYDGKDYIALNE', adj=<203x203 sparse matrix of type '<class 'numpy.float64'>'\n",
       "\twith 1304 stored elements in COOrdinate format>, target=0),\n",
       " DataSet(seq=b'DLRSWTAADTAAQITQRKWEAAREAEQWRAYLEGTCVEWLRRYLENGKETLQRSHSMRYFSTSVSRPGRGEPRFIAVGYVDDTQFVRFDSDAASPRGEPRAPWVEQEGPEYWDRETQKYKRQAQTDRVSLRNLRGYYNQSEDGSHTLQWMFGCDLGPDGR', adj=<160x160 sparse matrix of type '<class 'numpy.float64'>'\n",
       "\twith 1020 stored elements in COOrdinate format>, target=0),\n",
       " DataSet(seq=b'LLRGYDQSAYDGKDYIALNEDLRSWTAADTAAQITQRKWEAAREAEQRRAYLEGTCVEWLRRYLENGKETLQRGSHSVRYFHTAMSRPGRGEPRFITVGYVDDTLFVRFDSDATSPRKEPRA', adj=<122x122 sparse matrix of type '<class 'numpy.float64'>'\n",
       "\twith 788 stored elements in COOrdinate format>, target=0),\n",
       " DataSet(seq=b'PWIEQEGPEYWDRETQISKTNTQTYRESLRNLRGYYNQSEAGSHTLQRMYGCDVGPDGRLLRGHNQYAYDGKDYIALNEDLRSWTAADTAAQISQRKLEAARVAEQLRAYLEGECVEWLRRYLENGKDKLERGSHSLRYFTTAVSRPGRREPWYVEVGYVDDTQFVRFDSDAESPTMEPRAPWMEQEGPEYWDRNTRRVKANA', adj=<203x203 sparse matrix of type '<class 'numpy.float64'>'\n",
       "\twith 1289 stored elements in COOrdinate format>, target=0),\n",
       " DataSet(seq=b'QTDRGNLRILLRYYNQSEGGSHTLQRMYGCDLGPDGRLLRGYEQHAYDGKDYIALNEDLRSWTAADMAAQNTQRKWEAARAAEQL', adj=<85x85 sparse matrix of type '<class 'numpy.float64'>'\n",
       "\twith 517 stored elements in COOrdinate format>, target=0),\n",
       " DataSet(seq=b'RAYLEGECLEWLRRHLENGKETLQRRTHSLRYFRLGVSDPGHGVPEFISVGYVDSQPITAYNSITRQKEPRAPWMAENLAPDHWERYTQLLRGWQQMFKVELNR', adj=<104x104 sparse matrix of type '<class 'numpy.float64'>'\n",
       "\twith 676 stored elements in COOrdinate format>, target=0),\n",
       " DataSet(seq=b'LQRHYNHSGSHTYQRMIGCELMEDGSTTGFLQYAYDGQDFMIFNKDTLSWLAVDNVAHTIKRAWEANRHELQYQKNWLEEECIAWLKRFLEYGKDTLQRRIAKARAQTERGNLRTALRYYNQSEGGSHTLQKMCGCDLGPDGRLLRG', adj=<147x147 sparse matrix of type '<class 'numpy.float64'>'\n",
       "\twith 846 stored elements in COOrdinate format>, target=0),\n",
       " DataSet(seq=b'YYQSAYDGRDYIALNEDLRSWTAAGEAAQNHSMRYFSTSVSRPGRGEPRFIAVGYVDDTQFVRFDSDAASQRMEPRAPWIEQEGPEYWDEETGKVKAHSQTDRENLRIALRYYNQSEAG', adj=<119x119 sparse matrix of type '<class 'numpy.float64'>'\n",
       "\twith 700 stored elements in COOrdinate format>, target=0),\n",
       " DataSet(seq=b'SHTLQMMFGCDVGSDGRFLRGYHQYAYDGKDYIALKEDLRSWTAADMAAQITKRKWEAAHVAEQQRAYLEGTCVDGLRRYLENGKETLQRDNVAHITKRTWEANWHELQYQKNWLEEECIAWLKRF', adj=<126x126 sparse matrix of type '<class 'numpy.float64'>'\n",
       "\twith 741 stored elements in COOrdinate format>, target=0),\n",
       " DataSet(seq=b'LEYGKDTLQRTEPGSHSMRYFSAAVSRPGRGEPRFISVGYVDDTQFVRFDSDAESPKMEPRASWMEQEGPEYWEEQTRRAKDAAQTFRVSLGNLRGYYNQSEAGSHTLQTMSGCDLGPDGRLLRGYYQQAYDGRDYIALNEDLRSWTAADEA', adj=<152x152 sparse matrix of type '<class 'numpy.float64'>'\n",
       "\twith 911 stored elements in COOrdinate format>, target=0),\n",
       " DataSet(seq=b'AQNTQRKWEAAGVAEQWRAYLEGECLECLRRYLENGKETLQRSHSMRYFYTAMSRPGRGEPRFIAVGYVDDTQFVRFDSDAASPRMAPRAPWIEQEGPEYWDRETQISKTNTQTYRESLRNLRGYYNQSEAGSHTLQRMSGCDVGPDGRLLRGHDQSAYDGKDYIALNEDLSSWTAADTAAQITQRKWEAAREAEQWRAYLEGLCVEWLRRYLENGKETLQRAGSHSLRYFYTTVSRPGRGEPRFIAVGYVDDTQFVRFDSDAASPRMEPRAPWMEQEGPEYWEEETRKIK', adj=<291x291 sparse matrix of type '<class 'numpy.float64'>'\n",
       "\twith 1783 stored elements in COOrdinate format>, target=0),\n",
       " DataSet(seq=b'EAAQTFRVSLGNLRGYYNQSEAGSHSMRYFDTAVSRPGRGEPRFISVGYVDDTQFVRFDSDAASPRGEPRAPWVEQEGPEYWDRETQKYKRQAQADRVSLRNLRGYYNQSEDGSHTLQRMSGCDLGPDGRLLRG', adj=<134x134 sparse matrix of type '<class 'numpy.float64'>'\n",
       "\twith 783 stored elements in COOrdinate format>, target=0),\n",
       " DataSet(seq=b'YDQSAYDGKDYIALNEDLRSWTAADTAAQITQRKLEVARAAEQLRAYLEGTCVEWLRRYLENGKETLQRPHSLSYFHTAVSRPDRGEPRFLEVGYVDDTQFVRFDSDAPNPRKEPRAPWIEQEGQDYWDRETQISKDNAQTYRVGLNTVRGYYNQSEAGSHTLQVMFGCDVGPDGLLLRGYIQFAYDGADYLALNEDLRSWTAADTAAQISKRKFDAADEAEQMRSYLQGLCVESLRKYLEMG', adj=<243x243 sparse matrix of type '<class 'numpy.float64'>'\n",
       "\twith 1557 stored elements in COOrdinate format>, target=0),\n",
       " DataSet(seq=b'KDTLQRGSHSMRYFFTSVSRPGRGEPRFIAVGYVDDTQFVRFDSDAASQRMEPRAPWIEQEGPEYWDGETRKVKAHSQTHRV', adj=<82x82 sparse matrix of type '<class 'numpy.float64'>'\n",
       "\twith 516 stored elements in COOrdinate format>, target=0),\n",
       " DataSet(seq=b'DLGTLRGYYNQSEAGSHTVQRMYGCDVGSDGRFLRGYHQYAYDGK', adj=<45x45 sparse matrix of type '<class 'numpy.float64'>'\n",
       "\twith 297 stored elements in COOrdinate format>, target=0),\n",
       " DataSet(seq=b'DYIALKEDLRSWTAADMAAQTTKHKWEAAHVAEQLRAYLEGTCVEWLRRYLENGKETLQFQGPTSFHVIQISSFANSTWAKTQGSGWLEDLQIHGWNFDSGTAIFLKPWSKGNLTDEEVKELEEIFRVYLFGFIGEVQERVSEFQMEYPFEIQGIAGCELHSGGAIVSFLRGALGGMDFLSASNNSCVPAPEGGKR', adj=<196x196 sparse matrix of type '<class 'numpy.float64'>'\n",
       "\twith 1169 stored elements in COOrdinate format>, target=0),\n",
       " DataSet(seq=b'AQKFCTLILQYKGICDTVEKLLLETCPKYLLSVLEAGKADLQRQVKGSHSMRYFHTTVSRPGRGEPRFISVGYVDDTQFVRFDSDAESPRMEPRAPWMEQEGPEYWDRNTRKAKAQAQTDRVDLETLRGYYNQSEGGSHTIQWM', adj=<144x144 sparse matrix of type '<class 'numpy.float64'>'\n",
       "\twith 922 stored elements in COOrdinate format>, target=0),\n",
       " DataSet(seq=b'SGCDLGPDGRLLRGYRQDAYDGKDYIALNEDLRSWTAADIAAQNTQRKWEGDRYAEQLRAYLEGTCVEWLRRYLENGKETLQRSHSMRYFHTAMSRPGRGEPRFITVGYVDDTLFVRFDSDATSPRKEPRAPWIEQEGPEYWDRETQISKTNTQTYRESLRNLRGYYNQSEAGSHTLQSMYGCDVGPDGRLFRGHNQYAYDGKDYIALNE', adj=<210x210 sparse matrix of type '<class 'numpy.float64'>'\n",
       "\twith 1344 stored elements in COOrdinate format>, target=0),\n",
       " DataSet(seq=b'DLRSWTAADTAAQITQRKWEAARVAEQDRAYLEGTCVEWLRRYLENGKDTLERSHSMRYFFTSVSRPGRGEPRFIAVGYVDDTQFVRFDSDAASQRMEPRAPWIEQEGPEYWDGETPKVKAHSQTHRVDLGTLRGYYNQSEA', adj=<142x142 sparse matrix of type '<class 'numpy.float64'>'\n",
       "\twith 901 stored elements in COOrdinate format>, target=0),\n",
       " DataSet(seq=b'GSHTVQRMYGCDVGSDWRFLRGYHQYAYDGKDYIALKEDLRSWTAADMAAQTTKHKWEAAHVAEQLRAYLEGTCVEWLRRYLENGKETLQRGSHSMRYFSTAVSRPDRGEPRFIAVGYVDDTQFVR', adj=<126x126 sparse matrix of type '<class 'numpy.float64'>'\n",
       "\twith 833 stored elements in COOrdinate format>, target=0),\n",
       " DataSet(seq=b'FDSDAESPRMEPRARWIEQEGPEYWEEETRKAKDITQSFRVSLGNLRGYYNQSEGGSHTYQWMHGCNVGPDRHLLRGYHQYAYDGKDYIALNEDLRSWTAADMAAQNTQRKWEAVGGAERFRAYVEGRCVESLRRYLENGKE', adj=<142x142 sparse matrix of type '<class 'numpy.float64'>'\n",
       "\twith 905 stored elements in COOrdinate format>, target=0),\n",
       " DataSet(seq=b'TLQRGSHSMRYFTTSVSRPDRGEPRFIAVGYVDDTQFVRFDSDAASQRMEPRAPWIEQERPEYWDQETRNVKAHSQIDRVDLGTLRGYYNQSEAGSHTIQMMYGCDVGSDGRFLRGYQQDAYDGKDYIALNEDLRSWTAADM', adj=<142x142 sparse matrix of type '<class 'numpy.float64'>'\n",
       "\twith 890 stored elements in COOrdinate format>, target=0),\n",
       " DataSet(seq=b'AAQITQRKWEAARVAEQLRAYLEGTCVEWLRRYLENGKETLQGSHSMRYFYTAMSRPGRGEPRFIAVGYVDDTQFVRFDSDAASPRMAPRAPWIEQEGPEYWDRETQISKTNTQTYRESLRNLRGYYNQSEAGSHTLQRMYGCDVGPDGRLLRGHDQSAYDGKDYIALNEDLSSWTAADTAAQITQRKWEAAREAE', adj=<196x196 sparse matrix of type '<class 'numpy.float64'>'\n",
       "\twith 1237 stored elements in COOrdinate format>, target=0),\n",
       " DataSet(seq=b'QWRAYLEGLCVEWLRRYLEIGKETLQRELHTLRYIQTAMTDPGPGQPWFVDVGYVDGELFTHYNSTARRAVPRTEWMAAKADQQYWDRETQIGQGHEQTDHGNLGILQRRYNQTGGSHTAQWMYGCDILEDGTIRGYSQYAYD', adj=<143x143 sparse matrix of type '<class 'numpy.float64'>'\n",
       "\twith 943 stored elements in COOrdinate format>, target=0),\n",
       " DataSet(seq=b'GRDFIALDKDMKTFTAAVPEAVPTKRKWEEESEPERWKNYLEETCVEWLRRYVEYGKAELGGSHSMRYFSTAVSRPGRREPWYLAVGYVDDTQFVWFDSDAESPRMEPRAPWIEQEGPEYWEEQTR', adj=<126x126 sparse matrix of type '<class 'numpy.float64'>'\n",
       "\twith 786 stored elements in COOrdinate format>, target=0),\n",
       " DataSet(seq=b'RAKGNAQADRGNLRTLLRYYNQSEGGSHTFQWMYGCDLGPDGRLLRGYHQSAYDGKDYIALNEDLRSWTAADMAAGFTQRKWEAARAAERFRAYLE', adj=<96x96 sparse matrix of type '<class 'numpy.float64'>'\n",
       "\twith 589 stored elements in COOrdinate format>, target=0),\n",
       " DataSet(seq=b'GECLEWLRRHLENGKETLQRSHSMRYFYTAVSRPGRGQPRFMSVGYVDDTQFVRFDSDAESPREEPRAPWVEQEGPEYWDRNTRICKANTQTYRESLRNLRGYYNQSEAGSHTLQTMYGCDLGPDGRLLRGYDQSAYDGRDYIALNED', adj=<148x148 sparse matrix of type '<class 'numpy.float64'>'\n",
       "\twith 937 stored elements in COOrdinate format>, target=0),\n",
       " DataSet(seq=b'LRSWTAADMAAQNTQRKWEAAGAAEQRRAYLEAECLEWLRRHLENGKETLQRGSHSMRYFSNAVSRPGRGEPRFIVVGYVDDTQFVRFDSNVESPRMEPRAPWMEQEGPEYWEEETELAKETAQTFRGNLRTLLRYYN', adj=<138x138 sparse matrix of type '<class 'numpy.float64'>'\n",
       "\twith 868 stored elements in COOrdinate format>, target=0),\n",
       " DataSet(seq=b'QSEAGSHTLQWMFGCDLGPDGRLLRGYDQSAYDGKDYIALNEDLRSWTAADVAAQNTQRKWEAAGAAEQLRAYLEGECVEWLRRYLEKGKETLQRSHSMRYFDTAVSRPGRGEPRFISVGYVDDTQFVRFDSDAASPRGEPRA', adj=<143x143 sparse matrix of type '<class 'numpy.float64'>'\n",
       "\twith 895 stored elements in COOrdinate format>, target=0),\n",
       " DataSet(seq=b'PWVEQEGPEYWDRETQKYKRQAQADRVSLRNLRGYYNQSEDGSHTLQRMSGCDLGPDGRLLRGYDQSAYDGKDYIALNEDLRSWTAADTAAQITQRKLEAARAAEQLIAYLEGTCVEWLRRYLENGKETLQRSHSMRYFYTAVSRPSRGEPHFIAVGYVDDTQFVRFDSYAASPRGEPRAPWVEQEGPEYWDRETQ', adj=<196x196 sparse matrix of type '<class 'numpy.float64'>'\n",
       "\twith 1233 stored elements in COOrdinate format>, target=0),\n",
       " DataSet(seq=b'KYKRQAQTDRVNLRKLRGYYNQSEAGSHTLQRMYGCDLGPDGRLLRGYDQSAYDGKDYIALNEDLRSWTAADTAAQITQRKWEAAREAEQWRAYLEGECVEWLRRYLENGKETLQRSHSMRYFSTSVSRPGRGEPRFIAVGYVDDTQFVRFDSDAASPRGEPRAPWVEQEGPEYWDRETQKYKRQAQTDRVSLWNLRGYYNQSEAGSHTLQWMFGCDLGPDGRLLRGYDQSAYDGKDYIALNEDLRSWTAADTAAQITQRKWEAAREAEQRRAYLEGTCVEWLRRYLENGKETL', adj=<294x294 sparse matrix of type '<class 'numpy.float64'>'\n",
       "\twith 1909 stored elements in COOrdinate format>, target=0),\n",
       " DataSet(seq=b'QRGSHSMRYLSTAVSRPGRGEPRYIEVGYVDDMQFVGFDSDAASPRMEPRAPWMEQEGPEYWDWETQISKANAQTDRVGLRNIRGYYNQSEAGSHTIQTMYGCDVGPDGCFLRGYYQHAYDGKDYISLNEDLRSWTAADTAAQITKRKWEAANEAE', adj=<156x156 sparse matrix of type '<class 'numpy.float64'>'\n",
       "\twith 972 stored elements in COOrdinate format>, target=0),\n",
       " DataSet(seq=b'QWRAYLEGTCVEWLCRYLENGKETLQGSHSMRYFYTSMSRPGRGQPRFIAVGYVDDTQFVRFDSDAASQRMEPRAPWVEQEGPEYWEEETRIMKADTQTYRENLRTALRYYNQSEAGSHTFQTMYGCDLGPDGRLLRGYDQ', adj=<141x141 sparse matrix of type '<class 'numpy.float64'>'\n",
       "\twith 904 stored elements in COOrdinate format>, target=0),\n",
       " DataSet(seq=b'SAYDGKDYIALNEDLRSWTAADLAAQNTQRKWEAAGVAEQDRVYLEGECLEWLRRYLENGKETLQGCDLGSDGRLLRGYEQYAYDGKDYLALNEDLRSWTAADTAAQISKRKCEAPNASEQRRAYLEGT', adj=<129x129 sparse matrix of type '<class 'numpy.float64'>'\n",
       "\twith 760 stored elements in COOrdinate format>, target=0),\n",
       " DataSet(seq=b'CVEWLHRYLENGKEAFWAPGSQILWRYRENAGPRFHIARPVTVVRDDEELLAVWMAPGTECVKPVLADGTSVHGEPLETRYTKPRTVQLDRWFGTGVLKLARPGEPWSVWLFWEPGWRFKNWYVNLEEPLARWAGGVD', adj=<138x138 sparse matrix of type '<class 'numpy.float64'>'\n",
       "\twith 861 stored elements in COOrdinate format>, target=0),\n",
       " DataSet(seq=b'SEDHFLDITVDPDRSWEWRDEDEFAQAQRDGLMDPQLAERVRKAGWSAVEVIRAWGSPFADGWQHWRPDPSVHPPKIEYFDLVERTNTDPKGFVRPVDHYRVEPWGLYMARSADHRQFHYLESWILPDLGIRAT', adj=<134x134 sparse matrix of type '<class 'numpy.float64'>'\n",
       "\twith 813 stored elements in COOrdinate format>, target=0),\n",
       " DataSet(seq=b'VFHFHPYHARDQDHYVDIGSFTRGDTVWKSEDHYLDLVVRTGRDTELLDVDELVEAHTAGLLDAAATEQAILTATTAIDGIAAHGHDLAAWLASRGMPGHWVPGSQILWRYRENAGAAFHIARPVTVVRDDDELLAVWLAPGTECVKPVLADGTSVHLEPLESRYTKPRTVQRDRWFGTGVLKLARPGEPWS', adj=<192x192 sparse matrix of type '<class 'numpy.float64'>'\n",
       "\twith 1176 stored elements in COOrdinate format>, target=0),\n",
       " DataSet(seq=b'VWLFWEPGWQFKNWYVNLEEPLTRWSGGVDSEDHFLDISVHPDRSWHWRDEDEFAQAQRDGLVDDELAERVREAGRAAVEVIRAWGPPFSEGWQ', adj=<94x94 sparse matrix of type '<class 'numpy.float64'>'\n",
       "\twith 626 stored elements in COOrdinate format>, target=0),\n",
       " DataSet(seq=b'HWRPDPSGYWAPGSHILWRYRENGGPHLHIARPVTVVRDDADLLAVWLAPGTECVKPVLADGTPVHLEPLASRYTKPRAVQRDRWFGTGVLKLARPGAPWSV', adj=<102x102 sparse matrix of type '<class 'numpy.float64'>'\n",
       "\twith 589 stored elements in COOrdinate format>, target=0),\n",
       " DataSet(seq=b'WLFWDPDWRFKNWYVNLEEPLARWEGGVDSEDHFLDISVHPDRTWHWRDEDEFAQAQRDRLVDARLAERVRKAGRAAVAEVRAWGSPFADGWEHWRPDPSNADKINNGNDNDNDNEVVPSKEGSLLRCSEIW', adj=<132x132 sparse matrix of type '<class 'numpy.float64'>'\n",
       "\twith 706 stored elements in COOrdinate format>, target=0),\n",
       " DataSet(seq=b'DRITTHPKYSDIDVDGLCSELMAKAKCSERGVVINAEDVQLALNKHMQNANDSDGNDNDNDVVPSKEGSLLRCSEIWDRITTHPKYSDIDVDGLCSE', adj=<97x97 sparse matrix of type '<class 'numpy.float64'>'\n",
       "\twith 487 stored elements in COOrdinate format>, target=0),\n",
       " DataSet(seq=b'LMAKAKCSERGVVINAEDVQLALNKHMPEEPKVGIKTIKVYCQRMQEENITRALIVVQQGMTPSAKQSLVDMAPKYILEQFLQQELLIMDDEAETYKLWRIRKTVMQLCHDRGYLVTQDELDQTLD', adj=<126x126 sparse matrix of type '<class 'numpy.float64'>'\n",
       "\twith 701 stored elements in COOrdinate format>, target=0),\n",
       " DataSet(seq=b'QFKEQFGDK', adj=<9x9 sparse matrix of type '<class 'numpy.float64'>'\n",
       "\twith 55 stored elements in COOrdinate format>, target=0),\n",
       " DataSet(seq=b'PSEKRPARSDLIVLVAHNDDPTDQMFVFFPDEPKIGIKTIKTYCQRMQEENIHRAIIVVQAGMTPSAKQSLVDMAPKYMDDESETYRMWRVRKTIMQLCHDRGYLVTQDELDQTLEQFKIQFGDKPSERRPARSDLIVLVAHNDDPTDQMFVFFPDE', adj=<157x157 sparse matrix of type '<class 'numpy.float64'>'\n",
       "\twith 844 stored elements in COOrdinate format>, target=0),\n",
       " DataSet(seq=b'PKIGIKTIKTYCQRMQEENITRAIIVVQQGMTPSAKQSLVDMAPKYILEYFTESELLIAECCPTPMLVDGTIMMDCYKKYGEQTKKQLQMEGIPRGCCIAECAMNATNMYADGMLKRDDLSKM', adj=<123x123 sparse matrix of type '<class 'numpy.float64'>'\n",
       "\twith 686 stored elements in COOrdinate format>, target=0),\n",
       " DataSet(seq=b'FMDAVKDKPEWMSLVRDATNACFEMAEKKMDEIAAGAKLEPSFEGEKICHPISGAILRCMGMMMFAMMKSGEMIRSVCLGKTKVSEELANGLRESKFVDVKELKCYVNCVMEMMQTVRRRFNTIGTVSFDHPDPSIFTVLTSPTS', adj=<145x145 sparse matrix of type '<class 'numpy.float64'>'\n",
       "\twith 780 stored elements in COOrdinate format>, target=0),\n",
       " DataSet(seq=b'VHGLANLDFVIFPPRWMVAENTFRPPWFHRNLMNEFMGLIQGEYDAKAEGFLPGGASLHSCMSAHGPDGETCTKAINADLKPAKIDNTMAFMFETSRRFNTLGTVSFDHPDPSIFTVLTSPTSVHGLANLDFVIFPP', adj=<137x137 sparse matrix of type '<class 'numpy.float64'>'\n",
       "\twith 720 stored elements in COOrdinate format>, target=0),\n",
       " DataSet(seq=b'RWMVAENTFRPPWFHRNLMNEYMGLIHGAYDAKAEGFLPGGASLHSCMSAHGPDGETCTKAIAADLAPHKIDNTMAFMFETSDEQYRNFLRSVSLLKNLPEDKLTKIIDCLEVEYYDKGDYIIREGEEGSTFYILAK', adj=<137x137 sparse matrix of type '<class 'numpy.float64'>'\n",
       "\twith 877 stored elements in COOrdinate format>, target=0),\n",
       " DataSet(seq=b'GKVQVTQSTEGHDQPQLIKILQKGDYFGEKALISDDVRSANIIAEENDVACLVIDRETFNQTVGTFEELQKYLEGYVANLNRDDEKRHAKVDDVLRRNPLFAA', adj=<103x103 sparse matrix of type '<class 'numpy.float64'>'\n",
       "\twith 802 stored elements in COOrdinate format>, target=0),\n",
       " DataSet(seq=b'LDDEQSAELRASMSEVTLARGDTLFHEGDPGDRLYVVTEGKVKLHRTSPDGRENMLAVVGPSELIGELSLFDPGPRTATGTALTEVKLLALGHGDLQPWLNVRPEVATALLRAVARRLRKTNDAMVKIEVAKAICFNQLINSKETEVVSMRILNQSNSYISLFSLAKNEEITAEAMLGNRYYYCFNGSGEVSIENN', adj=<196x196 sparse matrix of type '<class 'numpy.float64'>'\n",
       "\twith 1195 stored elements in COOrdinate format>, target=0),\n",
       " DataSet(seq=b'KKHISNGDFLEVLAHNNYSIKSSDTLKLIEIGEKIGLEGDSPLRDVEKRAVDRQFVAQDEPEVHVEPGFEGELHAFNLFKYLSRSDVTWNPSVTSVCGRSLFCPTTEEFILPVFHGNDRVEWFLQLSDEIVWDIGDKNTGAPRARITMRAGDICAMPADI', adj=<160x160 sparse matrix of type '<class 'numpy.float64'>'\n",
       "\twith 874 stored elements in COOrdinate format>, target=0),\n",
       " DataSet(seq=b'RHQGYSTKRSMLLVWENATPDLPQRYEPEDYFLNIFKTRDLLPGMEVTFFVEDWVEIMLANIPGNGGEMPFHKHRNEQIGICIGGGYDMTIEGYKVDMTFGTAYFCDPREDHGAINRFEKDSKSVNIFFPPRYNRMKVRELDIPGAWEITPQLHGDSRG', adj=<159x159 sparse matrix of type '<class 'numpy.float64'>'\n",
       "\twith 961 stored elements in COOrdinate format>, target=0),\n",
       " DataSet(seq=b'MFFEWLTDHEFTAFAGHRLDVRQANCSVSSAGVLRGLHFAQVPPSQAKYVTCLHGSVFDVVVDIRVGSPTFGRWASVLLDDRDRRSVYISEG', adj=<92x92 sparse matrix of type '<class 'numpy.float64'>'\n",
       "\twith 641 stored elements in COOrdinate format>, target=0),\n",
       " DataSet(seq=b'LAHGFLALHDNSTVMYLCSAEFNPQREHTICATDPALAIDWPMPDGDLLLSDRDAAAPTLDEV', adj=<63x63 sparse matrix of type '<class 'numpy.float64'>'\n",
       "\twith 383 stored elements in COOrdinate format>, target=0),\n",
       " DataSet(seq=b'GAAGLLPTWDETQEDGQKIVVQGEPGDEFFIILEGTAAVLQRRSENEEFVEVGRLAPSDYFGEIALLMNRPRAATVVARGLLKCVKLDRPRFERVLGPCSDILKRNIQQYNSFVSICLLTKGRRTASVRADTYCRL', adj=<136x136 sparse matrix of type '<class 'numpy.float64'>'\n",
       "\twith 691 stored elements in COOrdinate format>, target=0),\n",
       " DataSet(seq=b'YSLSVDNFNEVLEEYPMMRRAFETVAIDRLDRIGKKNSILLQSKAVPFVWKWSTLYPLAQRAGDLVPVGRGGERRAIALANPGLGGVPYVTPTLWAAIQYLGPKETAPEHRHSQNAFR', adj=<118x118 sparse matrix of type '<class 'numpy.float64'>'\n",
       "\twith 484 stored elements in COOrdinate format>, target=0),\n",
       " DataSet(seq=b'FVVEGEGVWTVVNGDPVAMRRGDFLLTPSALTVYSDKDASQPKWHSTDAAEIARQLNFKGVRFERWDADRDLGQDPAPEAVIEAYQHAIDKLVAEKGYQSWDVISLRADNPQKDALRAKFLNEHT', adj=<125x125 sparse matrix of type '<class 'numpy.float64'>'\n",
       "\twith 745 stored elements in COOrdinate format>, target=0),\n",
       " DataSet(seq=b'HGEDEVRFFVEGAGLFCLHIGDEVYQVLCEKNDLISVPAGTPHWFDMGSEPNFTAIRIFMQARYTFSFGHYFDPKLLGYASLRVLNQEVLAPGAAFQPRTYPKVDILNVILDGEAEYRDSEGNHVQASAGEALLLSTQPGVSYSEHNLSKNKPLTRMQLWLDACPQRENPLIQKLAK', adj=<177x177 sparse matrix of type '<class 'numpy.float64'>'\n",
       "\twith 1183 stored elements in COOrdinate format>, target=0),\n",
       " DataSet(seq=b'DMKADICVHLNRKVFCEHPAFRLASDGCLRALAMHFTMTHSAPGDLIYHQGESLDSLCFVVTGSLEVIQDDEVIAILGKGDVFGDNFWKESTVGQSAANVKALTYCDLHVIKRDNLLSVLKFYHSFSHSFERNLTLTYNLRHRLVFMMIVIKTAIPDVLILEPKVFGDERGFFFESYNQQTFEESIGRKVTFVQDNHSKSKKNVLRGLHFQRGENAQGKLVRCAVGEVFDVAVDIRKESPTFGQWVGVNLSAENKRQLWIPEGF', adj=<264x264 sparse matrix of type '<class 'numpy.float64'>'\n",
       "\twith 1686 stored elements in COOrdinate format>, target=0),\n",
       " DataSet(seq=b'AHGFVTLSDYAEFLYKATNYYSPSSEGSILWNDETIGIKWPFSQLPELSAKDAAAPLLHQALLTYFLDIFKTRDLLPGMEVTFFVEDWMELMIANIPGNGGEMPFHKHRNEQIGICISGGYDMTIEGFTEKMEFGTTYFCDP', adj=<142x142 sparse matrix of type '<class 'numpy.float64'>'\n",
       "\twith 824 stored elements in COOrdinate format>, target=0),\n",
       " DataSet(seq=b'KEDHGAINPKPEASKSINLFFPPRYNRKIKNIDKLLVHCQRRRYTAKSNIICAGDRAETLSFIIKGSVTILIEDDDGHEMIIAYLNSGDFFGELGLFEPVEGEQQRSAWVRAKTECEVAEISYDKFRELSRQDPDIL', adj=<137x137 sparse matrix of type '<class 'numpy.float64'>'\n",
       "\twith 848 stored elements in COOrdinate format>, target=0),\n",
       " DataSet(seq=b'YALGGQMAQRLRNTTRKVGDLAFFDVTGRVEPFNLRSRNPIYSNNFGKFFEITPEKTPQLRDLDIFLSSVDINEGALLLPHFNSKAIVILVINEGDANIELVGIKEQQQKQKQEEEPLEVQRYRAELS', adj=<128x128 sparse matrix of type '<class 'numpy.float64'>'\n",
       "\twith 707 stored elements in COOrdinate format>, target=0),\n",
       " DataSet(seq=b'EDDVFVIPAAYPFVVNATSNLNFLAFGINAENNQRNFLAGEKDNVVRQIERQVQELAFPGSAQDVERLLKKQRESYFRDVWSLLNEEERELLDKEIRPFPCKKASTVFSEGDIPNNLFYLYEGKIKI', adj=<127x127 sparse matrix of type '<class 'numpy.float64'>'\n",
       "\twith 757 stored elements in COOrdinate format>, target=0),\n",
       " DataSet(seq=b'LREGVYGRFLISRIVKPGQFFGMRPYFAEETCSSTAIAVENSKVLAIPVEAIEALLKGNTSFCRYFLKALAKELGYAERRTVTLTQKHVRGRLMDFQPGEFLNVKEVHYNQHGLLLLEGQGIYRLSDSWYPIQAGD', adj=<136x136 sparse matrix of type '<class 'numpy.float64'>'\n",
       "\twith 771 stored elements in COOrdinate format>, target=0),\n",
       " DataSet(seq=b'AIWMAPFVPQWYAALGKTRSRYLIYKDVNRNPLLTVDTTAHPFLKSLGGHAGTDIFPLFLDPYNGLMVMRARFAPGLTLPLHFHTGAVHMYTISGCWYYTEYPDQKQTDGCYLFEPGGSIHQSTHPGVQDTLARAGIFQ', adj=<139x139 sparse matrix of type '<class 'numpy.float64'>'\n",
       "\twith 640 stored elements in COOrdinate format>, target=0),\n",
       " DataSet(seq=b'GVDPDAVAALINDMDTVDFPKGTTIFDEGEPGDRLYIIVEGKIKLARHAPDGRENLLSVMGPSDMFGELSIFDPGPRTSSAVCVTDVTCATMDSTMLREWIDNHPEISQQLLRVLARRLRRTN', adj=<123x123 sparse matrix of type '<class 'numpy.float64'>'\n",
       "\twith 742 stored elements in COOrdinate format>, target=0),\n",
       " DataSet(seq=b'ASLADLIFMQKLINSVQNYAWGSKTALTELYGMENPPSQPMAELWMGAHPKSSSRVQNAAGDIVSLRDVIESDKSTLLGEAVAKRFGELPFL', adj=<92x92 sparse matrix of type '<class 'numpy.float64'>'\n",
       "\twith 505 stored elements in COOrdinate format>, target=0),\n",
       " DataSet(seq=b'FKVLCAAQPLSIQVHPNKRNSEIGFAKENAAGIPMDAAERNYKDPNHKPELVFALTPFLAMNAFREFSEIVSLLQPVAGAHPAIAHFLQQPDAERLSELFASLLNMQGEEKSRALAILKSALDSQQGEPWQTI', adj=<133x133 sparse matrix of type '<class 'numpy.float64'>'\n",
       "\twith 909 stored elements in COOrdinate format>, target=0),\n",
       " DataSet(seq=b'RLISEFYPDDSGLFSPLLLNVVKLNPGEAMFLFAETPHAYLQGVALEVMANSDNVLRAGLTPKYIDIPELVANVKFEYPKSPQSKELIKEAILDNDFMKNLEISQIQEIVDCMYPVEYGK', adj=<120x120 sparse matrix of type '<class 'numpy.float64'>'\n",
       "\twith 799 stored elements in COOrdinate format>, target=0),\n",
       " DataSet(seq=b'DSCIIKEGDVGSLVYVMEDGKVEVTKEGVKLCTMGPGKVFGELAILYNCTRTATVKTLVNVKLWAIDRQCFQTIMMRTGLIKHTEYMECLQADICLHLNRTLLQSCKAFKGSSKGCLRALAMKFKTTHAPPGDTLVHAGDVISALYFISRGS', adj=<152x152 sparse matrix of type '<class 'numpy.float64'>'\n",
       "\twith 945 stored elements in COOrdinate format>, target=0),\n",
       " DataSet(seq=b'IEILKGDVVVAILGKNDIFGEPINSYARPGKSSADVRALTYCDLHKIHRDDVLEVLEMYPEFSDYFWSNLEITFNLRSISQLCIPFTLNESELDQLDQIIERKKPIQKGQELFKAGDELRSLYAIRSGTIKSYTITEQGDEQITAFHLAGDLVGFDAITEDQHPSFAQALETSMVCEIPYEILDDLSGKMPKLRQQIMRLMSS', adj=<203x203 sparse matrix of type '<class 'numpy.float64'>'\n",
       "\twith 1201 stored elements in COOrdinate format>, target=0),\n",
       " DataSet(seq=b'EIKGDQEMILLLSKKNSVTEPMSLTTWLDGHRRELQAGTPLSLFGDTYETQVIAHGQGSSKGPRQDVDVWLWQLEGSSVVTMGGQRLSLTPDDSLLVPAGTP', adj=<102x102 sparse matrix of type '<class 'numpy.float64'>'\n",
       "\twith 517 stored elements in COOrdinate format>, target=0),\n",
       " DataSet(seq=b'YDWERAQGSVALSVTQDPARKKMKVRELDIPGTWEITPTLHGDSRGLLFEWLTDHDFTAFAGHRFDVQQANCSVSSAGVLRGLHFAQLPPSQAKYVTCVSGSVFDVVVDIREGSPTFGQWDSVLLDDLEHRSIYISEGLAHGFLALQDNSTVMYLCSAEYSPGREHTICPTDPALGIEWPLVDGAPPTLSARDAAA', adj=<196x196 sparse matrix of type '<class 'numpy.float64'>'\n",
       "\twith 1260 stored elements in COOrdinate format>, target=0),\n",
       " DataSet(seq=b'PTFDEVRAAGLLPGWAATQMAAGFMQWENAFFPWTLNYDEIDMVLEGELHVRHEGQTMIAKAECLQADICLHLNRSLLQHCKPFRGATKGCLRALAMKFKTTHAPPGDTLVHAGDLLTALYFISRGSI', adj=<128x128 sparse matrix of type '<class 'numpy.float64'>'\n",
       "\twith 568 stored elements in COOrdinate format>, target=0),\n",
       " DataSet(seq=b'EILRGDVVVAILGKNDIFGEPLNLYARPGKSNGDVRALTYCDLHKIHRDDLLEVLDMYPEFSDHFWSSLEITFNLRLEQGALQPSFKSVTGKGGIKVIDGSSVKFGRFDGAQPHCVGLTDLVTGDDGSSMAAGF', adj=<134x134 sparse matrix of type '<class 'numpy.float64'>'\n",
       "\twith 745 stored elements in COOrdinate format>, target=0),\n",
       " DataSet(seq=b'MQWENAFFPWTLNYDEIDMVLEGELHVRHEGETMIAKAGDVMFIPKGSSIEFGTTSSVKFLYVAWPANWQVRRV', adj=<74x74 sparse matrix of type '<class 'numpy.float64'>'\n",
       "\twith 478 stored elements in COOrdinate format>, target=0),\n",
       " DataSet(seq=b'PLFESMDERLLDAICERLKPCLFTESTYIVREGDPVDEMLFIIRGRLESV', adj=<50x50 sparse matrix of type '<class 'numpy.float64'>'\n",
       "\twith 381 stored elements in COOrdinate format>, target=0),\n",
       " DataSet(seq=b'TTDGGRSGFFNRGFLKEADFCGEELLTWALDPKAGSNLPSSTRTVKALTEVEAFALTAEELKFVASQFRREGVGARVRRSIGRPELKNLDPFLLFDEFKGGRPGGFPDHPHRGFETVSYLLEGGSMAH', adj=<128x128 sparse matrix of type '<class 'numpy.float64'>'\n",
       "\twith 855 stored elements in COOrdinate format>, target=0),\n",
       " DataSet(seq=b'EDFCGHVGKLDPGDLQWMTAGRGILHAEMPCSEEPAHGLQLWVNLRSSEKMVEPQYLIPAEPGEPYFIEKGMGDRAHLFGDLVTVYAGGPQTENTFNFFTCEGPRGDIIPAHSHPDTYEVFFVTQGAVRLFVEDLRGEQEERLLTAGDFGFVPKNCPHAYRIERHHSQIVGVAAGPGGTFERFFETLGTDTDELGLPQRPVDDLEIIYEELLHIKALSHLSTTVKRELAGVLIFESHPKAGTVLFNQGEEGTS', adj=<253x253 sparse matrix of type '<class 'numpy.float64'>'\n",
       "\twith 1479 stored elements in COOrdinate format>, target=0),\n",
       " DataSet(seq=b'WYIILKGSVNVVIYGKGVVCTLHEGDDFGKLALVNDAPRAASIVLREDNCHFLRVDKEDFNRILRDVEANTVRLKEHDQDVLVPQNYIHTRSTPFWNKQTAPAGIFERHLDKGTRPGVYPRLSVMHGAVKYLGYADEHSSEPDQVILIEAGQFAVFPPEKWHNIEAMTDDTYFNIDFFVAPEVLMEGAISKHDVNAYYQKAGIVLTDDEVEDIQIMDYGLGKLKETGLQLFIYVNTDRYCSKELVLFPRQTCPEHRHPPVGSEKGKQETFRCRWGKVYLYVEGEKTENPSVLPPEEDKEYYTVWHEIV', adj=<308x308 sparse matrix of type '<class 'numpy.float64'>'\n",
       "\twith 1893 stored elements in COOrdinate format>, target=0),\n",
       " DataSet(seq=b'LEPGGQYTIPPDTKHWFQAGEEGAVITEMSSPSTDDHDVFTDPRALAKAIEKNVLFSHLDDNERSDIFDAMFPVPFIAGETVIQQGDEGDNFYVIDQGEMDVYVNNEWATSVGEGGSFGELALIYGTPRA', adj=<130x130 sparse matrix of type '<class 'numpy.float64'>'\n",
       "\twith 808 stored elements in COOrdinate format>, target=0),\n",
       " DataSet(seq=b'ATVKAKTNVKLWGIDRDSYRRILMGSTLRKGYRDDLLANRAIVKHGNFALLTPDGLVKNIIPGFENCDATILSTPKLGASFVDYLVTLHQNGGNQQGFGGEGIETFLYVISGNITAKAEGKTFALSEGGYLYCPPGSLMTFV', adj=<142x142 sparse matrix of type '<class 'numpy.float64'>'\n",
       "\twith 927 stored elements in COOrdinate format>, target=0),\n",
       " DataSet(seq=b'NAQAEDSQIFLYKRRYVPVEGYAPWLVSGNASELERIHYEGMDDVILLDFLPKELGFDMNMHILSFAPGASHGYIETHVQEHGAYILSGQGVYNLDNNWIPVKKGDYIFMGAYSLQAGYGVGRGE', adj=<125x125 sparse matrix of type '<class 'numpy.float64'>'\n",
       "\twith 771 stored elements in COOrdinate format>, target=0),\n",
       " DataSet(seq=b'AFSYIYSKDCNRDVEIMNYTILKFKTINSKNSILNVHQKDVNCPFEIKRIFYIYDFLNDSIRGDHANLNSEFIFIALNGSCEILIDDGQTKQKIILNDKTKG', adj=<102x102 sparse matrix of type '<class 'numpy.float64'>'\n",
       "\twith 585 stored elements in COOrdinate format>, target=0),\n",
       " DataSet(seq=b'LYIDKMIWKQMYNFSKDCILLVLTNTYYDEKEYIYDYKYFCELKNNMAEEFLSRVSILESLDKWERLTV', adj=<69x69 sparse matrix of type '<class 'numpy.float64'>'\n",
       "\twith 418 stored elements in COOrdinate format>, target=0),\n",
       " DataSet(seq=b'ADALEPVAFDDGETIVRQGEPGEDFYIIVEGTAVVLQQRSEGEELTEVGRLGPSDYFGEIALLLDRPRAATVVARGPLKCVKLDRARFERVLGPCADILKRNITQYNSFVSMDEILARAGIFQGVEPSAIAALTKQL', adj=<137x137 sparse matrix of type '<class 'numpy.float64'>'\n",
       "\twith 830 stored elements in COOrdinate format>, target=0),\n",
       " DataSet(seq=b'QPVAFPRGHTVFAEGEPGDRLYIIISGKVKIGRRAPDGRENLLTIMGPSDMFGELSIFDPGPRTSSATTITEVRAVSMDRDALRSWIADRPEISEQLLRVLARRLRRTNNNLADLIFDEIFQPLLERKGLKIERIISNGQASPPGFWYDSPQDEWVMVVSGSAGIECEGDTAPRVMRP', adj=<178x178 sparse matrix of type '<class 'numpy.float64'>'\n",
       "\twith 1041 stored elements in COOrdinate format>, target=0),\n",
       " DataSet(seq=b'GDWLHVPAHCRHRVAWTDGGEPTVWLAVHCDAAYILEVYGAHFELPDLGPIGANGLANPRDFLYPVAWYEDRKVPTGYTVINKYQGKLFGCLRALAMKFKTTHAPPGDTLVHAGDLLTALYFISRGSIEILRGDVVVAILGKN', adj=<143x143 sparse matrix of type '<class 'numpy.float64'>'\n",
       "\twith 677 stored elements in COOrdinate format>, target=0),\n",
       " DataSet(seq=b'DIFGEPLNLYARPGKSNGDVRALTYCDLHKIHRDDLLEVLDMYPEFSDHFWSSLEITFNLRDPKTDDQRNRLQEACKDILLFKNLDPEQMSQVLDAMFEKLVKEGEHVIDQGDDGDNFYVIDRGTYDIYVKCDGVGRCV', adj=<139x139 sparse matrix of type '<class 'numpy.float64'>'\n",
       "\twith 978 stored elements in COOrdinate format>, target=0),\n",
       " DataSet(seq=b'GNYDNRGSFGELALMYNTPRAATITATSPGALWGLDRVTFRRIIVKNNGHANHGWLDSWHTFSFASYHDANFMGFSALRVINEDVIDGGQGFGTHPHKDMEILTYVLSGIVEHQDSMGNKEQIPAGEFQIMSAGTGV', adj=<137x137 sparse matrix of type '<class 'numpy.float64'>'\n",
       "\twith 813 stored elements in COOrdinate format>, target=0),\n",
       " DataSet(seq=b'RHSEYNASESEPLHLYQIWIIPERTGIEPRYDMQKLINAVQNYAWGSHTALTELYGIANPDNLPMAELWMGAHPKSSSQILAADGHPRSLREVIDADKAALLGDKVAARFGELPFLFKVLCAAQPLSIQVHPNKQASEEGFARENAAGIPLSAAERNYKDPNHKPELVFALTPFLAMNAFREFSEIVTLLQPVASAHPAIGAFLQQPDATHLSQLFASLLNMQGEEKAKALQVLRDVLAREQGEPWQTIRLIAEFYPDDSGLFSPLLLNVVKLNPGEAMFLFAETPHAYLQGVALE', adj=<296x296 sparse matrix of type '<class 'numpy.float64'>'\n",
       "\twith 1935 stored elements in COOrdinate format>, target=0),\n",
       " DataSet(seq=b'VMANSDNVLRAGLTPKYIDIPELVANVKFEQADFGWLQARYTFSFGHYFDPKLLGYASLRVLNQEVLAPGASFQPRTYPKVDILNLILEGEAEYRDSDGNHVQAKAGEALQLSTQPGGYREDLLANRAIVKHGNFALLTPDGLVKNIIPGFENCDATILSTPKLGASFVDYLVTLHQNGGNQQGFGGEGIETFLYVISGNITAKAEGKTFALSEGGYLYCPPGSLMTFVNAQAEDSQIFLYKRRYVPVEGYAPWLVSGNASELERIHYEG', adj=<270x270 sparse matrix of type '<class 'numpy.float64'>'\n",
       "\twith 1283 stored elements in COOrdinate format>, target=0),\n",
       " DataSet(seq=b'MDDVILLDFLPKELEICLLTRGRRTASVRADTYCRLYSLSVDNFNEVLEEYPMMRRAFETVAMDRLDRIGKKNSILLRLVATEFSYRKDEEIYGEDEPAEYVYQVVSGAVRTYKLLSDGRRQIGAFHLPGDVFGLESGASHRL', adj=<143x143 sparse matrix of type '<class 'numpy.float64'>'\n",
       "\twith 618 stored elements in COOrdinate format>, target=0),\n",
       " DataSet(seq=b'AAEAIIDTDVRLVKRVSLEKAAGTDVQVARKLWAMTAGELRHAEDHMLLLGRKLPEVYIANAVTEDERYYVPFTETVSSRPLWISPTQNKWCDILMAKQAGLVNRHYHPHEVFAYTISGKWGYLEHEWTATRGDFVYETPGEG', adj=<143x143 sparse matrix of type '<class 'numpy.float64'>'\n",
       "\twith 827 stored elements in COOrdinate format>, target=0),\n",
       " DataSet(seq=b'HTLVAFDHPEPMRAFFIVKGPLIWLDEAGNPDGYFDVHSYIAMCKAHYEKVGLGAQAVEKLFRLFNTLGTVSYDHPDPSIFTVLTSPGAVEGQANVDFVIFPPRW', adj=<105x105 sparse matrix of type '<class 'numpy.float64'>'\n",
       "\twith 584 stored elements in COOrdinate format>, target=0),\n",
       " DataSet(seq=b'MVAENTFRPPWFHRNLMNEFMGLIDGAYDAKAAGFMPGGASLHNCMSAHGPDNASAEKAMAAELKPHKIEHTMAFMFETDRLAMLTPSSPPDPSIMISALPQCRSNSLFEDTASTLRIGVWDSTPYERISRPHKIHELMN', adj=<140x140 sparse matrix of type '<class 'numpy.float64'>'\n",
       "\twith 772 stored elements in COOrdinate format>, target=0),\n",
       " DataSet(seq=b'LIEGSVELSLENGPSLTVNTGDTVFVAQGAPCKWTSTAYVRKFYAVTEEFLSRVSILESLDKWERLTVADALEPVAFDDGETIVRQGEPGEDFYIIVEGTAVVLQQRSEGDEPAEVGRLGPSDYFGEIALLLDRPRAATVVAR', adj=<143x143 sparse matrix of type '<class 'numpy.float64'>'\n",
       "\twith 869 stored elements in COOrdinate format>, target=0),\n",
       " DataSet(seq=b'GPLKCVKLDRARFERVLGPCADILKRNITQYNSFVSKMYDEFLSRVSILESLDKWERLTVADALEPVHFEDSETIVKQGEPGNDFYIIVEGSATVLQQRG', adj=<100x100 sparse matrix of type '<class 'numpy.float64'>'\n",
       "\twith 601 stored elements in COOrdinate format>, target=0),\n",
       " DataSet(seq=b'EGEEPSEVGRLGPSDYFGEIALLLDRPRAATVIARSPLKCVKLDRARFERVLGLCADILKRNITQYNSFVSKALANVFRQMATGAFPPVVETFERNKTIFFPGDPAERVYFLLRGAVKLSRVYEAGEEITVALLRENS', adj=<138x138 sparse matrix of type '<class 'numpy.float64'>'\n",
       "\twith 828 stored elements in COOrdinate format>, target=0),\n",
       " DataSet(seq=b'VFGVLSLLTGNKSDRFYHAVAFTAVELLSSPIEQVEQALKENPELSMLMLRGLSSRILQTEMMDHLQLQEKLAEDIEMIKTSLKNNLVCSTLNDSEILTLSNYMQFFVFKNGDLVIKQGEKGSYFFIVNSGKFDVYVNDK', adj=<140x140 sparse matrix of type '<class 'numpy.float64'>'\n",
       "\twith 885 stored elements in COOrdinate format>, target=0),\n",
       " DataSet(seq=b'KVKTMSKGCSFGEAALIHNTQRSATIIADTDGTLWGVQRSTFRATLKQYMEFLKSVPTFQNLSEEILSKLADVLEETYYEDGEYIIRQGARGDTFFIISKGKVNVTREESSNEEAVFLRTLGKGDWFGEKALQGEDVRTANVIAAETVTCLVIDRDSFKHLIGGLEDVSNKAYEDEGVRFEKLHIEALSENSSNKEIRICMPKGAILDKHKAPGAISVQVLEGKIIFEAKNEKI', adj=<234x234 sparse matrix of type '<class 'numpy.float64'>'\n",
       "\twith 1364 stored elements in COOrdinate format>, target=0),\n",
       " DataSet(seq=b'EMPKGALISLEAQVLHRLDALENSVIRLSKPFNLRSRDPIYSNKLGKFFEITPEKNPQLRDLDIFLSIVDMNEGALLLPHFNSKAIVILVINEGDANIELVGLKEQQQEQQQEEQPLEVRKYRAELSEQDIFVIPAGYPVVVNATSNLNFFAIGINAENNQRNFLAGSQDNVISQIPSQVQELAFPGSAQAVEKLLKNQRESYFEVRRQDFVRNWQLVAAVPLFQKLGSAAFVEIVRALRPRVVPAGAVICRKGEAGDQMFFIVEGRVSIATPSPTPIELGPGSFFGEMALITGEPR', adj=<297x297 sparse matrix of type '<class 'numpy.float64'>'\n",
       "\twith 1854 stored elements in COOrdinate format>, target=0),\n",
       " DataSet(seq=b'SATVSAATEVSLLSLYAEDFQMLSSSNPEIAEVIRKTADERRGMVQAWYMDESAADPRLPHRAQPDRPVGLEQLRTLGVLYWKLDADKYEKDPELEKIRKERNYSWMDIITICKEKLPNYEEKIKMFXEEHLHLDEEIRYILXGSGYFDVRDKEDKWIRISMEKGDMITLPAGIYHRF', adj=<178x178 sparse matrix of type '<class 'numpy.float64'>'\n",
       "\twith 1279 stored elements in COOrdinate format>, target=0),\n",
       " DataSet(seq=b'TLDEKNYVKAMRLFVGEPVWTPYNRPADHFDARVQYVKFLEGRAGHANHGW', adj=<51x51 sparse matrix of type '<class 'numpy.float64'>'\n",
       "\twith 273 stored elements in COOrdinate format>, target=0),\n",
       " DataSet(seq=b'LDSYHTFSFADYHDARFMGFSALRVINEDVIDAGQGFGTHPHKDMEILTYVLSGTVEHQDSMGNKEQIPAGEFQIMSAGSGVRHSEYNASKTVPLHLYQI', adj=<100x100 sparse matrix of type '<class 'numpy.float64'>'\n",
       "\twith 611 stored elements in COOrdinate format>, target=0),\n",
       " DataSet(seq=b'WIIPERSGIEPRYELPETILFLAQIGPDALLRMILRKPPGQRTADDLEIIYDELLHIKALSHLSNTVKRE', adj=<70x70 sparse matrix of type '<class 'numpy.float64'>'\n",
       "\twith 356 stored elements in COOrdinate format>, target=0),\n",
       " DataSet(seq=b'LASVVIFESHAKAGTVLFNQGEEGTSWYIIQKGSVNVVIYGKGVVCTLHEGDDFGKLALVTDSPRAASIVLREDNCHFLRVDKEDFNRILRDVEANGYRDDLLASRSIVRHGNYALLTPDGLVKNIIPGFANCDVTILSTPKLGASFV', adj=<148x148 sparse matrix of type '<class 'numpy.float64'>'\n",
       "\twith 854 stored elements in COOrdinate format>, target=0),\n",
       " DataSet(seq=b'DYLVTLHENGGNQSGFGGDGIETFLYVIKGKITAGAQGKTFALTEGGYL', adj=<49x49 sparse matrix of type '<class 'numpy.float64'>'\n",
       "\twith 368 stored elements in COOrdinate format>, target=0),\n",
       " DataSet(seq=b'YCPPGERMTFSNSHSADSQLFLYKRRYIPTADHAPYLVTGNVSQLERIHYEGMEDVILIDFLPKELGFDMNMHILSFEPGASHGYIETHVQEHGAYILSGQGVYNLDNNWVPVKKGDYIFM', adj=<121x121 sparse matrix of type '<class 'numpy.float64'>'\n",
       "\twith 795 stored elements in COOrdinate format>, target=0),\n",
       " DataSet(seq=b'GAYSLQAGYGVGREAFSYIYSKDCNRDVEIVYVNGELVTNIGEGGSFGELALIYGTPRAATVKAKTDLKLWGIDRDSYRRILMQDLNRNAQAHKGSTFIIGTDGNDLIQGGSGNDYLEGRDGNDTFRDAGGYNII', adj=<135x135 sparse matrix of type '<class 'numpy.float64'>'\n",
       "\twith 570 stored elements in COOrdinate format>, target=0),\n",
       " DataSet(seq=b'LGGKGSNVLDLQHSVNDYSFASDGAGGHANHGWLDSWHTFSFANYYDPNFXGFSALRVINDDVIEAGQGFGTHPHKDXEILTYVLEGTVEHQDSXGNKEQVPAGEFQIXSAGTGIRHSEYNPSSTERLHLYQIWIXP', adj=<137x137 sparse matrix of type '<class 'numpy.float64'>'\n",
       "\twith 722 stored elements in COOrdinate format>, target=0),\n",
       " DataSet(seq=b'EENGITPRYESYTITEQGDEQITGFHLAGDLVGFDAIGSGHHPSFAQALETSMVCEIPFETLDDLSGKMPNLRQQMMRLMSGEIKGDQDMILLLSKKNSNPHPLQDFCVADLDGKAVSVNGHMCKPMSEAGDDFLFSSKLAKAGN', adj=<145x145 sparse matrix of type '<class 'numpy.float64'>'\n",
       "\twith 518 stored elements in COOrdinate format>, target=0),\n",
       " DataSet(seq=b'TSTPNGSAVTDLNVAEWPGTNTLGVSMNRVDFAPGGTNPPHIHPRATEIGIVMKGELLVGILGSLDSGNKLYSRVVRAGETFLIPRGLMHFQFNVGKTEASMVVFFNSQSPSVVFVPLTLFGSNPPIPKPVLTKALRVEAGVVELLK', adj=<147x147 sparse matrix of type '<class 'numpy.float64'>'\n",
       "\twith 967 stored elements in COOrdinate format>, target=0),\n",
       " DataSet(seq=b'SKFAGGSHFEKLEKEETRQLLAQQKSASQSDLHDEEVSPSLPNPVVKARHRRGGVSAEVYTEEDAVSYVRKVIPKDYKTMTALAKAISKNVLFAHLDDSERSDIFDAMFPVTHIAGETVIQQGDEGDNFYVIDQGEVDVYVNGEWVTSISE', adj=<151x151 sparse matrix of type '<class 'numpy.float64'>'\n",
       "\twith 581 stored elements in COOrdinate format>, target=0),\n",
       " DataSet(seq=b'GGSFGELALIYGTPRAATVKAKTDLKVWGIDRDSYRRILMGSTLRKRKMYEEFLSKVSILESLDKWERLTVADALEPVQFEDGQKIVVQGEPGDEFFIILEGTAAVLQRRSENEEFVEVGRLGPSDYFGEIALLMNRPRAATVVSRGPLK', adj=<150x150 sparse matrix of type '<class 'numpy.float64'>'\n",
       "\twith 965 stored elements in COOrdinate format>, target=0),\n",
       " DataSet(seq=b'CVKLDRPRFERVLGPCSDILKRNIQQYNSFRKMFESFIESVPLFKSLEMSERMKIVDVIGEKIYKDGERIIAQGEKADSFYIIESGEVSILIRSKTKSNKNGGNQEVEIAHCHKGQYFGELALVTNKPRAASAYGVGDVKCL', adj=<142x142 sparse matrix of type '<class 'numpy.float64'>'\n",
       "\twith 868 stored elements in COOrdinate format>, target=0),\n",
       " DataSet(seq=b'VMDVQAFERLLGPCMDIMKRNISHYEEQLVKMFGSNAEWICCLDKRPSERSGEDVDIILTRLREVK', adj=<66x66 sparse matrix of type '<class 'numpy.float64'>'\n",
       "\twith 376 stored elements in COOrdinate format>, target=0),\n",
       " DataSet(seq=b'AFQRFPPPLLLQICACAFYECLEKGITLFRQGDIGTSWYAVLSGSLDVKVSETANHQDAVTICTLGIGTAFGESILDNTPRHATIVSRETSELLRIEQREFKTLWEKYRQSLAALLAFGKLALVNDAPRAASIVLREDNCHFL', adj=<143x143 sparse matrix of type '<class 'numpy.float64'>'\n",
       "\twith 785 stored elements in COOrdinate format>, target=0),\n",
       " DataSet(seq=b'RVDKEDFNRILRDVEANLDADKYENDPELEKIRKEKNYCWMDIITICKDKLPNYEEKIKMFYEEHLHLDDEIRYILDGSGYFDVRDKEDMWIRIFMEKGDMITLPAGIYHRFTLDETNYVK', adj=<121x121 sparse matrix of type '<class 'numpy.float64'>'\n",
       "\twith 708 stored elements in COOrdinate format>, target=0),\n",
       " DataSet(seq=b'AMRLFVGEPVWTPYNRPADHFEIRGQYLQFLAQMNVIKTEIPDVLIFEPKVFGDERGFFMESFNQKVFEEAVGRKVEFVQDNHSKSSKGVLRGLHYQLEPYAQGKLVRCVVGEVFDVAVDIRKSSPTFGKWVGVNLSAENM', adj=<141x141 sparse matrix of type '<class 'numpy.float64'>'\n",
       "\twith 515 stored elements in COOrdinate format>, target=0),\n",
       " DataSet(seq=b'MIVIKTAIPDVLILEPKVFGDERGFFFESYNQQTFEELIGRKVTFVQDNHSKSKKNVLRVLHFQRGENAQGKLVRCAVGEVFDVAVDIRKESPTFGQWVGVNLSAENKRQLWIPEGFAHGFVTLSEYAEFLYKATNYYSPSSEGSIL', adj=<147x147 sparse matrix of type '<class 'numpy.float64'>'\n",
       "\twith 984 stored elements in COOrdinate format>, target=0),\n",
       " DataSet(seq=b'WNDETIGIEWPFSQLPELSAKDAAAPLLHQALLTFGENPCIYTTLGKSNSNVRALTYCDLHKIHREDLLDVLDLYPEFYESFINNLEITYNMMRVLNQEVLAPGASFQPRTYPKVDILNLILDGEAEYRDSDGNHVQAKAGEA', adj=<143x143 sparse matrix of type '<class 'numpy.float64'>'\n",
       "\twith 528 stored elements in COOrdinate format>, target=0),\n",
       " DataSet(seq=b'LLLAAQPGISYSEHNMKVRELAIAGAWEITPTIHGDSRGFFFEWFTDRGFTGFAGHRLNVRQANCSVSSAGVLRGLHFAQVPPSQAKYVTCPSGSVFDVVVDVRVGSPTFGQWDSVLLND', adj=<120x120 sparse matrix of type '<class 'numpy.float64'>'\n",
       "\twith 759 stored elements in COOrdinate format>, target=0),\n",
       " DataSet(seq=b'TDRRTIYISEGLAHGFLALESNSTVMYMCSSEYNPEREHTISAMDPTLAIDWPLLDGVAVSLSDRDAAAPSFEEVRQSGVLPT', adj=<83x83 sparse matrix of type '<class 'numpy.float64'>'\n",
       "\twith 523 stored elements in COOrdinate format>, target=0),\n",
       " DataSet(seq=b'WDETQKKTETLYYIVKGSVAVLIKDEEGKEMILSYLNQGDFIGELGLFEEGQERSAWV', adj=<58x58 sparse matrix of type '<class 'numpy.float64'>'\n",
       "\twith 321 stored elements in COOrdinate format>, target=0),\n",
       " DataSet(seq=b'RAKTACEVAEISYKKFRQLIQVNPDILMRLSSQMARRLQVTSEKVGNLAFLDVTGRIVHETLSRAGIFQGVDPVAVENLTKDMETVRFPRGATIFDEGEPGDRLYIIISGKVKLARHASDGR', adj=<122x122 sparse matrix of type '<class 'numpy.float64'>'\n",
       "\twith 667 stored elements in COOrdinate format>, target=0),\n",
       " DataSet(seq=b'ENLLSVMGPSDMFGELSIFDPGPRTSSAVCVTEVQAATMNSEMLKNWIEEYPSISQQLLRVLARRLRRTNASLADLIFMNEHELDQLDNIIERKKPIQKSQV', adj=<102x102 sparse matrix of type '<class 'numpy.float64'>'\n",
       "\twith 555 stored elements in COOrdinate format>, target=0),\n",
       " DataSet(seq=b'LFKAGDELASLYAIRSGTIKSYTISETGEEQITSFHLPGDLVGFDAIMNMQHPSFAQALETSMVCEIPFDILDDLSGKM', adj=<79x79 sparse matrix of type '<class 'numpy.float64'>'\n",
       "\twith 488 stored elements in COOrdinate format>, target=0),\n",
       " DataSet(seq=b'PKLRQQIMRLMSNEIKSDQEMILLLSKADLLPLAQ', adj=<35x35 sparse matrix of type '<class 'numpy.float64'>'\n",
       "\twith 177 stored elements in COOrdinate format>, target=0),\n",
       " DataSet(seq=b'RSGELVPVGRGGERRAIGLANPGLGGHAYVSPTLWAAIQYLGPRETAPEHRHAQNAFRFVVEGEGVWTVVNGDPVRMSRGDLLLTPGWHFHGHHNDTDKPMAWIDGLDIPFAQHNDVGFFEFGSDRVT', adj=<128x128 sparse matrix of type '<class 'numpy.float64'>'\n",
       "\twith 949 stored elements in COOrdinate format>, target=0),\n",
       " DataSet(seq=b'DYATPRFSRGERLWCHPGLRPLSGLRDTVSSPIGAYRWEHTDRALTEQLLLEEEGQPATVEQGHAAIRYVNPTNGGDVMPTIRCEFHRLRAGTTTPKRREVGS', adj=<103x103 sparse matrix of type '<class 'numpy.float64'>'\n",
       "\twith 648 stored elements in COOrdinate format>, target=0),\n",
       " DataSet(seq=b'SVFQVFEGKGAVVIDGVTHKLDIGDLFVIPSWVPWSLQAETQFDLFRFSDAPIMERLNFARAHVELENFMVINAVAFDHADPSIFTVLTAKSLRPGVAIADFVIFPPRWGVADKTFRPPYYHR', adj=<123x123 sparse matrix of type '<class 'numpy.float64'>'\n",
       "\twith 731 stored elements in COOrdinate format>, target=0),\n",
       " DataSet(seq=b'NCMSEFMGLIEGHYEAKQSGFLPGGGSLHSAMTPHGPDADCFEKASKAKLAPERTADGTMAFMFESSIPQPIRGEEGAETKIPHNVERDRQNPDMLVPPETDHGTVPNMKFSFSDVHNRLEKGGYAREVTVRELPISDKLASVNMRLKPGAIREL', adj=<155x155 sparse matrix of type '<class 'numpy.float64'>'\n",
       "\twith 746 stored elements in COOrdinate format>, target=0),\n",
       " DataSet(seq=b'HWHKEAEWAYMLYGKARITSVDQDGRNFIEDVKEGDLWYFPSGLPHSIQALEDGCEFLLVFDDGSFSENSTFQVTDWLAHTPDEVIAANFGISKDVVASLPDEEKYIFQEAIPGPLREEIVNFNCRKLVA', adj=<130x130 sparse matrix of type '<class 'numpy.float64'>'\n",
       "\twith 764 stored elements in COOrdinate format>, target=0),\n",
       " DataSet(seq=b'SMPLFANADPNFVTAMLTKLRFEVFQPTDYVVREGTIGKKMYFIQHGVVTVLTKGSVGMKLMDGSYFGAEICLLTRGRRTASVRSDTYCRLYSLSVDNFNEVLEEYPMMRRAFETVAIDRLDRGVQEILSRAGIFQGVDTQAVNNLIKDMETVRFPRGTTIFDEGEPGDRLYIITSGKVKLARHASDGRENLLTVMGPSDMFGELSIFDPGPR', adj=<213x213 sparse matrix of type '<class 'numpy.float64'>'\n",
       "\twith 1354 stored elements in COOrdinate format>, target=0),\n",
       " DataSet(seq=b'TSSAVCVTEVQAATMNSEMLRDWVGNHPEIAEQLLRVLARRLRRTNASLADLIFMFSKEIADVSERRGYKAYDVISLSNSTPNLDELLINFQKEHHHTDDEVRFIVSGHGIFAIEGKDGRFFDVELEPGDLISVPENARHYFTL', adj=<144x144 sparse matrix of type '<class 'numpy.float64'>'\n",
       "\twith 830 stored elements in COOrdinate format>, target=0),\n",
       " DataSet(seq=b'QDDRQVVAIRIFVTTEGWVPIYDELRADVAMHLNKDILQLPIFETASRGCLRSLSLHI', adj=<58x58 sparse matrix of type '<class 'numpy.float64'>'\n",
       "\twith 282 stored elements in COOrdinate format>, target=0),\n",
       " DataSet(seq=b'KTSFCAPGEYLLRQGDALQANYFVCSGSLEVLKDNVVLAILERMIDASKGIFVPRGVANGFQVLSDTVSYSYLVNDYWALELKPKYAFVNYADPTLGIKWEDVENAEVSEADKNHPLLKDVKA', adj=<123x123 sparse matrix of type '<class 'numpy.float64'>'\n",
       "\twith 296 stored elements in COOrdinate format>, target=0),\n",
       " DataSet(seq=b'LKADELLDKLLAHCHRRRYTAKSTIIYAGDRCETLFFIIKGSVTILIEDDDGREMIIGYLNSGDFFGELGLFEKEGSEQERSAWVRAKVECEVAEISYAKFRELSQQDSEILYTLGSQMADRLRKTTRKVGDLAFLDVTGRVDIPQPIRGDKGATVKIPRNIERDRQNPDMLVPPETDHGTVSNMKFSFSDTHNRLEKGGYAREVTVRELPISENLASVNMRLKPGAIRELHWHKEAEWAYMIYGSARVTIVDEKGRSFIDDVGEGDLFYFPSGLPHSIQALEEGAEFLLVFDDG', adj=<295x295 sparse matrix of type '<class 'numpy.float64'>'\n",
       "\twith 1684 stored elements in COOrdinate format>, target=0),\n",
       " DataSet(seq=b'SFSENSTFQLTDWLAHTPKEVIAANFGVTKEEISNLPGKEKYIFENQLPGMMIVIKTAIPDVLILEPKVFGDERGFFFESYNQQTFEESIGRKVTFVQDNHSKSKKNVLRGLHFQRGENAQGKLVRCAVGEVFDVAVDIRKESPTFGQWVGVNLSAENKRQLWIPEGFAHGFVTLSDYAEFLYKATNYYSPSSEGSILWNDETIGIEWSFRRFNTIGTVSFDHPDPSIFTVLTSPSAIHGMANIDFVIFPPRWMVAENTFRPPWFHRNLMNEFMGLIDGAYDAKADGFSPGGASL', adj=<295x295 sparse matrix of type '<class 'numpy.float64'>'\n",
       "\twith 1656 stored elements in COOrdinate format>, target=0),\n",
       " DataSet(seq=b'HNCMSAHGPDHVSTEQAINAELKPHKIENTMAFMFETNIPQPIRGDKVATVTIPRNLERDRQNPDMLTPPETDHGTVDNMKFSFSDVHNRLEKGGYAREVTVRELPISENLASVNMRLKPGAIRELHW', adj=<128x128 sparse matrix of type '<class 'numpy.float64'>'\n",
       "\twith 667 stored elements in COOrdinate format>, target=0),\n",
       " DataSet(seq=b'HKEAEWAYMLTGKARVTIVDEQGRSFIDDVKEGDLWYFPSGLPHSIQALKEGCEFLLV', adj=<58x58 sparse matrix of type '<class 'numpy.float64'>'\n",
       "\twith 383 stored elements in COOrdinate format>, target=0),\n",
       " DataSet(seq=b'FDDGSFSENSTFQVTDWLAHTPLDVIANNFGVSEKDLAGLPGKEKYIFEEPVPGDPLREEIVNFNCRKLVATMPLFANADPNFVTAMLSKLRFEVFQPGDYIIREGAVGKKMYFIQH', adj=<117x117 sparse matrix of type '<class 'numpy.float64'>'\n",
       "\twith 526 stored elements in COOrdinate format>, target=0),\n",
       " DataSet(seq=b'GVAGVITKSSKEMKLTDGSYFGMPDTEGRWSTTRFVDMSDMRHDMHVNIVNFEPGGVIPFAETHVMEHGLYVLEGKAVYRLNQDWVEVEAGDFMWLRAFCPQACYS', adj=<106x106 sparse matrix of type '<class 'numpy.float64'>'\n",
       "\twith 580 stored elements in COOrdinate format>, target=0),\n",
       " DataSet(seq=b'GGPGRFRYLLYKDVNRHMRLAEWVECLDKRPAERSAEDLDIILTRLKGFKAFQRFHPSLLLQICSCAFYEYLGKGITLFRQGDIGTSWYAVLSGS', adj=<95x95 sparse matrix of type '<class 'numpy.float64'>'\n",
       "\twith 572 stored elements in COOrdinate format>, target=0),\n",
       " DataSet(seq=b'LDVKVSETANHQDAVTICTLGIGTAFGESILDNTPRHATIVSRETSELLRIDQREFKSLWEKYRQCMAGLLALKEFPDYYKHVKKQTYTMNEKIIFEEEKAKHIFFVLEGYAAVEL', adj=<116x116 sparse matrix of type '<class 'numpy.float64'>'\n",
       "\twith 680 stored elements in COOrdinate format>, target=0),\n",
       " DataSet(seq=b'EDNLRKTNYISIFVLPYNILGIDAFSTYPKKKHSITVMSESLALYKIDADFLLNILSVKPDVNDFLLTSIADVFARKAEDRGHANHGWLDSWHTFSFADYYDPNFMGFSALRVINEDVIDAGQGFGTH', adj=<128x128 sparse matrix of type '<class 'numpy.float64'>'\n",
       "\twith 638 stored elements in COOrdinate format>, target=0),\n",
       " DataSet(seq=b'PHKDMEILTYVLSGTVEHQDSMGNKEQIQAGEFQIMSAGTGVRHSEYNANQDRPLHLYQIWIIPDQVGLEPRYSISQLCIPFTLNEHELDQLDNIIERKKPIQKGQTLFKAGDELKSLYAIRSGTIKSYTITEQGDEQITGFHLAGDLVGFDAIGTGLHPS', adj=<161x161 sparse matrix of type '<class 'numpy.float64'>'\n",
       "\twith 935 stored elements in COOrdinate format>, target=0),\n",
       " DataSet(seq=b'FAQALETSMVCEIPFETLDDLSGKMPNLRQQMMRLMSGEIKGDQDMILLLSKKNAEERLAAFIYIPVGRGGERRAIGLANPGLGGNAYISPTLWAAIQYLGPRETAPEHRHSQNAFRFVIEGEGVW', adj=<126x126 sparse matrix of type '<class 'numpy.float64'>'\n",
       "\twith 823 stored elements in COOrdinate format>, target=0),\n",
       " DataSet(seq=b'TVVNGDPVRMSRGDLLLTPGWHFHGHHNDTDQ', adj=<32x32 sparse matrix of type '<class 'numpy.float64'>'\n",
       "\twith 272 stored elements in COOrdinate format>, target=0),\n",
       " DataSet(seq=b'PMAWIDGLDIPFSQQNDVGFFEFGAERVTDYATPRFSQ', adj=<38x38 sparse matrix of type '<class 'numpy.float64'>'\n",
       "\twith 233 stored elements in COOrdinate format>, target=0),\n",
       " DataSet(seq=b'SERLWCHPGLRPLSGIKDTVHSPIAAYRWEHTDRALTEQLLLEEEGQPATVEQ', adj=<53x53 sparse matrix of type '<class 'numpy.float64'>'\n",
       "\twith 292 stored elements in COOrdinate format>, target=0),\n",
       " DataSet(seq=b'GHAAIRYVNPTTGGDVMSTIRCEFHRLRAGTEPA', adj=<34x34 sparse matrix of type '<class 'numpy.float64'>'\n",
       "\twith 263 stored elements in COOrdinate format>, target=0),\n",
       " DataSet(seq=b'TRREVGSSVFQVFQGSGSVVLDGVIHRLEIGD', adj=<32x32 sparse matrix of type '<class 'numpy.float64'>'\n",
       "\twith 214 stored elements in COOrdinate format>, target=0),\n",
       " DataSet(seq=b'IFVIPSWVPWTLYAETQFDLFRFSDAPIMERLHF', adj=<34x34 sparse matrix of type '<class 'numpy.float64'>'\n",
       "\twith 259 stored elements in COOrdinate format>, target=0),\n",
       " DataSet(seq=b'ARTHVEEVRRQDFVRNWQLVAAVPLFQKLGSA', adj=<32x32 sparse matrix of type '<class 'numpy.float64'>'\n",
       "\twith 203 stored elements in COOrdinate format>, target=0),\n",
       " DataSet(seq=b'ALIEIVRALRSRVVPAGGIICRKGEAGDQMFF', adj=<32x32 sparse matrix of type '<class 'numpy.float64'>'\n",
       "\twith 272 stored elements in COOrdinate format>, target=0),\n",
       " DataSet(seq=b'IVEGRVSVATPNPVELGSGSFFGEMALISGEPRSATVSAATEVSLLSLYSSDFQMLSSSSPEIADI', adj=<66x66 sparse matrix of type '<class 'numpy.float64'>'\n",
       "\twith 568 stored elements in COOrdinate format>, target=0),\n",
       " DataSet(seq=b'IRKTALERRGDLPGFTRSVYKRDHALITPESHVFSPLPEW', adj=<40x40 sparse matrix of type '<class 'numpy.float64'>'\n",
       "\twith 216 stored elements in COOrdinate format>, target=0),\n",
       " DataSet(seq=b'TMTLGAYLITPAMGSHFVMYLAKMQENSLSGLPPYDAERFIFVVQGAVTLTNVSGISHKLTVDSYA', adj=<66x66 sparse matrix of type '<class 'numpy.float64'>'\n",
       "\twith 460 stored elements in COOrdinate format>, target=0),\n",
       " DataSet(seq=b'YLPPNVDHSLKCDGSATLVVFERRHASLENQP', adj=<32x32 sparse matrix of type '<class 'numpy.float64'>'\n",
       "\twith 215 stored elements in COOrdinate format>, target=0),\n",
       " DataSet(seq=b'TEQIVGSTDQQPLLETPGEVFQLRKLIPTSIPYDFNIHIMDFQPGEYLNVKEV', adj=<53x53 sparse matrix of type '<class 'numpy.float64'>'\n",
       "\twith 300 stored elements in COOrdinate format>, target=0),\n",
       " DataSet(seq=b'HYNQHGLLLLEGQGIYRLGDSWYPVQAGDAIW', adj=<32x32 sparse matrix of type '<class 'numpy.float64'>'\n",
       "\twith 251 stored elements in COOrdinate format>, target=0),\n",
       " DataSet(seq=b'MAPFVPQWYAALGKSRSRYLLYKDVNRNPLGKKM', adj=<34x34 sparse matrix of type '<class 'numpy.float64'>'\n",
       "\twith 236 stored elements in COOrdinate format>, target=0),\n",
       " DataSet(seq=b'YFIQHGVLSVLTKGNKEMKLSDGSYFGEICLLTRGRRTASVRADTYCRLYS', adj=<51x51 sparse matrix of type '<class 'numpy.float64'>'\n",
       "\twith 307 stored elements in COOrdinate format>, target=0),\n",
       " DataSet(seq=b'LSVDNFNEVLEEYPMMRRAFETVAIDRVTRGTTWVEDLNR', adj=<40x40 sparse matrix of type '<class 'numpy.float64'>'\n",
       "\twith 192 stored elements in COOrdinate format>, target=0),\n",
       " DataSet(seq=b'NAEKHSGPTFIVGSDSNDLIKGGTGNDYLEGRTDNFFGKTLAARKVEAIPG', adj=<51x51 sparse matrix of type '<class 'numpy.float64'>'\n",
       "\twith 189 stored elements in COOrdinate format>, target=0),\n",
       " DataSet(seq=b'MLEFDIPVHGDNRGWFKKNFQKEKMLPLGFPESFFAE', adj=<37x37 sparse matrix of type '<class 'numpy.float64'>'\n",
       "\twith 218 stored elements in COOrdinate format>, target=0),\n",
       " DataSet(seq=b'GKLQNNVSFSRKNVLRGLHAEPWDKYISVADGGKVLGSWVDLREGETFGNTYQ', adj=<53x53 sparse matrix of type '<class 'numpy.float64'>'\n",
       "\twith 392 stored elements in COOrdinate format>, target=0),\n",
       " DataSet(seq=b'TVIDASKGIFVPRGVANGFQVLSDTVSYSYLVNDYWALELKPKYAFVNYAD', adj=<51x51 sparse matrix of type '<class 'numpy.float64'>'\n",
       "\twith 378 stored elements in COOrdinate format>, target=0),\n",
       " DataSet(seq=b'PSLGIEWENIAEAEVSEA', adj=<18x18 sparse matrix of type '<class 'numpy.float64'>'\n",
       "\twith 69 stored elements in COOrdinate format>, target=0),\n",
       " DataSet(seq=b'DKNHPLLKDVKPLKKEDLSPEEVGVEHRGKGRNQRLVHNILPDSGEADCLLVVEVYTEEGATSSWP', adj=<66x66 sparse matrix of type '<class 'numpy.float64'>'\n",
       "\twith 342 stored elements in COOrdinate format>, target=0),\n",
       " DataSet(seq=b'AHKHDTPVPGKETQLEETYYHRFDPPQGFAFQRVYTDDRSLDVCMAPYNNDVVM', adj=<54x54 sparse matrix of type '<class 'numpy.float64'>'\n",
       "\twith 341 stored elements in COOrdinate format>, target=0),\n",
       " DataSet(seq=b'VPRGYHPVAAIAGYDSYYLNVMAGPERQ', adj=<28x28 sparse matrix of type '<class 'numpy.float64'>'\n",
       "\twith 200 stored elements in COOrdinate format>, target=0),\n",
       " DataSet(seq=b'WLFTWEEDHAW', adj=<11x11 sparse matrix of type '<class 'numpy.float64'>'\n",
       "\twith 60 stored elements in COOrdinate format>, target=0),\n",
       " DataSet(seq=b'INSINEILGHTRQFFSMHDVHLPPFASFPPTKWQQLDQ', adj=<38x38 sparse matrix of type '<class 'numpy.float64'>'\n",
       "\twith 181 stored elements in COOrdinate format>, target=0),\n",
       " DataSet(seq=b'AAWQEVFDLRLGWDVTAFGGNHFAAQGLTLFTLRNGSPNG', adj=<40x40 sparse matrix of type '<class 'numpy.float64'>'\n",
       "\twith 253 stored elements in COOrdinate format>, target=0),\n",
       " DataSet(seq=b'VPYEKCYAEKIMHVRDGQVTPMHFHWRKREDIINRGGGNLIIELLNAGAHEETENTDVIVTID', adj=<63x63 sparse matrix of type '<class 'numpy.float64'>'\n",
       "\twith 472 stored elements in COOrdinate format>, target=0),\n",
       " DataSet(seq=b'GCRQTHAPGSQLRLTPGESICLTPGLYHSFWGERGFGDVL', adj=<40x40 sparse matrix of type '<class 'numpy.float64'>'\n",
       "\twith 271 stored elements in COOrdinate format>, target=0),\n",
       " DataSet(seq=b'VGEVSSVNDDEHDNHFLQPIDRYNTIEEDEPASISQLCIPFTLNEHELDQLDNIIERKKPIQKGQTLFKAGDELKSLYAIRSGTIKSYTITEQGDEQITGFHLAGDLVGFDAIGRGHHPSFAQALETSMVCEIPFETLDDLSGKMPNLRQQMMRLMSGEIKGDQDMILLLSKKNPSGDAAFLLIWTTHTVPADNNDETDGRARDAGLTLNQGS', adj=<213x213 sparse matrix of type '<class 'numpy.float64'>'\n",
       "\twith 1092 stored elements in COOrdinate format>, target=0),\n",
       " DataSet(seq=b'VIRIVDMLPGKQSPMHRTNSIDYGIVMAGEIELELDDGRVTTVREGGIIIQRGTNHLWRNVSDKPCRIAFILIEAPAYLHDGQPLAEECLQADICLHLHRALLQHCPAFSGASKGCLRALAVKFKTTHAPPGDTLVHLGDVLSTLYFISRGSIEILRDDVVVAILGKNDIFGEPVSLHARPGKSSADVRALTYCDLHKIQRADLLEVMDMYPA', adj=<213x213 sparse matrix of type '<class 'numpy.float64'>'\n",
       "\twith 1246 stored elements in COOrdinate format>, target=0),\n",
       " DataSet(seq=b'FADSFWSKLEVTFNLRSISQLCIPFTLNESELDQLDEIIERKKPIQKGQELFKAGDELRSLYAIRSGTIKSYTITEQGDEQITAFHLAGDLVGFDAITDAEHPSFAQALETSMVCEIPYEILDDLSGKMPKLRQQIMRLMSNEIKGDQEMILLLSKKNTDNFFGKTLAVRKIDAIPGLLEFDIPVHGDNRGWFKENFQKEKMVPLGFPESFFA', adj=<213x213 sparse matrix of type '<class 'numpy.float64'>'\n",
       "\twith 1197 stored elements in COOrdinate format>, target=0),\n",
       " DataSet(seq=b'EGKLQNNVSFSRKNVLRGLHAEPWDKYIS', adj=<29x29 sparse matrix of type '<class 'numpy.float64'>'\n",
       "\twith 203 stored elements in COOrdinate format>, target=0),\n",
       " DataSet(seq=b'VADNGKVIGSWVDLREGETFGNVYQTEIDASKGIFVPRGVANGFQVLSDTVSYSYLVNDYWALELKPKYAFVNYSDPELGIEWENLEEAEVSEADKHHPLLKDVKPLKKEDLENYFPLWNDLNTAQKKLISDNLITQHVKKGTIIHNGNMDCTGLLLIKSGQLRTYILSDEGREITLYRLFDMDMCLLSASCIMRSIQFEVTIEAEKDTDLWI', adj=<213x213 sparse matrix of type '<class 'numpy.float64'>'\n",
       "\twith 1320 stored elements in COOrdinate format>, target=0),\n",
       " DataSet(seq=b'IPAEIYKGIMKESAPVANYTNELMATRFSDVMWLIEQIMWKSVDDLEIIYEELLHIKALSHLSTTVKRELAGVLVFESHAKGGTVLFNQGEEGTSWYIILKGSVNVVIYGKGVVCTLHEGDDFGKLALVNDAPRAASIVLREDNCHFLRVDKEDFNRILRDVEANTVRGPQQLLASPDGAQDSLQLRQQVWIHHLDLAKGERINVQLHGPRAY', adj=<213x213 sparse matrix of type '<class 'numpy.float64'>'\n",
       "\twith 1239 stored elements in COOrdinate format>, target=0),\n",
       " DataSet(seq=b'LQSIHGTVHAVAHEEEKQALTCGDGAFIRDEANITLVADTPLRALLIDLPVKRKTYELFIESVPLLKSLEASERMKIVDVIGEKVYQDGERIIAQGDKADCFYIVESGEVKILIKSKTMTSKEANQEVEIARCHRGQYFGELALVTNKPRAASAYAVGEVKCLVMDVQAFERLLGPCMDIMKRNITHYEEQLVAMFGSSPLKEEIINFNCRKL', adj=<213x213 sparse matrix of type '<class 'numpy.float64'>'\n",
       "\twith 1302 stored elements in COOrdinate format>, target=0),\n",
       " DataSet(seq=b'VASMPLFANADPNFVTSMLTKLRFEVFQPGDYIIREGTIGKKMYFIQHGVVSVLTKGNKETKLADGSYFGEICLLTRGRRTASVRADTYCRLYSLSVDNFNEVLEEYPMMRRAFETVALDRLDRPECLQADICLHLNRTLLQNCKAFRGASKGCLRALAMKFKTTHAPPGDTLVHYGDVLTTLYFISRGSIEILREDIVVAILGKNDIFGEPI', adj=<213x213 sparse matrix of type '<class 'numpy.float64'>'\n",
       "\twith 1343 stored elements in COOrdinate format>, target=0),\n",
       " DataSet(seq=b'SLYARPGKSNADVRALTYCDLHKIQREDLLEVLDMYPAFSDNFWSNLEITFNLRSEQFFDKELACRKIEAIPGLLEFDIPVRGDNRGWFKENFQKEKMVPLGF', adj=<103x103 sparse matrix of type '<class 'numpy.float64'>'\n",
       "\twith 595 stored elements in COOrdinate format>, target=0),\n",
       " DataSet(seq=b'PESFFEEGKLQNNVSFSRKHVLRGLHAEPWDKYISVADGGKVLGTWVDLREGETFGNTYQTIIDASKGIFVPRGVANGFQVLSDFVAYSYLVNDYW', adj=<96x96 sparse matrix of type '<class 'numpy.float64'>'\n",
       "\twith 720 stored elements in COOrdinate format>, target=0),\n",
       " DataSet(seq=b'ALELKPKYAFVNYADPSLGIEWENLAEAEVSEADKNHPLLKDVKPLRAEDLMQKLINSVQNYAWGSKTALTELYGMENPSSQPMAELWMGAHPKSSSRVHDAAGDIVSLSDVIESDKATLLGDAVAKRFGELPFLFKVLCAAQPLSIQVHPNKRNSEIGFAKENAAGIPMDAAERNYKDPN', adj=<181x181 sparse matrix of type '<class 'numpy.float64'>'\n",
       "\twith 1016 stored elements in COOrdinate format>, target=0),\n",
       " DataSet(seq=b'HKPELVFALTPFLAMNAFREFSEIVSLLQPVAGAHPAIAHFLQQPDAERLSELFASLLNMQGEEKSRALAILKSALDSQQGEPWQTIRLISEFYPEDSGLFSPLLLNVVKLNPGEAMFLFAETPHAYLQGVALEVMANSDNVLRAGLTPKYIDIPELVANVKFESALTLFSVTDPQTPVW', adj=<180x180 sparse matrix of type '<class 'numpy.float64'>'\n",
       "\twith 1241 stored elements in COOrdinate format>, target=0),\n",
       " DataSet(seq=b'HSTDASAIQAQLNAKGVRFERWQADRDLGANPSPETVIAAYQHEIDKLVAEKGYQSWDVISLRADNPQKEALREKFLNEHTHGEDEVRFFVEGAGLFCLHIGDEVFQVLCEKNDLISVPAHTPHWFDMGSEPNFTAIRIFMDEILARAGISQGVEPTAVSALTKQLQPVDFPRGHTVFAE', adj=<180x180 sparse matrix of type '<class 'numpy.float64'>'\n",
       "\twith 1225 stored elements in COOrdinate format>, target=0),\n",
       " DataSet(seq=b'GEPGDRLYIIISGKVKIGRRSPDGRENLLTIMGPSDMFGELSIFDPGPRTSSATTITEVRAVSMDRDALRAWIADRPEIAEQLLRVLARRLRRTNNNLADLTEYMEFLKSVPTFHDLQEDILSKLADVLEETHYEEGEYIIRQGARGDTFFIISKGKVNVTREDLPNGEPVYLHSLGKGDW', adj=<181x181 sparse matrix of type '<class 'numpy.float64'>'\n",
       "\twith 1096 stored elements in COOrdinate format>, target=0),\n",
       " DataSet(seq=b'FGEKALQGEDIRTANVIAAEAVTCLVIDRDSFKHLIGGLEDVSNKGHEDPLREEIVNFNCRKLVASMPLFANAEPNFVTAMLTKLRFEVFQPHDYIIREGTIGKKMYFIQHGVCSVITKGTLAMKLSDGSYFGEICLLTRGRRTASVRAETYCRLYSLSVDNFNEVLEEYPMMRRAFETV', adj=<180x180 sparse matrix of type '<class 'numpy.float64'>'\n",
       "\twith 1139 stored elements in COOrdinate format>, target=0),\n",
       " DataSet(seq=b'AIDRLDRRKMYEEFLSKVSILESLDKWERLTVADALEPVQFEDSQKIVVQGEPGDEFFIILEGCAAVLQRRSENEEFVEVGRLGPSDYFGEIALLMNRPRAATVVARGPLKCVKLDRPRFERVLGPCSDILKRNIQQYNSFNYQEIRPLLMESGNVIGAKEAIRRVLVLENPALRGQSSIT', adj=<181x181 sparse matrix of type '<class 'numpy.float64'>'\n",
       "\twith 959 stored elements in COOrdinate format>, target=0),\n",
       " DataSet(seq=b'ATLYAGLQLILPGEVAPSHRHNQSALRFIVEGKGAFTAVDGERTPMHTGDFILTPQWRWHDHGNPGSEPVVWLDGLDLPLVNLLGCGFAEDYPEDQQPVTRKEGDYLPRYAANMLPLRHQRGNSSPIFNYRYDRSREALHDLTRMGDPDEWEENYFPLWNDLNTAQKKLISDNLITRNVK', adj=<180x180 sparse matrix of type '<class 'numpy.float64'>'\n",
       "\twith 952 stored elements in COOrdinate format>, target=0),\n",
       " DataSet(seq=b'KGTIIHNGNLDCTGLLLVKSGQLRTYILSDEGREITLYRLFDMDMCLLSASCIIRSIQFEVTIEAEATDYVRMPWKNGGGSTEEITRDAGSGLDGFGWRLSIADIAESGGFSTFAGYQRVITVIQGAGMVLTVDGEEQRGLLPLQPFAFKGDSQVACRLITGPIRDFNRRSM', adj=<172x172 sparse matrix of type '<class 'numpy.float64'>'\n",
       "\twith 872 stored elements in COOrdinate format>, target=0),\n",
       " DataSet(seq=b'YDSFLKSVHILDGMDAYERGKVADALRTEMFTDGAYIVRQGELGDVFYIVEEGSAVATKSFGPGQPPIEVKKYQAGDYFGELALINEEPRAANVIAHGICKVACLERKSFKRLMGSVQDLLSKKASEYMFERIVKADEHVIDQGDDGDNFYVIERGTYDILVTKDNQTRSVGQYDNRGSFG', adj=<181x181 sparse matrix of type '<class 'numpy.float64'>'\n",
       "\twith 1131 stored elements in COOrdinate format>, target=0),\n",
       " DataSet(seq=b'ELALMYNTPRAATIVATSEGSLWGLDRVTFRRIIVKNNAKKRKMPSGDASFLLLWTTATVPADNNDETDGRLRDAGLTLNQGSVIRIVDMLPGKESPMHRTNSIDYGIVMSGEVELELDDGRKTTVREGGVIIQRGTNHLWRNVTDKPCRIAFILIEAPAYLHNGQPLPEGNDDDYLDGP', adj=<180x180 sparse matrix of type '<class 'numpy.float64'>'\n",
       "\twith 921 stored elements in COOrdinate format>, target=0),\n",
       " DataSet(seq=b'MNPVVKGRRRRGAISAEVYTEEDAASYVRKVIPKDYKTMAALAKAIEKNVLFSHLDDNERSDIFDAMFPVNYIAGETVIQQGDEGDNFYVIDQGEMDVYVNNTWVTSIGEGGSFGELALIYGTPRAATVRAKTNVKLWGIDRDSYRRILMGSTLRKRRFNTLGTVSFDHPDPSIFTVLTS', adj=<180x180 sparse matrix of type '<class 'numpy.float64'>'\n",
       "\twith 981 stored elements in COOrdinate format>, target=0),\n",
       " DataSet(seq=b'PTSVHGLANMDFVIFPPRWMVAENTFRPPWFHRNLMNEFMGLIQGAYDAKAEGFLPGGASLHGVMSAHGPDAETCEKAIAAELAPHKVDNTMAFMFETSAHTTYPTKKVTPDEVSPVTLGDNLTSNRRTINKYFVPDVLETCQLSMGLTELAPGNLWNTMPCHTHERRMEVYFYFNMDDD', adj=<180x180 sparse matrix of type '<class 'numpy.float64'>'\n",
       "\twith 998 stored elements in COOrdinate format>, target=0),\n",
       " DataSet(seq=b'ACVFHMMGQPQETRHIVMHNEQAVISPSWSIHSGVGTKAYTFIWGMVGENQVFDDMDHVAVKDLLREEIVNFNCRKLVASMPLFANAEPNFVTAMLTKLRFEVFQPHDYIIREGTIGKKMYFIQHGVCSVITKGTLAMKLSDGSYFGEICLLTRGRRTASVRAETYCRLYSLSVDHFNEVL', adj=<181x181 sparse matrix of type '<class 'numpy.float64'>'\n",
       "\twith 1140 stored elements in COOrdinate format>, target=0),\n",
       " DataSet(seq=b'EEYPMMRRAFETVAIDRLNRLREEIINFNCRKLVASMPLFANADPNFVTSMLTKLKFEVFQPRDYIIREGTIGKKMYFIQHGVVSVLTKGNKETKLSDGSYFGEICLLTRGRRTASVRADTYCRLYSLSVDNFNEVLEEYPMMRRAFETVALDRLDRDAFKVLFSVRQVQAAEM', adj=<174x174 sparse matrix of type '<class 'numpy.float64'>'\n",
       "\twith 1083 stored elements in COOrdinate format>, target=0),\n",
       " DataSet(seq=b'VIAPGEGEGGPDNRHRGADQWLYVVDGTGVAVVEGQAHALQAGCLIAIERGETHEIRNTGHTPLKTVNFYHPPAYDAQGEPLPAGETDNFFGKTLAARKVDEIPGMLEFDIPVHGDNRGWFKENFQKEKMLPLGFPESFFAEGKLQNNVSFSRKNVLRGLHAEPWDKYISVADGGKVLGS', adj=<180x180 sparse matrix of type '<class 'numpy.float64'>'\n",
       "\twith 1091 stored elements in COOrdinate format>, target=0),\n",
       " DataSet(seq=b'WVDLREGETFGNTYQTVIDASKGIFVPRGVANGFQVLSDTVSYSYLVNDYWALELKPKYAFVNYADPSLGIEWENLAEAEVSDADKNHPLLKDVKPLKKEDLINSVQNYAWGSKTALTELYGIANPTQQPMAELWMGAHPKSSSQVLGADGQTVALRDVIEHDKSALLGDAVAQRFGELP', adj=<180x180 sparse matrix of type '<class 'numpy.float64'>'\n",
       "\twith 1070 stored elements in COOrdinate format>, target=0),\n",
       " DataSet(seq=b'FLFKVLCAAQPLSIQVHPNKHNSEIGFAKENAAVIPMDAAERNYKDPNHKPELVFALTPFLAMNAFREFSDIVALLQPVSAARVKAWVEENRASFLPPVCNKLLHQKQLKIMFVGGPNTRKDYHIEEGEEVFYQLEGDMLLRVLERGEHRDVVIRQGEIFLLPAGVPHSPQRFANTVGLVI', adj=<181x181 sparse matrix of type '<class 'numpy.float64'>'\n",
       "\twith 913 stored elements in COOrdinate format>, target=0),\n",
       " DataSet(seq=b'ERRRLKTELDGLRYYIGDTTDVLFEKWFYCEDLGTQLAPIIQEFFSSEQHRTGKPNPDQLKPKPFHKKELIFNQWDPQEYCIFLYDGITKLTSISENGTIMNLQYYKGAFVIMSGFIDTETSVGYYNLEVISEQATAYVIKINELKELLSKNGHANHGWLDSWHTFSFANYYDPN', adj=<175x175 sparse matrix of type '<class 'numpy.float64'>'\n",
       "\twith 919 stored elements in COOrdinate format>, target=0),\n",
       " DataSet(seq=b'FMGFSALRVINDDVI', adj=<15x15 sparse matrix of type '<class 'numpy.float64'>'\n",
       "\twith 54 stored elements in COOrdinate format>, target=0),\n",
       " DataSet(seq=b'EAGQGFGTHPHKDMEILTYVLEGTVARVEDLAGMDVFQGCPAEGLVSLAASVQPLRAAAGQVLLRQGEPAVSFLLISSGSAEVSHVGDDGVAIIARALPGMIVGEIALLRDGPRSATVTTIEQLTGWTGGRGAFATMVHIPGVGERLLRTARQRLAAFVSPLVATEFSYRKDEEIYGEDE', adj=<180x180 sparse matrix of type '<class 'numpy.float64'>'\n",
       "\twith 941 stored elements in COOrdinate format>, target=0),\n",
       " DataSet(seq=b'PAEYVYQVVSGAVSSYKLLSDGRRQIGAFHLPGDVFGLESGPAHRLAAEAIIDTTVRLVKRASLEKAAGTDVQVARKLWAMTASELRHAED', adj=<91x91 sparse matrix of type '<class 'numpy.float64'>'\n",
       "\twith 532 stored elements in COOrdinate format>, target=0),\n",
       " DataSet(seq=b'HMLLLGRKLENFMVINAVAFDHADPSIFTVLTAKSTRPGVAIADFVIFPPRWGVADKTFRPPYYHRNCMSEFMGLIKGHYEAKQDGFQPGGGSLHSAMTPHGPDADCFEKATKAKLAPERIADGTMAFMFETSMVAAWYMDDSREDPRKPHRPEPDRPVSLEHLSRLGVFYWKLDADNYE', adj=<180x180 sparse matrix of type '<class 'numpy.float64'>'\n",
       "\twith 851 stored elements in COOrdinate format>, target=0),\n",
       " DataSet(seq=b'TDPELAKIRKEKKYSWMDIITISKDMLPNYEEKIKNFYEEHLHLDDEIRYILEGSGYFDVRDKDDKWIRIAMEKGDMITLPAGIYHRFTLDESNYVKTMRLFVGEPVWTAHNRPADHFPARAQYQQFLSQPHGGHPAQTELLTDRAMFTEAYAVIPKGVMRDIVTSHLPFWDNMRMWVIAR', adj=<181x181 sparse matrix of type '<class 'numpy.float64'>'\n",
       "\twith 1111 stored elements in COOrdinate format>, target=0),\n",
       " DataSet(seq=b'PLSGFAETFSQYIVELAPNGGSDKPEQDPNAEAVLFVVEGELTLTLQGQVHNMQPGGYAFIPPGADYKVRNTSGQHTRFHWIRKHYQKVDGVPLPEAFVTNEQDIQPLVMPDTEGRWSTTRFVDMSDMRHDMHVNIVNFEPGGVIPFAETHVMEHGLYVLEGKAVYRLNQDWVEVEAGDF', adj=<180x180 sparse matrix of type '<class 'numpy.float64'>'\n",
       "\twith 1205 stored elements in COOrdinate format>, target=0),\n",
       " DataSet(seq=b'MWLRAFCPQACYSGGPGRFRYLLYKDVNRHMRLPRYAANMLPLRHQRGNSSPIFNYRYDRSREALHDLTRMGDPDEWEGYKLRYVNPVTGGYPMPSMGAFLQLLPKGFASRVARSTDSTIYHVVEGAGQVTIGNETFHFSAKDIFVAPTWHEVSFRSSEDTVLFSFSDKPVQEALLREEI', adj=<180x180 sparse matrix of type '<class 'numpy.float64'>'\n",
       "\twith 1089 stored elements in COOrdinate format>, target=0),\n",
       " DataSet(seq=b'VNFNCRKLVASMPLFANADPNFVTAMLTKLRFEVFQPGDYIIREGTIGKKMYFIQHGVVSVLTKGNMGMKLSDGSYFGEICLLTRGRRTASVRADTYCRLYSLSVDNFNEVLEEYPMMRRAFETVAIDRLDRLELGTMQPSFTSVTGKGGVKVIDGSSVKFGRFDGAEPHCVGLTDLVTE', adj=<180x180 sparse matrix of type '<class 'numpy.float64'>'\n",
       "\twith 1110 stored elements in COOrdinate format>, target=0),\n",
       " DataSet(seq=b'QDGSSMTAGFMQWDNAFFPWTLNYDEIDMVLEGELHVRHEGETMIAKAGDVMFIPKGSSIEFGTPTSVRFLYVAWPANWQYMEFLKSVPTFQGLQEDILSKLADVLEETHYEDGEYIIRQGARGDTFFIISKGKVNVTREDSPSGEPVYLRSLGKGDWFGEKALQGEDIRTANVIAAEAV', adj=<180x180 sparse matrix of type '<class 'numpy.float64'>'\n",
       "\twith 1126 stored elements in COOrdinate format>, target=0),\n",
       " DataSet(seq=b'TCLVIDRDSFKHLIGGLEEVSSKGHEDKMYEEFLSKVSILESLDKWERLTVXDALEPVQFEDGEKIVVQGEPGDDFFIITEGIASVLQRRSDNEEYVEVGRLGPSDYFGEIALLLNRPRAATVVARGPLKCVKLDRPRFERVLGPCSEILKRNIQRYNSFISLFQLDADKYENDPELEKI', adj=<180x180 sparse matrix of type '<class 'numpy.float64'>'\n",
       "\twith 1097 stored elements in COOrdinate format>, target=0),\n",
       " DataSet(seq=b'RRERNYSWMDIITICKEKLPDYEEKIKMFYEEHLHLDDEIRYVLDGSGYFDVRDEADRWIRIAMEKGDMITLPAGIYHRFTLDEQNYVKAMRLFVGEPVWTAYNRPADHFAARGQYMAFLAQRRFNTIGTVS', adj=<132x132 sparse matrix of type '<class 'numpy.float64'>'\n",
       "\twith 771 stored elements in COOrdinate format>, target=0),\n",
       " DataSet(seq=b'FDHPDPSIFTVLTSPTSVPGMANLDFVIFPPRWMVAENTFRPPWFHRNLMNEFMGLIQGSYDAKAEGFLPGGASLHSCMSAHGPDAE', adj=<87x87 sparse matrix of type '<class 'numpy.float64'>'\n",
       "\twith 469 stored elements in COOrdinate format>, target=0),\n",
       " DataSet(seq=b'TCTKAIAADLRPSKIDNTMAFMFETSLEGVHFEKLHIEALNENSSNKEIRICMPKGAIMDKHKAPGAISVQVLEGKIVFEVGDEKIEMPKGALISLEAQVLHRLDALENSVIRLSLSKKMYEEFLSKVSILESLDKWERLTVADALEPVQFEDGQKIVVQGXPGDEFFIILEGTAAVLQR', adj=<180x180 sparse matrix of type '<class 'numpy.float64'>'\n",
       "\twith 1072 stored elements in COOrdinate format>, target=0),\n",
       " DataSet(seq=b'RSENEXFVEVGRLAPSDYFGEIALLMNRPRAATVVARGLLKCVKLDRPRFERVLGPCSDILKRNIQQYNSFHANHGWLDSWHTFSFADYYDPNFMGFSALRVINEDVIDAGQGFGTHPHKDMEILTYVLSGTVEHQDSMGNKEQIQAGEFQIMSAGTGVRHSEYNANQDRPLHLYQIWII', adj=<180x180 sparse matrix of type '<class 'numpy.float64'>'\n",
       "\twith 1084 stored elements in COOrdinate format>, target=0),\n",
       " DataSet(seq=b'PDQVGLEPRYELPEAYIPNAATDDERYYVPFTETVSSRPLWISPSQNKWCDILMAKKAGLVNRHYHPHEVFAYTLSGKWGYLEHEWTATRGDFVYETPGEGHTLVAFDHPEPMRAFFIVKGPLIWLDDAGNPDGYFDVHSYIAMCKAHYEKVGLGAQAIEKLFNIPQPIRGDKGATVTIP', adj=<180x180 sparse matrix of type '<class 'numpy.float64'>'\n",
       "\twith 1020 stored elements in COOrdinate format>, target=0),\n",
       " DataSet(seq=b'RNLERDRQNPDMLVPPETDHGTVDNMKFSFSDVHNRLEKGGYAREVTVRELPISKNLASVNMRLKPGAIRELHWHKEAEWAYMLTGKARITIVDEQGRSFIDDVKEGDLWYFPSGLPHSIQALKEGCEFLLVFDDGSFSENSTFQVTDWLAHTPLDVIANNFGVSEKDLAGLPGKEKYIF', adj=<180x180 sparse matrix of type '<class 'numpy.float64'>'\n",
       "\twith 1061 stored elements in COOrdinate format>, target=0),\n",
       " DataSet(seq=b'EEPVPGIPKDWTVQRSTPFFTKGSVPPALLTHHNTAEGVFGQLCVMEGQVTYYGFADEFATEPEMVVVINAGQFATSPPQYWHRIEMSDDAQFNINFWSNKDKSGQAMTDNFFGKTLAARKVEAIPGMLEFDIPVHGDNRGWFKENFQKEKMLPLGFPASFFAEGKLQNNVSFSRKNVLR', adj=<180x180 sparse matrix of type '<class 'numpy.float64'>'\n",
       "\twith 1028 stored elements in COOrdinate format>, target=0),\n",
       " DataSet(seq=b'GLHAEPWDKYISVADGGKVLGSWVDLREGETFGNTYQTVIDASKGIFVPRGVANGFQVLSDTVSYSYLVNDYWALELKPKYAFVNYADPSLGIEWENIAEAEVSEADKNHPLLKDVKPLKKEDLLEQEAMQPGFDSVTGKGGIKVIDGSSVKFGRFDGAQPHCVGLTDLVTDQDGSSMAA', adj=<180x180 sparse matrix of type '<class 'numpy.float64'>'\n",
       "\twith 1109 stored elements in COOrdinate format>, target=0),\n",
       " DataSet(seq=b'GFMQWENAFFPWTLNYDEIDMVLEGELHVCHQGETLVAKAGDVMFIPKGSSIEFGTPSTVRFLYVAWPANWQEVRRQDFVRNWQLVAAVPLFQKLGSGALIEIVRALRPRIVPAGGIICRKGEAGDQMFFIVEGRVSVATPNPVELGSGSFFGEMALITGEPRSATVSATTEVSLLSLYSS', adj=<181x181 sparse matrix of type '<class 'numpy.float64'>'\n",
       "\twith 1377 stored elements in COOrdinate format>, target=0),\n",
       " DataSet(seq=b'DFQMLSSSSPEIADIIRRTALERRGADICVHLNRKVFKEHPAFRLASDGCLRALAMEFQTVHCAPGDLIYHAGESVDSLCFVVSGSLEVIQDDEVVAILERSHFVLIAGEPLKEPVVQHGPFVMNTNEEISQAILDFRNGKNGFERAKTMDVFQGCPAEGLVSLAASVQPLRAAAGQVLLR', adj=<181x181 sparse matrix of type '<class 'numpy.float64'>'\n",
       "\twith 756 stored elements in COOrdinate format>, target=0),\n",
       " DataSet(seq=b'QGEPAVSFLLISSGSAEVSHVGDDGVAIIARALPGMIVGEIALLRDSPRSATVTTIEPLTGWTGGRGAFA', adj=<70x70 sparse matrix of type '<class 'numpy.float64'>'\n",
       "\twith 459 stored elements in COOrdinate format>, target=0),\n",
       " DataSet(seq=b'TMVHIPGVGERLLRTARQRLAAFISPGYRDDLLANRAIVKHGNFALLTPDGLVKNIIPGFENCDATILSTPKLGASFVDYLVTLHQNGGNQQGFGGEGIETFLYVIS', adj=<107x107 sparse matrix of type '<class 'numpy.float64'>'\n",
       "\twith 635 stored elements in COOrdinate format>, target=0),\n",
       " DataSet(seq=b'GNITAKAEGKTFALSEGGYLYCPPGSLMTFVNAQAEDSQIFLYKRRYVPVEGHAPWLVSGNASELERIHYEGMDDVILLDFLPKELGFDMNMHILSFAPGASHGYIETHVQEHGAYILSGQGVYNLDNSWIPVKKGDYIFMGAYSLQAGYGVGRGEAFSYIYSKDCNRDVEITPNANCAP', adj=<180x180 sparse matrix of type '<class 'numpy.float64'>'\n",
       "\twith 1136 stored elements in COOrdinate format>, target=0),\n",
       " DataSet(seq=b'AYWNYQEIRPLLLESGQLIGAKEAVRRVLVLENPQLRGQSSITASLYAGLQLIMPGEVAPSHRHNQSALRFIVEGHGAFTAVDGERTPMRPGDFILTPQWRWHDHGNPGDEPVVWLDGLDLPLVNYLGCGFAEDYPQEQQPVTRKEGDYLPRYAANMLPLRHQVGNSSPIFNYRYDRSRE', adj=<180x180 sparse matrix of type '<class 'numpy.float64'>'\n",
       "\twith 1059 stored elements in COOrdinate format>, target=0),\n",
       " DataSet(seq=b'ALHDLTHLGEADEWDGYKMRYVNPVTGGYPMPSMGAFLQLLPKGFRSRVAKTTDSTIYHVVEGSGQVTIGEQTFAFQPKDIFVAPTWHGVSFNACEECVLFSFSDRPVQEALGLFREARYPKTDEQRQRLQEACRDILLFKNLDPEQFSQVLDAMFEKFFEVGEHIIDQDDDGDNFYVIE', adj=<180x180 sparse matrix of type '<class 'numpy.float64'>'\n",
       "\twith 1255 stored elements in COOrdinate format>, target=0),\n",
       " DataSet(seq=b'RGTFDICMRVDGVEKMVGSYDNKGSFGELALMYNTPRAATIIATSPGALWCLDRLTFRRIIVKNNALKRRECLQADICLHLHRALLQHCPAFRGASKGCLRALAVKFKTTHAPPGDTLVHLGDVLSTLYFISRGSIEILRDDMVVAILGKNDIFGEPVSLHARPGKSSADVRALTYCDLHK', adj=<181x181 sparse matrix of type '<class 'numpy.float64'>'\n",
       "\twith 1076 stored elements in COOrdinate format>, target=0),\n",
       " DataSet(seq=b'IQRADLLEVLDMYPTFADSFWSKLEVTFNLRLEKFMVINAVAFDHADPSIFTVLTAKTTRAGVALADFVIFPPRWGVANNTFRPPYYHRNCMSEFMGLIKGHYEAKEEGFQPGGGSLHSMMTPHGPDADCFEKASKVKLEPERVADGTMAFMFESSRRFNTIGTVSFDHPDPSIFTVLTSP', adj=<181x181 sparse matrix of type '<class 'numpy.float64'>'\n",
       "\twith 851 stored elements in COOrdinate format>, target=0),\n",
       " DataSet(seq=b'TSVHGLANIDFVIFPPRWMVAENTFRPPWFHRNLMNEFMGLIQGAYDAKAGGFVPGGASLHSCMSAHGPDAESCDKALGKTQTDPTLEWFLSHCHIHKYPSKSTLIHQGEKAETLYYIVKGSVAVLIKDEEGKEMILSYLNQGDFINECQLNNLNALEPDHRVESEGGILETLNSQHP', adj=<178x178 sparse matrix of type '<class 'numpy.float64'>'\n",
       "\twith 644 stored elements in COOrdinate format>, target=0),\n",
       " DataSet(seq=b'EIQSAGVTVSKRTLNRNGLHLPSYSPYPQMIIVVQGKGALGFAFPGCPETFEKPQQQQSRRGSRSQQQLQDSHQKIRH', adj=<78x78 sparse matrix of type '<class 'numpy.float64'>'\n",
       "\twith 328 stored elements in COOrdinate format>, target=0),\n",
       " DataSet(seq=b'FNEGDVLVIPPGVPRKTYNTGDEPVVAMDAAERNYKDPNHKPELVFALTPFLAMNAFREFSEIVSLLQPVAGAHPAIAHFLQQPDAERLSELFASLLNMQGEEKSHALAILKSALDSQQGEPWQTIRLISEFYPEDSGLFSPLLLNVVKLNPGEAMFLFAETPHAYLQGVALEVMANSD', adj=<179x179 sparse matrix of type '<class 'numpy.float64'>'\n",
       "\twith 1119 stored elements in COOrdinate format>, target=0),\n",
       " DataSet(seq=b'NVLRAGLTPKYIDIPELVANVKFEAKDWLPEACAQPDAQRYQQYLLHAD', adj=<49x49 sparse matrix of type '<class 'numpy.float64'>'\n",
       "\twith 235 stored elements in COOrdinate format>, target=0),\n",
       " DataSet(seq=b'SQQRFSVVSFVWGPGQRTPVHDHRVWGLIGMLRGAEYSQPFAFAADGSLQTAGAALRLEPGEVEAVSPRIGDIHQVSNAFADRPSISIHVYGANIGAVRRAVYTAEGEEKPFISGYSNSQQLDADKYENDPELEKIRRERNYSWMDIITICREKLPNYEEKLKMFYEEHLHLDEEIRYVLE', adj=<181x181 sparse matrix of type '<class 'numpy.float64'>'\n",
       "\twith 1124 stored elements in COOrdinate format>, target=0),\n",
       " DataSet(seq=b'GSGYFDVRDEEDKWIRIAMEKGDMITLPAGIYHRFTLDETNYVKAMRLFVGEPVWTAYNRPADHFAAREQYVRFLAETLREEIINFNCRKLVASMPLFANADPNFVTSMLTKLRFEVFQPGDYIIREGTIGKKMYFIQHGVVSVLTKGNNETKLSDGSYFGEICLLTRGRRTASVRAETY', adj=<180x180 sparse matrix of type '<class 'numpy.float64'>'\n",
       "\twith 1108 stored elements in COOrdinate format>, target=0),\n",
       " DataSet(seq=b'CRLYSLSVDNFNEVLEEYPMMRRAFETVALDRLDRMQKLINSVQNYAWGSKTALTELYGMENPSSQPMAELWMGAHPKSSSRVQNAAGNIVS', adj=<92x92 sparse matrix of type '<class 'numpy.float64'>'\n",
       "\twith 562 stored elements in COOrdinate format>, target=0),\n",
       " DataSet(seq=b'LRDVIESDKSTLLGEAVAKRFGELPFLFKVLCAAQPLSIQVHPNKHNSEIGFAKENAAGIPMDAAERNYKDPNHKPELVFALTPFLAMNAFREFSEIVSLLQPVAGAHPAIAHFLQQPNAERLSELFASLLNMQGEEKSRALAILKSALDSQQGEPWQTIRLISEFYPEDSGLFSPLLLN', adj=<180x180 sparse matrix of type '<class 'numpy.float64'>'\n",
       "\twith 1239 stored elements in COOrdinate format>, target=0),\n",
       " DataSet(seq=b'VVKLNPGEAMFLFAETPHAYLQGVALEVMANSDNVLRAGLTPKYIDIPELVANVKFEAKMENPSSQPMAELWMGAHPKSRSRVQNAAGDIVSLRDVIESDKSTLLGEAVAKRFGELPFLFKVLCAAQPLSIQVHPNKHNSEIGFAKENAAGIPMDAAERNYKDPNHKPELVFALTPFLAM', adj=<180x180 sparse matrix of type '<class 'numpy.float64'>'\n",
       "\twith 1071 stored elements in COOrdinate format>, target=0),\n",
       " DataSet(seq=b'NAFREFSEIVSLLQPVAGAHPAIAHFLQQPDAERLSELFASLLNMQGEEKSRALAILKSALDSQQGEPWQTIRLISEFYPDDSGLFSPLLLNVVKLNPGEAMFLFAETPHAYLQGVALEVMANSDNVLRAGLTPKYIDIPELVANVKFEDELRADIAMHLNKELLQLPLFESASRGCLRS', adj=<180x180 sparse matrix of type '<class 'numpy.float64'>'\n",
       "\twith 1158 stored elements in COOrdinate format>, target=0),\n",
       " DataSet(seq=b'LSLIIRTSFCAPGEFLIRQGDALQAIYFVCSGSMEVLKDNTVLAILGKGDLIGSDSLTKEQVIKTNANVKALTYCDLQYISLKGLREVLRLYPEYAQKFISEIQHDLTYNLRMDDVLTRAGIFQGVEPSAVAALIKELQPVDFPRGHVIFNEGEPGDRLYIIVSGKVKIGRRSPDGRENLLTI', adj=<183x183 sparse matrix of type '<class 'numpy.float64'>'\n",
       "\twith 1125 stored elements in COOrdinate format>, target=0),\n",
       " DataSet(seq=b'MGPSDMFGELSIFDPGPRTSTATTVTEVRAVSMDRDALKAWIDQRPEIAEQLLRVLARRLRRTNNNLADLIFPQNHIHTRSTPFWNKETAPAGIFERHLDKGTRPGVYPRLSVMQGVVKYLGYADEHCSEPEEIMVINAGEFGVFPPEKWHNIEVMTDDTYFNIDFFVAPEVLMEGASISQ', adj=<181x181 sparse matrix of type '<class 'numpy.float64'>'\n",
       "\twith 1037 stored elements in COOrdinate format>, target=0),\n",
       " DataSet(seq=b'LCIPFTLNEHELDQLDNIIERKKPIQKSQVLFKAGDTLNSIYAIRSGTIKSYTISEAGEEQITSFHLPGDLVGFDAITNMQHPSFAQALETAMVCEIPFDILDDLSGKMPKLRQQIIRLMSSEIKSDQEMILLLSKIPAEPGKPYFIEKGLGDRAHLFGDLVTVYAGGEQTENMFNFFTV', adj=<180x180 sparse matrix of type '<class 'numpy.float64'>'\n",
       "\twith 1047 stored elements in COOrdinate format>, target=0),\n",
       " DataSet(seq=b'EGPKGELIPAHSHPDTYEVFYVTDGAVRLFVEDLEGEQHEKLLTPGDFGFVPKNCAHAYRIERHHSRVVGVAAGPGGTFERFFENLGTPTEELTLPREPQRRFDAAQGKQLVLSPDARDGSLKVYQDMELYRWALLKDEQSVHQIAAERRVWIQVVKGEVTINGTKASTSDGLAIWDEQA', adj=<180x180 sparse matrix of type '<class 'numpy.float64'>'\n",
       "\twith 1000 stored elements in COOrdinate format>, target=0),\n",
       " DataSet(seq=b'ISVHADSDSEILLFDLPPVTLRKRKMYEEFLSKVSILESLDKWERLTVADALEPVQFEDGQKIVVQGEPGDEFFIILEGTAAVLQRRSENEEFVEVGRLAPSDYFGEIALLMNRPRAATVVARGLLKCVKLDRPRFERVLGPCSDILKRNIQQYNSFRDVARSSLRLVIDCSFDDLMVLKD', adj=<181x181 sparse matrix of type '<class 'numpy.float64'>'\n",
       "\twith 1123 stored elements in COOrdinate format>, target=0),\n",
       " DataSet(seq=b'IKKLHKQIQRCYAENRRASHPVQFYLTSHGGQLKKNMDENDQGWVNWKDIHIKSEHYSELIKKEDLVYLTSDSPNVLKDLDESKAYVIGGLVDHNHHKGLTFKQATSYGIEHAQLPSSKKVTLSVLSREQSEGVGARVRRSIGRPELKNLVPFFLFEEFKGGRPGGFPGHPPRGFEPVSY', adj=<180x180 sparse matrix of type '<class 'numpy.float64'>'\n",
       "\twith 1066 stored elements in COOrdinate format>, target=0),\n",
       " DataSet(seq=b'LLEGGSMAHEDFCGHVGKLNPGDLQWMTAGRGILHAEMPCTEEPAHGLQLWVNLRSSEKMVEPQYQELKSEEIPKPSKDGVTVAVISGEALGIKSKVYTRTPTLYLDFKXXXXXXXXXXXXXXXXXXXXXXXXXXXXXPDAAQQKIEPHHTAVLGEGDSVQVENKDPERSMQKLINSVQNY', adj=<181x181 sparse matrix of type '<class 'numpy.float64'>'\n",
       "\twith 1185 stored elements in COOrdinate format>, target=0),\n",
       " DataSet(seq=b'AWGSKTALTELYGMENPSSQPMAELWMGAHPKSSSRVHDAAGDIVSLRDVIESDKATLLGDAVAKRFGELPFLFKVLCAAQPLSIQVHPNKRNSEIGFAKENAAGIPMDAAERNYKDPNHKPELVFALTPFLAMNAFREFSEIVSLLQPVAGAHPAIAHFLQQPDAERLSELFASLL', adj=<177x177 sparse matrix of type '<class 'numpy.float64'>'\n",
       "\twith 1165 stored elements in COOrdinate format>, target=0),\n",
       " DataSet(seq=b'NMQGEEKSRALAILKSALDSQQGEPWQTIRLISEFYPEDSGLFSPLLLNVVKLNPGEAMFLFAETPHAYLQGVALEVMANSDNVLRAGLTPKYIDIPELVANVKFEAKPMVQAWYMDDAPGDPRQPHRPDPDRPVGLEQLRRLGVLYWKLDADKYENDPELEKIRRERNYSWMDIITICKD', adj=<181x181 sparse matrix of type '<class 'numpy.float64'>'\n",
       "\twith 1101 stored elements in COOrdinate format>, target=0),\n",
       " DataSet(seq=b'KLPNYEEKIKMFYEEHLHLDDEIRYILDGSGYFDVRDKEDKWIRIFMEKGDMITLPAGIYHRFTVDEKNYAKAMRLFVGEPVWTAYNRPADHFEARGQYMKFLAQTYLAENHGAPLRLPDLGPIGSNGLANPRDFLTPVARYENLAQPTTLVQKFLGQRRFDAKQGKQLMLSPDAREGSL', adj=<180x180 sparse matrix of type '<class 'numpy.float64'>'\n",
       "\twith 899 stored elements in COOrdinate format>, target=0),\n",
       " DataSet(seq=b'KVHQDMELYRWALAKDEQSVHQIAANRRVWIQVVKGEVSINGTKATTADGLAVWDEQALSVHADSESEILLFDLPPVKIFFEIRKQKYLEALDRHDRAKAVEILVKDLKVFASFNEELFKEITQLLTLENFRQNEQLSKYGDTKSARRKMFESFIESVPLLKSLEVSERMKIVDVIGEKVY', adj=<181x181 sparse matrix of type '<class 'numpy.float64'>'\n",
       "\twith 1052 stored elements in COOrdinate format>, target=0),\n",
       " DataSet(seq=b'KDGERIITQGEKADSFYIIESGEVSILIKSKTKVNKDGENQEVEIARCHKGQYFGELALVTNKPRAASAYAVGNVKCLVMDVQAFERLLGPCMDIMKRNISHYEEQLVKMFGSSAEISYKKFRQLIQVNPDILMRLSAQMARRLQVTSEKVGNLAFLDVTGRIGHANHGWLDSWHTFSFA', adj=<180x180 sparse matrix of type '<class 'numpy.float64'>'\n",
       "\twith 948 stored elements in COOrdinate format>, target=0),\n",
       " DataSet(seq=b'NYYDPNFMGFSALRVINDDVIEAGQGFGTHQHKDMEILTYVLEGTVEHQDSMGNKEQVPAGEFQIMSAGTGIRHSEYNPNSTERLHLYQIWIMPEENGITPRYEKMYEEFLSKVSILESLDKWERLTVADALEPVQFEDGQKIVVQGEPGDEFFIILEGTAAVLQRRSENEEFVEVGRLG', adj=<180x180 sparse matrix of type '<class 'numpy.float64'>'\n",
       "\twith 1040 stored elements in COOrdinate format>, target=0),\n",
       " DataSet(seq=b'PSDYFGEIALLMNRPRAATVVARGPLKCVKLDRPRFERVLGPCSDILKRNIQQYNSFVSLREEIISFNCRKLVATMPLFANADPNFVTSMLTKLRFEVFQPGDYIIREGTVGKKMYFIQHGVLTVLTKGSKETKISDGSYFGEICLLTRGRRTASVRADTYCRLYSLSVDHFNEVLEEYP', adj=<180x180 sparse matrix of type '<class 'numpy.float64'>'\n",
       "\twith 1191 stored elements in COOrdinate format>, target=0),\n",
       " DataSet(seq=b'MMRRAFETVALDRLDRKDMRADICVHLNRKVFNEHPAFRLASDGCLRALAVEFQTIHCAPGDLIYHAGESVDALCFVVSGSLEVIQDDEVVAILGKGDVFGDIFWKETTLAHACANVRALTYCDLHIIKREALLKVLDFNPAFANSFSNPTLTCNLRKRIIKDMRADICVHLNRQVFNDH', adj=<180x180 sparse matrix of type '<class 'numpy.float64'>'\n",
       "\twith 1093 stored elements in COOrdinate format>, target=0),\n",
       " DataSet(seq=b'PAFRLASDGCLRSLAVEFQTTHCAPGDLIFHIGESVDTLCFVVSGSLEVIQDDEVIAILGKGDVFGDVFWKETTLARACANVRALTYCDLHVIRREALMRVLEFYTAFASSFSRNLILTCNLRKRIIFPEVYLPDAASDDLRLYVPFTETVSSRPLWISPSENRWCDILMSSKAGLVNRH', adj=<180x180 sparse matrix of type '<class 'numpy.float64'>'\n",
       "\twith 1154 stored elements in COOrdinate format>, target=0),\n",
       " DataSet(seq=b'YHPHEVFAYTLSGKWGYLEHEWTATAGDFVYETPGEGHTLVAYEHEEPMRVFFIVKGPLIWLDEQGESTGYLDVHSYI', adj=<78x78 sparse matrix of type '<class 'numpy.float64'>'\n",
       "\twith 477 stored elements in COOrdinate format>, target=0),\n",
       " DataSet(seq=b'ALCREHYEKVGLGADAVDRLFKKRKMFESFIESVPLLKSLELSERMKIVDVIGEKIYKNGERIITQGEKADSFYIIESGEVSILIRSKTKSNKDGGNQEVEIARCHKGQYFGELALVTNKPRAASAYAVGDVKCLVMDVQAFERLLGPCMDIMKRNISHYEEQLVKMFGSSSISQLCIPFTLNESELDQLDQIIE', adj=<195x195 sparse matrix of type '<class 'numpy.float64'>'\n",
       "\twith 1137 stored elements in COOrdinate format>, target=0),\n",
       " DataSet(seq=b'RKKPIQKGQELFKAGDELRSLYAIRSGTIKSYTITEQGDEQITAFHLAGDLVGFDAITGDQHPSFAQALETSIVCEIPYEILDDLSGKMPKLRQQIMRLMSNEIKGDQEMILLLSKKNGFDAIGSGHHPSFAQALETSMVCEIPFETLDDLSGKMPNLRQQ', adj=<161x161 sparse matrix of type '<class 'numpy.float64'>'\n",
       "\twith 818 stored elements in COOrdinate format>, target=0),\n",
       " DataSet(seq=b'MMRLMSGEIKGDQDMILLLSKKNLDTATMDRFLAHSHRRRYPTRTDVFRPGDPAGTLYYVVSGSVSIIAEEDDDRELVLGYFGSGEFVGEMGLFIESDQREVILRTRTPCELAEISYERLHQLFLGSLSADAPRVLYAIGVQLSKRLLDTSRKASRLAFLDVTDRIFSYPLLMNVDDRGSFTEFIKTPDRGQVSV', adj=<195x195 sparse matrix of type '<class 'numpy.float64'>'\n",
       "\twith 1104 stored elements in COOrdinate format>, target=0),\n",
       " DataSet(seq=b'NISKPGITKGNHWHHTKNEKFLVVSGKGVIRFRHVNDDEIIEYYVSGDKLEVVDIPVGYTHNIENLGDTDMVTIMWVNEIFDPNQPDTYFLEDWLPDAYAQPHPEYYQQMLLHCDSAERFSIVSFVWGPGQRTPIHDHTVWGLIGMLRGSEYAQPFEIDADGTPRPQGEATRLEPGDVEAVSPTVGDIHRVHNAY', adj=<195x195 sparse matrix of type '<class 'numpy.float64'>'\n",
       "\twith 1218 stored elements in COOrdinate format>, target=0),\n",
       " DataSet(seq=b'DDRVSISIHVYGANIGAVRRHVFPETGGSKAFISGYSNAEWIVCLDKRPTERSGEDVDIIMARLKSVKAFEKFHPTLLQ', adj=<79x79 sparse matrix of type '<class 'numpy.float64'>'\n",
       "\twith 470 stored elements in COOrdinate format>, target=0),\n",
       " DataSet(seq=b'QICLCGFYECLEKGITLYRQGDIGTSWYTVLSGSLDVKVSETANHQDAVTICTLGIGTAFGESILDNTPRHATIVTR', adj=<77x77 sparse matrix of type '<class 'numpy.float64'>'\n",
       "\twith 491 stored elements in COOrdinate format>, target=0),\n",
       " DataSet(seq=b'EFSELLRIEKREFRTLWEKYRQCMAGLLADWLPEDCARPDPQRYQQYLLHVDSRQRFSVVS', adj=<61x61 sparse matrix of type '<class 'numpy.float64'>'\n",
       "\twith 361 stored elements in COOrdinate format>, target=0),\n",
       " DataSet(seq=b'FVWGPGQITPVHDHRVWGLIGMLRGAEYSQPYAFDARGRPHPSGARRRLEPGEVEALSPRIGDVHQVSNAFSDRTSISIHVYGANIGAVRRAVFSAEGEEKPFISGYSNSRHANHGWLDSWHTFS', adj=<125x125 sparse matrix of type '<class 'numpy.float64'>'\n",
       "\twith 777 stored elements in COOrdinate format>, target=0),\n",
       " DataSet(seq=b'FADYYDPEFMGFSALRVINEDVIDAGQGFGTHPHKDMEILTYVLSGTVEHQDSMGNKEQIHAGEFQIMSAGTGIRHSEYNGRDDQLLHLYQIWIIPNETGLAPRYEMNMHILSFAPGASHGYIETHVQEHGAYILSG', adj=<137x137 sparse matrix of type '<class 'numpy.float64'>'\n",
       "\twith 778 stored elements in COOrdinate format>, target=0),\n",
       " DataSet(seq=b'QGVYNLDNNWIPVKKGDYIFMGAYSLQAGYGVGRGEAFSYIYSKDCNRDVEISPIIQNVLSYITEHFAEGMSLKTLGNDFHINAVYLGQLFQKEMGEHFTDYLNRYRVNYQADFGWLQARYTFSFGHYFDP', adj=<131x131 sparse matrix of type '<class 'numpy.float64'>'\n",
       "\twith 646 stored elements in COOrdinate format>, target=0),\n",
       " DataSet(seq=b'KLLGYASLRVLNQEVLAPGASFQPRTYPKVDILNLILEGEAEYRDSEGNHVQ', adj=<52x52 sparse matrix of type '<class 'numpy.float64'>'\n",
       "\twith 303 stored elements in COOrdinate format>, target=0),\n",
       " DataSet(seq=b'AKAGEALLISTQPGISYSEHNLSKDKTLTRMQLWLDACPERENPLVQKVATDYVRMPWKNGGGSTEEITRDAGEGLEGFGWRLSIADIGESGGFSSFAGYQRVITVIKGAGMVLTVDGEEQRG', adj=<123x123 sparse matrix of type '<class 'numpy.float64'>'\n",
       "\twith 637 stored elements in COOrdinate format>, target=0),\n",
       " DataSet(seq=b'LLPLQPFAFKGDSQVSCRLITGPIRDFNMEDGKVEVTKEGVKLCTMGPGKVFGELAILYNCTRTATVKTLVNVKLWAIDRQCFQTIMMRTGLIKHTEYMEFLKSVPTGKVVVIKVKLCTMGPG', adj=<123x123 sparse matrix of type '<class 'numpy.float64'>'\n",
       "\twith 581 stored elements in COOrdinate format>, target=0),\n",
       " DataSet(seq=b'KVFGELAFLYSCTCTATVKPKTDEQRQRLQEACRDILLFKNLDPEQMSQVLDAMFEKLCTEGEHIIDQDDDGDNFYVIESGTFNIFVKVEGAEKLVGSYDNKGSFGELALMYNTPRAATIIATSPGALWCLDRLTFRRIIVKNNA', adj=<145x145 sparse matrix of type '<class 'numpy.float64'>'\n",
       "\twith 850 stored elements in COOrdinate format>, target=0),\n",
       " DataSet(seq=b'KKDAFKVLFSVRQVQAAEMVIASGEGEGGPDNRHRGADQWLYVVDGTGEAVVEGQTHALQAGSLIAIERGETHEIRNTGNTPLKTVNFYHPPAYDAQGEPLPAGERRFNTIGTVSFDHPDPSIFTVLTSPTSVPGMA', adj=<137x137 sparse matrix of type '<class 'numpy.float64'>'\n",
       "\twith 730 stored elements in COOrdinate format>, target=0),\n",
       " DataSet(seq=b'NIDFVIFPPRWMVAENTFRPPWFHRNLMNEFMGLIKGEYDAKAEGFLPGGALLHSCMSAHGPDAETCARAIAADLAPSKIDNTMAFMFETSINSVQNYAWGSKTALT', adj=<107x107 sparse matrix of type '<class 'numpy.float64'>'\n",
       "\twith 616 stored elements in COOrdinate format>, target=0),\n",
       " DataSet(seq=b'ELYGMENPSSQPMAELWMGAHPKSSSRVQNAAGDIVSLRDVIESDKSTLLGEAVAKRFGELPFLFKVLCAAQPLSIQVHPNKRNSEIGFAKENAAGIPMDAAERNYKDPNHKPELVFALTPFLAMNAFREFSEIVSLLQTLRNGSPNGVPYE', adj=<152x152 sparse matrix of type '<class 'numpy.float64'>'\n",
       "\twith 627 stored elements in COOrdinate format>, target=0),\n",
       " DataSet(seq=b'KGYAEKIMHVRDGQVTPMHFHWRKREDIINRGGGNLIIELWNAGAHEETENTDVIVTIDGCRQTHTPGSQLRLTPGESICLTPGLYHSFWGERGFGDVLVGEVSSVND', adj=<108x108 sparse matrix of type '<class 'numpy.float64'>'\n",
       "\twith 746 stored elements in COOrdinate format>, target=0),\n",
       " DataSet(seq=b'DEHDNHFLQRSEINEILGHTRQFFSMHDVHLPPFASFPPARWQQLEADAWREVFELRLGWDVTAFGGDNFAAQGLTLFTLRNGSPGGKPWARCYAEKIMHVRDGQVTPLHFHWRKREDIINRGGGNLIVELWNADENEQKEDGDITVSIDGCQQTHVAGSHIRLTPGESICLPPGLYHSFWGEAGFGDVLVG', adj=<192x192 sparse matrix of type '<class 'numpy.float64'>'\n",
       "\twith 1247 stored elements in COOrdinate format>, target=0),\n",
       " DataSet(seq=b'EVSSVNDDDTDNHFLQPTARYNHIDEDEPAKDMRADICVHLNRKVFKEHPAFRLASDGCLRALAMEFQTVHCAPGDLIYHAGESVDSLCFVVSGSLEVIQDD', adj=<102x102 sparse matrix of type '<class 'numpy.float64'>'\n",
       "\twith 579 stored elements in COOrdinate format>, target=0),\n",
       " DataSet(seq=b'EVVAILGKGDVFGDVFWKEATLAQSCANVRALTYCDLHVIKRDALQKVLEFYTAFSHSFSRNL', adj=<63x63 sparse matrix of type '<class 'numpy.float64'>'\n",
       "\twith 423 stored elements in COOrdinate format>, target=0),\n",
       " DataSet(seq=b'ILTYNLRKRSPIIQNVLSYITEHFAEGMSLKTLGNDFHINAVYLGQLFQKEMGEHFTDYLNRYRVNYQADYGWLQARYTFSFGHYFDPKLLGYASLRVLNQEVL', adj=<104x104 sparse matrix of type '<class 'numpy.float64'>'\n",
       "\twith 534 stored elements in COOrdinate format>, target=0),\n",
       " DataSet(seq=b'APGTAFQPRTYPKVDILNVILDGEAEYRDSEGNHVQASAGEALLLSTQPGVSYSEHNLSKDKSLTRMQLWLDACPQRENPLIQKLAMQKLINSVQNYAWGSKTALTELYGIANPQQQPMAELWMGAHPKSSSRITTANGETVSLRDAIEKNKTAML', adj=<156x156 sparse matrix of type '<class 'numpy.float64'>'\n",
       "\twith 905 stored elements in COOrdinate format>, target=0),\n",
       " DataSet(seq=b'GEAVANRFGELPFLFKVLCAAQPLSIQVHPNKRNSEIGFAKENAAGIPMDAAERNYKDPNHKPELVFALTPFLAMNAFREFSDIVSLLQPVAGAHSAIAHFLQAPNAERLSQLFASL', adj=<117x117 sparse matrix of type '<class 'numpy.float64'>'\n",
       "\twith 800 stored elements in COOrdinate format>, target=0),\n",
       " DataSet(seq=b'LNMQGEEKSRALAVLKAALNSQQGEPWQTIRVISEYYPDDSGLFSPLLLNVVKLNPGKAMFLFAETPHAYLQGVALEVMANSDNVLRAGLTPKYIDIPELVANVKFEPMQKLINSVQNYAWGSKTALTELYGIANPQQQPMAELWMG', adj=<147x147 sparse matrix of type '<class 'numpy.float64'>'\n",
       "\twith 953 stored elements in COOrdinate format>, target=0),\n",
       " DataSet(seq=b'AHPKSSSRITTANGETVSLRDAIEKNKTAMLGEAVANRFGELPFLFKVLCAAQPLSIQVHPNKRNSEIGFAKENAAGIPMDAAERNYKDPNHKPELVFALTPFLAMNAFREFSDIVSLLQPVAGAHSAIAHFLQAPNAERLSQLFASLLNMQGEEKSRALAVLKAALNSQQGEPWQTIRVIS', adj=<182x182 sparse matrix of type '<class 'numpy.float64'>'\n",
       "\twith 1198 stored elements in COOrdinate format>, target=0),\n",
       " DataSet(seq=b'EYYPDDSGLFSPLLLNVVKLNPGEAMFLFAETPHAYLQGVALEVMANSDNVLRAGLTPKYIDIPELVANVRFEPMDVFQGCPAEGLVSLXASXQPLRAAAGQVLL', adj=<105x105 sparse matrix of type '<class 'numpy.float64'>'\n",
       "\twith 659 stored elements in COOrdinate format>, target=0),\n",
       " DataSet(seq=b'RQGEPAVSFLLISSGSAEVSHVGDDGVAIIARALPGMIVGEIALLRDSPRSATVTTIEPLTGWTGGRGAFATMVHIPGVGERLLRTARQRLAAFVSPVATLKSGDDFGKLALINDAPRAATIVLKENNCHLLRVDKEHFN', adj=<140x140 sparse matrix of type '<class 'numpy.float64'>'\n",
       "\twith 721 stored elements in COOrdinate format>, target=0),\n",
       " DataSet(seq=b'RILRDVEANTLRLQEEDLEIIYDELLHIKAVSHLSNTVKRELAGVLIFESHAKAGTVLFNQGEEGTSWYIIQKGSVNVVIYGKGVVCTLHEGDDFGKLALVNDAPRAASIVLREDNCHFLRVDKEDFNRILRSVMKPMSLKAWLDSHHQELQAGTPLSLFGDTYETQVIAHGQGS', adj=<175x175 sparse matrix of type '<class 'numpy.float64'>'\n",
       "\twith 909 stored elements in COOrdinate format>, target=0),\n",
       " DataSet(seq=b'SEGLNQNVDVWLWQLEGSSVVTMRGQRLSLGPDDSLLVLAGTSYAWERTQGSVALSVTQDPACVKRELASVLMFESHPRAGTVLFSQGDKGTSWYIIWKGSVNVVTHGKGLVATLHEGDDFGQLALVNDAPRAATIILREDNC', adj=<143x143 sparse matrix of type '<class 'numpy.float64'>'\n",
       "\twith 841 stored elements in COOrdinate format>, target=0),\n",
       " DataSet(seq=b'HFLRVDKQDFNRILKALAKAISKNVLFSHLDDNERSDIFDAMFPVTHIDGETVIQQGNEGDNFYVIDQGEVDVYV', adj=<75x75 sparse matrix of type '<class 'numpy.float64'>'\n",
       "\twith 468 stored elements in COOrdinate format>, target=0),\n",
       " DataSet(seq=b'NGEWVTNISEGGSFGELALIYGTPRAATVKAKTDLKLWGIDRDSYRRILMGSTLRKLEQGAMLPSFKSVTGKGGIKVIDGSSVKFGRFDGAQPH', adj=<94x94 sparse matrix of type '<class 'numpy.float64'>'\n",
       "\twith 506 stored elements in COOrdinate format>, target=0),\n",
       " DataSet(seq=b'CVGLTDLVTGGDGSSMAAGFMQWENAFFPWTLNYDEIDMVLEGELHVRHEGETMIAKAGDVMFIPKGSSIEFGTTSSVKFLYVAWPANWQGRNRSPDIYNPQAGSLKTANDLNLLILRWLGLSAEYGNLYRNALFVAHYNTNAH', adj=<144x144 sparse matrix of type '<class 'numpy.float64'>'\n",
       "\twith 930 stored elements in COOrdinate format>, target=0),\n",
       " DataSet(seq=b'SIIYRLRGRAHVQVVDSNGNRVYDEELQEGHVLVVPQNFAVAGKSQSENFEYVAFKTDSRPSIANLAGENSVIDNLPEEVVANSYGLQREQARQLKNNNPFKFFVPPEPGVATGNGQPVTGNWLAGASQGDGVPIPSQIADQLRGKEFKSWRDFREQFWMAVSKDPSALENLSPSNRYFVSQGLAPYAVPEEHLGSKEKFEIHHVVPLESGGALYNIDNLVIVTPKPHSEIHKINVKCKISAQCLEPCKKAGMRFGKCMAGKCHCGCSGPWDEDDMQCHNHCKSIKGYKGGYCA', adj=<294x294 sparse matrix of type '<class 'numpy.float64'>'\n",
       "\twith 1772 stored elements in COOrdinate format>, target=0),\n",
       " DataSet(seq=b'KGGFVCKCYDKCKHVYENYPVSKCQLANQCNYDCKLRKHARSGECFYDEKRNLQCICDYCEYINVKCRGSKECLPACKAAVGKAAGKCMNGKCKCYINVKCKISRQCLEPCKDAGMRFGACMNGKCHCIG', adj=<130x130 sparse matrix of type '<class 'numpy.float64'>'\n",
       "\twith 784 stored elements in COOrdinate format>, target=0),\n",
       " DataSet(seq=b'QRCYRSPDCYSACKKLVGKATXGKCTNGRCDCINVKCKISRQCLEPCKXAGMRFGKCMNGKCHCINVKCKISRQCLEPCKKAGMREGKCMNGKCHCPEIEAQGNECLKEYGGDVGFGFCAPRIFPTICYTRCRENKGAKGGR', adj=<142x142 sparse matrix of type '<class 'numpy.float64'>'\n",
       "\twith 795 stored elements in COOrdinate format>, target=0),\n",
       " DataSet(seq=b'CRWGQGSNVKCLCDFCGDTPGFGCNGPWLEDDMQCHNHCKSIKGYNGGYCAKGGFVCKCYPETEAQDSKCLREYGGDVGFGFCAPRIFPTICYTRCRENKGAKGGRCRWGQGTNVTCLCDYCNDQPINVKCKIAAQCLKPCK', adj=<142x142 sparse matrix of type '<class 'numpy.float64'>'\n",
       "\twith 876 stored elements in COOrdinate format>, target=0),\n",
       " DataSet(seq=b'EAGMRFGACAAGKCHCDKCDKVYENYPVSKCQLANQCNYDCKLAKRARSGDCFYDKKRNLQCICDYCEYINVKCKIRAQCEKPCKDAGMRFGKCANGKCACTDVACTG', adj=<108x108 sparse matrix of type '<class 'numpy.float64'>'\n",
       "\twith 617 stored elements in COOrdinate format>, target=0),\n",
       " DataSet(seq=b'SKQCWPVCKQMFGKPNGKCMNGKCRCYQSLCEKPSGTWSGVCGNSNACKNQCINLEGAKHESCNYVFPAHKCICYVPCGFGCNGPWDEDDMACHNHCKSIKGYKGGYCAKGGFVCKCYEKLCEKPSGTWSGVCGNSNACKNQCINLEGAKHGSCNYVFPAHKCICYVPCCNGPWDEDDMQCHNHCKSIKGYKG', adj=<193x193 sparse matrix of type '<class 'numpy.float64'>'\n",
       "\twith 1310 stored elements in COOrdinate format>, target=0),\n",
       " DataSet(seq=b'GYCAKGGFKCKCYDKCKKVYENYPVSKCQLANQCNYDCKLRKH', adj=<43x43 sparse matrix of type '<class 'numpy.float64'>'\n",
       "\twith 227 stored elements in COOrdinate format>, target=0),\n",
       " DataSet(seq=b'ARSGDCFYDEKRNLQCICDYCEYQKLCTRHSGTWSGVCGNNDACKNQCIRLEGARHGSCNYVFPYHRCVCYFPCIDVKCTSPKQCLPPCAKQKEGYLVELGTGCKYECFKLGDNDYCLRECKARYGKGAGGYCYAFGCWCTQ', adj=<142x142 sparse matrix of type '<class 'numpy.float64'>'\n",
       "\twith 963 stored elements in COOrdinate format>, target=0),\n",
       " DataSet(seq=b'LYEQAVVWPLKNKTCRQDKCKKVYENYPVSKCQLANQCNYDCKLDKHARSGECFYDEKRNLQCICDYCEYACVENCRKYCQDKGARNGKCINSNCHCYSFANVNCWCQTGCAGPWDEDDMQCHNHCKS', adj=<128x128 sparse matrix of type '<class 'numpy.float64'>'\n",
       "\twith 622 stored elements in COOrdinate format>, target=0),\n",
       " DataSet(seq=b'IKGYKGGYCAKGGFVCKCYGFGCNGPWDEDDMQCHNHCKSIKGYFGGYCAKGGFVCKCYKDGYIVKNYNCTYFCFRNAYCNEECTKLKGESGYCQWASPYGNACYCYKLPDHVPIRVPGKCHGF', adj=<124x124 sparse matrix of type '<class 'numpy.float64'>'\n",
       "\twith 741 stored elements in COOrdinate format>, target=0),\n",
       " DataSet(seq=b'GCNGPWDEDDGQCHRHCKSIKGYKGGYCAKAGFVCKCYYEDCSGLVSFTGFIKQINLTAREALLYFFHKNFEEEIRRMFEPGQETAIPHSYFIHFRSLGLSGKSPYSSNAVGHV', adj=<114x114 sparse matrix of type '<class 'numpy.float64'>'\n",
       "\twith 653 stored elements in COOrdinate format>, target=0),\n",
       " DataSet(seq=b'FNLIHFVGCYMGQVRSLNATVIATCAPHEMSVLGGYLGEEFFGKGTFERRFFRDEXELQEYEAAELTKTEVALADDGTVNSDDEDYFSSETRSPEAVYTRIMMNGSRLKRSHIRRYVSVSSNHQARPNSFAEFLSKTYEDCSGL', adj=<144x144 sparse matrix of type '<class 'numpy.float64'>'\n",
       "\twith 736 stored elements in COOrdinate format>, target=0),\n",
       " DataSet(seq=b'VSFTGFIKQINLTAREAILYFFHKNFEEEIRRMFEPGQETAIPHSYFIHFRSLGLSGKSPYSSNAVGHVFNLIHFVGCYMGQVRSLNATVIAACAPHEMSVLGGYLGEEFFGKGTFERRFFRDEKELQEYETAELT', adj=<136x136 sparse matrix of type '<class 'numpy.float64'>'\n",
       "\twith 794 stored elements in COOrdinate format>, target=0),\n",
       " DataSet(seq=b'KTDVALADDGTANSDDEDYFSGETRSPEAVYARIMMNGGRLKRSHIRRYVSVSSNHQARPNSFAEFLNKTYEDCSGLVSFTGFIKQINLTAREALLYFFHKNFEE', adj=<105x105 sparse matrix of type '<class 'numpy.float64'>'\n",
       "\twith 490 stored elements in COOrdinate format>, target=0),\n",
       " DataSet(seq=b'EIRRMFEPGQETAVPHSYFIHFRSLGLSGKSPYSSNAVGHVFNLIHFIGCYMGQVRSLNATVIATCAPHEMSVLGGYLGEEFFGKGTFERRFFRDEKELQEYEAAELTKAETALADDGTVNSDDEDYFSSETRSPEAVYTRIMMNGGRLKRSHIRRYVSVSSNH', adj=<164x164 sparse matrix of type '<class 'numpy.float64'>'\n",
       "\twith 821 stored elements in COOrdinate format>, target=0),\n",
       " DataSet(seq=b'QTRPNSFAEFLNKTKRSHIRRYVSVSSNHQTRPNSFAEFLNKTYEDCSGLVSFTGFIKQINLTAREAILYFFHKNFEEEIRRMFEPGQETAVPHSYFIHFRSLGLSGKSPYSSNAV', adj=<116x116 sparse matrix of type '<class 'numpy.float64'>'\n",
       "\twith 597 stored elements in COOrdinate format>, target=0),\n",
       " DataSet(seq=b'GHVFNLIHFVGCYMGQVRSLNATVIAACAPHEMSGLGGYLGEELFGKGTFERRFFRDEKELQEYEAAELMKTDVALADDGTVNSDDEDYFSGETRSPEAVYTRIMMNGGRLKRSHIRRYVAVSSNHQARPNSFAEFLSKTYEDCSGLVSFTGFIKQINLTAREAILYFFHKNFEEEIKRMFEPGQETAVPHSYFIHFRSLGXSGKSPYSSNAVGHVFNLIHFVGCYMGQIRSLNATVIQSCAPHEMSVXGGYX', adj=<253x253 sparse matrix of type '<class 'numpy.float64'>'\n",
       "\twith 1457 stored elements in COOrdinate format>, target=0),\n",
       " DataSet(seq=b'GEEFFGKGTXERRFFRDEKELQDYEEAEAXKIEXALADXGTVNSDDEDFFSGDTRSPEAVYTRIMMNGGRLKGAHIRRYVSVSXSHQARPNSFAEFLNKTYEDCSGLVSFTGFIKQINLTAREAILYFFHKNFE', adj=<134x134 sparse matrix of type '<class 'numpy.float64'>'\n",
       "\twith 587 stored elements in COOrdinate format>, target=0),\n",
       " DataSet(seq=b'EEIKRMFEPGQETAVPHSYFIHFRSLGLSGKSPYSSNAVGHVFNLIHFVGCYMGQVRSLNATVIAACAPHEMSVLGGYLGEEFFGKGTFERRFFRDEKELQEYEAAELTKTDVALADDGTVNSDDEDYFSGE', adj=<132x132 sparse matrix of type '<class 'numpy.float64'>'\n",
       "\twith 636 stored elements in COOrdinate format>, target=0),\n",
       " DataSet(seq=b'TRSPEAVYTRIMMNGGRLKRSHIRRYVSVSSNHQARPNSFADFLNKTYEDCSGLVSFTGFIKQINLTAREAILYFFHKNFEEEIRRMFEPGQETAVPHSYFIHFRSLGLSGKSPYSSNAVGHVFNLIHFVGCYMGQVRSLNAT', adj=<143x143 sparse matrix of type '<class 'numpy.float64'>'\n",
       "\twith 883 stored elements in COOrdinate format>, target=0),\n",
       " DataSet(seq=b'VIAACAPHEMSVLGGYLGEEFFGKGTFERRFFRDEKELQEYEAAELTKTDVALADDGTVNSDDEDYFSGETRSPEAAYTRIMMNGGRLKRSHIR', adj=<94x94 sparse matrix of type '<class 'numpy.float64'>'\n",
       "\twith 361 stored elements in COOrdinate format>, target=0),\n",
       " DataSet(seq=b'RYVSVSSNHQARPNSFAEFLNKTTQKAKGQEQWFRVSLRNLLGYYNQSAGGSHTLQ', adj=<56x56 sparse matrix of type '<class 'numpy.float64'>'\n",
       "\twith 300 stored elements in COOrdinate format>, target=0),\n",
       " DataSet(seq=b'QMSGCDLGSDWRLLRGYLQFAYEGRDYIALNEDLKTWTAADMAAQITLHKWEQAGIAERDRAYLEGACVQSQLSFRMLQTSSFANHSWAHSEGSGWLGDLQTHGWDTVLGTIRFLK', adj=<116x116 sparse matrix of type '<class 'numpy.float64'>'\n",
       "\twith 652 stored elements in COOrdinate format>, target=0),\n",
       " DataSet(seq=b'PWSHGNFSKQELKNLQSLFQLYFHSFIQIVQASAGQFQLELKPEAWLSCGGPHSLRYFHTAVSWPGLVEPRFIIVGYVDDTQFVRFDSDAENPRMEPRARWMEQEGPEYWERETQKAKGHEESFR', adj=<125x125 sparse matrix of type '<class 'numpy.float64'>'\n",
       "\twith 723 stored elements in COOrdinate format>, target=0),\n",
       " DataSet(seq=b'VSLRTAQRYYNQSKGGSHTLQWMYGCDVGSDERLLRGYLQFAYEGRDYIALMEDLKTWTAADMAAQITLHKWEQAGIAERDDRAYLEGACVQSLRRYLQLRKETLLGSHSLRYFHTAVSRP', adj=<121x121 sparse matrix of type '<class 'numpy.float64'>'\n",
       "\twith 804 stored elements in COOrdinate format>, target=0),\n",
       " DataSet(seq=b'GRWEPRFISVGYVDDTQFVRFDSDAESPRMEPRAPWMEQEGPEYWEEQARIAKEAAQTFRGNLRTLRGYYNQSEGGSHTLQWMYGCDLGPDGRLLRGYDQSAYDGRDYIVLNEDLRSWTAADMAAQNTQRKWEAARAAERQRAYLEGECPEWLRRYLENGKEMLQSHSVRYFDTAVSRPGRGEPRFISVGYVDDTQFVRFDSDAASPRGEPRAPWVEQEGPEYWDRETQNYKRQAQADRVSLRNLRGYYNQSEDGSHTLQRMYGCDLGPDGRLLRGYDQSAYDGKDYIALNEDL', adj=<294x294 sparse matrix of type '<class 'numpy.float64'>'\n",
       "\twith 1815 stored elements in COOrdinate format>, target=0),\n",
       " DataSet(seq=b'RSWTAADTAAQITQRKLEAARAAEQLRAYLEGTCVEWLRRYLENGKETLQRGSHSMRYFSTAVSRPGRGEPRFIAVGYVDDTQFVRF', adj=<87x87 sparse matrix of type '<class 'numpy.float64'>'\n",
       "\twith 570 stored elements in COOrdinate format>, target=0),\n",
       " DataSet(seq=b'DSDAVSPRVEPLVPLIEQEGPEYWDQETQKAKTQAQNDRVSLRNLRGYYNQSEDGSHTWQRMYGCDVGPDGRLLRGYCQFAYDGKDYIALNEDLSSWTAADTAAQITQRKWEAAREAEQLRAYLEGLCVESLRRYLENGKETLQRSHSMRYFDTAVSRPGRGEPRFI', adj=<167x167 sparse matrix of type '<class 'numpy.float64'>'\n",
       "\twith 1037 stored elements in COOrdinate format>, target=0),\n",
       " DataSet(seq=b'SVGYVDDTQFVRFDSDAASPRGEPRAPWVEQEGPEYWDRETQNYKRQAQADRVSLRNLRGYYNQ', adj=<64x64 sparse matrix of type '<class 'numpy.float64'>'\n",
       "\twith 391 stored elements in COOrdinate format>, target=0),\n",
       " DataSet(seq=b'SEDGSHTWQRMYGCDLGPDGRLLRGYDQSAYDGKDYIALNEDLRSWTAADTAAQITQRKLEAARAAEQLRAYLEGTCVEWLRRYLENGKETLQRGSHSLRYFGTTVSRPGRGEPRFIA', adj=<118x118 sparse matrix of type '<class 'numpy.float64'>'\n",
       "\twith 752 stored elements in COOrdinate format>, target=0),\n",
       " DataSet(seq=b'VGYVDDTQFVRFDNDAESPRMEPRAPWMEQEGPEYWEEETRIAKARAQTERGNLRTALRYYNQSEGGSHTLQKMCGCDLGPDGRLLRGYYQSAYDGRDYIALNEDLRSWTAAGEAAQNTQRKWEAAGEAEQRRAYLEGRCVEWLRRYLEKGK', adj=<152x152 sparse matrix of type '<class 'numpy.float64'>'\n",
       "\twith 964 stored elements in COOrdinate format>, target=0),\n",
       " DataSet(seq=b'ETLQRGSHSLRYFYTSVSRPGRGEPRFIAVGYVDDTQFVRFDSDAANPRVEPRAPWIEQEGPEYWDQQTRNAKANAQTDRVDLRTLRGYYNQSDAGSHTIQWMYGCDVGPEGRFLRGYPQDA', adj=<122x122 sparse matrix of type '<class 'numpy.float64'>'\n",
       "\twith 756 stored elements in COOrdinate format>, target=0),\n",
       " DataSet(seq=b'YDGKDYIALNEDLRSWTAADMAAQITKRKWEAANAAEQRRAYLEGTCVEGLLRYLENGKETLQGSHSLSYFHISVSRPGGEPRFITVGYVDDSQFVRFDSDAATPKKE', adj=<108x108 sparse matrix of type '<class 'numpy.float64'>'\n",
       "\twith 676 stored elements in COOrdinate format>, target=0),\n",
       " DataSet(seq=b'PRAPWIEQEGPEYWERETQISKSNAQTYRVDLNTLRGYYNQSAGGSHTLQRMYGCEVGTEGRLLRGYLQDAYDGKDYIALNDDLRSWTAADTAAHITKRKWEAAGVAEQHRAYLEGTCVEWLGRYLEGSHSL', adj=<132x132 sparse matrix of type '<class 'numpy.float64'>'\n",
       "\twith 832 stored elements in COOrdinate format>, target=0),\n",
       " DataSet(seq=b'RYFSTAVSRPGLEEPRFIIVGYVDDTQFVRFDSDAPDPRKEPRAPWIEKEGPEYWDRETRISKENTLVYRGSLNNLRGYYNQSEAGSHTYQDMYGCDVGPDGRLLGGYDQYGYDGRDYLALNEDLRSWTAADTAA', adj=<135x135 sparse matrix of type '<class 'numpy.float64'>'\n",
       "\twith 835 stored elements in COOrdinate format>, target=0),\n",
       " DataSet(seq=b'QITKRKWEAAGVAERFRNYVEGRCVEGLRRYLENGKDALLRSHSMRYFYTSVSRPGRGEPRFISVGYVDDTQFVRFDSDAASPREEPRAPWIEQEGPEYWDRNTQICKTNTQTDRESLRNLRGYYNQSEA', adj=<130x130 sparse matrix of type '<class 'numpy.float64'>'\n",
       "\twith 827 stored elements in COOrdinate format>, target=0),\n",
       " DataSet(seq=b'GSHTWQRMYGCDLGPDGRLLRGYNQLAYDGKDYIALNEDLSSWTAADTAAQITQRKWEAARVAEQDRAYLEGLCVESLRRYLENGKETLQRSHSMRYFYTAVSRPGRGEPRFIAVGYVDDTQFVQ', adj=<125x125 sparse matrix of type '<class 'numpy.float64'>'\n",
       "\twith 828 stored elements in COOrdinate format>, target=0),\n",
       " DataSet(seq=b'FDSDAASPRGEPQAPWVEQEGPEYWDRETQKYKRQAQTDRVSLRNLRGYYNQSEAGSHTLQRMYGCDLGPDGRLLRGYNQFAYDGKDYIALNEDLRSWTAADKAAQITQRKWEAAREAEQRRAYLEG', adj=<127x127 sparse matrix of type '<class 'numpy.float64'>'\n",
       "\twith 786 stored elements in COOrdinate format>, target=0),\n",
       " DataSet(seq=b'TCVEWLRRYLENGKKTLQRSHSMRYFYTAMSRPGRGEPRFIAVGYVDDTQFVRFDSDAASPREEPRAPWIEQEGPEYWDRNTQIYKAQ', adj=<88x88 sparse matrix of type '<class 'numpy.float64'>'\n",
       "\twith 568 stored elements in COOrdinate format>, target=0),\n",
       " DataSet(seq=b'AQTDRESLRNLRGYYNQSEAGSHTWQTMYGCDLGPDGRLLRGHNQLAYDGKDYIALNEDLSSWTAADTAAQITQRKWEAAREAEQWRAYLEGTCVEWLRRYLENGKETLQRGSHSMRYFYTSMSRPGRGQPRFIAVGYVDDTQFVRFDSDAASQRMEPRAPWVEQEGPEYWDRET', adj=<175x175 sparse matrix of type '<class 'numpy.float64'>'\n",
       "\twith 1108 stored elements in COOrdinate format>, target=0),\n",
       " DataSet(seq=b'RIMKADTQSYRESLRNLRGYYNQSEAGSHTYQTMYGCDLGPDGRLLRGYDQYAYDGRDYIALNGDLRSWTAADMAAQNTQRKWEAAGAAERFRTYVEGRCVESLRRYLENGKETLQRQRLFPLRCLQISSFANSNW', adj=<136x136 sparse matrix of type '<class 'numpy.float64'>'\n",
       "\twith 845 stored elements in COOrdinate format>, target=0),\n",
       " DataSet(seq=b'TRTDGLAWLGELQTHSWSNDSDTIRSLKPWSQGTFSDQQWEALQRVFRVYRSSFTRDVKEFAKMLRLAYPMELQVSAGCEVQPGNASHNFFHVAFQGSDILSFQGTSWEPAQEAPLWVNLAIQVLNQDNWTKETVQWLLNDTCPQFVSGLLESGKGSHSLRYFYTGVSRPGRGEPRFIA', adj=<179x179 sparse matrix of type '<class 'numpy.float64'>'\n",
       "\twith 1096 stored elements in COOrdinate format>, target=0),\n",
       " DataSet(seq=b'VGYVDDTQFVRFDSDAPNPREEPRAPWVEQEGPEYWDRNTRIYKEAAQIYRVDLNTLRGYYNQSEAGSHTIQEMYGCDVGPDGRLLRGYSQDAYDGADYIALNEDLRSWTAADAAAQITKG', adj=<121x121 sparse matrix of type '<class 'numpy.float64'>'\n",
       "\twith 756 stored elements in COOrdinate format>, target=0),\n",
       " DataSet(seq=b'KWEAAGAAEQLRNYVEGTCVEWLLRYLETGKDTLQSHSMRYFYTAVSRPSRGEPHFIAVGYVDDTQFVRFDSDAASPRGEPRAPWVEQEGPEYWDRETQNYKRQAQTDRVNLRKLRGYYNQSEAGSHIIQRMYGCDLGPDGRLLRGHDQLAY', adj=<152x152 sparse matrix of type '<class 'numpy.float64'>'\n",
       "\twith 995 stored elements in COOrdinate format>, target=0),\n",
       " DataSet(seq=b'DGKDYIALNEDLRSWTAADTAAQITQRKWEAAREAEQLRAYLEGTCVEWLRRYLENGKETLQRGSHSMRYFYTAMSRPGRGEPRFIAVGYVDDKQFVRFDSDAASPREEPRAPWIEQEGPEYWDRNTQIYKAQAQTDRESLRNLRGYYNQSEAGSHTWQTMYGCDLGPDGRLLRGHNQLAYDGKDYIALNEDLSSWTAADTAAQITQRKWEAARVAEQLRAYLEGLCVEWLRRYLENGKETLQRPHSLRYNL', adj=<252x252 sparse matrix of type '<class 'numpy.float64'>'\n",
       "\twith 1623 stored elements in COOrdinate format>, target=0),\n",
       " DataSet(seq=b'TVLSWDGSVQSGFLTDVHLDGQPFLRCDRQKCRAKPQGQWAEDVLGNKTWDRE', adj=<53x53 sparse matrix of type '<class 'numpy.float64'>'\n",
       "\twith 275 stored elements in COOrdinate format>, target=0),\n",
       " DataSet(seq=b'TRDLTGNGKDLRMTLAHIKDQKEGLHSLQEIRVCEIHEDNSTRSSQHFYYDGELFLSQNLETEEWTMPQSSRAQTLAM', adj=<78x78 sparse matrix of type '<class 'numpy.float64'>'\n",
       "\twith 499 stored elements in COOrdinate format>, target=0),\n",
       " DataSet(seq=b'NVRNFLKEDAMKTKTHYHAMHADCLQELRRYLKSGVVGYVDDTQFVRFDSDSHSMRYFYTSVSRPGRGEPRFIAVGYVDDTQFVRFDSDAASQRMEPRAPWIEQEGPEYWDRNTRNVKAHS', adj=<121x121 sparse matrix of type '<class 'numpy.float64'>'\n",
       "\twith 1134 stored elements in COOrdinate format>, target=0),\n",
       " DataSet(seq=b'QTHRVDLGTLRGYYNQSEDGSHTIQRMYGCDVGPDGRFLRGYQRDAYDGKDYIALNEDLRSWTAADMAAQITQRKWETAHEAEQWRAY', adj=<88x88 sparse matrix of type '<class 'numpy.float64'>'\n",
       "\twith 1082 stored elements in COOrdinate format>, target=0),\n",
       " DataSet(seq=b'LEGRCVEWLRRYLENGKETLQRMYGCDLGPDGRLLRGYDQSAYDGKDYIALNEDLRSWTAADTAAQITQRKLEAARAAEQLRAYLEGTCVEWLRRYLENGKETLQRAEPPKTHGSHSMRYFYTAVSRPGRGQPRFMSVGYVDDTQFVRFDSDAESPREEPRAPWVEQEGPEYWDRNTRIYKAATQNYREGLRNLRGYYNQS', adj=<201x201 sparse matrix of type '<class 'numpy.float64'>'\n",
       "\twith 1311 stored elements in COOrdinate format>, target=0),\n",
       " DataSet(seq=b'EVGSHTFQRMYGCDLGPDGRLLRGYEQYAYDGRDYIALNEDLRSWTAADMAAQNTQRKWEAAGAAEQMRAYLEGTCLEWLRRYLENGKETLQGPHSLSYFYTAVSRPDRGDSRFIAVGYVDDTQFVRFDNYAPNPRMEPRVPWIQQEGQEYWDRETRNVKETAQTYGVGLNTLRGYYNQSEAGSHTLQSMY', adj=<191x191 sparse matrix of type '<class 'numpy.float64'>'\n",
       "\twith 1210 stored elements in COOrdinate format>, target=0),\n",
       " DataSet(seq=b'GCYLGPDGLLLHGYRQDAYDGADYIALNEDLRSWTAADMAAQITKRKWETANVAERRRSYLEGTCVEWLQKYLQMGKDTLQRGSHSMRYFYTSVSRPGRGEPRFIAVGYVDDTQFVRFDSDAASQRMEPRAPW', adj=<133x133 sparse matrix of type '<class 'numpy.float64'>'\n",
       "\twith 855 stored elements in COOrdinate format>, target=0),\n",
       " DataSet(seq=b'IEQEGPEYWDQETRNVKAQSQTDRVDLGTLRGYYNQSEDGSHTIQIMYGCDVGPDGRFLRGYRQDAYHGKDYIALNEDLRSWTAADMAAQITKRKWEAAHAAEQQRAYLEGRCVEWLRRYLENGKETLQSHSMRYFHTSVSRPGRGEP', adj=<148x148 sparse matrix of type '<class 'numpy.float64'>'\n",
       "\twith 939 stored elements in COOrdinate format>, target=0),\n",
       " DataSet(seq=b'RFITVGYVDDTLFVRFDSDAASPREEPRAPWIEQEGPEYWDRETQICKAKAQTDREDLRTLLRYYNQSEAGSHTLQSMYGCDVGPDGRLLRGHNQYAYDGKDYIALNEDLRSWTAADTAAQITQRKWEAARVAEQLRAYLEGECVEW', adj=<147x147 sparse matrix of type '<class 'numpy.float64'>'\n",
       "\twith 926 stored elements in COOrdinate format>, target=0),\n",
       " DataSet(seq=b'LRRYLENGKETLQRSHSLRYFSAGTSRPGRGEPRFISVGYVDD', adj=<43x43 sparse matrix of type '<class 'numpy.float64'>'\n",
       "\twith 286 stored elements in COOrdinate format>, target=0),\n",
       " DataSet(seq=b'TQFLRFDSDAASPRMEPRAPWAEQEGLEYWEEQTGLAKDFTQSFRVGLGNLRGYYNQSEAGSHTLQWMYGCDLGPDGRLLRGYHQSAYDGKDYIALNGDLRSWTAADTAAQITQRKWEVAREAEQVRAHLEGTCVEW', adj=<137x137 sparse matrix of type '<class 'numpy.float64'>'\n",
       "\twith 850 stored elements in COOrdinate format>, target=0),\n",
       " DataSet(seq=b'LRRHLENGKETLQRSHSMRYFYTAVSRPGRGEPRFIAVGYVDDTQFVRFDSDAASPRGEPRAPWVEQEGPEYWDGETQKYKRQAQTDRVNLRKLRGYYNQSEAGSHT', adj=<107x107 sparse matrix of type '<class 'numpy.float64'>'\n",
       "\twith 672 stored elements in COOrdinate format>, target=0),\n",
       " DataSet(seq=b'LQWMYGCDLGPDGRLLRGYDQSAYDGKDYIALNEDLRSWTAADTAAQITQRKWEAARAAEQQRAYLEGTCVEWLRRYLENGKETLQRSHSMRYFYTAMSRPGRGEPRFITVGYVDDTLFVRFDSDATSPRKEPRAPWIEQEGPEYWDRETQISKTNTQTYRENLRTALRYYNQSEAGSHIIQ', adj=<182x182 sparse matrix of type '<class 'numpy.float64'>'\n",
       "\twith 1171 stored elements in COOrdinate format>, target=0),\n",
       " DataSet(seq=b'RMYGCDVGPDGRLLRGYDQDAYDGKDYIALNEDLSSWTAADTAAQITQRKWEAARVAE', adj=<58x58 sparse matrix of type '<class 'numpy.float64'>'\n",
       "\twith 361 stored elements in COOrdinate format>, target=0),\n",
       " DataSet(seq=b'QLRAYLEGLCAESLRRYLENGKETLQRTQFVRFDSYAESPRMEPRAPWMEQEGPEYWEEQTRIVKD', adj=<66x66 sparse matrix of type '<class 'numpy.float64'>'\n",
       "\twith 365 stored elements in COOrdinate format>, target=0),\n",
       " DataSet(seq=b'VAQTFRVDLGTLRGYYNQSEAGSHTIQTMYGCDLGPDGRLLRGYYQDAYDGRDYIALNEDLRSWTAADEAAQNTQRKWEAAGVAEQWRAYLEGLHTLRYIHTAMTDPGPGQPWFVDVGYVDGELFVHYNSTARRYVPRTEWMAANADQQYWDGQTQIGQGNEQIDRENLGILQRRYNQTGSHSMRYFHTSVSR', adj=<193x193 sparse matrix of type '<class 'numpy.float64'>'\n",
       "\twith 1087 stored elements in COOrdinate format>, target=0),\n",
       " DataSet(seq=b'PGRGEPRFITVGYVDDTLFVRFDSDATSPRKEPRAPWIEQEGPEYWDRETQISKTNTQTYRESLRNLRGYYNQSEAGSHTLQRMYGCDVGPDGRLLRGHDQSAYDGKDYI', adj=<110x110 sparse matrix of type '<class 'numpy.float64'>'\n",
       "\twith 863 stored elements in COOrdinate format>, target=0),\n",
       " DataSet(seq=b'ALNEDLRSWTAADTAAQITQRKWEAARVAEQLRAYLEGECVEWLRRYLENGKETLQRSHSMRYFSTSVSWPGRGEPRFIAVGYVDDTQFVRFDSDAASPRGEPREPWVEQEGPEYWDRETQKYKRQAQADLVNLRKLRGYYNQ', adj=<143x143 sparse matrix of type '<class 'numpy.float64'>'\n",
       "\twith 991 stored elements in COOrdinate format>, target=0),\n",
       " DataSet(seq=b'SEDGSHTLQRMFGCDLGPDGRLLRGYNQFAYDGKDYIALNEDLRSWTAADTAAQITQRKWEAAREAEQRRAYLEGTCVEWLRRYLENGKETLQRGSHSMRYFSTSVSRPGRREPWHLEVGYVDDTQFVRF', adj=<130x130 sparse matrix of type '<class 'numpy.float64'>'\n",
       "\twith 830 stored elements in COOrdinate format>, target=0),\n",
       " DataSet(seq=b'DSDAESPRMEPRAPWAEQEGPEYWEEQTRIAKANAQTERGNLRTALRYYNQSEGGSHTLQRMYGCDLGPDGHLLRGYHQLAYDGKDYIALNEDLRSWTAADMTARFTQRKWEAAREAEQWRAYLEGRCLEWLSRYLENGKETLQSHSMRYFDTAVSRPGRGEPRFISVGYVDDTQFVRFDSDAASPRGEPRAPWVEQEGPEYWDRETQKYKRQAQADRVSLRNLRGYYNQSEDGSHTLQRMSGCDLGPDGRLLRGYDQSAYDGKDYIALNEDLRSWTAADTAAQITQRKLEAARAAEQLRAYLE', adj=<304x304 sparse matrix of type '<class 'numpy.float64'>'\n",
       "\twith 1872 stored elements in COOrdinate format>, target=0),\n",
       " DataSet(seq=b'GTCVEWLRRYLENGRETLQRSHSMRYFHTSVSRPGRGEPRFITVGYVDDTLFVRFDSDAASPREEPRAPWIEQEGPEYWDRETQICKAKAQTDREDLRTLLRYYNQSEAGSHTLQNMYGCDVGPD', adj=<125x125 sparse matrix of type '<class 'numpy.float64'>'\n",
       "\twith 808 stored elements in COOrdinate format>, target=0),\n",
       " DataSet(seq=b'GRLLRGYHQSAYDGKDYIALNEDLSSWTAADTAAQITQRKWEAARVAEQLRAYLEGECVEWLRRYLENGKETLQRSHSMRYFFTSVSRPGRGEARFIAVGYVDDTQFVRFDSDAASQRMEPRAPWIEQEGPEYWDGETRKVKAHSQTHRVDLGTLRGYYNQSEAGSHTVQRMYGCDVGSDWRFLRGYHQYAYDGKDYIALKE', adj=<202x202 sparse matrix of type '<class 'numpy.float64'>'\n",
       "\twith 1308 stored elements in COOrdinate format>, target=0),\n",
       " DataSet(seq=b'DLRSWTAADMAAQTTKHKWEAAHVAEQLRAYLEGTCVEWLRRYLENGKETLQRGSHSMRYFSAAVSRPGRGEPRFIVVGYVDDTQFVRFDSDAASPRMEPRAPWMEQEGPEYWEEQTRRVKDAAQTFRVSLGNLRGYYN', adj=<139x139 sparse matrix of type '<class 'numpy.float64'>'\n",
       "\twith 871 stored elements in COOrdinate format>, target=0),\n",
       " DataSet(seq=b'QSEAGSHTLQWMYGCDLGPDGRLLHGYHQFAYDGKDYIALNGDLRSWTAADMAAQNTQRKWEAAREAERMRAHLEGTCVEWLLRHMENGKETLQRGSHSMRYFHTAVSRPGRGEPRFISVGYVDDTQFVRFDSDAASPRMEPRA', adj=<144x144 sparse matrix of type '<class 'numpy.float64'>'\n",
       "\twith 922 stored elements in COOrdinate format>, target=0),\n",
       " DataSet(seq=b'PWMEQEGPEYWEEETRIAKANAQTERGNLRTLRGYYNQSEGGSHTIQTMYGCDLGPDRHLLRGYRQDAYDGRDYIALNEDLRSWTAADMAAQNTQRKWEAARTAERWRAYLE', adj=<112x112 sparse matrix of type '<class 'numpy.float64'>'\n",
       "\twith 699 stored elements in COOrdinate format>, target=0)]"
      ]
     },
     "execution_count": 55,
     "metadata": {},
     "output_type": "execute_result"
    }
   ],
   "source": [
    "dataset_1"
   ]
  },
  {
   "cell_type": "code",
   "execution_count": null,
   "metadata": {
    "collapsed": true
   },
   "outputs": [],
   "source": []
  },
  {
   "cell_type": "code",
   "execution_count": null,
   "metadata": {
    "collapsed": true
   },
   "outputs": [],
   "source": []
  },
  {
   "cell_type": "code",
   "execution_count": null,
   "metadata": {
    "collapsed": true
   },
   "outputs": [],
   "source": []
  },
  {
   "cell_type": "code",
   "execution_count": null,
   "metadata": {
    "collapsed": true
   },
   "outputs": [],
   "source": []
  },
  {
   "cell_type": "code",
   "execution_count": null,
   "metadata": {
    "collapsed": true
   },
   "outputs": [],
   "source": []
  },
  {
   "cell_type": "code",
   "execution_count": null,
   "metadata": {
    "collapsed": true
   },
   "outputs": [],
   "source": []
  },
  {
   "cell_type": "code",
   "execution_count": null,
   "metadata": {
    "collapsed": true
   },
   "outputs": [],
   "source": [
    "raise Exception"
   ]
  },
  {
   "cell_type": "code",
   "execution_count": null,
   "metadata": {
    "collapsed": true
   },
   "outputs": [],
   "source": [
    "np.hstack([np.arange(5), np.array([1,2,3])])"
   ]
  },
  {
   "cell_type": "code",
   "execution_count": null,
   "metadata": {
    "collapsed": true
   },
   "outputs": [],
   "source": [
    "np.r_[range(5), [1,2,3]]"
   ]
  },
  {
   "cell_type": "code",
   "execution_count": null,
   "metadata": {
    "collapsed": true
   },
   "outputs": [],
   "source": [
    "np.r_[[1,2,3], [4,5,6]]"
   ]
  },
  {
   "cell_type": "code",
   "execution_count": null,
   "metadata": {
    "collapsed": true,
    "run_control": {
     "marked": true
    }
   },
   "outputs": [],
   "source": [
    "rs = np.random.RandomState(42)\n",
    "rs.rand(32)"
   ]
  },
  {
   "cell_type": "code",
   "execution_count": null,
   "metadata": {
    "collapsed": true
   },
   "outputs": [],
   "source": []
  },
  {
   "cell_type": "code",
   "execution_count": null,
   "metadata": {
    "collapsed": true
   },
   "outputs": [],
   "source": [
    "import torch\n",
    "from scipy import sparse"
   ]
  },
  {
   "cell_type": "code",
   "execution_count": null,
   "metadata": {
    "collapsed": true
   },
   "outputs": [],
   "source": [
    "def gen_seq(length=10_000):\n",
    "    idx_1 = np.random.RandomState(41).randint(0, 20, length, dtype=np.int16)\n",
    "    idx_2 = np.arange(length, dtype=int)\n",
    "    seq = np.zeros((20, length), dtype=np.int16)\n",
    "    seq[idx_1, idx_2] = 1\n",
    "    return seq\n",
    "\n",
    "\n",
    "assert (gen_seq(30).sum(axis=0) == 1).all()"
   ]
  },
  {
   "cell_type": "code",
   "execution_count": null,
   "metadata": {
    "collapsed": true
   },
   "outputs": [],
   "source": [
    "def gen_seq_sparse(length=10_000):\n",
    "    idx_1 = np.random.RandomState(41).randint(0, 20, length, dtype=int)\n",
    "    idx_2 = np.arange(length, dtype=int)\n",
    "    seq = sparse.coo_matrix(([1] * length, (idx_1, idx_2)), dtype=np.int16)\n",
    "    return seq\n",
    "\n",
    "\n",
    "assert (gen_seq_sparse(30).toarray().sum(axis=0) == 1).all()"
   ]
  },
  {
   "cell_type": "code",
   "execution_count": null,
   "metadata": {
    "collapsed": true
   },
   "outputs": [],
   "source": [
    "def gen_adj(seq_length=10_000, interaction_length=200_000):\n",
    "    idx_1 = np.random.RandomState(41).randint(0, seq_length, interaction_length, dtype=int)\n",
    "    idx_2 = np.arange(interaction_length, dtype=int)\n",
    "    seq = np.zeros((seq_length, interaction_length), dtype=np.int16)\n",
    "    seq[idx_1, idx_2] = 1\n",
    "    return seq\n",
    "\n",
    "\n",
    "assert (gen_adj(10, 100).sum(axis=0) == 1).all()"
   ]
  },
  {
   "cell_type": "code",
   "execution_count": null,
   "metadata": {
    "collapsed": true
   },
   "outputs": [],
   "source": [
    "def gen_adj_sparse(seq_length=10_000, interaction_length=200_000):\n",
    "    idx_1 = np.random.RandomState(41).randint(0, seq_length, interaction_length, dtype=int)\n",
    "    idx_2 = np.arange(interaction_length, dtype=int)\n",
    "    adj = sparse.coo_matrix(([1] * interaction_length, (idx_1, idx_2)), dtype=np.int16)\n",
    "    return adj\n",
    "\n",
    "\n",
    "assert (gen_adj(10, 100).sum(axis=0) == 1).all()"
   ]
  },
  {
   "cell_type": "code",
   "execution_count": null,
   "metadata": {
    "collapsed": true
   },
   "outputs": [],
   "source": [
    "def to_torch_sparse(sparray):\n",
    "    return torch.sparse.FloatTensor(\n",
    "        torch.LongTensor(np.vstack([sparray.row, sparray.col])),\n",
    "        torch.FloatTensor(sparray.data))"
   ]
  },
  {
   "cell_type": "code",
   "execution_count": null,
   "metadata": {
    "collapsed": true
   },
   "outputs": [],
   "source": []
  },
  {
   "cell_type": "code",
   "execution_count": null,
   "metadata": {
    "collapsed": true
   },
   "outputs": [],
   "source": [
    "def test_mat_multiply_nocuda(use_streams):\n",
    "    seq_cuda = to_torch_sparse(gen_seq_sparse(600)).to_dense()\n",
    "    adj_cuda = to_torch_sparse(gen_adj_sparse(600, 2400)).to_dense()\n",
    "\n",
    "    for i in range(10_000):\n",
    "        result = seq_cuda @ adj_cuda"
   ]
  },
  {
   "cell_type": "code",
   "execution_count": null,
   "metadata": {
    "collapsed": true
   },
   "outputs": [],
   "source": [
    "%time test_mat_multiply_nocuda(None)"
   ]
  },
  {
   "cell_type": "code",
   "execution_count": null,
   "metadata": {
    "collapsed": true
   },
   "outputs": [],
   "source": [
    "def test_mat_multiply_nocuda(use_streams):\n",
    "    seq_cuda = to_torch_sparse(gen_seq_sparse(6000)).to_dense()\n",
    "    adj_cuda = to_torch_sparse(gen_adj_sparse(600, 2400)).to_dense()\n",
    "\n",
    "    for i in range(1_000):\n",
    "        start = 0\n",
    "        for _ in range(10):\n",
    "            stop = start + 600\n",
    "            result = seq_cuda[:, start:stop] @ adj_cuda\n",
    "            start = stop"
   ]
  },
  {
   "cell_type": "code",
   "execution_count": null,
   "metadata": {
    "collapsed": true
   },
   "outputs": [],
   "source": [
    "%time test_mat_multiply_nocuda(None)"
   ]
  },
  {
   "cell_type": "code",
   "execution_count": null,
   "metadata": {
    "collapsed": true
   },
   "outputs": [],
   "source": [
    "def test_mat_multiply_nocuda(use_streams):\n",
    "    seq_cuda = to_torch_sparse(gen_seq_sparse(60000)).to_dense()\n",
    "    adj_cuda = to_torch_sparse(gen_adj_sparse(600, 2400)).to_dense()\n",
    "\n",
    "    for i in range(100):\n",
    "        start = 0\n",
    "        for _ in range(100):\n",
    "            stop = start + 600\n",
    "            result = seq_cuda[:, start:stop] @ adj_cuda\n",
    "            start = stop"
   ]
  },
  {
   "cell_type": "code",
   "execution_count": null,
   "metadata": {
    "collapsed": true
   },
   "outputs": [],
   "source": [
    "%time test_mat_multiply_nocuda(None)"
   ]
  },
  {
   "cell_type": "code",
   "execution_count": null,
   "metadata": {
    "collapsed": true
   },
   "outputs": [],
   "source": []
  }
 ],
 "metadata": {
  "kernelspec": {
   "display_name": "Python 3",
   "language": "python",
   "name": "python3"
  },
  "language_info": {
   "codemirror_mode": {
    "name": "ipython",
    "version": 3
   },
   "file_extension": ".py",
   "mimetype": "text/x-python",
   "name": "python",
   "nbconvert_exporter": "python",
   "pygments_lexer": "ipython3",
   "version": "3.6.3"
  },
  "toc": {
   "nav_menu": {},
   "number_sections": false,
   "sideBar": false,
   "skip_h1_title": false,
   "toc_cell": false,
   "toc_position": {
    "height": "437px",
    "left": "1656.97px",
    "right": "20px",
    "top": "106.354px",
    "width": "279px"
   },
   "toc_section_display": "block",
   "toc_window_display": true
  }
 },
 "nbformat": 4,
 "nbformat_minor": 2
}
