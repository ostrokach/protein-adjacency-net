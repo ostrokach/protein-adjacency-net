{
 "cells": [
  {
   "cell_type": "markdown",
   "metadata": {},
   "source": [
    "# Summary\n",
    "\n",
    "Train a Generative Adverserial Network (GAN).\n",
    "\n",
    "----"
   ]
  },
  {
   "cell_type": "markdown",
   "metadata": {},
   "source": [
    "# Imports"
   ]
  },
  {
   "cell_type": "code",
   "execution_count": 1,
   "metadata": {
    "collapsed": true
   },
   "outputs": [],
   "source": [
    "import torch\n",
    "import torch.nn as nn\n",
    "import torch.nn.functional as F\n",
    "import torch.optim as optim\n",
    "\n",
    "from torch.autograd import Variable"
   ]
  },
  {
   "cell_type": "code",
   "execution_count": 2,
   "metadata": {},
   "outputs": [
    {
     "name": "stderr",
     "output_type": "stream",
     "text": [
      "Setting the PACKAGE_VERSION environment variable.\n",
      "Setting the DOCS_SECRET_KEY environment variable.\n",
      "Setting the PYTHON_VERSION environment variable.\n",
      "Setting the SPARK_MASTER environment variable.\n",
      "Setting the SPARK_ARGS environment variable.\n",
      "Setting the DB_TYPE environment variable.\n",
      "Setting the DB_PORT environment variable.\n"
     ]
    },
    {
     "name": "stdout",
     "output_type": "stream",
     "text": [
      "2018-03-09 15:33:37.254271\n"
     ]
    }
   ],
   "source": [
    "%run _imports.ipynb"
   ]
  },
  {
   "cell_type": "code",
   "execution_count": 3,
   "metadata": {
    "collapsed": true
   },
   "outputs": [],
   "source": [
    "%run _settings.ipynb"
   ]
  },
  {
   "cell_type": "code",
   "execution_count": 4,
   "metadata": {
    "collapsed": true
   },
   "outputs": [],
   "source": [
    "from typing import NamedTuple\n",
    "\n",
    "import h5py\n",
    "from sklearn import metrics"
   ]
  },
  {
   "cell_type": "code",
   "execution_count": 5,
   "metadata": {
    "collapsed": true
   },
   "outputs": [],
   "source": [
    "import random\n",
    "random.seed(42)"
   ]
  },
  {
   "cell_type": "code",
   "execution_count": 6,
   "metadata": {
    "collapsed": true
   },
   "outputs": [],
   "source": [
    "import pagnn"
   ]
  },
  {
   "cell_type": "code",
   "execution_count": 7,
   "metadata": {
    "collapsed": true
   },
   "outputs": [],
   "source": [
    "pagnn.settings.CUDA = False"
   ]
  },
  {
   "cell_type": "code",
   "execution_count": 8,
   "metadata": {
    "collapsed": true
   },
   "outputs": [],
   "source": [
    "NOTEBOOK_NAME = 'train_neural_network'\n",
    "NOTEBOOK_PATH = Path(NOTEBOOK_NAME).absolute()\n",
    "NOTEBOOK_PATH.mkdir(exist_ok=True)"
   ]
  },
  {
   "cell_type": "markdown",
   "metadata": {},
   "source": [
    "# Parameters"
   ]
  },
  {
   "cell_type": "code",
   "execution_count": 8,
   "metadata": {
    "collapsed": true
   },
   "outputs": [],
   "source": [
    "import pagnn.scripts.train_gan"
   ]
  },
  {
   "cell_type": "code",
   "execution_count": 9,
   "metadata": {},
   "outputs": [
    {
     "name": "stdout",
     "output_type": "stream",
     "text": [
      "usage: train_gan.py [-h] [--rootdir ROOTDIR] [--datadir DATADIR]\r\n",
      "                    [--loss_name LOSS_NAME] [--lr LR]\r\n",
      "                    [--weight_decay WEIGHT_DECAY] [--n_filters N_FILTERS]\r\n",
      "                    [--batch-size BATCH_SIZE]\r\n",
      "                    [--training-methods TRAINING_METHODS]\r\n",
      "                    [--training-min-seq-identity TRAINING_MIN_SEQ_IDENTITY]\r\n",
      "                    [--training-permutations {seq,adj,seq.adj}]\r\n",
      "                    [--validation-methods VALIDATION_METHODS]\r\n",
      "                    [--validation-num-sequences VALIDATION_NUM_SEQUENCES]\r\n",
      "                    [--validation-min-seq-identity VALIDATION_MIN_SEQ_IDENTITY]\r\n",
      "                    [--gpu GPU] [--tag TAG] [--resume]\r\n",
      "                    [--num-aa-to-process NUM_AA_TO_PROCESS]\r\n",
      "                    [-n NUM_CONCURRENT_JOBS]\r\n",
      "\r\n",
      "optional arguments:\r\n",
      "  -h, --help            show this help message and exit\r\n",
      "  --rootdir ROOTDIR\r\n",
      "  --datadir DATADIR\r\n",
      "  --loss_name LOSS_NAME\r\n",
      "  --lr LR\r\n",
      "  --weight_decay WEIGHT_DECAY\r\n",
      "  --n_filters N_FILTERS\r\n",
      "  --batch-size BATCH_SIZE\r\n",
      "  --training-methods TRAINING_METHODS\r\n",
      "  --training-min-seq-identity TRAINING_MIN_SEQ_IDENTITY\r\n",
      "  --training-permutations {seq,adj,seq.adj}\r\n",
      "  --validation-methods VALIDATION_METHODS\r\n",
      "  --validation-num-sequences VALIDATION_NUM_SEQUENCES\r\n",
      "  --validation-min-seq-identity VALIDATION_MIN_SEQ_IDENTITY\r\n",
      "  --gpu GPU\r\n",
      "  --tag TAG\r\n",
      "  --resume\r\n",
      "  --num-aa-to-process NUM_AA_TO_PROCESS\r\n",
      "  -n NUM_CONCURRENT_JOBS, --num-concurrent-jobs NUM_CONCURRENT_JOBS\r\n"
     ]
    }
   ],
   "source": [
    "!python {pagnn.scripts.train_gan.__file__} --help"
   ]
  },
  {
   "cell_type": "code",
   "execution_count": 10,
   "metadata": {},
   "outputs": [
    {
     "name": "stdout",
     "output_type": "stream",
     "text": [
      "python /home/kimlab1/strokach/working/pagnn/pagnn/scripts/train_gan.py --rootdir /home/kimlab2/database_data/biological-data-warehouse/adjacency-net/notebooks/train_neural_network --datadir /home/kimlab2/database_data/databin/adjacency-net --n_filters 64 --validation-min-seq-identity 80 --gpu -1 --training-methods permute --training-permutations seq --validation-methods exact --validation-min-seq-identity 80 --tag test_1\r\n"
     ]
    }
   ],
   "source": [
    "!echo python {pagnn.scripts.train_gan.__file__} \\\n",
    "    --rootdir {NOTEBOOK_PATH} \\\n",
    "    --datadir {os.environ['DATABIN_DIR']}/adjacency-net \\\n",
    "    --n_filters 64 \\\n",
    "    --validation-min-seq-identity 80 \\\n",
    "    --gpu -1 \\\n",
    "    --training-methods permute \\\n",
    "    --training-permutations seq \\\n",
    "    --validation-methods exact \\\n",
    "    --validation-min-seq-identity 80 \\\n",
    "    --tag test_1"
   ]
  },
  {
   "cell_type": "code",
   "execution_count": null,
   "metadata": {
    "collapsed": true
   },
   "outputs": [],
   "source": []
  },
  {
   "cell_type": "code",
   "execution_count": 1,
   "metadata": {
    "collapsed": true
   },
   "outputs": [],
   "source": [
    "import logging\n",
    "from typing import List, Optional\n",
    "import math\n",
    "from collections import defaultdict\n",
    "import itertools\n",
    "\n",
    "import numpy as np\n",
    "import scipy as sp\n",
    "import torch\n",
    "import torch.nn.functional as F\n",
    "from numba import jit\n",
    "from scipy import sparse\n",
    "from torch.autograd import Variable\n",
    "\n",
    "from pagnn import settings\n",
    "from pagnn.types import DataSetGAN, DataVarGAN\n",
    "from pagnn.utils import expand_adjacency, get_seq_array, to_sparse_tensor\n",
    "\n",
    "from contextlib import contextmanager\n",
    "\n",
    "import numpy as np\n",
    "import pytest\n",
    "from scipy import sparse\n",
    "from torch.autograd import Variable\n",
    "\n",
    "from pagnn import settings\n",
    "from pagnn.datavargan import pool_adjacency_mat3, pool_adjacency_mat_reference, push_adj, push_seqs\n",
    "from pagnn.utils import AMINO_ACIDS, to_numpy, to_sparse_tensor\n"
   ]
  },
  {
   "cell_type": "code",
   "execution_count": 13,
   "metadata": {
    "collapsed": true
   },
   "outputs": [],
   "source": [
    "from numba import jit"
   ]
  },
  {
   "cell_type": "code",
   "execution_count": 95,
   "metadata": {
    "code_folding": [],
    "collapsed": true,
    "run_control": {
     "marked": false
    }
   },
   "outputs": [],
   "source": [
    "@jit\n",
    "def pool_adjacency_mat3(row: np.ndarray,\n",
    "                        col: np.ndarray,\n",
    "                        shape: np.ndarray,\n",
    "                        kernel_size=4,\n",
    "                        stride=2,\n",
    "                        padding=1) -> sparse.spmatrix:\n",
    "    assert shape[0] == shape[1]\n",
    "    mapping = conv2d_mapping(shape[0], kernel_size, stride, padding)\n",
    "    \n",
    "    new_mat = np.zeros(conv2d_shape(shape, kernel_size, stride, padding))\n",
    "    for i, (r, c) in enumerate(zip(row, col)):\n",
    "        # print(i, r, c, mapping[r], mapping[c])\n",
    "        new_mat[mapping[r], mapping[c]] = 1\n",
    "    return new_mat\n",
    "\n",
    "\n",
    "@jit\n",
    "def conv2d_shape(shape, kernel_size, stride, padding):\n",
    "    shape = (\n",
    "        max(1, math.ceil((shape[0] + 2 * padding - (kernel_size - 1)) / stride)),\n",
    "        max(1, math.ceil((shape[1] + 2 * padding - (kernel_size - 1)) / stride)),\n",
    "    )\n",
    "    return shape\n",
    "\n",
    "\n",
    "@jit\n",
    "def conv2d_mapping(length, kernel_size, stride, padding):\n",
    "    mapping_to_list = defaultdict(list)\n",
    "    for i_conv, start in enumerate(range(0 - padding, length + padding, stride)):\n",
    "        for i_orig in range(start, start + kernel_size):\n",
    "            mapping_to_list[i_orig].append(i_conv)\n",
    "    mapping = {}\n",
    "    for i_orig, i_convs in mapping_to_list.items():\n",
    "        mapping[i_orig] = slice(min(i_convs), max(i_convs) + 1)\n",
    "    return mapping\n",
    "\n",
    "\n",
    "def pool_adjacency_mat_reference(adj: Variable, kernel_size=4, stride=2, padding=1) -> Variable:\n",
    "    \"\"\"Pool and downsample the adjacency matrix `adj` (reference implementation).\n",
    "\n",
    "    Turns out this version is actually much faster than :func:`pool_adjacency_mat` :X.\n",
    "    \"\"\"\n",
    "    conv_filter = Variable(torch.ones(1, 1, kernel_size, kernel_size))\n",
    "    if settings.CUDA:\n",
    "        conv_filter = conv_filter.cuda()\n",
    "    adj_conv = F.conv2d(adj.unsqueeze(0).unsqueeze(0), conv_filter, stride=stride, padding=padding)\n",
    "    adj_conv_bool = (adj_conv != 0).float()\n",
    "    return adj_conv_bool.squeeze()\n",
    "\n",
    "\n"
   ]
  },
  {
   "cell_type": "code",
   "execution_count": 96,
   "metadata": {},
   "outputs": [
    {
     "data": {
      "text/plain": [
       "{-1: (0, 1),\n",
       " 0: (0, 1),\n",
       " 1: (0, 2),\n",
       " 2: (1, 2),\n",
       " 3: (1, 3),\n",
       " 4: (2, 3),\n",
       " 5: (2, 4),\n",
       " 6: (3, 4),\n",
       " 7: (3, 5),\n",
       " 8: (4, 5),\n",
       " 9: (4, 6),\n",
       " 10: (5, 6),\n",
       " 11: (5, 6)}"
      ]
     },
     "execution_count": 96,
     "metadata": {},
     "output_type": "execute_result"
    }
   ],
   "source": [
    "mapping2(10, 3, 2, 1)"
   ]
  },
  {
   "cell_type": "code",
   "execution_count": null,
   "metadata": {
    "collapsed": true
   },
   "outputs": [],
   "source": []
  },
  {
   "cell_type": "code",
   "execution_count": 97,
   "metadata": {
    "collapsed": true,
    "scrolled": true
   },
   "outputs": [],
   "source": [
    "dims = 10\n",
    "density = 0.1\n",
    "\n",
    "#adj = (sparse.rand(dims, dims, density) + sparse.eye(dims)).tocoo()\n",
    "adj = sparse.eye(dims).tocoo()\n",
    "adj.data = np.ones(adj.nnz, dtype=np.int16)\n",
    "\n",
    "# ===\n",
    "\n",
    "kernel_size = 3\n",
    "stride = 2\n",
    "padding = 2\n",
    "\n",
    "shape0 = max(1, math.ceil((adj.shape[0] + 2 * padding - (kernel_size - 1)) / stride))\n",
    "\n",
    "adj_pooled = pool_adjacency_mat_reference(\n",
    "    Variable(to_sparse_tensor(adj).to_dense()), kernel_size, stride, padding)\n",
    "assert adj_pooled.shape[0] == shape0, (adj_pooled.shape[0], shape0)\n",
    "\n",
    "adj_pooled_ = pool_adjacency_mat3(adj.row, adj.col, adj.shape, kernel_size, stride, padding)\n",
    "assert adj_pooled_.shape[0] == shape0, (adj_pooled_.shape, shape0)\n",
    "\n",
    "assert np.allclose(to_numpy(adj_pooled), adj_pooled_)"
   ]
  },
  {
   "cell_type": "code",
   "execution_count": null,
   "metadata": {
    "collapsed": true
   },
   "outputs": [],
   "source": [
    "to_numpy(adj_pooled)"
   ]
  },
  {
   "cell_type": "code",
   "execution_count": 220,
   "metadata": {},
   "outputs": [
    {
     "data": {
      "text/plain": [
       "matrix([[ 1.,  0.,  0.,  0.,  0.,  0.],\n",
       "        [ 0.,  1.,  0.,  0.,  0.,  0.],\n",
       "        [ 0.,  0.,  1.,  0.,  0.,  0.],\n",
       "        [ 0.,  0.,  0.,  1.,  0.,  0.],\n",
       "        [ 0.,  0.,  0.,  0.,  1.,  0.],\n",
       "        [ 0.,  0.,  0.,  0.,  0.,  1.]])"
      ]
     },
     "execution_count": 220,
     "metadata": {},
     "output_type": "execute_result"
    }
   ],
   "source": [
    "adj_pooled_.todense()"
   ]
  },
  {
   "cell_type": "code",
   "execution_count": null,
   "metadata": {
    "collapsed": true
   },
   "outputs": [],
   "source": []
  },
  {
   "cell_type": "code",
   "execution_count": null,
   "metadata": {
    "collapsed": true
   },
   "outputs": [],
   "source": []
  },
  {
   "cell_type": "code",
   "execution_count": 183,
   "metadata": {},
   "outputs": [
    {
     "name": "stdout",
     "output_type": "stream",
     "text": [
      "adj_100_0.2\n"
     ]
    }
   ],
   "source": [
    "p = 100, 0.2\n",
    "\n",
    "print(f'adj_{p[0]}_{p[1]}')"
   ]
  },
  {
   "cell_type": "code",
   "execution_count": 85,
   "metadata": {
    "collapsed": true
   },
   "outputs": [],
   "source": [
    "assert adj_pooled.shape == (dims // 2, dims // 2)\n",
    "adj_pooled_ = pool_adjacency_mat3(adj.row, adj.col, adj.shape)\n",
    "assert adj_pooled_.shape == (dims // 2, dims // 2)\n",
    "assert np.allclose(to_numpy(adj_pooled), adj_pooled_.todense())"
   ]
  },
  {
   "cell_type": "code",
   "execution_count": null,
   "metadata": {
    "collapsed": true
   },
   "outputs": [],
   "source": []
  },
  {
   "cell_type": "code",
   "execution_count": null,
   "metadata": {
    "collapsed": true
   },
   "outputs": [],
   "source": []
  },
  {
   "cell_type": "code",
   "execution_count": null,
   "metadata": {
    "collapsed": true
   },
   "outputs": [],
   "source": []
  },
  {
   "cell_type": "code",
   "execution_count": null,
   "metadata": {
    "collapsed": true
   },
   "outputs": [],
   "source": []
  },
  {
   "cell_type": "code",
   "execution_count": null,
   "metadata": {
    "collapsed": true
   },
   "outputs": [],
   "source": []
  },
  {
   "cell_type": "markdown",
   "metadata": {},
   "source": [
    "# Validate sequences"
   ]
  },
  {
   "cell_type": "markdown",
   "metadata": {},
   "source": [
    "### Load models"
   ]
  },
  {
   "cell_type": "code",
   "execution_count": 132,
   "metadata": {
    "collapsed": true
   },
   "outputs": [],
   "source": [
    "run_id = 'gan-0.1.8.dev-permute-seq-0-bbb1125e66bba59836ade74629971541-test_x3_dg_same_adjs'"
   ]
  },
  {
   "cell_type": "code",
   "execution_count": 135,
   "metadata": {
    "collapsed": true
   },
   "outputs": [],
   "source": [
    "d_model_file = f'train_neural_network/{run_id}/models/net_d-step_5000.model'\n",
    "g_model_file = f'train_neural_network/{run_id}/models/net_g-step_5000.model'"
   ]
  },
  {
   "cell_type": "code",
   "execution_count": 136,
   "metadata": {
    "collapsed": true
   },
   "outputs": [],
   "source": [
    "net_d = pagnn.models.gan.DiscriminatorNet()\n",
    "\n",
    "net_d.load_state_dict(torch.load(d_model_file))"
   ]
  },
  {
   "cell_type": "code",
   "execution_count": 137,
   "metadata": {
    "collapsed": true
   },
   "outputs": [],
   "source": [
    "net_g = pagnn.models.gan.GeneratorNet(net_d)\n",
    "\n",
    "net_g.load_state_dict(torch.load(g_model_file))"
   ]
  },
  {
   "cell_type": "markdown",
   "metadata": {},
   "source": [
    "### Load validation dataset"
   ]
  },
  {
   "cell_type": "code",
   "execution_count": 197,
   "metadata": {
    "collapsed": true
   },
   "outputs": [],
   "source": [
    "with open('train_neural_network/validation_gan_exact_80_1000.pickle', 'rb') as fin:\n",
    "    validation_datasets = pickle.load(fin)"
   ]
  },
  {
   "cell_type": "code",
   "execution_count": 198,
   "metadata": {
    "scrolled": true
   },
   "outputs": [
    {
     "data": {
      "text/plain": [
       "DataSetGAN(seqs=[b'GQNVLLITVDGLNYSRFEKQMPELATFAEQNIDFTRHMSSGNTTDNGIFGLFYGISPGYMDGVLSTRTPAALITALNQQGYQLGLFSSDGFASPLYRQALLSDFSMPAAQTQSDAQTASQWIDWLGRYAQEDNRWFSWISFNGTNIDDSNQKNFVKRYASAASDVDAQINRVLNALREAGKFDNTVVIITAGRGIPLTPEENRFDWSQGHLQVPLVIHWPGTPAQRINVLTDHTDVMTTLMQRLLHVNTPANEYSQGQDIFTVPRRHNW', b'MHKALTIAGSDSSGGAGIQADLKTFQEKNVYGMTALTVIVAMDPNNSWDHQVFPIDTDTIRAQLATITDGIGVDAMKTGMLPTVDIIELAAKTIKEKQLKNVVIDPVMVCKGANEVLYPEHAQALREQLAPLATVITPNLFEASQLSGMDELKTVDDMIEAAKKIHALGAQYVVITGGGKLKHEKAVDVLYDGETAEVLESEMIDTPYTHGAGCTFSAAVTAELAKGAEVKEAIYAAKEFITAAIKESFPLNQYVGPTKHSALRLNQQS'], adjs=[<269x269 sparse matrix of type '<class 'numpy.int16'>'\n",
       "\twith 2125 stored elements in COOrdinate format>], targets=[1, 0], meta=None)"
      ]
     },
     "execution_count": 198,
     "metadata": {},
     "output_type": "execute_result"
    }
   ],
   "source": [
    "validation_datasets[0]"
   ]
  },
  {
   "cell_type": "code",
   "execution_count": null,
   "metadata": {
    "collapsed": true
   },
   "outputs": [],
   "source": []
  },
  {
   "cell_type": "code",
   "execution_count": null,
   "metadata": {
    "collapsed": true
   },
   "outputs": [],
   "source": []
  },
  {
   "cell_type": "code",
   "execution_count": 220,
   "metadata": {},
   "outputs": [
    {
     "data": {
      "application/vnd.jupyter.widget-view+json": {
       "model_id": "583d81b5c9f641438b55d51288c49806",
       "version_major": 2,
       "version_minor": 0
      },
      "text/html": [
       "<p>Failed to display Jupyter Widget of type <code>HBox</code>.</p>\n",
       "<p>\n",
       "  If you're reading this message in the Jupyter Notebook or JupyterLab Notebook, it may mean\n",
       "  that the widgets JavaScript is still loading. If this message persists, it\n",
       "  likely means that the widgets JavaScript library is either not installed or\n",
       "  not enabled. See the <a href=\"https://ipywidgets.readthedocs.io/en/stable/user_install.html\">Jupyter\n",
       "  Widgets Documentation</a> for setup instructions.\n",
       "</p>\n",
       "<p>\n",
       "  If you're reading this message in another frontend (for example, a static\n",
       "  rendering on GitHub or <a href=\"https://nbviewer.jupyter.org/\">NBViewer</a>),\n",
       "  it may mean that your frontend doesn't currently support widgets.\n",
       "</p>\n"
      ],
      "text/plain": [
       "HBox(children=(IntProgress(value=0, max=1000), HTML(value='')))"
      ]
     },
     "metadata": {},
     "output_type": "display_data"
    },
    {
     "name": "stdout",
     "output_type": "stream",
     "text": [
      "\n"
     ]
    }
   ],
   "source": [
    "adj_pools = []\n",
    "for ds in tqdm.tqdm_notebook(validation_datasets, total=len(validation_datasets)):\n",
    "    adj_pool = pagnn.datavargan.gen_adj_pool(ds.adjs[0], 5)\n",
    "    adj_pools.append(adj_pool)"
   ]
  },
  {
   "cell_type": "code",
   "execution_count": 228,
   "metadata": {
    "collapsed": true
   },
   "outputs": [],
   "source": [
    "frac_nnzs = [[get_frac_nnz(ar) for ar in ars] for ars in adj_pools]"
   ]
  },
  {
   "cell_type": "code",
   "execution_count": 229,
   "metadata": {
    "collapsed": true
   },
   "outputs": [],
   "source": [
    "frac_nnzs_bycat = list(zip(*frac_nnzs))"
   ]
  },
  {
   "cell_type": "code",
   "execution_count": 230,
   "metadata": {},
   "outputs": [
    {
     "data": {
      "text/plain": [
       "(0.029366647779881429,\n",
       " 0.10233705907969226,\n",
       " 0.062080085998387532,\n",
       " 0.077924805713085479,\n",
       " 0.081975308641975303,\n",
       " 0.031392000000000003,\n",
       " 0.04885715807981246,\n",
       " 0.069097635090500722,\n",
       " 0.050790822009356203,\n",
       " 0.098714416896235072,\n",
       " 0.069970845481049565,\n",
       " 0.069661458333333329,\n",
       " 0.028995721942664199,\n",
       " 0.025673869458676765,\n",
       " 0.060744265979245156,\n",
       " 0.17125000000000001,\n",
       " 0.047045660397463905,\n",
       " 0.085365853658536592,\n",
       " 0.019827538858680726,\n",
       " 0.080408163265306129,\n",
       " 0.13614744351961949,\n",
       " 0.060850497298143943,\n",
       " 0.04221453287197232,\n",
       " 0.030754458161865568,\n",
       " 0.061504000000000003,\n",
       " 0.020691609977324263,\n",
       " 0.16213151927437641,\n",
       " 0.040864197530864198,\n",
       " 0.06586263607173623,\n",
       " 0.058316575696638895,\n",
       " 0.025824652777777776,\n",
       " 0.030257122417203214,\n",
       " 0.024073542085607583,\n",
       " 0.077546296296296294,\n",
       " 0.028995721942664199,\n",
       " 0.037536443148688044,\n",
       " 0.065805914202415661,\n",
       " 0.081143852518507767,\n",
       " 0.045024835763499436,\n",
       " 0.082125603864734303,\n",
       " 0.061640982923781756,\n",
       " 0.089506172839506168,\n",
       " 0.064177124783185394,\n",
       " 0.058662851196670134,\n",
       " 0.08150667674477198,\n",
       " 0.065660254849444044,\n",
       " 0.0556640625,\n",
       " 0.049376181474480148,\n",
       " 0.051664339444169184,\n",
       " 0.10140306122448979,\n",
       " 0.060941828254847646,\n",
       " 0.077037477691850084,\n",
       " 0.046373365041617119,\n",
       " 0.042343749999999999,\n",
       " 0.042839506172839506,\n",
       " 0.025825354812708992,\n",
       " 0.049635679006308379,\n",
       " 0.050907796368814526,\n",
       " 0.044504848066858699,\n",
       " 0.064300138165586135,\n",
       " 0.063059666321048161,\n",
       " 0.068091911455264706,\n",
       " 0.06382160707420223,\n",
       " 0.052142104284208568,\n",
       " 0.027223178013271843,\n",
       " 0.03895061728395062,\n",
       " 0.066841989918912992,\n",
       " 0.16213151927437641,\n",
       " 0.045625867883356479,\n",
       " 0.046015624999999998,\n",
       " 0.038687043444828914,\n",
       " 0.03743976912571826,\n",
       " 0.055059818890871838,\n",
       " 0.079287190082644635,\n",
       " 0.01846500318877551,\n",
       " 0.024803342240957506,\n",
       " 0.065157750342935528,\n",
       " 0.059229024943310657,\n",
       " 0.10986328125,\n",
       " 0.02560239365934917,\n",
       " 0.035894548452613161,\n",
       " 0.19263642340565418,\n",
       " 0.030269360803796764,\n",
       " 0.042920147728495103,\n",
       " 0.062327823691460053,\n",
       " 0.080501989592898685,\n",
       " 0.060586734693877549,\n",
       " 0.17241379310344829,\n",
       " 0.026026801345372365,\n",
       " 0.065133377321142424,\n",
       " 0.036573468173706131,\n",
       " 0.053199791883454736,\n",
       " 0.234375,\n",
       " 0.08150667674477198,\n",
       " 0.08150667674477198,\n",
       " 0.087222222222222229,\n",
       " 0.040679012345679014,\n",
       " 0.051428571428571428,\n",
       " 0.029190672153635116,\n",
       " 0.05322265625,\n",
       " 0.08150667674477198,\n",
       " 0.1328125,\n",
       " 0.016185435588117122,\n",
       " 0.041851851851851848,\n",
       " 0.062857142857142861,\n",
       " 0.02139543263816945,\n",
       " 0.049688365650969527,\n",
       " 0.087879389010117034,\n",
       " 0.10775047258979206,\n",
       " 0.085917159763313614,\n",
       " 0.064142661179698218,\n",
       " 0.040312500000000001,\n",
       " 0.064134963458780142,\n",
       " 0.074106804696376719,\n",
       " 0.053782825551349077,\n",
       " 0.080756432107783466,\n",
       " 0.025278293135435993,\n",
       " 0.033313503866745982,\n",
       " 0.11537190082644629,\n",
       " 0.09787588504789671,\n",
       " 0.047394164277281159,\n",
       " 0.050936076910102886,\n",
       " 0.036865569272976684,\n",
       " 0.03043536683687181,\n",
       " 0.036734693877551024,\n",
       " 0.016888888888888887,\n",
       " 0.234375,\n",
       " 0.035370370370370371,\n",
       " 0.097294484911550475,\n",
       " 0.12396694214876033,\n",
       " 0.029879639760962882,\n",
       " 0.051154368492530557,\n",
       " 0.024613325401546697,\n",
       " 0.19444444444444445,\n",
       " 0.036095638359910719,\n",
       " 0.032533754668198793,\n",
       " 0.05353609587879473,\n",
       " 0.10978147762747138,\n",
       " 0.02470648610718363,\n",
       " 0.05161399739951382,\n",
       " 0.054390138408304499,\n",
       " 0.025947887811634349,\n",
       " 0.03861560647332158,\n",
       " 0.055671175858480748,\n",
       " 0.061332950301637462,\n",
       " 0.047469723183391002,\n",
       " 0.055955678670360109,\n",
       " 0.030614357434915376,\n",
       " 0.046015624999999998,\n",
       " 0.089947089947089942,\n",
       " 0.046716921245784568,\n",
       " 0.096784026825179087,\n",
       " 0.12706611570247933,\n",
       " 0.063600000000000004,\n",
       " 0.067933884297520661,\n",
       " 0.05662049861495845,\n",
       " 0.10198218902614191,\n",
       " 0.021585571372225609,\n",
       " 0.0540771484375,\n",
       " 0.051638917793964623,\n",
       " 0.030272,\n",
       " 0.17474048442906576,\n",
       " 0.064197746528081051,\n",
       " 0.074011446409989592,\n",
       " 0.025856732432818528,\n",
       " 0.069252077562326875,\n",
       " 0.072796934865900387,\n",
       " 0.11763538980361039,\n",
       " 0.049145299145299144,\n",
       " 0.065187867813490272,\n",
       " 0.071358024691358019,\n",
       " 0.075740099961553245,\n",
       " 0.10653863740283494,\n",
       " 0.010311352547658569,\n",
       " 0.11537190082644629,\n",
       " 0.031356029438279601,\n",
       " 0.082045184304399527,\n",
       " 0.068912883713042009,\n",
       " 0.16500000000000001,\n",
       " 0.047045660397463905,\n",
       " 0.075206553209519106,\n",
       " 0.063920086952021116,\n",
       " 0.09912109375,\n",
       " 0.031366136464991826,\n",
       " 0.032249937011841777,\n",
       " 0.066848072562358279,\n",
       " 0.024817239440206262,\n",
       " 0.1065264828407062,\n",
       " 0.072016460905349799,\n",
       " 0.080486303477993223,\n",
       " 0.039930555555555552,\n",
       " 0.16049382716049382,\n",
       " 0.085736255286428295,\n",
       " 0.059190957763236171,\n",
       " 0.14209274673008324,\n",
       " 0.024817239440206262,\n",
       " 0.14792899408284024,\n",
       " 0.09388783868935098,\n",
       " 0.040816326530612242,\n",
       " 0.050900277008310249,\n",
       " 0.076530612244897961,\n",
       " 0.065476190476190479,\n",
       " 0.042984987040931094,\n",
       " 0.089772900472488953,\n",
       " 0.026107149559016701,\n",
       " 0.11072664359861592,\n",
       " 0.076884231788915541,\n",
       " 0.085463842220598982,\n",
       " 0.044634001190240032,\n",
       " 0.1065264828407062,\n",
       " 0.072956411145797206,\n",
       " 0.071931435567799198,\n",
       " 0.1072,\n",
       " 0.075716603569497026,\n",
       " 0.18055555555555555,\n",
       " 0.059533872720685908,\n",
       " 0.025983714544213585,\n",
       " 0.060997881510702026,\n",
       " 0.081847279378143581,\n",
       " 0.077646683673469385,\n",
       " 0.073770491803278687,\n",
       " 0.019436181719848566,\n",
       " 0.084590763603109284,\n",
       " 0.082794706063404125,\n",
       " 0.11659807956104253,\n",
       " 0.10546241211465657,\n",
       " 0.031636817992503126,\n",
       " 0.0051308744794765025,\n",
       " 0.096209912536443148,\n",
       " 0.030032249395323837,\n",
       " 0.10403207841390065,\n",
       " 0.16444444444444445,\n",
       " 0.06485260770975057,\n",
       " 0.043889048485428836,\n",
       " 0.03080107134161188,\n",
       " 0.040864197530864198,\n",
       " 0.055898491083676269,\n",
       " 0.069554352353186175,\n",
       " 0.050121191135734072,\n",
       " 0.0047993827160493826,\n",
       " 0.051899063475546306,\n",
       " 0.02942537856245454,\n",
       " 0.040999964987220333,\n",
       " 0.031155062310124621,\n",
       " 0.057102114204228407,\n",
       " 0.1308641975308642,\n",
       " 0.043995243757431628,\n",
       " 0.1065264828407062,\n",
       " 0.056084456593458384,\n",
       " 0.11537190082644629,\n",
       " 0.087633702383186338,\n",
       " 0.021370062095389088,\n",
       " 0.075614366729678639,\n",
       " 0.04022216796875,\n",
       " 0.031278168379304132,\n",
       " 0.11082766439909297,\n",
       " 0.070578691184424017,\n",
       " 0.053199791883454736,\n",
       " 0.042839506172839506,\n",
       " 0.046015624999999998,\n",
       " 0.051378772112382932,\n",
       " 0.08988964044143824,\n",
       " 0.040871768261042093,\n",
       " 0.048403094624082522,\n",
       " 0.15918367346938775,\n",
       " 0.13019390581717452,\n",
       " 0.027556359724191893,\n",
       " 0.09469636276237782,\n",
       " 0.08150667674477198,\n",
       " 0.056815318720080624,\n",
       " 0.027042887182747322,\n",
       " 0.04357181280258203,\n",
       " 0.082840236686390539,\n",
       " 0.054869684499314127,\n",
       " 0.14158163265306123,\n",
       " 0.023127397898813153,\n",
       " 0.023199445983379502,\n",
       " 0.022906292440018107,\n",
       " 0.054846938775510203,\n",
       " 0.063817272816390547,\n",
       " 0.063848371036771767,\n",
       " 0.043158861340679519,\n",
       " 0.052580974701039604,\n",
       " 0.052044347150624955,\n",
       " 0.025236127508854782,\n",
       " 0.063425154396627784,\n",
       " 0.042343749999999999,\n",
       " 0.038109121199500211,\n",
       " 0.03805673427110829,\n",
       " 0.05093935790725327,\n",
       " 0.078284438775510209,\n",
       " 0.0096611177170035679,\n",
       " 0.20438957475994513,\n",
       " 0.088148148148148142,\n",
       " 0.10691031295946229,\n",
       " 0.049108367626886147,\n",
       " 0.055576559546313797,\n",
       " 0.021280195751770096,\n",
       " 0.095566941412341275,\n",
       " 0.052142104284208568,\n",
       " 0.080372889896699426,\n",
       " 0.096153846153846159,\n",
       " 0.028654931470034936,\n",
       " 0.17602040816326531,\n",
       " 0.083385843310228941,\n",
       " 0.048898071625344354,\n",
       " 0.092222222222222219,\n",
       " 0.054398836671293541,\n",
       " 0.055066721053551655,\n",
       " 0.050755555555555554,\n",
       " 0.082232135342142923,\n",
       " 0.049804963536661202,\n",
       " 0.081796549672813801,\n",
       " 0.069657837684984444,\n",
       " 0.080533333333333332,\n",
       " 0.11407407407407408,\n",
       " 0.085723441756128824,\n",
       " 0.10428994082840237,\n",
       " 0.089559790858492153,\n",
       " 0.080632716049382713,\n",
       " 0.05419921875,\n",
       " 0.065157750342935528,\n",
       " 0.028284457328338557,\n",
       " 0.041172839506172842,\n",
       " 0.067283730865076538,\n",
       " 0.027959547888161809,\n",
       " 0.069661458333333329,\n",
       " 0.11805555555555555,\n",
       " 0.025447142649411079,\n",
       " 0.056191467221644122,\n",
       " 0.29777777777777775,\n",
       " 0.14336704342653184,\n",
       " 0.040123456790123455,\n",
       " 0.031458633765956312,\n",
       " 0.0888671875,\n",
       " 0.052460789616008655,\n",
       " 0.048070810308572548,\n",
       " 0.11724762335898596,\n",
       " 0.048070810308572548,\n",
       " 0.030217972895925618,\n",
       " 0.063024763524285266,\n",
       " 0.029729059458118916,\n",
       " 0.063042993985297391,\n",
       " 0.070726643598615913,\n",
       " 0.02532544378698225,\n",
       " 0.034085538752362948,\n",
       " 0.04832436464382759,\n",
       " 0.07842806544105245,\n",
       " 0.081628823419027954,\n",
       " 0.034842368319876971,\n",
       " 0.06155692729766804,\n",
       " 0.12453144523115368,\n",
       " 0.069502989902950688,\n",
       " 0.070130315500685866,\n",
       " 0.025088636500210326,\n",
       " 0.090133333333333329,\n",
       " 0.063750000000000001,\n",
       " 0.046015624999999998,\n",
       " 0.074374999999999997,\n",
       " 0.089072543617998157,\n",
       " 0.042260425055145129,\n",
       " 0.069598337950138506,\n",
       " 0.059273762904948381,\n",
       " 0.052551903114186851,\n",
       " 0.089422222222222222,\n",
       " 0.046015624999999998,\n",
       " 0.080312499999999995,\n",
       " 0.043981481481481483,\n",
       " 0.044137618832050703,\n",
       " 0.022962475953928946,\n",
       " 0.021280195751770096,\n",
       " 0.024227150112080646,\n",
       " 0.033645508151231358,\n",
       " 0.046015624999999998,\n",
       " 0.27000000000000002,\n",
       " 0.074099722991689751,\n",
       " 0.027146814404432132,\n",
       " 0.068299457139250092,\n",
       " 0.052318668252080855,\n",
       " 0.084762057362602145,\n",
       " 0.030304378782484868,\n",
       " 0.11607142857142858,\n",
       " 0.021640625,\n",
       " 0.10416666666666667,\n",
       " 0.0552978515625,\n",
       " 0.11537190082644629,\n",
       " 0.12396694214876033,\n",
       " 0.0772748056698674,\n",
       " 0.020190368850654668,\n",
       " 0.029168834547346513,\n",
       " 0.024986049972099945,\n",
       " 0.062065972222222224,\n",
       " 0.11124330755502677,\n",
       " 0.095631641086186547,\n",
       " 0.024093355465016852,\n",
       " 0.054002247339546568,\n",
       " 0.21284185493460167,\n",
       " 0.081983471074380171,\n",
       " 0.052326813078172447,\n",
       " 0.053184000000000002,\n",
       " 0.059773242630385484,\n",
       " 0.041115961051249962,\n",
       " 0.065134099616858232,\n",
       " 0.073289505721938153,\n",
       " 0.047839506172839504,\n",
       " 0.021435384047730106,\n",
       " 0.06568998109640832,\n",
       " 0.039543085421803313,\n",
       " 0.025120086266052347,\n",
       " 0.1056241426611797,\n",
       " 0.056705186777747919,\n",
       " 0.054569362261669953,\n",
       " 0.034153211609073988,\n",
       " 0.069626106486986389,\n",
       " 0.06574115990141341,\n",
       " 0.029879639760962882,\n",
       " 0.051664339444169184,\n",
       " 0.047145328719723184,\n",
       " 0.16213151927437641,\n",
       " 0.066818062712900694,\n",
       " 0.047234770404806808,\n",
       " 0.040999964987220333,\n",
       " 0.06129008693111257,\n",
       " 0.025581369335913467,\n",
       " 0.025464997260160667,\n",
       " 0.1065264828407062,\n",
       " 0.025848645281843663,\n",
       " 0.073015122873345939,\n",
       " 0.01846500318877551,\n",
       " 0.068685776095186585,\n",
       " 0.072016460905349799,\n",
       " 0.090397923875432523,\n",
       " 0.065906548031328255,\n",
       " 0.066627007733491964,\n",
       " 0.0678250266727633,\n",
       " 0.088111482072869798,\n",
       " 0.038058182380375685,\n",
       " 0.091597633136094675,\n",
       " 0.042343749999999999,\n",
       " 0.1057315770736917,\n",
       " 0.049349112426035506,\n",
       " 0.049509985207100593,\n",
       " 0.082813290605498399,\n",
       " 0.040564373897707229,\n",
       " 0.10775047258979206,\n",
       " 0.053199791883454736,\n",
       " 0.033856605450707129,\n",
       " 0.070154577883472055,\n",
       " 0.10140306122448979,\n",
       " 0.037530864197530864,\n",
       " 0.026026801345372365,\n",
       " 0.20661157024793389,\n",
       " 0.15625,\n",
       " 0.046015624999999998,\n",
       " 0.025756143667296786,\n",
       " 0.0046815926275992435,\n",
       " 0.087289992695398097,\n",
       " 0.08150667674477198,\n",
       " 0.24279835390946503,\n",
       " 0.077960722078952591,\n",
       " 0.069919091897113872,\n",
       " 0.026544222411130136,\n",
       " 0.087577160493827161,\n",
       " 0.046505941610836717,\n",
       " 0.015359047410329462,\n",
       " 0.048070810308572548,\n",
       " 0.070828331332533009,\n",
       " 0.051979733533495963,\n",
       " 0.090779636881452477,\n",
       " 0.076247165532879815,\n",
       " 0.089120370370370364,\n",
       " 0.080246913580246909,\n",
       " 0.080816326530612242,\n",
       " 0.035572804600937077,\n",
       " 0.040999964987220333,\n",
       " 0.015973372795610639,\n",
       " 0.030881930479747199,\n",
       " 0.046015624999999998,\n",
       " 0.1104,\n",
       " 0.10111111111111111,\n",
       " 0.046485457063711912,\n",
       " 0.031807270233196162,\n",
       " 0.25440000000000002,\n",
       " 0.046015624999999998,\n",
       " 0.059536854408649281,\n",
       " 0.052415999999999997,\n",
       " 0.064037009982955931,\n",
       " 0.048070810308572548,\n",
       " 0.046956521739130432,\n",
       " 0.089422222222222222,\n",
       " 0.088734567901234573,\n",
       " 0.066910531931108061,\n",
       " 0.095857988165680474,\n",
       " 0.029921476156681396,\n",
       " 0.046015624999999998,\n",
       " 0.046892403653374916,\n",
       " 0.083272461650840027,\n",
       " 0.032799022055405379,\n",
       " 0.028601652892561984,\n",
       " 0.060465976331360943,\n",
       " 0.16753381893860561,\n",
       " 0.0888671875,\n",
       " 0.027755523509409106,\n",
       " 0.08150667674477198,\n",
       " 0.076257436452136285,\n",
       " 0.025825354812708992,\n",
       " 0.087191358024691357,\n",
       " 0.03279748128687892,\n",
       " 0.046015624999999998,\n",
       " 0.033622843545508624,\n",
       " 0.080968858131487895,\n",
       " 0.036220793796551375,\n",
       " 0.046015624999999998,\n",
       " 0.073881373569198758,\n",
       " 0.040925925925925928,\n",
       " 0.077934155868311733,\n",
       " 0.086033950617283944,\n",
       " 0.076665142508763912,\n",
       " 0.051574253412008469,\n",
       " 0.046913116907487333,\n",
       " 0.048070810308572548,\n",
       " 0.17374999999999999,\n",
       " 0.062857142857142861,\n",
       " 0.021509279131422799,\n",
       " 0.046505941610836717,\n",
       " 0.040246913580246915,\n",
       " 0.06670136823319453,\n",
       " 0.046015624999999998,\n",
       " 0.059556786703601108,\n",
       " 0.0546875,\n",
       " 0.08150667674477198,\n",
       " 0.046505941610836717,\n",
       " 0.05900826446280992,\n",
       " 0.078031212484993992,\n",
       " 0.055862111724223451,\n",
       " 0.09647944101048106,\n",
       " 0.083748302399275693,\n",
       " 0.079545454545454544,\n",
       " 0.033672022684310021,\n",
       " 0.22,\n",
       " 0.11337278106508876,\n",
       " 0.046015624999999998,\n",
       " 0.084444444444444447,\n",
       " 0.17913832199546487,\n",
       " 0.040749553837001781,\n",
       " 0.060095999999999997,\n",
       " 0.042587282847023109,\n",
       " 0.045873514838297193,\n",
       " 0.097318339100346027,\n",
       " 0.017921110426040388,\n",
       " 0.12925170068027211,\n",
       " 0.073251417769376187,\n",
       " 0.038385940571164297,\n",
       " 0.046052631578947366,\n",
       " 0.08150667674477198,\n",
       " 0.08150667674477198,\n",
       " 0.094693028095733614,\n",
       " 0.076183431952662722,\n",
       " 0.049013511221663184,\n",
       " 0.040688623668386194,\n",
       " 0.046015624999999998,\n",
       " 0.10455246913580248,\n",
       " 0.063239644970414205,\n",
       " 0.059627074653370672,\n",
       " 0.026026801345372365,\n",
       " 0.14266929651545035,\n",
       " 0.032533754668198793,\n",
       " 0.077947845804988661,\n",
       " 0.046015624999999998,\n",
       " 0.10355029585798817,\n",
       " 0.064252523634033012,\n",
       " 0.057781129229899142,\n",
       " 0.072262689328246046,\n",
       " 0.060941828254847646,\n",
       " 0.072979708081167674,\n",
       " 0.021536533792779387,\n",
       " 0.032525510204081634,\n",
       " 0.051005917159763312,\n",
       " 0.086565096952908593,\n",
       " 0.093254501478097288,\n",
       " 0.059248999692212992,\n",
       " 0.084897959183673474,\n",
       " 0.1111111111111111,\n",
       " 0.048963716767009433,\n",
       " 0.023556530050036543,\n",
       " 0.047069951803972797,\n",
       " 0.040999964987220333,\n",
       " 0.057248384118190214,\n",
       " 0.093707559981892258,\n",
       " 0.096265715894164008,\n",
       " 0.066425762567754273,\n",
       " 0.068042055147788133,\n",
       " 0.082545683679899187,\n",
       " 0.046015624999999998,\n",
       " 0.095785440613026823,\n",
       " 0.045582858993937714,\n",
       " 0.048514660493827161,\n",
       " 0.0360082304526749,\n",
       " 0.090963139120095127,\n",
       " 0.031636667912905696,\n",
       " 0.068750000000000006,\n",
       " 0.025374855824682813,\n",
       " 0.069393718042366687,\n",
       " 0.078514739229024938,\n",
       " 0.16411534353862584,\n",
       " 0.092777777777777778,\n",
       " 0.044558466108560624,\n",
       " 0.059244648988238731,\n",
       " 0.081024930747922441,\n",
       " 0.035180055401662053,\n",
       " 0.14351851851851852,\n",
       " 0.064134963458780142,\n",
       " 0.019991169681829107,\n",
       " 0.028789303950550928,\n",
       " 0.083981100442005796,\n",
       " 0.265625,\n",
       " 0.049586776859504134,\n",
       " 0.040065306122448976,\n",
       " 0.068142361111111105,\n",
       " 0.068469991546914619,\n",
       " 0.091200000000000003,\n",
       " 0.10982401425707285,\n",
       " 0.040876552227903581,\n",
       " 0.040925925925925928,\n",
       " 0.052113926644354894,\n",
       " 0.12765385649019081,\n",
       " 0.040229030339083878,\n",
       " 0.038703055186571668,\n",
       " 0.070746527777777776,\n",
       " 0.031177567980100629,\n",
       " 0.080043767359649867,\n",
       " 0.1571279916753382,\n",
       " 0.0576171875,\n",
       " 0.024698631802410945,\n",
       " 0.078204783660306365,\n",
       " 0.046015624999999998,\n",
       " 0.095703125,\n",
       " 0.055473251028806583,\n",
       " 0.0044433422200177734,\n",
       " 0.070582406197919015,\n",
       " 0.079431148109608052,\n",
       " 0.17585848074921956,\n",
       " 0.028789303950550928,\n",
       " 0.205078125,\n",
       " 0.041655468959957004,\n",
       " 0.026965951845682536,\n",
       " 0.057508563187308452,\n",
       " 0.055151472353647341,\n",
       " 0.11905839746491625,\n",
       " 0.030749377002491991,\n",
       " 0.10217159131363475,\n",
       " 0.051408179012345678,\n",
       " 0.065312499999999996,\n",
       " 0.035572804600937077,\n",
       " 0.13791238507301243,\n",
       " 0.028767999999999998,\n",
       " 0.069097635090500722,\n",
       " 0.041213444239527268,\n",
       " 0.018614372483833411,\n",
       " 0.08150667674477198,\n",
       " 0.046015624999999998,\n",
       " 0.046015624999999998,\n",
       " 0.087191358024691357,\n",
       " 0.037039224952741021,\n",
       " 0.074266392947711632,\n",
       " 0.059034760126400458,\n",
       " 0.045009314344089897,\n",
       " 0.025759323337178008,\n",
       " 0.028647585528699341,\n",
       " 0.11537190082644629,\n",
       " 0.076530612244897961,\n",
       " 0.046015624999999998,\n",
       " 0.035160680529300568,\n",
       " 0.030934332382136168,\n",
       " 0.062080085998387532,\n",
       " 0.026141913243320884,\n",
       " 0.039270910830056328,\n",
       " 0.078961600865332618,\n",
       " 0.031570247933884299,\n",
       " 0.087198515769944335,\n",
       " 0.040444430878178325,\n",
       " 0.13951789627465302,\n",
       " 0.0440673828125,\n",
       " 0.069252077562326875,\n",
       " 0.067867036011080337,\n",
       " 0.072469804248229908,\n",
       " 0.064220183486238536,\n",
       " 0.062757201646090541,\n",
       " 0.022173029467266656,\n",
       " 0.054207999999999999,\n",
       " 0.048389889196675903,\n",
       " 0.089179548156956001,\n",
       " 0.034424175497462253,\n",
       " 0.084908037288989671,\n",
       " 0.046015624999999998,\n",
       " 0.14558325638658048,\n",
       " 0.068389396302071734,\n",
       " 0.077369719843228338,\n",
       " 0.051564797311489184,\n",
       " 0.042326869806094181,\n",
       " 0.024840873168439487,\n",
       " 0.032361750310468257,\n",
       " 0.060697757208971165,\n",
       " 0.093830589168815717,\n",
       " 0.065420560747663545,\n",
       " 0.11763538980361039,\n",
       " 0.076798269334775557,\n",
       " 0.028953730252431552,\n",
       " 0.017921110426040388,\n",
       " 0.028736912452662064,\n",
       " 0.040740740740740744,\n",
       " 0.046015624999999998,\n",
       " 0.077079401945129911,\n",
       " 0.23140495867768596,\n",
       " 0.061487603305785121,\n",
       " 0.026490594112020406,\n",
       " 0.052269681254006176,\n",
       " 0.039329914897044217,\n",
       " 0.11763538980361039,\n",
       " 0.094513070956621661,\n",
       " 0.023127397898813153,\n",
       " 0.055802199303326278,\n",
       " 0.061065051020408163,\n",
       " 0.059609307670209707,\n",
       " 0.082063799343489605,\n",
       " 0.24567474048442905,\n",
       " 0.033956849824635989,\n",
       " 0.022806122448979591,\n",
       " 0.04812071330589849,\n",
       " 0.071124763705103969,\n",
       " 0.060400000000000002,\n",
       " 0.03944458441812939,\n",
       " 0.076244486452425958,\n",
       " 0.10902608369300057,\n",
       " 0.040840474739144463,\n",
       " 0.044864000000000001,\n",
       " 0.054470486111111112,\n",
       " 0.070644005087293335,\n",
       " 0.059070969292710773,\n",
       " 0.046015624999999998,\n",
       " 0.078180397812631447,\n",
       " 0.086917157084653696,\n",
       " 0.097222222222222224,\n",
       " 0.022173029467266656,\n",
       " 0.09787588504789671,\n",
       " 0.029337212634177521,\n",
       " 0.06934256055363322,\n",
       " 0.093864134404674948,\n",
       " 0.025538732506445692,\n",
       " 0.02900980541584108,\n",
       " 0.12007128536422365,\n",
       " 0.17346938775510204,\n",
       " 0.055177626606198037,\n",
       " 0.068244170096021947,\n",
       " 0.11461937716262975,\n",
       " 0.048777210427304485,\n",
       " 0.109375,\n",
       " 0.096542952942536703,\n",
       " 0.080459770114942528,\n",
       " 0.059183673469387757,\n",
       " 0.031934996220710506,\n",
       " 0.053878107756215515,\n",
       " 0.055439952437574318,\n",
       " 0.049444192948040845,\n",
       " 0.038534342888047593,\n",
       " 0.043024428753124865,\n",
       " 0.16213151927437641,\n",
       " 0.040235865417967392,\n",
       " 0.080501989592898685,\n",
       " 0.025349765361168369,\n",
       " 0.14249999999999999,\n",
       " 0.029538252602987779,\n",
       " 0.079719387755102039,\n",
       " 0.049088248091452076,\n",
       " 0.047145328719723184,\n",
       " 0.060744265979245156,\n",
       " 0.21604938271604937,\n",
       " 0.062091503267973858,\n",
       " 0.08150667674477198,\n",
       " 0.027410207939508508,\n",
       " 0.12002743484224966,\n",
       " 0.0625,\n",
       " 0.04941409882819766,\n",
       " 0.08294407271809115,\n",
       " 0.046947755136913155,\n",
       " 0.15088757396449703,\n",
       " 0.06893004115226338,\n",
       " 0.10024691358024691,\n",
       " 0.072016460905349799,\n",
       " 0.069214876033057857,\n",
       " 0.053318571178835733,\n",
       " 0.058503401360544216,\n",
       " 0.031379315181865368,\n",
       " 0.024147959350390484,\n",
       " 0.031536859641815913,\n",
       " 0.040139189890418488,\n",
       " 0.069661458333333329,\n",
       " 0.024817239440206262,\n",
       " 0.028625353884869455,\n",
       " 0.043918918918918921,\n",
       " 0.085381091211994997,\n",
       " 0.043466772360945961,\n",
       " 0.043981481481481483,\n",
       " 0.065936178392925801,\n",
       " 0.13223140495867769,\n",
       " 0.074567901234567899,\n",
       " 0.042260425055145129,\n",
       " 0.02625863221207396,\n",
       " 0.046015624999999998,\n",
       " 0.11537190082644629,\n",
       " 0.059597462604745868,\n",
       " 0.086530612244897956,\n",
       " 0.027136433951625728,\n",
       " 0.11668639053254438,\n",
       " 0.074845679012345678,\n",
       " 0.058449905482041591,\n",
       " 0.063881173771283661,\n",
       " 0.061129704255173826,\n",
       " 0.041288719936768414,\n",
       " 0.06041587901701323,\n",
       " 0.047991675338189384,\n",
       " 0.029821633252227069,\n",
       " 0.09765625,\n",
       " 0.079081632653061229,\n",
       " 0.074951171875,\n",
       " 0.10863905325443787,\n",
       " 0.18418314255983351,\n",
       " 0.07716049382716049,\n",
       " 0.0443754565376187,\n",
       " 0.10666666666666667,\n",
       " 0.046388888888888889,\n",
       " 0.067160493827160495,\n",
       " 0.17793964620187305,\n",
       " 0.048659133074717489,\n",
       " 0.091762056671045228,\n",
       " 0.20499479708636836,\n",
       " 0.069035762788592123,\n",
       " 0.083719135802469133,\n",
       " 0.073289505721938153,\n",
       " 0.052740541379845761,\n",
       " 0.039447638797247622,\n",
       " 0.063424556213017749,\n",
       " 0.084444444444444447,\n",
       " 0.19777777777777777,\n",
       " 0.09700176366843033,\n",
       " 0.091111606148362667,\n",
       " 0.02261234376755859,\n",
       " 0.10120783007080383,\n",
       " 0.077068685776095186,\n",
       " 0.052456382001836548,\n",
       " 0.12820512820512819,\n",
       " 0.20918367346938777,\n",
       " 0.040627575470834225,\n",
       " 0.040999964987220333,\n",
       " 0.085895655623884154,\n",
       " 0.059098546278033459,\n",
       " 0.03895061728395062,\n",
       " 0.029788542868127644,\n",
       " 0.047656818031594952,\n",
       " 0.09228515625,\n",
       " 0.030257122417203214,\n",
       " 0.025497279039219365,\n",
       " 0.061385255648038047,\n",
       " 0.033063367746529015,\n",
       " 0.0309375,\n",
       " 0.089947089947089942,\n",
       " 0.08150667674477198,\n",
       " 0.040925925925925928,\n",
       " 0.028995721942664199,\n",
       " 0.048898071625344354,\n",
       " 0.041900336484537733,\n",
       " 0.031424334439658218,\n",
       " 0.044174382716049385,\n",
       " 0.050887573964497043,\n",
       " 0.098453301606186788,\n",
       " 0.10502958579881656,\n",
       " 0.040999964987220333,\n",
       " 0.020190368850654668,\n",
       " 0.092993079584775082,\n",
       " 0.073030865238657441,\n",
       " 0.14702207413577675,\n",
       " 0.088888888888888892,\n",
       " 0.054820415879017016,\n",
       " 0.050493221026079907,\n",
       " 0.026971244289169579,\n",
       " 0.078861174099269335,\n",
       " 0.064375000000000002,\n",
       " 0.021280195751770096,\n",
       " 0.025915666358879656,\n",
       " 0.20634920634920634,\n",
       " 0.11734693877551021,\n",
       " 0.078626383936948777,\n",
       " 0.029946059892119785,\n",
       " 0.02295429843175819,\n",
       " 0.052679500520291363,\n",
       " 0.087198515769944335,\n",
       " 0.055707418229804885,\n",
       " 0.13511849799938441,\n",
       " 0.027219801372208641,\n",
       " 0.13131313131313133,\n",
       " 0.040925925925925928,\n",
       " 0.075347786173292852,\n",
       " 0.13265913146936348,\n",
       " 0.036036898720035751,\n",
       " 0.034839152571461258,\n",
       " 0.10333333333333333,\n",
       " 0.089559790858492153,\n",
       " 0.10856401384083045,\n",
       " 0.04141975308641975,\n",
       " 0.042343749999999999,\n",
       " 0.023780537294050809,\n",
       " 0.027865801519038277,\n",
       " 0.095703125,\n",
       " 0.080350620891161434,\n",
       " 0.091367359798361691,\n",
       " 0.033192465331606108,\n",
       " 0.038314379849080669,\n",
       " 0.04577737603305785,\n",
       " 0.048907388137356921,\n",
       " 0.093204775022956834,\n",
       " 0.083283759666864965,\n",
       " 0.03940217391304348,\n",
       " 0.11874999999999999,\n",
       " 0.11996378451788139,\n",
       " 0.060997881510702026,\n",
       " 0.09566216604424016,\n",
       " 0.034739229024943308,\n",
       " 0.076923076923076927,\n",
       " 0.034310361729242234,\n",
       " 0.04141975308641975,\n",
       " 0.081628823419027954,\n",
       " 0.06041587901701323,\n",
       " 0.045224006762468301,\n",
       " 0.07867568529725881,\n",
       " 0.096236713588049416,\n",
       " 0.084489795918367347,\n",
       " 0.067215363511659812,\n",
       " 0.064199334469604741,\n",
       " 0.10207100591715976,\n",
       " 0.1096,\n",
       " 0.038837984173261141,\n",
       " 0.029921124828532236,\n",
       " 0.058619493583073189,\n",
       " 0.094008264462809923,\n",
       " 0.060744265979245156,\n",
       " 0.11909262759924386,\n",
       " 0.092622222222222217,\n",
       " 0.04597222222222222,\n",
       " 0.1057285659361784,\n",
       " 0.20370370370370369,\n",
       " 0.029884059768119538,\n",
       " 0.02566943674976916,\n",
       " 0.080350620891161434,\n",
       " 0.034516558146047746,\n",
       " 0.11763538980361039,\n",
       " 0.032951771736385825,\n",
       " 0.078180397812631447,\n",
       " 0.078024691358024686,\n",
       " 0.11956939638600539,\n",
       " 0.046015624999999998,\n",
       " 0.046015624999999998,\n",
       " 0.12007128536422365,\n",
       " 0.040691305935332059,\n",
       " 0.033622843545508624,\n",
       " 0.049044318420499895,\n",
       " 0.027819471041871539,\n",
       " 0.088883938516373356,\n",
       " 0.042120373936486814,\n",
       " 0.16213151927437641,\n",
       " 0.12007128536422365,\n",
       " 0.12490869247626005,\n",
       " 0.0047651568051196658,\n",
       " 0.047312041261654433,\n",
       " 0.073597730940388281,\n",
       " 0.024817239440206262,\n",
       " 0.13573407202216067,\n",
       " 0.049804963536661202,\n",
       " 0.037715645449137421,\n",
       " 0.052953780226507499,\n",
       " 0.089120370370370364,\n",
       " 0.046015624999999998,\n",
       " 0.049986562751948398,\n",
       " 0.079648526077097506,\n",
       " 0.08110187750076947,\n",
       " 0.072562358276643993,\n",
       " 0.081522491349480974,\n",
       " 0.05811736459289598,\n",
       " 0.087482642332870467,\n",
       " 0.089559790858492153,\n",
       " 0.057039384336803986,\n",
       " 0.024559784698193001,\n",
       " 0.048070810308572548,\n",
       " 0.041807372175980975,\n",
       " 0.060875756496974014,\n",
       " 0.040853905933023314,\n",
       " 0.041234567901234566,\n",
       " 0.025673869458676765,\n",
       " 0.17695473251028807,\n",
       " 0.062659438775510209,\n",
       " 0.067238036935006629)"
      ]
     },
     "execution_count": 230,
     "metadata": {},
     "output_type": "execute_result"
    }
   ],
   "source": [
    "frac_nnzs_bycat[0]"
   ]
  },
  {
   "cell_type": "code",
   "execution_count": 222,
   "metadata": {
    "collapsed": true
   },
   "outputs": [],
   "source": [
    "def get_frac_nnz(adj):\n",
    "    return adj.nnz / np.prod(adj.shape)"
   ]
  },
  {
   "cell_type": "code",
   "execution_count": 223,
   "metadata": {},
   "outputs": [
    {
     "data": {
      "text/plain": [
       "(33, 33)"
      ]
     },
     "execution_count": 223,
     "metadata": {},
     "output_type": "execute_result"
    }
   ],
   "source": [
    "adj_pools[0][3].shape"
   ]
  },
  {
   "cell_type": "code",
   "execution_count": 227,
   "metadata": {},
   "outputs": [
    {
     "data": {
      "text/plain": [
       "1.0"
      ]
     },
     "execution_count": 227,
     "metadata": {},
     "output_type": "execute_result"
    }
   ],
   "source": [
    "get_frac_nnz(adj_pools[0][5])"
   ]
  },
  {
   "cell_type": "code",
   "execution_count": 244,
   "metadata": {},
   "outputs": [
    {
     "data": {
      "text/plain": [
       "Text(0,0.5,'Fraction of non-zero elements')"
      ]
     },
     "execution_count": 244,
     "metadata": {},
     "output_type": "execute_result"
    },
    {
     "data": {
      "image/png": "[encoded data removed]",
      "text/plain": [
       "<matplotlib.figure.Figure at 0x7fbe85520828>"
      ]
     },
     "metadata": {},
     "output_type": "display_data"
    }
   ],
   "source": [
    "fig, axs = plt.subplots(figsize=(12, 6))\n",
    "ax = plt.boxplot(frac_nnzs_bycat, labels=list(range(6)))\n",
    "plt.xlabel('Number of convolutions')\n",
    "plt.ylabel('Fraction of non-zero elements')"
   ]
  },
  {
   "cell_type": "code",
   "execution_count": null,
   "metadata": {
    "collapsed": true
   },
   "outputs": [],
   "source": []
  },
  {
   "cell_type": "code",
   "execution_count": 251,
   "metadata": {},
   "outputs": [
    {
     "data": {
      "text/plain": [
       "\n",
       " 0.2751  0.2751  0.2751  0.2751  0.2751  0.2751  0.2751  0.2751  0.2751  0.2751\n",
       " 0.8636  0.8636  0.8636  0.8636  0.8636  0.8636  0.8636  0.8636  0.8636  0.8636\n",
       " 0.6744  0.6744  0.6744  0.6744  0.6744  0.6744  0.6744  0.6744  0.6744  0.6744\n",
       "[torch.FloatTensor of size 3x10]"
      ]
     },
     "execution_count": 251,
     "metadata": {},
     "output_type": "execute_result"
    }
   ],
   "source": [
    "torch.rand(3, 1).expand(3, 10)"
   ]
  },
  {
   "cell_type": "code",
   "execution_count": null,
   "metadata": {
    "collapsed": true
   },
   "outputs": [],
   "source": []
  },
  {
   "cell_type": "code",
   "execution_count": null,
   "metadata": {
    "collapsed": true
   },
   "outputs": [],
   "source": []
  },
  {
   "cell_type": "code",
   "execution_count": 211,
   "metadata": {},
   "outputs": [
    {
     "data": {
      "text/plain": [
       "1089"
      ]
     },
     "execution_count": 211,
     "metadata": {},
     "output_type": "execute_result"
    }
   ],
   "source": [
    "33 * 33"
   ]
  },
  {
   "cell_type": "code",
   "execution_count": 213,
   "metadata": {},
   "outputs": [
    {
     "data": {
      "text/plain": [
       "711"
      ]
     },
     "execution_count": 213,
     "metadata": {},
     "output_type": "execute_result"
    }
   ],
   "source": [
    "adj_pools[0][3].size"
   ]
  },
  {
   "cell_type": "code",
   "execution_count": null,
   "metadata": {
    "collapsed": true
   },
   "outputs": [],
   "source": []
  },
  {
   "cell_type": "code",
   "execution_count": null,
   "metadata": {
    "collapsed": true
   },
   "outputs": [],
   "source": []
  },
  {
   "cell_type": "code",
   "execution_count": 140,
   "metadata": {
    "collapsed": true
   },
   "outputs": [],
   "source": [
    "dataset = validation_datasets[0]"
   ]
  },
  {
   "cell_type": "code",
   "execution_count": 141,
   "metadata": {
    "collapsed": true
   },
   "outputs": [],
   "source": [
    "datavar = pagnn.datavargan.dataset_to_datavar(dataset, volatile=True)"
   ]
  },
  {
   "cell_type": "code",
   "execution_count": 142,
   "metadata": {
    "collapsed": true
   },
   "outputs": [],
   "source": [
    "noise = Variable(torch.FloatTensor(64, 100, 1).normal_(0, 1))"
   ]
  },
  {
   "cell_type": "code",
   "execution_count": 143,
   "metadata": {
    "collapsed": true
   },
   "outputs": [],
   "source": [
    "pred = net_g(noise, datavar.adjs)"
   ]
  },
  {
   "cell_type": "code",
   "execution_count": 144,
   "metadata": {
    "collapsed": true
   },
   "outputs": [],
   "source": [
    "pred_np = pagnn.to_numpy(pred)"
   ]
  },
  {
   "cell_type": "code",
   "execution_count": 145,
   "metadata": {},
   "outputs": [
    {
     "data": {
      "application/vnd.jupyter.widget-view+json": {
       "model_id": "f0ad1fa875554ad783da91f38d284a59",
       "version_major": 2,
       "version_minor": 0
      },
      "text/html": [
       "<p>Failed to display Jupyter Widget of type <code>HBox</code>.</p>\n",
       "<p>\n",
       "  If you're reading this message in the Jupyter Notebook or JupyterLab Notebook, it may mean\n",
       "  that the widgets JavaScript is still loading. If this message persists, it\n",
       "  likely means that the widgets JavaScript library is either not installed or\n",
       "  not enabled. See the <a href=\"https://ipywidgets.readthedocs.io/en/stable/user_install.html\">Jupyter\n",
       "  Widgets Documentation</a> for setup instructions.\n",
       "</p>\n",
       "<p>\n",
       "  If you're reading this message in another frontend (for example, a static\n",
       "  rendering on GitHub or <a href=\"https://nbviewer.jupyter.org/\">NBViewer</a>),\n",
       "  it may mean that your frontend doesn't currently support widgets.\n",
       "</p>\n"
      ],
      "text/plain": [
       "HBox(children=(IntProgress(value=0, max=13), HTML(value='')))"
      ]
     },
     "metadata": {},
     "output_type": "display_data"
    },
    {
     "name": "stdout",
     "output_type": "stream",
     "text": [
      "\n"
     ]
    }
   ],
   "source": [
    "dataset = validation_datasets[0]\n",
    "seq = dataset.seqs[0]\n",
    "\n",
    "seqs = []\n",
    "steps = list(range(0, max(1, 512 - len(seq)), 20))\n",
    "for offset in tqdm.tqdm_notebook(steps, total=len(steps)):\n",
    "    start = offset\n",
    "    stop = start + len(seq)\n",
    "    assert stop <= 512, (start, stop, len(seq))\n",
    "    datavar = pagnn.datavargan.dataset_to_datavar(dataset, volatile=True, offset=offset)\n",
    "    noise = Variable(torch.FloatTensor(64, 100, 1).normal_(0, 1))\n",
    "    pred = net_g(noise, datavar.adjs)\n",
    "    ar = pagnn.to_numpy(pred)\n",
    "    ar = ar[:, :, start:stop]\n",
    "    seqs.extend([array_to_seq(ar[i]) for i in range(ar.shape[0])])"
   ]
  },
  {
   "cell_type": "code",
   "execution_count": 180,
   "metadata": {
    "run_control": {
     "marked": false
    }
   },
   "outputs": [
    {
     "data": {
      "text/plain": [
       "980"
      ]
     },
     "execution_count": 180,
     "metadata": {},
     "output_type": "execute_result"
    }
   ],
   "source": [
    "img.tobytes()\n",
    "\n",
    "img."
   ]
  },
  {
   "cell_type": "code",
   "execution_count": 183,
   "metadata": {},
   "outputs": [
    {
     "data": {
      "text/plain": [
       "PIL.Image.Image"
      ]
     },
     "execution_count": 183,
     "metadata": {},
     "output_type": "execute_result"
    }
   ],
   "source": [
    "Image.Image"
   ]
  },
  {
   "cell_type": "code",
   "execution_count": null,
   "metadata": {
    "collapsed": true
   },
   "outputs": [],
   "source": []
  },
  {
   "cell_type": "markdown",
   "metadata": {},
   "source": [
    "## Helpful functions"
   ]
  },
  {
   "cell_type": "code",
   "execution_count": 147,
   "metadata": {
    "collapsed": true
   },
   "outputs": [],
   "source": [
    "def get_offsets_from_array(ar):\n",
    "    is_padding = np.all(ar == 0.05, axis=0)\n",
    "    start = np.argmax(~is_padding)\n",
    "    stop = len(is_padding) - np.argmax(~is_padding[::-1])\n",
    "    return start, stop\n",
    "\n",
    "\n",
    "ar = pred_np[0]\n",
    "start, stop = get_offsets_from_array(ar)\n",
    "assert np.all(ar[:, start - 1] == 1/20)\n",
    "assert ~np.all(ar[:, start] == 1/20)\n",
    "assert ~np.all(ar[:, stop - 1] == 1/20)\n",
    "assert np.all(ar[:, stop] == 1/20)"
   ]
  },
  {
   "cell_type": "code",
   "execution_count": 148,
   "metadata": {
    "collapsed": true
   },
   "outputs": [],
   "source": [
    "def array_to_seq(ar):\n",
    "    max_idxs = np.argmax(ar, 0)\n",
    "    seq = ''.join(pagnn.utils.AMINO_ACIDS[i] for i in max_idxs)\n",
    "    return seq"
   ]
  },
  {
   "cell_type": "code",
   "execution_count": 149,
   "metadata": {
    "collapsed": true
   },
   "outputs": [],
   "source": [
    "def get_seq(ar):\n",
    "    start, stop = get_offsets_from_array(ar)\n",
    "    ar = ar[:, start:stop]\n",
    "    seq = array_to_seq(ar)\n",
    "    return seq"
   ]
  },
  {
   "cell_type": "code",
   "execution_count": null,
   "metadata": {
    "collapsed": true
   },
   "outputs": [],
   "source": []
  },
  {
   "cell_type": "code",
   "execution_count": null,
   "metadata": {
    "collapsed": true
   },
   "outputs": [],
   "source": [
    "## "
   ]
  },
  {
   "cell_type": "code",
   "execution_count": 253,
   "metadata": {
    "collapsed": true
   },
   "outputs": [],
   "source": [
    "from PIL import Image"
   ]
  },
  {
   "cell_type": "code",
   "execution_count": null,
   "metadata": {
    "collapsed": true
   },
   "outputs": [],
   "source": []
  },
  {
   "cell_type": "code",
   "execution_count": 255,
   "metadata": {
    "collapsed": true
   },
   "outputs": [],
   "source": [
    "img = Image.open('/tmp/image004.jpg')"
   ]
  },
  {
   "cell_type": "code",
   "execution_count": 257,
   "metadata": {
    "collapsed": true
   },
   "outputs": [],
   "source": [
    "img2 = Image.fromarray(np.vstack([img, img, img]))"
   ]
  },
  {
   "cell_type": "code",
   "execution_count": 258,
   "metadata": {},
   "outputs": [
    {
     "data": {
      "image/png": "[encoded data removed]",
      "text/plain": [
       "<PIL.Image.Image image mode=RGB size=623x753 at 0x7FBE85C7A0B8>"
      ]
     },
     "execution_count": 258,
     "metadata": {},
     "output_type": "execute_result"
    }
   ],
   "source": [
    "img2"
   ]
  },
  {
   "cell_type": "code",
   "execution_count": null,
   "metadata": {
    "collapsed": true
   },
   "outputs": [],
   "source": []
  },
  {
   "cell_type": "code",
   "execution_count": 366,
   "metadata": {},
   "outputs": [
    {
     "data": {
      "text/plain": [
       "array([[[0, 0, 0, ..., 0, 0, 0],\n",
       "        [0, 0, 0, ..., 0, 0, 0],\n",
       "        [1, 0, 0, ..., 0, 0, 0],\n",
       "        ..., \n",
       "        [0, 0, 1, ..., 0, 0, 0],\n",
       "        [0, 1, 0, ..., 0, 0, 0],\n",
       "        [0, 0, 0, ..., 0, 0, 0]],\n",
       "\n",
       "       [[0, 0, 0, ..., 0, 0, 0],\n",
       "        [0, 0, 0, ..., 0, 0, 0],\n",
       "        [0, 0, 0, ..., 0, 0, 0],\n",
       "        ..., \n",
       "        [0, 1, 0, ..., 0, 0, 0],\n",
       "        [0, 0, 0, ..., 0, 1, 0],\n",
       "        [0, 0, 0, ..., 0, 0, 0]],\n",
       "\n",
       "       [[0, 1, 0, ..., 0, 0, 1],\n",
       "        [0, 0, 0, ..., 0, 0, 0],\n",
       "        [0, 0, 1, ..., 0, 0, 0],\n",
       "        ..., \n",
       "        [0, 0, 0, ..., 0, 0, 0],\n",
       "        [0, 0, 0, ..., 1, 0, 0],\n",
       "        [0, 0, 0, ..., 0, 0, 0]]])"
      ]
     },
     "execution_count": 366,
     "metadata": {},
     "output_type": "execute_result"
    }
   ],
   "source": [
    "np.equal.outer(ar1.argmax(axis=1), np.arange(ar1.shape[1])).transpose((0, 2, 1)).astype(int)"
   ]
  },
  {
   "cell_type": "code",
   "execution_count": 364,
   "metadata": {},
   "outputs": [
    {
     "data": {
      "text/plain": [
       "array([[[False, False, False, ..., False, False, False],\n",
       "        [False, False, False, ..., False, False, False],\n",
       "        [ True, False, False, ..., False, False, False],\n",
       "        ..., \n",
       "        [False, False,  True, ..., False, False, False],\n",
       "        [False,  True, False, ..., False, False, False],\n",
       "        [False, False, False, ..., False, False, False]],\n",
       "\n",
       "       [[False, False, False, ..., False, False, False],\n",
       "        [False, False, False, ..., False, False, False],\n",
       "        [False, False, False, ..., False, False, False],\n",
       "        ..., \n",
       "        [False,  True, False, ..., False, False, False],\n",
       "        [False, False, False, ..., False,  True, False],\n",
       "        [False, False, False, ..., False, False, False]],\n",
       "\n",
       "       [[False,  True, False, ..., False, False,  True],\n",
       "        [False, False, False, ..., False, False, False],\n",
       "        [False, False,  True, ..., False, False, False],\n",
       "        ..., \n",
       "        [False, False, False, ..., False, False, False],\n",
       "        [False, False, False, ...,  True, False, False],\n",
       "        [False, False, False, ..., False, False, False]]], dtype=bool)"
      ]
     },
     "execution_count": 364,
     "metadata": {},
     "output_type": "execute_result"
    }
   ],
   "source": [
    "ar1.max(axis=1, keepdims=1) == ar1"
   ]
  },
  {
   "cell_type": "code",
   "execution_count": null,
   "metadata": {
    "collapsed": true
   },
   "outputs": [],
   "source": []
  },
  {
   "cell_type": "code",
   "execution_count": null,
   "metadata": {
    "collapsed": true
   },
   "outputs": [],
   "source": []
  },
  {
   "cell_type": "code",
   "execution_count": null,
   "metadata": {
    "collapsed": true
   },
   "outputs": [],
   "source": []
  },
  {
   "cell_type": "code",
   "execution_count": 362,
   "metadata": {},
   "outputs": [
    {
     "data": {
      "text/plain": [
       "(3, 100, 20)"
      ]
     },
     "execution_count": 362,
     "metadata": {},
     "output_type": "execute_result"
    }
   ],
   "source": [
    "np.equal.outer(ar1.argmax(axis=1), np.arange(ar1.shape[1])).shape"
   ]
  },
  {
   "cell_type": "code",
   "execution_count": 266,
   "metadata": {
    "collapsed": true
   },
   "outputs": [],
   "source": [
    "ar1 = np.random.random((3, 20, 100))\n",
    "ar2 = np.zeros((3, 20, 100))"
   ]
  },
  {
   "cell_type": "code",
   "execution_count": 315,
   "metadata": {
    "run_control": {
     "marked": false
    }
   },
   "outputs": [
    {
     "name": "stderr",
     "output_type": "stream",
     "text": [
      "/home/kimlab1/strokach/anaconda3/lib/python3.6/site-packages/ipykernel/__main__.py:1: DeprecationWarning: elementwise == comparison failed; this will raise an error in the future.\n",
      "  if __name__ == '__main__':\n"
     ]
    },
    {
     "data": {
      "text/plain": [
       "False"
      ]
     },
     "execution_count": 315,
     "metadata": {},
     "output_type": "execute_result"
    }
   ],
   "source": [
    "np.argmax(ar1, 1)[:, None, :] == np.expand_dims(np.arange(20), 0)"
   ]
  },
  {
   "cell_type": "code",
   "execution_count": 340,
   "metadata": {
    "collapsed": true
   },
   "outputs": [],
   "source": [
    "ar2t = ar2.transpose((0, 2, 1))"
   ]
  },
  {
   "cell_type": "code",
   "execution_count": 359,
   "metadata": {},
   "outputs": [
    {
     "data": {
      "text/plain": [
       "array([[[[ 1.,  1.,  1.],\n",
       "         [ 1.,  1.,  1.],\n",
       "         [ 1.,  1.,  1.],\n",
       "         ..., \n",
       "         [ 1.,  1.,  1.],\n",
       "         [ 1.,  1.,  1.],\n",
       "         [ 1.,  1.,  1.]],\n",
       "\n",
       "        [[ 1.,  1.,  1.],\n",
       "         [ 1.,  1.,  1.],\n",
       "         [ 1.,  1.,  1.],\n",
       "         ..., \n",
       "         [ 1.,  1.,  1.],\n",
       "         [ 1.,  1.,  1.],\n",
       "         [ 1.,  1.,  1.]],\n",
       "\n",
       "        [[ 1.,  1.,  1.],\n",
       "         [ 1.,  1.,  1.],\n",
       "         [ 1.,  1.,  1.],\n",
       "         ..., \n",
       "         [ 1.,  1.,  1.],\n",
       "         [ 1.,  1.,  1.],\n",
       "         [ 1.,  1.,  1.]],\n",
       "\n",
       "        ..., \n",
       "        [[ 1.,  1.,  1.],\n",
       "         [ 1.,  1.,  1.],\n",
       "         [ 1.,  1.,  1.],\n",
       "         ..., \n",
       "         [ 1.,  1.,  1.],\n",
       "         [ 1.,  1.,  1.],\n",
       "         [ 1.,  1.,  1.]],\n",
       "\n",
       "        [[ 1.,  1.,  1.],\n",
       "         [ 1.,  1.,  1.],\n",
       "         [ 1.,  1.,  1.],\n",
       "         ..., \n",
       "         [ 1.,  1.,  1.],\n",
       "         [ 1.,  1.,  1.],\n",
       "         [ 1.,  1.,  1.]],\n",
       "\n",
       "        [[ 1.,  1.,  1.],\n",
       "         [ 1.,  1.,  1.],\n",
       "         [ 1.,  1.,  1.],\n",
       "         ..., \n",
       "         [ 1.,  1.,  1.],\n",
       "         [ 1.,  1.,  1.],\n",
       "         [ 1.,  1.,  1.]]],\n",
       "\n",
       "\n",
       "       [[[ 1.,  1.,  1.],\n",
       "         [ 1.,  1.,  1.],\n",
       "         [ 1.,  1.,  1.],\n",
       "         ..., \n",
       "         [ 1.,  1.,  1.],\n",
       "         [ 1.,  1.,  1.],\n",
       "         [ 1.,  1.,  1.]],\n",
       "\n",
       "        [[ 1.,  1.,  1.],\n",
       "         [ 1.,  1.,  1.],\n",
       "         [ 1.,  1.,  1.],\n",
       "         ..., \n",
       "         [ 1.,  1.,  1.],\n",
       "         [ 1.,  1.,  1.],\n",
       "         [ 1.,  1.,  1.]],\n",
       "\n",
       "        [[ 1.,  1.,  1.],\n",
       "         [ 1.,  1.,  1.],\n",
       "         [ 1.,  1.,  1.],\n",
       "         ..., \n",
       "         [ 1.,  1.,  1.],\n",
       "         [ 1.,  1.,  1.],\n",
       "         [ 1.,  1.,  1.]],\n",
       "\n",
       "        ..., \n",
       "        [[ 1.,  1.,  1.],\n",
       "         [ 1.,  1.,  1.],\n",
       "         [ 1.,  1.,  1.],\n",
       "         ..., \n",
       "         [ 1.,  1.,  1.],\n",
       "         [ 1.,  1.,  1.],\n",
       "         [ 1.,  1.,  1.]],\n",
       "\n",
       "        [[ 1.,  1.,  1.],\n",
       "         [ 1.,  1.,  1.],\n",
       "         [ 1.,  1.,  1.],\n",
       "         ..., \n",
       "         [ 1.,  1.,  1.],\n",
       "         [ 1.,  1.,  1.],\n",
       "         [ 1.,  1.,  1.]],\n",
       "\n",
       "        [[ 1.,  1.,  1.],\n",
       "         [ 1.,  1.,  1.],\n",
       "         [ 1.,  1.,  1.],\n",
       "         ..., \n",
       "         [ 1.,  1.,  1.],\n",
       "         [ 1.,  1.,  1.],\n",
       "         [ 1.,  1.,  1.]]],\n",
       "\n",
       "\n",
       "       [[[ 1.,  1.,  1.],\n",
       "         [ 1.,  1.,  1.],\n",
       "         [ 1.,  1.,  1.],\n",
       "         ..., \n",
       "         [ 1.,  1.,  1.],\n",
       "         [ 1.,  1.,  1.],\n",
       "         [ 1.,  1.,  1.]],\n",
       "\n",
       "        [[ 1.,  1.,  1.],\n",
       "         [ 1.,  1.,  1.],\n",
       "         [ 1.,  1.,  1.],\n",
       "         ..., \n",
       "         [ 1.,  1.,  1.],\n",
       "         [ 1.,  1.,  1.],\n",
       "         [ 1.,  1.,  1.]],\n",
       "\n",
       "        [[ 1.,  1.,  1.],\n",
       "         [ 1.,  1.,  1.],\n",
       "         [ 1.,  1.,  1.],\n",
       "         ..., \n",
       "         [ 1.,  1.,  1.],\n",
       "         [ 1.,  1.,  1.],\n",
       "         [ 1.,  1.,  1.]],\n",
       "\n",
       "        ..., \n",
       "        [[ 1.,  1.,  1.],\n",
       "         [ 1.,  1.,  1.],\n",
       "         [ 1.,  1.,  1.],\n",
       "         ..., \n",
       "         [ 1.,  1.,  1.],\n",
       "         [ 1.,  1.,  1.],\n",
       "         [ 1.,  1.,  1.]],\n",
       "\n",
       "        [[ 1.,  1.,  1.],\n",
       "         [ 1.,  1.,  1.],\n",
       "         [ 1.,  1.,  1.],\n",
       "         ..., \n",
       "         [ 1.,  1.,  1.],\n",
       "         [ 1.,  1.,  1.],\n",
       "         [ 1.,  1.,  1.]],\n",
       "\n",
       "        [[ 1.,  1.,  1.],\n",
       "         [ 1.,  1.,  1.],\n",
       "         [ 1.,  1.,  1.],\n",
       "         ..., \n",
       "         [ 1.,  1.,  1.],\n",
       "         [ 1.,  1.,  1.],\n",
       "         [ 1.,  1.,  1.]]]])"
      ]
     },
     "execution_count": 359,
     "metadata": {},
     "output_type": "execute_result"
    }
   ],
   "source": [
    "ar2.transpose((1, 2, 0))[np.argmax(ar1, 1)]"
   ]
  },
  {
   "cell_type": "code",
   "execution_count": 357,
   "metadata": {
    "collapsed": true
   },
   "outputs": [],
   "source": [
    "ar2.transpose((1, 2, 0))[np.argmax(ar1, 1)] = 1"
   ]
  },
  {
   "cell_type": "code",
   "execution_count": 356,
   "metadata": {
    "collapsed": true
   },
   "outputs": [],
   "source": [
    "ar2 = np.zeros((3, 20, 100))"
   ]
  },
  {
   "cell_type": "code",
   "execution_count": 358,
   "metadata": {},
   "outputs": [
    {
     "data": {
      "text/plain": [
       "array([[[ 1.,  1.,  1., ...,  1.,  1.,  1.],\n",
       "        [ 1.,  1.,  1., ...,  1.,  1.,  1.],\n",
       "        [ 1.,  1.,  1., ...,  1.,  1.,  1.],\n",
       "        ..., \n",
       "        [ 1.,  1.,  1., ...,  1.,  1.,  1.],\n",
       "        [ 1.,  1.,  1., ...,  1.,  1.,  1.],\n",
       "        [ 1.,  1.,  1., ...,  1.,  1.,  1.]],\n",
       "\n",
       "       [[ 1.,  1.,  1., ...,  1.,  1.,  1.],\n",
       "        [ 1.,  1.,  1., ...,  1.,  1.,  1.],\n",
       "        [ 1.,  1.,  1., ...,  1.,  1.,  1.],\n",
       "        ..., \n",
       "        [ 1.,  1.,  1., ...,  1.,  1.,  1.],\n",
       "        [ 1.,  1.,  1., ...,  1.,  1.,  1.],\n",
       "        [ 1.,  1.,  1., ...,  1.,  1.,  1.]],\n",
       "\n",
       "       [[ 1.,  1.,  1., ...,  1.,  1.,  1.],\n",
       "        [ 1.,  1.,  1., ...,  1.,  1.,  1.],\n",
       "        [ 1.,  1.,  1., ...,  1.,  1.,  1.],\n",
       "        ..., \n",
       "        [ 1.,  1.,  1., ...,  1.,  1.,  1.],\n",
       "        [ 1.,  1.,  1., ...,  1.,  1.,  1.],\n",
       "        [ 1.,  1.,  1., ...,  1.,  1.,  1.]]])"
      ]
     },
     "execution_count": 358,
     "metadata": {},
     "output_type": "execute_result"
    }
   ],
   "source": [
    "ar2"
   ]
  },
  {
   "cell_type": "code",
   "execution_count": 317,
   "metadata": {},
   "outputs": [
    {
     "data": {
      "text/plain": [
       "(1, 20)"
      ]
     },
     "execution_count": 317,
     "metadata": {},
     "output_type": "execute_result"
    }
   ],
   "source": [
    "np.expand_dims(np.arange(20), 0).shape"
   ]
  },
  {
   "cell_type": "code",
   "execution_count": 319,
   "metadata": {},
   "outputs": [
    {
     "name": "stderr",
     "output_type": "stream",
     "text": [
      "/home/kimlab1/strokach/anaconda3/lib/python3.6/site-packages/ipykernel/__main__.py:1: DeprecationWarning: elementwise == comparison failed; this will raise an error in the future.\n",
      "  if __name__ == '__main__':\n"
     ]
    },
    {
     "data": {
      "text/plain": [
       "False"
      ]
     },
     "execution_count": 319,
     "metadata": {},
     "output_type": "execute_result"
    }
   ],
   "source": [
    "ar1.argmax(axis=1)[:,None] == np.arange(ar1.shape[1])"
   ]
  },
  {
   "cell_type": "code",
   "execution_count": 314,
   "metadata": {},
   "outputs": [
    {
     "data": {
      "text/plain": [
       "(1, 20)"
      ]
     },
     "execution_count": 314,
     "metadata": {},
     "output_type": "execute_result"
    }
   ],
   "source": [
    "np.expand_dims(np.arange(20), 0).shape"
   ]
  },
  {
   "cell_type": "code",
   "execution_count": 296,
   "metadata": {},
   "outputs": [
    {
     "data": {
      "text/plain": [
       "array([[0],\n",
       "       [1],\n",
       "       [2]])"
      ]
     },
     "execution_count": 296,
     "metadata": {},
     "output_type": "execute_result"
    }
   ],
   "source": []
  }
 ],
 "metadata": {
  "kernelspec": {
   "display_name": "Python [default]",
   "language": "python",
   "name": "python3"
  },
  "language_info": {
   "codemirror_mode": {
    "name": "ipython",
    "version": 3
   },
   "file_extension": ".py",
   "mimetype": "text/x-python",
   "name": "python",
   "nbconvert_exporter": "python",
   "pygments_lexer": "ipython3",
   "version": "3.6.4"
  },
  "toc": {
   "nav_menu": {},
   "number_sections": false,
   "sideBar": false,
   "skip_h1_title": false,
   "toc_cell": false,
   "toc_position": {},
   "toc_section_display": "block",
   "toc_window_display": false
  }
 },
 "nbformat": 4,
 "nbformat_minor": 2
}
