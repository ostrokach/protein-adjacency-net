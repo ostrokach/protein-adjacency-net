{
 "cells": [
  {
   "cell_type": "markdown",
   "metadata": {},
   "source": [
    "# Summary\n",
    "\n",
    "Generate adjancency matrices for the Protherm training set directly from PDBs.\n",
    "\n",
    "---"
   ]
  },
  {
   "cell_type": "markdown",
   "metadata": {},
   "source": [
    "# Imports"
   ]
  },
  {
   "cell_type": "code",
   "execution_count": 1,
   "metadata": {},
   "outputs": [
    {
     "name": "stderr",
     "output_type": "stream",
     "text": [
      "/home/strokach/env/lib/python3.7/site-packages/Bio/KDTree/__init__.py:27: BiopythonDeprecationWarning: Bio.KDTree has been deprecated, and we intend to remove it in a future release of Biopython. Please use Bio.PDB.kdtrees instead, which is functionally very similar.\n",
      "  BiopythonDeprecationWarning,\n"
     ]
    }
   ],
   "source": [
    "import concurrent.futures\n",
    "import importlib\n",
    "import logging\n",
    "import os\n",
    "import os.path as op\n",
    "import shutil\n",
    "import sys\n",
    "from collections import Counter\n",
    "from pathlib import Path\n",
    "\n",
    "import kmbio.PDB\n",
    "import matplotlib.pyplot as plt\n",
    "import numpy as np\n",
    "import pandas as pd\n",
    "import psutil\n",
    "import pyarrow as pa\n",
    "import pyarrow.parquet as pq\n",
    "from kmtools import structure_tools"
   ]
  },
  {
   "cell_type": "code",
   "execution_count": 2,
   "metadata": {},
   "outputs": [],
   "source": [
    "%matplotlib inline"
   ]
  },
  {
   "cell_type": "code",
   "execution_count": 3,
   "metadata": {},
   "outputs": [],
   "source": [
    "logging.basicConfig(level=logging.INFO)"
   ]
  },
  {
   "cell_type": "code",
   "execution_count": 4,
   "metadata": {},
   "outputs": [
    {
     "data": {
      "text/plain": [
       "<module 'helper' from '/home/kimlab1/database_data/datapkg/adjacency-net-v2/src/helper/__init__.py'>"
      ]
     },
     "execution_count": 4,
     "metadata": {},
     "output_type": "execute_result"
    }
   ],
   "source": [
    "SRC_PATH = Path.cwd().joinpath('..', 'src').resolve(strict=True)\n",
    "\n",
    "if SRC_PATH.as_posix() not in sys.path:\n",
    "    sys.path.insert(0, SRC_PATH.as_posix())\n",
    "\n",
    "import helper\n",
    "importlib.reload(helper)"
   ]
  },
  {
   "cell_type": "markdown",
   "metadata": {},
   "source": [
    "# Parameters"
   ]
  },
  {
   "cell_type": "code",
   "execution_count": 5,
   "metadata": {},
   "outputs": [],
   "source": [
    "NOTEBOOK_NAME = '01_protherm_dataset'\n",
    "NOTEBOOK_PATH = Path(NOTEBOOK_NAME)\n",
    "\n",
    "NOTEBOOK_PATH.mkdir(parents=True, exist_ok=True)"
   ]
  },
  {
   "cell_type": "code",
   "execution_count": 6,
   "metadata": {},
   "outputs": [
    {
     "data": {
      "text/plain": [
       "PosixPath('/home/kimlab1/database_data/datapkg/adjacency-net-v2/notebooks/protherm_dataset')"
      ]
     },
     "execution_count": 6,
     "metadata": {},
     "output_type": "execute_result"
    }
   ],
   "source": [
    "OUTPUT_PATH = Path(os.getenv('OUTPUT_DIR', NOTEBOOK_PATH.name)).resolve()\n",
    "OUTPUT_PATH.mkdir(parents=True, exist_ok=True)\n",
    "OUTPUT_PATH"
   ]
  },
  {
   "cell_type": "code",
   "execution_count": 7,
   "metadata": {},
   "outputs": [
    {
     "data": {
      "text/plain": [
       "(False, None, None)"
      ]
     },
     "execution_count": 7,
     "metadata": {},
     "output_type": "execute_result"
    }
   ],
   "source": [
    "# DEBUG = \"CI\" not in os.environ\n",
    "DEBUG = False\n",
    "TASK_ID = os.getenv(\"SLURM_ARRAY_TASK_ID\")\n",
    "TASK_COUNT = os.getenv(\"ORIGINAL_ARRAY_TASK_COUNT\") or os.getenv(\"SLURM_ARRAY_TASK_COUNT\")\n",
    "\n",
    "DEBUG, TASK_ID, TASK_COUNT"
   ]
  },
  {
   "cell_type": "code",
   "execution_count": 8,
   "metadata": {},
   "outputs": [],
   "source": [
    "DATABIN_PATH = Path(os.environ['DATABIN_DIR'])  # /home/kimlab2/database_data/databin"
   ]
  },
  {
   "cell_type": "markdown",
   "metadata": {},
   "source": [
    "# Load data"
   ]
  },
  {
   "cell_type": "code",
   "execution_count": 9,
   "metadata": {},
   "outputs": [],
   "source": [
    "ROSETTA_RESULTS = {}\n",
    "\n",
    "with pd.HDFStore(DATABIN_PATH.joinpath('elapsam_feature_engineering/v0.1.0/rosetta.h5').as_posix(), 'r') as store:\n",
    "    for key in store:\n",
    "        ROSETTA_RESULTS[key.strip('/')] = store[key][:]"
   ]
  },
  {
   "cell_type": "code",
   "execution_count": 10,
   "metadata": {},
   "outputs": [
    {
     "data": {
      "text/plain": [
       "dict_keys(['cartesian_ddg-beta_nov15_cart-1', 'cartesian_ddg-beta_nov16_cart-1', 'cartesian_ddg-score12_cart-1', 'cartesian_ddg-talaris2013_cart-1', 'cartesian_ddg-talaris2014_cart-1', 'ddg_monomer-soft_rep_design-1'])"
      ]
     },
     "execution_count": 10,
     "metadata": {},
     "output_type": "execute_result"
    }
   ],
   "source": [
    "ROSETTA_RESULTS.keys()"
   ]
  },
  {
   "cell_type": "code",
   "execution_count": 11,
   "metadata": {},
   "outputs": [
    {
     "data": {
      "text/html": [
       "<div>\n",
       "<style scoped>\n",
       "    .dataframe tbody tr th:only-of-type {\n",
       "        vertical-align: middle;\n",
       "    }\n",
       "\n",
       "    .dataframe tbody tr th {\n",
       "        vertical-align: top;\n",
       "    }\n",
       "\n",
       "    .dataframe thead th {\n",
       "        text-align: right;\n",
       "    }\n",
       "</style>\n",
       "<table border=\"1\" class=\"dataframe\">\n",
       "  <thead>\n",
       "    <tr style=\"text-align: right;\">\n",
       "      <th></th>\n",
       "      <th>filename-wt</th>\n",
       "      <th>pdb_chain</th>\n",
       "      <th>mutation</th>\n",
       "      <th>ddg</th>\n",
       "      <th>ddg_exp</th>\n",
       "    </tr>\n",
       "    <tr>\n",
       "      <th>Index</th>\n",
       "      <th></th>\n",
       "      <th></th>\n",
       "      <th></th>\n",
       "      <th></th>\n",
       "      <th></th>\n",
       "    </tr>\n",
       "  </thead>\n",
       "  <tbody>\n",
       "    <tr>\n",
       "      <th>0</th>\n",
       "      <td>/home/kimlab2/database_data/biological-data-wa...</td>\n",
       "      <td>A</td>\n",
       "      <td>G44S</td>\n",
       "      <td>-0.633667</td>\n",
       "      <td>-0.53</td>\n",
       "    </tr>\n",
       "    <tr>\n",
       "      <th>1</th>\n",
       "      <td>/home/kimlab2/database_data/biological-data-wa...</td>\n",
       "      <td>A</td>\n",
       "      <td>A120M</td>\n",
       "      <td>-0.188000</td>\n",
       "      <td>-0.20</td>\n",
       "    </tr>\n",
       "    <tr>\n",
       "      <th>2</th>\n",
       "      <td>/home/kimlab2/database_data/biological-data-wa...</td>\n",
       "      <td>A</td>\n",
       "      <td>A116N</td>\n",
       "      <td>0.114000</td>\n",
       "      <td>0.17</td>\n",
       "    </tr>\n",
       "    <tr>\n",
       "      <th>3</th>\n",
       "      <td>/home/kimlab2/database_data/biological-data-wa...</td>\n",
       "      <td>A</td>\n",
       "      <td>A122Q</td>\n",
       "      <td>0.508667</td>\n",
       "      <td>-0.24</td>\n",
       "    </tr>\n",
       "    <tr>\n",
       "      <th>4</th>\n",
       "      <td>/home/kimlab2/database_data/biological-data-wa...</td>\n",
       "      <td>A</td>\n",
       "      <td>A123Q</td>\n",
       "      <td>-0.577667</td>\n",
       "      <td>-0.22</td>\n",
       "    </tr>\n",
       "  </tbody>\n",
       "</table>\n",
       "</div>"
      ],
      "text/plain": [
       "                                             filename-wt pdb_chain mutation  \\\n",
       "Index                                                                         \n",
       "0      /home/kimlab2/database_data/biological-data-wa...         A     G44S   \n",
       "1      /home/kimlab2/database_data/biological-data-wa...         A    A120M   \n",
       "2      /home/kimlab2/database_data/biological-data-wa...         A    A116N   \n",
       "3      /home/kimlab2/database_data/biological-data-wa...         A    A122Q   \n",
       "4      /home/kimlab2/database_data/biological-data-wa...         A    A123Q   \n",
       "\n",
       "            ddg  ddg_exp  \n",
       "Index                     \n",
       "0     -0.633667    -0.53  \n",
       "1     -0.188000    -0.20  \n",
       "2      0.114000     0.17  \n",
       "3      0.508667    -0.24  \n",
       "4     -0.577667    -0.22  "
      ]
     },
     "execution_count": 11,
     "metadata": {},
     "output_type": "execute_result"
    }
   ],
   "source": [
    "ROSETTA_RESULTS['cartesian_ddg-talaris2014_cart-1'].head()"
   ]
  },
  {
   "cell_type": "code",
   "execution_count": 12,
   "metadata": {},
   "outputs": [
    {
     "data": {
      "text/html": [
       "<div>\n",
       "<style scoped>\n",
       "    .dataframe tbody tr th:only-of-type {\n",
       "        vertical-align: middle;\n",
       "    }\n",
       "\n",
       "    .dataframe tbody tr th {\n",
       "        vertical-align: top;\n",
       "    }\n",
       "\n",
       "    .dataframe thead th {\n",
       "        text-align: right;\n",
       "    }\n",
       "</style>\n",
       "<table border=\"1\" class=\"dataframe\">\n",
       "  <thead>\n",
       "    <tr style=\"text-align: right;\">\n",
       "      <th></th>\n",
       "      <th>filename_wt</th>\n",
       "      <th>pdb_chain</th>\n",
       "      <th>mutation</th>\n",
       "      <th>cartesian_ddg_beta_nov15_cart_1</th>\n",
       "      <th>ddg_exp</th>\n",
       "      <th>cartesian_ddg_beta_nov16_cart_1</th>\n",
       "      <th>cartesian_ddg_score12_cart_1</th>\n",
       "      <th>cartesian_ddg_talaris2013_cart_1</th>\n",
       "      <th>cartesian_ddg_talaris2014_cart_1</th>\n",
       "      <th>ddg_monomer_soft_rep_design_1</th>\n",
       "    </tr>\n",
       "  </thead>\n",
       "  <tbody>\n",
       "    <tr>\n",
       "      <th>0</th>\n",
       "      <td>/home/kimlab2/database_data/biological-data-wa...</td>\n",
       "      <td>A</td>\n",
       "      <td>G44S</td>\n",
       "      <td>-1.808667</td>\n",
       "      <td>-0.53</td>\n",
       "      <td>-0.701000</td>\n",
       "      <td>0.088000</td>\n",
       "      <td>-0.289667</td>\n",
       "      <td>-0.633667</td>\n",
       "      <td>-2.384</td>\n",
       "    </tr>\n",
       "    <tr>\n",
       "      <th>1</th>\n",
       "      <td>/home/kimlab2/database_data/biological-data-wa...</td>\n",
       "      <td>A</td>\n",
       "      <td>A120M</td>\n",
       "      <td>2.617667</td>\n",
       "      <td>-0.20</td>\n",
       "      <td>0.354000</td>\n",
       "      <td>0.560000</td>\n",
       "      <td>-0.069000</td>\n",
       "      <td>-0.188000</td>\n",
       "      <td>2.472</td>\n",
       "    </tr>\n",
       "    <tr>\n",
       "      <th>2</th>\n",
       "      <td>/home/kimlab2/database_data/biological-data-wa...</td>\n",
       "      <td>A</td>\n",
       "      <td>A116N</td>\n",
       "      <td>0.502667</td>\n",
       "      <td>0.17</td>\n",
       "      <td>-0.131333</td>\n",
       "      <td>0.419000</td>\n",
       "      <td>0.392000</td>\n",
       "      <td>0.114000</td>\n",
       "      <td>0.652</td>\n",
       "    </tr>\n",
       "    <tr>\n",
       "      <th>3</th>\n",
       "      <td>/home/kimlab2/database_data/biological-data-wa...</td>\n",
       "      <td>A</td>\n",
       "      <td>A122Q</td>\n",
       "      <td>1.760333</td>\n",
       "      <td>-0.24</td>\n",
       "      <td>1.999000</td>\n",
       "      <td>3.205667</td>\n",
       "      <td>0.605667</td>\n",
       "      <td>0.508667</td>\n",
       "      <td>12.540</td>\n",
       "    </tr>\n",
       "    <tr>\n",
       "      <th>4</th>\n",
       "      <td>/home/kimlab2/database_data/biological-data-wa...</td>\n",
       "      <td>A</td>\n",
       "      <td>A123Q</td>\n",
       "      <td>0.110333</td>\n",
       "      <td>-0.22</td>\n",
       "      <td>-1.153000</td>\n",
       "      <td>1.313000</td>\n",
       "      <td>-0.334333</td>\n",
       "      <td>-0.577667</td>\n",
       "      <td>-3.730</td>\n",
       "    </tr>\n",
       "  </tbody>\n",
       "</table>\n",
       "</div>"
      ],
      "text/plain": [
       "                                         filename_wt pdb_chain mutation  \\\n",
       "0  /home/kimlab2/database_data/biological-data-wa...         A     G44S   \n",
       "1  /home/kimlab2/database_data/biological-data-wa...         A    A120M   \n",
       "2  /home/kimlab2/database_data/biological-data-wa...         A    A116N   \n",
       "3  /home/kimlab2/database_data/biological-data-wa...         A    A122Q   \n",
       "4  /home/kimlab2/database_data/biological-data-wa...         A    A123Q   \n",
       "\n",
       "   cartesian_ddg_beta_nov15_cart_1  ddg_exp  cartesian_ddg_beta_nov16_cart_1  \\\n",
       "0                        -1.808667    -0.53                        -0.701000   \n",
       "1                         2.617667    -0.20                         0.354000   \n",
       "2                         0.502667     0.17                        -0.131333   \n",
       "3                         1.760333    -0.24                         1.999000   \n",
       "4                         0.110333    -0.22                        -1.153000   \n",
       "\n",
       "   cartesian_ddg_score12_cart_1  cartesian_ddg_talaris2013_cart_1  \\\n",
       "0                      0.088000                         -0.289667   \n",
       "1                      0.560000                         -0.069000   \n",
       "2                      0.419000                          0.392000   \n",
       "3                      3.205667                          0.605667   \n",
       "4                      1.313000                         -0.334333   \n",
       "\n",
       "   cartesian_ddg_talaris2014_cart_1  ddg_monomer_soft_rep_design_1  \n",
       "0                         -0.633667                         -2.384  \n",
       "1                         -0.188000                          2.472  \n",
       "2                          0.114000                          0.652  \n",
       "3                          0.508667                         12.540  \n",
       "4                         -0.577667                         -3.730  "
      ]
     },
     "metadata": {},
     "output_type": "display_data"
    },
    {
     "name": "stdout",
     "output_type": "stream",
     "text": [
      "(3471, 10)\n"
     ]
    }
   ],
   "source": [
    "rosetta_results_df = None\n",
    "\n",
    "for key, df in ROSETTA_RESULTS.items():\n",
    "    df = df.rename(columns={'ddg': key})\n",
    "    if rosetta_results_df is None:\n",
    "        rosetta_results_df = df\n",
    "    else:\n",
    "        assert (rosetta_results_df['ddg_exp'].values == df['ddg_exp'].values).all()\n",
    "        rosetta_results_df = rosetta_results_df.merge(\n",
    "            df.drop('ddg_exp', axis=1), on=['filename-wt', 'pdb_chain', 'mutation'], how='outer')\n",
    "\n",
    "rosetta_results_df = rosetta_results_df.rename(columns=lambda c: c.replace('-', '_').strip('_'))\n",
    "display(rosetta_results_df.head())\n",
    "print(rosetta_results_df.shape)"
   ]
  },
  {
   "cell_type": "markdown",
   "metadata": {},
   "source": [
    "## Copy structures"
   ]
  },
  {
   "cell_type": "code",
   "execution_count": 13,
   "metadata": {},
   "outputs": [],
   "source": [
    "STRUCTURE_PATH = NOTEBOOK_PATH.joinpath('structures')\n",
    "STRUCTURE_PATH.mkdir(exist_ok=True)"
   ]
  },
  {
   "cell_type": "code",
   "execution_count": 14,
   "metadata": {},
   "outputs": [
    {
     "data": {
      "text/plain": [
       "['pdb1stn.entA_0--K131G-wt.pdb',\n",
       " 'pdb1stn.entA_0--T39I-wt.pdb',\n",
       " 'pdb1stn.entA_0--K65Q-wt.pdb',\n",
       " 'pdb1ten.entA_0--Y68A-wt.pdb',\n",
       " 'pdb1aye.entA_0--K38A-wt.pdb',\n",
       " 'pdb1shf.entA_0--S41A-wt.pdb',\n",
       " 'pdb1stn.entA_0--T115V-wt.pdb',\n",
       " 'pdb1fmk.entA_0--Q47A-wt.pdb',\n",
       " 'pdb1stn.entA_0--V61T-wt.pdb',\n",
       " 'pdb1shf.entA_0--S41I-wt.pdb']"
      ]
     },
     "execution_count": 14,
     "metadata": {},
     "output_type": "execute_result"
    }
   ],
   "source": [
    "os.listdir(STRUCTURE_PATH)[:10]"
   ]
  },
  {
   "cell_type": "code",
   "execution_count": 15,
   "metadata": {
    "scrolled": true
   },
   "outputs": [
    {
     "data": {
      "text/plain": [
       "'/home/kimlab1/database_data/datapkg/adjacency-net-v2/notebooks/protherm_dataset/structures/pdb107l.entA_0--G44S-wt.pdb'"
      ]
     },
     "execution_count": 15,
     "metadata": {},
     "output_type": "execute_result"
    }
   ],
   "source": [
    "def get_local_filename(filename):\n",
    "    return STRUCTURE_PATH.joinpath(op.basename(filename)).absolute().as_posix()\n",
    "\n",
    "get_local_filename(rosetta_results_df['filename_wt'].iloc[0])"
   ]
  },
  {
   "cell_type": "code",
   "execution_count": 16,
   "metadata": {},
   "outputs": [
    {
     "name": "stdout",
     "output_type": "stream",
     "text": [
      "0\n",
      "200\n",
      "400\n",
      "600\n",
      "800\n",
      "1000\n",
      "1200\n",
      "1400\n",
      "1600\n",
      "1800\n",
      "2000\n",
      "2200\n",
      "2400\n",
      "2600\n",
      "2800\n",
      "3000\n",
      "3200\n",
      "3400\n"
     ]
    }
   ],
   "source": [
    "file_list = rosetta_results_df['filename_wt'].drop_duplicates().tolist()\n",
    "\n",
    "local_filename_wt = []\n",
    "for i, filename in enumerate(file_list):\n",
    "    if i % 200 == 0:\n",
    "        print(i)\n",
    "    new_filename = STRUCTURE_PATH.joinpath(op.basename(filename))\n",
    "    filename = filename.replace(\n",
    "        \"/home/kimlab2/database_data/biological-data-warehouse\",\n",
    "        Path(\"~/datapkg\").expanduser().as_posix(),\n",
    "    )\n",
    "    local_filename = get_local_filename(filename)\n",
    "    if not op.isfile(local_filename):\n",
    "        shutil.copy(filename, local_filename)\n",
    "    local_filename_wt.append(local_filename)   \n",
    "\n",
    "rosetta_results_df['local_filename_wt'] = local_filename_wt"
   ]
  },
  {
   "cell_type": "code",
   "execution_count": 17,
   "metadata": {},
   "outputs": [
    {
     "data": {
      "text/html": [
       "<div>\n",
       "<style scoped>\n",
       "    .dataframe tbody tr th:only-of-type {\n",
       "        vertical-align: middle;\n",
       "    }\n",
       "\n",
       "    .dataframe tbody tr th {\n",
       "        vertical-align: top;\n",
       "    }\n",
       "\n",
       "    .dataframe thead th {\n",
       "        text-align: right;\n",
       "    }\n",
       "</style>\n",
       "<table border=\"1\" class=\"dataframe\">\n",
       "  <thead>\n",
       "    <tr style=\"text-align: right;\">\n",
       "      <th></th>\n",
       "      <th>filename_wt</th>\n",
       "      <th>pdb_chain</th>\n",
       "      <th>mutation</th>\n",
       "      <th>cartesian_ddg_beta_nov15_cart_1</th>\n",
       "      <th>ddg_exp</th>\n",
       "      <th>cartesian_ddg_beta_nov16_cart_1</th>\n",
       "      <th>cartesian_ddg_score12_cart_1</th>\n",
       "      <th>cartesian_ddg_talaris2013_cart_1</th>\n",
       "      <th>cartesian_ddg_talaris2014_cart_1</th>\n",
       "      <th>ddg_monomer_soft_rep_design_1</th>\n",
       "      <th>local_filename_wt</th>\n",
       "    </tr>\n",
       "  </thead>\n",
       "  <tbody>\n",
       "    <tr>\n",
       "      <th>0</th>\n",
       "      <td>/home/kimlab2/database_data/biological-data-wa...</td>\n",
       "      <td>A</td>\n",
       "      <td>G44S</td>\n",
       "      <td>-1.808667</td>\n",
       "      <td>-0.53</td>\n",
       "      <td>-0.701000</td>\n",
       "      <td>0.088000</td>\n",
       "      <td>-0.289667</td>\n",
       "      <td>-0.633667</td>\n",
       "      <td>-2.384</td>\n",
       "      <td>/home/kimlab1/database_data/datapkg/adjacency-...</td>\n",
       "    </tr>\n",
       "    <tr>\n",
       "      <th>1</th>\n",
       "      <td>/home/kimlab2/database_data/biological-data-wa...</td>\n",
       "      <td>A</td>\n",
       "      <td>A120M</td>\n",
       "      <td>2.617667</td>\n",
       "      <td>-0.20</td>\n",
       "      <td>0.354000</td>\n",
       "      <td>0.560000</td>\n",
       "      <td>-0.069000</td>\n",
       "      <td>-0.188000</td>\n",
       "      <td>2.472</td>\n",
       "      <td>/home/kimlab1/database_data/datapkg/adjacency-...</td>\n",
       "    </tr>\n",
       "    <tr>\n",
       "      <th>2</th>\n",
       "      <td>/home/kimlab2/database_data/biological-data-wa...</td>\n",
       "      <td>A</td>\n",
       "      <td>A116N</td>\n",
       "      <td>0.502667</td>\n",
       "      <td>0.17</td>\n",
       "      <td>-0.131333</td>\n",
       "      <td>0.419000</td>\n",
       "      <td>0.392000</td>\n",
       "      <td>0.114000</td>\n",
       "      <td>0.652</td>\n",
       "      <td>/home/kimlab1/database_data/datapkg/adjacency-...</td>\n",
       "    </tr>\n",
       "    <tr>\n",
       "      <th>3</th>\n",
       "      <td>/home/kimlab2/database_data/biological-data-wa...</td>\n",
       "      <td>A</td>\n",
       "      <td>A122Q</td>\n",
       "      <td>1.760333</td>\n",
       "      <td>-0.24</td>\n",
       "      <td>1.999000</td>\n",
       "      <td>3.205667</td>\n",
       "      <td>0.605667</td>\n",
       "      <td>0.508667</td>\n",
       "      <td>12.540</td>\n",
       "      <td>/home/kimlab1/database_data/datapkg/adjacency-...</td>\n",
       "    </tr>\n",
       "    <tr>\n",
       "      <th>4</th>\n",
       "      <td>/home/kimlab2/database_data/biological-data-wa...</td>\n",
       "      <td>A</td>\n",
       "      <td>A123Q</td>\n",
       "      <td>0.110333</td>\n",
       "      <td>-0.22</td>\n",
       "      <td>-1.153000</td>\n",
       "      <td>1.313000</td>\n",
       "      <td>-0.334333</td>\n",
       "      <td>-0.577667</td>\n",
       "      <td>-3.730</td>\n",
       "      <td>/home/kimlab1/database_data/datapkg/adjacency-...</td>\n",
       "    </tr>\n",
       "  </tbody>\n",
       "</table>\n",
       "</div>"
      ],
      "text/plain": [
       "                                         filename_wt pdb_chain mutation  \\\n",
       "0  /home/kimlab2/database_data/biological-data-wa...         A     G44S   \n",
       "1  /home/kimlab2/database_data/biological-data-wa...         A    A120M   \n",
       "2  /home/kimlab2/database_data/biological-data-wa...         A    A116N   \n",
       "3  /home/kimlab2/database_data/biological-data-wa...         A    A122Q   \n",
       "4  /home/kimlab2/database_data/biological-data-wa...         A    A123Q   \n",
       "\n",
       "   cartesian_ddg_beta_nov15_cart_1  ddg_exp  cartesian_ddg_beta_nov16_cart_1  \\\n",
       "0                        -1.808667    -0.53                        -0.701000   \n",
       "1                         2.617667    -0.20                         0.354000   \n",
       "2                         0.502667     0.17                        -0.131333   \n",
       "3                         1.760333    -0.24                         1.999000   \n",
       "4                         0.110333    -0.22                        -1.153000   \n",
       "\n",
       "   cartesian_ddg_score12_cart_1  cartesian_ddg_talaris2013_cart_1  \\\n",
       "0                      0.088000                         -0.289667   \n",
       "1                      0.560000                         -0.069000   \n",
       "2                      0.419000                          0.392000   \n",
       "3                      3.205667                          0.605667   \n",
       "4                      1.313000                         -0.334333   \n",
       "\n",
       "   cartesian_ddg_talaris2014_cart_1  ddg_monomer_soft_rep_design_1  \\\n",
       "0                         -0.633667                         -2.384   \n",
       "1                         -0.188000                          2.472   \n",
       "2                          0.114000                          0.652   \n",
       "3                          0.508667                         12.540   \n",
       "4                         -0.577667                         -3.730   \n",
       "\n",
       "                                   local_filename_wt  \n",
       "0  /home/kimlab1/database_data/datapkg/adjacency-...  \n",
       "1  /home/kimlab1/database_data/datapkg/adjacency-...  \n",
       "2  /home/kimlab1/database_data/datapkg/adjacency-...  \n",
       "3  /home/kimlab1/database_data/datapkg/adjacency-...  \n",
       "4  /home/kimlab1/database_data/datapkg/adjacency-...  "
      ]
     },
     "execution_count": 17,
     "metadata": {},
     "output_type": "execute_result"
    }
   ],
   "source": [
    "rosetta_results_df.head()"
   ]
  },
  {
   "cell_type": "markdown",
   "metadata": {},
   "source": [
    "# Process data"
   ]
  },
  {
   "cell_type": "code",
   "execution_count": 18,
   "metadata": {},
   "outputs": [],
   "source": [
    "if DEBUG:\n",
    "    rosetta_results_df = rosetta_results_df.iloc[:10]"
   ]
  },
  {
   "cell_type": "markdown",
   "metadata": {},
   "source": [
    "## Extract adjacencies"
   ]
  },
  {
   "cell_type": "code",
   "execution_count": 19,
   "metadata": {},
   "outputs": [],
   "source": [
    "def extract_seq_and_adj(row):\n",
    "    domain, result_df = helper.get_interaction_dataset_wdistances(\n",
    "        row.local_filename_wt, 0, row.pdb_chain, r_cutoff=12)\n",
    "    domain_sequence = structure_tools.get_chain_sequence(domain)\n",
    "    assert max(result_df['residue_idx_1'].values) < len(domain_sequence)\n",
    "    assert max(result_df['residue_idx_2'].values) < len(domain_sequence)\n",
    "    result = {\n",
    "        'sequence': domain_sequence,\n",
    "        'residue_idx_1': result_df['residue_idx_1'].values,\n",
    "        'residue_idx_2': result_df['residue_idx_2'].values,\n",
    "        'distances': result_df['distance'].values,\n",
    "    }\n",
    "    return result"
   ]
  },
  {
   "cell_type": "code",
   "execution_count": 20,
   "metadata": {},
   "outputs": [],
   "source": [
    "def worker(row_dict):\n",
    "    row = helper.to_namedtuple(row_dict)\n",
    "    result = extract_seq_and_adj(row)\n",
    "    return result"
   ]
  },
  {
   "cell_type": "code",
   "execution_count": 21,
   "metadata": {},
   "outputs": [],
   "source": [
    "logging.getLogger(\"kmbio.PDB.core.atom\").setLevel(logging.WARNING)"
   ]
  },
  {
   "cell_type": "code",
   "execution_count": 22,
   "metadata": {},
   "outputs": [],
   "source": [
    "columns = [\"local_filename_wt\", \"pdb_chain\"]\n",
    "\n",
    "with concurrent.futures.ProcessPoolExecutor(psutil.cpu_count(logical=False)) as pool:\n",
    "    futures = pool.map(worker, (t._asdict() for t in rosetta_results_df[columns].itertuples()))\n",
    "    results = list(futures)"
   ]
  },
  {
   "cell_type": "code",
   "execution_count": 23,
   "metadata": {},
   "outputs": [],
   "source": [
    "protherm_validaton_dataset = rosetta_results_df.copy()\n",
    "protherm_validaton_dataset = protherm_validaton_dataset.rename(columns={'pdb_chain': 'chain_id'})\n",
    "                                                               \n",
    "protherm_validaton_dataset['structure_id'] = [\n",
    "    Path(filename).name[3:7] for filename in protherm_validaton_dataset[\"filename_wt\"]\n",
    "]\n",
    "protherm_validaton_dataset['model_id'] = 0"
   ]
  },
  {
   "cell_type": "code",
   "execution_count": 24,
   "metadata": {},
   "outputs": [],
   "source": [
    "protherm_validaton_dataset['qseq'] = [result[\"sequence\"] for result in results]\n",
    "protherm_validaton_dataset['residue_idx_1_corrected'] = [result[\"residue_idx_1\"] for result in results]\n",
    "protherm_validaton_dataset['residue_idx_2_corrected'] = [result[\"residue_idx_2\"] for result in results]\n",
    "protherm_validaton_dataset['distances'] = [result[\"distances\"] for result in results]"
   ]
  },
  {
   "cell_type": "code",
   "execution_count": 25,
   "metadata": {},
   "outputs": [],
   "source": [
    "def mutation_matches_sequence(mutation, sequence):\n",
    "    return sequence[int(mutation[1:-1]) - 1] == mutation[0]\n",
    "\n",
    "\n",
    "protherm_validaton_dataset['mutation_matches_sequence'] = [\n",
    "    mutation_matches_sequence(mutation, sequence)\n",
    "    for mutation, sequence\n",
    "    in protherm_validaton_dataset[['mutation', 'qseq']].values\n",
    "]\n",
    "assert protherm_validaton_dataset['mutation_matches_sequence'].all()"
   ]
  },
  {
   "cell_type": "code",
   "execution_count": 26,
   "metadata": {},
   "outputs": [],
   "source": [
    "def apply_mutation(sequence, mutation):\n",
    "    wt, pos, mut = mutation[0], int(mutation[1:-1]), mutation[-1]\n",
    "    assert sequence[pos - 1] == wt\n",
    "    sequence_mut = sequence[:pos - 1] + mut + sequence[pos:]\n",
    "    assert sequence_mut[pos - 1] == mut\n",
    "    assert len(sequence) == len(sequence_mut)\n",
    "    return sequence_mut\n",
    "\n",
    "protherm_validaton_dataset['qseq_mutation'] = [\n",
    "    apply_mutation(sequence, mutation)\n",
    "    for mutation, sequence\n",
    "    in protherm_validaton_dataset[['mutation', 'qseq']].values\n",
    "]"
   ]
  },
  {
   "cell_type": "code",
   "execution_count": 27,
   "metadata": {},
   "outputs": [],
   "source": [
    "assert not protherm_validaton_dataset.isnull().any().any()"
   ]
  },
  {
   "cell_type": "code",
   "execution_count": 28,
   "metadata": {},
   "outputs": [],
   "source": [
    "columns = [\n",
    "    'structure_id', 'model_id', 'chain_id', 'qseq', 'qseq_mutation', 'ddg_exp', \n",
    "    'residue_idx_1_corrected', 'residue_idx_2_corrected', 'distances',\n",
    "]\n",
    "\n",
    "for column in columns:\n",
    "    assert column in protherm_validaton_dataset.columns, column"
   ]
  },
  {
   "cell_type": "code",
   "execution_count": 29,
   "metadata": {},
   "outputs": [],
   "source": [
    "pq.write_table(\n",
    "    pa.Table.from_pandas(protherm_validaton_dataset, preserve_index=False),\n",
    "    OUTPUT_PATH.joinpath('protherm_validaton_dataset.parquet').as_posix(),\n",
    "    version='2.0', flavor='spark'\n",
    ")"
   ]
  },
  {
   "cell_type": "markdown",
   "metadata": {},
   "source": [
    "# Explore"
   ]
  },
  {
   "cell_type": "code",
   "execution_count": 30,
   "metadata": {},
   "outputs": [
    {
     "data": {
      "text/html": [
       "<div>\n",
       "<style scoped>\n",
       "    .dataframe tbody tr th:only-of-type {\n",
       "        vertical-align: middle;\n",
       "    }\n",
       "\n",
       "    .dataframe tbody tr th {\n",
       "        vertical-align: top;\n",
       "    }\n",
       "\n",
       "    .dataframe thead th {\n",
       "        text-align: right;\n",
       "    }\n",
       "</style>\n",
       "<table border=\"1\" class=\"dataframe\">\n",
       "  <thead>\n",
       "    <tr style=\"text-align: right;\">\n",
       "      <th></th>\n",
       "      <th>filename_wt</th>\n",
       "      <th>chain_id</th>\n",
       "      <th>mutation</th>\n",
       "      <th>cartesian_ddg_beta_nov15_cart_1</th>\n",
       "      <th>ddg_exp</th>\n",
       "      <th>cartesian_ddg_beta_nov16_cart_1</th>\n",
       "      <th>cartesian_ddg_score12_cart_1</th>\n",
       "      <th>cartesian_ddg_talaris2013_cart_1</th>\n",
       "      <th>cartesian_ddg_talaris2014_cart_1</th>\n",
       "      <th>ddg_monomer_soft_rep_design_1</th>\n",
       "      <th>local_filename_wt</th>\n",
       "      <th>structure_id</th>\n",
       "      <th>model_id</th>\n",
       "      <th>qseq</th>\n",
       "      <th>residue_idx_1_corrected</th>\n",
       "      <th>residue_idx_2_corrected</th>\n",
       "      <th>distances</th>\n",
       "      <th>mutation_matches_sequence</th>\n",
       "      <th>qseq_mutation</th>\n",
       "    </tr>\n",
       "  </thead>\n",
       "  <tbody>\n",
       "    <tr>\n",
       "      <th>0</th>\n",
       "      <td>/home/kimlab2/database_data/biological-data-wa...</td>\n",
       "      <td>A</td>\n",
       "      <td>G44S</td>\n",
       "      <td>-1.808667</td>\n",
       "      <td>-0.53</td>\n",
       "      <td>-0.701</td>\n",
       "      <td>0.088</td>\n",
       "      <td>-0.289667</td>\n",
       "      <td>-0.633667</td>\n",
       "      <td>-2.384</td>\n",
       "      <td>/home/kimlab1/database_data/datapkg/adjacency-...</td>\n",
       "      <td>107l</td>\n",
       "      <td>0</td>\n",
       "      <td>MNIFEMLRIDEGLRLKIYKDTEGYYTIGIGHLLTKSPSLNAAKGEL...</td>\n",
       "      <td>[0, 0, 0, 0, 0, 0, 0, 0, 0, 0, 0, 0, 0, 0, 0, ...</td>\n",
       "      <td>[1, 2, 3, 4, 5, 6, 7, 8, 9, 10, 11, 66, 70, 91...</td>\n",
       "      <td>[1.3463743907249561, 4.728744865183572, 6.3895...</td>\n",
       "      <td>True</td>\n",
       "      <td>MNIFEMLRIDEGLRLKIYKDTEGYYTIGIGHLLTKSPSLNAAKSEL...</td>\n",
       "    </tr>\n",
       "    <tr>\n",
       "      <th>1</th>\n",
       "      <td>/home/kimlab2/database_data/biological-data-wa...</td>\n",
       "      <td>A</td>\n",
       "      <td>A120M</td>\n",
       "      <td>2.617667</td>\n",
       "      <td>-0.20</td>\n",
       "      <td>0.354</td>\n",
       "      <td>0.560</td>\n",
       "      <td>-0.069000</td>\n",
       "      <td>-0.188000</td>\n",
       "      <td>2.472</td>\n",
       "      <td>/home/kimlab1/database_data/datapkg/adjacency-...</td>\n",
       "      <td>160l</td>\n",
       "      <td>0</td>\n",
       "      <td>MNIFEMLRIDEGLRLKIYKDTEGYYTIGIGHLLTKSPSLNAAKSEL...</td>\n",
       "      <td>[0, 0, 0, 0, 0, 0, 0, 0, 0, 0, 0, 0, 0, 0, 0, ...</td>\n",
       "      <td>[1, 2, 3, 4, 5, 6, 7, 8, 9, 10, 66, 70, 91, 92...</td>\n",
       "      <td>[1.3457596367851132, 4.727237459658657, 6.4231...</td>\n",
       "      <td>True</td>\n",
       "      <td>MNIFEMLRIDEGLRLKIYKDTEGYYTIGIGHLLTKSPSLNAAKSEL...</td>\n",
       "    </tr>\n",
       "  </tbody>\n",
       "</table>\n",
       "</div>"
      ],
      "text/plain": [
       "                                         filename_wt chain_id mutation  \\\n",
       "0  /home/kimlab2/database_data/biological-data-wa...        A     G44S   \n",
       "1  /home/kimlab2/database_data/biological-data-wa...        A    A120M   \n",
       "\n",
       "   cartesian_ddg_beta_nov15_cart_1  ddg_exp  cartesian_ddg_beta_nov16_cart_1  \\\n",
       "0                        -1.808667    -0.53                           -0.701   \n",
       "1                         2.617667    -0.20                            0.354   \n",
       "\n",
       "   cartesian_ddg_score12_cart_1  cartesian_ddg_talaris2013_cart_1  \\\n",
       "0                         0.088                         -0.289667   \n",
       "1                         0.560                         -0.069000   \n",
       "\n",
       "   cartesian_ddg_talaris2014_cart_1  ddg_monomer_soft_rep_design_1  \\\n",
       "0                         -0.633667                         -2.384   \n",
       "1                         -0.188000                          2.472   \n",
       "\n",
       "                                   local_filename_wt structure_id  model_id  \\\n",
       "0  /home/kimlab1/database_data/datapkg/adjacency-...         107l         0   \n",
       "1  /home/kimlab1/database_data/datapkg/adjacency-...         160l         0   \n",
       "\n",
       "                                                qseq  \\\n",
       "0  MNIFEMLRIDEGLRLKIYKDTEGYYTIGIGHLLTKSPSLNAAKGEL...   \n",
       "1  MNIFEMLRIDEGLRLKIYKDTEGYYTIGIGHLLTKSPSLNAAKSEL...   \n",
       "\n",
       "                             residue_idx_1_corrected  \\\n",
       "0  [0, 0, 0, 0, 0, 0, 0, 0, 0, 0, 0, 0, 0, 0, 0, ...   \n",
       "1  [0, 0, 0, 0, 0, 0, 0, 0, 0, 0, 0, 0, 0, 0, 0, ...   \n",
       "\n",
       "                             residue_idx_2_corrected  \\\n",
       "0  [1, 2, 3, 4, 5, 6, 7, 8, 9, 10, 11, 66, 70, 91...   \n",
       "1  [1, 2, 3, 4, 5, 6, 7, 8, 9, 10, 66, 70, 91, 92...   \n",
       "\n",
       "                                           distances  \\\n",
       "0  [1.3463743907249561, 4.728744865183572, 6.3895...   \n",
       "1  [1.3457596367851132, 4.727237459658657, 6.4231...   \n",
       "\n",
       "   mutation_matches_sequence  \\\n",
       "0                       True   \n",
       "1                       True   \n",
       "\n",
       "                                       qseq_mutation  \n",
       "0  MNIFEMLRIDEGLRLKIYKDTEGYYTIGIGHLLTKSPSLNAAKSEL...  \n",
       "1  MNIFEMLRIDEGLRLKIYKDTEGYYTIGIGHLLTKSPSLNAAKSEL...  "
      ]
     },
     "execution_count": 30,
     "metadata": {},
     "output_type": "execute_result"
    }
   ],
   "source": [
    "protherm_validaton_dataset.head(2)"
   ]
  },
  {
   "cell_type": "code",
   "execution_count": 32,
   "metadata": {},
   "outputs": [],
   "source": [
    "protherm_validaton_dataset[\"filename\"] = protherm_validaton_dataset[\"filename_wt\"].str.split(\"/\").str[-1]"
   ]
  },
  {
   "cell_type": "code",
   "execution_count": 37,
   "metadata": {},
   "outputs": [],
   "source": [
    "protherm_validaton_dataset[[\"filename\", \"chain_id\", \"mutation\", \"ddg_exp\"]].to_csv(NOTEBOOK_PATH.joinpath(\"for_carles.csv\"), sep=\"\\t\")"
   ]
  },
  {
   "cell_type": "code",
   "execution_count": null,
   "metadata": {},
   "outputs": [],
   "source": []
  },
  {
   "cell_type": "code",
   "execution_count": null,
   "metadata": {},
   "outputs": [],
   "source": []
  },
  {
   "cell_type": "code",
   "execution_count": null,
   "metadata": {},
   "outputs": [],
   "source": []
  },
  {
   "cell_type": "code",
   "execution_count": null,
   "metadata": {},
   "outputs": [],
   "source": []
  },
  {
   "cell_type": "code",
   "execution_count": null,
   "metadata": {},
   "outputs": [],
   "source": [
    "aa_wt_counter = Counter(protherm_validaton_dataset['mutation'].str[0])\n",
    "aa_mut_counter = Counter(protherm_validaton_dataset['mutation'].str[-1])\n",
    "\n",
    "labels = list(aa_wt_counter)\n",
    "aa_wt = [aa_wt_counter[l] for l in labels]\n",
    "aa_mut = [aa_mut_counter[l] for l in labels]\n",
    "\n",
    "indexes = np.arange(len(labels))\n",
    "width = 0.3\n",
    "\n",
    "with plt.rc_context(rc={'figure.figsize': (8, 5), 'font.size': 14}):\n",
    "    plt.bar(indexes - 0.15 , aa_wt, width, label=\"wt\")\n",
    "    plt.bar(indexes + 0.15, aa_mut, width, label=\"mut\")\n",
    "    plt.xticks(indexes, labels)\n",
    "    plt.ylabel(\"Number of occurrences\")\n",
    "    plt.legend()"
   ]
  },
  {
   "cell_type": "code",
   "execution_count": null,
   "metadata": {},
   "outputs": [],
   "source": []
  }
 ],
 "metadata": {
  "kernel_info": {
   "name": "python3"
  },
  "kernelspec": {
   "display_name": "Python 3",
   "language": "python",
   "name": "python3"
  },
  "language_info": {
   "codemirror_mode": {
    "name": "ipython",
    "version": 3
   },
   "file_extension": ".py",
   "mimetype": "text/x-python",
   "name": "python",
   "nbconvert_exporter": "python",
   "pygments_lexer": "ipython3",
   "version": "3.8.6"
  },
  "nteract": {
   "version": "0.15.0"
  },
  "toc": {
   "base_numbering": 1,
   "nav_menu": {},
   "number_sections": false,
   "sideBar": true,
   "skip_h1_title": false,
   "title_cell": "Table of Contents",
   "title_sidebar": "Contents",
   "toc_cell": false,
   "toc_position": {
    "height": "401px",
    "left": "73.6094px",
    "right": "20px",
    "top": "143.344px",
    "width": "288px"
   },
   "toc_section_display": true,
   "toc_window_display": true
  }
 },
 "nbformat": 4,
 "nbformat_minor": 4
}
