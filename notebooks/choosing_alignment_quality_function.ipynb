{
 "cells": [
  {
   "cell_type": "markdown",
   "metadata": {},
   "source": [
    "# Summary"
   ]
  },
  {
   "cell_type": "markdown",
   "metadata": {},
   "source": [
    "# Imports"
   ]
  },
  {
   "cell_type": "code",
   "execution_count": 1,
   "metadata": {},
   "outputs": [],
   "source": [
    "import concurrent.futures\n",
    "import io\n",
    "import itertools\n",
    "import multiprocessing\n",
    "import os\n",
    "import os.path as op\n",
    "import pickle\n",
    "import subprocess\n",
    "import tempfile\n",
    "from functools import partial\n",
    "from pathlib import Path\n",
    "\n",
    "import numpy as np\n",
    "import matplotlib.pyplot as plt\n",
    "import pandas as pd\n",
    "import pyarrow as pa\n",
    "import pyarrow.parquet as pq\n",
    "import seaborn as sns\n",
    "import sqlalchemy as sa\n",
    "from scipy import stats\n",
    "\n",
    "from kmtools import py_tools, sequence_tools"
   ]
  },
  {
   "cell_type": "code",
   "execution_count": 2,
   "metadata": {},
   "outputs": [],
   "source": [
    "%matplotlib inline"
   ]
  },
  {
   "cell_type": "code",
   "execution_count": 3,
   "metadata": {},
   "outputs": [],
   "source": [
    "pd.set_option(\"max_columns\", 100)"
   ]
  },
  {
   "cell_type": "markdown",
   "metadata": {},
   "source": [
    "# Parameters"
   ]
  },
  {
   "cell_type": "code",
   "execution_count": 4,
   "metadata": {},
   "outputs": [
    {
     "data": {
      "text/plain": [
       "PosixPath('validation_training_stats')"
      ]
     },
     "execution_count": 4,
     "metadata": {},
     "output_type": "execute_result"
    }
   ],
   "source": [
    "NOTEBOOK_PATH = Path('validation_training_stats')\n",
    "NOTEBOOK_PATH"
   ]
  },
  {
   "cell_type": "code",
   "execution_count": 5,
   "metadata": {},
   "outputs": [
    {
     "data": {
      "text/plain": [
       "PosixPath('/scratch/strokach/datapkg/adjacency-net-v2/notebooks/validation_training_stats')"
      ]
     },
     "execution_count": 5,
     "metadata": {},
     "output_type": "execute_result"
    }
   ],
   "source": [
    "OUTPUT_PATH = Path(os.getenv('OUTPUT_DIR', NOTEBOOK_PATH.name)).resolve()\n",
    "OUTPUT_PATH.mkdir(parents=True, exist_ok=True)\n",
    "OUTPUT_PATH"
   ]
  },
  {
   "cell_type": "code",
   "execution_count": 6,
   "metadata": {},
   "outputs": [
    {
     "data": {
      "text/plain": [
       "'2802e3b'"
      ]
     },
     "execution_count": 6,
     "metadata": {},
     "output_type": "execute_result"
    }
   ],
   "source": [
    "proc = subprocess.run([\"git\", \"rev-parse\", \"--short\", \"HEAD\"], stdout=subprocess.PIPE)\n",
    "GIT_REV = proc.stdout.decode().strip()\n",
    "GIT_REV"
   ]
  },
  {
   "cell_type": "code",
   "execution_count": 7,
   "metadata": {},
   "outputs": [
    {
     "data": {
      "text/plain": [
       "(None, None, '2802e3b')"
      ]
     },
     "execution_count": 7,
     "metadata": {},
     "output_type": "execute_result"
    }
   ],
   "source": [
    "TASK_ID = os.getenv(\"SLURM_ARRAY_TASK_ID\")\n",
    "TASK_COUNT = os.getenv(\"ORIGINAL_ARRAY_TASK_COUNT\") or os.getenv(\"SLURM_ARRAY_TASK_COUNT\")\n",
    "NETWORK_NAME = os.getenv(\"NETWORK_NAME\", GIT_REV)\n",
    "\n",
    "TASK_ID = int(TASK_ID) if TASK_ID is not None else None\n",
    "TASK_COUNT = int(TASK_COUNT) if TASK_COUNT is not None else None\n",
    "\n",
    "TASK_ID, TASK_COUNT, NETWORK_NAME"
   ]
  },
  {
   "cell_type": "code",
   "execution_count": 8,
   "metadata": {},
   "outputs": [
    {
     "data": {
      "text/plain": [
       "True"
      ]
     },
     "execution_count": 8,
     "metadata": {},
     "output_type": "execute_result"
    }
   ],
   "source": [
    "DEBUG = \"CI\" not in os.environ    \n",
    "DEBUG"
   ]
  },
  {
   "cell_type": "code",
   "execution_count": 9,
   "metadata": {},
   "outputs": [],
   "source": [
    "# if DEBUG:\n",
    "#     %load_ext autoreload\n",
    "#     %autoreload 2"
   ]
  },
  {
   "cell_type": "markdown",
   "metadata": {},
   "source": [
    "# `DATAPKG`"
   ]
  },
  {
   "cell_type": "code",
   "execution_count": 10,
   "metadata": {},
   "outputs": [],
   "source": [
    "DATAPKG = {\n",
    "    'adjacency_net_v2': {\n",
    "        'training_dataset':\n",
    "            Path(os.environ['DATAPKG_OUTPUT_DIR'])\n",
    "            .joinpath(\"adjacency-net-v2\", \"master\", \"training_dataset\", \"adjacency_matrix.parquet\")\n",
    "    }\n",
    "}"
   ]
  },
  {
   "cell_type": "markdown",
   "metadata": {},
   "source": [
    "# Load data"
   ]
  },
  {
   "cell_type": "markdown",
   "metadata": {},
   "source": [
    "## Subset of rows from training dataset"
   ]
  },
  {
   "cell_type": "markdown",
   "metadata": {},
   "source": [
    "### `sample_df`"
   ]
  },
  {
   "cell_type": "code",
   "execution_count": 11,
   "metadata": {},
   "outputs": [],
   "source": [
    "folders = sorted(DATAPKG['adjacency_net_v2']['training_dataset'].glob(\"database_id=*\"))"
   ]
  },
  {
   "cell_type": "code",
   "execution_count": 12,
   "metadata": {},
   "outputs": [],
   "source": [
    "dfs = []\n",
    "for folder in np.random.permutation(folders)[:20]:\n",
    "    files = list(folder.glob(\"*.parquet\"))\n",
    "    assert len(files) == 1\n",
    "    file = files[0]\n",
    "    df = pq.ParquetFile(file).read_row_group(0).to_pandas()\n",
    "    dfs.append(df)"
   ]
  },
  {
   "cell_type": "code",
   "execution_count": 13,
   "metadata": {},
   "outputs": [],
   "source": [
    "sample_df = pd.concat(dfs, ignore_index=True)"
   ]
  },
  {
   "cell_type": "code",
   "execution_count": 14,
   "metadata": {},
   "outputs": [
    {
     "data": {
      "text/html": [
       "<div>\n",
       "<style scoped>\n",
       "    .dataframe tbody tr th:only-of-type {\n",
       "        vertical-align: middle;\n",
       "    }\n",
       "\n",
       "    .dataframe tbody tr th {\n",
       "        vertical-align: top;\n",
       "    }\n",
       "\n",
       "    .dataframe thead th {\n",
       "        text-align: right;\n",
       "    }\n",
       "</style>\n",
       "<table border=\"1\" class=\"dataframe\">\n",
       "  <thead>\n",
       "    <tr style=\"text-align: right;\">\n",
       "      <th></th>\n",
       "      <th>__index_level_0__</th>\n",
       "      <th>uniparc_id</th>\n",
       "      <th>sequence</th>\n",
       "      <th>database</th>\n",
       "      <th>interpro_name</th>\n",
       "      <th>interpro_id</th>\n",
       "      <th>domain_start</th>\n",
       "      <th>domain_end</th>\n",
       "      <th>domain_length</th>\n",
       "      <th>structure_id</th>\n",
       "      <th>model_id</th>\n",
       "      <th>chain_id</th>\n",
       "      <th>pc_identity</th>\n",
       "      <th>alignment_length</th>\n",
       "      <th>mismatches</th>\n",
       "      <th>gap_opens</th>\n",
       "      <th>q_start</th>\n",
       "      <th>q_end</th>\n",
       "      <th>s_start</th>\n",
       "      <th>s_end</th>\n",
       "      <th>evalue_log10</th>\n",
       "      <th>bitscore</th>\n",
       "      <th>qseq</th>\n",
       "      <th>sseq</th>\n",
       "      <th>a2b</th>\n",
       "      <th>b2a</th>\n",
       "      <th>residue_idx_1</th>\n",
       "      <th>residue_idx_2</th>\n",
       "      <th>residue_id_1</th>\n",
       "      <th>residue_id_2</th>\n",
       "      <th>residue_aa_1</th>\n",
       "      <th>residue_aa_2</th>\n",
       "      <th>residue_idx_1_corrected</th>\n",
       "      <th>residue_idx_2_corrected</th>\n",
       "    </tr>\n",
       "  </thead>\n",
       "  <tbody>\n",
       "    <tr>\n",
       "      <th>0</th>\n",
       "      <td>842061419</td>\n",
       "      <td>UPI000050872A</td>\n",
       "      <td>RVTWMRRMRILHQLLRRYWESKTMDHHMYLSLYLKVKSNVSKNQWI...</td>\n",
       "      <td>Gene3D</td>\n",
       "      <td>Ribosomal protein L19/L19e, domain 3</td>\n",
       "      <td>IPR015974</td>\n",
       "      <td>272</td>\n",
       "      <td>326</td>\n",
       "      <td>55</td>\n",
       "      <td>4V6W</td>\n",
       "      <td>0.0</td>\n",
       "      <td>XA</td>\n",
       "      <td>51.92</td>\n",
       "      <td>52.0</td>\n",
       "      <td>25.0</td>\n",
       "      <td>0.0</td>\n",
       "      <td>4.0</td>\n",
       "      <td>55.0</td>\n",
       "      <td>95.0</td>\n",
       "      <td>146.0</td>\n",
       "      <td>-11.0</td>\n",
       "      <td>58.2</td>\n",
       "      <td>WMRRMRILHQLLRRYWESKTMDHHMYLSLYLKVKSNVSKNQWILME...</td>\n",
       "      <td>WMQRQRVLRRLLKKYRDSKKIDRHLYHDLYMKCKGNVFKNKRVLME...</td>\n",
       "      <td>[1.0, 2.0, 3.0, 4.0, 5.0, 6.0, 7.0, 8.0, 9.0, ...</td>\n",
       "      <td>[1.0, 2.0, 3.0, 4.0, 5.0, 6.0, 7.0, 8.0, 9.0, ...</td>\n",
       "      <td>[94.0, 94.0, 94.0, 94.0, 94.0, 94.0, 94.0, 95....</td>\n",
       "      <td>[95.0, 96.0, 97.0, 98.0, 99.0, 126.0, 129.0, 9...</td>\n",
       "      <td>[95.0, 95.0, 95.0, 95.0, 95.0, 95.0, 95.0, 96....</td>\n",
       "      <td>[96.0, 97.0, 98.0, 99.0, 100.0, 127.0, 130.0, ...</td>\n",
       "      <td>[W, W, W, W, W, W, W, M, M, M, M, M, Q, Q, Q, ...</td>\n",
       "      <td>[M, Q, R, Q, R, C, N, W, Q, R, Q, R, W, M, R, ...</td>\n",
       "      <td>[0.0, 0.0, 0.0, 0.0, 0.0, 0.0, 0.0, 1.0, 1.0, ...</td>\n",
       "      <td>[1.0, 2.0, 3.0, 4.0, 5.0, 32.0, 35.0, 0.0, 2.0...</td>\n",
       "    </tr>\n",
       "  </tbody>\n",
       "</table>\n",
       "</div>"
      ],
      "text/plain": [
       "   __index_level_0__     uniparc_id  \\\n",
       "0          842061419  UPI000050872A   \n",
       "\n",
       "                                            sequence database  \\\n",
       "0  RVTWMRRMRILHQLLRRYWESKTMDHHMYLSLYLKVKSNVSKNQWI...   Gene3D   \n",
       "\n",
       "                          interpro_name interpro_id  domain_start  domain_end  \\\n",
       "0  Ribosomal protein L19/L19e, domain 3   IPR015974           272         326   \n",
       "\n",
       "   domain_length structure_id  model_id chain_id  pc_identity  \\\n",
       "0             55         4V6W       0.0       XA        51.92   \n",
       "\n",
       "   alignment_length  mismatches  gap_opens  q_start  q_end  s_start  s_end  \\\n",
       "0              52.0        25.0        0.0      4.0   55.0     95.0  146.0   \n",
       "\n",
       "   evalue_log10  bitscore                                               qseq  \\\n",
       "0         -11.0      58.2  WMRRMRILHQLLRRYWESKTMDHHMYLSLYLKVKSNVSKNQWILME...   \n",
       "\n",
       "                                                sseq  \\\n",
       "0  WMQRQRVLRRLLKKYRDSKKIDRHLYHDLYMKCKGNVFKNKRVLME...   \n",
       "\n",
       "                                                 a2b  \\\n",
       "0  [1.0, 2.0, 3.0, 4.0, 5.0, 6.0, 7.0, 8.0, 9.0, ...   \n",
       "\n",
       "                                                 b2a  \\\n",
       "0  [1.0, 2.0, 3.0, 4.0, 5.0, 6.0, 7.0, 8.0, 9.0, ...   \n",
       "\n",
       "                                       residue_idx_1  \\\n",
       "0  [94.0, 94.0, 94.0, 94.0, 94.0, 94.0, 94.0, 95....   \n",
       "\n",
       "                                       residue_idx_2  \\\n",
       "0  [95.0, 96.0, 97.0, 98.0, 99.0, 126.0, 129.0, 9...   \n",
       "\n",
       "                                        residue_id_1  \\\n",
       "0  [95.0, 95.0, 95.0, 95.0, 95.0, 95.0, 95.0, 96....   \n",
       "\n",
       "                                        residue_id_2  \\\n",
       "0  [96.0, 97.0, 98.0, 99.0, 100.0, 127.0, 130.0, ...   \n",
       "\n",
       "                                        residue_aa_1  \\\n",
       "0  [W, W, W, W, W, W, W, M, M, M, M, M, Q, Q, Q, ...   \n",
       "\n",
       "                                        residue_aa_2  \\\n",
       "0  [M, Q, R, Q, R, C, N, W, Q, R, Q, R, W, M, R, ...   \n",
       "\n",
       "                             residue_idx_1_corrected  \\\n",
       "0  [0.0, 0.0, 0.0, 0.0, 0.0, 0.0, 0.0, 1.0, 1.0, ...   \n",
       "\n",
       "                             residue_idx_2_corrected  \n",
       "0  [1.0, 2.0, 3.0, 4.0, 5.0, 32.0, 35.0, 0.0, 2.0...  "
      ]
     },
     "metadata": {},
     "output_type": "display_data"
    },
    {
     "name": "stdout",
     "output_type": "stream",
     "text": [
      "291761\n"
     ]
    }
   ],
   "source": [
    "display(sample_df.head(1))\n",
    "print(len(sample_df))"
   ]
  },
  {
   "cell_type": "code",
   "execution_count": 15,
   "metadata": {},
   "outputs": [],
   "source": [
    "assert (sample_df['qseq'].str.len() == sample_df['sseq'].str.len()).all()"
   ]
  },
  {
   "cell_type": "code",
   "execution_count": 16,
   "metadata": {},
   "outputs": [],
   "source": [
    "assert sample_df['qseq'].str.contains('-').any()"
   ]
  },
  {
   "cell_type": "code",
   "execution_count": 17,
   "metadata": {},
   "outputs": [],
   "source": [
    "assert sample_df['sseq'].str.contains('-').any()"
   ]
  },
  {
   "cell_type": "markdown",
   "metadata": {},
   "source": [
    "### Permute sequence"
   ]
  },
  {
   "cell_type": "code",
   "execution_count": 18,
   "metadata": {},
   "outputs": [],
   "source": [
    "sample_df = sample_df[sample_df['qseq'].str.len() > 12]"
   ]
  },
  {
   "cell_type": "code",
   "execution_count": 19,
   "metadata": {},
   "outputs": [
    {
     "data": {
      "text/plain": [
       "'JKLMOPQABCDEFGHI'"
      ]
     },
     "execution_count": 19,
     "metadata": {},
     "output_type": "execute_result"
    }
   ],
   "source": [
    "def permute_seq(seq):\n",
    "    div = np.random.randint(6, len(seq) - 6)\n",
    "    return seq[div:] + seq[:div]\n",
    "\n",
    "\n",
    "permute_seq(\"ABCDEFGHIJKLMOPQ\")"
   ]
  },
  {
   "cell_type": "code",
   "execution_count": 20,
   "metadata": {},
   "outputs": [],
   "source": [
    "sample_df['qseq_permutted'] = [permute_seq(seq) for seq in sample_df['qseq']]"
   ]
  },
  {
   "cell_type": "markdown",
   "metadata": {},
   "source": [
    "### Calculate % identity"
   ]
  },
  {
   "cell_type": "code",
   "execution_count": 21,
   "metadata": {},
   "outputs": [
    {
     "data": {
      "text/plain": [
       "0.6666666666666666"
      ]
     },
     "execution_count": 21,
     "metadata": {},
     "output_type": "execute_result"
    }
   ],
   "source": [
    "def get_seq_identity(query, template):\n",
    "    num_matches = 0\n",
    "    for a, b in zip(query, template):\n",
    "        num_matches += int(a == b)\n",
    "    return num_matches / len(query.replace('-', ''))\n",
    "\n",
    "\n",
    "get_seq_identity(\"AAA\", \"ABA\")"
   ]
  },
  {
   "cell_type": "code",
   "execution_count": 22,
   "metadata": {},
   "outputs": [],
   "source": [
    "sample_df['identity_calc'] = [get_seq_identity(*v) for v in sample_df[['qseq', 'sseq']].values]"
   ]
  },
  {
   "cell_type": "code",
   "execution_count": 23,
   "metadata": {},
   "outputs": [],
   "source": [
    "sample_df['identity_permute_calc'] = [get_seq_identity(*v) for v in sample_df[['qseq_permutted', 'sseq']].values]"
   ]
  },
  {
   "cell_type": "markdown",
   "metadata": {},
   "source": [
    "### Plot distribution"
   ]
  },
  {
   "cell_type": "code",
   "execution_count": 24,
   "metadata": {},
   "outputs": [
    {
     "data": {
      "image/png": "[encoded data removed]",
      "text/plain": [
       "<Figure size 432x288 with 1 Axes>"
      ]
     },
     "metadata": {
      "needs_background": "light"
     },
     "output_type": "display_data"
    }
   ],
   "source": [
    "with plt.rc_context(rc={\"font.size\": 12}):\n",
    "    plt.hist(sample_df['identity_calc'], range=(0, 1), bins=40, label=\"true examples\")\n",
    "    plt.hist(sample_df['identity_permute_calc'], range=(0, 1), bins=40, label=\"permuted examples\")\n",
    "    plt.xlabel(\"% identity\")\n",
    "    plt.legend()"
   ]
  },
  {
   "cell_type": "markdown",
   "metadata": {},
   "source": [
    "## % identity vs. RMSD"
   ]
  },
  {
   "cell_type": "markdown",
   "metadata": {},
   "source": [
    "### `pc_identity_vs_rmsd`"
   ]
  },
  {
   "cell_type": "code",
   "execution_count": 25,
   "metadata": {
    "code_folding": [
     0
    ]
   },
   "outputs": [],
   "source": [
    "# data_txt\n",
    "data_txt = \"\"\"\\\n",
    "pc_identity,gdt_ts\n",
    "78.91816903490144, 93.00102913565063\n",
    "77.15940345976479, 90.35720067273232\n",
    "76.88890358247401, 89.88261439756785\n",
    "75.06610778675105, 84.05022394498152\n",
    "74.99929709752887, 83.23618217035641\n",
    "7.0114368968734535, 43.01694167821181\n",
    "6.804490588402837, 46.13797800100842\n",
    "9.649863306442038, 46.745232351084965\n",
    "9.919171554317431, 48.237470146982126\n",
    "6.39194848479903, 51.22671225643794\n",
    "9.915755549993348, 51.154737839749124\n",
    "11.136460723106405, 50.33918666786453\n",
    "13.238336127910861, 49.31907244634007\n",
    "12.488721783677176, 52.91564834783347\n",
    "10.385416423574265, 55.15694439423713\n",
    "12.482843078561311, 57.93606251678132\n",
    "10.991161376391334, 58.6840880217945\n",
    "13.1580203053144, 60.038414573351936\n",
    "12.750483045255178, 60.85301244170422\n",
    "15.1219050238181, 61.121605711930385\n",
    "15.05620652205027, 59.35775585128811\n",
    "16.547729340298197, 58.74541721570595\n",
    "16.212404822810875, 55.760703298028574\n",
    "16.145673575549715, 54.878818088687936\n",
    "15.87191657785691, 57.18581263685944\n",
    "15.525549627787088, 63.63133614463816\n",
    "15.99656101470543, 66.48020430896247\n",
    "15.926493205081217, 68.44774335767335\n",
    "16.941840908944158, 69.39635981427512\n",
    "21.086248573667255, 60.16480673334301\n",
    "22.105647817542483, 57.65340801945369\n",
    "19.0572214471229, 56.8428616911137\n",
    "21.55781605431278, 62.538770854658736\n",
    "21.009428197355902, 67.89903773287236\n",
    "22.90626390075434, 68.37171740097223\n",
    "22.700747547582175, 70.27157189888963\n",
    "18.903898462344287, 72.03994995131035\n",
    "26.15655229413894, 70.40320722830837\n",
    "26.087120020202924, 71.82799879929513\n",
    "28.527418178974685, 71.14670454154312\n",
    "31.299704292870715, 76.29954845951997\n",
    "28.585013600717943, 79.83058474316758\n",
    "28.04186891318873, 80.71318493015742\n",
    "31.564246023084593, 81.86239233834782\n",
    "33.12051403956805, 83.82802477999407\n",
    "32.98331777287755, 85.25289579294187\n",
    "28.100417638464286, 88.58294391519576\n",
    "27.96282416196867, 90.3470321017211\n",
    "27.8932330041106, 91.9075105421389\n",
    "42.88528156290124, 78.04989318678795\n",
    "43.09326061686517, 74.0468922126897\n",
    "47.289226114293626, 78.65532037176092\n",
    "47.694380115522094, 79.87602554487398\n",
    "47.41601548408983, 86.11793930654515\n",
    "46.668784398686896, 87.6792121665732\n",
    "46.731146338091676, 92.29248628526696\n",
    "47.678650607239106, 93.30902561854528\n",
    "52.559246924782634, 91.94643710304123\n",
    "52.69898533422594, 88.35057617919706\n",
    "60.08613440603624, 87.5956392235747\n",
    "60.020753672112505, 85.56041562407037\n",
    "62.86557029642452, 86.6425740171555\n",
    "62.79383420561879, 90.03482519489211\n",
    "62.792563134242386, 91.12032015034029\n",
    "61.36840709894382, 92.07179651753898\n",
    "63.53359774668536, 94.85083519812216\n",
    "74.5806379629261, 93.54886089888032\n",
    "75.18685956750933, 96.66894391814463\n",
    "\"\"\""
   ]
  },
  {
   "cell_type": "code",
   "execution_count": 26,
   "metadata": {},
   "outputs": [
    {
     "data": {
      "text/html": [
       "<div>\n",
       "<style scoped>\n",
       "    .dataframe tbody tr th:only-of-type {\n",
       "        vertical-align: middle;\n",
       "    }\n",
       "\n",
       "    .dataframe tbody tr th {\n",
       "        vertical-align: top;\n",
       "    }\n",
       "\n",
       "    .dataframe thead th {\n",
       "        text-align: right;\n",
       "    }\n",
       "</style>\n",
       "<table border=\"1\" class=\"dataframe\">\n",
       "  <thead>\n",
       "    <tr style=\"text-align: right;\">\n",
       "      <th></th>\n",
       "      <th>pc_identity</th>\n",
       "      <th>gdt_ts</th>\n",
       "    </tr>\n",
       "  </thead>\n",
       "  <tbody>\n",
       "    <tr>\n",
       "      <th>0</th>\n",
       "      <td>0.789182</td>\n",
       "      <td>0.930010</td>\n",
       "    </tr>\n",
       "    <tr>\n",
       "      <th>1</th>\n",
       "      <td>0.771594</td>\n",
       "      <td>0.903572</td>\n",
       "    </tr>\n",
       "    <tr>\n",
       "      <th>2</th>\n",
       "      <td>0.768889</td>\n",
       "      <td>0.898826</td>\n",
       "    </tr>\n",
       "    <tr>\n",
       "      <th>3</th>\n",
       "      <td>0.750661</td>\n",
       "      <td>0.840502</td>\n",
       "    </tr>\n",
       "    <tr>\n",
       "      <th>4</th>\n",
       "      <td>0.749993</td>\n",
       "      <td>0.832362</td>\n",
       "    </tr>\n",
       "  </tbody>\n",
       "</table>\n",
       "</div>"
      ],
      "text/plain": [
       "   pc_identity    gdt_ts\n",
       "0     0.789182  0.930010\n",
       "1     0.771594  0.903572\n",
       "2     0.768889  0.898826\n",
       "3     0.750661  0.840502\n",
       "4     0.749993  0.832362"
      ]
     },
     "execution_count": 26,
     "metadata": {},
     "output_type": "execute_result"
    }
   ],
   "source": [
    "buf = io.StringIO()\n",
    "buf.write(data_txt)\n",
    "buf.seek(0)\n",
    "pc_identity_vs_rmsd = pd.read_csv(buf)\n",
    "pc_identity_vs_rmsd = pc_identity_vs_rmsd / 100\n",
    "pc_identity_vs_rmsd.head()"
   ]
  },
  {
   "cell_type": "markdown",
   "metadata": {},
   "source": [
    "# Fit function"
   ]
  },
  {
   "cell_type": "code",
   "execution_count": 27,
   "metadata": {},
   "outputs": [],
   "source": [
    "from scipy import optimize"
   ]
  },
  {
   "cell_type": "code",
   "execution_count": 28,
   "metadata": {},
   "outputs": [],
   "source": [
    "def fn(x, m):\n",
    "    x = np.clip(x, 0.000001, 1)\n",
    "    x = np.log(x)\n",
    "    x = m * x + 1\n",
    "    x = np.clip(x, 0, 1)\n",
    "    return x"
   ]
  },
  {
   "cell_type": "code",
   "execution_count": 29,
   "metadata": {},
   "outputs": [
    {
     "data": {
      "text/plain": [
       "[<matplotlib.lines.Line2D at 0x7fbcc2606ac8>]"
      ]
     },
     "execution_count": 29,
     "metadata": {},
     "output_type": "execute_result"
    },
    {
     "data": {
      "image/png": "[encoded data removed]",
      "text/plain": [
       "<Figure size 432x288 with 1 Axes>"
      ]
     },
     "metadata": {
      "needs_background": "light"
     },
     "output_type": "display_data"
    }
   ],
   "source": [
    "x = np.linspace(0, 1, 100)\n",
    "plt.plot(x, fn(x, 0.1))"
   ]
  },
  {
   "cell_type": "code",
   "execution_count": 30,
   "metadata": {},
   "outputs": [
    {
     "data": {
      "text/plain": [
       "(array([0.20500374]), array([[2.50704438e-05]]))"
      ]
     },
     "execution_count": 30,
     "metadata": {},
     "output_type": "execute_result"
    }
   ],
   "source": [
    "p, cov = optimize.curve_fit(\n",
    "    fn,\n",
    "    pc_identity_vs_rmsd['pc_identity'].values,\n",
    "    pc_identity_vs_rmsd['gdt_ts'].values,\n",
    "    (0.1))\n",
    "p, cov"
   ]
  },
  {
   "cell_type": "code",
   "execution_count": 31,
   "metadata": {},
   "outputs": [
    {
     "data": {
      "image/png": "[encoded data removed]",
      "text/plain": [
       "<Figure size 432x288 with 1 Axes>"
      ]
     },
     "metadata": {
      "needs_background": "light"
     },
     "output_type": "display_data"
    }
   ],
   "source": [
    "x = np.linspace(0, 1, 100)\n",
    "with plt.rc_context(rc={\"font.size\": 12}):\n",
    "    plt.plot(x, fn(x, *p))\n",
    "    plt.plot(pc_identity_vs_rmsd['pc_identity'], pc_identity_vs_rmsd['gdt_ts'], 'rx')\n",
    "    plt.ylim(0, 1)\n",
    "    plt.xlabel(\"Sequence identity\")\n",
    "    plt.ylabel(\"GDT_TS\")"
   ]
  },
  {
   "cell_type": "code",
   "execution_count": 35,
   "metadata": {
    "scrolled": false
   },
   "outputs": [
    {
     "data": {
      "image/png": "[encoded data removed]",
      "text/plain": [
       "<Figure size 432x288 with 1 Axes>"
      ]
     },
     "metadata": {
      "needs_background": "light"
     },
     "output_type": "display_data"
    }
   ],
   "source": [
    "with plt.rc_context(rc={\"font.size\": 12}):\n",
    "    ic = fn(sample_df['identity_calc'], 0.2)\n",
    "    icp = (sample_df['identity_permute_calc']) / 2\n",
    "    plt.hist(ic, bins=40, density=True, label=\"True examples\")\n",
    "    plt.hist(icp, bins=40, density=True, label=\"Permuted examples\")\n",
    "    ylim = plt.ylim()\n",
    "    plt.vlines(0.5, *ylim, 'k', linestyle='--')\n",
    "    plt.ylim(ylim)\n",
    "    plt.xlim(-0.15, 1.15)\n",
    "    plt.xlabel(\"Sequence identity\")"
   ]
  },
  {
   "cell_type": "code",
   "execution_count": 36,
   "metadata": {},
   "outputs": [
    {
     "data": {
      "text/plain": [
       "0.03156373299425843"
      ]
     },
     "execution_count": 36,
     "metadata": {},
     "output_type": "execute_result"
    }
   ],
   "source": [
    "icp.mean()"
   ]
  },
  {
   "cell_type": "code",
   "execution_count": 37,
   "metadata": {},
   "outputs": [
    {
     "data": {
      "text/plain": [
       "0.030303030303030304"
      ]
     },
     "execution_count": 37,
     "metadata": {},
     "output_type": "execute_result"
    }
   ],
   "source": [
    "icp.median()"
   ]
  },
  {
   "cell_type": "code",
   "execution_count": null,
   "metadata": {},
   "outputs": [],
   "source": []
  }
 ],
 "metadata": {
  "kernelspec": {
   "display_name": "Python 3",
   "language": "python",
   "name": "python3"
  },
  "toc": {
   "base_numbering": 1,
   "nav_menu": {},
   "number_sections": false,
   "sideBar": true,
   "skip_h1_title": false,
   "title_cell": "Table of Contents",
   "title_sidebar": "Contents",
   "toc_cell": false,
   "toc_position": {
    "height": "424px",
    "left": "26px",
    "top": "141px",
    "width": "236px"
   },
   "toc_section_display": true,
   "toc_window_display": true
  }
 },
 "nbformat": 4,
 "nbformat_minor": 2
}
