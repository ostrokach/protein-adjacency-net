{
 "cells": [
  {
   "cell_type": "markdown",
   "metadata": {},
   "source": [
    "# Summary\n",
    "\n",
    "Generate training and validation datasets.\n",
    "\n",
    "----"
   ]
  },
  {
   "cell_type": "markdown",
   "metadata": {},
   "source": [
    "# Imports"
   ]
  },
  {
   "cell_type": "code",
   "execution_count": 23,
   "metadata": {},
   "outputs": [],
   "source": [
    "import torch\n",
    "import torch.nn as nn\n",
    "import torch.nn.functional as F\n",
    "import torch.optim as optim\n",
    "\n",
    "from torch.autograd import Variable"
   ]
  },
  {
   "cell_type": "code",
   "execution_count": 24,
   "metadata": {},
   "outputs": [
    {
     "name": "stderr",
     "output_type": "stream",
     "text": [
      "Setting the PACKAGE_NAME environment variable.\n",
      "Setting the PACKAGE_VERSION environment variable.\n",
      "Setting the DOCS_SECRET_KEY environment variable.\n",
      "Setting the PYTHON_VERSION environment variable.\n",
      "Setting the SPARK_MASTER environment variable.\n",
      "Setting the SPARK_ARGS environment variable.\n",
      "Setting the DB_TYPE environment variable.\n",
      "Setting the DB_PORT environment variable.\n"
     ]
    },
    {
     "name": "stdout",
     "output_type": "stream",
     "text": [
      "The autoreload extension is already loaded. To reload it, use:\n",
      "  %reload_ext autoreload\n",
      "2018-02-06 11:53:59.239360\n"
     ]
    }
   ],
   "source": [
    "%run _imports.ipynb"
   ]
  },
  {
   "cell_type": "code",
   "execution_count": 25,
   "metadata": {},
   "outputs": [
    {
     "name": "stdout",
     "output_type": "stream",
     "text": [
      "/home/kimlab2/database_data/databin/uniparc_domain/0.1/adjacency_matrix.parquet\n"
     ]
    }
   ],
   "source": [
    "%run _settings.ipynb"
   ]
  },
  {
   "cell_type": "code",
   "execution_count": 26,
   "metadata": {},
   "outputs": [
    {
     "data": {
      "text/html": [
       "\n",
       "            <div>\n",
       "                <p><b>SparkSession - in-memory</b></p>\n",
       "                \n",
       "        <div>\n",
       "            <p><b>SparkContext</b></p>\n",
       "\n",
       "            <p><a href=\"http://192.168.6.102:4040\">Spark UI</a></p>\n",
       "\n",
       "            <dl>\n",
       "              <dt>Version</dt>\n",
       "                <dd><code>v2.2.0</code></dd>\n",
       "              <dt>Master</dt>\n",
       "                <dd><code>spark://192.168.6.210:7077</code></dd>\n",
       "              <dt>AppName</dt>\n",
       "                <dd><code>adjacency-net</code></dd>\n",
       "            </dl>\n",
       "        </div>\n",
       "        \n",
       "            </div>\n",
       "        "
      ],
      "text/plain": [
       "<pyspark.sql.session.SparkSession at 0x7fe55350a4a8>"
      ]
     },
     "metadata": {},
     "output_type": "display_data"
    }
   ],
   "source": [
    "%run _spark.ipynb"
   ]
  },
  {
   "cell_type": "code",
   "execution_count": 27,
   "metadata": {
    "collapsed": true,
    "jupyter": {
     "outputs_hidden": true
    }
   },
   "outputs": [],
   "source": [
    "import random\n",
    "from typing import NamedTuple\n",
    "\n",
    "import h5py\n",
    "from sklearn import metrics"
   ]
  },
  {
   "cell_type": "code",
   "execution_count": 28,
   "metadata": {},
   "outputs": [
    {
     "data": {
      "text/plain": [
       "<module 'pagnn' from '/home/kimlab1/strokach/working/pagnn/pagnn/__init__.py'>"
      ]
     },
     "execution_count": 28,
     "metadata": {},
     "output_type": "execute_result"
    }
   ],
   "source": [
    "import pagnn\n",
    "importlib.reload(pagnn)"
   ]
  },
  {
   "cell_type": "markdown",
   "metadata": {},
   "source": [
    "# Parameters"
   ]
  },
  {
   "cell_type": "code",
   "execution_count": 29,
   "metadata": {
    "collapsed": true,
    "jupyter": {
     "outputs_hidden": true
    }
   },
   "outputs": [],
   "source": [
    "NOTEBOOK_NAME = 'mutation_datasets'\n",
    "NOTEBOOK_PATH = Path(NOTEBOOK_NAME).absolute()\n",
    "NOTEBOOK_PATH.mkdir(exist_ok=True)"
   ]
  },
  {
   "cell_type": "code",
   "execution_count": 30,
   "metadata": {},
   "outputs": [
    {
     "data": {
      "text/plain": [
       "'/home/kimlab2/database_data/databin'"
      ]
     },
     "execution_count": 30,
     "metadata": {},
     "output_type": "execute_result"
    }
   ],
   "source": [
    "os.environ['DATABIN_DIR']"
   ]
  },
  {
   "cell_type": "markdown",
   "metadata": {},
   "source": [
    "# Datasets"
   ]
  },
  {
   "cell_type": "markdown",
   "metadata": {},
   "source": [
    "## Gene3D domains"
   ]
  },
  {
   "cell_type": "code",
   "execution_count": 31,
   "metadata": {},
   "outputs": [
    {
     "ename": "FileNotFoundError",
     "evalue": "[Errno 2] No such file or directory: 'generate_datasets/gene3d_domains.pickle'",
     "output_type": "error",
     "traceback": [
      "\u001b[0;31m---------------------------------------------------------------------------\u001b[0m",
      "\u001b[0;31mFileNotFoundError\u001b[0m                         Traceback (most recent call last)",
      "\u001b[0;32m<ipython-input-31-504c239b2f6c>\u001b[0m in \u001b[0;36m<module>\u001b[0;34m()\u001b[0m\n\u001b[0;32m----> 1\u001b[0;31m \u001b[0;32mwith\u001b[0m \u001b[0mopen\u001b[0m\u001b[0;34m(\u001b[0m\u001b[0;34mf'generate_datasets/gene3d_domains.pickle'\u001b[0m\u001b[0;34m,\u001b[0m \u001b[0;34m'rb'\u001b[0m\u001b[0;34m)\u001b[0m \u001b[0;32mas\u001b[0m \u001b[0mfin\u001b[0m\u001b[0;34m:\u001b[0m\u001b[0;34m\u001b[0m\u001b[0m\n\u001b[0m\u001b[1;32m      2\u001b[0m     \u001b[0mGENE3D_DOMAINS\u001b[0m \u001b[0;34m=\u001b[0m \u001b[0mpickle\u001b[0m\u001b[0;34m.\u001b[0m\u001b[0mload\u001b[0m\u001b[0;34m(\u001b[0m\u001b[0mfin\u001b[0m\u001b[0;34m)\u001b[0m\u001b[0;34m\u001b[0m\u001b[0m\n",
      "\u001b[0;31mFileNotFoundError\u001b[0m: [Errno 2] No such file or directory: 'generate_datasets/gene3d_domains.pickle'"
     ]
    }
   ],
   "source": [
    "with open(f'generate_datasets/gene3d_domains.pickle', 'rb') as fin:\n",
    "    GENE3D_DOMAINS = pickle.load(fin)"
   ]
  },
  {
   "cell_type": "markdown",
   "metadata": {},
   "source": [
    "## Training / validation domains"
   ]
  },
  {
   "cell_type": "code",
   "execution_count": 32,
   "metadata": {},
   "outputs": [
    {
     "ename": "FileNotFoundError",
     "evalue": "[Errno 2] No such file or directory: 'generate_datasets/training_domains.pickle'",
     "output_type": "error",
     "traceback": [
      "\u001b[0;31m---------------------------------------------------------------------------\u001b[0m",
      "\u001b[0;31mFileNotFoundError\u001b[0m                         Traceback (most recent call last)",
      "\u001b[0;32m<ipython-input-32-da7f6c698eaa>\u001b[0m in \u001b[0;36m<module>\u001b[0;34m()\u001b[0m\n\u001b[0;32m----> 1\u001b[0;31m \u001b[0;32mwith\u001b[0m \u001b[0mopen\u001b[0m\u001b[0;34m(\u001b[0m\u001b[0;34mf'generate_datasets/training_domains.pickle'\u001b[0m\u001b[0;34m,\u001b[0m \u001b[0;34m'rb'\u001b[0m\u001b[0;34m)\u001b[0m \u001b[0;32mas\u001b[0m \u001b[0mfin\u001b[0m\u001b[0;34m:\u001b[0m\u001b[0;34m\u001b[0m\u001b[0m\n\u001b[0m\u001b[1;32m      2\u001b[0m     \u001b[0mTRAINING_DOMAINS\u001b[0m \u001b[0;34m=\u001b[0m \u001b[0mpickle\u001b[0m\u001b[0;34m.\u001b[0m\u001b[0mload\u001b[0m\u001b[0;34m(\u001b[0m\u001b[0mfin\u001b[0m\u001b[0;34m)\u001b[0m\u001b[0;34m\u001b[0m\u001b[0m\n\u001b[1;32m      3\u001b[0m \u001b[0;34m\u001b[0m\u001b[0m\n\u001b[1;32m      4\u001b[0m \u001b[0;32mwith\u001b[0m \u001b[0mopen\u001b[0m\u001b[0;34m(\u001b[0m\u001b[0;34mf'generate_datasets/validation_domains.pickle'\u001b[0m\u001b[0;34m,\u001b[0m \u001b[0;34m'rb'\u001b[0m\u001b[0;34m)\u001b[0m \u001b[0;32mas\u001b[0m \u001b[0mfin\u001b[0m\u001b[0;34m:\u001b[0m\u001b[0;34m\u001b[0m\u001b[0m\n\u001b[1;32m      5\u001b[0m     \u001b[0mVALIDATION_DOMAINS\u001b[0m \u001b[0;34m=\u001b[0m \u001b[0mpickle\u001b[0m\u001b[0;34m.\u001b[0m\u001b[0mload\u001b[0m\u001b[0;34m(\u001b[0m\u001b[0mfin\u001b[0m\u001b[0;34m)\u001b[0m\u001b[0;34m\u001b[0m\u001b[0m\n",
      "\u001b[0;31mFileNotFoundError\u001b[0m: [Errno 2] No such file or directory: 'generate_datasets/training_domains.pickle'"
     ]
    }
   ],
   "source": [
    "with open(f'generate_datasets/training_domains.pickle', 'rb') as fin:\n",
    "    TRAINING_DOMAINS = pickle.load(fin)\n",
    "    \n",
    "with open(f'generate_datasets/validation_domains.pickle', 'rb') as fin:\n",
    "    VALIDATION_DOMAINS = pickle.load(fin)\n",
    "    \n",
    "with open(f'generate_datasets/test_domains.pickle', 'rb') as fin:\n",
    "    TEST_DOMAINS = pickle.load(fin)"
   ]
  },
  {
   "cell_type": "markdown",
   "metadata": {},
   "source": [
    "## Training / validation parquet files"
   ]
  },
  {
   "cell_type": "code",
   "execution_count": 33,
   "metadata": {},
   "outputs": [
    {
     "ename": "FileNotFoundError",
     "evalue": "[Errno 2] No such file or directory: 'generate_datasets/training_parquet_files.pickle'",
     "output_type": "error",
     "traceback": [
      "\u001b[0;31m---------------------------------------------------------------------------\u001b[0m",
      "\u001b[0;31mFileNotFoundError\u001b[0m                         Traceback (most recent call last)",
      "\u001b[0;32m<ipython-input-33-448571725222>\u001b[0m in \u001b[0;36m<module>\u001b[0;34m()\u001b[0m\n\u001b[0;32m----> 1\u001b[0;31m \u001b[0;32mwith\u001b[0m \u001b[0mopen\u001b[0m\u001b[0;34m(\u001b[0m\u001b[0;34mf'generate_datasets/training_parquet_files.pickle'\u001b[0m\u001b[0;34m,\u001b[0m \u001b[0;34m'rb'\u001b[0m\u001b[0;34m)\u001b[0m \u001b[0;32mas\u001b[0m \u001b[0mfin\u001b[0m\u001b[0;34m:\u001b[0m\u001b[0;34m\u001b[0m\u001b[0m\n\u001b[0m\u001b[1;32m      2\u001b[0m     \u001b[0mTRAINING_PARQUET_FILES\u001b[0m \u001b[0;34m=\u001b[0m \u001b[0mpickle\u001b[0m\u001b[0;34m.\u001b[0m\u001b[0mload\u001b[0m\u001b[0;34m(\u001b[0m\u001b[0mfin\u001b[0m\u001b[0;34m)\u001b[0m\u001b[0;34m\u001b[0m\u001b[0m\n\u001b[1;32m      3\u001b[0m \u001b[0;34m\u001b[0m\u001b[0m\n\u001b[1;32m      4\u001b[0m \u001b[0;32mwith\u001b[0m \u001b[0mopen\u001b[0m\u001b[0;34m(\u001b[0m\u001b[0;34mf'generate_datasets/validation_parquet_files.pickle'\u001b[0m\u001b[0;34m,\u001b[0m \u001b[0;34m'rb'\u001b[0m\u001b[0;34m)\u001b[0m \u001b[0;32mas\u001b[0m \u001b[0mfin\u001b[0m\u001b[0;34m:\u001b[0m\u001b[0;34m\u001b[0m\u001b[0m\n\u001b[1;32m      5\u001b[0m     \u001b[0mVALIDATION_PARQUET_FILES\u001b[0m \u001b[0;34m=\u001b[0m \u001b[0mpickle\u001b[0m\u001b[0;34m.\u001b[0m\u001b[0mload\u001b[0m\u001b[0;34m(\u001b[0m\u001b[0mfin\u001b[0m\u001b[0;34m)\u001b[0m\u001b[0;34m\u001b[0m\u001b[0m\n",
      "\u001b[0;31mFileNotFoundError\u001b[0m: [Errno 2] No such file or directory: 'generate_datasets/training_parquet_files.pickle'"
     ]
    }
   ],
   "source": [
    "with open(f'generate_datasets/training_parquet_files.pickle', 'rb') as fin:\n",
    "    TRAINING_PARQUET_FILES = pickle.load(fin)\n",
    "    \n",
    "with open(f'generate_datasets/validation_parquet_files.pickle', 'rb') as fin:\n",
    "    VALIDATION_PARQUET_FILES = pickle.load(fin)\n",
    "    \n",
    "with open(f'generate_datasets/test_parquet_files.pickle', 'rb') as fin:\n",
    "    TEST_PARQUET_FILES = pickle.load(fin)"
   ]
  },
  {
   "cell_type": "markdown",
   "metadata": {},
   "source": [
    "## Output folders"
   ]
  },
  {
   "cell_type": "code",
   "execution_count": 34,
   "metadata": {},
   "outputs": [
    {
     "data": {
      "text/plain": [
       "PosixPath('/home/kimlab2/database_data/biological-data-warehouse/adjacency-net/notebooks/mutation_datasets/validation')"
      ]
     },
     "execution_count": 34,
     "metadata": {},
     "output_type": "execute_result"
    }
   ],
   "source": [
    "VALIDATION_DIR = NOTEBOOK_PATH.joinpath('validation')\n",
    "VALIDATION_DIR.mkdir(exist_ok=True)\n",
    "VALIDATION_DIR"
   ]
  },
  {
   "cell_type": "code",
   "execution_count": 35,
   "metadata": {},
   "outputs": [
    {
     "data": {
      "text/plain": [
       "PosixPath('/home/kimlab2/database_data/biological-data-warehouse/adjacency-net/notebooks/mutation_datasets/protherm')"
      ]
     },
     "execution_count": 35,
     "metadata": {},
     "output_type": "execute_result"
    }
   ],
   "source": [
    "PROTHERM_DIR = NOTEBOOK_PATH.joinpath('protherm')\n",
    "PROTHERM_DIR.mkdir(exist_ok=True)\n",
    "PROTHERM_DIR"
   ]
  },
  {
   "cell_type": "code",
   "execution_count": 36,
   "metadata": {},
   "outputs": [
    {
     "data": {
      "text/plain": [
       "PosixPath('/home/kimlab2/database_data/biological-data-warehouse/adjacency-net/notebooks/mutation_datasets/humsavar')"
      ]
     },
     "execution_count": 36,
     "metadata": {},
     "output_type": "execute_result"
    }
   ],
   "source": [
    "HUMSAVAR_DIR = NOTEBOOK_PATH.joinpath('humsavar')\n",
    "HUMSAVAR_DIR.mkdir(exist_ok=True)\n",
    "HUMSAVAR_DIR"
   ]
  },
  {
   "cell_type": "markdown",
   "metadata": {},
   "source": [
    "# Datasets"
   ]
  },
  {
   "cell_type": "markdown",
   "metadata": {},
   "source": [
    "## External validation dataset"
   ]
  },
  {
   "cell_type": "markdown",
   "metadata": {},
   "source": [
    "### Uniparc xref"
   ]
  },
  {
   "cell_type": "code",
   "execution_count": 37,
   "metadata": {},
   "outputs": [
    {
     "data": {
      "text/plain": [
       "'/home/kimlab2/database_data/databin/uniparc/v0.1.0/uniparc_xref.parquet'"
      ]
     },
     "execution_count": 37,
     "metadata": {},
     "output_type": "execute_result"
    }
   ],
   "source": [
    "uniparc_xref_file = op.join(os.environ['DATABIN_DIR'], 'uniparc', 'v0.1.0', 'uniparc_xref.parquet')\n",
    "uniparc_xref_file"
   ]
  },
  {
   "cell_type": "code",
   "execution_count": 38,
   "metadata": {},
   "outputs": [
    {
     "name": "stdout",
     "output_type": "stream",
     "text": [
      "-rw-rw-rw- 1 strokach kimlab 16G Nov 15 12:48 /home/kimlab2/database_data/databin/uniparc/v0.1.0/uniparc_xref.parquet\n"
     ]
    }
   ],
   "source": [
    "!ls {uniparc_xref_file} -lSh"
   ]
  },
  {
   "cell_type": "code",
   "execution_count": 39,
   "metadata": {
    "collapsed": true,
    "jupyter": {
     "outputs_hidden": true
    }
   },
   "outputs": [],
   "source": [
    "ds = spark.sql(f\"\"\"\\\n",
    "SELECT *\n",
    "FROM parquet.`{uniparc_xref_file}`\n",
    "\"\"\")"
   ]
  },
  {
   "cell_type": "code",
   "execution_count": 40,
   "metadata": {},
   "outputs": [
    {
     "data": {
      "text/html": [
       "<div>\n",
       "<style scoped>\n",
       "    .dataframe tbody tr th:only-of-type {\n",
       "        vertical-align: middle;\n",
       "    }\n",
       "\n",
       "    .dataframe tbody tr th {\n",
       "        vertical-align: top;\n",
       "    }\n",
       "\n",
       "    .dataframe thead th {\n",
       "        text-align: right;\n",
       "    }\n",
       "</style>\n",
       "<table border=\"1\" class=\"dataframe\">\n",
       "  <thead>\n",
       "    <tr style=\"text-align: right;\">\n",
       "      <th></th>\n",
       "      <th>uniparc_id</th>\n",
       "      <th>idx</th>\n",
       "      <th>db_type</th>\n",
       "      <th>db_id</th>\n",
       "      <th>version_i</th>\n",
       "      <th>active</th>\n",
       "      <th>version</th>\n",
       "      <th>created</th>\n",
       "      <th>last</th>\n",
       "      <th>__index_level_0__</th>\n",
       "    </tr>\n",
       "  </thead>\n",
       "  <tbody>\n",
       "    <tr>\n",
       "      <th>0</th>\n",
       "      <td>UPI0000000011</td>\n",
       "      <td>1</td>\n",
       "      <td>PRF</td>\n",
       "      <td>3119392DP</td>\n",
       "      <td>1</td>\n",
       "      <td>Y</td>\n",
       "      <td>NaN</td>\n",
       "      <td>2006-02-13</td>\n",
       "      <td>2009-09-01</td>\n",
       "      <td>0</td>\n",
       "    </tr>\n",
       "    <tr>\n",
       "      <th>1</th>\n",
       "      <td>UPI0000000011</td>\n",
       "      <td>2</td>\n",
       "      <td>PRF</td>\n",
       "      <td>3119392TK</td>\n",
       "      <td>1</td>\n",
       "      <td>Y</td>\n",
       "      <td>NaN</td>\n",
       "      <td>2006-02-13</td>\n",
       "      <td>2009-09-01</td>\n",
       "      <td>1</td>\n",
       "    </tr>\n",
       "    <tr>\n",
       "      <th>2</th>\n",
       "      <td>UPI0000000011</td>\n",
       "      <td>3</td>\n",
       "      <td>PRF</td>\n",
       "      <td>3121328BV</td>\n",
       "      <td>1</td>\n",
       "      <td>Y</td>\n",
       "      <td>NaN</td>\n",
       "      <td>2006-02-13</td>\n",
       "      <td>2009-09-01</td>\n",
       "      <td>2</td>\n",
       "    </tr>\n",
       "    <tr>\n",
       "      <th>3</th>\n",
       "      <td>UPI0000000011</td>\n",
       "      <td>4</td>\n",
       "      <td>PRF</td>\n",
       "      <td>3216358CT</td>\n",
       "      <td>1</td>\n",
       "      <td>Y</td>\n",
       "      <td>NaN</td>\n",
       "      <td>2007-01-01</td>\n",
       "      <td>2009-09-01</td>\n",
       "      <td>3</td>\n",
       "    </tr>\n",
       "    <tr>\n",
       "      <th>4</th>\n",
       "      <td>UPI0000000011</td>\n",
       "      <td>5</td>\n",
       "      <td>PRF</td>\n",
       "      <td>3216358FBB</td>\n",
       "      <td>1</td>\n",
       "      <td>Y</td>\n",
       "      <td>NaN</td>\n",
       "      <td>2007-01-01</td>\n",
       "      <td>2009-09-01</td>\n",
       "      <td>4</td>\n",
       "    </tr>\n",
       "    <tr>\n",
       "      <th>5</th>\n",
       "      <td>UPI0000000011</td>\n",
       "      <td>6</td>\n",
       "      <td>PRF</td>\n",
       "      <td>3315290CD</td>\n",
       "      <td>1</td>\n",
       "      <td>Y</td>\n",
       "      <td>NaN</td>\n",
       "      <td>2007-12-07</td>\n",
       "      <td>2009-09-01</td>\n",
       "      <td>5</td>\n",
       "    </tr>\n",
       "    <tr>\n",
       "      <th>6</th>\n",
       "      <td>UPI0000000011</td>\n",
       "      <td>7</td>\n",
       "      <td>EMBL</td>\n",
       "      <td>AAA48061</td>\n",
       "      <td>1</td>\n",
       "      <td>Y</td>\n",
       "      <td>1.0</td>\n",
       "      <td>2003-03-12</td>\n",
       "      <td>2017-05-26</td>\n",
       "      <td>6</td>\n",
       "    </tr>\n",
       "    <tr>\n",
       "      <th>7</th>\n",
       "      <td>UPI0000000011</td>\n",
       "      <td>8</td>\n",
       "      <td>EMBL</td>\n",
       "      <td>AAB96437</td>\n",
       "      <td>1</td>\n",
       "      <td>Y</td>\n",
       "      <td>1.0</td>\n",
       "      <td>2003-03-12</td>\n",
       "      <td>2017-05-26</td>\n",
       "      <td>7</td>\n",
       "    </tr>\n",
       "    <tr>\n",
       "      <th>8</th>\n",
       "      <td>UPI0000000011</td>\n",
       "      <td>9</td>\n",
       "      <td>EMBL</td>\n",
       "      <td>AAQ93171</td>\n",
       "      <td>1</td>\n",
       "      <td>Y</td>\n",
       "      <td>1.0</td>\n",
       "      <td>2006-05-04</td>\n",
       "      <td>2017-05-26</td>\n",
       "      <td>8</td>\n",
       "    </tr>\n",
       "    <tr>\n",
       "      <th>9</th>\n",
       "      <td>UPI0000000011</td>\n",
       "      <td>10</td>\n",
       "      <td>EMBL</td>\n",
       "      <td>AAR17917</td>\n",
       "      <td>1</td>\n",
       "      <td>Y</td>\n",
       "      <td>1.0</td>\n",
       "      <td>2006-05-04</td>\n",
       "      <td>2017-05-26</td>\n",
       "      <td>9</td>\n",
       "    </tr>\n",
       "  </tbody>\n",
       "</table>\n",
       "</div>"
      ],
      "text/plain": [
       "      uniparc_id  idx db_type       db_id  version_i active  version     created        last  __index_level_0__\n",
       "0  UPI0000000011    1     PRF   3119392DP          1      Y      NaN  2006-02-13  2009-09-01                  0\n",
       "1  UPI0000000011    2     PRF   3119392TK          1      Y      NaN  2006-02-13  2009-09-01                  1\n",
       "2  UPI0000000011    3     PRF   3121328BV          1      Y      NaN  2006-02-13  2009-09-01                  2\n",
       "3  UPI0000000011    4     PRF   3216358CT          1      Y      NaN  2007-01-01  2009-09-01                  3\n",
       "4  UPI0000000011    5     PRF  3216358FBB          1      Y      NaN  2007-01-01  2009-09-01                  4\n",
       "5  UPI0000000011    6     PRF   3315290CD          1      Y      NaN  2007-12-07  2009-09-01                  5\n",
       "6  UPI0000000011    7    EMBL    AAA48061          1      Y      1.0  2003-03-12  2017-05-26                  6\n",
       "7  UPI0000000011    8    EMBL    AAB96437          1      Y      1.0  2003-03-12  2017-05-26                  7\n",
       "8  UPI0000000011    9    EMBL    AAQ93171          1      Y      1.0  2006-05-04  2017-05-26                  8\n",
       "9  UPI0000000011   10    EMBL    AAR17917          1      Y      1.0  2006-05-04  2017-05-26                  9"
      ]
     },
     "execution_count": 40,
     "metadata": {},
     "output_type": "execute_result"
    }
   ],
   "source": [
    "ds.limit(10).toPandas()"
   ]
  },
  {
   "cell_type": "code",
   "execution_count": 41,
   "metadata": {
    "collapsed": true,
    "jupyter": {
     "outputs_hidden": true
    }
   },
   "outputs": [],
   "source": [
    "# 'UniProtKB/Swiss-Prot' | 'UniProtKB/TrEMBL'\n",
    "# active = 'Y'\n",
    "# db_id = ''"
   ]
  },
  {
   "cell_type": "markdown",
   "metadata": {},
   "source": [
    "### Adjacency matrix"
   ]
  },
  {
   "cell_type": "code",
   "execution_count": 42,
   "metadata": {},
   "outputs": [
    {
     "data": {
      "text/plain": [
       "PosixPath('/home/kimlab2/database_data/databin/uniparc_domain/0.1/adjacency_matrix.parquet')"
      ]
     },
     "execution_count": 42,
     "metadata": {},
     "output_type": "execute_result"
    }
   ],
   "source": [
    "ADJACENCY_MATRIX_PATH"
   ]
  },
  {
   "cell_type": "code",
   "execution_count": 43,
   "metadata": {
    "collapsed": true,
    "jupyter": {
     "outputs_hidden": true
    }
   },
   "outputs": [],
   "source": [
    "ds = spark.sql(f\"\"\"\\\n",
    "SELECT *\n",
    "FROM parquet.`{ADJACENCY_MATRIX_PATH}`\n",
    "\"\"\")"
   ]
  },
  {
   "cell_type": "code",
   "execution_count": 44,
   "metadata": {},
   "outputs": [
    {
     "data": {
      "text/html": [
       "<div>\n",
       "<style scoped>\n",
       "    .dataframe tbody tr th:only-of-type {\n",
       "        vertical-align: middle;\n",
       "    }\n",
       "\n",
       "    .dataframe tbody tr th {\n",
       "        vertical-align: top;\n",
       "    }\n",
       "\n",
       "    .dataframe thead th {\n",
       "        text-align: right;\n",
       "    }\n",
       "</style>\n",
       "<table border=\"1\" class=\"dataframe\">\n",
       "  <thead>\n",
       "    <tr style=\"text-align: right;\">\n",
       "      <th></th>\n",
       "      <th>uniparc_id</th>\n",
       "      <th>sequence</th>\n",
       "      <th>database</th>\n",
       "      <th>interpro_name</th>\n",
       "      <th>interpro_id</th>\n",
       "      <th>domain_start</th>\n",
       "      <th>domain_end</th>\n",
       "      <th>__index_level_0__</th>\n",
       "      <th>domain_length</th>\n",
       "      <th>structure_id</th>\n",
       "      <th>model_id</th>\n",
       "      <th>chain_id</th>\n",
       "      <th>pc_identity</th>\n",
       "      <th>alignment_length</th>\n",
       "      <th>mismatches</th>\n",
       "      <th>gap_opens</th>\n",
       "      <th>q_start</th>\n",
       "      <th>q_end</th>\n",
       "      <th>s_start</th>\n",
       "      <th>s_end</th>\n",
       "      <th>evalue_log10</th>\n",
       "      <th>bitscore</th>\n",
       "      <th>qseq</th>\n",
       "      <th>sseq</th>\n",
       "      <th>a2b</th>\n",
       "      <th>b2a</th>\n",
       "      <th>residue_idx_1</th>\n",
       "      <th>residue_idx_2</th>\n",
       "      <th>residue_id_1</th>\n",
       "      <th>residue_id_2</th>\n",
       "      <th>residue_aa_1</th>\n",
       "      <th>residue_aa_2</th>\n",
       "      <th>residue_idx_1_corrected</th>\n",
       "      <th>residue_idx_2_corrected</th>\n",
       "      <th>database_id</th>\n",
       "    </tr>\n",
       "  </thead>\n",
       "  <tbody>\n",
       "    <tr>\n",
       "      <th>0</th>\n",
       "      <td>UPI000AF78023</td>\n",
       "      <td>AAAALLPLAASAAPARGTLLKSSVLSSYTSQAIGTLLANAQSTDQAKCDVRLAEFTYATIGVNGEPATASGTLLVPGGSQCAGPFPLVSYSQGTESLRHAEQAKEIRDAKGDDTIV...</td>\n",
       "      <td>Gene3D</td>\n",
       "      <td>Alpha/Beta hydrolase fold</td>\n",
       "      <td>IPR029058</td>\n",
       "      <td>11</td>\n",
       "      <td>287</td>\n",
       "      <td>700874249</td>\n",
       "      <td>277</td>\n",
       "      <td>3H2G</td>\n",
       "      <td>0.0</td>\n",
       "      <td>A</td>\n",
       "      <td>74.24</td>\n",
       "      <td>264.0</td>\n",
       "      <td>65.0</td>\n",
       "      <td>1.0</td>\n",
       "      <td>14.0</td>\n",
       "      <td>277.0</td>\n",
       "      <td>1.0</td>\n",
       "      <td>261.0</td>\n",
       "      <td>-143.000000</td>\n",
       "      <td>414.0</td>\n",
       "      <td>PARGTLLKSSVLSSYTSQAIGTLLANAQSTDQAKCDVRLAEFTYATIGVNGEPATASGTLLVPGGSQCAGPFPLVSYSQGTESLRHAEQAKEIRDAKGDDTIVTHLATQGYVVVSS...</td>\n",
       "      <td>PARGTLLTSNFLTSYTRDAISAMLA---SPEQAKCNVRVAEFTYATIGVEGEPATASGVLLIPGGERCSGPYPLLGWGHPTEALRAQEQAKEIRDAKGDDPLVTRLASQGYVVVGS...</td>\n",
       "      <td>[1.0, 2.0, 3.0, 4.0, 5.0, 6.0, 7.0, 8.0, 9.0, 10.0, 11.0, 12.0, 13.0, 14.0, 15.0, 16.0, 17.0, 18.0, 19.0, 20.0, 21.0...</td>\n",
       "      <td>[1.0, 2.0, 3.0, 4.0, 5.0, 6.0, 7.0, 8.0, 9.0, 10.0, 11.0, 12.0, 13.0, 14.0, 15.0, 16.0, 17.0, 18.0, 19.0, 20.0, 21.0...</td>\n",
       "      <td>[0.0, 0.0, 0.0, 0.0, 0.0, 1.0, 1.0, 1.0, 1.0, 1.0, 2.0, 2.0, 2.0, 2.0, 2.0, 2.0, 2.0, 2.0, 2.0, 2.0, 2.0, 3.0, 3.0, ...</td>\n",
       "      <td>[1.0, 2.0, 4.0, 6.0, 41.0, 0.0, 2.0, 3.0, 4.0, 41.0, 0.0, 1.0, 3.0, 4.0, 41.0, 42.0, 43.0, 135.0, 138.0, 139.0, 142....</td>\n",
       "      <td>[2.0, 2.0, 2.0, 2.0, 2.0, 3.0, 3.0, 3.0, 3.0, 3.0, 4.0, 4.0, 4.0, 4.0, 4.0, 4.0, 4.0, 4.0, 4.0, 4.0, 4.0, 5.0, 5.0, ...</td>\n",
       "      <td>[3.0, 4.0, 6.0, 8.0, 52.0, 2.0, 4.0, 5.0, 6.0, 52.0, 2.0, 3.0, 5.0, 6.0, 52.0, 53.0, 54.0, 146.0, 149.0, 150.0, 153....</td>\n",
       "      <td>[P, P, P, P, P, A, A, A, A, A, R, R, R, R, R, R, R, R, R, R, R, G, G, G, G, G, G, G, G, G, G, G, T, T, T, T, T, T, T...</td>\n",
       "      <td>[A, R, T, L, A, P, R, G, T, A, P, A, G, T, A, T, I, S, I, D, R, A, R, T, L, Y, A, T, D, R, A, S, P, A, R, G, L, L, T...</td>\n",
       "      <td>[0.0, 0.0, 0.0, 0.0, 0.0, 1.0, 1.0, 1.0, 1.0, 1.0, 2.0, 2.0, 2.0, 2.0, 2.0, 2.0, 2.0, 2.0, 2.0, 2.0, 2.0, 3.0, 3.0, ...</td>\n",
       "      <td>[1.0, 2.0, 4.0, 6.0, 44.0, 0.0, 2.0, 3.0, 4.0, 44.0, 0.0, 1.0, 3.0, 4.0, 44.0, 45.0, 46.0, 138.0, 141.0, 142.0, 145....</td>\n",
       "      <td>G3DSA:3.40.50.1820</td>\n",
       "    </tr>\n",
       "    <tr>\n",
       "      <th>1</th>\n",
       "      <td>UPI0009F3B2EE</td>\n",
       "      <td>AAAAPRPPPAGRRPGRVSARTHHYGPHRHGPHPDQFLELTLPSGDGPAPVAVVLHGGFWRAAYGIELARPLAADLAAAGWAAVAVEYRRGGTGGWSAPLEDVAAALDALPGLAERD...</td>\n",
       "      <td>Gene3D</td>\n",
       "      <td>Alpha/Beta hydrolase fold</td>\n",
       "      <td>IPR029058</td>\n",
       "      <td>83</td>\n",
       "      <td>355</td>\n",
       "      <td>756058084</td>\n",
       "      <td>273</td>\n",
       "      <td>5AOA</td>\n",
       "      <td>0.0</td>\n",
       "      <td>A</td>\n",
       "      <td>27.86</td>\n",
       "      <td>201.0</td>\n",
       "      <td>134.0</td>\n",
       "      <td>4.0</td>\n",
       "      <td>52.0</td>\n",
       "      <td>249.0</td>\n",
       "      <td>43.0</td>\n",
       "      <td>235.0</td>\n",
       "      <td>-6.096910</td>\n",
       "      <td>50.4</td>\n",
       "      <td>VVLHGGFWRAAYGIELARPLAADLAAAGWAAVAVEYRRGGTGGWSA--PLEDVAAALDALPGLAERDRLDLADLTVVGHSAGGHLAAWAAGRGRLPDGAPGAGPRVRVTAAVLQAG...</td>\n",
       "      <td>VFFFGGGWQSGSPAQF-RPQCEYFAGRGMVAMAADYRVGSRHNVKVADCVADAKSAIRWVRQHAAELGVDPQKIVASGGSAGGHLAACTVMVPDLEAPEEDHTISSQANAAILFNP...</td>\n",
       "      <td>[1.0, 2.0, 3.0, 4.0, 5.0, 6.0, 7.0, 8.0, 9.0, 10.0, 11.0, 12.0, 13.0, 14.0, 15.0, 16.0, 18.0, 19.0, 20.0, 21.0, 22.0...</td>\n",
       "      <td>[1.0, 2.0, 3.0, 4.0, 5.0, 6.0, 7.0, 8.0, 9.0, 10.0, 11.0, 12.0, 13.0, 14.0, 15.0, 16.0, None, 17.0, 18.0, 19.0, 20.0...</td>\n",
       "      <td>[42.0, 42.0, 42.0, 42.0, 42.0, 42.0, 42.0, 42.0, 42.0, 42.0, 42.0, 43.0, 43.0, 43.0, 43.0, 43.0, 43.0, 43.0, 43.0, 4...</td>\n",
       "      <td>[43.0, 44.0, 72.0, 74.0, 96.0, 97.0, 100.0, 114.0, 115.0, 116.0, 117.0, 42.0, 44.0, 45.0, 57.0, 60.0, 61.0, 64.0, 71...</td>\n",
       "      <td>[48.0, 48.0, 48.0, 48.0, 48.0, 48.0, 48.0, 48.0, 48.0, 48.0, 48.0, 49.0, 49.0, 49.0, 49.0, 49.0, 49.0, 49.0, 49.0, 4...</td>\n",
       "      <td>[49.0, 50.0, 78.0, 80.0, 102.0, 103.0, 106.0, 120.0, 121.0, 122.0, 123.0, 48.0, 50.0, 51.0, 63.0, 66.0, 67.0, 70.0, ...</td>\n",
       "      <td>[V, V, V, V, V, V, V, V, V, V, V, F, F, F, F, F, F, F, F, F, F, F, F, F, F, F, F, F, F, F, F, F, F, F, F, F, F, F, F...</td>\n",
       "      <td>[F, F, M, A, A, I, V, I, V, A, S, V, F, F, F, Q, C, F, A, M, A, A, S, G, F, V, F, F, G, F, A, Y, A, A, I, A, S, G, G...</td>\n",
       "      <td>[0.0, 0.0, 0.0, 0.0, 0.0, 0.0, 0.0, 0.0, 0.0, 0.0, 0.0, 1.0, 1.0, 1.0, 1.0, 1.0, 1.0, 1.0, 1.0, 1.0, 1.0, 1.0, 1.0, ...</td>\n",
       "      <td>[1.0, 2.0, 31.0, 33.0, 53.0, 54.0, 57.0, 71.0, 72.0, 73.0, 74.0, 0.0, 2.0, 3.0, 15.0, 19.0, 20.0, 23.0, 30.0, 31.0, ...</td>\n",
       "      <td>G3DSA:3.40.50.1820</td>\n",
       "    </tr>\n",
       "    <tr>\n",
       "      <th>2</th>\n",
       "      <td>UPI0005F71968</td>\n",
       "      <td>AAAAVHLVVLQHGLWGTPQNLGALQERLEAALQALAGPERIVMENSAVNERRRTHDGIDTCGDRLAQLILARTAQLRLDGHRVARLSLLGYSLGGLICRYAIGKLQALGYFESVAA...</td>\n",
       "      <td>Gene3D</td>\n",
       "      <td>Alpha/Beta hydrolase fold</td>\n",
       "      <td>IPR029058</td>\n",
       "      <td>11</td>\n",
       "      <td>435</td>\n",
       "      <td>483887745</td>\n",
       "      <td>425</td>\n",
       "      <td>1XAR</td>\n",
       "      <td>0.0</td>\n",
       "      <td>B</td>\n",
       "      <td>35.42</td>\n",
       "      <td>48.0</td>\n",
       "      <td>27.0</td>\n",
       "      <td>1.0</td>\n",
       "      <td>49.0</td>\n",
       "      <td>92.0</td>\n",
       "      <td>32.0</td>\n",
       "      <td>79.0</td>\n",
       "      <td>-0.744727</td>\n",
       "      <td>33.9</td>\n",
       "      <td>NERRRTHDGIDTCGDRLAQLILARTAQ----LRLDGHRVARLSLLGYS</td>\n",
       "      <td>NSQRNWHDSVTACQEVRAQLVVIKTAEEQNFLQLQTSRSNRFSWMGLS</td>\n",
       "      <td>[1.0, 2.0, 3.0, 4.0, 5.0, 6.0, 7.0, 8.0, 9.0, 10.0, 11.0, 12.0, 13.0, 14.0, 15.0, 16.0, 17.0, 18.0, 19.0, 20.0, 21.0...</td>\n",
       "      <td>[1.0, 2.0, 3.0, 4.0, 5.0, 6.0, 7.0, 8.0, 9.0, 10.0, 11.0, 12.0, 13.0, 14.0, 15.0, 16.0, 17.0, 18.0, 19.0, 20.0, 21.0...</td>\n",
       "      <td>[31.0, 31.0, 31.0, 32.0, 32.0, 32.0, 33.0, 33.0, 33.0, 33.0, 34.0, 34.0, 34.0, 34.0, 34.0, 34.0, 34.0, 34.0, 34.0, 3...</td>\n",
       "      <td>[32.0, 33.0, 71.0, 31.0, 33.0, 34.0, 31.0, 32.0, 34.0, 35.0, 32.0, 33.0, 35.0, 36.0, 38.0, 39.0, 41.0, 42.0, 45.0, 7...</td>\n",
       "      <td>[69.0, 69.0, 69.0, 70.0, 70.0, 70.0, 71.0, 71.0, 71.0, 71.0, 72.0, 72.0, 72.0, 72.0, 72.0, 72.0, 72.0, 72.0, 72.0, 7...</td>\n",
       "      <td>[70.0, 71.0, 109.0, 69.0, 71.0, 72.0, 69.0, 70.0, 72.0, 73.0, 70.0, 71.0, 73.0, 74.0, 76.0, 77.0, 79.0, 80.0, 83.0, ...</td>\n",
       "      <td>[N, N, N, S, S, S, Q, Q, Q, Q, R, R, R, R, R, R, R, R, R, R, N, N, N, N, N, N, N, W, W, W, W, W, W, W, W, W, W, W, W...</td>\n",
       "      <td>[S, Q, R, N, Q, R, N, S, R, N, S, Q, N, W, D, S, T, A, E, W, Q, R, W, H, D, S, W, R, N, H, D, S, V, L, W, M, G, L, S...</td>\n",
       "      <td>[0.0, 0.0, 0.0, 1.0, 1.0, 1.0, 2.0, 2.0, 2.0, 2.0, 3.0, 3.0, 3.0, 3.0, 3.0, 3.0, 3.0, 3.0, 3.0, 3.0, 4.0, 4.0, 4.0, ...</td>\n",
       "      <td>[1.0, 2.0, 36.0, 0.0, 2.0, 3.0, 0.0, 1.0, 3.0, 4.0, 1.0, 2.0, 4.0, 5.0, 7.0, 8.0, 10.0, 11.0, 14.0, 39.0, 2.0, 3.0, ...</td>\n",
       "      <td>G3DSA:3.40.50.1820</td>\n",
       "    </tr>\n",
       "    <tr>\n",
       "      <th>3</th>\n",
       "      <td>UPI000720BF07</td>\n",
       "      <td>AAADRALFPGFRPFRQAANGVEIAGVIGGSGPPLLLLHGHPQSHVIWHKVARELAREHTVVATDLRGYGASSKPAGSATHVEYSKRAMAQDQVDVMRALGFERFGLCAHDRGARVA...</td>\n",
       "      <td>Gene3D</td>\n",
       "      <td>Alpha/Beta hydrolase fold</td>\n",
       "      <td>IPR029058</td>\n",
       "      <td>12</td>\n",
       "      <td>308</td>\n",
       "      <td>682042841</td>\n",
       "      <td>297</td>\n",
       "      <td>3QYJ</td>\n",
       "      <td>0.0</td>\n",
       "      <td>A</td>\n",
       "      <td>53.10</td>\n",
       "      <td>290.0</td>\n",
       "      <td>134.0</td>\n",
       "      <td>1.0</td>\n",
       "      <td>7.0</td>\n",
       "      <td>296.0</td>\n",
       "      <td>1.0</td>\n",
       "      <td>288.0</td>\n",
       "      <td>-105.000000</td>\n",
       "      <td>315.0</td>\n",
       "      <td>LFPGFRPFRQAANGVEIAGVIGGSGPPLLLLHGHPQSHVIWHKVARELAREHTVVATDLRGYGASSKPAGSATHVEYSKRAMAQDQVDVMRALGFERFGLCAHDRGARVAHRLCVD...</td>\n",
       "      <td>MFTNFEQTIVDTTEARINLVKAGHGAPLLLLHGYPQTHVMWHKIAPLLANNFTVVATDLRGYGDSSRPASVPHHINYSKRVMAQDQVEVMSKLGYEQFYVVGHDRGARVAHRLALD...</td>\n",
       "      <td>[1.0, 2.0, 3.0, 4.0, 5.0, 6.0, 7.0, 8.0, 9.0, 10.0, 11.0, 12.0, 13.0, 14.0, 15.0, 16.0, 17.0, 18.0, 19.0, 20.0, 21.0...</td>\n",
       "      <td>[1.0, 2.0, 3.0, 4.0, 5.0, 6.0, 7.0, 8.0, 9.0, 10.0, 11.0, 12.0, 13.0, 14.0, 15.0, 16.0, 17.0, 18.0, 19.0, 20.0, 21.0...</td>\n",
       "      <td>[0.0, 0.0, 0.0, 0.0, 0.0, 0.0, 0.0, 0.0, 1.0, 1.0, 1.0, 1.0, 1.0, 1.0, 1.0, 1.0, 1.0, 1.0, 2.0, 2.0, 2.0, 2.0, 3.0, ...</td>\n",
       "      <td>[1.0, 2.0, 38.0, 41.0, 186.0, 188.0, 189.0, 192.0, 0.0, 2.0, 3.0, 4.0, 19.0, 37.0, 38.0, 40.0, 41.0, 44.0, 0.0, 1.0,...</td>\n",
       "      <td>[1.0, 1.0, 1.0, 1.0, 1.0, 1.0, 1.0, 1.0, 2.0, 2.0, 2.0, 2.0, 2.0, 2.0, 2.0, 2.0, 2.0, 2.0, 3.0, 3.0, 3.0, 3.0, 4.0, ...</td>\n",
       "      <td>[2.0, 3.0, 39.0, 42.0, 187.0, 189.0, 190.0, 193.0, 1.0, 3.0, 4.0, 5.0, 20.0, 38.0, 39.0, 41.0, 42.0, 45.0, 1.0, 2.0,...</td>\n",
       "      <td>[M, M, M, M, M, M, M, M, F, F, F, F, F, F, F, F, F, F, T, T, T, T, N, N, N, N, N, N, F, F, F, F, F, F, F, F, F, F, F...</td>\n",
       "      <td>[F, T, V, H, H, Q, A, E, M, T, N, F, V, H, V, W, H, A, M, F, N, F, F, T, F, E, K, A, F, T, N, E, Q, V, K, A, A, P, A...</td>\n",
       "      <td>[0.0, 0.0, 0.0, 0.0, 0.0, 0.0, 0.0, 0.0, 1.0, 1.0, 1.0, 1.0, 1.0, 1.0, 1.0, 1.0, 1.0, 1.0, 2.0, 2.0, 2.0, 2.0, 3.0, ...</td>\n",
       "      <td>[1.0, 2.0, 38.0, 41.0, 186.0, 188.0, 189.0, 192.0, 0.0, 2.0, 3.0, 4.0, 19.0, 37.0, 38.0, 40.0, 41.0, 44.0, 0.0, 1.0,...</td>\n",
       "      <td>G3DSA:3.40.50.1820</td>\n",
       "    </tr>\n",
       "    <tr>\n",
       "      <th>4</th>\n",
       "      <td>UPI000A3F45F4</td>\n",
       "      <td>AAAFVAHAQVKPPSVPAAQAVTGEGVTGTLLRHAQFPSRHVAARNVDVWLPPGYDAAAGTRYPVLYMHDGQNVFDPSTSYTGVDWGVDEAMTRLIANGHARAAIVVAVWNTPRRLQ...</td>\n",
       "      <td>Gene3D</td>\n",
       "      <td>Alpha/Beta hydrolase fold</td>\n",
       "      <td>IPR029058</td>\n",
       "      <td>16</td>\n",
       "      <td>306</td>\n",
       "      <td>686305263</td>\n",
       "      <td>291</td>\n",
       "      <td>5VOL</td>\n",
       "      <td>0.0</td>\n",
       "      <td>A</td>\n",
       "      <td>27.66</td>\n",
       "      <td>141.0</td>\n",
       "      <td>80.0</td>\n",
       "      <td>4.0</td>\n",
       "      <td>42.0</td>\n",
       "      <td>182.0</td>\n",
       "      <td>18.0</td>\n",
       "      <td>136.0</td>\n",
       "      <td>-5.000000</td>\n",
       "      <td>47.0</td>\n",
       "      <td>AARNVDVWLPPGYDAAAGTRYPVLYMHDGQNVFDPSTSYTGVDWGVDEAMTRLIANGHARAAIVVAVWNTPRRLQEYMPRKAIQGATFIPTPGDPPFPTAEVVADDYLAFLVTELK...</td>\n",
       "      <td>SKRAYTVFLPKSFEQNKEKKYPVLYLLHGMWETNPVWAERG---HVKDVMDRLVASGEACEMIIV----TPN----------AGGNIHLEWNGYFDMPGWK-----YETFFYTEFL...</td>\n",
       "      <td>[1.0, 2.0, 3.0, 4.0, 5.0, 6.0, 7.0, 8.0, 9.0, 10.0, 11.0, 12.0, 13.0, 14.0, 15.0, 16.0, 17.0, 18.0, 19.0, 20.0, 21.0...</td>\n",
       "      <td>[1.0, 2.0, 3.0, 4.0, 5.0, 6.0, 7.0, 8.0, 9.0, 10.0, 11.0, 12.0, 13.0, 14.0, 15.0, 16.0, 17.0, 18.0, 19.0, 20.0, 21.0...</td>\n",
       "      <td>[17.0, 17.0, 17.0, 18.0, 18.0, 18.0, 19.0, 19.0, 19.0, 19.0, 19.0, 19.0, 19.0, 19.0, 19.0, 19.0, 20.0, 20.0, 20.0, 2...</td>\n",
       "      <td>[18.0, 19.0, 99.0, 17.0, 19.0, 20.0, 17.0, 18.0, 20.0, 21.0, 81.0, 82.0, 83.0, 99.0, 101.0, 104.0, 18.0, 19.0, 21.0,...</td>\n",
       "      <td>[24.0, 24.0, 24.0, 25.0, 25.0, 25.0, 26.0, 26.0, 26.0, 26.0, 26.0, 26.0, 26.0, 26.0, 26.0, 26.0, 27.0, 27.0, 27.0, 2...</td>\n",
       "      <td>[25.0, 26.0, 106.0, 24.0, 26.0, 27.0, 24.0, 25.0, 27.0, 28.0, 88.0, 89.0, 90.0, 106.0, 108.0, 111.0, 25.0, 26.0, 28....</td>\n",
       "      <td>[S, S, S, K, K, K, R, R, R, R, R, R, R, R, R, R, A, A, A, A, A, A, A, A, Y, Y, Y, Y, Y, Y, Y, Y, Y, Y, Y, Y, Y, Y, T...</td>\n",
       "      <td>[K, R, W, S, R, A, S, K, A, Y, N, A, G, W, Y, F, K, R, Y, T, N, T, P, N, R, A, T, V, N, V, T, P, N, F, Y, I, K, Y, A...</td>\n",
       "      <td>[0.0, 0.0, 0.0, 1.0, 1.0, 1.0, 2.0, 2.0, 2.0, 2.0, 2.0, 2.0, 2.0, 2.0, 2.0, 2.0, 3.0, 3.0, 3.0, 3.0, 3.0, 3.0, 3.0, ...</td>\n",
       "      <td>[1.0, 2.0, 99.0, 0.0, 2.0, 3.0, 0.0, 1.0, 3.0, 4.0, 71.0, 82.0, 83.0, 99.0, 106.0, 109.0, 1.0, 2.0, 4.0, 5.0, 33.0, ...</td>\n",
       "      <td>G3DSA:3.40.50.1820</td>\n",
       "    </tr>\n",
       "    <tr>\n",
       "      <th>5</th>\n",
       "      <td>UPI000550701B</td>\n",
       "      <td>AAAGDTAKLVSLVTAHLHDTSSSDELDVSDLPLVELPAKGGSDRLAIVISGDGGWRDLDKTIAEALQRDGVSVVGIDSLRYFWSEKPPAQVSRDLARVMRTYTARWHASRVALVGY...</td>\n",
       "      <td>Gene3D</td>\n",
       "      <td>Alpha/Beta hydrolase fold</td>\n",
       "      <td>IPR029058</td>\n",
       "      <td>190</td>\n",
       "      <td>388</td>\n",
       "      <td>174461270</td>\n",
       "      <td>199</td>\n",
       "      <td>4I4C</td>\n",
       "      <td>0.0</td>\n",
       "      <td>A</td>\n",
       "      <td>23.97</td>\n",
       "      <td>146.0</td>\n",
       "      <td>82.0</td>\n",
       "      <td>6.0</td>\n",
       "      <td>13.0</td>\n",
       "      <td>152.0</td>\n",
       "      <td>167.0</td>\n",
       "      <td>289.0</td>\n",
       "      <td>0.342423</td>\n",
       "      <td>30.4</td>\n",
       "      <td>VTAHLHDTSSSDELDVSDLPLVELPAKGGSDRLAIVISGDGGWRDLDKTIAEALQRDGVSVVGIDSLRYFWSEKPPAQVSRDLARVMRTYTARWHA------SRVALVGYSFGADV...</td>\n",
       "      <td>ITAHLHLTNT-------DKPHPVVIVSAGLDSLQT---------DMWRLFRDHLAKHDIAMLTVDMPSVGYSSKYP--LTEDYSRLHQAVLNELFSIPYVDHHRVGLIGFRFGGNA...</td>\n",
       "      <td>[1.0, 2.0, 3.0, 4.0, 5.0, 6.0, 7.0, 8.0, 9.0, 10.0, 18.0, 19.0, 20.0, 21.0, 22.0, 23.0, 24.0, 25.0, 26.0, 27.0, 28.0...</td>\n",
       "      <td>[1.0, 2.0, 3.0, 4.0, 5.0, 6.0, 7.0, 8.0, 9.0, 10.0, None, None, None, None, None, None, None, 11.0, 12.0, 13.0, 14.0...</td>\n",
       "      <td>[166.0, 166.0, 166.0, 166.0, 166.0, 166.0, 166.0, 167.0, 167.0, 167.0, 167.0, 167.0, 167.0, 167.0, 167.0, 168.0, 168...</td>\n",
       "      <td>[167.0, 168.0, 213.0, 224.0, 233.0, 236.0, 237.0, 166.0, 168.0, 169.0, 192.0, 212.0, 213.0, 214.0, 220.0, 166.0, 167...</td>\n",
       "      <td>[180.0, 180.0, 180.0, 180.0, 180.0, 180.0, 180.0, 181.0, 181.0, 181.0, 181.0, 181.0, 181.0, 181.0, 181.0, 182.0, 182...</td>\n",
       "      <td>[181.0, 182.0, 227.0, 238.0, 247.0, 250.0, 251.0, 180.0, 182.0, 183.0, 206.0, 226.0, 227.0, 228.0, 234.0, 180.0, 181...</td>\n",
       "      <td>[I, I, I, I, I, I, I, T, T, T, T, T, T, T, T, A, A, A, A, A, A, A, A, A, H, H, H, H, H, H, H, H, H, H, L, L, L, L, L...</td>\n",
       "      <td>[T, A, V, Y, L, A, V, I, A, H, Q, T, V, D, Y, I, T, H, L, Q, L, T, V, V, T, A, L, H, Q, T, M, L, T, Y, A, H, H, L, V...</td>\n",
       "      <td>[0.0, 0.0, 0.0, 0.0, 0.0, 0.0, 0.0, 1.0, 1.0, 1.0, 1.0, 1.0, 1.0, 1.0, 1.0, 2.0, 2.0, 2.0, 2.0, 2.0, 2.0, 2.0, 2.0, ...</td>\n",
       "      <td>[1.0, 2.0, 63.0, 74.0, 85.0, 88.0, 89.0, 0.0, 2.0, 3.0, 33.0, 62.0, 63.0, 64.0, 70.0, 0.0, 1.0, 3.0, 4.0, 33.0, 61.0...</td>\n",
       "      <td>G3DSA:3.40.50.1820</td>\n",
       "    </tr>\n",
       "    <tr>\n",
       "      <th>6</th>\n",
       "      <td>UPI0004DD6085</td>\n",
       "      <td>AAAGPVLVGTLAAQLGTEFPAAPARVLRGMLSTLVERRFLLSGLRPPSTELDPLGAVLATLRAIGADPVPEAADLVDALRRRSRGLADITEPWTSQPATPDTAAPTSSPSGRRPPI...</td>\n",
       "      <td>Gene3D</td>\n",
       "      <td>Alpha/Beta hydrolase fold</td>\n",
       "      <td>IPR029058</td>\n",
       "      <td>247</td>\n",
       "      <td>1051</td>\n",
       "      <td>679049411</td>\n",
       "      <td>805</td>\n",
       "      <td>5EHK</td>\n",
       "      <td>0.0</td>\n",
       "      <td>A</td>\n",
       "      <td>31.40</td>\n",
       "      <td>863.0</td>\n",
       "      <td>512.0</td>\n",
       "      <td>24.0</td>\n",
       "      <td>1.0</td>\n",
       "      <td>805.0</td>\n",
       "      <td>174.0</td>\n",
       "      <td>1014.0</td>\n",
       "      <td>-56.522879</td>\n",
       "      <td>213.0</td>\n",
       "      <td>AAAGPVLVGTLAAQLGTEFPAAPARVLRGMLSTLVERRFLLSGLRPPSTELDPLGAVLATLRAIGADP-------VPEAADLVDALRR-RSRGLA-DITEPWTSQPATPDTAAPTS...</td>\n",
       "      <td>AARRPVLAGRLAQSVAQRF-ELPADRVTGLLADMAAQELLITALRPPLDGDDPLQHVLDVVAAAEARAGSPAEAMSSESAALVAALREVDARCHAYDRTAVGQGRRELAELIQSTR...</td>\n",
       "      <td>[1.0, 2.0, 3.0, 4.0, 5.0, 6.0, 7.0, 8.0, 9.0, 10.0, 11.0, 12.0, 13.0, 14.0, 15.0, 16.0, 17.0, 18.0, 19.0, 21.0, 22.0...</td>\n",
       "      <td>[1.0, 2.0, 3.0, 4.0, 5.0, 6.0, 7.0, 8.0, 9.0, 10.0, 11.0, 12.0, 13.0, 14.0, 15.0, 16.0, 17.0, 18.0, 19.0, None, 20.0...</td>\n",
       "      <td>[173.0, 173.0, 173.0, 173.0, 173.0, 174.0, 174.0, 174.0, 174.0, 174.0, 174.0, 174.0, 175.0, 175.0, 175.0, 175.0, 175...</td>\n",
       "      <td>[174.0, 175.0, 176.0, 178.0, 183.0, 173.0, 175.0, 176.0, 177.0, 178.0, 183.0, 211.0, 173.0, 174.0, 176.0, 177.0, 537...</td>\n",
       "      <td>[243.0, 243.0, 243.0, 243.0, 243.0, 244.0, 244.0, 244.0, 244.0, 244.0, 244.0, 244.0, 245.0, 245.0, 245.0, 245.0, 245...</td>\n",
       "      <td>[244.0, 245.0, 246.0, 248.0, 253.0, 243.0, 245.0, 246.0, 247.0, 248.0, 253.0, 281.0, 243.0, 244.0, 246.0, 247.0, 607...</td>\n",
       "      <td>[A, A, A, A, A, A, A, A, A, A, A, A, R, R, R, R, R, R, R, R, R, R, R, R, P, P, P, P, P, P, V, V, V, V, V, V, V, L, L...</td>\n",
       "      <td>[A, R, R, V, L, A, R, R, P, V, L, L, A, A, R, P, P, D, E, A, A, R, P, V, A, R, R, V, L, D, A, A, R, P, L, A, L, P, V...</td>\n",
       "      <td>[0.0, 0.0, 0.0, 0.0, 0.0, 1.0, 1.0, 1.0, 1.0, 1.0, 1.0, 1.0, 2.0, 2.0, 2.0, 2.0, 2.0, 2.0, 2.0, 3.0, 3.0, 3.0, 3.0, ...</td>\n",
       "      <td>[1.0, 2.0, 3.0, 5.0, 10.0, 0.0, 2.0, 3.0, 4.0, 5.0, 10.0, 39.0, 0.0, 1.0, 3.0, 4.0, 354.0, 356.0, 357.0, 0.0, 1.0, 2...</td>\n",
       "      <td>G3DSA:3.40.50.1820</td>\n",
       "    </tr>\n",
       "    <tr>\n",
       "      <th>7</th>\n",
       "      <td>UPI0003B6B247</td>\n",
       "      <td>AAAGRQITLHHAQNPESPLVLLNAYTGDGGEELALLEALHVPDFHLLVVSGLDWERDLSPWPCPALLKGEPPFAGEGEQYLQWLTHELLPEAKTRIGGRPAFTAIAGYSLAGLFAL...</td>\n",
       "      <td>Gene3D</td>\n",
       "      <td>Alpha/Beta hydrolase fold</td>\n",
       "      <td>IPR029058</td>\n",
       "      <td>9</td>\n",
       "      <td>232</td>\n",
       "      <td>733723484</td>\n",
       "      <td>224</td>\n",
       "      <td>2QM0</td>\n",
       "      <td>0.0</td>\n",
       "      <td>A</td>\n",
       "      <td>26.32</td>\n",
       "      <td>76.0</td>\n",
       "      <td>55.0</td>\n",
       "      <td>1.0</td>\n",
       "      <td>63.0</td>\n",
       "      <td>137.0</td>\n",
       "      <td>101.0</td>\n",
       "      <td>176.0</td>\n",
       "      <td>-1.045757</td>\n",
       "      <td>34.7</td>\n",
       "      <td>CPALLKGEPPFAGEGEQYLQWLTHELLPEAKTRIGGRPAFTAIAGYSLAGLFALYALY-RCDAFDRSASISGSLWY</td>\n",
       "      <td>TPSVISKPWPKTGGAHNFFTFIEEELKPQIEKNFEIDKGKQTLFGHSLGGLFALHILFTNLNAFQNYFISSPSIWW</td>\n",
       "      <td>[1.0, 2.0, 3.0, 4.0, 5.0, 6.0, 7.0, 8.0, 9.0, 10.0, 11.0, 12.0, 13.0, 14.0, 15.0, 16.0, 17.0, 18.0, 19.0, 20.0, 21.0...</td>\n",
       "      <td>[1.0, 2.0, 3.0, 4.0, 5.0, 6.0, 7.0, 8.0, 9.0, 10.0, 11.0, 12.0, 13.0, 14.0, 15.0, 16.0, 17.0, 18.0, 19.0, 20.0, 21.0...</td>\n",
       "      <td>[100.0, 100.0, 100.0, 100.0, 100.0, 100.0, 100.0, 100.0, 100.0, 101.0, 101.0, 101.0, 101.0, 101.0, 101.0, 101.0, 101...</td>\n",
       "      <td>[101.0, 102.0, 111.0, 112.0, 113.0, 114.0, 147.0, 150.0, 175.0, 100.0, 102.0, 103.0, 112.0, 114.0, 150.0, 154.0, 175...</td>\n",
       "      <td>[105.0, 105.0, 105.0, 105.0, 105.0, 105.0, 105.0, 105.0, 105.0, 106.0, 106.0, 106.0, 106.0, 106.0, 106.0, 106.0, 106...</td>\n",
       "      <td>[106.0, 107.0, 125.0, 126.0, 127.0, 128.0, 161.0, 164.0, 189.0, 105.0, 107.0, 108.0, 126.0, 128.0, 164.0, 168.0, 189...</td>\n",
       "      <td>[T, T, T, T, T, T, T, T, T, P, P, P, P, P, P, P, P, S, S, S, S, S, S, S, V, V, V, V, V, V, V, I, I, I, I, I, I, I, I...</td>\n",
       "      <td>[P, S, T, G, G, A, L, L, W, T, S, V, G, A, L, H, W, T, P, V, I, T, G, W, P, S, I, S, T, G, W, S, V, S, K, W, P, T, W...</td>\n",
       "      <td>[0.0, 0.0, 0.0, 0.0, 0.0, 0.0, 0.0, 0.0, 0.0, 1.0, 1.0, 1.0, 1.0, 1.0, 1.0, 1.0, 1.0, 2.0, 2.0, 2.0, 2.0, 2.0, 2.0, ...</td>\n",
       "      <td>[1.0, 2.0, 11.0, 12.0, 13.0, 14.0, 47.0, 50.0, 74.0, 0.0, 2.0, 3.0, 12.0, 14.0, 50.0, 54.0, 74.0, 0.0, 1.0, 3.0, 4.0...</td>\n",
       "      <td>G3DSA:3.40.50.1820</td>\n",
       "    </tr>\n",
       "    <tr>\n",
       "      <th>8</th>\n",
       "      <td>UPI0004350470</td>\n",
       "      <td>AAAITTKNITYTVDDQAYEGYYAKADKANAPFILLIHDWDGLTDYERKRADMLAGEGYNVLAADMFGQGVRPTSIEENKRLTGELYDDRNKMRRILQGALNAGRLQGNDVRKGTTM...</td>\n",
       "      <td>Gene3D</td>\n",
       "      <td>Alpha/Beta hydrolase fold</td>\n",
       "      <td>IPR029058</td>\n",
       "      <td>33</td>\n",
       "      <td>260</td>\n",
       "      <td>706294596</td>\n",
       "      <td>228</td>\n",
       "      <td>4ZI5</td>\n",
       "      <td>0.0</td>\n",
       "      <td>A</td>\n",
       "      <td>29.41</td>\n",
       "      <td>238.0</td>\n",
       "      <td>153.0</td>\n",
       "      <td>6.0</td>\n",
       "      <td>3.0</td>\n",
       "      <td>228.0</td>\n",
       "      <td>2.0</td>\n",
       "      <td>236.0</td>\n",
       "      <td>-18.000000</td>\n",
       "      <td>83.6</td>\n",
       "      <td>AITTKNITYTVDDQAY----EGYYAKADKANAPFILLIHDWDGLTDYERKRADMLAGEGYNVLAADMFGQGVRPTSIEENKRLTGELYDDRNKMRRILQGALNAGRLQGN-DVRKG...</td>\n",
       "      <td>AMTARKVDYT--DGATRCIGEFHWDEGKSGPRPGVVVFPEAFGLNDHAKERARRLADLGFAALAADMHGDAQVFDAASLSSTIQG-YYGDRAHWRRRAQAALDALTAQPEVDGSKV...</td>\n",
       "      <td>[1.0, 2.0, 3.0, 4.0, 5.0, 6.0, 7.0, 8.0, 9.0, 10.0, 13.0, 14.0, 15.0, 16.0, None, None, None, None, 17.0, 18.0, 19.0...</td>\n",
       "      <td>[1.0, 2.0, 3.0, 4.0, 5.0, 6.0, 7.0, 8.0, 9.0, 10.0, None, None, 11.0, 12.0, 13.0, 14.0, 19.0, 20.0, 21.0, 22.0, 23.0...</td>\n",
       "      <td>[1.0, 1.0, 1.0, 2.0, 2.0, 2.0, 2.0, 2.0, 2.0, 2.0, 2.0, 3.0, 3.0, 3.0, 3.0, 3.0, 3.0, 3.0, 3.0, 4.0, 4.0, 4.0, 4.0, ...</td>\n",
       "      <td>[2.0, 3.0, 23.0, 1.0, 3.0, 4.0, 22.0, 23.0, 51.0, 54.0, 55.0, 1.0, 2.0, 4.0, 5.0, 20.0, 21.0, 22.0, 24.0, 2.0, 3.0, ...</td>\n",
       "      <td>[13.0, 13.0, 13.0, 14.0, 14.0, 14.0, 14.0, 14.0, 14.0, 14.0, 14.0, 15.0, 15.0, 15.0, 15.0, 15.0, 15.0, 15.0, 15.0, 1...</td>\n",
       "      <td>[14.0, 15.0, 35.0, 13.0, 15.0, 16.0, 34.0, 35.0, 63.0, 66.0, 67.0, 13.0, 14.0, 16.0, 17.0, 32.0, 33.0, 34.0, 36.0, 1...</td>\n",
       "      <td>[A, A, A, M, M, M, M, M, M, M, M, T, T, T, T, T, T, T, T, A, A, A, A, A, A, A, A, R, R, R, R, R, R, R, R, R, R, R, K...</td>\n",
       "      <td>[M, T, D, A, T, A, W, D, R, A, D, A, M, A, R, F, H, W, E, M, T, R, K, E, F, H, W, T, A, K, V, G, E, F, W, Q, P, E, A...</td>\n",
       "      <td>[0.0, 0.0, 0.0, 1.0, 1.0, 1.0, 1.0, 1.0, 1.0, 1.0, 1.0, 2.0, 2.0, 2.0, 2.0, 2.0, 2.0, 2.0, 2.0, 3.0, 3.0, 3.0, 3.0, ...</td>\n",
       "      <td>[1.0, 2.0, 20.0, 0.0, 2.0, 3.0, 19.0, 20.0, 48.0, 51.0, 52.0, 0.0, 1.0, 3.0, 4.0, 17.0, 18.0, 19.0, 21.0, 1.0, 2.0, ...</td>\n",
       "      <td>G3DSA:3.40.50.1820</td>\n",
       "    </tr>\n",
       "    <tr>\n",
       "      <th>9</th>\n",
       "      <td>UPI0006C85BB5</td>\n",
       "      <td>AAALALAALLPLAARAQTPLPDPYDYDEPVPAPKRVVVPRWQTLELGKPGHRYKVPVYANRNLARGDLRDIKQIVIVFHGVKRNADAYYETAATVLAANPARANDTLILAPRFVGV...</td>\n",
       "      <td>Gene3D</td>\n",
       "      <td>Alpha/Beta hydrolase fold</td>\n",
       "      <td>IPR029058</td>\n",
       "      <td>9</td>\n",
       "      <td>360</td>\n",
       "      <td>864039924</td>\n",
       "      <td>352</td>\n",
       "      <td>5M43</td>\n",
       "      <td>0.0</td>\n",
       "      <td>A</td>\n",
       "      <td>27.94</td>\n",
       "      <td>68.0</td>\n",
       "      <td>49.0</td>\n",
       "      <td>0.0</td>\n",
       "      <td>59.0</td>\n",
       "      <td>126.0</td>\n",
       "      <td>19.0</td>\n",
       "      <td>86.0</td>\n",
       "      <td>0.079181</td>\n",
       "      <td>31.6</td>\n",
       "      <td>ANRNLARGDLRDIKQIVIVFHGVKRNADAYYETAATVLAANPARANDTLILAPRFVGVIDSGFAGMAA</td>\n",
       "      <td>ANRARLIKEHRITHILSVIDHTVDRENEAFRHVKHLSIDIDDMEDQDILIHLPKIVRFIDSGLRGIAV</td>\n",
       "      <td>[1.0, 2.0, 3.0, 4.0, 5.0, 6.0, 7.0, 8.0, 9.0, 10.0, 11.0, 12.0, 13.0, 14.0, 15.0, 16.0, 17.0, 18.0, 19.0, 20.0, 21.0...</td>\n",
       "      <td>[1.0, 2.0, 3.0, 4.0, 5.0, 6.0, 7.0, 8.0, 9.0, 10.0, 11.0, 12.0, 13.0, 14.0, 15.0, 16.0, 17.0, 18.0, 19.0, 20.0, 21.0...</td>\n",
       "      <td>[18.0, 18.0, 18.0, 18.0, 18.0, 18.0, 19.0, 19.0, 19.0, 19.0, 19.0, 19.0, 20.0, 20.0, 20.0, 20.0, 20.0, 20.0, 20.0, 2...</td>\n",
       "      <td>[19.0, 20.0, 24.0, 32.0, 38.0, 47.0, 18.0, 20.0, 21.0, 38.0, 39.0, 47.0, 18.0, 19.0, 21.0, 22.0, 23.0, 24.0, 47.0, 1...</td>\n",
       "      <td>[20.0, 20.0, 20.0, 20.0, 20.0, 20.0, 21.0, 21.0, 21.0, 21.0, 21.0, 21.0, 22.0, 22.0, 22.0, 22.0, 22.0, 22.0, 22.0, 2...</td>\n",
       "      <td>[21.0, 22.0, 26.0, 34.0, 40.0, 49.0, 20.0, 22.0, 23.0, 40.0, 41.0, 49.0, 20.0, 21.0, 23.0, 24.0, 25.0, 26.0, 49.0, 2...</td>\n",
       "      <td>[A, A, A, A, A, A, N, N, N, N, N, N, R, R, R, R, R, R, R, A, A, A, A, A, A, A, A, A, A, R, R, R, R, R, R, L, L, L, L...</td>\n",
       "      <td>[N, R, I, I, H, F, A, R, A, H, T, F, A, N, A, R, L, I, F, N, R, R, L, I, K, E, N, A, F, R, A, L, I, K, E, R, A, R, I...</td>\n",
       "      <td>[0.0, 0.0, 0.0, 0.0, 0.0, 0.0, 1.0, 1.0, 1.0, 1.0, 1.0, 1.0, 2.0, 2.0, 2.0, 2.0, 2.0, 2.0, 2.0, 3.0, 3.0, 3.0, 3.0, ...</td>\n",
       "      <td>[1.0, 2.0, 6.0, 14.0, 20.0, 29.0, 0.0, 2.0, 3.0, 20.0, 21.0, 29.0, 0.0, 1.0, 3.0, 4.0, 5.0, 6.0, 29.0, 1.0, 2.0, 4.0...</td>\n",
       "      <td>G3DSA:3.40.50.1820</td>\n",
       "    </tr>\n",
       "  </tbody>\n",
       "</table>\n",
       "</div>"
      ],
      "text/plain": [
       "      uniparc_id                                                                                                                 sequence database              interpro_name interpro_id  domain_start  domain_end  __index_level_0__  domain_length structure_id  model_id chain_id  pc_identity  alignment_length  mismatches  gap_opens  q_start  q_end  s_start   s_end  evalue_log10  bitscore                                                                                                                     qseq                                                                                                                     sseq                                                                                                                      a2b                                                                                                                      b2a                                                                                                            residue_idx_1  \\\n",
       "0  UPI000AF78023  AAAALLPLAASAAPARGTLLKSSVLSSYTSQAIGTLLANAQSTDQAKCDVRLAEFTYATIGVNGEPATASGTLLVPGGSQCAGPFPLVSYSQGTESLRHAEQAKEIRDAKGDDTIV...   Gene3D  Alpha/Beta hydrolase fold   IPR029058            11         287          700874249            277         3H2G       0.0        A        74.24             264.0        65.0        1.0     14.0  277.0      1.0   261.0   -143.000000     414.0  PARGTLLKSSVLSSYTSQAIGTLLANAQSTDQAKCDVRLAEFTYATIGVNGEPATASGTLLVPGGSQCAGPFPLVSYSQGTESLRHAEQAKEIRDAKGDDTIVTHLATQGYVVVSS...  PARGTLLTSNFLTSYTRDAISAMLA---SPEQAKCNVRVAEFTYATIGVEGEPATASGVLLIPGGERCSGPYPLLGWGHPTEALRAQEQAKEIRDAKGDDPLVTRLASQGYVVVGS...  [1.0, 2.0, 3.0, 4.0, 5.0, 6.0, 7.0, 8.0, 9.0, 10.0, 11.0, 12.0, 13.0, 14.0, 15.0, 16.0, 17.0, 18.0, 19.0, 20.0, 21.0...  [1.0, 2.0, 3.0, 4.0, 5.0, 6.0, 7.0, 8.0, 9.0, 10.0, 11.0, 12.0, 13.0, 14.0, 15.0, 16.0, 17.0, 18.0, 19.0, 20.0, 21.0...  [0.0, 0.0, 0.0, 0.0, 0.0, 1.0, 1.0, 1.0, 1.0, 1.0, 2.0, 2.0, 2.0, 2.0, 2.0, 2.0, 2.0, 2.0, 2.0, 2.0, 2.0, 3.0, 3.0, ...   \n",
       "1  UPI0009F3B2EE  AAAAPRPPPAGRRPGRVSARTHHYGPHRHGPHPDQFLELTLPSGDGPAPVAVVLHGGFWRAAYGIELARPLAADLAAAGWAAVAVEYRRGGTGGWSAPLEDVAAALDALPGLAERD...   Gene3D  Alpha/Beta hydrolase fold   IPR029058            83         355          756058084            273         5AOA       0.0        A        27.86             201.0       134.0        4.0     52.0  249.0     43.0   235.0     -6.096910      50.4  VVLHGGFWRAAYGIELARPLAADLAAAGWAAVAVEYRRGGTGGWSA--PLEDVAAALDALPGLAERDRLDLADLTVVGHSAGGHLAAWAAGRGRLPDGAPGAGPRVRVTAAVLQAG...  VFFFGGGWQSGSPAQF-RPQCEYFAGRGMVAMAADYRVGSRHNVKVADCVADAKSAIRWVRQHAAELGVDPQKIVASGGSAGGHLAACTVMVPDLEAPEEDHTISSQANAAILFNP...  [1.0, 2.0, 3.0, 4.0, 5.0, 6.0, 7.0, 8.0, 9.0, 10.0, 11.0, 12.0, 13.0, 14.0, 15.0, 16.0, 18.0, 19.0, 20.0, 21.0, 22.0...  [1.0, 2.0, 3.0, 4.0, 5.0, 6.0, 7.0, 8.0, 9.0, 10.0, 11.0, 12.0, 13.0, 14.0, 15.0, 16.0, None, 17.0, 18.0, 19.0, 20.0...  [42.0, 42.0, 42.0, 42.0, 42.0, 42.0, 42.0, 42.0, 42.0, 42.0, 42.0, 43.0, 43.0, 43.0, 43.0, 43.0, 43.0, 43.0, 43.0, 4...   \n",
       "2  UPI0005F71968  AAAAVHLVVLQHGLWGTPQNLGALQERLEAALQALAGPERIVMENSAVNERRRTHDGIDTCGDRLAQLILARTAQLRLDGHRVARLSLLGYSLGGLICRYAIGKLQALGYFESVAA...   Gene3D  Alpha/Beta hydrolase fold   IPR029058            11         435          483887745            425         1XAR       0.0        B        35.42              48.0        27.0        1.0     49.0   92.0     32.0    79.0     -0.744727      33.9                                                                         NERRRTHDGIDTCGDRLAQLILARTAQ----LRLDGHRVARLSLLGYS                                                                         NSQRNWHDSVTACQEVRAQLVVIKTAEEQNFLQLQTSRSNRFSWMGLS  [1.0, 2.0, 3.0, 4.0, 5.0, 6.0, 7.0, 8.0, 9.0, 10.0, 11.0, 12.0, 13.0, 14.0, 15.0, 16.0, 17.0, 18.0, 19.0, 20.0, 21.0...  [1.0, 2.0, 3.0, 4.0, 5.0, 6.0, 7.0, 8.0, 9.0, 10.0, 11.0, 12.0, 13.0, 14.0, 15.0, 16.0, 17.0, 18.0, 19.0, 20.0, 21.0...  [31.0, 31.0, 31.0, 32.0, 32.0, 32.0, 33.0, 33.0, 33.0, 33.0, 34.0, 34.0, 34.0, 34.0, 34.0, 34.0, 34.0, 34.0, 34.0, 3...   \n",
       "3  UPI000720BF07  AAADRALFPGFRPFRQAANGVEIAGVIGGSGPPLLLLHGHPQSHVIWHKVARELAREHTVVATDLRGYGASSKPAGSATHVEYSKRAMAQDQVDVMRALGFERFGLCAHDRGARVA...   Gene3D  Alpha/Beta hydrolase fold   IPR029058            12         308          682042841            297         3QYJ       0.0        A        53.10             290.0       134.0        1.0      7.0  296.0      1.0   288.0   -105.000000     315.0  LFPGFRPFRQAANGVEIAGVIGGSGPPLLLLHGHPQSHVIWHKVARELAREHTVVATDLRGYGASSKPAGSATHVEYSKRAMAQDQVDVMRALGFERFGLCAHDRGARVAHRLCVD...  MFTNFEQTIVDTTEARINLVKAGHGAPLLLLHGYPQTHVMWHKIAPLLANNFTVVATDLRGYGDSSRPASVPHHINYSKRVMAQDQVEVMSKLGYEQFYVVGHDRGARVAHRLALD...  [1.0, 2.0, 3.0, 4.0, 5.0, 6.0, 7.0, 8.0, 9.0, 10.0, 11.0, 12.0, 13.0, 14.0, 15.0, 16.0, 17.0, 18.0, 19.0, 20.0, 21.0...  [1.0, 2.0, 3.0, 4.0, 5.0, 6.0, 7.0, 8.0, 9.0, 10.0, 11.0, 12.0, 13.0, 14.0, 15.0, 16.0, 17.0, 18.0, 19.0, 20.0, 21.0...  [0.0, 0.0, 0.0, 0.0, 0.0, 0.0, 0.0, 0.0, 1.0, 1.0, 1.0, 1.0, 1.0, 1.0, 1.0, 1.0, 1.0, 1.0, 2.0, 2.0, 2.0, 2.0, 3.0, ...   \n",
       "4  UPI000A3F45F4  AAAFVAHAQVKPPSVPAAQAVTGEGVTGTLLRHAQFPSRHVAARNVDVWLPPGYDAAAGTRYPVLYMHDGQNVFDPSTSYTGVDWGVDEAMTRLIANGHARAAIVVAVWNTPRRLQ...   Gene3D  Alpha/Beta hydrolase fold   IPR029058            16         306          686305263            291         5VOL       0.0        A        27.66             141.0        80.0        4.0     42.0  182.0     18.0   136.0     -5.000000      47.0  AARNVDVWLPPGYDAAAGTRYPVLYMHDGQNVFDPSTSYTGVDWGVDEAMTRLIANGHARAAIVVAVWNTPRRLQEYMPRKAIQGATFIPTPGDPPFPTAEVVADDYLAFLVTELK...  SKRAYTVFLPKSFEQNKEKKYPVLYLLHGMWETNPVWAERG---HVKDVMDRLVASGEACEMIIV----TPN----------AGGNIHLEWNGYFDMPGWK-----YETFFYTEFL...  [1.0, 2.0, 3.0, 4.0, 5.0, 6.0, 7.0, 8.0, 9.0, 10.0, 11.0, 12.0, 13.0, 14.0, 15.0, 16.0, 17.0, 18.0, 19.0, 20.0, 21.0...  [1.0, 2.0, 3.0, 4.0, 5.0, 6.0, 7.0, 8.0, 9.0, 10.0, 11.0, 12.0, 13.0, 14.0, 15.0, 16.0, 17.0, 18.0, 19.0, 20.0, 21.0...  [17.0, 17.0, 17.0, 18.0, 18.0, 18.0, 19.0, 19.0, 19.0, 19.0, 19.0, 19.0, 19.0, 19.0, 19.0, 19.0, 20.0, 20.0, 20.0, 2...   \n",
       "5  UPI000550701B  AAAGDTAKLVSLVTAHLHDTSSSDELDVSDLPLVELPAKGGSDRLAIVISGDGGWRDLDKTIAEALQRDGVSVVGIDSLRYFWSEKPPAQVSRDLARVMRTYTARWHASRVALVGY...   Gene3D  Alpha/Beta hydrolase fold   IPR029058           190         388          174461270            199         4I4C       0.0        A        23.97             146.0        82.0        6.0     13.0  152.0    167.0   289.0      0.342423      30.4  VTAHLHDTSSSDELDVSDLPLVELPAKGGSDRLAIVISGDGGWRDLDKTIAEALQRDGVSVVGIDSLRYFWSEKPPAQVSRDLARVMRTYTARWHA------SRVALVGYSFGADV...  ITAHLHLTNT-------DKPHPVVIVSAGLDSLQT---------DMWRLFRDHLAKHDIAMLTVDMPSVGYSSKYP--LTEDYSRLHQAVLNELFSIPYVDHHRVGLIGFRFGGNA...  [1.0, 2.0, 3.0, 4.0, 5.0, 6.0, 7.0, 8.0, 9.0, 10.0, 18.0, 19.0, 20.0, 21.0, 22.0, 23.0, 24.0, 25.0, 26.0, 27.0, 28.0...  [1.0, 2.0, 3.0, 4.0, 5.0, 6.0, 7.0, 8.0, 9.0, 10.0, None, None, None, None, None, None, None, 11.0, 12.0, 13.0, 14.0...  [166.0, 166.0, 166.0, 166.0, 166.0, 166.0, 166.0, 167.0, 167.0, 167.0, 167.0, 167.0, 167.0, 167.0, 167.0, 168.0, 168...   \n",
       "6  UPI0004DD6085  AAAGPVLVGTLAAQLGTEFPAAPARVLRGMLSTLVERRFLLSGLRPPSTELDPLGAVLATLRAIGADPVPEAADLVDALRRRSRGLADITEPWTSQPATPDTAAPTSSPSGRRPPI...   Gene3D  Alpha/Beta hydrolase fold   IPR029058           247        1051          679049411            805         5EHK       0.0        A        31.40             863.0       512.0       24.0      1.0  805.0    174.0  1014.0    -56.522879     213.0  AAAGPVLVGTLAAQLGTEFPAAPARVLRGMLSTLVERRFLLSGLRPPSTELDPLGAVLATLRAIGADP-------VPEAADLVDALRR-RSRGLA-DITEPWTSQPATPDTAAPTS...  AARRPVLAGRLAQSVAQRF-ELPADRVTGLLADMAAQELLITALRPPLDGDDPLQHVLDVVAAAEARAGSPAEAMSSESAALVAALREVDARCHAYDRTAVGQGRRELAELIQSTR...  [1.0, 2.0, 3.0, 4.0, 5.0, 6.0, 7.0, 8.0, 9.0, 10.0, 11.0, 12.0, 13.0, 14.0, 15.0, 16.0, 17.0, 18.0, 19.0, 21.0, 22.0...  [1.0, 2.0, 3.0, 4.0, 5.0, 6.0, 7.0, 8.0, 9.0, 10.0, 11.0, 12.0, 13.0, 14.0, 15.0, 16.0, 17.0, 18.0, 19.0, None, 20.0...  [173.0, 173.0, 173.0, 173.0, 173.0, 174.0, 174.0, 174.0, 174.0, 174.0, 174.0, 174.0, 175.0, 175.0, 175.0, 175.0, 175...   \n",
       "7  UPI0003B6B247  AAAGRQITLHHAQNPESPLVLLNAYTGDGGEELALLEALHVPDFHLLVVSGLDWERDLSPWPCPALLKGEPPFAGEGEQYLQWLTHELLPEAKTRIGGRPAFTAIAGYSLAGLFAL...   Gene3D  Alpha/Beta hydrolase fold   IPR029058             9         232          733723484            224         2QM0       0.0        A        26.32              76.0        55.0        1.0     63.0  137.0    101.0   176.0     -1.045757      34.7                                             CPALLKGEPPFAGEGEQYLQWLTHELLPEAKTRIGGRPAFTAIAGYSLAGLFALYALY-RCDAFDRSASISGSLWY                                             TPSVISKPWPKTGGAHNFFTFIEEELKPQIEKNFEIDKGKQTLFGHSLGGLFALHILFTNLNAFQNYFISSPSIWW  [1.0, 2.0, 3.0, 4.0, 5.0, 6.0, 7.0, 8.0, 9.0, 10.0, 11.0, 12.0, 13.0, 14.0, 15.0, 16.0, 17.0, 18.0, 19.0, 20.0, 21.0...  [1.0, 2.0, 3.0, 4.0, 5.0, 6.0, 7.0, 8.0, 9.0, 10.0, 11.0, 12.0, 13.0, 14.0, 15.0, 16.0, 17.0, 18.0, 19.0, 20.0, 21.0...  [100.0, 100.0, 100.0, 100.0, 100.0, 100.0, 100.0, 100.0, 100.0, 101.0, 101.0, 101.0, 101.0, 101.0, 101.0, 101.0, 101...   \n",
       "8  UPI0004350470  AAAITTKNITYTVDDQAYEGYYAKADKANAPFILLIHDWDGLTDYERKRADMLAGEGYNVLAADMFGQGVRPTSIEENKRLTGELYDDRNKMRRILQGALNAGRLQGNDVRKGTTM...   Gene3D  Alpha/Beta hydrolase fold   IPR029058            33         260          706294596            228         4ZI5       0.0        A        29.41             238.0       153.0        6.0      3.0  228.0      2.0   236.0    -18.000000      83.6  AITTKNITYTVDDQAY----EGYYAKADKANAPFILLIHDWDGLTDYERKRADMLAGEGYNVLAADMFGQGVRPTSIEENKRLTGELYDDRNKMRRILQGALNAGRLQGN-DVRKG...  AMTARKVDYT--DGATRCIGEFHWDEGKSGPRPGVVVFPEAFGLNDHAKERARRLADLGFAALAADMHGDAQVFDAASLSSTIQG-YYGDRAHWRRRAQAALDALTAQPEVDGSKV...  [1.0, 2.0, 3.0, 4.0, 5.0, 6.0, 7.0, 8.0, 9.0, 10.0, 13.0, 14.0, 15.0, 16.0, None, None, None, None, 17.0, 18.0, 19.0...  [1.0, 2.0, 3.0, 4.0, 5.0, 6.0, 7.0, 8.0, 9.0, 10.0, None, None, 11.0, 12.0, 13.0, 14.0, 19.0, 20.0, 21.0, 22.0, 23.0...  [1.0, 1.0, 1.0, 2.0, 2.0, 2.0, 2.0, 2.0, 2.0, 2.0, 2.0, 3.0, 3.0, 3.0, 3.0, 3.0, 3.0, 3.0, 3.0, 4.0, 4.0, 4.0, 4.0, ...   \n",
       "9  UPI0006C85BB5  AAALALAALLPLAARAQTPLPDPYDYDEPVPAPKRVVVPRWQTLELGKPGHRYKVPVYANRNLARGDLRDIKQIVIVFHGVKRNADAYYETAATVLAANPARANDTLILAPRFVGV...   Gene3D  Alpha/Beta hydrolase fold   IPR029058             9         360          864039924            352         5M43       0.0        A        27.94              68.0        49.0        0.0     59.0  126.0     19.0    86.0      0.079181      31.6                                                     ANRNLARGDLRDIKQIVIVFHGVKRNADAYYETAATVLAANPARANDTLILAPRFVGVIDSGFAGMAA                                                     ANRARLIKEHRITHILSVIDHTVDRENEAFRHVKHLSIDIDDMEDQDILIHLPKIVRFIDSGLRGIAV  [1.0, 2.0, 3.0, 4.0, 5.0, 6.0, 7.0, 8.0, 9.0, 10.0, 11.0, 12.0, 13.0, 14.0, 15.0, 16.0, 17.0, 18.0, 19.0, 20.0, 21.0...  [1.0, 2.0, 3.0, 4.0, 5.0, 6.0, 7.0, 8.0, 9.0, 10.0, 11.0, 12.0, 13.0, 14.0, 15.0, 16.0, 17.0, 18.0, 19.0, 20.0, 21.0...  [18.0, 18.0, 18.0, 18.0, 18.0, 18.0, 19.0, 19.0, 19.0, 19.0, 19.0, 19.0, 20.0, 20.0, 20.0, 20.0, 20.0, 20.0, 20.0, 2...   \n",
       "\n",
       "                                                                                                             residue_idx_2                                                                                                             residue_id_1                                                                                                             residue_id_2                                                                                                             residue_aa_1                                                                                                             residue_aa_2                                                                                                  residue_idx_1_corrected                                                                                                  residue_idx_2_corrected         database_id  \n",
       "0  [1.0, 2.0, 4.0, 6.0, 41.0, 0.0, 2.0, 3.0, 4.0, 41.0, 0.0, 1.0, 3.0, 4.0, 41.0, 42.0, 43.0, 135.0, 138.0, 139.0, 142....  [2.0, 2.0, 2.0, 2.0, 2.0, 3.0, 3.0, 3.0, 3.0, 3.0, 4.0, 4.0, 4.0, 4.0, 4.0, 4.0, 4.0, 4.0, 4.0, 4.0, 4.0, 5.0, 5.0, ...  [3.0, 4.0, 6.0, 8.0, 52.0, 2.0, 4.0, 5.0, 6.0, 52.0, 2.0, 3.0, 5.0, 6.0, 52.0, 53.0, 54.0, 146.0, 149.0, 150.0, 153....  [P, P, P, P, P, A, A, A, A, A, R, R, R, R, R, R, R, R, R, R, R, G, G, G, G, G, G, G, G, G, G, G, T, T, T, T, T, T, T...  [A, R, T, L, A, P, R, G, T, A, P, A, G, T, A, T, I, S, I, D, R, A, R, T, L, Y, A, T, D, R, A, S, P, A, R, G, L, L, T...  [0.0, 0.0, 0.0, 0.0, 0.0, 1.0, 1.0, 1.0, 1.0, 1.0, 2.0, 2.0, 2.0, 2.0, 2.0, 2.0, 2.0, 2.0, 2.0, 2.0, 2.0, 3.0, 3.0, ...  [1.0, 2.0, 4.0, 6.0, 44.0, 0.0, 2.0, 3.0, 4.0, 44.0, 0.0, 1.0, 3.0, 4.0, 44.0, 45.0, 46.0, 138.0, 141.0, 142.0, 145....  G3DSA:3.40.50.1820  \n",
       "1  [43.0, 44.0, 72.0, 74.0, 96.0, 97.0, 100.0, 114.0, 115.0, 116.0, 117.0, 42.0, 44.0, 45.0, 57.0, 60.0, 61.0, 64.0, 71...  [48.0, 48.0, 48.0, 48.0, 48.0, 48.0, 48.0, 48.0, 48.0, 48.0, 48.0, 49.0, 49.0, 49.0, 49.0, 49.0, 49.0, 49.0, 49.0, 4...  [49.0, 50.0, 78.0, 80.0, 102.0, 103.0, 106.0, 120.0, 121.0, 122.0, 123.0, 48.0, 50.0, 51.0, 63.0, 66.0, 67.0, 70.0, ...  [V, V, V, V, V, V, V, V, V, V, V, F, F, F, F, F, F, F, F, F, F, F, F, F, F, F, F, F, F, F, F, F, F, F, F, F, F, F, F...  [F, F, M, A, A, I, V, I, V, A, S, V, F, F, F, Q, C, F, A, M, A, A, S, G, F, V, F, F, G, F, A, Y, A, A, I, A, S, G, G...  [0.0, 0.0, 0.0, 0.0, 0.0, 0.0, 0.0, 0.0, 0.0, 0.0, 0.0, 1.0, 1.0, 1.0, 1.0, 1.0, 1.0, 1.0, 1.0, 1.0, 1.0, 1.0, 1.0, ...  [1.0, 2.0, 31.0, 33.0, 53.0, 54.0, 57.0, 71.0, 72.0, 73.0, 74.0, 0.0, 2.0, 3.0, 15.0, 19.0, 20.0, 23.0, 30.0, 31.0, ...  G3DSA:3.40.50.1820  \n",
       "2  [32.0, 33.0, 71.0, 31.0, 33.0, 34.0, 31.0, 32.0, 34.0, 35.0, 32.0, 33.0, 35.0, 36.0, 38.0, 39.0, 41.0, 42.0, 45.0, 7...  [69.0, 69.0, 69.0, 70.0, 70.0, 70.0, 71.0, 71.0, 71.0, 71.0, 72.0, 72.0, 72.0, 72.0, 72.0, 72.0, 72.0, 72.0, 72.0, 7...  [70.0, 71.0, 109.0, 69.0, 71.0, 72.0, 69.0, 70.0, 72.0, 73.0, 70.0, 71.0, 73.0, 74.0, 76.0, 77.0, 79.0, 80.0, 83.0, ...  [N, N, N, S, S, S, Q, Q, Q, Q, R, R, R, R, R, R, R, R, R, R, N, N, N, N, N, N, N, W, W, W, W, W, W, W, W, W, W, W, W...  [S, Q, R, N, Q, R, N, S, R, N, S, Q, N, W, D, S, T, A, E, W, Q, R, W, H, D, S, W, R, N, H, D, S, V, L, W, M, G, L, S...  [0.0, 0.0, 0.0, 1.0, 1.0, 1.0, 2.0, 2.0, 2.0, 2.0, 3.0, 3.0, 3.0, 3.0, 3.0, 3.0, 3.0, 3.0, 3.0, 3.0, 4.0, 4.0, 4.0, ...  [1.0, 2.0, 36.0, 0.0, 2.0, 3.0, 0.0, 1.0, 3.0, 4.0, 1.0, 2.0, 4.0, 5.0, 7.0, 8.0, 10.0, 11.0, 14.0, 39.0, 2.0, 3.0, ...  G3DSA:3.40.50.1820  \n",
       "3  [1.0, 2.0, 38.0, 41.0, 186.0, 188.0, 189.0, 192.0, 0.0, 2.0, 3.0, 4.0, 19.0, 37.0, 38.0, 40.0, 41.0, 44.0, 0.0, 1.0,...  [1.0, 1.0, 1.0, 1.0, 1.0, 1.0, 1.0, 1.0, 2.0, 2.0, 2.0, 2.0, 2.0, 2.0, 2.0, 2.0, 2.0, 2.0, 3.0, 3.0, 3.0, 3.0, 4.0, ...  [2.0, 3.0, 39.0, 42.0, 187.0, 189.0, 190.0, 193.0, 1.0, 3.0, 4.0, 5.0, 20.0, 38.0, 39.0, 41.0, 42.0, 45.0, 1.0, 2.0,...  [M, M, M, M, M, M, M, M, F, F, F, F, F, F, F, F, F, F, T, T, T, T, N, N, N, N, N, N, F, F, F, F, F, F, F, F, F, F, F...  [F, T, V, H, H, Q, A, E, M, T, N, F, V, H, V, W, H, A, M, F, N, F, F, T, F, E, K, A, F, T, N, E, Q, V, K, A, A, P, A...  [0.0, 0.0, 0.0, 0.0, 0.0, 0.0, 0.0, 0.0, 1.0, 1.0, 1.0, 1.0, 1.0, 1.0, 1.0, 1.0, 1.0, 1.0, 2.0, 2.0, 2.0, 2.0, 3.0, ...  [1.0, 2.0, 38.0, 41.0, 186.0, 188.0, 189.0, 192.0, 0.0, 2.0, 3.0, 4.0, 19.0, 37.0, 38.0, 40.0, 41.0, 44.0, 0.0, 1.0,...  G3DSA:3.40.50.1820  \n",
       "4  [18.0, 19.0, 99.0, 17.0, 19.0, 20.0, 17.0, 18.0, 20.0, 21.0, 81.0, 82.0, 83.0, 99.0, 101.0, 104.0, 18.0, 19.0, 21.0,...  [24.0, 24.0, 24.0, 25.0, 25.0, 25.0, 26.0, 26.0, 26.0, 26.0, 26.0, 26.0, 26.0, 26.0, 26.0, 26.0, 27.0, 27.0, 27.0, 2...  [25.0, 26.0, 106.0, 24.0, 26.0, 27.0, 24.0, 25.0, 27.0, 28.0, 88.0, 89.0, 90.0, 106.0, 108.0, 111.0, 25.0, 26.0, 28....  [S, S, S, K, K, K, R, R, R, R, R, R, R, R, R, R, A, A, A, A, A, A, A, A, Y, Y, Y, Y, Y, Y, Y, Y, Y, Y, Y, Y, Y, Y, T...  [K, R, W, S, R, A, S, K, A, Y, N, A, G, W, Y, F, K, R, Y, T, N, T, P, N, R, A, T, V, N, V, T, P, N, F, Y, I, K, Y, A...  [0.0, 0.0, 0.0, 1.0, 1.0, 1.0, 2.0, 2.0, 2.0, 2.0, 2.0, 2.0, 2.0, 2.0, 2.0, 2.0, 3.0, 3.0, 3.0, 3.0, 3.0, 3.0, 3.0, ...  [1.0, 2.0, 99.0, 0.0, 2.0, 3.0, 0.0, 1.0, 3.0, 4.0, 71.0, 82.0, 83.0, 99.0, 106.0, 109.0, 1.0, 2.0, 4.0, 5.0, 33.0, ...  G3DSA:3.40.50.1820  \n",
       "5  [167.0, 168.0, 213.0, 224.0, 233.0, 236.0, 237.0, 166.0, 168.0, 169.0, 192.0, 212.0, 213.0, 214.0, 220.0, 166.0, 167...  [180.0, 180.0, 180.0, 180.0, 180.0, 180.0, 180.0, 181.0, 181.0, 181.0, 181.0, 181.0, 181.0, 181.0, 181.0, 182.0, 182...  [181.0, 182.0, 227.0, 238.0, 247.0, 250.0, 251.0, 180.0, 182.0, 183.0, 206.0, 226.0, 227.0, 228.0, 234.0, 180.0, 181...  [I, I, I, I, I, I, I, T, T, T, T, T, T, T, T, A, A, A, A, A, A, A, A, A, H, H, H, H, H, H, H, H, H, H, L, L, L, L, L...  [T, A, V, Y, L, A, V, I, A, H, Q, T, V, D, Y, I, T, H, L, Q, L, T, V, V, T, A, L, H, Q, T, M, L, T, Y, A, H, H, L, V...  [0.0, 0.0, 0.0, 0.0, 0.0, 0.0, 0.0, 1.0, 1.0, 1.0, 1.0, 1.0, 1.0, 1.0, 1.0, 2.0, 2.0, 2.0, 2.0, 2.0, 2.0, 2.0, 2.0, ...  [1.0, 2.0, 63.0, 74.0, 85.0, 88.0, 89.0, 0.0, 2.0, 3.0, 33.0, 62.0, 63.0, 64.0, 70.0, 0.0, 1.0, 3.0, 4.0, 33.0, 61.0...  G3DSA:3.40.50.1820  \n",
       "6  [174.0, 175.0, 176.0, 178.0, 183.0, 173.0, 175.0, 176.0, 177.0, 178.0, 183.0, 211.0, 173.0, 174.0, 176.0, 177.0, 537...  [243.0, 243.0, 243.0, 243.0, 243.0, 244.0, 244.0, 244.0, 244.0, 244.0, 244.0, 244.0, 245.0, 245.0, 245.0, 245.0, 245...  [244.0, 245.0, 246.0, 248.0, 253.0, 243.0, 245.0, 246.0, 247.0, 248.0, 253.0, 281.0, 243.0, 244.0, 246.0, 247.0, 607...  [A, A, A, A, A, A, A, A, A, A, A, A, R, R, R, R, R, R, R, R, R, R, R, R, P, P, P, P, P, P, V, V, V, V, V, V, V, L, L...  [A, R, R, V, L, A, R, R, P, V, L, L, A, A, R, P, P, D, E, A, A, R, P, V, A, R, R, V, L, D, A, A, R, P, L, A, L, P, V...  [0.0, 0.0, 0.0, 0.0, 0.0, 1.0, 1.0, 1.0, 1.0, 1.0, 1.0, 1.0, 2.0, 2.0, 2.0, 2.0, 2.0, 2.0, 2.0, 3.0, 3.0, 3.0, 3.0, ...  [1.0, 2.0, 3.0, 5.0, 10.0, 0.0, 2.0, 3.0, 4.0, 5.0, 10.0, 39.0, 0.0, 1.0, 3.0, 4.0, 354.0, 356.0, 357.0, 0.0, 1.0, 2...  G3DSA:3.40.50.1820  \n",
       "7  [101.0, 102.0, 111.0, 112.0, 113.0, 114.0, 147.0, 150.0, 175.0, 100.0, 102.0, 103.0, 112.0, 114.0, 150.0, 154.0, 175...  [105.0, 105.0, 105.0, 105.0, 105.0, 105.0, 105.0, 105.0, 105.0, 106.0, 106.0, 106.0, 106.0, 106.0, 106.0, 106.0, 106...  [106.0, 107.0, 125.0, 126.0, 127.0, 128.0, 161.0, 164.0, 189.0, 105.0, 107.0, 108.0, 126.0, 128.0, 164.0, 168.0, 189...  [T, T, T, T, T, T, T, T, T, P, P, P, P, P, P, P, P, S, S, S, S, S, S, S, V, V, V, V, V, V, V, I, I, I, I, I, I, I, I...  [P, S, T, G, G, A, L, L, W, T, S, V, G, A, L, H, W, T, P, V, I, T, G, W, P, S, I, S, T, G, W, S, V, S, K, W, P, T, W...  [0.0, 0.0, 0.0, 0.0, 0.0, 0.0, 0.0, 0.0, 0.0, 1.0, 1.0, 1.0, 1.0, 1.0, 1.0, 1.0, 1.0, 2.0, 2.0, 2.0, 2.0, 2.0, 2.0, ...  [1.0, 2.0, 11.0, 12.0, 13.0, 14.0, 47.0, 50.0, 74.0, 0.0, 2.0, 3.0, 12.0, 14.0, 50.0, 54.0, 74.0, 0.0, 1.0, 3.0, 4.0...  G3DSA:3.40.50.1820  \n",
       "8  [2.0, 3.0, 23.0, 1.0, 3.0, 4.0, 22.0, 23.0, 51.0, 54.0, 55.0, 1.0, 2.0, 4.0, 5.0, 20.0, 21.0, 22.0, 24.0, 2.0, 3.0, ...  [13.0, 13.0, 13.0, 14.0, 14.0, 14.0, 14.0, 14.0, 14.0, 14.0, 14.0, 15.0, 15.0, 15.0, 15.0, 15.0, 15.0, 15.0, 15.0, 1...  [14.0, 15.0, 35.0, 13.0, 15.0, 16.0, 34.0, 35.0, 63.0, 66.0, 67.0, 13.0, 14.0, 16.0, 17.0, 32.0, 33.0, 34.0, 36.0, 1...  [A, A, A, M, M, M, M, M, M, M, M, T, T, T, T, T, T, T, T, A, A, A, A, A, A, A, A, R, R, R, R, R, R, R, R, R, R, R, K...  [M, T, D, A, T, A, W, D, R, A, D, A, M, A, R, F, H, W, E, M, T, R, K, E, F, H, W, T, A, K, V, G, E, F, W, Q, P, E, A...  [0.0, 0.0, 0.0, 1.0, 1.0, 1.0, 1.0, 1.0, 1.0, 1.0, 1.0, 2.0, 2.0, 2.0, 2.0, 2.0, 2.0, 2.0, 2.0, 3.0, 3.0, 3.0, 3.0, ...  [1.0, 2.0, 20.0, 0.0, 2.0, 3.0, 19.0, 20.0, 48.0, 51.0, 52.0, 0.0, 1.0, 3.0, 4.0, 17.0, 18.0, 19.0, 21.0, 1.0, 2.0, ...  G3DSA:3.40.50.1820  \n",
       "9  [19.0, 20.0, 24.0, 32.0, 38.0, 47.0, 18.0, 20.0, 21.0, 38.0, 39.0, 47.0, 18.0, 19.0, 21.0, 22.0, 23.0, 24.0, 47.0, 1...  [20.0, 20.0, 20.0, 20.0, 20.0, 20.0, 21.0, 21.0, 21.0, 21.0, 21.0, 21.0, 22.0, 22.0, 22.0, 22.0, 22.0, 22.0, 22.0, 2...  [21.0, 22.0, 26.0, 34.0, 40.0, 49.0, 20.0, 22.0, 23.0, 40.0, 41.0, 49.0, 20.0, 21.0, 23.0, 24.0, 25.0, 26.0, 49.0, 2...  [A, A, A, A, A, A, N, N, N, N, N, N, R, R, R, R, R, R, R, A, A, A, A, A, A, A, A, A, A, R, R, R, R, R, R, L, L, L, L...  [N, R, I, I, H, F, A, R, A, H, T, F, A, N, A, R, L, I, F, N, R, R, L, I, K, E, N, A, F, R, A, L, I, K, E, R, A, R, I...  [0.0, 0.0, 0.0, 0.0, 0.0, 0.0, 1.0, 1.0, 1.0, 1.0, 1.0, 1.0, 2.0, 2.0, 2.0, 2.0, 2.0, 2.0, 2.0, 3.0, 3.0, 3.0, 3.0, ...  [1.0, 2.0, 6.0, 14.0, 20.0, 29.0, 0.0, 2.0, 3.0, 20.0, 21.0, 29.0, 0.0, 1.0, 3.0, 4.0, 5.0, 6.0, 29.0, 1.0, 2.0, 4.0...  G3DSA:3.40.50.1820  "
      ]
     },
     "execution_count": 44,
     "metadata": {},
     "output_type": "execute_result"
    }
   ],
   "source": [
    "ds.limit(10).toPandas()"
   ]
  },
  {
   "cell_type": "markdown",
   "metadata": {},
   "source": [
    "### Protherm dataset"
   ]
  },
  {
   "cell_type": "code",
   "execution_count": 45,
   "metadata": {
    "collapsed": true,
    "jupyter": {
     "outputs_hidden": true
    }
   },
   "outputs": [],
   "source": [
    "protherm_file = (\n",
    "    op.join(os.environ['DATABIN_DIR'], 'protein_folding_energy', 'v0.1.0', 'protherm_star.parquet')\n",
    ")"
   ]
  },
  {
   "cell_type": "markdown",
   "metadata": {},
   "source": [
    "#### Examine file"
   ]
  },
  {
   "cell_type": "code",
   "execution_count": 46,
   "metadata": {
    "collapsed": true,
    "jupyter": {
     "outputs_hidden": true
    }
   },
   "outputs": [],
   "source": [
    "protherm = pq.read_table(protherm_file).to_pandas().set_index('__index_level_0__')"
   ]
  },
  {
   "cell_type": "code",
   "execution_count": 47,
   "metadata": {},
   "outputs": [
    {
     "data": {
      "text/html": [
       "<div>\n",
       "<style scoped>\n",
       "    .dataframe tbody tr th:only-of-type {\n",
       "        vertical-align: middle;\n",
       "    }\n",
       "\n",
       "    .dataframe tbody tr th {\n",
       "        vertical-align: top;\n",
       "    }\n",
       "\n",
       "    .dataframe thead th {\n",
       "        text-align: right;\n",
       "    }\n",
       "</style>\n",
       "<table border=\"1\" class=\"dataframe\">\n",
       "  <thead>\n",
       "    <tr style=\"text-align: right;\">\n",
       "      <th></th>\n",
       "      <th>pdb_id</th>\n",
       "      <th>pdb_chain</th>\n",
       "      <th>pdb_mutation</th>\n",
       "      <th>uniprot_id</th>\n",
       "      <th>uniprot_mutation</th>\n",
       "      <th>pfam_id</th>\n",
       "      <th>ddg_exp</th>\n",
       "      <th>ddg_exp_std</th>\n",
       "      <th>ddg_exp_count</th>\n",
       "    </tr>\n",
       "    <tr>\n",
       "      <th>__index_level_0__</th>\n",
       "      <th></th>\n",
       "      <th></th>\n",
       "      <th></th>\n",
       "      <th></th>\n",
       "      <th></th>\n",
       "      <th></th>\n",
       "      <th></th>\n",
       "      <th></th>\n",
       "      <th></th>\n",
       "    </tr>\n",
       "  </thead>\n",
       "  <tbody>\n",
       "    <tr>\n",
       "      <th>0</th>\n",
       "      <td>1a2p</td>\n",
       "      <td>A</td>\n",
       "      <td>A_A32C</td>\n",
       "      <td>P00648</td>\n",
       "      <td>A79C</td>\n",
       "      <td>PF00545</td>\n",
       "      <td>1.838100</td>\n",
       "      <td>NaN</td>\n",
       "      <td>1</td>\n",
       "    </tr>\n",
       "    <tr>\n",
       "      <th>1</th>\n",
       "      <td>1a2p</td>\n",
       "      <td>A</td>\n",
       "      <td>A_A32D</td>\n",
       "      <td>P00648</td>\n",
       "      <td>A79D</td>\n",
       "      <td>PF00545</td>\n",
       "      <td>0.414300</td>\n",
       "      <td>NaN</td>\n",
       "      <td>1</td>\n",
       "    </tr>\n",
       "    <tr>\n",
       "      <th>2</th>\n",
       "      <td>1a2p</td>\n",
       "      <td>A</td>\n",
       "      <td>A_A32E</td>\n",
       "      <td>P00648</td>\n",
       "      <td>A79E</td>\n",
       "      <td>PF00545</td>\n",
       "      <td>-0.132800</td>\n",
       "      <td>NaN</td>\n",
       "      <td>1</td>\n",
       "    </tr>\n",
       "    <tr>\n",
       "      <th>3</th>\n",
       "      <td>1a2p</td>\n",
       "      <td>A</td>\n",
       "      <td>A_A32F</td>\n",
       "      <td>P00648</td>\n",
       "      <td>A79F</td>\n",
       "      <td>PF00545</td>\n",
       "      <td>0.436800</td>\n",
       "      <td>NaN</td>\n",
       "      <td>1</td>\n",
       "    </tr>\n",
       "    <tr>\n",
       "      <th>4</th>\n",
       "      <td>1a2p</td>\n",
       "      <td>A</td>\n",
       "      <td>A_A32G</td>\n",
       "      <td>P00648</td>\n",
       "      <td>A79G</td>\n",
       "      <td>PF00545</td>\n",
       "      <td>0.860767</td>\n",
       "      <td>0.067954</td>\n",
       "      <td>3</td>\n",
       "    </tr>\n",
       "  </tbody>\n",
       "</table>\n",
       "</div>"
      ],
      "text/plain": [
       "                  pdb_id pdb_chain pdb_mutation uniprot_id uniprot_mutation  pfam_id   ddg_exp  ddg_exp_std  ddg_exp_count\n",
       "__index_level_0__                                                                                                         \n",
       "0                   1a2p         A       A_A32C     P00648             A79C  PF00545  1.838100          NaN              1\n",
       "1                   1a2p         A       A_A32D     P00648             A79D  PF00545  0.414300          NaN              1\n",
       "2                   1a2p         A       A_A32E     P00648             A79E  PF00545 -0.132800          NaN              1\n",
       "3                   1a2p         A       A_A32F     P00648             A79F  PF00545  0.436800          NaN              1\n",
       "4                   1a2p         A       A_A32G     P00648             A79G  PF00545  0.860767     0.067954              3"
      ]
     },
     "metadata": {},
     "output_type": "display_data"
    },
    {
     "name": "stdout",
     "output_type": "stream",
     "text": [
      "(2997, 9)\n"
     ]
    }
   ],
   "source": [
    "display(protherm.head())\n",
    "print(protherm.shape)"
   ]
  },
  {
   "cell_type": "code",
   "execution_count": 48,
   "metadata": {
    "collapsed": true,
    "jupyter": {
     "outputs_hidden": true
    }
   },
   "outputs": [],
   "source": [
    "protherm = protherm.dropna(subset=['uniprot_id', 'uniprot_mutation', 'ddg_exp'])"
   ]
  },
  {
   "cell_type": "code",
   "execution_count": 49,
   "metadata": {},
   "outputs": [
    {
     "data": {
      "text/plain": [
       "(2997, 9)"
      ]
     },
     "execution_count": 49,
     "metadata": {},
     "output_type": "execute_result"
    }
   ],
   "source": [
    "protherm.shape"
   ]
  },
  {
   "cell_type": "markdown",
   "metadata": {},
   "source": [
    "#### Spark query"
   ]
  },
  {
   "cell_type": "code",
   "execution_count": 50,
   "metadata": {},
   "outputs": [
    {
     "data": {
      "text/plain": [
       "PosixPath('/home/kimlab2/database_data/databin/uniparc_domain/0.1/adjacency_matrix.parquet')"
      ]
     },
     "execution_count": 50,
     "metadata": {},
     "output_type": "execute_result"
    }
   ],
   "source": [
    "ADJACENCY_MATRIX_PATH"
   ]
  },
  {
   "cell_type": "code",
   "execution_count": 51,
   "metadata": {
    "collapsed": true,
    "jupyter": {
     "outputs_hidden": true
    },
    "run_control": {
     "marked": false
    }
   },
   "outputs": [],
   "source": [
    "ds = spark.sql(f\"\"\"\\\n",
    "SELECT\n",
    "    ds.uniprot_id, ds.uniprot_mutation, ds.ddg_exp,\n",
    "    \n",
    "    xref.uniparc_id,\n",
    "    \n",
    "    ud.sequence, ud.database_id, ud.domain_start, ud.domain_end, ud.__index_level_0__ domain_index,\n",
    "       \n",
    "    ud.structure_id, ud.model_id, ud.chain_id,\n",
    "    ud.pc_identity, ud.alignment_length, ud.mismatches, ud.gap_opens, \n",
    "    ud.q_start, ud.q_end, ud.s_start, ud.s_end,\n",
    "    \n",
    "    ud.qseq, ud.sseq,\n",
    "    ud.residue_idx_1_corrected, ud.residue_idx_2_corrected\n",
    "\n",
    "FROM parquet.`{protherm_file}` ds\n",
    "JOIN parquet.`{uniparc_xref_file}` xref ON (uniprot_id = db_id)\n",
    "JOIN parquet.`{ADJACENCY_MATRIX_PATH}` ud USING (uniparc_id)\n",
    "WHERE (xref.db_type = 'UniProtKB/Swiss-Prot' OR xref.db_type = 'UniProtKB/TrEMBL')\n",
    "AND xref.active = 'Y'\n",
    "\"\"\")"
   ]
  },
  {
   "cell_type": "code",
   "execution_count": 52,
   "metadata": {
    "collapsed": true,
    "jupyter": {
     "outputs_hidden": true
    }
   },
   "outputs": [],
   "source": [
    "ds.write.parquet(\n",
    "    PROTHERM_DIR.joinpath('protherm_2.parquet').as_posix(),\n",
    "    mode='overwrite',\n",
    ")"
   ]
  },
  {
   "cell_type": "markdown",
   "metadata": {},
   "source": [
    "#### Remove mutations outside domains"
   ]
  },
  {
   "cell_type": "code",
   "execution_count": 53,
   "metadata": {},
   "outputs": [
    {
     "name": "stderr",
     "output_type": "stream",
     "text": [
      "[autoreload of pagnn failed: Traceback (most recent call last):\n",
      "  File \"/home/kimlab1/strokach/anaconda3/lib/python3.6/site-packages/IPython/extensions/autoreload.py\", line 246, in check\n",
      "    superreload(m, reload, self.old_objects)\n",
      "  File \"/home/kimlab1/strokach/anaconda3/lib/python3.6/site-packages/IPython/extensions/autoreload.py\", line 369, in superreload\n",
      "    module = reload(module)\n",
      "  File \"/home/kimlab1/strokach/anaconda3/lib/python3.6/imp.py\", line 315, in reload\n",
      "    return importlib.reload(module)\n",
      "  File \"/home/kimlab1/strokach/anaconda3/lib/python3.6/importlib/__init__.py\", line 166, in reload\n",
      "    _bootstrap._exec(spec, module)\n",
      "  File \"<frozen importlib._bootstrap>\", line 618, in _exec\n",
      "  File \"<frozen importlib._bootstrap_external>\", line 678, in exec_module\n",
      "  File \"<frozen importlib._bootstrap>\", line 219, in _call_with_frames_removed\n",
      "  File \"/home/kimlab1/strokach/working/pagnn/pagnn/__init__.py\", line 8, in <module>\n",
      "    from . import *\n",
      "AttributeError: module 'pagnn' has no attribute 'scripts'\n",
      "]\n"
     ]
    },
    {
     "name": "stdout",
     "output_type": "stream",
     "text": [
      "Ignoring path: /home/kimlab2/database_data/biological-data-warehouse/adjacency-net/notebooks/mutation_datasets/protherm/protherm_2.parquet/.part-00174-d5970bbe-d13b-4285-bc18-a4cc440e23e8-c000.snappy.parquet.crc\n",
      "Ignoring path: /home/kimlab2/database_data/biological-data-warehouse/adjacency-net/notebooks/mutation_datasets/protherm/protherm_2.parquet/.part-00126-d5970bbe-d13b-4285-bc18-a4cc440e23e8-c000.snappy.parquet.crc\n",
      "Ignoring path: /home/kimlab2/database_data/biological-data-warehouse/adjacency-net/notebooks/mutation_datasets/protherm/protherm_2.parquet/.part-00189-d5970bbe-d13b-4285-bc18-a4cc440e23e8-c000.snappy.parquet.crc\n",
      "Ignoring path: /home/kimlab2/database_data/biological-data-warehouse/adjacency-net/notebooks/mutation_datasets/protherm/protherm_2.parquet/.part-00026-d5970bbe-d13b-4285-bc18-a4cc440e23e8-c000.snappy.parquet.crc\n",
      "Ignoring path: /home/kimlab2/database_data/biological-data-warehouse/adjacency-net/notebooks/mutation_datasets/protherm/protherm_2.parquet/.part-00036-d5970bbe-d13b-4285-bc18-a4cc440e23e8-c000.snappy.parquet.crc\n",
      "Ignoring path: /home/kimlab2/database_data/biological-data-warehouse/adjacency-net/notebooks/mutation_datasets/protherm/protherm_2.parquet/.part-00048-d5970bbe-d13b-4285-bc18-a4cc440e23e8-c000.snappy.parquet.crc\n",
      "Ignoring path: /home/kimlab2/database_data/biological-data-warehouse/adjacency-net/notebooks/mutation_datasets/protherm/protherm_2.parquet/.part-00167-d5970bbe-d13b-4285-bc18-a4cc440e23e8-c000.snappy.parquet.crc\n",
      "Ignoring path: /home/kimlab2/database_data/biological-data-warehouse/adjacency-net/notebooks/mutation_datasets/protherm/protherm_2.parquet/.part-00009-d5970bbe-d13b-4285-bc18-a4cc440e23e8-c000.snappy.parquet.crc\n",
      "Ignoring path: /home/kimlab2/database_data/biological-data-warehouse/adjacency-net/notebooks/mutation_datasets/protherm/protherm_2.parquet/.part-00051-d5970bbe-d13b-4285-bc18-a4cc440e23e8-c000.snappy.parquet.crc\n",
      "Ignoring path: /home/kimlab2/database_data/biological-data-warehouse/adjacency-net/notebooks/mutation_datasets/protherm/protherm_2.parquet/.part-00037-d5970bbe-d13b-4285-bc18-a4cc440e23e8-c000.snappy.parquet.crc\n",
      "Ignoring path: /home/kimlab2/database_data/biological-data-warehouse/adjacency-net/notebooks/mutation_datasets/protherm/protherm_2.parquet/.part-00173-d5970bbe-d13b-4285-bc18-a4cc440e23e8-c000.snappy.parquet.crc\n",
      "Ignoring path: /home/kimlab2/database_data/biological-data-warehouse/adjacency-net/notebooks/mutation_datasets/protherm/protherm_2.parquet/.part-00014-d5970bbe-d13b-4285-bc18-a4cc440e23e8-c000.snappy.parquet.crc\n",
      "Ignoring path: /home/kimlab2/database_data/biological-data-warehouse/adjacency-net/notebooks/mutation_datasets/protherm/protherm_2.parquet/.part-00070-d5970bbe-d13b-4285-bc18-a4cc440e23e8-c000.snappy.parquet.crc\n",
      "Ignoring path: /home/kimlab2/database_data/biological-data-warehouse/adjacency-net/notebooks/mutation_datasets/protherm/protherm_2.parquet/.part-00021-d5970bbe-d13b-4285-bc18-a4cc440e23e8-c000.snappy.parquet.crc\n",
      "Ignoring path: /home/kimlab2/database_data/biological-data-warehouse/adjacency-net/notebooks/mutation_datasets/protherm/protherm_2.parquet/.part-00113-d5970bbe-d13b-4285-bc18-a4cc440e23e8-c000.snappy.parquet.crc\n",
      "Ignoring path: /home/kimlab2/database_data/biological-data-warehouse/adjacency-net/notebooks/mutation_datasets/protherm/protherm_2.parquet/.part-00082-d5970bbe-d13b-4285-bc18-a4cc440e23e8-c000.snappy.parquet.crc\n",
      "Ignoring path: /home/kimlab2/database_data/biological-data-warehouse/adjacency-net/notebooks/mutation_datasets/protherm/protherm_2.parquet/.part-00186-d5970bbe-d13b-4285-bc18-a4cc440e23e8-c000.snappy.parquet.crc\n",
      "Ignoring path: /home/kimlab2/database_data/biological-data-warehouse/adjacency-net/notebooks/mutation_datasets/protherm/protherm_2.parquet/.part-00049-d5970bbe-d13b-4285-bc18-a4cc440e23e8-c000.snappy.parquet.crc\n",
      "Ignoring path: /home/kimlab2/database_data/biological-data-warehouse/adjacency-net/notebooks/mutation_datasets/protherm/protherm_2.parquet/.part-00057-d5970bbe-d13b-4285-bc18-a4cc440e23e8-c000.snappy.parquet.crc\n",
      "Ignoring path: /home/kimlab2/database_data/biological-data-warehouse/adjacency-net/notebooks/mutation_datasets/protherm/protherm_2.parquet/.part-00107-d5970bbe-d13b-4285-bc18-a4cc440e23e8-c000.snappy.parquet.crc\n",
      "Ignoring path: /home/kimlab2/database_data/biological-data-warehouse/adjacency-net/notebooks/mutation_datasets/protherm/protherm_2.parquet/.part-00193-d5970bbe-d13b-4285-bc18-a4cc440e23e8-c000.snappy.parquet.crc\n",
      "Ignoring path: /home/kimlab2/database_data/biological-data-warehouse/adjacency-net/notebooks/mutation_datasets/protherm/protherm_2.parquet/.part-00088-d5970bbe-d13b-4285-bc18-a4cc440e23e8-c000.snappy.parquet.crc\n",
      "Ignoring path: /home/kimlab2/database_data/biological-data-warehouse/adjacency-net/notebooks/mutation_datasets/protherm/protherm_2.parquet/.part-00176-d5970bbe-d13b-4285-bc18-a4cc440e23e8-c000.snappy.parquet.crc\n",
      "Ignoring path: /home/kimlab2/database_data/biological-data-warehouse/adjacency-net/notebooks/mutation_datasets/protherm/protherm_2.parquet/.part-00115-d5970bbe-d13b-4285-bc18-a4cc440e23e8-c000.snappy.parquet.crc\n",
      "Ignoring path: /home/kimlab2/database_data/biological-data-warehouse/adjacency-net/notebooks/mutation_datasets/protherm/protherm_2.parquet/.part-00068-d5970bbe-d13b-4285-bc18-a4cc440e23e8-c000.snappy.parquet.crc\n",
      "Ignoring path: /home/kimlab2/database_data/biological-data-warehouse/adjacency-net/notebooks/mutation_datasets/protherm/protherm_2.parquet/.part-00032-d5970bbe-d13b-4285-bc18-a4cc440e23e8-c000.snappy.parquet.crc\n",
      "Ignoring path: /home/kimlab2/database_data/biological-data-warehouse/adjacency-net/notebooks/mutation_datasets/protherm/protherm_2.parquet/.part-00060-d5970bbe-d13b-4285-bc18-a4cc440e23e8-c000.snappy.parquet.crc\n",
      "Ignoring path: /home/kimlab2/database_data/biological-data-warehouse/adjacency-net/notebooks/mutation_datasets/protherm/protherm_2.parquet/.part-00101-d5970bbe-d13b-4285-bc18-a4cc440e23e8-c000.snappy.parquet.crc\n",
      "Ignoring path: /home/kimlab2/database_data/biological-data-warehouse/adjacency-net/notebooks/mutation_datasets/protherm/protherm_2.parquet/.part-00077-d5970bbe-d13b-4285-bc18-a4cc440e23e8-c000.snappy.parquet.crc\n",
      "Ignoring path: /home/kimlab2/database_data/biological-data-warehouse/adjacency-net/notebooks/mutation_datasets/protherm/protherm_2.parquet/.part-00106-d5970bbe-d13b-4285-bc18-a4cc440e23e8-c000.snappy.parquet.crc\n",
      "Ignoring path: /home/kimlab2/database_data/biological-data-warehouse/adjacency-net/notebooks/mutation_datasets/protherm/protherm_2.parquet/.part-00007-d5970bbe-d13b-4285-bc18-a4cc440e23e8-c000.snappy.parquet.crc\n",
      "Ignoring path: /home/kimlab2/database_data/biological-data-warehouse/adjacency-net/notebooks/mutation_datasets/protherm/protherm_2.parquet/.part-00169-d5970bbe-d13b-4285-bc18-a4cc440e23e8-c000.snappy.parquet.crc\n",
      "Ignoring path: /home/kimlab2/database_data/biological-data-warehouse/adjacency-net/notebooks/mutation_datasets/protherm/protherm_2.parquet/.part-00071-d5970bbe-d13b-4285-bc18-a4cc440e23e8-c000.snappy.parquet.crc\n",
      "Ignoring path: /home/kimlab2/database_data/biological-data-warehouse/adjacency-net/notebooks/mutation_datasets/protherm/protherm_2.parquet/.part-00041-d5970bbe-d13b-4285-bc18-a4cc440e23e8-c000.snappy.parquet.crc\n",
      "Ignoring path: /home/kimlab2/database_data/biological-data-warehouse/adjacency-net/notebooks/mutation_datasets/protherm/protherm_2.parquet/.part-00102-d5970bbe-d13b-4285-bc18-a4cc440e23e8-c000.snappy.parquet.crc\n",
      "Ignoring path: /home/kimlab2/database_data/biological-data-warehouse/adjacency-net/notebooks/mutation_datasets/protherm/protherm_2.parquet/.part-00142-d5970bbe-d13b-4285-bc18-a4cc440e23e8-c000.snappy.parquet.crc\n",
      "Ignoring path: /home/kimlab2/database_data/biological-data-warehouse/adjacency-net/notebooks/mutation_datasets/protherm/protherm_2.parquet/.part-00185-d5970bbe-d13b-4285-bc18-a4cc440e23e8-c000.snappy.parquet.crc\n",
      "Ignoring path: /home/kimlab2/database_data/biological-data-warehouse/adjacency-net/notebooks/mutation_datasets/protherm/protherm_2.parquet/.part-00072-d5970bbe-d13b-4285-bc18-a4cc440e23e8-c000.snappy.parquet.crc\n",
      "Ignoring path: /home/kimlab2/database_data/biological-data-warehouse/adjacency-net/notebooks/mutation_datasets/protherm/protherm_2.parquet/.part-00073-d5970bbe-d13b-4285-bc18-a4cc440e23e8-c000.snappy.parquet.crc\n",
      "Ignoring path: /home/kimlab2/database_data/biological-data-warehouse/adjacency-net/notebooks/mutation_datasets/protherm/protherm_2.parquet/.part-00062-d5970bbe-d13b-4285-bc18-a4cc440e23e8-c000.snappy.parquet.crc\n",
      "Ignoring path: /home/kimlab2/database_data/biological-data-warehouse/adjacency-net/notebooks/mutation_datasets/protherm/protherm_2.parquet/.part-00144-d5970bbe-d13b-4285-bc18-a4cc440e23e8-c000.snappy.parquet.crc\n",
      "Ignoring path: /home/kimlab2/database_data/biological-data-warehouse/adjacency-net/notebooks/mutation_datasets/protherm/protherm_2.parquet/.part-00084-d5970bbe-d13b-4285-bc18-a4cc440e23e8-c000.snappy.parquet.crc\n",
      "Ignoring path: /home/kimlab2/database_data/biological-data-warehouse/adjacency-net/notebooks/mutation_datasets/protherm/protherm_2.parquet/.part-00034-d5970bbe-d13b-4285-bc18-a4cc440e23e8-c000.snappy.parquet.crc\n",
      "Ignoring path: /home/kimlab2/database_data/biological-data-warehouse/adjacency-net/notebooks/mutation_datasets/protherm/protherm_2.parquet/.part-00137-d5970bbe-d13b-4285-bc18-a4cc440e23e8-c000.snappy.parquet.crc\n",
      "Ignoring path: /home/kimlab2/database_data/biological-data-warehouse/adjacency-net/notebooks/mutation_datasets/protherm/protherm_2.parquet/.part-00030-d5970bbe-d13b-4285-bc18-a4cc440e23e8-c000.snappy.parquet.crc\n",
      "Ignoring path: /home/kimlab2/database_data/biological-data-warehouse/adjacency-net/notebooks/mutation_datasets/protherm/protherm_2.parquet/.part-00016-d5970bbe-d13b-4285-bc18-a4cc440e23e8-c000.snappy.parquet.crc\n",
      "Ignoring path: /home/kimlab2/database_data/biological-data-warehouse/adjacency-net/notebooks/mutation_datasets/protherm/protherm_2.parquet/.part-00178-d5970bbe-d13b-4285-bc18-a4cc440e23e8-c000.snappy.parquet.crc\n",
      "Ignoring path: /home/kimlab2/database_data/biological-data-warehouse/adjacency-net/notebooks/mutation_datasets/protherm/protherm_2.parquet/.part-00066-d5970bbe-d13b-4285-bc18-a4cc440e23e8-c000.snappy.parquet.crc\n",
      "Ignoring path: /home/kimlab2/database_data/biological-data-warehouse/adjacency-net/notebooks/mutation_datasets/protherm/protherm_2.parquet/.part-00192-d5970bbe-d13b-4285-bc18-a4cc440e23e8-c000.snappy.parquet.crc\n",
      "Ignoring path: /home/kimlab2/database_data/biological-data-warehouse/adjacency-net/notebooks/mutation_datasets/protherm/protherm_2.parquet/.part-00105-d5970bbe-d13b-4285-bc18-a4cc440e23e8-c000.snappy.parquet.crc\n",
      "Ignoring path: /home/kimlab2/database_data/biological-data-warehouse/adjacency-net/notebooks/mutation_datasets/protherm/protherm_2.parquet/.part-00181-d5970bbe-d13b-4285-bc18-a4cc440e23e8-c000.snappy.parquet.crc\n",
      "Ignoring path: /home/kimlab2/database_data/biological-data-warehouse/adjacency-net/notebooks/mutation_datasets/protherm/protherm_2.parquet/.part-00081-d5970bbe-d13b-4285-bc18-a4cc440e23e8-c000.snappy.parquet.crc\n",
      "Ignoring path: /home/kimlab2/database_data/biological-data-warehouse/adjacency-net/notebooks/mutation_datasets/protherm/protherm_2.parquet/.part-00156-d5970bbe-d13b-4285-bc18-a4cc440e23e8-c000.snappy.parquet.crc\n",
      "Ignoring path: /home/kimlab2/database_data/biological-data-warehouse/adjacency-net/notebooks/mutation_datasets/protherm/protherm_2.parquet/.part-00089-d5970bbe-d13b-4285-bc18-a4cc440e23e8-c000.snappy.parquet.crc\n",
      "Ignoring path: /home/kimlab2/database_data/biological-data-warehouse/adjacency-net/notebooks/mutation_datasets/protherm/protherm_2.parquet/._SUCCESS.crc\n",
      "Ignoring path: /home/kimlab2/database_data/biological-data-warehouse/adjacency-net/notebooks/mutation_datasets/protherm/protherm_2.parquet/.part-00133-d5970bbe-d13b-4285-bc18-a4cc440e23e8-c000.snappy.parquet.crc\n",
      "Ignoring path: /home/kimlab2/database_data/biological-data-warehouse/adjacency-net/notebooks/mutation_datasets/protherm/protherm_2.parquet/.part-00152-d5970bbe-d13b-4285-bc18-a4cc440e23e8-c000.snappy.parquet.crc\n",
      "Ignoring path: /home/kimlab2/database_data/biological-data-warehouse/adjacency-net/notebooks/mutation_datasets/protherm/protherm_2.parquet/.part-00154-d5970bbe-d13b-4285-bc18-a4cc440e23e8-c000.snappy.parquet.crc\n",
      "Ignoring path: /home/kimlab2/database_data/biological-data-warehouse/adjacency-net/notebooks/mutation_datasets/protherm/protherm_2.parquet/.part-00104-d5970bbe-d13b-4285-bc18-a4cc440e23e8-c000.snappy.parquet.crc\n",
      "Ignoring path: /home/kimlab2/database_data/biological-data-warehouse/adjacency-net/notebooks/mutation_datasets/protherm/protherm_2.parquet/.part-00196-d5970bbe-d13b-4285-bc18-a4cc440e23e8-c000.snappy.parquet.crc\n",
      "Ignoring path: /home/kimlab2/database_data/biological-data-warehouse/adjacency-net/notebooks/mutation_datasets/protherm/protherm_2.parquet/.part-00182-d5970bbe-d13b-4285-bc18-a4cc440e23e8-c000.snappy.parquet.crc\n",
      "Ignoring path: /home/kimlab2/database_data/biological-data-warehouse/adjacency-net/notebooks/mutation_datasets/protherm/protherm_2.parquet/.part-00151-d5970bbe-d13b-4285-bc18-a4cc440e23e8-c000.snappy.parquet.crc\n",
      "Ignoring path: /home/kimlab2/database_data/biological-data-warehouse/adjacency-net/notebooks/mutation_datasets/protherm/protherm_2.parquet/.part-00093-d5970bbe-d13b-4285-bc18-a4cc440e23e8-c000.snappy.parquet.crc\n",
      "Ignoring path: /home/kimlab2/database_data/biological-data-warehouse/adjacency-net/notebooks/mutation_datasets/protherm/protherm_2.parquet/.part-00111-d5970bbe-d13b-4285-bc18-a4cc440e23e8-c000.snappy.parquet.crc\n",
      "Ignoring path: /home/kimlab2/database_data/biological-data-warehouse/adjacency-net/notebooks/mutation_datasets/protherm/protherm_2.parquet/.part-00040-d5970bbe-d13b-4285-bc18-a4cc440e23e8-c000.snappy.parquet.crc\n",
      "Ignoring path: /home/kimlab2/database_data/biological-data-warehouse/adjacency-net/notebooks/mutation_datasets/protherm/protherm_2.parquet/.part-00180-d5970bbe-d13b-4285-bc18-a4cc440e23e8-c000.snappy.parquet.crc\n",
      "Ignoring path: /home/kimlab2/database_data/biological-data-warehouse/adjacency-net/notebooks/mutation_datasets/protherm/protherm_2.parquet/.part-00108-d5970bbe-d13b-4285-bc18-a4cc440e23e8-c000.snappy.parquet.crc\n",
      "Ignoring path: /home/kimlab2/database_data/biological-data-warehouse/adjacency-net/notebooks/mutation_datasets/protherm/protherm_2.parquet/.part-00001-d5970bbe-d13b-4285-bc18-a4cc440e23e8-c000.snappy.parquet.crc\n",
      "Ignoring path: /home/kimlab2/database_data/biological-data-warehouse/adjacency-net/notebooks/mutation_datasets/protherm/protherm_2.parquet/.part-00129-d5970bbe-d13b-4285-bc18-a4cc440e23e8-c000.snappy.parquet.crc\n",
      "Ignoring path: /home/kimlab2/database_data/biological-data-warehouse/adjacency-net/notebooks/mutation_datasets/protherm/protherm_2.parquet/.part-00135-d5970bbe-d13b-4285-bc18-a4cc440e23e8-c000.snappy.parquet.crc\n",
      "Ignoring path: /home/kimlab2/database_data/biological-data-warehouse/adjacency-net/notebooks/mutation_datasets/protherm/protherm_2.parquet/.part-00131-d5970bbe-d13b-4285-bc18-a4cc440e23e8-c000.snappy.parquet.crc\n",
      "Ignoring path: /home/kimlab2/database_data/biological-data-warehouse/adjacency-net/notebooks/mutation_datasets/protherm/protherm_2.parquet/.part-00145-d5970bbe-d13b-4285-bc18-a4cc440e23e8-c000.snappy.parquet.crc\n",
      "Ignoring path: /home/kimlab2/database_data/biological-data-warehouse/adjacency-net/notebooks/mutation_datasets/protherm/protherm_2.parquet/.part-00158-d5970bbe-d13b-4285-bc18-a4cc440e23e8-c000.snappy.parquet.crc\n",
      "Ignoring path: /home/kimlab2/database_data/biological-data-warehouse/adjacency-net/notebooks/mutation_datasets/protherm/protherm_2.parquet/.part-00191-d5970bbe-d13b-4285-bc18-a4cc440e23e8-c000.snappy.parquet.crc\n",
      "Ignoring path: /home/kimlab2/database_data/biological-data-warehouse/adjacency-net/notebooks/mutation_datasets/protherm/protherm_2.parquet/.part-00053-d5970bbe-d13b-4285-bc18-a4cc440e23e8-c000.snappy.parquet.crc\n",
      "Ignoring path: /home/kimlab2/database_data/biological-data-warehouse/adjacency-net/notebooks/mutation_datasets/protherm/protherm_2.parquet/.part-00095-d5970bbe-d13b-4285-bc18-a4cc440e23e8-c000.snappy.parquet.crc\n",
      "Ignoring path: /home/kimlab2/database_data/biological-data-warehouse/adjacency-net/notebooks/mutation_datasets/protherm/protherm_2.parquet/.part-00147-d5970bbe-d13b-4285-bc18-a4cc440e23e8-c000.snappy.parquet.crc\n",
      "Ignoring path: /home/kimlab2/database_data/biological-data-warehouse/adjacency-net/notebooks/mutation_datasets/protherm/protherm_2.parquet/.part-00098-d5970bbe-d13b-4285-bc18-a4cc440e23e8-c000.snappy.parquet.crc\n",
      "Ignoring path: /home/kimlab2/database_data/biological-data-warehouse/adjacency-net/notebooks/mutation_datasets/protherm/protherm_2.parquet/.part-00047-d5970bbe-d13b-4285-bc18-a4cc440e23e8-c000.snappy.parquet.crc\n",
      "Ignoring path: /home/kimlab2/database_data/biological-data-warehouse/adjacency-net/notebooks/mutation_datasets/protherm/protherm_2.parquet/.part-00148-d5970bbe-d13b-4285-bc18-a4cc440e23e8-c000.snappy.parquet.crc\n",
      "Ignoring path: /home/kimlab2/database_data/biological-data-warehouse/adjacency-net/notebooks/mutation_datasets/protherm/protherm_2.parquet/.part-00116-d5970bbe-d13b-4285-bc18-a4cc440e23e8-c000.snappy.parquet.crc\n",
      "Ignoring path: /home/kimlab2/database_data/biological-data-warehouse/adjacency-net/notebooks/mutation_datasets/protherm/protherm_2.parquet/.part-00110-d5970bbe-d13b-4285-bc18-a4cc440e23e8-c000.snappy.parquet.crc\n",
      "Ignoring path: /home/kimlab2/database_data/biological-data-warehouse/adjacency-net/notebooks/mutation_datasets/protherm/protherm_2.parquet/.part-00194-d5970bbe-d13b-4285-bc18-a4cc440e23e8-c000.snappy.parquet.crc\n",
      "Ignoring path: /home/kimlab2/database_data/biological-data-warehouse/adjacency-net/notebooks/mutation_datasets/protherm/protherm_2.parquet/_SUCCESS\n",
      "Ignoring path: /home/kimlab2/database_data/biological-data-warehouse/adjacency-net/notebooks/mutation_datasets/protherm/protherm_2.parquet/.part-00179-d5970bbe-d13b-4285-bc18-a4cc440e23e8-c000.snappy.parquet.crc\n",
      "Ignoring path: /home/kimlab2/database_data/biological-data-warehouse/adjacency-net/notebooks/mutation_datasets/protherm/protherm_2.parquet/.part-00075-d5970bbe-d13b-4285-bc18-a4cc440e23e8-c000.snappy.parquet.crc\n",
      "Ignoring path: /home/kimlab2/database_data/biological-data-warehouse/adjacency-net/notebooks/mutation_datasets/protherm/protherm_2.parquet/.part-00168-d5970bbe-d13b-4285-bc18-a4cc440e23e8-c000.snappy.parquet.crc\n",
      "Ignoring path: /home/kimlab2/database_data/biological-data-warehouse/adjacency-net/notebooks/mutation_datasets/protherm/protherm_2.parquet/.part-00092-d5970bbe-d13b-4285-bc18-a4cc440e23e8-c000.snappy.parquet.crc\n",
      "Ignoring path: /home/kimlab2/database_data/biological-data-warehouse/adjacency-net/notebooks/mutation_datasets/protherm/protherm_2.parquet/.part-00076-d5970bbe-d13b-4285-bc18-a4cc440e23e8-c000.snappy.parquet.crc\n",
      "Ignoring path: /home/kimlab2/database_data/biological-data-warehouse/adjacency-net/notebooks/mutation_datasets/protherm/protherm_2.parquet/.part-00055-d5970bbe-d13b-4285-bc18-a4cc440e23e8-c000.snappy.parquet.crc\n",
      "Ignoring path: /home/kimlab2/database_data/biological-data-warehouse/adjacency-net/notebooks/mutation_datasets/protherm/protherm_2.parquet/.part-00045-d5970bbe-d13b-4285-bc18-a4cc440e23e8-c000.snappy.parquet.crc\n",
      "Ignoring path: /home/kimlab2/database_data/biological-data-warehouse/adjacency-net/notebooks/mutation_datasets/protherm/protherm_2.parquet/.part-00190-d5970bbe-d13b-4285-bc18-a4cc440e23e8-c000.snappy.parquet.crc\n",
      "Ignoring path: /home/kimlab2/database_data/biological-data-warehouse/adjacency-net/notebooks/mutation_datasets/protherm/protherm_2.parquet/.part-00097-d5970bbe-d13b-4285-bc18-a4cc440e23e8-c000.snappy.parquet.crc\n",
      "Ignoring path: /home/kimlab2/database_data/biological-data-warehouse/adjacency-net/notebooks/mutation_datasets/protherm/protherm_2.parquet/.part-00080-d5970bbe-d13b-4285-bc18-a4cc440e23e8-c000.snappy.parquet.crc\n",
      "Ignoring path: /home/kimlab2/database_data/biological-data-warehouse/adjacency-net/notebooks/mutation_datasets/protherm/protherm_2.parquet/.part-00035-d5970bbe-d13b-4285-bc18-a4cc440e23e8-c000.snappy.parquet.crc\n",
      "Ignoring path: /home/kimlab2/database_data/biological-data-warehouse/adjacency-net/notebooks/mutation_datasets/protherm/protherm_2.parquet/.part-00130-d5970bbe-d13b-4285-bc18-a4cc440e23e8-c000.snappy.parquet.crc\n",
      "Ignoring path: /home/kimlab2/database_data/biological-data-warehouse/adjacency-net/notebooks/mutation_datasets/protherm/protherm_2.parquet/.part-00046-d5970bbe-d13b-4285-bc18-a4cc440e23e8-c000.snappy.parquet.crc\n",
      "Ignoring path: /home/kimlab2/database_data/biological-data-warehouse/adjacency-net/notebooks/mutation_datasets/protherm/protherm_2.parquet/.part-00004-d5970bbe-d13b-4285-bc18-a4cc440e23e8-c000.snappy.parquet.crc\n",
      "Ignoring path: /home/kimlab2/database_data/biological-data-warehouse/adjacency-net/notebooks/mutation_datasets/protherm/protherm_2.parquet/.part-00127-d5970bbe-d13b-4285-bc18-a4cc440e23e8-c000.snappy.parquet.crc\n",
      "Ignoring path: /home/kimlab2/database_data/biological-data-warehouse/adjacency-net/notebooks/mutation_datasets/protherm/protherm_2.parquet/.part-00064-d5970bbe-d13b-4285-bc18-a4cc440e23e8-c000.snappy.parquet.crc\n",
      "Ignoring path: /home/kimlab2/database_data/biological-data-warehouse/adjacency-net/notebooks/mutation_datasets/protherm/protherm_2.parquet/.part-00003-d5970bbe-d13b-4285-bc18-a4cc440e23e8-c000.snappy.parquet.crc\n",
      "Ignoring path: /home/kimlab2/database_data/biological-data-warehouse/adjacency-net/notebooks/mutation_datasets/protherm/protherm_2.parquet/.part-00002-d5970bbe-d13b-4285-bc18-a4cc440e23e8-c000.snappy.parquet.crc\n",
      "Ignoring path: /home/kimlab2/database_data/biological-data-warehouse/adjacency-net/notebooks/mutation_datasets/protherm/protherm_2.parquet/.part-00150-d5970bbe-d13b-4285-bc18-a4cc440e23e8-c000.snappy.parquet.crc\n",
      "Ignoring path: /home/kimlab2/database_data/biological-data-warehouse/adjacency-net/notebooks/mutation_datasets/protherm/protherm_2.parquet/.part-00114-d5970bbe-d13b-4285-bc18-a4cc440e23e8-c000.snappy.parquet.crc\n",
      "Ignoring path: /home/kimlab2/database_data/biological-data-warehouse/adjacency-net/notebooks/mutation_datasets/protherm/protherm_2.parquet/.part-00043-d5970bbe-d13b-4285-bc18-a4cc440e23e8-c000.snappy.parquet.crc\n",
      "Ignoring path: /home/kimlab2/database_data/biological-data-warehouse/adjacency-net/notebooks/mutation_datasets/protherm/protherm_2.parquet/.part-00005-d5970bbe-d13b-4285-bc18-a4cc440e23e8-c000.snappy.parquet.crc\n",
      "Ignoring path: /home/kimlab2/database_data/biological-data-warehouse/adjacency-net/notebooks/mutation_datasets/protherm/protherm_2.parquet/.part-00143-d5970bbe-d13b-4285-bc18-a4cc440e23e8-c000.snappy.parquet.crc\n",
      "Ignoring path: /home/kimlab2/database_data/biological-data-warehouse/adjacency-net/notebooks/mutation_datasets/protherm/protherm_2.parquet/.part-00177-d5970bbe-d13b-4285-bc18-a4cc440e23e8-c000.snappy.parquet.crc\n",
      "Ignoring path: /home/kimlab2/database_data/biological-data-warehouse/adjacency-net/notebooks/mutation_datasets/protherm/protherm_2.parquet/.part-00008-d5970bbe-d13b-4285-bc18-a4cc440e23e8-c000.snappy.parquet.crc\n",
      "Ignoring path: /home/kimlab2/database_data/biological-data-warehouse/adjacency-net/notebooks/mutation_datasets/protherm/protherm_2.parquet/.part-00165-d5970bbe-d13b-4285-bc18-a4cc440e23e8-c000.snappy.parquet.crc\n",
      "Ignoring path: /home/kimlab2/database_data/biological-data-warehouse/adjacency-net/notebooks/mutation_datasets/protherm/protherm_2.parquet/.part-00017-d5970bbe-d13b-4285-bc18-a4cc440e23e8-c000.snappy.parquet.crc\n",
      "Ignoring path: /home/kimlab2/database_data/biological-data-warehouse/adjacency-net/notebooks/mutation_datasets/protherm/protherm_2.parquet/.part-00136-d5970bbe-d13b-4285-bc18-a4cc440e23e8-c000.snappy.parquet.crc\n",
      "Ignoring path: /home/kimlab2/database_data/biological-data-warehouse/adjacency-net/notebooks/mutation_datasets/protherm/protherm_2.parquet/.part-00083-d5970bbe-d13b-4285-bc18-a4cc440e23e8-c000.snappy.parquet.crc\n",
      "Ignoring path: /home/kimlab2/database_data/biological-data-warehouse/adjacency-net/notebooks/mutation_datasets/protherm/protherm_2.parquet/.part-00090-d5970bbe-d13b-4285-bc18-a4cc440e23e8-c000.snappy.parquet.crc\n",
      "Ignoring path: /home/kimlab2/database_data/biological-data-warehouse/adjacency-net/notebooks/mutation_datasets/protherm/protherm_2.parquet/.part-00132-d5970bbe-d13b-4285-bc18-a4cc440e23e8-c000.snappy.parquet.crc\n",
      "Ignoring path: /home/kimlab2/database_data/biological-data-warehouse/adjacency-net/notebooks/mutation_datasets/protherm/protherm_2.parquet/.part-00187-d5970bbe-d13b-4285-bc18-a4cc440e23e8-c000.snappy.parquet.crc\n",
      "Ignoring path: /home/kimlab2/database_data/biological-data-warehouse/adjacency-net/notebooks/mutation_datasets/protherm/protherm_2.parquet/.part-00044-d5970bbe-d13b-4285-bc18-a4cc440e23e8-c000.snappy.parquet.crc\n",
      "Ignoring path: /home/kimlab2/database_data/biological-data-warehouse/adjacency-net/notebooks/mutation_datasets/protherm/protherm_2.parquet/.part-00197-d5970bbe-d13b-4285-bc18-a4cc440e23e8-c000.snappy.parquet.crc\n",
      "Ignoring path: /home/kimlab2/database_data/biological-data-warehouse/adjacency-net/notebooks/mutation_datasets/protherm/protherm_2.parquet/.part-00039-d5970bbe-d13b-4285-bc18-a4cc440e23e8-c000.snappy.parquet.crc\n",
      "Ignoring path: /home/kimlab2/database_data/biological-data-warehouse/adjacency-net/notebooks/mutation_datasets/protherm/protherm_2.parquet/.part-00033-d5970bbe-d13b-4285-bc18-a4cc440e23e8-c000.snappy.parquet.crc\n",
      "Ignoring path: /home/kimlab2/database_data/biological-data-warehouse/adjacency-net/notebooks/mutation_datasets/protherm/protherm_2.parquet/.part-00056-d5970bbe-d13b-4285-bc18-a4cc440e23e8-c000.snappy.parquet.crc\n",
      "Ignoring path: /home/kimlab2/database_data/biological-data-warehouse/adjacency-net/notebooks/mutation_datasets/protherm/protherm_2.parquet/.part-00067-d5970bbe-d13b-4285-bc18-a4cc440e23e8-c000.snappy.parquet.crc\n",
      "Ignoring path: /home/kimlab2/database_data/biological-data-warehouse/adjacency-net/notebooks/mutation_datasets/protherm/protherm_2.parquet/.part-00128-d5970bbe-d13b-4285-bc18-a4cc440e23e8-c000.snappy.parquet.crc\n",
      "Ignoring path: /home/kimlab2/database_data/biological-data-warehouse/adjacency-net/notebooks/mutation_datasets/protherm/protherm_2.parquet/.part-00019-d5970bbe-d13b-4285-bc18-a4cc440e23e8-c000.snappy.parquet.crc\n",
      "Ignoring path: /home/kimlab2/database_data/biological-data-warehouse/adjacency-net/notebooks/mutation_datasets/protherm/protherm_2.parquet/.part-00010-d5970bbe-d13b-4285-bc18-a4cc440e23e8-c000.snappy.parquet.crc\n",
      "Ignoring path: /home/kimlab2/database_data/biological-data-warehouse/adjacency-net/notebooks/mutation_datasets/protherm/protherm_2.parquet/.part-00118-d5970bbe-d13b-4285-bc18-a4cc440e23e8-c000.snappy.parquet.crc\n",
      "Ignoring path: /home/kimlab2/database_data/biological-data-warehouse/adjacency-net/notebooks/mutation_datasets/protherm/protherm_2.parquet/.part-00171-d5970bbe-d13b-4285-bc18-a4cc440e23e8-c000.snappy.parquet.crc\n",
      "Ignoring path: /home/kimlab2/database_data/biological-data-warehouse/adjacency-net/notebooks/mutation_datasets/protherm/protherm_2.parquet/.part-00096-d5970bbe-d13b-4285-bc18-a4cc440e23e8-c000.snappy.parquet.crc\n",
      "Ignoring path: /home/kimlab2/database_data/biological-data-warehouse/adjacency-net/notebooks/mutation_datasets/protherm/protherm_2.parquet/.part-00162-d5970bbe-d13b-4285-bc18-a4cc440e23e8-c000.snappy.parquet.crc\n",
      "Ignoring path: /home/kimlab2/database_data/biological-data-warehouse/adjacency-net/notebooks/mutation_datasets/protherm/protherm_2.parquet/.part-00024-d5970bbe-d13b-4285-bc18-a4cc440e23e8-c000.snappy.parquet.crc\n",
      "Ignoring path: /home/kimlab2/database_data/biological-data-warehouse/adjacency-net/notebooks/mutation_datasets/protherm/protherm_2.parquet/.part-00138-d5970bbe-d13b-4285-bc18-a4cc440e23e8-c000.snappy.parquet.crc\n",
      "Ignoring path: /home/kimlab2/database_data/biological-data-warehouse/adjacency-net/notebooks/mutation_datasets/protherm/protherm_2.parquet/.part-00074-d5970bbe-d13b-4285-bc18-a4cc440e23e8-c000.snappy.parquet.crc\n",
      "Ignoring path: /home/kimlab2/database_data/biological-data-warehouse/adjacency-net/notebooks/mutation_datasets/protherm/protherm_2.parquet/.part-00063-d5970bbe-d13b-4285-bc18-a4cc440e23e8-c000.snappy.parquet.crc\n",
      "Ignoring path: /home/kimlab2/database_data/biological-data-warehouse/adjacency-net/notebooks/mutation_datasets/protherm/protherm_2.parquet/.part-00198-d5970bbe-d13b-4285-bc18-a4cc440e23e8-c000.snappy.parquet.crc\n",
      "Ignoring path: /home/kimlab2/database_data/biological-data-warehouse/adjacency-net/notebooks/mutation_datasets/protherm/protherm_2.parquet/.part-00059-d5970bbe-d13b-4285-bc18-a4cc440e23e8-c000.snappy.parquet.crc\n",
      "Ignoring path: /home/kimlab2/database_data/biological-data-warehouse/adjacency-net/notebooks/mutation_datasets/protherm/protherm_2.parquet/.part-00028-d5970bbe-d13b-4285-bc18-a4cc440e23e8-c000.snappy.parquet.crc\n",
      "Ignoring path: /home/kimlab2/database_data/biological-data-warehouse/adjacency-net/notebooks/mutation_datasets/protherm/protherm_2.parquet/.part-00146-d5970bbe-d13b-4285-bc18-a4cc440e23e8-c000.snappy.parquet.crc\n",
      "Ignoring path: /home/kimlab2/database_data/biological-data-warehouse/adjacency-net/notebooks/mutation_datasets/protherm/protherm_2.parquet/.part-00011-d5970bbe-d13b-4285-bc18-a4cc440e23e8-c000.snappy.parquet.crc\n",
      "Ignoring path: /home/kimlab2/database_data/biological-data-warehouse/adjacency-net/notebooks/mutation_datasets/protherm/protherm_2.parquet/.part-00160-d5970bbe-d13b-4285-bc18-a4cc440e23e8-c000.snappy.parquet.crc\n",
      "Ignoring path: /home/kimlab2/database_data/biological-data-warehouse/adjacency-net/notebooks/mutation_datasets/protherm/protherm_2.parquet/.part-00164-d5970bbe-d13b-4285-bc18-a4cc440e23e8-c000.snappy.parquet.crc\n",
      "Ignoring path: /home/kimlab2/database_data/biological-data-warehouse/adjacency-net/notebooks/mutation_datasets/protherm/protherm_2.parquet/.part-00000-d5970bbe-d13b-4285-bc18-a4cc440e23e8-c000.snappy.parquet.crc\n",
      "Ignoring path: /home/kimlab2/database_data/biological-data-warehouse/adjacency-net/notebooks/mutation_datasets/protherm/protherm_2.parquet/.part-00124-d5970bbe-d13b-4285-bc18-a4cc440e23e8-c000.snappy.parquet.crc\n",
      "Ignoring path: /home/kimlab2/database_data/biological-data-warehouse/adjacency-net/notebooks/mutation_datasets/protherm/protherm_2.parquet/.part-00172-d5970bbe-d13b-4285-bc18-a4cc440e23e8-c000.snappy.parquet.crc\n",
      "Ignoring path: /home/kimlab2/database_data/biological-data-warehouse/adjacency-net/notebooks/mutation_datasets/protherm/protherm_2.parquet/.part-00086-d5970bbe-d13b-4285-bc18-a4cc440e23e8-c000.snappy.parquet.crc\n",
      "Ignoring path: /home/kimlab2/database_data/biological-data-warehouse/adjacency-net/notebooks/mutation_datasets/protherm/protherm_2.parquet/.part-00091-d5970bbe-d13b-4285-bc18-a4cc440e23e8-c000.snappy.parquet.crc\n",
      "Ignoring path: /home/kimlab2/database_data/biological-data-warehouse/adjacency-net/notebooks/mutation_datasets/protherm/protherm_2.parquet/.part-00061-d5970bbe-d13b-4285-bc18-a4cc440e23e8-c000.snappy.parquet.crc\n",
      "Ignoring path: /home/kimlab2/database_data/biological-data-warehouse/adjacency-net/notebooks/mutation_datasets/protherm/protherm_2.parquet/.part-00175-d5970bbe-d13b-4285-bc18-a4cc440e23e8-c000.snappy.parquet.crc\n",
      "Ignoring path: /home/kimlab2/database_data/biological-data-warehouse/adjacency-net/notebooks/mutation_datasets/protherm/protherm_2.parquet/.part-00123-d5970bbe-d13b-4285-bc18-a4cc440e23e8-c000.snappy.parquet.crc\n",
      "Ignoring path: /home/kimlab2/database_data/biological-data-warehouse/adjacency-net/notebooks/mutation_datasets/protherm/protherm_2.parquet/.part-00139-d5970bbe-d13b-4285-bc18-a4cc440e23e8-c000.snappy.parquet.crc\n",
      "Ignoring path: /home/kimlab2/database_data/biological-data-warehouse/adjacency-net/notebooks/mutation_datasets/protherm/protherm_2.parquet/.part-00029-d5970bbe-d13b-4285-bc18-a4cc440e23e8-c000.snappy.parquet.crc\n",
      "Ignoring path: /home/kimlab2/database_data/biological-data-warehouse/adjacency-net/notebooks/mutation_datasets/protherm/protherm_2.parquet/.part-00188-d5970bbe-d13b-4285-bc18-a4cc440e23e8-c000.snappy.parquet.crc\n",
      "Ignoring path: /home/kimlab2/database_data/biological-data-warehouse/adjacency-net/notebooks/mutation_datasets/protherm/protherm_2.parquet/.part-00078-d5970bbe-d13b-4285-bc18-a4cc440e23e8-c000.snappy.parquet.crc\n",
      "Ignoring path: /home/kimlab2/database_data/biological-data-warehouse/adjacency-net/notebooks/mutation_datasets/protherm/protherm_2.parquet/.part-00027-d5970bbe-d13b-4285-bc18-a4cc440e23e8-c000.snappy.parquet.crc\n",
      "Ignoring path: /home/kimlab2/database_data/biological-data-warehouse/adjacency-net/notebooks/mutation_datasets/protherm/protherm_2.parquet/.part-00052-d5970bbe-d13b-4285-bc18-a4cc440e23e8-c000.snappy.parquet.crc\n",
      "Ignoring path: /home/kimlab2/database_data/biological-data-warehouse/adjacency-net/notebooks/mutation_datasets/protherm/protherm_2.parquet/.part-00109-d5970bbe-d13b-4285-bc18-a4cc440e23e8-c000.snappy.parquet.crc\n",
      "Ignoring path: /home/kimlab2/database_data/biological-data-warehouse/adjacency-net/notebooks/mutation_datasets/protherm/protherm_2.parquet/.part-00020-d5970bbe-d13b-4285-bc18-a4cc440e23e8-c000.snappy.parquet.crc\n",
      "Ignoring path: /home/kimlab2/database_data/biological-data-warehouse/adjacency-net/notebooks/mutation_datasets/protherm/protherm_2.parquet/.part-00121-d5970bbe-d13b-4285-bc18-a4cc440e23e8-c000.snappy.parquet.crc\n",
      "Ignoring path: /home/kimlab2/database_data/biological-data-warehouse/adjacency-net/notebooks/mutation_datasets/protherm/protherm_2.parquet/.part-00085-d5970bbe-d13b-4285-bc18-a4cc440e23e8-c000.snappy.parquet.crc\n",
      "Ignoring path: /home/kimlab2/database_data/biological-data-warehouse/adjacency-net/notebooks/mutation_datasets/protherm/protherm_2.parquet/.part-00199-d5970bbe-d13b-4285-bc18-a4cc440e23e8-c000.snappy.parquet.crc\n",
      "Ignoring path: /home/kimlab2/database_data/biological-data-warehouse/adjacency-net/notebooks/mutation_datasets/protherm/protherm_2.parquet/.part-00163-d5970bbe-d13b-4285-bc18-a4cc440e23e8-c000.snappy.parquet.crc\n",
      "Ignoring path: /home/kimlab2/database_data/biological-data-warehouse/adjacency-net/notebooks/mutation_datasets/protherm/protherm_2.parquet/.part-00155-d5970bbe-d13b-4285-bc18-a4cc440e23e8-c000.snappy.parquet.crc\n",
      "Ignoring path: /home/kimlab2/database_data/biological-data-warehouse/adjacency-net/notebooks/mutation_datasets/protherm/protherm_2.parquet/.part-00054-d5970bbe-d13b-4285-bc18-a4cc440e23e8-c000.snappy.parquet.crc\n",
      "Ignoring path: /home/kimlab2/database_data/biological-data-warehouse/adjacency-net/notebooks/mutation_datasets/protherm/protherm_2.parquet/.part-00050-d5970bbe-d13b-4285-bc18-a4cc440e23e8-c000.snappy.parquet.crc\n",
      "Ignoring path: /home/kimlab2/database_data/biological-data-warehouse/adjacency-net/notebooks/mutation_datasets/protherm/protherm_2.parquet/.part-00125-d5970bbe-d13b-4285-bc18-a4cc440e23e8-c000.snappy.parquet.crc\n",
      "Ignoring path: /home/kimlab2/database_data/biological-data-warehouse/adjacency-net/notebooks/mutation_datasets/protherm/protherm_2.parquet/.part-00117-d5970bbe-d13b-4285-bc18-a4cc440e23e8-c000.snappy.parquet.crc\n",
      "Ignoring path: /home/kimlab2/database_data/biological-data-warehouse/adjacency-net/notebooks/mutation_datasets/protherm/protherm_2.parquet/.part-00079-d5970bbe-d13b-4285-bc18-a4cc440e23e8-c000.snappy.parquet.crc\n",
      "Ignoring path: /home/kimlab2/database_data/biological-data-warehouse/adjacency-net/notebooks/mutation_datasets/protherm/protherm_2.parquet/.part-00058-d5970bbe-d13b-4285-bc18-a4cc440e23e8-c000.snappy.parquet.crc\n",
      "Ignoring path: /home/kimlab2/database_data/biological-data-warehouse/adjacency-net/notebooks/mutation_datasets/protherm/protherm_2.parquet/.part-00006-d5970bbe-d13b-4285-bc18-a4cc440e23e8-c000.snappy.parquet.crc\n",
      "Ignoring path: /home/kimlab2/database_data/biological-data-warehouse/adjacency-net/notebooks/mutation_datasets/protherm/protherm_2.parquet/.part-00157-d5970bbe-d13b-4285-bc18-a4cc440e23e8-c000.snappy.parquet.crc\n",
      "Ignoring path: /home/kimlab2/database_data/biological-data-warehouse/adjacency-net/notebooks/mutation_datasets/protherm/protherm_2.parquet/.part-00025-d5970bbe-d13b-4285-bc18-a4cc440e23e8-c000.snappy.parquet.crc\n",
      "Ignoring path: /home/kimlab2/database_data/biological-data-warehouse/adjacency-net/notebooks/mutation_datasets/protherm/protherm_2.parquet/.part-00149-d5970bbe-d13b-4285-bc18-a4cc440e23e8-c000.snappy.parquet.crc\n",
      "Ignoring path: /home/kimlab2/database_data/biological-data-warehouse/adjacency-net/notebooks/mutation_datasets/protherm/protherm_2.parquet/.part-00134-d5970bbe-d13b-4285-bc18-a4cc440e23e8-c000.snappy.parquet.crc\n",
      "Ignoring path: /home/kimlab2/database_data/biological-data-warehouse/adjacency-net/notebooks/mutation_datasets/protherm/protherm_2.parquet/.part-00099-d5970bbe-d13b-4285-bc18-a4cc440e23e8-c000.snappy.parquet.crc\n",
      "Ignoring path: /home/kimlab2/database_data/biological-data-warehouse/adjacency-net/notebooks/mutation_datasets/protherm/protherm_2.parquet/.part-00122-d5970bbe-d13b-4285-bc18-a4cc440e23e8-c000.snappy.parquet.crc\n",
      "Ignoring path: /home/kimlab2/database_data/biological-data-warehouse/adjacency-net/notebooks/mutation_datasets/protherm/protherm_2.parquet/.part-00183-d5970bbe-d13b-4285-bc18-a4cc440e23e8-c000.snappy.parquet.crc\n",
      "Ignoring path: /home/kimlab2/database_data/biological-data-warehouse/adjacency-net/notebooks/mutation_datasets/protherm/protherm_2.parquet/.part-00087-d5970bbe-d13b-4285-bc18-a4cc440e23e8-c000.snappy.parquet.crc\n",
      "Ignoring path: /home/kimlab2/database_data/biological-data-warehouse/adjacency-net/notebooks/mutation_datasets/protherm/protherm_2.parquet/.part-00094-d5970bbe-d13b-4285-bc18-a4cc440e23e8-c000.snappy.parquet.crc\n",
      "Ignoring path: /home/kimlab2/database_data/biological-data-warehouse/adjacency-net/notebooks/mutation_datasets/protherm/protherm_2.parquet/.part-00100-d5970bbe-d13b-4285-bc18-a4cc440e23e8-c000.snappy.parquet.crc\n",
      "Ignoring path: /home/kimlab2/database_data/biological-data-warehouse/adjacency-net/notebooks/mutation_datasets/protherm/protherm_2.parquet/.part-00103-d5970bbe-d13b-4285-bc18-a4cc440e23e8-c000.snappy.parquet.crc\n",
      "Ignoring path: /home/kimlab2/database_data/biological-data-warehouse/adjacency-net/notebooks/mutation_datasets/protherm/protherm_2.parquet/.part-00018-d5970bbe-d13b-4285-bc18-a4cc440e23e8-c000.snappy.parquet.crc\n",
      "Ignoring path: /home/kimlab2/database_data/biological-data-warehouse/adjacency-net/notebooks/mutation_datasets/protherm/protherm_2.parquet/.part-00184-d5970bbe-d13b-4285-bc18-a4cc440e23e8-c000.snappy.parquet.crc\n",
      "Ignoring path: /home/kimlab2/database_data/biological-data-warehouse/adjacency-net/notebooks/mutation_datasets/protherm/protherm_2.parquet/.part-00161-d5970bbe-d13b-4285-bc18-a4cc440e23e8-c000.snappy.parquet.crc\n",
      "Ignoring path: /home/kimlab2/database_data/biological-data-warehouse/adjacency-net/notebooks/mutation_datasets/protherm/protherm_2.parquet/.part-00042-d5970bbe-d13b-4285-bc18-a4cc440e23e8-c000.snappy.parquet.crc\n",
      "Ignoring path: /home/kimlab2/database_data/biological-data-warehouse/adjacency-net/notebooks/mutation_datasets/protherm/protherm_2.parquet/.part-00119-d5970bbe-d13b-4285-bc18-a4cc440e23e8-c000.snappy.parquet.crc\n",
      "Ignoring path: /home/kimlab2/database_data/biological-data-warehouse/adjacency-net/notebooks/mutation_datasets/protherm/protherm_2.parquet/.part-00166-d5970bbe-d13b-4285-bc18-a4cc440e23e8-c000.snappy.parquet.crc\n",
      "Ignoring path: /home/kimlab2/database_data/biological-data-warehouse/adjacency-net/notebooks/mutation_datasets/protherm/protherm_2.parquet/.part-00038-d5970bbe-d13b-4285-bc18-a4cc440e23e8-c000.snappy.parquet.crc\n",
      "Ignoring path: /home/kimlab2/database_data/biological-data-warehouse/adjacency-net/notebooks/mutation_datasets/protherm/protherm_2.parquet/.part-00065-d5970bbe-d13b-4285-bc18-a4cc440e23e8-c000.snappy.parquet.crc\n",
      "Ignoring path: /home/kimlab2/database_data/biological-data-warehouse/adjacency-net/notebooks/mutation_datasets/protherm/protherm_2.parquet/.part-00112-d5970bbe-d13b-4285-bc18-a4cc440e23e8-c000.snappy.parquet.crc\n",
      "Ignoring path: /home/kimlab2/database_data/biological-data-warehouse/adjacency-net/notebooks/mutation_datasets/protherm/protherm_2.parquet/.part-00159-d5970bbe-d13b-4285-bc18-a4cc440e23e8-c000.snappy.parquet.crc\n",
      "Ignoring path: /home/kimlab2/database_data/biological-data-warehouse/adjacency-net/notebooks/mutation_datasets/protherm/protherm_2.parquet/.part-00013-d5970bbe-d13b-4285-bc18-a4cc440e23e8-c000.snappy.parquet.crc\n",
      "Ignoring path: /home/kimlab2/database_data/biological-data-warehouse/adjacency-net/notebooks/mutation_datasets/protherm/protherm_2.parquet/.part-00120-d5970bbe-d13b-4285-bc18-a4cc440e23e8-c000.snappy.parquet.crc\n",
      "Ignoring path: /home/kimlab2/database_data/biological-data-warehouse/adjacency-net/notebooks/mutation_datasets/protherm/protherm_2.parquet/.part-00015-d5970bbe-d13b-4285-bc18-a4cc440e23e8-c000.snappy.parquet.crc\n",
      "Ignoring path: /home/kimlab2/database_data/biological-data-warehouse/adjacency-net/notebooks/mutation_datasets/protherm/protherm_2.parquet/.part-00141-d5970bbe-d13b-4285-bc18-a4cc440e23e8-c000.snappy.parquet.crc\n",
      "Ignoring path: /home/kimlab2/database_data/biological-data-warehouse/adjacency-net/notebooks/mutation_datasets/protherm/protherm_2.parquet/.part-00012-d5970bbe-d13b-4285-bc18-a4cc440e23e8-c000.snappy.parquet.crc\n",
      "Ignoring path: /home/kimlab2/database_data/biological-data-warehouse/adjacency-net/notebooks/mutation_datasets/protherm/protherm_2.parquet/.part-00023-d5970bbe-d13b-4285-bc18-a4cc440e23e8-c000.snappy.parquet.crc\n",
      "Ignoring path: /home/kimlab2/database_data/biological-data-warehouse/adjacency-net/notebooks/mutation_datasets/protherm/protherm_2.parquet/.part-00170-d5970bbe-d13b-4285-bc18-a4cc440e23e8-c000.snappy.parquet.crc\n",
      "Ignoring path: /home/kimlab2/database_data/biological-data-warehouse/adjacency-net/notebooks/mutation_datasets/protherm/protherm_2.parquet/.part-00031-d5970bbe-d13b-4285-bc18-a4cc440e23e8-c000.snappy.parquet.crc\n",
      "Ignoring path: /home/kimlab2/database_data/biological-data-warehouse/adjacency-net/notebooks/mutation_datasets/protherm/protherm_2.parquet/.part-00153-d5970bbe-d13b-4285-bc18-a4cc440e23e8-c000.snappy.parquet.crc\n",
      "Ignoring path: /home/kimlab2/database_data/biological-data-warehouse/adjacency-net/notebooks/mutation_datasets/protherm/protherm_2.parquet/.part-00069-d5970bbe-d13b-4285-bc18-a4cc440e23e8-c000.snappy.parquet.crc\n",
      "Ignoring path: /home/kimlab2/database_data/biological-data-warehouse/adjacency-net/notebooks/mutation_datasets/protherm/protherm_2.parquet/.part-00140-d5970bbe-d13b-4285-bc18-a4cc440e23e8-c000.snappy.parquet.crc\n",
      "Ignoring path: /home/kimlab2/database_data/biological-data-warehouse/adjacency-net/notebooks/mutation_datasets/protherm/protherm_2.parquet/.part-00022-d5970bbe-d13b-4285-bc18-a4cc440e23e8-c000.snappy.parquet.crc\n",
      "Ignoring path: /home/kimlab2/database_data/biological-data-warehouse/adjacency-net/notebooks/mutation_datasets/protherm/protherm_2.parquet/.part-00195-d5970bbe-d13b-4285-bc18-a4cc440e23e8-c000.snappy.parquet.crc\n"
     ]
    }
   ],
   "source": [
    "protherm_df = pq.ParquetDataset(PROTHERM_DIR.joinpath('protherm_2.parquet').as_posix()).read().to_pandas()"
   ]
  },
  {
   "cell_type": "code",
   "execution_count": 54,
   "metadata": {},
   "outputs": [
    {
     "data": {
      "text/html": [
       "<div>\n",
       "<style scoped>\n",
       "    .dataframe tbody tr th:only-of-type {\n",
       "        vertical-align: middle;\n",
       "    }\n",
       "\n",
       "    .dataframe tbody tr th {\n",
       "        vertical-align: top;\n",
       "    }\n",
       "\n",
       "    .dataframe thead th {\n",
       "        text-align: right;\n",
       "    }\n",
       "</style>\n",
       "<table border=\"1\" class=\"dataframe\">\n",
       "  <thead>\n",
       "    <tr style=\"text-align: right;\">\n",
       "      <th></th>\n",
       "      <th>uniprot_id</th>\n",
       "      <th>uniprot_mutation</th>\n",
       "      <th>ddg_exp</th>\n",
       "      <th>uniparc_id</th>\n",
       "      <th>sequence</th>\n",
       "      <th>database_id</th>\n",
       "      <th>domain_start</th>\n",
       "      <th>domain_end</th>\n",
       "      <th>domain_index</th>\n",
       "      <th>structure_id</th>\n",
       "      <th>model_id</th>\n",
       "      <th>chain_id</th>\n",
       "      <th>pc_identity</th>\n",
       "      <th>alignment_length</th>\n",
       "      <th>mismatches</th>\n",
       "      <th>gap_opens</th>\n",
       "      <th>q_start</th>\n",
       "      <th>q_end</th>\n",
       "      <th>s_start</th>\n",
       "      <th>s_end</th>\n",
       "      <th>qseq</th>\n",
       "      <th>sseq</th>\n",
       "      <th>residue_idx_1_corrected</th>\n",
       "      <th>residue_idx_2_corrected</th>\n",
       "    </tr>\n",
       "  </thead>\n",
       "  <tbody>\n",
       "    <tr>\n",
       "      <th>0</th>\n",
       "      <td>P08921</td>\n",
       "      <td>V100A</td>\n",
       "      <td>3.01</td>\n",
       "      <td>UPI0000127348</td>\n",
       "      <td>RDSGTVWGALGHGINLNIPNFQMTDDIDEVRWERGSTLVAEFKRKMKPFLKSGAFEILANGDLKIKNLTRDDSGTYNVTVYSTNGTRILDKALDLRILE</td>\n",
       "      <td>G3DSA:2.60.40.10</td>\n",
       "      <td>23</td>\n",
       "      <td>121</td>\n",
       "      <td>378750125</td>\n",
       "      <td>1HNG</td>\n",
       "      <td>0.0</td>\n",
       "      <td>A</td>\n",
       "      <td>98.98</td>\n",
       "      <td>98.0</td>\n",
       "      <td>1.0</td>\n",
       "      <td>0.0</td>\n",
       "      <td>2.0</td>\n",
       "      <td>99.0</td>\n",
       "      <td>1.0</td>\n",
       "      <td>98.0</td>\n",
       "      <td>DSGTVWGALGHGINLNIPNFQMTDDIDEVRWERGSTLVAEFKRKMKPFLKSGAFEILANGDLKIKNLTRDDSGTYNVTVYSTNGTRILDKALDLRILE</td>\n",
       "      <td>DSGTVWGALGHGINLNIPNFQMTDDIDEVRWERGSTLVAEFKRKMKPFLKSGAFEILANGDLKIKNLTRDDSGTYNVTVYSTNGTRILNKALDLRILE</td>\n",
       "      <td>[0.0, 0.0, 0.0, 0.0, 0.0, 1.0, 1.0, 1.0, 1.0, 1.0, 2.0, 2.0, 2.0, 2.0, 2.0, 2.0, 2.0, 3.0, 3.0, 3.0, 3.0, 3.0, 3.0, ...</td>\n",
       "      <td>[1.0, 2.0, 88.0, 89.0, 90.0, 0.0, 2.0, 3.0, 90.0, 91.0, 0.0, 1.0, 3.0, 4.0, 90.0, 91.0, 92.0, 1.0, 2.0, 4.0, 5.0, 92...</td>\n",
       "    </tr>\n",
       "    <tr>\n",
       "      <th>1</th>\n",
       "      <td>P08921</td>\n",
       "      <td>V100A</td>\n",
       "      <td>3.01</td>\n",
       "      <td>UPI0000127348</td>\n",
       "      <td>MVSKPMIYWECSNATLTCEVLEGTDVELKLYQGKEHLRSLRQKTMSYQWTNLRAPFKCKAVNRVSQESEMEVVNCPE</td>\n",
       "      <td>G3DSA:2.60.40.10</td>\n",
       "      <td>122</td>\n",
       "      <td>198</td>\n",
       "      <td>378750126</td>\n",
       "      <td>1CCZ</td>\n",
       "      <td>0.0</td>\n",
       "      <td>A</td>\n",
       "      <td>100.00</td>\n",
       "      <td>77.0</td>\n",
       "      <td>0.0</td>\n",
       "      <td>0.0</td>\n",
       "      <td>1.0</td>\n",
       "      <td>77.0</td>\n",
       "      <td>95.0</td>\n",
       "      <td>171.0</td>\n",
       "      <td>MVSKPMIYWECSNATLTCEVLEGTDVELKLYQGKEHLRSLRQKTMSYQWTNLRAPFKCKAVNRVSQESEMEVVNCPE</td>\n",
       "      <td>MVSKPMIYWECSNATLTCEVLEGTDVELKLYQGKEHLRSLRQKTMSYQWTNLRAPFKCKAVNRVSQESEMEVVNCPE</td>\n",
       "      <td>[0.0, 0.0, 0.0, 0.0, 0.0, 0.0, 0.0, 1.0, 1.0, 1.0, 1.0, 1.0, 1.0, 1.0, 1.0, 1.0, 1.0, 1.0, 1.0, 1.0, 2.0, 2.0, 2.0, ...</td>\n",
       "      <td>[1.0, 2.0, 21.0, 22.0, 61.0, 63.0, 64.0, 0.0, 2.0, 3.0, 19.0, 21.0, 22.0, 25.0, 59.0, 60.0, 61.0, 64.0, 65.0, 66.0, ...</td>\n",
       "    </tr>\n",
       "  </tbody>\n",
       "</table>\n",
       "</div>"
      ],
      "text/plain": [
       "  uniprot_id uniprot_mutation  ddg_exp     uniparc_id                                                                                             sequence       database_id  domain_start  domain_end  domain_index structure_id  model_id chain_id  pc_identity  alignment_length  mismatches  gap_opens  q_start  q_end  s_start  s_end                                                                                                qseq                                                                                                sseq                                                                                                  residue_idx_1_corrected                                                                                                  residue_idx_2_corrected\n",
       "0     P08921            V100A     3.01  UPI0000127348  RDSGTVWGALGHGINLNIPNFQMTDDIDEVRWERGSTLVAEFKRKMKPFLKSGAFEILANGDLKIKNLTRDDSGTYNVTVYSTNGTRILDKALDLRILE  G3DSA:2.60.40.10            23         121     378750125         1HNG       0.0        A        98.98              98.0         1.0        0.0      2.0   99.0      1.0   98.0  DSGTVWGALGHGINLNIPNFQMTDDIDEVRWERGSTLVAEFKRKMKPFLKSGAFEILANGDLKIKNLTRDDSGTYNVTVYSTNGTRILDKALDLRILE  DSGTVWGALGHGINLNIPNFQMTDDIDEVRWERGSTLVAEFKRKMKPFLKSGAFEILANGDLKIKNLTRDDSGTYNVTVYSTNGTRILNKALDLRILE  [0.0, 0.0, 0.0, 0.0, 0.0, 1.0, 1.0, 1.0, 1.0, 1.0, 2.0, 2.0, 2.0, 2.0, 2.0, 2.0, 2.0, 3.0, 3.0, 3.0, 3.0, 3.0, 3.0, ...  [1.0, 2.0, 88.0, 89.0, 90.0, 0.0, 2.0, 3.0, 90.0, 91.0, 0.0, 1.0, 3.0, 4.0, 90.0, 91.0, 92.0, 1.0, 2.0, 4.0, 5.0, 92...\n",
       "1     P08921            V100A     3.01  UPI0000127348                        MVSKPMIYWECSNATLTCEVLEGTDVELKLYQGKEHLRSLRQKTMSYQWTNLRAPFKCKAVNRVSQESEMEVVNCPE  G3DSA:2.60.40.10           122         198     378750126         1CCZ       0.0        A       100.00              77.0         0.0        0.0      1.0   77.0     95.0  171.0                       MVSKPMIYWECSNATLTCEVLEGTDVELKLYQGKEHLRSLRQKTMSYQWTNLRAPFKCKAVNRVSQESEMEVVNCPE                       MVSKPMIYWECSNATLTCEVLEGTDVELKLYQGKEHLRSLRQKTMSYQWTNLRAPFKCKAVNRVSQESEMEVVNCPE  [0.0, 0.0, 0.0, 0.0, 0.0, 0.0, 0.0, 1.0, 1.0, 1.0, 1.0, 1.0, 1.0, 1.0, 1.0, 1.0, 1.0, 1.0, 1.0, 1.0, 2.0, 2.0, 2.0, ...  [1.0, 2.0, 21.0, 22.0, 61.0, 63.0, 64.0, 0.0, 2.0, 3.0, 19.0, 21.0, 22.0, 25.0, 59.0, 60.0, 61.0, 64.0, 65.0, 66.0, ..."
      ]
     },
     "metadata": {},
     "output_type": "display_data"
    },
    {
     "name": "stdout",
     "output_type": "stream",
     "text": [
      "416\n"
     ]
    }
   ],
   "source": [
    "display(protherm_df.head(2))\n",
    "print(protherm_df.shape[0])"
   ]
  },
  {
   "cell_type": "code",
   "execution_count": 55,
   "metadata": {},
   "outputs": [
    {
     "data": {
      "text/plain": [
       "<module 'pagnn.utils' from '/home/kimlab1/strokach/working/pagnn/pagnn/utils/__init__.py'>"
      ]
     },
     "execution_count": 55,
     "metadata": {},
     "output_type": "execute_result"
    }
   ],
   "source": [
    "importlib.reload(pagnn.utils)"
   ]
  },
  {
   "cell_type": "code",
   "execution_count": 56,
   "metadata": {},
   "outputs": [
    {
     "name": "stderr",
     "output_type": "stream",
     "text": [
      "Removing 10 rows containing mutations that are outside domains.\n",
      "Removing 0 rows containing mutations do not match sequence.\n",
      "Removing 0 rows containing mutations that are outside alignment with structure.\n"
     ]
    }
   ],
   "source": [
    "protherm_df = pagnn.filter_mismatch_mutations(protherm_df)"
   ]
  },
  {
   "cell_type": "code",
   "execution_count": 57,
   "metadata": {},
   "outputs": [
    {
     "data": {
      "text/plain": [
       "406"
      ]
     },
     "execution_count": 57,
     "metadata": {},
     "output_type": "execute_result"
    }
   ],
   "source": [
    "protherm_df.shape[0]"
   ]
  },
  {
   "cell_type": "code",
   "execution_count": 58,
   "metadata": {},
   "outputs": [
    {
     "data": {
      "text/plain": [
       "(array([   1.,   21.,  187.,  114.,   60.,   17.,    4.,    0.,    1.,    1.]),\n",
       " array([ -4.   ,  -2.377,  -0.754,   0.869,   2.492,   4.115,   5.738,\n",
       "          7.361,   8.984,  10.607,  12.23 ]),\n",
       " <a list of 10 Patch objects>)"
      ]
     },
     "execution_count": 58,
     "metadata": {},
     "output_type": "execute_result"
    },
    {
     "data": {
      "image/png": "[encoded data removed]",
      "text/plain": [
       "<matplotlib.figure.Figure at 0x7fe5528a3588>"
      ]
     },
     "metadata": {},
     "output_type": "display_data"
    }
   ],
   "source": [
    "plt.hist(protherm_df['ddg_exp'])"
   ]
  },
  {
   "cell_type": "code",
   "execution_count": 59,
   "metadata": {
    "collapsed": true,
    "jupyter": {
     "outputs_hidden": true
    }
   },
   "outputs": [],
   "source": [
    "pq.write_table(\n",
    "    pa.Table.from_pandas(protherm_df, preserve_index=False),\n",
    "    NOTEBOOK_PATH.joinpath('protherm_validaton_dataset.parquet').as_posix(),\n",
    "    version='2.0',\n",
    "    flavor='spark',\n",
    ")"
   ]
  },
  {
   "cell_type": "code",
   "execution_count": 60,
   "metadata": {},
   "outputs": [
    {
     "data": {
      "text/plain": [
       "PosixPath('/home/kimlab2/database_data/biological-data-warehouse/adjacency-net/notebooks/mutation_datasets/protherm')"
      ]
     },
     "execution_count": 60,
     "metadata": {},
     "output_type": "execute_result"
    }
   ],
   "source": [
    "PROTHERM_DIR"
   ]
  },
  {
   "cell_type": "markdown",
   "metadata": {},
   "source": [
    "### Humsavar dataset"
   ]
  },
  {
   "cell_type": "code",
   "execution_count": 61,
   "metadata": {
    "collapsed": true,
    "jupyter": {
     "outputs_hidden": true
    }
   },
   "outputs": [],
   "source": [
    "humsavar_file = (\n",
    "    op.join(os.environ['DATABIN_DIR'], 'mutation_sets', 'v0.1.0', 'humsavar.parquet')\n",
    ")"
   ]
  },
  {
   "cell_type": "markdown",
   "metadata": {},
   "source": [
    "#### Examine file"
   ]
  },
  {
   "cell_type": "code",
   "execution_count": 62,
   "metadata": {
    "collapsed": true,
    "jupyter": {
     "outputs_hidden": true
    }
   },
   "outputs": [],
   "source": [
    "humsavar = pq.read_table(humsavar_file).to_pandas().set_index('__index_level_0__')"
   ]
  },
  {
   "cell_type": "code",
   "execution_count": 63,
   "metadata": {},
   "outputs": [
    {
     "data": {
      "text/html": [
       "<div>\n",
       "<style scoped>\n",
       "    .dataframe tbody tr th:only-of-type {\n",
       "        vertical-align: middle;\n",
       "    }\n",
       "\n",
       "    .dataframe tbody tr th {\n",
       "        vertical-align: top;\n",
       "    }\n",
       "\n",
       "    .dataframe thead th {\n",
       "        text-align: right;\n",
       "    }\n",
       "</style>\n",
       "<table border=\"1\" class=\"dataframe\">\n",
       "  <thead>\n",
       "    <tr style=\"text-align: right;\">\n",
       "      <th></th>\n",
       "      <th>hgnc_id</th>\n",
       "      <th>uniprot_id</th>\n",
       "      <th>swissvar_id</th>\n",
       "      <th>aa_change</th>\n",
       "      <th>type_of_variant</th>\n",
       "      <th>dbsnp_id</th>\n",
       "      <th>disease</th>\n",
       "      <th>uniprot_mutation</th>\n",
       "    </tr>\n",
       "    <tr>\n",
       "      <th>__index_level_0__</th>\n",
       "      <th></th>\n",
       "      <th></th>\n",
       "      <th></th>\n",
       "      <th></th>\n",
       "      <th></th>\n",
       "      <th></th>\n",
       "      <th></th>\n",
       "      <th></th>\n",
       "    </tr>\n",
       "  </thead>\n",
       "  <tbody>\n",
       "    <tr>\n",
       "      <th>0</th>\n",
       "      <td>A1BG</td>\n",
       "      <td>P04217</td>\n",
       "      <td>VAR_018369</td>\n",
       "      <td>p.His52Arg</td>\n",
       "      <td>Polymorphism</td>\n",
       "      <td>rs893184</td>\n",
       "      <td>None</td>\n",
       "      <td>H52R</td>\n",
       "    </tr>\n",
       "    <tr>\n",
       "      <th>1</th>\n",
       "      <td>A1BG</td>\n",
       "      <td>P04217</td>\n",
       "      <td>VAR_018370</td>\n",
       "      <td>p.His395Arg</td>\n",
       "      <td>Polymorphism</td>\n",
       "      <td>rs2241788</td>\n",
       "      <td>None</td>\n",
       "      <td>H395R</td>\n",
       "    </tr>\n",
       "    <tr>\n",
       "      <th>2</th>\n",
       "      <td>A1CF</td>\n",
       "      <td>Q9NQ94</td>\n",
       "      <td>VAR_052201</td>\n",
       "      <td>p.Val555Met</td>\n",
       "      <td>Polymorphism</td>\n",
       "      <td>rs9073</td>\n",
       "      <td>None</td>\n",
       "      <td>V555M</td>\n",
       "    </tr>\n",
       "    <tr>\n",
       "      <th>3</th>\n",
       "      <td>A1CF</td>\n",
       "      <td>Q9NQ94</td>\n",
       "      <td>VAR_059821</td>\n",
       "      <td>p.Ala558Ser</td>\n",
       "      <td>Polymorphism</td>\n",
       "      <td>rs11817448</td>\n",
       "      <td>None</td>\n",
       "      <td>A558S</td>\n",
       "    </tr>\n",
       "    <tr>\n",
       "      <th>4</th>\n",
       "      <td>A2ML1</td>\n",
       "      <td>A8K2U0</td>\n",
       "      <td>VAR_055463</td>\n",
       "      <td>p.Gly207Arg</td>\n",
       "      <td>Polymorphism</td>\n",
       "      <td>rs11047499</td>\n",
       "      <td>None</td>\n",
       "      <td>G207R</td>\n",
       "    </tr>\n",
       "  </tbody>\n",
       "</table>\n",
       "</div>"
      ],
      "text/plain": [
       "                  hgnc_id uniprot_id swissvar_id    aa_change type_of_variant    dbsnp_id disease uniprot_mutation\n",
       "__index_level_0__                                                                                                 \n",
       "0                    A1BG     P04217  VAR_018369   p.His52Arg    Polymorphism    rs893184    None             H52R\n",
       "1                    A1BG     P04217  VAR_018370  p.His395Arg    Polymorphism   rs2241788    None            H395R\n",
       "2                    A1CF     Q9NQ94  VAR_052201  p.Val555Met    Polymorphism      rs9073    None            V555M\n",
       "3                    A1CF     Q9NQ94  VAR_059821  p.Ala558Ser    Polymorphism  rs11817448    None            A558S\n",
       "4                   A2ML1     A8K2U0  VAR_055463  p.Gly207Arg    Polymorphism  rs11047499    None            G207R"
      ]
     },
     "metadata": {},
     "output_type": "display_data"
    },
    {
     "name": "stdout",
     "output_type": "stream",
     "text": [
      "(77598, 8)\n"
     ]
    }
   ],
   "source": [
    "display(humsavar.head())\n",
    "print(humsavar.shape)"
   ]
  },
  {
   "cell_type": "code",
   "execution_count": 64,
   "metadata": {
    "collapsed": true,
    "jupyter": {
     "outputs_hidden": true
    }
   },
   "outputs": [],
   "source": [
    "humsavar = humsavar.dropna(subset=['uniprot_id', 'uniprot_mutation', 'type_of_variant'])"
   ]
  },
  {
   "cell_type": "code",
   "execution_count": 65,
   "metadata": {},
   "outputs": [
    {
     "data": {
      "text/plain": [
       "(77598, 8)"
      ]
     },
     "execution_count": 65,
     "metadata": {},
     "output_type": "execute_result"
    }
   ],
   "source": [
    "humsavar.shape"
   ]
  },
  {
   "cell_type": "markdown",
   "metadata": {},
   "source": [
    "#### Spark query"
   ]
  },
  {
   "cell_type": "code",
   "execution_count": 66,
   "metadata": {
    "collapsed": true,
    "jupyter": {
     "outputs_hidden": true
    }
   },
   "outputs": [],
   "source": [
    "ds = spark.sql(f\"\"\"\\\n",
    "SELECT\n",
    "    ds.uniprot_id, ds.uniprot_mutation, ds.type_of_variant,\n",
    "    \n",
    "    xref.uniparc_id,\n",
    "    \n",
    "    ud.sequence, ud.database_id, ud.domain_start, ud.domain_end, ud.__index_level_0__ domain_index,\n",
    "       \n",
    "    ud.structure_id, ud.model_id, ud.chain_id,\n",
    "    ud.pc_identity, ud.alignment_length, ud.mismatches, ud.gap_opens, \n",
    "    ud.q_start, ud.q_end, ud.s_start, ud.s_end,\n",
    "    \n",
    "    ud.qseq, ud.sseq,\n",
    "    ud.residue_idx_1_corrected, ud.residue_idx_2_corrected\n",
    "\n",
    "FROM parquet.`{humsavar_file}` ds\n",
    "JOIN parquet.`{uniparc_xref_file}` xref ON (uniprot_id = db_id)\n",
    "JOIN parquet.`{ADJACENCY_MATRIX_PATH}` ud USING (uniparc_id)\n",
    "WHERE (xref.db_type = 'UniProtKB/Swiss-Prot' OR xref.db_type = 'UniProtKB/TrEMBL')\n",
    "AND xref.active = 'Y'\n",
    "\"\"\")"
   ]
  },
  {
   "cell_type": "code",
   "execution_count": 67,
   "metadata": {
    "collapsed": true,
    "jupyter": {
     "outputs_hidden": true
    }
   },
   "outputs": [],
   "source": [
    "# ds.limit(10).toPandas()"
   ]
  },
  {
   "cell_type": "code",
   "execution_count": 68,
   "metadata": {
    "collapsed": true,
    "jupyter": {
     "outputs_hidden": true
    }
   },
   "outputs": [],
   "source": [
    "ds.write.parquet(\n",
    "    HUMSAVAR_DIR.joinpath('humsavar_2.parquet').as_posix(),\n",
    "    mode='overwrite',\n",
    ")"
   ]
  },
  {
   "cell_type": "markdown",
   "metadata": {},
   "source": [
    "#### Remove mutations outside domains"
   ]
  },
  {
   "cell_type": "code",
   "execution_count": 69,
   "metadata": {},
   "outputs": [
    {
     "name": "stdout",
     "output_type": "stream",
     "text": [
      "Ignoring path: /home/kimlab2/database_data/biological-data-warehouse/adjacency-net/notebooks/mutation_datasets/humsavar/humsavar_2.parquet/.part-00021-b99f5846-fccc-4c91-86cf-fbf851d7335e-c000.snappy.parquet.crc\n",
      "Ignoring path: /home/kimlab2/database_data/biological-data-warehouse/adjacency-net/notebooks/mutation_datasets/humsavar/humsavar_2.parquet/.part-00135-b99f5846-fccc-4c91-86cf-fbf851d7335e-c000.snappy.parquet.crc\n",
      "Ignoring path: /home/kimlab2/database_data/biological-data-warehouse/adjacency-net/notebooks/mutation_datasets/humsavar/humsavar_2.parquet/.part-00082-b99f5846-fccc-4c91-86cf-fbf851d7335e-c000.snappy.parquet.crc\n",
      "Ignoring path: /home/kimlab2/database_data/biological-data-warehouse/adjacency-net/notebooks/mutation_datasets/humsavar/humsavar_2.parquet/.part-00109-b99f5846-fccc-4c91-86cf-fbf851d7335e-c000.snappy.parquet.crc\n",
      "Ignoring path: /home/kimlab2/database_data/biological-data-warehouse/adjacency-net/notebooks/mutation_datasets/humsavar/humsavar_2.parquet/.part-00034-b99f5846-fccc-4c91-86cf-fbf851d7335e-c000.snappy.parquet.crc\n",
      "Ignoring path: /home/kimlab2/database_data/biological-data-warehouse/adjacency-net/notebooks/mutation_datasets/humsavar/humsavar_2.parquet/.part-00084-b99f5846-fccc-4c91-86cf-fbf851d7335e-c000.snappy.parquet.crc\n",
      "Ignoring path: /home/kimlab2/database_data/biological-data-warehouse/adjacency-net/notebooks/mutation_datasets/humsavar/humsavar_2.parquet/.part-00165-b99f5846-fccc-4c91-86cf-fbf851d7335e-c000.snappy.parquet.crc\n",
      "Ignoring path: /home/kimlab2/database_data/biological-data-warehouse/adjacency-net/notebooks/mutation_datasets/humsavar/humsavar_2.parquet/.part-00138-b99f5846-fccc-4c91-86cf-fbf851d7335e-c000.snappy.parquet.crc\n",
      "Ignoring path: /home/kimlab2/database_data/biological-data-warehouse/adjacency-net/notebooks/mutation_datasets/humsavar/humsavar_2.parquet/.part-00055-b99f5846-fccc-4c91-86cf-fbf851d7335e-c000.snappy.parquet.crc\n",
      "Ignoring path: /home/kimlab2/database_data/biological-data-warehouse/adjacency-net/notebooks/mutation_datasets/humsavar/humsavar_2.parquet/.part-00115-b99f5846-fccc-4c91-86cf-fbf851d7335e-c000.snappy.parquet.crc\n",
      "Ignoring path: /home/kimlab2/database_data/biological-data-warehouse/adjacency-net/notebooks/mutation_datasets/humsavar/humsavar_2.parquet/.part-00062-b99f5846-fccc-4c91-86cf-fbf851d7335e-c000.snappy.parquet.crc\n",
      "Ignoring path: /home/kimlab2/database_data/biological-data-warehouse/adjacency-net/notebooks/mutation_datasets/humsavar/humsavar_2.parquet/.part-00119-b99f5846-fccc-4c91-86cf-fbf851d7335e-c000.snappy.parquet.crc\n",
      "Ignoring path: /home/kimlab2/database_data/biological-data-warehouse/adjacency-net/notebooks/mutation_datasets/humsavar/humsavar_2.parquet/.part-00072-b99f5846-fccc-4c91-86cf-fbf851d7335e-c000.snappy.parquet.crc\n",
      "Ignoring path: /home/kimlab2/database_data/biological-data-warehouse/adjacency-net/notebooks/mutation_datasets/humsavar/humsavar_2.parquet/.part-00020-b99f5846-fccc-4c91-86cf-fbf851d7335e-c000.snappy.parquet.crc\n",
      "Ignoring path: /home/kimlab2/database_data/biological-data-warehouse/adjacency-net/notebooks/mutation_datasets/humsavar/humsavar_2.parquet/.part-00113-b99f5846-fccc-4c91-86cf-fbf851d7335e-c000.snappy.parquet.crc\n",
      "Ignoring path: /home/kimlab2/database_data/biological-data-warehouse/adjacency-net/notebooks/mutation_datasets/humsavar/humsavar_2.parquet/.part-00090-b99f5846-fccc-4c91-86cf-fbf851d7335e-c000.snappy.parquet.crc\n",
      "Ignoring path: /home/kimlab2/database_data/biological-data-warehouse/adjacency-net/notebooks/mutation_datasets/humsavar/humsavar_2.parquet/.part-00185-b99f5846-fccc-4c91-86cf-fbf851d7335e-c000.snappy.parquet.crc\n",
      "Ignoring path: /home/kimlab2/database_data/biological-data-warehouse/adjacency-net/notebooks/mutation_datasets/humsavar/humsavar_2.parquet/.part-00066-b99f5846-fccc-4c91-86cf-fbf851d7335e-c000.snappy.parquet.crc\n",
      "Ignoring path: /home/kimlab2/database_data/biological-data-warehouse/adjacency-net/notebooks/mutation_datasets/humsavar/humsavar_2.parquet/.part-00141-b99f5846-fccc-4c91-86cf-fbf851d7335e-c000.snappy.parquet.crc\n",
      "Ignoring path: /home/kimlab2/database_data/biological-data-warehouse/adjacency-net/notebooks/mutation_datasets/humsavar/humsavar_2.parquet/.part-00075-b99f5846-fccc-4c91-86cf-fbf851d7335e-c000.snappy.parquet.crc\n",
      "Ignoring path: /home/kimlab2/database_data/biological-data-warehouse/adjacency-net/notebooks/mutation_datasets/humsavar/humsavar_2.parquet/.part-00161-b99f5846-fccc-4c91-86cf-fbf851d7335e-c000.snappy.parquet.crc\n",
      "Ignoring path: /home/kimlab2/database_data/biological-data-warehouse/adjacency-net/notebooks/mutation_datasets/humsavar/humsavar_2.parquet/.part-00160-b99f5846-fccc-4c91-86cf-fbf851d7335e-c000.snappy.parquet.crc\n",
      "Ignoring path: /home/kimlab2/database_data/biological-data-warehouse/adjacency-net/notebooks/mutation_datasets/humsavar/humsavar_2.parquet/.part-00068-b99f5846-fccc-4c91-86cf-fbf851d7335e-c000.snappy.parquet.crc\n",
      "Ignoring path: /home/kimlab2/database_data/biological-data-warehouse/adjacency-net/notebooks/mutation_datasets/humsavar/humsavar_2.parquet/.part-00098-b99f5846-fccc-4c91-86cf-fbf851d7335e-c000.snappy.parquet.crc\n",
      "Ignoring path: /home/kimlab2/database_data/biological-data-warehouse/adjacency-net/notebooks/mutation_datasets/humsavar/humsavar_2.parquet/.part-00050-b99f5846-fccc-4c91-86cf-fbf851d7335e-c000.snappy.parquet.crc\n",
      "Ignoring path: /home/kimlab2/database_data/biological-data-warehouse/adjacency-net/notebooks/mutation_datasets/humsavar/humsavar_2.parquet/.part-00071-b99f5846-fccc-4c91-86cf-fbf851d7335e-c000.snappy.parquet.crc\n",
      "Ignoring path: /home/kimlab2/database_data/biological-data-warehouse/adjacency-net/notebooks/mutation_datasets/humsavar/humsavar_2.parquet/.part-00177-b99f5846-fccc-4c91-86cf-fbf851d7335e-c000.snappy.parquet.crc\n",
      "Ignoring path: /home/kimlab2/database_data/biological-data-warehouse/adjacency-net/notebooks/mutation_datasets/humsavar/humsavar_2.parquet/.part-00140-b99f5846-fccc-4c91-86cf-fbf851d7335e-c000.snappy.parquet.crc\n",
      "Ignoring path: /home/kimlab2/database_data/biological-data-warehouse/adjacency-net/notebooks/mutation_datasets/humsavar/humsavar_2.parquet/.part-00189-b99f5846-fccc-4c91-86cf-fbf851d7335e-c000.snappy.parquet.crc\n",
      "Ignoring path: /home/kimlab2/database_data/biological-data-warehouse/adjacency-net/notebooks/mutation_datasets/humsavar/humsavar_2.parquet/.part-00128-b99f5846-fccc-4c91-86cf-fbf851d7335e-c000.snappy.parquet.crc\n",
      "Ignoring path: /home/kimlab2/database_data/biological-data-warehouse/adjacency-net/notebooks/mutation_datasets/humsavar/humsavar_2.parquet/.part-00067-b99f5846-fccc-4c91-86cf-fbf851d7335e-c000.snappy.parquet.crc\n",
      "Ignoring path: /home/kimlab2/database_data/biological-data-warehouse/adjacency-net/notebooks/mutation_datasets/humsavar/humsavar_2.parquet/.part-00091-b99f5846-fccc-4c91-86cf-fbf851d7335e-c000.snappy.parquet.crc\n",
      "Ignoring path: /home/kimlab2/database_data/biological-data-warehouse/adjacency-net/notebooks/mutation_datasets/humsavar/humsavar_2.parquet/.part-00024-b99f5846-fccc-4c91-86cf-fbf851d7335e-c000.snappy.parquet.crc\n",
      "Ignoring path: /home/kimlab2/database_data/biological-data-warehouse/adjacency-net/notebooks/mutation_datasets/humsavar/humsavar_2.parquet/.part-00003-b99f5846-fccc-4c91-86cf-fbf851d7335e-c000.snappy.parquet.crc\n",
      "Ignoring path: /home/kimlab2/database_data/biological-data-warehouse/adjacency-net/notebooks/mutation_datasets/humsavar/humsavar_2.parquet/.part-00132-b99f5846-fccc-4c91-86cf-fbf851d7335e-c000.snappy.parquet.crc\n",
      "Ignoring path: /home/kimlab2/database_data/biological-data-warehouse/adjacency-net/notebooks/mutation_datasets/humsavar/humsavar_2.parquet/.part-00040-b99f5846-fccc-4c91-86cf-fbf851d7335e-c000.snappy.parquet.crc\n",
      "Ignoring path: /home/kimlab2/database_data/biological-data-warehouse/adjacency-net/notebooks/mutation_datasets/humsavar/humsavar_2.parquet/.part-00131-b99f5846-fccc-4c91-86cf-fbf851d7335e-c000.snappy.parquet.crc\n",
      "Ignoring path: /home/kimlab2/database_data/biological-data-warehouse/adjacency-net/notebooks/mutation_datasets/humsavar/humsavar_2.parquet/.part-00168-b99f5846-fccc-4c91-86cf-fbf851d7335e-c000.snappy.parquet.crc\n",
      "Ignoring path: /home/kimlab2/database_data/biological-data-warehouse/adjacency-net/notebooks/mutation_datasets/humsavar/humsavar_2.parquet/.part-00087-b99f5846-fccc-4c91-86cf-fbf851d7335e-c000.snappy.parquet.crc\n",
      "Ignoring path: /home/kimlab2/database_data/biological-data-warehouse/adjacency-net/notebooks/mutation_datasets/humsavar/humsavar_2.parquet/.part-00056-b99f5846-fccc-4c91-86cf-fbf851d7335e-c000.snappy.parquet.crc\n",
      "Ignoring path: /home/kimlab2/database_data/biological-data-warehouse/adjacency-net/notebooks/mutation_datasets/humsavar/humsavar_2.parquet/.part-00164-b99f5846-fccc-4c91-86cf-fbf851d7335e-c000.snappy.parquet.crc\n",
      "Ignoring path: /home/kimlab2/database_data/biological-data-warehouse/adjacency-net/notebooks/mutation_datasets/humsavar/humsavar_2.parquet/.part-00000-b99f5846-fccc-4c91-86cf-fbf851d7335e-c000.snappy.parquet.crc\n",
      "Ignoring path: /home/kimlab2/database_data/biological-data-warehouse/adjacency-net/notebooks/mutation_datasets/humsavar/humsavar_2.parquet/.part-00030-b99f5846-fccc-4c91-86cf-fbf851d7335e-c000.snappy.parquet.crc\n",
      "Ignoring path: /home/kimlab2/database_data/biological-data-warehouse/adjacency-net/notebooks/mutation_datasets/humsavar/humsavar_2.parquet/.part-00027-b99f5846-fccc-4c91-86cf-fbf851d7335e-c000.snappy.parquet.crc\n",
      "Ignoring path: /home/kimlab2/database_data/biological-data-warehouse/adjacency-net/notebooks/mutation_datasets/humsavar/humsavar_2.parquet/.part-00038-b99f5846-fccc-4c91-86cf-fbf851d7335e-c000.snappy.parquet.crc\n",
      "Ignoring path: /home/kimlab2/database_data/biological-data-warehouse/adjacency-net/notebooks/mutation_datasets/humsavar/humsavar_2.parquet/.part-00095-b99f5846-fccc-4c91-86cf-fbf851d7335e-c000.snappy.parquet.crc\n",
      "Ignoring path: /home/kimlab2/database_data/biological-data-warehouse/adjacency-net/notebooks/mutation_datasets/humsavar/humsavar_2.parquet/.part-00002-b99f5846-fccc-4c91-86cf-fbf851d7335e-c000.snappy.parquet.crc\n",
      "Ignoring path: /home/kimlab2/database_data/biological-data-warehouse/adjacency-net/notebooks/mutation_datasets/humsavar/humsavar_2.parquet/.part-00194-b99f5846-fccc-4c91-86cf-fbf851d7335e-c000.snappy.parquet.crc\n",
      "Ignoring path: /home/kimlab2/database_data/biological-data-warehouse/adjacency-net/notebooks/mutation_datasets/humsavar/humsavar_2.parquet/._SUCCESS.crc\n",
      "Ignoring path: /home/kimlab2/database_data/biological-data-warehouse/adjacency-net/notebooks/mutation_datasets/humsavar/humsavar_2.parquet/.part-00083-b99f5846-fccc-4c91-86cf-fbf851d7335e-c000.snappy.parquet.crc\n",
      "Ignoring path: /home/kimlab2/database_data/biological-data-warehouse/adjacency-net/notebooks/mutation_datasets/humsavar/humsavar_2.parquet/.part-00176-b99f5846-fccc-4c91-86cf-fbf851d7335e-c000.snappy.parquet.crc\n",
      "Ignoring path: /home/kimlab2/database_data/biological-data-warehouse/adjacency-net/notebooks/mutation_datasets/humsavar/humsavar_2.parquet/.part-00107-b99f5846-fccc-4c91-86cf-fbf851d7335e-c000.snappy.parquet.crc\n",
      "Ignoring path: /home/kimlab2/database_data/biological-data-warehouse/adjacency-net/notebooks/mutation_datasets/humsavar/humsavar_2.parquet/.part-00183-b99f5846-fccc-4c91-86cf-fbf851d7335e-c000.snappy.parquet.crc\n",
      "Ignoring path: /home/kimlab2/database_data/biological-data-warehouse/adjacency-net/notebooks/mutation_datasets/humsavar/humsavar_2.parquet/.part-00092-b99f5846-fccc-4c91-86cf-fbf851d7335e-c000.snappy.parquet.crc\n",
      "Ignoring path: /home/kimlab2/database_data/biological-data-warehouse/adjacency-net/notebooks/mutation_datasets/humsavar/humsavar_2.parquet/.part-00011-b99f5846-fccc-4c91-86cf-fbf851d7335e-c000.snappy.parquet.crc\n",
      "Ignoring path: /home/kimlab2/database_data/biological-data-warehouse/adjacency-net/notebooks/mutation_datasets/humsavar/humsavar_2.parquet/.part-00104-b99f5846-fccc-4c91-86cf-fbf851d7335e-c000.snappy.parquet.crc\n",
      "Ignoring path: /home/kimlab2/database_data/biological-data-warehouse/adjacency-net/notebooks/mutation_datasets/humsavar/humsavar_2.parquet/.part-00122-b99f5846-fccc-4c91-86cf-fbf851d7335e-c000.snappy.parquet.crc\n",
      "Ignoring path: /home/kimlab2/database_data/biological-data-warehouse/adjacency-net/notebooks/mutation_datasets/humsavar/humsavar_2.parquet/.part-00171-b99f5846-fccc-4c91-86cf-fbf851d7335e-c000.snappy.parquet.crc\n",
      "Ignoring path: /home/kimlab2/database_data/biological-data-warehouse/adjacency-net/notebooks/mutation_datasets/humsavar/humsavar_2.parquet/.part-00010-b99f5846-fccc-4c91-86cf-fbf851d7335e-c000.snappy.parquet.crc\n",
      "Ignoring path: /home/kimlab2/database_data/biological-data-warehouse/adjacency-net/notebooks/mutation_datasets/humsavar/humsavar_2.parquet/.part-00070-b99f5846-fccc-4c91-86cf-fbf851d7335e-c000.snappy.parquet.crc\n",
      "Ignoring path: /home/kimlab2/database_data/biological-data-warehouse/adjacency-net/notebooks/mutation_datasets/humsavar/humsavar_2.parquet/.part-00127-b99f5846-fccc-4c91-86cf-fbf851d7335e-c000.snappy.parquet.crc\n",
      "Ignoring path: /home/kimlab2/database_data/biological-data-warehouse/adjacency-net/notebooks/mutation_datasets/humsavar/humsavar_2.parquet/.part-00014-b99f5846-fccc-4c91-86cf-fbf851d7335e-c000.snappy.parquet.crc\n",
      "Ignoring path: /home/kimlab2/database_data/biological-data-warehouse/adjacency-net/notebooks/mutation_datasets/humsavar/humsavar_2.parquet/.part-00001-b99f5846-fccc-4c91-86cf-fbf851d7335e-c000.snappy.parquet.crc\n",
      "Ignoring path: /home/kimlab2/database_data/biological-data-warehouse/adjacency-net/notebooks/mutation_datasets/humsavar/humsavar_2.parquet/.part-00077-b99f5846-fccc-4c91-86cf-fbf851d7335e-c000.snappy.parquet.crc\n",
      "Ignoring path: /home/kimlab2/database_data/biological-data-warehouse/adjacency-net/notebooks/mutation_datasets/humsavar/humsavar_2.parquet/.part-00163-b99f5846-fccc-4c91-86cf-fbf851d7335e-c000.snappy.parquet.crc\n",
      "Ignoring path: /home/kimlab2/database_data/biological-data-warehouse/adjacency-net/notebooks/mutation_datasets/humsavar/humsavar_2.parquet/.part-00096-b99f5846-fccc-4c91-86cf-fbf851d7335e-c000.snappy.parquet.crc\n",
      "Ignoring path: /home/kimlab2/database_data/biological-data-warehouse/adjacency-net/notebooks/mutation_datasets/humsavar/humsavar_2.parquet/.part-00065-b99f5846-fccc-4c91-86cf-fbf851d7335e-c000.snappy.parquet.crc\n",
      "Ignoring path: /home/kimlab2/database_data/biological-data-warehouse/adjacency-net/notebooks/mutation_datasets/humsavar/humsavar_2.parquet/.part-00182-b99f5846-fccc-4c91-86cf-fbf851d7335e-c000.snappy.parquet.crc\n",
      "Ignoring path: /home/kimlab2/database_data/biological-data-warehouse/adjacency-net/notebooks/mutation_datasets/humsavar/humsavar_2.parquet/.part-00057-b99f5846-fccc-4c91-86cf-fbf851d7335e-c000.snappy.parquet.crc\n",
      "Ignoring path: /home/kimlab2/database_data/biological-data-warehouse/adjacency-net/notebooks/mutation_datasets/humsavar/humsavar_2.parquet/.part-00150-b99f5846-fccc-4c91-86cf-fbf851d7335e-c000.snappy.parquet.crc\n",
      "Ignoring path: /home/kimlab2/database_data/biological-data-warehouse/adjacency-net/notebooks/mutation_datasets/humsavar/humsavar_2.parquet/.part-00097-b99f5846-fccc-4c91-86cf-fbf851d7335e-c000.snappy.parquet.crc\n",
      "Ignoring path: /home/kimlab2/database_data/biological-data-warehouse/adjacency-net/notebooks/mutation_datasets/humsavar/humsavar_2.parquet/.part-00064-b99f5846-fccc-4c91-86cf-fbf851d7335e-c000.snappy.parquet.crc\n",
      "Ignoring path: /home/kimlab2/database_data/biological-data-warehouse/adjacency-net/notebooks/mutation_datasets/humsavar/humsavar_2.parquet/.part-00196-b99f5846-fccc-4c91-86cf-fbf851d7335e-c000.snappy.parquet.crc\n",
      "Ignoring path: /home/kimlab2/database_data/biological-data-warehouse/adjacency-net/notebooks/mutation_datasets/humsavar/humsavar_2.parquet/.part-00105-b99f5846-fccc-4c91-86cf-fbf851d7335e-c000.snappy.parquet.crc\n",
      "Ignoring path: /home/kimlab2/database_data/biological-data-warehouse/adjacency-net/notebooks/mutation_datasets/humsavar/humsavar_2.parquet/.part-00153-b99f5846-fccc-4c91-86cf-fbf851d7335e-c000.snappy.parquet.crc\n",
      "Ignoring path: /home/kimlab2/database_data/biological-data-warehouse/adjacency-net/notebooks/mutation_datasets/humsavar/humsavar_2.parquet/.part-00120-b99f5846-fccc-4c91-86cf-fbf851d7335e-c000.snappy.parquet.crc\n",
      "Ignoring path: /home/kimlab2/database_data/biological-data-warehouse/adjacency-net/notebooks/mutation_datasets/humsavar/humsavar_2.parquet/.part-00103-b99f5846-fccc-4c91-86cf-fbf851d7335e-c000.snappy.parquet.crc\n",
      "Ignoring path: /home/kimlab2/database_data/biological-data-warehouse/adjacency-net/notebooks/mutation_datasets/humsavar/humsavar_2.parquet/.part-00126-b99f5846-fccc-4c91-86cf-fbf851d7335e-c000.snappy.parquet.crc\n",
      "Ignoring path: /home/kimlab2/database_data/biological-data-warehouse/adjacency-net/notebooks/mutation_datasets/humsavar/humsavar_2.parquet/.part-00053-b99f5846-fccc-4c91-86cf-fbf851d7335e-c000.snappy.parquet.crc\n",
      "Ignoring path: /home/kimlab2/database_data/biological-data-warehouse/adjacency-net/notebooks/mutation_datasets/humsavar/humsavar_2.parquet/_SUCCESS\n",
      "Ignoring path: /home/kimlab2/database_data/biological-data-warehouse/adjacency-net/notebooks/mutation_datasets/humsavar/humsavar_2.parquet/.part-00052-b99f5846-fccc-4c91-86cf-fbf851d7335e-c000.snappy.parquet.crc\n",
      "Ignoring path: /home/kimlab2/database_data/biological-data-warehouse/adjacency-net/notebooks/mutation_datasets/humsavar/humsavar_2.parquet/.part-00046-b99f5846-fccc-4c91-86cf-fbf851d7335e-c000.snappy.parquet.crc\n",
      "Ignoring path: /home/kimlab2/database_data/biological-data-warehouse/adjacency-net/notebooks/mutation_datasets/humsavar/humsavar_2.parquet/.part-00157-b99f5846-fccc-4c91-86cf-fbf851d7335e-c000.snappy.parquet.crc\n",
      "Ignoring path: /home/kimlab2/database_data/biological-data-warehouse/adjacency-net/notebooks/mutation_datasets/humsavar/humsavar_2.parquet/.part-00058-b99f5846-fccc-4c91-86cf-fbf851d7335e-c000.snappy.parquet.crc\n",
      "Ignoring path: /home/kimlab2/database_data/biological-data-warehouse/adjacency-net/notebooks/mutation_datasets/humsavar/humsavar_2.parquet/.part-00130-b99f5846-fccc-4c91-86cf-fbf851d7335e-c000.snappy.parquet.crc\n",
      "Ignoring path: /home/kimlab2/database_data/biological-data-warehouse/adjacency-net/notebooks/mutation_datasets/humsavar/humsavar_2.parquet/.part-00009-b99f5846-fccc-4c91-86cf-fbf851d7335e-c000.snappy.parquet.crc\n",
      "Ignoring path: /home/kimlab2/database_data/biological-data-warehouse/adjacency-net/notebooks/mutation_datasets/humsavar/humsavar_2.parquet/.part-00159-b99f5846-fccc-4c91-86cf-fbf851d7335e-c000.snappy.parquet.crc\n",
      "Ignoring path: /home/kimlab2/database_data/biological-data-warehouse/adjacency-net/notebooks/mutation_datasets/humsavar/humsavar_2.parquet/.part-00045-b99f5846-fccc-4c91-86cf-fbf851d7335e-c000.snappy.parquet.crc\n",
      "Ignoring path: /home/kimlab2/database_data/biological-data-warehouse/adjacency-net/notebooks/mutation_datasets/humsavar/humsavar_2.parquet/.part-00154-b99f5846-fccc-4c91-86cf-fbf851d7335e-c000.snappy.parquet.crc\n",
      "Ignoring path: /home/kimlab2/database_data/biological-data-warehouse/adjacency-net/notebooks/mutation_datasets/humsavar/humsavar_2.parquet/.part-00012-b99f5846-fccc-4c91-86cf-fbf851d7335e-c000.snappy.parquet.crc\n",
      "Ignoring path: /home/kimlab2/database_data/biological-data-warehouse/adjacency-net/notebooks/mutation_datasets/humsavar/humsavar_2.parquet/.part-00110-b99f5846-fccc-4c91-86cf-fbf851d7335e-c000.snappy.parquet.crc\n",
      "Ignoring path: /home/kimlab2/database_data/biological-data-warehouse/adjacency-net/notebooks/mutation_datasets/humsavar/humsavar_2.parquet/.part-00156-b99f5846-fccc-4c91-86cf-fbf851d7335e-c000.snappy.parquet.crc\n",
      "Ignoring path: /home/kimlab2/database_data/biological-data-warehouse/adjacency-net/notebooks/mutation_datasets/humsavar/humsavar_2.parquet/.part-00134-b99f5846-fccc-4c91-86cf-fbf851d7335e-c000.snappy.parquet.crc\n",
      "Ignoring path: /home/kimlab2/database_data/biological-data-warehouse/adjacency-net/notebooks/mutation_datasets/humsavar/humsavar_2.parquet/.part-00023-b99f5846-fccc-4c91-86cf-fbf851d7335e-c000.snappy.parquet.crc\n",
      "Ignoring path: /home/kimlab2/database_data/biological-data-warehouse/adjacency-net/notebooks/mutation_datasets/humsavar/humsavar_2.parquet/.part-00108-b99f5846-fccc-4c91-86cf-fbf851d7335e-c000.snappy.parquet.crc\n",
      "Ignoring path: /home/kimlab2/database_data/biological-data-warehouse/adjacency-net/notebooks/mutation_datasets/humsavar/humsavar_2.parquet/.part-00043-b99f5846-fccc-4c91-86cf-fbf851d7335e-c000.snappy.parquet.crc\n",
      "Ignoring path: /home/kimlab2/database_data/biological-data-warehouse/adjacency-net/notebooks/mutation_datasets/humsavar/humsavar_2.parquet/.part-00017-b99f5846-fccc-4c91-86cf-fbf851d7335e-c000.snappy.parquet.crc\n",
      "Ignoring path: /home/kimlab2/database_data/biological-data-warehouse/adjacency-net/notebooks/mutation_datasets/humsavar/humsavar_2.parquet/.part-00169-b99f5846-fccc-4c91-86cf-fbf851d7335e-c000.snappy.parquet.crc\n",
      "Ignoring path: /home/kimlab2/database_data/biological-data-warehouse/adjacency-net/notebooks/mutation_datasets/humsavar/humsavar_2.parquet/.part-00029-b99f5846-fccc-4c91-86cf-fbf851d7335e-c000.snappy.parquet.crc\n",
      "Ignoring path: /home/kimlab2/database_data/biological-data-warehouse/adjacency-net/notebooks/mutation_datasets/humsavar/humsavar_2.parquet/.part-00013-b99f5846-fccc-4c91-86cf-fbf851d7335e-c000.snappy.parquet.crc\n",
      "Ignoring path: /home/kimlab2/database_data/biological-data-warehouse/adjacency-net/notebooks/mutation_datasets/humsavar/humsavar_2.parquet/.part-00004-b99f5846-fccc-4c91-86cf-fbf851d7335e-c000.snappy.parquet.crc\n",
      "Ignoring path: /home/kimlab2/database_data/biological-data-warehouse/adjacency-net/notebooks/mutation_datasets/humsavar/humsavar_2.parquet/.part-00099-b99f5846-fccc-4c91-86cf-fbf851d7335e-c000.snappy.parquet.crc\n",
      "Ignoring path: /home/kimlab2/database_data/biological-data-warehouse/adjacency-net/notebooks/mutation_datasets/humsavar/humsavar_2.parquet/.part-00078-b99f5846-fccc-4c91-86cf-fbf851d7335e-c000.snappy.parquet.crc\n",
      "Ignoring path: /home/kimlab2/database_data/biological-data-warehouse/adjacency-net/notebooks/mutation_datasets/humsavar/humsavar_2.parquet/.part-00005-b99f5846-fccc-4c91-86cf-fbf851d7335e-c000.snappy.parquet.crc\n",
      "Ignoring path: /home/kimlab2/database_data/biological-data-warehouse/adjacency-net/notebooks/mutation_datasets/humsavar/humsavar_2.parquet/.part-00192-b99f5846-fccc-4c91-86cf-fbf851d7335e-c000.snappy.parquet.crc\n",
      "Ignoring path: /home/kimlab2/database_data/biological-data-warehouse/adjacency-net/notebooks/mutation_datasets/humsavar/humsavar_2.parquet/.part-00019-b99f5846-fccc-4c91-86cf-fbf851d7335e-c000.snappy.parquet.crc\n",
      "Ignoring path: /home/kimlab2/database_data/biological-data-warehouse/adjacency-net/notebooks/mutation_datasets/humsavar/humsavar_2.parquet/.part-00079-b99f5846-fccc-4c91-86cf-fbf851d7335e-c000.snappy.parquet.crc\n",
      "Ignoring path: /home/kimlab2/database_data/biological-data-warehouse/adjacency-net/notebooks/mutation_datasets/humsavar/humsavar_2.parquet/.part-00181-b99f5846-fccc-4c91-86cf-fbf851d7335e-c000.snappy.parquet.crc\n",
      "Ignoring path: /home/kimlab2/database_data/biological-data-warehouse/adjacency-net/notebooks/mutation_datasets/humsavar/humsavar_2.parquet/.part-00195-b99f5846-fccc-4c91-86cf-fbf851d7335e-c000.snappy.parquet.crc\n",
      "Ignoring path: /home/kimlab2/database_data/biological-data-warehouse/adjacency-net/notebooks/mutation_datasets/humsavar/humsavar_2.parquet/.part-00170-b99f5846-fccc-4c91-86cf-fbf851d7335e-c000.snappy.parquet.crc\n",
      "Ignoring path: /home/kimlab2/database_data/biological-data-warehouse/adjacency-net/notebooks/mutation_datasets/humsavar/humsavar_2.parquet/.part-00076-b99f5846-fccc-4c91-86cf-fbf851d7335e-c000.snappy.parquet.crc\n",
      "Ignoring path: /home/kimlab2/database_data/biological-data-warehouse/adjacency-net/notebooks/mutation_datasets/humsavar/humsavar_2.parquet/.part-00089-b99f5846-fccc-4c91-86cf-fbf851d7335e-c000.snappy.parquet.crc\n",
      "Ignoring path: /home/kimlab2/database_data/biological-data-warehouse/adjacency-net/notebooks/mutation_datasets/humsavar/humsavar_2.parquet/.part-00123-b99f5846-fccc-4c91-86cf-fbf851d7335e-c000.snappy.parquet.crc\n",
      "Ignoring path: /home/kimlab2/database_data/biological-data-warehouse/adjacency-net/notebooks/mutation_datasets/humsavar/humsavar_2.parquet/.part-00184-b99f5846-fccc-4c91-86cf-fbf851d7335e-c000.snappy.parquet.crc\n",
      "Ignoring path: /home/kimlab2/database_data/biological-data-warehouse/adjacency-net/notebooks/mutation_datasets/humsavar/humsavar_2.parquet/.part-00139-b99f5846-fccc-4c91-86cf-fbf851d7335e-c000.snappy.parquet.crc\n",
      "Ignoring path: /home/kimlab2/database_data/biological-data-warehouse/adjacency-net/notebooks/mutation_datasets/humsavar/humsavar_2.parquet/.part-00106-b99f5846-fccc-4c91-86cf-fbf851d7335e-c000.snappy.parquet.crc\n",
      "Ignoring path: /home/kimlab2/database_data/biological-data-warehouse/adjacency-net/notebooks/mutation_datasets/humsavar/humsavar_2.parquet/.part-00101-b99f5846-fccc-4c91-86cf-fbf851d7335e-c000.snappy.parquet.crc\n",
      "Ignoring path: /home/kimlab2/database_data/biological-data-warehouse/adjacency-net/notebooks/mutation_datasets/humsavar/humsavar_2.parquet/.part-00028-b99f5846-fccc-4c91-86cf-fbf851d7335e-c000.snappy.parquet.crc\n",
      "Ignoring path: /home/kimlab2/database_data/biological-data-warehouse/adjacency-net/notebooks/mutation_datasets/humsavar/humsavar_2.parquet/.part-00060-b99f5846-fccc-4c91-86cf-fbf851d7335e-c000.snappy.parquet.crc\n",
      "Ignoring path: /home/kimlab2/database_data/biological-data-warehouse/adjacency-net/notebooks/mutation_datasets/humsavar/humsavar_2.parquet/.part-00054-b99f5846-fccc-4c91-86cf-fbf851d7335e-c000.snappy.parquet.crc\n",
      "Ignoring path: /home/kimlab2/database_data/biological-data-warehouse/adjacency-net/notebooks/mutation_datasets/humsavar/humsavar_2.parquet/.part-00175-b99f5846-fccc-4c91-86cf-fbf851d7335e-c000.snappy.parquet.crc\n",
      "Ignoring path: /home/kimlab2/database_data/biological-data-warehouse/adjacency-net/notebooks/mutation_datasets/humsavar/humsavar_2.parquet/.part-00100-b99f5846-fccc-4c91-86cf-fbf851d7335e-c000.snappy.parquet.crc\n",
      "Ignoring path: /home/kimlab2/database_data/biological-data-warehouse/adjacency-net/notebooks/mutation_datasets/humsavar/humsavar_2.parquet/.part-00124-b99f5846-fccc-4c91-86cf-fbf851d7335e-c000.snappy.parquet.crc\n",
      "Ignoring path: /home/kimlab2/database_data/biological-data-warehouse/adjacency-net/notebooks/mutation_datasets/humsavar/humsavar_2.parquet/.part-00118-b99f5846-fccc-4c91-86cf-fbf851d7335e-c000.snappy.parquet.crc\n",
      "Ignoring path: /home/kimlab2/database_data/biological-data-warehouse/adjacency-net/notebooks/mutation_datasets/humsavar/humsavar_2.parquet/.part-00031-b99f5846-fccc-4c91-86cf-fbf851d7335e-c000.snappy.parquet.crc\n",
      "Ignoring path: /home/kimlab2/database_data/biological-data-warehouse/adjacency-net/notebooks/mutation_datasets/humsavar/humsavar_2.parquet/.part-00026-b99f5846-fccc-4c91-86cf-fbf851d7335e-c000.snappy.parquet.crc\n",
      "Ignoring path: /home/kimlab2/database_data/biological-data-warehouse/adjacency-net/notebooks/mutation_datasets/humsavar/humsavar_2.parquet/.part-00187-b99f5846-fccc-4c91-86cf-fbf851d7335e-c000.snappy.parquet.crc\n",
      "Ignoring path: /home/kimlab2/database_data/biological-data-warehouse/adjacency-net/notebooks/mutation_datasets/humsavar/humsavar_2.parquet/.part-00114-b99f5846-fccc-4c91-86cf-fbf851d7335e-c000.snappy.parquet.crc\n",
      "Ignoring path: /home/kimlab2/database_data/biological-data-warehouse/adjacency-net/notebooks/mutation_datasets/humsavar/humsavar_2.parquet/.part-00142-b99f5846-fccc-4c91-86cf-fbf851d7335e-c000.snappy.parquet.crc\n",
      "Ignoring path: /home/kimlab2/database_data/biological-data-warehouse/adjacency-net/notebooks/mutation_datasets/humsavar/humsavar_2.parquet/.part-00022-b99f5846-fccc-4c91-86cf-fbf851d7335e-c000.snappy.parquet.crc\n",
      "Ignoring path: /home/kimlab2/database_data/biological-data-warehouse/adjacency-net/notebooks/mutation_datasets/humsavar/humsavar_2.parquet/.part-00006-b99f5846-fccc-4c91-86cf-fbf851d7335e-c000.snappy.parquet.crc\n",
      "Ignoring path: /home/kimlab2/database_data/biological-data-warehouse/adjacency-net/notebooks/mutation_datasets/humsavar/humsavar_2.parquet/.part-00166-b99f5846-fccc-4c91-86cf-fbf851d7335e-c000.snappy.parquet.crc\n",
      "Ignoring path: /home/kimlab2/database_data/biological-data-warehouse/adjacency-net/notebooks/mutation_datasets/humsavar/humsavar_2.parquet/.part-00117-b99f5846-fccc-4c91-86cf-fbf851d7335e-c000.snappy.parquet.crc\n",
      "Ignoring path: /home/kimlab2/database_data/biological-data-warehouse/adjacency-net/notebooks/mutation_datasets/humsavar/humsavar_2.parquet/.part-00145-b99f5846-fccc-4c91-86cf-fbf851d7335e-c000.snappy.parquet.crc\n",
      "Ignoring path: /home/kimlab2/database_data/biological-data-warehouse/adjacency-net/notebooks/mutation_datasets/humsavar/humsavar_2.parquet/.part-00146-b99f5846-fccc-4c91-86cf-fbf851d7335e-c000.snappy.parquet.crc\n",
      "Ignoring path: /home/kimlab2/database_data/biological-data-warehouse/adjacency-net/notebooks/mutation_datasets/humsavar/humsavar_2.parquet/.part-00051-b99f5846-fccc-4c91-86cf-fbf851d7335e-c000.snappy.parquet.crc\n",
      "Ignoring path: /home/kimlab2/database_data/biological-data-warehouse/adjacency-net/notebooks/mutation_datasets/humsavar/humsavar_2.parquet/.part-00093-b99f5846-fccc-4c91-86cf-fbf851d7335e-c000.snappy.parquet.crc\n",
      "Ignoring path: /home/kimlab2/database_data/biological-data-warehouse/adjacency-net/notebooks/mutation_datasets/humsavar/humsavar_2.parquet/.part-00033-b99f5846-fccc-4c91-86cf-fbf851d7335e-c000.snappy.parquet.crc\n",
      "Ignoring path: /home/kimlab2/database_data/biological-data-warehouse/adjacency-net/notebooks/mutation_datasets/humsavar/humsavar_2.parquet/.part-00197-b99f5846-fccc-4c91-86cf-fbf851d7335e-c000.snappy.parquet.crc\n",
      "Ignoring path: /home/kimlab2/database_data/biological-data-warehouse/adjacency-net/notebooks/mutation_datasets/humsavar/humsavar_2.parquet/.part-00180-b99f5846-fccc-4c91-86cf-fbf851d7335e-c000.snappy.parquet.crc\n",
      "Ignoring path: /home/kimlab2/database_data/biological-data-warehouse/adjacency-net/notebooks/mutation_datasets/humsavar/humsavar_2.parquet/.part-00152-b99f5846-fccc-4c91-86cf-fbf851d7335e-c000.snappy.parquet.crc\n",
      "Ignoring path: /home/kimlab2/database_data/biological-data-warehouse/adjacency-net/notebooks/mutation_datasets/humsavar/humsavar_2.parquet/.part-00061-b99f5846-fccc-4c91-86cf-fbf851d7335e-c000.snappy.parquet.crc\n",
      "Ignoring path: /home/kimlab2/database_data/biological-data-warehouse/adjacency-net/notebooks/mutation_datasets/humsavar/humsavar_2.parquet/.part-00198-b99f5846-fccc-4c91-86cf-fbf851d7335e-c000.snappy.parquet.crc\n",
      "Ignoring path: /home/kimlab2/database_data/biological-data-warehouse/adjacency-net/notebooks/mutation_datasets/humsavar/humsavar_2.parquet/.part-00151-b99f5846-fccc-4c91-86cf-fbf851d7335e-c000.snappy.parquet.crc\n",
      "Ignoring path: /home/kimlab2/database_data/biological-data-warehouse/adjacency-net/notebooks/mutation_datasets/humsavar/humsavar_2.parquet/.part-00036-b99f5846-fccc-4c91-86cf-fbf851d7335e-c000.snappy.parquet.crc\n",
      "Ignoring path: /home/kimlab2/database_data/biological-data-warehouse/adjacency-net/notebooks/mutation_datasets/humsavar/humsavar_2.parquet/.part-00143-b99f5846-fccc-4c91-86cf-fbf851d7335e-c000.snappy.parquet.crc\n",
      "Ignoring path: /home/kimlab2/database_data/biological-data-warehouse/adjacency-net/notebooks/mutation_datasets/humsavar/humsavar_2.parquet/.part-00155-b99f5846-fccc-4c91-86cf-fbf851d7335e-c000.snappy.parquet.crc\n",
      "Ignoring path: /home/kimlab2/database_data/biological-data-warehouse/adjacency-net/notebooks/mutation_datasets/humsavar/humsavar_2.parquet/.part-00044-b99f5846-fccc-4c91-86cf-fbf851d7335e-c000.snappy.parquet.crc\n",
      "Ignoring path: /home/kimlab2/database_data/biological-data-warehouse/adjacency-net/notebooks/mutation_datasets/humsavar/humsavar_2.parquet/.part-00178-b99f5846-fccc-4c91-86cf-fbf851d7335e-c000.snappy.parquet.crc\n",
      "Ignoring path: /home/kimlab2/database_data/biological-data-warehouse/adjacency-net/notebooks/mutation_datasets/humsavar/humsavar_2.parquet/.part-00042-b99f5846-fccc-4c91-86cf-fbf851d7335e-c000.snappy.parquet.crc\n",
      "Ignoring path: /home/kimlab2/database_data/biological-data-warehouse/adjacency-net/notebooks/mutation_datasets/humsavar/humsavar_2.parquet/.part-00186-b99f5846-fccc-4c91-86cf-fbf851d7335e-c000.snappy.parquet.crc\n",
      "Ignoring path: /home/kimlab2/database_data/biological-data-warehouse/adjacency-net/notebooks/mutation_datasets/humsavar/humsavar_2.parquet/.part-00116-b99f5846-fccc-4c91-86cf-fbf851d7335e-c000.snappy.parquet.crc\n",
      "Ignoring path: /home/kimlab2/database_data/biological-data-warehouse/adjacency-net/notebooks/mutation_datasets/humsavar/humsavar_2.parquet/.part-00136-b99f5846-fccc-4c91-86cf-fbf851d7335e-c000.snappy.parquet.crc\n",
      "Ignoring path: /home/kimlab2/database_data/biological-data-warehouse/adjacency-net/notebooks/mutation_datasets/humsavar/humsavar_2.parquet/.part-00167-b99f5846-fccc-4c91-86cf-fbf851d7335e-c000.snappy.parquet.crc\n",
      "Ignoring path: /home/kimlab2/database_data/biological-data-warehouse/adjacency-net/notebooks/mutation_datasets/humsavar/humsavar_2.parquet/.part-00073-b99f5846-fccc-4c91-86cf-fbf851d7335e-c000.snappy.parquet.crc\n",
      "Ignoring path: /home/kimlab2/database_data/biological-data-warehouse/adjacency-net/notebooks/mutation_datasets/humsavar/humsavar_2.parquet/.part-00081-b99f5846-fccc-4c91-86cf-fbf851d7335e-c000.snappy.parquet.crc\n",
      "Ignoring path: /home/kimlab2/database_data/biological-data-warehouse/adjacency-net/notebooks/mutation_datasets/humsavar/humsavar_2.parquet/.part-00188-b99f5846-fccc-4c91-86cf-fbf851d7335e-c000.snappy.parquet.crc\n",
      "Ignoring path: /home/kimlab2/database_data/biological-data-warehouse/adjacency-net/notebooks/mutation_datasets/humsavar/humsavar_2.parquet/.part-00039-b99f5846-fccc-4c91-86cf-fbf851d7335e-c000.snappy.parquet.crc\n",
      "Ignoring path: /home/kimlab2/database_data/biological-data-warehouse/adjacency-net/notebooks/mutation_datasets/humsavar/humsavar_2.parquet/.part-00008-b99f5846-fccc-4c91-86cf-fbf851d7335e-c000.snappy.parquet.crc\n",
      "Ignoring path: /home/kimlab2/database_data/biological-data-warehouse/adjacency-net/notebooks/mutation_datasets/humsavar/humsavar_2.parquet/.part-00137-b99f5846-fccc-4c91-86cf-fbf851d7335e-c000.snappy.parquet.crc\n",
      "Ignoring path: /home/kimlab2/database_data/biological-data-warehouse/adjacency-net/notebooks/mutation_datasets/humsavar/humsavar_2.parquet/.part-00059-b99f5846-fccc-4c91-86cf-fbf851d7335e-c000.snappy.parquet.crc\n",
      "Ignoring path: /home/kimlab2/database_data/biological-data-warehouse/adjacency-net/notebooks/mutation_datasets/humsavar/humsavar_2.parquet/.part-00037-b99f5846-fccc-4c91-86cf-fbf851d7335e-c000.snappy.parquet.crc\n",
      "Ignoring path: /home/kimlab2/database_data/biological-data-warehouse/adjacency-net/notebooks/mutation_datasets/humsavar/humsavar_2.parquet/.part-00094-b99f5846-fccc-4c91-86cf-fbf851d7335e-c000.snappy.parquet.crc\n",
      "Ignoring path: /home/kimlab2/database_data/biological-data-warehouse/adjacency-net/notebooks/mutation_datasets/humsavar/humsavar_2.parquet/.part-00158-b99f5846-fccc-4c91-86cf-fbf851d7335e-c000.snappy.parquet.crc\n",
      "Ignoring path: /home/kimlab2/database_data/biological-data-warehouse/adjacency-net/notebooks/mutation_datasets/humsavar/humsavar_2.parquet/.part-00007-b99f5846-fccc-4c91-86cf-fbf851d7335e-c000.snappy.parquet.crc\n",
      "Ignoring path: /home/kimlab2/database_data/biological-data-warehouse/adjacency-net/notebooks/mutation_datasets/humsavar/humsavar_2.parquet/.part-00179-b99f5846-fccc-4c91-86cf-fbf851d7335e-c000.snappy.parquet.crc\n",
      "Ignoring path: /home/kimlab2/database_data/biological-data-warehouse/adjacency-net/notebooks/mutation_datasets/humsavar/humsavar_2.parquet/.part-00191-b99f5846-fccc-4c91-86cf-fbf851d7335e-c000.snappy.parquet.crc\n",
      "Ignoring path: /home/kimlab2/database_data/biological-data-warehouse/adjacency-net/notebooks/mutation_datasets/humsavar/humsavar_2.parquet/.part-00049-b99f5846-fccc-4c91-86cf-fbf851d7335e-c000.snappy.parquet.crc\n",
      "Ignoring path: /home/kimlab2/database_data/biological-data-warehouse/adjacency-net/notebooks/mutation_datasets/humsavar/humsavar_2.parquet/.part-00147-b99f5846-fccc-4c91-86cf-fbf851d7335e-c000.snappy.parquet.crc\n",
      "Ignoring path: /home/kimlab2/database_data/biological-data-warehouse/adjacency-net/notebooks/mutation_datasets/humsavar/humsavar_2.parquet/.part-00173-b99f5846-fccc-4c91-86cf-fbf851d7335e-c000.snappy.parquet.crc\n",
      "Ignoring path: /home/kimlab2/database_data/biological-data-warehouse/adjacency-net/notebooks/mutation_datasets/humsavar/humsavar_2.parquet/.part-00162-b99f5846-fccc-4c91-86cf-fbf851d7335e-c000.snappy.parquet.crc\n",
      "Ignoring path: /home/kimlab2/database_data/biological-data-warehouse/adjacency-net/notebooks/mutation_datasets/humsavar/humsavar_2.parquet/.part-00172-b99f5846-fccc-4c91-86cf-fbf851d7335e-c000.snappy.parquet.crc\n",
      "Ignoring path: /home/kimlab2/database_data/biological-data-warehouse/adjacency-net/notebooks/mutation_datasets/humsavar/humsavar_2.parquet/.part-00025-b99f5846-fccc-4c91-86cf-fbf851d7335e-c000.snappy.parquet.crc\n",
      "Ignoring path: /home/kimlab2/database_data/biological-data-warehouse/adjacency-net/notebooks/mutation_datasets/humsavar/humsavar_2.parquet/.part-00112-b99f5846-fccc-4c91-86cf-fbf851d7335e-c000.snappy.parquet.crc\n",
      "Ignoring path: /home/kimlab2/database_data/biological-data-warehouse/adjacency-net/notebooks/mutation_datasets/humsavar/humsavar_2.parquet/.part-00148-b99f5846-fccc-4c91-86cf-fbf851d7335e-c000.snappy.parquet.crc\n",
      "Ignoring path: /home/kimlab2/database_data/biological-data-warehouse/adjacency-net/notebooks/mutation_datasets/humsavar/humsavar_2.parquet/.part-00085-b99f5846-fccc-4c91-86cf-fbf851d7335e-c000.snappy.parquet.crc\n",
      "Ignoring path: /home/kimlab2/database_data/biological-data-warehouse/adjacency-net/notebooks/mutation_datasets/humsavar/humsavar_2.parquet/.part-00102-b99f5846-fccc-4c91-86cf-fbf851d7335e-c000.snappy.parquet.crc\n",
      "Ignoring path: /home/kimlab2/database_data/biological-data-warehouse/adjacency-net/notebooks/mutation_datasets/humsavar/humsavar_2.parquet/.part-00032-b99f5846-fccc-4c91-86cf-fbf851d7335e-c000.snappy.parquet.crc\n",
      "Ignoring path: /home/kimlab2/database_data/biological-data-warehouse/adjacency-net/notebooks/mutation_datasets/humsavar/humsavar_2.parquet/.part-00121-b99f5846-fccc-4c91-86cf-fbf851d7335e-c000.snappy.parquet.crc\n",
      "Ignoring path: /home/kimlab2/database_data/biological-data-warehouse/adjacency-net/notebooks/mutation_datasets/humsavar/humsavar_2.parquet/.part-00190-b99f5846-fccc-4c91-86cf-fbf851d7335e-c000.snappy.parquet.crc\n",
      "Ignoring path: /home/kimlab2/database_data/biological-data-warehouse/adjacency-net/notebooks/mutation_datasets/humsavar/humsavar_2.parquet/.part-00088-b99f5846-fccc-4c91-86cf-fbf851d7335e-c000.snappy.parquet.crc\n",
      "Ignoring path: /home/kimlab2/database_data/biological-data-warehouse/adjacency-net/notebooks/mutation_datasets/humsavar/humsavar_2.parquet/.part-00133-b99f5846-fccc-4c91-86cf-fbf851d7335e-c000.snappy.parquet.crc\n",
      "Ignoring path: /home/kimlab2/database_data/biological-data-warehouse/adjacency-net/notebooks/mutation_datasets/humsavar/humsavar_2.parquet/.part-00069-b99f5846-fccc-4c91-86cf-fbf851d7335e-c000.snappy.parquet.crc\n",
      "Ignoring path: /home/kimlab2/database_data/biological-data-warehouse/adjacency-net/notebooks/mutation_datasets/humsavar/humsavar_2.parquet/.part-00086-b99f5846-fccc-4c91-86cf-fbf851d7335e-c000.snappy.parquet.crc\n",
      "Ignoring path: /home/kimlab2/database_data/biological-data-warehouse/adjacency-net/notebooks/mutation_datasets/humsavar/humsavar_2.parquet/.part-00035-b99f5846-fccc-4c91-86cf-fbf851d7335e-c000.snappy.parquet.crc\n",
      "Ignoring path: /home/kimlab2/database_data/biological-data-warehouse/adjacency-net/notebooks/mutation_datasets/humsavar/humsavar_2.parquet/.part-00111-b99f5846-fccc-4c91-86cf-fbf851d7335e-c000.snappy.parquet.crc\n",
      "Ignoring path: /home/kimlab2/database_data/biological-data-warehouse/adjacency-net/notebooks/mutation_datasets/humsavar/humsavar_2.parquet/.part-00149-b99f5846-fccc-4c91-86cf-fbf851d7335e-c000.snappy.parquet.crc\n",
      "Ignoring path: /home/kimlab2/database_data/biological-data-warehouse/adjacency-net/notebooks/mutation_datasets/humsavar/humsavar_2.parquet/.part-00144-b99f5846-fccc-4c91-86cf-fbf851d7335e-c000.snappy.parquet.crc\n",
      "Ignoring path: /home/kimlab2/database_data/biological-data-warehouse/adjacency-net/notebooks/mutation_datasets/humsavar/humsavar_2.parquet/.part-00018-b99f5846-fccc-4c91-86cf-fbf851d7335e-c000.snappy.parquet.crc\n",
      "Ignoring path: /home/kimlab2/database_data/biological-data-warehouse/adjacency-net/notebooks/mutation_datasets/humsavar/humsavar_2.parquet/.part-00048-b99f5846-fccc-4c91-86cf-fbf851d7335e-c000.snappy.parquet.crc\n",
      "Ignoring path: /home/kimlab2/database_data/biological-data-warehouse/adjacency-net/notebooks/mutation_datasets/humsavar/humsavar_2.parquet/.part-00174-b99f5846-fccc-4c91-86cf-fbf851d7335e-c000.snappy.parquet.crc\n",
      "Ignoring path: /home/kimlab2/database_data/biological-data-warehouse/adjacency-net/notebooks/mutation_datasets/humsavar/humsavar_2.parquet/.part-00047-b99f5846-fccc-4c91-86cf-fbf851d7335e-c000.snappy.parquet.crc\n",
      "Ignoring path: /home/kimlab2/database_data/biological-data-warehouse/adjacency-net/notebooks/mutation_datasets/humsavar/humsavar_2.parquet/.part-00074-b99f5846-fccc-4c91-86cf-fbf851d7335e-c000.snappy.parquet.crc\n",
      "Ignoring path: /home/kimlab2/database_data/biological-data-warehouse/adjacency-net/notebooks/mutation_datasets/humsavar/humsavar_2.parquet/.part-00193-b99f5846-fccc-4c91-86cf-fbf851d7335e-c000.snappy.parquet.crc\n",
      "Ignoring path: /home/kimlab2/database_data/biological-data-warehouse/adjacency-net/notebooks/mutation_datasets/humsavar/humsavar_2.parquet/.part-00015-b99f5846-fccc-4c91-86cf-fbf851d7335e-c000.snappy.parquet.crc\n",
      "Ignoring path: /home/kimlab2/database_data/biological-data-warehouse/adjacency-net/notebooks/mutation_datasets/humsavar/humsavar_2.parquet/.part-00080-b99f5846-fccc-4c91-86cf-fbf851d7335e-c000.snappy.parquet.crc\n",
      "Ignoring path: /home/kimlab2/database_data/biological-data-warehouse/adjacency-net/notebooks/mutation_datasets/humsavar/humsavar_2.parquet/.part-00063-b99f5846-fccc-4c91-86cf-fbf851d7335e-c000.snappy.parquet.crc\n",
      "Ignoring path: /home/kimlab2/database_data/biological-data-warehouse/adjacency-net/notebooks/mutation_datasets/humsavar/humsavar_2.parquet/.part-00199-b99f5846-fccc-4c91-86cf-fbf851d7335e-c000.snappy.parquet.crc\n",
      "Ignoring path: /home/kimlab2/database_data/biological-data-warehouse/adjacency-net/notebooks/mutation_datasets/humsavar/humsavar_2.parquet/.part-00125-b99f5846-fccc-4c91-86cf-fbf851d7335e-c000.snappy.parquet.crc\n",
      "Ignoring path: /home/kimlab2/database_data/biological-data-warehouse/adjacency-net/notebooks/mutation_datasets/humsavar/humsavar_2.parquet/.part-00041-b99f5846-fccc-4c91-86cf-fbf851d7335e-c000.snappy.parquet.crc\n",
      "Ignoring path: /home/kimlab2/database_data/biological-data-warehouse/adjacency-net/notebooks/mutation_datasets/humsavar/humsavar_2.parquet/.part-00016-b99f5846-fccc-4c91-86cf-fbf851d7335e-c000.snappy.parquet.crc\n",
      "Ignoring path: /home/kimlab2/database_data/biological-data-warehouse/adjacency-net/notebooks/mutation_datasets/humsavar/humsavar_2.parquet/.part-00129-b99f5846-fccc-4c91-86cf-fbf851d7335e-c000.snappy.parquet.crc\n"
     ]
    }
   ],
   "source": [
    "humsavar_df = pq.ParquetDataset(HUMSAVAR_DIR.joinpath('humsavar_2.parquet').as_posix()).read().to_pandas()"
   ]
  },
  {
   "cell_type": "code",
   "execution_count": 70,
   "metadata": {},
   "outputs": [
    {
     "data": {
      "text/html": [
       "<div>\n",
       "<style scoped>\n",
       "    .dataframe tbody tr th:only-of-type {\n",
       "        vertical-align: middle;\n",
       "    }\n",
       "\n",
       "    .dataframe tbody tr th {\n",
       "        vertical-align: top;\n",
       "    }\n",
       "\n",
       "    .dataframe thead th {\n",
       "        text-align: right;\n",
       "    }\n",
       "</style>\n",
       "<table border=\"1\" class=\"dataframe\">\n",
       "  <thead>\n",
       "    <tr style=\"text-align: right;\">\n",
       "      <th></th>\n",
       "      <th>uniprot_id</th>\n",
       "      <th>uniprot_mutation</th>\n",
       "      <th>type_of_variant</th>\n",
       "      <th>uniparc_id</th>\n",
       "      <th>sequence</th>\n",
       "      <th>database_id</th>\n",
       "      <th>domain_start</th>\n",
       "      <th>domain_end</th>\n",
       "      <th>domain_index</th>\n",
       "      <th>structure_id</th>\n",
       "      <th>model_id</th>\n",
       "      <th>chain_id</th>\n",
       "      <th>pc_identity</th>\n",
       "      <th>alignment_length</th>\n",
       "      <th>mismatches</th>\n",
       "      <th>gap_opens</th>\n",
       "      <th>q_start</th>\n",
       "      <th>q_end</th>\n",
       "      <th>s_start</th>\n",
       "      <th>s_end</th>\n",
       "      <th>qseq</th>\n",
       "      <th>sseq</th>\n",
       "      <th>residue_idx_1_corrected</th>\n",
       "      <th>residue_idx_2_corrected</th>\n",
       "    </tr>\n",
       "  </thead>\n",
       "  <tbody>\n",
       "    <tr>\n",
       "      <th>0</th>\n",
       "      <td>P12271</td>\n",
       "      <td>M226K</td>\n",
       "      <td>Disease</td>\n",
       "      <td>UPI0000000C59</td>\n",
       "      <td>YPELFDSLSPEAVRCTIEAGYPGVLSSRDKYGRVVMLFNIENWQSQEITFDEILQAYCFILEKLLENEETQINGFCIIENFKGFTMQQAASLRTSDLRKMVDMLQDSFPARFKAIH...</td>\n",
       "      <td>G3DSA:3.40.525.10</td>\n",
       "      <td>124</td>\n",
       "      <td>305</td>\n",
       "      <td>322513294</td>\n",
       "      <td>3HY5</td>\n",
       "      <td>0.0</td>\n",
       "      <td>A</td>\n",
       "      <td>100.0</td>\n",
       "      <td>182.0</td>\n",
       "      <td>0.0</td>\n",
       "      <td>0.0</td>\n",
       "      <td>1.0</td>\n",
       "      <td>182.0</td>\n",
       "      <td>102.0</td>\n",
       "      <td>283.0</td>\n",
       "      <td>YPELFDSLSPEAVRCTIEAGYPGVLSSRDKYGRVVMLFNIENWQSQEITFDEILQAYCFILEKLLENEETQINGFCIIENFKGFTMQQAASLRTSDLRKMVDMLQDSFPARFKAIH...</td>\n",
       "      <td>YPELFDSLSPEAVRCTIEAGYPGVLSSRDKYGRVVMLFNIENWQSQEITFDEILQAYCFILEKLLENEETQINGFCIIENFKGFTMQQAASLRTSDLRKMVDMLQDSFPARFKAIH...</td>\n",
       "      <td>[0.0, 0.0, 0.0, 0.0, 0.0, 0.0, 0.0, 1.0, 1.0, 1.0, 1.0, 1.0, 2.0, 2.0, 2.0, 2.0, 2.0, 2.0, 2.0, 2.0, 3.0, 3.0, 3.0, ...</td>\n",
       "      <td>[1.0, 2.0, 3.0, 4.0, 97.0, 98.0, 101.0, 0.0, 2.0, 3.0, 4.0, 5.0, 0.0, 1.0, 3.0, 4.0, 5.0, 6.0, 54.0, 98.0, 0.0, 1.0,...</td>\n",
       "    </tr>\n",
       "    <tr>\n",
       "      <th>1</th>\n",
       "      <td>P12271</td>\n",
       "      <td>R234W</td>\n",
       "      <td>Disease</td>\n",
       "      <td>UPI0000000C59</td>\n",
       "      <td>YPELFDSLSPEAVRCTIEAGYPGVLSSRDKYGRVVMLFNIENWQSQEITFDEILQAYCFILEKLLENEETQINGFCIIENFKGFTMQQAASLRTSDLRKMVDMLQDSFPARFKAIH...</td>\n",
       "      <td>G3DSA:3.40.525.10</td>\n",
       "      <td>124</td>\n",
       "      <td>305</td>\n",
       "      <td>322513294</td>\n",
       "      <td>3HY5</td>\n",
       "      <td>0.0</td>\n",
       "      <td>A</td>\n",
       "      <td>100.0</td>\n",
       "      <td>182.0</td>\n",
       "      <td>0.0</td>\n",
       "      <td>0.0</td>\n",
       "      <td>1.0</td>\n",
       "      <td>182.0</td>\n",
       "      <td>102.0</td>\n",
       "      <td>283.0</td>\n",
       "      <td>YPELFDSLSPEAVRCTIEAGYPGVLSSRDKYGRVVMLFNIENWQSQEITFDEILQAYCFILEKLLENEETQINGFCIIENFKGFTMQQAASLRTSDLRKMVDMLQDSFPARFKAIH...</td>\n",
       "      <td>YPELFDSLSPEAVRCTIEAGYPGVLSSRDKYGRVVMLFNIENWQSQEITFDEILQAYCFILEKLLENEETQINGFCIIENFKGFTMQQAASLRTSDLRKMVDMLQDSFPARFKAIH...</td>\n",
       "      <td>[0.0, 0.0, 0.0, 0.0, 0.0, 0.0, 0.0, 1.0, 1.0, 1.0, 1.0, 1.0, 2.0, 2.0, 2.0, 2.0, 2.0, 2.0, 2.0, 2.0, 3.0, 3.0, 3.0, ...</td>\n",
       "      <td>[1.0, 2.0, 3.0, 4.0, 97.0, 98.0, 101.0, 0.0, 2.0, 3.0, 4.0, 5.0, 0.0, 1.0, 3.0, 4.0, 5.0, 6.0, 54.0, 98.0, 0.0, 1.0,...</td>\n",
       "    </tr>\n",
       "  </tbody>\n",
       "</table>\n",
       "</div>"
      ],
      "text/plain": [
       "  uniprot_id uniprot_mutation type_of_variant     uniparc_id                                                                                                                 sequence        database_id  domain_start  domain_end  domain_index structure_id  model_id chain_id  pc_identity  alignment_length  mismatches  gap_opens  q_start  q_end  s_start  s_end                                                                                                                     qseq                                                                                                                     sseq                                                                                                  residue_idx_1_corrected                                                                                                  residue_idx_2_corrected\n",
       "0     P12271            M226K         Disease  UPI0000000C59  YPELFDSLSPEAVRCTIEAGYPGVLSSRDKYGRVVMLFNIENWQSQEITFDEILQAYCFILEKLLENEETQINGFCIIENFKGFTMQQAASLRTSDLRKMVDMLQDSFPARFKAIH...  G3DSA:3.40.525.10           124         305     322513294         3HY5       0.0        A        100.0             182.0         0.0        0.0      1.0  182.0    102.0  283.0  YPELFDSLSPEAVRCTIEAGYPGVLSSRDKYGRVVMLFNIENWQSQEITFDEILQAYCFILEKLLENEETQINGFCIIENFKGFTMQQAASLRTSDLRKMVDMLQDSFPARFKAIH...  YPELFDSLSPEAVRCTIEAGYPGVLSSRDKYGRVVMLFNIENWQSQEITFDEILQAYCFILEKLLENEETQINGFCIIENFKGFTMQQAASLRTSDLRKMVDMLQDSFPARFKAIH...  [0.0, 0.0, 0.0, 0.0, 0.0, 0.0, 0.0, 1.0, 1.0, 1.0, 1.0, 1.0, 2.0, 2.0, 2.0, 2.0, 2.0, 2.0, 2.0, 2.0, 3.0, 3.0, 3.0, ...  [1.0, 2.0, 3.0, 4.0, 97.0, 98.0, 101.0, 0.0, 2.0, 3.0, 4.0, 5.0, 0.0, 1.0, 3.0, 4.0, 5.0, 6.0, 54.0, 98.0, 0.0, 1.0,...\n",
       "1     P12271            R234W         Disease  UPI0000000C59  YPELFDSLSPEAVRCTIEAGYPGVLSSRDKYGRVVMLFNIENWQSQEITFDEILQAYCFILEKLLENEETQINGFCIIENFKGFTMQQAASLRTSDLRKMVDMLQDSFPARFKAIH...  G3DSA:3.40.525.10           124         305     322513294         3HY5       0.0        A        100.0             182.0         0.0        0.0      1.0  182.0    102.0  283.0  YPELFDSLSPEAVRCTIEAGYPGVLSSRDKYGRVVMLFNIENWQSQEITFDEILQAYCFILEKLLENEETQINGFCIIENFKGFTMQQAASLRTSDLRKMVDMLQDSFPARFKAIH...  YPELFDSLSPEAVRCTIEAGYPGVLSSRDKYGRVVMLFNIENWQSQEITFDEILQAYCFILEKLLENEETQINGFCIIENFKGFTMQQAASLRTSDLRKMVDMLQDSFPARFKAIH...  [0.0, 0.0, 0.0, 0.0, 0.0, 0.0, 0.0, 1.0, 1.0, 1.0, 1.0, 1.0, 2.0, 2.0, 2.0, 2.0, 2.0, 2.0, 2.0, 2.0, 3.0, 3.0, 3.0, ...  [1.0, 2.0, 3.0, 4.0, 97.0, 98.0, 101.0, 0.0, 2.0, 3.0, 4.0, 5.0, 0.0, 1.0, 3.0, 4.0, 5.0, 6.0, 54.0, 98.0, 0.0, 1.0,..."
      ]
     },
     "metadata": {},
     "output_type": "display_data"
    },
    {
     "name": "stdout",
     "output_type": "stream",
     "text": [
      "14536\n"
     ]
    }
   ],
   "source": [
    "display(humsavar_df.head(2))\n",
    "print(humsavar_df.shape[0])"
   ]
  },
  {
   "cell_type": "code",
   "execution_count": 71,
   "metadata": {},
   "outputs": [
    {
     "data": {
      "text/plain": [
       "<module 'pagnn.utils' from '/home/kimlab1/strokach/working/pagnn/pagnn/utils/__init__.py'>"
      ]
     },
     "execution_count": 71,
     "metadata": {},
     "output_type": "execute_result"
    }
   ],
   "source": [
    "importlib.reload(pagnn.utils)"
   ]
  },
  {
   "cell_type": "code",
   "execution_count": 72,
   "metadata": {},
   "outputs": [
    {
     "name": "stderr",
     "output_type": "stream",
     "text": [
      "Removing 9808 rows containing mutations that are outside domains.\n",
      "Removing 1 rows containing mutations do not match sequence.\n",
      "Removing 894 rows containing mutations that are outside alignment with structure.\n"
     ]
    }
   ],
   "source": [
    "humsavar_df = pagnn.filter_mismatch_mutations(humsavar_df)"
   ]
  },
  {
   "cell_type": "code",
   "execution_count": 73,
   "metadata": {},
   "outputs": [
    {
     "data": {
      "text/plain": [
       "3833"
      ]
     },
     "execution_count": 73,
     "metadata": {},
     "output_type": "execute_result"
    }
   ],
   "source": [
    "humsavar_df.shape[0]"
   ]
  },
  {
   "cell_type": "code",
   "execution_count": 74,
   "metadata": {},
   "outputs": [
    {
     "data": {
      "text/plain": [
       "Counter({'Disease': 1876, 'Polymorphism': 1751, 'Unclassified': 206})"
      ]
     },
     "execution_count": 74,
     "metadata": {},
     "output_type": "execute_result"
    }
   ],
   "source": [
    "Counter(humsavar_df['type_of_variant'])"
   ]
  },
  {
   "cell_type": "code",
   "execution_count": 75,
   "metadata": {
    "collapsed": true,
    "jupyter": {
     "outputs_hidden": true
    }
   },
   "outputs": [],
   "source": [
    "humsavar_df = humsavar_df[humsavar_df['type_of_variant'].isin({'Disease', 'Polymorphism'})]"
   ]
  },
  {
   "cell_type": "code",
   "execution_count": 76,
   "metadata": {},
   "outputs": [
    {
     "name": "stdout",
     "output_type": "stream",
     "text": [
      "3627\n"
     ]
    }
   ],
   "source": [
    "print(humsavar_df.shape[0])"
   ]
  },
  {
   "cell_type": "code",
   "execution_count": 77,
   "metadata": {
    "collapsed": true,
    "jupyter": {
     "outputs_hidden": true
    }
   },
   "outputs": [],
   "source": [
    "humsavar_df['score_exp'] = (humsavar_df['type_of_variant'] == 'Disease').astype(int)"
   ]
  },
  {
   "cell_type": "code",
   "execution_count": 78,
   "metadata": {
    "collapsed": true,
    "jupyter": {
     "outputs_hidden": true
    }
   },
   "outputs": [],
   "source": [
    "pq.write_table(\n",
    "    pa.Table.from_pandas(humsavar_df, preserve_index=False),\n",
    "    NOTEBOOK_PATH.joinpath('humsavar_validaton_dataset.parquet').as_posix(),\n",
    "    version='2.0',\n",
    "    flavor='spark',\n",
    ")"
   ]
  }
 ],
 "metadata": {
  "kernelspec": {
   "display_name": "Python 3",
   "language": "python",
   "name": "python3"
  },
  "language_info": {
   "codemirror_mode": {
    "name": "ipython",
    "version": 3
   },
   "file_extension": ".py",
   "mimetype": "text/x-python",
   "name": "python",
   "nbconvert_exporter": "python",
   "pygments_lexer": "ipython3",
   "version": "3.7.6"
  },
  "toc": {
   "base_numbering": 1,
   "nav_menu": {},
   "number_sections": false,
   "sideBar": false,
   "skip_h1_title": false,
   "title_cell": "Table of Contents",
   "title_sidebar": "Contents",
   "toc_cell": false,
   "toc_position": {
    "height": "602px",
    "left": "1640.28px",
    "right": "20px",
    "top": "106.354px",
    "width": "329px"
   },
   "toc_section_display": "block",
   "toc_window_display": true
  }
 },
 "nbformat": 4,
 "nbformat_minor": 4
}
