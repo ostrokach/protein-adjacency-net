{
 "cells": [
  {
   "cell_type": "markdown",
   "metadata": {},
   "source": [
    "# Summary"
   ]
  },
  {
   "cell_type": "markdown",
   "metadata": {},
   "source": [
    "# Imports"
   ]
  },
  {
   "cell_type": "code",
   "execution_count": null,
   "metadata": {},
   "outputs": [],
   "source": [
    "import importlib\n",
    "import os\n",
    "import sys\n",
    "from pathlib import Path\n",
    "\n",
    "import numpy as np\n",
    "import matplotlib.pyplot as plt\n",
    "import pandas as pd\n",
    "import pyarrow as pa\n",
    "import pyarrow.parquet as pq\n",
    "import seaborn as sns\n",
    "import sqlalchemy as sa\n",
    "from scipy import stats\n",
    "from sklearn import metrics"
   ]
  },
  {
   "cell_type": "code",
   "execution_count": null,
   "metadata": {},
   "outputs": [],
   "source": [
    "%matplotlib inline"
   ]
  },
  {
   "cell_type": "code",
   "execution_count": null,
   "metadata": {},
   "outputs": [],
   "source": [
    "pd.set_option(\"max_columns\", 100)"
   ]
  },
  {
   "cell_type": "code",
   "execution_count": null,
   "metadata": {},
   "outputs": [],
   "source": [
    "SRC_PATH = Path.cwd().joinpath('..', 'src').resolve(strict=True)\n",
    "\n",
    "if SRC_PATH.as_posix() not in sys.path:\n",
    "    sys.path.insert(0, SRC_PATH.as_posix())\n",
    "\n",
    "import helper\n",
    "importlib.reload(helper)"
   ]
  },
  {
   "cell_type": "markdown",
   "metadata": {},
   "source": [
    "# Parameters"
   ]
  },
  {
   "cell_type": "code",
   "execution_count": null,
   "metadata": {},
   "outputs": [],
   "source": [
    "NOTEBOOK_PATH = Path('validation_homology_models_combined')\n",
    "NOTEBOOK_PATH"
   ]
  },
  {
   "cell_type": "code",
   "execution_count": null,
   "metadata": {},
   "outputs": [],
   "source": [
    "OUTPUT_PATH = Path(os.getenv('OUTPUT_DIR', NOTEBOOK_PATH.name)).resolve()\n",
    "OUTPUT_PATH.mkdir(parents=True, exist_ok=True)\n",
    "OUTPUT_PATH"
   ]
  },
  {
   "cell_type": "code",
   "execution_count": null,
   "metadata": {},
   "outputs": [],
   "source": [
    "PROJECT_VERSION = os.getenv(\"PROJECT_VERSION\")"
   ]
  },
  {
   "cell_type": "code",
   "execution_count": null,
   "metadata": {},
   "outputs": [],
   "source": [
    "DEBUG = \"CI\" not in os.environ    \n",
    "DEBUG"
   ]
  },
  {
   "cell_type": "code",
   "execution_count": null,
   "metadata": {},
   "outputs": [],
   "source": [
    "if DEBUG:\n",
    "    PROJECT_VERSION = \"0.2\"\n",
    "else:\n",
    "    assert PROJECT_VERSION is not None\n",
    "    \n",
    "PROJECT_VERSION"
   ]
  },
  {
   "cell_type": "code",
   "execution_count": null,
   "metadata": {},
   "outputs": [],
   "source": [
    "# if DEBUG:\n",
    "#     %load_ext autoreload\n",
    "#     %autoreload 2"
   ]
  },
  {
   "cell_type": "markdown",
   "metadata": {},
   "source": [
    "# `DATAPKG`"
   ]
  },
  {
   "cell_type": "code",
   "execution_count": null,
   "metadata": {},
   "outputs": [],
   "source": [
    "NETWORK_NAME = \",\".join([\n",
    "    \"4a4320bd49d7b25fe9018c1b40426a45b1642565\",  # test50-cedar\n",
    "\n",
    "    \"a195c0e680a6dec151ea19de4735a6577dde399b\",  # test50\n",
    "    \"654c84ccb1bc0ecd0fa5d16c31ab3bfe21d45c8b\",  # test51\n",
    "\n",
    "    \"a3556373181d42ce0985e8d2146cfd5b0788502e\",  # test65\n",
    "\n",
    "    \"7b4ff1af3ec63a01fa415435420c554be1fecbb0\",  # test74\n",
    "    \"55374d153b6646f041dde6ee49ab751ef2d833aa\",\n",
    "    \"a7c0444c959a656be8ff6acbf88ef36fd02c59fc\",\n",
    "    \"8aa30e0188404d429ecdc6357205bc6924fb7759\",\n",
    "    \"9b134475368bd81fa1de197f8180ff1c82ce8727\",\n",
    "    \"4e2968caa1d0a9cb9fdee0488a3ede2283bce316\",\n",
    "    \"b22189e7357853cc5c76c9435b1c0497030761dd\",\n",
    "])"
   ]
  },
  {
   "cell_type": "markdown",
   "metadata": {},
   "source": [
    "# Dataset"
   ]
  },
  {
   "cell_type": "markdown",
   "metadata": {},
   "source": [
    "## Construct datasets"
   ]
  },
  {
   "cell_type": "markdown",
   "metadata": {},
   "source": [
    "### `validation_df`"
   ]
  },
  {
   "cell_type": "code",
   "execution_count": null,
   "metadata": {},
   "outputs": [],
   "source": [
    "data = []\n",
    "\n",
    "for network_name in NETWORK_NAME.split(','):\n",
    "    stats_db_file = (\n",
    "        Path(os.environ['DATAPKG_OUTPUT_DIR'])\n",
    "        .joinpath(\"adjacency-net-v2\", network_name, \"train_network\", \"stats.db\")\n",
    "    )\n",
    "    assert stats_db_file.is_file(), stats_db_file\n",
    "    engine = sa.create_engine(f\"sqlite:///{stats_db_file}\")\n",
    "\n",
    "    network_names = (\n",
    "        pd.read_sql_query(\"select distinct network_name from info\", engine)\n",
    "        ['network_name'].values.tolist()\n",
    "    )\n",
    "    assert len(network_names) == 1\n",
    "    assert network_names[0][4:] == network_name  \n",
    "\n",
    "    # Select best step\n",
    "    best_step_df = pd.read_sql_query(\n",
    "        \"SELECT step \"\n",
    "        \"FROM stats \"\n",
    "        \"WHERE model_location IS NOT NULL \"\n",
    "        \"ORDER BY `validation_gan_permute_80_1000-auc` DESC, `validation_gan_exact_80_1000-auc` DESC \"\n",
    "        \"LIMIT 1 \", engine)\n",
    "    best_step = int(best_step_df.values)\n",
    "\n",
    "    training_auc_max = (\n",
    "        pd.read_sql_query(\n",
    "            \"select `training_pos-auc` as training_auc_max \"\n",
    "            \"from stats \"\n",
    "            f\"where step = {best_step} \",\n",
    "            engine)\n",
    "        [\"training_auc_max\"].values[0]\n",
    "    )\n",
    "\n",
    "    validation_permute_auc_max = (\n",
    "        pd.read_sql_query(\n",
    "            \"select `validation_gan_permute_80_1000-auc` as validation_permute_auc_max \"\n",
    "            \"from stats \"\n",
    "            f\"where step = {best_step} \",\n",
    "            engine)\n",
    "        [\"validation_permute_auc_max\"].values[0]\n",
    "    )\n",
    "\n",
    "    validation_exact_auc_max = (\n",
    "        pd.read_sql_query(\n",
    "            \"select `validation_gan_exact_80_1000-auc` as validation_exact_auc_max \"\n",
    "            \"from stats \"\n",
    "            f\"where step = {best_step} \",\n",
    "            engine)\n",
    "        [\"validation_exact_auc_max\"].values[0]\n",
    "    )\n",
    "\n",
    "    max_info_id = (\n",
    "        pd.read_sql_query(\n",
    "            \"select max(`info_id`) as max_info_id \"\n",
    "            \"from stats \",\n",
    "            engine)\n",
    "        [\"max_info_id\"].values.item()\n",
    "    )\n",
    "\n",
    "    max_sequence_number = (\n",
    "        pd.read_sql_query(\n",
    "            \"select max(`sequence_number`) as max_sequence_number \"\n",
    "            \"from stats \",\n",
    "            engine)\n",
    "        [\"max_sequence_number\"].values.item()\n",
    "    )\n",
    "\n",
    "    data.append((network_name, training_auc_max, validation_permute_auc_max, validation_exact_auc_max, max_info_id, max_sequence_number))\n",
    "    \n",
    "validation_df = pd.DataFrame(\n",
    "    data,\n",
    "    columns=[\"network_name\", \"training_auc_max\", \"validation_permute_auc_max\", \"validation_exact_auc_max\", \"max_info_id\", \"max_sequence_number\"])\n",
    "# validation_df = validation_df.sort_values(\"validation_exact_auc_max\", ascending=False)\n",
    "validation_df['network_slug'] = validation_df['network_name'].str[0:7]"
   ]
  },
  {
   "cell_type": "code",
   "execution_count": null,
   "metadata": {},
   "outputs": [],
   "source": [
    "validation_df"
   ]
  },
  {
   "cell_type": "markdown",
   "metadata": {},
   "source": [
    "# Plot"
   ]
  },
  {
   "cell_type": "code",
   "execution_count": null,
   "metadata": {},
   "outputs": [],
   "source": [
    "cmap = plt.get_cmap(\"Set1\")\n",
    "\n",
    "feature_names = {}\n",
    "\n",
    "for column in [\"training_auc_max\", \"validation_permute_auc_max\", \"validation_exact_auc_max\", \"max_info_id\", \"max_sequence_number\"]:\n",
    "    with plt.rc_context(rc={'figure.figsize': (2 + 0.6 * len(validation_df), 4), 'font.size': 13}):\n",
    "        x = np.arange(len(validation_df))\n",
    "        plt.bar(x, validation_df[column], color=cmap(2))\n",
    "        plt.xticks(x, validation_df['network_slug'], rotation=45)\n",
    "        if ((validation_df[column] > 0) & (validation_df[column] <= 1)).all():\n",
    "            plt.ylim(0.7, 1.01)\n",
    "        if column == \"max_info_id\":\n",
    "            plt.ylabel(\"Number of job arrays completed\")\n",
    "        elif column == \"max_sequence_number\":\n",
    "            plt.ylabel(\"Number of sequences seen\")\n",
    "        else:\n",
    "            plt.ylabel(\"AUC\")\n",
    "        plt.title(column)\n",
    "        plt.tight_layout()\n",
    "        plt.savefig(OUTPUT_PATH.joinpath(f\"{column}.png\"), dpi=300, bbox_inches=\"tight\")\n",
    "        plt.savefig(OUTPUT_PATH.joinpath(f\"{column}.pdf\"), bbox_inches=\"tight\")\n",
    "        plt.show()"
   ]
  },
  {
   "cell_type": "code",
   "execution_count": null,
   "metadata": {},
   "outputs": [],
   "source": []
  }
 ],
 "metadata": {
  "kernelspec": {
   "display_name": "Python 3",
   "language": "python",
   "name": "python3"
  },
  "language_info": {
   "codemirror_mode": {
    "name": "ipython",
    "version": 3
   },
   "file_extension": ".py",
   "mimetype": "text/x-python",
   "name": "python",
   "nbconvert_exporter": "python",
   "pygments_lexer": "ipython3",
   "version": "3.7.1"
  },
  "toc": {
   "base_numbering": 1,
   "nav_menu": {},
   "number_sections": false,
   "sideBar": true,
   "skip_h1_title": false,
   "title_cell": "Table of Contents",
   "title_sidebar": "Contents",
   "toc_cell": false,
   "toc_position": {
    "height": "424px",
    "left": "26px",
    "top": "141px",
    "width": "187px"
   },
   "toc_section_display": true,
   "toc_window_display": true
  }
 },
 "nbformat": 4,
 "nbformat_minor": 2
}
