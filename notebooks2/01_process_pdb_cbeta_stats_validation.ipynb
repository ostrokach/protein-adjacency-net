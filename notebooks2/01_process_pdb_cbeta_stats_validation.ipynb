{
 "cells": [
  {
   "cell_type": "markdown",
   "metadata": {},
   "source": [
    "## Summary\n",
    "\n",
    "----"
   ]
  },
  {
   "cell_type": "code",
   "execution_count": 129,
   "metadata": {},
   "outputs": [],
   "source": [
    "from pathlib import Path"
   ]
  },
  {
   "cell_type": "code",
   "execution_count": 130,
   "metadata": {},
   "outputs": [],
   "source": [
    "p = Path('.')"
   ]
  },
  {
   "cell_type": "code",
   "execution_count": 133,
   "metadata": {},
   "outputs": [
    {
     "data": {
      "text/plain": [
       "PosixPath('.')"
      ]
     },
     "execution_count": 133,
     "metadata": {},
     "output_type": "execute_result"
    }
   ],
   "source": [
    "Path(p)"
   ]
  },
  {
   "cell_type": "code",
   "execution_count": 1,
   "metadata": {},
   "outputs": [],
   "source": [
    "import concurrent.futures\n",
    "import tempfile\n",
    "import urllib.request\n",
    "import os\n",
    "\n",
    "os.environ[\"OMP_NUM_THREADS\"] = \"1\"\n",
    "\n",
    "import mdtraj\n",
    "\n",
    "\n",
    "# Download demo PDB file (works with any PDB file AFAIK)\n",
    "with tempfile.NamedTemporaryFile(suffix=\".pdb.gz\") as pdb_file:\n",
    "    with open(pdb_file.name, \"wb\") as fout:\n",
    "        fout.write(urllib.request.urlopen(\"https://files.rcsb.org/download/4DKL.pdb.gz\").read())\n",
    "    traj = mdtraj.load(pdb_file.name)\n",
    "\n",
    "\n",
    "# Calculations work in the current REPL\n",
    "sasa = mdtraj.shrake_rupley(traj, mode=\"residue\")\n",
    "\n",
    "\n",
    "# Calculations deadlock when using `concurrent.futures.ProcessPoolExecutor`\n",
    "with concurrent.futures.ProcessPoolExecutor() as pool:\n",
    "    futures = pool.map(mdtraj.shrake_rupley, [traj, traj])\n",
    "    retults = list(futures)"
   ]
  },
  {
   "cell_type": "code",
   "execution_count": 19,
   "metadata": {},
   "outputs": [],
   "source": [
    "import numpy as np"
   ]
  },
  {
   "cell_type": "code",
   "execution_count": 27,
   "metadata": {},
   "outputs": [],
   "source": [
    "residue = traj.top.residue(0)"
   ]
  },
  {
   "cell_type": "code",
   "execution_count": 29,
   "metadata": {},
   "outputs": [
    {
     "data": {
      "text/plain": [
       "''"
      ]
     },
     "execution_count": 29,
     "metadata": {},
     "output_type": "execute_result"
    }
   ],
   "source": [
    "residue.segment_id"
   ]
  },
  {
   "cell_type": "code",
   "execution_count": null,
   "metadata": {},
   "outputs": [],
   "source": []
  },
  {
   "cell_type": "code",
   "execution_count": 20,
   "metadata": {},
   "outputs": [],
   "source": [
    "traj2 = traj.atom_slice([atom.index for atom in traj.top.atoms if atom.residue.name == \"GLY\"])"
   ]
  },
  {
   "cell_type": "code",
   "execution_count": 30,
   "metadata": {},
   "outputs": [],
   "source": [
    "import io"
   ]
  },
  {
   "cell_type": "code",
   "execution_count": 39,
   "metadata": {},
   "outputs": [],
   "source": [
    "df, bonds = traj2.top.to_dataframe()"
   ]
  },
  {
   "cell_type": "code",
   "execution_count": 41,
   "metadata": {},
   "outputs": [
    {
     "data": {
      "text/html": [
       "<div>\n",
       "<style scoped>\n",
       "    .dataframe tbody tr th:only-of-type {\n",
       "        vertical-align: middle;\n",
       "    }\n",
       "\n",
       "    .dataframe tbody tr th {\n",
       "        vertical-align: top;\n",
       "    }\n",
       "\n",
       "    .dataframe thead th {\n",
       "        text-align: right;\n",
       "    }\n",
       "</style>\n",
       "<table border=\"1\" class=\"dataframe\">\n",
       "  <thead>\n",
       "    <tr style=\"text-align: right;\">\n",
       "      <th></th>\n",
       "      <th>serial</th>\n",
       "      <th>name</th>\n",
       "      <th>element</th>\n",
       "      <th>resSeq</th>\n",
       "      <th>resName</th>\n",
       "      <th>chainID</th>\n",
       "      <th>segmentID</th>\n",
       "    </tr>\n",
       "  </thead>\n",
       "  <tbody>\n",
       "    <tr>\n",
       "      <th>0</th>\n",
       "      <td>120</td>\n",
       "      <td>N</td>\n",
       "      <td>N</td>\n",
       "      <td>82</td>\n",
       "      <td>GLY</td>\n",
       "      <td>0</td>\n",
       "      <td></td>\n",
       "    </tr>\n",
       "    <tr>\n",
       "      <th>1</th>\n",
       "      <td>121</td>\n",
       "      <td>CA</td>\n",
       "      <td>C</td>\n",
       "      <td>82</td>\n",
       "      <td>GLY</td>\n",
       "      <td>0</td>\n",
       "      <td></td>\n",
       "    </tr>\n",
       "    <tr>\n",
       "      <th>2</th>\n",
       "      <td>122</td>\n",
       "      <td>C</td>\n",
       "      <td>C</td>\n",
       "      <td>82</td>\n",
       "      <td>GLY</td>\n",
       "      <td>0</td>\n",
       "      <td></td>\n",
       "    </tr>\n",
       "    <tr>\n",
       "      <th>3</th>\n",
       "      <td>123</td>\n",
       "      <td>O</td>\n",
       "      <td>O</td>\n",
       "      <td>82</td>\n",
       "      <td>GLY</td>\n",
       "      <td>0</td>\n",
       "      <td></td>\n",
       "    </tr>\n",
       "    <tr>\n",
       "      <th>4</th>\n",
       "      <td>143</td>\n",
       "      <td>N</td>\n",
       "      <td>N</td>\n",
       "      <td>85</td>\n",
       "      <td>GLY</td>\n",
       "      <td>0</td>\n",
       "      <td></td>\n",
       "    </tr>\n",
       "    <tr>\n",
       "      <th>...</th>\n",
       "      <td>...</td>\n",
       "      <td>...</td>\n",
       "      <td>...</td>\n",
       "      <td>...</td>\n",
       "      <td>...</td>\n",
       "      <td>...</td>\n",
       "      <td>...</td>\n",
       "    </tr>\n",
       "    <tr>\n",
       "      <th>71</th>\n",
       "      <td>2408</td>\n",
       "      <td>O</td>\n",
       "      <td>O</td>\n",
       "      <td>1113</td>\n",
       "      <td>GLY</td>\n",
       "      <td>0</td>\n",
       "      <td></td>\n",
       "    </tr>\n",
       "    <tr>\n",
       "      <th>72</th>\n",
       "      <td>2762</td>\n",
       "      <td>N</td>\n",
       "      <td>N</td>\n",
       "      <td>1156</td>\n",
       "      <td>GLY</td>\n",
       "      <td>0</td>\n",
       "      <td></td>\n",
       "    </tr>\n",
       "    <tr>\n",
       "      <th>73</th>\n",
       "      <td>2763</td>\n",
       "      <td>CA</td>\n",
       "      <td>C</td>\n",
       "      <td>1156</td>\n",
       "      <td>GLY</td>\n",
       "      <td>0</td>\n",
       "      <td></td>\n",
       "    </tr>\n",
       "    <tr>\n",
       "      <th>74</th>\n",
       "      <td>2764</td>\n",
       "      <td>C</td>\n",
       "      <td>C</td>\n",
       "      <td>1156</td>\n",
       "      <td>GLY</td>\n",
       "      <td>0</td>\n",
       "      <td></td>\n",
       "    </tr>\n",
       "    <tr>\n",
       "      <th>75</th>\n",
       "      <td>2765</td>\n",
       "      <td>O</td>\n",
       "      <td>O</td>\n",
       "      <td>1156</td>\n",
       "      <td>GLY</td>\n",
       "      <td>0</td>\n",
       "      <td></td>\n",
       "    </tr>\n",
       "  </tbody>\n",
       "</table>\n",
       "<p>76 rows × 7 columns</p>\n",
       "</div>"
      ],
      "text/plain": [
       "    serial name element  resSeq resName  chainID segmentID\n",
       "0      120    N       N      82     GLY        0          \n",
       "1      121   CA       C      82     GLY        0          \n",
       "2      122    C       C      82     GLY        0          \n",
       "3      123    O       O      82     GLY        0          \n",
       "4      143    N       N      85     GLY        0          \n",
       "..     ...  ...     ...     ...     ...      ...       ...\n",
       "71    2408    O       O    1113     GLY        0          \n",
       "72    2762    N       N    1156     GLY        0          \n",
       "73    2763   CA       C    1156     GLY        0          \n",
       "74    2764    C       C    1156     GLY        0          \n",
       "75    2765    O       O    1156     GLY        0          \n",
       "\n",
       "[76 rows x 7 columns]"
      ]
     },
     "execution_count": 41,
     "metadata": {},
     "output_type": "execute_result"
    }
   ],
   "source": [
    "df"
   ]
  },
  {
   "cell_type": "code",
   "execution_count": 44,
   "metadata": {},
   "outputs": [],
   "source": [
    "df[\"chainID\"] = 2"
   ]
  },
  {
   "cell_type": "code",
   "execution_count": 45,
   "metadata": {},
   "outputs": [
    {
     "data": {
      "text/html": [
       "<div>\n",
       "<style scoped>\n",
       "    .dataframe tbody tr th:only-of-type {\n",
       "        vertical-align: middle;\n",
       "    }\n",
       "\n",
       "    .dataframe tbody tr th {\n",
       "        vertical-align: top;\n",
       "    }\n",
       "\n",
       "    .dataframe thead th {\n",
       "        text-align: right;\n",
       "    }\n",
       "</style>\n",
       "<table border=\"1\" class=\"dataframe\">\n",
       "  <thead>\n",
       "    <tr style=\"text-align: right;\">\n",
       "      <th></th>\n",
       "      <th>serial</th>\n",
       "      <th>name</th>\n",
       "      <th>element</th>\n",
       "      <th>resSeq</th>\n",
       "      <th>resName</th>\n",
       "      <th>chainID</th>\n",
       "      <th>segmentID</th>\n",
       "    </tr>\n",
       "  </thead>\n",
       "  <tbody>\n",
       "    <tr>\n",
       "      <th>0</th>\n",
       "      <td>120</td>\n",
       "      <td>N</td>\n",
       "      <td>N</td>\n",
       "      <td>82</td>\n",
       "      <td>GLY</td>\n",
       "      <td>2</td>\n",
       "      <td></td>\n",
       "    </tr>\n",
       "    <tr>\n",
       "      <th>1</th>\n",
       "      <td>121</td>\n",
       "      <td>CA</td>\n",
       "      <td>C</td>\n",
       "      <td>82</td>\n",
       "      <td>GLY</td>\n",
       "      <td>2</td>\n",
       "      <td></td>\n",
       "    </tr>\n",
       "    <tr>\n",
       "      <th>2</th>\n",
       "      <td>122</td>\n",
       "      <td>C</td>\n",
       "      <td>C</td>\n",
       "      <td>82</td>\n",
       "      <td>GLY</td>\n",
       "      <td>2</td>\n",
       "      <td></td>\n",
       "    </tr>\n",
       "    <tr>\n",
       "      <th>3</th>\n",
       "      <td>123</td>\n",
       "      <td>O</td>\n",
       "      <td>O</td>\n",
       "      <td>82</td>\n",
       "      <td>GLY</td>\n",
       "      <td>2</td>\n",
       "      <td></td>\n",
       "    </tr>\n",
       "    <tr>\n",
       "      <th>4</th>\n",
       "      <td>143</td>\n",
       "      <td>N</td>\n",
       "      <td>N</td>\n",
       "      <td>85</td>\n",
       "      <td>GLY</td>\n",
       "      <td>2</td>\n",
       "      <td></td>\n",
       "    </tr>\n",
       "    <tr>\n",
       "      <th>...</th>\n",
       "      <td>...</td>\n",
       "      <td>...</td>\n",
       "      <td>...</td>\n",
       "      <td>...</td>\n",
       "      <td>...</td>\n",
       "      <td>...</td>\n",
       "      <td>...</td>\n",
       "    </tr>\n",
       "    <tr>\n",
       "      <th>71</th>\n",
       "      <td>2408</td>\n",
       "      <td>O</td>\n",
       "      <td>O</td>\n",
       "      <td>1113</td>\n",
       "      <td>GLY</td>\n",
       "      <td>2</td>\n",
       "      <td></td>\n",
       "    </tr>\n",
       "    <tr>\n",
       "      <th>72</th>\n",
       "      <td>2762</td>\n",
       "      <td>N</td>\n",
       "      <td>N</td>\n",
       "      <td>1156</td>\n",
       "      <td>GLY</td>\n",
       "      <td>2</td>\n",
       "      <td></td>\n",
       "    </tr>\n",
       "    <tr>\n",
       "      <th>73</th>\n",
       "      <td>2763</td>\n",
       "      <td>CA</td>\n",
       "      <td>C</td>\n",
       "      <td>1156</td>\n",
       "      <td>GLY</td>\n",
       "      <td>2</td>\n",
       "      <td></td>\n",
       "    </tr>\n",
       "    <tr>\n",
       "      <th>74</th>\n",
       "      <td>2764</td>\n",
       "      <td>C</td>\n",
       "      <td>C</td>\n",
       "      <td>1156</td>\n",
       "      <td>GLY</td>\n",
       "      <td>2</td>\n",
       "      <td></td>\n",
       "    </tr>\n",
       "    <tr>\n",
       "      <th>75</th>\n",
       "      <td>2765</td>\n",
       "      <td>O</td>\n",
       "      <td>O</td>\n",
       "      <td>1156</td>\n",
       "      <td>GLY</td>\n",
       "      <td>2</td>\n",
       "      <td></td>\n",
       "    </tr>\n",
       "  </tbody>\n",
       "</table>\n",
       "<p>76 rows × 7 columns</p>\n",
       "</div>"
      ],
      "text/plain": [
       "    serial name element  resSeq resName  chainID segmentID\n",
       "0      120    N       N      82     GLY        2          \n",
       "1      121   CA       C      82     GLY        2          \n",
       "2      122    C       C      82     GLY        2          \n",
       "3      123    O       O      82     GLY        2          \n",
       "4      143    N       N      85     GLY        2          \n",
       "..     ...  ...     ...     ...     ...      ...       ...\n",
       "71    2408    O       O    1113     GLY        2          \n",
       "72    2762    N       N    1156     GLY        2          \n",
       "73    2763   CA       C    1156     GLY        2          \n",
       "74    2764    C       C    1156     GLY        2          \n",
       "75    2765    O       O    1156     GLY        2          \n",
       "\n",
       "[76 rows x 7 columns]"
      ]
     },
     "execution_count": 45,
     "metadata": {},
     "output_type": "execute_result"
    }
   ],
   "source": [
    "df"
   ]
  },
  {
   "cell_type": "code",
   "execution_count": null,
   "metadata": {},
   "outputs": [],
   "source": []
  },
  {
   "cell_type": "code",
   "execution_count": 48,
   "metadata": {},
   "outputs": [],
   "source": [
    "from scipy import stats"
   ]
  },
  {
   "cell_type": "code",
   "execution_count": null,
   "metadata": {},
   "outputs": [],
   "source": []
  },
  {
   "cell_type": "code",
   "execution_count": 101,
   "metadata": {},
   "outputs": [
    {
     "data": {
      "text/plain": [
       "0.0010308022246744647"
      ]
     },
     "execution_count": 101,
     "metadata": {},
     "output_type": "execute_result"
    }
   ],
   "source": [
    "M = 9000  # Total number of objects\n",
    "n = 265  # Total number of type 1 objects\n",
    "N = 300  # Number of draws without replacement\n",
    "\n",
    "x = \n",
    "stats.hypergeom(M, n, N).pmf(1)"
   ]
  },
  {
   "cell_type": "code",
   "execution_count": null,
   "metadata": {},
   "outputs": [],
   "source": []
  },
  {
   "cell_type": "code",
   "execution_count": null,
   "metadata": {},
   "outputs": [],
   "source": []
  },
  {
   "cell_type": "code",
   "execution_count": 46,
   "metadata": {},
   "outputs": [],
   "source": [
    "traj2.top = mdtraj.Topology.from_dataframe(df, bonds)"
   ]
  },
  {
   "cell_type": "code",
   "execution_count": 47,
   "metadata": {},
   "outputs": [
    {
     "name": "stdout",
     "output_type": "stream",
     "text": [
      "REMARK   1 CREATED WITH MDTraj 1.9.3, 2020-04-03\n",
      "CRYST1   70.882  174.730   68.353  90.00 107.84  90.00 P 1           1 \n",
      "MODEL        0\n",
      "ATOM      1  N   GLY A  82     -23.842   1.337 -25.622  1.00  0.00          N   \n",
      "ATOM      2  CA  GLY A  82     -23.297   1.294 -24.275  1.00  0.00          C   \n",
      "ATOM      3  C   GLY A  82     -21.798   1.523 -24.262  1.00  0.00          C   \n",
      "ATOM      4  O   GLY A  82     -21.302   2.406 -23.554  1.00  0.00          O   \n",
      "ATOM      5  N   GLY A  85     -20.985   5.111 -25.736  1.00  0.00          N   \n",
      "ATOM      6  CA  GLY A  85     -21.330   6.115 -24.748  1.00  0.00          C   \n",
      "ATOM      7  C   GLY A  85     -20.398   6.170 -23.552  1.00  0.00          C   \n",
      "ATOM      8  O   GLY A  85     -19.920   7.245 -23.187  1.00  0.00          O   \n",
      "ATOM      9  N   GLY A 131     -25.550 -22.693 -27.273  1.00  0.00          N   \n",
      "ATOM     10  CA  GLY A 131     -25.965 -23.642 -26.257  1.00  0.00          C   \n",
      "ATOM     11  C   GLY A 131     -24.762 -24.187 -25.513  1.00  0.00          C   \n",
      "ATOM     12  O   GLY A 131     -24.851 -25.198 -24.814  1.00  0.00          O   \n",
      "ATOM     13  N   GLY A 136     -13.660 -20.851 -22.904  1.00  0.00          N   \n",
      "ATOM     14  CA  GLY A 136     -12.702 -21.389 -21.958  1.00  0.00          C   \n",
      "ATOM     15  C   GLY A 136     -13.045 -21.172 -20.499  1.00  0.00          C   \n",
      "ATOM     16  O   GLY A 136     -14.179 -20.844 -20.148  1.00  0.00          O   \n",
      "ATOM     17  N   GLY A 199     -16.113  -9.965  -5.232  1.00  0.00          N   \n",
      "ATOM     18  CA  GLY A 199     -15.757 -10.249  -6.610  1.00  0.00          C   \n",
      "ATOM     19  C   GLY A 199     -14.636 -11.254  -6.765  1.00  0.00          C   \n",
      "ATOM     20  O   GLY A 199     -14.675 -12.099  -7.661  1.00  0.00          O   \n",
      "ATOM     21  N   GLY A 213     -24.202 -33.012 -22.923  1.00  0.00          N   \n",
      "ATOM     22  CA  GLY A 213     -23.884 -32.642 -24.288  1.00  0.00          C   \n",
      "ATOM     23  C   GLY A 213     -23.929 -31.138 -24.440  1.00  0.00          C   \n",
      "ATOM     24  O   GLY A 213     -24.600 -30.598 -25.330  1.00  0.00          O   \n",
      "ATOM     25  N   GLY A 253     -33.655  11.986   3.052  1.00  0.00          N   \n",
      "ATOM     26  CA  GLY A 253     -34.416  12.480   4.186  1.00  0.00          C   \n",
      "ATOM     27  C   GLY A 253     -33.639  13.523   4.963  1.00  0.00          C   \n",
      "ATOM     28  O   GLY A 253     -34.151  14.601   5.265  1.00  0.00          O   \n",
      "ATOM     29  N   GLY A 325     -19.865  28.805   9.997  1.00  0.00          N   \n",
      "ATOM     30  CA  GLY A 325     -19.777  27.356   9.945  1.00  0.00          C   \n",
      "ATOM     31  C   GLY A 325     -19.825  26.655  11.291  1.00  0.00          C   \n",
      "ATOM     32  O   GLY A 325     -19.535  27.252  12.330  1.00  0.00          O   \n",
      "ATOM     33  N   GLY A1012      -6.062  33.673  13.159  1.00  0.00          N   \n",
      "ATOM     34  CA  GLY A1012      -5.084  32.850  13.850  1.00  0.00          C   \n",
      "ATOM     35  C   GLY A1012      -5.339  32.677  15.335  1.00  0.00          C   \n",
      "ATOM     36  O   GLY A1012      -4.423  32.360  16.096  1.00  0.00          O   \n",
      "ATOM     37  N   GLY A1023     -17.172  26.379  17.671  1.00  0.00          N   \n",
      "ATOM     38  CA  GLY A1023     -18.595  26.604  17.495  1.00  0.00          C   \n",
      "ATOM     39  C   GLY A1023     -18.886  27.370  16.222  1.00  0.00          C   \n",
      "ATOM     40  O   GLY A1023     -18.268  27.124  15.185  1.00  0.00          O   \n",
      "ATOM     41  N   GLY A1028     -18.245  30.712  14.974  1.00  0.00          N   \n",
      "ATOM     42  CA  GLY A1028     -17.540  31.978  15.054  1.00  0.00          C   \n",
      "ATOM     43  C   GLY A1028     -17.267  32.507  16.451  1.00  0.00          C   \n",
      "ATOM     44  O   GLY A1028     -16.818  33.642  16.604  1.00  0.00          O   \n",
      "ATOM     45  N   GLY A1030     -19.448  25.083  31.515  1.00  0.00          N   \n",
      "ATOM     46  CA  GLY A1030     -19.789  24.631  32.850  1.00  0.00          C   \n",
      "ATOM     47  C   GLY A1030     -19.366  23.214  33.186  1.00  0.00          C   \n",
      "ATOM     48  O   GLY A1030     -19.287  22.829  34.360  1.00  0.00          O   \n",
      "ATOM     49  N   GLY A1051     -12.074  20.354  24.827  1.00  0.00          N   \n",
      "ATOM     50  CA  GLY A1051     -11.954  20.956  23.514  1.00  0.00          C   \n",
      "ATOM     51  C   GLY A1051     -13.026  20.502  22.540  1.00  0.00          C   \n",
      "ATOM     52  O   GLY A1051     -12.939  20.778  21.344  1.00  0.00          O   \n",
      "ATOM     53  N   GLY A1056     -25.240  45.022  22.578  1.00  0.00          N   \n",
      "ATOM     54  CA  GLY A1056     -24.134  45.943  22.397  1.00  0.00          C   \n",
      "ATOM     55  C   GLY A1056     -24.504  47.117  21.514  1.00  0.00          C   \n",
      "ATOM     56  O   GLY A1056     -24.167  48.262  21.815  1.00  0.00          O   \n",
      "ATOM     57  N   GLY A1077     -16.948  43.412  16.582  1.00  0.00          N   \n",
      "ATOM     58  CA  GLY A1077     -17.322  44.020  17.848  1.00  0.00          C   \n",
      "ATOM     59  C   GLY A1077     -17.913  45.415  17.731  1.00  0.00          C   \n",
      "ATOM     60  O   GLY A1077     -17.730  46.097  16.725  1.00  0.00          O   \n",
      "ATOM     61  N   GLY A1107     -15.603  48.657  16.969  1.00  0.00          N   \n",
      "ATOM     62  CA  GLY A1107     -15.120  48.786  15.606  1.00  0.00          C   \n",
      "ATOM     63  C   GLY A1107     -16.179  49.298  14.647  1.00  0.00          C   \n",
      "ATOM     64  O   GLY A1107     -15.900  50.141  13.795  1.00  0.00          O   \n",
      "ATOM     65  N   GLY A1110     -16.957  53.225  14.551  1.00  0.00          N   \n",
      "ATOM     66  CA  GLY A1110     -16.159  54.173  13.792  1.00  0.00          C   \n",
      "ATOM     67  C   GLY A1110     -16.441  54.196  12.303  1.00  0.00          C   \n",
      "ATOM     68  O   GLY A1110     -15.581  54.585  11.510  1.00  0.00          O   \n",
      "ATOM     69  N   GLY A1113     -30.985  44.879   0.311  1.00  0.00          N   \n",
      "ATOM     70  CA  GLY A1113     -32.055  44.584   1.244  1.00  0.00          C   \n",
      "ATOM     71  C   GLY A1113     -32.627  43.210   0.953  1.00  0.00          C   \n",
      "ATOM     72  O   GLY A1113     -33.644  42.812   1.521  1.00  0.00          O   \n",
      "ATOM     73  N   GLY A1156     -31.869  -4.951 -16.933  1.00  0.00          N   \n",
      "ATOM     74  CA  GLY A1156     -30.762  -4.869 -16.000  1.00  0.00          C   \n",
      "ATOM     75  C   GLY A1156     -29.463  -4.525 -16.705  1.00  0.00          C   \n",
      "ATOM     76  O   GLY A1156     -28.649  -3.770 -16.174  1.00  0.00          O   \n",
      "TER      77      GLY A1156\n",
      "ENDMDL\n",
      "END\n"
     ]
    }
   ],
   "source": [
    "import tempfile\n",
    "\n",
    "with tempfile.NamedTemporaryFile(suffix=\".pdb\") as tmp:\n",
    "    traj2.save(tmp.name)\n",
    "    !cat {tmp.name}"
   ]
  },
  {
   "cell_type": "code",
   "execution_count": 38,
   "metadata": {},
   "outputs": [
    {
     "data": {
      "text/html": [
       "<div>\n",
       "<style scoped>\n",
       "    .dataframe tbody tr th:only-of-type {\n",
       "        vertical-align: middle;\n",
       "    }\n",
       "\n",
       "    .dataframe tbody tr th {\n",
       "        vertical-align: top;\n",
       "    }\n",
       "\n",
       "    .dataframe thead th {\n",
       "        text-align: right;\n",
       "    }\n",
       "</style>\n",
       "<table border=\"1\" class=\"dataframe\">\n",
       "  <thead>\n",
       "    <tr style=\"text-align: right;\">\n",
       "      <th></th>\n",
       "      <th>serial</th>\n",
       "      <th>name</th>\n",
       "      <th>element</th>\n",
       "      <th>resSeq</th>\n",
       "      <th>resName</th>\n",
       "      <th>chainID</th>\n",
       "      <th>segmentID</th>\n",
       "    </tr>\n",
       "  </thead>\n",
       "  <tbody>\n",
       "    <tr>\n",
       "      <th>0</th>\n",
       "      <td>120</td>\n",
       "      <td>N</td>\n",
       "      <td>N</td>\n",
       "      <td>82</td>\n",
       "      <td>GLY</td>\n",
       "      <td>0</td>\n",
       "      <td></td>\n",
       "    </tr>\n",
       "    <tr>\n",
       "      <th>1</th>\n",
       "      <td>121</td>\n",
       "      <td>CA</td>\n",
       "      <td>C</td>\n",
       "      <td>82</td>\n",
       "      <td>GLY</td>\n",
       "      <td>0</td>\n",
       "      <td></td>\n",
       "    </tr>\n",
       "    <tr>\n",
       "      <th>2</th>\n",
       "      <td>122</td>\n",
       "      <td>C</td>\n",
       "      <td>C</td>\n",
       "      <td>82</td>\n",
       "      <td>GLY</td>\n",
       "      <td>0</td>\n",
       "      <td></td>\n",
       "    </tr>\n",
       "    <tr>\n",
       "      <th>3</th>\n",
       "      <td>123</td>\n",
       "      <td>O</td>\n",
       "      <td>O</td>\n",
       "      <td>82</td>\n",
       "      <td>GLY</td>\n",
       "      <td>0</td>\n",
       "      <td></td>\n",
       "    </tr>\n",
       "    <tr>\n",
       "      <th>4</th>\n",
       "      <td>143</td>\n",
       "      <td>N</td>\n",
       "      <td>N</td>\n",
       "      <td>85</td>\n",
       "      <td>GLY</td>\n",
       "      <td>0</td>\n",
       "      <td></td>\n",
       "    </tr>\n",
       "    <tr>\n",
       "      <th>...</th>\n",
       "      <td>...</td>\n",
       "      <td>...</td>\n",
       "      <td>...</td>\n",
       "      <td>...</td>\n",
       "      <td>...</td>\n",
       "      <td>...</td>\n",
       "      <td>...</td>\n",
       "    </tr>\n",
       "    <tr>\n",
       "      <th>71</th>\n",
       "      <td>2408</td>\n",
       "      <td>O</td>\n",
       "      <td>O</td>\n",
       "      <td>1113</td>\n",
       "      <td>GLY</td>\n",
       "      <td>0</td>\n",
       "      <td></td>\n",
       "    </tr>\n",
       "    <tr>\n",
       "      <th>72</th>\n",
       "      <td>2762</td>\n",
       "      <td>N</td>\n",
       "      <td>N</td>\n",
       "      <td>1156</td>\n",
       "      <td>GLY</td>\n",
       "      <td>0</td>\n",
       "      <td></td>\n",
       "    </tr>\n",
       "    <tr>\n",
       "      <th>73</th>\n",
       "      <td>2763</td>\n",
       "      <td>CA</td>\n",
       "      <td>C</td>\n",
       "      <td>1156</td>\n",
       "      <td>GLY</td>\n",
       "      <td>0</td>\n",
       "      <td></td>\n",
       "    </tr>\n",
       "    <tr>\n",
       "      <th>74</th>\n",
       "      <td>2764</td>\n",
       "      <td>C</td>\n",
       "      <td>C</td>\n",
       "      <td>1156</td>\n",
       "      <td>GLY</td>\n",
       "      <td>0</td>\n",
       "      <td></td>\n",
       "    </tr>\n",
       "    <tr>\n",
       "      <th>75</th>\n",
       "      <td>2765</td>\n",
       "      <td>O</td>\n",
       "      <td>O</td>\n",
       "      <td>1156</td>\n",
       "      <td>GLY</td>\n",
       "      <td>0</td>\n",
       "      <td></td>\n",
       "    </tr>\n",
       "  </tbody>\n",
       "</table>\n",
       "<p>76 rows × 7 columns</p>\n",
       "</div>"
      ],
      "text/plain": [
       "    serial name element  resSeq resName  chainID segmentID\n",
       "0      120    N       N      82     GLY        0          \n",
       "1      121   CA       C      82     GLY        0          \n",
       "2      122    C       C      82     GLY        0          \n",
       "3      123    O       O      82     GLY        0          \n",
       "4      143    N       N      85     GLY        0          \n",
       "..     ...  ...     ...     ...     ...      ...       ...\n",
       "71    2408    O       O    1113     GLY        0          \n",
       "72    2762    N       N    1156     GLY        0          \n",
       "73    2763   CA       C    1156     GLY        0          \n",
       "74    2764    C       C    1156     GLY        0          \n",
       "75    2765    O       O    1156     GLY        0          \n",
       "\n",
       "[76 rows x 7 columns]"
      ]
     },
     "execution_count": 38,
     "metadata": {},
     "output_type": "execute_result"
    }
   ],
   "source": [
    "traj2.top.to_dataframe()[0]"
   ]
  },
  {
   "cell_type": "code",
   "execution_count": 25,
   "metadata": {},
   "outputs": [
    {
     "data": {
      "text/html": [
       "<div>\n",
       "<style scoped>\n",
       "    .dataframe tbody tr th:only-of-type {\n",
       "        vertical-align: middle;\n",
       "    }\n",
       "\n",
       "    .dataframe tbody tr th {\n",
       "        vertical-align: top;\n",
       "    }\n",
       "\n",
       "    .dataframe thead th {\n",
       "        text-align: right;\n",
       "    }\n",
       "</style>\n",
       "<table border=\"1\" class=\"dataframe\">\n",
       "  <thead>\n",
       "    <tr style=\"text-align: right;\">\n",
       "      <th></th>\n",
       "      <th>serial</th>\n",
       "      <th>name</th>\n",
       "      <th>element</th>\n",
       "      <th>resSeq</th>\n",
       "      <th>resName</th>\n",
       "      <th>chainID</th>\n",
       "      <th>segmentID</th>\n",
       "    </tr>\n",
       "  </thead>\n",
       "  <tbody>\n",
       "    <tr>\n",
       "      <th>0</th>\n",
       "      <td>1</td>\n",
       "      <td>N</td>\n",
       "      <td>N</td>\n",
       "      <td>65</td>\n",
       "      <td>MET</td>\n",
       "      <td>0</td>\n",
       "      <td></td>\n",
       "    </tr>\n",
       "    <tr>\n",
       "      <th>1</th>\n",
       "      <td>2</td>\n",
       "      <td>CA</td>\n",
       "      <td>C</td>\n",
       "      <td>65</td>\n",
       "      <td>MET</td>\n",
       "      <td>0</td>\n",
       "      <td></td>\n",
       "    </tr>\n",
       "    <tr>\n",
       "      <th>2</th>\n",
       "      <td>3</td>\n",
       "      <td>C</td>\n",
       "      <td>C</td>\n",
       "      <td>65</td>\n",
       "      <td>MET</td>\n",
       "      <td>0</td>\n",
       "      <td></td>\n",
       "    </tr>\n",
       "    <tr>\n",
       "      <th>3</th>\n",
       "      <td>4</td>\n",
       "      <td>O</td>\n",
       "      <td>O</td>\n",
       "      <td>65</td>\n",
       "      <td>MET</td>\n",
       "      <td>0</td>\n",
       "      <td></td>\n",
       "    </tr>\n",
       "    <tr>\n",
       "      <th>4</th>\n",
       "      <td>5</td>\n",
       "      <td>CB</td>\n",
       "      <td>C</td>\n",
       "      <td>65</td>\n",
       "      <td>MET</td>\n",
       "      <td>0</td>\n",
       "      <td></td>\n",
       "    </tr>\n",
       "    <tr>\n",
       "      <th>...</th>\n",
       "      <td>...</td>\n",
       "      <td>...</td>\n",
       "      <td>...</td>\n",
       "      <td>...</td>\n",
       "      <td>...</td>\n",
       "      <td>...</td>\n",
       "      <td>...</td>\n",
       "    </tr>\n",
       "    <tr>\n",
       "      <th>3685</th>\n",
       "      <td>3687</td>\n",
       "      <td>O</td>\n",
       "      <td>O</td>\n",
       "      <td>733</td>\n",
       "      <td>HOH</td>\n",
       "      <td>1</td>\n",
       "      <td></td>\n",
       "    </tr>\n",
       "    <tr>\n",
       "      <th>3686</th>\n",
       "      <td>3688</td>\n",
       "      <td>O</td>\n",
       "      <td>O</td>\n",
       "      <td>734</td>\n",
       "      <td>HOH</td>\n",
       "      <td>1</td>\n",
       "      <td></td>\n",
       "    </tr>\n",
       "    <tr>\n",
       "      <th>3687</th>\n",
       "      <td>3689</td>\n",
       "      <td>O</td>\n",
       "      <td>O</td>\n",
       "      <td>735</td>\n",
       "      <td>HOH</td>\n",
       "      <td>1</td>\n",
       "      <td></td>\n",
       "    </tr>\n",
       "    <tr>\n",
       "      <th>3688</th>\n",
       "      <td>3690</td>\n",
       "      <td>O</td>\n",
       "      <td>O</td>\n",
       "      <td>736</td>\n",
       "      <td>HOH</td>\n",
       "      <td>1</td>\n",
       "      <td></td>\n",
       "    </tr>\n",
       "    <tr>\n",
       "      <th>3689</th>\n",
       "      <td>3691</td>\n",
       "      <td>O</td>\n",
       "      <td>O</td>\n",
       "      <td>737</td>\n",
       "      <td>HOH</td>\n",
       "      <td>1</td>\n",
       "      <td></td>\n",
       "    </tr>\n",
       "  </tbody>\n",
       "</table>\n",
       "<p>3690 rows × 7 columns</p>\n",
       "</div>"
      ],
      "text/plain": [
       "      serial name element  resSeq resName  chainID segmentID\n",
       "0          1    N       N      65     MET        0          \n",
       "1          2   CA       C      65     MET        0          \n",
       "2          3    C       C      65     MET        0          \n",
       "3          4    O       O      65     MET        0          \n",
       "4          5   CB       C      65     MET        0          \n",
       "...      ...  ...     ...     ...     ...      ...       ...\n",
       "3685    3687    O       O     733     HOH        1          \n",
       "3686    3688    O       O     734     HOH        1          \n",
       "3687    3689    O       O     735     HOH        1          \n",
       "3688    3690    O       O     736     HOH        1          \n",
       "3689    3691    O       O     737     HOH        1          \n",
       "\n",
       "[3690 rows x 7 columns]"
      ]
     },
     "execution_count": 25,
     "metadata": {},
     "output_type": "execute_result"
    }
   ],
   "source": [
    "traj.top.to_dataframe()[0]"
   ]
  },
  {
   "cell_type": "code",
   "execution_count": null,
   "metadata": {},
   "outputs": [],
   "source": []
  },
  {
   "cell_type": "code",
   "execution_count": null,
   "metadata": {},
   "outputs": [],
   "source": []
  },
  {
   "cell_type": "code",
   "execution_count": null,
   "metadata": {},
   "outputs": [],
   "source": []
  },
  {
   "cell_type": "code",
   "execution_count": 9,
   "metadata": {},
   "outputs": [
    {
     "data": {
      "text/plain": [
       "[119,\n",
       " 120,\n",
       " 121,\n",
       " 122,\n",
       " 142,\n",
       " 143,\n",
       " 144,\n",
       " 145,\n",
       " 508,\n",
       " 509,\n",
       " 510,\n",
       " 511,\n",
       " 551,\n",
       " 552,\n",
       " 553,\n",
       " 554,\n",
       " 1050,\n",
       " 1051,\n",
       " 1052,\n",
       " 1053,\n",
       " 1163,\n",
       " 1164,\n",
       " 1165,\n",
       " 1166,\n",
       " 1493,\n",
       " 1494,\n",
       " 1495,\n",
       " 1496,\n",
       " 1659,\n",
       " 1660,\n",
       " 1661,\n",
       " 1662,\n",
       " 1746,\n",
       " 1747,\n",
       " 1748,\n",
       " 1749,\n",
       " 1782,\n",
       " 1783,\n",
       " 1784,\n",
       " 1785,\n",
       " 1794,\n",
       " 1795,\n",
       " 1796,\n",
       " 1797,\n",
       " 1939,\n",
       " 1940,\n",
       " 1941,\n",
       " 1942,\n",
       " 1977,\n",
       " 1978,\n",
       " 1979,\n",
       " 1980,\n",
       " 2139,\n",
       " 2140,\n",
       " 2141,\n",
       " 2142,\n",
       " 2372,\n",
       " 2373,\n",
       " 2374,\n",
       " 2375,\n",
       " 2388,\n",
       " 2389,\n",
       " 2390,\n",
       " 2391,\n",
       " 2404,\n",
       " 2405,\n",
       " 2406,\n",
       " 2407,\n",
       " 2761,\n",
       " 2762,\n",
       " 2763,\n",
       " 2764,\n",
       " 3251,\n",
       " 3252,\n",
       " 3253,\n",
       " 3254]"
      ]
     },
     "execution_count": 9,
     "metadata": {},
     "output_type": "execute_result"
    }
   ],
   "source": [
    "[atom.index for atom in traj.top.ats if atom.residue.name == \"GLY\"]"
   ]
  },
  {
   "cell_type": "code",
   "execution_count": null,
   "metadata": {},
   "outputs": [],
   "source": []
  },
  {
   "cell_type": "code",
   "execution_count": null,
   "metadata": {},
   "outputs": [],
   "source": []
  },
  {
   "cell_type": "code",
   "execution_count": null,
   "metadata": {},
   "outputs": [],
   "source": []
  },
  {
   "cell_type": "markdown",
   "metadata": {},
   "source": [
    "## Imports"
   ]
  },
  {
   "cell_type": "code",
   "execution_count": 23,
   "metadata": {},
   "outputs": [],
   "source": [
    "import concurrent.futures\n",
    "import gzip\n",
    "import importlib\n",
    "import io\n",
    "import logging\n",
    "import os\n",
    "import pickle\n",
    "import shlex\n",
    "import shutil\n",
    "import socket\n",
    "import subprocess\n",
    "import sys\n",
    "import tempfile\n",
    "import time\n",
    "import traceback\n",
    "import warnings\n",
    "from functools import partial\n",
    "from itertools import islice\n",
    "from pathlib import Path\n",
    "\n",
    "import numpy as np\n",
    "import pandas as pd\n",
    "import yaml\n",
    "from tqdm.notebook import tqdm\n",
    "\n",
    "import matplotlib.pyplot as plt\n",
    "import mdtraj\n",
    "import psutil\n",
    "import pyarrow as pa\n",
    "import pyarrow.parquet as pq\n",
    "import tenacity\n",
    "import torch\n",
    "from kmbio import PDB\n",
    "from kmtools import structure_tools\n",
    "from scipy import stats"
   ]
  },
  {
   "cell_type": "code",
   "execution_count": 24,
   "metadata": {},
   "outputs": [],
   "source": [
    "%matplotlib inline\n",
    "\n",
    "pd.set_option(\"max_columns\", 100)"
   ]
  },
  {
   "cell_type": "code",
   "execution_count": 25,
   "metadata": {},
   "outputs": [
    {
     "data": {
      "text/plain": [
       "<module 'helper' from '/home/kimlab1/strokach/workspace/adjacency-net-v2/src/helper/__init__.py'>"
      ]
     },
     "execution_count": 25,
     "metadata": {},
     "output_type": "execute_result"
    }
   ],
   "source": [
    "SRC_PATH = Path.cwd().joinpath('..', 'src').resolve(strict=True)\n",
    "\n",
    "if SRC_PATH.as_posix() not in sys.path:\n",
    "    sys.path.insert(0, SRC_PATH.as_posix())\n",
    "\n",
    "import helper\n",
    "importlib.reload(helper)"
   ]
  },
  {
   "cell_type": "code",
   "execution_count": 37,
   "metadata": {},
   "outputs": [],
   "source": [
    "df = pd.DataFrame([[1,2,\"c\"]])"
   ]
  },
  {
   "cell_type": "code",
   "execution_count": 38,
   "metadata": {},
   "outputs": [
    {
     "data": {
      "text/plain": [
       "pandas.core.series.Series"
      ]
     },
     "execution_count": 38,
     "metadata": {},
     "output_type": "execute_result"
    }
   ],
   "source": [
    "type(df.iloc[0])"
   ]
  },
  {
   "cell_type": "code",
   "execution_count": 39,
   "metadata": {},
   "outputs": [
    {
     "data": {
      "text/plain": [
       "array([1, 2, 'c'], dtype=object)"
      ]
     },
     "execution_count": 39,
     "metadata": {},
     "output_type": "execute_result"
    }
   ],
   "source": [
    "df.iloc[0].to_numpy()"
   ]
  },
  {
   "cell_type": "code",
   "execution_count": null,
   "metadata": {},
   "outputs": [],
   "source": []
  },
  {
   "cell_type": "markdown",
   "metadata": {},
   "source": [
    "## Parameters"
   ]
  },
  {
   "cell_type": "code",
   "execution_count": 4,
   "metadata": {},
   "outputs": [
    {
     "data": {
      "text/plain": [
       "PosixPath('01_process_pdb_cbeta')"
      ]
     },
     "execution_count": 4,
     "metadata": {},
     "output_type": "execute_result"
    }
   ],
   "source": [
    "NOTEBOOK_PATH = Path(os.getenv(\"CI_JOB_NAME\", \"01_process_pdb_cbeta\"))\n",
    "\n",
    "NOTEBOOK_PATH"
   ]
  },
  {
   "cell_type": "code",
   "execution_count": 5,
   "metadata": {},
   "outputs": [
    {
     "data": {
      "text/plain": [
       "PosixPath('/home/kimlab1/strokach/workspace/adjacency-net-v2/notebooks/01_process_pdb_cbeta')"
      ]
     },
     "execution_count": 5,
     "metadata": {},
     "output_type": "execute_result"
    }
   ],
   "source": [
    "OUTPUT_PATH = Path(os.getenv('OUTPUT_DIR', NOTEBOOK_PATH.name)).resolve()\n",
    "OUTPUT_PATH.mkdir(parents=True, exist_ok=True)\n",
    "\n",
    "OUTPUT_PATH"
   ]
  },
  {
   "cell_type": "code",
   "execution_count": 8,
   "metadata": {},
   "outputs": [
    {
     "data": {
      "text/plain": [
       "(None, None)"
      ]
     },
     "execution_count": 8,
     "metadata": {},
     "output_type": "execute_result"
    }
   ],
   "source": [
    "TASK_ID = os.getenv(\"SLURM_ARRAY_TASK_ID\")\n",
    "TASK_COUNT = os.getenv(\"ORIGINAL_ARRAY_TASK_COUNT\") or os.getenv(\"SLURM_ARRAY_TASK_COUNT\")\n",
    "\n",
    "TASK_ID = int(TASK_ID) if TASK_ID is not None else None\n",
    "TASK_COUNT = int(TASK_COUNT) if TASK_COUNT is not None else None\n",
    "\n",
    "TASK_ID, TASK_COUNT"
   ]
  },
  {
   "cell_type": "code",
   "execution_count": 9,
   "metadata": {},
   "outputs": [
    {
     "data": {
      "text/plain": [
       "(87, 300)"
      ]
     },
     "execution_count": 9,
     "metadata": {},
     "output_type": "execute_result"
    }
   ],
   "source": [
    "DEBUG = TASK_ID is None\n",
    "\n",
    "if DEBUG:\n",
    "    TASK_ID = 87\n",
    "    TASK_COUNT = 300\n",
    "else:\n",
    "    assert TASK_ID is not None\n",
    "    assert TASK_COUNT is not None\n",
    "\n",
    "TASK_ID, TASK_COUNT"
   ]
  },
  {
   "cell_type": "code",
   "execution_count": 10,
   "metadata": {},
   "outputs": [
    {
     "data": {
      "text/plain": [
       "PosixPath('/home/kimlab1/database_data/datapkg_output_dir/adjacency-net-v2/v0.4')"
      ]
     },
     "execution_count": 10,
     "metadata": {},
     "output_type": "execute_result"
    }
   ],
   "source": [
    "ADJACENCY_NET_DATA_PATH = (\n",
    "    Path(os.getenv(\"DATAPKG_OUTPUT_DIR\")).joinpath(\"adjacency-net-v2\", \"v0.4\").resolve(strict=True)\n",
    ")\n",
    "\n",
    "ADJACENCY_NET_DATA_PATH"
   ]
  },
  {
   "cell_type": "code",
   "execution_count": 11,
   "metadata": {},
   "outputs": [
    {
     "data": {
      "text/plain": [
       "PosixPath('/home/kimlab1/database_data/datapkg_output_dir/pdb-ffindex/2020-01-16/arrow')"
      ]
     },
     "execution_count": 11,
     "metadata": {},
     "output_type": "execute_result"
    }
   ],
   "source": [
    "PDB_DATA_PATH = (\n",
    "    Path(os.environ[\"DATAPKG_OUTPUT_DIR\"]).joinpath(\"pdb-ffindex\", \"2020-01-16\", \"arrow\").resolve(strict=True)\n",
    ")\n",
    "\n",
    "PDB_DATA_PATH"
   ]
  },
  {
   "cell_type": "code",
   "execution_count": 12,
   "metadata": {},
   "outputs": [],
   "source": [
    "if DEBUG:\n",
    "    %load_ext autoreload\n",
    "    %autoreload 2"
   ]
  },
  {
   "cell_type": "markdown",
   "metadata": {},
   "source": [
    "## Load data"
   ]
  },
  {
   "cell_type": "code",
   "execution_count": 13,
   "metadata": {},
   "outputs": [],
   "source": [
    "with PDB_DATA_PATH.joinpath(\"pdb-list.pickle\").open(\"rb\") as fin:\n",
    "    pdb_list = pickle.load(fin)\n",
    "    \n",
    "pdb_data_reader = pa.RecordBatchFileReader(PDB_DATA_PATH.joinpath(\"pdb-mmcif.arrow\"))\n",
    "\n",
    "assert len(pdb_list) == pdb_data_reader.num_record_batches"
   ]
  },
  {
   "cell_type": "code",
   "execution_count": 14,
   "metadata": {},
   "outputs": [
    {
     "data": {
      "text/plain": [
       "['100d', '101d', '101m']"
      ]
     },
     "execution_count": 14,
     "metadata": {},
     "output_type": "execute_result"
    }
   ],
   "source": [
    "pdb_list[:3]"
   ]
  },
  {
   "cell_type": "code",
   "execution_count": 15,
   "metadata": {},
   "outputs": [
    {
     "data": {
      "text/plain": [
       "(532, 86, 532, ['2nbf', '2nbg', '2nbh'])"
      ]
     },
     "execution_count": 15,
     "metadata": {},
     "output_type": "execute_result"
    }
   ],
   "source": [
    "chunk_size = int(np.ceil(len(pdb_list) / TASK_COUNT))\n",
    "task_idx = TASK_ID - 1\n",
    "pdb_chunk = pdb_list[task_idx * chunk_size : (task_idx + 1) * chunk_size]\n",
    "pdb_chunk_idxs = list(range(task_idx * chunk_size, (task_idx + 1) * chunk_size))[:len(pdb_chunk)]\n",
    "assert all(pdb_chunk[i] == pdb_list[j] for i, j in enumerate(pdb_chunk_idxs))\n",
    "\n",
    "chunk_size, task_idx, len(pdb_chunk), pdb_chunk[:3]"
   ]
  },
  {
   "cell_type": "code",
   "execution_count": 16,
   "metadata": {},
   "outputs": [],
   "source": [
    "if DEBUG:\n",
    "    pdb_chunk = pdb_chunk[:10]\n",
    "    pdb_chunk_idxs = pdb_chunk_idxs[:10]"
   ]
  },
  {
   "cell_type": "markdown",
   "metadata": {},
   "source": [
    "## Validate results"
   ]
  },
  {
   "cell_type": "code",
   "execution_count": 17,
   "metadata": {},
   "outputs": [
    {
     "name": "stdout",
     "output_type": "stream",
     "text": [
      "[PosixPath('/home/kimlab1/database_data/datapkg_output_dir/adjacency-net-v2/v0.4/pdb-cbeta-stats/pdb-cbeta-stats-87-300.torch')]\n"
     ]
    }
   ],
   "source": [
    "result_files = list(ADJACENCY_NET_DATA_PATH.joinpath(\"pdb-cbeta-stats\").glob(\"*.torch\"))\n",
    "\n",
    "print(result_files)"
   ]
  },
  {
   "cell_type": "code",
   "execution_count": 22,
   "metadata": {},
   "outputs": [
    {
     "name": "stdout",
     "output_type": "stream",
     "text": [
      "/home/kimlab1/database_data/datapkg_output_dir/adjacency-net-v2/v0.4/pdb-cbeta-stats/pdb-cbeta-stats-87-300.torch\n",
      "10\n"
     ]
    }
   ],
   "source": [
    "data = []\n",
    "for result_file in result_files:\n",
    "    print(result_file)\n",
    "    with result_file.open(\"rb\") as fin:\n",
    "        while True:\n",
    "            try:\n",
    "                row = torch.load(fin)\n",
    "            except EOFError:\n",
    "                break\n",
    "            else:\n",
    "                data.append(row)\n",
    "    print(len(data))"
   ]
  },
  {
   "cell_type": "code",
   "execution_count": 19,
   "metadata": {},
   "outputs": [],
   "source": [
    "cb_residues = np.vstack([row[2] for row in data if row[2] is not None and row[3] is not None])\n",
    "cb_vectors = np.vstack([row[3] for row in data if row[2] is not None and row[3] is not None])"
   ]
  },
  {
   "cell_type": "code",
   "execution_count": 20,
   "metadata": {},
   "outputs": [],
   "source": [
    "cb_vectors_ala = cb_vectors[cb_residues.reshape(-1) == \"ALA\", :]"
   ]
  },
  {
   "cell_type": "code",
   "execution_count": 21,
   "metadata": {},
   "outputs": [
    {
     "name": "stdout",
     "output_type": "stream",
     "text": [
      "0.93431388215536 0.01339330409167214\n",
      "-1.200662615319008 0.010846992689943035\n",
      "-0.029789939244484052 0.005660098726460094\n"
     ]
    },
    {
     "data": {
      "image/png": "[encoded data removed]",
      "text/plain": [
       "<Figure size 432x288 with 1 Axes>"
      ]
     },
     "metadata": {
      "needs_background": "light"
     },
     "output_type": "display_data"
    },
    {
     "data": {
      "image/png": "[encoded data removed]",
      "text/plain": [
       "<Figure size 432x288 with 1 Axes>"
      ]
     },
     "metadata": {
      "needs_background": "light"
     },
     "output_type": "display_data"
    },
    {
     "data": {
      "image/png": "[encoded data removed]",
      "text/plain": [
       "<Figure size 432x288 with 1 Axes>"
      ]
     },
     "metadata": {
      "needs_background": "light"
     },
     "output_type": "display_data"
    }
   ],
   "source": [
    "for i, xlim in [(0, (0.6, 1.3)), (1, (-1.5, -0.8)), (2, (-0.35, 0.45))]:\n",
    "    fg, ax = plt.subplots()\n",
    "    ax.hist(np.clip(cb_vectors[:, i], *xlim), bins=100, density=True, alpha=0.8, label=\"All\")\n",
    "    ax.hist(\n",
    "        np.clip(cb_vectors_ala[:, i], *xlim), bins=100, density=True, alpha=0.8, label=\"Alanine\"\n",
    "    )\n",
    "\n",
    "    #     median = np.percentile(cb_vectors[:, i], np.array([50])).item()\n",
    "    #     std = np.std(cb_vectors[:, i])\n",
    "    #     ax.vlines(median, *ax.get_ylim(), linestyle=\":\", label=f\"All median\")\n",
    "\n",
    "    loc, scale = stats.laplace.fit(cb_vectors_ala[:, i])\n",
    "    rv = stats.laplace(loc, scale)\n",
    "    x = np.linspace(*rv.interval(0.999), 100)\n",
    "    y = rv.pdf(x)\n",
    "    plt.plot(x, y, \"k-\", label=\"Laplace fit\")\n",
    "\n",
    "    ax.legend()\n",
    "    print(loc, scale)"
   ]
  },
  {
   "cell_type": "code",
   "execution_count": null,
   "metadata": {},
   "outputs": [],
   "source": []
  }
 ],
 "metadata": {
  "kernel_info": {
   "name": "python3"
  },
  "kernelspec": {
   "display_name": "Python 3",
   "language": "python",
   "name": "python3"
  },
  "language_info": {
   "codemirror_mode": {
    "name": "ipython",
    "version": 3
   },
   "file_extension": ".py",
   "mimetype": "text/x-python",
   "name": "python",
   "nbconvert_exporter": "python",
   "pygments_lexer": "ipython3",
   "version": "3.8.6"
  },
  "nteract": {
   "version": "0.15.0"
  },
  "toc": {
   "base_numbering": 1,
   "nav_menu": {},
   "number_sections": false,
   "sideBar": false,
   "skip_h1_title": false,
   "title_cell": "Table of Contents",
   "title_sidebar": "Contents",
   "toc_cell": false,
   "toc_position": {
    "height": "482px",
    "left": "34.9826px",
    "top": "126.979px",
    "width": "288px"
   },
   "toc_section_display": true,
   "toc_window_display": true
  }
 },
 "nbformat": 4,
 "nbformat_minor": 4
}
