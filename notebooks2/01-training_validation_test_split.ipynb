{
 "cells": [
  {
   "cell_type": "markdown",
   "metadata": {},
   "source": [
    "# Summary\n",
    "\n",
    "Generate training and validation datasets.\n",
    "\n",
    "----"
   ]
  },
  {
   "cell_type": "markdown",
   "metadata": {},
   "source": [
    "# Imports"
   ]
  },
  {
   "cell_type": "code",
   "execution_count": 1,
   "metadata": {
    "collapsed": true
   },
   "outputs": [],
   "source": [
    "import os\n",
    "import random\n",
    "import yaml\n",
    "from pathlib import Path\n",
    "\n",
    "import numpy as np\n",
    "import pandas as pd\n",
    "import pyarrow as pa\n",
    "import pyarrow.parquet as pq"
   ]
  },
  {
   "cell_type": "code",
   "execution_count": 2,
   "metadata": {
    "collapsed": true
   },
   "outputs": [],
   "source": [
    "pd.set_option(\"max_columns\", 100)"
   ]
  },
  {
   "cell_type": "markdown",
   "metadata": {},
   "source": [
    "# Parameters"
   ]
  },
  {
   "cell_type": "code",
   "execution_count": 3,
   "metadata": {},
   "outputs": [
    {
     "data": {
      "text/plain": [
       "PosixPath('training_validation_test_split')"
      ]
     },
     "execution_count": 3,
     "metadata": {},
     "output_type": "execute_result"
    }
   ],
   "source": [
    "NOTEBOOK_PATH = Path('training_validation_test_split')\n",
    "NOTEBOOK_PATH"
   ]
  },
  {
   "cell_type": "code",
   "execution_count": 4,
   "metadata": {},
   "outputs": [
    {
     "data": {
      "text/plain": [
       "PosixPath('/home/kimlab2/database_data/datapkg/adjacency-net-v2/notebooks/training_validation_test_split')"
      ]
     },
     "execution_count": 4,
     "metadata": {},
     "output_type": "execute_result"
    }
   ],
   "source": [
    "OUTPUT_PATH = Path(os.getenv('OUTPUT_DIR', NOTEBOOK_PATH.name)).resolve()\n",
    "OUTPUT_PATH.mkdir(parents=True, exist_ok=True)\n",
    "OUTPUT_PATH"
   ]
  },
  {
   "cell_type": "markdown",
   "metadata": {},
   "source": [
    "# `DATAPKG`"
   ]
  },
  {
   "cell_type": "code",
   "execution_count": 5,
   "metadata": {
    "collapsed": true
   },
   "outputs": [],
   "source": [
    "DATAPKG = {}"
   ]
  },
  {
   "cell_type": "code",
   "execution_count": 6,
   "metadata": {
    "collapsed": true
   },
   "outputs": [],
   "source": [
    "DATAPKG['uniparc-domain-wstructure'] = (\n",
    "    Path(os.environ['DATAPKG_OUTPUT_DIR'])\n",
    "    .joinpath(\"uniparc-domain-wstructure\", \"master\")\n",
    ")"
   ]
  },
  {
   "cell_type": "markdown",
   "metadata": {},
   "source": [
    "# Load data"
   ]
  },
  {
   "cell_type": "code",
   "execution_count": 7,
   "metadata": {},
   "outputs": [
    {
     "data": {
      "text/plain": [
       "PosixPath('/home/kimlab1/database_data/datapkg_output_dir/uniparc-domain-wstructure/master/remove_duplicate_matches/adjacency_matrix.parquet')"
      ]
     },
     "execution_count": 7,
     "metadata": {},
     "output_type": "execute_result"
    }
   ],
   "source": [
    "adjacency_matrix_path = (\n",
    "    DATAPKG['uniparc-domain-wstructure']\n",
    "    .joinpath(\"remove_duplicate_matches\", \"adjacency_matrix.parquet\")\n",
    ")\n",
    "adjacency_matrix_path"
   ]
  },
  {
   "cell_type": "markdown",
   "metadata": {},
   "source": [
    "# Construct training / validation / test datasets"
   ]
  },
  {
   "cell_type": "markdown",
   "metadata": {},
   "source": [
    "## All Gene3D domains"
   ]
  },
  {
   "cell_type": "code",
   "execution_count": 8,
   "metadata": {},
   "outputs": [
    {
     "data": {
      "text/plain": [
       "['database_id=G3DSA%3A2.40.128.20',\n",
       " 'database_id=G3DSA%3A3.50.40.10',\n",
       " 'database_id=G3DSA%3A2.60.40.830']"
      ]
     },
     "execution_count": 8,
     "metadata": {},
     "output_type": "execute_result"
    }
   ],
   "source": [
    "GENE3D_DOMAINS = sorted(p.name for p in adjacency_matrix_path.glob(\"database_id=*\"))\n",
    "\n",
    "random.seed(42)\n",
    "random.shuffle(GENE3D_DOMAINS)\n",
    "GENE3D_DOMAINS[:3]"
   ]
  },
  {
   "cell_type": "code",
   "execution_count": 9,
   "metadata": {},
   "outputs": [],
   "source": [
    "with NOTEBOOK_PATH.joinpath(\"all_gene3d_domains.yaml\").open(\"wt\") as fout:\n",
    "    yaml.dump(GENE3D_DOMAINS, fout, default_flow_style=False)"
   ]
  },
  {
   "cell_type": "markdown",
   "metadata": {},
   "source": [
    "## Split into training / validation / test"
   ]
  },
  {
   "cell_type": "code",
   "execution_count": 10,
   "metadata": {},
   "outputs": [
    {
     "name": "stdout",
     "output_type": "stream",
     "text": [
      "1029\n",
      "1201\n",
      "----\n",
      "1373\n",
      "1029\n",
      "172\n",
      "172\n"
     ]
    }
   ],
   "source": [
    "breakpoint1 = len(GENE3D_DOMAINS) * 3 // 4\n",
    "print(breakpoint1)\n",
    "breakpoint2 = len(GENE3D_DOMAINS) * 7 // 8\n",
    "print(breakpoint2)\n",
    "\n",
    "TRAINING_DOMAINS = GENE3D_DOMAINS[:breakpoint1]\n",
    "VALIDATION_DOMAINS = GENE3D_DOMAINS[breakpoint1:breakpoint2]\n",
    "TEST_DOMAINS = GENE3D_DOMAINS[breakpoint2:]\n",
    "\n",
    "print('----')\n",
    "print(len(GENE3D_DOMAINS))\n",
    "print(len(TRAINING_DOMAINS))\n",
    "print(len(VALIDATION_DOMAINS))\n",
    "print(len(TEST_DOMAINS))"
   ]
  },
  {
   "cell_type": "code",
   "execution_count": 11,
   "metadata": {
    "collapsed": true
   },
   "outputs": [],
   "source": [
    "assert (len(TRAINING_DOMAINS) + len(VALIDATION_DOMAINS) + len(TEST_DOMAINS)) == len(GENE3D_DOMAINS)"
   ]
  },
  {
   "cell_type": "code",
   "execution_count": 12,
   "metadata": {
    "collapsed": true
   },
   "outputs": [],
   "source": [
    "with NOTEBOOK_PATH.joinpath(\"training_domains.yaml\").open(\"wt\") as fout:\n",
    "    yaml.dump(TRAINING_DOMAINS, fout, default_flow_style=False)\n",
    "    \n",
    "with NOTEBOOK_PATH.joinpath(\"validation_domains.yaml\").open(\"wt\") as fout:\n",
    "    yaml.dump(VALIDATION_DOMAINS, fout, default_flow_style=False)\n",
    "    \n",
    "with NOTEBOOK_PATH.joinpath(\"test_domains.yaml\").open(\"wt\") as fout:\n",
    "    yaml.dump(TEST_DOMAINS, fout, default_flow_style=False)"
   ]
  }
 ],
 "metadata": {
  "kernelspec": {
   "display_name": "Python [default]",
   "language": "python",
   "name": "python3"
  },
  "language_info": {
   "codemirror_mode": {
    "name": "ipython",
    "version": 3
   },
   "file_extension": ".py",
   "mimetype": "text/x-python",
   "name": "python",
   "nbconvert_exporter": "python",
   "pygments_lexer": "ipython3",
   "version": "3.6.4"
  },
  "toc": {
   "base_numbering": 1,
   "nav_menu": {},
   "number_sections": false,
   "sideBar": false,
   "skip_h1_title": false,
   "title_cell": "Table of Contents",
   "title_sidebar": "Contents",
   "toc_cell": false,
   "toc_position": {
    "height": "602px",
    "left": "1641.3px",
    "right": "20px",
    "top": "106.354px",
    "width": "329px"
   },
   "toc_section_display": "block",
   "toc_window_display": true
  }
 },
 "nbformat": 4,
 "nbformat_minor": 2
}
