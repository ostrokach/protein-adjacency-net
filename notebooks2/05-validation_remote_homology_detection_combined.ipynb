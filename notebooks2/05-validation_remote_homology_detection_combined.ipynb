{
 "cells": [
  {
   "cell_type": "markdown",
   "metadata": {},
   "source": [
    "# Summary"
   ]
  },
  {
   "cell_type": "markdown",
   "metadata": {},
   "source": [
    "# Imports"
   ]
  },
  {
   "cell_type": "code",
   "execution_count": null,
   "metadata": {},
   "outputs": [],
   "source": [
    "import importlib\n",
    "import os\n",
    "import sys\n",
    "from pathlib import Path\n",
    "\n",
    "import numpy as np\n",
    "import matplotlib.pyplot as plt\n",
    "import pandas as pd\n",
    "import pyarrow as pa\n",
    "import pyarrow.parquet as pq\n",
    "import seaborn as sns\n",
    "from scipy import stats\n",
    "from sklearn import metrics"
   ]
  },
  {
   "cell_type": "code",
   "execution_count": null,
   "metadata": {},
   "outputs": [],
   "source": [
    "%matplotlib inline"
   ]
  },
  {
   "cell_type": "code",
   "execution_count": null,
   "metadata": {},
   "outputs": [],
   "source": [
    "pd.set_option(\"max_columns\", 100)"
   ]
  },
  {
   "cell_type": "code",
   "execution_count": null,
   "metadata": {},
   "outputs": [],
   "source": [
    "SRC_PATH = Path.cwd().joinpath('..', 'src').resolve(strict=True)\n",
    "\n",
    "if SRC_PATH.as_posix() not in sys.path:\n",
    "    sys.path.insert(0, SRC_PATH.as_posix())\n",
    "\n",
    "import helper\n",
    "importlib.reload(helper)"
   ]
  },
  {
   "cell_type": "markdown",
   "metadata": {},
   "source": [
    "# Parameters"
   ]
  },
  {
   "cell_type": "code",
   "execution_count": null,
   "metadata": {},
   "outputs": [],
   "source": [
    "NOTEBOOK_PATH = Path('validation_remote_homology_detection_combined')\n",
    "NOTEBOOK_PATH"
   ]
  },
  {
   "cell_type": "code",
   "execution_count": null,
   "metadata": {},
   "outputs": [],
   "source": [
    "OUTPUT_PATH = Path(os.getenv('OUTPUT_DIR', NOTEBOOK_PATH.name)).resolve()\n",
    "OUTPUT_PATH.mkdir(parents=True, exist_ok=True)\n",
    "OUTPUT_PATH"
   ]
  },
  {
   "cell_type": "code",
   "execution_count": null,
   "metadata": {},
   "outputs": [],
   "source": [
    "PROJECT_VERSION = os.getenv(\"PROJECT_VERSION\")"
   ]
  },
  {
   "cell_type": "code",
   "execution_count": null,
   "metadata": {},
   "outputs": [],
   "source": [
    "DEBUG = \"CI\" not in os.environ    \n",
    "DEBUG"
   ]
  },
  {
   "cell_type": "code",
   "execution_count": null,
   "metadata": {},
   "outputs": [],
   "source": [
    "if DEBUG:\n",
    "    PROJECT_VERSION = \"0.1\"\n",
    "else:\n",
    "    assert PROJECT_VERSION is not None\n",
    "    \n",
    "PROJECT_VERSION"
   ]
  },
  {
   "cell_type": "code",
   "execution_count": null,
   "metadata": {},
   "outputs": [],
   "source": [
    "# if DEBUG:\n",
    "#     %load_ext autoreload\n",
    "#     %autoreload 2"
   ]
  },
  {
   "cell_type": "markdown",
   "metadata": {},
   "source": [
    "# `DATAPKG`"
   ]
  },
  {
   "cell_type": "code",
   "execution_count": null,
   "metadata": {},
   "outputs": [],
   "source": [
    "DATAPKG = {}"
   ]
  },
  {
   "cell_type": "code",
   "execution_count": null,
   "metadata": {},
   "outputs": [],
   "source": [
    "DATAPKG['validation_remote_homology_detection'] = sorted(\n",
    "    Path(os.environ['DATAPKG_OUTPUT_DIR'])\n",
    "    .joinpath(\"adjacency-net-v2\", f\"v{PROJECT_VERSION}\", \"validation_remote_homology_detection\")\n",
    "    .glob(\"*/*_dataset.parquet\")\n",
    ")"
   ]
  },
  {
   "cell_type": "code",
   "execution_count": null,
   "metadata": {},
   "outputs": [],
   "source": [
    "DATAPKG['validation_remote_homology_detection']"
   ]
  },
  {
   "cell_type": "markdown",
   "metadata": {},
   "source": [
    "# Dataset"
   ]
  },
  {
   "cell_type": "markdown",
   "metadata": {},
   "source": [
    "## Construct datasets"
   ]
  },
  {
   "cell_type": "markdown",
   "metadata": {},
   "source": [
    "### `remote_homology_dataset`"
   ]
  },
  {
   "cell_type": "code",
   "execution_count": null,
   "metadata": {},
   "outputs": [],
   "source": [
    "validation_df = None\n",
    "\n",
    "\n",
    "def assert_eq(a1, a2):\n",
    "    if isinstance(a1[0], np.ndarray):\n",
    "        for b1, b2 in zip(a1, a2):\n",
    "            b1 = b1[~np.isnan(b1)]\n",
    "            b2 = b2[~np.isnan(b2)]\n",
    "            assert len(b1) == len(b2)\n",
    "            assert (b1 == b2).all()\n",
    "    else:\n",
    "        assert (a1 == a2).all()\n",
    "            \n",
    "\n",
    "for file in DATAPKG['validation_remote_homology_detection']:\n",
    "    df = pq.read_table(file, use_pandas_metadata=True).to_pandas(integer_object_nulls=True)\n",
    "    if validation_df is None:\n",
    "        validation_df = df\n",
    "    else:\n",
    "        validation_df = (\n",
    "            validation_df\n",
    "            .merge(df, how=\"outer\", left_index=True, right_index=True, validate=\"1:1\", suffixes=(\"\", \"_dup\"))\n",
    "        )\n",
    "        for col in validation_df.columns:\n",
    "            if col.endswith(f\"_dup\"):\n",
    "                col_ref = col[:-4]\n",
    "                assert_eq(validation_df[col], validation_df[col_ref])\n",
    "                del validation_df[col]"
   ]
  },
  {
   "cell_type": "code",
   "execution_count": null,
   "metadata": {
    "scrolled": false
   },
   "outputs": [],
   "source": [
    "remote_homology_dataset = validation_df.copy()"
   ]
  },
  {
   "cell_type": "code",
   "execution_count": null,
   "metadata": {},
   "outputs": [],
   "source": [
    "remote_homology_dataset.head(2)"
   ]
  },
  {
   "cell_type": "markdown",
   "metadata": {},
   "source": [
    "### `remote_homology_dataset_filtered`"
   ]
  },
  {
   "cell_type": "code",
   "execution_count": null,
   "metadata": {},
   "outputs": [],
   "source": [
    "remote_homology_dataset['adjacency_coverage_1'].hist()"
   ]
  },
  {
   "cell_type": "code",
   "execution_count": null,
   "metadata": {},
   "outputs": [],
   "source": [
    "remote_homology_dataset['adjacency_coverage_2'].hist()"
   ]
  },
  {
   "cell_type": "code",
   "execution_count": null,
   "metadata": {},
   "outputs": [],
   "source": [
    "query_ids_w3plus = {\n",
    "    query_id\n",
    "    for query_id, group in \n",
    "        remote_homology_dataset\n",
    "        .groupby('query_id')\n",
    "    if len(group) >= 3\n",
    "}\n",
    "\n",
    "remote_homology_dataset_filtered = (\n",
    "    remote_homology_dataset[\n",
    "        remote_homology_dataset['query_id'].isin(query_ids_w3plus)\n",
    "    ]\n",
    "    .copy()\n",
    ")\n",
    "\n",
    "print(len(remote_homology_dataset))\n",
    "print(len(remote_homology_dataset_filtered))"
   ]
  },
  {
   "cell_type": "markdown",
   "metadata": {},
   "source": [
    "# Plotting"
   ]
  },
  {
   "cell_type": "markdown",
   "metadata": {},
   "source": [
    "## Prepare data for plots"
   ]
  },
  {
   "cell_type": "code",
   "execution_count": null,
   "metadata": {},
   "outputs": [],
   "source": [
    "features_ref = [\n",
    "    \"identity_calc\",\n",
    "    \"coverage_calc\", \n",
    "    \"identity\", \"similarity\",\n",
    "    \"score\",  \"probability\", # \"evalue\",\n",
    "    \"sum_probs\",\n",
    "]\n",
    "\n",
    "features_network = [c for c in remote_homology_dataset.columns if len(c) == 40]"
   ]
  },
  {
   "cell_type": "code",
   "execution_count": null,
   "metadata": {},
   "outputs": [],
   "source": [
    "for scop_level in [1, 2, 3, 4]:\n",
    "    remote_homology_dataset_filtered[f'scop_domain_matches_l{scop_level}'] = (\n",
    "        remote_homology_dataset_filtered.apply(\n",
    "            lambda row: \n",
    "                '.'.join(row['scop_domain'].split('.')[:scop_level]) == \n",
    "                '.'.join(row['scop_domain_canonical'].split('.')[:scop_level]),\n",
    "            axis=1,\n",
    "        )\n",
    "    )"
   ]
  },
  {
   "cell_type": "markdown",
   "metadata": {},
   "source": [
    "### `DATA_ALL`"
   ]
  },
  {
   "cell_type": "code",
   "execution_count": null,
   "metadata": {},
   "outputs": [],
   "source": [
    "DATA_ALL = {}\n",
    "for scop_level in [1, 2, 3, 4]:\n",
    "    df = remote_homology_dataset_filtered.copy()\n",
    "    data = []\n",
    "    for feature in features_ref + features_network:\n",
    "        corr, pvalue = stats.spearmanr(df[feature], df[f'scop_domain_matches_l{scop_level}'])\n",
    "        auc = metrics.roc_auc_score(df[f'scop_domain_matches_l{scop_level}'], df[feature])\n",
    "        data.append((feature, corr, pvalue, auc))\n",
    "    out_df = pd.DataFrame(data, columns=['feature', 'correlation', 'pvalue', 'auc'])\n",
    "    out_df[out_df['feature'].isin(features_network)] = \\\n",
    "        out_df[out_df['feature'].isin(features_network)].sort_values(\"auc\", ascending=False).values\n",
    "    DATA_ALL[scop_level] = len(df['query_id'].drop_duplicates()), len(df), out_df"
   ]
  },
  {
   "cell_type": "markdown",
   "metadata": {},
   "source": [
    "### `DATA_GBQ`"
   ]
  },
  {
   "cell_type": "code",
   "execution_count": null,
   "metadata": {
    "scrolled": false
   },
   "outputs": [],
   "source": [
    "DATA_GBQ = {}\n",
    "\n",
    "num_skips_small = {1: 0, 2: 0, 3: 0, 4: 0}\n",
    "num_skips_eq = {1: 0, 2: 0, 3: 0, 4: 0}\n",
    "num_skips_neq = {1: 0, 2: 0, 3: 0, 4: 0}\n",
    "\n",
    "for scop_level in [1, 2, 3, 4]:\n",
    "    df = remote_homology_dataset_filtered.copy()\n",
    "    data = {f: {'corrs': [], 'pvalues': [], 'aucs': []} for f in features_ref + features_network}\n",
    "    count_groups = 0\n",
    "    count_rows = 0\n",
    "    for query_id, group in df.groupby('query_id'):\n",
    "        if len(group) < 3:\n",
    "            num_skips_small[scop_level] += 1\n",
    "            continue\n",
    "        elif (group[f'scop_domain_matches_l{scop_level}'] == True).all():\n",
    "            num_skips_eq[scop_level] += 1\n",
    "            continue\n",
    "        elif (group[f'scop_domain_matches_l{scop_level}'] == False).all():\n",
    "            num_skips_neq[scop_level] += 1\n",
    "            continue\n",
    "        for feature in features_ref + features_network:\n",
    "            if len(group[feature].drop_duplicates()) == 1:\n",
    "                print(f\"Skipping '{feature}'\")\n",
    "                continue\n",
    "            corr, pvalue = stats.spearmanr(group[feature], group[f'scop_domain_matches_l{scop_level}'])\n",
    "            auc = metrics.roc_auc_score(group[f'scop_domain_matches_l{scop_level}'], group[feature])\n",
    "            data[feature]['corrs'].append(corr)\n",
    "            data[feature]['pvalues'].append(pvalue)\n",
    "            data[feature]['aucs'].append(auc)\n",
    "        count_groups += 1\n",
    "        count_rows += len(group)\n",
    "    data_list = [\n",
    "        (k, np.mean(v['corrs']), np.mean(v['pvalues']), np.mean(v['aucs']))\n",
    "        for k, v in data.items()\n",
    "    ]\n",
    "    out_df = pd.DataFrame(data_list, columns=['feature', 'correlation', 'pvalue', 'auc'])\n",
    "    out_df[out_df['feature'].isin(features_network)] = \\\n",
    "        out_df[out_df['feature'].isin(features_network)].sort_values(\"auc\", ascending=False).values\n",
    "    DATA_GBQ[scop_level] = count_groups, count_rows, out_df\n",
    "    \n",
    "print(num_skips_small)\n",
    "print(num_skips_eq)\n",
    "print(num_skips_neq)"
   ]
  },
  {
   "cell_type": "markdown",
   "metadata": {},
   "source": [
    "## Make plots"
   ]
  },
  {
   "cell_type": "code",
   "execution_count": null,
   "metadata": {},
   "outputs": [],
   "source": [
    "cmap = plt.cm.get_cmap('Set1', 10)"
   ]
  },
  {
   "cell_type": "code",
   "execution_count": null,
   "metadata": {},
   "outputs": [],
   "source": [
    "scop_levels = {\n",
    "    1: \"class\",\n",
    "    2: \"fold\",\n",
    "    3: \"superfamily\",\n",
    "    4: \"family\",\n",
    "}"
   ]
  },
  {
   "cell_type": "code",
   "execution_count": null,
   "metadata": {},
   "outputs": [],
   "source": [
    "feature_names = {}"
   ]
  },
  {
   "cell_type": "code",
   "execution_count": null,
   "metadata": {
    "scrolled": false
   },
   "outputs": [],
   "source": [
    "for scop_level in DATA_ALL:\n",
    "    fg, axs = plt.subplots(1, 2, figsize=(2 + 0.7 * len(features_ref + features_network), 4))\n",
    "\n",
    "    plt.sca(axs[0])\n",
    "    num1, num2, df = DATA_ALL[scop_level]\n",
    "    x = np.arange(len(df))\n",
    "    c = [cmap(2) if f in features_network else cmap(1) for f in df['feature']]\n",
    "#     c = cmap(1)\n",
    "    plt.bar(x, df['auc'].abs(), color=c)\n",
    "    plt.xticks(x, [feature_names.get(f, f[:7] if len(f) == 40 else f) for f in df['feature'].values], rotation=45)\n",
    "    plt.ylim(0.4, 1)\n",
    "    plt.ylabel(\"AUC\")\n",
    "    plt.title(\n",
    "        f\"Predicting SCOP {scop_levels[scop_level]} - combined\\n\"\n",
    "        f\"(N = {num2}, M = {num1})\")\n",
    "    plt.hlines(0.5, -0.75, len(df) - 0.25, linestyle='--')\n",
    "    plt.ylim(0.4, 1)\n",
    "    plt.xlim(-0.75, len(df) - 0.25)\n",
    "\n",
    "    plt.sca(axs[1])\n",
    "    num1, num2, df = DATA_GBQ[scop_level]\n",
    "    x = np.arange(len(df))\n",
    "    c = [cmap(2) if f in features_network else cmap(1) for f in df['feature']]\n",
    "#     c = cmap(1)\n",
    "    plt.bar(x, df['auc'].abs(), color=c)\n",
    "    plt.xticks(x, [feature_names.get(f, f[:7] if len(f) == 40 else f) for f in df['feature'].values], rotation=45)\n",
    "    plt.ylabel(\"AUC\")\n",
    "    plt.title(\n",
    "        f\"Predicting SCOP {scop_levels[scop_level]} - per protein\\n\"\n",
    "        f\"(N = {num2}, M = {num1})\")\n",
    "    plt.hlines(0.5, -0.75, len(df) - 0.25, linestyle='--')\n",
    "    plt.ylim(0.4, 1)\n",
    "    plt.xlim(-0.75, len(df) - 0.25)\n",
    "    \n",
    "    plt.tight_layout()\n",
    "    plt.savefig(OUTPUT_PATH.joinpath(f\"remote_homology_detection_sl{scop_level}.png\"), dpi=300, bbox_inches=\"tight\")\n",
    "    plt.savefig(OUTPUT_PATH.joinpath(f\"remote_homology_detection_sl{scop_level}.pdf\"), bbox_inches=\"tight\")"
   ]
  },
  {
   "cell_type": "code",
   "execution_count": null,
   "metadata": {},
   "outputs": [],
   "source": []
  }
 ],
 "metadata": {
  "kernelspec": {
   "display_name": "Python 3",
   "language": "python",
   "name": "python3"
  },
  "language_info": {
   "codemirror_mode": {
    "name": "ipython",
    "version": 3
   },
   "file_extension": ".py",
   "mimetype": "text/x-python",
   "name": "python",
   "nbconvert_exporter": "python",
   "pygments_lexer": "ipython3",
   "version": "3.6.6"
  },
  "toc": {
   "base_numbering": 1,
   "nav_menu": {},
   "number_sections": false,
   "sideBar": true,
   "skip_h1_title": false,
   "title_cell": "Table of Contents",
   "title_sidebar": "Contents",
   "toc_cell": false,
   "toc_position": {
    "height": "424px",
    "left": "26px",
    "top": "141px",
    "width": "227px"
   },
   "toc_section_display": true,
   "toc_window_display": true
  }
 },
 "nbformat": 4,
 "nbformat_minor": 2
}
